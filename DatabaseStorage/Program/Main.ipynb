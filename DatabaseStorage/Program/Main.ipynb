{
 "cells": [
  {
   "cell_type": "code",
   "execution_count": null,
   "metadata": {},
   "outputs": [],
   "source": [
    "import sys\n",
    "import matplotlib.pyplot as plt\n",
    "import matplotlib.pylab as pylab\n",
    "import seaborn as sns\n",
    "import os\n",
    "import inspect\n",
    "import pandas as pd\n",
    "\n",
    "project_path = os.path.abspath( os.path.dirname(os.path.abspath(inspect.getfile(inspect.currentframe()))) + \"/../\" + \"/../\")\n",
    "sys.path.insert(0, project_path)\n",
    "print(project_path)\n",
    "\n",
    "from DatabaseStorage.Program.Objects.Human import *\n",
    "from DatabaseStorage.Program.Objects.Issue import *\n",
    "from DatabaseStorage.Program.Objects.Machine import *\n",
    "from DatabaseStorage.Program.Objects.MaintenanceWorkOrder import *\n",
    "from DatabaseStorage.Program.Objects.Tag import *\n",
    "\n",
    "from DatabaseStorage.Program.Database.Database_Properties import *\n",
    "from DatabaseStorage.Program.Database.Database import *\n",
    "from DatabaseStorage.Program.Database.Main import *\n",
    "\n",
    "from DatabaseStorage.Program.KPI.KPI import *\n",
    "\n",
    "\n",
    "from DatabaseStorage.Program.Others.MyDate import *"
   ]
  },
  {
   "cell_type": "markdown",
   "metadata": {},
   "source": [
    "# DATABASE"
   ]
  },
  {
   "cell_type": "markdown",
   "metadata": {},
   "source": [
    "## FILES"
   ]
  },
  {
   "cell_type": "markdown",
   "metadata": {},
   "source": [
    "### NIST server"
   ]
  },
  {
   "cell_type": "markdown",
   "metadata": {},
   "source": [
    "### Greystone"
   ]
  },
  {
   "cell_type": "code",
   "execution_count": null,
   "metadata": {},
   "outputs": [],
   "source": [
    "PassWord = 'GREYSTONE!!'\n",
    "#file = os.path.join(project_path, 'DatabaseStorage', 'Data_CSV', 'GreyStone_Data.csv')\n",
    "file = os.path.join(project_path ,'DatabaseStorage', 'Data_CSV', 'GS_tokenized.csv')\n",
    "localization = {NodeHuman.VALUE_TECHNICIAN.value: 15,\n",
    "                NodeHuman.VALUE_OPERATOR.value: 13,\n",
    "\n",
    "                NodeTag.VALUE_ITEM.value: 17,\n",
    "                NodeTag.VALUE_PROBLEM.value: 19,\n",
    "                NodeTag.VALUE_SOLUTION.value: 20,\n",
    "                NodeTag.VALUE_NA.value: 18,\n",
    "                NodeTag.VALUE_UNKNOWN.value: 21,\n",
    "                NodeTag.VALUE_STOP_WORDS.value: 22,\n",
    "\n",
    "                NodeMachine.VALUE_MACHINE.value: 7,\n",
    "                NodeIssue.VALUE_MACHINE_DOWN.value: 8,\n",
    "\n",
    "                NodeIssue.VALUE_DESCRIPTION_PROBLEM.value: 0,\n",
    "                NodeIssue.VALUE_DESCRIPTION_SOLUTION.value: 1,\n",
    "                NodeIssue.VALUE_PART_PROCESS.value: 16,\n",
    "                \n",
    "                NodeIssue.VALUE_DATE_MAINTENANCE_WORK_ORDER_ISSUE.value: 9,\n",
    "                NodeIssue.VALUE_DATE_MAINTENANCE_WORK_ORDER_ISSUE.value + \"2\": 10,\n",
    "                NodeIssue.VALUE_DATE_MAINTENANCE_WORK_ORDER_CLOSE.value: 11,\n",
    "                NodeIssue.VALUE_DATE_MAINTENANCE_WORK_ORDER_CLOSE.value + \"2\": 12\n",
    "                }\n",
    "\n",
    "def date_cleanizer(date, time=\"0000\"):\n",
    "    \"\"\"\n",
    "    clean the date from GS data\n",
    "\n",
    "    :param date: the date\n",
    "    :param time: the time\n",
    "    :return: a DateTime\n",
    "    \"\"\"\n",
    "\n",
    "####    DATE ####\n",
    "    if date is \"\":\n",
    "        return None\n",
    "\n",
    "    date = date.replace(\" \",\"\").split(\"/\")\n",
    "\n",
    "    date[2] = \"20\" + date[2]\n",
    "\n",
    "    if len(date[0]) is 1:\n",
    "        date[0] = \"0\" + date[0]\n",
    "    else:\n",
    "        date[0] = date[0]\n",
    "\n",
    "    if len(date[1]) is 1:\n",
    "        date[1] = \"0\" + date[1]\n",
    "    else:\n",
    "        date[1] = date[1]\n",
    "\n",
    "#### TIME ####\n",
    "    while len(time) < 4:\n",
    "        time = \"0\" + time.replace(\" \", \"\")\n",
    "\n",
    "    return datetime(year=int(date[2]), month=int(date[0]), day=int(date[1]), hour=int(time[:2]), minute=int(time[2:]))"
   ]
  },
  {
   "cell_type": "markdown",
   "metadata": {},
   "source": [
    "### Psu"
   ]
  },
  {
   "cell_type": "code",
   "execution_count": null,
   "metadata": {},
   "outputs": [],
   "source": [
    "PassWord = 'PSU!!'\n",
    "file = os.path.join(project_path, 'DatabaseStorage', 'Data_CSV', 'Psu_Data.csv')\n",
    "localization = {NodeHuman.VALUE_TECHNICIAN.value: 18,\n",
    "\n",
    "                NodeMachine.VALUE_MACHINE.value: 3,\n",
    "                NodeMachine.VALUE_TYPE.value:6,\n",
    "                NodeMachine.VALUE_MANUFACTURER.value:5,\n",
    "                NodeMachine.VALUE_LOCASION.value:4,\n",
    "\n",
    "\n",
    "                NodeIssue.VALUE_DESCRIPTION_PROBLEM.value: 11,\n",
    "                NodeIssue.VALUE_DESCRIPTION_SOLUTION.value: 19,\n",
    "                NodeIssue.VALUE_DESCRIPTION_CAUSE.value:12,\n",
    "                NodeIssue.VALUE_MACHINE_DOWN.value: 13,\n",
    "                }"
   ]
  },
  {
   "cell_type": "markdown",
   "metadata": {},
   "source": [
    "### Hvac"
   ]
  },
  {
   "cell_type": "code",
   "execution_count": null,
   "metadata": {},
   "outputs": [],
   "source": [
    "PassWord = 'HVAC!!'\n",
    "file = os.path.join(project_path, 'DatabaseStorage' , 'Data_CSV', 'Hvac_Data.csv')\n",
    "localization = {NodeHuman.VALUE_TECHNICIAN.value: 10,\n",
    "                NodeHuman.VALUE_OPERATOR.value: 43,\n",
    "\n",
    "                NodeMachine.VALUE_MACHINE.value: 7,\n",
    "\n",
    "                NodeIssue.VALUE_DESCRIPTION_PROBLEM.value: 5,\n",
    "                NodeIssue.VALUE_DESCRIPTION_SOLUTION.value: 247,\n",
    "                }\n",
    "date_cleanizer = None"
   ]
  },
  {
   "cell_type": "markdown",
   "metadata": {},
   "source": [
    "### Auto"
   ]
  },
  {
   "cell_type": "code",
   "execution_count": null,
   "metadata": {},
   "outputs": [],
   "source": [
    "PassWord = 'AUTO!!'\n",
    "file = os.path.join(project_path, 'DatabaseStorage', 'Data_CSV', 'Auto_Data.csv')\n",
    "localization = {NodeHuman.VALUE_TECHNICIAN.value: 4,\n",
    "                NodeHuman.VALUE_OPERATOR.value: 11,\n",
    "                NodeHuman.VALUE_CRAFTS.value: 16,\n",
    "                NodeHuman.VALUE_SKILLS.value: 17,\n",
    "\n",
    "                NodeMachine.VALUE_MACHINE.value: 8,\n",
    "\n",
    "                NodeIssue.VALUE_DESCRIPTION_PROBLEM.value: 5,\n",
    "                NodeIssue.VALUE_DESCRIPTION_SOLUTION.value: 7,\n",
    "                }"
   ]
  },
  {
   "cell_type": "markdown",
   "metadata": {},
   "source": [
    "### Mine"
   ]
  },
  {
   "cell_type": "code",
   "execution_count": null,
   "metadata": {},
   "outputs": [],
   "source": [
    "PassWord = 'MINE!!'\n",
    "file = os.path.join(project_path, 'DatabaseStorage', 'Data_CSV', 'Mine_Data.csv')\n",
    "\n",
    "localization = {}"
   ]
  },
  {
   "cell_type": "markdown",
   "metadata": {},
   "source": [
    "## ACTION"
   ]
  },
  {
   "cell_type": "markdown",
   "metadata": {},
   "source": [
    "### Connect"
   ]
  },
  {
   "cell_type": "code",
   "execution_count": null,
   "metadata": {},
   "outputs": [],
   "source": [
    "database = DatabaseNeo4J(\"bolt://127.0.0.1:7687\", \"neo4j\", PassWord)"
   ]
  },
  {
   "cell_type": "code",
   "execution_count": null,
   "metadata": {},
   "outputs": [],
   "source": [
    "database = DatabaseNeo4J(\"bolt://127.0.0.1:7687\", \"neo4j\", \"11/Jul/2017!\")"
   ]
  },
  {
   "cell_type": "markdown",
   "metadata": {},
   "source": [
    "## Indexs"
   ]
  },
  {
   "cell_type": "code",
   "execution_count": null,
   "metadata": {},
   "outputs": [],
   "source": [
    "database.createIndexes()"
   ]
  },
  {
   "cell_type": "code",
   "execution_count": null,
   "metadata": {},
   "outputs": [],
   "source": [
    "database.dropIndexes()"
   ]
  },
  {
   "cell_type": "markdown",
   "metadata": {},
   "source": [
    "## Data"
   ]
  },
  {
   "cell_type": "code",
   "execution_count": null,
   "metadata": {},
   "outputs": [],
   "source": [
    "graph_database_from_csv(database, file, localization, date_cleanizer)"
   ]
  },
  {
   "cell_type": "code",
   "execution_count": null,
   "metadata": {},
   "outputs": [],
   "source": [
    "# token_dataframe = pd.DataFrame.from_csv(\"GS_tokenized_forSascha.csv\", index_col =None)\n",
    "# graph_database_from_tag_extractor(database = database, token_dataframe = token_dataframe)"
   ]
  },
  {
   "cell_type": "code",
   "execution_count": null,
   "metadata": {},
   "outputs": [],
   "source": [
    "database.deleteData()"
   ]
  },
  {
   "cell_type": "markdown",
   "metadata": {},
   "source": [
    "## NEW"
   ]
  },
  {
   "cell_type": "code",
   "execution_count": null,
   "metadata": {},
   "outputs": [],
   "source": []
  },
  {
   "cell_type": "markdown",
   "metadata": {},
   "source": [
    "# KPI"
   ]
  },
  {
   "cell_type": "markdown",
   "metadata": {},
   "source": [
    "# KPI using Object"
   ]
  },
  {
   "cell_type": "code",
   "execution_count": null,
   "metadata": {},
   "outputs": [],
   "source": [
    "tec = Technician(name=[\"h1\",\"h2\"])\n",
    "ope = Operator(name=[\"_\"])\n",
    "\n",
    "i3=Issue(problem=[\"_\"], solution=[\"_\"], machine_down=\"_\",date_maintenance_work_order_issue=[\"_\"], date_maintenance_work_order_close=[\"_\"],part_in_process=[\"_\"] )\n",
    "i=Issue(date_maintenance_work_order_issue=[\"_\"])\n",
    "mac = Machine(name=[\"_\",\"h2\", \"h1\"])\n",
    "\n",
    "tagI = TagItem(keyword = [\"_\"])\n",
    "tagS = TagAction(keyword = [\"_\"] , it_is=\"s\")\n",
    "tagP = TagAction(keyword = [\"_\"] , it_is=\"p\")\n",
    "\n"
   ]
  },
  {
   "cell_type": "code",
   "execution_count": null,
   "metadata": {},
   "outputs": [],
   "source": [
    "objects = [i,mac]\n",
    "query, results = cypher_from_kpi(objects)"
   ]
  },
  {
   "cell_type": "code",
   "execution_count": null,
   "metadata": {},
   "outputs": [],
   "source": [
    "dataframe, results = pandas_from_cypher_kpi(database, query, results)"
   ]
  },
  {
   "cell_type": "code",
   "execution_count": null,
   "metadata": {},
   "outputs": [],
   "source": [
    "print(results)"
   ]
  },
  {
   "cell_type": "code",
   "execution_count": null,
   "metadata": {},
   "outputs": [],
   "source": [
    "dataframe.head()"
   ]
  },
  {
   "cell_type": "code",
   "execution_count": null,
   "metadata": {},
   "outputs": [],
   "source": [
    "df = dataframe\n",
    "df[\"issue.date_maintenance_work_order_issue\"] = pd.DatetimeIndex(df[\"issue.date_maintenance_work_order_issue\"])\n",
    "print(type(df[\"issue.date_maintenance_work_order_issue\"][0]))"
   ]
  },
  {
   "cell_type": "code",
   "execution_count": null,
   "metadata": {},
   "outputs": [],
   "source": [
    "g=df.groupby(by=['machine.name',pd.Grouper(key='issue.date_maintenance_work_order_issue', freq=\"M\")]).sum()\n",
    "g=g.reset_index()\n",
    "g.head()"
   ]
  },
  {
   "cell_type": "code",
   "execution_count": null,
   "metadata": {},
   "outputs": [],
   "source": [
    "import seaborn as sns\n",
    "import matplotlib.pyplot as plt\n",
    "import matplotlib.dates as mdates\n",
    "import matplotlib as mpl\n",
    "\n",
    "\n",
    "sns.set(style=\"darkgrid\")\n",
    "fig =plt.figure(figsize=(12,8))\n",
    "\n",
    "df=g.reset_index()\n",
    "\n",
    "ax = sns.tsplot(data=df,\n",
    "          time=\"issue.date_maintenance_work_order_issue\",\n",
    "          unit=\"machine.name\",\n",
    "          condition=\"machine.name\",\n",
    "          value=\"issue_count\"\n",
    "         )\n",
    "\n",
    "def myFormatter(x, pos):\n",
    "    return pd.to_datetime(x).strftime('%b-%Y')\n",
    "\n",
    "# assign locator and formatter for the xaxis ticks.\n",
    "ax.xaxis.set_major_formatter(mpl.ticker.FuncFormatter(myFormatter))\n",
    "\n",
    "# put the labels at 45deg since they tend to be too long\n",
    "fig.autofmt_xdate()\n",
    "plt.show()\n"
   ]
  },
  {
   "cell_type": "code",
   "execution_count": null,
   "metadata": {},
   "outputs": [],
   "source": [
    "dataframe\n"
   ]
  },
  {
   "cell_type": "code",
   "execution_count": null,
   "metadata": {},
   "outputs": [],
   "source": [
    "y= dataframe[[\"machine.name\", \"issue_count\"]]\n"
   ]
  },
  {
   "cell_type": "code",
   "execution_count": null,
   "metadata": {},
   "outputs": [],
   "source": [
    "y"
   ]
  },
  {
   "cell_type": "code",
   "execution_count": null,
   "metadata": {},
   "outputs": [],
   "source": []
  }
 ],
 "metadata": {
  "kernelspec": {
   "display_name": "Python 3",
   "language": "python",
   "name": "python3"
  },
  "language_info": {
   "codemirror_mode": {
    "name": "ipython",
    "version": 3
   },
   "file_extension": ".py",
   "mimetype": "text/x-python",
   "name": "python",
   "nbconvert_exporter": "python",
   "pygments_lexer": "ipython3",
   "version": "3.6.4"
  }
 },
 "nbformat": 4,
 "nbformat_minor": 2
}

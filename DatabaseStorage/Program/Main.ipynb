{
 "cells": [
  {
   "cell_type": "code",
   "execution_count": 1,
   "metadata": {},
   "outputs": [],
   "source": [
    "import sys\n",
    "import matplotlib.pyplot as plt\n",
    "import matplotlib.pylab as pylab\n",
    "import seaborn as sns\n",
    "import os\n",
    "import inspect\n",
    "import pandas as pd\n",
    "\n",
    "project_path = os.path.abspath( os.path.dirname(os.path.abspath(inspect.getfile(inspect.currentframe()))) + \"/../\")\n",
    "sys.path.insert(0, project_path)\n",
    "\n",
    "from Program.Objects.Human import *\n",
    "from Program.Objects.Issue import *\n",
    "from Program.Objects.Machine import *\n",
    "from Program.Objects.MaintenanceWorkOrder import *\n",
    "from Program.Objects.Tag import *\n",
    "\n",
    "from Program.Database.Database_Properties import *\n",
    "from Program.Database.Database import *\n",
    "from Program.Database.Main import *\n",
    "\n",
    "from Program.KPI.KPI import *\n",
    "\n",
    "\n",
    "from Program.Others.MyDate import *"
   ]
  },
  {
   "cell_type": "markdown",
   "metadata": {},
   "source": [
    "# DATABASE"
   ]
  },
  {
   "cell_type": "markdown",
   "metadata": {},
   "source": [
    "## FILES"
   ]
  },
  {
   "cell_type": "markdown",
   "metadata": {},
   "source": [
    "### NIST server"
   ]
  },
  {
   "cell_type": "markdown",
   "metadata": {},
   "source": [
    "### Greystone"
   ]
  },
  {
   "cell_type": "code",
   "execution_count": 2,
   "metadata": {},
   "outputs": [],
   "source": [
    "PassWord = 'GREYSTONE!!'\n",
    "#file = os.path.join(project_path , 'Data_CSV', 'GreyStone_Data.csv')\n",
    "file = os.path.join(project_path , 'Data_CSV', 'GS_tokenized.csv')\n",
    "localization = {NodeHuman.VALUE_TECHNICIAN.value: 15,\n",
    "                NodeHuman.VALUE_OPERATOR.value: 13,\n",
    "\n",
    "                NodeTag.VALUE_ITEM.value: 17,\n",
    "                NodeTag.VALUE_PROBLEM.value: 19,\n",
    "                NodeTag.VALUE_SOLUTION.value: 20,\n",
    "                NodeTag.VALUE_NA.value: 18,\n",
    "                NodeTag.VALUE_UNKNOWN.value: 21,\n",
    "                NodeTag.VALUE_STOP_WORDS.value: 22,\n",
    "\n",
    "                NodeMachine.VALUE_MACHINE.value: 7,\n",
    "                NodeIssue.VALUE_MACHINE_DOWN.value: 8,\n",
    "\n",
    "                NodeIssue.VALUE_DESCRIPTION_PROBLEM.value: 0,\n",
    "                NodeIssue.VALUE_DESCRIPTION_SOLUTION.value: 1,\n",
    "                NodeIssue.VALUE_PART_PROCESS.value: 16,\n",
    "                \n",
    "                NodeIssue.VALUE_DATE_MAINTENANCE_WORK_ORDER_ISSUE.value: 9,\n",
    "                NodeIssue.VALUE_DATE_MAINTENANCE_WORK_ORDER_ISSUE.value + \"2\": 10,\n",
    "                NodeIssue.VALUE_DATE_MAINTENANCE_WORK_ORDER_CLOSE.value: 11,\n",
    "                NodeIssue.VALUE_DATE_MAINTENANCE_WORK_ORDER_CLOSE.value + \"2\": 12\n",
    "                }\n",
    "\n",
    "def date_cleanizer(date, time=\"0000\"):\n",
    "    \"\"\"\n",
    "    clean the date from GS data\n",
    "\n",
    "    :param date: the date\n",
    "    :param time: the time\n",
    "    :return: a DateTime\n",
    "    \"\"\"\n",
    "\n",
    "####    DATE ####\n",
    "    if date is \"\":\n",
    "        return None\n",
    "\n",
    "    date = date.replace(\" \",\"\").split(\"/\")\n",
    "\n",
    "    date[2] = \"20\" + date[2]\n",
    "\n",
    "    if len(date[0]) is 1:\n",
    "        date[0] = \"0\" + date[0]\n",
    "    else:\n",
    "        date[0] = date[0]\n",
    "\n",
    "    if len(date[1]) is 1:\n",
    "        date[1] = \"0\" + date[1]\n",
    "    else:\n",
    "        date[1] = date[1]\n",
    "\n",
    "#### TIME ####\n",
    "    while len(time) < 4:\n",
    "        time = \"0\" + time.replace(\" \", \"\")\n",
    "\n",
    "    return datetime(year=int(date[2]), month=int(date[0]), day=int(date[1]), hour=int(time[:2]), minute=int(time[2:]))"
   ]
  },
  {
   "cell_type": "markdown",
   "metadata": {},
   "source": [
    "### Psu"
   ]
  },
  {
   "cell_type": "code",
   "execution_count": null,
   "metadata": {},
   "outputs": [],
   "source": [
    "PassWord = 'PSU!!'\n",
    "file = os.path.join(project_path , 'Data_CSV', 'Psu_Data.csv')\n",
    "localization = {NodeHuman.VALUE_TECHNICIAN.value: 18,\n",
    "\n",
    "                NodeMachine.VALUE_MACHINE.value: 3,\n",
    "                NodeMachine.VALUE_TYPE.value:6,\n",
    "                NodeMachine.VALUE_MANUFACTURER.value:5,\n",
    "                NodeMachine.VALUE_LOCASION.value:4,\n",
    "\n",
    "\n",
    "                NodeIssue.VALUE_DESCRIPTION_PROBLEM.value: 11,\n",
    "                NodeIssue.VALUE_DESCRIPTION_SOLUTION.value: 19,\n",
    "                NodeIssue.VALUE_DESCRIPTION_CAUSE.value:12,\n",
    "                NodeIssue.VALUE_MACHINE_DOWN.value: 13,\n",
    "                }"
   ]
  },
  {
   "cell_type": "markdown",
   "metadata": {},
   "source": [
    "### Hvac"
   ]
  },
  {
   "cell_type": "code",
   "execution_count": null,
   "metadata": {},
   "outputs": [],
   "source": [
    "PassWord = 'HVAC!!'\n",
    "file = os.path.join(project_path , 'Data_CSV', 'Hvac_Data.csv')\n",
    "localization = {NodeHuman.VALUE_TECHNICIAN.value: 10,\n",
    "                NodeHuman.VALUE_OPERATOR.value: 43,\n",
    "\n",
    "                NodeMachine.VALUE_MACHINE.value: 7,\n",
    "\n",
    "                NodeIssue.VALUE_DESCRIPTION_PROBLEM.value: 5,\n",
    "                NodeIssue.VALUE_DESCRIPTION_SOLUTION.value: 247,\n",
    "                }\n",
    "date_cleanizer = None"
   ]
  },
  {
   "cell_type": "markdown",
   "metadata": {},
   "source": [
    "### Auto"
   ]
  },
  {
   "cell_type": "code",
   "execution_count": null,
   "metadata": {},
   "outputs": [],
   "source": [
    "PassWord = 'AUTO!!'\n",
    "file = os.path.join(project_path , 'Data_CSV', 'Auto_Data.csv')\n",
    "localization = {NodeHuman.VALUE_TECHNICIAN.value: 4,\n",
    "                NodeHuman.VALUE_OPERATOR.value: 11,\n",
    "                NodeHuman.VALUE_CRAFTS.value: 16,\n",
    "                NodeHuman.VALUE_SKILLS.value: 17,\n",
    "\n",
    "                NodeMachine.VALUE_MACHINE.value: 8,\n",
    "\n",
    "                NodeIssue.VALUE_DESCRIPTION_PROBLEM.value: 5,\n",
    "                NodeIssue.VALUE_DESCRIPTION_SOLUTION.value: 7,\n",
    "                }"
   ]
  },
  {
   "cell_type": "markdown",
   "metadata": {},
   "source": [
    "### Mine"
   ]
  },
  {
   "cell_type": "code",
   "execution_count": null,
   "metadata": {},
   "outputs": [],
   "source": [
    "PassWord = 'MINE!!'\n",
    "file = os.path.join(project_path , 'Data_CSV', 'Mine_Data.csv')\n",
    "\n",
    "localization = {}"
   ]
  },
  {
   "cell_type": "markdown",
   "metadata": {},
   "source": [
    "## ACTION"
   ]
  },
  {
   "cell_type": "markdown",
   "metadata": {},
   "source": [
    "### Connect"
   ]
  },
  {
   "cell_type": "code",
   "execution_count": 3,
   "metadata": {},
   "outputs": [],
   "source": [
    "database = DatabaseNeo4J(\"bolt://127.0.0.1:7687\", \"neo4j\", PassWord)"
   ]
  },
  {
   "cell_type": "code",
   "execution_count": null,
   "metadata": {},
   "outputs": [],
   "source": [
    "database = DatabaseNeo4J(\"bolt://127.0.0.1:7687\", \"neo4j\", \"11/Jul/2017!\")"
   ]
  },
  {
   "cell_type": "markdown",
   "metadata": {},
   "source": [
    "## Indexs"
   ]
  },
  {
   "cell_type": "code",
   "execution_count": null,
   "metadata": {},
   "outputs": [],
   "source": [
    "database.createIndexes()"
   ]
  },
  {
   "cell_type": "code",
   "execution_count": null,
   "metadata": {},
   "outputs": [],
   "source": [
    "database.dropIndexes()"
   ]
  },
  {
   "cell_type": "markdown",
   "metadata": {},
   "source": [
    "## Data"
   ]
  },
  {
   "cell_type": "code",
   "execution_count": 5,
   "metadata": {},
   "outputs": [
    {
     "name": "stderr",
     "output_type": "stream",
     "text": [
      "100%|█████████▉| 3438/3448 [00:57<00:00, 60.11it/s]"
     ]
    },
    {
     "name": "stdout",
     "output_type": "stream",
     "text": [
      "3438 Maintenance Word Order Created\n"
     ]
    },
    {
     "name": "stderr",
     "output_type": "stream",
     "text": [
      "\n"
     ]
    }
   ],
   "source": [
    "graph_database_from_csv(database, file, localization, date_cleanizer)"
   ]
  },
  {
   "cell_type": "code",
   "execution_count": null,
   "metadata": {},
   "outputs": [],
   "source": [
    "# token_dataframe = pd.DataFrame.from_csv(\"GS_tokenized_forSascha.csv\", index_col =None)\n",
    "# graph_database_from_tag_extractor(database = database, token_dataframe = token_dataframe)"
   ]
  },
  {
   "cell_type": "code",
   "execution_count": 4,
   "metadata": {},
   "outputs": [
    {
     "data": {
      "text/plain": [
       "1"
      ]
     },
     "execution_count": 4,
     "metadata": {},
     "output_type": "execute_result"
    }
   ],
   "source": [
    "database.deleteData()"
   ]
  },
  {
   "cell_type": "markdown",
   "metadata": {},
   "source": [
    "# KPI"
   ]
  },
  {
   "cell_type": "markdown",
   "metadata": {},
   "source": [
    "# KPI using Object"
   ]
  },
  {
   "cell_type": "code",
   "execution_count": null,
   "metadata": {},
   "outputs": [],
   "source": [
    "tec = Technician(name=[\"_\"])\n",
    "ope = Operator(name=[\"_\"])\n",
    "\n",
    "i3=Issue(problem=[\"_\"], solution=[\"_\"], machine_down=\"_\",date_maintenance_work_order_issue=[\"_\"], date_maintenance_work_order_close=[\"_\"],part_in_process=[\"_\"] )\n",
    "\n",
    "mac = Machine(name=[\"_\",\"h11\", \"h1\"])\n",
    "\n",
    "tagI = TagItem(keyword = [\"_\"])\n",
    "tagS = TagAction(keyword = [\"_\"] , it_is=\"s\")\n",
    "tagP = TagAction(keyword = [\"_\"] , it_is=\"p\")\n",
    "\n"
   ]
  },
  {
   "cell_type": "code",
   "execution_count": null,
   "metadata": {},
   "outputs": [],
   "source": [
    "query = cypher_from_kpi(tec,mac)"
   ]
  },
  {
   "cell_type": "code",
   "execution_count": null,
   "metadata": {},
   "outputs": [],
   "source": [
    "dataframe = pandas_from_cypher_kpi(database, query)"
   ]
  },
  {
   "cell_type": "code",
   "execution_count": null,
   "metadata": {},
   "outputs": [],
   "source": [
    "dataframe.shape"
   ]
  },
  {
   "cell_type": "code",
   "execution_count": null,
   "metadata": {},
   "outputs": [],
   "source": [
    "print(query)"
   ]
  },
  {
   "cell_type": "code",
   "execution_count": null,
   "metadata": {},
   "outputs": [],
   "source": [
    "dataframe"
   ]
  },
  {
   "cell_type": "code",
   "execution_count": null,
   "metadata": {},
   "outputs": [],
   "source": []
  },
  {
   "cell_type": "markdown",
   "metadata": {},
   "source": [
    "# For UI\n"
   ]
  },
  {
   "cell_type": "code",
   "execution_count": null,
   "metadata": {},
   "outputs": [],
   "source": [
    "query = \"MATCH (node) RETURN DISTINCT labels(node)\"\n",
    "results_label, done = database.runQuery(query)\n",
    "label_property_dict = dict()\n",
    "\n",
    "list1 = []\n",
    "listN = []\n",
    "for result_label in results_label.records():\n",
    "    for labels in result_label.values():\n",
    "        for label in labels:\n",
    "            if label in listN:\n",
    "                pass\n",
    "            elif label in list1:\n",
    "                list1.remove(label)\n",
    "                listN.append(label)\n",
    "            else:\n",
    "                list1.append(label)\n",
    "\n",
    "for label in list1:\n",
    "    print(\"ttttt\")\n",
    "    query = f'MATCH (node:{label})<-[relation]-() RETURN distinct type(relation)'\n",
    "    results_relation, done = database.runQuery(query)\n",
    "    print(results_relation)\n",
    "\n",
    "for label in listN:\n",
    "    query = f'MATCH (node:{label}) RETURN keys(node)'\n",
    "    results_relation, done = database.runQuery(query)\n",
    "    label_property_dict.update({label: {p for proper in results_relation.records() for prop in\n",
    "                                        proper.values() for p in prop }})\n",
    "            \n"
   ]
  },
  {
   "cell_type": "code",
   "execution_count": null,
   "metadata": {},
   "outputs": [],
   "source": [
    "label_property_dict"
   ]
  },
  {
   "cell_type": "code",
   "execution_count": null,
   "metadata": {},
   "outputs": [],
   "source": [
    "list1"
   ]
  },
  {
   "cell_type": "code",
   "execution_count": null,
   "metadata": {},
   "outputs": [],
   "source": [
    "listN"
   ]
  },
  {
   "cell_type": "code",
   "execution_count": null,
   "metadata": {},
   "outputs": [],
   "source": [
    "dict={\"problem\" : \"(node:ACTION:TAG)<-[:PROBLEM]-(i:ISSUE)\",\n",
    "    \"solution\" : \"(node:ACTION:TAG)<-[:SOLUTION]-(i:ISSUE)\",\n",
    "    \"tag\" : \"(node:TAG)\",\n",
    "    \"human\" : \"(node:HUMAN)\",\n",
    "    \"technican\" : \"(node:TECHNICIAN:HUMAN)<-[:SOLVE_BY]-(i:ISSUE)\",\n",
    "    \"operator\" : \"(node:OPERATOR:HUMAN)<-[:REQUESTED_BY]-(i:ISSUE)\",\n",
    "    \"machine\" : \"(node:MACHINE)\",\n",
    "    \"machine_type\" : \"(node:MACHINE_TYPE)\",\n",
    "     \"issue\" : \"(node:ISSUE)\"}"
   ]
  },
  {
   "cell_type": "code",
   "execution_count": null,
   "metadata": {},
   "outputs": [],
   "source": [
    "for key, value in dict.items():\n",
    "    #print(\"___\")\n",
    "    query = \"MATCH \" + value + \"RETURN distinct keys(node)\"\n",
    "   # print(query)\n",
    "    results, done = database.runQuery(query)\n",
    "    for record in results.records():\n",
    "        #print(\"----\")\n",
    "        print(record.values())"
   ]
  },
  {
   "cell_type": "markdown",
   "metadata": {},
   "source": [
    "### test other ---------"
   ]
  },
  {
   "cell_type": "code",
   "execution_count": 11,
   "metadata": {},
   "outputs": [
    {
     "name": "stdout",
     "output_type": "stream",
     "text": [
      "['ITEM', 'TAG']\n",
      "CONTAINS\n",
      "---\n",
      "['ACTION', 'TAG']\n",
      "PROBLEM\n",
      "---\n",
      "['HUMAN', 'TECHNICIAN']\n",
      "SOLVE_BY\n",
      "---\n",
      "['ACTION', 'TAG']\n",
      "SOLUTION\n",
      "---\n",
      "['HUMAN', 'OPERATOR']\n",
      "REQUESTED_BY\n",
      "---\n",
      "['MACHINE']\n",
      "COVERED\n",
      "---\n",
      "['HUMAN', 'OPERATOR', 'TECHNICIAN']\n",
      "SOLVE_BY\n",
      "---\n",
      "['HUMAN', 'OPERATOR', 'TECHNICIAN']\n",
      "REQUESTED_BY\n",
      "---\n"
     ]
    }
   ],
   "source": [
    "query = \"MATCH (node)<-[relationship]-() RETURN DISTINCT labels(node) as node, type(relationship) as rel\"\n",
    "results, done = database.runQuery(query)\n",
    "label_property_dict = dict()\n",
    "\n",
    "df = pd.DataFrame(columns=['nodes','edges','properties'])\n",
    "for result in results.records():\n",
    "    for node_link in result.values():\n",
    "        df['node']="
   ]
  },
  {
   "cell_type": "code",
   "execution_count": 12,
   "metadata": {},
   "outputs": [
    {
     "data": {
      "text/html": [
       "<div>\n",
       "<style scoped>\n",
       "    .dataframe tbody tr th:only-of-type {\n",
       "        vertical-align: middle;\n",
       "    }\n",
       "\n",
       "    .dataframe tbody tr th {\n",
       "        vertical-align: top;\n",
       "    }\n",
       "\n",
       "    .dataframe thead th {\n",
       "        text-align: right;\n",
       "    }\n",
       "</style>\n",
       "<table border=\"1\" class=\"dataframe\">\n",
       "  <thead>\n",
       "    <tr style=\"text-align: right;\">\n",
       "      <th></th>\n",
       "      <th>nodes</th>\n",
       "      <th>edges</th>\n",
       "      <th>properties</th>\n",
       "    </tr>\n",
       "  </thead>\n",
       "  <tbody>\n",
       "  </tbody>\n",
       "</table>\n",
       "</div>"
      ],
      "text/plain": [
       "Empty DataFrame\n",
       "Columns: [nodes, edges, properties]\n",
       "Index: []"
      ]
     },
     "execution_count": 12,
     "metadata": {},
     "output_type": "execute_result"
    }
   ],
   "source": [
    "df"
   ]
  },
  {
   "cell_type": "code",
   "execution_count": null,
   "metadata": {},
   "outputs": [],
   "source": []
  }
 ],
 "metadata": {
  "kernelspec": {
   "display_name": "Python 3",
   "language": "python",
   "name": "python3"
  },
  "language_info": {
   "codemirror_mode": {
    "name": "ipython",
    "version": 3
   },
   "file_extension": ".py",
   "mimetype": "text/x-python",
   "name": "python",
   "nbconvert_exporter": "python",
   "pygments_lexer": "ipython3",
   "version": "3.6.4"
  }
 },
 "nbformat": 4,
 "nbformat_minor": 2
}

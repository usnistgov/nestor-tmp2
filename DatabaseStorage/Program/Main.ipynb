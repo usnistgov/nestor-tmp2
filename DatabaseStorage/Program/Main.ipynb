{
 "cells": [
  {
   "cell_type": "code",
   "execution_count": 1,
   "metadata": {},
   "outputs": [],
   "source": [
    "import sys\n",
    "import matplotlib.pyplot as plt\n",
    "import matplotlib.pylab as pylab\n",
    "import seaborn as sns\n",
    "import os\n",
    "import inspect\n",
    "\n",
    "project_path = os.path.abspath( os.path.dirname(os.path.abspath(inspect.getfile(inspect.currentframe()))) + \"/../\")\n",
    "sys.path.insert(0, project_path)\n",
    "\n",
    "from Program.Objects.Human import Human\n",
    "from Program.Objects.Issue import Issue\n",
    "from Program.Objects.Machine import Machine\n",
    "from Program.Objects.MaintenanceWorkOrder import MaintenanceWorkOrder\n",
    "from Program.Objects.Tag import Tag\n",
    "\n",
    "from Program.Database.Database_Properties import *\n",
    "from Program.Database.Database import *\n",
    "from Program.Database.Main import *\n",
    "\n",
    "from Program.KPI.KPI import *\n",
    "\n",
    "\n",
    "from Program.Others.MyDate import *"
   ]
  },
  {
   "cell_type": "markdown",
   "metadata": {},
   "source": [
    "# DATABASE"
   ]
  },
  {
   "cell_type": "markdown",
   "metadata": {},
   "source": [
    "## FILES"
   ]
  },
  {
   "cell_type": "markdown",
   "metadata": {},
   "source": [
    "### NIST server"
   ]
  },
  {
   "cell_type": "markdown",
   "metadata": {},
   "source": [
    "### Greystone"
   ]
  },
  {
   "cell_type": "code",
   "execution_count": 2,
   "metadata": {},
   "outputs": [],
   "source": [
    "PassWord = 'GREYSTONE!!'\n",
    "file = os.path.join(project_path , 'Data_CSV', 'GreyStone_Data.csv')\n",
    "localization = {NodeHuman.VALUE_TECHNICIAN.value: 15,\n",
    "                NodeHuman.VALUE_OPERATOR.value: 13,\n",
    "\n",
    "                NodeTag.VALUE_ITEM.value: 2,\n",
    "                NodeTag.VALUE_PROBLEM.value: 3,\n",
    "                NodeTag.VALUE_SOLUTION.value: 4,\n",
    "\n",
    "                NodeMachine.VALUE_MACHINE.value: 7,\n",
    "                NodeIssue.VALUE_MACHINE_DOWN.value: 8,\n",
    "\n",
    "                NodeIssue.VALUE_DESCRIPTION_PROBLEM.value: 0,\n",
    "                NodeIssue.VALUE_DESCRIPTION_SOLUTION.value: 1,\n",
    "                NodeIssue.VALUE_PART_PROCESS.value: 16,\n",
    "                \n",
    "                NodeIssue.VALUE_DATE_MAINTENANCE_WORK_ORDER_ISSUE.value: 9,\n",
    "                NodeIssue.VALUE_DATE_MAINTENANCE_WORK_ORDER_ISSUE.value + \"2\": 10,\n",
    "                NodeIssue.VALUE_DATE_MAINTENANCE_WORK_ORDER_CLOSE.value: 11,\n",
    "                NodeIssue.VALUE_DATE_MAINTENANCE_WORK_ORDER_CLOSE.value + \"2\": 12\n",
    "                }\n",
    "\n",
    "def date_cleanizer(date, time=\"0000\"):\n",
    "    \"\"\"\n",
    "    clean the date from GS data\n",
    "\n",
    "    :param date: the date\n",
    "    :param time: the time\n",
    "    :return: a DateTime\n",
    "    \"\"\"\n",
    "\n",
    "####    DATE ####\n",
    "    if date is \"\":\n",
    "        return None\n",
    "\n",
    "    date = date.replace(\" \",\"\").split(\"/\")\n",
    "\n",
    "    date[2] = \"20\" + date[2]\n",
    "\n",
    "    if len(date[0]) is 1:\n",
    "        date[0] = \"0\" + date[0]\n",
    "    else:\n",
    "        date[0] = date[0]\n",
    "\n",
    "    if len(date[1]) is 1:\n",
    "        date[1] = \"0\" + date[1]\n",
    "    else:\n",
    "        date[1] = date[1]\n",
    "\n",
    "#### TIME ####\n",
    "    while len(time) < 4:\n",
    "        time = \"0\" + time.replace(\" \", \"\")\n",
    "\n",
    "    return datetime(year=int(date[2]), month=int(date[0]), day=int(date[1]), hour=int(time[:2]), minute=int(time[2:]))"
   ]
  },
  {
   "cell_type": "markdown",
   "metadata": {},
   "source": [
    "### Psu"
   ]
  },
  {
   "cell_type": "code",
   "execution_count": null,
   "metadata": {},
   "outputs": [],
   "source": [
    "PassWord = 'PSU!!'\n",
    "file = os.path.join(project_path , 'Data_CSV', 'Psu_Data.csv')\n",
    "localization = {NodeHuman.VALUE_TECHNICIAN.value: 18,\n",
    "\n",
    "                NodeMachine.VALUE_MACHINE.value: 3,\n",
    "                NodeMachine.VALUE_TYPE.value:6,\n",
    "                NodeMachine.VALUE_MANUFACTURER.value:5,\n",
    "                NodeMachine.VALUE_LOCASION.value:4,\n",
    "\n",
    "\n",
    "                NodeIssue.VALUE_DESCRIPTION_PROBLEM.value: 11,\n",
    "                NodeIssue.VALUE_DESCRIPTION_SOLUTION.value: 19,\n",
    "                NodeIssue.VALUE_DESCRIPTION_CAUSE.value:12,\n",
    "                NodeIssue.VALUE_MACHINE_DOWN.value: 13,\n",
    "                }"
   ]
  },
  {
   "cell_type": "markdown",
   "metadata": {},
   "source": [
    "### Hvac"
   ]
  },
  {
   "cell_type": "code",
   "execution_count": null,
   "metadata": {},
   "outputs": [],
   "source": [
    "PassWord = 'HVAC!!'\n",
    "file = os.path.join(project_path , 'Data_CSV', 'Hvac_Data.csv')\n",
    "localization = {NodeHuman.VALUE_TECHNICIAN.value: 10,\n",
    "                NodeHuman.VALUE_OPERATOR.value: 43,\n",
    "\n",
    "                NodeMachine.VALUE_MACHINE.value: 7,\n",
    "\n",
    "                NodeIssue.VALUE_DESCRIPTION_PROBLEM.value: 5,\n",
    "                NodeIssue.VALUE_DESCRIPTION_SOLUTION.value: 247,\n",
    "                }"
   ]
  },
  {
   "cell_type": "markdown",
   "metadata": {},
   "source": [
    "### Auto"
   ]
  },
  {
   "cell_type": "code",
   "execution_count": null,
   "metadata": {},
   "outputs": [],
   "source": [
    "PassWord = 'AUTO!!'\n",
    "file = os.path.join(project_path , 'Data_CSV', 'Auto_Data.csv')\n",
    "localization = {NodeHuman.VALUE_TECHNICIAN.value: 4,\n",
    "                NodeHuman.VALUE_OPERATOR.value: 11,\n",
    "                NodeHuman.VALUE_CRAFTS.value: 16,\n",
    "                NodeHuman.VALUE_SKILLS.value: 17,\n",
    "\n",
    "                NodeMachine.VALUE_MACHINE.value: 8,\n",
    "\n",
    "                NodeIssue.VALUE_DESCRIPTION_PROBLEM.value: 5,\n",
    "                NodeIssue.VALUE_DESCRIPTION_SOLUTION.value: 7,\n",
    "                }"
   ]
  },
  {
   "cell_type": "markdown",
   "metadata": {},
   "source": [
    "### Mine"
   ]
  },
  {
   "cell_type": "code",
   "execution_count": null,
   "metadata": {},
   "outputs": [],
   "source": [
    "PassWord = 'MINE!!'\n",
    "file = os.path.join(project_path , 'Data_CSV', 'Mine_Data.csv')\n",
    "\n",
    "localization = {}"
   ]
  },
  {
   "cell_type": "markdown",
   "metadata": {},
   "source": [
    "## ACTION"
   ]
  },
  {
   "cell_type": "markdown",
   "metadata": {},
   "source": [
    "### Connect"
   ]
  },
  {
   "cell_type": "code",
   "execution_count": 3,
   "metadata": {},
   "outputs": [],
   "source": [
    "database = DatabaseNeo4J(\"bolt://127.0.0.1:7687\", \"neo4j\", PassWord)"
   ]
  },
  {
   "cell_type": "markdown",
   "metadata": {},
   "source": [
    "## Indexs"
   ]
  },
  {
   "cell_type": "code",
   "execution_count": 7,
   "metadata": {},
   "outputs": [],
   "source": [
    "database.createIndexes()"
   ]
  },
  {
   "cell_type": "code",
   "execution_count": 6,
   "metadata": {},
   "outputs": [],
   "source": [
    "database.dropIndexes()"
   ]
  },
  {
   "cell_type": "markdown",
   "metadata": {},
   "source": [
    "## Data"
   ]
  },
  {
   "cell_type": "code",
   "execution_count": 8,
   "metadata": {},
   "outputs": [
    {
     "name": "stderr",
     "output_type": "stream",
     "text": [
      "100%|██████████| 3438/3438 [00:45<00:00, 76.18it/s]\n"
     ]
    }
   ],
   "source": [
    "GraphDatabaseCsv(database, file, localization, date_cleanizer)"
   ]
  },
  {
   "cell_type": "code",
   "execution_count": 5,
   "metadata": {},
   "outputs": [],
   "source": [
    "database.deleteData()"
   ]
  },
  {
   "cell_type": "code",
   "execution_count": null,
   "metadata": {},
   "outputs": [],
   "source": []
  },
  {
   "cell_type": "markdown",
   "metadata": {},
   "source": [
    "# KPI"
   ]
  },
  {
   "cell_type": "code",
   "execution_count": 22,
   "metadata": {},
   "outputs": [],
   "source": [
    "%matplotlib inline\n",
    "pylab.rcParams['figure.figsize'] = 16, 20\n",
    "\n",
    "\n",
    "machine_name = \"machine.%s\"%NodeMachine.PROPERTY_NAME.value\n",
    "\n",
    "technician_name = \"technician.%s\"%NodeHuman.PROPERTY_NAME.value\n",
    "operator_name = \"operator.%s\"%NodeHuman.PROPERTY_NAME.value\n",
    "\n",
    "issue_problem = \"issue.%s\"%NodeIssue.PROPERTY_DESCRIPTION_PROBLEM.value\n",
    "issue_solution = \"issue.%s\"%NodeIssue.PROPERTY_DESCRIPTION_SOLUTION.value\n",
    "\n",
    "tag_item = \"item.%s\"%NodeTag.PROPERTY_KEYWORD.value\n",
    "tag_problem = \"problem_action.%s\"%NodeTag.PROPERTY_KEYWORD.value\n",
    "tag_solution = \"solution_action.%s\"%NodeTag.PROPERTY_KEYWORD.value\n",
    "\n",
    "issue_date_issue = \"issue.%s\"%NodeIssue.PROPERTY_DATE_MAINTENANCE_WORK_ORDER_ISSUE.value\n",
    "issue_date_close = \"issue.%s\"%NodeIssue.PROPERTY_DATE_MAINTENANCE_WORK_ORDER_CLOSE.value\n",
    "\n",
    "time = \"time\"\n",
    "count = \"count\"\n",
    "avg = \"average\""
   ]
  },
  {
   "cell_type": "markdown",
   "metadata": {},
   "source": [
    "## BarPlot something Per something"
   ]
  },
  {
   "cell_type": "markdown",
   "metadata": {},
   "source": [
    "MT per Problem : \"lyle cookson\" (technician_name, issue_problem)"
   ]
  },
  {
   "cell_type": "code",
   "execution_count": 19,
   "metadata": {},
   "outputs": [],
   "source": [
    "filter_value= technician_name    # what do you want to represent\n",
    "x_value= issue_problem     # over what value\n",
    "\n",
    "dataframe = abstract_kpi_time_mwo(database=database, x_value=x_value, filter_value=filter_value, time_value=time, count_value=count,average_value=avg )"
   ]
  },
  {
   "cell_type": "code",
   "execution_count": 23,
   "metadata": {},
   "outputs": [
    {
     "data": {
      "text/plain": [
       "(array([0, 1, 2, 3, 4, 5, 6, 7, 8]), <a list of 9 Text xticklabel objects>)"
      ]
     },
     "execution_count": 23,
     "metadata": {},
     "output_type": "execute_result"
    },
    {
     "data": {
      "image/png": "[encoded data removed]",
      "text/plain": [
       "<matplotlib.figure.Figure at 0x1a1c5038d0>"
      ]
     },
     "metadata": {},
     "output_type": "display_data"
    }
   ],
   "source": [
    "y_value = count     # Number of issue\n",
    "#y_value = time       # sum of time spend\n",
    "#y_value = avg       # avereage time spend\n",
    "\n",
    "filter = [\"lyle cookson\"]   # filter on your \"filter_value\"\n",
    "\n",
    "data=dataframe[(dataframe[filter_value].isin(filter))].sort_values(by=[y_value], ascending=False)\n",
    "data= data[data[y_value].notnull()]     #comment if you want the null values to appeared\n",
    "\n",
    "ax = sns.barplot(x=x_value, y=y_value, hue=filter_value,  data=data)\n",
    "plt.xticks(rotation=45)"
   ]
  },
  {
   "cell_type": "markdown",
   "metadata": {},
   "source": [
    "## TimeLinePlot something overtime"
   ]
  },
  {
   "cell_type": "code",
   "execution_count": 26,
   "metadata": {},
   "outputs": [],
   "source": [
    "filter_value= machine_name    # what do you want to represent\n",
    "date = issue_date_issue\n",
    "\n",
    "dataframe = abstract_kpi_timeline(database=database, date_value=date, filter_value=filter_value, time_value=time, count_value=count,average_value=avg )"
   ]
  },
  {
   "cell_type": "code",
   "execution_count": 27,
   "metadata": {},
   "outputs": [
    {
     "data": {
      "text/plain": [
       "(array([ 735689.,  735780.,  735872.,  735964.,  736055.,  736146.,\n",
       "         736238.,  736330.]), <a list of 8 Text xticklabel objects>)"
      ]
     },
     "execution_count": 27,
     "metadata": {},
     "output_type": "execute_result"
    },
    {
     "data": {
      "image/png": "[encoded data removed]",
      "text/plain": [
       "<matplotlib.figure.Figure at 0x1123e5278>"
      ]
     },
     "metadata": {},
     "output_type": "display_data"
    }
   ],
   "source": [
    "y_value = count     # Number of issue\n",
    "#y_value = time       # sum of time spend\n",
    "#y_value = avg       # avereage time spend\n",
    "\n",
    "\n",
    "data = dataframe[[y_value,filter_value,date]]\n",
    "\n",
    "# data = dataframe[[y_value,filter_value,date]]\n",
    "# temps = data[date][1].to_datetime()\n",
    "# print(temps.month)\n",
    "\n",
    "filter = [\"h10\", \"h1\"]   # filter on your \"filter_value\"\n",
    "data = data[data[filter_value].isin(filter)]\n",
    "\n",
    "g = sns.FacetGrid(data, hue=filter_value, size=3, aspect=5)\n",
    "g.map(plt.plot, date, y_value, marker='o').add_legend()\n",
    "plt.xticks(rotation=45)"
   ]
  },
  {
   "cell_type": "code",
   "execution_count": null,
   "metadata": {},
   "outputs": [],
   "source": [
    "dataframe\n"
   ]
  },
  {
   "cell_type": "markdown",
   "metadata": {},
   "source": [
    "# KPI using Object"
   ]
  },
  {
   "cell_type": "code",
   "execution_count": null,
   "metadata": {},
   "outputs": [],
   "source": [
    "import sys\n",
    "import matplotlib.pyplot as plt\n",
    "import matplotlib.pylab as pylab\n",
    "import seaborn as sns\n",
    "import os\n",
    "import inspect\n",
    "\n",
    "project_path = os.path.abspath( os.path.dirname(os.path.abspath(inspect.getfile(inspect.currentframe()))) + \"/../\")\n",
    "sys.path.insert(0, project_path)\n",
    "\n",
    "from Program.Objects.Human import Human\n",
    "from Program.Objects.Issue import Issue\n",
    "from Program.Objects.Machine import Machine\n",
    "from Program.Objects.MaintenanceWorkOrder import MaintenanceWorkOrder\n",
    "from Program.Objects.Tag import Tag\n",
    "\n",
    "from Program.Database.Database_Properties import *\n",
    "from Program.Database.Database import *\n",
    "from Program.Database.Main import *\n",
    "\n",
    "from Program.KPI.KPI import *\n",
    "\n",
    "\n",
    "from Program.Others.MyDate import *\n"
   ]
  },
  {
   "cell_type": "code",
   "execution_count": null,
   "metadata": {},
   "outputs": [],
   "source": [
    "query, property = Machine.get_all_machine_from_database(manufacturer = True, type = True)"
   ]
  },
  {
   "cell_type": "code",
   "execution_count": null,
   "metadata": {},
   "outputs": [],
   "source": [
    "print(query)\n",
    "print(property)"
   ]
  },
  {
   "cell_type": "code",
   "execution_count": null,
   "metadata": {},
   "outputs": [],
   "source": [
    "property"
   ]
  },
  {
   "cell_type": "code",
   "execution_count": null,
   "metadata": {},
   "outputs": [],
   "source": []
  },
  {
   "cell_type": "code",
   "execution_count": null,
   "metadata": {},
   "outputs": [],
   "source": []
  }
 ],
 "metadata": {
  "kernelspec": {
   "display_name": "Python 3",
   "language": "python",
   "name": "python3"
  },
  "language_info": {
   "codemirror_mode": {
    "name": "ipython",
    "version": 3
   },
   "file_extension": ".py",
   "mimetype": "text/x-python",
   "name": "python",
   "nbconvert_exporter": "python",
   "pygments_lexer": "ipython3",
   "version": "3.6.4"
  }
 },
 "nbformat": 4,
 "nbformat_minor": 2
}

{
 "cells": [
  {
   "cell_type": "code",
   "execution_count": null,
   "metadata": {
    "collapsed": true
   },
   "outputs": [],
   "source": [
    "import sys\n",
    "import matplotlib.pyplot as plt\n",
    "import matplotlib.pylab as pylab\n",
    "import seaborn as sns\n",
    "import os\n",
    "import inspect\n",
    "\n",
    "project_path = os.path.abspath( os.path.dirname(os.path.abspath(inspect.getfile(inspect.currentframe()))) + \"/../\")\n",
    "sys.path.insert(0, project_path)\n",
    "\n",
    "from Program.Objects.Human import *\n",
    "from Program.Objects.Issue import *\n",
    "from Program.Objects.Machine import *\n",
    "from Program.Objects.MaintenanceWorkOrder import *\n",
    "from Program.Objects.Tag import *\n",
    "\n",
    "from Program.Database.Database_Properties import *\n",
    "from Program.Database.Database import *\n",
    "from Program.Database.Main import *\n",
    "\n",
    "from Program.KPI.KPI import *\n",
    "from Program.KPI.Plot import *\n",
    "\n",
    "\n",
    "from Program.Others.MyDate import *"
   ]
  },
  {
   "cell_type": "markdown",
   "metadata": {},
   "source": [
    "# DATABASE"
   ]
  },
  {
   "cell_type": "markdown",
   "metadata": {},
   "source": [
    "## FILES"
   ]
  },
  {
   "cell_type": "markdown",
   "metadata": {},
   "source": [
    "### NIST server"
   ]
  },
  {
   "cell_type": "markdown",
   "metadata": {},
   "source": [
    "### Greystone"
   ]
  },
  {
   "cell_type": "code",
   "execution_count": null,
   "metadata": {
    "collapsed": true
   },
   "outputs": [],
   "source": [
    "PassWord = 'GREYSTONE!!'\n",
    "file = os.path.join(project_path , 'Data_CSV', 'GreyStone_Data.csv')\n",
    "localization = {NodeHuman.VALUE_TECHNICIAN.value: 15,\n",
    "                NodeHuman.VALUE_OPERATOR.value: 13,\n",
    "\n",
    "                NodeTag.VALUE_ITEM.value: 2,\n",
    "                NodeTag.VALUE_PROBLEM.value: 3,\n",
    "                NodeTag.VALUE_SOLUTION.value: 4,\n",
    "\n",
    "                NodeMachine.VALUE_MACHINE.value: 7,\n",
    "                NodeIssue.VALUE_MACHINE_DOWN.value: 8,\n",
    "\n",
    "                NodeIssue.VALUE_DESCRIPTION_PROBLEM.value: 0,\n",
    "                NodeIssue.VALUE_DESCRIPTION_SOLUTION.value: 1,\n",
    "                NodeIssue.VALUE_PART_PROCESS.value: 16,\n",
    "                }"
   ]
  },
  {
   "cell_type": "markdown",
   "metadata": {},
   "source": [
    "### Psu"
   ]
  },
  {
   "cell_type": "code",
   "execution_count": null,
   "metadata": {
    "collapsed": true
   },
   "outputs": [],
   "source": [
    "PassWord = 'PSU!!'\n",
    "file = os.path.join(project_path , 'Data_CSV', 'Psu_Data.csv')\n",
    "localization = {NodeHuman.VALUE_TECHNICIAN.value: 18,\n",
    "\n",
    "                NodeMachine.VALUE_MACHINE.value: 3,\n",
    "                NodeMachine.VALUE_TYPE.value:6,\n",
    "                NodeMachine.VALUE_MANUFACTURER.value:5,\n",
    "                NodeMachine.VALUE_LOCASION.value:4,\n",
    "\n",
    "\n",
    "                NodeIssue.VALUE_DESCRIPTION_PROBLEM.value: 11,\n",
    "                NodeIssue.VALUE_DESCRIPTION_SOLUTION.value: 19,\n",
    "                NodeIssue.VALUE_DESCRIPTION_CAUSE.value:12,\n",
    "                NodeIssue.VALUE_MACHINE_DOWN.value: 13,\n",
    "                }"
   ]
  },
  {
   "cell_type": "markdown",
   "metadata": {},
   "source": [
    "### Hvac"
   ]
  },
  {
   "cell_type": "code",
   "execution_count": null,
   "metadata": {
    "collapsed": true
   },
   "outputs": [],
   "source": [
    "PassWord = 'HVAC!!'\n",
    "file = os.path.join(project_path , 'Data_CSV', 'Hvac_Data.csv')\n",
    "localization = {NodeHuman.VALUE_TECHNICIAN.value: 10,\n",
    "                NodeHuman.VALUE_OPERATOR.value: 43,\n",
    "\n",
    "                NodeMachine.VALUE_MACHINE.value: 7,\n",
    "\n",
    "                NodeIssue.VALUE_DESCRIPTION_PROBLEM.value: 5,\n",
    "                NodeIssue.VALUE_DESCRIPTION_SOLUTION.value: 247,\n",
    "                }"
   ]
  },
  {
   "cell_type": "markdown",
   "metadata": {},
   "source": [
    "### Auto"
   ]
  },
  {
   "cell_type": "code",
   "execution_count": null,
   "metadata": {
    "collapsed": true
   },
   "outputs": [],
   "source": [
    "PassWord = 'AUTO!!'\n",
    "file = os.path.join(project_path , 'Data_CSV', 'Auto_Data.csv')\n",
    "localization = {NodeHuman.VALUE_TECHNICIAN.value: 4,\n",
    "                NodeHuman.VALUE_OPERATOR.value: 11,\n",
    "                NodeHuman.VALUE_CRAFTS.value: 16,\n",
    "                NodeHuman.VALUE_SKILLS.value: 17,\n",
    "\n",
    "                NodeMachine.VALUE_MACHINE.value: 8,\n",
    "\n",
    "                NodeIssue.VALUE_DESCRIPTION_PROBLEM.value: 5,\n",
    "                NodeIssue.VALUE_DESCRIPTION_SOLUTION.value: 7,\n",
    "                }"
   ]
  },
  {
   "cell_type": "markdown",
   "metadata": {},
   "source": [
    "### Mine"
   ]
  },
  {
   "cell_type": "code",
   "execution_count": null,
   "metadata": {
    "collapsed": true
   },
   "outputs": [],
   "source": [
    "PassWord = 'MINE!!'\n",
    "file = os.path.join(project_path , 'Data_CSV', 'Mine_Data.csv')\n",
    "\n",
    "localization = {}"
   ]
  },
  {
   "cell_type": "markdown",
   "metadata": {},
   "source": [
    "## ACTION"
   ]
  },
  {
   "cell_type": "markdown",
   "metadata": {},
   "source": [
    "### Connect"
   ]
  },
  {
   "cell_type": "code",
   "execution_count": null,
   "metadata": {
    "collapsed": true
   },
   "outputs": [],
   "source": [
    "database = DatabaseNeo4J(\"bolt://127.0.0.1:7687\", \"neo4j\", PassWord)"
   ]
  },
  {
   "cell_type": "markdown",
   "metadata": {},
   "source": [
    "## Indexs"
   ]
  },
  {
   "cell_type": "code",
   "execution_count": null,
   "metadata": {
    "collapsed": true
   },
   "outputs": [],
   "source": [
    "database.createIndexes()"
   ]
  },
  {
   "cell_type": "code",
   "execution_count": null,
   "metadata": {
    "collapsed": true
   },
   "outputs": [],
   "source": [
    "database.dropIndexes()"
   ]
  },
  {
   "cell_type": "markdown",
   "metadata": {},
   "source": [
    "## Data"
   ]
  },
  {
   "cell_type": "code",
   "execution_count": null,
   "metadata": {
    "collapsed": true
   },
   "outputs": [],
   "source": [
    "GraphDatabaseCsv(database, file, localization)"
   ]
  },
  {
   "cell_type": "code",
   "execution_count": null,
   "metadata": {
    "collapsed": true
   },
   "outputs": [],
   "source": [
    "database.deleteData()"
   ]
  },
  {
   "cell_type": "markdown",
   "metadata": {},
   "source": [
    "# KPI"
   ]
  },
  {
   "cell_type": "code",
   "execution_count": null,
   "metadata": {
    "collapsed": true
   },
   "outputs": [],
   "source": [
    "%matplotlib inline\n",
    "pylab.rcParams['figure.figsize'] = 16, 20"
   ]
  },
  {
   "cell_type": "markdown",
   "metadata": {},
   "source": [
    "## DISPATCH"
   ]
  },
  {
   "cell_type": "markdown",
   "metadata": {},
   "source": [
    "### Human Element per Raw Text Element"
   ]
  },
  {
   "cell_type": "code",
   "execution_count": 5,
   "metadata": {},
   "outputs": [
    {
     "data": {
      "text/plain": [
       "' Technician for a given problem'"
      ]
     },
     "execution_count": 5,
     "metadata": {},
     "output_type": "execute_result"
    },
    {
     "data": {
      "image/png": "[encoded data removed]",
      "text/plain": [
       "<matplotlib.figure.Figure at 0x1a13c86550>"
      ]
     },
     "metadata": {},
     "output_type": "display_data"
    }
   ],
   "source": [
    "varTechician = \"technician\"\n",
    "varProblem = \"problem\"\n",
    "varCount = \"count\"\n",
    "\n",
    "dataframe = MaintenanceTechnician_Problem(database, varTechician, varProblem, varCount)\n",
    "\n",
    "\n",
    "\"\"\" problem for a given Technician\"\"\"\n",
    "## GREYSTONE ##\n",
    "    # Lyle Cookson\n",
    "\n",
    "filter = [\"Lyle Cookson\"]\n",
    "data=dataframe[(dataframe[varTechnician].isin(filter))].sort_values(by=[varCount], ascending=False)\n",
    "ax = sns.barplot(y=varProblem, x=varCount,hue=varTechician,  data=data)\n",
    "ax.set(xlabel='Problem', ylabel='Number of Issue Solved', title='Number of issue solved by %s per raw text problem'%(filter) )\n",
    "\n",
    "\n",
    "\"\"\" Technician for a given problem\"\"\"\n",
    "\n",
    "# filter = [\"Accumulator check requested\", \"Hydraulic leak\"]\n",
    "# data=dataframe[(dataframe[varProblem].isin(filter)) & (dataframe[\"count\"]>0)].sort_values(by=[\"count\"], ascending=False)\n",
    "# ax = sns.barplot(y=varTechician, x=varCount,hue=varProblem,  data=data)\n",
    "# ax.set(xlabel='Problem', ylabel='Number of Issue Solved', title='Number of issue solved by Technicians about %s'%(filter) )"
   ]
  },
  {
   "cell_type": "code",
   "execution_count": null,
   "metadata": {
    "collapsed": true
   },
   "outputs": [],
   "source": [
    "varTechician = \"technician\"\n",
    "varSolution = \"solution\"\n",
    "varCount = \"count\"\n",
    "\n",
    "dataframe = MaintenanceTechnician_Solution(database, varTechician, varSolution, varCount)\n",
    "\n",
    "\n",
    "\"\"\" solution for a given Technician\"\"\"\n",
    "\n",
    "filter = [\"Lyle Cookson\"]\n",
    "data=dataframe[(dataframe[varTechnician].isin(filter))].sort_values(by=[varCount], ascending=False)\n",
    "ax = sns.barplot(y=varSolution, x=varCount,hue=varTechician,  data=data)\n",
    "ax.set(xlabel='Solution', ylabel='Number of Issue Solved', title='Number of issue solved by %s per Solution'%(filter) )\n",
    "\n",
    "\n",
    "\"\"\" Technician for a given solution\"\"\"\n",
    "\n",
    "# filter = [\"Accumulator check requested\", \"Hydraulic leak\"]\n",
    "# data=dataframe[(dataframe[varSolution].isin(filter))].sort_values(by=[varCount], ascending=False)\n",
    "# ax = sns.barplot(y=varTechician, x=varCount, hue=varSolution,  data=data)\n",
    "# ax.set(xlabel='Technician', ylabel='Number of Issue Solved', title='Number of issue solved by Technician about %s'%(filter) )"
   ]
  },
  {
   "cell_type": "markdown",
   "metadata": {},
   "source": [
    "### Human element per Machine element "
   ]
  },
  {
   "cell_type": "code",
   "execution_count": null,
   "metadata": {
    "collapsed": true
   },
   "outputs": [],
   "source": [
    "Skill_Description(database, \"skills\") "
   ]
  },
  {
   "cell_type": "code",
   "execution_count": null,
   "metadata": {
    "collapsed": true
   },
   "outputs": [],
   "source": [
    "#Craft_Description(database)"
   ]
  },
  {
   "cell_type": "code",
   "execution_count": null,
   "metadata": {
    "collapsed": true
   },
   "outputs": [],
   "source": [
    "#Skill_Solution(database) "
   ]
  },
  {
   "cell_type": "code",
   "execution_count": null,
   "metadata": {
    "collapsed": true
   },
   "outputs": [],
   "source": [
    "#Craft_Solution(database)"
   ]
  },
  {
   "cell_type": "markdown",
   "metadata": {},
   "source": [
    "### Human element per Machine element "
   ]
  },
  {
   "cell_type": "code",
   "execution_count": null,
   "metadata": {
    "collapsed": true
   },
   "outputs": [],
   "source": [
    "varTechician = \"technician\"\n",
    "varMachine = \"machine\"\n",
    "varCount = \"count\"\n",
    "\n",
    "dataframe = MaintenanceTechnician_Machine(database, varTechician, varMachine, varCount)\n",
    "\n",
    "\n",
    "\"\"\" machine for a given Technician\"\"\"\n",
    "\n",
    "filter = [\"Lyle Cookson\"]\n",
    "data=dataframe[(dataframe[varTechnician].isin(filter))].sort_values(by=[varCount], ascending=False)\n",
    "ax = sns.barplot(y=varMachine, x=varCount,hue=varTechician,  data=data)\n",
    "ax.set(xlabel='Machine', ylabel='Number of Issue Solved', title='Number of issue solved by %s per machine'%(filter) )\n",
    "\n",
    "\n",
    "\"\"\" Technician for a given machine\"\"\"\n",
    "\n",
    "# filter = [\"I3\", \"H2\"]\n",
    "# data=dataframe[(dataframe[varMachine].isin(filter))].sort_values(by=[varCount], ascending=False)\n",
    "# ax = sns.barplot(y=varTechician, x=varCount, hue=varMachine,  data=data)\n",
    "# ax.set(xlabel='Technician', ylabel='Number of Issue Solved', title='Number of issue solved by Technician on %s'%(filter) )"
   ]
  },
  {
   "cell_type": "code",
   "execution_count": null,
   "metadata": {
    "collapsed": true
   },
   "outputs": [],
   "source": [
    "varTechician = \"technician\"\n",
    "varMachineType = \"machine_type\"\n",
    "varCount = \"count\"\n",
    "\n",
    "dataframe = MaintenanceTechnician_MachineType(database, varTechician, varMachineType, varCount)\n",
    "\n",
    "\n",
    "\"\"\" machine for a given Technician\"\"\"\n",
    "\n",
    "# filter = [\"Lyle Cookson\"]\n",
    "# data=dataframe[(dataframe[varTechnician].isin(filter))].sort_values(by=[varCount], ascending=False)\n",
    "# ax = sns.barplot(y=varMachineType, x=varCount,hue=varTechician,  data=data)\n",
    "# ax.set(xlabel='Solution', ylabel='Number of Issue Solved', title='Number of issue solved by %s per type of machine'%(filter) )\n",
    "\n",
    "\n",
    "\"\"\" Technician for a given machine\"\"\"\n",
    "\n",
    "# filter = [\"I3\", \"H2\"]\n",
    "# data=dataframe[(dataframe[varMachineType].isin(filter))].sort_values(by=[varCount], ascending=False)\n",
    "# ax = sns.barplot(y=varTechician, x=varCount, hue=varMachineType,  data=data)\n",
    "# ax.set(xlabel='Technician', ylabel='Number of Issue Solved', title='Number of issue solved by Technician on %s'%(filter) )"
   ]
  },
  {
   "cell_type": "markdown",
   "metadata": {},
   "source": [
    "### Human Element per Machine Element per Calculated Time Element!"
   ]
  },
  {
   "cell_type": "code",
   "execution_count": 11,
   "metadata": {},
   "outputs": [
    {
     "name": "stderr",
     "output_type": "stream",
     "text": [
      "/Users/sam11/anaconda3/lib/python3.6/site-packages/ipykernel_launcher.py:9: SettingWithCopyWarning: \n",
      "A value is trying to be set on a copy of a slice from a DataFrame.\n",
      "Try using .loc[row_indexer,col_indexer] = value instead\n",
      "\n",
      "See the caveats in the documentation: http://pandas.pydata.org/pandas-docs/stable/indexing.html#indexing-view-versus-copy\n",
      "  if __name__ == '__main__':\n"
     ]
    },
    {
     "data": {
      "text/plain": [
       "' avereage time spend on Machine for every Technician'"
      ]
     },
     "execution_count": 11,
     "metadata": {},
     "output_type": "execute_result"
    },
    {
     "data": {
      "image/png": "[encoded data removed]",
      "text/plain": [
       "<matplotlib.figure.Figure at 0x1a12e6b550>"
      ]
     },
     "metadata": {},
     "output_type": "display_data"
    }
   ],
   "source": [
    "varTechnician = \"technician\"\n",
    "varMachine = \"machine\"\n",
    "varTime = \"completion_time\"\n",
    "varCount = \"count\"\n",
    "varAVG = \"avereage\"\n",
    "\n",
    "Dataframe = MaintenanceTechnician_Machine_WorkOrderCompletionTime(database, varTechnician, varMachine,varTime)\n",
    "data = Dataframe[pd.notnull(Dataframe[varTime])]\n",
    "data[varCount]=1\n",
    "data = data.groupby([\"machine\", \"technician\"]).sum().reset_index()\n",
    "data[varAVG] = data[varTime]/data[varCount]\n",
    "\n",
    "\n",
    "\"\"\" avereage time spend for Technician in every Machine\"\"\"\n",
    "filter = [\"Lyle Cookson\"]\n",
    "data=data[(data[varTechnician].isin(filter))].sort_values(by=[varAVG], ascending=False)\n",
    "ax = sns.barplot(y=varAVG, x=varMachine,  data=data)\n",
    "ax.set(xlabel='Machine', ylabel='Avereage WorkOrderCompletionTime', title='Avereage WorkOrderCompletionTime by %s per machine'%(filter) )\n",
    "\n",
    "\"\"\" avereage time spend on Machine for every Technician\"\"\"\n",
    "# filter = [\"H16\"]\n",
    "# data=data[(data[varMachine].isin(filter))].sort_values(by=[varAVG], ascending=False)\n",
    "# ax = sns.barplot(y=varAVG, x=varTechnician,  data=data)\n",
    "# ax.set(xlabel='Machine', ylabel='Avereage WorkOrderCompletionTime', title='Avereage WorkOrderCompletionTime on %s per Technician'%(filter) )\n",
    "\n",
    "\n",
    "\"\"\" number time spend for Technician in every Machine\"\"\"\n",
    "filter = [\"Lyle Cookson\"]\n",
    "data=data[(data[varTechnician].isin(filter))].sort_values(by=[varAVG], ascending=False)\n",
    "ax = sns.barplot(y=varAVG, x=varMachine,  data=data)\n",
    "ax.set(xlabel='Machine', ylabel='Avereage WorkOrderCompletionTime', title='Avereage WorkOrderCompletionTime by %s per machine'%(filter) )\n",
    "\n",
    "\"\"\" number time spend on Machine for every Technician\"\"\"\n",
    "# filter = [\"H16\"]\n",
    "# data=data[(data[varMachine].isin(filter))].sort_values(by=[varAVG], ascending=False)\n",
    "# ax = sns.barplot(y=varAVG, x=varTechnician,  data=data)\n",
    "# ax.set(xlabel='Machine', ylabel='Avereage WorkOrderCompletionTime', title='Avereage WorkOrderCompletionTime on %s per Technician'%(filter) )\n",
    "\n"
   ]
  },
  {
   "cell_type": "code",
   "execution_count": null,
   "metadata": {
    "collapsed": true
   },
   "outputs": [],
   "source": [
    "#MaintenanceTechnician_MachineType_WorkOrderCompletionTime(database)"
   ]
  },
  {
   "cell_type": "markdown",
   "metadata": {},
   "source": [
    "### Human Element per NLP Element"
   ]
  },
  {
   "cell_type": "code",
   "execution_count": null,
   "metadata": {
    "collapsed": true
   },
   "outputs": [],
   "source": [
    "#MaintenanceTechnician_Item(database)"
   ]
  },
  {
   "cell_type": "code",
   "execution_count": null,
   "metadata": {
    "collapsed": true
   },
   "outputs": [],
   "source": [
    "#MaintenanceTechnician_ProblemAction(database)"
   ]
  },
  {
   "cell_type": "code",
   "execution_count": null,
   "metadata": {
    "collapsed": true
   },
   "outputs": [],
   "source": [
    "#MaintenanceTechnician_SolutionAction(database)"
   ]
  },
  {
   "cell_type": "code",
   "execution_count": null,
   "metadata": {
    "collapsed": true
   },
   "outputs": [],
   "source": [
    "#Skill_Item(database)"
   ]
  },
  {
   "cell_type": "code",
   "execution_count": null,
   "metadata": {
    "collapsed": true
   },
   "outputs": [],
   "source": [
    "#Craft_Item(database)"
   ]
  },
  {
   "cell_type": "code",
   "execution_count": null,
   "metadata": {
    "collapsed": true
   },
   "outputs": [],
   "source": [
    "#Skill_ProblemAction(database)"
   ]
  },
  {
   "cell_type": "code",
   "execution_count": null,
   "metadata": {
    "collapsed": true
   },
   "outputs": [],
   "source": [
    "#Crafts_ProblemAction(database)"
   ]
  },
  {
   "cell_type": "markdown",
   "metadata": {},
   "source": [
    "### Human Element per NLP Element per Calculated Time Element"
   ]
  },
  {
   "cell_type": "code",
   "execution_count": null,
   "metadata": {
    "collapsed": true
   },
   "outputs": [],
   "source": [
    "#MaintenanceTechnician_Item_WorkOrderCompletionTime(database)"
   ]
  },
  {
   "cell_type": "code",
   "execution_count": null,
   "metadata": {
    "collapsed": true
   },
   "outputs": [],
   "source": [
    "#MaintenanceTechnician_ProblemAction_WorkOrderCompletionTime(database)"
   ]
  },
  {
   "cell_type": "code",
   "execution_count": null,
   "metadata": {
    "collapsed": true
   },
   "outputs": [],
   "source": [
    "#MaintenanceTechnician_SolutionAction_WorkOrderCompletionTime(database)"
   ]
  },
  {
   "cell_type": "markdown",
   "metadata": {},
   "source": [
    "## Performance"
   ]
  },
  {
   "cell_type": "markdown",
   "metadata": {},
   "source": [
    "### Machine Element per Calculated Time Element"
   ]
  },
  {
   "cell_type": "code",
   "execution_count": null,
   "metadata": {
    "collapsed": true
   },
   "outputs": [],
   "source": [
    "#Machine_TimeBetweenWorkOrder(database)"
   ]
  },
  {
   "cell_type": "code",
   "execution_count": null,
   "metadata": {
    "collapsed": true
   },
   "outputs": [],
   "source": [
    "#MachineType_TimeBetweenWorkOrder(database)"
   ]
  },
  {
   "cell_type": "code",
   "execution_count": null,
   "metadata": {
    "collapsed": true
   },
   "outputs": [],
   "source": [
    "#Machine_WorkOrderCompletionTime(database)"
   ]
  },
  {
   "cell_type": "code",
   "execution_count": null,
   "metadata": {
    "collapsed": true
   },
   "outputs": [],
   "source": [
    "#MachineType_WorkOrderCompletionTime(database)"
   ]
  },
  {
   "cell_type": "markdown",
   "metadata": {},
   "source": [
    "### Machine Element per Calculated Time Element per NLP Element"
   ]
  },
  {
   "cell_type": "code",
   "execution_count": null,
   "metadata": {
    "collapsed": true
   },
   "outputs": [],
   "source": [
    "#Machine_TimeBetweenWorkOrder_Item(database)"
   ]
  },
  {
   "cell_type": "code",
   "execution_count": null,
   "metadata": {
    "collapsed": true
   },
   "outputs": [],
   "source": [
    "#Machine_TimeBetweenWorkOrder_ProblemAction(database)"
   ]
  },
  {
   "cell_type": "code",
   "execution_count": null,
   "metadata": {
    "collapsed": true
   },
   "outputs": [],
   "source": [
    "#Machine_TimeBetweenWorkOrder_SolutionAction(database)"
   ]
  },
  {
   "cell_type": "code",
   "execution_count": null,
   "metadata": {
    "collapsed": true
   },
   "outputs": [],
   "source": [
    "#Machine_WorkOrderCompletionTime_Item(database)"
   ]
  },
  {
   "cell_type": "code",
   "execution_count": null,
   "metadata": {
    "collapsed": true
   },
   "outputs": [],
   "source": [
    "#Machine_WorkOrderCompletionTime_ProblemAction(database)"
   ]
  },
  {
   "cell_type": "code",
   "execution_count": null,
   "metadata": {
    "collapsed": true
   },
   "outputs": [],
   "source": [
    "#Machine_WorkOrderCompletionTime_SolutionAction(database)"
   ]
  },
  {
   "cell_type": "code",
   "execution_count": null,
   "metadata": {
    "collapsed": true
   },
   "outputs": [],
   "source": [
    "#MachineType_TimeBetweenWorkOrder_Item(database)"
   ]
  },
  {
   "cell_type": "code",
   "execution_count": null,
   "metadata": {
    "collapsed": true
   },
   "outputs": [],
   "source": [
    "#MachineType_TimeBetweenWorkOrder_ProblemAction(database)"
   ]
  },
  {
   "cell_type": "code",
   "execution_count": null,
   "metadata": {
    "collapsed": true
   },
   "outputs": [],
   "source": [
    "#MachineType_TimeBetweenWorkOrder_SolutionAction(database)"
   ]
  },
  {
   "cell_type": "code",
   "execution_count": null,
   "metadata": {
    "collapsed": true
   },
   "outputs": [],
   "source": [
    "#MachineType_WorkOrderCompletionTime_Item(database)"
   ]
  },
  {
   "cell_type": "code",
   "execution_count": null,
   "metadata": {
    "collapsed": true
   },
   "outputs": [],
   "source": [
    "#MachineType_WorkOrderCompletionTime_ProblemAction(database)"
   ]
  },
  {
   "cell_type": "code",
   "execution_count": null,
   "metadata": {
    "collapsed": true
   },
   "outputs": [],
   "source": [
    "#MachineType_WorkOrderCompletionTime_SolutionAction(database)"
   ]
  },
  {
   "cell_type": "markdown",
   "metadata": {},
   "source": [
    "### Human Element per NLP Element"
   ]
  },
  {
   "cell_type": "code",
   "execution_count": null,
   "metadata": {
    "collapsed": true
   },
   "outputs": [],
   "source": [
    "#Operator_ProblemAction(database)"
   ]
  },
  {
   "cell_type": "code",
   "execution_count": null,
   "metadata": {
    "collapsed": true
   },
   "outputs": [],
   "source": [
    "#Operator_ProblemItem(database)"
   ]
  },
  {
   "cell_type": "markdown",
   "metadata": {},
   "source": [
    "### Human Element per NLP Element per Calculated Time Element"
   ]
  },
  {
   "cell_type": "code",
   "execution_count": null,
   "metadata": {
    "collapsed": true
   },
   "outputs": [],
   "source": [
    "#Operator_ProblemItem_WorkOrderCompletionTime(database)"
   ]
  },
  {
   "cell_type": "markdown",
   "metadata": {},
   "source": [
    "### NLP Element per Calculated Time Element"
   ]
  },
  {
   "cell_type": "code",
   "execution_count": null,
   "metadata": {
    "collapsed": true
   },
   "outputs": [],
   "source": [
    "#Item_TimeBetweenWorkOrder(database)"
   ]
  },
  {
   "cell_type": "code",
   "execution_count": null,
   "metadata": {
    "collapsed": true
   },
   "outputs": [],
   "source": [
    "#Item_WorkOrderCompletionTime(database)"
   ]
  },
  {
   "cell_type": "code",
   "execution_count": null,
   "metadata": {
    "collapsed": true
   },
   "outputs": [],
   "source": [
    "#ProblemAction_TimeBetweenWorkOrder(database)"
   ]
  },
  {
   "cell_type": "code",
   "execution_count": null,
   "metadata": {
    "collapsed": true
   },
   "outputs": [],
   "source": [
    "#ProblemAction_WorkOrderCompletionTime(database)"
   ]
  },
  {
   "cell_type": "code",
   "execution_count": null,
   "metadata": {
    "collapsed": true
   },
   "outputs": [],
   "source": [
    "#SolutionAction_WorkOrderCompletionTime(database)"
   ]
  },
  {
   "cell_type": "code",
   "execution_count": null,
   "metadata": {
    "collapsed": true
   },
   "outputs": [],
   "source": [
    "#SolutionAction_TimeBetweenWorkOrder(database)"
   ]
  },
  {
   "cell_type": "markdown",
   "metadata": {},
   "source": [
    "## Add by Sascha"
   ]
  },
  {
   "cell_type": "markdown",
   "metadata": {},
   "source": [
    "### monthly number of issue of machine during time"
   ]
  },
  {
   "cell_type": "code",
   "execution_count": null,
   "metadata": {
    "collapsed": true
   },
   "outputs": [],
   "source": [
    "varDate = \"date\"\n",
    "varMachine = \"machine\"\n",
    "varCount = \"count\"\n",
    "\n",
    "Dataframe = DateMonth_Machine(database, varDate, varMachine)\n",
    "\n",
    "data = Dataframe.set_index(varDate)\n",
    "data = data.resample(\"m\").machine.value_counts().reset_index(name=varCount)\n",
    "\n",
    "top_mach = data.groupby(varMachine).mean().sort_values(varCount, ascending=False).index[:5].tolist()\n",
    "g = sns.FacetGrid(data[data.machine.isin(top_mach)], hue=varMachine, size=3, aspect=5)\n",
    "g.map(plt.plot, varDate, varCount, marker='o').add_legend()"
   ]
  },
  {
   "cell_type": "markdown",
   "metadata": {},
   "source": [
    "# TEST"
   ]
  },
  {
   "cell_type": "code",
   "execution_count": 8,
   "metadata": {},
   "outputs": [
    {
     "name": "stderr",
     "output_type": "stream",
     "text": [
      "/Users/sam11/anaconda3/lib/python3.6/site-packages/ipykernel_launcher.py:41: SettingWithCopyWarning: \n",
      "A value is trying to be set on a copy of a slice from a DataFrame.\n",
      "Try using .loc[row_indexer,col_indexer] = value instead\n",
      "\n",
      "See the caveats in the documentation: http://pandas.pydata.org/pandas-docs/stable/indexing.html#indexing-view-versus-copy\n"
     ]
    },
    {
     "data": {
      "text/plain": [
       "[Text(0,0.5,'Avereage WorkOrderCompletionTime'),\n",
       " Text(0.5,0,'Machine'),\n",
       " Text(0.5,1,\"Avereage WorkOrderCompletionTime by ['Lyle Cookson'] per machine\")]"
      ]
     },
     "execution_count": 8,
     "metadata": {},
     "output_type": "execute_result"
    },
    {
     "data": {
      "image/png": "[encoded data removed]",
      "text/plain": [
       "<matplotlib.figure.Figure at 0x105305198>"
      ]
     },
     "metadata": {},
     "output_type": "display_data"
    }
   ],
   "source": [
    "%matplotlib inline\n",
    "\n",
    "import sys\n",
    "import matplotlib.pyplot as plt\n",
    "import matplotlib.pylab as pylab\n",
    "import seaborn as sns\n",
    "import os\n",
    "import inspect\n",
    "\n",
    "project_path = os.path.abspath( os.path.dirname(os.path.abspath(inspect.getfile(inspect.currentframe()))) + \"/../\")\n",
    "sys.path.insert(0, project_path)\n",
    "\n",
    "from Program.Objects.Human import *\n",
    "from Program.Objects.Issue import *\n",
    "from Program.Objects.Machine import *\n",
    "from Program.Objects.MaintenanceWorkOrder import *\n",
    "from Program.Objects.Tag import *\n",
    "\n",
    "from Program.Database.Database_Properties import *\n",
    "from Program.Database.Database import *\n",
    "from Program.Database.Main import *\n",
    "\n",
    "from Program.KPI.KPI import *\n",
    "from Program.KPI.Plot import *\n",
    "\n",
    "from Program.Others.MyDate import *\n",
    "\n",
    "pylab.rcParams['figure.figsize'] = 16, 20\n",
    "\n",
    "\n",
    "database = DatabaseNeo4J(\"bolt://127.0.0.1:7687\", \"neo4j\", \"GREYSTONE!!\")\n",
    "\n",
    "varTechnician = \"technician\"\n",
    "varMachine = \"machine\"\n",
    "varTime = \"completion_time\"\n",
    "varCount = \"count\"\n",
    "varAVG = \"avereage\"\n",
    "\n",
    "Dataframe = MaintenanceTechnician_Machine_WorkOrderCompletionTime(database, varTechnician, varMachine,varTime)\n",
    "data = Dataframe[pd.notnull(Dataframe[varTime])]\n",
    "data[varCount]=1\n",
    "data = data.groupby([\"machine\", \"technician\"]).sum().reset_index()\n",
    "data[varAVG] = data[varTime]/data[varCount]\n",
    "\n",
    "\"\"\" avereage time spend for Technician in every Machine\"\"\"\n",
    "\n",
    "filter = [\"Lyle Cookson\"]\n",
    "data=data[(data[\"technician\"].isin(filter))].sort_values(by=[varAVG], ascending=False)\n",
    "ax = sns.barplot(y=varAVG, x=varMachine,  data=data)\n",
    "ax.set(xlabel='Machine', ylabel='Avereage WorkOrderCompletionTime', title='Avereage WorkOrderCompletionTime by %s per machine'%(filter) )"
   ]
  },
  {
   "cell_type": "code",
   "execution_count": 2,
   "metadata": {},
   "outputs": [
    {
     "data": {
      "image/png": "[encoded data removed]",
      "text/plain": [
       "<matplotlib.figure.Figure at 0x1053cc668>"
      ]
     },
     "metadata": {},
     "output_type": "display_data"
    }
   ],
   "source": []
  },
  {
   "cell_type": "code",
   "execution_count": null,
   "metadata": {},
   "outputs": [],
   "source": [
    "data.technician[\"Jon Cousineau\"]"
   ]
  },
  {
   "cell_type": "code",
   "execution_count": null,
   "metadata": {},
   "outputs": [],
   "source": [
    "project_path = os.path.abspath( os.path.dirname(os.path.abspath(inspect.getfile(inspect.currentframe()))) + \"/../\")\n",
    "project_path+= \"/test.csv\"\n",
    "data.to_csv(project_path)"
   ]
  },
  {
   "cell_type": "code",
   "execution_count": null,
   "metadata": {},
   "outputs": [],
   "source": [
    "print(project_path)"
   ]
  },
  {
   "cell_type": "code",
   "execution_count": null,
   "metadata": {},
   "outputs": [],
   "source": [
    "data['count']=1"
   ]
  },
  {
   "cell_type": "code",
   "execution_count": null,
   "metadata": {},
   "outputs": [],
   "source": [
    "data1 = data.groupby([\"machine\", \"technician\"]).sum()"
   ]
  },
  {
   "cell_type": "code",
   "execution_count": null,
   "metadata": {},
   "outputs": [],
   "source": [
    "data1[[\"machine\", \"technician\"]].shape[0]"
   ]
  },
  {
   "cell_type": "code",
   "execution_count": null,
   "metadata": {},
   "outputs": [],
   "source": [
    "data1\n"
   ]
  },
  {
   "cell_type": "code",
   "execution_count": null,
   "metadata": {
    "collapsed": true
   },
   "outputs": [],
   "source": []
  }
 ],
 "metadata": {
  "kernelspec": {
   "display_name": "Python 3",
   "language": "python",
   "name": "python3"
  },
  "language_info": {
   "codemirror_mode": {
    "name": "ipython",
    "version": 3
   },
   "file_extension": ".py",
   "mimetype": "text/x-python",
   "name": "python",
   "nbconvert_exporter": "python",
   "pygments_lexer": "ipython3",
   "version": "3.6.3"
  }
 },
 "nbformat": 4,
 "nbformat_minor": 2
}

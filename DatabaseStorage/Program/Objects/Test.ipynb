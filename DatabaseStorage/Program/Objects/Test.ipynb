{
 "cells": [
  {
   "cell_type": "code",
   "execution_count": null,
   "metadata": {},
   "outputs": [],
   "source": [
    "import sys\n",
    "sys.path.insert(0, '/Users/sam11/Git/ml-py/DatabaseStorage')\n",
    "from Program.Objects.Human import *\n",
    "from Program.Objects.Issue import *\n",
    "from Program.Objects.Machine import *\n",
    "from Program.Objects.MaintenanceWorkOrder import *\n",
    "from Program.Objects.Tag import *\n",
    "\n",
    "from Program.Database.Database_Properties import *"
   ]
  },
  {
   "cell_type": "markdown",
   "metadata": {},
   "source": [
    "# PRINT CYPHER"
   ]
  },
  {
   "cell_type": "markdown",
   "metadata": {},
   "source": [
    "# Human"
   ]
  },
  {
   "cell_type": "code",
   "execution_count": 4,
   "metadata": {},
   "outputs": [
    {
     "name": "stdout",
     "output_type": "stream",
     "text": [
      "(var :HUMAN :OPERATOR {name:\"onlyName\"})\n",
      "(var1 :HUMAN :TECHNICIAN {name:\"name and one skills and crafts\", skills:[\"skills\"], crafts:[\"craft\"]})\n",
      "(var2 :HUMAN :OPERATOR {name:\"name and multiple skills and crafts\", skills:[\"skills1\",\"skills2\",\"skills3\"], crafts:[\"craft1\",\"craft2\"]})\n"
     ]
    }
   ],
   "source": [
    "h1=Human(\"onlyName\")\n",
    "h2=Human(\"name and one skills and crafts\", \"skills\", [\"craft\"])\n",
    "h3=Human(\"name and multiple skills and crafts\", [\"skills1\",\"skills2\", \"skills3\"], [\"craft1\", \"craft2\"])\n",
    "\n",
    "print(h1.toCypher(\"var\", NodeHuman.LABEL_OPERATOR))\n",
    "print(h2.toCypher(\"var1\", NodeHuman.LABEL_TECHNICIAN))\n",
    "print(h3.toCypher(\"var2\", NodeHuman.LABEL_OPERATOR))"
   ]
  },
  {
   "cell_type": "code",
   "execution_count": 6,
   "metadata": {},
   "outputs": [
    {
     "name": "stdout",
     "output_type": "stream",
     "text": [
      "(var1 :HUMAN {name: \"onlyName\"})\n",
      "(var1 :HUMAN {name: \"onlyName\"})\n",
      "(var1 :HUMAN {name: \"onlyName\"})\n",
      "(var2 :HUMAN {name: \"name and one skills and crafts\"})\n",
      "(var2 :HUMAN {name: \"name and one skills and crafts\"})\n",
      "(var2 :HUMAN {name: \"name and one skills and crafts\"})\n",
      "(var3 :HUMAN {name: \"name and multiple skills and crafts\"})\n",
      "(var3 :HUMAN {name: \"name and multiple skills and crafts\"})\n",
      "(var3 :HUMAN {name: \"name and multiple skills and crafts\"})\n",
      "\n",
      "SET var1 :TECHNICIAN\n",
      "\n",
      "SET var2 :OPERATOR\n",
      "FOREACH(x in CASE WHEN \"skills\" in var2.skills THEN [] ELSE [1] END |  SET var2.skills = coalesce(var2.skills,[]) + \"skills\" )\n",
      "FOREACH(x in CASE WHEN \"craft\" in var2.crafts THEN [] ELSE [1] END |  SET var2.crafts = coalesce(var2.crafts,[]) + \"craft\" )\n",
      "\n",
      "SET var3 :OPERATOR\n",
      "FOREACH(x in CASE WHEN \"skills1\" in var3.skills THEN [] ELSE [1] END |  SET var3.skills = coalesce(var3.skills,[]) + \"skills1\" )\n",
      "FOREACH(x in CASE WHEN \"skills2\" in var3.skills THEN [] ELSE [1] END |  SET var3.skills = coalesce(var3.skills,[]) + \"skills2\" )\n",
      "FOREACH(x in CASE WHEN \"skills3\" in var3.skills THEN [] ELSE [1] END |  SET var3.skills = coalesce(var3.skills,[]) + \"skills3\" )\n",
      "FOREACH(x in CASE WHEN \"craft1\" in var3.crafts THEN [] ELSE [1] END |  SET var3.crafts = coalesce(var3.crafts,[]) + \"craft1\" )\n",
      "FOREACH(x in CASE WHEN \"craft2\" in var3.crafts THEN [] ELSE [1] END |  SET var3.crafts = coalesce(var3.crafts,[]) + \"craft2\" )\n"
     ]
    }
   ],
   "source": [
    "h1=Human(\"onlyName\")\n",
    "h2=Human(\"name and one skills and crafts\", \"skills\", [\"craft\"])\n",
    "h3=Human(\"name and multiple skills and crafts\", [\"skills1\",\"skills2\", \"skills3\"], [\"craft1\", \"craft2\"])\n",
    "\n",
    "print(h1.toCypherName(\"var1\"))\n",
    "print(h1.toCypherName(\"var1\"))\n",
    "print(h1.toCypherName(\"var1\"))\n",
    "print(h2.toCypherName(\"var2\"))\n",
    "print(h2.toCypherName(\"var2\"))\n",
    "print(h2.toCypherName(\"var2\"))\n",
    "print(h3.toCypherName(\"var3\"))\n",
    "print(h3.toCypherName(\"var3\"))\n",
    "print(h3.toCypherName(\"var3\"))\n",
    "\n",
    "print(h1.toCypherUpdate(\"var1\", NodeHuman.LABEL_TECHNICIAN))\n",
    "print(h2.toCypherUpdate(\"var2\", NodeHuman.LABEL_OPERATOR))\n",
    "print(h3.toCypherUpdate(\"var3\", NodeHuman.LABEL_OPERATOR))"
   ]
  },
  {
   "cell_type": "markdown",
   "metadata": {},
   "source": [
    "## Machine"
   ]
  },
  {
   "cell_type": "code",
   "execution_count": 7,
   "metadata": {},
   "outputs": [
    {
     "name": "stdout",
     "output_type": "stream",
     "text": [
      "(var :MACHINE {name: \"only name\"})\n",
      "(var2 :MACHINE {name: \"All\", manufacturer: \"man1\", locasion: \"loc1\"})\n",
      "\n",
      "(var2 :MACHINE_TYPE {type: \"t1\"})\n"
     ]
    }
   ],
   "source": [
    "m1=Machine(\"only name\")\n",
    "m2=Machine(\"All\", \"man1\",\"loc1\", \"t1\")\n",
    "\n",
    "print(m1.toCypher(\"var\"))\n",
    "print(m2.toCypher(\"var2\"))\n",
    "\n",
    "print(m1.toCypherType(\"var\"))\n",
    "print(m2.toCypherType(\"var2\"))"
   ]
  },
  {
   "cell_type": "code",
   "execution_count": 8,
   "metadata": {},
   "outputs": [
    {
     "name": "stdout",
     "output_type": "stream",
     "text": [
      "(var1 :MACHINE {name: \"only name\"})\n",
      "\n",
      "(var2 :MACHINE {name: \"All\"})\n",
      "SET var2.manufacturer=\"man1\",var2.locasion=\"loc1\"\n"
     ]
    }
   ],
   "source": [
    "m1=Machine(\"only name\")\n",
    "m2=Machine(\"All\", \"man1\",\"loc1\", \"t1\")\n",
    "\n",
    "print(m1.toCypherName(\"var1\"))\n",
    "print(m1.toCypherUpdate(\"var1\"))\n",
    "\n",
    "print(m2.toCypherName(\"var2\"))\n",
    "print(m2.toCypherUpdate(\"var2\"))"
   ]
  },
  {
   "cell_type": "markdown",
   "metadata": {},
   "source": [
    "## Tag"
   ]
  },
  {
   "cell_type": "code",
   "execution_count": 9,
   "metadata": {},
   "outputs": [
    {
     "name": "stdout",
     "output_type": "stream",
     "text": [
      "(var :TAG :ITEM {keyword: \"keyword\"})\n",
      "(var :TAG :ACTION {keyword: \"keyword\"})\n"
     ]
    }
   ],
   "source": [
    "t1=Tag(\"keyword\")\n",
    "\n",
    "print(t1.toCypher(\"var\", NodeTag.LABEL_ITEM))\n",
    "print(t1.toCypher(\"var\", NodeTag.LABEL_ACTION))"
   ]
  },
  {
   "cell_type": "markdown",
   "metadata": {},
   "source": [
    "## Issue"
   ]
  },
  {
   "cell_type": "code",
   "execution_count": 12,
   "metadata": {},
   "outputs": [
    {
     "name": "stdout",
     "output_type": "stream",
     "text": [
      "(var :ISSUE {description_of_problem: \"problem\", description_of_solution: \"solution\"})\n",
      "(var :ISSUE {description_of_problem: \"problem\", description_of_solution: \"solution\", description_of_cause: \"cause\", description_of_effect: \"effects\", part_in_process: \"part in process\", necessary_part: \"part needed\", machine_down: True})\n",
      "(var :ISSUE {description_of_problem: \"problem\", description_of_solution: \"solution\"})\n"
     ]
    }
   ],
   "source": [
    "i1=Issue(\"problem\", \"solution\")\n",
    "i2=Issue(problem=\"problem\",solution=\"solution\",cause=\"cause\",effects=\"effects\", part_in_process=\"part in process\", necessary_part=\"part needed\", machine_down=\"t\", date_machine_up=\"10\", date_machine_down=\"11\", date_maintenance_work_order_issue=\"12\", date_maintenance_work_order_close=\"13\",date_maintenance_technician_arrives=\"14\",date_problem_solved=\"15\",date_problem_found=\"16\",date_part_ordered=\"17\", date_maintenance_technician_begin_repair_problem=\"18\")\n",
    "i3=Issue(problem=\"problem\",solution=\"solution\",date_machine_down=\"11\", date_maintenance_work_order_issue=\"12\", date_maintenance_work_order_close=\"13\",date_maintenance_technician_arrives=\"14\")\n",
    "\n",
    "print(i1.toCypher(\"var\"))\n",
    "print(i2.toCypher(\"var\"))\n",
    "print(i3.toCypher(\"var\"))"
   ]
  },
  {
   "cell_type": "code",
   "execution_count": 14,
   "metadata": {},
   "outputs": [
    {
     "name": "stdout",
     "output_type": "stream",
     "text": [
      "(var1 :ISSUE {description_of_problem: \"problem\", description_of_solution: \"solution\"})\n",
      "(var2 :ISSUE {description_of_problem: \"problem\", description_of_solution: \"solution\"})\n",
      "(var3 :ISSUE {description_of_problem: \"problem\", description_of_solution: \"solution\"})\n",
      "\n",
      "SET var2.description_of_cause=\"cause\",var2.description_of_effect=\"effects\",var2.part_in_process=\"part in process\",var2.necessary_part=\"part needed\",var2.machine_down=True\n",
      "\n"
     ]
    }
   ],
   "source": [
    "i1=Issue(\"problem\", \"solution\")\n",
    "i2=Issue(problem=\"problem\",solution=\"solution\",cause=\"cause\",effects=\"effects\", part_in_process=\"part in process\", necessary_part=\"part needed\", machine_down=\"t\", date_machine_up=\"10\", date_machine_down=\"11\", date_maintenance_work_order_issue=\"12\", date_maintenance_work_order_close=\"13\",date_maintenance_technician_arrives=\"14\",date_problem_solved=\"15\",date_problem_found=\"16\",date_part_ordered=\"17\", date_maintenance_technician_begin_repair_problem=\"18\")\n",
    "i3=Issue(problem=\"problem\",solution=\"solution\",date_machine_down=\"11\", date_maintenance_work_order_issue=\"12\", date_maintenance_work_order_close=\"13\",date_maintenance_technician_arrives=\"14\")\n",
    "\n",
    "print(i1.toCypherDescription(\"var1\"))\n",
    "print(i2.toCypherDescription(\"var2\"))\n",
    "print(i3.toCypherDescription(\"var3\"))\n",
    "\n",
    "print(i1.toCypherUpdate(\"var1\"))\n",
    "print(i2.toCypherUpdate(\"var2\"))\n",
    "print(i3.toCypherUpdate(\"var3\"))"
   ]
  },
  {
   "cell_type": "markdown",
   "metadata": {},
   "source": [
    "## MaintenanceWorkOrder"
   ]
  },
  {
   "cell_type": "code",
   "execution_count": 15,
   "metadata": {},
   "outputs": [
    {
     "name": "stdout",
     "output_type": "stream",
     "text": [
      "CREATE (varissue :ISSUE {description_of_problem: \"problem\", description_of_solution: \"solution\"})\n",
      " \n",
      "\n",
      "MERGE (varMachine :MACHINE {name: \"only name\"})\n",
      "  \n",
      "MERGE(varissue)-[:COVERED]->(varMachine)\n",
      "\n",
      "MERGE (varOperator0 :HUMAN {name: \"onlyName\"})\n",
      "\n",
      "SET varOperator0 :OPERATOR\n",
      "MERGE (varissue)-[:REQUESTED_BY]->(varOperator0)\n",
      "\n",
      "MERGE (varTechnician0 :HUMAN {name: \"onlyName\"})\n",
      "\n",
      "SET varTechnician0 :TECHNICIAN\n",
      "MERGE (varissue)-[:SOLVE_BY]->(varTechnician0)\n",
      "\n",
      "MERGE (varItem0 :TAG :ITEM {keyword: \"keyword\"})\n",
      "MERGE (varissue)-[:CONTAINS]->(varItem0)\n",
      "\n",
      "MERGE (varProblem0 :TAG :ACTION {keyword: \"keyword\"})\n",
      "MERGE (varissue)-[:PROBLEM]->(varProblem0)\n",
      "\n",
      "MERGE (varSolution0 :TAG :ACTION {keyword: \"keyword\"})\n",
      "MERGE (varissue)-[:SOLUTION]->(varSolution0)\n",
      "CREATE (varissue :ISSUE {description_of_problem: \"problem\", description_of_solution: \"solution\"})\n",
      " SET varissue.description_of_cause=\"cause\",varissue.description_of_effect=\"effects\",varissue.part_in_process=\"part in process\",varissue.necessary_part=\"part needed\",varissue.machine_down=True\n",
      "\n",
      "MERGE (varMachine :MACHINE {name: \"All\"})\n",
      " SET varMachine.manufacturer=\"man1\",varMachine.locasion=\"loc1\" \n",
      "MERGE(varissue)-[:COVERED]->(varMachine)\n",
      "\n",
      "MERGE (varMachinetype :MACHINE_TYPE {type: \"t1\"})\n",
      "MERGE (varMachine)-[:IS_A]->(varMachinetype)\n",
      "\n",
      "MERGE (varOperator0 :HUMAN {name: \"name and one skills and crafts\"})\n",
      "\n",
      "SET varOperator0 :OPERATOR\n",
      "FOREACH(x in CASE WHEN \"skills\" in varOperator0.skills THEN [] ELSE [1] END |  SET varOperator0.skills = coalesce(varOperator0.skills,[]) + \"skills\" )\n",
      "FOREACH(x in CASE WHEN \"craft\" in varOperator0.crafts THEN [] ELSE [1] END |  SET varOperator0.crafts = coalesce(varOperator0.crafts,[]) + \"craft\" )\n",
      "MERGE (varissue)-[:REQUESTED_BY]->(varOperator0)\n",
      "\n",
      "MERGE (varTechnician0 :HUMAN {name: \"name and one skills and crafts\"})\n",
      "\n",
      "SET varTechnician0 :TECHNICIAN\n",
      "FOREACH(x in CASE WHEN \"skills\" in varTechnician0.skills THEN [] ELSE [1] END |  SET varTechnician0.skills = coalesce(varTechnician0.skills,[]) + \"skills\" )\n",
      "FOREACH(x in CASE WHEN \"craft\" in varTechnician0.crafts THEN [] ELSE [1] END |  SET varTechnician0.crafts = coalesce(varTechnician0.crafts,[]) + \"craft\" )\n",
      "MERGE (varissue)-[:SOLVE_BY]->(varTechnician0)\n",
      "\n",
      "MERGE (varItem0 :TAG :ITEM {keyword: \"keyword\"})\n",
      "MERGE (varissue)-[:CONTAINS]->(varItem0)\n",
      "\n",
      "MERGE (varProblem0 :TAG :ACTION {keyword: \"keyword\"})\n",
      "MERGE (varissue)-[:PROBLEM]->(varProblem0)\n",
      "\n",
      "MERGE (varSolution0 :TAG :ACTION {keyword: \"keyword\"})\n",
      "MERGE (varissue)-[:SOLUTION]->(varSolution0)\n",
      "CREATE (varissue :ISSUE {description_of_problem: \"problem\", description_of_solution: \"solution\"})\n",
      " \n",
      "\n",
      "MERGE (varMachine :MACHINE {name: \"All\"})\n",
      " SET varMachine.manufacturer=\"man1\",varMachine.locasion=\"loc1\" \n",
      "MERGE(varissue)-[:COVERED]->(varMachine)\n",
      "\n",
      "MERGE (varMachinetype :MACHINE_TYPE {type: \"t1\"})\n",
      "MERGE (varMachine)-[:IS_A]->(varMachinetype)\n",
      "\n",
      "MERGE (varOperator0 :HUMAN {name: \"name and multiple skills and crafts\"})\n",
      "\n",
      "SET varOperator0 :OPERATOR\n",
      "FOREACH(x in CASE WHEN \"skills1\" in varOperator0.skills THEN [] ELSE [1] END |  SET varOperator0.skills = coalesce(varOperator0.skills,[]) + \"skills1\" )\n",
      "FOREACH(x in CASE WHEN \"skills2\" in varOperator0.skills THEN [] ELSE [1] END |  SET varOperator0.skills = coalesce(varOperator0.skills,[]) + \"skills2\" )\n",
      "FOREACH(x in CASE WHEN \"skills3\" in varOperator0.skills THEN [] ELSE [1] END |  SET varOperator0.skills = coalesce(varOperator0.skills,[]) + \"skills3\" )\n",
      "FOREACH(x in CASE WHEN \"craft1\" in varOperator0.crafts THEN [] ELSE [1] END |  SET varOperator0.crafts = coalesce(varOperator0.crafts,[]) + \"craft1\" )\n",
      "FOREACH(x in CASE WHEN \"craft2\" in varOperator0.crafts THEN [] ELSE [1] END |  SET varOperator0.crafts = coalesce(varOperator0.crafts,[]) + \"craft2\" )\n",
      "MERGE (varissue)-[:REQUESTED_BY]->(varOperator0)\n",
      "\n",
      "MERGE (varTechnician0 :HUMAN {name: \"name and one skills and crafts\"})\n",
      "\n",
      "SET varTechnician0 :TECHNICIAN\n",
      "FOREACH(x in CASE WHEN \"skills\" in varTechnician0.skills THEN [] ELSE [1] END |  SET varTechnician0.skills = coalesce(varTechnician0.skills,[]) + \"skills\" )\n",
      "FOREACH(x in CASE WHEN \"craft\" in varTechnician0.crafts THEN [] ELSE [1] END |  SET varTechnician0.crafts = coalesce(varTechnician0.crafts,[]) + \"craft\" )\n",
      "MERGE (varissue)-[:SOLVE_BY]->(varTechnician0)\n",
      "\n",
      "MERGE (varItem0 :TAG :ITEM {keyword: \"keyword\"})\n",
      "MERGE (varissue)-[:CONTAINS]->(varItem0)\n",
      "\n",
      "MERGE (varProblem0 :TAG :ACTION {keyword: \"keyword\"})\n",
      "MERGE (varissue)-[:PROBLEM]->(varProblem0)\n",
      "\n",
      "MERGE (varSolution0 :TAG :ACTION {keyword: \"keyword\"})\n",
      "MERGE (varissue)-[:SOLUTION]->(varSolution0)\n",
      "CREATE (varissue :ISSUE {description_of_problem: \"problem\", description_of_solution: \"solution\"})\n",
      " \n",
      "\n",
      "MERGE (varMachine :MACHINE {name: \"All\"})\n",
      " SET varMachine.manufacturer=\"man1\",varMachine.locasion=\"loc1\" \n",
      "MERGE(varissue)-[:COVERED]->(varMachine)\n",
      "\n",
      "MERGE (varMachinetype :MACHINE_TYPE {type: \"t1\"})\n",
      "MERGE (varMachine)-[:IS_A]->(varMachinetype)\n",
      "\n",
      "MERGE (varOperator0 :HUMAN {name: \"name and multiple skills and crafts\"})\n",
      "\n",
      "SET varOperator0 :OPERATOR\n",
      "FOREACH(x in CASE WHEN \"skills1\" in varOperator0.skills THEN [] ELSE [1] END |  SET varOperator0.skills = coalesce(varOperator0.skills,[]) + \"skills1\" )\n",
      "FOREACH(x in CASE WHEN \"skills2\" in varOperator0.skills THEN [] ELSE [1] END |  SET varOperator0.skills = coalesce(varOperator0.skills,[]) + \"skills2\" )\n",
      "FOREACH(x in CASE WHEN \"skills3\" in varOperator0.skills THEN [] ELSE [1] END |  SET varOperator0.skills = coalesce(varOperator0.skills,[]) + \"skills3\" )\n",
      "FOREACH(x in CASE WHEN \"craft1\" in varOperator0.crafts THEN [] ELSE [1] END |  SET varOperator0.crafts = coalesce(varOperator0.crafts,[]) + \"craft1\" )\n",
      "FOREACH(x in CASE WHEN \"craft2\" in varOperator0.crafts THEN [] ELSE [1] END |  SET varOperator0.crafts = coalesce(varOperator0.crafts,[]) + \"craft2\" )\n",
      "MERGE (varissue)-[:REQUESTED_BY]->(varOperator0)\n",
      "\n",
      "MERGE (varOperator1 :HUMAN {name: \"name and one skills and crafts\"})\n",
      "\n",
      "SET varOperator1 :OPERATOR\n",
      "FOREACH(x in CASE WHEN \"skills\" in varOperator1.skills THEN [] ELSE [1] END |  SET varOperator1.skills = coalesce(varOperator1.skills,[]) + \"skills\" )\n",
      "FOREACH(x in CASE WHEN \"craft\" in varOperator1.crafts THEN [] ELSE [1] END |  SET varOperator1.crafts = coalesce(varOperator1.crafts,[]) + \"craft\" )\n",
      "MERGE (varissue)-[:REQUESTED_BY]->(varOperator1)\n",
      "\n",
      "MERGE (varOperator2 :HUMAN {name: \"onlyName\"})\n",
      "\n",
      "SET varOperator2 :OPERATOR\n",
      "MERGE (varissue)-[:REQUESTED_BY]->(varOperator2)\n",
      "\n",
      "MERGE (varTechnician0 :HUMAN {name: \"name and multiple skills and crafts\"})\n",
      "\n",
      "SET varTechnician0 :TECHNICIAN\n",
      "FOREACH(x in CASE WHEN \"skills1\" in varTechnician0.skills THEN [] ELSE [1] END |  SET varTechnician0.skills = coalesce(varTechnician0.skills,[]) + \"skills1\" )\n",
      "FOREACH(x in CASE WHEN \"skills2\" in varTechnician0.skills THEN [] ELSE [1] END |  SET varTechnician0.skills = coalesce(varTechnician0.skills,[]) + \"skills2\" )\n",
      "FOREACH(x in CASE WHEN \"skills3\" in varTechnician0.skills THEN [] ELSE [1] END |  SET varTechnician0.skills = coalesce(varTechnician0.skills,[]) + \"skills3\" )\n",
      "FOREACH(x in CASE WHEN \"craft1\" in varTechnician0.crafts THEN [] ELSE [1] END |  SET varTechnician0.crafts = coalesce(varTechnician0.crafts,[]) + \"craft1\" )\n",
      "FOREACH(x in CASE WHEN \"craft2\" in varTechnician0.crafts THEN [] ELSE [1] END |  SET varTechnician0.crafts = coalesce(varTechnician0.crafts,[]) + \"craft2\" )\n",
      "MERGE (varissue)-[:SOLVE_BY]->(varTechnician0)\n",
      "\n",
      "MERGE (varTechnician1 :HUMAN {name: \"name and one skills and crafts\"})\n",
      "\n",
      "SET varTechnician1 :TECHNICIAN\n",
      "FOREACH(x in CASE WHEN \"skills\" in varTechnician1.skills THEN [] ELSE [1] END |  SET varTechnician1.skills = coalesce(varTechnician1.skills,[]) + \"skills\" )\n",
      "FOREACH(x in CASE WHEN \"craft\" in varTechnician1.crafts THEN [] ELSE [1] END |  SET varTechnician1.crafts = coalesce(varTechnician1.crafts,[]) + \"craft\" )\n",
      "MERGE (varissue)-[:SOLVE_BY]->(varTechnician1)\n",
      "\n",
      "MERGE (varTechnician2 :HUMAN {name: \"onlyName\"})\n",
      "\n",
      "SET varTechnician2 :TECHNICIAN\n",
      "MERGE (varissue)-[:SOLVE_BY]->(varTechnician2)\n",
      "\n",
      "MERGE (varItem0 :TAG :ITEM {keyword: \"keyword\"})\n",
      "MERGE (varissue)-[:CONTAINS]->(varItem0)\n",
      "\n",
      "MERGE (varItem1 :TAG :ITEM {keyword: \"keyword\"})\n",
      "MERGE (varissue)-[:CONTAINS]->(varItem1)\n",
      "\n",
      "MERGE (varItem2 :TAG :ITEM {keyword: \"keyword\"})\n",
      "MERGE (varissue)-[:CONTAINS]->(varItem2)\n",
      "\n",
      "MERGE (varProblem0 :TAG :ACTION {keyword: \"keyword\"})\n",
      "MERGE (varissue)-[:PROBLEM]->(varProblem0)\n",
      "\n",
      "MERGE (varSolution0 :TAG :ACTION {keyword: \"keyword\"})\n",
      "MERGE (varissue)-[:SOLUTION]->(varSolution0)\n",
      "\n",
      "MERGE (varSolution1 :TAG :ACTION {keyword: \"keyword\"})\n",
      "MERGE (varissue)-[:SOLUTION]->(varSolution1)\n"
     ]
    }
   ],
   "source": [
    "W1=MaintenanceWorkOrder(issue = i1, machine = m1, operators = h1, technicians = h1, itemtags = t1, problemtags = t1, solutiontags = t1) \n",
    "W2=MaintenanceWorkOrder(issue = i2, machine = m2, operators = h2, technicians = h2, itemtags = t1, problemtags = t1, solutiontags = t1) \n",
    "W3=MaintenanceWorkOrder(issue = i3, machine = m2, operators = h3, technicians = h2, itemtags = t1, problemtags = t1, solutiontags = t1) \n",
    "\n",
    "W4=MaintenanceWorkOrder(issue = i3, machine = m2, operators = [h3,h2,h1], technicians = [h3,h2,h1], itemtags = [t1,t1,t1], problemtags = t1, solutiontags = [t1,t1]) \n",
    "\n",
    "print(W1.create_database(\"varissue\", \"varMachine\", \"varMachinetype\", \"varOperator\", \"varTechnician\", \"varItem\", \"varProblem\", \"varSolution\"))\n",
    "print(W2.create_database(\"varissue\", \"varMachine\", \"varMachinetype\", \"varOperator\", \"varTechnician\", \"varItem\", \"varProblem\", \"varSolution\"))\n",
    "print(W3.create_database(\"varissue\", \"varMachine\", \"varMachinetype\", \"varOperator\", \"varTechnician\", \"varItem\", \"varProblem\", \"varSolution\"))\n",
    "\n",
    "print(W4.create_database(\"varissue\", \"varMachine\", \"varMachinetype\", \"varOperator\", \"varTechnician\", \"varItem\", \"varProblem\", \"varSolution\"))"
   ]
  },
  {
   "cell_type": "code",
   "execution_count": null,
   "metadata": {},
   "outputs": [],
   "source": []
  }
 ],
 "metadata": {
  "kernelspec": {
   "display_name": "Python 3",
   "language": "python",
   "name": "python3"
  },
  "language_info": {
   "codemirror_mode": {
    "name": "ipython",
    "version": 3
   },
   "file_extension": ".py",
   "mimetype": "text/x-python",
   "name": "python",
   "nbconvert_exporter": "python",
   "pygments_lexer": "ipython3",
   "version": "3.6.3"
  }
 },
 "nbformat": 4,
 "nbformat_minor": 2
}

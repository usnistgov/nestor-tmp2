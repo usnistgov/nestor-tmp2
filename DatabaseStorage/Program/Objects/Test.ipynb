{
 "cells": [
  {
   "cell_type": "code",
   "execution_count": 1,
   "metadata": {
    "collapsed": true
   },
   "outputs": [],
   "source": [
    "import sys\n",
    "sys.path.insert(0, '/Users/sam11/Git/ml-py/DatabaseStorage')\n",
    "from Program.Objects.Human import *\n",
    "from Program.Objects.Issue import *\n",
    "from Program.Objects.Machine import *\n",
    "from Program.Objects.MaintenanceWorkOrder import *\n",
    "from Program.Objects.Tag import *\n",
    "\n",
    "from Program.Database.Database_Properties import *"
   ]
  },
  {
   "cell_type": "markdown",
   "metadata": {},
   "source": [
    "# PRINT CYPHER"
   ]
  },
  {
   "cell_type": "markdown",
   "metadata": {},
   "source": [
    "# Human"
   ]
  },
  {
   "cell_type": "code",
   "execution_count": null,
   "metadata": {
    "collapsed": true
   },
   "outputs": [],
   "source": [
    "h1=Human(\"onlyName\")\n",
    "h2=Human(\"name and one skills and crafts\", \"skills\", [\"craft\"])\n",
    "h3=Human(\"name and multiple skills and crafts\", [\"skills1\",\"skills2\", \"skills3\"], [\"craft1\", \"craft2\"])\n",
    "\n",
    "print(h1.toCypher(\"var\", NodeHuman.LABEL_OPERATOR))\n",
    "print(h2.toCypher(\"var1\", NodeHuman.LABEL_TECHNICIAN))\n",
    "print(h3.toCypher(\"var2\", NodeHuman.LABEL_OPERATOR))"
   ]
  },
  {
   "cell_type": "code",
   "execution_count": null,
   "metadata": {
    "collapsed": true
   },
   "outputs": [],
   "source": [
    "h1=Human(\"onlyName\")\n",
    "h2=Human(\"name and one skills and crafts\", \"skills\", [\"craft\"])\n",
    "h3=Human(\"name and multiple skills and crafts\", [\"skills1\",\"skills2\", \"skills3\"], [\"craft1\", \"craft2\"])\n",
    "\n",
    "print(h1.toCypherName(\"var1\"))\n",
    "print(h1.toCypherName(\"var1\"))\n",
    "print(h1.toCypherName(\"var1\"))\n",
    "print(h2.toCypherName(\"var2\"))\n",
    "print(h2.toCypherName(\"var2\"))\n",
    "print(h2.toCypherName(\"var2\"))\n",
    "print(h3.toCypherName(\"var3\"))\n",
    "print(h3.toCypherName(\"var3\"))\n",
    "print(h3.toCypherName(\"var3\"))\n",
    "\n",
    "print(h1.toCypherUpdate(\"var1\", NodeHuman.LABEL_TECHNICIAN))\n",
    "print(h2.toCypherUpdate(\"var2\", NodeHuman.LABEL_OPERATOR))\n",
    "print(h3.toCypherUpdate(\"var3\", NodeHuman.LABEL_OPERATOR))"
   ]
  },
  {
   "cell_type": "code",
   "execution_count": null,
   "metadata": {
    "collapsed": true
   },
   "outputs": [],
   "source": [
    "human = Human(\"\")\n",
    "print(human.cypher_human_name(\"test\"))\n",
    "print(human.cypher_human_all(\"test\"))\n",
    "\n",
    "operator = Operator(\"\")\n",
    "print(operator.cypher_operator_name(\"test\"))\n",
    "print(operator.cypher_operator_all(\"test\"))\n",
    "print(operator.cypher_human_name(\"test\"))\n",
    "print(operator.cypher_human_all(\"test\"))\n",
    "\n",
    "technician = Technician(\"jho\", \"test\", [\"yt\",\"ty\"])\n",
    "print(technician.cypher_technician_name(\"test\"))\n",
    "print(technician.cypher_technician_all(\"test\"))\n",
    "print(technician.cypher_human_name(\"test\"))\n",
    "print(technician.cypher_human_all(\"test\"))"
   ]
  },
  {
   "cell_type": "code",
   "execution_count": null,
   "metadata": {
    "collapsed": true
   },
   "outputs": [],
   "source": [
    "print(technician.cypher_create_node())"
   ]
  },
  {
   "cell_type": "code",
   "execution_count": null,
   "metadata": {
    "collapsed": true
   },
   "outputs": [],
   "source": []
  },
  {
   "cell_type": "markdown",
   "metadata": {},
   "source": [
    "## Machine"
   ]
  },
  {
   "cell_type": "code",
   "execution_count": null,
   "metadata": {
    "collapsed": true
   },
   "outputs": [],
   "source": [
    "m1=Machine(\"only name\")\n",
    "m2=Machine(\"All\", \"man1\",\"loc1\", \"t1\")\n",
    "\n",
    "print(m1.toCypher(\"var\"))\n",
    "print(m2.toCypher(\"var2\"))\n",
    "\n",
    "print(m1.toCypherType(\"var\"))\n",
    "print(m2.toCypherType(\"var2\"))"
   ]
  },
  {
   "cell_type": "code",
   "execution_count": null,
   "metadata": {
    "collapsed": true
   },
   "outputs": [],
   "source": [
    "m1=Machine(\"only name\")\n",
    "m2=Machine(\"All\", \"man1\",\"loc1\", \"t1\")\n",
    "\n",
    "print(m1.toCypherName(\"var1\"))\n",
    "print(m1.toCypherUpdate(\"var1\"))\n",
    "\n",
    "print(m2.toCypherName(\"var2\"))\n",
    "print(m2.toCypherUpdate(\"var2\"))"
   ]
  },
  {
   "cell_type": "code",
   "execution_count": null,
   "metadata": {
    "collapsed": true
   },
   "outputs": [],
   "source": [
    "machine = Machine(\"name\",manufacturer=\"manufacturer\", locasion=\"locasion\", machine_type=\"\")\n",
    "print(machine.cypher_machine_name())\n",
    "print(machine.cypher_machine_type_name())\n",
    "print(machine.cypher_machine_all())\n",
    "print(machine.cypher_machine_type_all())\n"
   ]
  },
  {
   "cell_type": "code",
   "execution_count": null,
   "metadata": {
    "collapsed": true
   },
   "outputs": [],
   "source": [
    "print(machine.cypher_machine_create_node())"
   ]
  },
  {
   "cell_type": "markdown",
   "metadata": {},
   "source": [
    "## Tag"
   ]
  },
  {
   "cell_type": "code",
   "execution_count": null,
   "metadata": {
    "collapsed": true
   },
   "outputs": [],
   "source": [
    "t1=Tag(\"keyword\")\n",
    "\n",
    "print(t1.toCypher(\"var\", NodeTag.LABEL_ITEM))\n",
    "print(t1.toCypher(\"var\", NodeTag.LABEL_ACTION))"
   ]
  },
  {
   "cell_type": "code",
   "execution_count": 2,
   "metadata": {},
   "outputs": [
    {
     "name": "stdout",
     "output_type": "stream",
     "text": [
      "(tag :TAG{keyword:\"name\"})\n",
      "(tag :TAG{keyword:\"name\",synonyms:[\"test\"]})\n",
      "\n",
      "(tag :TAG{synonyms:[\"act\"]})\n",
      "(tag_item :TAG:ITEM{keyword:\"yo\"})\n",
      "(tag_item :TAG:ITEM{keyword:\"yo\",synonyms:[\"i\"]})\n",
      "OBJECT: <class 'Program.Objects.Tag.TagItem'>\n",
      "\tKeyword: yo\n",
      "\tSynonyms: ['i']\n",
      "\tLinks: [<Program.Objects.Tag.Tag object at 0x10bd22550>, <Program.Objects.Tag.Tag object at 0x10bd22518>] Parents: [<Program.Objects.Tag.Tag object at 0x10bd225c0>, <Program.Objects.Tag.TagAction object at 0x107280c18>]\n",
      "\t\n",
      "(tag_unknown :TAG:UNKNOWN{keyword:\"yo\"})\n",
      "(tag_unknown :TAG:UNKNOWN{keyword:\"yo\",synonyms:[\"i\"]})\n",
      "(tag_action_item :TAG:ACTION_ITEM{keyword:\"yo\"})\n",
      "(tag_action_item :TAG:ACTION_ITEM{keyword:\"yo\",synonyms:[\"i\"]})\n"
     ]
    }
   ],
   "source": [
    "l1=Tag(\"l1\")\n",
    "l2=Tag(\"l2\")\n",
    "\n",
    "t= Tag(\"name\",\"test\",[l1,l2], it_is=\"s\")\n",
    "print(t.cypher_tag_keyword())\n",
    "print(t.cypher_tag_all())\n",
    "\n",
    "ta=TagAction(\"\",\"act\")\n",
    "print(ta.cypher_tag_keyword())\n",
    "print(ta.cypher_tag_all())\n",
    "\n",
    "ti=TagItem(\"yo\", \"i\",[l1,l2], [t,ta])\n",
    "print(ti.cypher_item_keyword())\n",
    "print(ti.cypher_item_all())\n",
    "print(ti)\n",
    "\n",
    "tu=TagUnknown(\"yo\", \"i\",[l1,l2])\n",
    "print(tu.cypher_unknown_keyword())\n",
    "print(tu.cypher_unknown_all())\n",
    "\n",
    "tai=TagActionItem(\"yo\", \"i\",[l1,l2], [t,ta])\n",
    "print(tai.cypher_action_item_keyword())\n",
    "print(tai.cypher_action_item_all())"
   ]
  },
  {
   "cell_type": "code",
   "execution_count": null,
   "metadata": {
    "collapsed": true
   },
   "outputs": [],
   "source": [
    "print(t.cypher_tag_create_node())\n",
    "print(ta.cypher_action_create_node())\n",
    "print(ti.cypher_item_create_node())\n",
    "print(tu.cypher_unknown_create_node())\n",
    "print(tai.cypher_action_item_create_node())"
   ]
  },
  {
   "cell_type": "code",
   "execution_count": 3,
   "metadata": {},
   "outputs": [
    {
     "data": {
      "text/plain": [
       "'MATCH (issue :ISSUE)-[]->(tag :TAG)'"
      ]
     },
     "execution_count": 3,
     "metadata": {},
     "output_type": "execute_result"
    }
   ],
   "source": [
    "t.cypher_kpi()\n",
    "#print(t._get_it_is())"
   ]
  },
  {
   "cell_type": "markdown",
   "metadata": {},
   "source": [
    "## Issue"
   ]
  },
  {
   "cell_type": "code",
   "execution_count": null,
   "metadata": {
    "collapsed": true
   },
   "outputs": [],
   "source": [
    "i1=Issue(\"problem\", \"solution\")\n",
    "i2=Issue(problem=\"problem\",solution=\"solution\",cause=\"cause\",effects=\"effects\", part_in_process=\"part in process\", necessary_part=\"part needed\", machine_down=\"t\", date_machine_up=\"10\", date_machine_down=\"11\", date_maintenance_work_order_issue=\"12\", date_maintenance_work_order_close=\"13\",date_maintenance_technician_arrives=\"14\",date_problem_solved=\"15\",date_problem_found=\"16\",date_part_ordered=\"17\", date_maintenance_technician_begin_repair_problem=\"18\")\n",
    "i3=Issue(problem=\"problem\",solution=\"solution\",date_machine_down=\"11\", date_maintenance_work_order_issue=\"12\", date_maintenance_work_order_close=\"13\",date_maintenance_technician_arrives=\"14\")\n",
    "\n",
    "print(i1.toCypherDescription(\"var1\"))\n",
    "print(i2.toCypherDescription(\"var2\"))\n",
    "print(i3.toCypherDescription(\"var3\"))\n",
    "\n",
    "print(i1.toCypherUpdate(\"var1\"))\n",
    "print(i2.toCypherUpdate(\"var2\"))\n",
    "print(i3.toCypherUpdate(\"var3\"))"
   ]
  },
  {
   "cell_type": "code",
   "execution_count": null,
   "metadata": {
    "collapsed": true
   },
   "outputs": [],
   "source": [
    "i1=Issue(\"problem\", \"solution\")\n",
    "i2=Issue(problem=\"problem\",solution=\"solution\",cause=\"cause\",effects=\"effects\", part_in_process=\"part in process\", necessary_part=\"part needed\", machine_down=\"t\", date_machine_up=\"10\", date_machine_down=\"11\", date_maintenance_work_order_issue=\"12\", date_maintenance_work_order_close=\"13\",date_maintenance_technician_arrives=\"14\",date_problem_solved=\"15\",date_problem_found=\"16\",date_part_ordered=\"17\", date_maintenance_technician_begin_repair_problem=\"18\")\n",
    "i3=Issue(problem=\"problem\",solution=\"solution\",date_machine_down=\"11\", date_maintenance_work_order_issue=\"12\", date_maintenance_work_order_close=\"13\",date_maintenance_technician_arrives=\"14\")\n",
    "\n",
    "print(i1.cypher_issue_all())\n",
    "print(i2.cypher_issue_all())\n",
    "print(i3.cypher_issue_all())"
   ]
  },
  {
   "cell_type": "code",
   "execution_count": null,
   "metadata": {
    "collapsed": true
   },
   "outputs": [],
   "source": [
    "print(i1.cypher_create_issue_node())\n",
    "print(i2.cypher_create_issue_node())\n",
    "print(i3.cypher_create_issue_node())"
   ]
  },
  {
   "cell_type": "code",
   "execution_count": null,
   "metadata": {
    "collapsed": true
   },
   "outputs": [],
   "source": [
    "i1.solution"
   ]
  },
  {
   "cell_type": "markdown",
   "metadata": {},
   "source": [
    "## MaintenanceWorkOrder"
   ]
  },
  {
   "cell_type": "code",
   "execution_count": null,
   "metadata": {},
   "outputs": [],
   "source": [
    "W1=MaintenanceWorkOrder(issue = i1, machine = m1, operators = h1, technicians = h1, itemtags = t1, problemtags = t1, solutiontags = t1) \n",
    "W2=MaintenanceWorkOrder(issue = i2, machine = m2, operators = h2, technicians = h2, itemtags = t1, problemtags = t1, solutiontags = t1) \n",
    "W3=MaintenanceWorkOrder(issue = i3, machine = m2, operators = h3, technicians = h2, itemtags = t1, problemtags = t1, solutiontags = t1) \n",
    "\n",
    "W4=MaintenanceWorkOrder(issue = i3, machine = m2, operators = [h3,h2,h1], technicians = [h3,h2,h1], itemtags = [t1,t1,t1], problemtags = t1, solutiontags = [t1,t1]) \n",
    "\n",
    "# print(W1.create_database(\"varissue\", \"varMachine\", \"varMachinetype\", \"varOperator\", \"varTechnician\", \"varItem\", \"varProblem\", \"varSolution\"))\n",
    "# print(W2.create_database(\"varissue\", \"varMachine\", \"varMachinetype\", \"varOperator\", \"varTechnician\", \"varItem\", \"varProblem\", \"varSolution\"))\n",
    "# print(W3.create_database(\"varissue\", \"varMachine\", \"varMachinetype\", \"varOperator\", \"varTechnician\", \"varItem\", \"varProblem\", \"varSolution\"))\n",
    "\n",
    "# print(W4.create_database(\"varissue\", \"varMachine\", \"varMachinetype\", \"varOperator\", \"varTechnician\", \"varItem\", \"varProblem\", \"varSolution\"))"
   ]
  },
  {
   "cell_type": "code",
   "execution_count": null,
   "metadata": {},
   "outputs": [],
   "source": [
    "w1"
   ]
  },
  {
   "cell_type": "code",
   "execution_count": null,
   "metadata": {
    "collapsed": true
   },
   "outputs": [],
   "source": []
  }
 ],
 "metadata": {
  "kernelspec": {
   "display_name": "Python 3",
   "language": "python",
   "name": "python3"
  },
  "language_info": {
   "codemirror_mode": {
    "name": "ipython",
    "version": 3
   },
   "file_extension": ".py",
   "mimetype": "text/x-python",
   "name": "python",
   "nbconvert_exporter": "python",
   "pygments_lexer": "ipython3",
   "version": "3.6.4"
  }
 },
 "nbformat": 4,
 "nbformat_minor": 2
}

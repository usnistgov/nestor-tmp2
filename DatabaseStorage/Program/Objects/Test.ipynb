{
 "cells": [
  {
   "cell_type": "code",
   "execution_count": 1,
   "metadata": {},
   "outputs": [],
   "source": [
    "import sys\n",
    "sys.path.insert(0, '/Users/sam11/Git/ml-py/DatabaseStorage')\n",
    "from Program.Objects.Human import *\n",
    "from Program.Objects.Issue import *\n",
    "from Program.Objects.Machine import *\n",
    "from Program.Objects.MaintenanceWorkOrder import *\n",
    "from Program.Objects.Tag import *\n",
    "\n",
    "from Program.Database.Database_Properties import *"
   ]
  },
  {
   "cell_type": "markdown",
   "metadata": {},
   "source": [
    "# PRINT CYPHER"
   ]
  },
  {
   "cell_type": "markdown",
   "metadata": {},
   "source": [
    "# Human"
   ]
  },
  {
   "cell_type": "code",
   "execution_count": null,
   "metadata": {},
   "outputs": [],
   "source": [
    "h1=Human(\"onlyName\")\n",
    "h2=Human(\"name and one skills and crafts\", \"skills\", [\"craft\"])\n",
    "h3=Human(\"name and multiple skills and crafts\", [\"skills1\",\"skills2\", \"skills3\"], [\"craft1\", \"craft2\"])\n",
    "\n",
    "print(h1.toCypher(\"var\", NodeHuman.LABEL_OPERATOR))\n",
    "print(h2.toCypher(\"var1\", NodeHuman.LABEL_TECHNICIAN))\n",
    "print(h3.toCypher(\"var2\", NodeHuman.LABEL_OPERATOR))"
   ]
  },
  {
   "cell_type": "code",
   "execution_count": null,
   "metadata": {},
   "outputs": [],
   "source": [
    "h1=Human(\"onlyName\")\n",
    "h2=Human(\"name and one skills and crafts\", \"skills\", [\"craft\"])\n",
    "h3=Human(\"name and multiple skills and crafts\", [\"skills1\",\"skills2\", \"skills3\"], [\"craft1\", \"craft2\"])\n",
    "\n",
    "print(h1.toCypherName(\"var1\"))\n",
    "print(h1.toCypherName(\"var1\"))\n",
    "print(h1.toCypherName(\"var1\"))\n",
    "print(h2.toCypherName(\"var2\"))\n",
    "print(h2.toCypherName(\"var2\"))\n",
    "print(h2.toCypherName(\"var2\"))\n",
    "print(h3.toCypherName(\"var3\"))\n",
    "print(h3.toCypherName(\"var3\"))\n",
    "print(h3.toCypherName(\"var3\"))\n",
    "\n",
    "print(h1.toCypherUpdate(\"var1\", NodeHuman.LABEL_TECHNICIAN))\n",
    "print(h2.toCypherUpdate(\"var2\", NodeHuman.LABEL_OPERATOR))\n",
    "print(h3.toCypherUpdate(\"var3\", NodeHuman.LABEL_OPERATOR))"
   ]
  },
  {
   "cell_type": "code",
   "execution_count": null,
   "metadata": {},
   "outputs": [],
   "source": [
    "human = Human(\"\")\n",
    "print(human.cypher_human_name(\"test\"))\n",
    "print(human.cypher_human_all(\"test\"))\n",
    "\n",
    "operator = Operator(\"\")\n",
    "print(operator.cypher_operator_name(\"test\"))\n",
    "print(operator.cypher_operator_all(\"test\"))\n",
    "print(operator.cypher_human_name(\"test\"))\n",
    "print(operator.cypher_human_all(\"test\"))\n",
    "\n",
    "technician = Technician(\"jho\", \"test\", [\"yt\",\"ty\"])\n",
    "print(technician.cypher_technician_name(\"test\"))\n",
    "print(technician.cypher_technician_all(\"test\"))\n",
    "print(technician.cypher_human_name(\"test\"))\n",
    "print(technician.cypher_human_all(\"test\"))"
   ]
  },
  {
   "cell_type": "code",
   "execution_count": null,
   "metadata": {},
   "outputs": [],
   "source": [
    "print(technician.cypher_create_node())"
   ]
  },
  {
   "cell_type": "code",
   "execution_count": null,
   "metadata": {
    "collapsed": true
   },
   "outputs": [],
   "source": []
  },
  {
   "cell_type": "markdown",
   "metadata": {},
   "source": [
    "## Machine"
   ]
  },
  {
   "cell_type": "code",
   "execution_count": null,
   "metadata": {},
   "outputs": [],
   "source": [
    "m1=Machine(\"only name\")\n",
    "m2=Machine(\"All\", \"man1\",\"loc1\", \"t1\")\n",
    "\n",
    "print(m1.toCypher(\"var\"))\n",
    "print(m2.toCypher(\"var2\"))\n",
    "\n",
    "print(m1.toCypherType(\"var\"))\n",
    "print(m2.toCypherType(\"var2\"))"
   ]
  },
  {
   "cell_type": "code",
   "execution_count": null,
   "metadata": {},
   "outputs": [],
   "source": [
    "m1=Machine(\"only name\")\n",
    "m2=Machine(\"All\", \"man1\",\"loc1\", \"t1\")\n",
    "\n",
    "print(m1.toCypherName(\"var1\"))\n",
    "print(m1.toCypherUpdate(\"var1\"))\n",
    "\n",
    "print(m2.toCypherName(\"var2\"))\n",
    "print(m2.toCypherUpdate(\"var2\"))"
   ]
  },
  {
   "cell_type": "code",
   "execution_count": null,
   "metadata": {},
   "outputs": [],
   "source": [
    "machine = Machine(\"name\",manufacturer=\"manufacturer\", locasion=\"locasion\", machine_type=\"\")\n",
    "print(machine.cypher_machine_name())\n",
    "print(machine.cypher_machine_type_name())\n",
    "print(machine.cypher_machine_all())\n",
    "print(machine.cypher_machine_type_all())\n"
   ]
  },
  {
   "cell_type": "code",
   "execution_count": null,
   "metadata": {},
   "outputs": [],
   "source": [
    "print(machine.cypher_machine_create_node())"
   ]
  },
  {
   "cell_type": "markdown",
   "metadata": {},
   "source": [
    "## Tag"
   ]
  },
  {
   "cell_type": "code",
   "execution_count": null,
   "metadata": {},
   "outputs": [],
   "source": [
    "t1=Tag(\"keyword\")\n",
    "\n",
    "print(t1.toCypher(\"var\", NodeTag.LABEL_ITEM))\n",
    "print(t1.toCypher(\"var\", NodeTag.LABEL_ACTION))"
   ]
  },
  {
   "cell_type": "code",
   "execution_count": null,
   "metadata": {},
   "outputs": [],
   "source": [
    "l1=Tag(\"l1\")\n",
    "l2=Tag(\"l2\")\n",
    "\n",
    "t= Tag(\"name\",\"test\",[l1,l2])\n",
    "print(t.cypher_tag_keyword())\n",
    "print(t.cypher_tag_all())\n",
    "\n",
    "ta=TagAction(\"\",\"act\")\n",
    "print(ta.cypher_tag_keyword())\n",
    "print(ta.cypher_tag_all())\n",
    "\n",
    "ti=TagItem(\"yo\", \"i\",[l1,l2], [t,ta])\n",
    "print(ti.cypher_item_keyword())\n",
    "print(ti.cypher_item_all())\n",
    "print(ti)\n",
    "\n",
    "tu=TagUnknown(\"yo\", \"i\",[l1,l2])\n",
    "print(tu.cypher_unknown_keyword())\n",
    "print(tu.cypher_unknown_all())\n",
    "\n",
    "tai=TagActionItem(\"yo\", \"i\",[l1,l2], [t,ta])\n",
    "print(tai.cypher_action_item_keyword())\n",
    "print(tai.cypher_action_item_all())"
   ]
  },
  {
   "cell_type": "code",
   "execution_count": null,
   "metadata": {},
   "outputs": [],
   "source": [
    "print(t.cypher_tag_create_node())\n",
    "print(ta.cypher_action_create_node())\n",
    "print(ti.cypher_item_create_node())\n",
    "print(tu.cypher_unknown_create_node())\n",
    "print(tai.cypher_action_item_create_node())"
   ]
  },
  {
   "cell_type": "markdown",
   "metadata": {},
   "source": [
    "## Issue"
   ]
  },
  {
   "cell_type": "code",
   "execution_count": null,
   "metadata": {},
   "outputs": [],
   "source": [
    "i1=Issue(\"problem\", \"solution\")\n",
    "i2=Issue(problem=\"problem\",solution=\"solution\",cause=\"cause\",effects=\"effects\", part_in_process=\"part in process\", necessary_part=\"part needed\", machine_down=\"t\", date_machine_up=\"10\", date_machine_down=\"11\", date_maintenance_work_order_issue=\"12\", date_maintenance_work_order_close=\"13\",date_maintenance_technician_arrives=\"14\",date_problem_solved=\"15\",date_problem_found=\"16\",date_part_ordered=\"17\", date_maintenance_technician_begin_repair_problem=\"18\")\n",
    "i3=Issue(problem=\"problem\",solution=\"solution\",date_machine_down=\"11\", date_maintenance_work_order_issue=\"12\", date_maintenance_work_order_close=\"13\",date_maintenance_technician_arrives=\"14\")\n",
    "\n",
    "print(i1.toCypherDescription(\"var1\"))\n",
    "print(i2.toCypherDescription(\"var2\"))\n",
    "print(i3.toCypherDescription(\"var3\"))\n",
    "\n",
    "print(i1.toCypherUpdate(\"var1\"))\n",
    "print(i2.toCypherUpdate(\"var2\"))\n",
    "print(i3.toCypherUpdate(\"var3\"))"
   ]
  },
  {
   "cell_type": "code",
   "execution_count": null,
   "metadata": {},
   "outputs": [],
   "source": [
    "i1=Issue(\"problem\", \"solution\")\n",
    "i2=Issue(problem=\"problem\",solution=\"solution\",cause=\"cause\",effects=\"effects\", part_in_process=\"part in process\", necessary_part=\"part needed\", machine_down=\"t\", date_machine_up=\"10\", date_machine_down=\"11\", date_maintenance_work_order_issue=\"12\", date_maintenance_work_order_close=\"13\",date_maintenance_technician_arrives=\"14\",date_problem_solved=\"15\",date_problem_found=\"16\",date_part_ordered=\"17\", date_maintenance_technician_begin_repair_problem=\"18\")\n",
    "i3=Issue(problem=\"problem\",solution=\"solution\",date_machine_down=\"11\", date_maintenance_work_order_issue=\"12\", date_maintenance_work_order_close=\"13\",date_maintenance_technician_arrives=\"14\")\n",
    "\n",
    "print(i1.cypher_issue_all())\n",
    "print(i2.cypher_issue_all())\n",
    "print(i3.cypher_issue_all())"
   ]
  },
  {
   "cell_type": "code",
   "execution_count": null,
   "metadata": {},
   "outputs": [],
   "source": [
    "print(i1.cypher_create_issue_node())\n",
    "print(i2.cypher_create_issue_node())\n",
    "print(i3.cypher_create_issue_node())"
   ]
  },
  {
   "cell_type": "code",
   "execution_count": null,
   "metadata": {},
   "outputs": [],
   "source": [
    "i1.solution"
   ]
  },
  {
   "cell_type": "markdown",
   "metadata": {},
   "source": [
    "## MaintenanceWorkOrder"
   ]
  },
  {
   "cell_type": "code",
   "execution_count": 4,
   "metadata": {},
   "outputs": [
    {
     "ename": "NameError",
     "evalue": "name 'i1' is not defined",
     "output_type": "error",
     "traceback": [
      "\u001b[0;31m---------------------------------------------------------------------------\u001b[0m",
      "\u001b[0;31mNameError\u001b[0m                                 Traceback (most recent call last)",
      "\u001b[0;32m<ipython-input-4-14e893a6bd1e>\u001b[0m in \u001b[0;36m<module>\u001b[0;34m()\u001b[0m\n\u001b[0;32m----> 1\u001b[0;31m \u001b[0mW1\u001b[0m\u001b[0;34m=\u001b[0m\u001b[0mMaintenanceWorkOrder\u001b[0m\u001b[0;34m(\u001b[0m\u001b[0missue\u001b[0m \u001b[0;34m=\u001b[0m \u001b[0mi1\u001b[0m\u001b[0;34m,\u001b[0m \u001b[0mmachine\u001b[0m \u001b[0;34m=\u001b[0m \u001b[0mm1\u001b[0m\u001b[0;34m,\u001b[0m \u001b[0moperators\u001b[0m \u001b[0;34m=\u001b[0m \u001b[0mh1\u001b[0m\u001b[0;34m,\u001b[0m \u001b[0mtechnicians\u001b[0m \u001b[0;34m=\u001b[0m \u001b[0mh1\u001b[0m\u001b[0;34m,\u001b[0m \u001b[0mitemtags\u001b[0m \u001b[0;34m=\u001b[0m \u001b[0mt1\u001b[0m\u001b[0;34m,\u001b[0m \u001b[0mproblemtags\u001b[0m \u001b[0;34m=\u001b[0m \u001b[0mt1\u001b[0m\u001b[0;34m,\u001b[0m \u001b[0msolutiontags\u001b[0m \u001b[0;34m=\u001b[0m \u001b[0mt1\u001b[0m\u001b[0;34m)\u001b[0m\u001b[0;34m\u001b[0m\u001b[0m\n\u001b[0m\u001b[1;32m      2\u001b[0m \u001b[0mW2\u001b[0m\u001b[0;34m=\u001b[0m\u001b[0mMaintenanceWorkOrder\u001b[0m\u001b[0;34m(\u001b[0m\u001b[0missue\u001b[0m \u001b[0;34m=\u001b[0m \u001b[0mi2\u001b[0m\u001b[0;34m,\u001b[0m \u001b[0mmachine\u001b[0m \u001b[0;34m=\u001b[0m \u001b[0mm2\u001b[0m\u001b[0;34m,\u001b[0m \u001b[0moperators\u001b[0m \u001b[0;34m=\u001b[0m \u001b[0mh2\u001b[0m\u001b[0;34m,\u001b[0m \u001b[0mtechnicians\u001b[0m \u001b[0;34m=\u001b[0m \u001b[0mh2\u001b[0m\u001b[0;34m,\u001b[0m \u001b[0mitemtags\u001b[0m \u001b[0;34m=\u001b[0m \u001b[0mt1\u001b[0m\u001b[0;34m,\u001b[0m \u001b[0mproblemtags\u001b[0m \u001b[0;34m=\u001b[0m \u001b[0mt1\u001b[0m\u001b[0;34m,\u001b[0m \u001b[0msolutiontags\u001b[0m \u001b[0;34m=\u001b[0m \u001b[0mt1\u001b[0m\u001b[0;34m)\u001b[0m\u001b[0;34m\u001b[0m\u001b[0m\n\u001b[1;32m      3\u001b[0m \u001b[0mW3\u001b[0m\u001b[0;34m=\u001b[0m\u001b[0mMaintenanceWorkOrder\u001b[0m\u001b[0;34m(\u001b[0m\u001b[0missue\u001b[0m \u001b[0;34m=\u001b[0m \u001b[0mi3\u001b[0m\u001b[0;34m,\u001b[0m \u001b[0mmachine\u001b[0m \u001b[0;34m=\u001b[0m \u001b[0mm2\u001b[0m\u001b[0;34m,\u001b[0m \u001b[0moperators\u001b[0m \u001b[0;34m=\u001b[0m \u001b[0mh3\u001b[0m\u001b[0;34m,\u001b[0m \u001b[0mtechnicians\u001b[0m \u001b[0;34m=\u001b[0m \u001b[0mh2\u001b[0m\u001b[0;34m,\u001b[0m \u001b[0mitemtags\u001b[0m \u001b[0;34m=\u001b[0m \u001b[0mt1\u001b[0m\u001b[0;34m,\u001b[0m \u001b[0mproblemtags\u001b[0m \u001b[0;34m=\u001b[0m \u001b[0mt1\u001b[0m\u001b[0;34m,\u001b[0m \u001b[0msolutiontags\u001b[0m \u001b[0;34m=\u001b[0m \u001b[0mt1\u001b[0m\u001b[0;34m)\u001b[0m\u001b[0;34m\u001b[0m\u001b[0m\n\u001b[1;32m      4\u001b[0m \u001b[0;34m\u001b[0m\u001b[0m\n\u001b[1;32m      5\u001b[0m \u001b[0mW4\u001b[0m\u001b[0;34m=\u001b[0m\u001b[0mMaintenanceWorkOrder\u001b[0m\u001b[0;34m(\u001b[0m\u001b[0missue\u001b[0m \u001b[0;34m=\u001b[0m \u001b[0mi3\u001b[0m\u001b[0;34m,\u001b[0m \u001b[0mmachine\u001b[0m \u001b[0;34m=\u001b[0m \u001b[0mm2\u001b[0m\u001b[0;34m,\u001b[0m \u001b[0moperators\u001b[0m \u001b[0;34m=\u001b[0m \u001b[0;34m[\u001b[0m\u001b[0mh3\u001b[0m\u001b[0;34m,\u001b[0m\u001b[0mh2\u001b[0m\u001b[0;34m,\u001b[0m\u001b[0mh1\u001b[0m\u001b[0;34m]\u001b[0m\u001b[0;34m,\u001b[0m \u001b[0mtechnicians\u001b[0m \u001b[0;34m=\u001b[0m \u001b[0;34m[\u001b[0m\u001b[0mh3\u001b[0m\u001b[0;34m,\u001b[0m\u001b[0mh2\u001b[0m\u001b[0;34m,\u001b[0m\u001b[0mh1\u001b[0m\u001b[0;34m]\u001b[0m\u001b[0;34m,\u001b[0m \u001b[0mitemtags\u001b[0m \u001b[0;34m=\u001b[0m \u001b[0;34m[\u001b[0m\u001b[0mt1\u001b[0m\u001b[0;34m,\u001b[0m\u001b[0mt1\u001b[0m\u001b[0;34m,\u001b[0m\u001b[0mt1\u001b[0m\u001b[0;34m]\u001b[0m\u001b[0;34m,\u001b[0m \u001b[0mproblemtags\u001b[0m \u001b[0;34m=\u001b[0m \u001b[0mt1\u001b[0m\u001b[0;34m,\u001b[0m \u001b[0msolutiontags\u001b[0m \u001b[0;34m=\u001b[0m \u001b[0;34m[\u001b[0m\u001b[0mt1\u001b[0m\u001b[0;34m,\u001b[0m\u001b[0mt1\u001b[0m\u001b[0;34m]\u001b[0m\u001b[0;34m)\u001b[0m\u001b[0;34m\u001b[0m\u001b[0m\n",
      "\u001b[0;31mNameError\u001b[0m: name 'i1' is not defined"
     ]
    }
   ],
   "source": [
    "W1=MaintenanceWorkOrder(issue = i1, machine = m1, operators = h1, technicians = h1, itemtags = t1, problemtags = t1, solutiontags = t1) \n",
    "W2=MaintenanceWorkOrder(issue = i2, machine = m2, operators = h2, technicians = h2, itemtags = t1, problemtags = t1, solutiontags = t1) \n",
    "W3=MaintenanceWorkOrder(issue = i3, machine = m2, operators = h3, technicians = h2, itemtags = t1, problemtags = t1, solutiontags = t1) \n",
    "\n",
    "W4=MaintenanceWorkOrder(issue = i3, machine = m2, operators = [h3,h2,h1], technicians = [h3,h2,h1], itemtags = [t1,t1,t1], problemtags = t1, solutiontags = [t1,t1]) \n",
    "\n",
    "# print(W1.create_database(\"varissue\", \"varMachine\", \"varMachinetype\", \"varOperator\", \"varTechnician\", \"varItem\", \"varProblem\", \"varSolution\"))\n",
    "# print(W2.create_database(\"varissue\", \"varMachine\", \"varMachinetype\", \"varOperator\", \"varTechnician\", \"varItem\", \"varProblem\", \"varSolution\"))\n",
    "# print(W3.create_database(\"varissue\", \"varMachine\", \"varMachinetype\", \"varOperator\", \"varTechnician\", \"varItem\", \"varProblem\", \"varSolution\"))\n",
    "\n",
    "# print(W4.create_database(\"varissue\", \"varMachine\", \"varMachinetype\", \"varOperator\", \"varTechnician\", \"varItem\", \"varProblem\", \"varSolution\"))"
   ]
  },
  {
   "cell_type": "code",
   "execution_count": 3,
   "metadata": {},
   "outputs": [
    {
     "ename": "NameError",
     "evalue": "name 'w1' is not defined",
     "output_type": "error",
     "traceback": [
      "\u001b[0;31m---------------------------------------------------------------------------\u001b[0m",
      "\u001b[0;31mNameError\u001b[0m                                 Traceback (most recent call last)",
      "\u001b[0;32m<ipython-input-3-9ab3a014413a>\u001b[0m in \u001b[0;36m<module>\u001b[0;34m()\u001b[0m\n\u001b[0;32m----> 1\u001b[0;31m \u001b[0mw1\u001b[0m\u001b[0;34m\u001b[0m\u001b[0m\n\u001b[0m",
      "\u001b[0;31mNameError\u001b[0m: name 'w1' is not defined"
     ]
    }
   ],
   "source": [
    "w1"
   ]
  },
  {
   "cell_type": "code",
   "execution_count": null,
   "metadata": {
    "collapsed": true
   },
   "outputs": [],
   "source": []
  }
 ],
 "metadata": {
  "kernelspec": {
   "display_name": "Python 3",
   "language": "python",
   "name": "python3"
  },
  "language_info": {
   "codemirror_mode": {
    "name": "ipython",
    "version": 3
   },
   "file_extension": ".py",
   "mimetype": "text/x-python",
   "name": "python",
   "nbconvert_exporter": "python",
   "pygments_lexer": "ipython3",
   "version": "3.6.4"
  }
 },
 "nbformat": 4,
 "nbformat_minor": 2
}

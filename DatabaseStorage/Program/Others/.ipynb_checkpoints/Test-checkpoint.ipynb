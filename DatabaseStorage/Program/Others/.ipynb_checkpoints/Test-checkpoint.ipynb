{
 "cells": [
  {
   "cell_type": "code",
   "execution_count": 1,
   "metadata": {},
   "outputs": [],
   "source": [
    "import sys\n",
    "sys.path.insert(0, '/Users/sam11/Git/ml-py/DatabaseStorage')\n",
    "\n",
    "from Program.Others.MyDate import *"
   ]
  },
  {
   "cell_type": "markdown",
   "metadata": {},
   "source": [
    "# ISOSTRINGTODATE"
   ]
  },
  {
   "cell_type": "code",
   "execution_count": 2,
   "metadata": {},
   "outputs": [
    {
     "name": "stdout",
     "output_type": "stream",
     "text": [
      "2016-10-25T00:00:00\n",
      "2016-10-25T10:00:00\n",
      "2016-10-25T10:23:00\n",
      "2016-10-25T10:23:00\n",
      "2016-10-25T10:23:00\n",
      "2016-10-25T10:23:00\n"
     ]
    }
   ],
   "source": [
    "\n",
    "s0=\"2016-10-25\"\n",
    "s1=\"2016-10-25T10\"\n",
    "s2=\"2016-10-25T10:23\"\n",
    "s3=\"2016-10-25T10:23:10\"\n",
    "s4=\"2016-10-25T10:23:10:230\"\n",
    "s5=\"2016-10-25T10:23:10:230TZD\"\n",
    "\n",
    "print(isoStringToDate(s0).isoformat())\n",
    "print(isoStringToDate(s1).isoformat())\n",
    "print(isoStringToDate(s2).isoformat())\n",
    "print(isoStringToDate(s3).isoformat())\n",
    "print(isoStringToDate(s4).isoformat())\n",
    "print(isoStringToDate(s5).isoformat())"
   ]
  },
  {
   "cell_type": "markdown",
   "metadata": {},
   "source": [
    "# GreyStone"
   ]
  },
  {
   "cell_type": "code",
   "execution_count": 3,
   "metadata": {},
   "outputs": [
    {
     "name": "stdout",
     "output_type": "stream",
     "text": [
      "2016-10-20T00:00:00\n",
      "2016-10-20T10:20:00\n",
      "2059-01-06T01:52:00\n",
      "2052-12-09T00:20:00\n"
     ]
    }
   ],
   "source": [
    "#d1 = clean_GS_date(None)\n",
    "d2 = clean_GS_date(\"10/20/16\")\n",
    "d3 = clean_GS_date(\"10/20/16\", \"1020\")\n",
    "d4 = clean_GS_date(\"1/6/59\", \"152\")\n",
    "d5 = clean_GS_date(\"12/9/52\", \"20\")\n",
    "#d6 = clean_GS_date(None)\n",
    "#d7 = clean_GS_date(None)\n",
    "\n",
    "\n",
    "#print(d1)\n",
    "print(d2.isoformat())\n",
    "print(d3.isoformat())\n",
    "print(d4.isoformat())\n",
    "print(d5.isoformat())\n",
    "#print(d6)\n",
    "#print(d7)"
   ]
  },
  {
   "cell_type": "code",
   "execution_count": null,
   "metadata": {},
   "outputs": [],
   "source": []
  }
 ],
 "metadata": {
  "kernelspec": {
   "display_name": "Python 3",
   "language": "python",
   "name": "python3"
  },
  "language_info": {
   "codemirror_mode": {
    "name": "ipython",
    "version": 3
   },
   "file_extension": ".py",
   "mimetype": "text/x-python",
   "name": "python",
   "nbconvert_exporter": "python",
   "pygments_lexer": "ipython3",
   "version": "3.6.3"
  }
 },
 "nbformat": 4,
 "nbformat_minor": 2
}

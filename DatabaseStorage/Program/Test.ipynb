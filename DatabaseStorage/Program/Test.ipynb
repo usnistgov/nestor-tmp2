{
 "cells": [
  {
   "cell_type": "code",
   "execution_count": 1,
   "metadata": {},
   "outputs": [
    {
     "name": "stdout",
     "output_type": "stream",
     "text": [
      "/Users/sam11/Git/ml-py\n"
     ]
    }
   ],
   "source": [
    "%load_ext autoreload\n",
    "%autoreload 2\n",
    "\n",
    "import sys\n",
    "import os\n",
    "import inspect\n",
    "import pandas as pd\n",
    "\n",
    "\n",
    "project_path = os.path.abspath( os.path.dirname(os.path.abspath(inspect.getfile(inspect.currentframe()))) + \"/../\" + \"/../\")\n",
    "sys.path.insert(0, project_path)\n",
    "print(project_path)\n",
    "\n",
    "from DatabaseStorage.Program.helper import *\n",
    "\n",
    "\n",
    "from DatabaseStorage.Program.Database.Database import *\n",
    "from DatabaseStorage.Program.Database.Main import *\n",
    "\n",
    "# from DatabaseStorage.Program.Objects.Human import *\n",
    "# from DatabaseStorage.Program.Objects.Issue import *\n",
    "# from DatabaseStorage.Program.Objects.Machine import *\n",
    "# from DatabaseStorage.Program.Objects.MaintenanceWorkOrder import *\n",
    "# from DatabaseStorage.Program.Objects.Tag import *\n",
    "\n",
    "\n",
    "# from DatabaseStorage.Program.Database.Main import *\n",
    "\n",
    "# from DatabaseStorage.Program.KPI.KPI import *\n",
    "\n",
    "\n",
    "# from DatabaseStorage.Program.Others.MyDate import *"
   ]
  },
  {
   "cell_type": "code",
   "execution_count": 2,
   "metadata": {},
   "outputs": [
    {
     "name": "stdout",
     "output_type": "stream",
     "text": [
      "yaml file open\n"
     ]
    }
   ],
   "source": [
    "databaseSchema_file = os.path.join(project_path ,'DatabaseStorage', 'Program', 'Database', 'DatabaseSchema.yaml')\n",
    "databaseSchema_dict = openYAMLFile(databaseSchema_file)"
   ]
  },
  {
   "cell_type": "markdown",
   "metadata": {},
   "source": [
    "### get CSV information"
   ]
  },
  {
   "cell_type": "code",
   "execution_count": 3,
   "metadata": {},
   "outputs": [
    {
     "name": "stdout",
     "output_type": "stream",
     "text": [
      "yaml file open\n"
     ]
    }
   ],
   "source": [
    "csv_file = os.path.join(project_path ,'DatabaseStorage', 'Data_CSV', 'test.csv')\n",
    "dataframe = pd.read_csv(csv_file)\n",
    "dataframe.fillna(\"\", inplace=True)\n",
    "csvSchemas_file = os.path.join(project_path ,'DatabaseStorage', 'Data_CSV', 'testCSVheader.yaml')\n",
    "csvSchemas_dict = openYAMLFile(csvSchemas_file)"
   ]
  },
  {
   "cell_type": "markdown",
   "metadata": {},
   "source": [
    "## Connect to Database"
   ]
  },
  {
   "cell_type": "code",
   "execution_count": 4,
   "metadata": {},
   "outputs": [],
   "source": [
    "PassWord = 'TEST!!'\n",
    "database = DatabaseNeo4J(\"bolt://127.0.0.1:7687\", \"neo4j\", PassWord)"
   ]
  },
  {
   "cell_type": "markdown",
   "metadata": {},
   "source": [
    "## Store the data"
   ]
  },
  {
   "cell_type": "code",
   "execution_count": 6,
   "metadata": {},
   "outputs": [
    {
     "name": "stdout",
     "output_type": "stream",
     "text": [
      "OBJECT: <class 'DatabaseStorage.Program.Objects.Issue.Issue'>\n",
      "\tproblem: Broken bar feeder chain \n",
      "\tsolution: Repaired \n",
      "\tcause: too much pressure \n",
      "\teffects: dilatation \n",
      "\tpart_in_process: blanket1025 \n",
      "\t|| necessary_part: bar feeder chain \n",
      "\tmachine_down: None \n",
      "\tdate_machine_up: 2002-03-31 20:30:00 \n",
      "\t|| date_machine_down: 2002-03-31 16:37:00 \n",
      "\tdate_workorder_start: 2002-03-31 16:49:00 \n",
      "\tdate_workorder_completion: 2002-03-31 20:37:00 \n",
      "\tdate_maintenance_technician_arrives: 2002-03-31 17:01:00 \n",
      "\tdate_problem_found: 2002-03-31 18:22:00 \n",
      "\tdate_problem_solved: 2002-03-31 19:55:00 \n",
      "\tdate_part_ordered: 2002-03-31 18:22:00 \n",
      "\tdate_part_received: 2002-03-31 18:22:00 \n",
      "\ttime_to_repair: 3:53:00 \n",
      "\ttime_work_order_completion: 3:48:00 \n",
      "\ttime_to_dispatch: 0:24:00 \n",
      "\ttime_to_return_to_operation: 3:29:00 \n",
      "\ttime_to_issue_work_order: 0:12:00 \n",
      "\ttime_to_travel: 0:12:00 \n",
      "\ttime_to_solve_problem: 2:54:00 \n",
      "\ttime_to_diagnose: 1:21:00 \n",
      "\ttime_to_order: 0:00:00 \n",
      "\ttime_lead_for_part: 0:00:00 \n",
      "\ttime_to_fix: 1:33:00 \n",
      "\ttime_to_turn_on: 0:35:00 \n",
      "\t\n"
     ]
    }
   ],
   "source": [
    "dataframe = graphDatabase_from_TaggedCSV(database, dataframe, csvSchemas_dict, databaseSchema_dict)"
   ]
  },
  {
   "cell_type": "code",
   "execution_count": null,
   "metadata": {},
   "outputs": [],
   "source": [
    "type(dataframe.iloc[0]['Machine_manufacture'])"
   ]
  },
  {
   "cell_type": "code",
   "execution_count": null,
   "metadata": {},
   "outputs": [],
   "source": []
  },
  {
   "cell_type": "code",
   "execution_count": null,
   "metadata": {},
   "outputs": [],
   "source": []
  }
 ],
 "metadata": {
  "kernelspec": {
   "display_name": "Python 3",
   "language": "python",
   "name": "python3"
  },
  "language_info": {
   "codemirror_mode": {
    "name": "ipython",
    "version": 3
   },
   "file_extension": ".py",
   "mimetype": "text/x-python",
   "name": "python",
   "nbconvert_exporter": "python",
   "pygments_lexer": "ipython3",
   "version": "3.6.4"
  }
 },
 "nbformat": 4,
 "nbformat_minor": 2
}

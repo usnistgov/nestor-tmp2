{
 "cells": [
  {
   "cell_type": "code",
   "execution_count": 1,
   "metadata": {},
   "outputs": [
    {
     "name": "stdout",
     "output_type": "stream",
     "text": [
      "/Users/sam11/Git/ml-py\n"
     ]
    }
   ],
   "source": [
    "%load_ext autoreload\n",
    "%autoreload 2\n",
    "\n",
    "import sys\n",
    "import os\n",
    "import inspect\n",
    "import pandas as pd\n",
    "\n",
    "\n",
    "project_path = os.path.abspath( os.path.dirname(os.path.abspath(inspect.getfile(inspect.currentframe()))) + \"/../\" + \"/../\")\n",
    "sys.path.insert(0, project_path)\n",
    "print(project_path)\n",
    "\n",
    "from DatabaseStorage.Program.helper import *\n",
    "\n",
    "\n",
    "from DatabaseStorage.Program.Database.Database import *\n",
    "from DatabaseStorage.Program.Database.Main import *\n",
    "\n",
    "# from DatabaseStorage.Program.Objects.Human import *\n",
    "# from DatabaseStorage.Program.Objects.Issue import *\n",
    "# from DatabaseStorage.Program.Objects.Machine import *\n",
    "# from DatabaseStorage.Program.Objects.MaintenanceWorkOrder import *\n",
    "# from DatabaseStorage.Program.Objects.Tag import *\n",
    "\n",
    "\n",
    "# from DatabaseStorage.Program.Database.Main import *\n",
    "\n",
    "# from DatabaseStorage.Program.KPI.KPI import *\n",
    "\n",
    "\n",
    "# from DatabaseStorage.Program.Others.MyDate import *"
   ]
  },
  {
   "cell_type": "code",
   "execution_count": 2,
   "metadata": {},
   "outputs": [
    {
     "name": "stdout",
     "output_type": "stream",
     "text": [
      "yaml file open\n"
     ]
    }
   ],
   "source": [
    "databaseSchema_file = os.path.join(project_path ,'DatabaseStorage', 'Program', 'Database', 'DatabaseSchema.yaml')\n",
    "databaseSchema_dict = openYAMLFile(databaseSchema_file)"
   ]
  },
  {
   "cell_type": "markdown",
   "metadata": {},
   "source": [
    "### get CSV information"
   ]
  },
  {
   "cell_type": "code",
   "execution_count": 3,
   "metadata": {},
   "outputs": [
    {
     "name": "stdout",
     "output_type": "stream",
     "text": [
      "yaml file open\n"
     ]
    }
   ],
   "source": [
    "csv_file = os.path.join(project_path ,'DatabaseStorage', 'Data_CSV', 'test.csv')\n",
    "dataframe = pd.read_csv(csv_file)\n",
    "dataframe.fillna(\"\", inplace=True)\n",
    "csvSchemas_file = os.path.join(project_path ,'DatabaseStorage', 'Data_CSV', 'testCSVheader.yaml')\n",
    "csvSchemas_dict = openYAMLFile(csvSchemas_file)"
   ]
  },
  {
   "cell_type": "markdown",
   "metadata": {},
   "source": [
    "## Connect to Database"
   ]
  },
  {
   "cell_type": "code",
   "execution_count": 4,
   "metadata": {},
   "outputs": [],
   "source": [
    "PassWord = 'TEST!!'\n",
    "database = DatabaseNeo4J(\"bolt://127.0.0.1:7687\", \"neo4j\", PassWord)"
   ]
  },
  {
   "cell_type": "markdown",
   "metadata": {},
   "source": [
    "## Store the data"
   ]
  },
  {
   "cell_type": "code",
   "execution_count": 9,
   "metadata": {},
   "outputs": [
    {
     "name": "stdout",
     "output_type": "stream",
     "text": [
      "OBJECT: <class 'DatabaseStorage.Program.Objects.Tag.TagSolutionItem'>\n",
      "\tKeyword: repaire bar_feeder_chain\n",
      "\tSynonyms: None\n",
      "\tsimilarTo: None\n",
      "\t\n",
      "(tag :TAG{keyword:\"repaire bar_feeder_chain\"})\n",
      "(tag :TAG{keyword:\"repaire bar_feeder_chain\"})\n",
      "MERGE (tag :TAG{keyword:\"repaire bar_feeder_chain\"})\n",
      "MERGE (ngram_tag :TAG{keyword:\"repaire bar_feeder_chain\"})\n",
      "SET ngram_tag :N_GRAM\n",
      "(ngram_tag :TAG:N_GRAM{keyword:\"repaire bar_feeder_chain\"})\n",
      "(ngram_tag :TAG:N_GRAM{keyword:\"repaire bar_feeder_chain\"})\n",
      "(solutionitem_tag :TAG:N_GRAM:SOLUTION_ITEM{keyword:\"repaire bar_feeder_chain\"})\n",
      "(solutionitem_tag :TAG:N_GRAM:SOLUTION_ITEM{keyword:\"repaire bar_feeder_chain\"})\n",
      "MERGE (solutionitem_tag :TAG{keyword:\"repaire bar_feeder_chain\"})\n",
      "SET solutionitem_tag :N_GRAM\n",
      "SET solutionitem_tag :SOLUTION_ITEM\n"
     ]
    }
   ],
   "source": [
    "dataframe = graphDatabase_from_TaggedCSV(database, dataframe, csvSchemas_dict, databaseSchema_dict)"
   ]
  },
  {
   "cell_type": "code",
   "execution_count": null,
   "metadata": {},
   "outputs": [],
   "source": []
  }
 ],
 "metadata": {
  "kernelspec": {
   "display_name": "Python 3",
   "language": "python",
   "name": "python3"
  },
  "language_info": {
   "codemirror_mode": {
    "name": "ipython",
    "version": 3
   },
   "file_extension": ".py",
   "mimetype": "text/x-python",
   "name": "python",
   "nbconvert_exporter": "python",
   "pygments_lexer": "ipython3",
   "version": "3.6.4"
  }
 },
 "nbformat": 4,
 "nbformat_minor": 2
}

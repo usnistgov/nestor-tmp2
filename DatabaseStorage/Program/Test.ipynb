{
 "cells": [
  {
   "cell_type": "code",
   "execution_count": 1,
   "metadata": {},
   "outputs": [
    {
     "name": "stdout",
     "output_type": "stream",
     "text": [
      "/Users/sam11/Git/ml-py\n"
     ]
    }
   ],
   "source": [
    "%load_ext autoreload\n",
    "%autoreload 2\n",
    "\n",
    "import sys\n",
    "import os\n",
    "import inspect\n",
    "import pandas as pd\n",
    "\n",
    "\n",
    "project_path = os.path.abspath( os.path.dirname(os.path.abspath(inspect.getfile(inspect.currentframe()))) + \"/../\" + \"/../\")\n",
    "sys.path.insert(0, project_path)\n",
    "print(project_path)\n",
    "\n",
    "from DatabaseStorage.Program.helper import *\n",
    "\n",
    "\n",
    "from DatabaseStorage.Program.Database.Database import *\n",
    "from DatabaseStorage.Program.Database.Main import *\n",
    "\n",
    "# from DatabaseStorage.Program.Objects.Human import *\n",
    "# from DatabaseStorage.Program.Objects.Issue import *\n",
    "# from DatabaseStorage.Program.Objects.Machine import *\n",
    "# from DatabaseStorage.Program.Objects.MaintenanceWorkOrder import *\n",
    "# from DatabaseStorage.Program.Objects.Tag import *\n",
    "\n",
    "\n",
    "# from DatabaseStorage.Program.Database.Main import *\n",
    "\n",
    "# from DatabaseStorage.Program.KPI.KPI import *\n",
    "\n",
    "\n",
    "# from DatabaseStorage.Program.Others.MyDate import *"
   ]
  },
  {
   "cell_type": "code",
   "execution_count": 2,
   "metadata": {},
   "outputs": [
    {
     "name": "stdout",
     "output_type": "stream",
     "text": [
      "yaml file open\n"
     ]
    }
   ],
   "source": [
    "databaseSchema_file = os.path.join(project_path ,'DatabaseStorage', 'Program', 'Database', 'DatabaseSchema.yaml')\n",
    "databaseSchema_dict = openYAMLFile(databaseSchema_file)"
   ]
  },
  {
   "cell_type": "markdown",
   "metadata": {},
   "source": [
    "### get CSV information"
   ]
  },
  {
   "cell_type": "code",
   "execution_count": 3,
   "metadata": {},
   "outputs": [
    {
     "name": "stdout",
     "output_type": "stream",
     "text": [
      "yaml file open\n"
     ]
    }
   ],
   "source": [
    "csv_file = os.path.join(project_path ,'DatabaseStorage', 'Data_CSV', 'test.csv')\n",
    "dataframe = pd.read_csv(csv_file)\n",
    "dataframe.fillna(\"\", inplace=True)\n",
    "csvSchemas_file = os.path.join(project_path ,'DatabaseStorage', 'Data_CSV', 'testCSVheader.yaml')\n",
    "csvSchemas_dict = openYAMLFile(csvSchemas_file)"
   ]
  },
  {
   "cell_type": "markdown",
   "metadata": {},
   "source": [
    "## Connect to Database"
   ]
  },
  {
   "cell_type": "code",
   "execution_count": 4,
   "metadata": {},
   "outputs": [],
   "source": [
    "PassWord = 'TEST!!'\n",
    "database = DatabaseNeo4J(\"bolt://127.0.0.1:7687\", \"neo4j\", PassWord)"
   ]
  },
  {
   "cell_type": "markdown",
   "metadata": {},
   "source": [
    "## Store the data"
   ]
  },
  {
   "cell_type": "code",
   "execution_count": 5,
   "metadata": {},
   "outputs": [
    {
     "name": "stdout",
     "output_type": "stream",
     "text": [
      "CREATE (issue :ISSUE{description_of_problem:\"Broken bar feeder chain\",description_of_solution:\"Repaired\",description_of_cause:\"too much pressure\",description_of_effect:\"dilatation\",part_in_process:\"blanket1025\",necessary_part:\"bar feeder chain\",date_machine_up:\"2002-03-31 20:30:00\",date_machine_down:\"2002-03-31 16:37:00\",date_maintenanceworkorder_start:\"2002-03-31 16:49:00\",date_maintenanceworkorder_completion:\"2002-03-31 20:37:00\",date_maintenance_technician_arrive:\"2002-03-31 17:01:00\",date_part_ordered:\"2002-03-31 18:22:00\",date_part_received:\"2002-03-31 18:22:00\"})\n",
      "MERGE (machine :MACHINE{name:\"m1\"})\n",
      "SET machine.manufacturer = \"man\"\n",
      "SET machine.locasion = \"here\"\n",
      "MERGE (issue)-[:COVERED]->(machine)\n",
      "MERGE (operators0 :HUMAN{name:\"leila\"})\n",
      "SET operators0 :OPERATOR\n",
      "MERGE (issue)-[:REQUESTED_BY]->(operators0)\n",
      "MERGE (operators1 :HUMAN{name:\"rfh\"})\n",
      "SET operators1 :OPERATOR\n",
      "MERGE (issue)-[:REQUESTED_BY]->(operators1)\n",
      "MERGE (technicians0 :HUMAN{name:\"bob\"})\n",
      "FOREACH(x in CASE WHEN \"mec\" in technicians0.skills THEN [] ELSE [1] END |  SET technicians0.skills = coalesce(technicians0.skills,[]) + \"mec\" )\n",
      "FOREACH(x in CASE WHEN \" elec\" in technicians0.skills THEN [] ELSE [1] END |  SET technicians0.skills = coalesce(technicians0.skills,[]) + \" elec\" )\n",
      "FOREACH(x in CASE WHEN \"pressure\" in technicians0.crafts THEN [] ELSE [1] END |  SET technicians0.crafts = coalesce(technicians0.crafts,[]) + \"pressure\" )\n",
      "FOREACH(x in CASE WHEN \" water\" in technicians0.crafts THEN [] ELSE [1] END |  SET technicians0.crafts = coalesce(technicians0.crafts,[]) + \" water\" )\n",
      "SET technicians0 :TECHNICIAN\n",
      "MERGE (issue)-[:SOLVE_BY]->(technicians0)\n",
      "MERGE (items0 :TAG{keyword:\"bar_feeder_chain\"})\n",
      "SET items0 :ONE_GRAM\n",
      "SET items0 :ITEM\n",
      "MERGE (issue)-[:CONTAINS]->(items0)\n",
      "MERGE (items1 :TAG{keyword:\"bar\"})\n",
      "SET items1 :ONE_GRAM\n",
      "SET items1 :ITEM\n",
      "MERGE (issue)-[:CONTAINS]->(items1)\n",
      "MERGE (items2 :TAG{keyword:\"feeder\"})\n",
      "SET items2 :ONE_GRAM\n",
      "SET items2 :ITEM\n",
      "MERGE (issue)-[:CONTAINS]->(items2)\n",
      "MERGE (items3 :TAG{keyword:\"chain\"})\n",
      "SET items3 :ONE_GRAM\n",
      "SET items3 :ITEM\n",
      "MERGE (issue)-[:CONTAINS]->(items3)\n",
      "MERGE (items4 :TAG{keyword:\"bar_feeder\"})\n",
      "SET items4 :ONE_GRAM\n",
      "SET items4 :ITEM\n",
      "MERGE (issue)-[:CONTAINS]->(items4)\n",
      "MERGE (problems0 :TAG{keyword:\"broken\"})\n",
      "SET problems0 :ONE_GRAM\n",
      "SET problems0 :PROBLEM\n",
      "MERGE (issue)-[:CONTAINS]->(problems0)\n",
      "MERGE (solutions0 :TAG{keyword:\"repaire\"})\n",
      "SET solutions0 :ONE_GRAM\n",
      "SET solutions0 :SOLUTION\n",
      "MERGE (issue)-[:CONTAINS]->(solutions0)\n",
      "\n",
      "MERGE (issue)-[:CONTAINS]->(unknowns0)\n",
      "MERGE (tag_problemItems0 :TAG{keyword:\"broken bar_feeder_chain\"})\n",
      "SET tag_problemItems0 :N_GRAM\n",
      "SET tag_problemItems0 :PROBLEM_ITEM\n",
      "MERGE (issue)-[:CONTAINS]->(tag_problemItems0)\n",
      "MERGE (tag_solutionItems0 :TAG{keyword:\"repaire bar_feeder_chain\"})\n",
      "SET tag_solutionItems0 :N_GRAM\n",
      "SET tag_solutionItems0 :SOLUTION_ITEM\n",
      "MERGE (issue)-[:CONTAINS]->(tag_solutionItems0)\n",
      "\n"
     ]
    }
   ],
   "source": [
    "dataframe = graphDatabase_from_TaggedCSV(database, dataframe, csvSchemas_dict, databaseSchema_dict)"
   ]
  },
  {
   "cell_type": "code",
   "execution_count": 6,
   "metadata": {},
   "outputs": [
    {
     "name": "stdout",
     "output_type": "stream",
     "text": [
      "test\n"
     ]
    }
   ],
   "source": [
    "test = False\n",
    "if not test:\n",
    "    print(\"test\")"
   ]
  },
  {
   "cell_type": "code",
   "execution_count": null,
   "metadata": {},
   "outputs": [],
   "source": []
  }
 ],
 "metadata": {
  "kernelspec": {
   "display_name": "Python 3",
   "language": "python",
   "name": "python3"
  },
  "language_info": {
   "codemirror_mode": {
    "name": "ipython",
    "version": 3
   },
   "file_extension": ".py",
   "mimetype": "text/x-python",
   "name": "python",
   "nbconvert_exporter": "python",
   "pygments_lexer": "ipython3",
   "version": "3.6.4"
  }
 },
 "nbformat": 4,
 "nbformat_minor": 2
}

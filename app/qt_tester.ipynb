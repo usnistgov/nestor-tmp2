{
 "cells": [
  {
   "cell_type": "code",
   "execution_count": 2,
   "metadata": {},
   "outputs": [],
   "source": [
    "from PyQt5.QtCore import QDate, QTime, QDateTime, Qt"
   ]
  },
  {
   "cell_type": "code",
   "execution_count": 5,
   "metadata": {},
   "outputs": [
    {
     "name": "stdout",
     "output_type": "stream",
     "text": [
      "2018-01-08\n",
      "Monday, January 8, 2018\n"
     ]
    }
   ],
   "source": [
    "now = QDate.currentDate()\n",
    "print(now.toString(Qt.ISODate))\n",
    "print(now.toString(Qt.DefaultLocaleLongDate))\n"
   ]
  },
  {
   "cell_type": "code",
   "execution_count": 6,
   "metadata": {},
   "outputs": [
    {
     "name": "stdout",
     "output_type": "stream",
     "text": [
      "Mon Jan 8 13:32:16 2018\n"
     ]
    }
   ],
   "source": [
    "datetime = QDateTime.currentDateTime()\n",
    "print(datetime.toString())"
   ]
  },
  {
   "cell_type": "code",
   "execution_count": 8,
   "metadata": {},
   "outputs": [
    {
     "name": "stdout",
     "output_type": "stream",
     "text": [
      "1:32:44 PM EST\n"
     ]
    }
   ],
   "source": [
    "time = QTime.currentTime()\n",
    "print(time.toString(Qt.DefaultLocaleLongDate))"
   ]
  },
  {
   "cell_type": "code",
   "execution_count": 10,
   "metadata": {},
   "outputs": [
    {
     "name": "stdout",
     "output_type": "stream",
     "text": [
      "Local datetime:  2018-01-08T13:33:44\n",
      "Universal datetime:  2018-01-08T18:33:44Z\n",
      "The offset from UTC is: -18000 seconds\n"
     ]
    }
   ],
   "source": [
    "now = QDateTime.currentDateTime()\n",
    "print(\"Local datetime: \", now.toString(Qt.ISODate))\n",
    "print(\"Universal datetime: \", now.toUTC().toString(Qt.ISODate))\n",
    "\n",
    "print(\"The offset from UTC is: {0} seconds\".format(now.offsetFromUtc()))"
   ]
  },
  {
   "cell_type": "code",
   "execution_count": 11,
   "metadata": {},
   "outputs": [
    {
     "name": "stdout",
     "output_type": "stream",
     "text": [
      "Days in month: 31\n",
      "Days in year: 365\n"
     ]
    }
   ],
   "source": [
    "now = QDate.currentDate()\n",
    "\n",
    "d = QDate(1945, 5, 7)\n",
    "\n",
    "print(\"Days in month: {0}\".format(d.daysInMonth()))\n",
    "print(\"Days in year: {0}\".format(d.daysInYear()))"
   ]
  },
  {
   "cell_type": "code",
   "execution_count": 12,
   "metadata": {},
   "outputs": [
    {
     "name": "stdout",
     "output_type": "stream",
     "text": [
      "Today: 2018-01-08T13:34:36\n",
      "Adding 12 days: 2018-01-20T13:34:36\n",
      "Subtracting 22 days: 2017-12-17T13:34:36\n",
      "Adding 50 seconds: 2018-01-08T13:35:26\n",
      "Adding 3 months: 2018-04-08T13:34:36\n",
      "Adding 12 years: 2030-01-08T13:34:36\n"
     ]
    }
   ],
   "source": [
    "now = QDateTime.currentDateTime()\n",
    "\n",
    "print(\"Today:\", now.toString(Qt.ISODate))\n",
    "print(\"Adding 12 days: {0}\".format(now.addDays(12).toString(Qt.ISODate)))\n",
    "print(\"Subtracting 22 days: {0}\".format(now.addDays(-22).toString(Qt.ISODate)))\n",
    "\n",
    "print(\"Adding 50 seconds: {0}\".format(now.addSecs(50).toString(Qt.ISODate)))\n",
    "print(\"Adding 3 months: {0}\".format(now.addMonths(3).toString(Qt.ISODate)))\n",
    "print(\"Adding 12 years: {0}\".format(now.addYears(12).toString(Qt.ISODate)))"
   ]
  },
  {
   "cell_type": "code",
   "execution_count": 13,
   "metadata": {},
   "outputs": [
    {
     "name": "stdout",
     "output_type": "stream",
     "text": [
      "Days since Slavkov battle: 77469\n",
      "Days since Borodino battle: 74998\n"
     ]
    }
   ],
   "source": [
    "borodino_battle = QDate(1812, 9, 7)\n",
    "slavkov_battle = QDate(1805, 12, 2)\n",
    "\n",
    "now = QDate.currentDate()\n",
    "\n",
    "j_today = now.toJulianDay()\n",
    "j_borodino = borodino_battle.toJulianDay()\n",
    "j_slavkov = slavkov_battle.toJulianDay()\n",
    "\n",
    "d1 = j_today - j_slavkov\n",
    "d2 = j_today - j_borodino\n",
    "\n",
    "print(\"Days since Slavkov battle: {0}\".format(d1))\n",
    "print(\"Days since Borodino battle: {0}\".format(d2))"
   ]
  },
  {
   "cell_type": "code",
   "execution_count": null,
   "metadata": {},
   "outputs": [],
   "source": [
    "import sys\n",
    "from PyQt5.QtWidgets import QApplication, QWidget\n",
    "\n",
    "\n",
    "app = QApplication(sys.argv)\n",
    "\n",
    "w = QWidget()\n",
    "w.resize(250, 150)\n",
    "w.move(300, 300)\n",
    "w.setWindowTitle('Simple')\n",
    "w.show()\n",
    "\n",
    "sys.exit(app.exec_())"
   ]
  },
  {
   "cell_type": "code",
   "execution_count": 2,
   "metadata": {},
   "outputs": [
    {
     "name": "stdout",
     "output_type": "stream",
     "text": [
      "Overwriting testcsvapp.py\n"
     ]
    }
   ],
   "source": [
    "%%writefile testcsvapp.py\n",
    "import csv\n",
    "\n",
    "import sip\n",
    "sip.setapi('QString', 2)\n",
    "sip.setapi('QVariant', 2)\n",
    "\n",
    "from PyQt5 import QtGui, QtCore, QtWidgets\n",
    "from PyQt5.QtWidgets import QApplication, QWidget\n",
    "\n",
    "class MyWindow(QtWidgets.QWidget):\n",
    "    def __init__(self, fileName, parent=None):\n",
    "        super(MyWindow, self).__init__(parent)\n",
    "        self.fileName = fileName\n",
    "\n",
    "        self.model = QtGui.QStandardItemModel(self)\n",
    "\n",
    "        self.tableView = QtWidgets.QTableView(self)\n",
    "        self.tableView.setModel(self.model)\n",
    "        self.tableView.horizontalHeader().setStretchLastSection(True)\n",
    "\n",
    "        self.pushButtonLoad = QtWidgets.QPushButton(self)\n",
    "        self.pushButtonLoad.setText(\"Load Csv File!\")\n",
    "        self.pushButtonLoad.clicked.connect(self.on_pushButtonLoad_clicked)\n",
    "\n",
    "        self.pushButtonWrite = QtWidgets.QPushButton(self)\n",
    "        self.pushButtonWrite.setText(\"Write Csv File!\")\n",
    "        self.pushButtonWrite.clicked.connect(self.on_pushButtonWrite_clicked)\n",
    "\n",
    "        self.layoutVertical = QtWidgets.QVBoxLayout(self)\n",
    "        self.layoutVertical.addWidget(self.tableView)\n",
    "        self.layoutVertical.addWidget(self.pushButtonLoad)\n",
    "        self.layoutVertical.addWidget(self.pushButtonWrite)\n",
    "\n",
    "    def loadCsv(self, fileName):\n",
    "        with open(fileName, \"rt\") as fileInput:\n",
    "            for row in csv.reader(fileInput):    \n",
    "                items = [\n",
    "                    QtGui.QStandardItem(field)\n",
    "                    for field in row\n",
    "                ]\n",
    "                self.model.appendRow(items)\n",
    "\n",
    "    def writeCsv(self, fileName):\n",
    "        with open(fileName, \"wt\") as fileOutput:\n",
    "            writer = csv.writer(fileOutput)\n",
    "            for rowNumber in range(self.model.rowCount()):\n",
    "                fields = [\n",
    "                    self.model.data(\n",
    "                        self.model.index(rowNumber, columnNumber),\n",
    "                        QtCore.Qt.DisplayRole\n",
    "                    )\n",
    "                    for columnNumber in range(self.model.columnCount())\n",
    "                ]\n",
    "                writer.writerow(fields)\n",
    "\n",
    "    @QtCore.pyqtSlot()\n",
    "    def on_pushButtonWrite_clicked(self):\n",
    "        self.writeCsv(self.fileName)\n",
    "\n",
    "    @QtCore.pyqtSlot()\n",
    "    def on_pushButtonLoad_clicked(self):\n",
    "        self.loadCsv(self.fileName)\n",
    "\n",
    "if __name__ == \"__main__\":\n",
    "    import sys\n",
    "\n",
    "    app = QApplication(sys.argv)\n",
    "    app.setApplicationName('MyWindow')\n",
    "\n",
    "    main = MyWindow(\"/home/tbsexton/Documents/Personal/data/clust_vocab.csv\")\n",
    "    main.show()\n",
    "\n",
    "    sys.exit(app.exec_())"
   ]
  },
  {
   "cell_type": "code",
   "execution_count": 4,
   "metadata": {},
   "outputs": [],
   "source": [
    "%run testcsvapp.py"
   ]
  },
  {
   "cell_type": "code",
   "execution_count": null,
   "metadata": {},
   "outputs": [],
   "source": []
  }
 ],
 "metadata": {
  "kernelspec": {
   "display_name": "Python 3",
   "language": "python",
   "name": "python3"
  },
  "language_info": {
   "codemirror_mode": {
    "name": "ipython",
    "version": 3
   },
   "file_extension": ".py",
   "mimetype": "text/x-python",
   "name": "python",
   "nbconvert_exporter": "python",
   "pygments_lexer": "ipython3",
   "version": "3.6.4"
  },
  "varInspector": {
   "cols": {
    "lenName": 16,
    "lenType": 16,
    "lenVar": 40
   },
   "kernels_config": {
    "python": {
     "delete_cmd_postfix": "",
     "delete_cmd_prefix": "del ",
     "library": "var_list.py",
     "varRefreshCmd": "print(var_dic_list())"
    },
    "r": {
     "delete_cmd_postfix": ") ",
     "delete_cmd_prefix": "rm(",
     "library": "var_list.r",
     "varRefreshCmd": "cat(var_dic_list()) "
    }
   },
   "types_to_exclude": [
    "module",
    "function",
    "builtin_function_or_method",
    "instance",
    "_Feature"
   ],
   "window_display": false
  }
 },
 "nbformat": 4,
 "nbformat_minor": 2
}

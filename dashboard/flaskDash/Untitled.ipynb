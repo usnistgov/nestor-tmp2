{
 "cells": [
  {
   "cell_type": "code",
   "execution_count": 31,
   "metadata": {},
   "outputs": [],
   "source": [
    "from pathlib import Path\n",
    "import numpy as np\n",
    "import pandas as pd\n",
    "import seaborn as sns\n",
    "import matplotlib.pyplot as plt\n",
    "%matplotlib inline\n",
    "\n",
    "import nestor\n",
    "from nestor import keyword as kex\n",
    "import nestor.datasets as dat\n",
    "def set_style():\n",
    "    # This sets reasonable defaults for font size for a figure that will go in a paper\n",
    "    sns.set_context(\"paper\")\n",
    "\n",
    "    # Set the font to be serif, rather than sans\n",
    "    sns.set(font='serif')\n",
    "\n",
    "    # Make the background white, and specify the specific font family\n",
    "    sns.set_style(\"white\", {\n",
    "        \"font.family\": \"serif\",\n",
    "        \"font.serif\": [\"Times\", \"Palatino\", \"serif\"]\n",
    "    })\n",
    "set_style()"
   ]
  },
  {
   "cell_type": "code",
   "execution_count": 32,
   "metadata": {},
   "outputs": [
    {
     "data": {
      "text/html": [
       "<div>\n",
       "<style scoped>\n",
       "    .dataframe tbody tr th:only-of-type {\n",
       "        vertical-align: middle;\n",
       "    }\n",
       "\n",
       "    .dataframe tbody tr th {\n",
       "        vertical-align: top;\n",
       "    }\n",
       "\n",
       "    .dataframe thead th {\n",
       "        text-align: right;\n",
       "    }\n",
       "</style>\n",
       "<table border=\"1\" class=\"dataframe\">\n",
       "  <thead>\n",
       "    <tr style=\"text-align: right;\">\n",
       "      <th></th>\n",
       "      <th>BscStartDate</th>\n",
       "      <th>Asset</th>\n",
       "      <th>OriginalShorttext</th>\n",
       "      <th>PMType</th>\n",
       "      <th>Cost</th>\n",
       "    </tr>\n",
       "  </thead>\n",
       "  <tbody>\n",
       "    <tr>\n",
       "      <th>0</th>\n",
       "      <td>2004-07-01</td>\n",
       "      <td>A</td>\n",
       "      <td>BUCKET WON'T OPEN</td>\n",
       "      <td>PM01</td>\n",
       "      <td>183.05</td>\n",
       "    </tr>\n",
       "    <tr>\n",
       "      <th>1</th>\n",
       "      <td>2005-03-20</td>\n",
       "      <td>A</td>\n",
       "      <td>L/H BUCKET CYL LEAKING.</td>\n",
       "      <td>PM01</td>\n",
       "      <td>407.40</td>\n",
       "    </tr>\n",
       "    <tr>\n",
       "      <th>2</th>\n",
       "      <td>2006-05-05</td>\n",
       "      <td>A</td>\n",
       "      <td>SWAP BUCKET</td>\n",
       "      <td>PM01</td>\n",
       "      <td>0.00</td>\n",
       "    </tr>\n",
       "    <tr>\n",
       "      <th>3</th>\n",
       "      <td>2006-07-11</td>\n",
       "      <td>A</td>\n",
       "      <td>FIT BUCKET TOOTH</td>\n",
       "      <td>PM01</td>\n",
       "      <td>0.00</td>\n",
       "    </tr>\n",
       "    <tr>\n",
       "      <th>4</th>\n",
       "      <td>2006-11-10</td>\n",
       "      <td>A</td>\n",
       "      <td>REFIT BUCKET TOOTH</td>\n",
       "      <td>PM01</td>\n",
       "      <td>1157.27</td>\n",
       "    </tr>\n",
       "  </tbody>\n",
       "</table>\n",
       "</div>"
      ],
      "text/plain": [
       "  BscStartDate Asset        OriginalShorttext PMType     Cost\n",
       "0   2004-07-01     A        BUCKET WON'T OPEN   PM01   183.05\n",
       "1   2005-03-20     A  L/H BUCKET CYL LEAKING.   PM01   407.40\n",
       "2   2006-05-05     A              SWAP BUCKET   PM01     0.00\n",
       "3   2006-07-11     A         FIT BUCKET TOOTH   PM01     0.00\n",
       "4   2006-11-10     A       REFIT BUCKET TOOTH   PM01  1157.27"
      ]
     },
     "execution_count": 32,
     "metadata": {},
     "output_type": "execute_result"
    }
   ],
   "source": [
    "df = dat.load_excavators()\n",
    "df.head()"
   ]
  },
  {
   "cell_type": "code",
   "execution_count": 33,
   "metadata": {},
   "outputs": [],
   "source": [
    "# merge and cleanse NLP-containing columns of the data\n",
    "nlp_select = kex.NLPSelect(columns = ['OriginalShorttext'])\n",
    "raw_text = nlp_select.transform(df)"
   ]
  },
  {
   "cell_type": "code",
   "execution_count": 34,
   "metadata": {},
   "outputs": [
    {
     "ename": "NameError",
     "evalue": "name 'vocab_fname' is not defined",
     "output_type": "error",
     "traceback": [
      "\u001b[0;31m---------------------------------------------------------------------------\u001b[0m",
      "\u001b[0;31mNameError\u001b[0m                                 Traceback (most recent call last)",
      "\u001b[0;32m<ipython-input-34-debbb8ed4108>\u001b[0m in \u001b[0;36m<module>\u001b[0;34m()\u001b[0m\n\u001b[1;32m      4\u001b[0m \u001b[0;31m#Import vocabulary\u001b[0m\u001b[0;34m\u001b[0m\u001b[0;34m\u001b[0m\u001b[0m\n\u001b[1;32m      5\u001b[0m \u001b[0mvocab_path\u001b[0m \u001b[0;34m=\u001b[0m \u001b[0mPath\u001b[0m\u001b[0;34m(\u001b[0m\u001b[0;34m'.'\u001b[0m\u001b[0;34m)\u001b[0m\u001b[0;34m/\u001b[0m\u001b[0;34m'support'\u001b[0m\u001b[0;34m/\u001b[0m\u001b[0;34m'mine_vocab_1g.csv'\u001b[0m\u001b[0;34m\u001b[0m\u001b[0m\n\u001b[0;32m----> 6\u001b[0;31m \u001b[0mvocab\u001b[0m \u001b[0;34m=\u001b[0m \u001b[0mkex\u001b[0m\u001b[0;34m.\u001b[0m\u001b[0mgenerate_vocabulary_df\u001b[0m\u001b[0;34m(\u001b[0m\u001b[0mtex\u001b[0m\u001b[0;34m,\u001b[0m \u001b[0minit\u001b[0m\u001b[0;34m=\u001b[0m\u001b[0mvocab_fname\u001b[0m\u001b[0;34m)\u001b[0m\u001b[0;34m\u001b[0m\u001b[0m\n\u001b[0m\u001b[1;32m      7\u001b[0m \u001b[0mtag_df\u001b[0m \u001b[0;34m=\u001b[0m \u001b[0mkex\u001b[0m\u001b[0;34m.\u001b[0m\u001b[0mtag_extractor\u001b[0m\u001b[0;34m(\u001b[0m\u001b[0mtex\u001b[0m\u001b[0;34m,\u001b[0m \u001b[0mraw_text\u001b[0m\u001b[0;34m,\u001b[0m \u001b[0mvocab_df\u001b[0m\u001b[0;34m=\u001b[0m\u001b[0mvocab\u001b[0m\u001b[0;34m)\u001b[0m\u001b[0;34m\u001b[0m\u001b[0m\n\u001b[1;32m      8\u001b[0m \u001b[0;34m\u001b[0m\u001b[0m\n",
      "\u001b[0;31mNameError\u001b[0m: name 'vocab_fname' is not defined"
     ]
    }
   ],
   "source": [
    "tex = kex.TokenExtractor()\n",
    "toks = tex.fit_transform(raw_text)\n",
    "\n",
    "#Import vocabulary\n",
    "vocab_path = Path('.')/'support'/'mine_vocab_1g.csv'\n",
    "vocab = kex.generate_vocabulary_df(tex, init=vocab_fname)\n",
    "tag_df = kex.tag_extractor(tex, raw_text, vocab_df=vocab)\n",
    "\n",
    "relation_df = tag_df.loc[:, ['P I', 'S I']]\n",
    "tags_read = kex._get_readable_tag_df(tag_df)\n",
    "tag_df = tag_df.loc[:, ['I', 'P', 'S', 'U', 'X', 'NA']]"
   ]
  },
  {
   "cell_type": "code",
   "execution_count": null,
   "metadata": {},
   "outputs": [],
   "source": []
  }
 ],
 "metadata": {
  "kernelspec": {
   "display_name": "Python 3",
   "language": "python",
   "name": "python3"
  },
  "language_info": {
   "codemirror_mode": {
    "name": "ipython",
    "version": 3
   },
   "file_extension": ".py",
   "mimetype": "text/x-python",
   "name": "python",
   "nbconvert_exporter": "python",
   "pygments_lexer": "ipython3",
   "version": "3.6.5"
  }
 },
 "nbformat": 4,
 "nbformat_minor": 2
}

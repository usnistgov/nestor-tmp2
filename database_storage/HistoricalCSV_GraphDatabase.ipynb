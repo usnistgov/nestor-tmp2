{
 "cells": [
  {
   "cell_type": "code",
   "execution_count": 1,
   "metadata": {},
   "outputs": [
    {
     "name": "stdout",
     "output_type": "stream",
     "text": [
      "/Users/saschamoccozet/Documents/Git/Nestor\n"
     ]
    }
   ],
   "source": [
    "%load_ext autoreload\n",
    "%autoreload 2\n",
    "\n",
    "import sys\n",
    "import os\n",
    "import inspect\n",
    "import getpass\n",
    "import json\n",
    "\n",
    "import pandas as pd\n",
    "import matplotlib.pyplot as plt\n",
    "\n",
    "\n",
    "project_path = os.path.abspath( os.path.dirname(os.path.abspath(inspect.getfile(inspect.currentframe()))) + \"/../\" )\n",
    "sys.path.insert(0, project_path)\n",
    "print(project_path)\n",
    "\n",
    "from database_storage.helper import *\n",
    "\n",
    "from database_storage.database.database import *\n",
    "from database_storage.main import *\n",
    "\n",
    "from database_storage.objects.human import *\n",
    "from database_storage.objects.issue import *\n",
    "from database_storage.objects.kpi import *\n",
    "from database_storage.objects.machine import *\n",
    "from database_storage.objects.tag import *\n",
    "from database_storage.objects.maintenanceworkorder import *\n"
   ]
  },
  {
   "cell_type": "markdown",
   "metadata": {},
   "source": [
    "# Get CSVfile Path"
   ]
  },
  {
   "cell_type": "markdown",
   "metadata": {},
   "source": [
    "### Greystone"
   ]
  },
  {
   "cell_type": "code",
   "execution_count": null,
   "metadata": {},
   "outputs": [],
   "source": [
    "user = \"neo4j\"\n",
    "password = 'GREYSTONE!!'\n",
    "\n",
    "csv_file = os.path.join(project_path ,'data', 'gs_data', 'readable.csv')\n",
    "csvSchemas_file = os.path.join(project_path , 'data',  'gs_data', 'gs_header.yaml')\n",
    "\n",
    "\n",
    "bincsv_file = os.path.join(project_path ,'data', 'gs_data', 'bin_1g.csv')\n",
    "binNcsv_file = os.path.join(project_path ,'data', 'gs_data', 'bin_Ng.csv')\n"
   ]
  },
  {
   "cell_type": "markdown",
   "metadata": {},
   "source": [
    "### Mine"
   ]
  },
  {
   "cell_type": "code",
   "execution_count": 2,
   "metadata": {},
   "outputs": [],
   "source": [
    "user = \"neo4j\"\n",
    "password = 'MINE!!'\n",
    "\n",
    "csv_file = os.path.join(project_path ,'data', 'mine_data', 'readable.csv')\n",
    "csvSchemas_file = os.path.join(project_path , 'data',  'mine_data', 'mine_header.yaml')\n",
    "\n",
    "\n",
    "bincsv_file = os.path.join(project_path ,'data', 'mine_data', 'bin_1g.csv')\n",
    "binNcsv_file = os.path.join(project_path ,'data', 'mine_data', 'bin_Ng.csv')\n",
    "\n",
    "vocabcsv_file = os.path.join(project_path ,'data', 'mine_data', 'vocab_1g.csv')\n",
    "vocabNcsv_file = os.path.join(project_path ,'data', 'mine_data', 'vocab_2g.csv')\n"
   ]
  },
  {
   "cell_type": "code",
   "execution_count": 5,
   "metadata": {},
   "outputs": [],
   "source": [
    "tree_path = os.path.join(project_path ,'data', 'mine_data', 'tree_test.json')"
   ]
  },
  {
   "cell_type": "markdown",
   "metadata": {},
   "source": [
    "### HVAC"
   ]
  },
  {
   "cell_type": "code",
   "execution_count": null,
   "metadata": {},
   "outputs": [],
   "source": [
    "user = \"neo4j\"\n",
    "password = 'HVAC!!'\n",
    "\n",
    "csv_file = os.path.join(project_path ,'data', 'hvac_data', 'readable.csv')\n",
    "csvSchemas_file = os.path.join(project_path , 'data',  'hvac_data', 'hvac_header.yaml')\n",
    "\n",
    "\n",
    "bincsv_file = os.path.join(project_path ,'data', 'hvac_data', 'bin_1g.csv')\n",
    "binNcsv_file = os.path.join(project_path ,'data', 'hvac_data', 'bin_Ng.csv')\n"
   ]
  },
  {
   "cell_type": "markdown",
   "metadata": {},
   "source": [
    "### Others"
   ]
  },
  {
   "cell_type": "code",
   "execution_count": null,
   "metadata": {},
   "outputs": [],
   "source": [
    "user = getpass.getuser()\n",
    "password = getpass.getpass(\"Password:\")\n",
    "\n",
    "csv_file = os.path.join(project_path ,'data', 'hvac_data', 'hvac_raw.csv')\n",
    "csvSchemas_file = os.path.join(project_path , 'data',  'hvac_data', 'hvac_header.yaml')"
   ]
  },
  {
   "cell_type": "markdown",
   "metadata": {},
   "source": [
    "## CSV to Dataframe"
   ]
  },
  {
   "cell_type": "code",
   "execution_count": 3,
   "metadata": {},
   "outputs": [
    {
     "name": "stdout",
     "output_type": "stream",
     "text": [
      "yaml file open\n"
     ]
    }
   ],
   "source": [
    "dataframe = pd.read_csv(csv_file, index_col=0, header=0)\n",
    "dataframe.fillna(\"\", inplace=True)\n",
    "\n",
    "\n",
    "dataframe_bincsv = pd.read_csv(bincsv_file, index_col=0, header=[0,1])\n",
    "dataframe_binNcsv = pd.read_csv(binNcsv_file, index_col=0, header=[0,1])\n",
    "\n",
    "dataframe_vocab1g = pd.read_csv(vocabcsv_file, index_col=0)\n",
    "dataframe_vocabNg = pd.read_csv(vocabNcsv_file, index_col=0)\n",
    "\n",
    "csvSchemas_dict = openYAMLFile(csvSchemas_file)"
   ]
  },
  {
   "cell_type": "code",
   "execution_count": 6,
   "metadata": {},
   "outputs": [],
   "source": [
    "with open(tree_path) as file:\n",
    "    tree_dict = json.load(file)"
   ]
  },
  {
   "cell_type": "markdown",
   "metadata": {},
   "source": [
    "# ConnectGraphDatabase"
   ]
  },
  {
   "cell_type": "code",
   "execution_count": 7,
   "metadata": {},
   "outputs": [
    {
     "name": "stdout",
     "output_type": "stream",
     "text": [
      "yaml file open\n"
     ]
    }
   ],
   "source": [
    "databaseSchema_file = os.path.join(project_path ,'database_storage','database', 'DatabaseSchema.yaml')\n",
    "databaseSchema_dict = openYAMLFile(databaseSchema_file)\n",
    "database = DatabaseNeo4J(\"bolt://127.0.0.1:7687\", user, password, databaseSchema_dict)"
   ]
  },
  {
   "cell_type": "markdown",
   "metadata": {},
   "source": [
    "## Clean the database"
   ]
  },
  {
   "cell_type": "code",
   "execution_count": 15,
   "metadata": {},
   "outputs": [
    {
     "data": {
      "text/plain": [
       "1"
      ]
     },
     "execution_count": 15,
     "metadata": {},
     "output_type": "execute_result"
    }
   ],
   "source": [
    "database.deleteData()\n",
    "\n",
    "database.dropConstraints()\n",
    "database.dropIndexes()\n",
    "\n",
    "database.createIndexes()\n",
    "database.createConstraints()"
   ]
  },
  {
   "cell_type": "markdown",
   "metadata": {},
   "source": [
    "## Create Cypher Queries"
   ]
  },
  {
   "cell_type": "markdown",
   "metadata": {},
   "source": [
    "### Create historical_data"
   ]
  },
  {
   "cell_type": "code",
   "execution_count": 16,
   "metadata": {},
   "outputs": [
    {
     "name": "stderr",
     "output_type": "stream",
     "text": [
      "100%|██████████| 5485/5485 [00:01<00:00, 5131.65it/s]\n",
      "100%|██████████| 5485/5485 [00:18<00:00, 290.27it/s]\n"
     ]
    },
    {
     "data": {
      "text/plain": [
       "1"
      ]
     },
     "execution_count": 16,
     "metadata": {},
     "output_type": "execute_result"
    }
   ],
   "source": [
    "database.runQueries(cypherCreate_historicalMaintenanceWorkOrder (database, dataframe, csvSchemas_dict))"
   ]
  },
  {
   "cell_type": "markdown",
   "metadata": {},
   "source": [
    "### Create tag_data"
   ]
  },
  {
   "cell_type": "code",
   "execution_count": 17,
   "metadata": {},
   "outputs": [
    {
     "name": "stderr",
     "output_type": "stream",
     "text": [
      "100%|██████████| 2058/2058 [01:12<00:00, 28.48it/s]\n",
      "100%|██████████| 2058/2058 [00:11<00:00, 173.63it/s]\n"
     ]
    },
    {
     "data": {
      "text/plain": [
       "1"
      ]
     },
     "execution_count": 17,
     "metadata": {},
     "output_type": "execute_result"
    }
   ],
   "source": [
    "database.runQueries(cypherCreate_tag(database, dataframe_bincsv, dataframe_vocab1g, dataframe_vocabNg))"
   ]
  },
  {
   "cell_type": "code",
   "execution_count": 18,
   "metadata": {},
   "outputs": [
    {
     "name": "stderr",
     "output_type": "stream",
     "text": [
      "100%|██████████| 1401/1401 [00:04<00:00, 346.80it/s]\n",
      "100%|██████████| 1401/1401 [00:06<00:00, 210.44it/s]\n"
     ]
    },
    {
     "data": {
      "text/plain": [
       "1"
      ]
     },
     "execution_count": 18,
     "metadata": {},
     "output_type": "execute_result"
    }
   ],
   "source": [
    "database.runQueries(cypherCreate_tag(database, dataframe_binNcsv, dataframe_vocab1g, dataframe_vocabNg))"
   ]
  },
  {
   "cell_type": "markdown",
   "metadata": {},
   "source": [
    "### Update 1gram-->Ngram"
   ]
  },
  {
   "cell_type": "code",
   "execution_count": 19,
   "metadata": {},
   "outputs": [
    {
     "name": "stderr",
     "output_type": "stream",
     "text": [
      "100%|██████████| 6/6 [00:00<00:00, 28.41it/s]\n"
     ]
    },
    {
     "data": {
      "text/plain": [
       "1"
      ]
     },
     "execution_count": 19,
     "metadata": {},
     "output_type": "execute_result"
    }
   ],
   "source": [
    "database.runQueries(cypherLink_Ngram1gram(database))"
   ]
  },
  {
   "cell_type": "markdown",
   "metadata": {},
   "source": [
    "### Update issue-->item"
   ]
  },
  {
   "cell_type": "code",
   "execution_count": 20,
   "metadata": {},
   "outputs": [
    {
     "name": "stderr",
     "output_type": "stream",
     "text": [
      "100%|██████████| 2/2 [00:00<00:00,  7.10it/s]\n"
     ]
    },
    {
     "data": {
      "text/plain": [
       "1"
      ]
     },
     "execution_count": 20,
     "metadata": {},
     "output_type": "execute_result"
    }
   ],
   "source": [
    "database.runQueries(cypherLink_itemIssue(database))"
   ]
  },
  {
   "cell_type": "markdown",
   "metadata": {},
   "source": [
    "### Update item-->item"
   ]
  },
  {
   "cell_type": "code",
   "execution_count": 21,
   "metadata": {},
   "outputs": [
    {
     "name": "stderr",
     "output_type": "stream",
     "text": [
      "100%|██████████| 24/24 [00:00<00:00, 223.22it/s]\n"
     ]
    },
    {
     "data": {
      "text/plain": [
       "1"
      ]
     },
     "execution_count": 21,
     "metadata": {},
     "output_type": "execute_result"
    }
   ],
   "source": [
    "database.runQueries(cypherCreate_itemsTree(database,tree_dict ))"
   ]
  },
  {
   "cell_type": "markdown",
   "metadata": {},
   "source": [
    "------------------"
   ]
  },
  {
   "cell_type": "code",
   "execution_count": null,
   "metadata": {},
   "outputs": [],
   "source": []
  }
 ],
 "metadata": {
  "kernelspec": {
   "display_name": "Python 3",
   "language": "python",
   "name": "python3"
  },
  "language_info": {
   "codemirror_mode": {
    "name": "ipython",
    "version": 3
   },
   "file_extension": ".py",
   "mimetype": "text/x-python",
   "name": "python",
   "nbconvert_exporter": "python",
   "pygments_lexer": "ipython3",
   "version": "3.6.5"
  }
 },
 "nbformat": 4,
 "nbformat_minor": 2
}

{
 "cells": [
  {
   "cell_type": "code",
   "execution_count": 1,
   "metadata": {},
   "outputs": [
    {
     "name": "stdout",
     "output_type": "stream",
     "text": [
      "/Users/sam11/Git/nestor\n"
     ]
    }
   ],
   "source": [
    "%load_ext autoreload\n",
    "%autoreload 2\n",
    "\n",
    "import sys\n",
    "import os\n",
    "import inspect\n",
    "import getpass\n",
    "import json\n",
    "\n",
    "import pandas as pd\n",
    "import matplotlib.pyplot as plt\n",
    "\n",
    "\n",
    "project_path = os.path.abspath( os.path.dirname(os.path.abspath(inspect.getfile(inspect.currentframe()))) + \"/../\" )\n",
    "sys.path.insert(0, project_path)\n",
    "print(project_path)\n",
    "\n",
    "from database_storage.helper import *\n",
    "\n",
    "from database_storage.database.database import *\n",
    "from database_storage.main import *\n",
    "\n",
    "from database_storage.objects.kpi import *"
   ]
  },
  {
   "cell_type": "code",
   "execution_count": 4,
   "metadata": {},
   "outputs": [],
   "source": [
    "def userinput(dict, node):\n",
    "    \n",
    "    if node in dict.keys():\n",
    "        print(node)\n",
    "\n",
    "        for properties in dict[node]: print(\"\\t\" + properties)\n",
    "        property = input('Which property for the node? ' + node +'\\n\\t')\n",
    "\n",
    "        operation = input('Which operation for the property \"' + properties + '\" ?\\n\\t')\n",
    "\n",
    "        value = input('Which value for the property \"' + properties + '\" ?\\n\\t')\n",
    "\n",
    "        return property , operation, value\n",
    "    else:\n",
    "        print(node, ' does not exists in your database')\n",
    "        return None, None, None"
   ]
  },
  {
   "cell_type": "markdown",
   "metadata": {},
   "source": [
    "# Database"
   ]
  },
  {
   "cell_type": "code",
   "execution_count": 2,
   "metadata": {},
   "outputs": [],
   "source": [
    "user = \"neo4j\"\n",
    "password=\"neo4j\"\n",
    "bolt = \"bolt://maintain.el.nist.gov:7687\""
   ]
  },
  {
   "cell_type": "code",
   "execution_count": 3,
   "metadata": {},
   "outputs": [
    {
     "name": "stdout",
     "output_type": "stream",
     "text": [
      "yaml file open\n"
     ]
    }
   ],
   "source": [
    "databaseSchema_file = os.path.join(project_path ,'database_storage','database', 'DatabaseSchema.yaml')\n",
    "databaseSchema_dict = openYAMLFile(databaseSchema_file)\n",
    "database = DatabaseNeo4J(bolt, user, password, databaseSchema_dict)"
   ]
  },
  {
   "cell_type": "code",
   "execution_count": 5,
   "metadata": {},
   "outputs": [],
   "source": [
    "dict = database.getAllNode()"
   ]
  },
  {
   "cell_type": "markdown",
   "metadata": {},
   "source": [
    "------"
   ]
  },
  {
   "cell_type": "markdown",
   "metadata": {},
   "source": [
    "# Create the objects"
   ]
  },
  {
   "cell_type": "markdown",
   "metadata": {},
   "source": [
    "## Issue"
   ]
  },
  {
   "cell_type": "code",
   "execution_count": 6,
   "metadata": {},
   "outputs": [
    {
     "name": "stdout",
     "output_type": "stream",
     "text": [
      "issue\n",
      "\tdescription_of_problem\n",
      "\tdate_maintenanceworkorder_start\n",
      "\tdate_maintenanceworkorder_completion\n",
      "\tid\n",
      "\tdescription_of_solution\n",
      "\tmachine_down\n",
      "\tpart_in_process\n",
      "Which property for the node? issue\n",
      "\tid\n",
      "Which operation for the property \"part_in_process\" ?\n",
      "\t=\n",
      "Which value for the property \"part_in_process\" ?\n",
      "\t1\n",
      "MATCH issue.id = \"1\" RETURN None\n"
     ]
    }
   ],
   "source": [
    "prop, oper, val =  userinput(dict, \"issue\")\n",
    "issue = OperandIssue(property = prop, operator =oper, value=val, databaseInfo = database.schema)\n",
    "print(issue)"
   ]
  },
  {
   "cell_type": "markdown",
   "metadata": {},
   "source": [
    "## Human"
   ]
  },
  {
   "cell_type": "code",
   "execution_count": null,
   "metadata": {},
   "outputs": [],
   "source": [
    "prop, oper, val =  userinput(dict, \"human\")\n",
    "human = OperandHuman(property = prop, operator =oper, value=val, databaseInfo = database.schema)\n",
    "print(human)"
   ]
  },
  {
   "cell_type": "markdown",
   "metadata": {},
   "source": [
    "## Technician"
   ]
  },
  {
   "cell_type": "code",
   "execution_count": null,
   "metadata": {},
   "outputs": [],
   "source": [
    "prop, oper, val =  userinput(dict, \"technician\")\n",
    "technician =OperandTechnician(property = prop, operator =oper, value=val, databaseInfo = database.schema)\n",
    "print(technician)"
   ]
  },
  {
   "cell_type": "markdown",
   "metadata": {},
   "source": [
    "## Operator"
   ]
  },
  {
   "cell_type": "code",
   "execution_count": null,
   "metadata": {},
   "outputs": [],
   "source": [
    "prop, oper, val =  userinput(dict, \"operator\")\n",
    "operator = OperandOperator(property = prop, operator =oper, value=val, databaseInfo = database.schema)\n",
    "print(operator)"
   ]
  },
  {
   "cell_type": "markdown",
   "metadata": {},
   "source": [
    "## Machine"
   ]
  },
  {
   "cell_type": "code",
   "execution_count": null,
   "metadata": {},
   "outputs": [],
   "source": [
    "prop, oper, val =  userinput(dict, \"machine\")\n",
    "machine = OperandMachine(property = prop, operator =oper, value=val, databaseInfo = database.schema)\n",
    "print(machine)"
   ]
  },
  {
   "cell_type": "markdown",
   "metadata": {},
   "source": [
    "## Machine Type"
   ]
  },
  {
   "cell_type": "code",
   "execution_count": null,
   "metadata": {},
   "outputs": [],
   "source": [
    "prop, oper, val =  userinput(dict, \"type of machine\")\n",
    "machinetype = OperandMachine(property = prop, operator =oper, value=val, databaseInfo = database.schema)\n",
    "print(machinetype)"
   ]
  },
  {
   "cell_type": "markdown",
   "metadata": {},
   "source": [
    "## Tags"
   ]
  },
  {
   "cell_type": "code",
   "execution_count": null,
   "metadata": {},
   "outputs": [],
   "source": [
    "prop, oper, val =  userinput(dict, \"all tags\")\n",
    "tag = OperandTag(property = prop, operator =oper, value=val, databaseInfo = database.schema)\n",
    "print(tag)"
   ]
  },
  {
   "cell_type": "markdown",
   "metadata": {},
   "source": [
    "## Tags - OneGram"
   ]
  },
  {
   "cell_type": "code",
   "execution_count": null,
   "metadata": {},
   "outputs": [],
   "source": [
    "prop, oper, val =  userinput(dict, \"tags one_gram\")\n",
    "one_gram = OperandTagOnegram(property = prop, operator =oper, value=val, databaseInfo = database.schema)\n",
    "print(one_gram)"
   ]
  },
  {
   "cell_type": "markdown",
   "metadata": {},
   "source": [
    "## Tags - NGram"
   ]
  },
  {
   "cell_type": "code",
   "execution_count": null,
   "metadata": {},
   "outputs": [],
   "source": [
    "prop, oper, val =  userinput(dict, \"tags n_gram\")\n",
    "n_gram = OperandTagNgram(property = prop, operator =oper, value=val, databaseInfo = database.schema)\n",
    "print(n_gram)"
   ]
  },
  {
   "cell_type": "markdown",
   "metadata": {},
   "source": [
    "## Tags - Other"
   ]
  },
  {
   "cell_type": "code",
   "execution_count": null,
   "metadata": {},
   "outputs": [],
   "source": [
    "prop, oper, val =  userinput(dict, \"tags other\")\n",
    "other = OperandTechnician(property = prop, operator =oper, value=val, databaseInfo = database.schema)\n",
    "print(other)"
   ]
  },
  {
   "cell_type": "markdown",
   "metadata": {},
   "source": [
    "## Tags - OneGram - Problem"
   ]
  },
  {
   "cell_type": "code",
   "execution_count": null,
   "metadata": {},
   "outputs": [],
   "source": [
    "prop, oper, val =  userinput(dict, \"tags problem\")\n",
    "problem = OperandTagProblem(property = prop, operator =oper, value=val, databaseInfo = database.schema)\n",
    "print(problem)"
   ]
  },
  {
   "cell_type": "markdown",
   "metadata": {},
   "source": [
    "## Tags - OneGram - Solution"
   ]
  },
  {
   "cell_type": "code",
   "execution_count": null,
   "metadata": {},
   "outputs": [],
   "source": [
    "prop, oper, val =  userinput(dict, \"tags solution\")\n",
    "solution = OperandTagSolution(property = prop, operator =oper, value=val, databaseInfo = database.schema)\n",
    "print(solution)"
   ]
  },
  {
   "cell_type": "markdown",
   "metadata": {},
   "source": [
    "## Tags - Other - NA"
   ]
  },
  {
   "cell_type": "code",
   "execution_count": null,
   "metadata": {},
   "outputs": [],
   "source": [
    "prop, oper, val =  userinput(dict, \"tags na\")\n",
    "na = OperandTagNa(property = prop, operator =oper, value=val, databaseInfo = database.schema)\n",
    "print(na)"
   ]
  },
  {
   "cell_type": "markdown",
   "metadata": {},
   "source": [
    "## Tags - Other - StopWord"
   ]
  },
  {
   "cell_type": "code",
   "execution_count": null,
   "metadata": {},
   "outputs": [],
   "source": [
    "prop, oper, val =  userinput(dict, \"tags stop_word\")\n",
    "stop_word = OperandTagStopWord(property = prop, operator =oper, value=val, databaseInfo = database.schema)\n",
    "print(stop_word)"
   ]
  },
  {
   "cell_type": "markdown",
   "metadata": {},
   "source": [
    "## Tags - NGram - ProblemItem"
   ]
  },
  {
   "cell_type": "code",
   "execution_count": null,
   "metadata": {},
   "outputs": [],
   "source": [
    "prop, oper, val =  userinput(dict, \"tags problem_item\")\n",
    "problem_item = OperandTagProblemItem(property = prop, operator =oper, value=val, databaseInfo = database.schema)\n",
    "print(problem_item)"
   ]
  },
  {
   "cell_type": "markdown",
   "metadata": {},
   "source": [
    "## Tags - NGram - SolutionItem"
   ]
  },
  {
   "cell_type": "code",
   "execution_count": null,
   "metadata": {},
   "outputs": [],
   "source": [
    "prop, oper, val =  userinput(dict, \"tags solution_item\")\n",
    "solution_item = OperandTagSolutionItem(property = prop, operator =oper, value=val, databaseInfo = database.schema)\n",
    "print(solution_item)"
   ]
  },
  {
   "cell_type": "markdown",
   "metadata": {},
   "source": [
    "## Tags - OneGram - Item"
   ]
  },
  {
   "cell_type": "code",
   "execution_count": null,
   "metadata": {},
   "outputs": [],
   "source": [
    "prop, oper, val =  userinput(dict, \"tags item\")\n",
    "item = OperandTagItem(property = prop, operator =oper, value=val, databaseInfo = database.schema)\n",
    "print(item)"
   ]
  },
  {
   "cell_type": "markdown",
   "metadata": {},
   "source": [
    "## Tags - OneGram - Item as problem"
   ]
  },
  {
   "cell_type": "code",
   "execution_count": null,
   "metadata": {},
   "outputs": [],
   "source": [
    "prop, oper, val =  userinput(dict, \"tag item as problem\")\n",
    "item_problem = OperandTagItemAsProblem(property = prop, operator =oper, value=val, databaseInfo = database.schema)\n",
    "print(item_problem)"
   ]
  },
  {
   "cell_type": "markdown",
   "metadata": {},
   "source": [
    "## Tags - OneGram - Item as solution"
   ]
  },
  {
   "cell_type": "code",
   "execution_count": null,
   "metadata": {},
   "outputs": [],
   "source": [
    "prop, oper, val =  userinput(dict, \"tag item as solution\")\n",
    "item_solution = OperandTagItemAsSolution(property = prop, operator =oper, value=val, databaseInfo = database.schema)\n",
    "print(item_solution)"
   ]
  },
  {
   "cell_type": "markdown",
   "metadata": {},
   "source": [
    "------"
   ]
  },
  {
   "cell_type": "markdown",
   "metadata": {},
   "source": [
    "# RETURN"
   ]
  },
  {
   "cell_type": "code",
   "execution_count": null,
   "metadata": {},
   "outputs": [],
   "source": [
    "### Tag Problem\n",
    "res1 = OperandTagProblem(result = \"keyword\", databaseInfo = database.schema)\n",
    "res2 = OperandTagItem(result = \"keyword\", databaseInfo = database.schema)"
   ]
  },
  {
   "cell_type": "markdown",
   "metadata": {},
   "source": [
    "# KPI"
   ]
  },
  {
   "cell_type": "code",
   "execution_count": null,
   "metadata": {},
   "outputs": [],
   "source": [
    "query = -technician - -machine + res1 + res2"
   ]
  },
  {
   "cell_type": "code",
   "execution_count": null,
   "metadata": {},
   "outputs": [],
   "source": [
    "print(query)"
   ]
  },
  {
   "cell_type": "code",
   "execution_count": null,
   "metadata": {},
   "outputs": [],
   "source": [
    "resultToObservationDataframe(database.runQuery(query.cypher_filterQuery())[1])"
   ]
  },
  {
   "cell_type": "code",
   "execution_count": null,
   "metadata": {},
   "outputs": [],
   "source": [
    "print(query.cypher_filterQuery())"
   ]
  },
  {
   "cell_type": "markdown",
   "metadata": {},
   "source": [
    "------"
   ]
  },
  {
   "cell_type": "markdown",
   "metadata": {},
   "source": [
    "# KPI from \"Developing meintenance key performance indocators from maintenance work order data\""
   ]
  },
  {
   "cell_type": "code",
   "execution_count": 7,
   "metadata": {},
   "outputs": [],
   "source": [
    "itemAsProblem = OperandTagItemAsProblem(result = \"keyword\", databaseInfo = database.schema)\n",
    "machine = OperandMachine(result = \"name\", databaseInfo = database.schema)\n",
    "machinetype = OperandMachine(result = \"type\", databaseInfo = database.schema)\n",
    "technician = OperandTechnician(result = \"name\", databaseInfo = database.schema)\n",
    "problemitem = OperandTagProblemItem(result = \"keyword\", databaseInfo = database.schema)\n",
    "problem = OperandTagProblem(result = \"keyword\", databaseInfo = database.schema)\n",
    "\n",
    "issue_dateMWOstart = OperandIssue(result = \"date_maintenanceworkorder_start\", databaseInfo = database.schema)\n",
    "issue_dateMWOend = OperandIssue(result = \"date_maintenanceworkorder_completion\", databaseInfo = database.schema)"
   ]
  },
  {
   "cell_type": "markdown",
   "metadata": {},
   "source": [
    "### 2.1.1 Common Problem Items"
   ]
  },
  {
   "cell_type": "code",
   "execution_count": 8,
   "metadata": {},
   "outputs": [
    {
     "name": "stderr",
     "output_type": "stream",
     "text": [
      "0it [00:00, ?it/s]\n"
     ]
    },
    {
     "data": {
      "text/html": [
       "<div>\n",
       "<style scoped>\n",
       "    .dataframe tbody tr th:only-of-type {\n",
       "        vertical-align: middle;\n",
       "    }\n",
       "\n",
       "    .dataframe tbody tr th {\n",
       "        vertical-align: top;\n",
       "    }\n",
       "\n",
       "    .dataframe thead th {\n",
       "        text-align: right;\n",
       "    }\n",
       "</style>\n",
       "<table border=\"1\" class=\"dataframe\">\n",
       "  <thead>\n",
       "    <tr style=\"text-align: right;\">\n",
       "      <th></th>\n",
       "      <th>tagitemasproblem.keyword</th>\n",
       "    </tr>\n",
       "  </thead>\n",
       "  <tbody>\n",
       "  </tbody>\n",
       "</table>\n",
       "</div>"
      ],
      "text/plain": [
       "Empty DataFrame\n",
       "Columns: [tagitemasproblem.keyword]\n",
       "Index: []"
      ]
     },
     "execution_count": 8,
     "metadata": {},
     "output_type": "execute_result"
    }
   ],
   "source": [
    "kpi = itemAsProblem\n",
    "df = resultToObservationDataframe(database.runQuery(kpi.cypher_filterQuery())[1])\n",
    "df.head()"
   ]
  },
  {
   "cell_type": "markdown",
   "metadata": {},
   "source": [
    "### 2.1.2 Common Problem Items per Time Between Failure"
   ]
  },
  {
   "cell_type": "code",
   "execution_count": 9,
   "metadata": {},
   "outputs": [
    {
     "name": "stderr",
     "output_type": "stream",
     "text": [
      "0it [00:00, ?it/s]\n"
     ]
    },
    {
     "data": {
      "text/html": [
       "<div>\n",
       "<style scoped>\n",
       "    .dataframe tbody tr th:only-of-type {\n",
       "        vertical-align: middle;\n",
       "    }\n",
       "\n",
       "    .dataframe tbody tr th {\n",
       "        vertical-align: top;\n",
       "    }\n",
       "\n",
       "    .dataframe thead th {\n",
       "        text-align: right;\n",
       "    }\n",
       "</style>\n",
       "<table border=\"1\" class=\"dataframe\">\n",
       "  <thead>\n",
       "    <tr style=\"text-align: right;\">\n",
       "      <th></th>\n",
       "      <th>issue.date_maintenanceworkorder_completion</th>\n",
       "      <th>issue.date_maintenanceworkorder_start</th>\n",
       "      <th>tagitemasproblem.keyword</th>\n",
       "    </tr>\n",
       "  </thead>\n",
       "  <tbody>\n",
       "  </tbody>\n",
       "</table>\n",
       "</div>"
      ],
      "text/plain": [
       "Empty DataFrame\n",
       "Columns: [issue.date_maintenanceworkorder_completion, issue.date_maintenanceworkorder_start, tagitemasproblem.keyword]\n",
       "Index: []"
      ]
     },
     "execution_count": 9,
     "metadata": {},
     "output_type": "execute_result"
    }
   ],
   "source": [
    "kpi = itemAsProblem + issue_dateMWOstart + issue_dateMWOend\n",
    "df = resultToObservationDataframe(database.runQuery(kpi.cypher_filterQuery())[1])\n",
    "df.head()"
   ]
  },
  {
   "cell_type": "markdown",
   "metadata": {},
   "source": [
    "### 2.1.3 Common Problem Items by Machine Type"
   ]
  },
  {
   "cell_type": "code",
   "execution_count": 10,
   "metadata": {},
   "outputs": [
    {
     "name": "stderr",
     "output_type": "stream",
     "text": [
      "0it [00:00, ?it/s]\n"
     ]
    },
    {
     "data": {
      "text/html": [
       "<div>\n",
       "<style scoped>\n",
       "    .dataframe tbody tr th:only-of-type {\n",
       "        vertical-align: middle;\n",
       "    }\n",
       "\n",
       "    .dataframe tbody tr th {\n",
       "        vertical-align: top;\n",
       "    }\n",
       "\n",
       "    .dataframe thead th {\n",
       "        text-align: right;\n",
       "    }\n",
       "</style>\n",
       "<table border=\"1\" class=\"dataframe\">\n",
       "  <thead>\n",
       "    <tr style=\"text-align: right;\">\n",
       "      <th></th>\n",
       "      <th>machinetype.type</th>\n",
       "      <th>tagitemasproblem.keyword</th>\n",
       "    </tr>\n",
       "  </thead>\n",
       "  <tbody>\n",
       "  </tbody>\n",
       "</table>\n",
       "</div>"
      ],
      "text/plain": [
       "Empty DataFrame\n",
       "Columns: [machinetype.type, tagitemasproblem.keyword]\n",
       "Index: []"
      ]
     },
     "execution_count": 10,
     "metadata": {},
     "output_type": "execute_result"
    }
   ],
   "source": [
    "kpi = itemAsProblem + machinetype\n",
    "df = resultToObservationDataframe(database.runQuery(kpi.cypher_filterQuery())[1])\n",
    "df.head()"
   ]
  },
  {
   "cell_type": "markdown",
   "metadata": {},
   "source": [
    "### 2.1.4 Common Problem Items & Action per Time to Repair"
   ]
  },
  {
   "cell_type": "code",
   "execution_count": 11,
   "metadata": {},
   "outputs": [
    {
     "name": "stderr",
     "output_type": "stream",
     "text": [
      "0it [00:00, ?it/s]\n"
     ]
    },
    {
     "data": {
      "text/html": [
       "<div>\n",
       "<style scoped>\n",
       "    .dataframe tbody tr th:only-of-type {\n",
       "        vertical-align: middle;\n",
       "    }\n",
       "\n",
       "    .dataframe tbody tr th {\n",
       "        vertical-align: top;\n",
       "    }\n",
       "\n",
       "    .dataframe thead th {\n",
       "        text-align: right;\n",
       "    }\n",
       "</style>\n",
       "<table border=\"1\" class=\"dataframe\">\n",
       "  <thead>\n",
       "    <tr style=\"text-align: right;\">\n",
       "      <th></th>\n",
       "      <th>issue.date_maintenanceworkorder_completion</th>\n",
       "      <th>issue.date_maintenanceworkorder_start</th>\n",
       "      <th>tagproblemitem.keyword</th>\n",
       "    </tr>\n",
       "  </thead>\n",
       "  <tbody>\n",
       "  </tbody>\n",
       "</table>\n",
       "</div>"
      ],
      "text/plain": [
       "Empty DataFrame\n",
       "Columns: [issue.date_maintenanceworkorder_completion, issue.date_maintenanceworkorder_start, tagproblemitem.keyword]\n",
       "Index: []"
      ]
     },
     "execution_count": 11,
     "metadata": {},
     "output_type": "execute_result"
    }
   ],
   "source": [
    "kpi = problemitem + issue_dateMWOstart + issue_dateMWOend\n",
    "df = resultToObservationDataframe(database.runQuery(kpi.cypher_filterQuery())[1])\n",
    "df.head()"
   ]
  },
  {
   "cell_type": "markdown",
   "metadata": {},
   "source": [
    "### 2.2.1 Machine per Time Between Failure"
   ]
  },
  {
   "cell_type": "code",
   "execution_count": 12,
   "metadata": {},
   "outputs": [
    {
     "name": "stderr",
     "output_type": "stream",
     "text": [
      "3431it [00:00, 168418.15it/s]\n"
     ]
    },
    {
     "data": {
      "text/html": [
       "<div>\n",
       "<style scoped>\n",
       "    .dataframe tbody tr th:only-of-type {\n",
       "        vertical-align: middle;\n",
       "    }\n",
       "\n",
       "    .dataframe tbody tr th {\n",
       "        vertical-align: top;\n",
       "    }\n",
       "\n",
       "    .dataframe thead th {\n",
       "        text-align: right;\n",
       "    }\n",
       "</style>\n",
       "<table border=\"1\" class=\"dataframe\">\n",
       "  <thead>\n",
       "    <tr style=\"text-align: right;\">\n",
       "      <th></th>\n",
       "      <th>machine.name</th>\n",
       "      <th>issue.date_maintenanceworkorder_start</th>\n",
       "      <th>issue.date_maintenanceworkorder_completion</th>\n",
       "    </tr>\n",
       "  </thead>\n",
       "  <tbody>\n",
       "    <tr>\n",
       "      <th>0</th>\n",
       "      <td>i17</td>\n",
       "      <td>2017-01-24T08:15:00</td>\n",
       "      <td>2017-01-30T09:00:00</td>\n",
       "    </tr>\n",
       "    <tr>\n",
       "      <th>1</th>\n",
       "      <td>i17</td>\n",
       "      <td>2016-10-07T08:30:00</td>\n",
       "      <td>2016-10-27T00:00:00</td>\n",
       "    </tr>\n",
       "    <tr>\n",
       "      <th>2</th>\n",
       "      <td>i17</td>\n",
       "      <td>2016-10-07T06:00:00</td>\n",
       "      <td>2016-10-26T00:00:00</td>\n",
       "    </tr>\n",
       "    <tr>\n",
       "      <th>3</th>\n",
       "      <td>i17</td>\n",
       "      <td>2016-09-27T08:30:00</td>\n",
       "      <td>2016-09-27T10:00:00</td>\n",
       "    </tr>\n",
       "    <tr>\n",
       "      <th>4</th>\n",
       "      <td>i17</td>\n",
       "      <td>2016-09-22T14:00:00</td>\n",
       "      <td>2016-09-23T12:00:00</td>\n",
       "    </tr>\n",
       "  </tbody>\n",
       "</table>\n",
       "</div>"
      ],
      "text/plain": [
       "  machine.name issue.date_maintenanceworkorder_start  \\\n",
       "0          i17                   2017-01-24T08:15:00   \n",
       "1          i17                   2016-10-07T08:30:00   \n",
       "2          i17                   2016-10-07T06:00:00   \n",
       "3          i17                   2016-09-27T08:30:00   \n",
       "4          i17                   2016-09-22T14:00:00   \n",
       "\n",
       "  issue.date_maintenanceworkorder_completion  \n",
       "0                        2017-01-30T09:00:00  \n",
       "1                        2016-10-27T00:00:00  \n",
       "2                        2016-10-26T00:00:00  \n",
       "3                        2016-09-27T10:00:00  \n",
       "4                        2016-09-23T12:00:00  "
      ]
     },
     "execution_count": 12,
     "metadata": {},
     "output_type": "execute_result"
    }
   ],
   "source": [
    "kpi = machine + issue_dateMWOstart + issue_dateMWOend\n",
    "df = resultToObservationDataframe(database.runQuery(kpi.cypher_filterQuery())[1])\n",
    "df.head()"
   ]
  },
  {
   "cell_type": "markdown",
   "metadata": {},
   "source": [
    "### 2.2.2 Machine by Problem Action per Time Between Failure"
   ]
  },
  {
   "cell_type": "code",
   "execution_count": null,
   "metadata": {},
   "outputs": [],
   "source": [
    "kpi = machine + problem + issue_dateMWOstart + issue_dateMWOend\n",
    "df = resultToObservationDataframe(database.runQuery(kpi.cypher_filterQuery())[1])\n",
    "df.head()"
   ]
  },
  {
   "cell_type": "markdown",
   "metadata": {},
   "source": [
    "### 2.2.3 Machine Type per Time to Repair"
   ]
  },
  {
   "cell_type": "code",
   "execution_count": null,
   "metadata": {},
   "outputs": [],
   "source": [
    "kpi = machinetype + issue_dateMWOstart + issue_dateMWOend\n",
    "df = resultToObservationDataframe(database.runQuery(kpi.cypher_filterQuery())[1])\n",
    "df.head()"
   ]
  },
  {
   "cell_type": "markdown",
   "metadata": {},
   "source": [
    "### 2.2.4 Machine type per Problem Item per Time to Repair"
   ]
  },
  {
   "cell_type": "code",
   "execution_count": null,
   "metadata": {},
   "outputs": [],
   "source": [
    "kpi = machinetype +  itemAsProblem + issue_dateMWOstart + issue_dateMWOend\n",
    "df = resultToObservationDataframe(database.runQuery(kpi.cypher_filterQuery())[1])\n",
    "df.head()"
   ]
  },
  {
   "cell_type": "markdown",
   "metadata": {},
   "source": [
    "### 2.3.1 Maintenance Technician Expertise per Problem Item"
   ]
  },
  {
   "cell_type": "code",
   "execution_count": null,
   "metadata": {},
   "outputs": [],
   "source": [
    "kpi = technician + itemAsProblem\n",
    "df = resultToObservationDataframe(database.runQuery(kpi.cypher_filterQuery())[1])\n",
    "df.head()"
   ]
  },
  {
   "cell_type": "markdown",
   "metadata": {},
   "source": [
    "### 2.3.2 Maintenance Technician Expertise per Problem Action"
   ]
  },
  {
   "cell_type": "code",
   "execution_count": null,
   "metadata": {},
   "outputs": [],
   "source": [
    "kpi = technician + problem\n",
    "df = resultToObservationDataframe(database.runQuery(kpi.cypher_filterQuery())[1])\n",
    "df.head()"
   ]
  },
  {
   "cell_type": "markdown",
   "metadata": {},
   "source": [
    "### 2.3.3 Maintenance Technician Expertise per Problem Item & Action per Time to Repair\n",
    "### 2.3.4 Maintenance Technician Expertise per Problem Item & Action per Time to Diagnose\n",
    "### 2.3.5 Maintenance Technician Expertise per Solution Item & Action per Time to Fix\n"
   ]
  },
  {
   "cell_type": "code",
   "execution_count": null,
   "metadata": {},
   "outputs": [],
   "source": [
    "kpi = technician + problemitem + issue_dateMWOstart + issue_dateMWOend \n",
    "df = resultToObservationDataframe(database.runQuery(kpi.cypher_filterQuery())[1])\n",
    "df.head()"
   ]
  },
  {
   "cell_type": "markdown",
   "metadata": {},
   "source": [
    "### 2.3.6 Maintenance Technician Expertise per Machine Type per Time to Repair"
   ]
  },
  {
   "cell_type": "code",
   "execution_count": null,
   "metadata": {},
   "outputs": [],
   "source": [
    "kpi = technician + machinetype + issue_dateMWOstart + issue_dateMWOend \n",
    "df = resultToObservationDataframe(database.runQuery(kpi.cypher_filterQuery())[1])\n",
    "df.head()"
   ]
  },
  {
   "cell_type": "code",
   "execution_count": null,
   "metadata": {},
   "outputs": [],
   "source": []
  }
 ],
 "metadata": {
  "kernelspec": {
   "display_name": "Python 3",
   "language": "python",
   "name": "python3"
  },
  "language_info": {
   "codemirror_mode": {
    "name": "ipython",
    "version": 3
   },
   "file_extension": ".py",
   "mimetype": "text/x-python",
   "name": "python",
   "nbconvert_exporter": "python",
   "pygments_lexer": "ipython3",
   "version": "3.6.5"
  }
 },
 "nbformat": 4,
 "nbformat_minor": 2
}

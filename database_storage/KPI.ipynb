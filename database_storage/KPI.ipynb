{
 "cells": [
  {
   "cell_type": "code",
   "execution_count": 1,
   "metadata": {},
   "outputs": [
    {
     "name": "stdout",
     "output_type": "stream",
     "text": [
      "/Users/sam11/Git/nestor\n"
     ]
    }
   ],
   "source": [
    "%load_ext autoreload\n",
    "%autoreload 2\n",
    "\n",
    "import sys\n",
    "import os\n",
    "import inspect\n",
    "import getpass\n",
    "import json\n",
    "\n",
    "import pandas as pd\n",
    "import matplotlib.pyplot as plt\n",
    "\n",
    "\n",
    "project_path = os.path.abspath( os.path.dirname(os.path.abspath(inspect.getfile(inspect.currentframe()))) + \"/../\" )\n",
    "sys.path.insert(0, project_path)\n",
    "print(project_path)\n",
    "\n",
    "from database_storage.helper import *\n",
    "\n",
    "from database_storage.database.database import *\n",
    "from database_storage.main import *\n",
    "\n",
    "from database_storage.objects.kpi import *"
   ]
  },
  {
   "cell_type": "code",
   "execution_count": 2,
   "metadata": {},
   "outputs": [],
   "source": [
    "def userinput(dict, node):\n",
    "    \n",
    "    if node in dict.keys():\n",
    "        print(node)\n",
    "\n",
    "        for properties in dict[node]: print(\"\\t\" + properties)\n",
    "        property = input('Which property for the node? ' + node +'\\n\\t')\n",
    "\n",
    "        operation = input('Which operation for the property \"' + properties + '\" ?\\n\\t')\n",
    "\n",
    "        value = input('Which value for the property \"' + properties + '\" ?\\n\\t')\n",
    "\n",
    "        return property , operation, value\n",
    "    else:\n",
    "        print(node, ' does not exists in your database')\n",
    "        return None, None, None"
   ]
  },
  {
   "cell_type": "markdown",
   "metadata": {},
   "source": [
    "# Database"
   ]
  },
  {
   "cell_type": "code",
   "execution_count": 3,
   "metadata": {},
   "outputs": [],
   "source": [
    "user = \"neo4j\"\n",
    "password=\"GREYSTONE!!\""
   ]
  },
  {
   "cell_type": "code",
   "execution_count": 9,
   "metadata": {},
   "outputs": [
    {
     "name": "stdout",
     "output_type": "stream",
     "text": [
      "yaml file open\n"
     ]
    }
   ],
   "source": [
    "databaseSchema_file = os.path.join(project_path ,'database_storage','database', 'DatabaseSchema.yaml')\n",
    "databaseSchema_dict = openYAMLFile(databaseSchema_file)\n",
    "database = DatabaseNeo4J(\"bolt://127.0.0.1:7687\", user, password, databaseSchema_dict)"
   ]
  },
  {
   "cell_type": "code",
   "execution_count": 10,
   "metadata": {},
   "outputs": [],
   "source": [
    "dict = database.getAllNode()"
   ]
  },
  {
   "cell_type": "markdown",
   "metadata": {},
   "source": [
    "------"
   ]
  },
  {
   "cell_type": "markdown",
   "metadata": {},
   "source": [
    "# Create the objects"
   ]
  },
  {
   "cell_type": "markdown",
   "metadata": {},
   "source": [
    "## Issue"
   ]
  },
  {
   "cell_type": "code",
   "execution_count": null,
   "metadata": {},
   "outputs": [],
   "source": [
    "prop, oper, val =  userinput(dict, \"issue\")\n",
    "issue = OperandIssue(property = prop, operator =oper, value=val, databaseInfo = database.schema)\n",
    "print(issue)"
   ]
  },
  {
   "cell_type": "markdown",
   "metadata": {},
   "source": [
    "## Human"
   ]
  },
  {
   "cell_type": "code",
   "execution_count": null,
   "metadata": {},
   "outputs": [],
   "source": [
    "prop, oper, val =  userinput(dict, \"human\")\n",
    "human = OperandHuman(property = prop, operator =oper, value=val, databaseInfo = database.schema)\n",
    "print(human)"
   ]
  },
  {
   "cell_type": "markdown",
   "metadata": {},
   "source": [
    "## Technician"
   ]
  },
  {
   "cell_type": "code",
   "execution_count": null,
   "metadata": {},
   "outputs": [],
   "source": [
    "prop, oper, val =  userinput(dict, \"technician\")\n",
    "technician = OperandTechnician(property = prop, operator =oper, value=val, databaseInfo = database.schema)\n",
    "print(technician)"
   ]
  },
  {
   "cell_type": "markdown",
   "metadata": {},
   "source": [
    "## Operator"
   ]
  },
  {
   "cell_type": "code",
   "execution_count": null,
   "metadata": {},
   "outputs": [],
   "source": [
    "prop, oper, val =  userinput(dict, \"operator\")\n",
    "operator = OperandOperator(property = prop, operator =oper, value=val, databaseInfo = database.schema)\n",
    "print(operator)"
   ]
  },
  {
   "cell_type": "markdown",
   "metadata": {},
   "source": [
    "## Machine"
   ]
  },
  {
   "cell_type": "code",
   "execution_count": null,
   "metadata": {},
   "outputs": [],
   "source": [
    "prop, oper, val =  userinput(dict, \"machine\")\n",
    "machine = OperandMachine(property = prop, operator =oper, value=val, databaseInfo = database.schema)\n",
    "print(machine)"
   ]
  },
  {
   "cell_type": "markdown",
   "metadata": {},
   "source": [
    "## Machine Type"
   ]
  },
  {
   "cell_type": "code",
   "execution_count": null,
   "metadata": {},
   "outputs": [],
   "source": [
    "prop, oper, val =  userinput(dict, \"type of machine\")\n",
    "machinetype = OperandMachine(property = prop, operator =oper, value=val, databaseInfo = database.schema)\n",
    "print(machinetype)"
   ]
  },
  {
   "cell_type": "markdown",
   "metadata": {},
   "source": [
    "## Tags"
   ]
  },
  {
   "cell_type": "code",
   "execution_count": null,
   "metadata": {},
   "outputs": [],
   "source": [
    "prop, oper, val =  userinput(dict, \"all tags\")\n",
    "tag = OperandTag(property = prop, operator =oper, value=val, databaseInfo = database.schema)\n",
    "print(tag)"
   ]
  },
  {
   "cell_type": "markdown",
   "metadata": {},
   "source": [
    "## Tags - OneGram"
   ]
  },
  {
   "cell_type": "code",
   "execution_count": null,
   "metadata": {},
   "outputs": [],
   "source": [
    "prop, oper, val =  userinput(dict, \"tags one_gram\")\n",
    "one_gram = OperandTagOnegram(property = prop, operator =oper, value=val, databaseInfo = database.schema)\n",
    "print(one_gram)"
   ]
  },
  {
   "cell_type": "markdown",
   "metadata": {},
   "source": [
    "## Tags - NGram"
   ]
  },
  {
   "cell_type": "code",
   "execution_count": null,
   "metadata": {},
   "outputs": [],
   "source": [
    "prop, oper, val =  userinput(dict, \"tags n_gram\")\n",
    "n_gram = OperandTagNgram(property = prop, operator =oper, value=val, databaseInfo = database.schema)\n",
    "print(n_gram)"
   ]
  },
  {
   "cell_type": "markdown",
   "metadata": {},
   "source": [
    "## Tags - Other"
   ]
  },
  {
   "cell_type": "code",
   "execution_count": null,
   "metadata": {},
   "outputs": [],
   "source": [
    "prop, oper, val =  userinput(dict, \"tags other\")\n",
    "other = OperandTechnician(property = prop, operator =oper, value=val, databaseInfo = database.schema)\n",
    "print(other)"
   ]
  },
  {
   "cell_type": "markdown",
   "metadata": {},
   "source": [
    "## Tags - OneGram - Problem"
   ]
  },
  {
   "cell_type": "code",
   "execution_count": null,
   "metadata": {},
   "outputs": [],
   "source": [
    "prop, oper, val =  userinput(dict, \"tags problem\")\n",
    "problem = OperandTagProblem(property = prop, operator =oper, value=val, databaseInfo = database.schema)\n",
    "print(problem)"
   ]
  },
  {
   "cell_type": "markdown",
   "metadata": {},
   "source": [
    "## Tags - OneGram - Solution"
   ]
  },
  {
   "cell_type": "code",
   "execution_count": null,
   "metadata": {},
   "outputs": [],
   "source": [
    "prop, oper, val =  userinput(dict, \"tags solution\")\n",
    "solution = OperandTagSolution(property = prop, operator =oper, value=val, databaseInfo = database.schema)\n",
    "print(solution)"
   ]
  },
  {
   "cell_type": "markdown",
   "metadata": {},
   "source": [
    "## Tags - Other - NA"
   ]
  },
  {
   "cell_type": "code",
   "execution_count": null,
   "metadata": {},
   "outputs": [],
   "source": [
    "prop, oper, val =  userinput(dict, \"tags na\")\n",
    "na = OperandTagNa(property = prop, operator =oper, value=val, databaseInfo = database.schema)\n",
    "print(na)"
   ]
  },
  {
   "cell_type": "markdown",
   "metadata": {},
   "source": [
    "## Tags - Other - StopWord"
   ]
  },
  {
   "cell_type": "code",
   "execution_count": null,
   "metadata": {},
   "outputs": [],
   "source": [
    "prop, oper, val =  userinput(dict, \"tags stop_word\")\n",
    "stop_word = OperandTagStopWord(property = prop, operator =oper, value=val, databaseInfo = database.schema)\n",
    "print(stop_word)"
   ]
  },
  {
   "cell_type": "markdown",
   "metadata": {},
   "source": [
    "## Tags - NGram - ProblemItem"
   ]
  },
  {
   "cell_type": "code",
   "execution_count": null,
   "metadata": {},
   "outputs": [],
   "source": [
    "prop, oper, val =  userinput(dict, \"tags problem_item\")\n",
    "problem_item = OperandTagProblemItem(property = prop, operator =oper, value=val, databaseInfo = database.schema)\n",
    "print(problem_item)"
   ]
  },
  {
   "cell_type": "markdown",
   "metadata": {},
   "source": [
    "## Tags - NGram - SolutionItem"
   ]
  },
  {
   "cell_type": "code",
   "execution_count": null,
   "metadata": {},
   "outputs": [],
   "source": [
    "prop, oper, val =  userinput(dict, \"tags solution_item\")\n",
    "solution_item = OperandTagSolutionItem(property = prop, operator =oper, value=val, databaseInfo = database.schema)\n",
    "print(solution_item)"
   ]
  },
  {
   "cell_type": "markdown",
   "metadata": {},
   "source": [
    "## Tags - OneGram - Item"
   ]
  },
  {
   "cell_type": "code",
   "execution_count": null,
   "metadata": {},
   "outputs": [],
   "source": [
    "prop, oper, val =  userinput(dict, \"tags item\")\n",
    "item = OperandTagItem(property = prop, operator =oper, value=val, databaseInfo = database.schema)\n",
    "print(item)"
   ]
  },
  {
   "cell_type": "markdown",
   "metadata": {},
   "source": [
    "## Tags - OneGram - Item as problem"
   ]
  },
  {
   "cell_type": "code",
   "execution_count": null,
   "metadata": {},
   "outputs": [],
   "source": [
    "prop, oper, val =  userinput(dict, \"tag item as problem\")\n",
    "item_problem = OperandTagItemAsProblem(property = prop, operator =oper, value=val, databaseInfo = database.schema)\n",
    "print(item_problem)"
   ]
  },
  {
   "cell_type": "markdown",
   "metadata": {},
   "source": [
    "## Tags - OneGram - Item as solution"
   ]
  },
  {
   "cell_type": "code",
   "execution_count": null,
   "metadata": {},
   "outputs": [],
   "source": [
    "prop, oper, val =  userinput(dict, \"tag item as solution\")\n",
    "item_solution = OperandTagItemAsSolution(property = prop, operator =oper, value=val, databaseInfo = database.schema)\n",
    "print(item_solution)"
   ]
  },
  {
   "cell_type": "markdown",
   "metadata": {},
   "source": [
    "------"
   ]
  },
  {
   "cell_type": "markdown",
   "metadata": {},
   "source": [
    "# RETURN"
   ]
  },
  {
   "cell_type": "code",
   "execution_count": null,
   "metadata": {},
   "outputs": [],
   "source": [
    "### Tag Problem\n",
    "res1 = OperandTagProblem(result = \"keyword\", databaseInfo = database.schema)\n",
    "res2 = OperandTagItem(result = \"keyword\", databaseInfo = database.schema)"
   ]
  },
  {
   "cell_type": "markdown",
   "metadata": {},
   "source": [
    "# KPI"
   ]
  },
  {
   "cell_type": "code",
   "execution_count": null,
   "metadata": {},
   "outputs": [],
   "source": [
    "query = machine + technician + res1 + res2"
   ]
  },
  {
   "cell_type": "code",
   "execution_count": null,
   "metadata": {},
   "outputs": [],
   "source": [
    "resultToObservationDataframe(database.runQuery(query.cypher_filterQuery())[1])"
   ]
  },
  {
   "cell_type": "code",
   "execution_count": null,
   "metadata": {},
   "outputs": [],
   "source": [
    "print(query.cypher_filterQuery())"
   ]
  },
  {
   "cell_type": "markdown",
   "metadata": {},
   "source": [
    "------"
   ]
  },
  {
   "cell_type": "markdown",
   "metadata": {},
   "source": [
    "# KPI from \"Developing meintenance key performance indocators from maintenance work order data\""
   ]
  },
  {
   "cell_type": "code",
   "execution_count": 11,
   "metadata": {},
   "outputs": [],
   "source": [
    "itemAsProblem = OperandTagItemAsProblem(result = \"keyword\", databaseInfo = database.schema)\n",
    "machine = OperandMachine(result = \"name\", databaseInfo = database.schema)\n",
    "machinetype = OperandMachine(result = \"type\", databaseInfo = database.schema)\n",
    "technician = OperandTechnician(result = \"name\", databaseInfo = database.schema)\n",
    "problemitem = OperandTagProblemItem(result = \"keyword\", databaseInfo = database.schema)\n",
    "problem = OperandTagProblem(result = \"keyword\", databaseInfo = database.schema)\n",
    "\n",
    "issue_dateMWOstart = OperandIssue(result = \"date_maintenanceworkorder_start\", databaseInfo = database.schema)\n",
    "issue_dateMWOend = OperandIssue(result = \"date_maintenanceworkorder_completion\", databaseInfo = database.schema)"
   ]
  },
  {
   "cell_type": "code",
   "execution_count": null,
   "metadata": {},
   "outputs": [],
   "source": [
    "print(kpi.cypher_filterQuery())"
   ]
  },
  {
   "cell_type": "markdown",
   "metadata": {},
   "source": [
    "### 2.1.1 Common Problem Items"
   ]
  },
  {
   "cell_type": "code",
   "execution_count": 12,
   "metadata": {},
   "outputs": [
    {
     "name": "stderr",
     "output_type": "stream",
     "text": [
      "1904it [00:00, 203676.57it/s]\n"
     ]
    },
    {
     "data": {
      "text/html": [
       "<div>\n",
       "<style scoped>\n",
       "    .dataframe tbody tr th:only-of-type {\n",
       "        vertical-align: middle;\n",
       "    }\n",
       "\n",
       "    .dataframe tbody tr th {\n",
       "        vertical-align: top;\n",
       "    }\n",
       "\n",
       "    .dataframe thead th {\n",
       "        text-align: right;\n",
       "    }\n",
       "</style>\n",
       "<table border=\"1\" class=\"dataframe\">\n",
       "  <thead>\n",
       "    <tr style=\"text-align: right;\">\n",
       "      <th></th>\n",
       "      <th>tagitemasproblem.keyword</th>\n",
       "    </tr>\n",
       "  </thead>\n",
       "  <tbody>\n",
       "    <tr>\n",
       "      <th>0</th>\n",
       "      <td>station</td>\n",
       "    </tr>\n",
       "    <tr>\n",
       "      <th>1</th>\n",
       "      <td>station</td>\n",
       "    </tr>\n",
       "    <tr>\n",
       "      <th>2</th>\n",
       "      <td>station</td>\n",
       "    </tr>\n",
       "    <tr>\n",
       "      <th>3</th>\n",
       "      <td>station</td>\n",
       "    </tr>\n",
       "    <tr>\n",
       "      <th>4</th>\n",
       "      <td>station</td>\n",
       "    </tr>\n",
       "  </tbody>\n",
       "</table>\n",
       "</div>"
      ],
      "text/plain": [
       "  tagitemasproblem.keyword\n",
       "0                  station\n",
       "1                  station\n",
       "2                  station\n",
       "3                  station\n",
       "4                  station"
      ]
     },
     "execution_count": 12,
     "metadata": {},
     "output_type": "execute_result"
    }
   ],
   "source": [
    "kpi = itemAsProblem\n",
    "df = resultToObservationDataframe(database.runQuery(kpi.cypher_filterQuery())[1])\n",
    "df.head()"
   ]
  },
  {
   "cell_type": "markdown",
   "metadata": {},
   "source": [
    "### 2.1.2 Common Problem Items per Time Between Failure"
   ]
  },
  {
   "cell_type": "code",
   "execution_count": 13,
   "metadata": {},
   "outputs": [
    {
     "name": "stderr",
     "output_type": "stream",
     "text": [
      "1904it [00:00, 169578.38it/s]\n"
     ]
    },
    {
     "data": {
      "text/html": [
       "<div>\n",
       "<style scoped>\n",
       "    .dataframe tbody tr th:only-of-type {\n",
       "        vertical-align: middle;\n",
       "    }\n",
       "\n",
       "    .dataframe tbody tr th {\n",
       "        vertical-align: top;\n",
       "    }\n",
       "\n",
       "    .dataframe thead th {\n",
       "        text-align: right;\n",
       "    }\n",
       "</style>\n",
       "<table border=\"1\" class=\"dataframe\">\n",
       "  <thead>\n",
       "    <tr style=\"text-align: right;\">\n",
       "      <th></th>\n",
       "      <th>issue.date_maintenanceworkorder_start</th>\n",
       "      <th>tagitemasproblem.keyword</th>\n",
       "      <th>issue.date_maintenanceworkorder_completion</th>\n",
       "    </tr>\n",
       "  </thead>\n",
       "  <tbody>\n",
       "    <tr>\n",
       "      <th>0</th>\n",
       "      <td>2016-07-14 05:30:00</td>\n",
       "      <td>station</td>\n",
       "      <td>2016-07-14 08:00:00</td>\n",
       "    </tr>\n",
       "    <tr>\n",
       "      <th>1</th>\n",
       "      <td>2016-02-01 00:00:00</td>\n",
       "      <td>station</td>\n",
       "      <td>2016-02-01 00:00:00</td>\n",
       "    </tr>\n",
       "    <tr>\n",
       "      <th>2</th>\n",
       "      <td>2015-03-31 00:00:00</td>\n",
       "      <td>station</td>\n",
       "      <td>2015-03-31 00:00:00</td>\n",
       "    </tr>\n",
       "    <tr>\n",
       "      <th>3</th>\n",
       "      <td>2016-06-12 00:00:00</td>\n",
       "      <td>station</td>\n",
       "      <td>2016-06-13 12:00:00</td>\n",
       "    </tr>\n",
       "    <tr>\n",
       "      <th>4</th>\n",
       "      <td>2016-01-22 00:00:00</td>\n",
       "      <td>station</td>\n",
       "      <td>2016-01-22 00:00:00</td>\n",
       "    </tr>\n",
       "  </tbody>\n",
       "</table>\n",
       "</div>"
      ],
      "text/plain": [
       "  issue.date_maintenanceworkorder_start tagitemasproblem.keyword  \\\n",
       "0                   2016-07-14 05:30:00                  station   \n",
       "1                   2016-02-01 00:00:00                  station   \n",
       "2                   2015-03-31 00:00:00                  station   \n",
       "3                   2016-06-12 00:00:00                  station   \n",
       "4                   2016-01-22 00:00:00                  station   \n",
       "\n",
       "  issue.date_maintenanceworkorder_completion  \n",
       "0                        2016-07-14 08:00:00  \n",
       "1                        2016-02-01 00:00:00  \n",
       "2                        2015-03-31 00:00:00  \n",
       "3                        2016-06-13 12:00:00  \n",
       "4                        2016-01-22 00:00:00  "
      ]
     },
     "execution_count": 13,
     "metadata": {},
     "output_type": "execute_result"
    }
   ],
   "source": [
    "kpi = itemAsProblem + issue_dateMWOstart + issue_dateMWOend\n",
    "df = resultToObservationDataframe(database.runQuery(kpi.cypher_filterQuery())[1])\n",
    "df.head()"
   ]
  },
  {
   "cell_type": "markdown",
   "metadata": {},
   "source": [
    "### 2.1.3 Common Problem Items by Machine Type"
   ]
  },
  {
   "cell_type": "code",
   "execution_count": 14,
   "metadata": {},
   "outputs": [
    {
     "name": "stderr",
     "output_type": "stream",
     "text": [
      "0it [00:00, ?it/s]\n"
     ]
    },
    {
     "data": {
      "text/html": [
       "<div>\n",
       "<style scoped>\n",
       "    .dataframe tbody tr th:only-of-type {\n",
       "        vertical-align: middle;\n",
       "    }\n",
       "\n",
       "    .dataframe tbody tr th {\n",
       "        vertical-align: top;\n",
       "    }\n",
       "\n",
       "    .dataframe thead th {\n",
       "        text-align: right;\n",
       "    }\n",
       "</style>\n",
       "<table border=\"1\" class=\"dataframe\">\n",
       "  <thead>\n",
       "    <tr style=\"text-align: right;\">\n",
       "      <th></th>\n",
       "      <th>machinetype.type</th>\n",
       "      <th>tagitemasproblem.keyword</th>\n",
       "    </tr>\n",
       "  </thead>\n",
       "  <tbody>\n",
       "  </tbody>\n",
       "</table>\n",
       "</div>"
      ],
      "text/plain": [
       "Empty DataFrame\n",
       "Columns: [machinetype.type, tagitemasproblem.keyword]\n",
       "Index: []"
      ]
     },
     "execution_count": 14,
     "metadata": {},
     "output_type": "execute_result"
    }
   ],
   "source": [
    "kpi = itemAsProblem + machinetype\n",
    "df = resultToObservationDataframe(database.runQuery(kpi.cypher_filterQuery())[1])\n",
    "df.head()"
   ]
  },
  {
   "cell_type": "markdown",
   "metadata": {},
   "source": [
    "### 2.1.4 Common Problem Items & Action per Time to Repair"
   ]
  },
  {
   "cell_type": "code",
   "execution_count": 15,
   "metadata": {},
   "outputs": [
    {
     "name": "stderr",
     "output_type": "stream",
     "text": [
      "2089it [00:00, 171734.63it/s]\n"
     ]
    },
    {
     "data": {
      "text/html": [
       "<div>\n",
       "<style scoped>\n",
       "    .dataframe tbody tr th:only-of-type {\n",
       "        vertical-align: middle;\n",
       "    }\n",
       "\n",
       "    .dataframe tbody tr th {\n",
       "        vertical-align: top;\n",
       "    }\n",
       "\n",
       "    .dataframe thead th {\n",
       "        text-align: right;\n",
       "    }\n",
       "</style>\n",
       "<table border=\"1\" class=\"dataframe\">\n",
       "  <thead>\n",
       "    <tr style=\"text-align: right;\">\n",
       "      <th></th>\n",
       "      <th>tagproblemitem.keyword</th>\n",
       "      <th>issue.date_maintenanceworkorder_start</th>\n",
       "      <th>issue.date_maintenanceworkorder_completion</th>\n",
       "    </tr>\n",
       "  </thead>\n",
       "  <tbody>\n",
       "    <tr>\n",
       "      <th>0</th>\n",
       "      <td>hydraulic leak</td>\n",
       "      <td>2015-03-19 00:00:00</td>\n",
       "      <td>2015-04-22 00:00:00</td>\n",
       "    </tr>\n",
       "    <tr>\n",
       "      <th>1</th>\n",
       "      <td>hydraulic leak</td>\n",
       "      <td>2016-09-20 05:30:00</td>\n",
       "      <td>2016-09-22 16:00:00</td>\n",
       "    </tr>\n",
       "    <tr>\n",
       "      <th>2</th>\n",
       "      <td>hydraulic leak</td>\n",
       "      <td>2015-12-07 00:00:00</td>\n",
       "      <td>2015-12-07 00:00:00</td>\n",
       "    </tr>\n",
       "    <tr>\n",
       "      <th>3</th>\n",
       "      <td>hydraulic leak</td>\n",
       "      <td>2017-01-11 06:15:00</td>\n",
       "      <td>2017-01-11 10:00:00</td>\n",
       "    </tr>\n",
       "    <tr>\n",
       "      <th>4</th>\n",
       "      <td>hydraulic leak</td>\n",
       "      <td>2017-01-17 06:15:00</td>\n",
       "      <td>2017-01-18 10:30:00</td>\n",
       "    </tr>\n",
       "  </tbody>\n",
       "</table>\n",
       "</div>"
      ],
      "text/plain": [
       "  tagproblemitem.keyword issue.date_maintenanceworkorder_start  \\\n",
       "0         hydraulic leak                   2015-03-19 00:00:00   \n",
       "1         hydraulic leak                   2016-09-20 05:30:00   \n",
       "2         hydraulic leak                   2015-12-07 00:00:00   \n",
       "3         hydraulic leak                   2017-01-11 06:15:00   \n",
       "4         hydraulic leak                   2017-01-17 06:15:00   \n",
       "\n",
       "  issue.date_maintenanceworkorder_completion  \n",
       "0                        2015-04-22 00:00:00  \n",
       "1                        2016-09-22 16:00:00  \n",
       "2                        2015-12-07 00:00:00  \n",
       "3                        2017-01-11 10:00:00  \n",
       "4                        2017-01-18 10:30:00  "
      ]
     },
     "execution_count": 15,
     "metadata": {},
     "output_type": "execute_result"
    }
   ],
   "source": [
    "kpi = problemitem + issue_dateMWOstart + issue_dateMWOend\n",
    "df = resultToObservationDataframe(database.runQuery(kpi.cypher_filterQuery())[1])\n",
    "df.head()"
   ]
  },
  {
   "cell_type": "markdown",
   "metadata": {},
   "source": [
    "### 2.2.1 Machine per Time Between Failure"
   ]
  },
  {
   "cell_type": "code",
   "execution_count": 16,
   "metadata": {},
   "outputs": [
    {
     "name": "stderr",
     "output_type": "stream",
     "text": [
      "3431it [00:00, 183201.45it/s]\n"
     ]
    },
    {
     "data": {
      "text/html": [
       "<div>\n",
       "<style scoped>\n",
       "    .dataframe tbody tr th:only-of-type {\n",
       "        vertical-align: middle;\n",
       "    }\n",
       "\n",
       "    .dataframe tbody tr th {\n",
       "        vertical-align: top;\n",
       "    }\n",
       "\n",
       "    .dataframe thead th {\n",
       "        text-align: right;\n",
       "    }\n",
       "</style>\n",
       "<table border=\"1\" class=\"dataframe\">\n",
       "  <thead>\n",
       "    <tr style=\"text-align: right;\">\n",
       "      <th></th>\n",
       "      <th>machine.name</th>\n",
       "      <th>issue.date_maintenanceworkorder_start</th>\n",
       "      <th>issue.date_maintenanceworkorder_completion</th>\n",
       "    </tr>\n",
       "  </thead>\n",
       "  <tbody>\n",
       "    <tr>\n",
       "      <th>0</th>\n",
       "      <td>h27</td>\n",
       "      <td>2017-01-24 00:00:00</td>\n",
       "      <td>2017-01-24 00:00:00</td>\n",
       "    </tr>\n",
       "    <tr>\n",
       "      <th>1</th>\n",
       "      <td>h27</td>\n",
       "      <td>2017-01-23 00:00:00</td>\n",
       "      <td>2017-01-23 00:00:00</td>\n",
       "    </tr>\n",
       "    <tr>\n",
       "      <th>2</th>\n",
       "      <td>h27</td>\n",
       "      <td>2017-01-13 06:00:00</td>\n",
       "      <td>2017-01-13 07:30:00</td>\n",
       "    </tr>\n",
       "    <tr>\n",
       "      <th>3</th>\n",
       "      <td>h27</td>\n",
       "      <td>2017-01-05 12:00:00</td>\n",
       "      <td>None</td>\n",
       "    </tr>\n",
       "    <tr>\n",
       "      <th>4</th>\n",
       "      <td>h27</td>\n",
       "      <td>2016-12-23 08:30:00</td>\n",
       "      <td>2017-12-23 00:00:00</td>\n",
       "    </tr>\n",
       "  </tbody>\n",
       "</table>\n",
       "</div>"
      ],
      "text/plain": [
       "  machine.name issue.date_maintenanceworkorder_start  \\\n",
       "0          h27                   2017-01-24 00:00:00   \n",
       "1          h27                   2017-01-23 00:00:00   \n",
       "2          h27                   2017-01-13 06:00:00   \n",
       "3          h27                   2017-01-05 12:00:00   \n",
       "4          h27                   2016-12-23 08:30:00   \n",
       "\n",
       "  issue.date_maintenanceworkorder_completion  \n",
       "0                        2017-01-24 00:00:00  \n",
       "1                        2017-01-23 00:00:00  \n",
       "2                        2017-01-13 07:30:00  \n",
       "3                                       None  \n",
       "4                        2017-12-23 00:00:00  "
      ]
     },
     "execution_count": 16,
     "metadata": {},
     "output_type": "execute_result"
    }
   ],
   "source": [
    "kpi = machine + issue_dateMWOstart + issue_dateMWOend\n",
    "df = resultToObservationDataframe(database.runQuery(kpi.cypher_filterQuery())[1])\n",
    "df.head()"
   ]
  },
  {
   "cell_type": "markdown",
   "metadata": {},
   "source": [
    "### 2.2.2 Machine by Problem Action per Time Between Failure"
   ]
  },
  {
   "cell_type": "code",
   "execution_count": 17,
   "metadata": {},
   "outputs": [
    {
     "name": "stderr",
     "output_type": "stream",
     "text": [
      "2851it [00:00, 158987.95it/s]\n"
     ]
    },
    {
     "data": {
      "text/html": [
       "<div>\n",
       "<style scoped>\n",
       "    .dataframe tbody tr th:only-of-type {\n",
       "        vertical-align: middle;\n",
       "    }\n",
       "\n",
       "    .dataframe tbody tr th {\n",
       "        vertical-align: top;\n",
       "    }\n",
       "\n",
       "    .dataframe thead th {\n",
       "        text-align: right;\n",
       "    }\n",
       "</style>\n",
       "<table border=\"1\" class=\"dataframe\">\n",
       "  <thead>\n",
       "    <tr style=\"text-align: right;\">\n",
       "      <th></th>\n",
       "      <th>tagproblem.keyword</th>\n",
       "      <th>machine.name</th>\n",
       "      <th>issue.date_maintenanceworkorder_start</th>\n",
       "      <th>issue.date_maintenanceworkorder_completion</th>\n",
       "    </tr>\n",
       "  </thead>\n",
       "  <tbody>\n",
       "    <tr>\n",
       "      <th>0</th>\n",
       "      <td>broken</td>\n",
       "      <td>h5</td>\n",
       "      <td>2016-06-04 00:00:00</td>\n",
       "      <td>2016-06-04 00:00:00</td>\n",
       "    </tr>\n",
       "    <tr>\n",
       "      <th>1</th>\n",
       "      <td>broken</td>\n",
       "      <td>h4</td>\n",
       "      <td>2016-04-13 00:00:00</td>\n",
       "      <td>2016-04-13 00:00:00</td>\n",
       "    </tr>\n",
       "    <tr>\n",
       "      <th>2</th>\n",
       "      <td>broken</td>\n",
       "      <td>i1</td>\n",
       "      <td>2016-05-05 00:00:00</td>\n",
       "      <td>2016-05-06 00:00:00</td>\n",
       "    </tr>\n",
       "    <tr>\n",
       "      <th>3</th>\n",
       "      <td>broken</td>\n",
       "      <td>h22</td>\n",
       "      <td>2016-07-21 05:30:00</td>\n",
       "      <td>2016-07-21 07:00:00</td>\n",
       "    </tr>\n",
       "    <tr>\n",
       "      <th>4</th>\n",
       "      <td>broken</td>\n",
       "      <td>h2</td>\n",
       "      <td>2016-05-04 00:00:00</td>\n",
       "      <td>2016-05-04 00:00:00</td>\n",
       "    </tr>\n",
       "  </tbody>\n",
       "</table>\n",
       "</div>"
      ],
      "text/plain": [
       "  tagproblem.keyword machine.name issue.date_maintenanceworkorder_start  \\\n",
       "0             broken           h5                   2016-06-04 00:00:00   \n",
       "1             broken           h4                   2016-04-13 00:00:00   \n",
       "2             broken           i1                   2016-05-05 00:00:00   \n",
       "3             broken          h22                   2016-07-21 05:30:00   \n",
       "4             broken           h2                   2016-05-04 00:00:00   \n",
       "\n",
       "  issue.date_maintenanceworkorder_completion  \n",
       "0                        2016-06-04 00:00:00  \n",
       "1                        2016-04-13 00:00:00  \n",
       "2                        2016-05-06 00:00:00  \n",
       "3                        2016-07-21 07:00:00  \n",
       "4                        2016-05-04 00:00:00  "
      ]
     },
     "execution_count": 17,
     "metadata": {},
     "output_type": "execute_result"
    }
   ],
   "source": [
    "kpi = machine + problem + issue_dateMWOstart + issue_dateMWOend\n",
    "df = resultToObservationDataframe(database.runQuery(kpi.cypher_filterQuery())[1])\n",
    "df.head()"
   ]
  },
  {
   "cell_type": "markdown",
   "metadata": {},
   "source": [
    "### 2.2.3 Machine Type per Time to Repair"
   ]
  },
  {
   "cell_type": "code",
   "execution_count": 18,
   "metadata": {},
   "outputs": [
    {
     "name": "stderr",
     "output_type": "stream",
     "text": [
      "0it [00:00, ?it/s]\n"
     ]
    },
    {
     "data": {
      "text/html": [
       "<div>\n",
       "<style scoped>\n",
       "    .dataframe tbody tr th:only-of-type {\n",
       "        vertical-align: middle;\n",
       "    }\n",
       "\n",
       "    .dataframe tbody tr th {\n",
       "        vertical-align: top;\n",
       "    }\n",
       "\n",
       "    .dataframe thead th {\n",
       "        text-align: right;\n",
       "    }\n",
       "</style>\n",
       "<table border=\"1\" class=\"dataframe\">\n",
       "  <thead>\n",
       "    <tr style=\"text-align: right;\">\n",
       "      <th></th>\n",
       "      <th>machinetype.type</th>\n",
       "      <th>issue.date_maintenanceworkorder_start</th>\n",
       "      <th>issue.date_maintenanceworkorder_completion</th>\n",
       "    </tr>\n",
       "  </thead>\n",
       "  <tbody>\n",
       "  </tbody>\n",
       "</table>\n",
       "</div>"
      ],
      "text/plain": [
       "Empty DataFrame\n",
       "Columns: [machinetype.type, issue.date_maintenanceworkorder_start, issue.date_maintenanceworkorder_completion]\n",
       "Index: []"
      ]
     },
     "execution_count": 18,
     "metadata": {},
     "output_type": "execute_result"
    }
   ],
   "source": [
    "kpi = machinetype + issue_dateMWOstart + issue_dateMWOend\n",
    "df = resultToObservationDataframe(database.runQuery(kpi.cypher_filterQuery())[1])\n",
    "df.head()"
   ]
  },
  {
   "cell_type": "markdown",
   "metadata": {},
   "source": [
    "### 2.2.4 Machine type per Problem Item per Time to Repair"
   ]
  },
  {
   "cell_type": "code",
   "execution_count": 19,
   "metadata": {},
   "outputs": [
    {
     "name": "stderr",
     "output_type": "stream",
     "text": [
      "0it [00:00, ?it/s]\n"
     ]
    },
    {
     "data": {
      "text/html": [
       "<div>\n",
       "<style scoped>\n",
       "    .dataframe tbody tr th:only-of-type {\n",
       "        vertical-align: middle;\n",
       "    }\n",
       "\n",
       "    .dataframe tbody tr th {\n",
       "        vertical-align: top;\n",
       "    }\n",
       "\n",
       "    .dataframe thead th {\n",
       "        text-align: right;\n",
       "    }\n",
       "</style>\n",
       "<table border=\"1\" class=\"dataframe\">\n",
       "  <thead>\n",
       "    <tr style=\"text-align: right;\">\n",
       "      <th></th>\n",
       "      <th>machinetype.type</th>\n",
       "      <th>issue.date_maintenanceworkorder_start</th>\n",
       "      <th>tagitemasproblem.keyword</th>\n",
       "      <th>issue.date_maintenanceworkorder_completion</th>\n",
       "    </tr>\n",
       "  </thead>\n",
       "  <tbody>\n",
       "  </tbody>\n",
       "</table>\n",
       "</div>"
      ],
      "text/plain": [
       "Empty DataFrame\n",
       "Columns: [machinetype.type, issue.date_maintenanceworkorder_start, tagitemasproblem.keyword, issue.date_maintenanceworkorder_completion]\n",
       "Index: []"
      ]
     },
     "execution_count": 19,
     "metadata": {},
     "output_type": "execute_result"
    }
   ],
   "source": [
    "kpi = machinetype +  itemAsProblem + issue_dateMWOstart + issue_dateMWOend\n",
    "df = resultToObservationDataframe(database.runQuery(kpi.cypher_filterQuery())[1])\n",
    "df.head()"
   ]
  },
  {
   "cell_type": "markdown",
   "metadata": {},
   "source": [
    "### 2.3.1 Maintenance Technician Expertise per Problem Item"
   ]
  },
  {
   "cell_type": "code",
   "execution_count": 20,
   "metadata": {},
   "outputs": [
    {
     "name": "stderr",
     "output_type": "stream",
     "text": [
      "1314it [00:00, 180474.01it/s]\n"
     ]
    },
    {
     "data": {
      "text/html": [
       "<div>\n",
       "<style scoped>\n",
       "    .dataframe tbody tr th:only-of-type {\n",
       "        vertical-align: middle;\n",
       "    }\n",
       "\n",
       "    .dataframe tbody tr th {\n",
       "        vertical-align: top;\n",
       "    }\n",
       "\n",
       "    .dataframe thead th {\n",
       "        text-align: right;\n",
       "    }\n",
       "</style>\n",
       "<table border=\"1\" class=\"dataframe\">\n",
       "  <thead>\n",
       "    <tr style=\"text-align: right;\">\n",
       "      <th></th>\n",
       "      <th>technician.name</th>\n",
       "      <th>tagitemasproblem.keyword</th>\n",
       "    </tr>\n",
       "  </thead>\n",
       "  <tbody>\n",
       "    <tr>\n",
       "      <th>0</th>\n",
       "      <td>steve andreozzi</td>\n",
       "      <td>station</td>\n",
       "    </tr>\n",
       "    <tr>\n",
       "      <th>1</th>\n",
       "      <td>jon cousineau</td>\n",
       "      <td>station</td>\n",
       "    </tr>\n",
       "    <tr>\n",
       "      <th>2</th>\n",
       "      <td>marcel lefebvre</td>\n",
       "      <td>station</td>\n",
       "    </tr>\n",
       "    <tr>\n",
       "      <th>3</th>\n",
       "      <td>steve andreozzi</td>\n",
       "      <td>station</td>\n",
       "    </tr>\n",
       "    <tr>\n",
       "      <th>4</th>\n",
       "      <td>steve andreozzi</td>\n",
       "      <td>station</td>\n",
       "    </tr>\n",
       "  </tbody>\n",
       "</table>\n",
       "</div>"
      ],
      "text/plain": [
       "   technician.name tagitemasproblem.keyword\n",
       "0  steve andreozzi                  station\n",
       "1    jon cousineau                  station\n",
       "2  marcel lefebvre                  station\n",
       "3  steve andreozzi                  station\n",
       "4  steve andreozzi                  station"
      ]
     },
     "execution_count": 20,
     "metadata": {},
     "output_type": "execute_result"
    }
   ],
   "source": [
    "kpi = technician + itemAsProblem\n",
    "df = resultToObservationDataframe(database.runQuery(kpi.cypher_filterQuery())[1])\n",
    "df.head()"
   ]
  },
  {
   "cell_type": "markdown",
   "metadata": {},
   "source": [
    "### 2.3.2 Maintenance Technician Expertise per Problem Action"
   ]
  },
  {
   "cell_type": "code",
   "execution_count": 21,
   "metadata": {},
   "outputs": [
    {
     "name": "stderr",
     "output_type": "stream",
     "text": [
      "2018it [00:00, 195408.18it/s]\n"
     ]
    },
    {
     "data": {
      "text/html": [
       "<div>\n",
       "<style scoped>\n",
       "    .dataframe tbody tr th:only-of-type {\n",
       "        vertical-align: middle;\n",
       "    }\n",
       "\n",
       "    .dataframe tbody tr th {\n",
       "        vertical-align: top;\n",
       "    }\n",
       "\n",
       "    .dataframe thead th {\n",
       "        text-align: right;\n",
       "    }\n",
       "</style>\n",
       "<table border=\"1\" class=\"dataframe\">\n",
       "  <thead>\n",
       "    <tr style=\"text-align: right;\">\n",
       "      <th></th>\n",
       "      <th>tagproblem.keyword</th>\n",
       "      <th>technician.name</th>\n",
       "    </tr>\n",
       "  </thead>\n",
       "  <tbody>\n",
       "    <tr>\n",
       "      <th>0</th>\n",
       "      <td>broken</td>\n",
       "      <td>john murray</td>\n",
       "    </tr>\n",
       "    <tr>\n",
       "      <th>1</th>\n",
       "      <td>broken</td>\n",
       "      <td>anthony paolillo</td>\n",
       "    </tr>\n",
       "    <tr>\n",
       "      <th>2</th>\n",
       "      <td>broken</td>\n",
       "      <td>jon cousineau</td>\n",
       "    </tr>\n",
       "    <tr>\n",
       "      <th>3</th>\n",
       "      <td>broken</td>\n",
       "      <td>john murray</td>\n",
       "    </tr>\n",
       "    <tr>\n",
       "      <th>4</th>\n",
       "      <td>broken</td>\n",
       "      <td>anthony paolillo</td>\n",
       "    </tr>\n",
       "  </tbody>\n",
       "</table>\n",
       "</div>"
      ],
      "text/plain": [
       "  tagproblem.keyword   technician.name\n",
       "0             broken       john murray\n",
       "1             broken  anthony paolillo\n",
       "2             broken     jon cousineau\n",
       "3             broken       john murray\n",
       "4             broken  anthony paolillo"
      ]
     },
     "execution_count": 21,
     "metadata": {},
     "output_type": "execute_result"
    }
   ],
   "source": [
    "kpi = technician + problem\n",
    "df = resultToObservationDataframe(database.runQuery(kpi.cypher_filterQuery())[1])\n",
    "df.head()"
   ]
  },
  {
   "cell_type": "markdown",
   "metadata": {},
   "source": [
    "### 2.3.3 Maintenance Technician Expertise per Problem Item & Action per Time to Repair\n",
    "### 2.3.4 Maintenance Technician Expertise per Problem Item & Action per Time to Diagnose\n",
    "### 2.3.5 Maintenance Technician Expertise per Solution Item & Action per Time to Fix\n"
   ]
  },
  {
   "cell_type": "code",
   "execution_count": 22,
   "metadata": {},
   "outputs": [
    {
     "name": "stderr",
     "output_type": "stream",
     "text": [
      "1471it [00:00, 157699.14it/s]\n"
     ]
    },
    {
     "data": {
      "text/html": [
       "<div>\n",
       "<style scoped>\n",
       "    .dataframe tbody tr th:only-of-type {\n",
       "        vertical-align: middle;\n",
       "    }\n",
       "\n",
       "    .dataframe tbody tr th {\n",
       "        vertical-align: top;\n",
       "    }\n",
       "\n",
       "    .dataframe thead th {\n",
       "        text-align: right;\n",
       "    }\n",
       "</style>\n",
       "<table border=\"1\" class=\"dataframe\">\n",
       "  <thead>\n",
       "    <tr style=\"text-align: right;\">\n",
       "      <th></th>\n",
       "      <th>tagproblemitem.keyword</th>\n",
       "      <th>technician.name</th>\n",
       "      <th>issue.date_maintenanceworkorder_start</th>\n",
       "      <th>issue.date_maintenanceworkorder_completion</th>\n",
       "    </tr>\n",
       "  </thead>\n",
       "  <tbody>\n",
       "    <tr>\n",
       "      <th>0</th>\n",
       "      <td>hydraulic leak</td>\n",
       "      <td>marcel lefebvre</td>\n",
       "      <td>2015-03-19 00:00:00</td>\n",
       "      <td>2015-04-22 00:00:00</td>\n",
       "    </tr>\n",
       "    <tr>\n",
       "      <th>1</th>\n",
       "      <td>hydraulic leak</td>\n",
       "      <td>john murray</td>\n",
       "      <td>2015-12-07 00:00:00</td>\n",
       "      <td>2015-12-07 00:00:00</td>\n",
       "    </tr>\n",
       "    <tr>\n",
       "      <th>2</th>\n",
       "      <td>hydraulic leak</td>\n",
       "      <td>anthony paolillo</td>\n",
       "      <td>2015-12-07 00:00:00</td>\n",
       "      <td>2015-12-07 00:00:00</td>\n",
       "    </tr>\n",
       "    <tr>\n",
       "      <th>3</th>\n",
       "      <td>hydraulic leak</td>\n",
       "      <td>colin doherty</td>\n",
       "      <td>2015-07-15 00:00:00</td>\n",
       "      <td>2015-07-20 00:00:00</td>\n",
       "    </tr>\n",
       "    <tr>\n",
       "      <th>4</th>\n",
       "      <td>hydraulic leak</td>\n",
       "      <td>jon cousineau</td>\n",
       "      <td>2016-04-21 00:00:00</td>\n",
       "      <td>2016-04-22 00:00:00</td>\n",
       "    </tr>\n",
       "  </tbody>\n",
       "</table>\n",
       "</div>"
      ],
      "text/plain": [
       "  tagproblemitem.keyword   technician.name  \\\n",
       "0         hydraulic leak   marcel lefebvre   \n",
       "1         hydraulic leak       john murray   \n",
       "2         hydraulic leak  anthony paolillo   \n",
       "3         hydraulic leak     colin doherty   \n",
       "4         hydraulic leak     jon cousineau   \n",
       "\n",
       "  issue.date_maintenanceworkorder_start  \\\n",
       "0                   2015-03-19 00:00:00   \n",
       "1                   2015-12-07 00:00:00   \n",
       "2                   2015-12-07 00:00:00   \n",
       "3                   2015-07-15 00:00:00   \n",
       "4                   2016-04-21 00:00:00   \n",
       "\n",
       "  issue.date_maintenanceworkorder_completion  \n",
       "0                        2015-04-22 00:00:00  \n",
       "1                        2015-12-07 00:00:00  \n",
       "2                        2015-12-07 00:00:00  \n",
       "3                        2015-07-20 00:00:00  \n",
       "4                        2016-04-22 00:00:00  "
      ]
     },
     "execution_count": 22,
     "metadata": {},
     "output_type": "execute_result"
    }
   ],
   "source": [
    "kpi = technician + problemitem + issue_dateMWOstart + issue_dateMWOend \n",
    "df = resultToObservationDataframe(database.runQuery(kpi.cypher_filterQuery())[1])\n",
    "df.head()"
   ]
  },
  {
   "cell_type": "markdown",
   "metadata": {},
   "source": [
    "### 2.3.6 Maintenance Technician Expertise per Machine Type per Time to Repair"
   ]
  },
  {
   "cell_type": "code",
   "execution_count": 23,
   "metadata": {},
   "outputs": [
    {
     "name": "stderr",
     "output_type": "stream",
     "text": [
      "0it [00:00, ?it/s]\n"
     ]
    },
    {
     "data": {
      "text/html": [
       "<div>\n",
       "<style scoped>\n",
       "    .dataframe tbody tr th:only-of-type {\n",
       "        vertical-align: middle;\n",
       "    }\n",
       "\n",
       "    .dataframe tbody tr th {\n",
       "        vertical-align: top;\n",
       "    }\n",
       "\n",
       "    .dataframe thead th {\n",
       "        text-align: right;\n",
       "    }\n",
       "</style>\n",
       "<table border=\"1\" class=\"dataframe\">\n",
       "  <thead>\n",
       "    <tr style=\"text-align: right;\">\n",
       "      <th></th>\n",
       "      <th>technician.name</th>\n",
       "      <th>issue.date_maintenanceworkorder_start</th>\n",
       "      <th>machinetype.type</th>\n",
       "      <th>issue.date_maintenanceworkorder_completion</th>\n",
       "    </tr>\n",
       "  </thead>\n",
       "  <tbody>\n",
       "  </tbody>\n",
       "</table>\n",
       "</div>"
      ],
      "text/plain": [
       "Empty DataFrame\n",
       "Columns: [technician.name, issue.date_maintenanceworkorder_start, machinetype.type, issue.date_maintenanceworkorder_completion]\n",
       "Index: []"
      ]
     },
     "execution_count": 23,
     "metadata": {},
     "output_type": "execute_result"
    }
   ],
   "source": [
    "kpi = technician + machinetype + issue_dateMWOstart + issue_dateMWOend \n",
    "df = resultToObservationDataframe(database.runQuery(kpi.cypher_filterQuery())[1])\n",
    "df.head()"
   ]
  },
  {
   "cell_type": "code",
   "execution_count": null,
   "metadata": {},
   "outputs": [],
   "source": []
  }
 ],
 "metadata": {
  "kernelspec": {
   "display_name": "Python 3",
   "language": "python",
   "name": "python3"
  },
  "language_info": {
   "codemirror_mode": {
    "name": "ipython",
    "version": 3
   },
   "file_extension": ".py",
   "mimetype": "text/x-python",
   "name": "python",
   "nbconvert_exporter": "python",
   "pygments_lexer": "ipython3",
   "version": "3.6.5"
  }
 },
 "nbformat": 4,
 "nbformat_minor": 2
}

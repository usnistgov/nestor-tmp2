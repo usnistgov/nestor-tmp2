{
 "cells": [
  {
   "cell_type": "code",
   "execution_count": 126,
   "metadata": {},
   "outputs": [
    {
     "name": "stdout",
     "output_type": "stream",
     "text": [
      "The autoreload extension is already loaded. To reload it, use:\n",
      "  %reload_ext autoreload\n",
      "/Users/sam11/Git/nestor\n"
     ]
    }
   ],
   "source": [
    "%load_ext autoreload\n",
    "%autoreload 2\n",
    "\n",
    "import sys\n",
    "import os\n",
    "import inspect\n",
    "import getpass\n",
    "import json\n",
    "\n",
    "import pandas as pd\n",
    "import matplotlib.pyplot as plt\n",
    "\n",
    "\n",
    "project_path = os.path.abspath( os.path.dirname(os.path.abspath(inspect.getfile(inspect.currentframe()))) + \"/../\" )\n",
    "sys.path.insert(0, project_path)\n",
    "print(project_path)\n",
    "\n",
    "from database_storage.helper import *\n",
    "\n",
    "from database_storage.database.database import *\n",
    "from database_storage.main import *\n",
    "\n",
    "from database_storage.objects.kpi import *"
   ]
  },
  {
   "cell_type": "markdown",
   "metadata": {},
   "source": [
    "# Database"
   ]
  },
  {
   "cell_type": "code",
   "execution_count": 127,
   "metadata": {},
   "outputs": [],
   "source": [
    "user = \"neo4j\"\n",
    "password=\"GREYSTONE!!\""
   ]
  },
  {
   "cell_type": "code",
   "execution_count": 128,
   "metadata": {},
   "outputs": [
    {
     "name": "stdout",
     "output_type": "stream",
     "text": [
      "yaml file open\n"
     ]
    }
   ],
   "source": [
    "databaseSchema_file = os.path.join(project_path ,'database_storage','database', 'DatabaseSchema.yaml')\n",
    "databaseSchema_dict = openYAMLFile(databaseSchema_file)\n",
    "database = DatabaseNeo4J(\"bolt://127.0.0.1:7687\", user, password, databaseSchema_dict)"
   ]
  },
  {
   "cell_type": "markdown",
   "metadata": {},
   "source": [
    "# Query"
   ]
  },
  {
   "cell_type": "code",
   "execution_count": 121,
   "metadata": {},
   "outputs": [],
   "source": [
    "kpiIssue = OperandIssue(\n",
    "                        databaseInfo=database.schema,\n",
    "                        result = \"description_of_problem\"\n",
    "                       )\n",
    "kpiIssue1 = OperandIssue(\n",
    "                        databaseInfo=database.schema,\n",
    "                        result = \"description_of_solution\"\n",
    "                       )\n",
    "kpiHuman = OperandTechnician(property = \"name\", \n",
    "                        operator = \"-\", \n",
    "                        value = \"steve\",\n",
    "                        databaseInfo=database.schema,\n",
    "                        result = \"name\",\n",
    "                       )\n",
    "kpimachine = OperandMachine(property = \"name\", \n",
    "                        operator = \"=\", \n",
    "                        value = \"h1\",\n",
    "                        databaseInfo=database.schema,\n",
    "                       )\n",
    "kpimachinetype = OperandMachine(property = \"type\", \n",
    "                        operator = \"=\", \n",
    "                        value = \"h\",\n",
    "                        databaseInfo=database.schema,\n",
    "                       )\n",
    "\n",
    "kpiitem = OperandTagItem(result = \"keyword\",\n",
    "                         databaseInfo=database.schema,\n",
    "                       )"
   ]
  },
  {
   "cell_type": "code",
   "execution_count": 122,
   "metadata": {},
   "outputs": [],
   "source": [
    "e = kpimachine + kpiitem + kpiHuman + kpiIssue + kpiIssue1"
   ]
  },
  {
   "cell_type": "code",
   "execution_count": 123,
   "metadata": {},
   "outputs": [
    {
     "name": "stderr",
     "output_type": "stream",
     "text": [
      "28it [00:00, 58225.34it/s]\n"
     ]
    },
    {
     "data": {
      "text/html": [
       "<div>\n",
       "<style scoped>\n",
       "    .dataframe tbody tr th:only-of-type {\n",
       "        vertical-align: middle;\n",
       "    }\n",
       "\n",
       "    .dataframe tbody tr th {\n",
       "        vertical-align: top;\n",
       "    }\n",
       "\n",
       "    .dataframe thead th {\n",
       "        text-align: right;\n",
       "    }\n",
       "</style>\n",
       "<table border=\"1\" class=\"dataframe\">\n",
       "  <thead>\n",
       "    <tr style=\"text-align: right;\">\n",
       "      <th></th>\n",
       "      <th>issue.description_of_solution</th>\n",
       "      <th>technician.name</th>\n",
       "      <th>tagitem.keyword</th>\n",
       "      <th>issue.description_of_problem</th>\n",
       "    </tr>\n",
       "  </thead>\n",
       "  <tbody>\n",
       "    <tr>\n",
       "      <th>0</th>\n",
       "      <td>At 27bar -Charged to 30bar / Also replaced val...</td>\n",
       "      <td>steve andreozzi</td>\n",
       "      <td>accumulator</td>\n",
       "      <td>Accumulator check requested</td>\n",
       "    </tr>\n",
       "    <tr>\n",
       "      <th>1</th>\n",
       "      <td>At 27bar -Charged to 30bar / Also replaced val...</td>\n",
       "      <td>steve andreozzi</td>\n",
       "      <td>valve</td>\n",
       "      <td>Accumulator check requested</td>\n",
       "    </tr>\n",
       "    <tr>\n",
       "      <th>2</th>\n",
       "      <td>Repaired -Air tool oil added</td>\n",
       "      <td>steve andreozzi</td>\n",
       "      <td>tool oil</td>\n",
       "      <td>Loader not functioning properly (??) no details</td>\n",
       "    </tr>\n",
       "    <tr>\n",
       "      <th>3</th>\n",
       "      <td>Repaired -Air tool oil added</td>\n",
       "      <td>steve andreozzi</td>\n",
       "      <td>air tool</td>\n",
       "      <td>Loader not functioning properly (??) no details</td>\n",
       "    </tr>\n",
       "    <tr>\n",
       "      <th>4</th>\n",
       "      <td>Repaired -Air tool oil added</td>\n",
       "      <td>steve andreozzi</td>\n",
       "      <td>oil</td>\n",
       "      <td>Loader not functioning properly (??) no details</td>\n",
       "    </tr>\n",
       "    <tr>\n",
       "      <th>5</th>\n",
       "      <td>Repaired -Air tool oil added</td>\n",
       "      <td>steve andreozzi</td>\n",
       "      <td>tool</td>\n",
       "      <td>Loader not functioning properly (??) no details</td>\n",
       "    </tr>\n",
       "    <tr>\n",
       "      <th>6</th>\n",
       "      <td>Repaired -Air tool oil added</td>\n",
       "      <td>steve andreozzi</td>\n",
       "      <td>air</td>\n",
       "      <td>Loader not functioning properly (??) no details</td>\n",
       "    </tr>\n",
       "    <tr>\n",
       "      <th>7</th>\n",
       "      <td>Repaired -Air tool oil added</td>\n",
       "      <td>steve andreozzi</td>\n",
       "      <td>loader</td>\n",
       "      <td>Loader not functioning properly (??) no details</td>\n",
       "    </tr>\n",
       "    <tr>\n",
       "      <th>8</th>\n",
       "      <td>Replaced sensor on escapement</td>\n",
       "      <td>steve andreozzi</td>\n",
       "      <td>wire loader</td>\n",
       "      <td>Loose wire on loader</td>\n",
       "    </tr>\n",
       "    <tr>\n",
       "      <th>9</th>\n",
       "      <td>Replaced sensor on escapement</td>\n",
       "      <td>steve andreozzi</td>\n",
       "      <td>wire</td>\n",
       "      <td>Loose wire on loader</td>\n",
       "    </tr>\n",
       "    <tr>\n",
       "      <th>10</th>\n",
       "      <td>Replaced sensor on escapement</td>\n",
       "      <td>steve andreozzi</td>\n",
       "      <td>loader</td>\n",
       "      <td>Loose wire on loader</td>\n",
       "    </tr>\n",
       "    <tr>\n",
       "      <th>11</th>\n",
       "      <td>Replaced sensor on escapement</td>\n",
       "      <td>steve andreozzi</td>\n",
       "      <td>sensor</td>\n",
       "      <td>Loose wire on loader</td>\n",
       "    </tr>\n",
       "    <tr>\n",
       "      <th>12</th>\n",
       "      <td>Coolant pump replaced -Pump removed rebuilt by...</td>\n",
       "      <td>steve andreozzi</td>\n",
       "      <td>coolant_pump</td>\n",
       "      <td>Replace coolant pump impeller and housing</td>\n",
       "    </tr>\n",
       "    <tr>\n",
       "      <th>13</th>\n",
       "      <td>Coolant pump replaced -Pump removed rebuilt by...</td>\n",
       "      <td>steve andreozzi</td>\n",
       "      <td>steve</td>\n",
       "      <td>Replace coolant pump impeller and housing</td>\n",
       "    </tr>\n",
       "    <tr>\n",
       "      <th>14</th>\n",
       "      <td>Coolant pump replaced -Pump removed rebuilt by...</td>\n",
       "      <td>steve andreozzi</td>\n",
       "      <td>housing</td>\n",
       "      <td>Replace coolant pump impeller and housing</td>\n",
       "    </tr>\n",
       "    <tr>\n",
       "      <th>15</th>\n",
       "      <td>Coolant pump replaced -Pump removed rebuilt by...</td>\n",
       "      <td>steve andreozzi</td>\n",
       "      <td>pump</td>\n",
       "      <td>Replace coolant pump impeller and housing</td>\n",
       "    </tr>\n",
       "    <tr>\n",
       "      <th>16</th>\n",
       "      <td>Coolant pump replaced -Pump removed rebuilt by...</td>\n",
       "      <td>steve andreozzi</td>\n",
       "      <td>coolant</td>\n",
       "      <td>Replace coolant pump impeller and housing</td>\n",
       "    </tr>\n",
       "    <tr>\n",
       "      <th>17</th>\n",
       "      <td>Needs a new impeller -On order</td>\n",
       "      <td>steve andreozzi</td>\n",
       "      <td>coolant_pump</td>\n",
       "      <td>Coolant pump splashing on floor</td>\n",
       "    </tr>\n",
       "    <tr>\n",
       "      <th>18</th>\n",
       "      <td>Needs a new impeller -On order</td>\n",
       "      <td>steve andreozzi</td>\n",
       "      <td>floor</td>\n",
       "      <td>Coolant pump splashing on floor</td>\n",
       "    </tr>\n",
       "    <tr>\n",
       "      <th>19</th>\n",
       "      <td>Needs a new impeller -On order</td>\n",
       "      <td>steve andreozzi</td>\n",
       "      <td>pump</td>\n",
       "      <td>Coolant pump splashing on floor</td>\n",
       "    </tr>\n",
       "    <tr>\n",
       "      <th>20</th>\n",
       "      <td>Needs a new impeller -On order</td>\n",
       "      <td>steve andreozzi</td>\n",
       "      <td>coolant</td>\n",
       "      <td>Coolant pump splashing on floor</td>\n",
       "    </tr>\n",
       "    <tr>\n",
       "      <th>21</th>\n",
       "      <td>Found to be 10bar -Charged to 30bar. / Check a...</td>\n",
       "      <td>steve andreozzi</td>\n",
       "      <td>accumulator</td>\n",
       "      <td>Check, charge, accumulators</td>\n",
       "    </tr>\n",
       "    <tr>\n",
       "      <th>22</th>\n",
       "      <td>Repaired</td>\n",
       "      <td>steve andreozzi</td>\n",
       "      <td>pendant bracket</td>\n",
       "      <td>Pendant bracket needs to be replaced</td>\n",
       "    </tr>\n",
       "    <tr>\n",
       "      <th>23</th>\n",
       "      <td>Repaired</td>\n",
       "      <td>steve andreozzi</td>\n",
       "      <td>bracket</td>\n",
       "      <td>Pendant bracket needs to be replaced</td>\n",
       "    </tr>\n",
       "    <tr>\n",
       "      <th>24</th>\n",
       "      <td>Repaired</td>\n",
       "      <td>steve andreozzi</td>\n",
       "      <td>pendant</td>\n",
       "      <td>Pendant bracket needs to be replaced</td>\n",
       "    </tr>\n",
       "    <tr>\n",
       "      <th>25</th>\n",
       "      <td>Clamp repaired</td>\n",
       "      <td>steve andreozzi</td>\n",
       "      <td>pendant clamp</td>\n",
       "      <td>Pendant clamp broken</td>\n",
       "    </tr>\n",
       "    <tr>\n",
       "      <th>26</th>\n",
       "      <td>Clamp repaired</td>\n",
       "      <td>steve andreozzi</td>\n",
       "      <td>pendant</td>\n",
       "      <td>Pendant clamp broken</td>\n",
       "    </tr>\n",
       "    <tr>\n",
       "      <th>27</th>\n",
       "      <td>Clamp repaired</td>\n",
       "      <td>steve andreozzi</td>\n",
       "      <td>clamp</td>\n",
       "      <td>Pendant clamp broken</td>\n",
       "    </tr>\n",
       "  </tbody>\n",
       "</table>\n",
       "</div>"
      ],
      "text/plain": [
       "                        issue.description_of_solution  technician.name  \\\n",
       "0   At 27bar -Charged to 30bar / Also replaced val...  steve andreozzi   \n",
       "1   At 27bar -Charged to 30bar / Also replaced val...  steve andreozzi   \n",
       "2                        Repaired -Air tool oil added  steve andreozzi   \n",
       "3                        Repaired -Air tool oil added  steve andreozzi   \n",
       "4                        Repaired -Air tool oil added  steve andreozzi   \n",
       "5                        Repaired -Air tool oil added  steve andreozzi   \n",
       "6                        Repaired -Air tool oil added  steve andreozzi   \n",
       "7                        Repaired -Air tool oil added  steve andreozzi   \n",
       "8                       Replaced sensor on escapement  steve andreozzi   \n",
       "9                       Replaced sensor on escapement  steve andreozzi   \n",
       "10                      Replaced sensor on escapement  steve andreozzi   \n",
       "11                      Replaced sensor on escapement  steve andreozzi   \n",
       "12  Coolant pump replaced -Pump removed rebuilt by...  steve andreozzi   \n",
       "13  Coolant pump replaced -Pump removed rebuilt by...  steve andreozzi   \n",
       "14  Coolant pump replaced -Pump removed rebuilt by...  steve andreozzi   \n",
       "15  Coolant pump replaced -Pump removed rebuilt by...  steve andreozzi   \n",
       "16  Coolant pump replaced -Pump removed rebuilt by...  steve andreozzi   \n",
       "17                     Needs a new impeller -On order  steve andreozzi   \n",
       "18                     Needs a new impeller -On order  steve andreozzi   \n",
       "19                     Needs a new impeller -On order  steve andreozzi   \n",
       "20                     Needs a new impeller -On order  steve andreozzi   \n",
       "21  Found to be 10bar -Charged to 30bar. / Check a...  steve andreozzi   \n",
       "22                                           Repaired  steve andreozzi   \n",
       "23                                           Repaired  steve andreozzi   \n",
       "24                                           Repaired  steve andreozzi   \n",
       "25                                     Clamp repaired  steve andreozzi   \n",
       "26                                     Clamp repaired  steve andreozzi   \n",
       "27                                     Clamp repaired  steve andreozzi   \n",
       "\n",
       "    tagitem.keyword                     issue.description_of_problem  \n",
       "0       accumulator                      Accumulator check requested  \n",
       "1             valve                      Accumulator check requested  \n",
       "2          tool oil  Loader not functioning properly (??) no details  \n",
       "3          air tool  Loader not functioning properly (??) no details  \n",
       "4               oil  Loader not functioning properly (??) no details  \n",
       "5              tool  Loader not functioning properly (??) no details  \n",
       "6               air  Loader not functioning properly (??) no details  \n",
       "7            loader  Loader not functioning properly (??) no details  \n",
       "8       wire loader                             Loose wire on loader  \n",
       "9              wire                             Loose wire on loader  \n",
       "10           loader                             Loose wire on loader  \n",
       "11           sensor                             Loose wire on loader  \n",
       "12     coolant_pump        Replace coolant pump impeller and housing  \n",
       "13            steve        Replace coolant pump impeller and housing  \n",
       "14          housing        Replace coolant pump impeller and housing  \n",
       "15             pump        Replace coolant pump impeller and housing  \n",
       "16          coolant        Replace coolant pump impeller and housing  \n",
       "17     coolant_pump                  Coolant pump splashing on floor  \n",
       "18            floor                  Coolant pump splashing on floor  \n",
       "19             pump                  Coolant pump splashing on floor  \n",
       "20          coolant                  Coolant pump splashing on floor  \n",
       "21      accumulator                      Check, charge, accumulators  \n",
       "22  pendant bracket             Pendant bracket needs to be replaced  \n",
       "23          bracket             Pendant bracket needs to be replaced  \n",
       "24          pendant             Pendant bracket needs to be replaced  \n",
       "25    pendant clamp                             Pendant clamp broken  \n",
       "26          pendant                             Pendant clamp broken  \n",
       "27            clamp                             Pendant clamp broken  "
      ]
     },
     "execution_count": 123,
     "metadata": {},
     "output_type": "execute_result"
    }
   ],
   "source": [
    "resultToObservationDataframe(database.runQuery(e.cypher_filterQuery())[1])"
   ]
  },
  {
   "cell_type": "code",
   "execution_count": 155,
   "metadata": {},
   "outputs": [
    {
     "data": {
      "text/plain": [
       "['name']"
      ]
     },
     "execution_count": 155,
     "metadata": {},
     "output_type": "execute_result"
    }
   ],
   "source": [
    "result = database.getAllPropertiesOf(\":HUMAN\")\n",
    "result"
   ]
  },
  {
   "cell_type": "code",
   "execution_count": 131,
   "metadata": {},
   "outputs": [
    {
     "name": "stdout",
     "output_type": "stream",
     "text": [
      "MATCH (issue:ISSUE)-[:COVERED]->(machine:MACHINE),(issue:ISSUE)-[:CONTAINS]->(tagitem:TAG:ONE_GRAM:ITEM),(issue:ISSUE)-[:SOLVE_BY]->(technician:HUMAN:TECHNICIAN),(issue:ISSUE)\n",
      "WHERE  machine.name = \"h1\" AND  technician.name CONTAINS \"steve\"\n",
      "RETURN issue.description_of_solution,technician.name,tagitem.keyword,issue.description_of_problem\n"
     ]
    }
   ],
   "source": [
    "print(e.cypher_filterQuery())"
   ]
  },
  {
   "cell_type": "code",
   "execution_count": 110,
   "metadata": {},
   "outputs": [
    {
     "name": "stdout",
     "output_type": "stream",
     "text": [
      "MATCH issue.description_of_problem 1 \"the valve is brkoen\" RETURN description_of_problem\n",
      "MATCH operator.name - \"steve\" RETURN name\n"
     ]
    }
   ],
   "source": [
    "print(kpiIssue)\n",
    "print(kpiHuman)"
   ]
  },
  {
   "cell_type": "code",
   "execution_count": 18,
   "metadata": {},
   "outputs": [
    {
     "name": "stdout",
     "output_type": "stream",
     "text": [
      "(issue:ISSUE)\n",
      "issue.description_of_problem IS NOT NULL\n",
      "issue.description_of_problem\n"
     ]
    }
   ],
   "source": [
    "for r in kpiIssue.cypher_filter():\n",
    "    print(r)"
   ]
  },
  {
   "cell_type": "markdown",
   "metadata": {},
   "source": [
    "-----------"
   ]
  }
 ],
 "metadata": {
  "kernelspec": {
   "display_name": "Python 3",
   "language": "python",
   "name": "python3"
  }
 },
 "nbformat": 4,
 "nbformat_minor": 2
}

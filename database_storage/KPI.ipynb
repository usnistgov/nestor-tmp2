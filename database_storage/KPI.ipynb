{
 "cells": [
  {
   "cell_type": "code",
   "execution_count": 21,
   "metadata": {},
   "outputs": [
    {
     "name": "stdout",
     "output_type": "stream",
     "text": [
      "The autoreload extension is already loaded. To reload it, use:\n",
      "  %reload_ext autoreload\n",
      "/Users/sam11/nestor\n"
     ]
    }
   ],
   "source": [
    "%load_ext autoreload\n",
    "%autoreload 2\n",
    "\n",
    "import sys\n",
    "import os\n",
    "import inspect\n",
    "import getpass\n",
    "import json\n",
    "\n",
    "import pandas as pd\n",
    "import matplotlib.pyplot as plt\n",
    "\n",
    "\n",
    "project_path = os.path.abspath( os.path.dirname(os.path.abspath(inspect.getfile(inspect.currentframe()))) + \"/../\" )\n",
    "sys.path.insert(0, project_path)\n",
    "print(project_path)\n",
    "\n",
    "from database_storage.helper import *\n",
    "\n",
    "from database_storage.database.database import *\n",
    "from database_storage.main import *\n",
    "\n",
    "from database_storage.objects.kpi import *"
   ]
  },
  {
   "cell_type": "code",
   "execution_count": 22,
   "metadata": {},
   "outputs": [],
   "source": [
    "def userinput(dict, node):\n",
    "    \n",
    "    if node in dict.keys():\n",
    "        print(node)\n",
    "\n",
    "        for properties in dict[node]: print(\"\\t\" + properties)\n",
    "        property = input('Which property for the node? ' + node +'\\n\\t')\n",
    "\n",
    "        operation = input('Which operation for the property \"' + properties + '\" ?\\n\\t')\n",
    "\n",
    "        value = input('Which value for the property \"' + properties + '\" ?\\n\\t')\n",
    "\n",
    "        return property , operation, value\n",
    "    else:\n",
    "        print(node, ' does not exists in your database')\n",
    "        return None, None, None"
   ]
  },
  {
   "cell_type": "markdown",
   "metadata": {},
   "source": [
    "# Database"
   ]
  },
  {
   "cell_type": "code",
   "execution_count": 23,
   "metadata": {},
   "outputs": [],
   "source": [
    "user = \"neo4j\"\n",
    "password=\"neo4j\"\n",
    "bolt = \"bolt://maintain.el.nist.gov:7687\""
   ]
  },
  {
   "cell_type": "code",
   "execution_count": 24,
   "metadata": {},
   "outputs": [
    {
     "name": "stdout",
     "output_type": "stream",
     "text": [
      "yaml file open\n"
     ]
    }
   ],
   "source": [
    "databaseSchema_file = os.path.join(project_path ,'database_storage','database', 'DatabaseSchema.yaml')\n",
    "databaseSchema_dict = openYAMLFile(databaseSchema_file)\n",
    "database = DatabaseNeo4J(bolt, user, password, databaseSchema_dict)"
   ]
  },
  {
   "cell_type": "code",
   "execution_count": 25,
   "metadata": {},
   "outputs": [],
   "source": [
    "dict = database.getAllNode()"
   ]
  },
  {
   "cell_type": "markdown",
   "metadata": {},
   "source": [
    "------"
   ]
  },
  {
   "cell_type": "markdown",
   "metadata": {},
   "source": [
    "# Create the objects"
   ]
  },
  {
   "cell_type": "markdown",
   "metadata": {},
   "source": [
    "## Issue"
   ]
  },
  {
   "cell_type": "code",
   "execution_count": 26,
   "metadata": {},
   "outputs": [
    {
     "name": "stdout",
     "output_type": "stream",
     "text": [
      "issue\n",
      "\tdate_maintenanceworkorder_completion\n",
      "\tdate_maintenanceworkorder_start\n",
      "\tdescription_of_solution\n",
      "\tdescription_of_problem\n",
      "\tpart_in_process\n",
      "\tid\n",
      "\tmachine_down\n",
      "Which property for the node? issue\n",
      "\tid\n",
      "Which operation for the property \"machine_down\" ?\n",
      "\t=\n",
      "Which value for the property \"machine_down\" ?\n",
      "\t1\n",
      "MATCH issue.id = \"1\" RETURN None\n"
     ]
    }
   ],
   "source": [
    "prop, oper, val =  userinput(dict, \"issue\")\n",
    "issue = OperandIssue(property = prop, operator =oper, value=val, databaseInfo = database.schema)\n",
    "print(issue)"
   ]
  },
  {
   "cell_type": "markdown",
   "metadata": {},
   "source": [
    "## Human"
   ]
  },
  {
   "cell_type": "code",
   "execution_count": null,
   "metadata": {},
   "outputs": [],
   "source": [
    "prop, oper, val =  userinput(dict, \"human\")\n",
    "human = OperandHuman(property = prop, operator =oper, value=val, databaseInfo = database.schema)\n",
    "print(human)"
   ]
  },
  {
   "cell_type": "markdown",
   "metadata": {},
   "source": [
    "## Technician"
   ]
  },
  {
   "cell_type": "code",
   "execution_count": 27,
   "metadata": {},
   "outputs": [
    {
     "name": "stdout",
     "output_type": "stream",
     "text": [
      "technician\n",
      "\tname\n",
      "Which property for the node? technician\n",
      "\tname\n",
      "Which operation for the property \"name\" ?\n",
      "\t-\n",
      "Which value for the property \"name\" ?\n",
      "\tsteve\n",
      "MATCH technician.name - \"steve\" RETURN None\n"
     ]
    }
   ],
   "source": [
    "prop, oper, val =  userinput(dict, \"technician\")\n",
    "technician =OperandTechnician(property = prop, operator =oper, value=val, databaseInfo = database.schema)\n",
    "print(technician)"
   ]
  },
  {
   "cell_type": "markdown",
   "metadata": {},
   "source": [
    "## Operator"
   ]
  },
  {
   "cell_type": "code",
   "execution_count": null,
   "metadata": {},
   "outputs": [],
   "source": [
    "prop, oper, val =  userinput(dict, \"operator\")\n",
    "operator = OperandOperator(property = prop, operator =oper, value=val, databaseInfo = database.schema)\n",
    "print(operator)"
   ]
  },
  {
   "cell_type": "markdown",
   "metadata": {},
   "source": [
    "## Machine"
   ]
  },
  {
   "cell_type": "code",
   "execution_count": 40,
   "metadata": {},
   "outputs": [
    {
     "name": "stdout",
     "output_type": "stream",
     "text": [
      "machine\n",
      "\tname\n",
      "Which property for the node? machine\n",
      "\tname\n"
     ]
    },
    {
     "ename": "KeyboardInterrupt",
     "evalue": "",
     "output_type": "error",
     "traceback": [
      "\u001b[0;31m---------------------------------------------------------------------------\u001b[0m",
      "\u001b[0;31mKeyboardInterrupt\u001b[0m                         Traceback (most recent call last)",
      "\u001b[0;32m/anaconda3/lib/python3.6/site-packages/ipykernel/kernelbase.py\u001b[0m in \u001b[0;36m_input_request\u001b[0;34m(self, prompt, ident, parent, password)\u001b[0m\n\u001b[1;32m    728\u001b[0m             \u001b[0;32mtry\u001b[0m\u001b[0;34m:\u001b[0m\u001b[0;34m\u001b[0m\u001b[0m\n\u001b[0;32m--> 729\u001b[0;31m                 \u001b[0mident\u001b[0m\u001b[0;34m,\u001b[0m \u001b[0mreply\u001b[0m \u001b[0;34m=\u001b[0m \u001b[0mself\u001b[0m\u001b[0;34m.\u001b[0m\u001b[0msession\u001b[0m\u001b[0;34m.\u001b[0m\u001b[0mrecv\u001b[0m\u001b[0;34m(\u001b[0m\u001b[0mself\u001b[0m\u001b[0;34m.\u001b[0m\u001b[0mstdin_socket\u001b[0m\u001b[0;34m,\u001b[0m \u001b[0;36m0\u001b[0m\u001b[0;34m)\u001b[0m\u001b[0;34m\u001b[0m\u001b[0m\n\u001b[0m\u001b[1;32m    730\u001b[0m             \u001b[0;32mexcept\u001b[0m \u001b[0mException\u001b[0m\u001b[0;34m:\u001b[0m\u001b[0;34m\u001b[0m\u001b[0m\n",
      "\u001b[0;32m/anaconda3/lib/python3.6/site-packages/jupyter_client/session.py\u001b[0m in \u001b[0;36mrecv\u001b[0;34m(self, socket, mode, content, copy)\u001b[0m\n\u001b[1;32m    802\u001b[0m         \u001b[0;32mtry\u001b[0m\u001b[0;34m:\u001b[0m\u001b[0;34m\u001b[0m\u001b[0m\n\u001b[0;32m--> 803\u001b[0;31m             \u001b[0mmsg_list\u001b[0m \u001b[0;34m=\u001b[0m \u001b[0msocket\u001b[0m\u001b[0;34m.\u001b[0m\u001b[0mrecv_multipart\u001b[0m\u001b[0;34m(\u001b[0m\u001b[0mmode\u001b[0m\u001b[0;34m,\u001b[0m \u001b[0mcopy\u001b[0m\u001b[0;34m=\u001b[0m\u001b[0mcopy\u001b[0m\u001b[0;34m)\u001b[0m\u001b[0;34m\u001b[0m\u001b[0m\n\u001b[0m\u001b[1;32m    804\u001b[0m         \u001b[0;32mexcept\u001b[0m \u001b[0mzmq\u001b[0m\u001b[0;34m.\u001b[0m\u001b[0mZMQError\u001b[0m \u001b[0;32mas\u001b[0m \u001b[0me\u001b[0m\u001b[0;34m:\u001b[0m\u001b[0;34m\u001b[0m\u001b[0m\n",
      "\u001b[0;32m/anaconda3/lib/python3.6/site-packages/zmq/sugar/socket.py\u001b[0m in \u001b[0;36mrecv_multipart\u001b[0;34m(self, flags, copy, track)\u001b[0m\n\u001b[1;32m    465\u001b[0m         \"\"\"\n\u001b[0;32m--> 466\u001b[0;31m         \u001b[0mparts\u001b[0m \u001b[0;34m=\u001b[0m \u001b[0;34m[\u001b[0m\u001b[0mself\u001b[0m\u001b[0;34m.\u001b[0m\u001b[0mrecv\u001b[0m\u001b[0;34m(\u001b[0m\u001b[0mflags\u001b[0m\u001b[0;34m,\u001b[0m \u001b[0mcopy\u001b[0m\u001b[0;34m=\u001b[0m\u001b[0mcopy\u001b[0m\u001b[0;34m,\u001b[0m \u001b[0mtrack\u001b[0m\u001b[0;34m=\u001b[0m\u001b[0mtrack\u001b[0m\u001b[0;34m)\u001b[0m\u001b[0;34m]\u001b[0m\u001b[0;34m\u001b[0m\u001b[0m\n\u001b[0m\u001b[1;32m    467\u001b[0m         \u001b[0;31m# have first part already, only loop while more to receive\u001b[0m\u001b[0;34m\u001b[0m\u001b[0;34m\u001b[0m\u001b[0m\n",
      "\u001b[0;32mzmq/backend/cython/socket.pyx\u001b[0m in \u001b[0;36mzmq.backend.cython.socket.Socket.recv\u001b[0;34m()\u001b[0m\n",
      "\u001b[0;32mzmq/backend/cython/socket.pyx\u001b[0m in \u001b[0;36mzmq.backend.cython.socket.Socket.recv\u001b[0;34m()\u001b[0m\n",
      "\u001b[0;32mzmq/backend/cython/socket.pyx\u001b[0m in \u001b[0;36mzmq.backend.cython.socket._recv_copy\u001b[0;34m()\u001b[0m\n",
      "\u001b[0;32m/anaconda3/lib/python3.6/site-packages/zmq/backend/cython/checkrc.pxd\u001b[0m in \u001b[0;36mzmq.backend.cython.checkrc._check_rc\u001b[0;34m()\u001b[0m\n",
      "\u001b[0;31mKeyboardInterrupt\u001b[0m: ",
      "\nDuring handling of the above exception, another exception occurred:\n",
      "\u001b[0;31mKeyboardInterrupt\u001b[0m                         Traceback (most recent call last)",
      "\u001b[0;32m<ipython-input-40-ace309703437>\u001b[0m in \u001b[0;36m<module>\u001b[0;34m()\u001b[0m\n\u001b[0;32m----> 1\u001b[0;31m \u001b[0mprop\u001b[0m\u001b[0;34m,\u001b[0m \u001b[0moper\u001b[0m\u001b[0;34m,\u001b[0m \u001b[0mval\u001b[0m \u001b[0;34m=\u001b[0m  \u001b[0muserinput\u001b[0m\u001b[0;34m(\u001b[0m\u001b[0mdict\u001b[0m\u001b[0;34m,\u001b[0m \u001b[0;34m\"machine\"\u001b[0m\u001b[0;34m)\u001b[0m\u001b[0;34m\u001b[0m\u001b[0m\n\u001b[0m\u001b[1;32m      2\u001b[0m \u001b[0mmachine\u001b[0m \u001b[0;34m=\u001b[0m \u001b[0mOperandMachine\u001b[0m\u001b[0;34m(\u001b[0m\u001b[0mproperty\u001b[0m \u001b[0;34m=\u001b[0m \u001b[0mprop\u001b[0m\u001b[0;34m,\u001b[0m \u001b[0moperator\u001b[0m \u001b[0;34m=\u001b[0m\u001b[0moper\u001b[0m\u001b[0;34m,\u001b[0m \u001b[0mvalue\u001b[0m\u001b[0;34m=\u001b[0m\u001b[0mval\u001b[0m\u001b[0;34m,\u001b[0m \u001b[0mdatabaseInfo\u001b[0m \u001b[0;34m=\u001b[0m \u001b[0mdatabase\u001b[0m\u001b[0;34m.\u001b[0m\u001b[0mschema\u001b[0m\u001b[0;34m)\u001b[0m\u001b[0;34m\u001b[0m\u001b[0m\n\u001b[1;32m      3\u001b[0m \u001b[0mprint\u001b[0m\u001b[0;34m(\u001b[0m\u001b[0mmachine\u001b[0m\u001b[0;34m)\u001b[0m\u001b[0;34m\u001b[0m\u001b[0m\n",
      "\u001b[0;32m<ipython-input-22-743085621d8c>\u001b[0m in \u001b[0;36muserinput\u001b[0;34m(dict, node)\u001b[0m\n\u001b[1;32m      7\u001b[0m         \u001b[0mproperty\u001b[0m \u001b[0;34m=\u001b[0m \u001b[0minput\u001b[0m\u001b[0;34m(\u001b[0m\u001b[0;34m'Which property for the node? '\u001b[0m \u001b[0;34m+\u001b[0m \u001b[0mnode\u001b[0m \u001b[0;34m+\u001b[0m\u001b[0;34m'\\n\\t'\u001b[0m\u001b[0;34m)\u001b[0m\u001b[0;34m\u001b[0m\u001b[0m\n\u001b[1;32m      8\u001b[0m \u001b[0;34m\u001b[0m\u001b[0m\n\u001b[0;32m----> 9\u001b[0;31m         \u001b[0moperation\u001b[0m \u001b[0;34m=\u001b[0m \u001b[0minput\u001b[0m\u001b[0;34m(\u001b[0m\u001b[0;34m'Which operation for the property \"'\u001b[0m \u001b[0;34m+\u001b[0m \u001b[0mproperties\u001b[0m \u001b[0;34m+\u001b[0m \u001b[0;34m'\" ?\\n\\t'\u001b[0m\u001b[0;34m)\u001b[0m\u001b[0;34m\u001b[0m\u001b[0m\n\u001b[0m\u001b[1;32m     10\u001b[0m \u001b[0;34m\u001b[0m\u001b[0m\n\u001b[1;32m     11\u001b[0m         \u001b[0mvalue\u001b[0m \u001b[0;34m=\u001b[0m \u001b[0minput\u001b[0m\u001b[0;34m(\u001b[0m\u001b[0;34m'Which value for the property \"'\u001b[0m \u001b[0;34m+\u001b[0m \u001b[0mproperties\u001b[0m \u001b[0;34m+\u001b[0m \u001b[0;34m'\" ?\\n\\t'\u001b[0m\u001b[0;34m)\u001b[0m\u001b[0;34m\u001b[0m\u001b[0m\n",
      "\u001b[0;32m/anaconda3/lib/python3.6/site-packages/ipykernel/kernelbase.py\u001b[0m in \u001b[0;36mraw_input\u001b[0;34m(self, prompt)\u001b[0m\n\u001b[1;32m    702\u001b[0m             \u001b[0mself\u001b[0m\u001b[0;34m.\u001b[0m\u001b[0m_parent_ident\u001b[0m\u001b[0;34m,\u001b[0m\u001b[0;34m\u001b[0m\u001b[0m\n\u001b[1;32m    703\u001b[0m             \u001b[0mself\u001b[0m\u001b[0;34m.\u001b[0m\u001b[0m_parent_header\u001b[0m\u001b[0;34m,\u001b[0m\u001b[0;34m\u001b[0m\u001b[0m\n\u001b[0;32m--> 704\u001b[0;31m             \u001b[0mpassword\u001b[0m\u001b[0;34m=\u001b[0m\u001b[0;32mFalse\u001b[0m\u001b[0;34m,\u001b[0m\u001b[0;34m\u001b[0m\u001b[0m\n\u001b[0m\u001b[1;32m    705\u001b[0m         )\n\u001b[1;32m    706\u001b[0m \u001b[0;34m\u001b[0m\u001b[0m\n",
      "\u001b[0;32m/anaconda3/lib/python3.6/site-packages/ipykernel/kernelbase.py\u001b[0m in \u001b[0;36m_input_request\u001b[0;34m(self, prompt, ident, parent, password)\u001b[0m\n\u001b[1;32m    732\u001b[0m             \u001b[0;32mexcept\u001b[0m \u001b[0mKeyboardInterrupt\u001b[0m\u001b[0;34m:\u001b[0m\u001b[0;34m\u001b[0m\u001b[0m\n\u001b[1;32m    733\u001b[0m                 \u001b[0;31m# re-raise KeyboardInterrupt, to truncate traceback\u001b[0m\u001b[0;34m\u001b[0m\u001b[0;34m\u001b[0m\u001b[0m\n\u001b[0;32m--> 734\u001b[0;31m                 \u001b[0;32mraise\u001b[0m \u001b[0mKeyboardInterrupt\u001b[0m\u001b[0;34m\u001b[0m\u001b[0m\n\u001b[0m\u001b[1;32m    735\u001b[0m             \u001b[0;32melse\u001b[0m\u001b[0;34m:\u001b[0m\u001b[0;34m\u001b[0m\u001b[0m\n\u001b[1;32m    736\u001b[0m                 \u001b[0;32mbreak\u001b[0m\u001b[0;34m\u001b[0m\u001b[0m\n",
      "\u001b[0;31mKeyboardInterrupt\u001b[0m: "
     ]
    }
   ],
   "source": [
    "prop, oper, val =  userinput(dict, \"machine\")\n",
    "machine = OperandMachine(property = prop, operator =oper, value=val, databaseInfo = database.schema)\n",
    "print(machine)"
   ]
  },
  {
   "cell_type": "markdown",
   "metadata": {},
   "source": [
    "## Machine Type"
   ]
  },
  {
   "cell_type": "code",
   "execution_count": null,
   "metadata": {},
   "outputs": [],
   "source": [
    "prop, oper, val =  userinput(dict, \"type of machine\")\n",
    "machinetype = OperandMachine(property = prop, operator =oper, value=val, databaseInfo = database.schema)\n",
    "print(machinetype)"
   ]
  },
  {
   "cell_type": "markdown",
   "metadata": {},
   "source": [
    "## Tags"
   ]
  },
  {
   "cell_type": "code",
   "execution_count": null,
   "metadata": {},
   "outputs": [],
   "source": [
    "prop, oper, val =  userinput(dict, \"all tags\")\n",
    "tag = OperandTag(property = prop, operator =oper, value=val, databaseInfo = database.schema)\n",
    "print(tag)"
   ]
  },
  {
   "cell_type": "markdown",
   "metadata": {},
   "source": [
    "## Tags - OneGram"
   ]
  },
  {
   "cell_type": "code",
   "execution_count": null,
   "metadata": {},
   "outputs": [],
   "source": [
    "prop, oper, val =  userinput(dict, \"tags one_gram\")\n",
    "one_gram = OperandTagOnegram(property = prop, operator =oper, value=val, databaseInfo = database.schema)\n",
    "print(one_gram)"
   ]
  },
  {
   "cell_type": "markdown",
   "metadata": {},
   "source": [
    "## Tags - NGram"
   ]
  },
  {
   "cell_type": "code",
   "execution_count": null,
   "metadata": {},
   "outputs": [],
   "source": [
    "prop, oper, val =  userinput(dict, \"tags n_gram\")\n",
    "n_gram = OperandTagNgram(property = prop, operator =oper, value=val, databaseInfo = database.schema)\n",
    "print(n_gram)"
   ]
  },
  {
   "cell_type": "markdown",
   "metadata": {},
   "source": [
    "## Tags - Other"
   ]
  },
  {
   "cell_type": "code",
   "execution_count": null,
   "metadata": {},
   "outputs": [],
   "source": [
    "prop, oper, val =  userinput(dict, \"tags other\")\n",
    "other = OperandTechnician(property = prop, operator =oper, value=val, databaseInfo = database.schema)\n",
    "print(other)"
   ]
  },
  {
   "cell_type": "markdown",
   "metadata": {},
   "source": [
    "## Tags - OneGram - Problem"
   ]
  },
  {
   "cell_type": "code",
   "execution_count": null,
   "metadata": {},
   "outputs": [],
   "source": [
    "prop, oper, val =  userinput(dict, \"tags problem\")\n",
    "problem = OperandTagProblem(property = prop, operator =oper, value=val, databaseInfo = database.schema)\n",
    "print(problem)"
   ]
  },
  {
   "cell_type": "markdown",
   "metadata": {},
   "source": [
    "## Tags - OneGram - Solution"
   ]
  },
  {
   "cell_type": "code",
   "execution_count": null,
   "metadata": {},
   "outputs": [],
   "source": [
    "prop, oper, val =  userinput(dict, \"tags solution\")\n",
    "solution = OperandTagSolution(property = prop, operator =oper, value=val, databaseInfo = database.schema)\n",
    "print(solution)"
   ]
  },
  {
   "cell_type": "markdown",
   "metadata": {},
   "source": [
    "## Tags - Other - NA"
   ]
  },
  {
   "cell_type": "code",
   "execution_count": null,
   "metadata": {},
   "outputs": [],
   "source": [
    "prop, oper, val =  userinput(dict, \"tags na\")\n",
    "na = OperandTagNa(property = prop, operator =oper, value=val, databaseInfo = database.schema)\n",
    "print(na)"
   ]
  },
  {
   "cell_type": "markdown",
   "metadata": {},
   "source": [
    "## Tags - Other - StopWord"
   ]
  },
  {
   "cell_type": "code",
   "execution_count": null,
   "metadata": {},
   "outputs": [],
   "source": [
    "prop, oper, val =  userinput(dict, \"tags stop_word\")\n",
    "stop_word = OperandTagStopWord(property = prop, operator =oper, value=val, databaseInfo = database.schema)\n",
    "print(stop_word)"
   ]
  },
  {
   "cell_type": "markdown",
   "metadata": {},
   "source": [
    "## Tags - NGram - ProblemItem"
   ]
  },
  {
   "cell_type": "code",
   "execution_count": null,
   "metadata": {},
   "outputs": [],
   "source": [
    "prop, oper, val =  userinput(dict, \"tags problem_item\")\n",
    "problem_item = OperandTagProblemItem(property = prop, operator =oper, value=val, databaseInfo = database.schema)\n",
    "print(problem_item)"
   ]
  },
  {
   "cell_type": "markdown",
   "metadata": {},
   "source": [
    "## Tags - NGram - SolutionItem"
   ]
  },
  {
   "cell_type": "code",
   "execution_count": null,
   "metadata": {},
   "outputs": [],
   "source": [
    "prop, oper, val =  userinput(dict, \"tags solution_item\")\n",
    "solution_item = OperandTagSolutionItem(property = prop, operator =oper, value=val, databaseInfo = database.schema)\n",
    "print(solution_item)"
   ]
  },
  {
   "cell_type": "markdown",
   "metadata": {},
   "source": [
    "## Tags - OneGram - Item"
   ]
  },
  {
   "cell_type": "code",
   "execution_count": null,
   "metadata": {},
   "outputs": [],
   "source": [
    "prop, oper, val =  userinput(dict, \"tags item\")\n",
    "item = OperandTagItem(property = prop, operator =oper, value=val, databaseInfo = database.schema)\n",
    "print(item)"
   ]
  },
  {
   "cell_type": "markdown",
   "metadata": {},
   "source": [
    "## Tags - OneGram - Item as problem"
   ]
  },
  {
   "cell_type": "code",
   "execution_count": null,
   "metadata": {},
   "outputs": [],
   "source": [
    "prop, oper, val =  userinput(dict, \"tag item as problem\")\n",
    "item_problem = OperandTagItemAsProblem(property = prop, operator =oper, value=val, databaseInfo = database.schema)\n",
    "print(item_problem)"
   ]
  },
  {
   "cell_type": "markdown",
   "metadata": {},
   "source": [
    "## Tags - OneGram - Item as solution"
   ]
  },
  {
   "cell_type": "code",
   "execution_count": null,
   "metadata": {},
   "outputs": [],
   "source": [
    "prop, oper, val =  userinput(dict, \"tag item as solution\")\n",
    "item_solution = OperandTagItemAsSolution(property = prop, operator =oper, value=val, databaseInfo = database.schema)\n",
    "print(item_solution)"
   ]
  },
  {
   "cell_type": "markdown",
   "metadata": {},
   "source": [
    "------"
   ]
  },
  {
   "cell_type": "markdown",
   "metadata": {},
   "source": [
    "# RETURN"
   ]
  },
  {
   "cell_type": "code",
   "execution_count": 29,
   "metadata": {},
   "outputs": [],
   "source": [
    "### Tag Problem\n",
    "res1 = OperandTagProblem(result = \"keyword\", databaseInfo = database.schema)\n",
    "res2 = OperandTagItem(result = \"keyword\", databaseInfo = database.schema)"
   ]
  },
  {
   "cell_type": "markdown",
   "metadata": {},
   "source": [
    "# KPI"
   ]
  },
  {
   "cell_type": "code",
   "execution_count": 38,
   "metadata": {},
   "outputs": [],
   "source": [
    "query = -technician - -machine + res1 + res2"
   ]
  },
  {
   "cell_type": "code",
   "execution_count": 46,
   "metadata": {},
   "outputs": [
    {
     "name": "stdout",
     "output_type": "stream",
     "text": [
      "\n",
      "MATCH technician.name - \"steve\" RETURN None\n",
      "-\n",
      "MATCH machine.name = \"h1\" RETURN None\n",
      "+\n",
      "MATCH tagproblem.None None None RETURN keyword\n",
      "+\n",
      "MATCH tagitem.None None None RETURN keyword\n"
     ]
    }
   ],
   "source": [
    "print(query)"
   ]
  },
  {
   "cell_type": "code",
   "execution_count": 32,
   "metadata": {},
   "outputs": [
    {
     "name": "stderr",
     "output_type": "stream",
     "text": [
      "8it [00:00, 14652.59it/s]\n"
     ]
    },
    {
     "data": {
      "text/html": [
       "<div>\n",
       "<style scoped>\n",
       "    .dataframe tbody tr th:only-of-type {\n",
       "        vertical-align: middle;\n",
       "    }\n",
       "\n",
       "    .dataframe tbody tr th {\n",
       "        vertical-align: top;\n",
       "    }\n",
       "\n",
       "    .dataframe thead th {\n",
       "        text-align: right;\n",
       "    }\n",
       "</style>\n",
       "<table border=\"1\" class=\"dataframe\">\n",
       "  <thead>\n",
       "    <tr style=\"text-align: right;\">\n",
       "      <th></th>\n",
       "      <th>tagproblem.keyword</th>\n",
       "      <th>tagitem.keyword</th>\n",
       "    </tr>\n",
       "  </thead>\n",
       "  <tbody>\n",
       "    <tr>\n",
       "      <th>0</th>\n",
       "      <td>loose</td>\n",
       "      <td>wire loader</td>\n",
       "    </tr>\n",
       "    <tr>\n",
       "      <th>1</th>\n",
       "      <td>loose</td>\n",
       "      <td>wire</td>\n",
       "    </tr>\n",
       "    <tr>\n",
       "      <th>2</th>\n",
       "      <td>loose</td>\n",
       "      <td>loader</td>\n",
       "    </tr>\n",
       "    <tr>\n",
       "      <th>3</th>\n",
       "      <td>loose</td>\n",
       "      <td>sensor</td>\n",
       "    </tr>\n",
       "    <tr>\n",
       "      <th>4</th>\n",
       "      <td>leak</td>\n",
       "      <td>accumulator</td>\n",
       "    </tr>\n",
       "    <tr>\n",
       "      <th>5</th>\n",
       "      <td>broken</td>\n",
       "      <td>pendant clamp</td>\n",
       "    </tr>\n",
       "    <tr>\n",
       "      <th>6</th>\n",
       "      <td>broken</td>\n",
       "      <td>pendant</td>\n",
       "    </tr>\n",
       "    <tr>\n",
       "      <th>7</th>\n",
       "      <td>broken</td>\n",
       "      <td>clamp</td>\n",
       "    </tr>\n",
       "  </tbody>\n",
       "</table>\n",
       "</div>"
      ],
      "text/plain": [
       "  tagproblem.keyword tagitem.keyword\n",
       "0              loose     wire loader\n",
       "1              loose            wire\n",
       "2              loose          loader\n",
       "3              loose          sensor\n",
       "4               leak     accumulator\n",
       "5             broken   pendant clamp\n",
       "6             broken         pendant\n",
       "7             broken           clamp"
      ]
     },
     "execution_count": 32,
     "metadata": {},
     "output_type": "execute_result"
    }
   ],
   "source": [
    "resultToObservationDataframe(database.runQuery(query.cypher_filterQuery())[1])"
   ]
  },
  {
   "cell_type": "code",
   "execution_count": 39,
   "metadata": {},
   "outputs": [
    {
     "name": "stdout",
     "output_type": "stream",
     "text": [
      "MATCH (issue:ISSUE)-[:CONTAINS]->(tagitem:TAG:ONE_GRAM:ITEM),(issue:ISSUE)-[:COVERED]->(machine:MACHINE),(issue:ISSUE)-[:CONTAINS]->(tagproblem:TAG:ONE_GRAM:PROBLEM),(issue:ISSUE)-[:SOLVE_BY]->(technician:HUMAN:TECHNICIAN)\n",
      "WHERE  NOT technician.name CONTAINS \"steve\" OR  NOT machine.name = \"h1\"\n",
      "RETURN tagproblem.keyword,tagitem.keyword\n"
     ]
    }
   ],
   "source": [
    "print(query.cypher_filterQuery())"
   ]
  },
  {
   "cell_type": "markdown",
   "metadata": {},
   "source": [
    "------"
   ]
  },
  {
   "cell_type": "markdown",
   "metadata": {},
   "source": [
    "# KPI from \"Developing meintenance key performance indocators from maintenance work order data\""
   ]
  },
  {
   "cell_type": "code",
   "execution_count": 41,
   "metadata": {},
   "outputs": [],
   "source": [
    "itemAsProblem = OperandTagItemAsProblem(result = \"keyword\", databaseInfo = database.schema)\n",
    "machine = OperandMachine(result = \"name\", databaseInfo = database.schema)\n",
    "machinetype = OperandMachine(result = \"type\", databaseInfo = database.schema)\n",
    "technician = OperandTechnician(result = \"name\", databaseInfo = database.schema)\n",
    "problemitem = OperandTagProblemItem(result = \"keyword\", databaseInfo = database.schema)\n",
    "problem = OperandTagProblem(result = \"keyword\", databaseInfo = database.schema)\n",
    "\n",
    "issue_dateMWOstart = OperandIssue(result = \"date_maintenanceworkorder_start\", databaseInfo = database.schema)\n",
    "issue_dateMWOend = OperandIssue(result = \"date_maintenanceworkorder_completion\", databaseInfo = database.schema)"
   ]
  },
  {
   "cell_type": "markdown",
   "metadata": {},
   "source": [
    "### 2.1.1 Common Problem Items"
   ]
  },
  {
   "cell_type": "code",
   "execution_count": 44,
   "metadata": {},
   "outputs": [
    {
     "name": "stderr",
     "output_type": "stream",
     "text": [
      "1904it [00:00, 832564.10it/s]\n"
     ]
    },
    {
     "data": {
      "text/html": [
       "<div>\n",
       "<style scoped>\n",
       "    .dataframe tbody tr th:only-of-type {\n",
       "        vertical-align: middle;\n",
       "    }\n",
       "\n",
       "    .dataframe tbody tr th {\n",
       "        vertical-align: top;\n",
       "    }\n",
       "\n",
       "    .dataframe thead th {\n",
       "        text-align: right;\n",
       "    }\n",
       "</style>\n",
       "<table border=\"1\" class=\"dataframe\">\n",
       "  <thead>\n",
       "    <tr style=\"text-align: right;\">\n",
       "      <th></th>\n",
       "      <th>tagitemasproblem.keyword</th>\n",
       "    </tr>\n",
       "  </thead>\n",
       "  <tbody>\n",
       "    <tr>\n",
       "      <th>0</th>\n",
       "      <td>station</td>\n",
       "    </tr>\n",
       "    <tr>\n",
       "      <th>1</th>\n",
       "      <td>station</td>\n",
       "    </tr>\n",
       "    <tr>\n",
       "      <th>2</th>\n",
       "      <td>station</td>\n",
       "    </tr>\n",
       "    <tr>\n",
       "      <th>3</th>\n",
       "      <td>station</td>\n",
       "    </tr>\n",
       "    <tr>\n",
       "      <th>4</th>\n",
       "      <td>station</td>\n",
       "    </tr>\n",
       "  </tbody>\n",
       "</table>\n",
       "</div>"
      ],
      "text/plain": [
       "  tagitemasproblem.keyword\n",
       "0                  station\n",
       "1                  station\n",
       "2                  station\n",
       "3                  station\n",
       "4                  station"
      ]
     },
     "execution_count": 44,
     "metadata": {},
     "output_type": "execute_result"
    }
   ],
   "source": [
    "kpi = itemAsProblem\n",
    "df = resultToObservationDataframe(database.runQuery(kpi.cypher_filterQuery())[1])\n",
    "df.head()"
   ]
  },
  {
   "cell_type": "markdown",
   "metadata": {},
   "source": [
    "### 2.1.2 Common Problem Items per Time Between Failure"
   ]
  },
  {
   "cell_type": "code",
   "execution_count": 45,
   "metadata": {},
   "outputs": [
    {
     "name": "stderr",
     "output_type": "stream",
     "text": [
      "1904it [00:00, 549694.03it/s]\n"
     ]
    },
    {
     "data": {
      "text/html": [
       "<div>\n",
       "<style scoped>\n",
       "    .dataframe tbody tr th:only-of-type {\n",
       "        vertical-align: middle;\n",
       "    }\n",
       "\n",
       "    .dataframe tbody tr th {\n",
       "        vertical-align: top;\n",
       "    }\n",
       "\n",
       "    .dataframe thead th {\n",
       "        text-align: right;\n",
       "    }\n",
       "</style>\n",
       "<table border=\"1\" class=\"dataframe\">\n",
       "  <thead>\n",
       "    <tr style=\"text-align: right;\">\n",
       "      <th></th>\n",
       "      <th>tagitemasproblem.keyword</th>\n",
       "      <th>issue.date_maintenanceworkorder_start</th>\n",
       "      <th>issue.date_maintenanceworkorder_completion</th>\n",
       "    </tr>\n",
       "  </thead>\n",
       "  <tbody>\n",
       "    <tr>\n",
       "      <th>0</th>\n",
       "      <td>station</td>\n",
       "      <td>2016-02-01T00:00:00</td>\n",
       "      <td>2016-02-01T00:00:00</td>\n",
       "    </tr>\n",
       "    <tr>\n",
       "      <th>1</th>\n",
       "      <td>station</td>\n",
       "      <td>2015-06-30T00:00:00</td>\n",
       "      <td>2015-07-02T00:00:00</td>\n",
       "    </tr>\n",
       "    <tr>\n",
       "      <th>2</th>\n",
       "      <td>station</td>\n",
       "      <td>2015-10-16T00:00:00</td>\n",
       "      <td>2015-10-16T00:00:00</td>\n",
       "    </tr>\n",
       "    <tr>\n",
       "      <th>3</th>\n",
       "      <td>station</td>\n",
       "      <td>2016-09-10T00:00:00</td>\n",
       "      <td>2016-09-10T00:00:00</td>\n",
       "    </tr>\n",
       "    <tr>\n",
       "      <th>4</th>\n",
       "      <td>station</td>\n",
       "      <td>2016-04-25T00:00:00</td>\n",
       "      <td>2016-04-25T00:00:00</td>\n",
       "    </tr>\n",
       "  </tbody>\n",
       "</table>\n",
       "</div>"
      ],
      "text/plain": [
       "  tagitemasproblem.keyword issue.date_maintenanceworkorder_start  \\\n",
       "0                  station                   2016-02-01T00:00:00   \n",
       "1                  station                   2015-06-30T00:00:00   \n",
       "2                  station                   2015-10-16T00:00:00   \n",
       "3                  station                   2016-09-10T00:00:00   \n",
       "4                  station                   2016-04-25T00:00:00   \n",
       "\n",
       "  issue.date_maintenanceworkorder_completion  \n",
       "0                        2016-02-01T00:00:00  \n",
       "1                        2015-07-02T00:00:00  \n",
       "2                        2015-10-16T00:00:00  \n",
       "3                        2016-09-10T00:00:00  \n",
       "4                        2016-04-25T00:00:00  "
      ]
     },
     "execution_count": 45,
     "metadata": {},
     "output_type": "execute_result"
    }
   ],
   "source": [
    "kpi = itemAsProblem + issue_dateMWOstart + issue_dateMWOend\n",
    "df = resultToObservationDataframe(database.runQuery(kpi.cypher_filterQuery())[1])\n",
    "df.head()"
   ]
  },
  {
   "cell_type": "markdown",
   "metadata": {},
   "source": [
    "### 2.1.3 Common Problem Items by Machine Type"
   ]
  },
  {
   "cell_type": "code",
   "execution_count": 9,
   "metadata": {},
   "outputs": [
    {
     "name": "stderr",
     "output_type": "stream",
     "text": [
      "0it [00:00, ?it/s]\n"
     ]
    },
    {
     "data": {
      "text/html": [
       "<div>\n",
       "<style scoped>\n",
       "    .dataframe tbody tr th:only-of-type {\n",
       "        vertical-align: middle;\n",
       "    }\n",
       "\n",
       "    .dataframe tbody tr th {\n",
       "        vertical-align: top;\n",
       "    }\n",
       "\n",
       "    .dataframe thead th {\n",
       "        text-align: right;\n",
       "    }\n",
       "</style>\n",
       "<table border=\"1\" class=\"dataframe\">\n",
       "  <thead>\n",
       "    <tr style=\"text-align: right;\">\n",
       "      <th></th>\n",
       "      <th>tagitemasproblem.keyword</th>\n",
       "      <th>machinetype.type</th>\n",
       "    </tr>\n",
       "  </thead>\n",
       "  <tbody>\n",
       "  </tbody>\n",
       "</table>\n",
       "</div>"
      ],
      "text/plain": [
       "Empty DataFrame\n",
       "Columns: [tagitemasproblem.keyword, machinetype.type]\n",
       "Index: []"
      ]
     },
     "execution_count": 9,
     "metadata": {},
     "output_type": "execute_result"
    }
   ],
   "source": [
    "kpi = itemAsProblem + machinetype\n",
    "df = resultToObservationDataframe(database.runQuery(kpi.cypher_filterQuery())[1])\n",
    "df.head()"
   ]
  },
  {
   "cell_type": "markdown",
   "metadata": {},
   "source": [
    "### 2.1.4 Common Problem Items & Action per Time to Repair"
   ]
  },
  {
   "cell_type": "code",
   "execution_count": 10,
   "metadata": {},
   "outputs": [
    {
     "name": "stderr",
     "output_type": "stream",
     "text": [
      "2089it [00:00, 547447.74it/s]\n"
     ]
    },
    {
     "data": {
      "text/html": [
       "<div>\n",
       "<style scoped>\n",
       "    .dataframe tbody tr th:only-of-type {\n",
       "        vertical-align: middle;\n",
       "    }\n",
       "\n",
       "    .dataframe tbody tr th {\n",
       "        vertical-align: top;\n",
       "    }\n",
       "\n",
       "    .dataframe thead th {\n",
       "        text-align: right;\n",
       "    }\n",
       "</style>\n",
       "<table border=\"1\" class=\"dataframe\">\n",
       "  <thead>\n",
       "    <tr style=\"text-align: right;\">\n",
       "      <th></th>\n",
       "      <th>tagproblemitem.keyword</th>\n",
       "      <th>issue.date_maintenanceworkorder_start</th>\n",
       "      <th>issue.date_maintenanceworkorder_completion</th>\n",
       "    </tr>\n",
       "  </thead>\n",
       "  <tbody>\n",
       "    <tr>\n",
       "      <th>0</th>\n",
       "      <td>conveyor jam</td>\n",
       "      <td>2016-10-05T06:00:00</td>\n",
       "      <td>2016-10-05T09:15:00</td>\n",
       "    </tr>\n",
       "    <tr>\n",
       "      <th>1</th>\n",
       "      <td>conveyor jam</td>\n",
       "      <td>2016-06-03T11:50:00</td>\n",
       "      <td>None</td>\n",
       "    </tr>\n",
       "    <tr>\n",
       "      <th>2</th>\n",
       "      <td>conveyor jam</td>\n",
       "      <td>2016-10-27T00:00:00</td>\n",
       "      <td>2016-10-27T00:00:00</td>\n",
       "    </tr>\n",
       "    <tr>\n",
       "      <th>3</th>\n",
       "      <td>conveyor jam</td>\n",
       "      <td>2016-09-16T04:00:00</td>\n",
       "      <td>2016-09-16T08:30:00</td>\n",
       "    </tr>\n",
       "    <tr>\n",
       "      <th>4</th>\n",
       "      <td>conveyor jam</td>\n",
       "      <td>2016-08-15T06:00:00</td>\n",
       "      <td>2016-08-15T07:30:00</td>\n",
       "    </tr>\n",
       "  </tbody>\n",
       "</table>\n",
       "</div>"
      ],
      "text/plain": [
       "  tagproblemitem.keyword issue.date_maintenanceworkorder_start  \\\n",
       "0           conveyor jam                   2016-10-05T06:00:00   \n",
       "1           conveyor jam                   2016-06-03T11:50:00   \n",
       "2           conveyor jam                   2016-10-27T00:00:00   \n",
       "3           conveyor jam                   2016-09-16T04:00:00   \n",
       "4           conveyor jam                   2016-08-15T06:00:00   \n",
       "\n",
       "  issue.date_maintenanceworkorder_completion  \n",
       "0                        2016-10-05T09:15:00  \n",
       "1                                       None  \n",
       "2                        2016-10-27T00:00:00  \n",
       "3                        2016-09-16T08:30:00  \n",
       "4                        2016-08-15T07:30:00  "
      ]
     },
     "execution_count": 10,
     "metadata": {},
     "output_type": "execute_result"
    }
   ],
   "source": [
    "kpi = problemitem + issue_dateMWOstart + issue_dateMWOend\n",
    "df = resultToObservationDataframe(database.runQuery(kpi.cypher_filterQuery())[1])\n",
    "df.head()"
   ]
  },
  {
   "cell_type": "markdown",
   "metadata": {},
   "source": [
    "### 2.2.1 Machine per Time Between Failure"
   ]
  },
  {
   "cell_type": "code",
   "execution_count": 11,
   "metadata": {},
   "outputs": [
    {
     "name": "stderr",
     "output_type": "stream",
     "text": [
      "3431it [00:00, 768772.75it/s]\n"
     ]
    },
    {
     "data": {
      "text/html": [
       "<div>\n",
       "<style scoped>\n",
       "    .dataframe tbody tr th:only-of-type {\n",
       "        vertical-align: middle;\n",
       "    }\n",
       "\n",
       "    .dataframe tbody tr th {\n",
       "        vertical-align: top;\n",
       "    }\n",
       "\n",
       "    .dataframe thead th {\n",
       "        text-align: right;\n",
       "    }\n",
       "</style>\n",
       "<table border=\"1\" class=\"dataframe\">\n",
       "  <thead>\n",
       "    <tr style=\"text-align: right;\">\n",
       "      <th></th>\n",
       "      <th>issue.date_maintenanceworkorder_start</th>\n",
       "      <th>issue.date_maintenanceworkorder_completion</th>\n",
       "      <th>machine.name</th>\n",
       "    </tr>\n",
       "  </thead>\n",
       "  <tbody>\n",
       "    <tr>\n",
       "      <th>0</th>\n",
       "      <td>2017-01-24T00:00:00</td>\n",
       "      <td>2017-01-24T00:00:00</td>\n",
       "      <td>h27</td>\n",
       "    </tr>\n",
       "    <tr>\n",
       "      <th>1</th>\n",
       "      <td>2017-01-23T00:00:00</td>\n",
       "      <td>2017-01-23T00:00:00</td>\n",
       "      <td>h27</td>\n",
       "    </tr>\n",
       "    <tr>\n",
       "      <th>2</th>\n",
       "      <td>2017-01-13T06:00:00</td>\n",
       "      <td>2017-01-13T07:30:00</td>\n",
       "      <td>h27</td>\n",
       "    </tr>\n",
       "    <tr>\n",
       "      <th>3</th>\n",
       "      <td>2017-01-05T12:00:00</td>\n",
       "      <td>None</td>\n",
       "      <td>h27</td>\n",
       "    </tr>\n",
       "    <tr>\n",
       "      <th>4</th>\n",
       "      <td>2016-12-23T08:30:00</td>\n",
       "      <td>2017-12-23T00:00:00</td>\n",
       "      <td>h27</td>\n",
       "    </tr>\n",
       "  </tbody>\n",
       "</table>\n",
       "</div>"
      ],
      "text/plain": [
       "  issue.date_maintenanceworkorder_start  \\\n",
       "0                   2017-01-24T00:00:00   \n",
       "1                   2017-01-23T00:00:00   \n",
       "2                   2017-01-13T06:00:00   \n",
       "3                   2017-01-05T12:00:00   \n",
       "4                   2016-12-23T08:30:00   \n",
       "\n",
       "  issue.date_maintenanceworkorder_completion machine.name  \n",
       "0                        2017-01-24T00:00:00          h27  \n",
       "1                        2017-01-23T00:00:00          h27  \n",
       "2                        2017-01-13T07:30:00          h27  \n",
       "3                                       None          h27  \n",
       "4                        2017-12-23T00:00:00          h27  "
      ]
     },
     "execution_count": 11,
     "metadata": {},
     "output_type": "execute_result"
    }
   ],
   "source": [
    "kpi = machine + issue_dateMWOstart + issue_dateMWOend\n",
    "df = resultToObservationDataframe(database.runQuery(kpi.cypher_filterQuery())[1])\n",
    "df.head()"
   ]
  },
  {
   "cell_type": "markdown",
   "metadata": {},
   "source": [
    "### 2.2.2 Machine by Problem Action per Time Between Failure"
   ]
  },
  {
   "cell_type": "code",
   "execution_count": 12,
   "metadata": {},
   "outputs": [
    {
     "name": "stderr",
     "output_type": "stream",
     "text": [
      "2851it [00:00, 628638.46it/s]\n"
     ]
    },
    {
     "data": {
      "text/html": [
       "<div>\n",
       "<style scoped>\n",
       "    .dataframe tbody tr th:only-of-type {\n",
       "        vertical-align: middle;\n",
       "    }\n",
       "\n",
       "    .dataframe tbody tr th {\n",
       "        vertical-align: top;\n",
       "    }\n",
       "\n",
       "    .dataframe thead th {\n",
       "        text-align: right;\n",
       "    }\n",
       "</style>\n",
       "<table border=\"1\" class=\"dataframe\">\n",
       "  <thead>\n",
       "    <tr style=\"text-align: right;\">\n",
       "      <th></th>\n",
       "      <th>issue.date_maintenanceworkorder_start</th>\n",
       "      <th>tagproblem.keyword</th>\n",
       "      <th>issue.date_maintenanceworkorder_completion</th>\n",
       "      <th>machine.name</th>\n",
       "    </tr>\n",
       "  </thead>\n",
       "  <tbody>\n",
       "    <tr>\n",
       "      <th>0</th>\n",
       "      <td>2016-08-09T14:00:00</td>\n",
       "      <td>broken</td>\n",
       "      <td>2016-08-09T14:20:00</td>\n",
       "      <td>h3</td>\n",
       "    </tr>\n",
       "    <tr>\n",
       "      <th>1</th>\n",
       "      <td>2016-09-15T05:30:00</td>\n",
       "      <td>broken</td>\n",
       "      <td>2016-09-15T07:00:00</td>\n",
       "      <td>h3</td>\n",
       "    </tr>\n",
       "    <tr>\n",
       "      <th>2</th>\n",
       "      <td>2016-06-30T05:45:00</td>\n",
       "      <td>broken</td>\n",
       "      <td>None</td>\n",
       "      <td>h2</td>\n",
       "    </tr>\n",
       "    <tr>\n",
       "      <th>3</th>\n",
       "      <td>2015-05-02T00:00:00</td>\n",
       "      <td>broken</td>\n",
       "      <td>2015-05-02T00:00:00</td>\n",
       "      <td>h23</td>\n",
       "    </tr>\n",
       "    <tr>\n",
       "      <th>4</th>\n",
       "      <td>2015-12-22T00:00:00</td>\n",
       "      <td>broken</td>\n",
       "      <td>2015-12-22T00:00:00</td>\n",
       "      <td>h25</td>\n",
       "    </tr>\n",
       "  </tbody>\n",
       "</table>\n",
       "</div>"
      ],
      "text/plain": [
       "  issue.date_maintenanceworkorder_start tagproblem.keyword  \\\n",
       "0                   2016-08-09T14:00:00             broken   \n",
       "1                   2016-09-15T05:30:00             broken   \n",
       "2                   2016-06-30T05:45:00             broken   \n",
       "3                   2015-05-02T00:00:00             broken   \n",
       "4                   2015-12-22T00:00:00             broken   \n",
       "\n",
       "  issue.date_maintenanceworkorder_completion machine.name  \n",
       "0                        2016-08-09T14:20:00           h3  \n",
       "1                        2016-09-15T07:00:00           h3  \n",
       "2                                       None           h2  \n",
       "3                        2015-05-02T00:00:00          h23  \n",
       "4                        2015-12-22T00:00:00          h25  "
      ]
     },
     "execution_count": 12,
     "metadata": {},
     "output_type": "execute_result"
    }
   ],
   "source": [
    "kpi = machine + problem + issue_dateMWOstart + issue_dateMWOend\n",
    "df = resultToObservationDataframe(database.runQuery(kpi.cypher_filterQuery())[1])\n",
    "df.head()"
   ]
  },
  {
   "cell_type": "markdown",
   "metadata": {},
   "source": [
    "### 2.2.3 Machine Type per Time to Repair"
   ]
  },
  {
   "cell_type": "code",
   "execution_count": 13,
   "metadata": {},
   "outputs": [
    {
     "name": "stderr",
     "output_type": "stream",
     "text": [
      "0it [00:00, ?it/s]\n"
     ]
    },
    {
     "data": {
      "text/html": [
       "<div>\n",
       "<style scoped>\n",
       "    .dataframe tbody tr th:only-of-type {\n",
       "        vertical-align: middle;\n",
       "    }\n",
       "\n",
       "    .dataframe tbody tr th {\n",
       "        vertical-align: top;\n",
       "    }\n",
       "\n",
       "    .dataframe thead th {\n",
       "        text-align: right;\n",
       "    }\n",
       "</style>\n",
       "<table border=\"1\" class=\"dataframe\">\n",
       "  <thead>\n",
       "    <tr style=\"text-align: right;\">\n",
       "      <th></th>\n",
       "      <th>issue.date_maintenanceworkorder_start</th>\n",
       "      <th>machinetype.type</th>\n",
       "      <th>issue.date_maintenanceworkorder_completion</th>\n",
       "    </tr>\n",
       "  </thead>\n",
       "  <tbody>\n",
       "  </tbody>\n",
       "</table>\n",
       "</div>"
      ],
      "text/plain": [
       "Empty DataFrame\n",
       "Columns: [issue.date_maintenanceworkorder_start, machinetype.type, issue.date_maintenanceworkorder_completion]\n",
       "Index: []"
      ]
     },
     "execution_count": 13,
     "metadata": {},
     "output_type": "execute_result"
    }
   ],
   "source": [
    "kpi = machinetype + issue_dateMWOstart + issue_dateMWOend\n",
    "df = resultToObservationDataframe(database.runQuery(kpi.cypher_filterQuery())[1])\n",
    "df.head()"
   ]
  },
  {
   "cell_type": "markdown",
   "metadata": {},
   "source": [
    "### 2.2.4 Machine type per Problem Item per Time to Repair"
   ]
  },
  {
   "cell_type": "code",
   "execution_count": 14,
   "metadata": {},
   "outputs": [
    {
     "name": "stderr",
     "output_type": "stream",
     "text": [
      "0it [00:00, ?it/s]\n"
     ]
    },
    {
     "data": {
      "text/html": [
       "<div>\n",
       "<style scoped>\n",
       "    .dataframe tbody tr th:only-of-type {\n",
       "        vertical-align: middle;\n",
       "    }\n",
       "\n",
       "    .dataframe tbody tr th {\n",
       "        vertical-align: top;\n",
       "    }\n",
       "\n",
       "    .dataframe thead th {\n",
       "        text-align: right;\n",
       "    }\n",
       "</style>\n",
       "<table border=\"1\" class=\"dataframe\">\n",
       "  <thead>\n",
       "    <tr style=\"text-align: right;\">\n",
       "      <th></th>\n",
       "      <th>tagitemasproblem.keyword</th>\n",
       "      <th>machinetype.type</th>\n",
       "      <th>issue.date_maintenanceworkorder_start</th>\n",
       "      <th>issue.date_maintenanceworkorder_completion</th>\n",
       "    </tr>\n",
       "  </thead>\n",
       "  <tbody>\n",
       "  </tbody>\n",
       "</table>\n",
       "</div>"
      ],
      "text/plain": [
       "Empty DataFrame\n",
       "Columns: [tagitemasproblem.keyword, machinetype.type, issue.date_maintenanceworkorder_start, issue.date_maintenanceworkorder_completion]\n",
       "Index: []"
      ]
     },
     "execution_count": 14,
     "metadata": {},
     "output_type": "execute_result"
    }
   ],
   "source": [
    "kpi = machinetype +  itemAsProblem + issue_dateMWOstart + issue_dateMWOend\n",
    "df = resultToObservationDataframe(database.runQuery(kpi.cypher_filterQuery())[1])\n",
    "df.head()"
   ]
  },
  {
   "cell_type": "markdown",
   "metadata": {},
   "source": [
    "### 2.3.1 Maintenance Technician Expertise per Problem Item"
   ]
  },
  {
   "cell_type": "code",
   "execution_count": 15,
   "metadata": {},
   "outputs": [
    {
     "name": "stderr",
     "output_type": "stream",
     "text": [
      "1314it [00:00, 379881.13it/s]\n"
     ]
    },
    {
     "data": {
      "text/html": [
       "<div>\n",
       "<style scoped>\n",
       "    .dataframe tbody tr th:only-of-type {\n",
       "        vertical-align: middle;\n",
       "    }\n",
       "\n",
       "    .dataframe tbody tr th {\n",
       "        vertical-align: top;\n",
       "    }\n",
       "\n",
       "    .dataframe thead th {\n",
       "        text-align: right;\n",
       "    }\n",
       "</style>\n",
       "<table border=\"1\" class=\"dataframe\">\n",
       "  <thead>\n",
       "    <tr style=\"text-align: right;\">\n",
       "      <th></th>\n",
       "      <th>tagitemasproblem.keyword</th>\n",
       "      <th>technician.name</th>\n",
       "    </tr>\n",
       "  </thead>\n",
       "  <tbody>\n",
       "    <tr>\n",
       "      <th>0</th>\n",
       "      <td>station</td>\n",
       "      <td>steve andreozzi</td>\n",
       "    </tr>\n",
       "    <tr>\n",
       "      <th>1</th>\n",
       "      <td>station</td>\n",
       "      <td>john murray</td>\n",
       "    </tr>\n",
       "    <tr>\n",
       "      <th>2</th>\n",
       "      <td>station</td>\n",
       "      <td>steve andreozzi</td>\n",
       "    </tr>\n",
       "    <tr>\n",
       "      <th>3</th>\n",
       "      <td>station</td>\n",
       "      <td>john murray</td>\n",
       "    </tr>\n",
       "    <tr>\n",
       "      <th>4</th>\n",
       "      <td>station</td>\n",
       "      <td>john murray</td>\n",
       "    </tr>\n",
       "  </tbody>\n",
       "</table>\n",
       "</div>"
      ],
      "text/plain": [
       "  tagitemasproblem.keyword  technician.name\n",
       "0                  station  steve andreozzi\n",
       "1                  station      john murray\n",
       "2                  station  steve andreozzi\n",
       "3                  station      john murray\n",
       "4                  station      john murray"
      ]
     },
     "execution_count": 15,
     "metadata": {},
     "output_type": "execute_result"
    }
   ],
   "source": [
    "kpi = technician + itemAsProblem\n",
    "df = resultToObservationDataframe(database.runQuery(kpi.cypher_filterQuery())[1])\n",
    "df.head()"
   ]
  },
  {
   "cell_type": "markdown",
   "metadata": {},
   "source": [
    "### 2.3.2 Maintenance Technician Expertise per Problem Action"
   ]
  },
  {
   "cell_type": "code",
   "execution_count": 16,
   "metadata": {},
   "outputs": [
    {
     "name": "stderr",
     "output_type": "stream",
     "text": [
      "2018it [00:00, 652440.10it/s]\n"
     ]
    },
    {
     "data": {
      "text/html": [
       "<div>\n",
       "<style scoped>\n",
       "    .dataframe tbody tr th:only-of-type {\n",
       "        vertical-align: middle;\n",
       "    }\n",
       "\n",
       "    .dataframe tbody tr th {\n",
       "        vertical-align: top;\n",
       "    }\n",
       "\n",
       "    .dataframe thead th {\n",
       "        text-align: right;\n",
       "    }\n",
       "</style>\n",
       "<table border=\"1\" class=\"dataframe\">\n",
       "  <thead>\n",
       "    <tr style=\"text-align: right;\">\n",
       "      <th></th>\n",
       "      <th>tagproblem.keyword</th>\n",
       "      <th>technician.name</th>\n",
       "    </tr>\n",
       "  </thead>\n",
       "  <tbody>\n",
       "    <tr>\n",
       "      <th>0</th>\n",
       "      <td>broken</td>\n",
       "      <td>jon cousineau</td>\n",
       "    </tr>\n",
       "    <tr>\n",
       "      <th>1</th>\n",
       "      <td>broken</td>\n",
       "      <td>steve andreozzi</td>\n",
       "    </tr>\n",
       "    <tr>\n",
       "      <th>2</th>\n",
       "      <td>broken</td>\n",
       "      <td>denis kusiak</td>\n",
       "    </tr>\n",
       "    <tr>\n",
       "      <th>3</th>\n",
       "      <td>broken</td>\n",
       "      <td>jon cousineau</td>\n",
       "    </tr>\n",
       "    <tr>\n",
       "      <th>4</th>\n",
       "      <td>broken</td>\n",
       "      <td>patrick ayers</td>\n",
       "    </tr>\n",
       "  </tbody>\n",
       "</table>\n",
       "</div>"
      ],
      "text/plain": [
       "  tagproblem.keyword  technician.name\n",
       "0             broken    jon cousineau\n",
       "1             broken  steve andreozzi\n",
       "2             broken     denis kusiak\n",
       "3             broken    jon cousineau\n",
       "4             broken    patrick ayers"
      ]
     },
     "execution_count": 16,
     "metadata": {},
     "output_type": "execute_result"
    }
   ],
   "source": [
    "kpi = technician + problem\n",
    "df = resultToObservationDataframe(database.runQuery(kpi.cypher_filterQuery())[1])\n",
    "df.head()"
   ]
  },
  {
   "cell_type": "markdown",
   "metadata": {},
   "source": [
    "### 2.3.3 Maintenance Technician Expertise per Problem Item & Action per Time to Repair\n",
    "### 2.3.4 Maintenance Technician Expertise per Problem Item & Action per Time to Diagnose\n",
    "### 2.3.5 Maintenance Technician Expertise per Solution Item & Action per Time to Fix\n"
   ]
  },
  {
   "cell_type": "code",
   "execution_count": 17,
   "metadata": {},
   "outputs": [
    {
     "name": "stderr",
     "output_type": "stream",
     "text": [
      "1471it [00:00, 788777.96it/s]\n"
     ]
    },
    {
     "data": {
      "text/html": [
       "<div>\n",
       "<style scoped>\n",
       "    .dataframe tbody tr th:only-of-type {\n",
       "        vertical-align: middle;\n",
       "    }\n",
       "\n",
       "    .dataframe tbody tr th {\n",
       "        vertical-align: top;\n",
       "    }\n",
       "\n",
       "    .dataframe thead th {\n",
       "        text-align: right;\n",
       "    }\n",
       "</style>\n",
       "<table border=\"1\" class=\"dataframe\">\n",
       "  <thead>\n",
       "    <tr style=\"text-align: right;\">\n",
       "      <th></th>\n",
       "      <th>tagproblemitem.keyword</th>\n",
       "      <th>issue.date_maintenanceworkorder_completion</th>\n",
       "      <th>issue.date_maintenanceworkorder_start</th>\n",
       "      <th>technician.name</th>\n",
       "    </tr>\n",
       "  </thead>\n",
       "  <tbody>\n",
       "    <tr>\n",
       "      <th>0</th>\n",
       "      <td>conveyor jam</td>\n",
       "      <td>None</td>\n",
       "      <td>2016-06-03T11:50:00</td>\n",
       "      <td>anthony paolillo</td>\n",
       "    </tr>\n",
       "    <tr>\n",
       "      <th>1</th>\n",
       "      <td>conveyor jam</td>\n",
       "      <td>2015-04-06T00:00:00</td>\n",
       "      <td>2015-04-06T00:00:00</td>\n",
       "      <td>colin doherty</td>\n",
       "    </tr>\n",
       "    <tr>\n",
       "      <th>2</th>\n",
       "      <td>conveyor jam</td>\n",
       "      <td>2016-02-09T00:00:00</td>\n",
       "      <td>2016-02-09T00:00:00</td>\n",
       "      <td>steve andreozzi</td>\n",
       "    </tr>\n",
       "    <tr>\n",
       "      <th>3</th>\n",
       "      <td>conveyor jam</td>\n",
       "      <td>2015-03-02T00:00:00</td>\n",
       "      <td>2015-03-02T00:00:00</td>\n",
       "      <td>colin doherty</td>\n",
       "    </tr>\n",
       "    <tr>\n",
       "      <th>4</th>\n",
       "      <td>conveyor jam</td>\n",
       "      <td>2015-04-29T00:00:00</td>\n",
       "      <td>2015-04-28T00:00:00</td>\n",
       "      <td>john murray</td>\n",
       "    </tr>\n",
       "  </tbody>\n",
       "</table>\n",
       "</div>"
      ],
      "text/plain": [
       "  tagproblemitem.keyword issue.date_maintenanceworkorder_completion  \\\n",
       "0           conveyor jam                                       None   \n",
       "1           conveyor jam                        2015-04-06T00:00:00   \n",
       "2           conveyor jam                        2016-02-09T00:00:00   \n",
       "3           conveyor jam                        2015-03-02T00:00:00   \n",
       "4           conveyor jam                        2015-04-29T00:00:00   \n",
       "\n",
       "  issue.date_maintenanceworkorder_start   technician.name  \n",
       "0                   2016-06-03T11:50:00  anthony paolillo  \n",
       "1                   2015-04-06T00:00:00     colin doherty  \n",
       "2                   2016-02-09T00:00:00   steve andreozzi  \n",
       "3                   2015-03-02T00:00:00     colin doherty  \n",
       "4                   2015-04-28T00:00:00       john murray  "
      ]
     },
     "execution_count": 17,
     "metadata": {},
     "output_type": "execute_result"
    }
   ],
   "source": [
    "kpi = technician + problemitem + issue_dateMWOstart + issue_dateMWOend \n",
    "df = resultToObservationDataframe(database.runQuery(kpi.cypher_filterQuery())[1])\n",
    "df.head()"
   ]
  },
  {
   "cell_type": "markdown",
   "metadata": {},
   "source": [
    "### 2.3.6 Maintenance Technician Expertise per Machine Type per Time to Repair"
   ]
  },
  {
   "cell_type": "code",
   "execution_count": 18,
   "metadata": {},
   "outputs": [
    {
     "name": "stderr",
     "output_type": "stream",
     "text": [
      "0it [00:00, ?it/s]\n"
     ]
    },
    {
     "data": {
      "text/html": [
       "<div>\n",
       "<style scoped>\n",
       "    .dataframe tbody tr th:only-of-type {\n",
       "        vertical-align: middle;\n",
       "    }\n",
       "\n",
       "    .dataframe tbody tr th {\n",
       "        vertical-align: top;\n",
       "    }\n",
       "\n",
       "    .dataframe thead th {\n",
       "        text-align: right;\n",
       "    }\n",
       "</style>\n",
       "<table border=\"1\" class=\"dataframe\">\n",
       "  <thead>\n",
       "    <tr style=\"text-align: right;\">\n",
       "      <th></th>\n",
       "      <th>issue.date_maintenanceworkorder_start</th>\n",
       "      <th>issue.date_maintenanceworkorder_completion</th>\n",
       "      <th>machinetype.type</th>\n",
       "      <th>technician.name</th>\n",
       "    </tr>\n",
       "  </thead>\n",
       "  <tbody>\n",
       "  </tbody>\n",
       "</table>\n",
       "</div>"
      ],
      "text/plain": [
       "Empty DataFrame\n",
       "Columns: [issue.date_maintenanceworkorder_start, issue.date_maintenanceworkorder_completion, machinetype.type, technician.name]\n",
       "Index: []"
      ]
     },
     "execution_count": 18,
     "metadata": {},
     "output_type": "execute_result"
    }
   ],
   "source": [
    "kpi = technician + machinetype + issue_dateMWOstart + issue_dateMWOend \n",
    "df = resultToObservationDataframe(database.runQuery(kpi.cypher_filterQuery())[1])\n",
    "df.head()"
   ]
  },
  {
   "cell_type": "code",
   "execution_count": null,
   "metadata": {},
   "outputs": [],
   "source": []
  }
 ],
 "metadata": {
  "kernelspec": {
   "display_name": "Python 3",
   "language": "python",
   "name": "python3"
  },
  "language_info": {
   "codemirror_mode": {
    "name": "ipython",
    "version": 3
   },
   "file_extension": ".py",
   "mimetype": "text/x-python",
   "name": "python",
   "nbconvert_exporter": "python",
   "pygments_lexer": "ipython3",
   "version": "3.6.5"
  }
 },
 "nbformat": 4,
 "nbformat_minor": 2
}

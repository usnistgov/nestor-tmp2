{
 "cells": [
  {
   "cell_type": "code",
   "execution_count": null,
   "metadata": {},
   "outputs": [],
   "source": [
    "%load_ext autoreload\n",
    "%autoreload 2\n",
    "\n",
    "import sys\n",
    "import os\n",
    "import inspect\n",
    "import getpass\n",
    "import json\n",
    "\n",
    "import pandas as pd\n",
    "import matplotlib.pyplot as plt\n",
    "\n",
    "\n",
    "project_path = os.path.abspath( os.path.dirname(os.path.abspath(inspect.getfile(inspect.currentframe()))) + \"/../\" )\n",
    "sys.path.insert(0, project_path)\n",
    "print(project_path)\n",
    "\n",
    "from database_storage.helper import *\n",
    "\n",
    "from database_storage.database.database import *\n",
    "from database_storage.main import *\n",
    "\n",
    "from database_storage.objects.kpi import *"
   ]
  },
  {
   "cell_type": "code",
   "execution_count": null,
   "metadata": {},
   "outputs": [],
   "source": [
    "def userinput(dict, node):\n",
    "    \n",
    "    if node in dict.keys():\n",
    "        print(node)\n",
    "\n",
    "        for properties in dict[node]: print(\"\\t\" + properties)\n",
    "        property = input('Which property for the node? ' + node +'\\n\\t')\n",
    "\n",
    "        operation = input('Which operation for the property \"' + properties + '\" ?\\n\\t')\n",
    "\n",
    "        value = input('Which value for the property \"' + properties + '\" ?\\n\\t')\n",
    "\n",
    "        return property , operation, value\n",
    "    else:\n",
    "        print(node, ' does not exists in your database')\n",
    "        return None, None, None"
   ]
  },
  {
   "cell_type": "markdown",
   "metadata": {},
   "source": [
    "# Database"
   ]
  },
  {
   "cell_type": "code",
   "execution_count": null,
   "metadata": {},
   "outputs": [],
   "source": [
    "user = \"neo4j\"\n",
    "password=\"neo4j\"\n",
    "bolt = \"bolt://maintain.el.nist.gov:7687\""
   ]
  },
  {
   "cell_type": "code",
   "execution_count": null,
   "metadata": {},
   "outputs": [],
   "source": [
    "databaseSchema_file = os.path.join(project_path ,'database_storage','database', 'DatabaseSchema.yaml')\n",
    "databaseSchema_dict = openYAMLFile(databaseSchema_file)\n",
    "database = DatabaseNeo4J(bolt, user, password, databaseSchema_dict)"
   ]
  },
  {
   "cell_type": "code",
   "execution_count": null,
   "metadata": {},
   "outputs": [],
   "source": [
    "dict = database.getAllNode()"
   ]
  },
  {
   "cell_type": "markdown",
   "metadata": {},
   "source": [
    "------"
   ]
  },
  {
   "cell_type": "markdown",
   "metadata": {},
   "source": [
    "# Create the objects"
   ]
  },
  {
   "cell_type": "markdown",
   "metadata": {},
   "source": [
    "## Issue"
   ]
  },
  {
   "cell_type": "code",
   "execution_count": null,
   "metadata": {},
   "outputs": [],
   "source": [
    "prop, oper, val =  userinput(dict, \"issue\")\n",
    "issue = OperandIssue(property = prop, operator =oper, value=val, databaseInfo = database.schema)\n",
    "print(issue)"
   ]
  },
  {
   "cell_type": "markdown",
   "metadata": {},
   "source": [
    "## Human"
   ]
  },
  {
   "cell_type": "code",
   "execution_count": null,
   "metadata": {},
   "outputs": [],
   "source": [
    "prop, oper, val =  userinput(dict, \"human\")\n",
    "human = OperandHuman(property = prop, operator =oper, value=val, databaseInfo = database.schema)\n",
    "print(human)"
   ]
  },
  {
   "cell_type": "markdown",
   "metadata": {},
   "source": [
    "## Technician"
   ]
  },
  {
   "cell_type": "code",
   "execution_count": null,
   "metadata": {},
   "outputs": [],
   "source": [
    "prop, oper, val =  userinput(dict, \"technician\")\n",
    "technician =OperandTechnician(property = prop, operator =oper, value=val, databaseInfo = database.schema)\n",
    "print(technician)"
   ]
  },
  {
   "cell_type": "markdown",
   "metadata": {},
   "source": [
    "## Operator"
   ]
  },
  {
   "cell_type": "code",
   "execution_count": null,
   "metadata": {},
   "outputs": [],
   "source": [
    "prop, oper, val =  userinput(dict, \"operator\")\n",
    "operator = OperandOperator(property = prop, operator =oper, value=val, databaseInfo = database.schema)\n",
    "print(operator)"
   ]
  },
  {
   "cell_type": "markdown",
   "metadata": {},
   "source": [
    "## Machine"
   ]
  },
  {
   "cell_type": "code",
   "execution_count": null,
   "metadata": {},
   "outputs": [],
   "source": [
    "prop, oper, val =  userinput(dict, \"machine\")\n",
    "machine = OperandMachine(property = prop, operator =oper, value=val, databaseInfo = database.schema)\n",
    "print(machine)"
   ]
  },
  {
   "cell_type": "markdown",
   "metadata": {},
   "source": [
    "## Machine Type"
   ]
  },
  {
   "cell_type": "code",
   "execution_count": null,
   "metadata": {},
   "outputs": [],
   "source": [
    "prop, oper, val =  userinput(dict, \"type of machine\")\n",
    "machinetype = OperandMachine(property = prop, operator =oper, value=val, databaseInfo = database.schema)\n",
    "print(machinetype)"
   ]
  },
  {
   "cell_type": "markdown",
   "metadata": {},
   "source": [
    "## Tags"
   ]
  },
  {
   "cell_type": "code",
   "execution_count": null,
   "metadata": {},
   "outputs": [],
   "source": [
    "prop, oper, val =  userinput(dict, \"all tags\")\n",
    "tag = OperandTag(property = prop, operator =oper, value=val, databaseInfo = database.schema)\n",
    "print(tag)"
   ]
  },
  {
   "cell_type": "markdown",
   "metadata": {},
   "source": [
    "## Tags - OneGram"
   ]
  },
  {
   "cell_type": "code",
   "execution_count": null,
   "metadata": {},
   "outputs": [],
   "source": [
    "prop, oper, val =  userinput(dict, \"tags one_gram\")\n",
    "one_gram = OperandTagOnegram(property = prop, operator =oper, value=val, databaseInfo = database.schema)\n",
    "print(one_gram)"
   ]
  },
  {
   "cell_type": "markdown",
   "metadata": {},
   "source": [
    "## Tags - NGram"
   ]
  },
  {
   "cell_type": "code",
   "execution_count": null,
   "metadata": {},
   "outputs": [],
   "source": [
    "prop, oper, val =  userinput(dict, \"tags n_gram\")\n",
    "n_gram = OperandTagNgram(property = prop, operator =oper, value=val, databaseInfo = database.schema)\n",
    "print(n_gram)"
   ]
  },
  {
   "cell_type": "markdown",
   "metadata": {},
   "source": [
    "## Tags - Other"
   ]
  },
  {
   "cell_type": "code",
   "execution_count": null,
   "metadata": {},
   "outputs": [],
   "source": [
    "prop, oper, val =  userinput(dict, \"tags other\")\n",
    "other = OperandTechnician(property = prop, operator =oper, value=val, databaseInfo = database.schema)\n",
    "print(other)"
   ]
  },
  {
   "cell_type": "markdown",
   "metadata": {},
   "source": [
    "## Tags - OneGram - Problem"
   ]
  },
  {
   "cell_type": "code",
   "execution_count": null,
   "metadata": {},
   "outputs": [],
   "source": [
    "prop, oper, val =  userinput(dict, \"tags problem\")\n",
    "problem = OperandTagProblem(property = prop, operator =oper, value=val, databaseInfo = database.schema)\n",
    "print(problem)"
   ]
  },
  {
   "cell_type": "markdown",
   "metadata": {},
   "source": [
    "## Tags - OneGram - Solution"
   ]
  },
  {
   "cell_type": "code",
   "execution_count": null,
   "metadata": {},
   "outputs": [],
   "source": [
    "prop, oper, val =  userinput(dict, \"tags solution\")\n",
    "solution = OperandTagSolution(property = prop, operator =oper, value=val, databaseInfo = database.schema)\n",
    "print(solution)"
   ]
  },
  {
   "cell_type": "markdown",
   "metadata": {},
   "source": [
    "## Tags - Other - NA"
   ]
  },
  {
   "cell_type": "code",
   "execution_count": null,
   "metadata": {},
   "outputs": [],
   "source": [
    "prop, oper, val =  userinput(dict, \"tags na\")\n",
    "na = OperandTagNa(property = prop, operator =oper, value=val, databaseInfo = database.schema)\n",
    "print(na)"
   ]
  },
  {
   "cell_type": "markdown",
   "metadata": {},
   "source": [
    "## Tags - Other - StopWord"
   ]
  },
  {
   "cell_type": "code",
   "execution_count": null,
   "metadata": {},
   "outputs": [],
   "source": [
    "prop, oper, val =  userinput(dict, \"tags stop_word\")\n",
    "stop_word = OperandTagStopWord(property = prop, operator =oper, value=val, databaseInfo = database.schema)\n",
    "print(stop_word)"
   ]
  },
  {
   "cell_type": "markdown",
   "metadata": {},
   "source": [
    "## Tags - NGram - ProblemItem"
   ]
  },
  {
   "cell_type": "code",
   "execution_count": null,
   "metadata": {},
   "outputs": [],
   "source": [
    "prop, oper, val =  userinput(dict, \"tags problem_item\")\n",
    "problem_item = OperandTagProblemItem(property = prop, operator =oper, value=val, databaseInfo = database.schema)\n",
    "print(problem_item)"
   ]
  },
  {
   "cell_type": "markdown",
   "metadata": {},
   "source": [
    "## Tags - NGram - SolutionItem"
   ]
  },
  {
   "cell_type": "code",
   "execution_count": null,
   "metadata": {},
   "outputs": [],
   "source": [
    "prop, oper, val =  userinput(dict, \"tags solution_item\")\n",
    "solution_item = OperandTagSolutionItem(property = prop, operator =oper, value=val, databaseInfo = database.schema)\n",
    "print(solution_item)"
   ]
  },
  {
   "cell_type": "markdown",
   "metadata": {},
   "source": [
    "## Tags - OneGram - Item"
   ]
  },
  {
   "cell_type": "code",
   "execution_count": null,
   "metadata": {},
   "outputs": [],
   "source": [
    "prop, oper, val =  userinput(dict, \"tags item\")\n",
    "item = OperandTagItem(property = prop, operator =oper, value=val, databaseInfo = database.schema)\n",
    "print(item)"
   ]
  },
  {
   "cell_type": "markdown",
   "metadata": {},
   "source": [
    "## Tags - OneGram - Item as problem"
   ]
  },
  {
   "cell_type": "code",
   "execution_count": null,
   "metadata": {},
   "outputs": [],
   "source": [
    "prop, oper, val =  userinput(dict, \"tag item as problem\")\n",
    "item_problem = OperandTagItemAsProblem(property = prop, operator =oper, value=val, databaseInfo = database.schema)\n",
    "print(item_problem)"
   ]
  },
  {
   "cell_type": "markdown",
   "metadata": {},
   "source": [
    "## Tags - OneGram - Item as solution"
   ]
  },
  {
   "cell_type": "code",
   "execution_count": null,
   "metadata": {},
   "outputs": [],
   "source": [
    "prop, oper, val =  userinput(dict, \"tag item as solution\")\n",
    "item_solution = OperandTagItemAsSolution(property = prop, operator =oper, value=val, databaseInfo = database.schema)\n",
    "print(item_solution)"
   ]
  },
  {
   "cell_type": "markdown",
   "metadata": {},
   "source": [
    "------"
   ]
  },
  {
   "cell_type": "markdown",
   "metadata": {},
   "source": [
    "# RETURN"
   ]
  },
  {
   "cell_type": "code",
   "execution_count": null,
   "metadata": {},
   "outputs": [],
   "source": [
    "### Tag Problem\n",
    "res1 = OperandTagProblem(result = \"keyword\", databaseInfo = database.schema)\n",
    "res2 = OperandTagItem(result = \"keyword\", databaseInfo = database.schema)"
   ]
  },
  {
   "cell_type": "markdown",
   "metadata": {},
   "source": [
    "# KPI"
   ]
  },
  {
   "cell_type": "code",
   "execution_count": null,
   "metadata": {},
   "outputs": [],
   "source": [
    "query = -technician - -machine + res1 + res2"
   ]
  },
  {
   "cell_type": "code",
   "execution_count": null,
   "metadata": {},
   "outputs": [],
   "source": [
    "print(query)"
   ]
  },
  {
   "cell_type": "code",
   "execution_count": null,
   "metadata": {},
   "outputs": [],
   "source": [
    "resultToObservationDataframe(database.runQuery(query.cypher_filterQuery())[1])"
   ]
  },
  {
   "cell_type": "code",
   "execution_count": null,
   "metadata": {},
   "outputs": [],
   "source": [
    "print(query.cypher_filterQuery())"
   ]
  },
  {
   "cell_type": "markdown",
   "metadata": {},
   "source": [
    "------"
   ]
  },
  {
   "cell_type": "markdown",
   "metadata": {},
   "source": [
    "# KPI from \"Developing meintenance key performance indocators from maintenance work order data\""
   ]
  },
  {
   "cell_type": "code",
   "execution_count": null,
   "metadata": {},
   "outputs": [],
   "source": [
    "itemAsProblem = OperandTagItemAsProblem(result = \"keyword\", databaseInfo = database.schema)\n",
    "machine = OperandMachine(result = \"name\", databaseInfo = database.schema)\n",
    "machinetype = OperandMachine(result = \"type\", databaseInfo = database.schema)\n",
    "technician = OperandTechnician(result = \"name\", databaseInfo = database.schema)\n",
    "problemitem = OperandTagProblemItem(result = \"keyword\", databaseInfo = database.schema)\n",
    "problem = OperandTagProblem(result = \"keyword\", databaseInfo = database.schema)\n",
    "\n",
    "issue_dateMWOstart = OperandIssue(result = \"date_maintenanceworkorder_start\", databaseInfo = database.schema)\n",
    "issue_dateMWOend = OperandIssue(result = \"date_maintenanceworkorder_completion\", databaseInfo = database.schema)"
   ]
  },
  {
   "cell_type": "markdown",
   "metadata": {},
   "source": [
    "### 2.1.1 Common Problem Items"
   ]
  },
  {
   "cell_type": "code",
   "execution_count": null,
   "metadata": {},
   "outputs": [],
   "source": [
    "kpi = itemAsProblem\n",
    "df = resultToObservationDataframe(database.runQuery(kpi.cypher_filterQuery())[1])\n",
    "df.head()"
   ]
  },
  {
   "cell_type": "markdown",
   "metadata": {},
   "source": [
    "### 2.1.2 Common Problem Items per Time Between Failure"
   ]
  },
  {
   "cell_type": "code",
   "execution_count": null,
   "metadata": {},
   "outputs": [],
   "source": [
    "kpi = itemAsProblem + issue_dateMWOstart + issue_dateMWOend\n",
    "df = resultToObservationDataframe(database.runQuery(kpi.cypher_filterQuery())[1])\n",
    "df.head()"
   ]
  },
  {
   "cell_type": "markdown",
   "metadata": {},
   "source": [
    "### 2.1.3 Common Problem Items by Machine Type"
   ]
  },
  {
   "cell_type": "code",
   "execution_count": null,
   "metadata": {},
   "outputs": [],
   "source": [
    "kpi = itemAsProblem + machinetype\n",
    "df = resultToObservationDataframe(database.runQuery(kpi.cypher_filterQuery())[1])\n",
    "df.head()"
   ]
  },
  {
   "cell_type": "markdown",
   "metadata": {},
   "source": [
    "### 2.1.4 Common Problem Items & Action per Time to Repair"
   ]
  },
  {
   "cell_type": "code",
   "execution_count": null,
   "metadata": {},
   "outputs": [],
   "source": [
    "kpi = problemitem + issue_dateMWOstart + issue_dateMWOend\n",
    "df = resultToObservationDataframe(database.runQuery(kpi.cypher_filterQuery())[1])\n",
    "df.head()"
   ]
  },
  {
   "cell_type": "markdown",
   "metadata": {},
   "source": [
    "### 2.2.1 Machine per Time Between Failure"
   ]
  },
  {
   "cell_type": "code",
   "execution_count": null,
   "metadata": {},
   "outputs": [],
   "source": [
    "kpi = machine + issue_dateMWOstart + issue_dateMWOend\n",
    "df = resultToObservationDataframe(database.runQuery(kpi.cypher_filterQuery())[1])\n",
    "df.head()"
   ]
  },
  {
   "cell_type": "markdown",
   "metadata": {},
   "source": [
    "### 2.2.2 Machine by Problem Action per Time Between Failure"
   ]
  },
  {
   "cell_type": "code",
   "execution_count": null,
   "metadata": {},
   "outputs": [],
   "source": [
    "kpi = machine + problem + issue_dateMWOstart + issue_dateMWOend\n",
    "df = resultToObservationDataframe(database.runQuery(kpi.cypher_filterQuery())[1])\n",
    "df.head()"
   ]
  },
  {
   "cell_type": "markdown",
   "metadata": {},
   "source": [
    "### 2.2.3 Machine Type per Time to Repair"
   ]
  },
  {
   "cell_type": "code",
   "execution_count": null,
   "metadata": {},
   "outputs": [],
   "source": [
    "kpi = machinetype + issue_dateMWOstart + issue_dateMWOend\n",
    "df = resultToObservationDataframe(database.runQuery(kpi.cypher_filterQuery())[1])\n",
    "df.head()"
   ]
  },
  {
   "cell_type": "markdown",
   "metadata": {},
   "source": [
    "### 2.2.4 Machine type per Problem Item per Time to Repair"
   ]
  },
  {
   "cell_type": "code",
   "execution_count": null,
   "metadata": {},
   "outputs": [],
   "source": [
    "kpi = machinetype +  itemAsProblem + issue_dateMWOstart + issue_dateMWOend\n",
    "df = resultToObservationDataframe(database.runQuery(kpi.cypher_filterQuery())[1])\n",
    "df.head()"
   ]
  },
  {
   "cell_type": "markdown",
   "metadata": {},
   "source": [
    "### 2.3.1 Maintenance Technician Expertise per Problem Item"
   ]
  },
  {
   "cell_type": "code",
   "execution_count": null,
   "metadata": {},
   "outputs": [],
   "source": [
    "kpi = technician + itemAsProblem\n",
    "df = resultToObservationDataframe(database.runQuery(kpi.cypher_filterQuery())[1])\n",
    "df.head()"
   ]
  },
  {
   "cell_type": "markdown",
   "metadata": {},
   "source": [
    "### 2.3.2 Maintenance Technician Expertise per Problem Action"
   ]
  },
  {
   "cell_type": "code",
   "execution_count": null,
   "metadata": {},
   "outputs": [],
   "source": [
    "kpi = technician + problem\n",
    "df = resultToObservationDataframe(database.runQuery(kpi.cypher_filterQuery())[1])\n",
    "df.head()"
   ]
  },
  {
   "cell_type": "markdown",
   "metadata": {},
   "source": [
    "### 2.3.3 Maintenance Technician Expertise per Problem Item & Action per Time to Repair\n",
    "### 2.3.4 Maintenance Technician Expertise per Problem Item & Action per Time to Diagnose\n",
    "### 2.3.5 Maintenance Technician Expertise per Solution Item & Action per Time to Fix\n"
   ]
  },
  {
   "cell_type": "code",
   "execution_count": null,
   "metadata": {},
   "outputs": [],
   "source": [
    "kpi = technician + problemitem + issue_dateMWOstart + issue_dateMWOend \n",
    "df = resultToObservationDataframe(database.runQuery(kpi.cypher_filterQuery())[1])\n",
    "df.head()"
   ]
  },
  {
   "cell_type": "markdown",
   "metadata": {},
   "source": [
    "### 2.3.6 Maintenance Technician Expertise per Machine Type per Time to Repair"
   ]
  },
  {
   "cell_type": "code",
   "execution_count": null,
   "metadata": {},
   "outputs": [],
   "source": [
    "kpi = technician + machinetype + issue_dateMWOstart + issue_dateMWOend \n",
    "df = resultToObservationDataframe(database.runQuery(kpi.cypher_filterQuery())[1])\n",
    "df.head()"
   ]
  },
  {
   "cell_type": "markdown",
   "metadata": {},
   "source": [
    "---------"
   ]
  },
  {
   "cell_type": "code",
   "execution_count": 16,
   "metadata": {},
   "outputs": [],
   "source": [
    "import os\n",
    "from pathlib import Path\n",
    "\n",
    "cwd = os.getcwd()"
   ]
  },
  {
   "cell_type": "code",
   "execution_count": 17,
   "metadata": {},
   "outputs": [
    {
     "data": {
      "text/plain": [
       "'/Users/sam11/Git/nestor/database_storage'"
      ]
     },
     "execution_count": 17,
     "metadata": {},
     "output_type": "execute_result"
    }
   ],
   "source": [
    "cwd"
   ]
  },
  {
   "cell_type": "code",
   "execution_count": 18,
   "metadata": {},
   "outputs": [
    {
     "data": {
      "text/plain": [
       "'/Users/sam11/Git/nestor/database_storage/3'"
      ]
     },
     "execution_count": 18,
     "metadata": {},
     "output_type": "execute_result"
    }
   ],
   "source": [
    "os.path.join(os.getcwd(), \"3\")"
   ]
  },
  {
   "cell_type": "code",
   "execution_count": null,
   "metadata": {},
   "outputs": [],
   "source": []
  }
 ],
 "metadata": {
  "kernelspec": {
   "display_name": "Python 3",
   "language": "python",
   "name": "python3"
  },
  "language_info": {
   "codemirror_mode": {
    "name": "ipython",
    "version": 3
   },
   "file_extension": ".py",
   "mimetype": "text/x-python",
   "name": "python",
   "nbconvert_exporter": "python",
   "pygments_lexer": "ipython3",
   "version": "3.6.6"
  }
 },
 "nbformat": 4,
 "nbformat_minor": 2
}

{
 "cells": [
  {
   "cell_type": "code",
   "execution_count": 1,
   "metadata": {},
   "outputs": [
    {
     "name": "stdout",
     "output_type": "stream",
     "text": [
      "/Users/sam11/Git/ml-py\n"
     ]
    }
   ],
   "source": [
    "%load_ext autoreload\n",
    "%autoreload 2\n",
    "\n",
    "import sys\n",
    "import os\n",
    "import inspect\n",
    "import getpass\n",
    "\n",
    "import pandas as pd\n",
    "import matplotlib.pyplot as plt\n",
    "\n",
    "\n",
    "project_path = os.path.abspath( os.path.dirname(os.path.abspath(inspect.getfile(inspect.currentframe()))) + \"/../\" )\n",
    "sys.path.insert(0, project_path)\n",
    "print(project_path)\n",
    "\n",
    "from database_storage.helper import *\n",
    "\n",
    "from database_storage.database.database import *\n",
    "from database_storage.main import *\n",
    "\n",
    "from database_storage.objects.human import *\n",
    "from database_storage.objects.issue import *\n",
    "from database_storage.objects.kpi import *\n",
    "from database_storage.objects.machine import *\n",
    "from database_storage.objects.tag import *\n",
    "from database_storage.objects.maintenanceworkorder import *\n"
   ]
  },
  {
   "cell_type": "markdown",
   "metadata": {},
   "source": [
    "### Greystone"
   ]
  },
  {
   "cell_type": "code",
   "execution_count": 2,
   "metadata": {},
   "outputs": [],
   "source": [
    "user = \"neo4j\"\n",
    "password = 'GREYSTONE!!'\n",
    "\n",
    "csv_file = os.path.join(project_path ,'data', 'gs_data', 'READABLE_TAGS.csv')\n",
    "csvSchemas_file = os.path.join(project_path , 'data',  'gs_data', 'gs_header.yaml')\n",
    "\n",
    "\n",
    "bincsv_file = os.path.join(project_path ,'data', 'gs_data', 'BINARY_TAGS.csv')\n",
    "binNcsv_file = os.path.join(project_path ,'data', 'gs_data', 'BINARY_RELATIONS.csv')\n"
   ]
  },
  {
   "cell_type": "markdown",
   "metadata": {},
   "source": [
    "### Mine"
   ]
  },
  {
   "cell_type": "code",
   "execution_count": null,
   "metadata": {},
   "outputs": [],
   "source": [
    "user = \"neo4j\"\n",
    "password = 'MINE!!'\n",
    "\n",
    "csv_file = os.path.join(project_path ,'data', 'public', 'READABLE_TAGS.csv')\n",
    "csvSchemas_file = os.path.join(project_path , 'data',  'public', 'mine_header.yaml')\n",
    "\n",
    "\n",
    "bincsv_file = os.path.join(project_path ,'data', 'public', 'BINARY_TAGS.csv')\n",
    "binNcsv_file = os.path.join(project_path ,'data', 'public', 'BINARY_RELATIONS.csv')\n"
   ]
  },
  {
   "cell_type": "markdown",
   "metadata": {},
   "source": [
    "### HVAC"
   ]
  },
  {
   "cell_type": "code",
   "execution_count": null,
   "metadata": {},
   "outputs": [],
   "source": [
    "user = \"neo4j\"\n",
    "password = 'HVAC!!'\n",
    "\n",
    "csv_file = os.path.join(project_path ,'data', 'hvac_data', 'hvac_raw.csv')\n",
    "csvSchemas_file = os.path.join(project_path , 'data',  'hvac_data', 'hvac_header.yaml')"
   ]
  },
  {
   "cell_type": "markdown",
   "metadata": {},
   "source": [
    "### Others"
   ]
  },
  {
   "cell_type": "code",
   "execution_count": null,
   "metadata": {},
   "outputs": [],
   "source": [
    "user = getpass.getuser()\n",
    "password = getpass.getpass(\"Password:\")\n",
    "\n",
    "csv_file = os.path.join(project_path ,'data', 'hvac_data', 'hvac_raw.csv')\n",
    "csvSchemas_file = os.path.join(project_path , 'data',  'hvac_data', 'hvac_header.yaml')"
   ]
  },
  {
   "cell_type": "markdown",
   "metadata": {},
   "source": [
    "## Connect to DB"
   ]
  },
  {
   "cell_type": "code",
   "execution_count": 3,
   "metadata": {},
   "outputs": [
    {
     "name": "stdout",
     "output_type": "stream",
     "text": [
      "yaml file open\n"
     ]
    }
   ],
   "source": [
    "databaseSchema_file = os.path.join(project_path ,'database_storage','database', 'DatabaseSchema.yaml')\n",
    "databaseSchema_dict = openYAMLFile(databaseSchema_file)\n",
    "database = DatabaseNeo4J(\"bolt://127.0.0.1:7687\", user, password, databaseSchema_dict)"
   ]
  },
  {
   "cell_type": "markdown",
   "metadata": {},
   "source": [
    "## Load CSV"
   ]
  },
  {
   "cell_type": "code",
   "execution_count": 4,
   "metadata": {},
   "outputs": [
    {
     "name": "stdout",
     "output_type": "stream",
     "text": [
      "yaml file open\n"
     ]
    }
   ],
   "source": [
    "dataframe = pd.read_csv(csv_file, index_col=0, header=0)\n",
    "dataframe.fillna(\"\", inplace=True)\n",
    "\n",
    "\n",
    "dataframe_bincsv = pd.read_csv(bincsv_file, index_col=0, header=[0,1])\n",
    "dataframe_binNcsv = pd.read_csv(binNcsv_file, index_col=0, header=[0,1])\n",
    "\n",
    "csvSchemas_dict = openYAMLFile(csvSchemas_file)"
   ]
  },
  {
   "cell_type": "markdown",
   "metadata": {},
   "source": [
    "### Clean the database"
   ]
  },
  {
   "cell_type": "code",
   "execution_count": 27,
   "metadata": {},
   "outputs": [
    {
     "name": "stdout",
     "output_type": "stream",
     "text": [
      "CREATE CONSTRAINT ON (issue:ISSUE) ASSERT issue.id IS UNIQUE\n"
     ]
    },
    {
     "data": {
      "text/plain": [
       "1"
      ]
     },
     "execution_count": 27,
     "metadata": {},
     "output_type": "execute_result"
    }
   ],
   "source": [
    "database.deleteData()\n",
    "\n",
    "database.dropConstraints()\n",
    "database.dropIndexes()\n",
    "\n",
    "database.createIndexes()\n",
    "database.createConstraints()"
   ]
  },
  {
   "cell_type": "markdown",
   "metadata": {},
   "source": [
    "## Store the data"
   ]
  },
  {
   "cell_type": "code",
   "execution_count": 28,
   "metadata": {},
   "outputs": [
    {
     "name": "stderr",
     "output_type": "stream",
     "text": [
      "100%|██████████| 3438/3438 [00:01<00:00, 2695.73it/s]\n",
      "  7%|▋         | 60/813 [00:00<00:01, 585.95it/s]"
     ]
    },
    {
     "name": "stdout",
     "output_type": "stream",
     "text": [
      "-- Queries from the HISTORICAL dataset created !!\n"
     ]
    },
    {
     "name": "stderr",
     "output_type": "stream",
     "text": [
      "100%|██████████| 813/813 [00:06<00:00, 128.63it/s]\n",
      " 10%|▉         | 100/1024 [00:00<00:00, 992.93it/s]"
     ]
    },
    {
     "name": "stdout",
     "output_type": "stream",
     "text": [
      "-- Queries from the 1GRAM TAGGED dataset created !!\n",
      "                P I                                         \\\n",
      "     hydraulic leak conveyor jam coolant leak chain broken   \n",
      "0                 0            0            0            0   \n",
      "1                 0            0            0            0   \n",
      "2                 0            0            0            0   \n",
      "3                 0            0            0            0   \n",
      "4                 1            0            0            0   \n",
      "5                 0            0            0            0   \n",
      "6                 0            0            0            0   \n",
      "7                 0            0            0            0   \n",
      "8                 0            0            0            0   \n",
      "9                 1            0            0            0   \n",
      "10                0            0            0            0   \n",
      "11                0            0            0            0   \n",
      "12                0            0            0            0   \n",
      "13                0            0            0            0   \n",
      "14                0            0            0            0   \n",
      "15                0            1            0            0   \n",
      "16                0            0            0            0   \n",
      "17                0            0            0            0   \n",
      "18                0            0            0            0   \n",
      "19                0            0            0            0   \n",
      "20                0            0            0            0   \n",
      "21                0            0            0            0   \n",
      "22                0            0            0            0   \n",
      "23                0            0            0            0   \n",
      "24                0            0            0            0   \n",
      "25                0            0            0            0   \n",
      "26                0            0            0            0   \n",
      "27                0            0            0            0   \n",
      "28                0            0            0            0   \n",
      "29                0            0            0            0   \n",
      "...             ...          ...          ...          ...   \n",
      "3408              0            0            0            0   \n",
      "3409              0            0            0            0   \n",
      "3410              0            0            0            0   \n",
      "3411              0            0            0            0   \n",
      "3412              0            0            0            0   \n",
      "3413              0            0            0            0   \n",
      "3414              0            0            0            0   \n",
      "3415              0            0            0            0   \n",
      "3416              0            0            0            0   \n",
      "3417              0            0            0            0   \n",
      "3418              0            0            0            0   \n",
      "3419              0            0            0            0   \n",
      "3420              0            0            0            0   \n",
      "3421              0            0            0            0   \n",
      "3422              1            0            0            0   \n",
      "3423              0            0            0            0   \n",
      "3424              0            0            0            0   \n",
      "3425              0            0            0            0   \n",
      "3426              0            0            0            0   \n",
      "3427              0            0            0            0   \n",
      "3428              0            0            0            0   \n",
      "3429              0            0            0            0   \n",
      "3430              0            0            0            0   \n",
      "3431              0            0            0            0   \n",
      "3432              0            0            0            0   \n",
      "3433              0            0            0            0   \n",
      "3434              0            0            0            0   \n",
      "3435              0            0            0            0   \n",
      "3436              0            0            0            0   \n",
      "3437              1            0            0            0   \n",
      "\n",
      "                                                                      \\\n",
      "     conveyor inoperable bearing worn leak hydraulic unit inoperable   \n",
      "0                      0            0              0               0   \n",
      "1                      0            0              0               0   \n",
      "2                      0            0              0               0   \n",
      "3                      0            0              0               0   \n",
      "4                      0            0              0               0   \n",
      "5                      0            0              0               0   \n",
      "6                      0            0              0               0   \n",
      "7                      0            0              0               0   \n",
      "8                      0            0              0               0   \n",
      "9                      0            0              0               0   \n",
      "10                     0            0              0               0   \n",
      "11                     0            0              0               0   \n",
      "12                     0            0              0               0   \n",
      "13                     0            0              1               0   \n",
      "14                     0            0              0               0   \n",
      "15                     0            0              0               0   \n",
      "16                     0            0              0               0   \n",
      "17                     0            0              0               0   \n",
      "18                     0            0              0               0   \n",
      "19                     0            0              0               0   \n",
      "20                     1            0              0               0   \n",
      "21                     0            0              0               0   \n",
      "22                     0            0              0               0   \n",
      "23                     0            0              0               0   \n",
      "24                     0            0              0               0   \n",
      "25                     1            0              0               0   \n",
      "26                     0            0              0               0   \n",
      "27                     0            0              0               0   \n",
      "28                     0            0              0               0   \n",
      "29                     0            0              0               0   \n",
      "...                  ...          ...            ...             ...   \n",
      "3408                   0            0              0               0   \n",
      "3409                   0            0              0               0   \n",
      "3410                   0            0              0               0   \n",
      "3411                   0            0              0               0   \n",
      "3412                   0            0              0               0   \n",
      "3413                   0            0              0               0   \n",
      "3414                   0            0              0               0   \n",
      "3415                   0            0              0               0   \n",
      "3416                   0            0              0               0   \n",
      "3417                   0            0              0               0   \n",
      "3418                   0            0              0               0   \n",
      "3419                   0            0              0               0   \n",
      "3420                   0            0              0               0   \n",
      "3421                   0            0              0               0   \n",
      "3422                   0            0              0               0   \n",
      "3423                   0            0              0               0   \n",
      "3424                   0            0              0               0   \n",
      "3425                   0            0              0               0   \n",
      "3426                   0            0              0               0   \n",
      "3427                   0            0              0               0   \n",
      "3428                   0            0              0               0   \n",
      "3429                   0            0              0               0   \n",
      "3430                   0            0              0               0   \n",
      "3431                   0            0              0               0   \n",
      "3432                   0            0              0               0   \n",
      "3433                   0            0              0               0   \n",
      "3434                   0            0              0               0   \n",
      "3435                   0            0              0               0   \n",
      "3436                   0            0              0               0   \n",
      "3437                   0            0              0               0   \n",
      "\n",
      "                                       ...             S I           \\\n",
      "     broken screw lubrication fault    ...     prox remove ok index   \n",
      "0               0                 0    ...               0        0   \n",
      "1               0                 0    ...               0        0   \n",
      "2               0                 0    ...               0        0   \n",
      "3               0                 0    ...               0        0   \n",
      "4               0                 0    ...               0        0   \n",
      "5               0                 0    ...               0        0   \n",
      "6               0                 0    ...               0        0   \n",
      "7               0                 0    ...               0        0   \n",
      "8               0                 0    ...               0        0   \n",
      "9               0                 0    ...               0        0   \n",
      "10              0                 0    ...               0        0   \n",
      "11              0                 0    ...               0        0   \n",
      "12              0                 0    ...               0        0   \n",
      "13              0                 0    ...               0        0   \n",
      "14              0                 0    ...               0        0   \n",
      "15              0                 0    ...               0        0   \n",
      "16              0                 0    ...               0        0   \n",
      "17              0                 0    ...               0        0   \n",
      "18              0                 0    ...               0        0   \n",
      "19              0                 0    ...               0        0   \n",
      "20              0                 0    ...               0        0   \n",
      "21              0                 0    ...               0        0   \n",
      "22              0                 0    ...               0        0   \n",
      "23              0                 0    ...               0        0   \n",
      "24              0                 0    ...               0        0   \n",
      "25              0                 0    ...               0        0   \n",
      "26              0                 0    ...               0        0   \n",
      "27              0                 0    ...               0        0   \n",
      "28              0                 0    ...               0        0   \n",
      "29              0                 0    ...               0        0   \n",
      "...           ...               ...    ...             ...      ...   \n",
      "3408            0                 0    ...               0        0   \n",
      "3409            0                 0    ...               0        0   \n",
      "3410            0                 0    ...               0        0   \n",
      "3411            0                 0    ...               0        0   \n",
      "3412            0                 0    ...               0        0   \n",
      "3413            0                 0    ...               0        0   \n",
      "3414            0                 0    ...               0        0   \n",
      "3415            0                 0    ...               0        0   \n",
      "3416            0                 0    ...               0        0   \n",
      "3417            0                 0    ...               0        0   \n",
      "3418            0                 0    ...               0        0   \n",
      "3419            0                 0    ...               0        0   \n",
      "3420            0                 0    ...               0        0   \n",
      "3421            0                 0    ...               0        0   \n",
      "3422            0                 0    ...               0        0   \n",
      "3423            0                 0    ...               0        0   \n",
      "3424            0                 0    ...               0        0   \n",
      "3425            0                 0    ...               0        0   \n",
      "3426            0                 0    ...               0        0   \n",
      "3427            0                 0    ...               0        0   \n",
      "3428            0                 0    ...               0        0   \n",
      "3429            0                 0    ...               0        0   \n",
      "3430            0                 0    ...               0        0   \n",
      "3431            0                 0    ...               0        0   \n",
      "3432            0                 0    ...               0        0   \n",
      "3433            0                 0    ...               0        0   \n",
      "3434            0                 0    ...               0        0   \n",
      "3435            0                 0    ...               0        0   \n",
      "3436            0                 0    ...               0        0   \n",
      "3437            0                 0    ...               0        0   \n",
      "\n",
      "                                                                       \\\n",
      "     pressure replaced remove table ok motor plate repair remove wire   \n",
      "0                    0            0        0            0           0   \n",
      "1                    0            0        0            0           0   \n",
      "2                    0            0        0            0           0   \n",
      "3                    0            0        0            0           0   \n",
      "4                    0            0        0            0           0   \n",
      "5                    0            0        0            0           0   \n",
      "6                    0            0        0            0           0   \n",
      "7                    0            0        0            0           0   \n",
      "8                    0            0        0            0           0   \n",
      "9                    0            0        0            0           0   \n",
      "10                   0            0        0            0           0   \n",
      "11                   0            0        0            0           0   \n",
      "12                   0            0        0            0           0   \n",
      "13                   0            0        0            0           0   \n",
      "14                   0            0        0            0           0   \n",
      "15                   0            0        0            0           0   \n",
      "16                   0            0        0            0           0   \n",
      "17                   0            0        0            0           0   \n",
      "18                   0            0        0            0           0   \n",
      "19                   0            0        0            0           0   \n",
      "20                   0            0        0            0           0   \n",
      "21                   0            0        0            0           0   \n",
      "22                   0            0        0            0           0   \n",
      "23                   0            0        0            0           0   \n",
      "24                   0            0        0            0           0   \n",
      "25                   0            0        0            0           0   \n",
      "26                   0            0        0            0           0   \n",
      "27                   0            0        0            0           0   \n",
      "28                   0            0        0            0           0   \n",
      "29                   0            0        0            0           0   \n",
      "...                ...          ...      ...          ...         ...   \n",
      "3408                 0            0        0            0           0   \n",
      "3409                 0            0        0            0           0   \n",
      "3410                 0            0        0            0           0   \n",
      "3411                 0            0        0            0           0   \n",
      "3412                 0            0        0            0           0   \n",
      "3413                 0            0        0            0           0   \n",
      "3414                 0            0        0            0           0   \n",
      "3415                 0            0        0            0           0   \n",
      "3416                 0            0        0            0           0   \n",
      "3417                 0            0        0            0           0   \n",
      "3418                 0            0        0            0           0   \n",
      "3419                 0            0        0            0           0   \n",
      "3420                 0            0        0            0           0   \n",
      "3421                 0            0        0            0           0   \n",
      "3422                 0            0        0            0           0   \n",
      "3423                 0            0        0            0           0   \n",
      "3424                 0            0        0            0           0   \n",
      "3425                 0            0        0            0           0   \n",
      "3426                 0            0        0            0           0   \n",
      "3427                 0            0        0            0           0   \n",
      "3428                 0            0        0            0           0   \n",
      "3429                 0            0        0            0           0   \n",
      "3430                 0            0        0            0           0   \n",
      "3431                 0            0        0            0           0   \n",
      "3432                 0            0        0            0           0   \n",
      "3433                 0            0        0            0           0   \n",
      "3434                 0            0        0            0           0   \n",
      "3435                 0            0        0            0           0   \n",
      "3436                 0            0        0            0           0   \n",
      "3437                 0            0        0            0           0   \n",
      "\n",
      "                                            \n",
      "     remove attachment ok stock ok station  \n",
      "0                    0        0          0  \n",
      "1                    0        0          0  \n",
      "2                    0        0          0  \n",
      "3                    0        0          0  \n",
      "4                    0        0          0  \n",
      "5                    0        0          0  \n",
      "6                    1        0          0  \n",
      "7                    0        0          0  \n",
      "8                    0        0          0  \n",
      "9                    0        0          0  \n",
      "10                   0        0          0  \n",
      "11                   0        0          0  \n",
      "12                   0        0          0  \n",
      "13                   0        0          0  \n",
      "14                   0        0          0  \n",
      "15                   0        0          0  \n",
      "16                   0        0          0  \n",
      "17                   0        0          0  \n",
      "18                   0        0          0  \n",
      "19                   0        0          0  \n",
      "20                   0        0          0  \n",
      "21                   0        0          0  \n",
      "22                   0        0          0  \n",
      "23                   0        0          0  \n",
      "24                   0        0          0  \n",
      "25                   0        0          0  \n",
      "26                   0        0          0  \n",
      "27                   0        0          0  \n",
      "28                   0        0          0  \n",
      "29                   0        0          0  \n",
      "...                ...      ...        ...  \n",
      "3408                 0        0          0  \n",
      "3409                 0        0          0  \n",
      "3410                 0        0          0  \n",
      "3411                 0        0          0  \n",
      "3412                 0        0          0  \n",
      "3413                 0        0          0  \n",
      "3414                 0        0          0  \n",
      "3415                 0        0          0  \n",
      "3416                 0        0          0  \n",
      "3417                 0        0          0  \n",
      "3418                 0        0          0  \n",
      "3419                 0        0          0  \n",
      "3420                 0        0          0  \n",
      "3421                 0        0          0  \n",
      "3422                 0        0          0  \n",
      "3423                 0        0          0  \n",
      "3424                 0        0          0  \n",
      "3425                 0        0          0  \n",
      "3426                 0        0          0  \n",
      "3427                 0        0          0  \n",
      "3428                 0        0          0  \n",
      "3429                 0        0          0  \n",
      "3430                 0        0          0  \n",
      "3431                 0        0          0  \n",
      "3432                 0        0          0  \n",
      "3433                 0        0          0  \n",
      "3434                 0        0          0  \n",
      "3435                 0        0          0  \n",
      "3436                 0        0          0  \n",
      "3437                 0        0          0  \n",
      "\n",
      "[3438 rows x 1024 columns]\n"
     ]
    },
    {
     "name": "stderr",
     "output_type": "stream",
     "text": [
      "100%|██████████| 1024/1024 [00:01<00:00, 1000.85it/s]\n",
      "  0%|          | 2/5275 [00:00<05:42, 15.38it/s]"
     ]
    },
    {
     "name": "stdout",
     "output_type": "stream",
     "text": [
      "-- Queries from the NGRAM TAGGED dataset created !!\n"
     ]
    },
    {
     "name": "stderr",
     "output_type": "stream",
     "text": [
      "100%|██████████| 5275/5275 [01:45<00:00, 49.92it/s]"
     ]
    },
    {
     "name": "stdout",
     "output_type": "stream",
     "text": [
      "-- Queries stored into the database\n"
     ]
    },
    {
     "name": "stderr",
     "output_type": "stream",
     "text": [
      "\n"
     ]
    }
   ],
   "source": [
    "#done = graphDatabase_from_TaggedCSV(database, dataframe, csvSchemas_dict)\n",
    "done = graphDatabase_from_binnaryCSV(database, dataframe, dataframe_bincsv, dataframe_binNcsv, csvSchemas_dict)"
   ]
  },
  {
   "cell_type": "markdown",
   "metadata": {},
   "source": [
    "# KPI"
   ]
  },
  {
   "cell_type": "markdown",
   "metadata": {},
   "source": [
    "## Create the object for the KPI"
   ]
  },
  {
   "cell_type": "code",
   "execution_count": null,
   "metadata": {},
   "outputs": [],
   "source": [
    "%load_ext autoreload\n",
    "%autoreload 2\n",
    "\n",
    "import sys\n",
    "import os\n",
    "import inspect\n",
    "import getpass\n",
    "\n",
    "import pandas as pd\n",
    "import matplotlib.pyplot as plt\n",
    "\n",
    "\n",
    "project_path = os.path.abspath( os.path.dirname(os.path.abspath(inspect.getfile(inspect.currentframe()))) + \"/../\" )\n",
    "sys.path.insert(0, project_path)\n",
    "print(project_path)\n",
    "\n",
    "from database_storage.helper import *\n",
    "\n",
    "from database_storage.database.database import *\n",
    "from database_storage.main import *\n",
    "\n",
    "from database_storage.objects.human import *\n",
    "from database_storage.objects.issue import *\n",
    "from database_storage.objects.kpi import *\n",
    "from database_storage.objects.machine import *\n",
    "from database_storage.objects.tag import *\n",
    "from database_storage.objects.maintenanceworkorder import *\n",
    "\n",
    "databaseSchema_file = os.path.join(project_path ,'database_storage','database', 'DatabaseSchema.yaml')\n",
    "databaseSchema_dict = openYAMLFile(databaseSchema_file)"
   ]
  },
  {
   "cell_type": "code",
   "execution_count": null,
   "metadata": {
    "scrolled": false
   },
   "outputs": [],
   "source": [
    "m = MachineKpi(operator=\"=\", name = \"h1\", databaseInfo=databaseSchema_dict)\n",
    "t = TechnicianKpi(operator=\".-\", name=\"steve\", result=\"name\", databaseInfo=databaseSchema_dict)\n",
    "i = TagItemKpi(operator=\"<>\", keyword=\"valve\", result=\"keyword\", databaseInfo=databaseSchema_dict)"
   ]
  },
  {
   "cell_type": "code",
   "execution_count": null,
   "metadata": {},
   "outputs": [],
   "source": [
    "kpi = m+t+i\n",
    "print(kpi.cypher_createQuery())"
   ]
  },
  {
   "cell_type": "code",
   "execution_count": null,
   "metadata": {},
   "outputs": [],
   "source": [
    "done, filterResult = database.runQuery(kpi.cypher_createQuery())\n",
    "\n",
    "dataframe = resultToObservationDataframe(filterResult)\n",
    "dataframe"
   ]
  },
  {
   "cell_type": "markdown",
   "metadata": {},
   "source": [
    "----------------------------"
   ]
  },
  {
   "cell_type": "code",
   "execution_count": 40,
   "metadata": {},
   "outputs": [],
   "source": [
    "h1 = dataframe_bincsv.columns"
   ]
  },
  {
   "cell_type": "code",
   "execution_count": 37,
   "metadata": {},
   "outputs": [],
   "source": [
    "h2 = dataframe_binNcsv.columns"
   ]
  }
 ],
 "metadata": {
  "kernelspec": {
   "display_name": "Python 3",
   "language": "python",
   "name": "python3"
  },
  "language_info": {
   "codemirror_mode": {
    "name": "ipython",
    "version": 3
   },
   "file_extension": ".py",
   "mimetype": "text/x-python",
   "name": "python",
   "nbconvert_exporter": "python",
   "pygments_lexer": "ipython3",
   "version": "3.6.5"
  }
 },
 "nbformat": 4,
 "nbformat_minor": 2
}

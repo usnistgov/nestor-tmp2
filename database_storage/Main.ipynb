{
 "cells": [
  {
   "cell_type": "code",
   "execution_count": 1,
   "metadata": {},
   "outputs": [
    {
     "name": "stdout",
     "output_type": "stream",
     "text": [
      "/Users/sam11/Git/ml-py\n"
     ]
    }
   ],
   "source": [
    "%load_ext autoreload\n",
    "%autoreload 2\n",
    "\n",
    "import sys\n",
    "import os\n",
    "import inspect\n",
    "import getpass\n",
    "\n",
    "import pandas as pd\n",
    "import matplotlib.pyplot as plt\n",
    "\n",
    "\n",
    "project_path = os.path.abspath( os.path.dirname(os.path.abspath(inspect.getfile(inspect.currentframe()))) + \"/../\" )\n",
    "sys.path.insert(0, project_path)\n",
    "print(project_path)\n",
    "\n",
    "from database_storage.helper import *\n",
    "\n",
    "from database_storage.database.database import *\n",
    "from database_storage.main import *\n",
    "\n",
    "from database_storage.objects.human import *\n",
    "from database_storage.objects.issue import *\n",
    "from database_storage.objects.kpi import *\n",
    "from database_storage.objects.machine import *\n",
    "from database_storage.objects.tag import *\n",
    "from database_storage.objects.maintenanceworkorder import *\n"
   ]
  },
  {
   "cell_type": "markdown",
   "metadata": {},
   "source": [
    "### Greystone"
   ]
  },
  {
   "cell_type": "code",
   "execution_count": null,
   "metadata": {},
   "outputs": [],
   "source": [
    "user = \"neo4j\"\n",
    "password = 'GREYSTONE!!'\n",
    "\n",
    "csv_file = os.path.join(project_path ,'data', 'gs_data', 'readable.csv')\n",
    "csvSchemas_file = os.path.join(project_path , 'data',  'gs_data', 'gs_header.yaml')\n",
    "\n",
    "\n",
    "bincsv_file = os.path.join(project_path ,'data', 'gs_data', 'bin_1g.csv')\n",
    "binNcsv_file = os.path.join(project_path ,'data', 'gs_data', 'bin_Ng.csv')\n"
   ]
  },
  {
   "cell_type": "markdown",
   "metadata": {},
   "source": [
    "### Mine"
   ]
  },
  {
   "cell_type": "code",
   "execution_count": null,
   "metadata": {},
   "outputs": [],
   "source": [
    "user = \"neo4j\"\n",
    "password = 'MINE!!'\n",
    "\n",
    "csv_file = os.path.join(project_path ,'data', 'mine_data', 'readable.csv')\n",
    "csvSchemas_file = os.path.join(project_path , 'data',  'mine_data', 'mine_header.yaml')\n",
    "\n",
    "\n",
    "bincsv_file = os.path.join(project_path ,'data', 'mine_data', 'bin_1g.csv')\n",
    "binNcsv_file = os.path.join(project_path ,'data', 'mine_data', 'bin_Ng.csv')\n"
   ]
  },
  {
   "cell_type": "markdown",
   "metadata": {},
   "source": [
    "### HVAC"
   ]
  },
  {
   "cell_type": "code",
   "execution_count": 2,
   "metadata": {},
   "outputs": [],
   "source": [
    "user = \"neo4j\"\n",
    "password = 'HVAC!!'\n",
    "\n",
    "csv_file = os.path.join(project_path ,'data', 'hvac_data', 'readable.csv')\n",
    "csvSchemas_file = os.path.join(project_path , 'data',  'hvac_data', 'hvac_header.yaml')\n",
    "\n",
    "\n",
    "bincsv_file = os.path.join(project_path ,'data', 'hvac_data', 'bin_1g.csv')\n",
    "binNcsv_file = os.path.join(project_path ,'data', 'hvac_data', 'bin_Ng.csv')\n"
   ]
  },
  {
   "cell_type": "markdown",
   "metadata": {},
   "source": [
    "### Others"
   ]
  },
  {
   "cell_type": "code",
   "execution_count": null,
   "metadata": {},
   "outputs": [],
   "source": [
    "user = getpass.getuser()\n",
    "password = getpass.getpass(\"Password:\")\n",
    "\n",
    "csv_file = os.path.join(project_path ,'data', 'hvac_data', 'hvac_raw.csv')\n",
    "csvSchemas_file = os.path.join(project_path , 'data',  'hvac_data', 'hvac_header.yaml')"
   ]
  },
  {
   "cell_type": "markdown",
   "metadata": {},
   "source": [
    "## Connect to DB"
   ]
  },
  {
   "cell_type": "code",
   "execution_count": 4,
   "metadata": {},
   "outputs": [
    {
     "name": "stdout",
     "output_type": "stream",
     "text": [
      "yaml file open\n"
     ]
    }
   ],
   "source": [
    "databaseSchema_file = os.path.join(project_path ,'database_storage','database', 'DatabaseSchema.yaml')\n",
    "databaseSchema_dict = openYAMLFile(databaseSchema_file)\n",
    "database = DatabaseNeo4J(\"bolt://127.0.0.1:7687\", user, password, databaseSchema_dict)"
   ]
  },
  {
   "cell_type": "markdown",
   "metadata": {},
   "source": [
    "## Load CSV"
   ]
  },
  {
   "cell_type": "code",
   "execution_count": 3,
   "metadata": {},
   "outputs": [
    {
     "name": "stderr",
     "output_type": "stream",
     "text": [
      "/Users/sam11/anaconda3/lib/python3.6/site-packages/IPython/core/interactiveshell.py:2785: DtypeWarning: Columns (31) have mixed types. Specify dtype option on import or set low_memory=False.\n",
      "  interactivity=interactivity, compiler=compiler, result=result)\n"
     ]
    },
    {
     "name": "stdout",
     "output_type": "stream",
     "text": [
      "yaml file open\n"
     ]
    }
   ],
   "source": [
    "dataframe = pd.read_csv(csv_file, index_col=0, header=0)\n",
    "dataframe.fillna(\"\", inplace=True)\n",
    "\n",
    "\n",
    "dataframe_bincsv = pd.read_csv(bincsv_file, index_col=0, header=[0,1])\n",
    "dataframe_binNcsv = pd.read_csv(binNcsv_file, index_col=0, header=[0,1])\n",
    "\n",
    "csvSchemas_dict = openYAMLFile(csvSchemas_file)"
   ]
  },
  {
   "cell_type": "markdown",
   "metadata": {},
   "source": [
    "### Clean the database"
   ]
  },
  {
   "cell_type": "code",
   "execution_count": 5,
   "metadata": {},
   "outputs": [
    {
     "data": {
      "text/plain": [
       "1"
      ]
     },
     "execution_count": 5,
     "metadata": {},
     "output_type": "execute_result"
    }
   ],
   "source": [
    "database.deleteData()\n",
    "\n",
    "database.dropConstraints()\n",
    "database.dropIndexes()\n",
    "\n",
    "database.createIndexes()\n",
    "database.createConstraints()"
   ]
  },
  {
   "cell_type": "markdown",
   "metadata": {},
   "source": [
    "## Store the data"
   ]
  },
  {
   "cell_type": "code",
   "execution_count": 6,
   "metadata": {
    "scrolled": false
   },
   "outputs": [
    {
     "name": "stderr",
     "output_type": "stream",
     "text": [
      "100%|██████████| 16986/16986 [00:07<00:00, 2315.34it/s]\n",
      "  0%|          | 0/525 [00:00<?, ?it/s]"
     ]
    },
    {
     "name": "stdout",
     "output_type": "stream",
     "text": [
      "-- Queries from the HISTORICAL dataset created !!\n"
     ]
    },
    {
     "name": "stderr",
     "output_type": "stream",
     "text": [
      "100%|██████████| 525/525 [00:13<00:00, 40.02it/s]\n",
      "  1%|          | 5/535 [00:00<00:12, 41.87it/s]"
     ]
    },
    {
     "name": "stdout",
     "output_type": "stream",
     "text": [
      "-- Queries from the 1GRAM TAGGED dataset created !!\n"
     ]
    },
    {
     "name": "stderr",
     "output_type": "stream",
     "text": [
      "100%|██████████| 535/535 [00:10<00:00, 51.50it/s]\n",
      "  0%|          | 0/18054 [00:00<?, ?it/s]"
     ]
    },
    {
     "name": "stdout",
     "output_type": "stream",
     "text": [
      "-- Queries from the NGRAM TAGGED dataset created !!\n",
      "\n",
      "MATCH (solutionItem:TAG:N_GRAM:PROBLEM_ITEM)\n",
      "WITH solutionItem, split(solutionItem.keyword, \" \") AS halfTags\n",
      "UNWIND halfTags AS halfTag\n",
      "MATCH (unkknown:TAG:ONE_GRAM:UNKNOWN{keyword: halfTag})\n",
      "MERGE (solutionItem)-[:COMPOSED_OF]->(unknown)\n",
      "-- Queries to linked 1GRAM TAG and NGRAM TAG created!!\n",
      "-- Queries to update ITEM TAG to ISSUE relationship created!!\n"
     ]
    },
    {
     "name": "stderr",
     "output_type": "stream",
     "text": [
      "100%|██████████| 18054/18054 [04:33<00:00, 66.00it/s]"
     ]
    },
    {
     "name": "stdout",
     "output_type": "stream",
     "text": [
      "-- Queries stored into the database\n"
     ]
    },
    {
     "name": "stderr",
     "output_type": "stream",
     "text": [
      "\n"
     ]
    }
   ],
   "source": [
    "#done = graphDatabase_from_TaggedCSV(database, dataframe, csvSchemas_dict)\n",
    "done = graphDatabase_from_binnaryCSV(database, dataframe, dataframe_bincsv, dataframe_binNcsv, csvSchemas_dict)"
   ]
  },
  {
   "cell_type": "markdown",
   "metadata": {},
   "source": [
    "# KPI"
   ]
  },
  {
   "cell_type": "markdown",
   "metadata": {},
   "source": [
    "## Create the object for the KPI"
   ]
  },
  {
   "cell_type": "code",
   "execution_count": null,
   "metadata": {},
   "outputs": [],
   "source": [
    "%load_ext autoreload\n",
    "%autoreload 2\n",
    "\n",
    "import sys\n",
    "import os\n",
    "import inspect\n",
    "import getpass\n",
    "\n",
    "import pandas as pd\n",
    "import matplotlib.pyplot as plt\n",
    "\n",
    "\n",
    "project_path = os.path.abspath( os.path.dirname(os.path.abspath(inspect.getfile(inspect.currentframe()))) + \"/../\" )\n",
    "sys.path.insert(0, project_path)\n",
    "print(project_path)\n",
    "\n",
    "from database_storage.helper import *\n",
    "\n",
    "from database_storage.database.database import *\n",
    "from database_storage.main import *\n",
    "\n",
    "from database_storage.objects.human import *\n",
    "from database_storage.objects.issue import *\n",
    "from database_storage.objects.kpi import *\n",
    "from database_storage.objects.machine import *\n",
    "from database_storage.objects.tag import *\n",
    "from database_storage.objects.maintenanceworkorder import *\n",
    "\n",
    "databaseSchema_file = os.path.join(project_path ,'database_storage','database', 'DatabaseSchema.yaml')\n",
    "databaseSchema_dict = openYAMLFile(databaseSchema_file)"
   ]
  },
  {
   "cell_type": "code",
   "execution_count": null,
   "metadata": {
    "scrolled": false
   },
   "outputs": [],
   "source": [
    "m = MachineKpi(operator=\"=\", name = \"h1\", databaseInfo=databaseSchema_dict)\n",
    "t = TechnicianKpi(operator=\".-\", name=\"steve\", result=\"name\", databaseInfo=databaseSchema_dict)\n",
    "i = TagItemKpi(operator=\"<>\", keyword=\"valve\", result=\"keyword\", databaseInfo=databaseSchema_dict)"
   ]
  },
  {
   "cell_type": "code",
   "execution_count": null,
   "metadata": {},
   "outputs": [],
   "source": [
    "kpi = m+t+i\n",
    "print(kpi.cypher_createQuery())"
   ]
  },
  {
   "cell_type": "code",
   "execution_count": null,
   "metadata": {},
   "outputs": [],
   "source": [
    "done, filterResult = database.runQuery(kpi.cypher_createQuery())\n",
    "\n",
    "dataframe = resultToObservationDataframe(filterResult)\n",
    "dataframe"
   ]
  },
  {
   "cell_type": "markdown",
   "metadata": {},
   "source": [
    "----------------------------"
   ]
  },
  {
   "cell_type": "code",
   "execution_count": null,
   "metadata": {},
   "outputs": [],
   "source": [
    "h1 = dataframe_bincsv.columns"
   ]
  },
  {
   "cell_type": "code",
   "execution_count": null,
   "metadata": {},
   "outputs": [],
   "source": [
    "h2 = dataframe_binNcsv.columns"
   ]
  }
 ],
 "metadata": {
  "kernelspec": {
   "display_name": "Python 3",
   "language": "python",
   "name": "python3"
  },
  "language_info": {
   "codemirror_mode": {
    "name": "ipython",
    "version": 3
   },
   "file_extension": ".py",
   "mimetype": "text/x-python",
   "name": "python",
   "nbconvert_exporter": "python",
   "pygments_lexer": "ipython3",
   "version": "3.6.5"
  }
 },
 "nbformat": 4,
 "nbformat_minor": 2
}

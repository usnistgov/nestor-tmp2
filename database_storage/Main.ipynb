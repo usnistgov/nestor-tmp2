{
 "cells": [
  {
   "cell_type": "code",
   "execution_count": 1,
   "metadata": {},
   "outputs": [
    {
     "name": "stdout",
     "output_type": "stream",
     "text": [
      "/Users/sam11/Git/ml-py\n"
     ]
    }
   ],
   "source": [
    "%load_ext autoreload\n",
    "%autoreload 2\n",
    "\n",
    "import sys\n",
    "import os\n",
    "import inspect\n",
    "import getpass\n",
    "\n",
    "import pandas as pd\n",
    "import matplotlib.pyplot as plt\n",
    "\n",
    "\n",
    "\n",
    "project_path = os.path.abspath( os.path.dirname(os.path.abspath(inspect.getfile(inspect.currentframe()))) + \"/../\" )\n",
    "sys.path.insert(0, project_path)\n",
    "print(project_path)\n",
    "\n",
    "from database_storage.helper import *\n",
    "\n",
    "from database_storage.database.database import *\n",
    "from database_storage.main import *\n",
    "\n",
    "from database_storage.objects.human import *\n",
    "from database_storage.objects.issue import *\n",
    "from database_storage.objects.kpi import *\n",
    "from database_storage.objects.machine import *\n",
    "from database_storage.objects.tag import *\n",
    "from database_storage.objects.maintenanceworkorder import *\n"
   ]
  },
  {
   "cell_type": "markdown",
   "metadata": {},
   "source": [
    "## Connect to Database"
   ]
  },
  {
   "cell_type": "code",
   "execution_count": 2,
   "metadata": {},
   "outputs": [
    {
     "name": "stdout",
     "output_type": "stream",
     "text": [
      "yaml file open\n"
     ]
    }
   ],
   "source": [
    "databaseSchema_file = os.path.join(project_path ,'database_storage','database', 'DatabaseSchema.yaml')\n",
    "databaseSchema_dict = openYAMLFile(databaseSchema_file)"
   ]
  },
  {
   "cell_type": "code",
   "execution_count": 3,
   "metadata": {},
   "outputs": [
    {
     "name": "stdout",
     "output_type": "stream",
     "text": [
      "Password:········\n"
     ]
    }
   ],
   "source": [
    "#user = getpass.getuser()\n",
    "password = getpass.getpass(\"Password:\")\n",
    "\n",
    "user = \"neo4j\"\n",
    "#password = 'GREYSTONE!!'\n",
    "\n",
    "database = DatabaseNeo4J(\"bolt://127.0.0.1:7687\", user, password, databaseSchema_dict)"
   ]
  },
  {
   "cell_type": "markdown",
   "metadata": {},
   "source": [
    "### get CSV information"
   ]
  },
  {
   "cell_type": "code",
   "execution_count": 4,
   "metadata": {},
   "outputs": [
    {
     "name": "stdout",
     "output_type": "stream",
     "text": [
      "yaml file open\n"
     ]
    }
   ],
   "source": [
    "csv_file = os.path.join(project_path ,'data', 'public', 'READABLE_TAGS.csv')\n",
    "#csv_file = os.path.join(project_path ,'data', 'test.csv')\n",
    "\n",
    "dataframe = pd.read_csv(csv_file)\n",
    "dataframe.fillna(\"\", inplace=True)\n",
    "\n",
    "#csvSchemas_file = os.path.join(project_path , 'data', 'testCSVheader.yaml')\n",
    "csvSchemas_file = os.path.join(project_path , 'data',  'public', 'mine_header.yaml')\n",
    "\n",
    "csvSchemas_dict = openYAMLFile(csvSchemas_file)"
   ]
  },
  {
   "cell_type": "markdown",
   "metadata": {},
   "source": [
    "### Clean the database"
   ]
  },
  {
   "cell_type": "code",
   "execution_count": 5,
   "metadata": {},
   "outputs": [
    {
     "data": {
      "text/plain": [
       "1"
      ]
     },
     "execution_count": 5,
     "metadata": {},
     "output_type": "execute_result"
    }
   ],
   "source": [
    "database.deleteData()\n",
    "database.dropIndexes()\n",
    "database.createIndexes()"
   ]
  },
  {
   "cell_type": "markdown",
   "metadata": {},
   "source": [
    "## Store the data"
   ]
  },
  {
   "cell_type": "code",
   "execution_count": 6,
   "metadata": {},
   "outputs": [
    {
     "name": "stderr",
     "output_type": "stream",
     "text": [
      "100%|██████████| 5485/5485 [07:49<00:00, 11.69it/s]\n"
     ]
    }
   ],
   "source": [
    "done = graphDatabase_from_TaggedCSV(database, dataframe, csvSchemas_dict)"
   ]
  },
  {
   "cell_type": "markdown",
   "metadata": {},
   "source": [
    "# KPI"
   ]
  },
  {
   "cell_type": "markdown",
   "metadata": {},
   "source": [
    "## Create the object for the KPI"
   ]
  },
  {
   "cell_type": "code",
   "execution_count": 27,
   "metadata": {},
   "outputs": [
    {
     "name": "stdout",
     "output_type": "stream",
     "text": [
      "object  =  <class 'database_storage.objects.tag.TagItem'>\n",
      "\tkeyword  =  None\n",
      "\tsynonyms  =  None\n",
      "\tsimilarTo  =  None\n",
      "\tchildren  =  None\n"
     ]
    }
   ],
   "source": [
    "kpiDict = {\n",
    "    'issue':{\n",
    "            'description_problem': [\"_\"],\n",
    "            'description_solution': None,\n",
    "            'description_cause': None,\n",
    "            'description_effect': None,\n",
    "            'machine_down': None,\n",
    "            'necessary_part': None,\n",
    "            'part_in_process': None,\n",
    "            'cost': [214, \"378\", \"_\"],\n",
    "\n",
    "            'date_machine_down': None,\n",
    "            'date_workorder_start': None,\n",
    "            'date_maintenance_technician_arrive': None,\n",
    "            'date_problem_found': None,\n",
    "            'date_part_ordered': None,\n",
    "            'date_part_received': None,\n",
    "            'date_problem_solve': None,\n",
    "            'date_machine_up': None,\n",
    "            'date_workorder_completion': None\n",
    "        },\n",
    "    'human':{\n",
    "        'name': None\n",
    "    },\n",
    "    'operator': {\n",
    "        'name': None\n",
    "    },\n",
    "    'technician': {\n",
    "        'name': None,\n",
    "        'skills': None,\n",
    "        'crafts': None\n",
    "    },\n",
    "    'machine': {\n",
    "        'name': None,\n",
    "        'manufacturer': None,\n",
    "        'location': None\n",
    "    },\n",
    "    'machine_type': {\n",
    "        'type': None\n",
    "    },\n",
    "    'tag': {\n",
    "        'keyword': None,\n",
    "        'synonyms':  None\n",
    "    },\n",
    "    'tag_oneGram': {\n",
    "        'keyword':  None,\n",
    "        'synonyms':  None\n",
    "    },\n",
    "    'tag_nGram': {\n",
    "        'keyword':  None,\n",
    "        'synonyms':  None\n",
    "    },\n",
    "    'tag_item': {\n",
    "        'keyword':  None,\n",
    "        'synonyms':  None\n",
    "    },\n",
    "    'tag_itemAsProblem': {\n",
    "        'keyword':  None,\n",
    "        'synonyms':  None\n",
    "    },\n",
    "    'tag_itemAsSolution': {\n",
    "        'keyword':  None,\n",
    "        'synonyms':  None\n",
    "    },\n",
    "    'tag_problem': {\n",
    "        'keyword':  None,\n",
    "        'synonyms':  None\n",
    "    },\n",
    "    'tag_solution': {\n",
    "        'keyword':  None,\n",
    "        'synonyms':  None\n",
    "    },\n",
    "    'tag_unknown': {\n",
    "        'keyword':  None,\n",
    "        'synonyms':  None\n",
    "    },\n",
    "    'tag_poblemItem': {\n",
    "        'keyword':  None,\n",
    "        'synonyms':  None\n",
    "    },\n",
    "    'tag_solutionItem': {\n",
    "        'keyword':  None,\n",
    "        'synonyms':  None\n",
    "    }\n",
    "    }\n",
    "kpi = Kpi(database, kpiDict)\n",
    "kpi.createObjectsFromDict()\n",
    "print(kpi.tag_item)"
   ]
  },
  {
   "cell_type": "markdown",
   "metadata": {},
   "source": [
    "## get the hierarchy of your item"
   ]
  },
  {
   "cell_type": "code",
   "execution_count": null,
   "metadata": {},
   "outputs": [],
   "source": [
    "g = kpi.tree_itemsHierarchie(child= True, parent=True)"
   ]
  },
  {
   "cell_type": "code",
   "execution_count": null,
   "metadata": {},
   "outputs": [],
   "source": [
    "plt.subplot(121)\n",
    "nx.draw(g[0][0], with_labels=True, font_weight='bold')\n",
    "plt.subplot(122)\n",
    "nx.draw(g[0][1], with_labels=True, font_weight='bold')"
   ]
  },
  {
   "cell_type": "markdown",
   "metadata": {},
   "source": [
    "## Create the query to filter the dataframe"
   ]
  },
  {
   "cell_type": "code",
   "execution_count": 28,
   "metadata": {},
   "outputs": [
    {
     "name": "stderr",
     "output_type": "stream",
     "text": [
      "8it [00:00, 22339.83it/s]"
     ]
    },
    {
     "name": "stdout",
     "output_type": "stream",
     "text": [
      "issue\n"
     ]
    },
    {
     "name": "stderr",
     "output_type": "stream",
     "text": [
      "\n"
     ]
    },
    {
     "data": {
      "text/html": [
       "<div>\n",
       "<style scoped>\n",
       "    .dataframe tbody tr th:only-of-type {\n",
       "        vertical-align: middle;\n",
       "    }\n",
       "\n",
       "    .dataframe tbody tr th {\n",
       "        vertical-align: top;\n",
       "    }\n",
       "\n",
       "    .dataframe thead th {\n",
       "        text-align: right;\n",
       "    }\n",
       "</style>\n",
       "<table border=\"1\" class=\"dataframe\">\n",
       "  <thead>\n",
       "    <tr style=\"text-align: right;\">\n",
       "      <th></th>\n",
       "      <th>issue.description_of_problem</th>\n",
       "      <th>issue.cost</th>\n",
       "    </tr>\n",
       "  </thead>\n",
       "  <tbody>\n",
       "    <tr>\n",
       "      <th>0</th>\n",
       "      <td>Replace broken adaptor</td>\n",
       "      <td>378</td>\n",
       "    </tr>\n",
       "    <tr>\n",
       "      <th>1</th>\n",
       "      <td>REPLACE WEAR PACKAGE LOWER WALL</td>\n",
       "      <td>214</td>\n",
       "    </tr>\n",
       "    <tr>\n",
       "      <th>2</th>\n",
       "      <td>air con. not getting cold.</td>\n",
       "      <td>214</td>\n",
       "    </tr>\n",
       "    <tr>\n",
       "      <th>3</th>\n",
       "      <td>REPLACE HP SEAL AT DISCHARGE</td>\n",
       "      <td>214</td>\n",
       "    </tr>\n",
       "    <tr>\n",
       "      <th>4</th>\n",
       "      <td>horn not working</td>\n",
       "      <td>214</td>\n",
       "    </tr>\n",
       "    <tr>\n",
       "      <th>5</th>\n",
       "      <td>FABRICATE NEW ACCESS STEP</td>\n",
       "      <td>214</td>\n",
       "    </tr>\n",
       "    <tr>\n",
       "      <th>6</th>\n",
       "      <td>A/C REPAIRS</td>\n",
       "      <td>214</td>\n",
       "    </tr>\n",
       "    <tr>\n",
       "      <th>7</th>\n",
       "      <td>air con. not getting cold.</td>\n",
       "      <td>214</td>\n",
       "    </tr>\n",
       "  </tbody>\n",
       "</table>\n",
       "</div>"
      ],
      "text/plain": [
       "      issue.description_of_problem  issue.cost\n",
       "0           Replace broken adaptor         378\n",
       "1  REPLACE WEAR PACKAGE LOWER WALL         214\n",
       "2       air con. not getting cold.         214\n",
       "3     REPLACE HP SEAL AT DISCHARGE         214\n",
       "4                 horn not working         214\n",
       "5        FABRICATE NEW ACCESS STEP         214\n",
       "6                      A/C REPAIRS         214\n",
       "7       air con. not getting cold.         214"
      ]
     },
     "execution_count": 28,
     "metadata": {},
     "output_type": "execute_result"
    }
   ],
   "source": [
    "filterQuery = kpi.cypher_filterDatabase()\n",
    "done, filterResult = database.runQuery(filterQuery)\n",
    "\n",
    "dataframe = resultToObservationDataframe(filterResult)\n",
    "dataframe"
   ]
  },
  {
   "cell_type": "code",
   "execution_count": 23,
   "metadata": {},
   "outputs": [
    {
     "data": {
      "text/plain": [
       "'MATCH (issue:ISSUE)\\nWHERE issue.cost = 214 OR issue.cost = 378\\nRETURN issue.description_of_problem'"
      ]
     },
     "execution_count": 23,
     "metadata": {},
     "output_type": "execute_result"
    }
   ],
   "source": [
    "filterQuery"
   ]
  },
  {
   "cell_type": "code",
   "execution_count": 22,
   "metadata": {},
   "outputs": [
    {
     "name": "stdout",
     "output_type": "stream",
     "text": [
      "object  =  <class 'database_storage.objects.issue.Issue'>\n",
      "\tproblem  =  ['_']\n",
      "\tsolution  =  None\n",
      "\tcause  =  None\n",
      "\teffects  =  None\n",
      "\tpart_in_process  =  None\n",
      "\tnecessary_part  =  None\n",
      "\tmachine_down  =  None\n",
      "\tcost  =  [214, 378]\n",
      "\tdate_machine_up  =  None\n",
      "\tdate_machine_down  =  None\n",
      "\tdate_workorder_start  =  None\n",
      "\tdate_workorder_completion  =  None\n",
      "\tdate_maintenance_technician_arrive  =  None\n",
      "\tdate_problem_found  =  None\n",
      "\tdate_problem_solve  =  None\n",
      "\tdate_part_ordered  =  None\n",
      "\tdate_part_received  =  None\n",
      "\ttime_to_repair  =  None\n",
      "\ttime_work_order_completion  =  None\n",
      "\ttime_to_dispatch  =  None\n",
      "\ttime_to_return_to_operation  =  None\n",
      "\ttime_to_issue_work_order  =  None\n",
      "\ttime_to_travel  =  None\n",
      "\ttime_to_solve_problem  =  None\n",
      "\ttime_to_diagnose  =  None\n",
      "\ttime_to_order  =  None\n",
      "\ttime_lead_for_part  =  None\n",
      "\ttime_to_fix  =  None\n",
      "\ttime_to_turn_on  =  None\n"
     ]
    }
   ],
   "source": [
    "print(kpi.issue)"
   ]
  },
  {
   "cell_type": "code",
   "execution_count": null,
   "metadata": {},
   "outputs": [],
   "source": []
  }
 ],
 "metadata": {
  "kernelspec": {
   "display_name": "Python 3",
   "language": "python",
   "name": "python3"
  },
  "language_info": {
   "codemirror_mode": {
    "name": "ipython",
    "version": 3
   },
   "file_extension": ".py",
   "mimetype": "text/x-python",
   "name": "python",
   "nbconvert_exporter": "python",
   "pygments_lexer": "ipython3",
   "version": "3.6.5"
  }
 },
 "nbformat": 4,
 "nbformat_minor": 2
}

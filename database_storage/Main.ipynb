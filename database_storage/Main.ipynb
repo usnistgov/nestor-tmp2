{
 "cells": [
  {
   "cell_type": "code",
   "execution_count": 2,
   "metadata": {},
   "outputs": [
    {
     "name": "stdout",
     "output_type": "stream",
     "text": [
      "/Users/sam11/Git/ml-py\n"
     ]
    }
   ],
   "source": [
    "%load_ext autoreload\n",
    "%autoreload 2\n",
    "\n",
    "import sys\n",
    "import os\n",
    "import inspect\n",
    "import getpass\n",
    "\n",
    "import pandas as pd\n",
    "import matplotlib.pyplot as plt\n",
    "\n",
    "\n",
    "project_path = os.path.abspath( os.path.dirname(os.path.abspath(inspect.getfile(inspect.currentframe()))) + \"/../\" )\n",
    "sys.path.insert(0, project_path)\n",
    "print(project_path)\n",
    "\n",
    "from database_storage.helper import *\n",
    "\n",
    "from database_storage.database.database import *\n",
    "from database_storage.main import *\n",
    "\n",
    "from database_storage.objects.human import *\n",
    "from database_storage.objects.issue import *\n",
    "from database_storage.objects.kpi import *\n",
    "from database_storage.objects.machine import *\n",
    "from database_storage.objects.tag import *\n",
    "from database_storage.objects.maintenanceworkorder import *\n"
   ]
  },
  {
   "cell_type": "markdown",
   "metadata": {},
   "source": [
    "### Greystone"
   ]
  },
  {
   "cell_type": "code",
   "execution_count": null,
   "metadata": {},
   "outputs": [],
   "source": [
    "user = \"neo4j\"\n",
    "password = 'GREYSTONE!!'\n",
    "\n",
    "csv_file = os.path.join(project_path ,'data', 'gs_data', 'gs_tool_tag_export.csv')\n",
    "csvSchemas_file = os.path.join(project_path , 'data',  'gs_data', 'gs_header.yaml')"
   ]
  },
  {
   "cell_type": "markdown",
   "metadata": {},
   "source": [
    "### Mine"
   ]
  },
  {
   "cell_type": "code",
   "execution_count": 3,
   "metadata": {},
   "outputs": [],
   "source": [
    "user = \"neo4j\"\n",
    "password = 'MINE!!'\n",
    "\n",
    "csv_file = os.path.join(project_path ,'data', 'public', 'READABLE_TAGS.csv')\n",
    "csvSchemas_file = os.path.join(project_path , 'data',  'public', 'mine_header.yaml')\n",
    "\n",
    "\n",
    "bincsv_file = os.path.join(project_path ,'data', 'public', 'BINARY_TAGS.csv')\n",
    "binNcsv_file = os.path.join(project_path ,'data', 'public', 'BINARY_RELATIONS.csv')\n"
   ]
  },
  {
   "cell_type": "markdown",
   "metadata": {},
   "source": [
    "### HVAC"
   ]
  },
  {
   "cell_type": "code",
   "execution_count": null,
   "metadata": {},
   "outputs": [],
   "source": [
    "user = \"neo4j\"\n",
    "password = 'HVAC!!'\n",
    "\n",
    "csv_file = os.path.join(project_path ,'data', 'hvac_data', 'hvac_raw.csv')\n",
    "csvSchemas_file = os.path.join(project_path , 'data',  'hvac_data', 'hvac_header.yaml')"
   ]
  },
  {
   "cell_type": "markdown",
   "metadata": {},
   "source": [
    "### Others"
   ]
  },
  {
   "cell_type": "code",
   "execution_count": null,
   "metadata": {},
   "outputs": [],
   "source": [
    "user = getpass.getuser()\n",
    "password = getpass.getpass(\"Password:\")\n",
    "\n",
    "csv_file = os.path.join(project_path ,'data', 'hvac_data', 'hvac_raw.csv')\n",
    "csvSchemas_file = os.path.join(project_path , 'data',  'hvac_data', 'hvac_header.yaml')"
   ]
  },
  {
   "cell_type": "markdown",
   "metadata": {},
   "source": [
    "## Connect to DB"
   ]
  },
  {
   "cell_type": "code",
   "execution_count": 4,
   "metadata": {},
   "outputs": [
    {
     "name": "stdout",
     "output_type": "stream",
     "text": [
      "yaml file open\n"
     ]
    }
   ],
   "source": [
    "databaseSchema_file = os.path.join(project_path ,'database_storage','database', 'DatabaseSchema.yaml')\n",
    "databaseSchema_dict = openYAMLFile(databaseSchema_file)\n",
    "database = DatabaseNeo4J(\"bolt://127.0.0.1:7687\", user, password, databaseSchema_dict)"
   ]
  },
  {
   "cell_type": "markdown",
   "metadata": {},
   "source": [
    "## Load CSV"
   ]
  },
  {
   "cell_type": "code",
   "execution_count": 5,
   "metadata": {},
   "outputs": [
    {
     "name": "stdout",
     "output_type": "stream",
     "text": [
      "yaml file open\n"
     ]
    }
   ],
   "source": [
    "dataframe = pd.read_csv(csv_file, index_col=0, header=0)\n",
    "dataframe.fillna(\"\", inplace=True)\n",
    "\n",
    "\n",
    "dataframe_bincsv = pd.read_csv(bincsv_file, index_col=0, header=[0,1])\n",
    "dataframe_binNcsv = pd.read_csv(binNcsv_file, index_col=0, header=[0,1])\n",
    "\n",
    "csvSchemas_dict = openYAMLFile(csvSchemas_file)"
   ]
  },
  {
   "cell_type": "markdown",
   "metadata": {},
   "source": [
    "### Clean the database"
   ]
  },
  {
   "cell_type": "code",
   "execution_count": 6,
   "metadata": {},
   "outputs": [
    {
     "data": {
      "text/plain": [
       "1"
      ]
     },
     "execution_count": 6,
     "metadata": {},
     "output_type": "execute_result"
    }
   ],
   "source": [
    "database.deleteData()\n",
    "database.dropIndexes()\n",
    "database.createIndexes()"
   ]
  },
  {
   "cell_type": "markdown",
   "metadata": {},
   "source": [
    "## Store the data"
   ]
  },
  {
   "cell_type": "code",
   "execution_count": null,
   "metadata": {},
   "outputs": [],
   "source": [
    "done = graphDatabase_from_TaggedCSV(database, dataframe, csvSchemas_dict)"
   ]
  },
  {
   "cell_type": "code",
   "execution_count": 11,
   "metadata": {},
   "outputs": [
    {
     "name": "stderr",
     "output_type": "stream",
     "text": [
      "  0%|          | 4/5485 [00:00<05:09, 17.72it/s]"
     ]
    },
    {
     "name": "stdout",
     "output_type": "stream",
     "text": [
      "['bucket']\n",
      "['bucket' 'cylinder' 'bucket_cylinder']\n",
      "['bucket']\n",
      "['bucket' 'tooth' 'bucket_tooth']\n"
     ]
    },
    {
     "name": "stderr",
     "output_type": "stream",
     "text": [
      "  0%|          | 8/5485 [00:00<05:07, 17.82it/s]"
     ]
    },
    {
     "name": "stdout",
     "output_type": "stream",
     "text": [
      "['bucket' 'tooth' 'bucket_tooth']\n",
      "['bucket' 'cylinder' 'bucket_cylinder']\n",
      "['bucket' 'tooth' 'bucket_tooth']\n",
      "['lip' 'tip' 'lip tip']\n"
     ]
    },
    {
     "name": "stderr",
     "output_type": "stream",
     "text": [
      "  0%|          | 12/5485 [00:00<05:09, 17.66it/s]"
     ]
    },
    {
     "name": "stdout",
     "output_type": "stream",
     "text": [
      "['lip']\n",
      "['lip']\n",
      "['bucket' 'tooth' 'bucket_tooth']\n",
      "['right_hand' 'lip' 'right_hand_lip']\n"
     ]
    },
    {
     "name": "stderr",
     "output_type": "stream",
     "text": [
      "  0%|          | 16/5485 [00:00<05:11, 17.56it/s]"
     ]
    },
    {
     "name": "stdout",
     "output_type": "stream",
     "text": [
      "['tip']\n",
      "['adaptor' 'tip' 'tip adaptor']\n",
      "['left_hand' 'lip' 'shroud' 'center' 'lip_shroud' 'left_hand_lip'\n",
      " 'center left_hand']\n",
      "['bucket' 'oil']\n"
     ]
    },
    {
     "name": "stderr",
     "output_type": "stream",
     "text": [
      "  0%|          | 20/5485 [00:01<05:10, 17.58it/s]"
     ]
    },
    {
     "name": "stdout",
     "output_type": "stream",
     "text": [
      "['adaptor']\n",
      "['lip' 'shroud' 'lip_shroud']\n",
      "['left' 'lip' 'shroud' 'lip_shroud' 'left lip']\n",
      "['tooth' 'adaptor' 'adaptor_tooth']\n"
     ]
    },
    {
     "name": "stderr",
     "output_type": "stream",
     "text": [
      "  0%|          | 24/5485 [00:01<05:09, 17.63it/s]"
     ]
    },
    {
     "name": "stdout",
     "output_type": "stream",
     "text": [
      "['tooth' 'new' 'new_tooth']\n",
      "['package']\n",
      "['tooth' 'adaptor' 'adaptor_tooth']\n",
      "['tooth' 'adaptor' 'adaptor_tooth']\n"
     ]
    },
    {
     "name": "stderr",
     "output_type": "stream",
     "text": [
      "  1%|          | 28/5485 [00:01<05:08, 17.67it/s]"
     ]
    },
    {
     "name": "stdout",
     "output_type": "stream",
     "text": [
      "['pin' 'lip' 'shroud' 'lip_shroud' 'shroud_pin']\n",
      "['adaptor']\n",
      "['pin' 'adaptor' 'adaptor_pin']\n",
      "['bucket' 'grease' 'line' 'cylinder' 'grease_line' 'bucket_cylinder'\n",
      " 'cylinder grease']\n",
      "['adaptor' 'tip' 'adaptor tip']\n"
     ]
    },
    {
     "name": "stderr",
     "output_type": "stream",
     "text": [
      "  1%|          | 34/5485 [00:02<05:36, 16.20it/s]"
     ]
    },
    {
     "name": "stdout",
     "output_type": "stream",
     "text": [
      "['bucket' 'grease' 'line' 'grease_line' 'line_bucket']\n",
      "['bucket' 'ring' 'ram' 'ring_bucket' 'bucket_ram']\n",
      "['bucket' 'tooth' 'adaptor' 'bucket_tooth' 'tooth_adaptor']\n",
      "['adaptor']\n",
      "['bucket' 'part']\n",
      "['adaptor' 'new']\n",
      "['bucket' 'pin' 'tip' 'bucket_tip' 'tip_pin']\n",
      "['tooth' 'adaptor' 'tooth_adaptor']\n"
     ]
    },
    {
     "name": "stderr",
     "output_type": "stream",
     "text": [
      "  1%|          | 42/5485 [00:02<05:01, 18.07it/s]"
     ]
    },
    {
     "name": "stdout",
     "output_type": "stream",
     "text": [
      "['bucket' 'grease' 'line' 'grease_line' 'line_bucket']\n",
      "['bucket']\n",
      "['adaptor']\n",
      "['left_hand' 'lip' 'shroud' 'outer' 'lip_shroud' 'left_hand outer'\n",
      " 'outer lip']\n",
      "['lip' 'spare' 'spare lip']\n",
      "['right_hand' 'adaptor' 'outer' 'outer adaptor' 'right_hand outer']\n",
      "['pin' 'adaptor' 'adaptor_pin']\n",
      "['bucket' 'right_hand' 'lip' 'right_hand_bucket' 'bucket_lip']\n"
     ]
    },
    {
     "name": "stderr",
     "output_type": "stream",
     "text": [
      "  1%|          | 49/5485 [00:02<04:51, 18.67it/s]"
     ]
    },
    {
     "name": "stdout",
     "output_type": "stream",
     "text": [
      "['bucket' 'left_hand' 'cylinder' 'left_hand_bucket']\n",
      "['bucket' 'lip' 'bucket_lip']\n",
      "['bucket' 'tooth' 'tooth_bucket']\n",
      "['lower' 'package' 'wall' 'package lower' 'lower wall']\n"
     ]
    },
    {
     "name": "stderr",
     "output_type": "stream",
     "text": [
      "\r",
      "  1%|          | 52/5485 [00:02<04:51, 18.63it/s]"
     ]
    },
    {
     "name": "stdout",
     "output_type": "stream",
     "text": [
      "['air']\n",
      "['tooth' 'pin' 'adaptor' 'adaptor_tooth' 'tooth_pin']\n",
      "['bucket' 'cylinder' 'seal' 'gland' 'bucket_cylinder' 'cylinder_gland'\n",
      " 'gland_seal']\n",
      "['bucket' 'tooth' 'bucket_tooth']\n"
     ]
    },
    {
     "name": "stderr",
     "output_type": "stream",
     "text": [
      "\r",
      "  1%|          | 55/5485 [00:02<04:52, 18.59it/s]"
     ]
    },
    {
     "name": "stdout",
     "output_type": "stream",
     "text": [
      "['bucket' 'right_hand' 'package' 'inside' 'wall' 'inside bucket'\n",
      " 'package right_hand' 'right_hand inside' 'bucket wall']\n",
      "['tip']\n",
      "['adaptor' 'tip' 'adaptor tip']\n",
      "['lip' 'shroud' 'lip_shroud']\n"
     ]
    },
    {
     "name": "stderr",
     "output_type": "stream",
     "text": [
      "  1%|          | 61/5485 [00:03<04:53, 18.46it/s]"
     ]
    },
    {
     "name": "stdout",
     "output_type": "stream",
     "text": [
      "['left_hand' 'lip' 'welding' 'ear' 'left_hand_lip' 'lip ear']\n",
      "['tip']\n",
      "['lip']\n",
      "['adaptor']\n"
     ]
    },
    {
     "name": "stderr",
     "output_type": "stream",
     "text": [
      "  1%|          | 65/5485 [00:03<04:54, 18.41it/s]"
     ]
    },
    {
     "name": "stdout",
     "output_type": "stream",
     "text": [
      "['bucket' 'hose' 'bucket_hose']\n",
      "['grease' 'line' 'lip' 'pivot' 'grease_line' 'pivot grease' 'lip pivot']\n",
      "['left_hand' 'lip' 'ear' 'left_hand_lip' 'lip ear']\n",
      "['bucket' 'lip' 'clamp' 'bucket_clamp' 'clamp lip']\n"
     ]
    },
    {
     "name": "stderr",
     "output_type": "stream",
     "text": [
      "  1%|▏         | 69/5485 [00:03<04:55, 18.30it/s]"
     ]
    },
    {
     "name": "stdout",
     "output_type": "stream",
     "text": [
      "['tip']\n",
      "['left_hand' 'adaptor' 'tip' 'outer' 'adaptor tip' 'outer adaptor'\n",
      " 'left_hand outer']\n",
      "['lower' 'plate']\n",
      "['tooth']\n"
     ]
    },
    {
     "name": "stderr",
     "output_type": "stream",
     "text": [
      "\r",
      "  1%|▏         | 71/5485 [00:03<04:56, 18.29it/s]"
     ]
    },
    {
     "name": "stdout",
     "output_type": "stream",
     "text": [
      "['lip' 'shroud' 'lip_shroud']\n",
      "['tooth' 'adaptor' 'tooth_adaptor']\n",
      "['oil' 'right_hand' 'boom' 'pipe' 'valve' 'clamp' 'adaptor'\n",
      " 'right_hand_boom' 'clamp_pipe' 'boom_valve' 'valve clamp' 'pipe adaptor']\n"
     ]
    },
    {
     "name": "stderr",
     "output_type": "stream",
     "text": [
      "\r",
      "  1%|▏         | 73/5485 [00:04<05:13, 17.28it/s]"
     ]
    },
    {
     "name": "stdout",
     "output_type": "stream",
     "text": [
      "['tooth' 'adaptor' 'tooth_adaptor']\n"
     ]
    },
    {
     "name": "stderr",
     "output_type": "stream",
     "text": [
      "  1%|▏         | 79/5485 [00:04<05:38, 15.96it/s]"
     ]
    },
    {
     "name": "stdout",
     "output_type": "stream",
     "text": [
      "['left_hand' 'lip' 'ear' 'left_hand_lip' 'lip ear']\n",
      "['right_hand' 'lip' 'shroud' 'lip_shroud' 'right_hand_lip']\n",
      "['tooth' 'new' 'new_tooth']\n",
      "['adaptor']\n",
      "['tooth']\n",
      "['pin' 'tip' 'tip_pin']\n",
      "['bucket' 'grease' 'hose' 'pin' 'bucket_pin' 'hose_bucket' 'grease_hose']\n",
      "['bucket' 'cylinder' 'seal' 'rod' 'gland' 'cylinder_gland' 'gland_seal'\n",
      " 'rod cylinder' 'bucket rod']\n"
     ]
    },
    {
     "name": "stderr",
     "output_type": "stream",
     "text": [
      "  2%|▏         | 87/5485 [00:05<05:20, 16.83it/s]"
     ]
    },
    {
     "name": "stdout",
     "output_type": "stream",
     "text": [
      "['bucket' 'grease' 'line' 'grease_line' 'line_bucket']\n",
      "['tooth' 'adaptor' 'adaptor_tooth']\n",
      "['tooth']\n",
      "['lip' 'shroud' 'lip_shroud']\n",
      "['bucket' 'clamp' 'guard' 'bucket_clamp' 'clamp guard']\n",
      "['bucket' 'grease' 'line' 'grease_line' 'line_bucket']\n",
      "['tooth' 'center' 'center tooth']\n",
      "['bucket' 'oil' 'rear' 'rear bucket']\n"
     ]
    },
    {
     "name": "stderr",
     "output_type": "stream",
     "text": [
      "\r",
      "  2%|▏         | 91/5485 [00:05<05:14, 17.15it/s]"
     ]
    },
    {
     "name": "stdout",
     "output_type": "stream",
     "text": [
      "['bucket' 'lube' 'fitting' 'bucket_lube' 'lube_fitting']\n",
      "['bucket' 'grease' 'fitting' 'grease_fitting' 'fitting_bucket']\n",
      "['tooth']\n",
      "['bucket' 'shd' 'tip' 'bucket_tip' 'tip shd']\n"
     ]
    },
    {
     "name": "stderr",
     "output_type": "stream",
     "text": [
      "  2%|▏         | 97/5485 [00:05<05:12, 17.24it/s]"
     ]
    },
    {
     "name": "stdout",
     "output_type": "stream",
     "text": [
      "['bucket' 'tip' 'bucket_tip']\n",
      "['rope']\n",
      "['left' 'hand' 'lip' 'shroud' 'lip_shroud' 'hand lip']\n",
      "['tooth']\n"
     ]
    },
    {
     "name": "stderr",
     "output_type": "stream",
     "text": [
      "\r",
      "  2%|▏         | 100/5485 [00:05<05:11, 17.27it/s]"
     ]
    },
    {
     "name": "stdout",
     "output_type": "stream",
     "text": [
      "['bucket' 'grease' 'line' 'grease_line' 'line_bucket']\n",
      "['pin' 'adaptor' 'keeper' 'keeper pin' 'adaptor keeper']\n",
      "['bucket' 'tooth' 'bucket_tooth']\n",
      "['bucket']\n"
     ]
    },
    {
     "name": "stderr",
     "output_type": "stream",
     "text": [
      "\r",
      "  2%|▏         | 103/5485 [00:05<05:10, 17.31it/s]"
     ]
    },
    {
     "name": "stdout",
     "output_type": "stream",
     "text": [
      "['bucket' 'lube' 'fitting' 'lube_fitting' 'fitting_bucket']\n",
      "['bucket' 'welding' 'spare' 'spare_bucket']\n",
      "['bucket' 'welding']\n",
      "['mining']\n"
     ]
    },
    {
     "name": "stderr",
     "output_type": "stream",
     "text": [
      "  2%|▏         | 109/5485 [00:06<05:09, 17.38it/s]"
     ]
    },
    {
     "name": "stdout",
     "output_type": "stream",
     "text": [
      "['tooth' 'hand' 'right']\n",
      "['bucket' 'tooth' 'bucket_tooth']\n",
      "['bucket' 'tooth' 'bucket_tooth']\n",
      "['bucket' 'tooth' 'bucket_tooth']\n"
     ]
    },
    {
     "name": "stderr",
     "output_type": "stream",
     "text": [
      "  2%|▏         | 113/5485 [00:06<05:08, 17.42it/s]"
     ]
    },
    {
     "name": "stdout",
     "output_type": "stream",
     "text": [
      "['bucket' 'pin' 'bucket_pin']\n",
      "['bucket' 'tooth' 'bucket_tooth']\n",
      "['bucket' 'lube' 'right_hand' 'line' 'lube_line' 'right_hand_bucket'\n",
      " 'line right_hand']\n",
      "['bucket' 'grease' 'line' 'grease_line' 'bucket_grease']\n"
     ]
    },
    {
     "name": "stderr",
     "output_type": "stream",
     "text": [
      "  2%|▏         | 117/5485 [00:06<05:07, 17.45it/s]"
     ]
    },
    {
     "name": "stdout",
     "output_type": "stream",
     "text": [
      "['bucket' 'grease' 'line' 'grease_line' 'line_bucket']\n",
      "['bucket' 'grease' 'line' 'grease_line' 'line_bucket']\n",
      "['bucket' 'grease' 'fitting' 'grease_fitting' 'fitting_bucket']\n",
      "['bucket' 'grease' 'line' 'pin' 'grease_line' 'line_bucket' 'bucket_pin']\n",
      "['bucket' 'grease' 'line' 'pin' 'grease_line' 'line_bucket' 'bucket_pin']\n"
     ]
    },
    {
     "name": "stderr",
     "output_type": "stream",
     "text": [
      "  2%|▏         | 123/5485 [00:07<05:22, 16.62it/s]"
     ]
    },
    {
     "name": "stdout",
     "output_type": "stream",
     "text": [
      "['bucket' 'clamp' 'plate']\n",
      "['bucket' 'assy' 'bucket assy']\n",
      "['bucket' 'hose' 'ring' 'clamp' 'bucket_clamp' 'ring_bucket' 'clamp_hose']\n",
      "['bucket' 'hose' 'boom' 'bucket_hose' 'boom bucket']\n",
      "['bucket' 'tooth' 'bucket_tooth']\n",
      "['bucket' 'grease' 'line' 'pin' 'grease_line' 'line_bucket' 'bucket_pin']\n",
      "['bucket' 'grease' 'line' 'grease_line' 'line_bucket']\n",
      "['tooth' 'corner' 'corner tooth']\n"
     ]
    },
    {
     "name": "stderr",
     "output_type": "stream",
     "text": [
      "  2%|▏         | 131/5485 [00:07<05:11, 17.20it/s]"
     ]
    },
    {
     "name": "stdout",
     "output_type": "stream",
     "text": [
      "['bucket' 'clamp' 'bucket_clamp']\n",
      "['bucket' 'shd' 'spare' 'spare_bucket' 'shd spare']\n",
      "['tooth']\n",
      "['tooth' 'tip']\n",
      "['bucket' 'tooth' 'bucket_tooth']\n",
      "['bucket']\n",
      "['bucket' 'hose' 'hose_bucket']\n",
      "['bucket' 'oil' 'clamp' 'bucket_clamp']\n"
     ]
    },
    {
     "name": "stderr",
     "output_type": "stream",
     "text": [
      "  3%|▎         | 138/5485 [00:07<05:06, 17.44it/s]"
     ]
    },
    {
     "name": "stdout",
     "output_type": "stream",
     "text": [
      "['bucket']\n",
      "['bucket' 'pipe' 'clamp' 'bucket_clamp' 'clamp_pipe']\n",
      "['bucket' 'hose' 'hose_bucket']\n",
      "['bucket' 'hose' 'clamp' 'circuit' 'clamp circuit' 'circuit hose']\n"
     ]
    },
    {
     "name": "stderr",
     "output_type": "stream",
     "text": [
      "\r",
      "  3%|▎         | 141/5485 [00:08<05:06, 17.46it/s]"
     ]
    },
    {
     "name": "stdout",
     "output_type": "stream",
     "text": [
      "['bucket' 'tooth' 'bucket_tooth']\n",
      "['bucket' 'tooth' 'bucket_tooth']\n",
      "['bucket']\n",
      "['bucket' 'hose' 'bucket_crowd' 'crowd_hose']\n"
     ]
    },
    {
     "name": "stderr",
     "output_type": "stream",
     "text": [
      "\r",
      "  3%|▎         | 144/5485 [00:08<05:05, 17.47it/s]"
     ]
    },
    {
     "name": "stdout",
     "output_type": "stream",
     "text": [
      "['bucket' 'grease' 'line' 'grease_line' 'bucket_grease']\n",
      "['bucket' 'tooth' 'bucket_tooth']\n",
      "['bucket' 'pin' 'bucket_pin']\n",
      "['bucket' 'tooth' 'bucket_tooth']\n"
     ]
    },
    {
     "name": "stderr",
     "output_type": "stream",
     "text": [
      "  3%|▎         | 150/5485 [00:08<05:04, 17.52it/s]"
     ]
    },
    {
     "name": "stdout",
     "output_type": "stream",
     "text": [
      "['bucket' 'tooth' 'bucket_tooth']\n",
      "['bucket' 'tooth' 'bucket_tooth']\n",
      "['bucket' 'grease' 'line' 'grease_line' 'line_bucket']\n",
      "['bucket' 'boom']\n"
     ]
    },
    {
     "name": "stderr",
     "output_type": "stream",
     "text": [
      "\r",
      "  3%|▎         | 153/5485 [00:08<05:04, 17.54it/s]"
     ]
    },
    {
     "name": "stdout",
     "output_type": "stream",
     "text": [
      "['bucket' 'grease' 'line' 'grease_line' 'line_bucket']\n",
      "['bucket' 'tooth' 'keeper' 'bucket_tooth' 'tooth_keeper']\n",
      "['bucket' 'tooth' 'bucket_tooth']\n",
      "['bucket' 'tooth' 'bucket_tooth']\n"
     ]
    },
    {
     "name": "stderr",
     "output_type": "stream",
     "text": [
      "  3%|▎         | 157/5485 [00:08<05:03, 17.56it/s]"
     ]
    },
    {
     "name": "stdout",
     "output_type": "stream",
     "text": [
      "['bucket' 'grease' 'line' 'grease_line' 'line_bucket']\n",
      "['bucket' 'grease' 'line' 'grease_line' 'line_bucket']\n",
      "['bucket' 'tooth' 'bucket_tooth']\n",
      "['bucket' 'tooth' 'bucket_tooth']\n"
     ]
    },
    {
     "name": "stderr",
     "output_type": "stream",
     "text": [
      "  3%|▎         | 161/5485 [00:09<05:02, 17.59it/s]"
     ]
    },
    {
     "name": "stdout",
     "output_type": "stream",
     "text": [
      "['bucket' 'assy' 'bucket assy']\n",
      "['bucket' 'tooth' 'bucket_tooth']\n",
      "['bucket' 'grease' 'line' 'grease_line']\n"
     ]
    },
    {
     "name": "stderr",
     "output_type": "stream",
     "text": [
      "  3%|▎         | 167/5485 [00:09<05:13, 16.96it/s]"
     ]
    },
    {
     "name": "stdout",
     "output_type": "stream",
     "text": [
      "['bucket' 'oil' 'hose' 'hyd' 'hyd_oil' 'hose_bucket' 'oil_hose']\n",
      "['bucket' 'tooth' 'bucket_tooth']\n",
      "['bucket' 'tooth' 'bucket_tooth']\n",
      "['bucket' 'clamp' 'steel' 'tube' 'bucket_clamp' 'steel_tube' 'tube bucket']\n",
      "['bucket' 'tooth' 'bucket_tooth']\n",
      "['bucket' 'left_hand' 'cylinder' 'bucket_crowd' 'crowd cylinder'\n",
      " 'left_hand_bucket']\n",
      "['bucket' 'tooth' 'bucket_tooth']\n",
      "['bucket' 'hose' 'hyd' 'ram' 'hyd_hose' 'bucket_ram' 'ram hyd']\n"
     ]
    },
    {
     "name": "stderr",
     "output_type": "stream",
     "text": [
      "  3%|▎         | 175/5485 [00:10<05:05, 17.38it/s]"
     ]
    },
    {
     "name": "stdout",
     "output_type": "stream",
     "text": [
      "['tooth']\n",
      "['bucket' 'right_hand' 'shd' '08' 'right_hand_bucket' 'bucket_shd']\n",
      "['bucket' 'plate']\n",
      "['tooth']\n",
      "['bucket' 'tooth' 'bucket_tooth']\n",
      "['bucket' 'tooth' 'corner' 'bucket_tooth' 'corner bucket']\n",
      "['bucket' 'tooth' 'bucket_tooth']\n",
      "['bucket' 'tooth' 'bucket_tooth']\n"
     ]
    },
    {
     "name": "stderr",
     "output_type": "stream",
     "text": [
      "\r",
      "  3%|▎         | 179/5485 [00:10<05:02, 17.53it/s]"
     ]
    },
    {
     "name": "stdout",
     "output_type": "stream",
     "text": [
      "['bucket']\n",
      "['tooth']\n",
      "['bucket' 'tooth' 'center' 'bucket_tooth' 'center bucket']\n",
      "['bucket' 'grease' 'line' 'left_hand' 'grease_line' 'left_hand_bucket'\n",
      " 'line_left_hand']\n"
     ]
    },
    {
     "name": "stderr",
     "output_type": "stream",
     "text": [
      "  3%|▎         | 185/5485 [00:10<05:02, 17.53it/s]"
     ]
    },
    {
     "name": "stdout",
     "output_type": "stream",
     "text": [
      "['bucket' 'tooth' 'bucket_tooth']\n",
      "['bucket' 'hose' 'bucket_hose']\n",
      "['right_hand' '09' 'right_hand 09']\n",
      "['shd' 'mining' 'mining_shd']\n"
     ]
    },
    {
     "name": "stderr",
     "output_type": "stream",
     "text": [
      "\r",
      "  3%|▎         | 188/5485 [00:10<05:02, 17.53it/s]"
     ]
    },
    {
     "name": "stdout",
     "output_type": "stream",
     "text": [
      "['bucket' 'tooth' 'bucket_tooth']\n",
      "['bucket' 'tooth' 'bucket_tooth']\n",
      "['bucket']\n",
      "['bucket' 'cylinder' 'clamp' 'bucket_clamp' 'clamp_cylinder']\n"
     ]
    },
    {
     "name": "stderr",
     "output_type": "stream",
     "text": [
      "\r",
      "  3%|▎         | 191/5485 [00:10<05:01, 17.54it/s]"
     ]
    },
    {
     "name": "stdout",
     "output_type": "stream",
     "text": [
      "['bucket' 'hose' 'lube' 'hose_bucket' 'lube_hose']\n",
      "['right_hand']\n",
      "['bucket' 'tooth' 'bucket_tooth']\n",
      "['bucket' 'tooth' 'bucket_tooth']\n"
     ]
    },
    {
     "name": "stderr",
     "output_type": "stream",
     "text": [
      "  4%|▎         | 196/5485 [00:11<05:01, 17.55it/s]"
     ]
    },
    {
     "name": "stdout",
     "output_type": "stream",
     "text": [
      "['bucket' 'tooth' 'bucket_tooth']\n",
      "['bucket' 'tooth' 'bucket_tooth']\n",
      "['bucket' 'tooth' 'bucket_tooth']\n",
      "['bucket' 'tooth' 'bucket_tooth']\n"
     ]
    },
    {
     "name": "stderr",
     "output_type": "stream",
     "text": [
      "  4%|▎         | 200/5485 [00:11<05:00, 17.57it/s]"
     ]
    },
    {
     "name": "stdout",
     "output_type": "stream",
     "text": [
      "['bucket' 'plate']\n",
      "['bucket']\n",
      "['bucket' 'tooth' 'bucket_tooth']\n",
      "['bucket' 'tooth' 'bucket_tooth']\n"
     ]
    },
    {
     "name": "stderr",
     "output_type": "stream",
     "text": [
      "  4%|▎         | 204/5485 [00:11<05:00, 17.58it/s]"
     ]
    },
    {
     "name": "stdout",
     "output_type": "stream",
     "text": [
      "['shd' 'mining' 'mining_shd']\n",
      "['bucket' 'hose' 'left_hand' 'cylinder' 'bucket_cylinder' 'cylinder_hose'\n",
      " 'left_hand_bucket']\n",
      "['bucket']\n",
      "['bucket' 'tooth' 'bucket_tooth']\n"
     ]
    },
    {
     "name": "stderr",
     "output_type": "stream",
     "text": [
      "\r",
      "  4%|▍         | 206/5485 [00:11<05:00, 17.57it/s]"
     ]
    },
    {
     "name": "stdout",
     "output_type": "stream",
     "text": [
      "['bucket' 'grease' 'hose' 'hose_bucket' 'grease_hose']\n"
     ]
    },
    {
     "name": "stderr",
     "output_type": "stream",
     "text": [
      "  4%|▍         | 212/5485 [00:12<05:09, 17.04it/s]"
     ]
    },
    {
     "name": "stdout",
     "output_type": "stream",
     "text": [
      "['bucket' 'tooth' 'bucket_tooth']\n",
      "['bucket' 'grease' 'line' 'grease_line']\n",
      "['bucket' 'pin' 'clamp' 'lower' 'bucket_clamp' 'clamp lower']\n",
      "['heater']\n",
      "['bucket' 'oil']\n",
      "['bucket' 'plate' 'plate bucket']\n",
      "['bucket' 'shd' 'spare' 'bucket_shd' 'spare_bucket']\n",
      "['bucket' 'tooth' 'tooth_bucket']\n"
     ]
    },
    {
     "name": "stderr",
     "output_type": "stream",
     "text": [
      "  4%|▍         | 220/5485 [00:12<05:02, 17.38it/s]"
     ]
    },
    {
     "name": "stdout",
     "output_type": "stream",
     "text": [
      "['bucket' 'bucket_crowd']\n",
      "['bucket' 'style']\n",
      "['bucket']\n",
      "['gear']\n",
      "['bucket' 'tooth' 'bucket_tooth']\n",
      "['tip']\n",
      "['tooth' 'shovel' 'tooth shovel']\n",
      "['tooth']\n"
     ]
    },
    {
     "name": "stderr",
     "output_type": "stream",
     "text": [
      "\r",
      "  4%|▍         | 224/5485 [00:12<05:00, 17.51it/s]"
     ]
    },
    {
     "name": "stdout",
     "output_type": "stream",
     "text": [
      "['adaptor']\n",
      "['tip']\n",
      "['tooth' 'tip' 'tooth tip']\n",
      "['bucket' 'left_hand' 'left_hand_bucket']\n"
     ]
    },
    {
     "name": "stderr",
     "output_type": "stream",
     "text": [
      "  4%|▍         | 230/5485 [00:13<04:59, 17.54it/s]"
     ]
    },
    {
     "name": "stdout",
     "output_type": "stream",
     "text": [
      "['bucket' 'tooth' 'bucket_tooth']\n",
      "['adaptor']\n",
      "['tip']\n",
      "['tip']\n"
     ]
    },
    {
     "name": "stderr",
     "output_type": "stream",
     "text": [
      "\r",
      "  4%|▍         | 233/5485 [00:13<04:59, 17.55it/s]"
     ]
    },
    {
     "name": "stdout",
     "output_type": "stream",
     "text": [
      "['tooth']\n",
      "['tooth']\n",
      "['bucket' 'center' 'inside' 'support' 'inside bucket' 'center support'\n",
      " 'support inside']\n",
      "['tooth']\n"
     ]
    },
    {
     "name": "stderr",
     "output_type": "stream",
     "text": [
      "\r",
      "  4%|▍         | 236/5485 [00:13<04:59, 17.55it/s]"
     ]
    },
    {
     "name": "stdout",
     "output_type": "stream",
     "text": [
      "['tooth']\n",
      "['bucket' 'tip' 'bucket_tip']\n",
      "['bucket' 'grease' 'line' 'grease_line' 'line_bucket']\n",
      "['bucket' 'rock' 'breaker' 'rock_breaker' 'breaker bucket']\n"
     ]
    },
    {
     "name": "stderr",
     "output_type": "stream",
     "text": [
      "  4%|▍         | 241/5485 [00:13<04:58, 17.56it/s]"
     ]
    },
    {
     "name": "stdout",
     "output_type": "stream",
     "text": [
      "['tooth']\n",
      "['tooth']\n",
      "['tooth']\n",
      "['tip']\n"
     ]
    },
    {
     "name": "stderr",
     "output_type": "stream",
     "text": [
      "  4%|▍         | 245/5485 [00:13<04:58, 17.56it/s]"
     ]
    },
    {
     "name": "stdout",
     "output_type": "stream",
     "text": [
      "['tooth']\n",
      "['tooth']\n",
      "['tooth']\n",
      "['tooth']\n"
     ]
    },
    {
     "name": "stderr",
     "output_type": "stream",
     "text": [
      "  5%|▍         | 249/5485 [00:14<04:58, 17.56it/s]"
     ]
    },
    {
     "name": "stdout",
     "output_type": "stream",
     "text": [
      "['bucket' 'tooth' 'bucket_tooth']\n",
      "['bucket' 'tooth' 'outside' 'bucket_tooth']\n",
      "['bucket' 'tooth' 'bucket_tooth']\n",
      "['bucket' 'history']\n"
     ]
    },
    {
     "name": "stderr",
     "output_type": "stream",
     "text": [
      "\r",
      "  5%|▍         | 251/5485 [00:14<04:57, 17.57it/s]"
     ]
    },
    {
     "name": "stdout",
     "output_type": "stream",
     "text": [
      "['tooth']\n"
     ]
    },
    {
     "name": "stderr",
     "output_type": "stream",
     "text": [
      "  5%|▍         | 257/5485 [00:14<05:04, 17.19it/s]"
     ]
    },
    {
     "name": "stdout",
     "output_type": "stream",
     "text": [
      "['tooth']\n",
      "['tip']\n",
      "['bucket' 'tip' 'bucket_tip']\n",
      "['bucket' 'rock' 'breaker' 'base' 'rock_breaker' 'breaker bucket']\n",
      "['tooth' 'outside' 'outside tooth']\n",
      "['bucket' 'tooth' 'bucket_tooth']\n",
      "['bar']\n",
      "['bucket']\n"
     ]
    },
    {
     "name": "stderr",
     "output_type": "stream",
     "text": [
      "  5%|▍         | 265/5485 [00:15<04:58, 17.46it/s]"
     ]
    },
    {
     "name": "stdout",
     "output_type": "stream",
     "text": [
      "['bucket' 'rock' 'breaker' 'rock_breaker' 'breaker bucket']\n",
      "['bucket']\n",
      "['tooth' 'adaptor' 'tooth_adaptor']\n",
      "['tooth']\n",
      "['bucket' 'tooth' 'bucket_tooth']\n",
      "['tooth']\n",
      "['package']\n",
      "['tooth']\n"
     ]
    },
    {
     "name": "stderr",
     "output_type": "stream",
     "text": [
      "  5%|▍         | 271/5485 [00:15<04:57, 17.54it/s]"
     ]
    },
    {
     "name": "stdout",
     "output_type": "stream",
     "text": [
      "['tooth']\n",
      "['tooth' 'new' 'new_tooth']\n",
      "['tooth']\n",
      "['tooth']\n"
     ]
    },
    {
     "name": "stderr",
     "output_type": "stream",
     "text": [
      "\r",
      "  5%|▍         | 274/5485 [00:15<04:57, 17.54it/s]"
     ]
    },
    {
     "name": "stdout",
     "output_type": "stream",
     "text": [
      "['tooth']\n",
      "['bucket' 'grease' 'line' 'pivot' 'grease_line' 'line_bucket'\n",
      " 'bucket pivot']\n",
      "['tooth']\n",
      "['tooth']\n"
     ]
    },
    {
     "name": "stderr",
     "output_type": "stream",
     "text": [
      "\r",
      "  5%|▌         | 277/5485 [00:15<04:56, 17.55it/s]"
     ]
    },
    {
     "name": "stdout",
     "output_type": "stream",
     "text": [
      "['bucket' 'oil' 'hose' 'cylinder' 'bucket_cylinder' 'cylinder_hose']\n",
      "['bucket' 'cylinder' 'bucket_cylinder']\n",
      "['bucket']\n",
      "['bucket']\n"
     ]
    },
    {
     "name": "stderr",
     "output_type": "stream",
     "text": [
      "  5%|▌         | 283/5485 [00:16<04:56, 17.57it/s]"
     ]
    },
    {
     "name": "stdout",
     "output_type": "stream",
     "text": [
      "['tooth' 'new' 'new_tooth']\n",
      "['bucket' 'welding']\n",
      "['bucket' 'tooth' 'bucket_tooth']\n",
      "['tooth']\n"
     ]
    },
    {
     "name": "stderr",
     "output_type": "stream",
     "text": [
      "  5%|▌         | 287/5485 [00:16<04:55, 17.57it/s]"
     ]
    },
    {
     "name": "stdout",
     "output_type": "stream",
     "text": [
      "['tooth']\n",
      "['bucket' 'tooth' 'bucket_tooth']\n",
      "['tooth']\n",
      "['bucket' 'tooth' 'bucket_tooth']\n"
     ]
    },
    {
     "name": "stderr",
     "output_type": "stream",
     "text": [
      "  5%|▌         | 291/5485 [00:16<04:55, 17.57it/s]"
     ]
    },
    {
     "name": "stdout",
     "output_type": "stream",
     "text": [
      "['rock' 'breaker' 'rock_breaker']\n",
      "['tooth']\n",
      "['bucket' 'tooth' 'shd' 'tooth_shd' 'shd bucket']\n",
      "['bucket' 'tooth' 'bucket_tooth']\n"
     ]
    },
    {
     "name": "stderr",
     "output_type": "stream",
     "text": [
      "  5%|▌         | 295/5485 [00:16<04:55, 17.57it/s]"
     ]
    },
    {
     "name": "stdout",
     "output_type": "stream",
     "text": [
      "['tooth']\n",
      "['tooth']\n",
      "['tooth' 'shd' 'tooth_shd']\n",
      "['bucket' 'tip' 'bucket_tip']\n"
     ]
    },
    {
     "name": "stderr",
     "output_type": "stream",
     "text": [
      "  5%|▌         | 301/5485 [00:17<05:00, 17.24it/s]"
     ]
    },
    {
     "name": "stdout",
     "output_type": "stream",
     "text": [
      "['tooth' 'outside' 'outside tooth']\n",
      "['tooth']\n",
      "['tooth' 'shd' 'tooth_shd']\n",
      "['bucket']\n",
      "['bucket' 'grease' 'line' 'left' 'hand' 'grease_line' 'line left'\n",
      " 'hand bucket']\n",
      "['tooth']\n",
      "['tooth']\n",
      "['tooth']\n"
     ]
    },
    {
     "name": "stderr",
     "output_type": "stream",
     "text": [
      "  6%|▌         | 309/5485 [00:17<04:56, 17.48it/s]"
     ]
    },
    {
     "name": "stdout",
     "output_type": "stream",
     "text": [
      "['grease' 'pump' 'adaptor' 'supply' 'grease_pump' 'pump adaptor'\n",
      " 'supply grease']\n",
      "['tooth']\n",
      "['bucket' 'tooth' 'pin' 'bucket_tooth' 'tooth_pin']\n",
      "['tooth']\n",
      "['rock' 'breaker' 'rock_breaker']\n",
      "['bucket' 'tooth' 'bucket_tooth']\n",
      "['tooth' 'outside' 'outside tooth']\n",
      "['rock' 'breaker' 'rock_breaker']\n"
     ]
    },
    {
     "name": "stderr",
     "output_type": "stream",
     "text": [
      "  6%|▌         | 315/5485 [00:17<04:54, 17.55it/s]"
     ]
    },
    {
     "name": "stdout",
     "output_type": "stream",
     "text": [
      "['tooth' 'shd' 'tooth_shd']\n",
      "['tip']\n",
      "['shd' 'air_conditioning']\n",
      "['rock' 'breaker' 'rock_breaker']\n"
     ]
    },
    {
     "name": "stderr",
     "output_type": "stream",
     "text": [
      "\r",
      "  6%|▌         | 318/5485 [00:18<04:54, 17.56it/s]"
     ]
    },
    {
     "name": "stdout",
     "output_type": "stream",
     "text": [
      "['tooth']\n",
      "['bucket' 'tip' 'bucket_tip']\n",
      "['bucket' 'shd' 'cylinder' 'bucket_cylinder' 'cylinder_shd']\n",
      "['bucket' 'grease' 'line' 'grease_line' 'line_bucket']\n"
     ]
    },
    {
     "name": "stderr",
     "output_type": "stream",
     "text": [
      "\r",
      "  6%|▌         | 321/5485 [00:18<04:53, 17.57it/s]"
     ]
    },
    {
     "name": "stdout",
     "output_type": "stream",
     "text": [
      "['tooth']\n",
      "['bucket' 'tip' 'bucket_tip']\n",
      "['bucket' 'tooth' 'bucket_tooth']\n",
      "['tooth']\n"
     ]
    },
    {
     "name": "stderr",
     "output_type": "stream",
     "text": [
      "  6%|▌         | 327/5485 [00:18<04:53, 17.59it/s]"
     ]
    },
    {
     "name": "stdout",
     "output_type": "stream",
     "text": [
      "['bucket' 'tooth']\n",
      "['lip' 'shroud' 'adaptor' 'lip_shroud' 'adaptor lip']\n",
      "['bucket' 'cylinder' 'pipe' 'bucket_crowd' 'crowd cylinder' 'pipe bucket']\n",
      "['tooth']\n"
     ]
    },
    {
     "name": "stderr",
     "output_type": "stream",
     "text": [
      "\r",
      "  6%|▌         | 330/5485 [00:18<04:53, 17.59it/s]"
     ]
    },
    {
     "name": "stdout",
     "output_type": "stream",
     "text": [
      "['tooth' 'shd' 'tooth_shd']\n",
      "['bucket' 'tooth' 'shd' 'adaptor' 'bucket_tooth' 'tooth_adaptor'\n",
      " 'adaptor shd']\n",
      "['bucket' 'tip' 'tip bucket']\n"
     ]
    },
    {
     "name": "stderr",
     "output_type": "stream",
     "text": [
      "  6%|▌         | 334/5485 [00:18<04:52, 17.60it/s]"
     ]
    },
    {
     "name": "stdout",
     "output_type": "stream",
     "text": [
      "['bucket' 'rock' 'breaker' 'rock_breaker']\n",
      "['bucket' 'arm']\n",
      "['bucket' 'tip' 'bucket_tip']\n",
      "['bucket' 'lube' 'line' 'shd' 'lube_line' 'line_shd' 'bucket_lube']\n"
     ]
    },
    {
     "name": "stderr",
     "output_type": "stream",
     "text": [
      "  6%|▌         | 338/5485 [00:19<04:52, 17.61it/s]"
     ]
    },
    {
     "name": "stdout",
     "output_type": "stream",
     "text": [
      "['bucket']\n",
      "['adaptor' 'outer' 'outer adaptor']\n",
      "['bucket' 'lube' 'line' 'pin' 'line_bucket' 'lube_line' 'bucket_pin']\n"
     ]
    },
    {
     "name": "stderr",
     "output_type": "stream",
     "text": [
      "  6%|▋         | 344/5485 [00:19<04:57, 17.29it/s]"
     ]
    },
    {
     "name": "stdout",
     "output_type": "stream",
     "text": [
      "['bucket' 'link' 'arm' 'link arm' 'bucket link']\n",
      "['bucket' 'tooth' 'bucket_tooth']\n",
      "['bucket']\n",
      "['bucket' 'machine' 'machine bucket']\n",
      "['bucket' 'guard']\n",
      "['bucket' 'tooth' 'bucket_tooth']\n",
      "['tooth' 'pin' 'pin tooth']\n",
      "['tooth' 'shd' 'tooth_shd']\n"
     ]
    },
    {
     "name": "stderr",
     "output_type": "stream",
     "text": [
      "  6%|▋         | 352/5485 [00:20<04:53, 17.49it/s]"
     ]
    },
    {
     "name": "stdout",
     "output_type": "stream",
     "text": [
      "['bucket' 'tooth' 'bucket_tooth']\n",
      "['bucket' 'tooth' 'bucket_tooth']\n",
      "['tooth']\n",
      "['tooth' 'left_hand' 'shd' 'corner' 'corner shd' 'left_hand corner'\n",
      " 'tooth left_hand']\n",
      "['tooth' 'outer' 'outer tooth']\n",
      "['bucket' 'grease' 'line' 'grease_line']\n",
      "['tooth']\n",
      "['bucket' 'tooth' 'shd' 'pin' 'bucket_tooth' 'tooth_pin' 'pin shd']\n"
     ]
    },
    {
     "name": "stderr",
     "output_type": "stream",
     "text": [
      "\r",
      "  6%|▋         | 356/5485 [00:20<04:52, 17.56it/s]"
     ]
    },
    {
     "name": "stdout",
     "output_type": "stream",
     "text": [
      "['bucket' 'tooth' 'shd' 'bucket_tooth' 'tooth_shd']\n",
      "['bucket' 'tooth' 'shd' 'bucket_tooth' 'tooth_shd']\n",
      "['bucket' 'lube' 'line' 'shd' 'lube_line' 'line_shd' 'bucket_lube']\n",
      "['tooth' 'shd']\n"
     ]
    },
    {
     "name": "stderr",
     "output_type": "stream",
     "text": [
      "  7%|▋         | 362/5485 [00:20<04:51, 17.56it/s]"
     ]
    },
    {
     "name": "stdout",
     "output_type": "stream",
     "text": [
      "['tooth']\n",
      "['tooth' 'shd' 'tooth_shd']\n",
      "['adaptor']\n",
      "['bucket' 'left_hand' 'cylinder' 'pipe' 'lower' 'bucket_cylinder'\n",
      " 'left_hand lower' 'cylinder left_hand' 'pipe bucket']\n"
     ]
    },
    {
     "name": "stderr",
     "output_type": "stream",
     "text": [
      "\r",
      "  7%|▋         | 365/5485 [00:20<04:51, 17.57it/s]"
     ]
    },
    {
     "name": "stdout",
     "output_type": "stream",
     "text": [
      "['bucket' 'tip' 'bucket_tip']\n",
      "['bucket' 'plate']\n",
      "['tooth' 'pin' 'tooth_pin']\n",
      "['bucket']\n"
     ]
    },
    {
     "name": "stderr",
     "output_type": "stream",
     "text": [
      "\r",
      "  7%|▋         | 368/5485 [00:20<04:51, 17.58it/s]"
     ]
    },
    {
     "name": "stdout",
     "output_type": "stream",
     "text": [
      "['bucket' 'tooth' 'shd' 'rock' 'bucket_tooth' 'tooth_shd' 'rock bucket'\n",
      " 'shd rock']\n",
      "['bucket' 'hose' 'right_hand' 'shd' 'cylinder' 'bucket_cylinder'\n",
      " 'hose_shd' 'cylinder_hose' 'right_hand_bucket']\n",
      "['bucket' 'grease']\n",
      "['lip' 'shroud' 'lip_shroud']\n"
     ]
    },
    {
     "name": "stderr",
     "output_type": "stream",
     "text": [
      "  7%|▋         | 373/5485 [00:21<04:50, 17.59it/s]"
     ]
    },
    {
     "name": "stdout",
     "output_type": "stream",
     "text": [
      "['shd' 'lip' 'shroud' 'lip_shroud' 'shroud_shd']\n",
      "['hand' 'right' 'lip' 'shroud' 'outer' 'lip_shroud' 'outer lip']\n",
      "['lip' 'adaptor']\n",
      "['bucket' 'cylinder' 'bucket_cylinder']\n"
     ]
    },
    {
     "name": "stderr",
     "output_type": "stream",
     "text": [
      "  7%|▋         | 377/5485 [00:21<04:50, 17.59it/s]"
     ]
    },
    {
     "name": "stdout",
     "output_type": "stream",
     "text": [
      "['bucket' 'hose' 'left_hand' 'servo' 'bucket_crowd' 'left_hand_bucket'\n",
      " 'servo_hose']\n",
      "['right']\n",
      "['bucket' 'grease' 'line' 'grease_line' 'bucket_grease']\n",
      "['tooth' 'left_hand' 'shd' 'tooth_shd' 'left_hand tooth']\n"
     ]
    },
    {
     "name": "stderr",
     "output_type": "stream",
     "text": [
      "  7%|▋         | 381/5485 [00:21<04:50, 17.60it/s]"
     ]
    },
    {
     "name": "stdout",
     "output_type": "stream",
     "text": [
      "['shd' 'lip' 'shroud' 'center' 'lip_shroud' 'shroud_shd' 'center lip']\n",
      "['tooth' 'right_hand' 'shd' 'corner' 'tooth_shd' 'corner tooth'\n",
      " 'right_hand corner']\n",
      "['lip' 'shroud' 'lip_shroud']\n",
      "['bucket' 'grease']\n"
     ]
    },
    {
     "name": "stderr",
     "output_type": "stream",
     "text": [
      "\r",
      "  7%|▋         | 383/5485 [00:21<04:49, 17.60it/s]"
     ]
    },
    {
     "name": "stdout",
     "output_type": "stream",
     "text": [
      "['oil' 'pump' 'left_hand' 'fan' 'adaptor' 'fan_pump' 'left_hand fan'\n",
      " 'adaptor left_hand']\n"
     ]
    },
    {
     "name": "stderr",
     "output_type": "stream",
     "text": [
      "  7%|▋         | 389/5485 [00:22<04:54, 17.31it/s]"
     ]
    },
    {
     "name": "stdout",
     "output_type": "stream",
     "text": [
      "['tooth' 'shd' 'keeper' 'tooth_keeper' 'keeper shd']\n",
      "['bucket' 'lube' 'line' 'cylinder' 'line_bucket' 'bucket_cylinder'\n",
      " 'lube_line']\n",
      "['bucket' 'left_hand' 'cylinder' 'bucket_cylinder']\n",
      "['bucket' 'grease' 'line' 'grease_line' 'line_bucket']\n",
      "['hand' 'right' 'lip' 'shroud' 'lip_shroud' 'hand lip']\n",
      "['bucket' 'hose' 'ring' 'ring_bucket' 'bucket_hose']\n",
      "['left_hand' 'shd' 'lip' 'shroud' 'lip_shroud' 'left_hand_lip'\n",
      " 'shroud_shd']\n",
      "['tooth']\n"
     ]
    },
    {
     "name": "stderr",
     "output_type": "stream",
     "text": [
      "  7%|▋         | 397/5485 [00:22<04:50, 17.50it/s]"
     ]
    },
    {
     "name": "stdout",
     "output_type": "stream",
     "text": [
      "['tooth']\n",
      "['tooth']\n",
      "['bucket' 'tip' 'bucket_tip']\n",
      "['tooth' 'shd' 'tooth_shd']\n",
      "['left_hand' 'shd' 'lip' 'shroud' 'lip_shroud' 'left_hand_lip'\n",
      " 'shroud_shd']\n",
      "['tooth' 'shd' 'tooth_shd']\n",
      "['bucket' 'lube' 'pin' 'bucket_pin']\n",
      "['tooth' 'adaptor' 'tooth_adaptor']\n"
     ]
    },
    {
     "name": "stderr",
     "output_type": "stream",
     "text": [
      "\r",
      "  7%|▋         | 401/5485 [00:22<04:49, 17.57it/s]"
     ]
    },
    {
     "name": "stdout",
     "output_type": "stream",
     "text": [
      "['bucket' 'tooth' 'shd' 'tooth_bucket' 'bucket_shd']\n",
      "['bucket' 'line' 'ring' 'bucket_crowd' 'ring_bucket']\n",
      "['bucket' 'plate' 'inside' 'inside bucket' 'plate inside']\n",
      "['tooth' 'shd' 'tooth_shd']\n"
     ]
    },
    {
     "name": "stderr",
     "output_type": "stream",
     "text": [
      "  7%|▋         | 407/5485 [00:23<04:48, 17.58it/s]"
     ]
    },
    {
     "name": "stdout",
     "output_type": "stream",
     "text": [
      "['bucket' 'lube' 'line' 'pin' 'line_bucket' 'lube_line' 'bucket_pin']\n",
      "['bucket' 'tooth' 'shd' 'tooth_bucket' 'bucket_shd']\n",
      "['bucket' 'pin' 'bolts' 'retainer' 'pin_retainer' 'retainer bolts']\n",
      "['lip' 'plate' 'outside']\n"
     ]
    },
    {
     "name": "stderr",
     "output_type": "stream",
     "text": [
      "\r",
      "  7%|▋         | 410/5485 [00:23<04:48, 17.59it/s]"
     ]
    },
    {
     "name": "stdout",
     "output_type": "stream",
     "text": [
      "['bucket' 'pin' 'tip' 'bucket_tip' 'tip_pin']\n",
      "['shd' 'lip' 'shroud' 'keeper' 'lip_shroud' 'keeper shd' 'shroud keeper']\n",
      "['bucket' 'lube' 'line' 'line_bucket' 'lube_line']\n",
      "['bucket' 'shd']\n"
     ]
    },
    {
     "name": "stderr",
     "output_type": "stream",
     "text": [
      "\r",
      "  8%|▊         | 413/5485 [00:23<04:48, 17.60it/s]"
     ]
    },
    {
     "name": "stdout",
     "output_type": "stream",
     "text": [
      "['bucket' 'pin' 'bush' 'pin bush']\n",
      "['tooth' 'pin' 'tooth_pin']\n",
      "['bucket' 'cylinder' 'right' 'cylinder bucket' 'bucket right']\n",
      "['shd' 'lip' 'shroud' 'lip_shroud' 'shroud_shd']\n"
     ]
    },
    {
     "name": "stderr",
     "output_type": "stream",
     "text": [
      "  8%|▊         | 419/5485 [00:23<04:47, 17.61it/s]"
     ]
    },
    {
     "name": "stdout",
     "output_type": "stream",
     "text": [
      "['bucket' 'grease' 'line' 'shd' 'grease_line' 'line_bucket' 'bucket_shd']\n",
      "['bucket' 'package' 'strips' 'package bucket' 'strips package']\n",
      "['bucket' 'operation']\n",
      "['bucket' 'hose' 'left_hand' 'cylinder' 'lower' 'bucket_cylinder'\n",
      " 'cylinder_hose' 'left_hand lower' 'lower bucket']\n"
     ]
    },
    {
     "name": "stderr",
     "output_type": "stream",
     "text": [
      "  8%|▊         | 423/5485 [00:24<04:47, 17.61it/s]"
     ]
    },
    {
     "name": "stdout",
     "output_type": "stream",
     "text": [
      "['bucket' 'grease' 'hose' 'pin' 'bucket_pin' 'hose_bucket' 'grease_hose']\n",
      "['bucket' 'right_hand' 'cylinder' 'warranty' 'bucket_cylinder'\n",
      " 'right_hand_bucket']\n",
      "['bucket' 'package' 'strips' 'package bucket' 'strips package']\n",
      "['bucket' 'cylinder' 'bolts' 'plate' 'retainer' 'bucket_cylinder'\n",
      " 'retainer plate' 'cylinder retainer' 'plate bolts']\n"
     ]
    },
    {
     "name": "stderr",
     "output_type": "stream",
     "text": [
      "  8%|▊         | 427/5485 [00:24<04:47, 17.62it/s]"
     ]
    },
    {
     "name": "stdout",
     "output_type": "stream",
     "text": [
      "['lip' 'shroud' 'lip_shroud']\n",
      "['lip' 'shroud' 'lip_shroud']\n",
      "['tooth']\n",
      "['lip' 'shroud' 'lip_shroud']\n",
      "['bucket' 'lip' 'shroud' 'lip_shroud' 'shroud bucket']\n"
     ]
    },
    {
     "name": "stderr",
     "output_type": "stream",
     "text": [
      "  8%|▊         | 433/5485 [00:24<04:50, 17.37it/s]"
     ]
    },
    {
     "name": "stdout",
     "output_type": "stream",
     "text": [
      "['bucket' 'package' 'strips' 'package bucket' 'strips package']\n",
      "['bucket' 'grease' 'line' 'grease_line' 'line_bucket']\n",
      "['tooth']\n",
      "['bucket' 'grease' 'line' 'grease_line' 'line_bucket']\n",
      "['bucket' 'shd' '24' 'shd_24' '24 bucket']\n",
      "['bucket']\n",
      "['tooth']\n",
      "['tooth' 'shd' 'tooth_shd']\n"
     ]
    },
    {
     "name": "stderr",
     "output_type": "stream",
     "text": [
      "  8%|▊         | 441/5485 [00:25<04:47, 17.53it/s]"
     ]
    },
    {
     "name": "stdout",
     "output_type": "stream",
     "text": [
      "['bucket' 'hyd' 'bucket_crowd' 'hyd bucket']\n",
      "['lube' 'pressure']\n",
      "['tooth' 'shd' 'tooth_shd']\n",
      "['tooth' 'shd' 'tooth_shd']\n",
      "['tooth' 'adaptor' 'adaptor_tooth']\n",
      "['bucket' 'tooth' 'bucket_tooth']\n",
      "['tip' 'keeper']\n",
      "['bucket' 'lip' 'rock' 'bucket_lip' 'rock bucket' 'lip rock']\n"
     ]
    },
    {
     "name": "stderr",
     "output_type": "stream",
     "text": [
      "  8%|▊         | 448/5485 [00:25<04:46, 17.59it/s]"
     ]
    },
    {
     "name": "stdout",
     "output_type": "stream",
     "text": [
      "['bucket' 'shd' '24' 'shd_24']\n",
      "['tooth']\n",
      "['bucket' 'grease' 'line' 'grease_line' 'line_bucket']\n",
      "['tooth' 'shd']\n"
     ]
    },
    {
     "name": "stderr",
     "output_type": "stream",
     "text": [
      "\r",
      "  8%|▊         | 451/5485 [00:25<04:46, 17.59it/s]"
     ]
    },
    {
     "name": "stdout",
     "output_type": "stream",
     "text": [
      "['bucket' 'grease' 'line' 'grease_line' 'line_bucket']\n",
      "['bucket' 'grease' 'line' 'grease_line' 'line_bucket']\n",
      "['tooth']\n",
      "['bucket' 'grease' 'line' 'grease_line' 'line_bucket']\n"
     ]
    },
    {
     "name": "stderr",
     "output_type": "stream",
     "text": [
      "\r",
      "  8%|▊         | 454/5485 [00:25<04:46, 17.58it/s]"
     ]
    },
    {
     "name": "stdout",
     "output_type": "stream",
     "text": [
      "['clamp' 'link' 'welding']\n",
      "['tooth']\n",
      "['bucket' 'tooth' 'bucket_tooth']\n",
      "['tooth']\n"
     ]
    },
    {
     "name": "stderr",
     "output_type": "stream",
     "text": [
      "  8%|▊         | 459/5485 [00:26<04:45, 17.59it/s]"
     ]
    },
    {
     "name": "stdout",
     "output_type": "stream",
     "text": [
      "['bucket' 'grease' 'line' 'grease_line' 'line_bucket']\n",
      "['bucket' 'grease' 'line' 'grease_line' 'line_bucket']\n",
      "['tooth']\n",
      "['tooth' 'shd']\n"
     ]
    },
    {
     "name": "stderr",
     "output_type": "stream",
     "text": [
      "  8%|▊         | 463/5485 [00:26<04:45, 17.59it/s]"
     ]
    },
    {
     "name": "stdout",
     "output_type": "stream",
     "text": [
      "['tooth' 'shd' 'tooth_shd']\n",
      "['tooth']\n",
      "['bucket' 'tooth' 'tooth_bucket']\n",
      "['tooth']\n"
     ]
    },
    {
     "name": "stderr",
     "output_type": "stream",
     "text": [
      "  9%|▊         | 467/5485 [00:26<04:45, 17.60it/s]"
     ]
    },
    {
     "name": "stdout",
     "output_type": "stream",
     "text": [
      "['tooth']\n",
      "['tooth']\n",
      "['tooth' 'shd' 'tooth_shd']\n",
      "['tooth']\n"
     ]
    },
    {
     "name": "stderr",
     "output_type": "stream",
     "text": [
      "  9%|▊         | 471/5485 [00:26<04:44, 17.60it/s]"
     ]
    },
    {
     "name": "stdout",
     "output_type": "stream",
     "text": [
      "['bucket' 'tooth' 'bucket_tooth']\n",
      "['tooth']\n",
      "['bucket' 'tooth' 'pin' 'bucket_tooth']\n"
     ]
    },
    {
     "name": "stderr",
     "output_type": "stream",
     "text": [
      "  9%|▊         | 477/5485 [00:27<04:48, 17.34it/s]"
     ]
    },
    {
     "name": "stdout",
     "output_type": "stream",
     "text": [
      "['bucket' 'tooth' 'bucket_tooth']\n",
      "['tooth']\n",
      "['tooth']\n",
      "['bucket' 'tooth']\n",
      "['tooth']\n",
      "['tooth' 'shd' 'tooth_shd']\n",
      "['bucket' 'tooth' 'bucket_tooth']\n",
      "['link' 'arm' 'link arm']\n"
     ]
    },
    {
     "name": "stderr",
     "output_type": "stream",
     "text": [
      "  9%|▉         | 485/5485 [00:27<04:45, 17.49it/s]"
     ]
    },
    {
     "name": "stdout",
     "output_type": "stream",
     "text": [
      "['line' 'link']\n",
      "['bucket' 'right_hand' 'right_hand_bucket']\n",
      "['bucket' 'strips']\n",
      "['bucket' 'pin' 'plate' 'retainer' 'bucket_pin' 'pin_retainer'\n",
      " 'retainer plate']\n",
      "['adaptor']\n",
      "['warranty' 'link']\n",
      "['bucket' 'tooth' 'bucket_tooth']\n",
      "['bucket' 'tooth' 'bucket_tooth']\n"
     ]
    },
    {
     "name": "stderr",
     "output_type": "stream",
     "text": [
      "\r",
      "  9%|▉         | 489/5485 [00:27<04:44, 17.55it/s]"
     ]
    },
    {
     "name": "stdout",
     "output_type": "stream",
     "text": [
      "['bucket' 'tooth' 'bucket_tooth']\n",
      "['bucket' 'tooth' 'bucket_tooth']\n",
      "['bucket' 'tooth' 'bucket_tooth']\n",
      "['bucket']\n"
     ]
    },
    {
     "name": "stderr",
     "output_type": "stream",
     "text": [
      "  9%|▉         | 495/5485 [00:28<04:44, 17.56it/s]"
     ]
    },
    {
     "name": "stdout",
     "output_type": "stream",
     "text": [
      "['bucket' 'tooth' 'bucket_tooth']\n",
      "['bucket' 'grease' 'line' 'grease_line' 'line_bucket']\n",
      "['bucket' 'tooth' 'bucket_tooth']\n",
      "['bucket' 'tooth' 'keeper' 'bucket_tooth' 'tooth_keeper']\n"
     ]
    },
    {
     "name": "stderr",
     "output_type": "stream",
     "text": [
      "\r",
      "  9%|▉         | 498/5485 [00:28<04:43, 17.56it/s]"
     ]
    },
    {
     "name": "stdout",
     "output_type": "stream",
     "text": [
      "['bucket' 'shroud' 'welding' 'plate' 'retainer' 'retainer plate'\n",
      " 'bucket shroud' 'plate bucket' 'welding retainer']\n",
      "['bucket' 'tooth' 'bucket_tooth']\n",
      "['bucket' 'grease' 'line' 'grease_line' 'line_bucket']\n",
      "['bucket' 'grease' 'line' 'grease_line' 'line_bucket']\n"
     ]
    },
    {
     "name": "stderr",
     "output_type": "stream",
     "text": [
      "\r",
      "  9%|▉         | 501/5485 [00:28<04:43, 17.57it/s]"
     ]
    },
    {
     "name": "stdout",
     "output_type": "stream",
     "text": [
      "['bucket']\n",
      "['bucket' 'grease' 'line' 'grease_line' 'line_bucket']\n",
      "['bucket' 'shroud' 'bucket shroud']\n",
      "['bucket' 'tooth' 'bucket_tooth']\n"
     ]
    },
    {
     "name": "stderr",
     "output_type": "stream",
     "text": [
      "  9%|▉         | 507/5485 [00:28<04:43, 17.58it/s]"
     ]
    },
    {
     "name": "stdout",
     "output_type": "stream",
     "text": [
      "['bucket' 'grease']\n",
      "['bucket' 'lube' 'line' 'line_bucket' 'lube_line']\n",
      "['bucket' 'tooth' 'bucket_tooth']\n",
      "['bucket' 'grease' 'line' 'grease_line' 'line_bucket']\n"
     ]
    },
    {
     "name": "stderr",
     "output_type": "stream",
     "text": [
      "  9%|▉         | 511/5485 [00:29<04:43, 17.58it/s]"
     ]
    },
    {
     "name": "stdout",
     "output_type": "stream",
     "text": [
      "['bucket' 'tooth' 'bucket_tooth']\n",
      "['tooth']\n",
      "['bucket' 'left_hand' 'pin' 'left_hand_bucket']\n",
      "['bucket' 'grease' 'line' 'grease_line' 'line_bucket']\n"
     ]
    },
    {
     "name": "stderr",
     "output_type": "stream",
     "text": [
      "  9%|▉         | 515/5485 [00:29<04:42, 17.58it/s]"
     ]
    },
    {
     "name": "stdout",
     "output_type": "stream",
     "text": [
      "['bucket' 'tooth' 'bucket_tooth']\n",
      "['bucket' 'tooth' 'bucket_tooth']\n",
      "['tooth' 'keeper' 'tooth_keeper']\n",
      "['bucket' 'grease' 'line' 'grease_line' 'line_bucket']\n",
      "['bucket' 'shroud' 'wing' 'wing_shroud']\n"
     ]
    },
    {
     "name": "stderr",
     "output_type": "stream",
     "text": [
      "  9%|▉         | 521/5485 [00:30<04:46, 17.33it/s]"
     ]
    },
    {
     "name": "stdout",
     "output_type": "stream",
     "text": [
      "['bucket' 'tooth' 'bucket_tooth']\n",
      "['bucket' 'welding']\n",
      "['bucket' 'pin' 'bolts' 'link' 'bucket_pin' 'link bolts' 'pin link']\n",
      "['bucket' 'tooth' 'bucket_tooth']\n",
      "['tooth' 'outer' 'outer tooth']\n",
      "['bucket' 'tooth' 'bucket_tooth']\n",
      "['bucket' 'tooth' 'bucket_tooth']\n",
      "['bucket' 'shroud' 'wing' 'wing_shroud' 'bucket wing']\n"
     ]
    },
    {
     "name": "stderr",
     "output_type": "stream",
     "text": [
      " 10%|▉         | 529/5485 [00:30<04:43, 17.47it/s]"
     ]
    },
    {
     "name": "stdout",
     "output_type": "stream",
     "text": [
      "['bucket' 'hyd' 'cylinder' 'tube' 'bucket_cylinder' 'tube bucket']\n",
      "['bucket' 'tooth' 'bucket_tooth']\n",
      "['bucket']\n",
      "['bucket' 'lip' 'shroud' 'lip_shroud' 'bucket_lip']\n",
      "['bucket' 'tooth' 'bucket_tooth']\n",
      "['bucket' 'pin' 'bucket_pin']\n",
      "['bucket' 'grease' 'hose' 'accident' 'grease_hose' 'bucket_grease']\n",
      "['bucket' 'tooth' 'bucket_tooth']\n"
     ]
    },
    {
     "name": "stderr",
     "output_type": "stream",
     "text": [
      "\r",
      " 10%|▉         | 533/5485 [00:30<04:42, 17.53it/s]"
     ]
    },
    {
     "name": "stdout",
     "output_type": "stream",
     "text": [
      "['bucket' 'tooth' 'bucket_tooth']\n",
      "['bucket' 'tooth' 'adaptor' 'tooth_adaptor']\n",
      "['bucket' 'tooth' 'bucket_tooth']\n",
      "['bucket' 'package']\n"
     ]
    },
    {
     "name": "stderr",
     "output_type": "stream",
     "text": [
      " 10%|▉         | 540/5485 [00:30<04:41, 17.54it/s]"
     ]
    },
    {
     "name": "stdout",
     "output_type": "stream",
     "text": [
      "['bucket' 'left_hand' 'lip' 'shroud' 'lip_shroud' 'left_hand_bucket'\n",
      " 'bucket_lip']\n",
      "['bucket' 'tooth' 'bucket_tooth']\n",
      "['bucket' 'cylinder' 'bucket_cylinder']\n",
      "['bucket' 'cylinder' 'left' 'bucket_cylinder' 'left bucket']\n"
     ]
    },
    {
     "name": "stderr",
     "output_type": "stream",
     "text": [
      "\r",
      " 10%|▉         | 543/5485 [00:30<04:41, 17.55it/s]"
     ]
    },
    {
     "name": "stdout",
     "output_type": "stream",
     "text": [
      "['bucket' 'tooth' 'bucket_tooth']\n",
      "['bucket' 'grease' 'line' 'grease_line' 'line_bucket']\n",
      "['bucket' 'grease' 'line' 'grease_line' 'line_bucket']\n",
      "['bucket' 'tooth' 'bucket_tooth']\n"
     ]
    },
    {
     "name": "stderr",
     "output_type": "stream",
     "text": [
      "\r",
      " 10%|▉         | 546/5485 [00:31<04:41, 17.55it/s]"
     ]
    },
    {
     "name": "stdout",
     "output_type": "stream",
     "text": [
      "['bucket']\n",
      "['bucket' 'tooth' 'retainer' 'bucket_tooth' 'tooth retainer']\n",
      "['bucket' 'tooth' 'adaptor' 'bucket_tooth' 'tooth_adaptor']\n",
      "['bucket' 'tooth' 'bucket_tooth']\n"
     ]
    },
    {
     "name": "stderr",
     "output_type": "stream",
     "text": [
      " 10%|█         | 552/5485 [00:31<04:41, 17.55it/s]"
     ]
    },
    {
     "name": "stdout",
     "output_type": "stream",
     "text": [
      "['bucket' 'right_hand' 'cylinder' 'bucket_cylinder' 'right_hand_bucket']\n",
      "['tooth' 'right_hand' 'adaptor' 'outer' 'tooth_adaptor' 'outer tooth'\n",
      " 'right_hand outer']\n",
      "['bucket' 'tooth' 'bucket_tooth']\n",
      "['bucket' 'tooth' 'tooth_bucket']\n"
     ]
    },
    {
     "name": "stderr",
     "output_type": "stream",
     "text": [
      " 10%|█         | 556/5485 [00:31<04:40, 17.56it/s]"
     ]
    },
    {
     "name": "stdout",
     "output_type": "stream",
     "text": [
      "['bucket' 'tooth' 'bucket_tooth']\n",
      "['bucket' 'oil' 'cylinder' 'bucket_cylinder']\n",
      "['bucket' 'grease' 'pipe' 'grease_pipe']\n",
      "['tooth' 'right_hand' 'adaptor' 'accident' 'tooth_adaptor'\n",
      " 'right_hand tooth']\n"
     ]
    },
    {
     "name": "stderr",
     "output_type": "stream",
     "text": [
      " 10%|█         | 560/5485 [00:31<04:40, 17.56it/s]"
     ]
    },
    {
     "name": "stdout",
     "output_type": "stream",
     "text": [
      "['bucket' 'tooth' 'adaptor' 'bucket_tooth' 'tooth_adaptor']\n",
      "['bucket' 'cylinder' 'bucket_cylinder']\n",
      "['bucket' 'float' 'bucket_crowd']\n",
      "['bucket' 'right_hand' 'cylinder' 'bucket_cylinder' 'right_hand_bucket']\n",
      "['tooth' 'pin' 'keeper' 'keeper pin' 'pin tooth']\n"
     ]
    },
    {
     "name": "stderr",
     "output_type": "stream",
     "text": [
      " 10%|█         | 566/5485 [00:32<04:43, 17.37it/s]"
     ]
    },
    {
     "name": "stdout",
     "output_type": "stream",
     "text": [
      "['bucket' 'ramp' 'bucket ramp']\n",
      "['bucket']\n",
      "['bucket' 'cylinder' 'warranty' 'bucket_cylinder' 'cylinder warranty']\n",
      "['bucket' 'cylinder' 'pin' 'cap' 'retainer' 'bucket_cylinder'\n",
      " 'pin_retainer' 'cylinder_pin' 'retainer cap']\n",
      "['bucket' 'lip' 'shroud' 'lip_shroud' 'shroud bucket']\n",
      "['bucket' 'tooth' 'bucket_tooth']\n",
      "['bucket' 'right_hand' 'lip' 'shroud' 'lip_shroud' 'right_hand_lip']\n"
     ]
    },
    {
     "name": "stderr",
     "output_type": "stream",
     "text": [
      " 10%|█         | 574/5485 [00:32<04:40, 17.49it/s]"
     ]
    },
    {
     "name": "stdout",
     "output_type": "stream",
     "text": [
      "['bucket' 'bush' 'bucket bush']\n",
      "['bucket' 'adaptor' 'bucket adaptor']\n",
      "['bucket' 'grease' 'line' 'grease_line' 'line_bucket']\n",
      "['bucket' 'lube' 'line' 'line_bucket' 'lube_line']\n",
      "['bucket' 'welding' 'spare' 'spare_bucket']\n",
      "['bucket' 'tooth' 'bucket_tooth']\n",
      "['tooth' 'welding' 'plate' 'keeper' 'keeper plate' 'tooth welding'\n",
      " 'welding keeper']\n",
      "['bucket' 'tooth' 'left_hand' 'bucket_tooth']\n"
     ]
    },
    {
     "name": "stderr",
     "output_type": "stream",
     "text": [
      " 11%|█         | 581/5485 [00:33<04:39, 17.55it/s]"
     ]
    },
    {
     "name": "stdout",
     "output_type": "stream",
     "text": [
      "['bucket' 'hose' 'cylinder' 'bucket_cylinder' 'cylinder_hose']\n",
      "['bucket' 'tooth' 'bucket_tooth']\n",
      "['bucket' 'tooth' 'bucket_tooth']\n",
      "['tooth']\n"
     ]
    },
    {
     "name": "stderr",
     "output_type": "stream",
     "text": [
      "\r",
      " 11%|█         | 584/5485 [00:33<04:39, 17.55it/s]"
     ]
    },
    {
     "name": "stdout",
     "output_type": "stream",
     "text": [
      "['bucket']\n",
      "['bucket' 'right_hand' 'wing' 'right_hand_bucket' 'bucket wing']\n",
      "['bucket' 'tooth' 'bucket_tooth']\n",
      "['tooth' 'guard' 'corner' 'corner tooth']\n"
     ]
    },
    {
     "name": "stderr",
     "output_type": "stream",
     "text": [
      "\r",
      " 11%|█         | 587/5485 [00:33<04:39, 17.55it/s]"
     ]
    },
    {
     "name": "stdout",
     "output_type": "stream",
     "text": [
      "['bucket' 'pin' 'bucket_pin']\n",
      "['shd' 'mining' 'mining_shd']\n",
      "['bucket' 'right_hand' 'left_hand' 'cylinder' 'bucket_cylinder'\n",
      " 'left_hand_right_hand' 'cylinder left_hand']\n",
      "['bucket']\n"
     ]
    },
    {
     "name": "stderr",
     "output_type": "stream",
     "text": [
      " 11%|█         | 593/5485 [00:33<04:38, 17.56it/s]"
     ]
    },
    {
     "name": "stdout",
     "output_type": "stream",
     "text": [
      "['bucket' 'tooth' 'bucket_tooth']\n",
      "['bucket']\n",
      "['bucket' 'grease' 'line' 'grease_line' 'line_bucket']\n",
      "['bucket' 'shroud' 'wing' 'wing_shroud' 'bucket wing']\n"
     ]
    },
    {
     "name": "stderr",
     "output_type": "stream",
     "text": [
      "\r",
      " 11%|█         | 596/5485 [00:33<04:38, 17.57it/s]"
     ]
    },
    {
     "name": "stdout",
     "output_type": "stream",
     "text": [
      "['tooth']\n",
      "['bucket' 'grease']\n",
      "['bucket' 'pipe' 'bucket_crowd']\n",
      "['bucket' 'guard']\n"
     ]
    },
    {
     "name": "stderr",
     "output_type": "stream",
     "text": [
      " 11%|█         | 600/5485 [00:34<04:38, 17.57it/s]"
     ]
    },
    {
     "name": "stdout",
     "output_type": "stream",
     "text": [
      "['right_hand' 'lip' 'second' 'right_hand_lip' 'second right_hand']\n",
      "['bucket']\n",
      "['bucket' 'right_hand' 'cylinder' 'bucket_cylinder' 'right_hand_bucket']\n",
      "['bucket' 'cylinder' 'bucket_cylinder' 'cylinder bucket']\n"
     ]
    },
    {
     "name": "stderr",
     "output_type": "stream",
     "text": [
      " 11%|█         | 604/5485 [00:34<04:37, 17.58it/s]"
     ]
    },
    {
     "name": "stdout",
     "output_type": "stream",
     "text": [
      "['bucket' 'tooth' 'bucket_tooth']\n",
      "['bucket' 'grease' 'line' 'grease_line' 'line_bucket']\n",
      "['shd' 'mining' 'mining_shd']\n"
     ]
    },
    {
     "name": "stderr",
     "output_type": "stream",
     "text": [
      " 11%|█         | 610/5485 [00:35<04:40, 17.40it/s]"
     ]
    },
    {
     "name": "stdout",
     "output_type": "stream",
     "text": [
      "['hyd']\n",
      "['bucket' 'grease' 'line' 'grease_line' 'line_bucket']\n",
      "['bucket' 'tooth' 'bucket_tooth']\n",
      "['bucket' 'grease' 'line' 'grease_line' 'line_bucket']\n",
      "['bucket' 'grease' 'line' 'grease_line' 'line_bucket']\n",
      "['bucket' 'grease' 'line' 'grease_line' 'line_bucket']\n",
      "['bucket' 'hose' 'hyd' 'cylinder' 'hyd_hose' 'bucket_cylinder']\n",
      "['bucket' 'tooth' 'bucket_tooth']\n"
     ]
    },
    {
     "name": "stderr",
     "output_type": "stream",
     "text": [
      " 11%|█▏        | 618/5485 [00:35<04:37, 17.52it/s]"
     ]
    },
    {
     "name": "stdout",
     "output_type": "stream",
     "text": [
      "['bucket' 'oil' 'tooth' 'drive' 'bucket_tooth' 'tooth oil']\n",
      "['pump' 'right_hand' 'box' 'gear' 'right_hand_pump' 'gear_box' 'pump_gear']\n",
      "['bucket' 'grease' 'line' 'grease_line' 'bucket_grease']\n",
      "['bucket' 'tooth' 'bucket_tooth']\n",
      "['bucket' 'tooth' 'bucket_tooth']\n",
      "['bucket' 'tooth' 'bucket_tooth']\n",
      "['bucket' 'link' 'plate' 'retainer' 'retainer plate' 'plate link'\n",
      " 'link bucket']\n",
      "['bucket' 'tooth' 'bucket_tooth']\n"
     ]
    },
    {
     "name": "stderr",
     "output_type": "stream",
     "text": [
      "\r",
      " 11%|█▏        | 622/5485 [00:35<04:36, 17.56it/s]"
     ]
    },
    {
     "name": "stdout",
     "output_type": "stream",
     "text": [
      "['bucket' 'shd' 'mech' 'bucket_shd']\n",
      "['bucket' 'tooth' 'bucket_tooth']\n",
      "['bucket' 'tooth' 'bucket_tooth']\n",
      "['bucket' 'tooth' 'bucket_tooth']\n"
     ]
    },
    {
     "name": "stderr",
     "output_type": "stream",
     "text": [
      " 11%|█▏        | 628/5485 [00:35<04:36, 17.58it/s]"
     ]
    },
    {
     "name": "stdout",
     "output_type": "stream",
     "text": [
      "['bucket' 'grease' 'line' 'grease_line' 'line_bucket']\n",
      "['bucket' 'lube' 'bucket_lube']\n",
      "['bucket' 'tooth' 'bucket_tooth']\n",
      "['bucket']\n"
     ]
    },
    {
     "name": "stderr",
     "output_type": "stream",
     "text": [
      "\r",
      " 12%|█▏        | 631/5485 [00:35<04:36, 17.58it/s]"
     ]
    },
    {
     "name": "stdout",
     "output_type": "stream",
     "text": [
      "['engine']\n",
      "['engine']\n",
      "['engine']\n",
      "['oil' 'engine' 'right_hand' 'pressure' 'right_hand_engine' 'engine_oil'\n",
      " 'oil_pressure']\n"
     ]
    },
    {
     "name": "stderr",
     "output_type": "stream",
     "text": [
      "\r",
      " 12%|█▏        | 634/5485 [00:36<04:35, 17.58it/s]"
     ]
    },
    {
     "name": "stdout",
     "output_type": "stream",
     "text": [
      "['engine']\n",
      "['engine' 'suppression']\n",
      "['engine' 'right_hand' 'area' 'right_hand_engine']\n",
      "['engine']\n"
     ]
    },
    {
     "name": "stderr",
     "output_type": "stream",
     "text": [
      " 12%|█▏        | 640/5485 [00:36<04:35, 17.59it/s]"
     ]
    },
    {
     "name": "stdout",
     "output_type": "stream",
     "text": [
      "['engine']\n",
      "['engine']\n",
      "['engine' 'revs' 'engine revs']\n",
      "['engine' 'revs' 'engine revs']\n"
     ]
    },
    {
     "name": "stderr",
     "output_type": "stream",
     "text": [
      " 12%|█▏        | 644/5485 [00:36<04:35, 17.60it/s]"
     ]
    },
    {
     "name": "stdout",
     "output_type": "stream",
     "text": [
      "['engine' 'solenoid']\n",
      "['oil' 'engine']\n",
      "['engine']\n",
      "['engine' 'right_hand' 'water' 'scope' 'right_hand_engine' 'scope water']\n"
     ]
    },
    {
     "name": "stderr",
     "output_type": "stream",
     "text": [
      " 12%|█▏        | 648/5485 [00:36<04:34, 17.60it/s]"
     ]
    },
    {
     "name": "stdout",
     "output_type": "stream",
     "text": [
      "['engine' 'left_hand' 'head' 'left_hand_engine']\n",
      "['engine' 'scope' 'engine_temperature' 'scope engine']\n",
      "['sender' 'unit' 'heating' 'sender unit']\n",
      "['engine']\n",
      "['engine' 'text']\n"
     ]
    },
    {
     "name": "stderr",
     "output_type": "stream",
     "text": [
      " 12%|█▏        | 654/5485 [00:37<04:37, 17.38it/s]"
     ]
    },
    {
     "name": "stdout",
     "output_type": "stream",
     "text": [
      "['engine' 'right_hand' 'water' 'right_hand_engine' 'engine_water']\n",
      "['engine' 'water']\n",
      "['engine' 'scope']\n",
      "['engine' 'hand' 'right' 'hand_engine']\n",
      "['engine' 'hand' 'hand_engine']\n",
      "['engine' 'water' 'manifold' 'engine manifold']\n",
      "['engine' 'text']\n"
     ]
    },
    {
     "name": "stderr",
     "output_type": "stream",
     "text": [
      " 12%|█▏        | 662/5485 [00:37<04:35, 17.49it/s]"
     ]
    },
    {
     "name": "stdout",
     "output_type": "stream",
     "text": [
      "['oil' 'engine' 'center' 'upper' 'upper center']\n",
      "['oil' 'engine' 'hose' 'engine_oil' 'oil_hose']\n",
      "['engine']\n",
      "['air']\n",
      "['engine']\n",
      "['engine' 'right_hand' 'right_hand_engine']\n",
      "['engine' 'text']\n",
      "['engine' 'bay' 'engine_bay']\n"
     ]
    },
    {
     "name": "stderr",
     "output_type": "stream",
     "text": [
      "\r",
      " 12%|█▏        | 666/5485 [00:37<04:34, 17.54it/s]"
     ]
    },
    {
     "name": "stdout",
     "output_type": "stream",
     "text": [
      "['engine' 'light']\n",
      "['air']\n",
      "['engine' 'cutting' 'engine cutting']\n",
      "['engine' 'right_hand' 'right_hand_engine']\n",
      "['engine' 'left' 'left_engine']\n"
     ]
    },
    {
     "name": "stderr",
     "output_type": "stream",
     "text": [
      " 12%|█▏        | 673/5485 [00:38<04:34, 17.55it/s]"
     ]
    },
    {
     "name": "stdout",
     "output_type": "stream",
     "text": [
      "['oil' 'engine']\n",
      "['engine' 'air' 'outer' 'engine_air']\n",
      "['engine' 'hose']\n",
      "['engine' 'hose' 'hyd' 'hyd_hose' 'hose_engine']\n"
     ]
    },
    {
     "name": "stderr",
     "output_type": "stream",
     "text": [
      "\r",
      " 12%|█▏        | 676/5485 [00:38<04:33, 17.55it/s]"
     ]
    },
    {
     "name": "stdout",
     "output_type": "stream",
     "text": [
      "['oil' 'engine' 'left_hand' 'light' 'left_hand_engine' 'oil light']\n",
      "['engine']\n",
      "['air']\n",
      "['oil' 'engine' 'right_hand' 'scope' 'press' 'right_hand_engine'\n",
      " 'engine_oil' 'oil press' 'scope right_hand']\n"
     ]
    },
    {
     "name": "stderr",
     "output_type": "stream",
     "text": [
      "\r",
      " 12%|█▏        | 679/5485 [00:38<04:33, 17.55it/s]"
     ]
    },
    {
     "name": "stdout",
     "output_type": "stream",
     "text": [
      "['oil' 'engine' 'engine_oil']\n",
      "['engine']\n",
      "['oil' 'engine' 'right_hand' 'pressure' 'right_hand_engine' 'oil_pressure']\n",
      "['engine']\n"
     ]
    },
    {
     "name": "stderr",
     "output_type": "stream",
     "text": [
      " 12%|█▏        | 685/5485 [00:39<04:33, 17.56it/s]"
     ]
    },
    {
     "name": "stdout",
     "output_type": "stream",
     "text": [
      "['oil' 'engine']\n",
      "['engine' 'light']\n",
      "['air' 'outer' 'outer_air']\n",
      "['engine' 'left_hand' 'left_hand_engine']\n"
     ]
    },
    {
     "name": "stderr",
     "output_type": "stream",
     "text": [
      " 13%|█▎        | 689/5485 [00:39<04:33, 17.56it/s]"
     ]
    },
    {
     "name": "stdout",
     "output_type": "stream",
     "text": [
      "['warranty' 'gas' 'head' 'warranty head']\n",
      "['engine' 'sender' 'engine_temperature']\n",
      "['left' 'hand' 'throttle']\n",
      "['engine' 'air' 'engine_air']\n"
     ]
    },
    {
     "name": "stderr",
     "output_type": "stream",
     "text": [
      " 13%|█▎        | 693/5485 [00:39<04:32, 17.57it/s]"
     ]
    },
    {
     "name": "stdout",
     "output_type": "stream",
     "text": [
      "['engine' 'right_hand']\n",
      "['air']\n",
      "['engine' 'revs']\n",
      "['engine']\n",
      "['engine' 'air' 'inner' 'engine_air' 'inner engine']\n",
      "['engine' 'right_hand' 'right_hand_engine' 'right_hand_right_hand']\n"
     ]
    },
    {
     "name": "stderr",
     "output_type": "stream",
     "text": [
      " 13%|█▎        | 703/5485 [00:40<04:33, 17.47it/s]"
     ]
    },
    {
     "name": "stdout",
     "output_type": "stream",
     "text": [
      "['air']\n",
      "['engine' 'air' 'engine_air']\n",
      "['belt']\n",
      "['engine' 'left_hand' 'light' 'bay' 'left_hand_engine' 'engine_bay'\n",
      " 'bay_light']\n",
      "['oil' 'engine']\n",
      "['engine']\n",
      "['engine']\n",
      "['engine']\n"
     ]
    },
    {
     "name": "stderr",
     "output_type": "stream",
     "text": [
      " 13%|█▎        | 711/5485 [00:40<04:31, 17.57it/s]"
     ]
    },
    {
     "name": "stdout",
     "output_type": "stream",
     "text": [
      "['engine']\n",
      "['engine']\n",
      "['engine']\n",
      "['engine' 'exhaust' 'manifold' 'engine_exhaust' 'exhaust_manifold']\n",
      "['engine']\n",
      "['engine' 'left_hand' 'light' 'water' 'left_hand_engine']\n",
      "['belt' 'supply' 'supply belt']\n",
      "['engine' 'right_hand' 'cutting' 'right_hand_engine' 'engine cutting']\n"
     ]
    },
    {
     "name": "stderr",
     "output_type": "stream",
     "text": [
      "\r",
      " 13%|█▎        | 715/5485 [00:40<04:31, 17.57it/s]"
     ]
    },
    {
     "name": "stdout",
     "output_type": "stream",
     "text": [
      "['engine']\n",
      "['engine' 'right_hand' 'cutting' 'right_hand_engine']\n",
      "['engine']\n"
     ]
    },
    {
     "name": "stderr",
     "output_type": "stream",
     "text": [
      "\r",
      " 13%|█▎        | 718/5485 [00:40<04:31, 17.57it/s]"
     ]
    },
    {
     "name": "stdout",
     "output_type": "stream",
     "text": [
      "['oil' 'engine' 'left_hand' 'left_hand_engine' 'engine_oil']\n",
      "['engine']\n",
      "['engine']\n"
     ]
    },
    {
     "name": "stderr",
     "output_type": "stream",
     "text": [
      " 13%|█▎        | 724/5485 [00:41<04:31, 17.57it/s]"
     ]
    },
    {
     "name": "stdout",
     "output_type": "stream",
     "text": [
      "['engine' 'guard' 'safety' 'safety guard' 'engine safety']\n",
      "['engine']\n",
      "['engine']\n",
      "['oil' 'engine' 'cooler' 'water' 'engine_oil' 'oil_cooler']\n"
     ]
    },
    {
     "name": "stderr",
     "output_type": "stream",
     "text": [
      "\r",
      " 13%|█▎        | 727/5485 [00:41<04:30, 17.57it/s]"
     ]
    },
    {
     "name": "stdout",
     "output_type": "stream",
     "text": [
      "['engine' 'safety' 'room' 'engine room']\n",
      "['oil' 'engine' 'right_hand' 'right_hand_engine']\n",
      "['engine' 'text']\n",
      "['oil' 'engine' 'hyd' 'bay' 'hyd_oil' 'engine_bay']\n"
     ]
    },
    {
     "name": "stderr",
     "output_type": "stream",
     "text": [
      " 13%|█▎        | 731/5485 [00:41<04:30, 17.57it/s]"
     ]
    },
    {
     "name": "stdout",
     "output_type": "stream",
     "text": [
      "['engine' 'water' 'engine_water']\n",
      "['engine' 'exhaust']\n",
      "['belt' 'guard' 'belt_guard' 'belt belt']\n",
      "['engine' 'left' 'left_engine']\n"
     ]
    },
    {
     "name": "stderr",
     "output_type": "stream",
     "text": [
      " 13%|█▎        | 735/5485 [00:41<04:30, 17.57it/s]"
     ]
    },
    {
     "name": "stdout",
     "output_type": "stream",
     "text": [
      "['engine' 'right' 'right engine']\n",
      "['engine' 'water' 'engine_water']\n",
      "['oil' 'centrifugal']\n",
      "['oil' 'engine' 'engine_oil']\n"
     ]
    },
    {
     "name": "stderr",
     "output_type": "stream",
     "text": [
      " 13%|█▎        | 739/5485 [00:42<04:30, 17.57it/s]"
     ]
    },
    {
     "name": "stdout",
     "output_type": "stream",
     "text": [
      "['engine' 'right_hand' 'right_hand_engine']\n",
      "['oil' 'engine' 'engine_oil']\n",
      "['engine' 'right_hand' 'tube' 'dipstick' 'right_hand_engine'\n",
      " 'dipstick_tube' 'tube right_hand']\n",
      "['engine' 'right_hand' 'light' 'right_hand_engine' 'light right_hand']\n"
     ]
    },
    {
     "name": "stderr",
     "output_type": "stream",
     "text": [
      " 14%|█▎        | 745/5485 [00:42<04:33, 17.33it/s]"
     ]
    },
    {
     "name": "stdout",
     "output_type": "stream",
     "text": [
      "['oil' 'engine' 'left_hand' 'press' 'left_hand_engine' 'engine_oil'\n",
      " 'oil press' 'press left_hand']\n",
      "['engine' 'right_hand' 'right_hand_engine']\n",
      "['engine']\n",
      "['engine' 'light']\n",
      "['air' 'outer' 'outer_air']\n",
      "['oil' 'engine' 'left_hand' 'left_hand_engine']\n",
      "['oil' 'engine' 'pressure' 'engine_oil' 'oil_pressure']\n",
      "['engine' 'left' 'left_engine']\n"
     ]
    },
    {
     "name": "stderr",
     "output_type": "stream",
     "text": [
      " 14%|█▎        | 753/5485 [00:43<04:31, 17.42it/s]"
     ]
    },
    {
     "name": "stdout",
     "output_type": "stream",
     "text": [
      "['oil' 'engine' 'pressure' 'engine_oil' 'oil_pressure']\n",
      "['engine' 'shd' 'labor']\n",
      "['oil' 'engine' 'right_hand' 'right_hand_engine' 'oil right_hand']\n",
      "['oil' 'engine']\n",
      "['engine' 'left_hand' 'left_hand_engine']\n",
      "['engine' 'left_hand' 'left_hand_engine']\n",
      "['oil' 'engine' 'hose' 'hose_engine']\n",
      "['engine']\n"
     ]
    },
    {
     "name": "stderr",
     "output_type": "stream",
     "text": [
      " 14%|█▍        | 760/5485 [00:43<04:30, 17.47it/s]"
     ]
    },
    {
     "name": "stdout",
     "output_type": "stream",
     "text": [
      "['engine' 'left' 'hand' 'hand_engine']\n",
      "['oil' 'engine' 'left' 'hand' 'engine_oil' 'hand_engine']\n",
      "['oil' 'engine']\n"
     ]
    },
    {
     "name": "stderr",
     "output_type": "stream",
     "text": [
      "\r",
      " 14%|█▍        | 763/5485 [00:43<04:30, 17.47it/s]"
     ]
    },
    {
     "name": "stdout",
     "output_type": "stream",
     "text": [
      "['engine' 'text']\n",
      "['engine' 'hand' 'right' 'hand_engine']\n",
      "['oil' 'engine' 'engine_oil']\n",
      "['oil' 'engine' 'right_hand' 'right_hand_engine' 'engine_oil']\n"
     ]
    },
    {
     "name": "stderr",
     "output_type": "stream",
     "text": [
      "\r",
      " 14%|█▍        | 766/5485 [00:43<04:30, 17.47it/s]"
     ]
    },
    {
     "name": "stdout",
     "output_type": "stream",
     "text": [
      "['engine']\n",
      "['engine' 'air' 'outer' 'wing' 'outer_air' 'engine outer']\n",
      "['engine' 'right_hand' 'exhaust' 'deflector' 'right_hand_engine'\n",
      " 'engine_exhaust' 'exhaust_deflector']\n",
      "['air' 'outer' 'outer_air']\n"
     ]
    },
    {
     "name": "stderr",
     "output_type": "stream",
     "text": [
      " 14%|█▍        | 772/5485 [00:44<04:29, 17.48it/s]"
     ]
    },
    {
     "name": "stdout",
     "output_type": "stream",
     "text": [
      "['oil' 'engine' 'left_hand' 'left_hand_engine' 'engine_oil']\n",
      "['engine']\n",
      "['oil' 'engine' 'reserve' 'engine_oil' 'oil_reserve']\n",
      "['engine' 'light']\n"
     ]
    },
    {
     "name": "stderr",
     "output_type": "stream",
     "text": [
      "\r",
      " 14%|█▍        | 775/5485 [00:44<04:29, 17.48it/s]"
     ]
    },
    {
     "name": "stdout",
     "output_type": "stream",
     "text": [
      "['oil' 'engine' 'engine_oil']\n",
      "['engine']\n",
      "['engine']\n",
      "['engine' 'light']\n"
     ]
    },
    {
     "name": "stderr",
     "output_type": "stream",
     "text": [
      " 14%|█▍        | 779/5485 [00:44<04:29, 17.48it/s]"
     ]
    },
    {
     "name": "stdout",
     "output_type": "stream",
     "text": [
      "['oil' 'engine']\n",
      "['engine' 'shd' 'cummins' 'cummins_engine']\n",
      "['engine' 'shd' 'cummins' 'cummins_engine']\n",
      "['engine']\n"
     ]
    },
    {
     "name": "stderr",
     "output_type": "stream",
     "text": [
      " 14%|█▍        | 783/5485 [00:44<04:28, 17.49it/s]"
     ]
    },
    {
     "name": "stdout",
     "output_type": "stream",
     "text": [
      "['oil' 'engine' 'engine_oil']\n",
      "['engine' 'shd' 'cummins' '06' 'cummins shd' 'shd engine']\n",
      "['engine' 'heating' 'engine heating']\n"
     ]
    },
    {
     "name": "stderr",
     "output_type": "stream",
     "text": [
      " 14%|█▍        | 789/5485 [00:45<04:30, 17.35it/s]"
     ]
    },
    {
     "name": "stdout",
     "output_type": "stream",
     "text": [
      "['oil' 'engine' 'left_hand' 'turbo' 'left_hand_engine' 'turbo left_hand']\n",
      "['oil' 'engine' 'left_hand' 'cooler' 'water' 'left_hand_engine'\n",
      " 'oil_cooler' 'cooler left_hand']\n",
      "['oil' 'engine' 'right_hand' 'pressure' 'sender' 'right_hand_engine'\n",
      " 'engine_oil' 'oil_pressure' 'pressure_sender']\n",
      "['oil' 'engine' 'left_hand' 'pressure' 'sender' 'left_hand_engine'\n",
      " 'engine_oil' 'oil_pressure' 'pressure_sender']\n",
      "['oil' 'engine' 'scope' 'scope oil']\n",
      "['engine' 'left_hand' 'left_hand_engine']\n",
      "['engine' 'shd' 'exhaust' 'deflector' 'engine_exhaust' 'exhaust_deflector']\n",
      "['engine' 'hand' 'right' 'hand_engine']\n"
     ]
    },
    {
     "name": "stderr",
     "output_type": "stream",
     "text": [
      " 15%|█▍        | 797/5485 [00:45<04:28, 17.44it/s]"
     ]
    },
    {
     "name": "stdout",
     "output_type": "stream",
     "text": [
      "['engine']\n",
      "['shd']\n",
      "['engine']\n",
      "['engine']\n",
      "['engine' 'left_hand' 'left_hand_engine']\n",
      "['engine']\n",
      "['engine']\n",
      "['engine' 'right_hand' 'shd' 'auto' 'right_hand_engine' 'engine auto']\n"
     ]
    },
    {
     "name": "stderr",
     "output_type": "stream",
     "text": [
      "\r",
      " 15%|█▍        | 801/5485 [00:45<04:28, 17.47it/s]"
     ]
    },
    {
     "name": "stdout",
     "output_type": "stream",
     "text": [
      "['engine']\n",
      "['engine' 'shd']\n",
      "['engine' 'scope' 'heating' 'engine heating' 'scope engine']\n",
      "['engine' 'exhaust' 'engine_exhaust']\n"
     ]
    },
    {
     "name": "stderr",
     "output_type": "stream",
     "text": [
      " 15%|█▍        | 807/5485 [00:46<04:27, 17.48it/s]"
     ]
    },
    {
     "name": "stdout",
     "output_type": "stream",
     "text": [
      "['engine' 'right_hand' 'light' 'bay' 'right_hand_engine' 'engine_bay'\n",
      " 'bay_light']\n",
      "['machine']\n",
      "['engine']\n",
      "['oil' 'engine' 'engine_oil']\n"
     ]
    },
    {
     "name": "stderr",
     "output_type": "stream",
     "text": [
      "\r",
      " 15%|█▍        | 810/5485 [00:46<04:27, 17.48it/s]"
     ]
    },
    {
     "name": "stdout",
     "output_type": "stream",
     "text": [
      "['engine' 'right_hand' 'hyd' 'motor' 'cooler' 'right_hand_engine'\n",
      " 'engine_cooler' 'cooler hyd']\n",
      "['engine']\n",
      "['engine' 'line' 'left_hand' 'left_hand_engine' 'line_left_hand']\n",
      "['engine' 'right_hand' 'cooler' 'right_hand_engine' 'engine_cooler']\n"
     ]
    },
    {
     "name": "stderr",
     "output_type": "stream",
     "text": [
      "\r",
      " 15%|█▍        | 813/5485 [00:46<04:27, 17.48it/s]"
     ]
    },
    {
     "name": "stdout",
     "output_type": "stream",
     "text": [
      "['oil' 'engine' 'left_hand' 'left_hand_engine' 'engine_oil']\n",
      "['engine' 'pump' 'left_hand' 'fan' 'adaptor' 'left_hand_engine' 'fan_pump'\n",
      " 'pump adaptor' 'adaptor left_hand']\n",
      "['engine']\n",
      "['oil' 'engine' 'slew' 'engine slew' 'slew oil']\n"
     ]
    },
    {
     "name": "stderr",
     "output_type": "stream",
     "text": [
      " 15%|█▍        | 818/5485 [00:46<04:26, 17.49it/s]"
     ]
    },
    {
     "name": "stdout",
     "output_type": "stream",
     "text": [
      "['engine' 'shd' 'hyd' 'area' 'engine area' 'area shd']\n",
      "['engine']\n",
      "['oil' 'engine' 'hand' 'right' 'engine_oil' 'hand_engine']\n"
     ]
    },
    {
     "name": "stderr",
     "output_type": "stream",
     "text": [
      " 15%|█▍        | 822/5485 [00:47<04:26, 17.49it/s]"
     ]
    },
    {
     "name": "stdout",
     "output_type": "stream",
     "text": [
      "['oil' 'engine' 'engine_oil']\n",
      "['engine' 'exhaust' 'engine_exhaust']\n",
      "['oil' 'engine']\n",
      "['engine' 'left' 'exhaust' 'engine_exhaust' 'left_engine']\n"
     ]
    },
    {
     "name": "stderr",
     "output_type": "stream",
     "text": [
      " 15%|█▌        | 826/5485 [00:47<04:26, 17.49it/s]"
     ]
    },
    {
     "name": "stdout",
     "output_type": "stream",
     "text": [
      "['machine']\n",
      "['engine' 'left' 'exhaust' 'engine_exhaust' 'left_engine']\n",
      "['engine']\n",
      "['engine' 'right_hand' 'right_hand_engine']\n"
     ]
    },
    {
     "name": "stderr",
     "output_type": "stream",
     "text": [
      "\r",
      " 15%|█▌        | 828/5485 [00:47<04:26, 17.49it/s]"
     ]
    },
    {
     "name": "stdout",
     "output_type": "stream",
     "text": [
      "['engine' 'right_hand' 'right_hand_engine']\n"
     ]
    },
    {
     "name": "stderr",
     "output_type": "stream",
     "text": [
      " 15%|█▌        | 834/5485 [00:48<04:27, 17.36it/s]"
     ]
    },
    {
     "name": "stdout",
     "output_type": "stream",
     "text": [
      "['engine']\n",
      "['oil' 'engine' 'reserve' 'pp' 'engine_oil' 'oil_reserve' 'reserve pp']\n",
      "['engine' 'right_hand' 'machine' 'plug' 'right_hand_engine' 'engine plug'\n",
      " 'plug machine']\n",
      "['engine' 'right_hand' 'right_hand_engine']\n",
      "['oil' 'engine' 'right_hand' 'area' 'right_hand_engine' 'engine area']\n",
      "['engine' 'left_hand' 'sender' 'engine_temperature']\n",
      "['engine' 'right_hand' 'right_hand_engine']\n",
      "['shd' 'shovel']\n"
     ]
    },
    {
     "name": "stderr",
     "output_type": "stream",
     "text": [
      " 15%|█▌        | 842/5485 [00:48<04:26, 17.44it/s]"
     ]
    },
    {
     "name": "stdout",
     "output_type": "stream",
     "text": [
      "['oil' 'engine' 'left_hand' 'warranty' 'left_hand_engine' 'warranty oil']\n",
      "['engine']\n",
      "['machine' 'operator']\n",
      "['engine' 'left_hand' 'slew' 'machine' 'left_hand_engine' 'machine slew'\n",
      " 'slew left_hand']\n",
      "['engine' 'right_hand' 'warranty' 'right_hand_engine'\n",
      " 'warranty right_hand']\n",
      "['engine' 'muffler' 'engine muffler']\n",
      "['engine']\n",
      "['oil' 'engine' 'left_hand' 'shd' 'left_hand_engine' 'engine_oil']\n"
     ]
    },
    {
     "name": "stderr",
     "output_type": "stream",
     "text": [
      " 15%|█▌        | 848/5485 [00:48<04:25, 17.47it/s]"
     ]
    },
    {
     "name": "stdout",
     "output_type": "stream",
     "text": [
      "['engine' 'left_hand' 'left_hand_engine' 'engine_temperature']\n",
      "['centrifugal' 'gasket' 'spinner' 'centrifugal spinner' 'spinner gasket']\n",
      "['oil' 'engine' 'hose' 'engine_oil' 'oil_hose']\n"
     ]
    },
    {
     "name": "stderr",
     "output_type": "stream",
     "text": [
      "\r",
      " 16%|█▌        | 851/5485 [00:48<04:25, 17.47it/s]"
     ]
    },
    {
     "name": "stdout",
     "output_type": "stream",
     "text": [
      "['engine' 'shd' 'left' 'hand' 'hand_engine']\n",
      "['engine' 'left_hand' 'left_hand_engine']\n",
      "['engine']\n",
      "['engine']\n"
     ]
    },
    {
     "name": "stderr",
     "output_type": "stream",
     "text": [
      "\r",
      " 16%|█▌        | 854/5485 [00:48<04:25, 17.47it/s]"
     ]
    },
    {
     "name": "stdout",
     "output_type": "stream",
     "text": [
      "['engine' 'left_hand' 'water' 'left_hand_engine' 'engine_water']\n",
      "['engine']\n",
      "['engine']\n",
      "['air']\n"
     ]
    },
    {
     "name": "stderr",
     "output_type": "stream",
     "text": [
      " 16%|█▌        | 860/5485 [00:49<04:24, 17.48it/s]"
     ]
    },
    {
     "name": "stdout",
     "output_type": "stream",
     "text": [
      "['air']\n",
      "['oil' 'engine' 'left_hand' 'cooler' 'cummins' 'left_hand_engine'\n",
      " 'engine_oil' 'oil_cooler']\n",
      "['oil' 'engine' 'left_hand' 'drive' 'accessory' 'left_hand_engine'\n",
      " 'accessory drive' 'engine accessory']\n",
      "['engine' 'right_hand' 'drive' 'cw' 'accessory' 'right_hand_engine'\n",
      " 'accessory drive' 'engine cw' 'drive right_hand']\n"
     ]
    },
    {
     "name": "stderr",
     "output_type": "stream",
     "text": [
      "\r",
      " 16%|█▌        | 863/5485 [00:49<04:24, 17.48it/s]"
     ]
    },
    {
     "name": "stdout",
     "output_type": "stream",
     "text": [
      "['engine']\n",
      "['engine' 'right_hand' 'warranty' 'gear' 'timing' 'right_hand_engine'\n",
      " 'engine warranty' 'timing gear']\n",
      "['engine' 'left_hand' 'left_hand_engine']\n",
      "['engine' 'left_hand' 'left_hand_engine']\n"
     ]
    },
    {
     "name": "stderr",
     "output_type": "stream",
     "text": [
      " 16%|█▌        | 867/5485 [00:49<04:24, 17.49it/s]"
     ]
    },
    {
     "name": "stdout",
     "output_type": "stream",
     "text": [
      "['pipe' 'centrifugal']\n",
      "['ramp']\n",
      "['engine' 'right_hand' 'centrifugal' 'right_hand_engine'\n",
      " 'engine_centrifugal']\n",
      "['engine' 'cummins']\n"
     ]
    },
    {
     "name": "stderr",
     "output_type": "stream",
     "text": [
      " 16%|█▌        | 871/5485 [00:49<04:23, 17.49it/s]"
     ]
    },
    {
     "name": "stdout",
     "output_type": "stream",
     "text": [
      "['air']\n",
      "['engine' 'left_hand' 'drive' 'shaft' 'left_hand_engine' 'drive shaft']\n",
      "['engine' 'light']\n"
     ]
    },
    {
     "name": "stderr",
     "output_type": "stream",
     "text": [
      " 16%|█▌        | 877/5485 [00:50<04:25, 17.36it/s]"
     ]
    },
    {
     "name": "stdout",
     "output_type": "stream",
     "text": [
      "['hose' 'centrifugal' 'centrifugal hose']\n",
      "['engine']\n",
      "['engine' 'left_hand' 'left_hand_engine']\n",
      "['right_hand' 'drive' 'warranty' 'accessory' 'accessory drive'\n",
      " 'right_hand accessory' 'drive warranty']\n",
      "['oil' 'engine' 'right_hand' 'light' 'right_hand_engine' 'engine_oil'\n",
      " 'oil light']\n",
      "['engine']\n",
      "['engine' 'left_hand' 'water' 'engine_water']\n",
      "['engine' 'left_hand' 'light' 'left_hand_engine']\n"
     ]
    },
    {
     "name": "stderr",
     "output_type": "stream",
     "text": [
      " 16%|█▌        | 885/5485 [00:50<04:23, 17.44it/s]"
     ]
    },
    {
     "name": "stdout",
     "output_type": "stream",
     "text": [
      "['engine']\n",
      "['engine' 'right_hand' 'light' 'right_hand_engine']\n",
      "['engine' 'right_hand' '08' 'right_hand_engine']\n",
      "['warranty' 'intake']\n",
      "['engine']\n",
      "['engine' 'accident']\n",
      "['engine' 'light']\n",
      "['engine' 'right_hand' 'water' 'right_hand_engine' 'engine_water']\n"
     ]
    },
    {
     "name": "stderr",
     "output_type": "stream",
     "text": [
      "\r",
      " 16%|█▌        | 889/5485 [00:50<04:23, 17.47it/s]"
     ]
    },
    {
     "name": "stdout",
     "output_type": "stream",
     "text": [
      "['engine' 'light' 'cummins' 'cummins_engine']\n",
      "['centrifugal']\n",
      "['engine' 'right_hand' 'right_hand_engine']\n",
      "['engine' 'harness' 'cummins' 'cummins_engine' 'engine harness']\n"
     ]
    },
    {
     "name": "stderr",
     "output_type": "stream",
     "text": [
      " 16%|█▋        | 895/5485 [00:51<04:22, 17.47it/s]"
     ]
    },
    {
     "name": "stdout",
     "output_type": "stream",
     "text": [
      "['engine' 'left_hand' 'left_hand_engine']\n",
      "['engine']\n",
      "['engine' 'left_hand' 'left_hand_engine']\n",
      "['engine' 'drive' 'coupling' 'drive_coupling']\n"
     ]
    },
    {
     "name": "stderr",
     "output_type": "stream",
     "text": [
      "\r",
      " 16%|█▋        | 898/5485 [00:51<04:22, 17.48it/s]"
     ]
    },
    {
     "name": "stdout",
     "output_type": "stream",
     "text": [
      "['engine' 'hour']\n",
      "['air' 'outer' 'outer_air']\n",
      "['engine' 'engine_temperature']\n",
      "['oil' 'engine' 'centrifugal' 'engine_oil' 'oil centrifugal']\n"
     ]
    },
    {
     "name": "stderr",
     "output_type": "stream",
     "text": [
      "\r",
      " 16%|█▋        | 901/5485 [00:51<04:22, 17.48it/s]"
     ]
    },
    {
     "name": "stdout",
     "output_type": "stream",
     "text": [
      "['machine']\n",
      "['oil' 'engine']\n",
      "['oil' 'engine' 'right_hand' 'right_hand_engine' 'engine_oil']\n",
      "['oil' 'engine' 'pressure' 'light' 'engine_oil' 'oil_pressure'\n",
      " 'pressure light']\n"
     ]
    },
    {
     "name": "stderr",
     "output_type": "stream",
     "text": [
      " 17%|█▋        | 907/5485 [00:51<04:21, 17.48it/s]"
     ]
    },
    {
     "name": "stdout",
     "output_type": "stream",
     "text": [
      "['engine' 'hose' 'hose_engine']\n",
      "['oil' 'engine']\n",
      "['oil' 'engine' 'shd']\n",
      "['engine' 'hose' 'right_hand' 'right_hand_engine' 'hose right_hand']\n"
     ]
    },
    {
     "name": "stderr",
     "output_type": "stream",
     "text": [
      " 17%|█▋        | 911/5485 [00:52<04:21, 17.49it/s]"
     ]
    },
    {
     "name": "stdout",
     "output_type": "stream",
     "text": [
      "['engine']\n",
      "['engine']\n"
     ]
    },
    {
     "name": "stderr",
     "output_type": "stream",
     "text": [
      " 17%|█▋        | 915/5485 [00:52<04:21, 17.49it/s]"
     ]
    },
    {
     "name": "stdout",
     "output_type": "stream",
     "text": [
      "['battery']\n",
      "['battery']\n"
     ]
    },
    {
     "name": "stderr",
     "output_type": "stream",
     "text": [
      " 17%|█▋        | 925/5485 [00:53<04:21, 17.41it/s]"
     ]
    },
    {
     "name": "stdout",
     "output_type": "stream",
     "text": [
      "['battery']\n",
      "['starter' 'wire' 'starter wire']\n",
      "['battery']\n",
      "['battery']\n"
     ]
    },
    {
     "name": "stderr",
     "output_type": "stream",
     "text": [
      " 17%|█▋        | 933/5485 [00:53<04:20, 17.48it/s]"
     ]
    },
    {
     "name": "stdout",
     "output_type": "stream",
     "text": [
      "['motor' 'starter' 'starter_motor']\n",
      "['engine' 'right_hand' 'right_hand_engine']\n",
      "['machine']\n",
      "['machine']\n",
      "['machine']\n"
     ]
    },
    {
     "name": "stderr",
     "output_type": "stream",
     "text": [
      " 17%|█▋        | 939/5485 [00:53<04:19, 17.49it/s]"
     ]
    },
    {
     "name": "stdout",
     "output_type": "stream",
     "text": [
      "['engine']\n",
      "['battery']\n"
     ]
    },
    {
     "name": "stderr",
     "output_type": "stream",
     "text": [
      "\r",
      " 17%|█▋        | 942/5485 [00:53<04:19, 17.49it/s]"
     ]
    },
    {
     "name": "stdout",
     "output_type": "stream",
     "text": [
      "['engine']\n",
      "['machine']\n",
      "['battery']\n",
      "['engine']\n"
     ]
    },
    {
     "name": "stderr",
     "output_type": "stream",
     "text": [
      " 17%|█▋        | 948/5485 [00:54<04:19, 17.50it/s]"
     ]
    },
    {
     "name": "stdout",
     "output_type": "stream",
     "text": [
      "['engine']\n",
      "['engine' 'left' 'hand' 'hand_engine']\n"
     ]
    },
    {
     "name": "stderr",
     "output_type": "stream",
     "text": [
      "\r",
      " 17%|█▋        | 951/5485 [00:54<04:19, 17.50it/s]"
     ]
    },
    {
     "name": "stdout",
     "output_type": "stream",
     "text": [
      "['engine' 'cab' 'switch' 'switch cab']\n",
      "['engine']\n",
      "['engine' 'hand' 'right' 'hand_engine']\n",
      "['engine' 'left' 'hand' 'hand_engine']\n"
     ]
    },
    {
     "name": "stderr",
     "output_type": "stream",
     "text": [
      " 17%|█▋        | 955/5485 [00:54<04:18, 17.50it/s]"
     ]
    },
    {
     "name": "stdout",
     "output_type": "stream",
     "text": [
      "['engine' 'right_hand' 'motor' 'starter' 'right_hand_engine'\n",
      " 'starter_motor' 'engine_starter']\n",
      "['machine']\n",
      "['engine' 'history']\n"
     ]
    },
    {
     "name": "stderr",
     "output_type": "stream",
     "text": [
      " 17%|█▋        | 959/5485 [00:54<04:18, 17.50it/s]"
     ]
    },
    {
     "name": "stdout",
     "output_type": "stream",
     "text": [
      "['engine' 'right_hand' 'right_hand_engine']\n",
      "['engine' 'hand' 'hand_engine']\n",
      "['engine']\n"
     ]
    },
    {
     "name": "stderr",
     "output_type": "stream",
     "text": [
      " 18%|█▊        | 965/5485 [00:55<04:19, 17.39it/s]"
     ]
    },
    {
     "name": "stdout",
     "output_type": "stream",
     "text": [
      "['engine']\n",
      "['engine' 'belt']\n",
      "['battery']\n",
      "['shovel']\n",
      "['engine']\n",
      "['engine']\n",
      "['engine' 'right_hand' 'right_hand_engine']\n"
     ]
    },
    {
     "name": "stderr",
     "output_type": "stream",
     "text": [
      " 18%|█▊        | 973/5485 [00:55<04:18, 17.47it/s]"
     ]
    },
    {
     "name": "stdout",
     "output_type": "stream",
     "text": [
      "['engine']\n",
      "['engine' 'right_hand' 'right_hand_engine']\n",
      "['engine']\n",
      "['engine']\n",
      "['engine']\n",
      "['engine']\n"
     ]
    },
    {
     "name": "stderr",
     "output_type": "stream",
     "text": [
      "\r",
      " 18%|█▊        | 977/5485 [00:55<04:17, 17.49it/s]"
     ]
    },
    {
     "name": "stdout",
     "output_type": "stream",
     "text": [
      "['engine' 'starter']\n",
      "['engine']\n",
      "['engine']\n",
      "['engine']\n"
     ]
    },
    {
     "name": "stderr",
     "output_type": "stream",
     "text": [
      " 18%|█▊        | 983/5485 [00:56<04:17, 17.50it/s]"
     ]
    },
    {
     "name": "stdout",
     "output_type": "stream",
     "text": [
      "['engine' 'right_hand' 'right_hand_engine']\n",
      "['engine']\n",
      "['engine' 'left_hand' 'left_hand_engine']\n",
      "['water' 'battery' 'water battery']\n"
     ]
    },
    {
     "name": "stderr",
     "output_type": "stream",
     "text": [
      "\r",
      " 18%|█▊        | 986/5485 [00:56<04:17, 17.50it/s]"
     ]
    },
    {
     "name": "stdout",
     "output_type": "stream",
     "text": [
      "['engine']\n",
      "['engine']\n",
      "['engine']\n"
     ]
    },
    {
     "name": "stderr",
     "output_type": "stream",
     "text": [
      "\r",
      " 18%|█▊        | 989/5485 [00:56<04:16, 17.50it/s]"
     ]
    },
    {
     "name": "stdout",
     "output_type": "stream",
     "text": [
      "['engine' 'left_hand' 'motor' 'starter' 'left_hand_engine' 'starter_motor'\n",
      " 'engine_starter']\n",
      "['engine' 'right_hand' 'battery' 'right_hand_engine' 'engine battery']\n",
      "['engine' 'motor' 'starter' 'starter_motor']\n",
      "['machine']\n"
     ]
    },
    {
     "name": "stderr",
     "output_type": "stream",
     "text": [
      " 18%|█▊        | 994/5485 [00:56<04:16, 17.50it/s]"
     ]
    },
    {
     "name": "stdout",
     "output_type": "stream",
     "text": [
      "['engine' 'battery']\n",
      "['engine']\n"
     ]
    },
    {
     "name": "stderr",
     "output_type": "stream",
     "text": [
      " 18%|█▊        | 998/5485 [00:57<04:16, 17.50it/s]"
     ]
    },
    {
     "name": "stdout",
     "output_type": "stream",
     "text": [
      "['engine' 'lube' 'right_hand' 'starter' 'right_hand_engine' 'lube starter']\n",
      "['engine' 'left' 'left_engine']\n",
      "['engine']\n"
     ]
    },
    {
     "name": "stderr",
     "output_type": "stream",
     "text": [
      " 18%|█▊        | 1002/5485 [00:57<04:16, 17.51it/s]"
     ]
    },
    {
     "name": "stdout",
     "output_type": "stream",
     "text": [
      "['engine']\n",
      "['engine']\n",
      "['engine' 'left_hand' 'left_hand_engine']\n"
     ]
    },
    {
     "name": "stderr",
     "output_type": "stream",
     "text": [
      " 18%|█▊        | 1010/5485 [00:58<04:17, 17.39it/s]"
     ]
    },
    {
     "name": "stdout",
     "output_type": "stream",
     "text": [
      "['engine']\n",
      "['engine']\n",
      "['engine']\n",
      "['engine' 'right_hand' 'right_hand_engine']\n",
      "['engine' 'right_hand' 'right_hand_engine']\n",
      "['engine' 'hand' 'hand_engine']\n"
     ]
    },
    {
     "name": "stderr",
     "output_type": "stream",
     "text": [
      " 19%|█▊        | 1018/5485 [00:58<04:15, 17.47it/s]"
     ]
    },
    {
     "name": "stdout",
     "output_type": "stream",
     "text": [
      "['engine' 'belt']\n",
      "['machine']\n",
      "['engine']\n",
      "['light' 'left' 'operator' 'left light']\n",
      "['shd']\n"
     ]
    },
    {
     "name": "stderr",
     "output_type": "stream",
     "text": [
      " 19%|█▊        | 1025/5485 [00:58<04:14, 17.50it/s]"
     ]
    },
    {
     "name": "stdout",
     "output_type": "stream",
     "text": [
      "['shovel']\n",
      "['machine']\n"
     ]
    },
    {
     "name": "stderr",
     "output_type": "stream",
     "text": [
      "\r",
      " 19%|█▊        | 1028/5485 [00:58<04:14, 17.50it/s]"
     ]
    },
    {
     "name": "stdout",
     "output_type": "stream",
     "text": [
      "['battery']\n",
      "['shovel']\n"
     ]
    },
    {
     "name": "stderr",
     "output_type": "stream",
     "text": [
      " 19%|█▉        | 1034/5485 [00:59<04:14, 17.51it/s]"
     ]
    },
    {
     "name": "stdout",
     "output_type": "stream",
     "text": [
      "['shovel']\n",
      "['machine']\n",
      "['machine']\n",
      "['machine']\n"
     ]
    },
    {
     "name": "stderr",
     "output_type": "stream",
     "text": [
      "\r",
      " 19%|█▉        | 1037/5485 [00:59<04:14, 17.51it/s]"
     ]
    },
    {
     "name": "stdout",
     "output_type": "stream",
     "text": [
      "['machine' 'battery']\n",
      "['wire']\n",
      "['engine' 'belt' 'alternator' 'belt_engine' 'alternator belt']\n",
      "['machine']\n"
     ]
    },
    {
     "name": "stderr",
     "output_type": "stream",
     "text": [
      " 19%|█▉        | 1042/5485 [00:59<04:13, 17.51it/s]"
     ]
    },
    {
     "name": "stdout",
     "output_type": "stream",
     "text": [
      "['machine']\n",
      "['engine' 'alternator' 'engine alternator']\n",
      "['engine']\n",
      "['shd']\n"
     ]
    },
    {
     "name": "stderr",
     "output_type": "stream",
     "text": [
      " 19%|█▉        | 1046/5485 [00:59<04:13, 17.51it/s]"
     ]
    },
    {
     "name": "stdout",
     "output_type": "stream",
     "text": [
      "['engine']\n",
      "['engine' 'alternator' 'alternator engine']\n",
      "['engine' 'left_hand' 'shd' 'left_hand_engine']\n",
      "['engine']\n"
     ]
    },
    {
     "name": "stderr",
     "output_type": "stream",
     "text": [
      "\r",
      " 19%|█▉        | 1048/5485 [00:59<04:13, 17.51it/s]"
     ]
    },
    {
     "name": "stdout",
     "output_type": "stream",
     "text": [
      "['engine']\n",
      "['engine']\n"
     ]
    },
    {
     "name": "stderr",
     "output_type": "stream",
     "text": [
      " 19%|█▉        | 1054/5485 [01:00<04:14, 17.40it/s]"
     ]
    },
    {
     "name": "stdout",
     "output_type": "stream",
     "text": [
      "['engine']\n",
      "['engine' 'left_hand' 'shd' 'left_hand_engine' 'engine shd']\n",
      "['engine' 'left_hand' 'shd' 'left_hand_engine']\n",
      "['engine' 'right_hand' 'shd' 'starter' 'right_hand_engine'\n",
      " 'engine_starter' 'starter shd']\n",
      "['engine']\n",
      "['engine' 'left_hand' 'motor' 'starter' 'left_hand_engine' 'starter_motor'\n",
      " 'engine_starter']\n",
      "['engine' 'shd' 'starter' 'solenoid' 'engine_starter' 'starter solenoid']\n"
     ]
    },
    {
     "name": "stderr",
     "output_type": "stream",
     "text": [
      " 19%|█▉        | 1062/5485 [01:00<04:13, 17.46it/s]"
     ]
    },
    {
     "name": "stdout",
     "output_type": "stream",
     "text": [
      "['engine' 'right_hand' 'shd' 'motor' 'starter' 'right_hand_engine'\n",
      " 'starter_motor' 'engine_starter' 'motor shd']\n",
      "['engine']\n",
      "['engine']\n",
      "['engine']\n"
     ]
    },
    {
     "name": "stderr",
     "output_type": "stream",
     "text": [
      "\r",
      " 19%|█▉        | 1066/5485 [01:00<04:12, 17.49it/s]"
     ]
    },
    {
     "name": "stdout",
     "output_type": "stream",
     "text": [
      "['engine']\n",
      "['shd' 'machine' 'machine shd']\n",
      "['engine']\n"
     ]
    },
    {
     "name": "stderr",
     "output_type": "stream",
     "text": [
      " 20%|█▉        | 1072/5485 [01:01<04:12, 17.49it/s]"
     ]
    },
    {
     "name": "stdout",
     "output_type": "stream",
     "text": [
      "['engine' 'right_hand' 'right_hand_engine']\n",
      "['engine' 'right_hand' 'right_hand_engine']\n",
      "['engine' 'shd']\n",
      "['engine']\n"
     ]
    },
    {
     "name": "stderr",
     "output_type": "stream",
     "text": [
      "\r",
      " 20%|█▉        | 1075/5485 [01:01<04:12, 17.49it/s]"
     ]
    },
    {
     "name": "stdout",
     "output_type": "stream",
     "text": [
      "['engine' 'shd']\n",
      "['engine']\n",
      "['machine']\n",
      "['machine' 'battery']\n"
     ]
    },
    {
     "name": "stderr",
     "output_type": "stream",
     "text": [
      " 20%|█▉        | 1081/5485 [01:01<04:11, 17.50it/s]"
     ]
    },
    {
     "name": "stdout",
     "output_type": "stream",
     "text": [
      "['engine']\n",
      "['shd']\n",
      "['engine' 'left_hand' 'left_hand_engine']\n"
     ]
    },
    {
     "name": "stderr",
     "output_type": "stream",
     "text": [
      " 20%|█▉        | 1085/5485 [01:02<04:11, 17.50it/s]"
     ]
    },
    {
     "name": "stdout",
     "output_type": "stream",
     "text": [
      "['engine' 'right_hand' 'shd' 'right_hand_engine']\n",
      "['engine' 'right_hand' 'right_hand_engine']\n",
      "['engine']\n",
      "['engine' 'left_hand' 'light' 'alternator' 'left_hand_engine'\n",
      " 'alternator light' 'light left_hand']\n"
     ]
    },
    {
     "name": "stderr",
     "output_type": "stream",
     "text": [
      " 20%|█▉        | 1089/5485 [01:02<04:11, 17.50it/s]"
     ]
    },
    {
     "name": "stdout",
     "output_type": "stream",
     "text": [
      "['engine' 'left_hand' 'left_hand_engine']\n",
      "['engine']\n",
      "['shd']\n",
      "['engine']\n"
     ]
    },
    {
     "name": "stderr",
     "output_type": "stream",
     "text": [
      " 20%|█▉        | 1093/5485 [01:02<04:11, 17.50it/s]"
     ]
    },
    {
     "name": "stdout",
     "output_type": "stream",
     "text": [
      "['engine' 'right_hand' 'right_hand_engine']\n",
      "['engine']\n",
      "['light' 'alternator' 'alternator light']\n",
      "['engine' 'motor' 'starter' 'wire' 'starter_motor' 'engine_starter']\n"
     ]
    },
    {
     "name": "stderr",
     "output_type": "stream",
     "text": [
      " 20%|██        | 1099/5485 [01:03<04:12, 17.40it/s]"
     ]
    },
    {
     "name": "stdout",
     "output_type": "stream",
     "text": [
      "['engine' 'motor' 'starter' 'starter_motor' 'engine_starter']\n",
      "['engine']\n",
      "['engine' 'left_hand' 'cummins' 'left_hand_engine']\n",
      "['engine' 'cummins']\n",
      "['engine']\n",
      "['engine' 'left_hand' 'left_hand_engine']\n",
      "['engine' 'right_hand' 'motor' 'starter' 'right_hand_engine'\n",
      " 'starter_motor' 'engine_starter']\n",
      "['engine' 'right_hand' 'light' 'alternator' 'right_hand_engine'\n",
      " 'alternator light' 'light right_hand']\n"
     ]
    },
    {
     "name": "stderr",
     "output_type": "stream",
     "text": [
      " 20%|██        | 1107/5485 [01:03<04:10, 17.47it/s]"
     ]
    },
    {
     "name": "stdout",
     "output_type": "stream",
     "text": [
      "['machine']\n",
      "['engine' 'left_hand' 'left_hand_engine']\n",
      "['battery']\n"
     ]
    },
    {
     "name": "stderr",
     "output_type": "stream",
     "text": [
      "\r",
      " 20%|██        | 1111/5485 [01:03<04:10, 17.49it/s]"
     ]
    },
    {
     "name": "stdout",
     "output_type": "stream",
     "text": [
      "['machine']\n",
      "['coolant']\n",
      "['water']\n",
      "['engine' 'right_hand' 'radiator' 'right_hand_engine' 'engine_radiator']\n",
      "['radiator' 'cap' 'radiator_cap']"
     ]
    },
    {
     "name": "stderr",
     "output_type": "stream",
     "text": [
      " 20%|██        | 1117/5485 [01:03<04:09, 17.50it/s]"
     ]
    },
    {
     "name": "stdout",
     "output_type": "stream",
     "text": [
      "\n",
      "['radiator']\n",
      "['engine' 'left_hand' 'radiator' 'left_hand_engine' 'engine_radiator']\n",
      "['radiator' 'cap' 'radiator_cap']\n"
     ]
    },
    {
     "name": "stderr",
     "output_type": "stream",
     "text": [
      "\r",
      " 20%|██        | 1120/5485 [01:03<04:09, 17.50it/s]"
     ]
    },
    {
     "name": "stdout",
     "output_type": "stream",
     "text": [
      "['radiator' 'cap' 'radiator_cap']\n",
      "['hose' 'radiator' 'radiator_hose']\n",
      "['radiator' 'water' 'scope' 'scope radiator' 'radiator water']\n",
      "['radiator']\n"
     ]
    },
    {
     "name": "stderr",
     "output_type": "stream",
     "text": [
      "\r",
      " 20%|██        | 1123/5485 [01:04<04:09, 17.51it/s]"
     ]
    },
    {
     "name": "stdout",
     "output_type": "stream",
     "text": [
      "['cost' '60176281']\n",
      "['radiator' 'cap' 'radiator_cap']\n",
      "['radiator' 'cap' 'operator' 'radiator_cap']\n",
      "['radiator']\n",
      "['radiator']\n"
     ]
    },
    {
     "name": "stderr",
     "output_type": "stream",
     "text": [
      " 21%|██        | 1129/5485 [01:04<04:08, 17.52it/s]"
     ]
    },
    {
     "name": "stdout",
     "output_type": "stream",
     "text": [
      "['hose' 'right_hand' 'radiator' 'radiator_hose' 'right_hand radiator']\n",
      "['oil' 'radiator']\n",
      "['heating']\n",
      "['hand' 'radiator' 'right']\n",
      "['cost' '60176281']\n"
     ]
    },
    {
     "name": "stderr",
     "output_type": "stream",
     "text": [
      " 21%|██        | 1135/5485 [01:04<04:08, 17.53it/s]"
     ]
    },
    {
     "name": "stdout",
     "output_type": "stream",
     "text": [
      "['engine' 'radiator' 'engine_radiator']\n",
      "['engine' 'hose' 'right_hand' 'radiator' 'right_hand_engine'\n",
      " 'radiator_hose' 'engine_radiator']\n",
      "['radiator']\n",
      "['radiator']\n",
      "['radiator']\n",
      "['radiator']\n"
     ]
    },
    {
     "name": "stderr",
     "output_type": "stream",
     "text": [
      " 21%|██        | 1142/5485 [01:05<04:09, 17.44it/s]"
     ]
    },
    {
     "name": "stdout",
     "output_type": "stream",
     "text": [
      "['60176281']\n",
      "['hose' 'radiator' 'radiator_hose']\n",
      "['radiator']\n",
      "['hose' 'right_hand' 'radiator' 'radiator_hose' 'hose right_hand']\n",
      "['left_hand' 'radiator' 'left_hand radiator']\n",
      "['radiator']\n",
      "['fan' 'radiator']\n",
      "['motor' 'fan' 'radiator' 'radiator fan']\n"
     ]
    },
    {
     "name": "stderr",
     "output_type": "stream",
     "text": [
      " 21%|██        | 1150/5485 [01:05<04:07, 17.50it/s]"
     ]
    },
    {
     "name": "stdout",
     "output_type": "stream",
     "text": [
      "['cooler']\n",
      "['engine' 'right_hand' 'radiator' 'cap' 'right_hand_engine'\n",
      " 'engine_radiator' 'radiator_cap']\n",
      "['line' 'tank' 'header' 'header_tank' 'tank line']\n",
      "['engine' 'hose' 'left_hand' 'radiator' 'left_hand_engine' 'radiator_hose'\n",
      " 'engine_radiator']\n",
      "['radiator']\n",
      "['radiator' 'cap' 'radiator_cap']\n",
      "['hose' 'radiator' 'radiator_hose']\n",
      "['hose' 'shd' 'radiator' 'hose_shd' 'radiator_hose']\n"
     ]
    },
    {
     "name": "stderr",
     "output_type": "stream",
     "text": [
      "\r",
      " 21%|██        | 1154/5485 [01:05<04:06, 17.54it/s]"
     ]
    },
    {
     "name": "stdout",
     "output_type": "stream",
     "text": [
      "['hose' 'radiator' 'clamp' 'radiator_hose' 'hose_clamp']\n",
      "['oil' 'hose' 'left_hand' 'radiator' 'radiator_hose' 'left_hand radiator']\n",
      "['hose' 'left_hand' 'pipe' 'radiator' 'steel' 'radiator_hose' 'steel_pipe'\n",
      " 'left_hand radiator']\n",
      "['tank' 'left' 'header' 'cap' 'header_tank' 'left header' 'tank cap']\n"
     ]
    },
    {
     "name": "stderr",
     "output_type": "stream",
     "text": [
      " 21%|██        | 1161/5485 [01:06<04:06, 17.55it/s]"
     ]
    },
    {
     "name": "stdout",
     "output_type": "stream",
     "text": [
      "['engine' 'hose' 'left_hand' 'coolant' 'radiator' 'left_hand_engine'\n",
      " 'radiator_hose' 'engine_radiator']\n",
      "['hose' 'hyd' 'radiator' 'hyd_hose']\n",
      "['hose' 'radiator' 'water' 'radiator_hose']\n",
      "['radiator']\n"
     ]
    },
    {
     "name": "stderr",
     "output_type": "stream",
     "text": [
      "\r",
      " 21%|██        | 1164/5485 [01:06<04:06, 17.55it/s]"
     ]
    },
    {
     "name": "stdout",
     "output_type": "stream",
     "text": [
      "['engine' 'radiator' 'engine_radiator']\n",
      "['hose' 'radiator' 'radiator_hose']\n",
      "['engine' 'left_hand' 'radiator' 'left_hand_engine' 'radiator left_hand']\n",
      "['pipe' 'radiator' 'radiator pipe']\n"
     ]
    },
    {
     "name": "stderr",
     "output_type": "stream",
     "text": [
      "\r",
      " 21%|██▏       | 1167/5485 [01:06<04:05, 17.56it/s]"
     ]
    },
    {
     "name": "stdout",
     "output_type": "stream",
     "text": [
      "['engine' 'right_hand' 'fan' 'belt' 'right_hand_engine' 'engine_fan'\n",
      " 'fan_belt']\n",
      "['fan' 'turbo']\n",
      "['right_hand' 'fan' 'belt' 'tensioner' 'pulley' 'fan_belt'\n",
      " 'right_hand_fan' 'belt tensioner' 'tensioner pulley']\n",
      "['fan' 'belt' 'fan_belt']\n"
     ]
    },
    {
     "name": "stderr",
     "output_type": "stream",
     "text": [
      " 21%|██▏       | 1173/5485 [01:06<04:05, 17.57it/s]"
     ]
    },
    {
     "name": "stdout",
     "output_type": "stream",
     "text": [
      "['engine' 'fan' 'belt' 'new' 'engine_fan' 'belt_engine']\n",
      "['fan' 'belt' 'fan_belt']\n",
      "['oil' 'fan' 'cooler' 'rear' 'oil_cooler' 'fan rear' 'rear oil']\n",
      "['fan' 'belt' 'fan_belt']\n"
     ]
    },
    {
     "name": "stderr",
     "output_type": "stream",
     "text": [
      "\r",
      " 21%|██▏       | 1176/5485 [01:06<04:05, 17.57it/s]"
     ]
    },
    {
     "name": "stdout",
     "output_type": "stream",
     "text": [
      "['belt']\n",
      "['engine' 'right_hand' 'fan' 'idler' 'assy' 'pulley' 'right_hand_engine'\n",
      " 'engine_fan' 'idler pulley' 'pulley assy' 'fan idler']\n",
      "['fan']\n",
      "['oil' 'fan']\n",
      "['fan' 'cooler' 'rear' 'cooler_fan' 'fan rear']\n"
     ]
    },
    {
     "name": "stderr",
     "output_type": "stream",
     "text": [
      " 22%|██▏       | 1182/5485 [01:07<04:04, 17.58it/s]"
     ]
    },
    {
     "name": "stdout",
     "output_type": "stream",
     "text": [
      "['engine' 'fan' 'belt' 'fan_belt' 'belt_engine']\n",
      "['hose' 'fan' 'text' 'fan hose']\n",
      "['fan' 'belt' 'fan_belt']\n",
      "['right_hand' 'fan' 'belt' 'fan_belt' 'right_hand_fan']\n"
     ]
    },
    {
     "name": "stderr",
     "output_type": "stream",
     "text": [
      " 22%|██▏       | 1189/5485 [01:07<04:05, 17.52it/s]"
     ]
    },
    {
     "name": "stdout",
     "output_type": "stream",
     "text": [
      "['fan' 'belt' 'fan_belt']\n",
      "['fan' 'belt' 'fan_belt']\n",
      "['right_hand' 'motor' 'fan' 'fan_motor' 'right_hand_right_hand'\n",
      " 'right_hand_fan']\n",
      "['fan' 'belt' 'shaft' 'fan_belt']\n",
      "['right_hand' 'left_hand' 'motor' 'fan' 'fan_motor' 'right_hand_left_hand'\n",
      " 'left_hand fan']\n",
      "['engine' 'right_hand' 'fan' 'belt' 'right_hand_engine' 'fan_belt'\n",
      " 'belt right_hand']\n",
      "['fan']\n",
      "['fan' 'speed' 'speed fan']\n",
      "['oil' 'fan' 'cooler' 'oil_cooler' 'cooler_fan']\n"
     ]
    },
    {
     "name": "stderr",
     "output_type": "stream",
     "text": [
      " 22%|██▏       | 1197/5485 [01:08<04:03, 17.58it/s]"
     ]
    },
    {
     "name": "stdout",
     "output_type": "stream",
     "text": [
      "['engine' 'right_hand' 'fan' 'assy' 'right_hand_engine' 'engine_fan']\n",
      "['fan' 'belt' 'fan_belt']\n",
      "['fan' 'belt' 'fan_belt']\n",
      "['fan' 'belt' 'fan_belt']\n",
      "['engine' 'fan' 'belt' 'tensioner' 'engine_fan' 'fan_belt'\n",
      " 'belt tensioner']\n",
      "['fan' 'pulley']\n",
      "['engine' 'fan' 'belt' 'engine_fan' 'fan_belt']\n"
     ]
    },
    {
     "name": "stderr",
     "output_type": "stream",
     "text": [
      "\r",
      " 22%|██▏       | 1201/5485 [01:08<04:03, 17.59it/s]"
     ]
    },
    {
     "name": "stdout",
     "output_type": "stream",
     "text": [
      "['motor' 'fan' 'rf' 'electrical' 'room' 'fan_motor' 'electrical room'\n",
      " 'rf electrical' 'room fan']\n",
      "['fan' 'cooler' 'cooler_fan']\n",
      "['motor' 'fan' 'left' 'fan_motor' 'left fan']\n",
      "['motor' 'fan' 'right' 'fan_motor' 'right fan']\n",
      "['motor' 'fan' 'left' 'fan_motor' 'left fan']\n"
     ]
    },
    {
     "name": "stderr",
     "output_type": "stream",
     "text": [
      " 22%|██▏       | 1207/5485 [01:08<04:03, 17.60it/s]"
     ]
    },
    {
     "name": "stdout",
     "output_type": "stream",
     "text": [
      "['oil' 'engine' 'pump' 'right_hand' 'fan' 'right_hand_engine' 'fan_pump'\n",
      " 'engine_fan']\n",
      "['engine' 'right_hand' 'motor' 'fan' 'right_hand_engine' 'engine_fan'\n",
      " 'fan_motor']\n",
      "['engine' 'pump' 'left_hand' 'fan' 'left_hand_engine' 'fan_pump'\n",
      " 'engine_fan']\n",
      "['engine' 'pump' 'right_hand' 'fan' 'right_hand_engine' 'fan_pump'\n",
      " 'engine_fan']\n"
     ]
    },
    {
     "name": "stderr",
     "output_type": "stream",
     "text": [
      "\r",
      " 22%|██▏       | 1210/5485 [01:08<04:02, 17.60it/s]"
     ]
    },
    {
     "name": "stdout",
     "output_type": "stream",
     "text": [
      "['engine' 'pump' 'left_hand' 'fan' 'left_hand_engine' 'fan_pump'\n",
      " 'engine_fan']\n",
      "['engine' 'pump' 'right_hand' 'fan' 'right_hand_engine' 'fan_pump'\n",
      " 'engine_fan']\n",
      "['engine' 'left_hand' 'motor' 'fan' 'left_hand_engine' 'fan_motor']\n",
      "['motor' 'fan' 'fan_motor']\n"
     ]
    },
    {
     "name": "stderr",
     "output_type": "stream",
     "text": [
      "\r",
      " 22%|██▏       | 1213/5485 [01:08<04:02, 17.61it/s]"
     ]
    },
    {
     "name": "stdout",
     "output_type": "stream",
     "text": [
      "['pump' 'fan' 'fan_pump']\n",
      "['shd' 'motor' 'fan' 'cabinet' 'x15' 'fan_motor' 'cabinet fan'\n",
      " 'x15 cabinet']\n",
      "['engine' 'right_hand' 'fan' 'shaft' 'right_hand_engine']\n",
      "['fan' 'cooler' 'fitting' 'cooler_fan']\n"
     ]
    },
    {
     "name": "stderr",
     "output_type": "stream",
     "text": [
      " 22%|██▏       | 1219/5485 [01:09<04:02, 17.61it/s]"
     ]
    },
    {
     "name": "stdout",
     "output_type": "stream",
     "text": [
      "['fan']\n",
      "['engine' 'right_hand' 'motor' 'fan' 'quote' 'right_hand_engine'\n",
      " 'engine_fan' 'fan_motor']\n",
      "['motor' 'fan' 'pressuriser' 'x1' 'fan_motor' 'pressuriser_fan'\n",
      " 'x1 pressuriser']\n",
      "['motor' 'fan' 'valve' 'fan_motor']\n"
     ]
    },
    {
     "name": "stderr",
     "output_type": "stream",
     "text": [
      " 22%|██▏       | 1223/5485 [01:09<04:01, 17.61it/s]"
     ]
    },
    {
     "name": "stdout",
     "output_type": "stream",
     "text": [
      "['fan']\n",
      "['engine' 'left_hand' 'motor' 'fan' 'left_hand_engine' 'engine_fan'\n",
      " 'fan_motor']\n",
      "['engine' 'pump' 'fan' 'fan_pump' 'engine_fan']\n",
      "['engine' 'right_hand' 'fan' 'valve' 'right_hand_engine' 'engine_fan']\n"
     ]
    },
    {
     "name": "stderr",
     "output_type": "stream",
     "text": [
      "\r",
      " 22%|██▏       | 1225/5485 [01:09<04:01, 17.62it/s]"
     ]
    },
    {
     "name": "stdout",
     "output_type": "stream",
     "text": [
      "['engine' 'pump' 'fan' 'fan_pump' 'engine_fan']\n",
      "['engine' 'fan' 'left' 'engine_fan' 'left_engine']\n"
     ]
    },
    {
     "name": "stderr",
     "output_type": "stream",
     "text": [
      " 22%|██▏       | 1231/5485 [01:10<04:02, 17.54it/s]"
     ]
    },
    {
     "name": "stdout",
     "output_type": "stream",
     "text": [
      "['motor' 'fan' 'cab' 'pressuriser' 'fan_motor' 'cab_pressuriser'\n",
      " 'pressuriser_fan']\n",
      "['right_hand' 'fan' 'belt' 'cover' 'scv' 'fan_belt' 'right_hand_fan'\n",
      " 'belt cover']\n",
      "['pump' 'right_hand' 'fan' 'fitting' 'fan_pump' 'right_hand_fan']\n",
      "['engine' 'motor' 'fan' 'left' 'engine_fan' 'fan_motor']\n",
      "['motor' 'fan' 'joystick' 'fan_motor']\n",
      "['fan' 'rf' 'pressuriser' 'x15' 'pressuriser_fan' 'rf pressuriser']\n",
      "['pump' 'fan' 'aftercooler' 'fan_pump']\n",
      "['pump' 'fan' 'fan_pump']\n"
     ]
    },
    {
     "name": "stderr",
     "output_type": "stream",
     "text": [
      " 23%|██▎       | 1239/5485 [01:10<04:01, 17.60it/s]"
     ]
    },
    {
     "name": "stdout",
     "output_type": "stream",
     "text": [
      "['motor' 'fan' 'fan_motor']\n",
      "['pump' 'fan' 'drive' 'fan drive' 'drive pump']\n",
      "['motor' 'fan' 'drive' 'drive motor' 'fan drive']\n",
      "['pump' 'fan' 'servo' 'servo_pump' 'fan servo']\n",
      "['fuel' 'solenoid' 'fuel_solenoid']\n",
      "['pump' 'swing' 'swing_pump']\n",
      "['pump' 'main_pump']\n",
      "['pump' 'main_pump']\n",
      "['pump' 'left_hand' 'servo' 'servo_pump' 'left_hand_servo']\n"
     ]
    },
    {
     "name": "stderr",
     "output_type": "stream",
     "text": [
      "\r",
      " 23%|██▎       | 1243/5485 [01:10<04:00, 17.63it/s]"
     ]
    },
    {
     "name": "stdout",
     "output_type": "stream",
     "text": [
      "['pump' 'swing' 'swing_pump']\n",
      "['pump' 'hour' 'pump hour']\n",
      "['pump']\n",
      "['engine' 'filter' 'fuel' 'filter_engine' 'fuel filter']\n"
     ]
    },
    {
     "name": "stderr",
     "output_type": "stream",
     "text": [
      " 23%|██▎       | 1250/5485 [01:10<04:00, 17.63it/s]"
     ]
    },
    {
     "name": "stdout",
     "output_type": "stream",
     "text": [
      "['pump' 'right_hand' 'servo' 'seal' 'servo_pump' 'right_hand_servo'\n",
      " 'seal_right_hand']\n",
      "['pump' 'ring']\n",
      "['grease' 'tank' 'bulk' 'grease bulk' 'bulk tank']\n",
      "['pump' 'right_hand' 'p1' 'right_hand_cooling' 'pump p1']\n"
     ]
    },
    {
     "name": "stderr",
     "output_type": "stream",
     "text": [
      "\r",
      " 23%|██▎       | 1253/5485 [01:11<03:59, 17.64it/s]"
     ]
    },
    {
     "name": "stdout",
     "output_type": "stream",
     "text": [
      "['pump' 'fuel' 'elbow' 'fuel_pump' 'elbow fuel']\n",
      "['pump' 'fitting' 'injector']\n",
      "['engine' 'fuel' 'valve' 'engine_fuel']\n",
      "['engine' 'fuel']\n",
      "['pump' 'lube' 'pto' 'lube_pump' 'pto_lube']\n"
     ]
    },
    {
     "name": "stderr",
     "output_type": "stream",
     "text": [
      " 23%|██▎       | 1259/5485 [01:11<03:59, 17.65it/s]"
     ]
    },
    {
     "name": "stdout",
     "output_type": "stream",
     "text": [
      "['pump' 'right_hand' 'seal' 'right_hand_pump' 'pump seal']\n",
      "['engine' 'fuel']\n",
      "['pump' 'right_hand' 'servo' 'servo_pump' 'right_hand_servo']\n",
      "['pump' 'servo' 'cost' 'servo_pump']\n",
      "['line' 'fuel' 'supply' 'supply line']\n"
     ]
    },
    {
     "name": "stderr",
     "output_type": "stream",
     "text": [
      "\r",
      " 23%|██▎       | 1262/5485 [01:11<03:59, 17.65it/s]"
     ]
    },
    {
     "name": "stdout",
     "output_type": "stream",
     "text": [
      "['engine' 'ring' 'coolant' 'tube' 'engine_coolant' 'tube ring']\n",
      "['engine' 'pump' 'right_hand' 'machine' 'bay' 'right_hand_pump' 'pump bay'\n",
      " 'machine right_hand' 'bay engine']\n",
      "['pump' 'right_hand' 'servo' 'servo_pump' 'right_hand_right_hand'\n",
      " 'right_hand_servo']\n",
      "['light']\n"
     ]
    },
    {
     "name": "stderr",
     "output_type": "stream",
     "text": [
      " 23%|██▎       | 1268/5485 [01:11<03:58, 17.66it/s]"
     ]
    },
    {
     "name": "stdout",
     "output_type": "stream",
     "text": [
      "['pump' 'right_hand' 'p2' 'right_hand_cooling' 'pump p2']\n",
      "['coolant']\n",
      "['fitting' 'p2']\n",
      "['point']\n"
     ]
    },
    {
     "name": "stderr",
     "output_type": "stream",
     "text": [
      "\r",
      " 23%|██▎       | 1270/5485 [01:11<03:58, 17.66it/s]"
     ]
    },
    {
     "name": "stdout",
     "output_type": "stream",
     "text": [
      "['pump' 'line' 'fuel' 'fuel_pump' 'fuel_line' 'line fuel']\n",
      "['engine' 'pump' 'lube' 'right_hand' 'pto' 'right_hand_engine' 'lube_pump'\n",
      " 'pump_pto' 'engine lube']\n"
     ]
    },
    {
     "name": "stderr",
     "output_type": "stream",
     "text": [
      " 23%|██▎       | 1276/5485 [01:12<03:59, 17.59it/s]"
     ]
    },
    {
     "name": "stdout",
     "output_type": "stream",
     "text": [
      "['engine' 'right_hand' 'line' 'fuel' 'right_hand_engine' 'engine_fuel'\n",
      " 'fuel_line']\n",
      "['right_hand' 'fuel' 'solenoid' 'wire' 'right_hand_fuel' 'fuel_solenoid'\n",
      " 'wire right_hand']\n",
      "['engine' 'left_hand' 'fuel' 'solenoid' 'left_hand_engine' 'engine_fuel'\n",
      " 'fuel_solenoid']\n",
      "['engine' 'left_hand' 'coolant' 'left_hand_engine' 'engine_coolant']\n",
      "['pump' 'line' 'p4' 'p4 pump']\n",
      "['line' 'fuel' 'fuel_line']\n",
      "['engine' 'pump' 'fuel' 'fuel_pump' 'pump engine']\n",
      "['tank' 'fuel' 'bolts' 'fuel_tank' 'tank bolts']\n"
     ]
    },
    {
     "name": "stderr",
     "output_type": "stream",
     "text": [
      " 23%|██▎       | 1284/5485 [01:12<03:58, 17.65it/s]"
     ]
    },
    {
     "name": "stdout",
     "output_type": "stream",
     "text": [
      "['line' 'fuel' 'fuel_line']\n",
      "['pump' 'right_hand' 'p4' 'main_pump' 'pump p4']\n",
      "['pump' 'right_hand' 'left_hand' 'servo' 'servo_pump'\n",
      " 'right_hand_left_hand' 'left_hand_servo']\n",
      "['pump' 'right_hand' 'p1' 'main_pump' 'pump p1']\n",
      "['tank' 'fuel' 'fuel_tank']\n",
      "['pump' 'fuel' 'fuel_pump']\n",
      "['pump' 'right_hand' 'left_hand' 'drive' 'pump_drive'\n",
      " 'right_hand_left_hand' 'left_hand_pump']\n",
      "['pump' 'right_hand' 'p2' 'main_pump' 'pump p2']\n"
     ]
    },
    {
     "name": "stderr",
     "output_type": "stream",
     "text": [
      "\r",
      " 23%|██▎       | 1288/5485 [01:12<03:57, 17.67it/s]"
     ]
    },
    {
     "name": "stdout",
     "output_type": "stream",
     "text": [
      "['pump' 'right_hand' 'p1' 'right_hand_cooling' 'pump p1']\n",
      "['tank' 'fuel' 'fuel_tank']\n",
      "['engine' 'fuel']\n",
      "['tank' 'fuel' 'tank fuel']\n"
     ]
    },
    {
     "name": "stderr",
     "output_type": "stream",
     "text": [
      " 24%|██▎       | 1294/5485 [01:13<03:57, 17.67it/s]"
     ]
    },
    {
     "name": "stdout",
     "output_type": "stream",
     "text": [
      "['tank' 'fuel' 'fuel_tank']\n",
      "['engine' 'right_hand' 'coolant' 'right_hand_engine']\n",
      "['engine' 'left_hand' 'fuel' 'solenoid' 'left_hand_engine' 'engine_fuel'\n",
      " 'fuel_solenoid']\n"
     ]
    },
    {
     "name": "stderr",
     "output_type": "stream",
     "text": [
      "\r",
      " 24%|██▎       | 1297/5485 [01:13<03:56, 17.68it/s]"
     ]
    },
    {
     "name": "stdout",
     "output_type": "stream",
     "text": [
      "['pump' 'right_hand' 'p3' 'main_pump' 'pump p3']\n",
      "['pump' 'ring' 'ring pump']\n",
      "['pipe' 'tank' 'fuel' 'suction' 'fuel_tank' 'suction pipe' 'tank suction']\n",
      "['pump' 'pressure' 'drive' 'gear' 'pump_drive' 'gear pressure'\n",
      " 'drive gear']\n",
      "['pump' 'pressure' 'gearbox' 'low_pressure' 'pump_gearbox']\n"
     ]
    },
    {
     "name": "stderr",
     "output_type": "stream",
     "text": [
      " 24%|██▍       | 1303/5485 [01:13<03:56, 17.69it/s]"
     ]
    },
    {
     "name": "stdout",
     "output_type": "stream",
     "text": [
      "['fuel' 'left' 'hand' 'injector' 'fuel_injector']\n",
      "['pump' 'left' 'hand' 'water' 'water_pump' 'hand water']\n",
      "['fuel' 'right' 'injector' 'fuel_injector' 'right fuel']\n",
      "['pump' 'hand' 'right' 'water' 'water_pump' 'hand water']\n",
      "['left_hand' 'tank' 'coolant' 'header' 'header_tank' 'left_hand header']\n"
     ]
    },
    {
     "name": "stderr",
     "output_type": "stream",
     "text": [
      " 24%|██▍       | 1309/5485 [01:13<03:55, 17.70it/s]"
     ]
    },
    {
     "name": "stdout",
     "output_type": "stream",
     "text": [
      "['pump' 'right_hand' 'drive' 'gearbox' 'pump_drive' 'right_hand_pump'\n",
      " 'drive_gearbox']\n",
      "['grease' 'pump' 'valve' 'grease_pump' 'pump valve']\n",
      "['pump' 'main_pump']\n",
      "['tank' 'fuel' 'breather' 'fuel_tank' 'tank breather']\n",
      "['grease' 'pump' 'welding' 'grease_pump']\n"
     ]
    },
    {
     "name": "stderr",
     "output_type": "stream",
     "text": [
      "\r",
      " 24%|██▍       | 1312/5485 [01:14<03:55, 17.70it/s]"
     ]
    },
    {
     "name": "stdout",
     "output_type": "stream",
     "text": [
      "['pump' 'left' 'servo' 'hand' 'servo_pump' 'hand servo']\n",
      "['pump' 'servo' 'hand' 'right' 'servo_pump' 'hand servo']\n",
      "['tank' 'coolant' 'header' 'header_tank']\n",
      "['pump' 'lube' 'solenoid' 'lube_pump' 'pump solenoid']\n",
      "['grease' 'pump' 'grease_pump']\n"
     ]
    },
    {
     "name": "stderr",
     "output_type": "stream",
     "text": [
      " 24%|██▍       | 1319/5485 [01:14<03:56, 17.62it/s]"
     ]
    },
    {
     "name": "stdout",
     "output_type": "stream",
     "text": [
      "['right_hand' 'tank' 'fuel' 'sender' 'fuel_tank' 'tank sender']\n",
      "['left_hand' 'fuel' 'injector' 'work_order' 'fuel_injector'\n",
      " 'left_hand fuel' 'injector work_order']\n",
      "['fuel' 'injector' 'work_order' 'fuel_injector' 'injector work_order']\n",
      "['pump' 'right_hand' 'water' 'work_order' 'water_pump' 'right_hand water'\n",
      " 'pump work_order']\n",
      "['grease' 'pump' 'fitting' 'pump fitting']\n",
      "['grease' 'pump' 'grease_pump']\n",
      "['pump' 'pressure' 'gear' 'pump_gear' 'gear pressure']\n",
      "['pump' 'left_hand' 'pressure' 'drive' 'pump_drive' 'low_pressure'\n",
      " 'left_hand_pump']\n",
      "['fuel' 'system' 'station' 'fuel station']\n"
     ]
    },
    {
     "name": "stderr",
     "output_type": "stream",
     "text": [
      " 24%|██▍       | 1331/5485 [01:15<03:54, 17.71it/s]"
     ]
    },
    {
     "name": "stdout",
     "output_type": "stream",
     "text": [
      "['pump' 'right_hand' 'pressure' 'gearbox' 'right_hand_pump' 'pump_gearbox'\n",
      " 'gearbox pressure']\n",
      "['pump' 'main_pump']\n",
      "['pump' 'left' 'gearcase' 'pump gearcase' 'left pump']\n",
      "['pump' 'pressure' 'gear' 'pump_gear' 'gear pressure']\n",
      "['pump' 'light' 'no' 'main_pump']\n",
      "['pump' 'lube' 'left_hand' 'pto' 'lube_pump' 'pump_pto' 'left_hand lube']\n",
      "['pump' 'light']\n",
      "['pump' 'indicator']\n"
     ]
    },
    {
     "name": "stderr",
     "output_type": "stream",
     "text": [
      "\r",
      " 24%|██▍       | 1335/5485 [01:15<03:54, 17.71it/s]"
     ]
    },
    {
     "name": "stdout",
     "output_type": "stream",
     "text": [
      "['pump' 'light']\n",
      "['grease' 'pump']\n",
      "['pump' 'left' 'hand' 'water' 'water_pump' 'hand water']\n",
      "['pump' 'sections' 'main_pump']\n"
     ]
    },
    {
     "name": "stderr",
     "output_type": "stream",
     "text": [
      "\r",
      " 24%|██▍       | 1338/5485 [01:15<03:54, 17.72it/s]"
     ]
    },
    {
     "name": "stdout",
     "output_type": "stream",
     "text": [
      "['pump' 'lube' 'pto' 'lube_pump' 'pump_pto']\n",
      "['pump' 'left' 'gearcase' 'pump gearcase' 'left pump']\n",
      "['pump' 'right' 'gearcase' 'pump gearcase' 'right pump']\n",
      "['fuel' 'left' 'injector' 'fuel_injector' 'left fuel']\n",
      "['pump' 'left' 'servo' 'servo_pump' 'left servo']\n"
     ]
    },
    {
     "name": "stderr",
     "output_type": "stream",
     "text": [
      " 25%|██▍       | 1344/5485 [01:15<03:53, 17.73it/s]"
     ]
    },
    {
     "name": "stdout",
     "output_type": "stream",
     "text": [
      "['pump' 'servo' 'right' 'servo_pump' 'right servo']\n",
      "['pump' 'hand' 'right' 'water' 'water_pump' 'hand water']\n",
      "['fuel' 'right' 'injector' 'fuel_injector' 'right fuel']\n",
      "['pump' 'pto' 'pto_pump']\n"
     ]
    },
    {
     "name": "stderr",
     "output_type": "stream",
     "text": [
      "\r",
      " 25%|██▍       | 1347/5485 [01:15<03:53, 17.73it/s]"
     ]
    },
    {
     "name": "stdout",
     "output_type": "stream",
     "text": [
      "['pump' 'lube' 'pressure' 'gearbox' 'lube_pressure' 'gearbox pump'\n",
      " 'pump lube']\n",
      "['pump' 'box' 'gear' 'gear_box' 'pump_gear']\n",
      "['pump' 'right_hand' 'pressure' 'gear' 'right_hand_pump' 'pump_gear'\n",
      " 'gear pressure']\n",
      "['pump' 'lube' 'pto' 'servo' 'lube_pump' 'pto_lube' 'servo pto']\n"
     ]
    },
    {
     "name": "stderr",
     "output_type": "stream",
     "text": [
      "\r",
      " 25%|██▍       | 1350/5485 [01:16<03:53, 17.73it/s]"
     ]
    },
    {
     "name": "stdout",
     "output_type": "stream",
     "text": [
      "['fuel']\n",
      "['pump' 'drive' 'box' 'pump_drive' 'drive_box']\n",
      "['pump' 'no' 'sections' 'main_pump']\n",
      "['line' 'fuel']\n"
     ]
    },
    {
     "name": "stderr",
     "output_type": "stream",
     "text": [
      " 25%|██▍       | 1356/5485 [01:16<03:52, 17.74it/s]"
     ]
    },
    {
     "name": "stdout",
     "output_type": "stream",
     "text": [
      "['grease' 'pump' 'grease_pump']\n",
      "['pump' 'right_hand' 'gear' 'press' 'right_hand_pump' 'pump_gear']\n",
      "['grease' 'pump' 'pot' 'grease_pump']\n",
      "['pump' 'lube' 'box' 'pump_box' 'box lube']\n",
      "['fuel' 'sos' 'sos fuel']\n",
      "['pump' 'hour' 'no' 'main_pump']\n"
     ]
    },
    {
     "name": "stderr",
     "output_type": "stream",
     "text": [
      " 25%|██▍       | 1363/5485 [01:17<03:53, 17.66it/s]"
     ]
    },
    {
     "name": "stdout",
     "output_type": "stream",
     "text": [
      "['fuel' 'solenoid' 'fuel_solenoid']\n",
      "['engine' 'pump']\n",
      "['pipe' 'fuel' 'flow']\n",
      "['pump' 'spline' 'cavity' 'bottle' 'spline_cavity' 'pump spline'\n",
      " 'cavity bottle']\n",
      "['pump' 'drive' 'reservoir' 'pump_drive' 'drive reservoir']\n",
      "['engine' 'filter' 'fuel' 'filter_engine' 'fuel filter']\n",
      "['pump' 'left_hand' 'door' 'bay' 'latch' 'door_latch' 'bay_door'\n",
      " 'left_hand_pump' 'latch left_hand' 'pump bay']\n",
      "['engine' 'text' 'coolant' 'coolant text']\n"
     ]
    },
    {
     "name": "stderr",
     "output_type": "stream",
     "text": [
      " 25%|██▍       | 1371/5485 [01:17<03:52, 17.72it/s]"
     ]
    },
    {
     "name": "stdout",
     "output_type": "stream",
     "text": [
      "['wire' 'leg']\n",
      "['pump' 'drive' 'gearbox' 'pump_drive' 'drive_gearbox']\n",
      "['dipstick']\n",
      "['tank' 'fuel' 'fuel_tank']\n",
      "['engine' 'filter' 'fuel' 'filter_engine' 'fuel filter']\n",
      "['tank' 'fuel' 'fitting' 'fuel_tank' 'fitting fuel']\n",
      "['pump' 'fitting' 'swing' 'swing_pump']\n",
      "['pump']\n"
     ]
    },
    {
     "name": "stderr",
     "output_type": "stream",
     "text": [
      " 25%|██▌       | 1380/5485 [01:17<03:51, 17.76it/s]"
     ]
    },
    {
     "name": "stdout",
     "output_type": "stream",
     "text": [
      "['pump']\n",
      "['manifold' 'upper']\n",
      "['pump' 'warranty' 'main_pump' 'pump_warranty']\n",
      "['pump' 'drive' 'box' 'pump_drive' 'drive_box' 'pump pump']\n",
      "['grease' 'pump' 'adaptor' 'supply' 'grease_pump' 'pump adaptor'\n",
      " 'supply grease']\n"
     ]
    },
    {
     "name": "stderr",
     "output_type": "stream",
     "text": [
      "\r",
      " 25%|██▌       | 1383/5485 [01:17<03:50, 17.76it/s]"
     ]
    },
    {
     "name": "stdout",
     "output_type": "stream",
     "text": [
      "['pump' 'water' 'water_pump']\n",
      "['shd' 'travel' '24' 'swing' 'shd_24' 'travel swing']\n",
      "['pump' 'pipe' 'drain' 'case' 'case_drain' 'pump case' 'drain pipe']\n",
      "['pump']\n",
      "['pump' 'warranty' 'p1' 'main_pump' 'pump_warranty']\n"
     ]
    },
    {
     "name": "stderr",
     "output_type": "stream",
     "text": [
      " 25%|██▌       | 1389/5485 [01:18<03:50, 17.77it/s]"
     ]
    },
    {
     "name": "stdout",
     "output_type": "stream",
     "text": [
      "['pump' 'warranty' 'p1' 'main_pump' 'warranty p1']\n",
      "['engine' 'fuel' 'engine_fuel']\n",
      "['pump' 'drive' 'box' 'pump_drive' 'drive_box']\n",
      "['pump' 'main_pump']\n"
     ]
    },
    {
     "name": "stderr",
     "output_type": "stream",
     "text": [
      "\r",
      " 25%|██▌       | 1392/5485 [01:18<03:50, 17.77it/s]"
     ]
    },
    {
     "name": "stdout",
     "output_type": "stream",
     "text": [
      "['pump' 'main_pump']\n",
      "['pump' 'right_hand']\n",
      "['engine' 'coolant']\n",
      "['pump' 'drive' 'gearbox' 'pump_drive' 'drive_gearbox']\n",
      "['coolant']\n"
     ]
    },
    {
     "name": "stderr",
     "output_type": "stream",
     "text": [
      " 25%|██▌       | 1398/5485 [01:18<03:49, 17.78it/s]"
     ]
    },
    {
     "name": "stdout",
     "output_type": "stream",
     "text": [
      "['shd']\n",
      "['pump' 'servo' 'servo_pump']\n",
      "['pump' 'left_hand' 'servo' 'warranty' 'servo_pump' 'left_hand_servo']\n",
      "['pump' 'right_hand' 'servo' 'servo_pump']\n"
     ]
    },
    {
     "name": "stderr",
     "output_type": "stream",
     "text": [
      "\r",
      " 26%|██▌       | 1401/5485 [01:18<03:49, 17.79it/s]"
     ]
    },
    {
     "name": "stdout",
     "output_type": "stream",
     "text": [
      "['line' 'shd' 'coolant' 'line_shd' 'coolant line']\n",
      "['pump' 'p4']\n",
      "['pump' 'left_hand' 'servo' 'servo_pump' 'left_hand_servo']\n",
      "['pump' 'servo' 'servo_pump']\n",
      "['coolant' 'fitting' 'coolant fitting']\n"
     ]
    },
    {
     "name": "stderr",
     "output_type": "stream",
     "text": [
      " 26%|██▌       | 1408/5485 [01:19<03:50, 17.71it/s]"
     ]
    },
    {
     "name": "stdout",
     "output_type": "stream",
     "text": [
      "['engine' 'coolant' 'engine_coolant']\n",
      "['engine' 'left_hand' 'shd' 'coolant' 'left_hand_engine' 'engine shd']\n",
      "['coolant']\n",
      "['coolant']\n",
      "['engine' 'pump' 'fuel']\n",
      "['coolant']\n",
      "['pump' 'cover']\n",
      "['engine' 'fuel' 'cutting' 'engine cutting' 'cutting fuel']\n",
      "['left_hand' 'shd' 'fuel' 'sender' 'left_hand fuel' 'fuel sender'\n",
      " 'sender shd']\n"
     ]
    },
    {
     "name": "stderr",
     "output_type": "stream",
     "text": [
      " 26%|██▌       | 1420/5485 [01:19<03:48, 17.79it/s]"
     ]
    },
    {
     "name": "stdout",
     "output_type": "stream",
     "text": [
      "['pump' 'no' 'main_pump']\n",
      "['pump' 'line' 'suction' 'line pump' 'suction line']\n",
      "['pump' 'lube' 'pto' 'lube_pump' 'pto_lube']\n",
      "['pump' 'warranty' 'p3' 'pump_warranty' 'p3 pump']\n",
      "['pump' 'warranty' 'p4' 'pump_warranty' 'p4 pump']\n",
      "['engine' 'right_hand' 'shd' 'coolant' 'right_hand_engine' 'engine shd']\n",
      "['pump' 'p2' 'main_pump' 'pump p2']\n",
      "['pump' 'lube' 'pto' 'lube_pump' 'pto_lube']\n"
     ]
    },
    {
     "name": "stderr",
     "output_type": "stream",
     "text": [
      "\r",
      " 26%|██▌       | 1424/5485 [01:20<03:48, 17.80it/s]"
     ]
    },
    {
     "name": "stdout",
     "output_type": "stream",
     "text": [
      "['right_hand' 'pressure' 'screen' 'pressure screen']\n",
      "['fuel']\n",
      "['tank' 'fuel' 'left' 'fuel_tank' 'left fuel']\n",
      "['right_hand' 'light' 'coolant' 'right_hand coolant']\n"
     ]
    },
    {
     "name": "stderr",
     "output_type": "stream",
     "text": [
      "\r",
      " 26%|██▌       | 1427/5485 [01:20<03:47, 17.80it/s]"
     ]
    },
    {
     "name": "stdout",
     "output_type": "stream",
     "text": [
      "['shd' 'fuel']\n",
      "['line' 'servo' 'pilot' 'pilot line' 'servo pilot']\n",
      "['fuel' 'sender' 'fuel sender']\n",
      "['fuel' 'coolant' 'fitting' 'fitting fuel' 'coolant fitting']\n"
     ]
    },
    {
     "name": "stderr",
     "output_type": "stream",
     "text": [
      "\r",
      " 26%|██▌       | 1430/5485 [01:20<03:47, 17.80it/s]"
     ]
    },
    {
     "name": "stdout",
     "output_type": "stream",
     "text": [
      "['fuel' 'cover' 'sender' 'fuel sender']\n",
      "['pump' 'light']\n",
      "['tank' 'fuel' 'cover' 'sender' 'fuel_tank' 'tank sender' 'cover fuel']\n",
      "['engine' 'right_hand' 'fuel' 'right_hand_engine' 'engine_fuel']\n"
     ]
    },
    {
     "name": "stderr",
     "output_type": "stream",
     "text": [
      " 26%|██▌       | 1436/5485 [01:20<03:47, 17.81it/s]"
     ]
    },
    {
     "name": "stdout",
     "output_type": "stream",
     "text": [
      "['pump' 'right_hand' 'ros' 'ros_pump' 'pump right_hand']\n",
      "['pump' 'right_hand' 'ros' 'ros_pump' 'right_hand ros']\n",
      "['pump' 'right_hand' 'ros' 'ros_pump' 'right_hand ros']\n",
      "['shd' 'arm' 'button' 'arm shd']\n"
     ]
    },
    {
     "name": "stderr",
     "output_type": "stream",
     "text": [
      "\r",
      " 26%|██▌       | 1439/5485 [01:20<03:47, 17.81it/s]"
     ]
    },
    {
     "name": "stdout",
     "output_type": "stream",
     "text": [
      "['pump' 'right_hand' 'servo' 'servo_pump' 'right_hand_servo']\n",
      "['pump']\n",
      "['pump' 'right_hand' 'swing' 'spline' 'cavity' 'swing_pump'\n",
      " 'spline_cavity' 'pump spline' 'right_hand swing']\n",
      "['pump' 'drive' 'pump_drive']\n",
      "['engine' 'pump' 'right_hand' 'ros' 'right_hand_engine' 'ros_pump'\n",
      " 'engine ros']\n"
     ]
    },
    {
     "name": "stderr",
     "output_type": "stream",
     "text": [
      " 26%|██▋       | 1445/5485 [01:21<03:46, 17.82it/s]"
     ]
    },
    {
     "name": "stdout",
     "output_type": "stream",
     "text": [
      "['engine' 'left_hand' 'coolant' 'left_hand_engine']\n",
      "['engine' 'fuel' 'left' 'left_engine']\n",
      "['engine' 'shd' 'coolant' '24' 'shd_24' '24 coolant']\n",
      "['shd' 'fuel' '24' 'shd_24' '24 fuel']\n",
      "['shd' 'coolant' '24' 'shd_24' '24 coolant']\n",
      "['pump' 'ros' 'ros_pump']\n"
     ]
    },
    {
     "name": "stderr",
     "output_type": "stream",
     "text": [
      " 27%|██▋       | 1456/5485 [01:21<03:46, 17.78it/s]"
     ]
    },
    {
     "name": "stdout",
     "output_type": "stream",
     "text": [
      "['coolant']\n",
      "['coolant']\n",
      "['pump' 'line' 'fuel' 'fuel_line' 'line pump']\n",
      "['pump' 'p1' 'p1 pump']\n",
      "['coolant']\n",
      "['engine' 'shd' 'coolant' '24' 'shd_24' '24 coolant']\n",
      "['pump' 'p1' 'p1 pump']\n",
      "['engine' 'right_hand' 'coolant' 'warranty' 'right_hand_engine'\n",
      " 'engine_coolant' 'warranty right_hand']\n",
      "['pump' 'p1' 'p1 pump']\n"
     ]
    },
    {
     "name": "stderr",
     "output_type": "stream",
     "text": [
      " 27%|██▋       | 1464/5485 [01:22<03:45, 17.83it/s]"
     ]
    },
    {
     "name": "stdout",
     "output_type": "stream",
     "text": [
      "['tank' 'fuel' 'fuel_tank']\n",
      "['pump' 'light']\n",
      "['pump' 'left_hand' 'box' 'cooler' 'fitting' 'pump_box' 'left_hand_pump'\n",
      " 'box cooler' 'cooler fitting']\n",
      "['coolant']\n",
      "['engine' 'pump' 'right_hand' 'water' 'right_hand_engine' 'water_pump'\n",
      " 'engine_water']\n",
      "['pump' 'box' 'cooler' 'pump_box' 'box cooler']\n",
      "['pump' 'hour' 'p4' 'p4 pump']\n",
      "['pump' 'right' 'main_pump' 'pump right']\n"
     ]
    },
    {
     "name": "stderr",
     "output_type": "stream",
     "text": [
      "\r",
      " 27%|██▋       | 1468/5485 [01:22<03:45, 17.83it/s]"
     ]
    },
    {
     "name": "stdout",
     "output_type": "stream",
     "text": [
      "['pump']\n",
      "['left_hand' 'tank' 'fuel' 'fuel_tank']\n",
      "['pump' 'right_hand' 'shd' 'gear' 'right_hand_pump' 'pump_gear']\n",
      "['engine' 'left_hand' 'fuel' 'water' 'left_hand_engine']\n",
      "['pump' 'main_pump']\n"
     ]
    },
    {
     "name": "stderr",
     "output_type": "stream",
     "text": [
      " 27%|██▋       | 1474/5485 [01:22<03:44, 17.84it/s]"
     ]
    },
    {
     "name": "stdout",
     "output_type": "stream",
     "text": [
      "['left_hand' 'tank' 'fuel' 'warranty' 'sender' 'fuel_tank'\n",
      " 'warranty_left_hand' 'left_hand fuel' 'tank sender']\n",
      "['engine' 'left_hand' 'pipe' 'coolant' 'left_hand_engine' 'engine_coolant'\n",
      " 'pipe left_hand']\n",
      "['pump' 'no' 'deflector' 'main_pump']\n",
      "['coolant']\n",
      "['engine' 'left_hand' 'coolant' 'left_hand_engine']\n"
     ]
    },
    {
     "name": "stderr",
     "output_type": "stream",
     "text": [
      "\r",
      " 27%|██▋       | 1477/5485 [01:22<03:44, 17.85it/s]"
     ]
    },
    {
     "name": "stdout",
     "output_type": "stream",
     "text": [
      "['left_hand' 'warranty']\n",
      "['pump' 'box' 'pump_box']\n",
      "['pump' 'right_hand' 'pressure' 'right_hand_pump' 'pump pressure']\n",
      "['engine' 'coolant']\n"
     ]
    },
    {
     "name": "stderr",
     "output_type": "stream",
     "text": [
      " 27%|██▋       | 1483/5485 [01:23<03:44, 17.85it/s]"
     ]
    },
    {
     "name": "stdout",
     "output_type": "stream",
     "text": [
      "['engine' 'hose' 'right_hand' 'coolant' 'right_hand_engine'\n",
      " 'engine_coolant']\n",
      "['pump' 'drive' 'box' 'pump_drive' 'drive_box']\n",
      "['pump' 'right_hand' 'drive' 'light' 'pump_drive' 'right_hand_pump']\n",
      "['engine' 'coolant']\n"
     ]
    },
    {
     "name": "stderr",
     "output_type": "stream",
     "text": [
      "\r",
      " 27%|██▋       | 1486/5485 [01:23<03:43, 17.86it/s]"
     ]
    },
    {
     "name": "stdout",
     "output_type": "stream",
     "text": [
      "['fuel' 'new']\n",
      "['pump']\n",
      "['pump' 'lube' 'pressure' 'box' 'pump_box' 'lube_pressure' 'box lube']\n",
      "['lube' 'pressure' 'lube_pressure']\n"
     ]
    },
    {
     "name": "stderr",
     "output_type": "stream",
     "text": [
      "\r",
      " 27%|██▋       | 1489/5485 [01:23<03:43, 17.86it/s]"
     ]
    },
    {
     "name": "stdout",
     "output_type": "stream",
     "text": [
      "['pump' 'pressure' 'gearbox' 'sensor' 'pump_gearbox' 'pressure sensor'\n",
      " 'gearbox pressure']\n",
      "['pump' 'light' 'no' 'light pump']\n",
      "['pump' 'lube' 'right_hand' 'pto' 'lube_pump' 'pump_pto' 'right_hand lube']\n",
      "['pump' 'no' 'main_pump']\n"
     ]
    },
    {
     "name": "stderr",
     "output_type": "stream",
     "text": [
      "\r",
      " 27%|██▋       | 1492/5485 [01:23<03:43, 17.86it/s]"
     ]
    },
    {
     "name": "stdout",
     "output_type": "stream",
     "text": [
      "['pump' 'light' 'indicator' 'no' 'main_pump' 'indicator light']\n"
     ]
    },
    {
     "name": "stderr",
     "output_type": "stream",
     "text": [
      " 27%|██▋       | 1499/5485 [01:24<03:43, 17.80it/s]"
     ]
    },
    {
     "name": "stdout",
     "output_type": "stream",
     "text": [
      "['pressure' 'fuel']\n",
      "['hose' 'pump' 'slew' 'drain' 'case' 'case_drain' 'drain_hose' 'slew_pump'\n",
      " 'pump case']\n",
      "['pump' 'left_hand' 'module' 'left_hand module']\n",
      "['pump']\n",
      "['pump' 'drive' 'light' 'pump_drive']\n",
      "['pump' 'right_hand' 'pressure' 'drive' 'box' 'pump_drive'\n",
      " 'right_hand_pump' 'drive_box' 'box pressure']\n",
      "['pump' 'no' 'main_pump']\n",
      "['pump']\n"
     ]
    },
    {
     "name": "stderr",
     "output_type": "stream",
     "text": [
      " 27%|██▋       | 1507/5485 [01:24<03:42, 17.85it/s]"
     ]
    },
    {
     "name": "stdout",
     "output_type": "stream",
     "text": [
      "['oil' 'engine' 'pump' 'right_hand' 'reserve' 'right_hand_engine'\n",
      " 'oil_reserve' 'pump right_hand' 'reserve pump']\n",
      "['pump' 'left_hand' 'servo' 'servo_pump' 'left_hand_servo']\n",
      "['pump' 'left_hand' 'gearbox' 'pump_gearbox' 'left_hand_pump']\n",
      "['fuel']\n",
      "['pump' 'sections']\n",
      "['pump' 'warranty' 'main_pump']\n",
      "['pump']\n",
      "['pump' 'right_hand' 'box' 'gear' 'right_hand_pump' 'gear_box' 'pump_gear']\n",
      "['pump' 'main_pump']\n"
     ]
    },
    {
     "name": "stderr",
     "output_type": "stream",
     "text": [
      "\r",
      " 28%|██▊       | 1511/5485 [01:24<03:42, 17.87it/s]"
     ]
    },
    {
     "name": "stdout",
     "output_type": "stream",
     "text": [
      "['left_hand' 'fuel' 'sender' 'left_hand fuel']\n",
      "['coolant']\n",
      "['fuel']\n",
      "['coolant' 'sample' 'coolant sample']\n"
     ]
    },
    {
     "name": "stderr",
     "output_type": "stream",
     "text": [
      " 28%|██▊       | 1517/5485 [01:24<03:41, 17.87it/s]"
     ]
    },
    {
     "name": "stdout",
     "output_type": "stream",
     "text": [
      "['fuel' 'sos' 'sos fuel']\n",
      "['air' 'filter' 'primary' 'air_filter' 'primary air']\n",
      "['filter' 'servo' 'servo_filter']\n",
      "['breather']\n",
      "['oil' 'engine' 'filter' 'engine_oil' 'oil_filter']\n"
     ]
    },
    {
     "name": "stderr",
     "output_type": "stream",
     "text": [
      "\r",
      " 28%|██▊       | 1520/5485 [01:25<03:41, 17.88it/s]"
     ]
    },
    {
     "name": "stdout",
     "output_type": "stream",
     "text": [
      "['oil' 'filter' 'oil_filter']\n",
      "['air' 'filter' 'outer' 'air_filter' 'outer_air']\n",
      "['air' 'filter' 'air_filter']\n",
      "['oil' 'filter' 'manifold' 'oil_filter' 'filter manifold']\n",
      "['air' 'filter' 'air_filter']\n"
     ]
    },
    {
     "name": "stderr",
     "output_type": "stream",
     "text": [
      " 28%|██▊       | 1526/5485 [01:25<03:41, 17.89it/s]"
     ]
    },
    {
     "name": "stdout",
     "output_type": "stream",
     "text": [
      "['air' 'filter' 'turbo' 'air_filter']\n",
      "['oil' 'filter' 'flow' 'flow filter']\n",
      "['oil' 'engine' 'filter' 'fitting' 'head' 'engine_oil' 'oil_filter'\n",
      " 'filter_head']\n",
      "['air' 'filter' 'air_filter']\n",
      "['filter' 'intake' 'intake filter']\n"
     ]
    },
    {
     "name": "stderr",
     "output_type": "stream",
     "text": [
      " 28%|██▊       | 1532/5485 [01:25<03:40, 17.89it/s]"
     ]
    },
    {
     "name": "stdout",
     "output_type": "stream",
     "text": [
      "['filter' 'intake' 'intake filter']\n",
      "['oil' 'engine' 'filter' 'text' 'head' 'engine_oil' 'oil_filter'\n",
      " 'filter_head']\n",
      "['air' 'filter' 'air_filter']\n",
      "['filter' 'outer' 'outer filter']\n",
      "['filter' 'outer' 'outer filter']\n"
     ]
    },
    {
     "name": "stderr",
     "output_type": "stream",
     "text": [
      "\r",
      " 28%|██▊       | 1535/5485 [01:25<03:40, 17.89it/s]"
     ]
    },
    {
     "name": "stdout",
     "output_type": "stream",
     "text": [
      "['filter' 'p1' 'p2' 'bung' 'high_pressure_filter']\n",
      "['air' 'filter' 'outer' 'inner' 'air_filter' 'outer_air' 'inner outer']\n",
      "['hose' 'filter' 'p2' 'high_pressure_filter']\n",
      "['filter']\n"
     ]
    },
    {
     "name": "stderr",
     "output_type": "stream",
     "text": [
      " 28%|██▊       | 1542/5485 [01:26<03:41, 17.82it/s]"
     ]
    },
    {
     "name": "stdout",
     "output_type": "stream",
     "text": [
      "['air' 'filter' 'air_filter']\n",
      "['air' 'filter' 'air_filter']\n",
      "['oil' 'engine' 'filter' 'engine_oil' 'oil_filter']\n",
      "['engine' 'air' 'filter' 'air_filter' 'engine_air']\n",
      "['oil' 'engine' 'filter' 'engine_oil' 'oil_filter']\n",
      "['air' 'filter' 'outer' 'air_filter' 'outer_air']\n",
      "['air' 'filter' 'outer' 'inner' 'air_filter' 'outer_air' 'inner outer']\n",
      "['filter']\n"
     ]
    },
    {
     "name": "stderr",
     "output_type": "stream",
     "text": [
      " 28%|██▊       | 1550/5485 [01:26<03:40, 17.88it/s]"
     ]
    },
    {
     "name": "stdout",
     "output_type": "stream",
     "text": [
      "['filter' 'head' 'elbow' 'piece' 'high_pressure_filter' 'filter_head'\n",
      " 'piece elbow']\n",
      "['filter' 'indicator']\n",
      "['hyd' 'filter' 'hyd_filter']\n",
      "['filter' 'fitting' 'high_pressure_filter']\n",
      "['engine' 'left_hand' 'filter' 'centrifugal' 'base' 'left_hand_engine'\n",
      " 'centrifugal_filter' 'engine_centrifugal']\n",
      "['pump' 'filter' 'plug' 'main_pump' 'high_pressure_filter']\n",
      "['shd' 'filter' 'water' 'filter shd']\n",
      "['filter' 'pressuriser' 'pressuriser filter']\n"
     ]
    },
    {
     "name": "stderr",
     "output_type": "stream",
     "text": [
      " 28%|██▊       | 1558/5485 [01:27<03:39, 17.91it/s]"
     ]
    },
    {
     "name": "stdout",
     "output_type": "stream",
     "text": [
      "['hyd' 'filter' 'cooler' 'screen' 'hyd_cooler' 'cooler filter']\n",
      "['filter' 'cab' 'pilot' 'pilot filter']\n",
      "['oil' 'filter' 'high_pressure_filter']\n",
      "['engine' 'right_hand' 'filter' 'centrifugal' 'right_hand_engine'\n",
      " 'centrifugal_filter' 'engine_centrifugal']\n",
      "['hose' 'filter' 'high_pressure_filter']\n"
     ]
    },
    {
     "name": "stderr",
     "output_type": "stream",
     "text": [
      "\r",
      " 28%|██▊       | 1561/5485 [01:27<03:39, 17.91it/s]"
     ]
    },
    {
     "name": "stdout",
     "output_type": "stream",
     "text": [
      "['engine' 'right_hand' 'filter' 'centrifugal' 'right_hand_engine'\n",
      " 'centrifugal_filter' 'engine_centrifugal']\n",
      "['filter' 'housing' 'filter_housing']\n",
      "['oil' 'filter' 'high_pressure_filter']\n",
      "['filter' 'drain' 'bung' 'drain bung' 'bung filter']\n",
      "['filter' 'housing' 'filter_housing']\n"
     ]
    },
    {
     "name": "stderr",
     "output_type": "stream",
     "text": [
      " 29%|██▊       | 1567/5485 [01:27<03:38, 17.92it/s]"
     ]
    },
    {
     "name": "stdout",
     "output_type": "stream",
     "text": [
      "['air' 'filter' 'primary' 'air_filter' 'primary air']\n",
      "['oil' 'engine' 'filter' 'engine_oil' 'oil_filter']\n",
      "['slew' 'filter' 'bolts' 'slew_filter' 'bolts_slew']\n",
      "['oil' 'filter' 'high_pressure_filter']\n",
      "['hose' 'filter' 'p2']\n"
     ]
    },
    {
     "name": "stderr",
     "output_type": "stream",
     "text": [
      " 29%|██▊       | 1573/5485 [01:27<03:38, 17.92it/s]"
     ]
    },
    {
     "name": "stdout",
     "output_type": "stream",
     "text": [
      "['filter' 'clamp' 'centrifugal' 'centrifugal_filter' 'filter clamp']\n",
      "['filter' 'clamp' 'centrifugal' 'centrifugal_filter' 'filter clamp']\n",
      "['filter' 'clamp' 'centrifugal' 'centrifugal_filter' 'filter clamp']\n",
      "['hose' 'filter' 'pressure' 'pressure filter']\n",
      "['hose' 'pump' 'filter' 'housing' 'p3' 'filter_housing' 'p3 pump'\n",
      " 'hose p3' 'pump filter']\n"
     ]
    },
    {
     "name": "stderr",
     "output_type": "stream",
     "text": [
      "\r",
      " 29%|██▊       | 1576/5485 [01:27<03:38, 17.93it/s]"
     ]
    },
    {
     "name": "stdout",
     "output_type": "stream",
     "text": [
      "['oil' 'filter' 'centrifugal' 'centrifugal_filter']\n",
      "['filter' 'high_pressure_filter']\n",
      "['engine' 'filter' 'head' 'filter_head' 'engine filter']\n",
      "['filter' 'screen']\n"
     ]
    },
    {
     "name": "stderr",
     "output_type": "stream",
     "text": [
      "\r",
      " 29%|██▉       | 1579/5485 [01:28<03:37, 17.93it/s]"
     ]
    },
    {
     "name": "stdout",
     "output_type": "stream",
     "text": [
      "['hyd' 'tank' 'breather' 'hyd_tank' 'tank breather']\n",
      "['filter' 'pressure' 'pressure filter']\n",
      "['filter' 'seal' 'housing' 'high_pressure_filter' 'filter_housing']\n",
      "['filter' 'centrifugal' 'centrifugal_filter']\n"
     ]
    },
    {
     "name": "stderr",
     "output_type": "stream",
     "text": [
      "\r",
      " 29%|██▉       | 1582/5485 [01:28<03:37, 17.93it/s]"
     ]
    },
    {
     "name": "stdout",
     "output_type": "stream",
     "text": [
      "['filter' 'logic' 'high_pressure_filter']\n"
     ]
    },
    {
     "name": "stderr",
     "output_type": "stream",
     "text": [
      " 29%|██▉       | 1589/5485 [01:28<03:37, 17.88it/s]"
     ]
    },
    {
     "name": "stdout",
     "output_type": "stream",
     "text": [
      "['breather']\n",
      "['hose' 'air' 'filter' 'dust' 'air_filter']\n",
      "['hose' 'hyd' 'filter' 'hyd_hose']\n",
      "['oil' 'engine' 'filter' 'housing' 'engine_oil' 'oil_filter'\n",
      " 'filter_housing']\n",
      "['hose']\n",
      "['slew' 'filter' 'housing' 'filter_housing' 'slew_filter']\n",
      "['engine' 'coolant' 'housing' 'thermostat' 'engine thermostat'\n",
      " 'thermostat housing']\n",
      "['slew' 'filter' 'slew_filter']\n",
      "['filter' 'centrifugal' 'centrifugal_filter']\n"
     ]
    },
    {
     "name": "stderr",
     "output_type": "stream",
     "text": [
      " 29%|██▉       | 1597/5485 [01:29<03:36, 17.93it/s]"
     ]
    },
    {
     "name": "stdout",
     "output_type": "stream",
     "text": [
      "['oil' 'filter' 'oil_filter']\n",
      "['shd' 'hyd' 'filter' 'high_pressure_filter' 'filter shd']\n",
      "['filter' 'swing' 'swing filter']\n",
      "['filter' 'ring' 'housing' 'filter_housing' 'ring filter']\n",
      "['filter' 'centrifugal' 'centrifugal_filter']\n",
      "['air' 'bolts' 'wing' 'bolts wing']\n",
      "['filter' 'centrifugal' 'centrifugal_filter']\n"
     ]
    },
    {
     "name": "stderr",
     "output_type": "stream",
     "text": [
      "\r",
      " 29%|██▉       | 1601/5485 [01:29<03:36, 17.94it/s]"
     ]
    },
    {
     "name": "stdout",
     "output_type": "stream",
     "text": [
      "['oil' 'shd' 'filter' 'housing' 'oil_filter' 'filter_housing']\n",
      "['filter' 'centrifugal' 'centrifugal_filter']\n",
      "['filter' 'centrifugal' 'centrifugal_filter']\n",
      "['filter' 'bolts' 'housing' 'filter_housing']\n",
      "['filter' 'water']\n"
     ]
    },
    {
     "name": "stderr",
     "output_type": "stream",
     "text": [
      " 29%|██▉       | 1607/5485 [01:29<03:36, 17.94it/s]"
     ]
    },
    {
     "name": "stdout",
     "output_type": "stream",
     "text": [
      "['hyd' 'filter' 'bracket' 'hyd_filter']\n",
      "['breather']\n",
      "['engine' 'right_hand' 'breather' 'right_hand_engine' 'engine breather']\n",
      "['oil' 'right_hand' 'filter' 'centrifugal' 'centrifugal_filter'\n",
      " 'right_hand centrifugal']\n",
      "['hose' 'filter' 'pirtek' 'high_pressure_filter' 'pirtek hose']\n"
     ]
    },
    {
     "name": "stderr",
     "output_type": "stream",
     "text": [
      " 29%|██▉       | 1613/5485 [01:29<03:35, 17.95it/s]"
     ]
    },
    {
     "name": "stdout",
     "output_type": "stream",
     "text": [
      "['drive' 'final' 'breather' 'inner' 'final_drive' 'drive_breather'\n",
      " 'inner_final']\n",
      "['filter' 'high_pressure_filter']\n",
      "['slew' 'filter' 'fitting' 'slew_filter']\n",
      "['line' 'filter' 'pilot' 'high_pressure_filter' 'pilot line']\n",
      "['drive' 'final' 'breather' 'inside' 'final_drive' 'drive_breather'\n",
      " 'inside final']\n"
     ]
    },
    {
     "name": "stderr",
     "output_type": "stream",
     "text": [
      "\r",
      " 29%|██▉       | 1616/5485 [01:30<03:35, 17.95it/s]"
     ]
    },
    {
     "name": "stdout",
     "output_type": "stream",
     "text": [
      "['pressuriser' 'vent' 'pressuriser vent']\n",
      "['engine' 'pump' 'fan' 'left' 'bolts' 'fan_pump' 'engine_fan'\n",
      " 'left_engine']\n",
      "['shd' 'hyd' 'filter' 'cap' 'hyd_filter' 'cap shd']\n",
      "['oil' 'filter' 'reserve' 'oil_reserve']\n",
      "['oil' 'filter' 'p3']\n"
     ]
    },
    {
     "name": "stderr",
     "output_type": "stream",
     "text": [
      " 30%|██▉       | 1622/5485 [01:30<03:35, 17.96it/s]"
     ]
    },
    {
     "name": "stdout",
     "output_type": "stream",
     "text": [
      "['oil' 'filter' 'high_pressure_filter']\n",
      "['filter' 'p4' 'high_pressure_filter']\n",
      "['vent']\n",
      "['oil' 'filter' 'rear' 'swing' 'high_pressure_filter' 'rear swing']\n"
     ]
    },
    {
     "name": "stderr",
     "output_type": "stream",
     "text": [
      "\r",
      " 30%|██▉       | 1625/5485 [01:30<03:34, 17.96it/s]"
     ]
    },
    {
     "name": "stdout",
     "output_type": "stream",
     "text": [
      "['air' 'filter' 'air_filter']\n",
      "['hyd' 'filter' 'hyd_filter']\n",
      "['oil' 'engine' 'left_hand' 'filter' 'centrifugal' 'engine filter'\n",
      " 'left_hand centrifugal' 'centrifugal engine']\n",
      "['oil' 'engine' 'filter' 'oil_filter' 'filter_engine']\n"
     ]
    },
    {
     "name": "stderr",
     "output_type": "stream",
     "text": [
      " 30%|██▉       | 1631/5485 [01:31<03:35, 17.89it/s]"
     ]
    },
    {
     "name": "stdout",
     "output_type": "stream",
     "text": [
      "['engine' 'pump' 'fan' 'ring' 'fan_pump' 'engine_fan']\n",
      "['engine' 'right_hand' 'filter' 'right_hand_engine']\n",
      "['oil' 'filter' 'rear' 'head' 'high_pressure_filter' 'filter_head']\n",
      "['pump' 'left_hand' 'drive' 'fitting' 'breather' 'pump_drive'\n",
      " 'drive_breather' 'left_hand_pump' 'breather fitting']\n",
      "['engine' 'right_hand' 'filter' 'centrifugal' 'base' 'right_hand_engine'\n",
      " 'centrifugal_filter' 'engine_centrifugal']\n",
      "['right_hand' 'drive' 'final' 'breather' 'final_drive' 'right_hand_final'\n",
      " 'drive_breather']\n",
      "['oil' 'filter']\n",
      "['engine' 'breather' 'engine breather']\n"
     ]
    },
    {
     "name": "stderr",
     "output_type": "stream",
     "text": [
      " 30%|██▉       | 1639/5485 [01:31<03:34, 17.93it/s]"
     ]
    },
    {
     "name": "stdout",
     "output_type": "stream",
     "text": [
      "['hose' 'filter']\n",
      "['filter' 'head' 'high_pressure_filter' 'filter_head']\n",
      "['hyd' 'filter' 'housing' 'filter_housing' 'hyd_filter']\n",
      "['hose' 'filter']\n",
      "['filter' 'head' 'high_pressure_filter' 'filter_head']\n",
      "['hose' 'filter']\n",
      "['filter' 'head' 'high_pressure_filter' 'filter_head']\n",
      "['oil' 'engine' 'filter' 'engine_oil' 'oil_filter']\n"
     ]
    },
    {
     "name": "stderr",
     "output_type": "stream",
     "text": [
      "\r",
      " 30%|██▉       | 1643/5485 [01:31<03:33, 17.96it/s]"
     ]
    },
    {
     "name": "stdout",
     "output_type": "stream",
     "text": [
      "['filter' 'head' 'high_pressure_filter' 'filter_head']\n",
      "['grease' 'filter' 'servo' 'servo_filter' 'filter grease']\n",
      "['air' 'filter' 'outer' 'air_filter']\n",
      "['engine' 'right_hand' 'centrifugal' 'base' 'right_hand_engine'\n",
      " 'base right_hand']\n"
     ]
    },
    {
     "name": "stderr",
     "output_type": "stream",
     "text": [
      " 30%|███       | 1650/5485 [01:31<03:33, 17.96it/s]"
     ]
    },
    {
     "name": "stdout",
     "output_type": "stream",
     "text": [
      "['oil' 'engine' 'left_hand' 'filter' 'manifold' 'left_hand_engine'\n",
      " 'engine_oil' 'oil_filter' 'filter manifold']\n",
      "['engine' 'right_hand' 'filter' 'centrifugal' 'right_hand_engine'\n",
      " 'centrifugal_filter']\n",
      "['slew' 'filter' 'bolts' 'bolts_slew']\n",
      "['pump' 'right_hand' 'left_hand' 'box' 'breather' 'right_hand_pump'\n",
      " 'pump_box' 'left_hand_right_hand' 'breather left_hand']\n"
     ]
    },
    {
     "name": "stderr",
     "output_type": "stream",
     "text": [
      "\r",
      " 30%|███       | 1653/5485 [01:32<03:33, 17.96it/s]"
     ]
    },
    {
     "name": "stdout",
     "output_type": "stream",
     "text": [
      "['oil' 'engine' 'right_hand' 'filter' 'pipe' 'spinner' 'right_hand_engine'\n",
      " 'engine_oil' 'oil spinner' 'spinner filter']\n",
      "['filter']\n",
      "['engine' 'door' 'module' 'vent' 'vent door' 'engine module']\n",
      "['air' 'rf' 'cap' 'room' 'vent' 'air vent' 'cap air']\n"
     ]
    },
    {
     "name": "stderr",
     "output_type": "stream",
     "text": [
      "\r",
      " 30%|███       | 1656/5485 [01:32<03:33, 17.97it/s]"
     ]
    },
    {
     "name": "stdout",
     "output_type": "stream",
     "text": [
      "['slew' 'filter' 'bolts' 'slew_filter' 'bolts_slew']\n",
      "['air' 'filter' 'air_filter']\n",
      "['oil' 'engine' 'right_hand' 'filter' 'centrifugal' 'right_hand_engine'\n",
      " 'centrifugal_filter' 'engine_centrifugal']\n",
      "['oil' 'filter' 'pressure' 'sender' 'p1' 'high_pressure_filter'\n",
      " 'pressure_sender']\n"
     ]
    },
    {
     "name": "stderr",
     "output_type": "stream",
     "text": [
      " 30%|███       | 1662/5485 [01:32<03:32, 17.97it/s]"
     ]
    },
    {
     "name": "stdout",
     "output_type": "stream",
     "text": [
      "['engine' 'air' 'filter' 'air_filter' 'engine_air']\n",
      "['air' 'filter' 'air_filter']\n",
      "['engine' 'air' 'filter' 'air_filter' 'filter_engine']\n",
      "['left_hand' 'filter' 'warranty' 'centrifugal' 'centrifugal_filter'\n",
      " 'left_hand centrifugal']\n"
     ]
    },
    {
     "name": "stderr",
     "output_type": "stream",
     "text": [
      "\r",
      " 30%|███       | 1665/5485 [01:32<03:32, 17.97it/s]"
     ]
    },
    {
     "name": "stdout",
     "output_type": "stream",
     "text": [
      "['slew' 'filter' 'bolts' 'slew_filter' 'bolts_slew']\n",
      "['air' 'filter' 'air_filter']\n",
      "['engine' 'filter' 'centrifugal' 'centrifugal_filter' 'filter_engine']\n",
      "['engine' 'filter' 'centrifugal' 'centrifugal_filter' 'filter_engine']\n",
      "['oil' 'slew' 'filter']\n"
     ]
    },
    {
     "name": "stderr",
     "output_type": "stream",
     "text": [
      " 30%|███       | 1671/5485 [01:32<03:32, 17.98it/s]"
     ]
    },
    {
     "name": "stdout",
     "output_type": "stream",
     "text": [
      "['oil' 'engine' 'filter' 'assy' 'engine_oil' 'oil_filter']\n",
      "['air' 'filter' 'air_filter']\n",
      "['air' 'filter' 'air_filter']\n",
      "['air' 'filter' 'air_filter']\n"
     ]
    },
    {
     "name": "stderr",
     "output_type": "stream",
     "text": [
      " 31%|███       | 1678/5485 [01:33<03:32, 17.93it/s]"
     ]
    },
    {
     "name": "stdout",
     "output_type": "stream",
     "text": [
      "['air' 'filter' 'air_filter']\n",
      "['filter' 'cable' 'high_pressure_filter']\n",
      "['left_hand' 'filter' 'water' 'left_hand water']\n",
      "['air' 'filter' 'air_filter']\n",
      "['slew' 'filter']\n",
      "['slew' 'box' 'breather' 'slew_box' 'box breather']\n",
      "['slew' 'filter' 'housing' 'filter_housing']\n",
      "['oil' 'slew' 'filter' 'slew_filter']\n"
     ]
    },
    {
     "name": "stderr",
     "output_type": "stream",
     "text": [
      " 31%|███       | 1686/5485 [01:33<03:31, 17.97it/s]"
     ]
    },
    {
     "name": "stdout",
     "output_type": "stream",
     "text": [
      "['oil' 'engine' 'filter' 'engine_oil' 'oil_filter']\n",
      "['door' 'hinge' 'chain' 'vent' 'vent door' 'chain vent']\n",
      "['oil' 'filter' 'servo' 'p1' 'servo_filter']\n",
      "['oil' 'filter' 'p1' 'bar' 'bar filter']\n",
      "['oil' 'engine' 'right_hand' 'filter' 'right_hand_engine' 'oil_filter']\n",
      "['air' 'filter' 'air_filter']\n",
      "['slew' 'hyd' 'filter' 'slew_filter']\n",
      "['oil' 'filter']\n"
     ]
    },
    {
     "name": "stderr",
     "output_type": "stream",
     "text": [
      "\r",
      " 31%|███       | 1690/5485 [01:33<03:31, 17.98it/s]"
     ]
    },
    {
     "name": "stdout",
     "output_type": "stream",
     "text": [
      "['oil' 'engine' 'filter' 'engine_oil' 'oil_filter']\n",
      "['filter' 'pressure' 'pressure filter']\n",
      "['muffler']\n",
      "['exhaust']\n"
     ]
    },
    {
     "name": "stderr",
     "output_type": "stream",
     "text": [
      "\r",
      " 31%|███       | 1693/5485 [01:34<03:30, 17.98it/s]"
     ]
    },
    {
     "name": "stdout",
     "output_type": "stream",
     "text": [
      "['muffler']\n",
      "['exhaust' 'manifold' 'exhaust_manifold']\n",
      "['text' 'clamp' 'muffler' 'clamp_text' 'muffler clamp']\n"
     ]
    },
    {
     "name": "stderr",
     "output_type": "stream",
     "text": [
      " 31%|███       | 1699/5485 [01:34<03:30, 17.99it/s]"
     ]
    },
    {
     "name": "stdout",
     "output_type": "stream",
     "text": [
      "['air']\n",
      "['air']\n",
      "['air']\n",
      "['left_hand' 'exhaust' 'roof' 'left_hand exhaust']\n"
     ]
    },
    {
     "name": "stderr",
     "output_type": "stream",
     "text": [
      "\r",
      " 31%|███       | 1702/5485 [01:34<03:30, 17.99it/s]"
     ]
    },
    {
     "name": "stdout",
     "output_type": "stream",
     "text": [
      "['exhaust' 'clamp' 'history' 'exhaust_clamp' 'clamp history']\n",
      "['air']\n",
      "['muffler']\n",
      "['text' 'clamp' 'muffler']\n"
     ]
    },
    {
     "name": "stderr",
     "output_type": "stream",
     "text": [
      " 31%|███       | 1708/5485 [01:34<03:29, 18.00it/s]"
     ]
    },
    {
     "name": "stdout",
     "output_type": "stream",
     "text": [
      "['pipe' 'exhaust' 'exhaust_pipe']\n",
      "['exhaust']\n",
      "['pipe' 'exhaust' 'turbo' 'clamp' 'exhaust_pipe' 'turbo clamp'\n",
      " 'pipe turbo']\n",
      "['air']\n"
     ]
    },
    {
     "name": "stderr",
     "output_type": "stream",
     "text": [
      " 31%|███       | 1714/5485 [01:35<03:29, 18.00it/s]"
     ]
    },
    {
     "name": "stdout",
     "output_type": "stream",
     "text": [
      "['engine' 'exhaust' 'manifold' 'engine_exhaust' 'exhaust_manifold']\n",
      "['left_hand' 'exhaust' 'turbo' 'clamp' 'exhaust_clamp' 'left_hand_turbo']\n",
      "['exhaust' 'manifold' 'gasket' 'exhaust_manifold' 'manifold gasket']\n",
      "['exhaust' 'muffler']\n",
      "['engine' 'exhaust' 'bolts' 'manifold' 'exhaust_manifold' 'manifold_bolts']\n",
      "['exhaust' 'bolts' 'manifold' 'manifold_bolts']\n"
     ]
    },
    {
     "name": "stderr",
     "output_type": "stream",
     "text": [
      " 31%|███▏      | 1721/5485 [01:35<03:29, 17.94it/s]"
     ]
    },
    {
     "name": "stdout",
     "output_type": "stream",
     "text": [
      "['exhaust' 'muffler']\n",
      "['engine' 'exhaust']\n",
      "['exhaust']\n",
      "['left_hand' 'exhaust' 'gasket' 'exhaust gasket']\n",
      "['exhaust' 'clamp' 'exhaust_clamp']\n",
      "['manifold' 'intake']\n",
      "['engine' 'right_hand' 'exhaust' 'manifold' 'gasket' 'right_hand_engine'\n",
      " 'engine_exhaust' 'exhaust_manifold' 'manifold gasket']\n",
      "['pipe' 'exhaust' 'exhaust_pipe']\n"
     ]
    },
    {
     "name": "stderr",
     "output_type": "stream",
     "text": [
      " 32%|███▏      | 1729/5485 [01:36<03:28, 17.99it/s]"
     ]
    },
    {
     "name": "stdout",
     "output_type": "stream",
     "text": [
      "['hose' 'pump' 'suction' 'main_pump' 'suction_hose' 'pump suction']\n",
      "['exhaust' 'turbo']\n",
      "['exhaust']\n",
      "['exhaust']\n",
      "['engine' 'right_hand' 'exhaust' 'right_hand_engine' 'engine_exhaust']\n",
      "['hose' 'tank' 'header' 'suction' 'header_tank' 'suction_hose'\n",
      " 'hose header']\n",
      "['engine' 'exhaust' 'engine_exhaust']\n",
      "['engine' 'right_hand' 'exhaust' 'deflector' 'right_hand_engine'\n",
      " 'engine_exhaust' 'exhaust_deflector']\n",
      "['exhaust']\n"
     ]
    },
    {
     "name": "stderr",
     "output_type": "stream",
     "text": [
      " 32%|███▏      | 1737/5485 [01:36<03:28, 18.01it/s]"
     ]
    },
    {
     "name": "stdout",
     "output_type": "stream",
     "text": [
      "['exhaust' 'supply' 'deflector' 'exhaust_deflector' 'supply exhaust']\n",
      "['exhaust']\n",
      "['engine' 'shd' 'exhaust' 'deflector' 'engine_exhaust' 'exhaust_deflector']\n",
      "['shd' 'exhaust' 'manifold' 'exhaust_manifold']\n",
      "['exhaust' 'bolts' 'manifold' 'exhaust_manifold' 'manifold_bolts']\n"
     ]
    },
    {
     "name": "stderr",
     "output_type": "stream",
     "text": [
      "\r",
      " 32%|███▏      | 1740/5485 [01:36<03:27, 18.01it/s]"
     ]
    },
    {
     "name": "stdout",
     "output_type": "stream",
     "text": [
      "['exhaust' 'clamp' 'exhaust_clamp']\n",
      "['exhaust' 'turbo' 'elbow' 'turbo elbow']\n",
      "['engine' 'exhaust' 'engine_exhaust']\n",
      "['exhaust' 'turbo' 'cover' 'exhaust cover' 'turbo exhaust']\n",
      "['exhaust']\n"
     ]
    },
    {
     "name": "stderr",
     "output_type": "stream",
     "text": [
      " 32%|███▏      | 1746/5485 [01:36<03:27, 18.02it/s]"
     ]
    },
    {
     "name": "stdout",
     "output_type": "stream",
     "text": [
      "['hose' 'air' 'exhaust' 'box' 'air box' 'hose exhaust' 'exhaust air']\n",
      "['right_hand' 'pipe' 'exhaust' 'exhaust_pipe' 'right_hand exhaust']\n",
      "['exhaust']\n",
      "['hose' 'suction' 'suction_hose']\n"
     ]
    },
    {
     "name": "stderr",
     "output_type": "stream",
     "text": [
      "\r",
      " 32%|███▏      | 1749/5485 [01:37<03:27, 18.02it/s]"
     ]
    },
    {
     "name": "stdout",
     "output_type": "stream",
     "text": [
      "['engine' 'exhaust' 'engine_exhaust']\n",
      "['engine' 'left' 'exhaust' 'engine_exhaust' 'left_engine']\n",
      "['engine' 'left' 'exhaust' 'engine_exhaust' 'left_engine']\n",
      "['left_hand' 'pipe' 'exhaust' 'exhaust_pipe' 'left_hand exhaust']\n",
      "['engine' 'muffler' 'engine muffler']\n"
     ]
    },
    {
     "name": "stderr",
     "output_type": "stream",
     "text": [
      " 32%|███▏      | 1755/5485 [01:37<03:26, 18.02it/s]"
     ]
    },
    {
     "name": "stdout",
     "output_type": "stream",
     "text": [
      "['engine' 'left_hand' 'exhaust' 'left_hand_engine' 'engine_exhaust']\n",
      "['fan' 'turbo']\n",
      "['engine' 'turbo' 'engine_turbo']\n",
      "['engine' 'line' 'left_hand' 'turbo' 'drain' 'left_hand_engine'\n",
      " 'turbo_drain' 'line_left_hand' 'drain line']\n"
     ]
    },
    {
     "name": "stderr",
     "output_type": "stream",
     "text": [
      "\r",
      " 32%|███▏      | 1758/5485 [01:37<03:26, 18.03it/s]"
     ]
    },
    {
     "name": "stdout",
     "output_type": "stream",
     "text": [
      "['turbo']\n",
      "['right_hand' 'turbo' 'right_hand_turbo']\n",
      "['left_hand' 'turbo' 'left_hand_turbo']\n",
      "['turbo' 'cost']\n",
      "['line' 'left_hand' 'turbo' 'drain' 'left_hand_turbo' 'turbo_drain'\n",
      " 'drain line']\n"
     ]
    },
    {
     "name": "stderr",
     "output_type": "stream",
     "text": [
      " 32%|███▏      | 1769/5485 [01:38<03:26, 17.98it/s]"
     ]
    },
    {
     "name": "stdout",
     "output_type": "stream",
     "text": [
      "['hose' 'turbo']\n",
      "['turbo']\n",
      "['engine' 'turbo' 'turbo engine']\n",
      "['turbo' 'operator']\n",
      "['turbo']\n",
      "['hand' 'right' 'turbo' 'hand turbo']\n",
      "['left' 'hand' 'turbo' 'hand turbo']\n",
      "['engine' 'turbo' 'turbo engine']\n",
      "['turbo' 'warranty' 'turbo warranty']\n"
     ]
    },
    {
     "name": "stderr",
     "output_type": "stream",
     "text": [
      " 32%|███▏      | 1777/5485 [01:38<03:25, 18.03it/s]"
     ]
    },
    {
     "name": "stdout",
     "output_type": "stream",
     "text": [
      "['right_hand' 'turbo' 'right_hand_turbo']\n",
      "['right' 'turbo' 'work_order' 'right turbo' 'turbo work_order']\n",
      "['left' 'turbo' 'left turbo']\n",
      "['engine' 'right_hand' 'turbo' 'right_hand_engine' 'turbo right_hand']\n",
      "['left_hand' 'turbo' 'left_hand_turbo']\n",
      "['turbo']\n",
      "['turbo']\n",
      "['oil' 'engine' 'left_hand' 'turbo' 'left_hand_engine' 'turbo left_hand']\n"
     ]
    },
    {
     "name": "stderr",
     "output_type": "stream",
     "text": [
      "\r",
      " 32%|███▏      | 1781/5485 [01:38<03:25, 18.03it/s]"
     ]
    },
    {
     "name": "stdout",
     "output_type": "stream",
     "text": [
      "['turbo' 'cover' 'turbo cover']\n",
      "['turbo']\n",
      "['exhaust' 'turbo' 'elbow' 'turbo elbow']\n",
      "['exhaust' 'turbo' 'cover' 'exhaust cover' 'turbo exhaust']\n"
     ]
    },
    {
     "name": "stderr",
     "output_type": "stream",
     "text": [
      "\r",
      " 33%|███▎      | 1784/5485 [01:38<03:25, 18.03it/s]"
     ]
    },
    {
     "name": "stdout",
     "output_type": "stream",
     "text": [
      "['hose' 'right_hand' 'turbo' 'drain' 'drain_hose' 'right_hand_turbo'\n",
      " 'turbo_drain']\n",
      "['hose' 'right_hand' 'turbo' 'drain' 'drain_hose' 'right_hand_turbo'\n",
      " 'turbo_drain']\n",
      "['engine' 'hose' 'left_hand' 'turbo' 'drain' 'intake' 'left_hand_engine'\n",
      " 'drain_hose' 'turbo_drain' 'engine intake']\n",
      "['engine' 'line' 'turbo' 'engine_turbo']\n"
     ]
    },
    {
     "name": "stderr",
     "output_type": "stream",
     "text": [
      "\r",
      " 33%|███▎      | 1787/5485 [01:39<03:25, 18.03it/s]"
     ]
    },
    {
     "name": "stdout",
     "output_type": "stream",
     "text": [
      "['engine' 'hose' 'left_hand' 'turbo' 'left_hand_engine' 'engine_turbo'\n",
      " 'turbo_hose']\n",
      "['engine' 'hose' 'turbo' 'hose_engine' 'turbo_hose']\n",
      "['engine' 'hose' 'turbo' 'hose_engine' 'turbo_hose']\n",
      "['engine' 'hose' 'left_hand' 'turbo' 'left_hand_engine' 'engine_turbo'\n",
      " 'turbo_hose']\n"
     ]
    },
    {
     "name": "stderr",
     "output_type": "stream",
     "text": [
      " 33%|███▎      | 1793/5485 [01:39<03:24, 18.04it/s]"
     ]
    },
    {
     "name": "stdout",
     "output_type": "stream",
     "text": [
      "['engine' 'hose' 'right_hand' 'turbo' 'right_hand_engine' 'engine_turbo']\n",
      "['engine' 'right_hand' 'turbo' 'right_hand_engine' 'engine_turbo']\n",
      "['hose' 'turbo']\n",
      "['hose' 'hyd' 'hyd_hose']\n",
      "['oil' 'hyd' 'hyd_oil']\n"
     ]
    },
    {
     "name": "stderr",
     "output_type": "stream",
     "text": [
      " 33%|███▎      | 1799/5485 [01:39<03:24, 18.04it/s]"
     ]
    },
    {
     "name": "stdout",
     "output_type": "stream",
     "text": [
      "['oil']\n",
      "['oil' 'hyd' 'hyd_oil']\n",
      "['hose' 'hyd' 'hyd_hose']\n",
      "['hose' 'hyd' 'hyd_hose']\n",
      "['hose' 'hyd' 'hyd_hose']\n"
     ]
    },
    {
     "name": "stderr",
     "output_type": "stream",
     "text": [
      "\r",
      " 33%|███▎      | 1802/5485 [01:39<03:24, 18.05it/s]"
     ]
    },
    {
     "name": "stdout",
     "output_type": "stream",
     "text": [
      "['oil']\n",
      "['oil' 'hyd' 'hyd_oil']\n",
      "['hose' 'motor' 'swing' 'motor_hose' 'swing motor']\n",
      "['hose' 'hyd' 'hyd_hose']\n",
      "['hose']\n"
     ]
    },
    {
     "name": "stderr",
     "output_type": "stream",
     "text": [
      "\r",
      " 33%|███▎      | 1805/5485 [01:40<03:23, 18.05it/s]"
     ]
    },
    {
     "name": "stdout",
     "output_type": "stream",
     "text": [
      "['hyd']\n"
     ]
    },
    {
     "name": "stderr",
     "output_type": "stream",
     "text": [
      " 33%|███▎      | 1812/5485 [01:40<03:23, 18.00it/s]"
     ]
    },
    {
     "name": "stdout",
     "output_type": "stream",
     "text": [
      "['oil' 'hyd' 'hyd_oil']\n",
      "['oil' 'hyd' 'hyd_oil']\n",
      "['hose' 'hyd' 'hyd_hose']\n",
      "['hose' 'hyd' 'hyd_hose']\n",
      "['oil']\n",
      "['oil' 'hyd' 'hyd_oil']\n",
      "['oil' 'cab']\n",
      "['oil' 'hyd' 'hyd_oil']\n",
      "['hose' 'slew' 'hyd' 'hyd_hose']\n"
     ]
    },
    {
     "name": "stderr",
     "output_type": "stream",
     "text": [
      " 33%|███▎      | 1820/5485 [01:40<03:23, 18.05it/s]"
     ]
    },
    {
     "name": "stdout",
     "output_type": "stream",
     "text": [
      "['hyd']\n",
      "['hyd']\n",
      "['oil']\n",
      "['oil' 'hyd' 'hyd_oil']\n",
      "['oil' 'hyd' 'hyd_oil']\n",
      "['hyd' 'track' 'tensioner' 'track_tensioner']\n",
      "['oil' 'track' 'tensioner' 'track_tensioner']\n",
      "['oil' 'sos' 'metal' 'sos metal']\n"
     ]
    },
    {
     "name": "stderr",
     "output_type": "stream",
     "text": [
      " 33%|███▎      | 1827/5485 [01:41<03:22, 18.06it/s]"
     ]
    },
    {
     "name": "stdout",
     "output_type": "stream",
     "text": [
      "['oil' 'right_hand' 'slew' 'right_hand_slew']\n",
      "['oil' 'left_hand' 'track' 'left_hand_track' 'track_adjuster']\n",
      "['oil']\n",
      "['hose' 'right_hand' 'cylinder' 'pin' 'cylinder_pin' 'pin hose']\n",
      "['hose' 'slew' 'motor' 'slew_motor']\n"
     ]
    },
    {
     "name": "stderr",
     "output_type": "stream",
     "text": [
      "\r",
      " 33%|███▎      | 1830/5485 [01:41<03:22, 18.06it/s]"
     ]
    },
    {
     "name": "stdout",
     "output_type": "stream",
     "text": [
      "['oil' 'cylinder' 'rod' 'cylinder_rod']\n",
      "['oil' 'valve' 'p3']\n",
      "['oil' 'pressure' 'valve' 'p3']\n",
      "['oil' 'valve' 'primary']\n"
     ]
    },
    {
     "name": "stderr",
     "output_type": "stream",
     "text": [
      "\r",
      " 33%|███▎      | 1833/5485 [01:41<03:22, 18.06it/s]"
     ]
    },
    {
     "name": "stdout",
     "output_type": "stream",
     "text": [
      "['oil' 'track' 'track_adjuster']\n",
      "['right_hand' 'slew' 'gearbox' 'right_hand_slew' 'slew_gearbox']\n",
      "['right_hand' 'slew' 'motor' 'slew_motor' 'right_hand_slew']\n",
      "['oil' 'history']\n"
     ]
    },
    {
     "name": "stderr",
     "output_type": "stream",
     "text": [
      " 34%|███▎      | 1839/5485 [01:41<03:21, 18.06it/s]"
     ]
    },
    {
     "name": "stdout",
     "output_type": "stream",
     "text": [
      "['hose' 'hand' 'clamp' 'clamp_hose']\n",
      "['bucket' 'oil']\n",
      "['bucket' 'oil']\n",
      "['bucket' 'oil']\n"
     ]
    },
    {
     "name": "stderr",
     "output_type": "stream",
     "text": [
      "\r",
      " 34%|███▎      | 1842/5485 [01:41<03:21, 18.06it/s]"
     ]
    },
    {
     "name": "stdout",
     "output_type": "stream",
     "text": [
      "['hose' 'tank' 'header' 'header_tank' 'tank hose']\n",
      "['oil' 'cooler' 'rear' 'rear cooler']\n",
      "['hyd']\n",
      "['hose']\n"
     ]
    },
    {
     "name": "stderr",
     "output_type": "stream",
     "text": [
      " 34%|███▎      | 1846/5485 [01:42<03:21, 18.06it/s]"
     ]
    },
    {
     "name": "stdout",
     "output_type": "stream",
     "text": [
      "['hose' 'valve' 'travel' 'valve_hose' 'travel valve']\n",
      "['oil' 'fan' 'cooler' 'rear' 'oil_cooler' 'fan rear' 'rear oil']\n",
      "['slew']\n",
      "['hose' 'hyd']\n"
     ]
    },
    {
     "name": "stderr",
     "output_type": "stream",
     "text": [
      "\r",
      " 34%|███▎      | 1848/5485 [01:42<03:21, 18.06it/s]"
     ]
    },
    {
     "name": "stdout",
     "output_type": "stream",
     "text": [
      "['slew' 'sender']\n"
     ]
    },
    {
     "name": "stderr",
     "output_type": "stream",
     "text": [
      " 34%|███▍      | 1854/5485 [01:42<03:21, 18.01it/s]"
     ]
    },
    {
     "name": "stdout",
     "output_type": "stream",
     "text": [
      "['pipe' 'steel' 'steel_pipe']\n",
      "['hose' 'hyd' 'hyd_hose']\n",
      "['hose' 'p3']\n",
      "['oil' 'hyd' 'hyd_oil']\n",
      "['hose' 'hyd' 'hyd_hose']\n",
      "['pipe' 'fitting' 'pipe fitting']\n",
      "['right_hand' 'slew' 'ring' 'right_hand_slew' 'slew ring']\n",
      "['oil' 'text']\n",
      "['hose']\n"
     ]
    },
    {
     "name": "stderr",
     "output_type": "stream",
     "text": [
      " 34%|███▍      | 1862/5485 [01:43<03:20, 18.05it/s]"
     ]
    },
    {
     "name": "stdout",
     "output_type": "stream",
     "text": [
      "['oil' 'left_hand' 'pressure' 'sender' 'oil_pressure' 'pressure_sender'\n",
      " 'left_hand oil']\n",
      "['oil']\n",
      "['slew' 'brake' 'slew_brake']\n",
      "['hose' 'tank' 'header' 'header_tank' 'hose header']\n",
      "['right_hand' 'left_hand' 'slew' 'brake' 'slew_brake' 'left_hand_slew'\n",
      " 'right_hand_left_hand']\n",
      "['hose' 'text' 'hose_text']\n",
      "['slew' 'brake' 'machine' 'slew_brake']\n",
      "['hyd']\n"
     ]
    },
    {
     "name": "stderr",
     "output_type": "stream",
     "text": [
      " 34%|███▍      | 1870/5485 [01:43<03:20, 18.07it/s]"
     ]
    },
    {
     "name": "stdout",
     "output_type": "stream",
     "text": [
      "['oil' 'fan']\n",
      "['oil' 'hyd' 'cooler' 'rear' 'hyd_oil' 'oil_cooler' 'rear hyd']\n",
      "['right_hand' 'left_hand' 'slew' 'gearbox' 'left_hand_slew' 'slew_gearbox'\n",
      " 'right_hand_left_hand']\n",
      "['oil' 'drive' 'final' 'final_drive']\n",
      "['left_hand' 'slew' 'motor' 'ring' 'slew_motor' 'left_hand_slew']\n"
     ]
    },
    {
     "name": "stderr",
     "output_type": "stream",
     "text": [
      "\r",
      " 34%|███▍      | 1873/5485 [01:43<03:19, 18.07it/s]"
     ]
    },
    {
     "name": "stdout",
     "output_type": "stream",
     "text": [
      "['hose' 'slew' 'slew_hose']\n",
      "['hose']\n",
      "['oil' 'cooler' 'rear' 'oil_cooler' 'rear oil']\n",
      "['slew' 'brake' 'slew_brake']\n"
     ]
    },
    {
     "name": "stderr",
     "output_type": "stream",
     "text": [
      " 34%|███▍      | 1879/5485 [01:43<03:19, 18.08it/s]"
     ]
    },
    {
     "name": "stdout",
     "output_type": "stream",
     "text": [
      "['slew' 'machine' 'machine slew']\n",
      "['hyd']\n",
      "['right_hand' 'slew' 'valve' 'right_hand_slew']\n",
      "['oil' 'cover']\n",
      "['oil' 'area' 'swivel' 'swivel area']\n",
      "['hose' 'slew' 'shd' 'slew_hose' 'hose_shd']\n"
     ]
    },
    {
     "name": "stderr",
     "output_type": "stream",
     "text": [
      " 34%|███▍      | 1885/5485 [01:44<03:19, 18.08it/s]"
     ]
    },
    {
     "name": "stdout",
     "output_type": "stream",
     "text": [
      "['oil' 'valve' 'body' 'valve body']\n",
      "['slew' 'motor' 'slew_motor']\n",
      "['right_hand' 'slew' 'valve' 'right_hand_slew']\n",
      "['hose' 'text' 'outer' 'crowd_hose' 'hose_text']\n",
      "['slew' 'motor' 'seal' 'slew_motor']\n"
     ]
    },
    {
     "name": "stderr",
     "output_type": "stream",
     "text": [
      "\r",
      " 34%|███▍      | 1888/5485 [01:44<03:18, 18.08it/s]"
     ]
    },
    {
     "name": "stdout",
     "output_type": "stream",
     "text": [
      "['oil' 'clamp' 'history' 'ram' 'clamp ram' 'ram history']\n",
      "['hose']\n",
      "['pump' 'left_hand' 'slew' 'valve' 'upper' 'left_hand_slew' 'slew_pump'\n",
      " 'pump upper']\n",
      "['hose' 'fan' 'text' 'fan hose']\n",
      "['oil' 'box' 'swing' 'swing box']\n"
     ]
    },
    {
     "name": "stderr",
     "output_type": "stream",
     "text": [
      "\r",
      " 34%|███▍      | 1891/5485 [01:44<03:18, 18.09it/s]"
     ]
    },
    {
     "name": "stdout",
     "output_type": "stream",
     "text": [
      "['slew' 'valve' 'text' 'valve text']\n",
      "['right_hand' 'left_hand' 'slew' 'motor' 'slew_motor' 'left_hand_slew'\n",
      " 'right_hand_left_hand']\n",
      "['oil' 'slew' 'box' 'slew_box' 'oil_slew']\n"
     ]
    },
    {
     "name": "stderr",
     "output_type": "stream",
     "text": [
      " 35%|███▍      | 1898/5485 [01:45<03:18, 18.03it/s]"
     ]
    },
    {
     "name": "stdout",
     "output_type": "stream",
     "text": [
      "['hose' 'left_hand' 'motor' 'travel' 'left_hand_travel' 'travel_hose']\n",
      "['slew' 'right' 'gearbox' 'slew_gearbox' 'right_slew']\n",
      "['slew' 'text' 'brake' 'slew_brake' 'text brake']\n",
      "['oil' 'hose' 'swivel' 'swivel hose']\n",
      "['hose' 'hyd' 'hyd_hose']\n",
      "['oil' 'slew' 'text' 'box' 'slew_box']\n",
      "['hose' 'hyd' 'text' 'hyd_hose' 'hose_text']\n",
      "['oil' 'slew' 'motor' 'slew_motor']\n"
     ]
    },
    {
     "name": "stderr",
     "output_type": "stream",
     "text": [
      " 35%|███▍      | 1906/5485 [01:45<03:18, 18.07it/s]"
     ]
    },
    {
     "name": "stdout",
     "output_type": "stream",
     "text": [
      "['hyd']\n",
      "['hose' 'servo' 'servo_hose']\n",
      "['oil' 'slew' 'motor' 'right' 'slew_motor' 'right_slew']\n",
      "['slew' 'light']\n",
      "['hyd']\n",
      "['right_hand' 'slew' 'brake' 'slew_brake' 'right_hand_slew'\n",
      " 'right_hand_right_hand']\n",
      "['oil' 'right_hand' 'slew' 'box' 'right_hand_slew' 'slew_box'\n",
      " 'oil right_hand']\n",
      "['oil' 'box']\n"
     ]
    },
    {
     "name": "stderr",
     "output_type": "stream",
     "text": [
      "\r",
      " 35%|███▍      | 1910/5485 [01:45<03:17, 18.09it/s]"
     ]
    },
    {
     "name": "stdout",
     "output_type": "stream",
     "text": [
      "['hose' 'joint']\n",
      "['hose']\n",
      "['slew' 'valve']\n",
      "['hose' 'drain' 'case' 'joint' 'case_drain' 'drain_hose']\n"
     ]
    },
    {
     "name": "stderr",
     "output_type": "stream",
     "text": [
      " 35%|███▍      | 1917/5485 [01:45<03:17, 18.09it/s]"
     ]
    },
    {
     "name": "stdout",
     "output_type": "stream",
     "text": [
      "['oil' 'text' 'servo' 'housing' 'screen' 'servo screen' 'screen housing'\n",
      " 'housing text']\n",
      "['hose' 'right_hand' 'slew' 'motor' 'slew_motor' 'right_hand_slew'\n",
      " 'motor_hose']\n",
      "['oil' 'pump']\n",
      "['hyd' 'tank' 'hyd_tank']\n",
      "['oil' 'text']\n"
     ]
    },
    {
     "name": "stderr",
     "output_type": "stream",
     "text": [
      "\r",
      " 35%|███▌      | 1920/5485 [01:46<03:17, 18.09it/s]"
     ]
    },
    {
     "name": "stdout",
     "output_type": "stream",
     "text": [
      "['hose' 'right_hand' 'pipe' 'clamp' 'clamp_pipe' 'hose right_hand'\n",
      " 'right_hand clamp']\n",
      "['hose' 'hyd' 'hyd_hose']\n",
      "['hose' 'slew' 'motor' 'slew_motor' 'motor_hose']\n",
      "['pipe']\n",
      "['hose' 'hyd' 'hyd_hose']\n"
     ]
    },
    {
     "name": "stderr",
     "output_type": "stream",
     "text": [
      " 35%|███▌      | 1926/5485 [01:46<03:16, 18.10it/s]"
     ]
    },
    {
     "name": "stdout",
     "output_type": "stream",
     "text": [
      "['hyd' 'tank' 'hyd_tank']\n",
      "['oil' 'valve' 'control' 'control_valve']\n",
      "['hose']\n",
      "['hose']\n",
      "['bucket' 'grease' 'hose' 'pin' 'bucket_pin' 'hose_bucket' 'grease_hose']\n"
     ]
    },
    {
     "name": "stderr",
     "output_type": "stream",
     "text": [
      " 35%|███▌      | 1932/5485 [01:46<03:16, 18.10it/s]"
     ]
    },
    {
     "name": "stdout",
     "output_type": "stream",
     "text": [
      "['oil']\n",
      "['oil']\n",
      "['oil' 'fan' 'cooler' 'oil_cooler' 'cooler_fan']\n",
      "['hose']\n"
     ]
    },
    {
     "name": "stderr",
     "output_type": "stream",
     "text": [
      "\r",
      " 35%|███▌      | 1935/5485 [01:46<03:16, 18.10it/s]"
     ]
    },
    {
     "name": "stdout",
     "output_type": "stream",
     "text": [
      "['hose' 'crowd_hose']\n",
      "['slew' 'light' 'brake' 'slew_brake' 'brake light']\n",
      "['slew']\n",
      "['oil' 'valve' 'control' 'control_valve' 'valve oil']\n"
     ]
    },
    {
     "name": "stderr",
     "output_type": "stream",
     "text": [
      "\r",
      " 35%|███▌      | 1938/5485 [01:47<03:15, 18.11it/s]"
     ]
    },
    {
     "name": "stdout",
     "output_type": "stream",
     "text": [
      "['hose' 'slew' 'motor' 'slew_motor' 'hose_slew']\n",
      "['oil' 'boom' 'valve' 'control' 'control_valve' 'boom_control']\n"
     ]
    },
    {
     "name": "stderr",
     "output_type": "stream",
     "text": [
      " 35%|███▌      | 1945/5485 [01:47<03:15, 18.07it/s]"
     ]
    },
    {
     "name": "stdout",
     "output_type": "stream",
     "text": [
      "['right_hand' 'left_hand' 'slew' 'brake' 'slew_brake' 'left_hand_slew'\n",
      " 'right_hand_left_hand']\n",
      "['hose' 'hyd' 'hyd_hose']\n",
      "['oil' 'valve' 'valve oil']\n",
      "['hose' 'return_hose']\n",
      "['oil' 'slew' 'box' 'slew_box']\n",
      "['slew' 'motor' 'slew_motor']\n",
      "['bucket' 'oil' 'rear' 'rear bucket']\n",
      "['oil' 'slew' 'valve']\n",
      "['hose' 'lower' 'bracket' 'hose bracket']\n"
     ]
    },
    {
     "name": "stderr",
     "output_type": "stream",
     "text": [
      " 36%|███▌      | 1953/5485 [01:47<03:15, 18.11it/s]"
     ]
    },
    {
     "name": "stdout",
     "output_type": "stream",
     "text": [
      "['hose']\n",
      "['slew' 'valve' 'control' 'terex' 'control_valve' 'slew control'\n",
      " 'terex slew']\n",
      "['right_hand' 'slew' 'box' 'right_hand_slew' 'slew_box']\n",
      "['slew' 'box' 'slew_box']\n",
      "['hose' 'slew' 'motor' 'drain' 'case' 'slew_motor' 'case_drain'\n",
      " 'drain_hose' 'motor case']\n",
      "['slew' 'motor' 'drain' 'case' 'slew_motor' 'case_drain' 'motor case']\n",
      "['slew' 'box' 'fitting' 'slew_box' 'fitting slew']\n",
      "['slew' 'box' 'slew_box']\n"
     ]
    },
    {
     "name": "stderr",
     "output_type": "stream",
     "text": [
      " 36%|███▌      | 1960/5485 [01:48<03:14, 18.12it/s]"
     ]
    },
    {
     "name": "stdout",
     "output_type": "stream",
     "text": [
      "['hose']\n",
      "['right_hand' 'slew' 'motor' 'slew_motor' 'right_hand_slew'\n",
      " 'right_hand_right_hand']\n",
      "['right_hand' 'slew' 'gearbox' 'right_hand_slew' 'slew_gearbox'\n",
      " 'right_hand_right_hand']\n",
      "['right_hand' 'slew' 'brake' 'slew_brake' 'right_hand_slew'\n",
      " 'right_hand_right_hand']\n",
      "['oil' 'hyd' 'hyd_oil']\n"
     ]
    },
    {
     "name": "stderr",
     "output_type": "stream",
     "text": [
      "\r",
      " 36%|███▌      | 1963/5485 [01:48<03:14, 18.12it/s]"
     ]
    },
    {
     "name": "stdout",
     "output_type": "stream",
     "text": [
      "['oil' 'hyd' 'hyd_oil']\n",
      "['slew' 'valve' 'elbow' 'balance' 'slew balance' 'balance valve'\n",
      " 'elbow slew']\n",
      "['hose' 'reel' 'capital' 'hose_reel']\n",
      "['hyd']\n",
      "['line' 'boom' 'hyd' 'steel' 'steel_line' 'boom_hyd' 'hyd steel']\n"
     ]
    },
    {
     "name": "stderr",
     "output_type": "stream",
     "text": [
      " 36%|███▌      | 1969/5485 [01:48<03:14, 18.12it/s]"
     ]
    },
    {
     "name": "stdout",
     "output_type": "stream",
     "text": [
      "['hyd' 'wire']\n",
      "['oil' 'hyd' 'hyd_oil']\n",
      "['hose' 'cylinder' 'clamp' 'cylinder_hose' 'clamp_cylinder']\n",
      "['hose' 'hyd' 'clamp' 'hyd_hose']\n"
     ]
    },
    {
     "name": "stderr",
     "output_type": "stream",
     "text": [
      "\r",
      " 36%|███▌      | 1972/5485 [01:48<03:13, 18.12it/s]"
     ]
    },
    {
     "name": "stdout",
     "output_type": "stream",
     "text": [
      "['oil' 'hose' 'hyd' 'hyd_hose']\n",
      "['slew']\n",
      "['hyd' 'pipe' 'hyd_pipe']\n",
      "['hose' 'hyd' 'hyd_hose']\n",
      "['boom' 'hyd' 'pipe' 'hyd_pipe']\n"
     ]
    },
    {
     "name": "stderr",
     "output_type": "stream",
     "text": [
      " 36%|███▌      | 1978/5485 [01:49<03:13, 18.13it/s]"
     ]
    },
    {
     "name": "stdout",
     "output_type": "stream",
     "text": [
      "['hose' 'hyd' 'hyd_hose']\n",
      "['line' 'slew' 'hyd' 'hyd_line' 'line slew']\n",
      "['slew' 'motor' 'left' 'slew_motor' 'left_slew']\n",
      "['slew' 'motor' 'right' 'slew_motor' 'right_slew']\n",
      "['oil' 'boom' 'hyd' 'hyd_oil']\n"
     ]
    },
    {
     "name": "stderr",
     "output_type": "stream",
     "text": [
      "\r",
      " 36%|███▌      | 1981/5485 [01:49<03:13, 18.13it/s]"
     ]
    },
    {
     "name": "stdout",
     "output_type": "stream",
     "text": [
      "['line' 'boom' 'steel' 'steel_line' 'line_boom']\n",
      "['slew' 'motor' 'slew_motor']\n",
      "['slew' 'hyd' 'motor' 'slew_motor']\n"
     ]
    },
    {
     "name": "stderr",
     "output_type": "stream",
     "text": [
      " 36%|███▌      | 1988/5485 [01:49<03:13, 18.08it/s]"
     ]
    },
    {
     "name": "stdout",
     "output_type": "stream",
     "text": [
      "['oil' 'slew' 'cap' 'reservoir' 'slew reservoir']\n",
      "['hose' 'boom' 'hyd' 'hyd_hose' 'hose_boom']\n",
      "['hose' 'slew' 'motor' 'slew_motor' 'motor_hose']\n",
      "['oil' 'cover' 'timing' 'timing cover']\n",
      "['hose' 'boom' 'hyd' 'hyd_hose']\n",
      "['hose' 'hyd' 'servo' 'hyd_hose' 'servo hyd']\n",
      "['oil' 'box' 'swing' 'box_oil' 'swing box']\n",
      "['hyd' 'filter' 'hyd_filter']\n",
      "['oil' 'hyd' 'hyd_oil']\n"
     ]
    },
    {
     "name": "stderr",
     "output_type": "stream",
     "text": [
      " 36%|███▋      | 1996/5485 [01:50<03:12, 18.12it/s]"
     ]
    },
    {
     "name": "stdout",
     "output_type": "stream",
     "text": [
      "['hose' 'clamp' 'hose_clamp']\n",
      "['boom' 'hyd']\n",
      "['slew' 'left' 'hand' 'gearcase' 'slew gearcase' 'hand slew']\n",
      "['slew' 'hand' 'right' 'gearcase' 'slew gearcase' 'hand slew']\n",
      "['hyd' 'terex']\n",
      "['hose' 'servo' 'servo_hose']\n",
      "['oil' 'body' 'car' 'car_body']\n",
      "['oil' 'clamp' 'steel' 'tube' 'steel_tube' 'tube clamp']\n"
     ]
    },
    {
     "name": "stderr",
     "output_type": "stream",
     "text": [
      " 37%|███▋      | 2004/5485 [01:50<03:11, 18.14it/s]"
     ]
    },
    {
     "name": "stdout",
     "output_type": "stream",
     "text": [
      "['hyd' 'text']\n",
      "['oil' 'clamp']\n",
      "['right_hand' 'slew' 'motor' 'slew_motor' 'right_hand_slew']\n",
      "['oil' 'engine' 'hyd' 'bay' 'hyd_oil' 'engine_bay']\n",
      "['bucket' 'hose' 'clamp' 'circuit' 'clamp circuit' 'circuit hose']\n"
     ]
    },
    {
     "name": "stderr",
     "output_type": "stream",
     "text": [
      "\r",
      " 37%|███▋      | 2007/5485 [01:50<03:11, 18.14it/s]"
     ]
    },
    {
     "name": "stdout",
     "output_type": "stream",
     "text": [
      "['boom' 'hyd' 'pipe' 'pipe_boom' 'hyd_pipe']\n",
      "['text']\n",
      "['hyd']\n",
      "['hyd' 'machine']\n",
      "['right_hand' 'boom' 'hyd' 'cylinder' 'boom_cylinder' 'right_hand_boom']\n"
     ]
    },
    {
     "name": "stderr",
     "output_type": "stream",
     "text": [
      " 37%|███▋      | 2013/5485 [01:50<03:11, 18.14it/s]"
     ]
    },
    {
     "name": "stdout",
     "output_type": "stream",
     "text": [
      "['hose' 'rear' 'deck' 'reel' 'hose_reel' 'reel rear' 'rear deck']\n",
      "['hose' 'hyd' 'hyd_hose']\n",
      "['hose' 'hyd' 'hyd_hose']\n",
      "['oil' 'slew' 'valve' 'balance' 'slew balance' 'balance valve']\n"
     ]
    },
    {
     "name": "stderr",
     "output_type": "stream",
     "text": [
      "\r",
      " 37%|███▋      | 2016/5485 [01:51<03:11, 18.15it/s]"
     ]
    },
    {
     "name": "stdout",
     "output_type": "stream",
     "text": [
      "['hose' 'clamp' 'clamp_hose']\n",
      "['oil']\n",
      "['hose' 'hyd' 'hyd_hose']\n",
      "['boom' 'hyd']\n",
      "['fitting']\n"
     ]
    },
    {
     "name": "stderr",
     "output_type": "stream",
     "text": [
      " 37%|███▋      | 2022/5485 [01:51<03:10, 18.15it/s]"
     ]
    },
    {
     "name": "stdout",
     "output_type": "stream",
     "text": [
      "['hose' 'hyd' 'hyd_hose']\n",
      "['hose' 'hyd' 'hyd_hose']\n",
      "['pump' 'hyd' 'valve']\n",
      "['hyd' 'light' 'gearcase']\n"
     ]
    },
    {
     "name": "stderr",
     "output_type": "stream",
     "text": [
      "\r",
      " 37%|███▋      | 2025/5485 [01:51<03:10, 18.15it/s]"
     ]
    },
    {
     "name": "stdout",
     "output_type": "stream",
     "text": [
      "['cover' 'wall']\n",
      "['pump' 'left_hand' 'hyd' 'fan' 'fan_pump' 'hyd fan' 'left_hand hyd']\n",
      "['pump' 'right_hand' 'hyd' 'fan' 'fan_pump' 'hyd fan' 'right_hand hyd']\n",
      "['slew' 'motor' 'left' 'slew_motor' 'left_slew']\n",
      "['slew' 'motor' 'right' 'slew_motor' 'right_slew']\n"
     ]
    },
    {
     "name": "stderr",
     "output_type": "stream",
     "text": [
      "\r",
      " 37%|███▋      | 2028/5485 [01:51<03:10, 18.15it/s]"
     ]
    },
    {
     "name": "stdout",
     "output_type": "stream",
     "text": [
      "['oil' 'pipe' 'clamp' 'clamp_pipe' 'pipe oil']\n"
     ]
    },
    {
     "name": "stderr",
     "output_type": "stream",
     "text": [
      " 37%|███▋      | 2036/5485 [01:52<03:10, 18.12it/s]"
     ]
    },
    {
     "name": "stdout",
     "output_type": "stream",
     "text": [
      "['hose' 'hyd' 'filter' 'hyd_hose']\n",
      "['oil' 'centrifugal']\n",
      "['oil' 'valve' 'clamp' 'clamp valve']\n",
      "['hose' 'boom' 'hyd' 'ring' 'hyd_hose' 'boom_hyd' 'ring_boom']\n",
      "['hose' 'right_hand' 'travel' 'travel_hose' 'right_hand_travel']\n",
      "['hose' 'hyd' 'travel' 'travel_hose']\n",
      "['boom' 'hyd' 'pipe' 'boom_pipe']\n",
      "['hose' 'screen']\n"
     ]
    },
    {
     "name": "stderr",
     "output_type": "stream",
     "text": [
      " 37%|███▋      | 2044/5485 [01:52<03:09, 18.15it/s]"
     ]
    },
    {
     "name": "stdout",
     "output_type": "stream",
     "text": [
      "['left_hand' 'slew' 'motor' 'warranty' 'slew_motor' 'left_hand_slew'\n",
      " 'motor warranty']\n",
      "['slew' 'brake' 'slew_brake']\n",
      "['oil' 'slew' 'circuit' 'slew circuit']\n",
      "['hyd' 'filter' 'cooler' 'screen' 'hyd_cooler' 'cooler filter']\n",
      "['light']\n",
      "['hose' 'slew' 'motor' 'slew_motor']\n",
      "['left_hand' 'slew' 'valve' 'seal' 'left_hand_slew']\n",
      "['right_hand' 'slew' 'brake' 'slew_brake' 'right_hand_slew']\n"
     ]
    },
    {
     "name": "stderr",
     "output_type": "stream",
     "text": [
      "\r",
      " 37%|███▋      | 2048/5485 [01:52<03:09, 18.16it/s]"
     ]
    },
    {
     "name": "stdout",
     "output_type": "stream",
     "text": [
      "['line' 'boom' 'left_hand' 'clamp' 'steel' 'steel_line' 'line_boom'\n",
      " 'clamp steel' 'left_hand clamp']\n",
      "['hose' 'boom' 'boom_hose']\n",
      "['slew']\n",
      "['hose' 'slew' 'area' 'hose_slew' 'slew area']\n",
      "['hyd' 'sender']\n"
     ]
    },
    {
     "name": "stderr",
     "output_type": "stream",
     "text": [
      " 37%|███▋      | 2054/5485 [01:53<03:08, 18.16it/s]"
     ]
    },
    {
     "name": "stdout",
     "output_type": "stream",
     "text": [
      "['oil' 'hyd' 'sos' 'hyd_oil' 'oil sos']\n",
      "['hose' 'cylinder' 'cylinder_hose' 'crowd cylinder']\n",
      "['hose' 'boom' 'hyd' 'hyd_hose' 'hose_boom']\n",
      "['hose' 'slew' 'circuit' 'hose_slew' 'slew circuit']\n",
      "['bucket' 'oil' 'hose' 'hyd' 'hyd_oil' 'hose_bucket' 'oil_hose']\n"
     ]
    },
    {
     "name": "stderr",
     "output_type": "stream",
     "text": [
      "\r",
      " 38%|███▊      | 2057/5485 [01:53<03:08, 18.16it/s]"
     ]
    },
    {
     "name": "stdout",
     "output_type": "stream",
     "text": [
      "['oil' 'hyd' 'steel' 'tube' 'hyd_oil' 'steel_tube']\n",
      "['hose' 'clamp' 'clamp_hose']\n",
      "['right_hand' 'left_hand' 'hyd' 'manifold' 'left_hand_right_hand'\n",
      " 'right_hand hyd']\n",
      "['oil' 'boom' 'pipe' 'boom_pipe']\n",
      "['oil']\n"
     ]
    },
    {
     "name": "stderr",
     "output_type": "stream",
     "text": [
      " 38%|███▊      | 2063/5485 [01:53<03:08, 18.17it/s]"
     ]
    },
    {
     "name": "stdout",
     "output_type": "stream",
     "text": [
      "['oil' 'hyd' 'cooler' 'hyd_oil' 'oil_cooler']\n",
      "['boom' 'hyd']\n",
      "['bucket' 'hose' 'hyd' 'ram' 'hyd_hose' 'bucket_ram' 'ram hyd']\n",
      "['oil' 'hyd' 'hyd_oil']\n",
      "['oil' 'hyd' 'cooler' 'rear' 'hyd_oil' 'oil_cooler' 'rear hyd']\n"
     ]
    },
    {
     "name": "stderr",
     "output_type": "stream",
     "text": [
      " 38%|███▊      | 2069/5485 [01:53<03:07, 18.17it/s]"
     ]
    },
    {
     "name": "stdout",
     "output_type": "stream",
     "text": [
      "['right_hand' 'slew' 'gearbox' 'right_hand_slew' 'slew_gearbox']\n",
      "['slew' 'right' 'gearbox' 'slew_gearbox' 'right_slew']\n",
      "['slew' 'left' 'gearbox' 'slew_gearbox' 'left_slew']\n",
      "['indicator']\n",
      "['line' 'boom' 'steel' 'steel_line' 'line_boom']\n"
     ]
    },
    {
     "name": "stderr",
     "output_type": "stream",
     "text": [
      "\r",
      " 38%|███▊      | 2072/5485 [01:54<03:07, 18.17it/s]"
     ]
    },
    {
     "name": "stdout",
     "output_type": "stream",
     "text": [
      "['hyd']\n",
      "['hose' 'valve' 'pilot' 'float' 'float_valve' 'pilot hose']\n"
     ]
    },
    {
     "name": "stderr",
     "output_type": "stream",
     "text": [
      " 38%|███▊      | 2079/5485 [01:54<03:07, 18.13it/s]"
     ]
    },
    {
     "name": "stdout",
     "output_type": "stream",
     "text": [
      "['hose' 'slew' 'area' 'slew area']\n",
      "['hose' 'hyd' 'hyd_hose']\n",
      "['oil' 'gearbox']\n",
      "['oil' 'filter' 'high_pressure_filter']\n",
      "['hose' 'muffler' 'dust']\n",
      "['boom' 'hyd' 'pipe' 'pipe_boom' 'hyd_pipe']\n",
      "['hose' 'filter' 'high_pressure_filter']\n",
      "['right']\n"
     ]
    },
    {
     "name": "stderr",
     "output_type": "stream",
     "text": [
      " 38%|███▊      | 2087/5485 [01:54<03:07, 18.17it/s]"
     ]
    },
    {
     "name": "stdout",
     "output_type": "stream",
     "text": [
      "['hose' 'hyd' 'hyd_hose']\n",
      "['oil' 'boom' 'pipe' 'boom_pipe']\n",
      "['oil' 'boom']\n",
      "['oil' 'right_hand' 'motor' 'drive' 'drive motor' 'right_hand drive']\n",
      "['hose' 'boom' 'hyd' 'hyd_hose' 'boom_hyd']\n",
      "['oil' 'shd' 'box' 'gear' 'gear_box' 'box_oil' 'shd gear']\n",
      "['slew' 'motor' 'left' 'slew_motor' 'left_slew']\n",
      "['slew' 'motor' 'right' 'slew_motor' 'right_slew']\n"
     ]
    },
    {
     "name": "stderr",
     "output_type": "stream",
     "text": [
      "\r",
      " 38%|███▊      | 2091/5485 [01:55<03:06, 18.18it/s]"
     ]
    },
    {
     "name": "stdout",
     "output_type": "stream",
     "text": [
      "['hose' 'slew' 'screen' 'hose_slew']\n",
      "['hyd' 'pipe' 'clamp' 'clamp_pipe']\n",
      "['bucket' 'hose' 'left_hand' 'cylinder' 'bucket_cylinder' 'cylinder_hose'\n",
      " 'left_hand_bucket']\n",
      "['oil' 'boom']\n",
      "['hose' 'solenoid' 'logic' 'solenoid hose' 'logic solenoid']\n"
     ]
    },
    {
     "name": "stderr",
     "output_type": "stream",
     "text": [
      " 38%|███▊      | 2097/5485 [01:55<03:06, 18.18it/s]"
     ]
    },
    {
     "name": "stdout",
     "output_type": "stream",
     "text": [
      "['slew' 'motor' 'slew_motor']\n",
      "['oil' 'hyd' 'cooler' 'hyd_oil' 'oil_cooler']\n",
      "['slew' 'rotor' 'swivel' 'slew rotor' 'rotor swivel']\n",
      "['oil' 'hyd' 'cooler' 'hyd_oil' 'oil_cooler']\n"
     ]
    },
    {
     "name": "stderr",
     "output_type": "stream",
     "text": [
      "\r",
      " 38%|███▊      | 2100/5485 [01:55<03:06, 18.18it/s]"
     ]
    },
    {
     "name": "stdout",
     "output_type": "stream",
     "text": [
      "['hose' 'slew' 'drive' 'box' 'hose_slew' 'drive_box' 'slew drive']\n",
      "['hyd' 'screen']\n",
      "['hose' 'hyd' 'pressure' 'pressure hose']\n",
      "['oil' 'boom' 'pipe' 'boom_pipe']\n",
      "['oil' 'pressure' 'oil_pressure']\n"
     ]
    },
    {
     "name": "stderr",
     "output_type": "stream",
     "text": [
      " 38%|███▊      | 2106/5485 [01:55<03:05, 18.19it/s]"
     ]
    },
    {
     "name": "stdout",
     "output_type": "stream",
     "text": [
      "['hose' 'hyd' 'hyd_hose']\n",
      "['oil' 'hyd' 'hyd_oil']\n",
      "['hyd' 'undercarriage']\n",
      "['hose' 'control' 'mcv' 'control hose']\n",
      "['left_hand' 'slew' 'motor' 'slew_motor' 'left_hand_slew']\n"
     ]
    },
    {
     "name": "stderr",
     "output_type": "stream",
     "text": [
      " 39%|███▊      | 2112/5485 [01:56<03:05, 18.19it/s]"
     ]
    },
    {
     "name": "stdout",
     "output_type": "stream",
     "text": [
      "['hose' 'fitting' 'hose fitting']\n",
      "['oil' 'sample' 'oil_sample']\n",
      "['hyd']\n",
      "['hose' 'slew' 'hyd' 'area' 'hyd_hose' 'hose_slew' 'slew area']\n",
      "['hose' 'slew' 'slew_hose']\n"
     ]
    },
    {
     "name": "stderr",
     "output_type": "stream",
     "text": [
      "\r",
      " 39%|███▊      | 2115/5485 [01:56<03:05, 18.19it/s]"
     ]
    },
    {
     "name": "stdout",
     "output_type": "stream",
     "text": [
      "['oil' 'hyd' 'hyd_oil']\n",
      "['hose' 'right_hand' 'slew' 'right_hand_slew' 'slew_hose']\n",
      "['oil' 'filter' 'high_pressure_filter']\n"
     ]
    },
    {
     "name": "stderr",
     "output_type": "stream",
     "text": [
      " 39%|███▊      | 2122/5485 [01:56<03:05, 18.15it/s]"
     ]
    },
    {
     "name": "stdout",
     "output_type": "stream",
     "text": [
      "['slew' 'left' 'gearbox' 'slew_gearbox' 'left_slew']\n",
      "['slew' 'right' 'gearbox' 'slew_gearbox' 'right_slew']\n",
      "['slew' 'left' 'brake' 'slew_brake' 'brake left']\n",
      "['slew' 'brake' 'right' 'slew_brake' 'brake right']\n",
      "['slew' 'ring' 'gear' 'slew ring' 'ring gear']\n",
      "['hose' 'cover']\n",
      "['oil' 'slew' 'valve']\n",
      "['slew']\n"
     ]
    },
    {
     "name": "stderr",
     "output_type": "stream",
     "text": [
      " 39%|███▉      | 2130/5485 [01:57<03:04, 18.19it/s]"
     ]
    },
    {
     "name": "stdout",
     "output_type": "stream",
     "text": [
      "['slew' 'brake' 'slew_brake']\n",
      "['slew']\n",
      "['slew']\n",
      "['oil' 'slew' 'box' 'slew_box' 'box_oil']\n",
      "['hose' 'hyd' 'hyd_hose']\n",
      "['oil' 'hyd' 'hyd_oil']\n",
      "['pipe' 'text' 'pipe text']\n",
      "['hose']\n"
     ]
    },
    {
     "name": "stderr",
     "output_type": "stream",
     "text": [
      "\r",
      " 39%|███▉      | 2134/5485 [01:57<03:04, 18.20it/s]"
     ]
    },
    {
     "name": "stdout",
     "output_type": "stream",
     "text": [
      "['oil' 'motor' 'motor oil']\n",
      "['oil' 'pump' 'drive' 'box' 'pump_drive' 'drive_box' 'oil pump']\n",
      "['hyd']\n",
      "['oil']\n"
     ]
    },
    {
     "name": "stderr",
     "output_type": "stream",
     "text": [
      "\r",
      " 39%|███▉      | 2137/5485 [01:57<03:03, 18.20it/s]"
     ]
    },
    {
     "name": "stdout",
     "output_type": "stream",
     "text": [
      "['hyd' 'pipe' 'hyd_pipe']\n",
      "['oil']\n",
      "['oil' 'supply']\n",
      "['hose' 'hyd' 'hyd_hose']\n"
     ]
    },
    {
     "name": "stderr",
     "output_type": "stream",
     "text": [
      " 39%|███▉      | 2143/5485 [01:57<03:03, 18.20it/s]"
     ]
    },
    {
     "name": "stdout",
     "output_type": "stream",
     "text": [
      "['oil' 'hyd' 'hyd_oil']\n",
      "['hose' 'text' 'hose_text']\n",
      "['left_hand' 'slew' 'brake' 'slew_brake' 'left_hand_slew']\n",
      "['right_hand' 'slew' 'brake' 'slew_brake' 'right_hand_slew']\n"
     ]
    },
    {
     "name": "stderr",
     "output_type": "stream",
     "text": [
      "\r",
      " 39%|███▉      | 2146/5485 [01:57<03:03, 18.20it/s]"
     ]
    },
    {
     "name": "stdout",
     "output_type": "stream",
     "text": [
      "['oil' 'pto' 'box' 'pto_box' 'box_oil']\n",
      "['hose' 'dust']\n",
      "['slew' 'valve' 'valve valve']\n",
      "['hose' 'motor']\n"
     ]
    },
    {
     "name": "stderr",
     "output_type": "stream",
     "text": [
      "\r",
      " 39%|███▉      | 2149/5485 [01:58<03:03, 18.20it/s]"
     ]
    },
    {
     "name": "stdout",
     "output_type": "stream",
     "text": [
      "['hose' 'hyd' 'hyd_hose']\n",
      "['oil' 'cover']\n",
      "['hose' 'hyd' 'hyd_hose']\n",
      "['hose']\n",
      "['hose' 'mcv' 'return_hose']\n"
     ]
    },
    {
     "name": "stderr",
     "output_type": "stream",
     "text": [
      " 39%|███▉      | 2155/5485 [01:58<03:02, 18.21it/s]"
     ]
    },
    {
     "name": "stdout",
     "output_type": "stream",
     "text": [
      "['line' 'hyd' 'hyd_line']\n",
      "['oil' 'cooler' 'oil_cooler']\n",
      "['oil' 'hyd' 'tank' 'scope' 'hyd_tank']\n",
      "['oil' 'slew' 'motor' 'slew_motor']\n"
     ]
    },
    {
     "name": "stderr",
     "output_type": "stream",
     "text": [
      "\r",
      " 39%|███▉      | 2158/5485 [01:58<03:02, 18.21it/s]"
     ]
    },
    {
     "name": "stdout",
     "output_type": "stream",
     "text": [
      "['line' 'track' 'steel' 'steel_line']\n",
      "['line' 'hyd' 'hyd_line']\n",
      "['hose' 'valve' 'valve_hose']\n"
     ]
    },
    {
     "name": "stderr",
     "output_type": "stream",
     "text": [
      " 39%|███▉      | 2165/5485 [01:59<03:02, 18.16it/s]"
     ]
    },
    {
     "name": "stdout",
     "output_type": "stream",
     "text": [
      "['hose' 'hyd' 'wall' 'hose hyd']\n",
      "['slew' 'machine']\n",
      "['slew' 'motor' 'switch' 'slew_motor']\n",
      "['oil' 'slew' 'gear' 'oil_slew' 'slew gear']\n",
      "['oil' 'left_hand' 'cover' 'timing' 'timing cover' 'cover left_hand']\n",
      "['hose' 'shd' 'pirtek' 'hose_shd']\n",
      "['oil' 'machine' 'supply']\n",
      "['oil']\n",
      "['slew' 'shd' 'gearbox' 'slew_gearbox']\n"
     ]
    },
    {
     "name": "stderr",
     "output_type": "stream",
     "text": [
      " 40%|███▉      | 2173/5485 [01:59<03:01, 18.20it/s]"
     ]
    },
    {
     "name": "stdout",
     "output_type": "stream",
     "text": [
      "['slew' 'shd' 'gearbox' 'slew_gearbox']\n",
      "['hose' 'propel hose']\n",
      "['oil' 'swing']\n",
      "['p1']\n",
      "['shd' 'pirtek' '06' 'pirtek_shd' 'shd 06']\n",
      "['slew' 'box' 'slew_box']\n",
      "['oil' 'hose' 'slew' 'motor' 'slew_motor' 'motor_hose' 'oil_slew']\n",
      "['shd' 'p1']\n"
     ]
    },
    {
     "name": "stderr",
     "output_type": "stream",
     "text": [
      "\r",
      " 40%|███▉      | 2177/5485 [01:59<03:01, 18.21it/s]"
     ]
    },
    {
     "name": "stdout",
     "output_type": "stream",
     "text": [
      "['shd' 'p2']\n",
      "['shd' 'p3']\n",
      "['shd' 'p4']\n",
      "['pump' 'slew' 'shd' 'indicator' 'slew_pump' 'shd slew']\n"
     ]
    },
    {
     "name": "stderr",
     "output_type": "stream",
     "text": [
      " 40%|███▉      | 2184/5485 [01:59<03:01, 18.22it/s]"
     ]
    },
    {
     "name": "stdout",
     "output_type": "stream",
     "text": [
      "['slew' 'shd' 'motor' 'slew_motor']\n",
      "['slew' 'shd' 'motor' 'slew_motor']\n",
      "['hose' 'slew' 'slew_hose']\n",
      "['hose' 'crowd_hose']\n"
     ]
    },
    {
     "name": "stderr",
     "output_type": "stream",
     "text": [
      "\r",
      " 40%|███▉      | 2187/5485 [02:00<03:01, 18.22it/s]"
     ]
    },
    {
     "name": "stdout",
     "output_type": "stream",
     "text": [
      "['hose' 'crowd_hose']\n",
      "['hyd' 'tank' 'breather' 'breather tank']\n",
      "['hyd' 'tank' 'breather' 'hyd_tank' 'breather hyd']\n",
      "['oil']\n"
     ]
    },
    {
     "name": "stderr",
     "output_type": "stream",
     "text": [
      "\r",
      " 40%|███▉      | 2190/5485 [02:00<03:00, 18.22it/s]"
     ]
    },
    {
     "name": "stdout",
     "output_type": "stream",
     "text": [
      "['shd' 'hyd' 'switch' 'switch_shd']\n",
      "['hose' 'shd' 'mcv' 'return_hose' 'hose mcv']\n",
      "['hose' 'slew' 'slew_hose']\n",
      "['hose' 'hyd' 'hyd_hose']\n"
     ]
    },
    {
     "name": "stderr",
     "output_type": "stream",
     "text": [
      " 40%|████      | 2196/5485 [02:00<03:00, 18.22it/s]"
     ]
    },
    {
     "name": "stdout",
     "output_type": "stream",
     "text": [
      "['oil' 'shd' 'pressure' 'oil_pressure']\n",
      "['hyd' 'tank' 'ring' 'hyd_tank' 'ring hyd']\n",
      "['oil' 'shd' 'valve' 'logic' 'valve shd' 'logic valve']\n",
      "['oil' 'gauge' 'oil_gauge']\n"
     ]
    },
    {
     "name": "stderr",
     "output_type": "stream",
     "text": [
      "\r",
      " 40%|████      | 2199/5485 [02:00<03:00, 18.22it/s]"
     ]
    },
    {
     "name": "stdout",
     "output_type": "stream",
     "text": [
      "['oil' 'motor' 'scope' 'scope oil']\n",
      "['hose']\n",
      "['slew' 'motor' 'slew_motor']\n",
      "['oil']\n"
     ]
    },
    {
     "name": "stderr",
     "output_type": "stream",
     "text": [
      "\r",
      " 40%|████      | 2202/5485 [02:00<03:00, 18.23it/s]"
     ]
    },
    {
     "name": "stdout",
     "output_type": "stream",
     "text": [
      "['hose' 'slew' 'hyd' 'hyd_hose' 'slew hyd']\n",
      "['hose']\n",
      "['hose' 'slew' 'motor' 'slew_motor' 'motor_hose']\n",
      "['hose' 'shd' 'hyd' 'hyd_hose']\n"
     ]
    },
    {
     "name": "stderr",
     "output_type": "stream",
     "text": [
      " 40%|████      | 2209/5485 [02:01<03:00, 18.17it/s]"
     ]
    },
    {
     "name": "stdout",
     "output_type": "stream",
     "text": [
      "['hose' 'shd' 'pirtek' 'pirtek_shd' 'shd_hose']\n",
      "['oil']\n",
      "['hose' 'propel hose']\n",
      "['hose' 'shd' 'pirtek' 'pirtek_shd' 'shd_hose']\n",
      "['hose' 'hyd' 'hyd_hose']\n",
      "['oil' 'hyd' 'hyd_oil']\n",
      "['slew' 'hour' 'slew hour']\n",
      "['hose' 'propel hose']\n",
      "['pirtek']\n"
     ]
    },
    {
     "name": "stderr",
     "output_type": "stream",
     "text": [
      " 40%|████      | 2221/5485 [02:01<02:59, 18.23it/s]"
     ]
    },
    {
     "name": "stdout",
     "output_type": "stream",
     "text": [
      "['slew' 'valve']\n",
      "['slew' 'history' 'slew history']\n",
      "['hose' 'track']\n",
      "['slew']\n",
      "['hose' 'cooler']\n",
      "['hose' 'shd' 'pirtek' 'pirtek_shd' 'shd_hose']\n",
      "['slew' 'valve' 'fitting' 'balance' 'slew balance' 'balance valve'\n",
      " 'fitting slew']\n",
      "['slew' 'valve' 'fitting' 'balance' 'slew balance' 'balance valve']\n"
     ]
    },
    {
     "name": "stderr",
     "output_type": "stream",
     "text": [
      "\r",
      " 41%|████      | 2225/5485 [02:02<02:58, 18.23it/s]"
     ]
    },
    {
     "name": "stdout",
     "output_type": "stream",
     "text": [
      "['hose' 'right_hand' 'mcv' 'hose right_hand' 'right_hand mcv']\n",
      "['hose' 'slew' 'shd' 'slew_hose' 'hose_shd']\n",
      "['hose' 'shd' 'pirtek' 'pirtek_shd' 'shd_hose']\n",
      "['oil' 'joint']\n"
     ]
    },
    {
     "name": "stderr",
     "output_type": "stream",
     "text": [
      "\r",
      " 41%|████      | 2228/5485 [02:02<02:58, 18.23it/s]"
     ]
    },
    {
     "name": "stdout",
     "output_type": "stream",
     "text": [
      "['hyd']\n",
      "['hose' 'slew' 'motor' 'slew_motor' 'motor_hose']\n",
      "['line' 'hyd' 'hyd_line']\n",
      "['hose' 'shd' 'pirtek' 'pirtek_shd' 'shd_hose']\n",
      "['oil' 'hyd' 'hyd_oil']\n"
     ]
    },
    {
     "name": "stderr",
     "output_type": "stream",
     "text": [
      " 41%|████      | 2234/5485 [02:02<02:58, 18.23it/s]"
     ]
    },
    {
     "name": "stdout",
     "output_type": "stream",
     "text": [
      "['oil' 'cutting' 'cutting oil']\n",
      "['slew' 'motor' 'slew_motor']\n",
      "['hyd' 'fitting' 'hyd fitting']\n",
      "['hose' 'shd' 'hyd' 'valve' 'hyd_hose' 'hose_shd' 'valve hyd']\n"
     ]
    },
    {
     "name": "stderr",
     "output_type": "stream",
     "text": [
      "\r",
      " 41%|████      | 2237/5485 [02:02<02:58, 18.23it/s]"
     ]
    },
    {
     "name": "stdout",
     "output_type": "stream",
     "text": [
      "['hose' 'hyd' 'hyd_hose']\n",
      "['hose' 'hyd' 'hyd_hose']\n",
      "['hyd']\n",
      "['slew' 'motor' 'reservoir' 'slew_motor' 'motor reservoir']\n",
      "['slew' 'rotor' 'slew rotor']\n"
     ]
    },
    {
     "name": "stderr",
     "output_type": "stream",
     "text": [
      " 41%|████      | 2243/5485 [02:02<02:57, 18.24it/s]"
     ]
    },
    {
     "name": "stdout",
     "output_type": "stream",
     "text": [
      "['hose' 'shd' 'radiator' 'lower' 'radiator_hose' 'lower radiator']\n",
      "['hose' 'coolant' 'pirtek' 'coolant_hose']\n",
      "['hose' 'pirtek']\n",
      "['oil' 'logic']\n"
     ]
    },
    {
     "name": "stderr",
     "output_type": "stream",
     "text": [
      "\r",
      " 41%|████      | 2246/5485 [02:03<02:57, 18.24it/s]"
     ]
    },
    {
     "name": "stdout",
     "output_type": "stream",
     "text": [
      "['oil' 'cover' 'plate' 'inlet' 'cover_plate']\n",
      "['hose' 'hyd' 'hyd_hose']\n",
      "['shd' 'pirtek' 'pirtek_shd']\n",
      "['oil' 'hyd' 'hyd_oil']\n",
      "['oil']\n"
     ]
    },
    {
     "name": "stderr",
     "output_type": "stream",
     "text": [
      "\r",
      " 41%|████      | 2249/5485 [02:03<02:57, 18.24it/s]"
     ]
    },
    {
     "name": "stdout",
     "output_type": "stream",
     "text": [
      "['hose' 'pump' 'fan' 'drain' 'case' 'fan_pump' 'case_drain' 'pump case']\n"
     ]
    },
    {
     "name": "stderr",
     "output_type": "stream",
     "text": [
      " 41%|████      | 2255/5485 [02:03<02:57, 18.19it/s]"
     ]
    },
    {
     "name": "stdout",
     "output_type": "stream",
     "text": [
      "['hose' 'hyd' 'hyd_hose']\n",
      "['hose' 'drain' 'case' 'p4' 'case_drain' 'drain_hose' 'p4 case']\n",
      "['hyd' 'pipe' 'hyd_pipe']\n",
      "['slew']\n",
      "['p3' 'primary']\n",
      "['oil' '24']\n",
      "['slew' 'shd' 'slew shd']\n",
      "['oil' 'shd' 'car' 'car shd']\n"
     ]
    },
    {
     "name": "stderr",
     "output_type": "stream",
     "text": [
      " 41%|████▏     | 2263/5485 [02:04<02:56, 18.23it/s]"
     ]
    },
    {
     "name": "stdout",
     "output_type": "stream",
     "text": [
      "['hose' 'reel' 'hose_reel']\n",
      "['hose' 'drain' 'case' 'case_drain' 'drain_hose']\n",
      "['hose' 'drain' 'case' 'case_drain' 'drain_hose']\n",
      "['hose' 'coolant' 'coolant_hose']\n",
      "['hose']\n",
      "['hyd' 'tank' 'bung' 'hyd_tank' 'tank bung']\n",
      "['hose' 'slew' 'right' 'slew_hose' 'right_slew']\n",
      "['slew' 'ring' 'terex' 'slew ring' 'terex slew']\n"
     ]
    },
    {
     "name": "stderr",
     "output_type": "stream",
     "text": [
      "\r",
      " 41%|████▏     | 2267/5485 [02:04<02:56, 18.24it/s]"
     ]
    },
    {
     "name": "stdout",
     "output_type": "stream",
     "text": [
      "['p3']\n",
      "['hyd']\n",
      "['oil' 'shd' 'hyd' 'hyd_oil']\n",
      "['shd' 'scv' 'labor' '08' 'labor shd']\n"
     ]
    },
    {
     "name": "stderr",
     "output_type": "stream",
     "text": [
      " 41%|████▏     | 2274/5485 [02:04<02:56, 18.24it/s]"
     ]
    },
    {
     "name": "stdout",
     "output_type": "stream",
     "text": [
      "['hose' 'shd' 'shd_hose']\n",
      "['hose' 'slew' 'shd' 'slew_hose' 'hose_shd']\n",
      "['oil' 'track']\n",
      "['oil' 'valve']\n",
      "['indicator']\n"
     ]
    },
    {
     "name": "stderr",
     "output_type": "stream",
     "text": [
      "\r",
      " 42%|████▏     | 2277/5485 [02:04<02:55, 18.25it/s]"
     ]
    },
    {
     "name": "stdout",
     "output_type": "stream",
     "text": [
      "['hose' 'return_hose']\n",
      "['hose' 'air' 'exhaust' 'box' 'air box' 'hose exhaust' 'exhaust air']\n",
      "['hose' 'shd' 'hyd' 'hyd_hose' 'hose_shd']\n",
      "['hose' 'servo' 'pirtek' 'mcv' 'servo_hose' 'mcv servo']\n",
      "['oil' 'tube']\n"
     ]
    },
    {
     "name": "stderr",
     "output_type": "stream",
     "text": [
      " 42%|████▏     | 2283/5485 [02:05<02:55, 18.25it/s]"
     ]
    },
    {
     "name": "stdout",
     "output_type": "stream",
     "text": [
      "['hose' 'distribution']\n",
      "['hose' 'hyd' 'hyd_hose']\n",
      "['hose' 'hyd' 'hyd_hose']\n",
      "['slew']\n"
     ]
    },
    {
     "name": "stderr",
     "output_type": "stream",
     "text": [
      "\r",
      " 42%|████▏     | 2286/5485 [02:05<02:55, 18.25it/s]"
     ]
    },
    {
     "name": "stdout",
     "output_type": "stream",
     "text": [
      "['hose' 'shd' 'hyd' 'hyd_hose' 'hose_shd']\n",
      "['oil' 'distribution']\n",
      "['hose' 'coolant' 'coolant_hose']\n",
      "['hose' 'slew' 'slew_hose']\n",
      "['oil']\n"
     ]
    },
    {
     "name": "stderr",
     "output_type": "stream",
     "text": [
      " 42%|████▏     | 2292/5485 [02:05<02:54, 18.25it/s]"
     ]
    },
    {
     "name": "stdout",
     "output_type": "stream",
     "text": [
      "['hyd' 'pipe' 'tank' 'hyd_tank' 'pipe hyd']\n",
      "['oil' 'hose' 'left_hand' 'slew' 'motor' 'pilot' 'slew_motor'\n",
      " 'left_hand_slew' 'hose left_hand' 'pilot hose']\n",
      "['oil' 'left_hand' 'slew' 'motor' 'slew_motor' 'left_hand_slew']\n",
      "['bucket' 'hose' 'left_hand' 'servo' 'bucket_crowd' 'left_hand_bucket'\n",
      " 'servo_hose']\n",
      "['hose' 'slew' 'slew_hose']\n",
      "['slew' 'valve' 'pilot' 'pilot valve']\n"
     ]
    },
    {
     "name": "stderr",
     "output_type": "stream",
     "text": [
      " 42%|████▏     | 2303/5485 [02:06<02:54, 18.22it/s]"
     ]
    },
    {
     "name": "stdout",
     "output_type": "stream",
     "text": [
      "['hose' 'reel' 'hose_reel']\n",
      "['slew' 'box' 'slew_box']\n",
      "['slew' 'motor' 'slew_motor']\n",
      "['hyd']\n",
      "['hyd' 'fitting' 'hyd fitting']\n",
      "['oil' 'hyd' 'hyd_oil']\n",
      "['hose' 'drain' 'pirtek' 'case' 'p3' 'case_drain' 'drain_hose' 'hose p3'\n",
      " 'pirtek case']\n",
      "['slew']\n",
      "['hose' 'hyd' 'hyd_hose']\n"
     ]
    },
    {
     "name": "stderr",
     "output_type": "stream",
     "text": [
      " 42%|████▏     | 2311/5485 [02:06<02:53, 18.25it/s]"
     ]
    },
    {
     "name": "stdout",
     "output_type": "stream",
     "text": [
      "['slew' 'light']\n",
      "['hose' 'suction' 'suction_hose']\n",
      "['oil' 'track']\n",
      "['oil' 'slew' 'motor' 'slew_motor']\n",
      "['oil' 'track' 'scope' 'scope oil']\n",
      "['pressure' 'fitting']\n",
      "['oil' 'hose' 'left_hand' 'slew' 'motor' 'manifold' 'slew_motor'\n",
      " 'left_hand_slew' 'motor_hose']\n",
      "['hose' 'shd' 'hose_shd']\n"
     ]
    },
    {
     "name": "stderr",
     "output_type": "stream",
     "text": [
      "\r",
      " 42%|████▏     | 2315/5485 [02:06<02:53, 18.26it/s]"
     ]
    },
    {
     "name": "stdout",
     "output_type": "stream",
     "text": [
      "['hose' 'pirtek']\n",
      "['slew' 'shd' 'brake' 'slew_brake']\n",
      "['slew' 'brake' 'slew_brake']\n",
      "['oil' 'pump' 'left_hand' 'fan' 'adaptor' 'fan_pump' 'left_hand fan'\n",
      " 'adaptor left_hand']\n",
      "['hose' 'shd' 'hose_shd']\n"
     ]
    },
    {
     "name": "stderr",
     "output_type": "stream",
     "text": [
      " 42%|████▏     | 2321/5485 [02:07<02:53, 18.26it/s]"
     ]
    },
    {
     "name": "stdout",
     "output_type": "stream",
     "text": [
      "['oil' 'left_hand' 'slew' 'motor' 'ring' 'slew_motor' 'left_hand_slew']\n",
      "['shd' 'scv' 'labor' 'x1' 'scv_labor']\n",
      "['slew' 'pressure' 'pp' 'slew pp' 'pp pressure']\n",
      "['oil' 'pressure']\n",
      "['oil' 'box' 'swing' 'swing box']\n"
     ]
    },
    {
     "name": "stderr",
     "output_type": "stream",
     "text": [
      "\r",
      " 42%|████▏     | 2324/5485 [02:07<02:53, 18.26it/s]"
     ]
    },
    {
     "name": "stdout",
     "output_type": "stream",
     "text": [
      "['slew' 'box' 'gear' 'gear_box' 'slew gear']\n",
      "['slew' 'motor' 'slew_motor']\n",
      "['hose' 'right_hand' 'hyd' 'cooler' 'cooler_hose' 'hyd_cooler'\n",
      " 'right_hand hyd']\n",
      "['oil' 'hyd' 'fan' 'drive' 'cooler' 'cooler_fan' 'hyd_cooler' 'fan drive']\n"
     ]
    },
    {
     "name": "stderr",
     "output_type": "stream",
     "text": [
      "\r",
      " 42%|████▏     | 2327/5485 [02:07<02:52, 18.26it/s]"
     ]
    },
    {
     "name": "stdout",
     "output_type": "stream",
     "text": [
      "['oil' 'slew' 'gearbox' 'slew_gearbox']\n",
      "['oil']\n",
      "['hose' 'hyd' 'hyd_hose']\n",
      "['hose' 'hyd' 'hyd_hose']\n"
     ]
    },
    {
     "name": "stderr",
     "output_type": "stream",
     "text": [
      " 43%|████▎     | 2333/5485 [02:07<02:52, 18.27it/s]"
     ]
    },
    {
     "name": "stdout",
     "output_type": "stream",
     "text": [
      "['oil' 'shd']\n",
      "['hose' 'hyd' 'hyd_hose']\n",
      "['oil' 'slew' 'motor' 'slew_motor' 'motor oil']\n",
      "['shd' 'scv' '09' '08' 'fitter' '08 09']\n",
      "['hose' 'right_hand' 'slew' 'right_hand_slew' 'slew_hose']\n"
     ]
    },
    {
     "name": "stderr",
     "output_type": "stream",
     "text": [
      "\r",
      " 43%|████▎     | 2336/5485 [02:07<02:52, 18.27it/s]"
     ]
    },
    {
     "name": "stdout",
     "output_type": "stream",
     "text": [
      "['oil' 'pump' 'gearbox' 'pump_gearbox']\n",
      "['hose' 'shd' 'hose_shd']\n",
      "['oil']\n",
      "['scv' 'labor' 'fitter' '06' 'scv_labor' 'labor fitter']\n",
      "['oil' 'shd']\n"
     ]
    },
    {
     "name": "stderr",
     "output_type": "stream",
     "text": [
      " 43%|████▎     | 2346/5485 [02:08<02:52, 18.23it/s]"
     ]
    },
    {
     "name": "stdout",
     "output_type": "stream",
     "text": [
      "['hose' 'shd' 'hyd' 'rotor' 'hyd_hose' 'hose_shd' 'rotor hyd']\n",
      "['hose' 'hyd' 'hyd_hose']\n",
      "['oil' 'machine']\n",
      "['shd' '24' 'scv' 'labor' 'fitter' 'shd_24' 'scv_labor' 'labor fitter']\n",
      "['hyd']\n",
      "['oil' 'machine']\n",
      "['shd' '24' 'scv' 'labor' 'fitter' '06' 'shd_24' 'scv_labor'\n",
      " 'labor fitter']\n",
      "['line' 'hyd' 'hyd_line']\n"
     ]
    },
    {
     "name": "stderr",
     "output_type": "stream",
     "text": [
      " 43%|████▎     | 2354/5485 [02:08<02:51, 18.27it/s]"
     ]
    },
    {
     "name": "stdout",
     "output_type": "stream",
     "text": [
      "['hose' 'slew' 'slew_hose']\n",
      "['line' 'hyd' 'hyd_line']\n",
      "['hose']\n",
      "['hose' 'hyd' 'hyd_hose']\n",
      "['hose' 'right_hand' 'slew' 'motor' 'slew_motor' 'right_hand_slew'\n",
      " 'motor_hose']\n",
      "['hose' 'right_hand' 'servo' 'mcv' 'servo_hose' 'mcv servo'\n",
      " 'right_hand mcv']\n",
      "['hose']\n",
      "['hose' 'text' 'coolant' 'coolant_hose']\n",
      "['hyd']\n"
     ]
    },
    {
     "name": "stderr",
     "output_type": "stream",
     "text": [
      " 43%|████▎     | 2361/5485 [02:09<02:50, 18.27it/s]"
     ]
    },
    {
     "name": "stdout",
     "output_type": "stream",
     "text": [
      "['hose' 'slew' 'slew_hose']\n",
      "['hose' 'slew' 'pilot' 'pilot hose' 'slew pilot']\n",
      "['hose' 'hyd' 'manifold']\n",
      "['oil' 'warranty' 'cover' 'timing' 'timing cover' 'cover oil'\n",
      " 'warranty timing']\n",
      "['line' 'p1' 'suction' 'suction line']\n"
     ]
    },
    {
     "name": "stderr",
     "output_type": "stream",
     "text": [
      "\r",
      " 43%|████▎     | 2364/5485 [02:09<02:50, 18.28it/s]"
     ]
    },
    {
     "name": "stdout",
     "output_type": "stream",
     "text": [
      "['hose' 'servo' 'rod' 'servo_hose']\n",
      "['slew' 'motor' 'slew_motor']\n",
      "['hose' 'hyd' 'hyd_hose']\n",
      "['slew' 'circuit' 'slew circuit']\n"
     ]
    },
    {
     "name": "stderr",
     "output_type": "stream",
     "text": [
      " 43%|████▎     | 2370/5485 [02:09<02:50, 18.28it/s]"
     ]
    },
    {
     "name": "stdout",
     "output_type": "stream",
     "text": [
      "['hose' 'shd' 'hyd' 'hyd_hose' 'hose_shd']\n",
      "['hose' 'shd' 'pirtek' 'hose_shd']\n",
      "['oil' 'hyd' 'hyd_oil']\n",
      "['slew' 'press' 'slew press']\n",
      "['slew' 'motor' 'rhf' 'slew_motor' 'rhf slew']\n"
     ]
    },
    {
     "name": "stderr",
     "output_type": "stream",
     "text": [
      "\r",
      " 43%|████▎     | 2373/5485 [02:09<02:50, 18.28it/s]"
     ]
    },
    {
     "name": "stdout",
     "output_type": "stream",
     "text": [
      "['oil' 'pump' 'right_hand' 'slew' 'servo' 'cover' 'right_hand_slew'\n",
      " 'slew_pump' 'pump servo']\n",
      "['shd' '24' 'scv' 'labor' '09' '08' 'shd_24' 'scv_labor' '08 09' '24 08']\n",
      "['oil']\n",
      "['oil' 'hose' 'right_hand' 'slew' 'motor' 'fitting' 'slew_motor'\n",
      " 'right_hand_slew' 'motor_hose' 'hose fitting']\n"
     ]
    },
    {
     "name": "stderr",
     "output_type": "stream",
     "text": [
      " 43%|████▎     | 2379/5485 [02:10<02:49, 18.28it/s]"
     ]
    },
    {
     "name": "stdout",
     "output_type": "stream",
     "text": [
      "['oil']\n",
      "['oil' 'pump' 'right_hand' 'box' 'right_hand_pump']\n",
      "['hose' 'left_hand' 'tank' 'header' 'header_tank' 'left_hand header'\n",
      " 'tank hose']\n",
      "['shd' 'scv' 'labor' '09' 'fitter' 'scv_labor' 'labor shd' 'shd fitter']\n",
      "['oil' 'shd' 'hyd' 'hyd_oil']\n"
     ]
    },
    {
     "name": "stderr",
     "output_type": "stream",
     "text": [
      "\r",
      " 43%|████▎     | 2382/5485 [02:10<02:49, 18.28it/s]"
     ]
    },
    {
     "name": "stdout",
     "output_type": "stream",
     "text": [
      "['hose']\n",
      "['shd' 'scv' 'labor' 'fitter' 'scv_labor' 'labor shd' 'shd fitter']\n",
      "['hose' 'return_hose']\n",
      "['oil' 'shd' 'pressure' 'swing' 'oil_pressure' 'swing oil']\n"
     ]
    },
    {
     "name": "stderr",
     "output_type": "stream",
     "text": [
      " 44%|████▎     | 2389/5485 [02:10<02:49, 18.24it/s]"
     ]
    },
    {
     "name": "stdout",
     "output_type": "stream",
     "text": [
      "['hose' 'left_hand' 'servo' 'servo_hose' 'hose left_hand']\n",
      "['oil' 'brake' 'travel' 'rhf' 'travel_brake' 'rhf travel']\n",
      "['oil' 'brake' 'rhf' 'propel brake']\n",
      "['left_hand' 'slew' 'shd' 'motor' 'slew_motor' 'shd left_hand']\n",
      "['shd' 'scv' 'labor' '09' 'scv_labor' 'labor shd']\n",
      "['slew' 'shd']\n",
      "['shd' 'scv' 'labor' 'scv_labor' 'labor shd']\n",
      "['oil' 'fitting']\n"
     ]
    },
    {
     "name": "stderr",
     "output_type": "stream",
     "text": [
      " 44%|████▎     | 2397/5485 [02:11<02:48, 18.27it/s]"
     ]
    },
    {
     "name": "stdout",
     "output_type": "stream",
     "text": [
      "['line' 'hyd' 'hyd_line']\n",
      "['machine']\n",
      "['hose']\n",
      "['oil' 'shd']\n",
      "['oil' 'pump' 'box' 'pump_box' 'box_oil']\n",
      "['hose' 'hyd' 'hyd_hose']\n",
      "['hyd' 'cooler' 'hyd_cooler']\n",
      "['oil' 'left_hand' 'valve' 'travel' 'left_hand_travel' 'travel valve']\n",
      "['oil' 'left_hand' 'travel' 'left_hand_travel']\n"
     ]
    },
    {
     "name": "stderr",
     "output_type": "stream",
     "text": [
      " 44%|████▍     | 2405/5485 [02:11<02:48, 18.29it/s]"
     ]
    },
    {
     "name": "stdout",
     "output_type": "stream",
     "text": [
      "['oil' 'travel' 'guard' 'travel guard']\n",
      "['oil' 'right_hand' 'valve' 'control' 'directional' 'control_valve'\n",
      " 'directional_control' 'right_hand directional']\n",
      "['oil' 'shd']\n",
      "['slew' 'drive' 'slew drive']\n",
      "['slew' 'motor' 'left' 'metal' 'slew_motor' 'left_slew']\n"
     ]
    },
    {
     "name": "stderr",
     "output_type": "stream",
     "text": [
      "\r",
      " 44%|████▍     | 2408/5485 [02:11<02:48, 18.29it/s]"
     ]
    },
    {
     "name": "stdout",
     "output_type": "stream",
     "text": [
      "['left_hand' 'slew' 'motor' 'slew_motor' 'left_hand_slew']\n",
      "['hose']\n",
      "['slew' 'brake' 'right' 'hour' 'slew_brake' 'right_slew' 'brake_hour']\n",
      "['scv' 'labor' 'scv_labor']\n"
     ]
    },
    {
     "name": "stderr",
     "output_type": "stream",
     "text": [
      "\r",
      " 44%|████▍     | 2411/5485 [02:11<02:48, 18.29it/s]"
     ]
    },
    {
     "name": "stdout",
     "output_type": "stream",
     "text": [
      "['hyd' 'screen' 'hyd screen']\n",
      "['hyd']\n",
      "['oil' 'shd']\n",
      "['hose' 'mcv']\n"
     ]
    },
    {
     "name": "stderr",
     "output_type": "stream",
     "text": [
      " 44%|████▍     | 2417/5485 [02:12<02:47, 18.29it/s]"
     ]
    },
    {
     "name": "stdout",
     "output_type": "stream",
     "text": [
      "['slew' 'sensor' 'press' 'press sensor']\n",
      "['oil' 'misc']\n",
      "['hyd' 'center' 'joint' 'center joint']\n",
      "['left_hand' 'slew' 'pressure' 'sender' 'left_hand_slew' 'pressure_sender']\n"
     ]
    },
    {
     "name": "stderr",
     "output_type": "stream",
     "text": [
      "\r",
      " 44%|████▍     | 2420/5485 [02:12<02:47, 18.29it/s]"
     ]
    },
    {
     "name": "stdout",
     "output_type": "stream",
     "text": [
      "['right_hand' 'slew' 'screen']\n",
      "['oil' 'hyd' 'hyd_oil']\n",
      "['hose']\n",
      "['hose' 'hyd' 'hyd_hose']\n"
     ]
    },
    {
     "name": "stderr",
     "output_type": "stream",
     "text": [
      " 44%|████▍     | 2426/5485 [02:12<02:47, 18.30it/s]"
     ]
    },
    {
     "name": "stdout",
     "output_type": "stream",
     "text": [
      "['hose' 'motor' 'drain' 'case' 'case_drain' 'drain_hose']\n",
      "['left_hand' 'slew' 'pressure' 'sender' 'left_hand_slew' 'pressure_sender']\n",
      "['shd' 'scv' 'labor' 'scv_labor']\n",
      "['slew' 'shd']\n",
      "['left_hand' 'slew' 'brake' 'hour' 'slew_brake' 'left_hand_slew'\n",
      " 'brake_hour']\n",
      "['oil' 'shd' 'hyd' 'hyd_oil']\n",
      "['hose' 'shd' 'hose_shd']\n"
     ]
    },
    {
     "name": "stderr",
     "output_type": "stream",
     "text": [
      " 44%|████▍     | 2433/5485 [02:13<02:47, 18.25it/s]"
     ]
    },
    {
     "name": "stdout",
     "output_type": "stream",
     "text": [
      "['hyd' 'valve' 'bar' 'bar hyd']\n",
      "['oil' 'hyd' 'fan' 'valve' 'speed' 'fan speed' 'speed valve']\n",
      "['hyd']\n",
      "['hose' 'valve' 'control' 'directional' 'control_valve'\n",
      " 'directional_control' 'valve_hose']\n",
      "['hose' 'left_hand' 'slew' 'motor' 'slew_motor' 'left_hand_slew'\n",
      " 'motor_hose']\n",
      "['hyd' 'valve' 'bar' 'bar hyd']\n",
      "['oil' 'reservoir']\n",
      "['oil']\n"
     ]
    },
    {
     "name": "stderr",
     "output_type": "stream",
     "text": [
      " 45%|████▍     | 2441/5485 [02:13<02:46, 18.28it/s]"
     ]
    },
    {
     "name": "stdout",
     "output_type": "stream",
     "text": [
      "['line' 'steel' 'mcv' 'steel_line']\n",
      "['hose' 'mcv' 'return_hose' 'hose mcv']\n",
      "['hose' 'shd' 'control' '24' 'directional' 'shd_24' 'directional_control'\n",
      " 'control hose']\n",
      "['hyd' 'pipe' 'hyd_pipe']\n",
      "['bucket' 'hyd' 'bucket_crowd' 'hyd bucket']\n",
      "['hose' 'left_hand' 'travel' 'left_hand_travel' 'return_hose']\n",
      "['oil' 'shd']\n",
      "['hyd']\n"
     ]
    },
    {
     "name": "stderr",
     "output_type": "stream",
     "text": [
      "\r",
      " 45%|████▍     | 2445/5485 [02:13<02:46, 18.29it/s]"
     ]
    },
    {
     "name": "stdout",
     "output_type": "stream",
     "text": [
      "['hose' 'hyd' 'upper' 'hyd_hose']\n",
      "['hyd' 'tank' 'hyd_tank']\n",
      "['shd' 'hyd' 'shd hyd']\n",
      "['hose' 'propel hose']\n"
     ]
    },
    {
     "name": "stderr",
     "output_type": "stream",
     "text": [
      " 45%|████▍     | 2452/5485 [02:14<02:45, 18.29it/s]"
     ]
    },
    {
     "name": "stdout",
     "output_type": "stream",
     "text": [
      "['hyd' 'pipe' 'tank' 'hyd_tank' 'tank pipe']\n",
      "['oil' 'shd' '24' 'shd_24']\n",
      "['hose' 'slew' 'shd' 'slew_hose' 'hose_shd']\n",
      "['hose' 'hyd' 'hyd_hose']\n"
     ]
    },
    {
     "name": "stderr",
     "output_type": "stream",
     "text": [
      "\r",
      " 45%|████▍     | 2455/5485 [02:14<02:45, 18.30it/s]"
     ]
    },
    {
     "name": "stdout",
     "output_type": "stream",
     "text": [
      "['hose' 'right_hand' 'travel' 'lower' 'scope' 'travel_hose' 'lower travel'\n",
      " 'right_hand lower']\n",
      "['oil' 'fitting' 'sample' 'oil_sample' 'sample fitting']\n",
      "['shd' 'hyd' 'machine' 'center' 'machine shd' 'center machine']\n",
      "['oil' 'line' 'thermostat' 'sleeve' 'sleeve thermostat' 'thermostat line']\n",
      "['line' 'steel' 'steel_line']\n"
     ]
    },
    {
     "name": "stderr",
     "output_type": "stream",
     "text": [
      " 45%|████▍     | 2461/5485 [02:14<02:45, 18.30it/s]"
     ]
    },
    {
     "name": "stdout",
     "output_type": "stream",
     "text": [
      "['hose' 'hyd' 'hyd_hose']\n",
      "['hyd']\n",
      "['slew' 'shd' 'brake' 'slew_brake']\n",
      "['hose' 'slew' 'slew_hose']\n",
      "['oil' 'left_hand' 'valve' 'control' 'directional' 'control_valve'\n",
      " 'directional_control' 'left_hand directional']\n"
     ]
    },
    {
     "name": "stderr",
     "output_type": "stream",
     "text": [
      " 45%|████▍     | 2467/5485 [02:14<02:44, 18.30it/s]"
     ]
    },
    {
     "name": "stdout",
     "output_type": "stream",
     "text": [
      "['hose' 'return_hose']\n",
      "['slew' 'pressure' 'slew pressure']\n",
      "['oil']\n",
      "['oil' 'tube']\n",
      "['oil' 'left_hand' 'valve' 'control' 'directional' 'control_valve'\n",
      " 'directional_control' 'left_hand directional']\n"
     ]
    },
    {
     "name": "stderr",
     "output_type": "stream",
     "text": [
      "\r",
      " 45%|████▌     | 2470/5485 [02:14<02:44, 18.30it/s]"
     ]
    },
    {
     "name": "stdout",
     "output_type": "stream",
     "text": [
      "['oil' 'hose' 'sleeve' 'spinner' 'oil spinner' 'sleeve oil' 'spinner hose']\n",
      "['right_hand' 'slew' 'brake' 'hour' 'slew_brake' 'right_hand_slew'\n",
      " 'brake_hour']\n",
      "['oil' 'hyd' 'hyd_oil']\n",
      "['slew' 'warranty' 'slew warranty']\n"
     ]
    },
    {
     "name": "stderr",
     "output_type": "stream",
     "text": [
      "\r",
      " 45%|████▌     | 2473/5485 [02:15<02:44, 18.30it/s]"
     ]
    },
    {
     "name": "stdout",
     "output_type": "stream",
     "text": [
      "['oil']\n",
      "['hose' 'hyd' 'hyd_hose']\n"
     ]
    },
    {
     "name": "stderr",
     "output_type": "stream",
     "text": [
      " 45%|████▌     | 2479/5485 [02:15<02:44, 18.27it/s]"
     ]
    },
    {
     "name": "stdout",
     "output_type": "stream",
     "text": [
      "['hose' 'hyd' 'hyd_hose']\n",
      "['hyd' 'hour']\n",
      "['hose' 'servo' 'servo_hose']\n",
      "['hose' 'slew' 'hyd' 'hyd_hose' 'slew hyd']\n",
      "['hose' 'slew' 'slew_hose']\n",
      "['line' 'hyd' 'servo' 'servo line']\n",
      "['hose' 'hyd' 'hyd_hose']\n",
      "['oil' 'slew' 'motor' 'slew_motor']\n",
      "['oil' 'hyd' 'cab' 'electrical' 'hyd_oil' 'electrical cab'\n",
      " 'cab electrical']\n"
     ]
    },
    {
     "name": "stderr",
     "output_type": "stream",
     "text": [
      " 45%|████▌     | 2487/5485 [02:15<02:43, 18.30it/s]"
     ]
    },
    {
     "name": "stdout",
     "output_type": "stream",
     "text": [
      "['hose' 'hyd' 'track' 'hyd_hose']\n",
      "['rf' 'unit']\n",
      "['hose' 'hyd' 'hyd_hose']\n",
      "['right_hand' 'slew' 'motor' 'warranty' 'slew_motor' 'right_hand_slew'\n",
      " 'motor warranty']\n",
      "['hose' 'hyd' 'hyd_hose']\n",
      "['oil' 'hyd' 'text' 'hyd_oil']\n",
      "['oil' 'hyd' 'tank' 'hyd_tank']\n"
     ]
    },
    {
     "name": "stderr",
     "output_type": "stream",
     "text": [
      "\r",
      " 45%|████▌     | 2491/5485 [02:16<02:43, 18.31it/s]"
     ]
    },
    {
     "name": "stdout",
     "output_type": "stream",
     "text": [
      "['oil' 'pressure' 'oil_pressure']\n",
      "['engine' 'hose' 'turbo' 'hose_engine' 'turbo_hose']\n",
      "['oil' 'drive' 'gear']\n",
      "['oil' 'sos']\n"
     ]
    },
    {
     "name": "stderr",
     "output_type": "stream",
     "text": [
      " 46%|████▌     | 2497/5485 [02:16<02:43, 18.31it/s]"
     ]
    },
    {
     "name": "stdout",
     "output_type": "stream",
     "text": [
      "['oil' 'sos']\n",
      "['hyd']\n",
      "['oil' 'pressure' 'oil_pressure']\n",
      "['hose' 'pipe' 'pipe hose']\n"
     ]
    },
    {
     "name": "stderr",
     "output_type": "stream",
     "text": [
      "\r",
      " 46%|████▌     | 2500/5485 [02:16<02:43, 18.31it/s]"
     ]
    },
    {
     "name": "stdout",
     "output_type": "stream",
     "text": [
      "['pump' 'right_hand' 'slew' 'ring' 'right_hand_slew' 'slew_pump']\n",
      "['hose' 'slew' 'slew_hose']\n",
      "['slew']\n",
      "['line' 'steel' 'mcv' 'steel_line']\n"
     ]
    },
    {
     "name": "stderr",
     "output_type": "stream",
     "text": [
      "\r",
      " 46%|████▌     | 2503/5485 [02:16<02:42, 18.31it/s]"
     ]
    },
    {
     "name": "stdout",
     "output_type": "stream",
     "text": [
      "['hose' 'hyd' 'tank' 'control' 'hyd_tank' 'hose hyd' 'tank control']\n",
      "['pipe' 'steel' 'mcv' 'steel_pipe' 'pipe mcv']\n",
      "['hyd' 'mech']\n",
      "['oil' 'box' 'area' 'box area']\n"
     ]
    },
    {
     "name": "stderr",
     "output_type": "stream",
     "text": [
      " 46%|████▌     | 2509/5485 [02:17<02:42, 18.31it/s]"
     ]
    },
    {
     "name": "stdout",
     "output_type": "stream",
     "text": [
      "['oil' 'cover']\n",
      "['valve' 'warranty' 'mcv' 'valve warranty']\n",
      "['hose']\n",
      "['slew' 'motor' 'left' 'slew_motor' 'left_slew']\n"
     ]
    },
    {
     "name": "stderr",
     "output_type": "stream",
     "text": [
      "\r",
      " 46%|████▌     | 2512/5485 [02:17<02:42, 18.31it/s]"
     ]
    },
    {
     "name": "stdout",
     "output_type": "stream",
     "text": [
      "['hose' 'motor' 'track' 'track motor']\n",
      "['oil' 'hyd' 'area' 'swivel' 'hyd_oil' 'swivel area']\n",
      "['hyd' 'motor' 'fan' 'hyd fan']\n",
      "['hose' 'hyd' 'hyd_hose']\n",
      "['hose' 'track']\n"
     ]
    },
    {
     "name": "stderr",
     "output_type": "stream",
     "text": [
      "\r",
      " 46%|████▌     | 2515/5485 [02:17<02:42, 18.32it/s]"
     ]
    },
    {
     "name": "stdout",
     "output_type": "stream",
     "text": [
      "['oil' 'right_hand' 'track' 'right_hand_track' 'track_adjuster']\n",
      "['valve' 'steel' 'tube' 'mcv' 'float' 'float_valve' 'steel_tube'\n",
      " 'tube mcv']\n",
      "['hose']\n"
     ]
    },
    {
     "name": "stderr",
     "output_type": "stream",
     "text": [
      " 46%|████▌     | 2522/5485 [02:18<02:42, 18.27it/s]"
     ]
    },
    {
     "name": "stdout",
     "output_type": "stream",
     "text": [
      "['hyd' 'accident']\n",
      "['hose' 'ring' 'hose ring']\n",
      "['oil' 'left_hand' 'track' 'frame' 'left_hand_track' 'track_frame']\n",
      "['pipe' 'steel' 'mcv' 'steel_pipe' 'pipe mcv']\n",
      "['slew' 'motor' 'slew_motor']\n",
      "['oil' 'slew' 'motor' 'slew_motor']\n",
      "['oil' 'line' 'rf' 'oil line']\n",
      "['hose' 'slew' 'motor' 'drain' 'case' 'slew_motor' 'case_drain'\n",
      " 'drain_hose' 'hose_slew']\n"
     ]
    },
    {
     "name": "stderr",
     "output_type": "stream",
     "text": [
      " 46%|████▌     | 2530/5485 [02:18<02:41, 18.30it/s]"
     ]
    },
    {
     "name": "stdout",
     "output_type": "stream",
     "text": [
      "['hose' 'car']\n",
      "['slew' 'machine' 'gear' 'slew gear']\n",
      "['hose' 'hyd' 'valve' 'control' 'control_valve' 'valve_hose']\n",
      "['engine' 'hose' 'left_hand' 'turbo' 'left_hand_engine' 'engine_turbo'\n",
      " 'turbo_hose']\n",
      "['oil' 'hyd' 'hyd_oil']\n",
      "['hose' 'slew' 'valve' 'pilot' 'valve_hose' 'slew pilot' 'pilot valve']\n",
      "['oil' 'hyd' 'hyd_oil']\n",
      "['oil' 'motor' 'travel' 'travel_motor' 'motor oil']\n"
     ]
    },
    {
     "name": "stderr",
     "output_type": "stream",
     "text": [
      " 46%|████▋     | 2538/5485 [02:18<02:40, 18.32it/s]"
     ]
    },
    {
     "name": "stdout",
     "output_type": "stream",
     "text": [
      "['oil' 'left_hand' 'tank' 'reserve' 'oil_reserve' 'left_hand oil']\n",
      "['pump' 'right_hand' 'slew' 'bolts' 'right_hand_slew' 'slew_pump'\n",
      " 'bolts right_hand']\n",
      "['oil']\n",
      "['oil' 'pressure' 'reserve' 'oil_reserve' 'pressure oil']\n",
      "['hose']\n"
     ]
    },
    {
     "name": "stderr",
     "output_type": "stream",
     "text": [
      "\r",
      " 46%|████▋     | 2541/5485 [02:18<02:40, 18.32it/s]"
     ]
    },
    {
     "name": "stdout",
     "output_type": "stream",
     "text": [
      "['hose' 'ring' 'hose ring']\n",
      "['hose']\n",
      "['slew']\n",
      "['oil' 'pump' 'right_hand' 'drive' 'gearbox' 'pump_drive'\n",
      " 'right_hand_pump' 'drive_gearbox']\n",
      "['oil' 'hyd' 'area' 'center' 'hyd_oil' 'center area']\n"
     ]
    },
    {
     "name": "stderr",
     "output_type": "stream",
     "text": [
      " 46%|████▋     | 2547/5485 [02:19<02:40, 18.32it/s]"
     ]
    },
    {
     "name": "stdout",
     "output_type": "stream",
     "text": [
      "['pump' 'hyd' 'fan' 'fan_pump']\n",
      "['hose' 'propel hose']\n",
      "['hose' 'tube' 'dipstick' 'intake' 'dipstick_tube']\n",
      "['hose' 'cooler' 'cooler_hose']\n"
     ]
    },
    {
     "name": "stderr",
     "output_type": "stream",
     "text": [
      "\r",
      " 46%|████▋     | 2550/5485 [02:19<02:40, 18.32it/s]"
     ]
    },
    {
     "name": "stdout",
     "output_type": "stream",
     "text": [
      "['hose' 'left_hand' 'track' 'left_hand_track' 'track_adjuster']\n",
      "['hyd']\n",
      "['hose' 'travel' 'travel_hose']\n",
      "['hyd' 'tank' 'fitting' 'hyd_tank']\n",
      "['oil' 'hyd' 'hyd_oil']\n"
     ]
    },
    {
     "name": "stderr",
     "output_type": "stream",
     "text": [
      " 47%|████▋     | 2556/5485 [02:19<02:39, 18.33it/s]"
     ]
    },
    {
     "name": "stdout",
     "output_type": "stream",
     "text": [
      "['oil' 'hyd' 'hyd_oil']\n",
      "['hose' 'travel' 'travel_hose']\n",
      "['oil' 'left_hand' 'hyd' 'motor' 'travel' 'hyd_oil' 'travel_motor'\n",
      " 'left_hand_travel']\n",
      "['oil' 'slew' 'motor' 'slew_motor' 'oil_slew']\n"
     ]
    },
    {
     "name": "stderr",
     "output_type": "stream",
     "text": [
      "\r",
      " 47%|████▋     | 2559/5485 [02:19<02:39, 18.33it/s]"
     ]
    },
    {
     "name": "stdout",
     "output_type": "stream",
     "text": [
      "['slew' 'motor' 'hour' 'slew_motor']\n",
      "['oil' 'right_hand' 'track' 'roller' 'track_roller' 'right_hand_track']\n",
      "['hyd']\n",
      "['oil' 'right_hand' 'sample' 'oil_sample']\n",
      "['oil' 'left_hand' 'sample' 'oil_sample']\n"
     ]
    },
    {
     "name": "stderr",
     "output_type": "stream",
     "text": [
      "\r",
      " 47%|████▋     | 2562/5485 [02:19<02:39, 18.33it/s]"
     ]
    },
    {
     "name": "stdout",
     "output_type": "stream",
     "text": [
      "['oil' 'sample' 'oil_sample']\n"
     ]
    },
    {
     "name": "stderr",
     "output_type": "stream",
     "text": [
      " 47%|████▋     | 2569/5485 [02:20<02:39, 18.29it/s]"
     ]
    },
    {
     "name": "stdout",
     "output_type": "stream",
     "text": [
      "['hyd' 'screen' 'metal' 'hyd screen']\n",
      "['hyd']\n",
      "['oil' 'pump' 'lube' 'pto' 'lube_pump' 'pto_lube' 'pto pto']\n",
      "['pump' 'lube' 'pto' 'lube_pump' 'pto_lube']\n",
      "['engine' 'pump' 'lube' 'right_hand' 'pto' 'right_hand_engine' 'lube_pump'\n",
      " 'pump_pto' 'engine lube']\n",
      "['pto' 'dipstick' 'dipstick pto']\n",
      "['pump' 'lube' 'left_hand' 'pto' 'lube_pump' 'pump_pto' 'left_hand lube']\n",
      "['pump' 'lube' 'pto' 'lube_pump' 'pump_pto']\n"
     ]
    },
    {
     "name": "stderr",
     "output_type": "stream",
     "text": [
      " 47%|████▋     | 2577/5485 [02:20<02:38, 18.33it/s]"
     ]
    },
    {
     "name": "stdout",
     "output_type": "stream",
     "text": [
      "['pressure' 'pto' 'sender' 'pressure_sender' 'pto pressure']\n",
      "['pump' 'pto' 'pto_pump']\n",
      "['pto']\n",
      "['pressure' 'pto' 'pto pressure']\n",
      "['pump' 'lube' 'pto' 'servo' 'lube_pump' 'pto_lube' 'servo pto']\n",
      "['right_hand' 'pto' 'seal' 'gearbox' 'cavity' 'right_hand_pto'\n",
      " 'cavity seal' 'pto gearbox' 'gearbox cavity']\n",
      "['pto' 'box' 'pto_box']\n",
      "['hose' 'left_hand' 'cylinder' 'bolts' 'cylinder_hose' 'bolts left_hand']\n"
     ]
    },
    {
     "name": "stderr",
     "output_type": "stream",
     "text": [
      "\r",
      " 47%|████▋     | 2581/5485 [02:20<02:38, 18.33it/s]"
     ]
    },
    {
     "name": "stdout",
     "output_type": "stream",
     "text": [
      "['left_hand' 'cylinder' 'pipe' 'clamp' 'cylinder pipe' 'clamp left_hand']\n",
      "['oil' 'cylinder']\n",
      "['boom' 'cylinder' 'warranty' 'boom_cylinder' 'cylinder warranty']\n",
      "['boom' 'left_hand' 'cylinder' 'accident' 'boom_cylinder' 'left_hand_boom']\n"
     ]
    },
    {
     "name": "stderr",
     "output_type": "stream",
     "text": [
      "\r",
      " 47%|████▋     | 2584/5485 [02:20<02:38, 18.33it/s]"
     ]
    },
    {
     "name": "stdout",
     "output_type": "stream",
     "text": [
      "['right_hand' 'cylinder' 'seal' 'wiper' 'cylinder wiper' 'wiper seal']\n",
      "['cylinder']\n",
      "['cylinder' 'wiper' 'cylinder wiper']\n",
      "['pto' 'fitting' 'arm' 'pto fitting']\n"
     ]
    },
    {
     "name": "stderr",
     "output_type": "stream",
     "text": [
      " 47%|████▋     | 2590/5485 [02:21<02:37, 18.33it/s]"
     ]
    },
    {
     "name": "stdout",
     "output_type": "stream",
     "text": [
      "['pto' 'box' 'gear' 'dipstick' 'gear_box' 'box dipstick' 'pto gear']\n",
      "['cylinder' 'crowd cylinder']\n",
      "['pump' 'lube' 'shd' 'pto' 'lube_pump' 'pto_lube' 'shd pto']\n",
      "['pump' 'lube' 'shd' 'pto' 'lube_pump' 'pto_lube' 'shd pto']\n",
      "['shd' 'cylinder']\n"
     ]
    },
    {
     "name": "stderr",
     "output_type": "stream",
     "text": [
      "\r",
      " 47%|████▋     | 2593/5485 [02:21<02:37, 18.34it/s]"
     ]
    },
    {
     "name": "stdout",
     "output_type": "stream",
     "text": [
      "['cylinder' 'ring']\n",
      "['oil' 'cylinder' 'crowd cylinder']\n",
      "['oil' 'left_hand' 'cylinder']\n",
      "['boom' 'shd' 'cylinder' 'boom_cylinder']\n"
     ]
    },
    {
     "name": "stderr",
     "output_type": "stream",
     "text": [
      " 47%|████▋     | 2599/5485 [02:21<02:37, 18.34it/s]"
     ]
    },
    {
     "name": "stdout",
     "output_type": "stream",
     "text": [
      "['pto']\n",
      "['cylinder' 'crowd cylinder']\n",
      "['right_hand' 'cylinder']\n",
      "['cylinder']\n"
     ]
    },
    {
     "name": "stderr",
     "output_type": "stream",
     "text": [
      "\r",
      " 47%|████▋     | 2602/5485 [02:21<02:37, 18.34it/s]"
     ]
    },
    {
     "name": "stdout",
     "output_type": "stream",
     "text": [
      "['right_hand' 'boom' 'left_hand' 'cylinder' 'light' 'outer' 'inner'\n",
      " 'boom_cylinder' 'left_hand outer' 'right_hand inner' 'inner boom'\n",
      " 'cylinder light' 'outer right_hand']\n",
      "['oil' 'right_hand' 'cylinder' 'gland' 'cylinder oil']\n",
      "['cylinder' 'warranty']\n",
      "['cylinder' 'oring']\n",
      "['hose' 'left_hand' 'cylinder' 'cylinder_hose' 'crowd cylinder']\n"
     ]
    },
    {
     "name": "stderr",
     "output_type": "stream",
     "text": [
      "\r",
      " 47%|████▋     | 2605/5485 [02:22<02:37, 18.34it/s]"
     ]
    },
    {
     "name": "stdout",
     "output_type": "stream",
     "text": [
      "['oil' 'left_hand' 'pto' 'left_hand_pto']\n",
      "['boom' 'cylinder' 'plug' 'boom_cylinder' 'plug boom']\n"
     ]
    },
    {
     "name": "stderr",
     "output_type": "stream",
     "text": [
      " 48%|████▊     | 2615/5485 [02:22<02:36, 18.31it/s]"
     ]
    },
    {
     "name": "stdout",
     "output_type": "stream",
     "text": [
      "['boom' 'cylinder' 'scope' 'boom_cylinder']\n",
      "['right_hand' 'boom' 'cylinder' 'warranty' 'boom_cylinder'\n",
      " 'right_hand_boom']\n",
      "['hose' 'cylinder' 'cylinder_hose']\n",
      "['track' 'cylinder' 'quote']\n",
      "['right_hand' 'track' 'cylinder' 'quote' 'right_hand_track']\n",
      "['track' 'cylinder']\n",
      "['track' 'cylinder' 'fitting' 'cylinder fitting']\n",
      "['pto' 'spline' 'cavity' 'spline_cavity' 'pto spline']\n",
      "['cylinder' 'cover' 'plate' 'cover_plate' 'cylinder cover']\n"
     ]
    },
    {
     "name": "stderr",
     "output_type": "stream",
     "text": [
      " 48%|████▊     | 2623/5485 [02:23<02:36, 18.34it/s]"
     ]
    },
    {
     "name": "stdout",
     "output_type": "stream",
     "text": [
      "['cylinder' 'warranty']\n",
      "['cylinder' 'chubb']\n",
      "['cylinder' 'extinguisher' 'extinguisher cylinder']\n",
      "['oil' 'pto']\n",
      "['right_hand' 'line' 'hyd' 'cylinder' 'hyd_line']\n",
      "['oil' 'pto' 'pto oil']\n",
      "['oil' 'cylinder' 'area' 'cylinder area']\n",
      "['left_hand' 'pto' 'cooler' 'left_hand_pto' 'pto cooler']\n"
     ]
    },
    {
     "name": "stderr",
     "output_type": "stream",
     "text": [
      "\r",
      " 48%|████▊     | 2627/5485 [02:23<02:35, 18.34it/s]"
     ]
    },
    {
     "name": "stdout",
     "output_type": "stream",
     "text": [
      "['pto' 'box' 'pto_box']\n",
      "['oil' 'right_hand' 'pto' 'cooler' 'oil_cooler' 'right_hand_pto' 'pto oil']\n",
      "['pto']\n",
      "['engine' 'pto' 'drive' 'coupling' 'drive_coupling' 'pto engine'\n",
      " 'engine drive']\n"
     ]
    },
    {
     "name": "stderr",
     "output_type": "stream",
     "text": [
      "\r",
      " 48%|████▊     | 2630/5485 [02:23<02:35, 18.34it/s]"
     ]
    },
    {
     "name": "stdout",
     "output_type": "stream",
     "text": [
      "['pump' 'lube' 'pto' 'lube_pump' 'pto_lube']\n",
      "['pto' 'box' 'pto_box']\n",
      "['left_hand' 'track' 'cylinder' 'left_hand_track' 'track_adjuster']\n",
      "['oil' 'cylinder' 'left']\n",
      "['cylinder' '09']\n"
     ]
    },
    {
     "name": "stderr",
     "output_type": "stream",
     "text": [
      " 48%|████▊     | 2636/5485 [02:23<02:35, 18.35it/s]"
     ]
    },
    {
     "name": "stdout",
     "output_type": "stream",
     "text": [
      "['cylinder']\n",
      "['pto' 'box' 'pto_box']\n",
      "['pump' 'lube' 'pto' 'lube_pump' 'pto_lube']\n",
      "['left_hand' 'shd' 'cylinder']\n"
     ]
    },
    {
     "name": "stderr",
     "output_type": "stream",
     "text": [
      "\r",
      " 48%|████▊     | 2639/5485 [02:23<02:35, 18.35it/s]"
     ]
    },
    {
     "name": "stdout",
     "output_type": "stream",
     "text": [
      "['pump' 'pto' 'seal' 'right' 'pto_pump' 'right pto']\n",
      "['pump' 'pto' 'ring' 'pto_pump' 'pump ring']\n",
      "['oil' 'pump' 'lube' 'left_hand' 'pto' 'lube_pump' 'pto_lube'\n",
      " 'left_hand_pto']\n",
      "['hose' 'shd' 'cylinder' 'cylinder_shd']\n"
     ]
    },
    {
     "name": "stderr",
     "output_type": "stream",
     "text": [
      "\r",
      " 48%|████▊     | 2642/5485 [02:23<02:34, 18.35it/s]"
     ]
    },
    {
     "name": "stdout",
     "output_type": "stream",
     "text": [
      "['oil' 'pump' 'lube' 'right_hand' 'pto' 'lube_pump' 'pto_lube'\n",
      " 'right_hand_pto']\n",
      "['right_hand' 'cylinder' 'dipper' 'right_hand cylinder']\n",
      "['left_hand' 'cylinder' 'warranty' 'gland' 'cylinder_gland'\n",
      " 'warranty_left_hand']\n",
      "['hose' 'right_hand' 'pto' 'cooler' 'cooler_hose' 'right_hand_pto'\n",
      " 'pto cooler']\n"
     ]
    },
    {
     "name": "stderr",
     "output_type": "stream",
     "text": [
      " 48%|████▊     | 2648/5485 [02:24<02:34, 18.35it/s]"
     ]
    },
    {
     "name": "stdout",
     "output_type": "stream",
     "text": [
      "['oil' 'shd' 'cylinder' 'cylinder_shd']\n",
      "['left_hand' 'pto' 'seal' 'warranty' 'spline' 'left_hand_pto'\n",
      " 'warranty_left_hand' 'pto spline' 'spline seal']\n",
      "['right_hand' 'boom' 'cylinder' 'boom_cylinder' 'right_hand_boom']\n",
      "['left_hand' 'pto' 'cooler' 'fitting' 'left_hand_pto' 'pto cooler'\n",
      " 'cooler fitting']\n"
     ]
    },
    {
     "name": "stderr",
     "output_type": "stream",
     "text": [
      "\r",
      " 48%|████▊     | 2651/5485 [02:24<02:34, 18.35it/s]"
     ]
    },
    {
     "name": "stdout",
     "output_type": "stream",
     "text": [
      "['left_hand' 'shd' 'cylinder' 'warranty' 'warranty_left_hand'\n",
      " 'cylinder_shd']\n",
      "['cylinder']\n",
      "['cylinder' 'right']\n"
     ]
    },
    {
     "name": "stderr",
     "output_type": "stream",
     "text": [
      " 48%|████▊     | 2657/5485 [02:25<02:34, 18.31it/s]"
     ]
    },
    {
     "name": "stdout",
     "output_type": "stream",
     "text": [
      "['left_hand' 'pto' 'cooler' 'fitting' 'lower' 'left_hand_pto' 'pto cooler'\n",
      " 'cooler lower' 'lower fitting']\n",
      "['cylinder']\n",
      "['left_hand' 'cylinder' 'warranty' 'warranty_left_hand']\n",
      "['right_hand' 'cylinder' 'warranty' 'warranty right_hand']\n",
      "['shd' 'cylinder' '24' 'shd_24' 'crowd cylinder']\n",
      "['cylinder' 'scope']\n",
      "['hose' 'cylinder' 'cylinder_hose']\n",
      "['left_hand' 'cylinder' 'warranty' 'gland' 'cylinder_gland'\n",
      " 'warranty_left_hand']\n"
     ]
    },
    {
     "name": "stderr",
     "output_type": "stream",
     "text": [
      " 49%|████▊     | 2665/5485 [02:25<02:33, 18.34it/s]"
     ]
    },
    {
     "name": "stdout",
     "output_type": "stream",
     "text": [
      "['right_hand' 'cylinder' 'warranty' 'warranty right_hand']\n",
      "['boom' 'cylinder' 'left' 'cylinder boom' 'boom left']\n",
      "['pump' 'left_hand' 'pto' 'sensor' 'harness' 'left_hand_pto' 'pto_pump'\n",
      " 'sensor harness']\n",
      "['pto' 'box' 'pto_box']\n",
      "['pto' 'box' 'pto_box']\n",
      "['left_hand' 'shd' 'cylinder' 'seal' 'warranty' 'rod' 'cylinder_rod'\n",
      " 'shd left_hand' 'warranty shd' 'rod seal']\n",
      "['pto' 'box' 'indicator' 'pto_box']\n",
      "['cylinder' 'valve']\n"
     ]
    },
    {
     "name": "stderr",
     "output_type": "stream",
     "text": [
      " 49%|████▊     | 2672/5485 [02:25<02:33, 18.35it/s]"
     ]
    },
    {
     "name": "stdout",
     "output_type": "stream",
     "text": [
      "['oil' 'hyd' 'cylinder' 'arm' 'dipper' 'hyd_oil' 'arm cylinder'\n",
      " 'dipper arm']\n",
      "['left_hand' 'cylinder']\n",
      "['pto' 'dipstick' 'dipstick pto']\n",
      "['right_hand' 'cylinder']\n",
      "['boom' 'cylinder' 'boom_cylinder']\n"
     ]
    },
    {
     "name": "stderr",
     "output_type": "stream",
     "text": [
      "\r",
      " 49%|████▉     | 2675/5485 [02:25<02:33, 18.36it/s]"
     ]
    },
    {
     "name": "stdout",
     "output_type": "stream",
     "text": [
      "['right_hand' 'cylinder' 'rod' 'cylinder_rod']\n",
      "['right_hand' 'boom' 'cylinder' 'boom_cylinder' 'right_hand_boom']\n",
      "['bucket' 'hose' 'cylinder' 'bucket_cylinder' 'cylinder_hose']\n",
      "['right_hand' 'cylinder']\n",
      "['cylinder' 'fuel' 'station' 'fuel station' 'station cylinder']\n"
     ]
    },
    {
     "name": "stderr",
     "output_type": "stream",
     "text": [
      " 49%|████▉     | 2681/5485 [02:26<02:32, 18.36it/s]"
     ]
    },
    {
     "name": "stdout",
     "output_type": "stream",
     "text": [
      "['left_hand' 'pto' 'box' 'metal' 'pto_box' 'left_hand_pto' 'box metal']\n",
      "['oil' 'hose' 'pto' 'cooler' 'oil_cooler' 'cooler_hose' 'pto oil']\n",
      "['motor' 'seal' 'transmission' 'motor_seal' 'transmission motor']\n",
      "['transmission']\n",
      "['transmission']\n"
     ]
    },
    {
     "name": "stderr",
     "output_type": "stream",
     "text": [
      " 49%|████▉     | 2687/5485 [02:26<02:32, 18.36it/s]"
     ]
    },
    {
     "name": "stdout",
     "output_type": "stream",
     "text": [
      "['oil' 'transmission' 'transmission oil']\n",
      "['pipe']\n",
      "['left_hand' 'box' 'transmission' 'transmission box'\n",
      " 'left_hand transmission']\n",
      "['transmission']\n",
      "['engine' 'left_hand' 'left_hand_engine']\n"
     ]
    },
    {
     "name": "stderr",
     "output_type": "stream",
     "text": [
      "\r",
      " 49%|████▉     | 2690/5485 [02:26<02:32, 18.36it/s]"
     ]
    },
    {
     "name": "stdout",
     "output_type": "stream",
     "text": [
      "['machine' 'machine machine']\n",
      "['drive' 'final' 'final_drive']\n",
      "['left_hand' 'motor' 'travel' 'hour' 'travel_motor' 'left_hand_travel']\n",
      "['oil' 'drive' 'final' 'final_drive' 'drive_oil']\n",
      "['oil' 'drive' 'final' 'final_drive']\n"
     ]
    },
    {
     "name": "stderr",
     "output_type": "stream",
     "text": [
      "\r",
      " 49%|████▉     | 2693/5485 [02:26<02:32, 18.36it/s]"
     ]
    },
    {
     "name": "stdout",
     "output_type": "stream",
     "text": [
      "['oil' 'right_hand' 'drive' 'final' 'final_drive' 'drive_oil'\n",
      " 'right_hand_final']\n",
      "['right_hand' 'left_hand' 'drive' 'final' 'final_drive'\n",
      " 'right_hand_left_hand' 'left_hand final']\n",
      "['motor' 'travel' 'drain' 'case' 'travel_motor' 'case_drain' 'motor case']\n"
     ]
    },
    {
     "name": "stderr",
     "output_type": "stream",
     "text": [
      " 49%|████▉     | 2704/5485 [02:27<02:31, 18.33it/s]"
     ]
    },
    {
     "name": "stdout",
     "output_type": "stream",
     "text": [
      "['motor' 'left' 'hand' 'travel' 'reservoir' 'travel_motor'\n",
      " 'motor reservoir']\n",
      "['left_hand' 'motor' 'text' 'seal' 'travel' 'travel_motor'\n",
      " 'left_hand_travel' 'motor_seal']\n",
      "['drive' 'final' 'drain' 'plug' 'final_drive' 'drain plug' 'plug final']\n",
      "['drive' 'final' 'reservoir' 'final_drive' 'drive reservoir']\n",
      "['right_hand' 'drive' 'final' 'final_drive' 'right_hand_final']\n",
      "['right_hand' 'drive' 'final' 'final_drive' 'right_hand_final']\n",
      "['drive' 'final' 'final_drive']\n",
      "['right_hand' 'left_hand' 'drive' 'final' 'final_drive'\n",
      " 'right_hand_left_hand' 'left_hand final']\n",
      "['motor' 'travel' 'piece' 'travel_motor' 'piece travel']\n"
     ]
    },
    {
     "name": "stderr",
     "output_type": "stream",
     "text": [
      " 49%|████▉     | 2712/5485 [02:27<02:31, 18.36it/s]"
     ]
    },
    {
     "name": "stdout",
     "output_type": "stream",
     "text": [
      "['oil' 'drive' 'final' 'final_drive']\n",
      "['oil' 'drive' 'final' 'final_drive']\n",
      "['drive' 'final' 'final_drive']\n",
      "['drive' 'left' 'final' 'final_drive' 'left final']\n",
      "['oil' 'drive' 'final' 'inner' 'final_drive' 'inner_final']\n",
      "['right_hand' 'motor' 'seal' 'travel' 'rear' 'travel_motor' 'motor_seal'\n",
      " 'right_hand rear' 'rear travel']\n",
      "['right_hand' 'motor' 'travel' 'guard' 'travel_motor' 'motor_guard']\n",
      "['motor' 'brake' 'travel' 'pack' 'travel_motor' 'brake_pack' 'pack travel']\n"
     ]
    },
    {
     "name": "stderr",
     "output_type": "stream",
     "text": [
      "\r",
      " 50%|████▉     | 2716/5485 [02:27<02:30, 18.37it/s]"
     ]
    },
    {
     "name": "stdout",
     "output_type": "stream",
     "text": [
      "['left_hand' 'motor' 'travel' 'guard' 'travel_motor' 'motor_guard'\n",
      " 'guard left_hand']\n",
      "['motor' 'brake' 'travel' 'pack' 'travel_motor' 'brake_pack' 'pack travel']\n",
      "['motor' 'pin' 'travel' 'guard' 'hinge' 'travel_motor' 'motor_guard'\n",
      " 'hinge pin' 'guard hinge']\n",
      "['drive' 'final' 'final_drive']\n",
      "['motor' 'travel' 'guard' 'scv' 'travel_motor' 'motor_guard']\n"
     ]
    },
    {
     "name": "stderr",
     "output_type": "stream",
     "text": [
      " 50%|████▉     | 2722/5485 [02:28<02:30, 18.37it/s]"
     ]
    },
    {
     "name": "stdout",
     "output_type": "stream",
     "text": [
      "['new' 'part']\n",
      "['right_hand' 'shd' 'drive' 'final' 'final_drive' 'right_hand_final'\n",
      " 'drive shd']\n",
      "['drive' 'final' 'final_drive']\n",
      "['motor' 'travel' 'guard' 'travel_motor' 'motor_guard']\n",
      "['oil' 'drive' 'final' 'final_drive' 'drive_oil']\n"
     ]
    },
    {
     "name": "stderr",
     "output_type": "stream",
     "text": [
      "\r",
      " 50%|████▉     | 2725/5485 [02:28<02:30, 18.37it/s]"
     ]
    },
    {
     "name": "stdout",
     "output_type": "stream",
     "text": [
      "['shd' 'drive' 'final' 'cover' 'final_drive' 'drive cover' 'cover shd']\n",
      "['drive' 'final' 'breather' 'inner' 'final_drive' 'drive_breather'\n",
      " 'inner_final']\n",
      "['oil' 'drive' 'brake' 'final' 'pack' 'final_drive' 'brake_pack']\n",
      "['oil' 'drive' 'final' 'final_drive' 'drive_oil']\n"
     ]
    },
    {
     "name": "stderr",
     "output_type": "stream",
     "text": [
      " 50%|████▉     | 2731/5485 [02:28<02:29, 18.37it/s]"
     ]
    },
    {
     "name": "stdout",
     "output_type": "stream",
     "text": [
      "['drive' 'final' 'breather' 'inside' 'final_drive' 'drive_breather'\n",
      " 'inside final']\n",
      "['left_hand' 'motor' 'travel' 'guard' 'travel_motor' 'motor_guard'\n",
      " 'guard left_hand']\n",
      "['drive' 'final' 'plug' 'final_drive' 'drive plug']\n",
      "['drive' 'final' 'plug' 'final_drive' 'drive plug']\n"
     ]
    },
    {
     "name": "stderr",
     "output_type": "stream",
     "text": [
      "\r",
      " 50%|████▉     | 2734/5485 [02:28<02:29, 18.37it/s]"
     ]
    },
    {
     "name": "stdout",
     "output_type": "stream",
     "text": [
      "['drive' 'final' 'bung' 'final_drive' 'drive bung']\n",
      "['right_hand' 'motor' 'seal' 'travel' 'shaft' 'travel_motor'\n",
      " 'right_hand_travel' 'shaft_seal']\n",
      "['drive' 'final' 'plug' 'metal' 'final_drive' 'drive plug']\n",
      "['drive' 'final' 'inner' 'bung' 'final_drive' 'inner_final' 'drive bung']\n",
      "['motor' 'ring' 'travel' 'travel_motor']\n"
     ]
    },
    {
     "name": "stderr",
     "output_type": "stream",
     "text": [
      "\r",
      " 50%|████▉     | 2737/5485 [02:28<02:29, 18.38it/s]"
     ]
    },
    {
     "name": "stdout",
     "output_type": "stream",
     "text": [
      "['oil' 'drive' 'final' 'final_drive' 'drive_oil']\n",
      "['right_hand' 'drive' 'final' 'breather' 'final_drive' 'right_hand_final'\n",
      " 'drive_breather']\n",
      "['oil' 'motor' 'drive' 'final' 'guard' 'final_drive' 'motor_guard'\n",
      " 'drive motor']\n"
     ]
    },
    {
     "name": "stderr",
     "output_type": "stream",
     "text": [
      " 50%|█████     | 2744/5485 [02:29<02:29, 18.33it/s]"
     ]
    },
    {
     "name": "stdout",
     "output_type": "stream",
     "text": [
      "['left_hand' 'shd' 'motor' 'travel' 'guard' 'travel_motor'\n",
      " 'left_hand_travel' 'motor_guard']\n",
      "['left_hand' 'motor' 'travel' 'guard' 'travel_motor' 'left_hand_travel'\n",
      " 'motor_guard']\n",
      "['motor' 'travel' 'guard' 'travel_motor' 'motor_guard']\n",
      "['drive' 'left' 'final' 'final_drive' 'drive left']\n",
      "['drive' 'final' 'final_drive']\n",
      "['right_hand' 'drive' 'final' 'bung' 'final_drive' 'right_hand_final'\n",
      " 'drive bung']\n",
      "['drive' 'right' 'final' 'final_drive' 'drive right']\n",
      "['drive' 'final' 'cover' 'final_drive' 'drive cover']\n"
     ]
    },
    {
     "name": "stderr",
     "output_type": "stream",
     "text": [
      " 50%|█████     | 2753/5485 [02:29<02:28, 18.37it/s]"
     ]
    },
    {
     "name": "stdout",
     "output_type": "stream",
     "text": [
      "['oil' 'right_hand' 'drive' 'final' 'inner' 'sos' 'final_drive'\n",
      " 'drive_oil' 'inner_final' 'right_hand inner' 'oil sos']\n",
      "['oil' 'drive' 'final' 'drain' 'inner' 'final_drive' 'drive_oil'\n",
      " 'inner_final']\n",
      "['motor' 'drive' 'final' 'cover' 'final_drive' 'drive motor' 'motor cover']\n",
      "['oil' 'motor' 'drive' 'final' 'final_drive']\n",
      "['drive' 'final' 'final_drive']\n",
      "['drive' 'final' 'final_drive']\n",
      "['drive' 'final' 'cover' 'final_drive' 'drive cover']\n",
      "['drive' 'final' 'final_drive']\n"
     ]
    },
    {
     "name": "stderr",
     "output_type": "stream",
     "text": [
      "\r",
      " 50%|█████     | 2757/5485 [02:30<02:28, 18.38it/s]"
     ]
    },
    {
     "name": "stdout",
     "output_type": "stream",
     "text": [
      "['left_hand' 'brake' 'travel' 'hour' 'left_hand_travel' 'travel_brake'\n",
      " 'brake_hour']\n",
      "['right_hand' 'brake' 'travel' 'hour' 'travel_brake' 'brake_hour'\n",
      " 'right_hand_travel']\n",
      "['brake' 'travel' 'travel_brake']\n",
      "['brake']\n"
     ]
    },
    {
     "name": "stderr",
     "output_type": "stream",
     "text": [
      " 50%|█████     | 2764/5485 [02:30<02:28, 18.38it/s]"
     ]
    },
    {
     "name": "stdout",
     "output_type": "stream",
     "text": [
      "['brake' 'swing' 'shovel' 'swing brake' 'shovel swing']\n",
      "['right_hand' 'brake' 'propel brake']\n",
      "['brake']\n",
      "['light' 'brake' 'brake light']\n"
     ]
    },
    {
     "name": "stderr",
     "output_type": "stream",
     "text": [
      "\r",
      " 50%|█████     | 2767/5485 [02:30<02:27, 18.38it/s]"
     ]
    },
    {
     "name": "stdout",
     "output_type": "stream",
     "text": [
      "['right_hand' 'left_hand' 'brake' 'travel' 'left_hand_travel'\n",
      " 'right_hand_left_hand' 'travel_brake']\n",
      "['right_hand' 'brake' 'travel' 'right_hand_right_hand' 'travel_brake'\n",
      " 'right_hand_travel']\n",
      "['right_hand' 'left_hand' 'brake' 'travel' 'left_hand_travel'\n",
      " 'right_hand_left_hand' 'travel_brake']\n",
      "['right_hand' 'brake' 'travel' 'right_hand_right_hand' 'travel_brake'\n",
      " 'right_hand_travel']\n",
      "['brake']\n"
     ]
    },
    {
     "name": "stderr",
     "output_type": "stream",
     "text": [
      " 51%|█████     | 2773/5485 [02:30<02:27, 18.38it/s]"
     ]
    },
    {
     "name": "stdout",
     "output_type": "stream",
     "text": [
      "['slew' 'brake' 'water' 'reservoir' 'slew_brake' 'brake reservoir'\n",
      " 'water slew']\n",
      "['slew' 'brake' 'slew_brake']\n",
      "['right_hand' 'slew' 'brake' 'slew_brake' 'right_hand_slew']\n",
      "['brake' 'right' 'propel brake']\n"
     ]
    },
    {
     "name": "stderr",
     "output_type": "stream",
     "text": [
      "\r",
      " 51%|█████     | 2776/5485 [02:30<02:27, 18.39it/s]"
     ]
    },
    {
     "name": "stdout",
     "output_type": "stream",
     "text": [
      "['left' 'brake' 'propel brake']\n",
      "['slew' 'left' 'brake' 'slew_brake' 'brake left']\n",
      "['slew' 'brake' 'right' 'slew_brake' 'brake right']\n",
      "['left' 'brake' 'propel brake']\n",
      "['brake' 'right' 'propel brake']\n"
     ]
    },
    {
     "name": "stderr",
     "output_type": "stream",
     "text": [
      " 51%|█████     | 2782/5485 [02:31<02:27, 18.39it/s]"
     ]
    },
    {
     "name": "stdout",
     "output_type": "stream",
     "text": [
      "['slew' 'brake' 'slew_brake']\n",
      "['brake' 'propel brake']\n",
      "['left_hand' 'slew' 'brake' 'slew_brake' 'left_hand_slew']\n",
      "['right_hand' 'slew' 'brake' 'slew_brake' 'right_hand_slew']\n",
      "['brake']\n",
      "['brake' 'rhf' 'propel brake']\n"
     ]
    },
    {
     "name": "stderr",
     "output_type": "stream",
     "text": [
      " 51%|█████     | 2789/5485 [02:32<02:26, 18.34it/s]"
     ]
    },
    {
     "name": "stdout",
     "output_type": "stream",
     "text": [
      "['shd' 'brake' 'machine' 'machine brake']\n",
      "['brake' 'accident']\n",
      "['brake' 'unit' 'brake unit']\n",
      "['brake' 'travel' 'travel_brake']\n",
      "['shd' 'brake' 'pms' 'brake shd']\n",
      "['slew' 'shd' 'brake' 'slew_brake']\n",
      "['slew' 'brake' 'slew_brake']\n",
      "['brake' 'travel' 'quote' 'travel_brake']\n"
     ]
    },
    {
     "name": "stderr",
     "output_type": "stream",
     "text": [
      " 51%|█████     | 2797/5485 [02:32<02:26, 18.37it/s]"
     ]
    },
    {
     "name": "stdout",
     "output_type": "stream",
     "text": [
      "['oil' 'brake' 'travel' 'rhf' 'travel_brake' 'rhf travel']\n",
      "['oil' 'brake' 'rhf' 'propel brake']\n",
      "['right_hand' 'brake' 'pack' 'brake_pack' 'right_hand brake']\n",
      "['slew' 'brake' 'right' 'hour' 'slew_brake' 'right_slew' 'brake_hour']\n",
      "['left_hand' 'slew' 'brake' 'hour' 'slew_brake' 'left_hand_slew'\n",
      " 'brake_hour']\n",
      "['slew' 'shd' 'brake' 'slew_brake']\n",
      "['right_hand' 'slew' 'brake' 'hour' 'slew_brake' 'right_hand_slew'\n",
      " 'brake_hour']\n",
      "['brake' 'propel brake']\n"
     ]
    },
    {
     "name": "stderr",
     "output_type": "stream",
     "text": [
      " 51%|█████     | 2805/5485 [02:32<02:25, 18.39it/s]"
     ]
    },
    {
     "name": "stdout",
     "output_type": "stream",
     "text": [
      "['hose' 'left_hand' 'hyd' 'brake' 'left_hand brake' 'brake hose']\n",
      "['left_hand' 'slew' 'brake' 'work_order' 'mech' 'slew_brake'\n",
      " 'brake left_hand']\n",
      "['left_hand' 'slew' 'brake' 'gearbox' 'slew_brake' 'left_hand_slew']\n",
      "['slew' 'shd' 'brake' 'right' 'mech' 'slew_brake' 'brake right'\n",
      " 'right shd']\n",
      "['seal']\n"
     ]
    },
    {
     "name": "stderr",
     "output_type": "stream",
     "text": [
      "\r",
      " 51%|█████     | 2808/5485 [02:32<02:25, 18.39it/s]"
     ]
    },
    {
     "name": "stdout",
     "output_type": "stream",
     "text": [
      "['lube']\n",
      "['grease']\n",
      "['grease' 'line' 'grease_line']\n",
      "['grease' 'line' 'grease_line']\n",
      "['grease']\n"
     ]
    },
    {
     "name": "stderr",
     "output_type": "stream",
     "text": [
      " 51%|█████▏    | 2814/5485 [02:33<02:25, 18.39it/s]"
     ]
    },
    {
     "name": "stdout",
     "output_type": "stream",
     "text": [
      "['grease' 'tank' 'grease_tank']\n",
      "['lube']\n",
      "['oil' 'pump' 'lube' 'pto' 'lube_pump' 'pto_lube' 'pto pto']\n"
     ]
    },
    {
     "name": "stderr",
     "output_type": "stream",
     "text": [
      "\r",
      " 51%|█████▏    | 2817/5485 [02:33<02:25, 18.39it/s]"
     ]
    },
    {
     "name": "stdout",
     "output_type": "stream",
     "text": [
      "['lube' 'line' 'lube_line']\n",
      "['lube' 'vacuum' 'point' 'vacuum point' 'lube vacuum']\n",
      "['grease' 'line' 'grease_line']\n",
      "['lube' 'line' 'lube_line']\n",
      "['lube' 'timer' 'lube timer']\n"
     ]
    },
    {
     "name": "stderr",
     "output_type": "stream",
     "text": [
      " 51%|█████▏    | 2823/5485 [02:33<02:24, 18.39it/s]"
     ]
    },
    {
     "name": "stdout",
     "output_type": "stream",
     "text": [
      "['bucket' 'grease' 'line' 'cylinder' 'grease_line' 'bucket_cylinder'\n",
      " 'cylinder grease']\n",
      "['bucket' 'grease' 'line' 'grease_line' 'line_bucket']\n",
      "['bucket' 'grease' 'line' 'grease_line' 'line_bucket']\n",
      "['grease' 'tank' 'bulk' 'grease bulk' 'bulk tank']\n"
     ]
    },
    {
     "name": "stderr",
     "output_type": "stream",
     "text": [
      "\r",
      " 52%|█████▏    | 2826/5485 [02:33<02:24, 18.39it/s]"
     ]
    },
    {
     "name": "stdout",
     "output_type": "stream",
     "text": [
      "['grease' 'boom' 'pivot' 'pivot grease' 'boom pivot']\n",
      "['lube' 'text' 'fitting' 'lube_fitting']\n",
      "['pump' 'lube' 'pto' 'lube_pump' 'pto_lube']\n",
      "['grease' 'lube' 'tank' 'grease_tank' 'lube grease']\n",
      "['roller' 'load roller']\n"
     ]
    },
    {
     "name": "stderr",
     "output_type": "stream",
     "text": [
      "\r",
      " 52%|█████▏    | 2829/5485 [02:33<02:24, 18.40it/s]"
     ]
    },
    {
     "name": "stdout",
     "output_type": "stream",
     "text": [
      "['lube']\n"
     ]
    },
    {
     "name": "stderr",
     "output_type": "stream",
     "text": [
      " 52%|█████▏    | 2836/5485 [02:34<02:24, 18.36it/s]"
     ]
    },
    {
     "name": "stdout",
     "output_type": "stream",
     "text": [
      "['grease' 'line' 'history' 'grease_line']\n",
      "['hose' 'lube' 'lube_hose']\n",
      "['lube']\n",
      "['lube']\n",
      "['grease' 'line' 'grease_line']\n",
      "['lube' 'timer']\n",
      "['hose' 'lube' 'text' 'lube_hose' 'hose_text']\n",
      "['hose' 'lube' 'right_hand' 'turbo' 'supply' 'right_hand_turbo'\n",
      " 'supply hose' 'turbo lube' 'lube supply']\n",
      "['lube' 'line' 'dipper' 'lube_line' 'line dipper']\n"
     ]
    },
    {
     "name": "stderr",
     "output_type": "stream",
     "text": [
      " 52%|█████▏    | 2844/5485 [02:34<02:23, 18.39it/s]"
     ]
    },
    {
     "name": "stdout",
     "output_type": "stream",
     "text": [
      "['grease' 'line' 'fitting' 'grease_line' 'line_fitting']\n",
      "['grease' 'line' 'grease_line']\n",
      "['grease' 'line' 'grease_line']\n",
      "['grease' 'cylinder' 'fitting' 'crowd cylinder' 'grease_fitting']\n",
      "['grease' 'line' 'lip' 'pivot' 'grease_line' 'pivot grease' 'lip pivot']\n",
      "['grease' 'line' 'grease_line']\n",
      "['engine' 'pump' 'lube' 'right_hand' 'pto' 'right_hand_engine' 'lube_pump'\n",
      " 'pump_pto' 'engine lube']\n"
     ]
    },
    {
     "name": "stderr",
     "output_type": "stream",
     "text": [
      "\r",
      " 52%|█████▏    | 2848/5485 [02:34<02:23, 18.40it/s]"
     ]
    },
    {
     "name": "stdout",
     "output_type": "stream",
     "text": [
      "['grease' 'light']\n",
      "['bucket' 'grease' 'hose' 'pin' 'bucket_pin' 'hose_bucket' 'grease_hose']\n",
      "['grease' 'line' 'grease_line']\n",
      "['grease' 'line' 'grease_line']\n",
      "['bucket' 'grease' 'line' 'grease_line' 'line_bucket']\n"
     ]
    },
    {
     "name": "stderr",
     "output_type": "stream",
     "text": [
      " 52%|█████▏    | 2854/5485 [02:35<02:22, 18.40it/s]"
     ]
    },
    {
     "name": "stdout",
     "output_type": "stream",
     "text": [
      "['grease' 'line' 'grease_line']\n",
      "['lube' 'line' 'lower' 'lube_line']\n",
      "['lube' 'line' 'lower' 'lube_line']\n",
      "['grease']\n"
     ]
    },
    {
     "name": "stderr",
     "output_type": "stream",
     "text": [
      " 52%|█████▏    | 2860/5485 [02:35<02:22, 18.40it/s]"
     ]
    },
    {
     "name": "stdout",
     "output_type": "stream",
     "text": [
      "['lube']\n",
      "['bucket' 'grease' 'line' 'grease_line' 'line_bucket']\n",
      "['grease' 'fitting' 'grease_fitting']\n",
      "['grease' 'line' 'grease_line']\n",
      "['bucket' 'lube' 'fitting' 'bucket_lube' 'lube_fitting']\n",
      "['bucket' 'grease' 'fitting' 'grease_fitting' 'fitting_bucket']\n"
     ]
    },
    {
     "name": "stderr",
     "output_type": "stream",
     "text": [
      "\r",
      " 52%|█████▏    | 2863/5485 [02:35<02:22, 18.40it/s]"
     ]
    },
    {
     "name": "stdout",
     "output_type": "stream",
     "text": [
      "['grease' 'line' 'grease_line']\n",
      "['lube' 'fitting' 'lube_fitting']\n",
      "['bucket' 'grease' 'line' 'grease_line' 'line_bucket']\n",
      "['grease']\n"
     ]
    },
    {
     "name": "stderr",
     "output_type": "stream",
     "text": [
      "\r",
      " 52%|█████▏    | 2866/5485 [02:35<02:22, 18.40it/s]"
     ]
    },
    {
     "name": "stdout",
     "output_type": "stream",
     "text": [
      "['lube']\n",
      "['bucket' 'lube' 'fitting' 'lube_fitting' 'fitting_bucket']\n",
      "['grease' 'line' 'grease_line']\n",
      "['grease']\n"
     ]
    },
    {
     "name": "stderr",
     "output_type": "stream",
     "text": [
      " 52%|█████▏    | 2872/5485 [02:36<02:21, 18.41it/s]"
     ]
    },
    {
     "name": "stdout",
     "output_type": "stream",
     "text": [
      "['lube' 'pressure' 'low_pressure']\n",
      "['hose' 'lube' 'lube_hose']\n",
      "['grease' 'valve' 'solenoid' 'dump' 'dump solenoid' 'solenoid valve']\n",
      "['lube' 'line' 'lube_line']\n",
      "['grease']\n"
     ]
    },
    {
     "name": "stderr",
     "output_type": "stream",
     "text": [
      " 52%|█████▏    | 2879/5485 [02:36<02:21, 18.37it/s]"
     ]
    },
    {
     "name": "stdout",
     "output_type": "stream",
     "text": [
      "['bucket' 'lube' 'right_hand' 'line' 'lube_line' 'right_hand_bucket'\n",
      " 'line right_hand']\n",
      "['grease' 'line' 'grease_line']\n",
      "['grease' 'line' 'grease_line']\n",
      "['grease' 'bulk' 'bulk grease']\n",
      "['grease' 'line' 'grease_line']\n",
      "['grease' 'pressure' 'low_pressure']\n",
      "['grease' 'filter' 'grease_filter']\n",
      "['grease']\n"
     ]
    },
    {
     "name": "stderr",
     "output_type": "stream",
     "text": [
      " 53%|█████▎    | 2887/5485 [02:36<02:21, 18.40it/s]"
     ]
    },
    {
     "name": "stdout",
     "output_type": "stream",
     "text": [
      "['bucket' 'grease' 'line' 'grease_line' 'bucket_grease']\n",
      "['bucket' 'grease' 'line' 'grease_line' 'line_bucket']\n",
      "['bucket' 'grease' 'line' 'grease_line' 'line_bucket']\n",
      "['bucket' 'grease' 'fitting' 'grease_fitting' 'fitting_bucket']\n",
      "['grease' 'line' 'boom' 'grease_line' 'line_boom']\n",
      "['bucket' 'grease' 'line' 'pin' 'grease_line' 'line_bucket' 'bucket_pin']\n",
      "['bucket' 'grease' 'line' 'pin' 'grease_line' 'line_bucket' 'bucket_pin']\n",
      "['grease' 'track' 'roller' 'track_roller' 'roller grease']\n",
      "['lube' 'starter' 'lube starter']\n"
     ]
    },
    {
     "name": "stderr",
     "output_type": "stream",
     "text": [
      "\r",
      " 53%|█████▎    | 2891/5485 [02:37<02:20, 18.41it/s]"
     ]
    },
    {
     "name": "stdout",
     "output_type": "stream",
     "text": [
      "['grease' 'line' 'grease_line']\n",
      "['grease' 'line' 'grease_line']\n",
      "['bucket' 'grease' 'line' 'pin' 'grease_line' 'line_bucket' 'bucket_pin']\n",
      "['bucket' 'grease' 'line' 'grease_line' 'line_bucket']\n"
     ]
    },
    {
     "name": "stderr",
     "output_type": "stream",
     "text": [
      " 53%|█████▎    | 2898/5485 [02:37<02:20, 18.41it/s]"
     ]
    },
    {
     "name": "stdout",
     "output_type": "stream",
     "text": [
      "['grease' 'pipe' 'rotor' 'grease_pipe' 'pipe rotor']\n",
      "['lube' 'line' 'lube_line']\n",
      "['grease' 'line' 'grease_line']\n",
      "['grease' 'fitting' 'fitting grease']\n"
     ]
    },
    {
     "name": "stderr",
     "output_type": "stream",
     "text": [
      "\r",
      " 53%|█████▎    | 2901/5485 [02:37<02:20, 18.41it/s]"
     ]
    },
    {
     "name": "stdout",
     "output_type": "stream",
     "text": [
      "['grease' 'tank' 'lid' 'grease_tank' 'tank lid']\n",
      "['grease' 'bolts' 'bolts grease']\n",
      "['grease' 'lube' 'grease_lube']\n",
      "['grease']\n",
      "['grease' 'line' 'grease_line']\n"
     ]
    },
    {
     "name": "stderr",
     "output_type": "stream",
     "text": [
      " 53%|█████▎    | 2907/5485 [02:37<02:20, 18.41it/s]"
     ]
    },
    {
     "name": "stdout",
     "output_type": "stream",
     "text": [
      "['grease' 'pump' 'valve' 'grease_pump' 'pump valve']\n",
      "['grease' 'tank' 'cover' 'grease_tank' 'tank cover']\n",
      "['grease' 'line' 'grease_line']\n",
      "['grease' 'fitting' 'rotor' 'grease_fitting']\n"
     ]
    },
    {
     "name": "stderr",
     "output_type": "stream",
     "text": [
      "\r",
      " 53%|█████▎    | 2910/5485 [02:38<02:19, 18.41it/s]"
     ]
    },
    {
     "name": "stdout",
     "output_type": "stream",
     "text": [
      "['grease' 'pot' 'grease pot']\n",
      "['grease' 'steel' 'tube' 'rotor' 'steel_tube' 'tube rotor']\n",
      "['grease' 'pump' 'welding' 'grease_pump']\n",
      "['grease' 'line' 'grease_line']\n"
     ]
    },
    {
     "name": "stderr",
     "output_type": "stream",
     "text": [
      " 53%|█████▎    | 2916/5485 [02:38<02:19, 18.41it/s]"
     ]
    },
    {
     "name": "stdout",
     "output_type": "stream",
     "text": [
      "['grease' 'line' 'grease_line']\n",
      "['lube']\n",
      "['lube']\n",
      "['lube']\n",
      "['pump' 'lube' 'undercarriage' 'lube_pump' 'undercarriage_lube']\n",
      "['lube']\n",
      "['lube']\n"
     ]
    },
    {
     "name": "stderr",
     "output_type": "stream",
     "text": [
      " 53%|█████▎    | 2923/5485 [02:39<02:19, 18.37it/s]"
     ]
    },
    {
     "name": "stdout",
     "output_type": "stream",
     "text": [
      "['grease' 'line' 'grease_line']\n",
      "['lube']\n",
      "['lube' 'line' 'press' 'lube press' 'press line']\n",
      "['bucket' 'grease' 'line' 'grease_line' 'bucket_grease']\n",
      "['lube' 'line' 'lube_line']\n",
      "['grease' 'line' 'grease_line']\n",
      "['lube' 'valve' 'control' 'control_valve' 'valve lube']\n",
      "['grease' 'pump' 'line' 'grease_line']\n"
     ]
    },
    {
     "name": "stderr",
     "output_type": "stream",
     "text": [
      " 54%|█████▎    | 2935/5485 [02:39<02:18, 18.41it/s]"
     ]
    },
    {
     "name": "stdout",
     "output_type": "stream",
     "text": [
      "['grease']\n",
      "['grease']\n",
      "['pump' 'lube' 'solenoid' 'lube_pump' 'pump solenoid']\n",
      "['grease' 'line' 'grease_line']\n",
      "['lube' 'line' 'pressure' 'low_pressure']\n",
      "['bucket' 'grease' 'line' 'grease_line' 'line_bucket']\n",
      "['bucket' 'grease' 'line' 'grease_line' 'line_bucket']\n",
      "['engine' 'lube' 'right_hand' 'right_hand_engine']\n",
      "['grease' 'pump' 'grease_pump']\n"
     ]
    },
    {
     "name": "stderr",
     "output_type": "stream",
     "text": [
      "\r",
      " 54%|█████▎    | 2939/5485 [02:39<02:18, 18.42it/s]"
     ]
    },
    {
     "name": "stdout",
     "output_type": "stream",
     "text": [
      "['grease' 'oil' 'pump' 'grease_pump' 'pump oil']\n",
      "['grease' 'pump' 'fitting' 'pump fitting']\n",
      "['grease']\n",
      "['lube']\n",
      "['bucket' 'grease' 'line' 'grease_line' 'line_bucket']\n"
     ]
    },
    {
     "name": "stderr",
     "output_type": "stream",
     "text": [
      " 54%|█████▎    | 2945/5485 [02:39<02:17, 18.42it/s]"
     ]
    },
    {
     "name": "stdout",
     "output_type": "stream",
     "text": [
      "['grease' 'hose' 'boom' 'supply' 'hose_boom' 'supply hose' 'grease supply']\n",
      "['grease' 'pump' 'grease_pump']\n",
      "['grease' 'boom']\n",
      "['bucket' 'grease' 'line' 'grease_line' 'line_bucket']\n",
      "['lube']\n"
     ]
    },
    {
     "name": "stderr",
     "output_type": "stream",
     "text": [
      "\r",
      " 54%|█████▎    | 2948/5485 [02:40<02:17, 18.42it/s]"
     ]
    },
    {
     "name": "stdout",
     "output_type": "stream",
     "text": [
      "['bucket' 'grease' 'line' 'grease_line']\n",
      "['grease' 'line' 'boom' 'grease_line' 'line_boom']\n",
      "['lube' 'line' 'boom' 'lube_line']\n",
      "['timer' 'relay' 'timer relay']\n",
      "['lube' 'machine']\n"
     ]
    },
    {
     "name": "stderr",
     "output_type": "stream",
     "text": [
      " 54%|█████▍    | 2954/5485 [02:40<02:17, 18.42it/s]"
     ]
    },
    {
     "name": "stdout",
     "output_type": "stream",
     "text": [
      "['pump' 'lube' 'left_hand' 'pto' 'lube_pump' 'pump_pto' 'left_hand lube']\n",
      "['grease' 'pump']\n",
      "['bucket' 'grease' 'line' 'left_hand' 'grease_line' 'left_hand_bucket'\n",
      " 'line_left_hand']\n",
      "['grease' 'idler']\n"
     ]
    },
    {
     "name": "stderr",
     "output_type": "stream",
     "text": [
      "\r",
      " 54%|█████▍    | 2957/5485 [02:40<02:17, 18.42it/s]"
     ]
    },
    {
     "name": "stdout",
     "output_type": "stream",
     "text": [
      "['grease' 'line' 'grease_line']\n",
      "['pump' 'lube' 'pto' 'lube_pump' 'pump_pto']\n",
      "['grease' 'line' 'grease_line']\n",
      "['grease' 'fitting' 'distributor' 'grease distributor'\n",
      " 'distributor fitting']\n",
      "['pump' 'lube' 'pressure' 'gearbox' 'lube_pressure' 'gearbox pump'\n",
      " 'pump lube']\n"
     ]
    },
    {
     "name": "stderr",
     "output_type": "stream",
     "text": [
      " 54%|█████▍    | 2963/5485 [02:40<02:16, 18.42it/s]"
     ]
    },
    {
     "name": "stdout",
     "output_type": "stream",
     "text": [
      "['lube' 'line' 'boom' 'lube_line' 'line_boom']\n",
      "['bucket' 'hose' 'lube' 'hose_bucket' 'lube_hose']\n",
      "['grease' 'boom']\n",
      "['pump' 'lube' 'pto' 'servo' 'lube_pump' 'pto_lube' 'servo pto']\n"
     ]
    },
    {
     "name": "stderr",
     "output_type": "stream",
     "text": [
      " 54%|█████▍    | 2970/5485 [02:41<02:16, 18.40it/s]"
     ]
    },
    {
     "name": "stdout",
     "output_type": "stream",
     "text": [
      "['grease' 'boom']\n",
      "['engine' 'relay']\n",
      "['grease' 'valve' 'system' 'dump' 'dump valve' 'valve grease']\n",
      "['lube']\n",
      "['lube' 'relay' 'lube relay']\n",
      "['grease' 'line' 'grease_line']\n",
      "['grease' 'hose']\n",
      "['grease' 'machine' 'bulk' 'bulk machine' 'machine grease']\n",
      "['grease' 'pump' 'grease_pump']\n"
     ]
    },
    {
     "name": "stderr",
     "output_type": "stream",
     "text": [
      " 54%|█████▍    | 2978/5485 [02:41<02:16, 18.42it/s]"
     ]
    },
    {
     "name": "stdout",
     "output_type": "stream",
     "text": [
      "['grease']\n",
      "['grease' 'pressure']\n",
      "['bucket' 'grease' 'hose' 'hose_bucket' 'grease_hose']\n",
      "['grease' 'line' 'cylinder' 'clamp' 'grease_line' 'clamp_cylinder'\n",
      " 'line clamp']\n",
      "['grease' 'distributor']\n",
      "['bucket' 'grease' 'line' 'grease_line']\n",
      "['oil' 'new' 'press' 'oil press']\n"
     ]
    },
    {
     "name": "stderr",
     "output_type": "stream",
     "text": [
      "\r",
      " 54%|█████▍    | 2982/5485 [02:41<02:15, 18.43it/s]"
     ]
    },
    {
     "name": "stdout",
     "output_type": "stream",
     "text": [
      "['hose' 'lube' 'motor' 'starter' 'lower' 'starter_motor' 'lube_hose'\n",
      " 'lower lube']\n",
      "['engine' 'lube' 'right_hand' 'starter' 'right_hand_engine' 'lube starter']\n",
      "['grease' 'pump' 'pot' 'grease_pump']\n",
      "['pump' 'lube' 'box' 'pump_box' 'box lube']\n"
     ]
    },
    {
     "name": "stderr",
     "output_type": "stream",
     "text": [
      "\r",
      " 54%|█████▍    | 2985/5485 [02:42<02:15, 18.43it/s]"
     ]
    },
    {
     "name": "stdout",
     "output_type": "stream",
     "text": [
      "['lube']\n",
      "['lube']\n",
      "['lube']\n",
      "['grease' 'filter']\n"
     ]
    },
    {
     "name": "stderr",
     "output_type": "stream",
     "text": [
      " 55%|█████▍    | 2991/5485 [02:42<02:15, 18.43it/s]"
     ]
    },
    {
     "name": "stdout",
     "output_type": "stream",
     "text": [
      "['lube' 'line' 'lube_line']\n",
      "['lube']\n",
      "['grease' 'lube' 'tank' 'grease_tank']\n",
      "['lube']\n",
      "['lube']\n"
     ]
    },
    {
     "name": "stderr",
     "output_type": "stream",
     "text": [
      " 55%|█████▍    | 2997/5485 [02:42<02:14, 18.43it/s]"
     ]
    },
    {
     "name": "stdout",
     "output_type": "stream",
     "text": [
      "['bucket' 'grease' 'line' 'grease_line' 'line_bucket']\n",
      "['grease']\n",
      "['grease' 'system']\n",
      "['oil' 'line' 'boom' 'steel' 'steel_line' 'line_boom']\n",
      "['lube']\n"
     ]
    },
    {
     "name": "stderr",
     "output_type": "stream",
     "text": [
      "\r",
      " 55%|█████▍    | 3000/5485 [02:42<02:14, 18.43it/s]"
     ]
    },
    {
     "name": "stdout",
     "output_type": "stream",
     "text": [
      "['lube']\n",
      "['grease' 'timing']\n",
      "['oil' 'line' 'boom' 'steel' 'steel_line' 'line_boom']\n",
      "['grease' 'line' 'grease_line']\n",
      "['lube']\n"
     ]
    },
    {
     "name": "stderr",
     "output_type": "stream",
     "text": [
      " 55%|█████▍    | 3006/5485 [02:43<02:14, 18.43it/s]"
     ]
    },
    {
     "name": "stdout",
     "output_type": "stream",
     "text": [
      "['lube']\n",
      "['pump' 'lube' 'lube_pump']\n",
      "['lube' 'pressure' 'lube_pressure']\n",
      "['grease' 'hose' 'boom' 'grease_hose']\n"
     ]
    },
    {
     "name": "stderr",
     "output_type": "stream",
     "text": [
      " 55%|█████▍    | 3013/5485 [02:43<02:14, 18.40it/s]"
     ]
    },
    {
     "name": "stdout",
     "output_type": "stream",
     "text": [
      "['lube']\n",
      "['bucket' 'grease' 'line' 'pivot' 'grease_line' 'line_bucket'\n",
      " 'bucket pivot']\n",
      "['grease' 'line' 'indicator' 'line indicator']\n",
      "['lube' 'auto' 'auto_lube' 'lube auto']\n",
      "['grease']\n",
      "['lube' 'access' 'stairs' 'access_stairs']\n",
      "['grease' 'lube' 'grease_lube']\n",
      "['grease' 'solenoid']\n",
      "['grease' 'fitting' 'grease_fitting']\n"
     ]
    },
    {
     "name": "stderr",
     "output_type": "stream",
     "text": [
      " 55%|█████▌    | 3021/5485 [02:43<02:13, 18.43it/s]"
     ]
    },
    {
     "name": "stdout",
     "output_type": "stream",
     "text": [
      "['grease' 'line' 'shd' 'deck' 'grease_line' 'line deck' 'deck shd']\n",
      "['pump' 'lube' 'shd' 'lube_pump' 'pump_shd']\n",
      "['grease' 'pump' 'grease_pump']\n",
      "['grease' 'line' 'body' 'car' 'grease_line' 'car_body']\n",
      "['grease' 'pump' 'coupling' 'grease_pump']\n",
      "['grease' 'line' 'grease_line']\n",
      "['lube' 'seal' 'shaft' 'lube seal' 'shaft lube']\n",
      "['pump']\n"
     ]
    },
    {
     "name": "stderr",
     "output_type": "stream",
     "text": [
      "\r",
      " 55%|█████▌    | 3025/5485 [02:44<02:13, 18.44it/s]"
     ]
    },
    {
     "name": "stdout",
     "output_type": "stream",
     "text": [
      "['lube' 'line' 'access' 'stairs' 'lube_line' 'access_stairs' 'line access']\n",
      "['grease' 'screen' 'grease screen']\n",
      "['grease' 'pump']\n",
      "['grease' 'line' 'grease_line']\n"
     ]
    },
    {
     "name": "stderr",
     "output_type": "stream",
     "text": [
      " 55%|█████▌    | 3031/5485 [02:44<02:13, 18.44it/s]"
     ]
    },
    {
     "name": "stdout",
     "output_type": "stream",
     "text": [
      "['grease' 'hose' 'supply' 'supply hose' 'grease supply']\n",
      "['grease' 'hyd']\n",
      "['grease' 'control' 'panel' 'control panel']\n",
      "['lube']\n",
      "['lube']\n",
      "['grease' 'valve' 'control' 'control_valve']\n"
     ]
    },
    {
     "name": "stderr",
     "output_type": "stream",
     "text": [
      " 55%|█████▌    | 3037/5485 [02:44<02:12, 18.44it/s]"
     ]
    },
    {
     "name": "stdout",
     "output_type": "stream",
     "text": [
      "['oil' 'pto' 'spline' 'cavity' 'spline_cavity' 'pto spline']\n",
      "['grease']\n",
      "['grease' 'filter' 'terex' 'grease_filter' 'terex grease']\n",
      "['grease' 'line' 'shd' 'grease_line' 'line_shd']\n"
     ]
    },
    {
     "name": "stderr",
     "output_type": "stream",
     "text": [
      "\r",
      " 55%|█████▌    | 3040/5485 [02:44<02:12, 18.44it/s]"
     ]
    },
    {
     "name": "stdout",
     "output_type": "stream",
     "text": [
      "['grease' 'line' 'step' 'grease_line' 'line step']\n",
      "['bucket' 'grease' 'line' 'left' 'hand' 'grease_line' 'line left'\n",
      " 'hand bucket']\n",
      "['lube' 'shd' 'pressure' 'low_pressure']\n",
      "['grease' 'pump' 'adaptor' 'supply' 'grease_pump' 'pump adaptor'\n",
      " 'supply grease']\n"
     ]
    },
    {
     "name": "stderr",
     "output_type": "stream",
     "text": [
      " 56%|█████▌    | 3046/5485 [02:45<02:12, 18.44it/s]"
     ]
    },
    {
     "name": "stdout",
     "output_type": "stream",
     "text": [
      "['grease' 'pump' 'line' 'grease_line' 'line pump']\n",
      "['grease' 'line' 'grease_line']\n",
      "['lube']\n",
      "['grease' 'filter' 'grease_filter']\n",
      "['pressure' 'low_pressure']\n"
     ]
    },
    {
     "name": "stderr",
     "output_type": "stream",
     "text": [
      "\r",
      " 56%|█████▌    | 3049/5485 [02:45<02:12, 18.44it/s]"
     ]
    },
    {
     "name": "stdout",
     "output_type": "stream",
     "text": [
      "['pump' 'lube' 'shd' 'lube_pump' 'pump_shd']\n",
      "['pump' 'lube' 'shd' 'spare' 'lube_pump' 'pump_shd' 'spare lube']\n",
      "['grease' 'pump' 'grease_pump']\n",
      "['grease' 'pump' 'shd' 'grease_pump' 'pump_shd']\n"
     ]
    },
    {
     "name": "stderr",
     "output_type": "stream",
     "text": [
      "\r",
      " 56%|█████▌    | 3051/5485 [02:45<02:11, 18.44it/s]"
     ]
    },
    {
     "name": "stdout",
     "output_type": "stream",
     "text": [
      "['grease' 'machine']\n"
     ]
    },
    {
     "name": "stderr",
     "output_type": "stream",
     "text": [
      " 56%|█████▌    | 3057/5485 [02:46<02:11, 18.41it/s]"
     ]
    },
    {
     "name": "stdout",
     "output_type": "stream",
     "text": [
      "['lube' 'machine' 'machine lube']\n",
      "['lube' 'shd']\n",
      "['lube']\n",
      "['grease' 'supply' 'terex' 'part' 'terex grease' 'supply terex']\n",
      "['lube']\n",
      "['lube']\n",
      "['lube']\n",
      "['lube' 'shd']\n",
      "['pump' 'lube' 'lube_pump']\n"
     ]
    },
    {
     "name": "stderr",
     "output_type": "stream",
     "text": [
      " 56%|█████▌    | 3065/5485 [02:46<02:11, 18.43it/s]"
     ]
    },
    {
     "name": "stdout",
     "output_type": "stream",
     "text": [
      "['grease' 'pump' 'grease_pump']\n",
      "['lube' 'shd']\n",
      "['lube' 'shd' 'valve' 'valve shd']\n",
      "['lube']\n",
      "['bucket' 'grease' 'line' 'grease_line' 'line_bucket']\n",
      "['grease' 'tank' 'grease_tank']\n",
      "['lube']\n",
      "['lube' 'auto' 'auto_lube']\n"
     ]
    },
    {
     "name": "stderr",
     "output_type": "stream",
     "text": [
      " 56%|█████▌    | 3072/5485 [02:46<02:10, 18.44it/s]"
     ]
    },
    {
     "name": "stdout",
     "output_type": "stream",
     "text": [
      "['pump' 'lube' 'shd' 'lube_pump' 'pump_shd']\n",
      "['lube' 'shd']\n",
      "['grease' 'distribution' 'grease distribution']\n",
      "['grease']\n",
      "['bucket' 'lube' 'line' 'shd' 'lube_line' 'line_shd' 'bucket_lube']\n"
     ]
    },
    {
     "name": "stderr",
     "output_type": "stream",
     "text": [
      " 56%|█████▌    | 3078/5485 [02:46<02:10, 18.44it/s]"
     ]
    },
    {
     "name": "stdout",
     "output_type": "stream",
     "text": [
      "['grease' 'line' 'grease_line']\n",
      "['grease' 'terex' 'injector' 'grease injector' 'terex grease']\n",
      "['grease' 'slew' 'ring' 'rock' 'slew ring' 'rock slew']\n",
      "['grease' 'platform' 'grease_platform']\n",
      "['lube']\n"
     ]
    },
    {
     "name": "stderr",
     "output_type": "stream",
     "text": [
      "\r",
      " 56%|█████▌    | 3081/5485 [02:47<02:10, 18.44it/s]"
     ]
    },
    {
     "name": "stdout",
     "output_type": "stream",
     "text": [
      "['grease' 'line' 'grease_line']\n",
      "['bucket' 'lube' 'line' 'pin' 'line_bucket' 'lube_line' 'bucket_pin']\n",
      "['grease']\n",
      "['grease' 'boom']\n",
      "['grease']\n"
     ]
    },
    {
     "name": "stderr",
     "output_type": "stream",
     "text": [
      " 56%|█████▋    | 3087/5485 [02:47<02:09, 18.45it/s]"
     ]
    },
    {
     "name": "stdout",
     "output_type": "stream",
     "text": [
      "['lube']\n",
      "['grease' 'leg']\n",
      "['grease' 'pump' 'grease_pump']\n",
      "['grease']\n",
      "['grease']\n"
     ]
    },
    {
     "name": "stderr",
     "output_type": "stream",
     "text": [
      "\r",
      " 56%|█████▋    | 3090/5485 [02:47<02:09, 18.45it/s]"
     ]
    },
    {
     "name": "stdout",
     "output_type": "stream",
     "text": [
      "['grease' 'filter' 'inlet']\n",
      "['grease' 'lube' 'grease_lube']\n",
      "['lube' 'shd']\n",
      "['lube']\n"
     ]
    },
    {
     "name": "stderr",
     "output_type": "stream",
     "text": [
      "\r",
      " 56%|█████▋    | 3093/5485 [02:47<02:09, 18.45it/s]"
     ]
    },
    {
     "name": "stdout",
     "output_type": "stream",
     "text": [
      "['grease' 'filter' 'filter grease']\n",
      "['grease' 'line' 'step' 'grease_line' 'line step']\n",
      "['grease' 'line' 'access' 'stairs' 'grease_line' 'access_stairs'\n",
      " 'line access']\n"
     ]
    },
    {
     "name": "stderr",
     "output_type": "stream",
     "text": [
      " 57%|█████▋    | 3100/5485 [02:48<02:09, 18.41it/s]"
     ]
    },
    {
     "name": "stdout",
     "output_type": "stream",
     "text": [
      "['grease' 'hose' 'flow']\n",
      "['lube' 'system']\n",
      "['grease']\n",
      "['lube']\n",
      "['lube' 'line' 'pressure' 'line pressure']\n",
      "['lube' 'line']\n",
      "['lube']\n",
      "['grease']\n"
     ]
    },
    {
     "name": "stderr",
     "output_type": "stream",
     "text": [
      " 57%|█████▋    | 3108/5485 [02:48<02:08, 18.44it/s]"
     ]
    },
    {
     "name": "stdout",
     "output_type": "stream",
     "text": [
      "['grease' 'pump' 'grease_pump']\n",
      "['lube' 'solenoid' 'lube solenoid']\n",
      "['lube' 'shd' 'solenoid' 'lube solenoid']\n",
      "['grease' 'line' 'grease_line']\n",
      "['bucket' 'grease' 'line' 'grease_line']\n",
      "['lube' 'pressure' 'low_pressure' 'pressure lube']\n",
      "['bucket' 'lube' 'line' 'shd' 'lube_line' 'line_shd' 'bucket_lube']\n",
      "['grease' 'pump' 'grease_pump']\n"
     ]
    },
    {
     "name": "stderr",
     "output_type": "stream",
     "text": [
      "\r",
      " 57%|█████▋    | 3112/5485 [02:48<02:08, 18.45it/s]"
     ]
    },
    {
     "name": "stdout",
     "output_type": "stream",
     "text": [
      "['line' 'pressure' 'pressure line']\n",
      "['lube']\n",
      "['lube' 'shd']\n",
      "['lube']\n"
     ]
    },
    {
     "name": "stderr",
     "output_type": "stream",
     "text": [
      " 57%|█████▋    | 3119/5485 [02:49<02:08, 18.45it/s]"
     ]
    },
    {
     "name": "stdout",
     "output_type": "stream",
     "text": [
      "['lube']\n",
      "['grease' 'fitting' 'fitting grease']\n",
      "['pump' 'lube' 'lube_pump']\n",
      "['grease' 'fitting' 'inlet']\n",
      "['grease' 'tank' 'grease_tank']\n"
     ]
    },
    {
     "name": "stderr",
     "output_type": "stream",
     "text": [
      " 57%|█████▋    | 3125/5485 [02:49<02:07, 18.45it/s]"
     ]
    },
    {
     "name": "stdout",
     "output_type": "stream",
     "text": [
      "['grease' 'tank' 'grease_tank']\n",
      "['lube']\n",
      "['grease' 'tank']\n",
      "['lube']\n",
      "['grease' 'tank' 'grease_tank']\n"
     ]
    },
    {
     "name": "stderr",
     "output_type": "stream",
     "text": [
      "\r",
      " 57%|█████▋    | 3128/5485 [02:49<02:07, 18.45it/s]"
     ]
    },
    {
     "name": "stdout",
     "output_type": "stream",
     "text": [
      "['lube' 'shd']\n",
      "['lube']\n",
      "['grease']\n",
      "['bucket' 'grease']\n",
      "['grease']\n"
     ]
    },
    {
     "name": "stderr",
     "output_type": "stream",
     "text": [
      " 57%|█████▋    | 3134/5485 [02:49<02:07, 18.46it/s]"
     ]
    },
    {
     "name": "stdout",
     "output_type": "stream",
     "text": [
      "['grease' 'hose' 'grease_hose']\n",
      "['grease' 'line' 'grease_line']\n",
      "['grease' 'tank' 'lid' 'grease_tank' 'tank lid']\n",
      "['lube']\n"
     ]
    },
    {
     "name": "stderr",
     "output_type": "stream",
     "text": [
      "\r",
      " 57%|█████▋    | 3137/5485 [02:49<02:07, 18.46it/s]"
     ]
    },
    {
     "name": "stdout",
     "output_type": "stream",
     "text": [
      "['grease']\n",
      "['grease' 'line' 'grease_line']\n",
      "['grease' 'oil' 'pump' 'grease_pump']\n",
      "['grease' 'roller' 'carrier' 'carrier_roller']\n"
     ]
    },
    {
     "name": "stderr",
     "output_type": "stream",
     "text": [
      "\r",
      " 57%|█████▋    | 3140/5485 [02:50<02:07, 18.46it/s]"
     ]
    },
    {
     "name": "stdout",
     "output_type": "stream",
     "text": [
      "['lube' 'fitting' 'lube_fitting']\n",
      "['pump' 'lube' 'pto' 'lube_pump' 'pto_lube']\n"
     ]
    },
    {
     "name": "stderr",
     "output_type": "stream",
     "text": [
      " 57%|█████▋    | 3146/5485 [02:50<02:06, 18.43it/s]"
     ]
    },
    {
     "name": "stdout",
     "output_type": "stream",
     "text": [
      "['bucket' 'grease' 'line' 'grease_line' 'bucket_grease']\n",
      "['grease' 'shd' 'screen' 'grease screen' 'screen shd']\n",
      "['lube']\n",
      "['lube']\n",
      "['lube' 'shd']\n",
      "['lube']\n",
      "['lube']\n",
      "['lube' 'shd']\n",
      "['bucket' 'grease']\n"
     ]
    },
    {
     "name": "stderr",
     "output_type": "stream",
     "text": [
      " 58%|█████▊    | 3154/5485 [02:50<02:06, 18.45it/s]"
     ]
    },
    {
     "name": "stdout",
     "output_type": "stream",
     "text": [
      "['grease' 'shd']\n",
      "['lube']\n",
      "['bucket' 'lube' 'line' 'cylinder' 'line_bucket' 'bucket_cylinder'\n",
      " 'lube_line']\n",
      "['lube' 'shd']\n",
      "['bucket' 'grease' 'line' 'grease_line' 'line_bucket']\n",
      "['grease' 'boom' 'boom grease']\n",
      "['pump' 'lube' 'pto' 'lube_pump' 'pto_lube']\n",
      "['grease']\n"
     ]
    },
    {
     "name": "stderr",
     "output_type": "stream",
     "text": [
      " 58%|█████▊    | 3161/5485 [02:51<02:05, 18.46it/s]"
     ]
    },
    {
     "name": "stdout",
     "output_type": "stream",
     "text": [
      "['grease']\n",
      "['grease' 'line' 'grease_line']\n",
      "['lube']\n",
      "['grease' 'line' 'pressure' 'grease pressure' 'line grease']\n"
     ]
    },
    {
     "name": "stderr",
     "output_type": "stream",
     "text": [
      "\r",
      " 58%|█████▊    | 3164/5485 [02:51<02:05, 18.46it/s]"
     ]
    },
    {
     "name": "stdout",
     "output_type": "stream",
     "text": [
      "['grease' 'shd' 'pressure' 'grease pressure' 'pressure shd']\n",
      "['lube']\n",
      "['grease' 'line' 'shd' 'line_shd']\n",
      "['grease' 'line' 'shd' 'pressure' 'grease_line' 'low_pressure' 'line_shd'\n",
      " 'pressure grease']\n",
      "['grease' 'pump' 'seal' 'shaft' 'grease_pump' 'shaft_seal']\n"
     ]
    },
    {
     "name": "stderr",
     "output_type": "stream",
     "text": [
      " 58%|█████▊    | 3170/5485 [02:51<02:05, 18.46it/s]"
     ]
    },
    {
     "name": "stdout",
     "output_type": "stream",
     "text": [
      "['oil' 'pump' 'lube' 'left_hand' 'pto' 'lube_pump' 'pto_lube'\n",
      " 'left_hand_pto']\n",
      "['grease' 'link' 'point' 'link grease']\n",
      "['grease' 'shd' 'pin' 'link' 'link_pin' 'pin shd']\n",
      "['grease' 'shd']\n",
      "['bucket' 'lube' 'pin' 'bucket_pin']\n"
     ]
    },
    {
     "name": "stderr",
     "output_type": "stream",
     "text": [
      " 58%|█████▊    | 3176/5485 [02:52<02:05, 18.46it/s]"
     ]
    },
    {
     "name": "stdout",
     "output_type": "stream",
     "text": [
      "['oil' 'pump' 'lube' 'right_hand' 'pto' 'lube_pump' 'pto_lube'\n",
      " 'right_hand_pto']\n",
      "['oil' 'hose' 'lube' 'starter' 'lube_hose']\n",
      "['lube' 'timer' 'lube timer']\n",
      "['grease' 'injector' 'grease injector']\n",
      "['bucket' 'lube' 'line' 'pin' 'line_bucket' 'lube_line' 'bucket_pin']\n"
     ]
    },
    {
     "name": "stderr",
     "output_type": "stream",
     "text": [
      "\r",
      " 58%|█████▊    | 3179/5485 [02:52<02:04, 18.46it/s]"
     ]
    },
    {
     "name": "stdout",
     "output_type": "stream",
     "text": [
      "['lube']\n",
      "['grease' 'roller' 'warranty' 'load roller']\n",
      "['bucket' 'lube' 'line' 'line_bucket' 'lube_line']\n",
      "['lube']\n",
      "['grease' 'line' 'grease_line']\n"
     ]
    },
    {
     "name": "stderr",
     "output_type": "stream",
     "text": [
      "\r",
      " 58%|█████▊    | 3182/5485 [02:52<02:04, 18.47it/s]"
     ]
    },
    {
     "name": "stdout",
     "output_type": "stream",
     "text": [
      "['lube' 'shd' 'lube shd']\n",
      "['grease' 'line' 'shd' 'grease_line' 'line_shd']\n",
      "['grease' 'shd']\n"
     ]
    },
    {
     "name": "stderr",
     "output_type": "stream",
     "text": [
      " 58%|█████▊    | 3189/5485 [02:53<02:04, 18.43it/s]"
     ]
    },
    {
     "name": "stdout",
     "output_type": "stream",
     "text": [
      "['lube']\n",
      "['grease']\n",
      "['lube' 'line' 'shd' 'pressure' '24' 'shd_24' 'lube_pressure'\n",
      " 'pressure line']\n",
      "['grease' 'distributor' 'grease distributor']\n",
      "['bucket' 'grease' 'line' 'shd' 'grease_line' 'line_bucket' 'bucket_shd']\n",
      "['oil' 'p2' 'spline' 'cavity' 'spline_cavity']\n",
      "['lube' 'tank' 'lube tank']\n",
      "['lube']\n"
     ]
    },
    {
     "name": "stderr",
     "output_type": "stream",
     "text": [
      " 58%|█████▊    | 3197/5485 [02:53<02:03, 18.45it/s]"
     ]
    },
    {
     "name": "stdout",
     "output_type": "stream",
     "text": [
      "['lube' 'line' 'lube_line']\n",
      "['bucket' 'grease' 'hose' 'pin' 'bucket_pin' 'hose_bucket' 'grease_hose']\n",
      "['grease' 'new' 'scv' 'platform' 'grease_platform']\n",
      "['grease' 'hose' 'leg' 'grease_hose']\n",
      "['lube' 'line' 'lube_line']\n",
      "['grease' 'pump' 'lube' 'lube_pump' 'grease_lube']\n",
      "['lube']\n",
      "['grease' 'shd' '24' 'shd_24' '24 grease']\n",
      "['grease' 'platform' 'grease_platform']\n"
     ]
    },
    {
     "name": "stderr",
     "output_type": "stream",
     "text": [
      " 58%|█████▊    | 3205/5485 [02:53<02:03, 18.47it/s]"
     ]
    },
    {
     "name": "stdout",
     "output_type": "stream",
     "text": [
      "['bucket' 'grease' 'line' 'grease_line' 'line_bucket']\n",
      "['lube' 'shd']\n",
      "['bucket' 'grease' 'line' 'grease_line' 'line_bucket']\n",
      "['lube']\n",
      "['lube' 'pressure' 'port' 'lube_pressure' 'pressure port']\n"
     ]
    },
    {
     "name": "stderr",
     "output_type": "stream",
     "text": [
      " 59%|█████▊    | 3211/5485 [02:53<02:03, 18.47it/s]"
     ]
    },
    {
     "name": "stdout",
     "output_type": "stream",
     "text": [
      "['lube' 'pressure']\n",
      "['grease']\n",
      "['grease' 'pump' 'seal' 'warranty' 'shaft' 'grease_pump' 'shaft_seal'\n",
      " 'warranty grease']\n",
      "['grease' 'line' 'grease_line']\n",
      "['bucket' 'grease' 'line' 'grease_line' 'line_bucket']\n"
     ]
    },
    {
     "name": "stderr",
     "output_type": "stream",
     "text": [
      "\r",
      " 59%|█████▊    | 3214/5485 [02:54<02:02, 18.47it/s]"
     ]
    },
    {
     "name": "stdout",
     "output_type": "stream",
     "text": [
      "['grease' 'platform' 'grease_platform']\n",
      "['grease']\n",
      "['grease' 'shd']\n",
      "['grease' 'line' 'shd' '24' 'grease_line' 'shd_24']\n",
      "['bucket' 'grease' 'line' 'grease_line' 'line_bucket']\n"
     ]
    },
    {
     "name": "stderr",
     "output_type": "stream",
     "text": [
      " 59%|█████▊    | 3220/5485 [02:54<02:02, 18.47it/s]"
     ]
    },
    {
     "name": "stdout",
     "output_type": "stream",
     "text": [
      "['bucket' 'grease' 'line' 'grease_line' 'line_bucket']\n",
      "['lube' 'shd']\n",
      "['lube' 'shd']\n",
      "['bucket' 'grease' 'line' 'grease_line' 'line_bucket']\n"
     ]
    },
    {
     "name": "stderr",
     "output_type": "stream",
     "text": [
      "\r",
      " 59%|█████▉    | 3223/5485 [02:54<02:02, 18.47it/s]"
     ]
    },
    {
     "name": "stdout",
     "output_type": "stream",
     "text": [
      "['grease' 'line' 'press']\n",
      "['grease' 'hose']\n",
      "['grease' 'valve' 'fitting' 'dump' 'dump valve' 'valve fitting']\n",
      "['grease' 'filter' 'servo' 'servo_filter' 'filter grease']\n",
      "['grease']\n"
     ]
    },
    {
     "name": "stderr",
     "output_type": "stream",
     "text": [
      " 59%|█████▉    | 3229/5485 [02:54<02:02, 18.47it/s]"
     ]
    },
    {
     "name": "stdout",
     "output_type": "stream",
     "text": [
      "['oil' 'engine' 'line' 'left_hand' 'shd' '24' 'left_hand_engine'\n",
      " 'engine_oil' 'shd_24' 'line_left_hand' 'oil line']\n",
      "['lube']\n",
      "['grease' 'shd']\n",
      "['grease' 'shd']\n",
      "['bucket' 'grease' 'line' 'grease_line' 'line_bucket']\n"
     ]
    },
    {
     "name": "stderr",
     "output_type": "stream",
     "text": [
      " 59%|█████▉    | 3236/5485 [02:55<02:01, 18.44it/s]"
     ]
    },
    {
     "name": "stdout",
     "output_type": "stream",
     "text": [
      "['line' 'pressure']\n",
      "['bucket' 'grease' 'line' 'grease_line' 'line_bucket']\n",
      "['lube' 'system']\n",
      "['grease']\n",
      "['lube' 'system']\n",
      "['oil' 'line' 'thermostat' 'sleeve' 'sleeve thermostat' 'thermostat line']\n",
      "['grease' 'pump' 'lube' 'lube_pump' 'grease_lube']\n",
      "['oil' 'line' 'thermostat' 'sleeve' 'sleeve thermostat' 'thermostat line']\n",
      "['grease']\n"
     ]
    },
    {
     "name": "stderr",
     "output_type": "stream",
     "text": [
      " 59%|█████▉    | 3244/5485 [02:55<02:01, 18.47it/s]"
     ]
    },
    {
     "name": "stdout",
     "output_type": "stream",
     "text": [
      "['grease' 'fitting' 'board' 'grease_board' 'fitting grease']\n",
      "['grease' 'line' 'grease_line']\n",
      "['lube']\n",
      "['grease']\n",
      "['lube' 'line' 'line lube']\n",
      "['grease' 'system']\n",
      "['lube']\n"
     ]
    },
    {
     "name": "stderr",
     "output_type": "stream",
     "text": [
      "\r",
      " 59%|█████▉    | 3248/5485 [02:55<02:01, 18.47it/s]"
     ]
    },
    {
     "name": "stdout",
     "output_type": "stream",
     "text": [
      "['bucket' 'grease' 'line' 'grease_line' 'line_bucket']\n",
      "['grease' 'line' 'grease_line']\n",
      "['grease' 'line' 'grease_line']\n",
      "['grease' 'line' 'grease_line']\n"
     ]
    },
    {
     "name": "stderr",
     "output_type": "stream",
     "text": [
      " 59%|█████▉    | 3254/5485 [02:56<02:00, 18.48it/s]"
     ]
    },
    {
     "name": "stdout",
     "output_type": "stream",
     "text": [
      "['grease' 'line' 'grease_line']\n",
      "['bucket' 'grease' 'line' 'grease_line' 'line_bucket']\n",
      "['bucket' 'grease' 'line' 'grease_line' 'line_bucket']\n",
      "['grease' 'line' 'link' 'grease_line' 'line link']\n"
     ]
    },
    {
     "name": "stderr",
     "output_type": "stream",
     "text": [
      "\r",
      " 59%|█████▉    | 3257/5485 [02:56<02:00, 18.48it/s]"
     ]
    },
    {
     "name": "stdout",
     "output_type": "stream",
     "text": [
      "['pump' 'lube' 'lube_pump']\n",
      "['bucket' 'grease' 'line' 'grease_line' 'line_bucket']\n",
      "['lube']\n",
      "['grease' 'line' 'grease_line']\n",
      "['grease' 'line' 'grease_line']\n"
     ]
    },
    {
     "name": "stderr",
     "output_type": "stream",
     "text": [
      " 59%|█████▉    | 3263/5485 [02:56<02:00, 18.48it/s]"
     ]
    },
    {
     "name": "stdout",
     "output_type": "stream",
     "text": [
      "['grease']\n",
      "['grease' 'line' 'grease_line']\n",
      "['bucket' 'grease']\n",
      "['bucket' 'lube' 'line' 'line_bucket' 'lube_line']\n",
      "['lube' 'valve' 'control' 'control_valve' 'valve lube']\n"
     ]
    },
    {
     "name": "stderr",
     "output_type": "stream",
     "text": [
      "\r",
      " 60%|█████▉    | 3266/5485 [02:56<02:00, 18.48it/s]"
     ]
    },
    {
     "name": "stdout",
     "output_type": "stream",
     "text": [
      "['bucket' 'grease' 'line' 'grease_line' 'line_bucket']\n",
      "['bucket' 'grease' 'line' 'grease_line' 'line_bucket']\n",
      "['lube' 'undercarriage' 'undercarriage_lube']\n",
      "['lube' 'link']\n",
      "['grease' 'tank' 'ramp' 'grease_tank' 'tank ramp']\n"
     ]
    },
    {
     "name": "stderr",
     "output_type": "stream",
     "text": [
      " 60%|█████▉    | 3272/5485 [02:57<01:59, 18.48it/s]"
     ]
    },
    {
     "name": "stdout",
     "output_type": "stream",
     "text": [
      "['bucket' 'grease' 'line' 'grease_line' 'line_bucket']\n",
      "['bucket' 'lube' 'accident' 'lube bucket']\n",
      "['lube']\n",
      "['grease' 'line' 'grease_line']\n",
      "['grease' 'tank' 'text' 'grease_tank' 'tank text']\n"
     ]
    },
    {
     "name": "stderr",
     "output_type": "stream",
     "text": [
      " 60%|█████▉    | 3283/5485 [02:57<01:59, 18.46it/s]"
     ]
    },
    {
     "name": "stdout",
     "output_type": "stream",
     "text": [
      "['grease']\n",
      "['lube' 'ramp']\n",
      "['grease' 'electrical']\n",
      "['grease' 'line' 'fitting' 'link' 'grease_line' 'line_fitting'\n",
      " 'fitting link']\n",
      "['grease' 'line' 'fitting' 'link' 'grease_line' 'line_fitting'\n",
      " 'fitting link']\n",
      "['grease' 'line' 'grease_line']\n",
      "['grease' 'line' 'grease_line']\n",
      "['grease' 'oil' 'pump' 'grease_pump']\n",
      "['oil' 'pump' 'lube' 'right_hand' 'oil pump' 'lube oil']\n"
     ]
    },
    {
     "name": "stderr",
     "output_type": "stream",
     "text": [
      " 60%|██████    | 3291/5485 [02:58<01:58, 18.48it/s]"
     ]
    },
    {
     "name": "stdout",
     "output_type": "stream",
     "text": [
      "['bucket' 'grease' 'hose' 'accident' 'grease_hose' 'bucket_grease']\n",
      "['oil' 'lube' 'motor' 'starter' 'starter_motor' 'lube starter']\n",
      "['grease' 'filter' 'grease_filter']\n",
      "['grease']\n",
      "['grease']\n",
      "['lube']\n",
      "['pump' 'lube' 'hyd' 'travel' 'lube_pump' 'pump hyd' 'travel lube']\n",
      "['grease' 'sender']\n"
     ]
    },
    {
     "name": "stderr",
     "output_type": "stream",
     "text": [
      "\r",
      " 60%|██████    | 3295/5485 [02:58<01:58, 18.48it/s]"
     ]
    },
    {
     "name": "stdout",
     "output_type": "stream",
     "text": [
      "['lube' 'line' 'frame' 'lube_line']\n",
      "['grease' 'undercarriage' 'undercarriage grease']\n",
      "['lube' 'undercarriage' 'system' 'undercarriage_lube']\n",
      "['grease']\n",
      "['lube']\n"
     ]
    },
    {
     "name": "stderr",
     "output_type": "stream",
     "text": [
      "\r",
      " 60%|██████    | 3298/5485 [02:58<01:58, 18.48it/s]"
     ]
    },
    {
     "name": "stdout",
     "output_type": "stream",
     "text": [
      "['bucket' 'grease' 'line' 'grease_line' 'line_bucket']\n",
      "['grease' 'line' 'grease_line']\n",
      "['grease' 'line' 'boom' 'grease_line' 'line_boom']\n",
      "['lube' 'undercarriage' 'solenoid' 'undercarriage_lube' 'lube solenoid']\n"
     ]
    },
    {
     "name": "stderr",
     "output_type": "stream",
     "text": [
      " 60%|██████    | 3304/5485 [02:58<01:57, 18.48it/s]"
     ]
    },
    {
     "name": "stdout",
     "output_type": "stream",
     "text": [
      "['bucket' 'grease' 'line' 'grease_line' 'line_bucket']\n",
      "['lube' 'undercarriage' 'undercarriage_lube']\n",
      "['pump' 'lube' 'hyd' 'lube_pump']\n",
      "['grease' 'plc']\n"
     ]
    },
    {
     "name": "stderr",
     "output_type": "stream",
     "text": [
      "\r",
      " 60%|██████    | 3307/5485 [02:58<01:57, 18.48it/s]"
     ]
    },
    {
     "name": "stdout",
     "output_type": "stream",
     "text": [
      "['bucket' 'grease' 'pipe' 'grease_pipe']\n",
      "['grease' 'bracket' 'board' 'grease_board']\n",
      "['grease' 'pump' 'grease_pump']\n",
      "['grease' 'line' 'guard' 'grease_line' 'line guard']\n"
     ]
    },
    {
     "name": "stderr",
     "output_type": "stream",
     "text": [
      "\r",
      " 60%|██████    | 3310/5485 [02:59<01:57, 18.49it/s]"
     ]
    },
    {
     "name": "stdout",
     "output_type": "stream",
     "text": [
      "['grease' 'welding' 'board' 'grease_board']\n",
      "['grease' 'pump' 'grease_pump']\n",
      "['pump' 'lube' 'pressure' 'box' 'pump_box' 'lube_pressure' 'box lube']\n",
      "['lube' 'pressure' 'lube_pressure']\n",
      "['lube']\n"
     ]
    },
    {
     "name": "stderr",
     "output_type": "stream",
     "text": [
      " 60%|██████    | 3316/5485 [02:59<01:57, 18.49it/s]"
     ]
    },
    {
     "name": "stdout",
     "output_type": "stream",
     "text": [
      "['lube']\n",
      "['pump' 'lube' 'right_hand' 'pto' 'lube_pump' 'pump_pto' 'right_hand lube']\n",
      "['lube' 'undercarriage' 'undercarriage_lube']\n",
      "['grease' 'pump' 'undercarriage' 'grease_pump' 'pump undercarriage']\n"
     ]
    },
    {
     "name": "stderr",
     "output_type": "stream",
     "text": [
      "\r",
      " 61%|██████    | 3319/5485 [02:59<01:57, 18.49it/s]"
     ]
    },
    {
     "name": "stdout",
     "output_type": "stream",
     "text": [
      "['grease' 'pump' 'undercarriage' 'grease_pump' 'pump undercarriage']\n",
      "['grease' 'pump' 'undercarriage' 'grease_pump' 'pump undercarriage']\n"
     ]
    },
    {
     "name": "stderr",
     "output_type": "stream",
     "text": [
      " 61%|██████    | 3326/5485 [03:00<01:56, 18.46it/s]"
     ]
    },
    {
     "name": "stdout",
     "output_type": "stream",
     "text": [
      "['oil' 'line' 'rf' 'oil line']\n",
      "['lube' 'auto' 'auto_lube']\n",
      "['grease' 'pump' 'rear' 'grease_pump' 'rear grease']\n",
      "['grease' 'line' 'grease_line']\n",
      "['bucket' 'grease' 'line' 'grease_line' 'line_bucket']\n",
      "['bucket' 'lube' 'line' 'line_bucket' 'lube_line']\n",
      "['grease' 'line' 'grease_line']\n",
      "['oil' 'line' 'left_hand' 'motor' 'travel' 'cover' 'travel_motor'\n",
      " 'left_hand_travel' 'oil line' 'motor cover' 'cover oil']\n",
      "['lube' 'undercarriage' 'undercarriage_lube']\n"
     ]
    },
    {
     "name": "stderr",
     "output_type": "stream",
     "text": [
      " 61%|██████    | 3334/5485 [03:00<01:56, 18.48it/s]"
     ]
    },
    {
     "name": "stdout",
     "output_type": "stream",
     "text": [
      "['lube' 'undercarriage' 'undercarriage_lube']\n",
      "['lube' 'undercarriage' 'undercarriage_lube']\n",
      "['grease' 'pipe' 'grease_pipe']\n",
      "['grease' 'line' 'boom' 'grease_line' 'line_boom']\n",
      "['grease' 'distributor' 'grease distributor']\n",
      "['lube']\n",
      "['grease' 'line' 'link' 'grease_line' 'line link']\n"
     ]
    },
    {
     "name": "stderr",
     "output_type": "stream",
     "text": [
      "\r",
      " 61%|██████    | 3338/5485 [03:00<01:56, 18.49it/s]"
     ]
    },
    {
     "name": "stdout",
     "output_type": "stream",
     "text": [
      "['grease' 'line' 'grease_line']\n",
      "['bucket' 'grease' 'line' 'grease_line' 'line_bucket']\n",
      "['lube' 'link' 'auto' 'auto_lube' 'lube link']\n",
      "['grease' 'line' 'access' 'step' 'grease_line' 'access_step' 'step grease']\n"
     ]
    },
    {
     "name": "stderr",
     "output_type": "stream",
     "text": [
      "\r",
      " 61%|██████    | 3341/5485 [03:00<01:55, 18.49it/s]"
     ]
    },
    {
     "name": "stdout",
     "output_type": "stream",
     "text": [
      "['bucket' 'grease']\n",
      "['grease']\n",
      "['grease']\n",
      "['lube']\n",
      "['grease' 'pump' 'grease_pump']\n"
     ]
    },
    {
     "name": "stderr",
     "output_type": "stream",
     "text": [
      " 61%|██████    | 3347/5485 [03:01<01:55, 18.49it/s]"
     ]
    },
    {
     "name": "stdout",
     "output_type": "stream",
     "text": [
      "['grease' 'pump' 'frame' 'bar' 'grease_pump']\n",
      "['grease' 'pump' 'grease_pump']\n",
      "['bucket' 'grease' 'line' 'grease_line' 'line_bucket']\n",
      "['grease' 'line']\n",
      "['bucket' 'grease' 'line' 'grease_line' 'line_bucket']\n"
     ]
    },
    {
     "name": "stderr",
     "output_type": "stream",
     "text": [
      " 61%|██████    | 3353/5485 [03:01<01:55, 18.49it/s]"
     ]
    },
    {
     "name": "stdout",
     "output_type": "stream",
     "text": [
      "['bucket' 'grease' 'line' 'grease_line' 'line_bucket']\n",
      "['grease' 'line' 'rock']\n",
      "['bucket' 'grease' 'line' 'grease_line' 'line_bucket']\n",
      "['grease' 'line' 'link' 'grease_line' 'line link']\n"
     ]
    },
    {
     "name": "stderr",
     "output_type": "stream",
     "text": [
      "\r",
      " 61%|██████    | 3356/5485 [03:01<01:55, 18.49it/s]"
     ]
    },
    {
     "name": "stdout",
     "output_type": "stream",
     "text": [
      "['bucket' 'grease' 'line' 'grease_line' 'line_bucket']\n",
      "['lube']\n",
      "['grease' 'line' 'pressure' 'low_pressure' 'pressure line']\n",
      "['grease']\n",
      "['bucket' 'grease' 'line' 'grease_line' 'bucket_grease']\n"
     ]
    },
    {
     "name": "stderr",
     "output_type": "stream",
     "text": [
      " 61%|██████▏   | 3362/5485 [03:01<01:54, 18.50it/s]"
     ]
    },
    {
     "name": "stdout",
     "output_type": "stream",
     "text": [
      "['grease' 'rock']\n",
      "['grease' 'line' 'fitting' 'grease_line' 'line_fitting']\n",
      "['grease' 'line' 'grease_line']\n",
      "['grease' 'lube' 'undercarriage' 'undercarriage_lube']\n"
     ]
    },
    {
     "name": "stderr",
     "output_type": "stream",
     "text": [
      " 61%|██████▏   | 3369/5485 [03:02<01:54, 18.47it/s]"
     ]
    },
    {
     "name": "stdout",
     "output_type": "stream",
     "text": [
      "['grease' 'pump' 'grease_pump']\n",
      "['grease' 'lube' 'pot' 'grease pot']\n",
      "['grease' 'oil' 'filter']\n",
      "['grease' 'tank' 'grease_tank']\n",
      "['lube' 'line']\n",
      "['pump' 'lube' 'lube_pump']\n",
      "['grease' 'tank' 'housing' 'bracket' 'grease_tank' 'housing grease']\n",
      "['bucket' 'grease' 'line' 'grease_line' 'line_bucket']\n",
      "['bucket' 'lube' 'bucket_lube']\n"
     ]
    },
    {
     "name": "stderr",
     "output_type": "stream",
     "text": [
      " 62%|██████▏   | 3377/5485 [03:02<01:54, 18.49it/s]"
     ]
    },
    {
     "name": "stdout",
     "output_type": "stream",
     "text": [
      "['lube' 'undercarriage' 'undercarriage_lube']\n",
      "['grease' 'line' 'grease_line']\n",
      "['grease' 'pump' 'grease_pump']\n",
      "['lube' 'shd' 'mech' 'lube mech']\n",
      "['chain']\n",
      "['handrail']\n",
      "['boom' 'car' 'car boom']\n",
      "['left_hand']\n"
     ]
    },
    {
     "name": "stderr",
     "output_type": "stream",
     "text": [
      " 62%|██████▏   | 3384/5485 [03:02<01:53, 18.50it/s]"
     ]
    },
    {
     "name": "stdout",
     "output_type": "stream",
     "text": [
      "['cab']\n",
      "['shovel']\n",
      "['handrail']\n",
      "['welding' 'misc' 'welding misc']\n"
     ]
    },
    {
     "name": "stderr",
     "output_type": "stream",
     "text": [
      "\r",
      " 62%|██████▏   | 3387/5485 [03:03<01:53, 18.50it/s]"
     ]
    },
    {
     "name": "stdout",
     "output_type": "stream",
     "text": [
      "['fitting' 'bulk' 'bulk fitting']\n",
      "['cab' 'text' 'rail' 'safety' 'safety_rail' 'rail cab' 'cab text']\n",
      "['cab' 'light' 'deck' 'cab_light' 'deck cab']\n",
      "['right_hand' 'handrail' 'right_hand handrail']\n",
      "['handrail']\n"
     ]
    },
    {
     "name": "stderr",
     "output_type": "stream",
     "text": [
      " 62%|██████▏   | 3393/5485 [03:03<01:53, 18.50it/s]"
     ]
    },
    {
     "name": "stdout",
     "output_type": "stream",
     "text": [
      "['frame' 'car' 'car frame']\n",
      "['clamp' 'handrail' 'pedal' 'clamp pedal']\n",
      "['hand' 'right' 'deck']\n",
      "['cab' 'text' 'rail' 'safety' 'safety_rail' 'rail cab']\n"
     ]
    },
    {
     "name": "stderr",
     "output_type": "stream",
     "text": [
      "\r",
      " 62%|██████▏   | 3396/5485 [03:03<01:52, 18.50it/s]"
     ]
    },
    {
     "name": "stdout",
     "output_type": "stream",
     "text": [
      "['roller' 'undercarriage' 'capital' 'capital undercarriage'\n",
      " 'undercarriage roller']\n",
      "['hand' 'rail' 'hand_rail']\n",
      "['handrail']\n",
      "['body' 'car' 'car_body']\n",
      "['body' 'car' 'car_body']\n"
     ]
    },
    {
     "name": "stderr",
     "output_type": "stream",
     "text": [
      " 62%|██████▏   | 3402/5485 [03:03<01:52, 18.50it/s]"
     ]
    },
    {
     "name": "stdout",
     "output_type": "stream",
     "text": [
      "['text' 'bolts' 'clamp' 'handrail' 'clamp_text' 'bolts handrail'\n",
      " 'handrail clamp']\n",
      "['hand' 'water' 'rail' 'hand_rail']\n",
      "['hand' 'rail' 'hand_rail']\n",
      "['handrail' 'walkway' 'walkway handrail']\n"
     ]
    },
    {
     "name": "stderr",
     "output_type": "stream",
     "text": [
      "\r",
      " 62%|██████▏   | 3405/5485 [03:04<01:52, 18.50it/s]"
     ]
    },
    {
     "name": "stdout",
     "output_type": "stream",
     "text": [
      "['air' 'box' 'handrail' 'deck' 'air box' 'deck handrail']\n",
      "['text' 'new' 'rail' 'safety' 'safety_rail' 'rail text']\n",
      "['hand' 'rail' 'hand_rail']\n",
      "['handrail']\n"
     ]
    },
    {
     "name": "stderr",
     "output_type": "stream",
     "text": [
      "\r",
      " 62%|██████▏   | 3407/5485 [03:04<01:52, 18.50it/s]"
     ]
    },
    {
     "name": "stdout",
     "output_type": "stream",
     "text": [
      "['hand' 'clamp' 'rail' 'hand_rail' 'clamp hand']\n"
     ]
    },
    {
     "name": "stderr",
     "output_type": "stream",
     "text": [
      " 62%|██████▏   | 3413/5485 [03:04<01:52, 18.47it/s]"
     ]
    },
    {
     "name": "stdout",
     "output_type": "stream",
     "text": [
      "['center' 'support' 'center support']\n",
      "['hand' 'rail' 'hand_rail']\n",
      "['hand' 'rail' 'hand_rail']\n",
      "['deck' 'upper' 'upper deck']\n",
      "['shd' 'handrail' 'handrail shd']\n",
      "['handrail']\n",
      "['shd' 'handrail' '24' 'shd_24' 'handrail shd']\n",
      "['hand' 'rail' 'hand_rail']\n",
      "['handrail']\n"
     ]
    },
    {
     "name": "stderr",
     "output_type": "stream",
     "text": [
      " 62%|██████▏   | 3421/5485 [03:04<01:51, 18.50it/s]"
     ]
    },
    {
     "name": "stdout",
     "output_type": "stream",
     "text": [
      "['deck' 'extinguisher' 'extinguisher deck']\n",
      "['travel' 'guard' 'travel guard']\n",
      "['hand' 'rail' 'hand_rail']\n",
      "['leg']\n",
      "['bolts' 'handrail' 'handrail bolts']\n",
      "['boom' 'car' 'shim' 'boom car']\n",
      "['right_hand' 'hand' 'rail' 'hand_rail' 'rail right_hand']\n"
     ]
    },
    {
     "name": "stderr",
     "output_type": "stream",
     "text": [
      " 62%|██████▏   | 3428/5485 [03:05<01:51, 18.50it/s]"
     ]
    },
    {
     "name": "stdout",
     "output_type": "stream",
     "text": [
      "['hand' 'rail' 'hand_rail']\n",
      "['hand' 'rail' 'hand_rail']\n",
      "['deck' 'extinguisher' 'deck extinguisher']\n",
      "['switch' 'rail' 'safety' 'limit' 'limit_switch' 'safety_rail'\n",
      " 'switch safety']\n",
      "['access' 'chain']\n"
     ]
    },
    {
     "name": "stderr",
     "output_type": "stream",
     "text": [
      "\r",
      " 63%|██████▎   | 3431/5485 [03:05<01:51, 18.50it/s]"
     ]
    },
    {
     "name": "stdout",
     "output_type": "stream",
     "text": [
      "['right_hand' 'hand' 'access' 'lower' 'rail' 'hand_rail' 'access hand'\n",
      " 'lower right_hand']\n",
      "['right_hand' 'boom' 'access' 'walkway' 'support' 'right_hand_boom'\n",
      " 'boom support' 'walkway access' 'support walkway']\n",
      "['walkway' 'rail' 'deck' 'safety' 'safety_rail' 'walkway safety'\n",
      " 'rail deck']\n",
      "['hand' 'access' 'rail' 'hand_rail']\n"
     ]
    },
    {
     "name": "stderr",
     "output_type": "stream",
     "text": [
      "\r",
      " 63%|██████▎   | 3434/5485 [03:05<01:50, 18.51it/s]"
     ]
    },
    {
     "name": "stdout",
     "output_type": "stream",
     "text": [
      "['left_hand' 'rear' 'handrail' 'left_hand rear' 'rear handrail']\n",
      "['left_hand' 'handrail' 'deck' 'deck handrail' 'left_hand deck']\n",
      "['body']\n",
      "['undercarriage' 'relay' 'undercarriage relay']\n"
     ]
    },
    {
     "name": "stderr",
     "output_type": "stream",
     "text": [
      " 63%|██████▎   | 3440/5485 [03:05<01:50, 18.51it/s]"
     ]
    },
    {
     "name": "stdout",
     "output_type": "stream",
     "text": [
      "['warranty']\n",
      "['left_hand' 'travel' 'guard' 'left_hand_travel' 'travel guard']\n",
      "['starter' 'wire' 'starter wire']\n",
      "['horn' 'scope' 'wire' 'scope horn']\n"
     ]
    },
    {
     "name": "stderr",
     "output_type": "stream",
     "text": [
      "\r",
      " 63%|██████▎   | 3443/5485 [03:06<01:50, 18.51it/s]"
     ]
    },
    {
     "name": "stdout",
     "output_type": "stream",
     "text": [
      "['timer']\n",
      "['lube' 'timer' 'lube timer']\n",
      "['engine' 'timer' 'engine timer']\n",
      "['wire']\n"
     ]
    },
    {
     "name": "stderr",
     "output_type": "stream",
     "text": [
      " 63%|██████▎   | 3449/5485 [03:06<01:49, 18.51it/s]"
     ]
    },
    {
     "name": "stdout",
     "output_type": "stream",
     "text": [
      "['timer']\n",
      "['engine' 'timer']\n",
      "['engine' 'right_hand' 'right_hand_engine']\n",
      "['timer']\n",
      "['engine' 'timer' 'engine timer']\n",
      "['light' 'indicator' 'indicator light']\n"
     ]
    },
    {
     "name": "stderr",
     "output_type": "stream",
     "text": [
      " 63%|██████▎   | 3456/5485 [03:07<01:49, 18.47it/s]"
     ]
    },
    {
     "name": "stdout",
     "output_type": "stream",
     "text": [
      "['engine' 'sender' 'engine_temperature']\n",
      "['swing']\n",
      "['bcs' 'panel' 'bcs panel']\n",
      "['engine' 'right_hand' 'sensor' 'wire' 'right_hand_engine'\n",
      " 'engine_temperature' 'sensor wire']\n",
      "['electrical']\n",
      "['machine' 'operation']\n",
      "['hyd' 'wire']\n",
      "['relay']\n"
     ]
    },
    {
     "name": "stderr",
     "output_type": "stream",
     "text": [
      " 63%|██████▎   | 3464/5485 [03:07<01:49, 18.50it/s]"
     ]
    },
    {
     "name": "stdout",
     "output_type": "stream",
     "text": [
      "['engine' 'right_hand' 'sensor' 'bcs' 'engine_temperature'\n",
      " 'right_hand bcs' 'bcs engine']\n",
      "['horn' 'electrical' 'electrical horn']\n",
      "['wire']\n",
      "['screen' 'bcs' 'bcs_screen']\n",
      "['pressure' 'electrical' 'low_pressure']\n",
      "['machine' 'electrical']\n",
      "['bucket' 'switch' 'joystick']\n"
     ]
    },
    {
     "name": "stderr",
     "output_type": "stream",
     "text": [
      "\r",
      " 63%|██████▎   | 3468/5485 [03:07<01:48, 18.51it/s]"
     ]
    },
    {
     "name": "stdout",
     "output_type": "stream",
     "text": [
      "['screen' 'bcs' 'bcs_screen']\n",
      "['rear']\n",
      "['electrical']\n",
      "['arm']\n"
     ]
    },
    {
     "name": "stderr",
     "output_type": "stream",
     "text": [
      " 63%|██████▎   | 3475/5485 [03:07<01:48, 18.51it/s]"
     ]
    },
    {
     "name": "stdout",
     "output_type": "stream",
     "text": [
      "['oil' 'engine' 'left_hand' 'left_hand_engine']\n",
      "['shd' 'key']\n",
      "['electrical']\n",
      "['engine' 'light']\n",
      "['engine' 'electrical']\n"
     ]
    },
    {
     "name": "stderr",
     "output_type": "stream",
     "text": [
      "\r",
      " 63%|██████▎   | 3478/5485 [03:07<01:48, 18.51it/s]"
     ]
    },
    {
     "name": "stdout",
     "output_type": "stream",
     "text": [
      "['screen' 'bcs' 'bcs_screen']\n",
      "['pressuriser' 'x1']\n",
      "['hyd' 'electrical' 'electrical hyd']\n",
      "['cable']\n",
      "['filter' 'switch' 'pilot' 'pilot filter']\n"
     ]
    },
    {
     "name": "stderr",
     "output_type": "stream",
     "text": [
      " 64%|██████▎   | 3484/5485 [03:08<01:48, 18.51it/s]"
     ]
    },
    {
     "name": "stdout",
     "output_type": "stream",
     "text": [
      "['shd' 'servo' 'leg' 'servo leg']\n",
      "['button']\n",
      "['shd' 'electrical']\n",
      "['card']\n"
     ]
    },
    {
     "name": "stderr",
     "output_type": "stream",
     "text": [
      "\r",
      " 64%|██████▎   | 3487/5485 [03:08<01:47, 18.51it/s]"
     ]
    },
    {
     "name": "stdout",
     "output_type": "stream",
     "text": [
      "['wire' 'card']\n",
      "['card']\n"
     ]
    },
    {
     "name": "stderr",
     "output_type": "stream",
     "text": [
      " 64%|██████▎   | 3493/5485 [03:08<01:47, 18.51it/s]"
     ]
    },
    {
     "name": "stdout",
     "output_type": "stream",
     "text": [
      "['machine' 'electrical']\n",
      "['valve' 'electrical']\n",
      "['engine' 'right_hand' 'shd' 'right_hand_engine']\n",
      "['wire']\n"
     ]
    },
    {
     "name": "stderr",
     "output_type": "stream",
     "text": [
      "\r",
      " 64%|██████▎   | 3496/5485 [03:08<01:47, 18.52it/s]"
     ]
    },
    {
     "name": "stdout",
     "output_type": "stream",
     "text": [
      "['shd' 'indicator']\n",
      "['shd' 'card']\n",
      "['engine' 'right_hand' 'card' 'pms' 'right_hand_engine' 'pms_card']\n"
     ]
    },
    {
     "name": "stderr",
     "output_type": "stream",
     "text": [
      " 64%|██████▍   | 3502/5485 [03:09<01:47, 18.49it/s]"
     ]
    },
    {
     "name": "stdout",
     "output_type": "stream",
     "text": [
      "['timer']\n",
      "['travel']\n",
      "['electrical']\n",
      "['pressure' 'pms']\n",
      "['pressuriser']\n",
      "['indicator']\n",
      "['indicator']\n",
      "['pressuriser']\n"
     ]
    },
    {
     "name": "stderr",
     "output_type": "stream",
     "text": [
      " 64%|██████▍   | 3510/5485 [03:09<01:46, 18.51it/s]"
     ]
    },
    {
     "name": "stdout",
     "output_type": "stream",
     "text": [
      "['motor']\n",
      "['starter' 'wire' 'wire starter']\n",
      "['electrical']\n",
      "['bcs']\n",
      "['bcs']\n",
      "['electrical']\n",
      "['shd']\n",
      "['swing']\n"
     ]
    },
    {
     "name": "stderr",
     "output_type": "stream",
     "text": [
      " 64%|██████▍   | 3517/5485 [03:09<01:46, 18.52it/s]"
     ]
    },
    {
     "name": "stdout",
     "output_type": "stream",
     "text": [
      "['card' 'pms' 'pms_card']\n",
      "['shd' '24' 'card' 'pms' 'shd_24' 'pms_card']\n",
      "['wire']\n",
      "['card' 'pms' 'pms_card']\n"
     ]
    },
    {
     "name": "stderr",
     "output_type": "stream",
     "text": [
      "\r",
      " 64%|██████▍   | 3520/5485 [03:10<01:46, 18.52it/s]"
     ]
    },
    {
     "name": "stdout",
     "output_type": "stream",
     "text": [
      "['electrical']\n",
      "['pump' 'left_hand' 'slew' 'indicator' 'left_hand_slew' 'slew_pump']\n",
      "['fitting' 'sender' 'bcs' 'logic' 'sender logic' 'bcs sender']\n",
      "['hose' 'motor' 'drain' 'case' 'case_drain' 'drain_hose']\n",
      "['left_hand']\n"
     ]
    },
    {
     "name": "stderr",
     "output_type": "stream",
     "text": [
      " 64%|██████▍   | 3526/5485 [03:10<01:45, 18.52it/s]"
     ]
    },
    {
     "name": "stdout",
     "output_type": "stream",
     "text": [
      "['electrical' 'misc' 'misc electrical']\n",
      "['electrical' 'misc' 'misc electrical']\n",
      "['machine']\n",
      "['fan' 'pressuriser' 'wire' 'x15' 'pressuriser_fan' 'x15 pressuriser'\n",
      " 'fan wire']\n",
      "['electrical' 'room' 'electrical room']\n"
     ]
    },
    {
     "name": "stderr",
     "output_type": "stream",
     "text": [
      "\r",
      " 64%|██████▍   | 3529/5485 [03:10<01:45, 18.52it/s]"
     ]
    },
    {
     "name": "stdout",
     "output_type": "stream",
     "text": [
      "['switch' 'servo' 'stairs' 'switch stairs']\n",
      "['line']\n",
      "['shd' '24' 'sender' 'bcs' 'shd_24']\n",
      "['pressuriser' 'x15' 'x15 pressuriser']\n"
     ]
    },
    {
     "name": "stderr",
     "output_type": "stream",
     "text": [
      " 64%|██████▍   | 3535/5485 [03:10<01:45, 18.52it/s]"
     ]
    },
    {
     "name": "stdout",
     "output_type": "stream",
     "text": [
      "['motor' 'rf' 'pressuriser' 'pressuriser_motor']\n",
      "['plc']\n",
      "['wire' 'roof' 'roof wire']\n",
      "['adaptor']\n"
     ]
    },
    {
     "name": "stderr",
     "output_type": "stream",
     "text": [
      "\r",
      " 65%|██████▍   | 3538/5485 [03:11<01:45, 18.52it/s]"
     ]
    },
    {
     "name": "stdout",
     "output_type": "stream",
     "text": [
      "['adaptor']\n",
      "['card' 'plc' 'plc card']\n",
      "['bcs']\n",
      "['electrical']\n",
      "['electrical']\n"
     ]
    },
    {
     "name": "stderr",
     "output_type": "stream",
     "text": [
      " 65%|██████▍   | 3545/5485 [03:11<01:44, 18.49it/s]"
     ]
    },
    {
     "name": "stdout",
     "output_type": "stream",
     "text": [
      "['key']\n",
      "['new' 'plc']\n",
      "['screen' 'bcs' 'bcs_screen' 'screen bcs']\n",
      "['key' 'ignition']\n",
      "['electrical']\n"
     ]
    },
    {
     "name": "stderr",
     "output_type": "stream",
     "text": [
      " 65%|██████▍   | 3553/5485 [03:11<01:44, 18.51it/s]"
     ]
    },
    {
     "name": "stdout",
     "output_type": "stream",
     "text": [
      "['key']\n",
      "['engine']\n",
      "['cab' 'gauge' 'gauge cab']\n",
      "['left_hand' 'switch']\n",
      "['switch' 'p2']\n",
      "['engine' 'left_hand' 'gauge' 'left_hand_engine' 'engine_temperature'\n",
      " 'temperature_gauge']\n",
      "['switch' 'step']\n",
      "['engine' 'gauge' 'bay' 'engine_bay']\n"
     ]
    },
    {
     "name": "stderr",
     "output_type": "stream",
     "text": [
      "\r",
      " 65%|██████▍   | 3557/5485 [03:12<01:44, 18.52it/s]"
     ]
    },
    {
     "name": "stdout",
     "output_type": "stream",
     "text": [
      "['engine' 'gauge' 'sender' 'engine_temperature' 'temperature_gauge']\n",
      "['pump' 'right_hand' 'slew' 'switch' 'right_hand_slew' 'slew_pump'\n",
      " 'switch right_hand']\n",
      "['engine' 'cab' 'switch' 'switch cab']\n",
      "['hyd' 'switch' 'switch hyd']\n"
     ]
    },
    {
     "name": "stderr",
     "output_type": "stream",
     "text": [
      " 65%|██████▍   | 3564/5485 [03:12<01:43, 18.52it/s]"
     ]
    },
    {
     "name": "stdout",
     "output_type": "stream",
     "text": [
      "['engine' 'gauge' 'engine_temperature' 'temperature_gauge']\n",
      "['switch' 'step' 'vertical' 'vertical_step' 'step switch']\n",
      "['grease' 'gauge' 'new']\n",
      "['text' 'gauge' 'murphy' 'temperature_gauge' 'gauge text']\n",
      "['slew' 'switch']\n"
     ]
    },
    {
     "name": "stderr",
     "output_type": "stream",
     "text": [
      " 65%|██████▌   | 3570/5485 [03:12<01:43, 18.52it/s]"
     ]
    },
    {
     "name": "stdout",
     "output_type": "stream",
     "text": [
      "['switch' 'step' 'cable' 'vertical' 'vertical_step' 'step switch'\n",
      " 'switch cable']\n",
      "['switch' 'step' 'limit' 'limit_switch' 'switch step']\n",
      "['engine' 'gauge' 'engine_temperature' 'temperature_gauge']\n",
      "['left_hand' 'tank' 'coolant' 'gauge' 'header' 'header_tank'\n",
      " 'left_hand header']\n",
      "['lube' 'switch' 'arm' 'limit' 'limit_switch' 'arm limit' 'lube arm']\n"
     ]
    },
    {
     "name": "stderr",
     "output_type": "stream",
     "text": [
      "\r",
      " 65%|██████▌   | 3573/5485 [03:12<01:43, 18.52it/s]"
     ]
    },
    {
     "name": "stdout",
     "output_type": "stream",
     "text": [
      "['switch' 'ignition' 'ignition switch']\n",
      "['switch' 'step' 'vertical' 'limit' 'vertical_step' 'limit_switch'\n",
      " 'step limit']\n",
      "['hyd' 'tank' 'hyd_tank']\n",
      "['oil' 'engine' 'sensor' 'engine sensor']\n",
      "['gauge' 'murphy' 'murphy_gauge']\n"
     ]
    },
    {
     "name": "stderr",
     "output_type": "stream",
     "text": [
      " 65%|██████▌   | 3579/5485 [03:13<01:42, 18.52it/s]"
     ]
    },
    {
     "name": "stdout",
     "output_type": "stream",
     "text": [
      "['water' 'gauge' 'murphy' 'murphy_gauge']\n",
      "['switch' 'step' 'supply' 'switch step' 'supply switch']\n",
      "['engine' 'switch' 'murphy' 'engine murphy' 'murphy switch']\n",
      "['text' 'gauge' 'murphy' 'murphy_gauge' 'gauge text']\n"
     ]
    },
    {
     "name": "stderr",
     "output_type": "stream",
     "text": [
      "\r",
      " 65%|██████▌   | 3582/5485 [03:13<01:42, 18.53it/s]"
     ]
    },
    {
     "name": "stdout",
     "output_type": "stream",
     "text": [
      "['pressure' 'switch' 'pressure_switch']\n",
      "['switch' 'speed' 'speed switch']\n",
      "['cab' 'light' 'gauge' 'light_cab' 'cab gauge']\n",
      "['oil' 'hyd' 'gauge' 'hyd_oil' 'temperature_gauge']\n",
      "['fuel' 'gauge' 'fuel_gauge']\n"
     ]
    },
    {
     "name": "stderr",
     "output_type": "stream",
     "text": [
      "\r",
      " 65%|██████▌   | 3585/5485 [03:13<01:42, 18.53it/s]"
     ]
    },
    {
     "name": "stdout",
     "output_type": "stream",
     "text": [
      "['oil' 'filter' 'sensor']\n"
     ]
    },
    {
     "name": "stderr",
     "output_type": "stream",
     "text": [
      " 65%|██████▌   | 3592/5485 [03:14<01:42, 18.50it/s]"
     ]
    },
    {
     "name": "stdout",
     "output_type": "stream",
     "text": [
      "['oil' 'engine' 'switch' 'press' 'engine_oil' 'oil press' 'press switch'\n",
      " 'switch engine']\n",
      "['fuel' 'gauge' 'fuel_gauge']\n",
      "['switch' 'servo' 'ladder']\n",
      "['fuel' 'sensor']\n",
      "['right_hand' 'fuel' 'sensor' 'right_hand_fuel']\n",
      "['tank' 'gauge' 'header' 'murphy' 'header_tank' 'murphy_gauge'\n",
      " 'tank murphy']\n",
      "['air' 'cab' 'gauge' 'gauge cab' 'air gauge']\n",
      "['air' 'filter' 'switch' 'new' 'air_filter']\n"
     ]
    },
    {
     "name": "stderr",
     "output_type": "stream",
     "text": [
      " 66%|██████▌   | 3600/5485 [03:14<01:41, 18.52it/s]"
     ]
    },
    {
     "name": "stdout",
     "output_type": "stream",
     "text": [
      "['hyd' 'sensor']\n",
      "['air' 'gauge']\n",
      "['rf' 'switch' 'rear' 'switch rear']\n",
      "['right_hand' 'slew' 'gearbox' 'glass' 'slew_gearbox']\n",
      "['pressure' 'switch' 'pressure_switch']\n",
      "['pump' 'lube' 'pressure' 'switch' 'lube_pump' 'pressure_switch'\n",
      " 'pump pressure']\n",
      "['pressure' 'switch' 'gearbox' 'pressure_switch' 'gearbox pressure']\n",
      "['pump' 'sensor' 'swing' 'swing_pump']\n"
     ]
    },
    {
     "name": "stderr",
     "output_type": "stream",
     "text": [
      "\r",
      " 66%|██████▌   | 3604/5485 [03:14<01:41, 18.53it/s]"
     ]
    },
    {
     "name": "stdout",
     "output_type": "stream",
     "text": [
      "['hyd' 'sensor']\n",
      "['pump' 'lube' 'right_hand' 'switch' 'gearbox' 'right_hand_pump'\n",
      " 'pump_gearbox' 'lube switch']\n",
      "['box' 'sensor' 'gear' 'gear_box']\n",
      "['pressure' 'switch' 'arm' 'pressure_switch' 'arm pressure']\n",
      "['switch']\n"
     ]
    },
    {
     "name": "stderr",
     "output_type": "stream",
     "text": [
      " 66%|██████▌   | 3610/5485 [03:14<01:41, 18.53it/s]"
     ]
    },
    {
     "name": "stdout",
     "output_type": "stream",
     "text": [
      "['oil' 'engine' 'gauge' 'oil_gauge']\n",
      "['switch' 'servo' 'base' 'servo switch' 'base servo']\n",
      "['switch' 'servo' 'servo switch']\n",
      "['pump' 'fuel' 'sensor' 'plug' 'fuel_pump' 'sensor plug' 'pump sensor']\n"
     ]
    },
    {
     "name": "stderr",
     "output_type": "stream",
     "text": [
      "\r",
      " 66%|██████▌   | 3613/5485 [03:14<01:41, 18.53it/s]"
     ]
    },
    {
     "name": "stdout",
     "output_type": "stream",
     "text": [
      "['fuel' 'sensor' 'plug' 'sensor plug']\n",
      "['coolant' 'sensor']\n",
      "['switch']\n",
      "['switch' 'control' 'control switch']\n"
     ]
    },
    {
     "name": "stderr",
     "output_type": "stream",
     "text": [
      "\r",
      " 66%|██████▌   | 3616/5485 [03:15<01:40, 18.53it/s]"
     ]
    },
    {
     "name": "stdout",
     "output_type": "stream",
     "text": [
      "['slew' 'motor' 'switch' 'slew_motor']\n",
      "['switch' 'servo' 'bracket' 'bracket servo']\n",
      "['engine' 'sensor' 'speed' 'speed sensor' 'engine speed']\n",
      "['switch' 'servo' 'servo switch']\n"
     ]
    },
    {
     "name": "stderr",
     "output_type": "stream",
     "text": [
      " 66%|██████▌   | 3622/5485 [03:15<01:40, 18.53it/s]"
     ]
    },
    {
     "name": "stdout",
     "output_type": "stream",
     "text": [
      "['engine' 'shd' 'light' 'switch' 'room' 'switch_shd' 'room light'\n",
      " 'engine room' 'light switch']\n",
      "['switch' 'arm' 'limit' 'limit_switch' 'arm limit']\n",
      "['shd' 'hyd' 'switch' 'switch_shd']\n",
      "['switch' 'terex']\n",
      "['oil' 'engine' 'pressure' 'switch' 'engine_oil' 'oil_pressure'\n",
      " 'pressure_switch']\n"
     ]
    },
    {
     "name": "stderr",
     "output_type": "stream",
     "text": [
      " 66%|██████▌   | 3628/5485 [03:15<01:40, 18.53it/s]"
     ]
    },
    {
     "name": "stdout",
     "output_type": "stream",
     "text": [
      "['shd' 'gauge' 'temperature_gauge' 'gauge shd']\n",
      "['oil' 'gauge' 'oil_gauge']\n",
      "['air' 'gauge']\n",
      "['slew' 'hour' 'slew hour']\n",
      "['shd' 'switch' 'servo' 'lever' 'servo_lever' 'lever_switch' 'switch_shd']\n",
      "['engine' 'lube' 'switch' 'press' 'press switch' 'lube press']\n"
     ]
    },
    {
     "name": "stderr",
     "output_type": "stream",
     "text": [
      " 66%|██████▋   | 3635/5485 [03:16<01:39, 18.50it/s]"
     ]
    },
    {
     "name": "stdout",
     "output_type": "stream",
     "text": [
      "['switch' 'gauge' 'murphy' 'murphy switch' 'switch gauge']\n",
      "['shd' 'coolant' 'gauge' 'murphy' 'murphy_gauge' 'gauge shd'\n",
      " 'coolant murphy']\n",
      "['oil' 'engine' 'sensor' 'engine_oil']\n",
      "['switch']\n",
      "['switch' 'seal']\n",
      "['boom' 'sensor']\n",
      "['switch']\n",
      "['right_hand' 'fuel' 'gauge' 'fuel_gauge' 'right_hand_fuel']\n"
     ]
    },
    {
     "name": "stderr",
     "output_type": "stream",
     "text": [
      " 66%|██████▋   | 3643/5485 [03:16<01:39, 18.52it/s]"
     ]
    },
    {
     "name": "stdout",
     "output_type": "stream",
     "text": [
      "['fuel' 'gauge' 'fuel_gauge']\n",
      "['switch']\n",
      "['pump' 'slew' 'shd' 'sensor' 'slew_pump']\n",
      "['switch']\n",
      "['pump' 'switch']\n",
      "['switch' 'servo' 'lever' 'servo_lever' 'lever_switch']\n",
      "['left_hand' 'air' 'gauge' 'left_hand_air']\n",
      "['left_hand' 'light' 'water' 'gauge' 'temperature_gauge' 'left_hand water']\n"
     ]
    },
    {
     "name": "stderr",
     "output_type": "stream",
     "text": [
      "\r",
      " 66%|██████▋   | 3647/5485 [03:16<01:39, 18.53it/s]"
     ]
    },
    {
     "name": "stdout",
     "output_type": "stream",
     "text": [
      "['grease' 'oil' 'gauge' 'board' 'grease_board' 'board gauge']\n",
      "['pump' 'right_hand' 'shd' 'sensor' 'plug' 'sensor plug' 'pump sensor']\n",
      "['switch' 'access' 'stairs' 'access_stairs']\n",
      "['hyd' 'tank' 'glass' 'hyd_tank']\n"
     ]
    },
    {
     "name": "stderr",
     "output_type": "stream",
     "text": [
      "\r",
      " 67%|██████▋   | 3651/5485 [03:17<01:38, 18.53it/s]"
     ]
    },
    {
     "name": "stdout",
     "output_type": "stream",
     "text": [
      "['left_hand' 'air' 'gauge' 'left_hand_air']\n",
      "['left_hand' 'air' 'filter' 'gauge' 'air_filter' 'left_hand_air']\n",
      "['left_hand' 'air' 'filter' 'gauge' 'air_filter' 'left_hand_air']\n",
      "['switch' 'rail' 'safety' 'limit' 'limit_switch' 'safety_rail'\n",
      " 'switch safety']\n"
     ]
    },
    {
     "name": "stderr",
     "output_type": "stream",
     "text": [
      " 67%|██████▋   | 3657/5485 [03:17<01:38, 18.53it/s]"
     ]
    },
    {
     "name": "stdout",
     "output_type": "stream",
     "text": [
      "['switch' 'servo' 'lever' 'servo_lever']\n",
      "['right_hand' 'fuel' 'gauge' 'fuel_gauge' 'right_hand_fuel']\n",
      "['motor' 'switch' 'swing' 'swing motor']\n",
      "['right_hand' 'fuel' 'gauge' 'fuel_gauge' 'right_hand_fuel']\n"
     ]
    },
    {
     "name": "stderr",
     "output_type": "stream",
     "text": [
      "\r",
      " 67%|██████▋   | 3660/5485 [03:17<01:38, 18.53it/s]"
     ]
    },
    {
     "name": "stdout",
     "output_type": "stream",
     "text": [
      "['slew' 'sensor' 'press' 'press sensor']\n",
      "['right_hand' 'fuel' 'gauge' 'fuel_gauge' 'right_hand_fuel']\n",
      "['engine' 'left_hand' 'gauge' 'murphy' 'left_hand_engine' 'murphy_gauge'\n",
      " 'engine murphy']\n",
      "['switch' 'key' 'ignition' 'ignition switch' 'switch key']\n"
     ]
    },
    {
     "name": "stderr",
     "output_type": "stream",
     "text": [
      "\r",
      " 67%|██████▋   | 3663/5485 [03:17<01:38, 18.53it/s]"
     ]
    },
    {
     "name": "stdout",
     "output_type": "stream",
     "text": [
      "['gauge' 'temperature_gauge']\n",
      "['switch' 'servo' 'stairs' 'switch stairs']\n",
      "['pump' 'left_hand' 'pto' 'sensor' 'harness' 'left_hand_pto' 'pto_pump'\n",
      " 'sensor harness']\n",
      "['switch' 'access' 'stairs' 'access_stairs' 'switch access']\n",
      "['pump' 'right_hand' 'sensor' 'swing' 'right_hand_pump' 'swing right_hand']\n"
     ]
    },
    {
     "name": "stderr",
     "output_type": "stream",
     "text": [
      " 67%|██████▋   | 3669/5485 [03:17<01:37, 18.53it/s]"
     ]
    },
    {
     "name": "stdout",
     "output_type": "stream",
     "text": [
      "['sensor']\n",
      "['switch' 'rear']\n",
      "['oil' 'pressure' 'gauge' 'oil_pressure' 'pressure gauge']\n",
      "['engine' 'hyd' 'gauge' 'revs' 'engine revs' 'revs gauge']\n"
     ]
    },
    {
     "name": "stderr",
     "output_type": "stream",
     "text": [
      " 67%|██████▋   | 3674/5485 [03:18<01:37, 18.53it/s]"
     ]
    },
    {
     "name": "stdout",
     "output_type": "stream",
     "text": [
      "['oil' 'pressure' 'switch' 'oil_pressure' 'pressure_switch']\n",
      "['oil' 'pump' 'pressure' 'drive' 'switch' 'pump_drive' 'oil_pressure'\n",
      " 'pressure_switch' 'drive_oil']\n",
      "['pump' 'pressure' 'drive' 'switch' 'pump_drive' 'pressure_switch'\n",
      " 'drive pressure']\n",
      "['switch' 'gearbox' 'press' 'press switch']\n"
     ]
    },
    {
     "name": "stderr",
     "output_type": "stream",
     "text": [
      " 67%|██████▋   | 3680/5485 [03:18<01:37, 18.51it/s]"
     ]
    },
    {
     "name": "stdout",
     "output_type": "stream",
     "text": [
      "['pressure' 'sensor' 'p1' 'pressure sensor']\n",
      "['grease' 'pressure' 'switch' 'pressure_switch' 'grease pressure']\n",
      "['pressure' 'switch' 'pressure_switch']\n",
      "['air' 'filter' 'gauge' 'air_filter']\n",
      "['pressure' 'switch' 'pressure_switch']\n",
      "['lube' 'pressure' 'switch' 'pressure_switch' 'lube_pressure']\n",
      "['oil' 'engine' 'left_hand' 'pressure' 'switch' 'air_conditioning'\n",
      " 'left_hand_engine' 'oil_pressure' 'pressure_switch'\n",
      " 'engine air_conditioning' 'air_conditioning oil']\n",
      "['oil' 'engine' 'left_hand' 'pressure' 'switch' 'left_hand_engine'\n",
      " 'engine_oil' 'oil_pressure' 'pressure_switch']\n"
     ]
    },
    {
     "name": "stderr",
     "output_type": "stream",
     "text": [
      " 67%|██████▋   | 3688/5485 [03:19<01:36, 18.53it/s]"
     ]
    },
    {
     "name": "stdout",
     "output_type": "stream",
     "text": [
      "['pump' 'pressure' 'gearbox' 'sensor' 'pump_gearbox' 'pressure sensor'\n",
      " 'gearbox pressure']\n",
      "['left_hand' 'hyd' 'sensor' 'speed' 'speed sensor' 'left_hand speed']\n",
      "['engine' 'right_hand' 'coolant' 'sensor' 'right_hand_engine'\n",
      " 'engine_coolant']\n",
      "['coolant' 'sensor' 'coolant sensor']\n",
      "['engine' 'sensor' 'speed' 'speed sensor' 'engine speed']\n",
      "['sensor']\n",
      "['engine' 'lube' 'left_hand' 'switch' 'left_hand_engine']\n",
      "['coolant' 'gauge']\n"
     ]
    },
    {
     "name": "stderr",
     "output_type": "stream",
     "text": [
      " 67%|██████▋   | 3695/5485 [03:19<01:36, 18.53it/s]"
     ]
    },
    {
     "name": "stdout",
     "output_type": "stream",
     "text": [
      "['pump' 'slew' 'sensor' 'pump sensor']\n",
      "['left_hand' 'tank' 'gauge' 'header' 'murphy' 'header_tank' 'murphy_gauge'\n",
      " 'left_hand header' 'tank murphy']\n",
      "['travel' 'gauge' 'murphy' 'lts' 'murphy_gauge' 'lts travel' 'gauge lts']\n",
      "['right_hand' 'gauge' 'murphy' 'murphy_gauge']\n",
      "['hyd' 'sensor']\n"
     ]
    },
    {
     "name": "stderr",
     "output_type": "stream",
     "text": [
      "\r",
      " 67%|██████▋   | 3698/5485 [03:19<01:36, 18.54it/s]"
     ]
    },
    {
     "name": "stdout",
     "output_type": "stream",
     "text": [
      "['gauge' 'murphy' 'murphy_gauge']\n",
      "['right_hand' 'fan' 'switch' 'right_hand_fan' 'fan switch']\n",
      "['cylinder' 'bolts' 'retainer' 'cylinder retainer']\n",
      "['grease' 'pin' 'bush' 'pin bush' 'bush grease']\n",
      "['boom' 'pin' 'boom_pin']\n"
     ]
    },
    {
     "name": "stderr",
     "output_type": "stream",
     "text": [
      " 68%|██████▊   | 3704/5485 [03:19<01:36, 18.54it/s]"
     ]
    },
    {
     "name": "stdout",
     "output_type": "stream",
     "text": [
      "['grease' 'tank' 'grease_tank']\n",
      "['pipe' 'clamp' 'clamp_pipe' 'clamp clamp']\n",
      "['hose' 'right_hand' 'cylinder' 'pin' 'cylinder_pin' 'pin hose']\n",
      "['cylinder' 'pin' 'bush' 'cylinder_pin' 'pin bush']\n"
     ]
    },
    {
     "name": "stderr",
     "output_type": "stream",
     "text": [
      "\r",
      " 68%|██████▊   | 3707/5485 [03:19<01:35, 18.54it/s]"
     ]
    },
    {
     "name": "stdout",
     "output_type": "stream",
     "text": [
      "['cab' 'bolts']\n",
      "['track' 'tensioner' 'track_tensioner']\n",
      "['step']\n",
      "['cylinder' 'pin' 'rod' 'cylinder_rod']\n"
     ]
    },
    {
     "name": "stderr",
     "output_type": "stream",
     "text": [
      "\r",
      " 68%|██████▊   | 3710/5485 [03:20<01:35, 18.54it/s]"
     ]
    },
    {
     "name": "stdout",
     "output_type": "stream",
     "text": [
      "['pin' 'lip' 'shroud' 'lip_shroud' 'shroud_pin']\n",
      "['pin' 'adaptor' 'adaptor_pin']\n",
      "['boom' 'left_hand' 'valve' 'bolts' 'control' 'control_valve'\n",
      " 'boom_control' 'left_hand_boom' 'bolts left_hand']\n",
      "['bucket' 'pin' 'tip' 'bucket_tip' 'tip_pin']\n"
     ]
    },
    {
     "name": "stderr",
     "output_type": "stream",
     "text": [
      " 68%|██████▊   | 3716/5485 [03:20<01:35, 18.54it/s]"
     ]
    },
    {
     "name": "stdout",
     "output_type": "stream",
     "text": [
      "['pump' 'ring']\n",
      "['engine']\n",
      "['pin' 'adaptor' 'adaptor_pin']\n",
      "['pin' 'clamp' 'lower' 'clamp pin' 'lower clamp']\n"
     ]
    },
    {
     "name": "stderr",
     "output_type": "stream",
     "text": [
      "\r",
      " 68%|██████▊   | 3718/5485 [03:20<01:35, 18.54it/s]"
     ]
    },
    {
     "name": "stdout",
     "output_type": "stream",
     "text": [
      "['pin' 'text' 'plug' 'pin text' 'plug pin']\n",
      "['text' 'bolts' 'bolts_text']\n"
     ]
    },
    {
     "name": "stderr",
     "output_type": "stream",
     "text": [
      " 68%|██████▊   | 3724/5485 [03:21<01:35, 18.51it/s]"
     ]
    },
    {
     "name": "stdout",
     "output_type": "stream",
     "text": [
      "['exhaust' 'text' 'bolts' 'bolts_text' 'exhaust bolts']\n",
      "['track' 'pin' 'track_pin']\n",
      "['track' 'bolts' 'new']\n",
      "['tooth' 'pin' 'adaptor' 'adaptor_tooth' 'tooth_pin']\n",
      "['text' 'clamp' 'clamp_text']\n",
      "['text' 'clamp' 'muffler' 'clamp_text' 'muffler clamp']\n",
      "['text' 'clamp' 'clamp_text']\n",
      "['left_hand' 'slew' 'motor' 'ring' 'slew_motor' 'left_hand_slew']\n",
      "['engine' 'filter' 'housing' 'bung' 'filter_housing' 'engine filter']\n"
     ]
    },
    {
     "name": "stderr",
     "output_type": "stream",
     "text": [
      " 68%|██████▊   | 3732/5485 [03:21<01:34, 18.53it/s]"
     ]
    },
    {
     "name": "stdout",
     "output_type": "stream",
     "text": [
      "['air' 'filter' 'housing' 'air_filter' 'filter_housing']\n",
      "['gasket']\n",
      "['text' 'bolts']\n",
      "['pin' 'bolts' 'rod']\n",
      "['turbo' 'gasket']\n",
      "['slew' 'motor' 'seal' 'slew_motor']\n",
      "['exhaust' 'clamp' 'history' 'exhaust_clamp' 'clamp history']\n"
     ]
    },
    {
     "name": "stderr",
     "output_type": "stream",
     "text": [
      "\r",
      " 68%|██████▊   | 3736/5485 [03:21<01:34, 18.54it/s]"
     ]
    },
    {
     "name": "stdout",
     "output_type": "stream",
     "text": [
      "['cylinder' 'pin' 'text' 'bolts' 'cylinder_pin' 'bolts_text']\n",
      "['text' 'clamp' 'muffler']\n",
      "['boom' 'bolts' 'clamp' 'clamp boom']\n",
      "['boom' 'pin' 'text' 'foot' 'shim' 'boom_foot' 'foot pin' 'pin text'\n",
      " 'shim boom']\n",
      "['oil' 'text' 'servo' 'housing' 'screen' 'servo screen' 'screen housing'\n",
      " 'housing text']\n"
     ]
    },
    {
     "name": "stderr",
     "output_type": "stream",
     "text": [
      " 68%|██████▊   | 3742/5485 [03:21<01:34, 18.54it/s]"
     ]
    },
    {
     "name": "stdout",
     "output_type": "stream",
     "text": [
      "['oil' 'pump']\n",
      "['hyd' 'tank' 'hyd_tank']\n",
      "['pin' 'cab' 'door' 'latch' 'operator' 'cab_door' 'door_latch'\n",
      " 'operator cab']\n",
      "['pipe' 'exhaust' 'turbo' 'clamp' 'exhaust_pipe' 'turbo clamp'\n",
      " 'pipe turbo']\n",
      "['pin' 'tip' 'tip_pin']\n"
     ]
    },
    {
     "name": "stderr",
     "output_type": "stream",
     "text": [
      " 68%|██████▊   | 3748/5485 [03:22<01:33, 18.54it/s]"
     ]
    },
    {
     "name": "stdout",
     "output_type": "stream",
     "text": [
      "['bucket' 'grease' 'hose' 'pin' 'bucket_pin' 'hose_bucket' 'grease_hose']\n",
      "['left_hand' 'cylinder' 'pin' 'cylinder_pin']\n",
      "['tank' 'fuel' 'bolts' 'fuel_tank' 'tank bolts']\n",
      "['bolts' 'step' 'bolts step']\n"
     ]
    },
    {
     "name": "stderr",
     "output_type": "stream",
     "text": [
      "\r",
      " 68%|██████▊   | 3751/5485 [03:22<01:33, 18.54it/s]"
     ]
    },
    {
     "name": "stdout",
     "output_type": "stream",
     "text": [
      "['cylinder' 'bolts' 'crowd cylinder']\n",
      "['left_hand' 'exhaust' 'turbo' 'clamp' 'exhaust_clamp' 'left_hand_turbo']\n",
      "['pin' 'adaptor' 'keeper' 'keeper pin' 'adaptor keeper']\n",
      "['pin' 'clamp' 'clamp pin']\n",
      "['boom' 'cab' 'bolts' 'plate' 'cab_mount' 'bolts cab' 'plate bolts'\n",
      " 'boom plate']\n"
     ]
    },
    {
     "name": "stderr",
     "output_type": "stream",
     "text": [
      " 68%|██████▊   | 3757/5485 [03:22<01:33, 18.54it/s]"
     ]
    },
    {
     "name": "stdout",
     "output_type": "stream",
     "text": [
      "['tank' 'water' 'water_tank']\n",
      "['bucket' 'pin' 'bucket_pin']\n",
      "['bucket' 'grease' 'line' 'pin' 'grease_line' 'line_bucket' 'bucket_pin']\n",
      "['bucket' 'grease' 'line' 'pin' 'grease_line' 'line_bucket' 'bucket_pin']\n"
     ]
    },
    {
     "name": "stderr",
     "output_type": "stream",
     "text": [
      "\r",
      " 69%|██████▊   | 3760/5485 [03:22<01:33, 18.54it/s]"
     ]
    },
    {
     "name": "stdout",
     "output_type": "stream",
     "text": [
      "['left_hand' 'cab' 'bolts' 'cab_mount' 'left_hand cab']\n",
      "['bucket' 'grease' 'line' 'pin' 'grease_line' 'line_bucket' 'bucket_pin']\n",
      "['right_hand' 'left_hand' 'track' 'pin' 'circlip' 'right_hand_track'\n",
      " 'track_pin' 'left_hand_right_hand' 'pin circlip']\n",
      "['grease' 'bolts' 'bolts grease']\n",
      "['track' 'pin' 'lid' 'track_pin' 'pin lid']\n"
     ]
    },
    {
     "name": "stderr",
     "output_type": "stream",
     "text": [
      " 69%|██████▊   | 3767/5485 [03:23<01:32, 18.51it/s]"
     ]
    },
    {
     "name": "stdout",
     "output_type": "stream",
     "text": [
      "['tank' 'clamp' 'water' 'water_tank']\n",
      "['bolts']\n",
      "['bracket']\n",
      "['track' 'pin' 'link' 'link_pin' 'track link']\n",
      "['tank' 'water' 'water_tank']\n",
      "['left_hand' 'pin' 'link' 'link_pin']\n",
      "['bucket' 'pin' 'bucket_pin']\n",
      "['pump' 'right_hand' 'fuel' 'gasket' 'right_hand_fuel' 'fuel_pump'\n",
      " 'gasket right_hand']\n",
      "['engine' 'exhaust']\n"
     ]
    },
    {
     "name": "stderr",
     "output_type": "stream",
     "text": [
      " 69%|██████▉   | 3779/5485 [03:23<01:32, 18.54it/s]"
     ]
    },
    {
     "name": "stdout",
     "output_type": "stream",
     "text": [
      "['track' 'pin' 'retainer' 'track_pin' 'pin_retainer']\n",
      "['bucket' 'tooth' 'keeper' 'bucket_tooth' 'tooth_keeper']\n",
      "['track' 'pin' 'circlip' 'lid' 'track_pin' 'pin lid']\n",
      "['hose' 'reel' 'hose_reel']\n",
      "['track' 'pin' 'cover' 'circlip' 'track_pin' 'pin cover' 'cover circlip']\n",
      "['track' 'pin' 'cap' 'track_pin' 'pin cap']\n",
      "['track' 'roller' 'bolts' 'track_roller' 'bolts track']\n",
      "['boom' 'pipe' 'clamp' 'clamp boom']\n"
     ]
    },
    {
     "name": "stderr",
     "output_type": "stream",
     "text": [
      "\r",
      " 69%|██████▉   | 3783/5485 [03:23<01:31, 18.54it/s]"
     ]
    },
    {
     "name": "stdout",
     "output_type": "stream",
     "text": [
      "['pump' 'left_hand' 'fan' 'ring' 'fan_pump' 'ring left_hand']\n",
      "['bolts' 'bracket' 'bottle' 'bottle bracket' 'bolts bottle']\n",
      "['pump' 'left_hand' 'slew' 'ring' 'left_hand_slew']\n",
      "['right_hand' 'boom' 'boom right_hand']\n",
      "['battery' 'cable' 'harness' 'battery cable' 'harness battery']\n"
     ]
    },
    {
     "name": "stderr",
     "output_type": "stream",
     "text": [
      "\r",
      " 69%|██████▉   | 3786/5485 [03:24<01:31, 18.54it/s]"
     ]
    },
    {
     "name": "stdout",
     "output_type": "stream",
     "text": [
      "['housing' 'dipstick']\n",
      "['right_hand' 'cylinder' 'pin' 'cylinder_pin']\n",
      "['boom' 'hyd' 'pipe' 'hyd_pipe']\n",
      "['boom' 'clamp' 'clamp boom']\n"
     ]
    },
    {
     "name": "stderr",
     "output_type": "stream",
     "text": [
      " 69%|██████▉   | 3792/5485 [03:24<01:31, 18.55it/s]"
     ]
    },
    {
     "name": "stdout",
     "output_type": "stream",
     "text": [
      "['cylinder' 'pipe' 'clamp' 'clamp_cylinder' 'cylinder pipe']\n",
      "['hose' 'filter' 'housing' 'high_pressure_filter' 'filter_housing']\n",
      "['boom' 'pin' 'bolts' 'cover' 'boom_pin' 'pin cover']\n",
      "['bucket' 'pin' 'clamp' 'lower' 'bucket_clamp' 'clamp lower']\n"
     ]
    },
    {
     "name": "stderr",
     "output_type": "stream",
     "text": [
      "\r",
      " 69%|██████▉   | 3795/5485 [03:24<01:31, 18.55it/s]"
     ]
    },
    {
     "name": "stdout",
     "output_type": "stream",
     "text": [
      "['text' 'bolts' 'clamp' 'handrail' 'clamp_text' 'bolts handrail'\n",
      " 'handrail clamp']\n",
      "['hose' 'left_hand' 'cylinder' 'bolts' 'cylinder_hose' 'bolts left_hand']\n",
      "['clamp' 'suppression']\n",
      "['bolts' 'step' 'rail' 'rail bolts' 'step rail']\n"
     ]
    },
    {
     "name": "stderr",
     "output_type": "stream",
     "text": [
      " 69%|██████▉   | 3801/5485 [03:24<01:30, 18.55it/s]"
     ]
    },
    {
     "name": "stdout",
     "output_type": "stream",
     "text": [
      "['left_hand' 'cylinder' 'pipe' 'clamp' 'cylinder pipe' 'clamp left_hand']\n",
      "['boom' 'bolts' 'clamp' 'clamp boom']\n",
      "['boom' 'pipe' 'clamp' 'pipe_boom' 'clamp_pipe']\n",
      "['hose' 'boom' 'bolts' 'boom_hose' 'bolts boom']\n",
      "['hyd' 'bolts' 'fitting' 'hyd fitting' 'bolts hyd']\n"
     ]
    },
    {
     "name": "stderr",
     "output_type": "stream",
     "text": [
      "\r",
      " 69%|██████▉   | 3804/5485 [03:25<01:30, 18.55it/s]"
     ]
    },
    {
     "name": "stdout",
     "output_type": "stream",
     "text": [
      "['pin' 'step' 'pivot' 'pivot pin' 'step pivot']\n",
      "['boom' 'valve' 'bolts' 'control' 'control_valve' 'boom_control'\n",
      " 'bolts boom']\n",
      "['bolts' 'access' 'step' 'access_step' 'step bolts']\n",
      "['bolts' 'clamp']\n",
      "['belt' 'welding' 'guard' 'belt_guard']\n"
     ]
    },
    {
     "name": "stderr",
     "output_type": "stream",
     "text": [
      " 69%|██████▉   | 3811/5485 [03:25<01:30, 18.52it/s]"
     ]
    },
    {
     "name": "stdout",
     "output_type": "stream",
     "text": [
      "['cab' 'bolts' 'cab bolts']\n",
      "['air' 'horn' 'air_horn']\n",
      "['pin' 'step' 'pin step']\n",
      "['cab' 'bolts' 'window' 'cab_window']\n",
      "['hand' 'clamp' 'rail' 'hand_rail' 'clamp hand']\n",
      "['line' 'clamp' 'line clamp']\n",
      "['brake' 'housing' 'brake housing']\n",
      "['text' 'bolts' 'bolts_text']\n"
     ]
    },
    {
     "name": "stderr",
     "output_type": "stream",
     "text": [
      " 70%|██████▉   | 3819/5485 [03:26<01:29, 18.54it/s]"
     ]
    },
    {
     "name": "stdout",
     "output_type": "stream",
     "text": [
      "['compressor' 'new']\n",
      "['cab' 'bolts' 'cab_mount']\n",
      "['oil' 'bolts' 'head']\n",
      "['pin' 'stairs' 'pivot' 'pivot pin' 'stairs pivot']\n",
      "['slew' 'bolts' 'screen' 'slew screen']\n",
      "['step']\n",
      "['bolts']\n",
      "['roller' 'bolts' 'no' 'load roller']\n"
     ]
    },
    {
     "name": "stderr",
     "output_type": "stream",
     "text": [
      " 70%|██████▉   | 3827/5485 [03:26<01:29, 18.55it/s]"
     ]
    },
    {
     "name": "stdout",
     "output_type": "stream",
     "text": [
      "['hyd' 'bolts' 'screen' 'hyd screen']\n",
      "['pin' 'access' 'stairs' 'support' 'access_stairs' 'support pin']\n",
      "['clamp']\n",
      "['hose' 'slew' 'clamp' 'slew_hose' 'clamp slew']\n",
      "['grease' 'tank' 'grease_tank']\n"
     ]
    },
    {
     "name": "stderr",
     "output_type": "stream",
     "text": [
      "\r",
      " 70%|██████▉   | 3830/5485 [03:26<01:29, 18.55it/s]"
     ]
    },
    {
     "name": "stdout",
     "output_type": "stream",
     "text": [
      "['cooler' 'housing' 'cooler housing']\n",
      "['motor' 'pin' 'travel' 'guard' 'hinge' 'travel_motor' 'motor_guard'\n",
      " 'hinge pin' 'guard hinge']\n",
      "['pin' 'bolts' 'retainer' 'pin_retainer' 'retainer bolts']\n",
      "['boom' 'pin' 'plug' 'boom_pin' 'plug boom']\n"
     ]
    },
    {
     "name": "stderr",
     "output_type": "stream",
     "text": [
      "\r",
      " 70%|██████▉   | 3833/5485 [03:26<01:29, 18.55it/s]"
     ]
    },
    {
     "name": "stdout",
     "output_type": "stream",
     "text": [
      "['exhaust' 'bolts' 'manifold' 'exhaust_manifold' 'manifold_bolts']\n",
      "['boom' 'pin' 'foot' 'shim' 'boom_foot' 'foot pin' 'pin shim']\n",
      "['bolts']\n",
      "['bolts' 'cover']\n",
      "['exhaust' 'clamp' 'exhaust_clamp']\n"
     ]
    },
    {
     "name": "stderr",
     "output_type": "stream",
     "text": [
      " 70%|██████▉   | 3839/5485 [03:26<01:28, 18.55it/s]"
     ]
    },
    {
     "name": "stdout",
     "output_type": "stream",
     "text": [
      "['bolts']\n",
      "['cab' 'cab_mount']\n",
      "['cylinder' 'chubb']\n",
      "['pump' 'box' 'pump_box']\n",
      "['boom' 'shd' 'clamp' 'shd boom' 'clamp shd']\n"
     ]
    },
    {
     "name": "stderr",
     "output_type": "stream",
     "text": [
      " 70%|███████   | 3845/5485 [03:27<01:28, 18.55it/s]"
     ]
    },
    {
     "name": "stdout",
     "output_type": "stream",
     "text": [
      "['roller' 'bolts' 'no' 'load roller' 'roller bolts']\n",
      "['bolts' 'counterweight' 'counterweight bolts']\n",
      "['pin' 'shovel' 'spare' 'shovel spare' 'pin shovel']\n",
      "['boom' 'pin' 'foot' 'shim' 'boom_foot' 'foot pin']\n"
     ]
    },
    {
     "name": "stderr",
     "output_type": "stream",
     "text": [
      "\r",
      " 70%|███████   | 3848/5485 [03:27<01:28, 18.55it/s]"
     ]
    },
    {
     "name": "stdout",
     "output_type": "stream",
     "text": [
      "['boom' 'bolts' 'plate' 'retainer' 'retainer plate']\n",
      "['clamp']\n",
      "['pipe' 'clamp']\n",
      "['clamp']\n",
      "['bolts' 'handrail' 'handrail bolts']\n"
     ]
    },
    {
     "name": "stderr",
     "output_type": "stream",
     "text": [
      "\r",
      " 70%|███████   | 3851/5485 [03:27<01:28, 18.55it/s]"
     ]
    },
    {
     "name": "stdout",
     "output_type": "stream",
     "text": [
      "['shd' 'track' 'bolts' 'frame' 'track_frame']\n"
     ]
    },
    {
     "name": "stderr",
     "output_type": "stream",
     "text": [
      " 70%|███████   | 3858/5485 [03:28<01:27, 18.53it/s]"
     ]
    },
    {
     "name": "stdout",
     "output_type": "stream",
     "text": [
      "['bolts' 'clamp']\n",
      "['shd' 'drive' 'final' 'cover' 'final_drive' 'drive cover' 'cover shd']\n",
      "['radiator' 'cap' 'radiator_cap']\n",
      "['pin' 'shroud' 'wing' 'wing_shroud' 'shroud_pin']\n",
      "['bolts' 'console' 'bolts console']\n",
      "['bolts' 'frame' 'windscreen' 'windscreen frame' 'bolts windscreen']\n",
      "['cab' 'bolts' 'cab_mount' 'bolts cab']\n",
      "['cab' 'bolts' 'cab_mount' 'bolts cab']\n"
     ]
    },
    {
     "name": "stderr",
     "output_type": "stream",
     "text": [
      " 70%|███████   | 3866/5485 [03:28<01:27, 18.55it/s]"
     ]
    },
    {
     "name": "stdout",
     "output_type": "stream",
     "text": [
      "['housing' 'screen' 'screen housing']\n",
      "['oil' 'left_hand' 'slew' 'motor' 'slew_motor' 'left_hand_slew']\n",
      "['slew' 'bolts' 'brake' 'slew_brake' 'bolts_slew']\n",
      "['roller' 'bolts']\n",
      "['oil' 'left_hand' 'slew' 'motor' 'slew_motor' 'left_hand_slew']\n",
      "['cab' 'history' 'cab history']\n",
      "['boom' 'pin' 'boom_pin']\n",
      "['pump' 'fan' 'bolts' 'fan_pump']\n"
     ]
    },
    {
     "name": "stderr",
     "output_type": "stream",
     "text": [
      "\r",
      " 71%|███████   | 3870/5485 [03:28<01:27, 18.55it/s]"
     ]
    },
    {
     "name": "stdout",
     "output_type": "stream",
     "text": [
      "['pump' 'shd' 'fan' 'bolts' 'fan_pump' 'pump bolts']\n",
      "['track' 'roller' 'bolts' 'track_roller']\n",
      "['pump' 'pto' 'seal' 'right' 'pto_pump' 'right pto']\n",
      "['slew' 'bolts']\n",
      "['shd' 'harness']\n"
     ]
    },
    {
     "name": "stderr",
     "output_type": "stream",
     "text": [
      " 71%|███████   | 3876/5485 [03:28<01:26, 18.56it/s]"
     ]
    },
    {
     "name": "stdout",
     "output_type": "stream",
     "text": [
      "['hose' 'radiator' 'clamp' 'radiator_hose' 'hose_clamp']\n",
      "['pump' 'pto' 'ring' 'pto_pump' 'pump ring']\n",
      "['pin' 'link' 'retainer' 'upper' 'link_pin' 'upper link']\n",
      "['tank' 'fuel' 'left' 'bolts' 'fuel_tank' 'left fuel']\n",
      "['coolant' 'clamp' 'coolant clamp']\n"
     ]
    },
    {
     "name": "stderr",
     "output_type": "stream",
     "text": [
      "\r",
      " 71%|███████   | 3879/5485 [03:29<01:26, 18.56it/s]"
     ]
    },
    {
     "name": "stdout",
     "output_type": "stream",
     "text": [
      "['pin' 'shroud' 'wing' 'wing_shroud' 'shroud_pin']\n",
      "['left_hand' 'pin' 'shroud' 'wing' 'wing_shroud' 'shroud_pin'\n",
      " 'left_hand wing']\n",
      "['shd' 'pin' 'shroud' 'wing' 'wing_shroud' 'shroud_pin' 'pin shd']\n",
      "['roller' 'bolts' 'load roller']\n"
     ]
    },
    {
     "name": "stderr",
     "output_type": "stream",
     "text": [
      " 71%|███████   | 3885/5485 [03:29<01:26, 18.56it/s]"
     ]
    },
    {
     "name": "stdout",
     "output_type": "stream",
     "text": [
      "['roller' 'load roller']\n",
      "['wire' 'harness' 'wire harness']\n",
      "['clamp' 'screen' 'bcs' 'bcs_screen' 'clamp bcs']\n",
      "['right_hand' 'roller' 'right_hand roller']\n"
     ]
    },
    {
     "name": "stderr",
     "output_type": "stream",
     "text": [
      "\r",
      " 71%|███████   | 3888/5485 [03:29<01:26, 18.56it/s]"
     ]
    },
    {
     "name": "stdout",
     "output_type": "stream",
     "text": [
      "['hose' 'coolant' 'clamp' 'coolant_hose' 'clamp coolant']\n",
      "['right_hand' 'slew' 'ring' 'right_hand_slew']\n",
      "['hose' 'coolant' 'clamp' 'coolant_hose' 'hose_clamp']\n",
      "['line' 'clamp' 'steel' 'mcv' 'steel_line' 'clamp steel' 'line mcv']\n"
     ]
    },
    {
     "name": "stderr",
     "output_type": "stream",
     "text": [
      " 71%|███████   | 3894/5485 [03:29<01:25, 18.56it/s]"
     ]
    },
    {
     "name": "stdout",
     "output_type": "stream",
     "text": [
      "['cab' 'cab_mount']\n",
      "['pin' 'stairs' 'rope' 'stairs rope' 'rope pin']\n",
      "['seal' 'p4']\n",
      "['pin' 'plug']\n",
      "['welding' 'cap' 'keeper' 'welding cap' 'cap keeper']\n",
      "['cab' 'cab_mount']\n"
     ]
    },
    {
     "name": "stderr",
     "output_type": "stream",
     "text": [
      " 71%|███████   | 3901/5485 [03:30<01:25, 18.53it/s]"
     ]
    },
    {
     "name": "stdout",
     "output_type": "stream",
     "text": [
      "['pump' 'swing' 'housing' 'swing_pump' 'pump housing']\n",
      "['horn' 'bracket']\n",
      "['engine' 'harness']\n",
      "['left_hand' 'bolts' 'guard']\n",
      "['scope' 'harness' 'pms']\n",
      "['track' 'pin' 'retainer' 'track_pin']\n",
      "['motor' 'starter' 'harness' 'starter_motor']\n",
      "['pump']\n",
      "['engine' 'pipe' 'clamp' 'intake' 'pipe clamp' 'clamp engine']\n"
     ]
    },
    {
     "name": "stderr",
     "output_type": "stream",
     "text": [
      " 71%|███████▏  | 3909/5485 [03:30<01:24, 18.55it/s]"
     ]
    },
    {
     "name": "stdout",
     "output_type": "stream",
     "text": [
      "['clamp' 'new' 'battery' 'battery clamp']\n",
      "['motor' 'track' 'bolts' 'guard' 'motor_guard' 'track motor']\n",
      "['hose' 'boom' 'bolts' 'bracket' 'boom_hose' 'bolts boom' 'hose bracket']\n",
      "['lip' 'shroud' 'welding' 'plate' 'keeper' 'lip_shroud' 'shroud keeper'\n",
      " 'plate lip' 'welding plate']\n",
      "['pipe' 'cooler' 'clamp' 'cooler_pipe']\n",
      "['boom' 'clamp']\n",
      "['boom' 'left_hand' 'pipe' 'clamp' 'pipe clamp' 'boom left_hand']\n",
      "['pump' 'right_hand' 'slew' 'ring' 'right_hand_slew' 'slew_pump']\n"
     ]
    },
    {
     "name": "stderr",
     "output_type": "stream",
     "text": [
      " 71%|███████▏  | 3917/5485 [03:31<01:24, 18.56it/s]"
     ]
    },
    {
     "name": "stdout",
     "output_type": "stream",
     "text": [
      "['bolts' 'cooler']\n",
      "['clamp' 'aftercooler' 'aftercooler clamp']\n",
      "['grease' 'bracket' 'board' 'grease_board']\n",
      "['grease' 'welding' 'board' 'grease_board']\n",
      "['right_hand' 'boom' 'bolts' 'walkway' 'right_hand_boom' 'boom_walkway'\n",
      " 'bolts right_hand']\n"
     ]
    },
    {
     "name": "stderr",
     "output_type": "stream",
     "text": [
      "\r",
      " 71%|███████▏  | 3920/5485 [03:31<01:24, 18.56it/s]"
     ]
    },
    {
     "name": "stdout",
     "output_type": "stream",
     "text": [
      "['pin' 'link' 'retainer' 'pin_retainer' 'link_pin']\n",
      "['bucket' 'cylinder' 'pin' 'cap' 'retainer' 'bucket_cylinder'\n",
      " 'pin_retainer' 'cylinder_pin' 'retainer cap']\n",
      "['pin' 'link' 'plate' 'keeper' 'link_pin' 'keeper plate' 'pin keeper']\n",
      "['cab' 'bolts' 'console' 'cab console' 'console bolts']\n",
      "['pin' 'link' 'bush' 'link_pin' 'pin bush']\n"
     ]
    },
    {
     "name": "stderr",
     "output_type": "stream",
     "text": [
      " 72%|███████▏  | 3926/5485 [03:31<01:23, 18.56it/s]"
     ]
    },
    {
     "name": "stdout",
     "output_type": "stream",
     "text": [
      "['bolts' 'keeper']\n",
      "['battery' 'cable' 'harness' 'battery cable' 'harness battery']\n",
      "['engine' 'harness' 'cummins' 'cummins_engine' 'engine harness']\n",
      "['pump' 'right_hand' 'slew' 'bolts' 'right_hand_slew' 'slew_pump'\n",
      " 'bolts right_hand']\n"
     ]
    },
    {
     "name": "stderr",
     "output_type": "stream",
     "text": [
      "\r",
      " 72%|███████▏  | 3929/5485 [03:31<01:23, 18.56it/s]"
     ]
    },
    {
     "name": "stdout",
     "output_type": "stream",
     "text": [
      "['pin' 'bolts' 'cover' 'plate' 'cover_plate' 'pin cover']\n",
      "['cab' 'cab_mount']\n",
      "['right_hand' 'control' 'lever' 'control_lever' 'right_hand control']\n",
      "['grease' 'tank' 'housing' 'bracket' 'grease_tank' 'housing grease']\n"
     ]
    },
    {
     "name": "stderr",
     "output_type": "stream",
     "text": [
      "\r",
      " 72%|███████▏  | 3932/5485 [03:31<01:23, 18.56it/s]"
     ]
    },
    {
     "name": "stdout",
     "output_type": "stream",
     "text": [
      "['left_hand' 'cylinder' 'terex']\n",
      "['boom' 'left_hand' 'cylinder' 'terex' 'boom_cylinder' 'left_hand_boom'\n",
      " 'cylinder terex']\n",
      "['boom' 'cylinder' 'boom_cylinder']\n",
      "['boom' 'shd' 'boom_lift']\n"
     ]
    },
    {
     "name": "stderr",
     "output_type": "stream",
     "text": [
      " 72%|███████▏  | 3938/5485 [03:32<01:23, 18.56it/s]"
     ]
    },
    {
     "name": "stdout",
     "output_type": "stream",
     "text": [
      "['boom' 'cylinder' 'pin' 'boom_cylinder' 'pin boom']\n",
      "['line' 'boom' 'valve' 'control' 'fitting' 'control_valve' 'boom_control'\n",
      " 'line_fitting' 'valve line']\n",
      "['oil' 'right_hand' 'boom' 'valve' 'control' 'control_valve'\n",
      " 'right_hand_boom' 'boom_control']\n",
      "['oil' 'boom' 'left_hand' 'valve' 'control' 'control_valve' 'boom_control'\n",
      " 'left_hand_boom']\n"
     ]
    },
    {
     "name": "stderr",
     "output_type": "stream",
     "text": [
      "\r",
      " 72%|███████▏  | 3940/5485 [03:32<01:23, 18.57it/s]"
     ]
    },
    {
     "name": "stdout",
     "output_type": "stream",
     "text": [
      "['hose' 'right_hand' 'boom' 'right_hand hose']\n",
      "['right_hand' 'boom' 'cylinder' 'boom_cylinder' 'cylinder right_hand']\n"
     ]
    },
    {
     "name": "stderr",
     "output_type": "stream",
     "text": [
      " 72%|███████▏  | 3946/5485 [03:32<01:23, 18.54it/s]"
     ]
    },
    {
     "name": "stdout",
     "output_type": "stream",
     "text": [
      "['boom']\n",
      "['boom']\n",
      "['oil' 'boom' 'valve' 'control' 'control_valve' 'boom_control']\n",
      "['boom' 'left_hand' 'cylinder' 'boom_cylinder' 'left_hand_boom']\n",
      "['boom' 'valve' 'control' 'seal' 'cap' 'control_valve' 'boom_control'\n",
      " 'cap seal' 'valve cap']\n",
      "['oil' 'boom']\n",
      "['grease' 'boom' 'pivot' 'pivot grease' 'boom pivot']\n",
      "['oil' 'boom']\n"
     ]
    },
    {
     "name": "stderr",
     "output_type": "stream",
     "text": [
      " 72%|███████▏  | 3954/5485 [03:33<01:22, 18.56it/s]"
     ]
    },
    {
     "name": "stdout",
     "output_type": "stream",
     "text": [
      "['right_hand' 'boom' 'valve' 'plate' 'right_hand_boom' 'boom_valve']\n",
      "['oil' 'boom']\n",
      "['oil' 'boom' 'valve' 'control' 'control_valve' 'boom_control']\n",
      "['hose' 'boom' 'lower' 'lower boom']\n",
      "['oil' 'boom' 'text' 'boom text']\n",
      "['oil' 'boom']\n",
      "['oil' 'boom' 'valve' 'control' 'control_valve' 'boom_control']\n",
      "['boom' 'valve' 'seal' 'float' 'float_valve' 'boom_float' 'seal boom']\n"
     ]
    },
    {
     "name": "stderr",
     "output_type": "stream",
     "text": [
      " 72%|███████▏  | 3961/5485 [03:33<01:22, 18.57it/s]"
     ]
    },
    {
     "name": "stdout",
     "output_type": "stream",
     "text": [
      "['hose' 'boom' 'left_hand' 'rotor' 'left_hand_boom' 'return_hose'\n",
      " 'boom rotor']\n",
      "['oil' 'boom' 'pipe' 'valve' 'clamp' 'clamp_pipe' 'boom_valve']\n",
      "['oil' 'boom']\n",
      "['hose' 'cylinder' 'ring' 'cylinder_hose']\n",
      "['hose' 'boom' 'hose_boom']\n"
     ]
    },
    {
     "name": "stderr",
     "output_type": "stream",
     "text": [
      "\r",
      " 72%|███████▏  | 3964/5485 [03:33<01:21, 18.57it/s]"
     ]
    },
    {
     "name": "stdout",
     "output_type": "stream",
     "text": [
      "['hose' 'right_hand' 'boom' 'cylinder' 'seal' 'boom_cylinder'\n",
      " 'right_hand_boom' 'hose_seal']\n",
      "['boom' 'cylinder' 'valve' 'ring' 'float' 'boom_cylinder' 'float_valve'\n",
      " 'ring_boom' 'cylinder float']\n",
      "['boom' 'valve' 'float' 'float_valve' 'boom_float']\n",
      "['boom' 'valve' 'control' 'control_valve' 'boom_control']\n",
      "['boom' 'valve' 'float' 'float_valve' 'boom_float']\n"
     ]
    },
    {
     "name": "stderr",
     "output_type": "stream",
     "text": [
      " 72%|███████▏  | 3970/5485 [03:33<01:21, 18.57it/s]"
     ]
    },
    {
     "name": "stdout",
     "output_type": "stream",
     "text": [
      "['hose' 'boom' 'boom_hose']\n",
      "['oil' 'right_hand' 'boom' 'pipe' 'valve' 'clamp' 'adaptor'\n",
      " 'right_hand_boom' 'clamp_pipe' 'boom_valve' 'valve clamp' 'pipe adaptor']\n",
      "['boom' 'ring' 'ring_boom']\n",
      "['hose' 'right_hand' 'boom' 'cylinder' 'rod' 'boom_cylinder'\n",
      " 'right_hand_boom' 'cylinder_rod']\n"
     ]
    },
    {
     "name": "stderr",
     "output_type": "stream",
     "text": [
      "\r",
      " 72%|███████▏  | 3973/5485 [03:33<01:21, 18.57it/s]"
     ]
    },
    {
     "name": "stdout",
     "output_type": "stream",
     "text": [
      "['boom' 'valve' 'right' 'cap' 'boom_valve' 'valve right' 'right cap']\n",
      "['boom' 'valve' 'control' 'control_valve' 'boom_control']\n",
      "['oil' 'boom']\n",
      "['boom' 'text' 'boom text']\n",
      "['boom' 'valve' 'float' 'float_valve' 'boom_float']\n"
     ]
    },
    {
     "name": "stderr",
     "output_type": "stream",
     "text": [
      " 73%|███████▎  | 3979/5485 [03:34<01:21, 18.57it/s]"
     ]
    },
    {
     "name": "stdout",
     "output_type": "stream",
     "text": [
      "['boom' 'cylinder' 'boom_cylinder']\n",
      "['oil' 'boom' 'valve' 'control' 'control_valve' 'boom_control']\n",
      "['oil' 'boom']\n",
      "['boom' 'cylinder' 'boom_cylinder']\n"
     ]
    },
    {
     "name": "stderr",
     "output_type": "stream",
     "text": [
      "\r",
      " 73%|███████▎  | 3982/5485 [03:34<01:20, 18.57it/s]"
     ]
    },
    {
     "name": "stdout",
     "output_type": "stream",
     "text": [
      "['boom' 'cylinder' 'seal' 'boom_cylinder' 'seal boom']\n",
      "['engine']\n",
      "['hose' 'boom']\n",
      "['oil' 'boom']\n",
      "['boom' 'pipe' 'valve' 'control' 'clamp' 'control_valve' 'pipe_boom'\n",
      " 'boom_control' 'clamp_pipe']\n"
     ]
    },
    {
     "name": "stderr",
     "output_type": "stream",
     "text": [
      " 73%|███████▎  | 3989/5485 [03:35<01:20, 18.54it/s]"
     ]
    },
    {
     "name": "stdout",
     "output_type": "stream",
     "text": [
      "['line' 'boom' 'hyd' 'steel' 'steel_line' 'boom_hyd' 'hyd steel']\n",
      "['boom' 'hyd' 'pipe' 'hyd_pipe']\n",
      "['line' 'boom' 'clamp' 'clamp line' 'boom clamp']\n",
      "['oil' 'boom' 'hyd' 'hyd_oil']\n",
      "['line' 'boom' 'steel' 'steel_line' 'line_boom']\n",
      "['boom' 'tube' 'tube boom']\n",
      "['hose' 'boom' 'hyd' 'hyd_hose' 'hose_boom']\n",
      "['bucket' 'hose' 'boom' 'bucket_hose' 'boom bucket']\n"
     ]
    },
    {
     "name": "stderr",
     "output_type": "stream",
     "text": [
      " 73%|███████▎  | 3997/5485 [03:35<01:20, 18.56it/s]"
     ]
    },
    {
     "name": "stdout",
     "output_type": "stream",
     "text": [
      "['hose' 'boom' 'hyd' 'hyd_hose']\n",
      "['boom' 'pipe' 'boom_pipe']\n",
      "['boom']\n",
      "['boom' 'hyd']\n",
      "['boom' 'pipe' 'steel' 'pipe_boom' 'steel_pipe']\n",
      "['boom' 'cylinder' 'left' 'hand' 'boom_cylinder' 'hand_boom']\n",
      "['boom' 'cylinder' 'hand' 'right' 'boom_cylinder' 'hand_boom']\n",
      "['boom' 'hyd' 'pipe' 'pipe_boom' 'hyd_pipe']\n"
     ]
    },
    {
     "name": "stderr",
     "output_type": "stream",
     "text": [
      "\r",
      " 73%|███████▎  | 4001/5485 [03:35<01:19, 18.57it/s]"
     ]
    },
    {
     "name": "stdout",
     "output_type": "stream",
     "text": [
      "['boom' 'pipe' 'boom_pipe']\n",
      "['right_hand' 'boom' 'hyd' 'cylinder' 'boom_cylinder' 'right_hand_boom']\n",
      "['boom' 'left_hand' 'cylinder' 'boom_cylinder' 'left_hand_boom']\n",
      "['boom' 'welding']\n"
     ]
    },
    {
     "name": "stderr",
     "output_type": "stream",
     "text": [
      " 73%|███████▎  | 4008/5485 [03:35<01:19, 18.57it/s]"
     ]
    },
    {
     "name": "stdout",
     "output_type": "stream",
     "text": [
      "['boom' 'pipe' 'support' 'boom_pipe' 'pipe support']\n",
      "['boom' 'hyd']\n",
      "['bucket' 'boom']\n",
      "['right_hand' 'boom' 'cylinder' 'boom_cylinder' 'right_hand_boom']\n"
     ]
    },
    {
     "name": "stderr",
     "output_type": "stream",
     "text": [
      "\r",
      " 73%|███████▎  | 4011/5485 [03:35<01:19, 18.57it/s]"
     ]
    },
    {
     "name": "stdout",
     "output_type": "stream",
     "text": [
      "['boom' 'left_hand' 'walkway' 'left_hand_boom']\n",
      "['boom' 'cylinder' 'hand' 'right' 'boom_cylinder' 'hand_boom']\n",
      "['hose' 'boom' 'hyd' 'ring' 'hyd_hose' 'boom_hyd' 'ring_boom']\n",
      "['boom' 'hyd' 'pipe' 'boom_pipe']\n",
      "['boom' 'pipe' 'steel' 'pipe_boom' 'steel_pipe']\n"
     ]
    },
    {
     "name": "stderr",
     "output_type": "stream",
     "text": [
      " 73%|███████▎  | 4017/5485 [03:36<01:19, 18.57it/s]"
     ]
    },
    {
     "name": "stdout",
     "output_type": "stream",
     "text": [
      "['boom' 'cylinder' 'pipe' 'clamp' 'pipe_boom' 'clamp_cylinder'\n",
      " 'cylinder pipe']\n",
      "['button']\n",
      "['line' 'boom' 'left_hand' 'clamp' 'steel' 'steel_line' 'line_boom'\n",
      " 'clamp steel' 'left_hand clamp']\n",
      "['hose' 'boom' 'boom_hose']\n",
      "['boom']\n"
     ]
    },
    {
     "name": "stderr",
     "output_type": "stream",
     "text": [
      "\r",
      " 73%|███████▎  | 4020/5485 [03:36<01:18, 18.57it/s]"
     ]
    },
    {
     "name": "stdout",
     "output_type": "stream",
     "text": [
      "['hose' 'boom' 'hyd' 'hyd_hose' 'hose_boom']\n",
      "['oil' 'boom' 'pipe' 'boom_pipe']\n",
      "['boom' 'hyd']\n",
      "['boom' 'left' 'bung' 'foot' 'boom_foot' 'left boom']\n"
     ]
    },
    {
     "name": "stderr",
     "output_type": "stream",
     "text": [
      " 73%|███████▎  | 4026/5485 [03:36<01:18, 18.58it/s]"
     ]
    },
    {
     "name": "stdout",
     "output_type": "stream",
     "text": [
      "['boom' 'hand' 'right' 'foot' 'boom_foot' 'hand_boom']\n",
      "['line' 'boom' 'steel' 'steel_line' 'line_boom']\n",
      "['boom' 'left_hand' 'cab' 'left_hand_boom']\n",
      "['boom' 'hyd' 'pipe' 'pipe_boom' 'hyd_pipe']\n"
     ]
    },
    {
     "name": "stderr",
     "output_type": "stream",
     "text": [
      "\r",
      " 73%|███████▎  | 4029/5485 [03:36<01:18, 18.58it/s]"
     ]
    },
    {
     "name": "stdout",
     "output_type": "stream",
     "text": [
      "['boom' 'pipe' 'boom_pipe']\n",
      "['boom' 'pipe' 'boom_pipe']\n",
      "['oil' 'boom' 'pipe' 'boom_pipe']\n"
     ]
    },
    {
     "name": "stderr",
     "output_type": "stream",
     "text": [
      " 74%|███████▎  | 4036/5485 [03:37<01:18, 18.55it/s]"
     ]
    },
    {
     "name": "stdout",
     "output_type": "stream",
     "text": [
      "['oil' 'boom']\n",
      "['boom' 'pipe' 'steel' 'pipe_boom' 'steel_pipe']\n",
      "['hose' 'boom' 'hyd' 'hyd_hose' 'boom_hyd']\n",
      "['boom' 'cylinder' 'hand' 'right' 'boom_cylinder' 'hand_boom']\n",
      "['boom' 'pipe' 'bracket' 'boom bracket']\n",
      "['oil' 'boom']\n",
      "['boom']\n",
      "['oil' 'boom' 'pipe' 'boom_pipe']\n",
      "['boom' 'boom_lift']\n"
     ]
    },
    {
     "name": "stderr",
     "output_type": "stream",
     "text": [
      " 74%|███████▎  | 4044/5485 [03:37<01:17, 18.57it/s]"
     ]
    },
    {
     "name": "stdout",
     "output_type": "stream",
     "text": [
      "['boom' 'pipe' 'boom_pipe']\n",
      "['boom']\n",
      "['text']\n",
      "['boom']\n",
      "['line' 'boom' 'hyd' 'hyd_line' 'boom_hyd']\n",
      "['boom' 'pipe' 'welding' 'pipe_boom' 'welding pipe']\n",
      "['boom' 'pipe' 'boom_pipe']\n",
      "['hose' 'boom' 'hose_boom']\n"
     ]
    },
    {
     "name": "stderr",
     "output_type": "stream",
     "text": [
      " 74%|███████▍  | 4051/5485 [03:38<01:17, 18.58it/s]"
     ]
    },
    {
     "name": "stdout",
     "output_type": "stream",
     "text": [
      "['boom' 'cylinder' 'warranty' 'boom_cylinder' 'cylinder warranty']\n",
      "['boom' 'hyd' 'pipe' 'welding' 'pipe_boom' 'hyd_pipe']\n",
      "['boom' 'left_hand' 'cylinder' 'accident' 'boom_cylinder' 'left_hand_boom']\n",
      "['boom' 'hyd' 'pipe' 'steel' 'pipe_boom' 'hyd_pipe' 'steel hyd']\n",
      "['cylinder' 'wiper' 'cylinder wiper']\n"
     ]
    },
    {
     "name": "stderr",
     "output_type": "stream",
     "text": [
      "\r",
      " 74%|███████▍  | 4054/5485 [03:38<01:17, 18.58it/s]"
     ]
    },
    {
     "name": "stdout",
     "output_type": "stream",
     "text": [
      "['ram']\n",
      "['hose' 'boom' 'hose_boom']\n",
      "['boom' 'shd' 'cylinder' 'boom_cylinder']\n",
      "['relay']\n",
      "['right_hand' 'boom' 'left_hand' 'cylinder' 'light' 'outer' 'inner'\n",
      " 'boom_cylinder' 'left_hand outer' 'right_hand inner' 'inner boom'\n",
      " 'cylinder light' 'outer right_hand']\n"
     ]
    },
    {
     "name": "stderr",
     "output_type": "stream",
     "text": [
      " 74%|███████▍  | 4060/5485 [03:38<01:16, 18.58it/s]"
     ]
    },
    {
     "name": "stdout",
     "output_type": "stream",
     "text": [
      "['boom']\n",
      "['boom' 'shd' 'boom_lift']\n",
      "['boom' 'hyd' 'pipe' 'pipe_boom' 'hyd_pipe']\n",
      "['boom' 'cylinder' 'plug' 'boom_cylinder' 'plug boom']\n",
      "['boom' 'cylinder' 'scope' 'boom_cylinder']\n"
     ]
    },
    {
     "name": "stderr",
     "output_type": "stream",
     "text": [
      " 74%|███████▍  | 4066/5485 [03:38<01:16, 18.58it/s]"
     ]
    },
    {
     "name": "stdout",
     "output_type": "stream",
     "text": [
      "['right_hand' 'boom' 'cylinder' 'warranty' 'boom_cylinder'\n",
      " 'right_hand_boom']\n",
      "['oil' 'boom' 'shd' 'hyd' 'pipe' 'pipe_boom' 'hyd_pipe' 'boom shd']\n",
      "['hose' 'boom' 'hyd' 'boom_hose']\n",
      "['grease' 'boom']\n",
      "['boom' 'hyd' 'pipe' 'pipe_boom' 'hyd_pipe']\n"
     ]
    },
    {
     "name": "stderr",
     "output_type": "stream",
     "text": [
      "\r",
      " 74%|███████▍  | 4069/5485 [03:38<01:16, 18.58it/s]"
     ]
    },
    {
     "name": "stdout",
     "output_type": "stream",
     "text": [
      "['boom' 'shd']\n",
      "['hose' 'boom' 'shd' 'hose_shd' 'crowd_hose']\n",
      "['left_hand' 'ear' 'left_hand ear']\n",
      "['boom' 'shd' 'control' 'control boom']\n"
     ]
    },
    {
     "name": "stderr",
     "output_type": "stream",
     "text": [
      "\r",
      " 74%|███████▍  | 4072/5485 [03:39<01:16, 18.58it/s]"
     ]
    },
    {
     "name": "stdout",
     "output_type": "stream",
     "text": [
      "['boom']\n",
      "['boom' 'shim']\n"
     ]
    },
    {
     "name": "stderr",
     "output_type": "stream",
     "text": [
      " 74%|███████▍  | 4079/5485 [03:39<01:15, 18.56it/s]"
     ]
    },
    {
     "name": "stdout",
     "output_type": "stream",
     "text": [
      "['boom' 'sensor']\n",
      "['boom' 'left_hand' 'walkway' 'left_hand_boom' 'boom_walkway']\n",
      "['boom' 'car' 'shim' 'boom car']\n",
      "['grease' 'boom']\n",
      "['boom' 'boom_lift']\n",
      "['boom' 'left_hand' 'walkway' 'left_hand_boom' 'boom_walkway']\n",
      "['boom' 'shim' 'shim boom']\n",
      "['boom' 'shim']\n",
      "['right_hand' 'rod' 'right_hand rod']\n"
     ]
    },
    {
     "name": "stderr",
     "output_type": "stream",
     "text": [
      " 75%|███████▍  | 4087/5485 [03:40<01:15, 18.57it/s]"
     ]
    },
    {
     "name": "stdout",
     "output_type": "stream",
     "text": [
      "['hose' 'boom' 'mcv']\n",
      "['boom']\n",
      "['oil' 'boom' 'mcv' 'boom mcv']\n",
      "['boom']\n",
      "['boom']\n",
      "['right_hand' 'boom' 'cylinder' 'boom_cylinder' 'right_hand_boom']\n",
      "['boom' 'shim']\n",
      "['right_hand' 'boom' 'access' 'walkway' 'support' 'right_hand_boom'\n",
      " 'boom support' 'walkway access' 'support walkway']\n"
     ]
    },
    {
     "name": "stderr",
     "output_type": "stream",
     "text": [
      " 75%|███████▍  | 4095/5485 [03:40<01:14, 18.58it/s]"
     ]
    },
    {
     "name": "stdout",
     "output_type": "stream",
     "text": [
      "['hose' 'boom' 'hose_boom']\n",
      "['boom']\n",
      "['boom' 'walkway' 'boom_walkway']\n",
      "['hose' 'boom' 'hyd' 'hose_boom']\n",
      "['hose' 'right_hand' 'boom' 'right_hand_boom' 'boom_hose']\n"
     ]
    },
    {
     "name": "stderr",
     "output_type": "stream",
     "text": [
      "\r",
      " 75%|███████▍  | 4098/5485 [03:40<01:14, 18.58it/s]"
     ]
    },
    {
     "name": "stdout",
     "output_type": "stream",
     "text": [
      "['boom' 'servo' 'cap' 'float' 'boom_float' 'servo cap']\n",
      "['hose' 'right_hand' 'boom' 'right_hand_boom' 'boom_hose']\n",
      "['arm']\n",
      "['boom' 'valve' 'control' 'control_valve' 'boom_control']\n",
      "['boom' 'valve' 'control' 'control_valve' 'boom_control']\n"
     ]
    },
    {
     "name": "stderr",
     "output_type": "stream",
     "text": [
      " 75%|███████▍  | 4104/5485 [03:40<01:14, 18.59it/s]"
     ]
    },
    {
     "name": "stdout",
     "output_type": "stream",
     "text": [
      "['boom' 'cylinder' 'left' 'cylinder boom' 'boom left']\n",
      "['boom' 'left_hand' 'pin' 'area' 'foot' 'left_hand_boom' 'boom_foot'\n",
      " 'foot pin' 'pin area']\n",
      "['pipe' 'steel' 'steel_pipe']\n",
      "['pipe' 'steel' 'steel_pipe']\n"
     ]
    },
    {
     "name": "stderr",
     "output_type": "stream",
     "text": [
      " 75%|███████▍  | 4110/5485 [03:41<01:13, 18.59it/s]"
     ]
    },
    {
     "name": "stdout",
     "output_type": "stream",
     "text": [
      "['hose' 'boom' 'hyd' 'hyd_hose']\n",
      "['line' 'boom' 'steel' 'steel_line' 'boom steel']\n",
      "['valve' 'control' 'control_valve']\n",
      "['boom' 'shd' 'hyd' 'boom shd']\n",
      "['boom' 'limit']\n"
     ]
    },
    {
     "name": "stderr",
     "output_type": "stream",
     "text": [
      "\r",
      " 75%|███████▍  | 4113/5485 [03:41<01:13, 18.59it/s]"
     ]
    },
    {
     "name": "stdout",
     "output_type": "stream",
     "text": [
      "['line' 'boom' 'servo' 'servo line']\n",
      "['boom' 'pipe' 'boom_pipe']\n",
      "['boom' 'steel' 'tube' 'steel_tube' 'tube boom']\n",
      "['right_hand' 'boom' 'pipe' 'boom_pipe' 'pipe right_hand']\n"
     ]
    },
    {
     "name": "stderr",
     "output_type": "stream",
     "text": [
      "\r",
      " 75%|███████▌  | 4116/5485 [03:41<01:13, 18.59it/s]"
     ]
    },
    {
     "name": "stdout",
     "output_type": "stream",
     "text": [
      "['boom' 'valve' 'steel' 'tube' 'steel_tube' 'boom_valve']\n",
      "['line' 'boom' 'steel' 'steel_line' 'line_boom']\n",
      "['oil' 'boom' 'pipe' 'boom_pipe' 'pipe_boom']\n",
      "['line' 'boom' 'steel' 'steel_line']\n"
     ]
    },
    {
     "name": "stderr",
     "output_type": "stream",
     "text": [
      " 75%|███████▌  | 4123/5485 [03:42<01:13, 18.56it/s]"
     ]
    },
    {
     "name": "stdout",
     "output_type": "stream",
     "text": [
      "['boom' 'cylinder' 'boom_cylinder']\n",
      "['operation']\n",
      "['boom' 'pipe' 'pipe_boom']\n",
      "['right_hand' 'boom' 'cylinder' 'boom_cylinder' 'right_hand_boom']\n",
      "['boom' 'slew' 'slew boom']\n",
      "['oil' 'boom']\n",
      "['line' 'boom' 'hyd' 'steel' 'line_boom' 'hyd_line' 'steel hyd']\n"
     ]
    },
    {
     "name": "stderr",
     "output_type": "stream",
     "text": [
      " 75%|███████▌  | 4131/5485 [03:42<01:12, 18.58it/s]"
     ]
    },
    {
     "name": "stdout",
     "output_type": "stream",
     "text": [
      "['hose' 'boom' 'hyd' 'hyd_hose' 'hose_boom']\n",
      "['boom']\n",
      "['boom' 'walkway' 'walkway boom']\n",
      "['line' 'boom' 'steel' 'steel_line' 'line_boom']\n",
      "['boom' 'hyd' 'pipe' 'hyd_pipe' 'boom_hyd']\n",
      "['oil' 'boom']\n",
      "['boom' 'valve']\n",
      "['hyd' 'circuit']\n"
     ]
    },
    {
     "name": "stderr",
     "output_type": "stream",
     "text": [
      " 75%|███████▌  | 4139/5485 [03:42<01:12, 18.59it/s]"
     ]
    },
    {
     "name": "stdout",
     "output_type": "stream",
     "text": [
      "['hose' 'boom' 'boom_hose']\n",
      "['hyd' 'circuit']\n",
      "['boom']\n",
      "['boom']\n",
      "['ram']\n"
     ]
    },
    {
     "name": "stderr",
     "output_type": "stream",
     "text": [
      " 76%|███████▌  | 4145/5485 [03:42<01:12, 18.59it/s]"
     ]
    },
    {
     "name": "stdout",
     "output_type": "stream",
     "text": [
      "['oil' 'hose' 'right_hand' 'cylinder' 'seal' 'clamp' 'clamp_cylinder'\n",
      " 'hose_seal' 'right_hand clamp']\n",
      "['hose' 'slew' 'motor' 'seal' 'slew_motor' 'hose_seal' 'seal_slew']\n",
      "['engine' 'right_hand' 'filter' 'gasket' 'flow' 'right_hand_engine'\n",
      " 'flow filter' 'gasket right_hand']\n",
      "['ring']\n",
      "['oring']\n"
     ]
    },
    {
     "name": "stderr",
     "output_type": "stream",
     "text": [
      " 76%|███████▌  | 4151/5485 [03:43<01:11, 18.59it/s]"
     ]
    },
    {
     "name": "stdout",
     "output_type": "stream",
     "text": [
      "['bucket' 'ring' 'ram' 'ring_bucket' 'bucket_ram']\n",
      "['pump' 'right_hand' 'servo' 'seal' 'servo_pump' 'right_hand_servo'\n",
      " 'seal_right_hand']\n",
      "['seal']\n",
      "['cylinder' 'ring' 'clamp' 'clamp_cylinder' 'ring clamp']\n",
      "['drive' 'seal' 'sleeve' 'drive seal' 'seal sleeve']\n"
     ]
    },
    {
     "name": "stderr",
     "output_type": "stream",
     "text": [
      "\r",
      " 76%|███████▌  | 4154/5485 [03:43<01:11, 18.59it/s]"
     ]
    },
    {
     "name": "stdout",
     "output_type": "stream",
     "text": [
      "['seal' 'box' 'swing' 'lower' 'lower seal' 'swing lower' 'seal box']\n",
      "['engine' 'ring' 'coolant' 'tube' 'engine_coolant' 'tube ring']\n",
      "['bucket' 'cylinder' 'seal' 'gland' 'bucket_cylinder' 'cylinder_gland'\n",
      " 'gland_seal']\n",
      "['left_hand' 'valve' 'seal' 'seal left_hand']\n",
      "['motor' 'seal' 'transmission' 'motor_seal' 'transmission motor']\n"
     ]
    },
    {
     "name": "stderr",
     "output_type": "stream",
     "text": [
      " 76%|███████▌  | 4160/5485 [03:43<01:11, 18.59it/s]"
     ]
    },
    {
     "name": "stdout",
     "output_type": "stream",
     "text": [
      "['brake' 'seal' 'brake seal']\n",
      "['ring']\n",
      "['seal' 'press' 'bung' 'flow' 'seal flow']\n",
      "['hose' 'seal' 'propel hose' 'hose_seal']\n"
     ]
    },
    {
     "name": "stderr",
     "output_type": "stream",
     "text": [
      "\r",
      " 76%|███████▌  | 4163/5485 [03:43<01:11, 18.59it/s]"
     ]
    },
    {
     "name": "stdout",
     "output_type": "stream",
     "text": [
      "['ring' 'clamp' 'clamp ring']\n",
      "['left_hand' 'motor' 'text' 'seal' 'travel' 'travel_motor'\n",
      " 'left_hand_travel' 'motor_seal']\n",
      "['right_hand' 'line' 'turbo' 'drain' 'gasket' 'right_hand_turbo'\n",
      " 'turbo_drain' 'drain line' 'line gasket']\n"
     ]
    },
    {
     "name": "stderr",
     "output_type": "stream",
     "text": [
      " 76%|███████▌  | 4170/5485 [03:44<01:10, 18.57it/s]"
     ]
    },
    {
     "name": "stdout",
     "output_type": "stream",
     "text": [
      "['motor' 'ring' 'swing' 'swing motor']\n",
      "['seal']\n",
      "['cylinder' 'seal' 'gland' 'cylinder_gland' 'gland_seal']\n",
      "['hose' 'pto' 'ring' 'propel hose']\n",
      "['cylinder' 'seal' 'crowd cylinder' 'cylinder seal']\n",
      "['oil' 'engine' 'cooler' 'gasket' 'engine_oil' 'oil_cooler'\n",
      " 'cooler gasket']\n",
      "['engine' 'gasket' 'head']\n",
      "['valve' 'ring' 'control' 'control_valve' 'ring control']\n",
      "['hose' 'valve' 'ring' 'control' 'control_valve' 'valve ring']\n"
     ]
    },
    {
     "name": "stderr",
     "output_type": "stream",
     "text": [
      " 76%|███████▌  | 4178/5485 [03:44<01:10, 18.59it/s]"
     ]
    },
    {
     "name": "stdout",
     "output_type": "stream",
     "text": [
      "['slew' 'ring' 'gearbox' 'slew_gearbox']\n",
      "['bucket' 'cylinder' 'seal' 'rod' 'gland' 'cylinder_gland' 'gland_seal'\n",
      " 'rod cylinder' 'bucket rod']\n",
      "['valve' 'seal']\n",
      "['hose' 'seal' 'clamp' 'clamp_hose' 'hose_seal']\n",
      "['slew' 'valve' 'seal' 'seal_slew']\n",
      "['slew' 'valve' 'ring' 'valve ring']\n",
      "['valve' 'ring' 'body' 'valve body' 'ring valve']\n",
      "['hose' 'ring' 'lower' 'crowd_hose' 'ring lower']\n"
     ]
    },
    {
     "name": "stderr",
     "output_type": "stream",
     "text": [
      " 76%|███████▋  | 4185/5485 [03:45<01:09, 18.59it/s]"
     ]
    },
    {
     "name": "stdout",
     "output_type": "stream",
     "text": [
      "['motor' 'seal']\n",
      "['ring' 'cap']\n",
      "['oring']\n",
      "['oil' 'right_hand' 'slew' 'seal' 'box' 'right_hand_slew' 'slew_box']\n",
      "['slew' 'seal' 'seal_slew']\n"
     ]
    },
    {
     "name": "stderr",
     "output_type": "stream",
     "text": [
      "\r",
      " 76%|███████▋  | 4188/5485 [03:45<01:09, 18.60it/s]"
     ]
    },
    {
     "name": "stdout",
     "output_type": "stream",
     "text": [
      "['ring']\n",
      "['cylinder' 'clamp' 'oring' 'clamp_cylinder']\n",
      "['bucket' 'hose' 'ring' 'clamp' 'bucket_clamp' 'ring_bucket' 'clamp_hose']\n",
      "['centrifugal' 'oring']\n",
      "['exhaust' 'muffler']\n"
     ]
    },
    {
     "name": "stderr",
     "output_type": "stream",
     "text": [
      " 76%|███████▋  | 4194/5485 [03:45<01:09, 18.60it/s]"
     ]
    },
    {
     "name": "stdout",
     "output_type": "stream",
     "text": [
      "['engine' 'exhaust' 'bolts' 'manifold' 'exhaust_manifold' 'manifold_bolts']\n",
      "['hose' 'seal' 'oring' 'seal oring']\n",
      "['slew' 'motor' 'seal' 'slew_motor' 'seal_slew']\n",
      "['right_hand' 'motor' 'oring']\n"
     ]
    },
    {
     "name": "stderr",
     "output_type": "stream",
     "text": [
      "\r",
      " 77%|███████▋  | 4197/5485 [03:45<01:09, 18.60it/s]"
     ]
    },
    {
     "name": "stdout",
     "output_type": "stream",
     "text": [
      "['ring' 'suction' 'suction ring']\n",
      "['right_hand' 'pto' 'seal' 'gearbox' 'cavity' 'right_hand_pto'\n",
      " 'cavity seal' 'pto gearbox' 'gearbox cavity']\n",
      "['seal' 'rear' 'sensor' 'bcs' 'sensor rear' 'bcs sensor']\n",
      "['hyd' 'motor' 'fan' 'seal' 'rear' 'fan_motor' 'motor_seal' 'hyd fan'\n",
      " 'rear hyd']\n",
      "['oil' 'cooler' 'oring' 'oil_cooler']\n"
     ]
    },
    {
     "name": "stderr",
     "output_type": "stream",
     "text": [
      " 77%|███████▋  | 4203/5485 [03:45<01:08, 18.60it/s]"
     ]
    },
    {
     "name": "stdout",
     "output_type": "stream",
     "text": [
      "['engine' 'right_hand' 'drive' 'seal' 'right_hand_engine' 'drive seal'\n",
      " 'engine right_hand']\n",
      "['hose' 'seal' 'hose_seal']\n",
      "['right_hand' 'cylinder' 'seal' 'wiper' 'cylinder wiper' 'wiper seal']\n",
      "['oil' 'hose' 'ring' 'cooler' 'oil_cooler' 'cooler_hose' 'ring oil']\n"
     ]
    },
    {
     "name": "stderr",
     "output_type": "stream",
     "text": [
      "\r",
      " 77%|███████▋  | 4206/5485 [03:46<01:08, 18.60it/s]"
     ]
    },
    {
     "name": "stdout",
     "output_type": "stream",
     "text": [
      "['right_hand' 'pto' 'seal' 'dipstick' 'right_hand_pto' 'seal_right_hand'\n",
      " 'dipstick seal']\n",
      "['ring']\n",
      "['oil' 'ring' 'guard']\n",
      "['hyd' 'tank' 'seal' 'hyd_tank' 'seal hyd']\n"
     ]
    },
    {
     "name": "stderr",
     "output_type": "stream",
     "text": [
      " 77%|███████▋  | 4216/5485 [03:46<01:08, 18.58it/s]"
     ]
    },
    {
     "name": "stdout",
     "output_type": "stream",
     "text": [
      "['hose' 'seal' 'seal hose']\n",
      "['oil' 'engine' 'centrifugal' 'gasket' 'oil centrifugal'\n",
      " 'centrifugal gasket']\n",
      "['cylinder' 'ring']\n",
      "['pump' 'slew' 'gasket' 'slew_pump']\n",
      "['pump' 'servo' 'seal' 'servo_pump' 'seal servo']\n",
      "['slew' 'filter' 'ring' 'slew_filter' 'ring_slew']\n",
      "['ring']\n",
      "['engine' 'right_hand' 'cover' 'gasket' 'right_hand_engine' 'cover gasket'\n",
      " 'engine cover']\n",
      "['right_hand' 'motor' 'seal' 'travel' 'rear' 'travel_motor' 'motor_seal'\n",
      " 'right_hand rear' 'rear travel']\n"
     ]
    },
    {
     "name": "stderr",
     "output_type": "stream",
     "text": [
      " 77%|███████▋  | 4224/5485 [03:47<01:07, 18.60it/s]"
     ]
    },
    {
     "name": "stdout",
     "output_type": "stream",
     "text": [
      "['hose' 'right_hand' 'slew' 'motor' 'seal' 'slew_motor' 'right_hand_slew'\n",
      " 'motor_hose' 'seal_right_hand']\n",
      "['hose' 'right_hand' 'slew' 'motor' 'seal' 'slew_motor' 'right_hand_slew'\n",
      " 'motor_hose' 'seal_right_hand']\n",
      "['ring']\n",
      "['cylinder' 'oring']\n",
      "['left_hand' 'hyd' 'seal' 'manifold' 'seal hyd']\n",
      "['seal' 'rear' 'window' 'window seal' 'rear window']\n",
      "['hose' 'ring']\n",
      "['hose' 'ring' 'travel' 'travel_hose' 'ring travel']\n"
     ]
    },
    {
     "name": "stderr",
     "output_type": "stream",
     "text": [
      "\r",
      " 77%|███████▋  | 4228/5485 [03:47<01:07, 18.60it/s]"
     ]
    },
    {
     "name": "stdout",
     "output_type": "stream",
     "text": [
      "['slew' 'motor' 'ring' 'primary' 'slew_motor' 'ring_slew' 'primary ring']\n",
      "['switch' 'seal']\n",
      "['hose' 'slew' 'shd' 'oring' 'slew_hose']\n",
      "['hose' 'slew' 'ring' 'slew_hose' 'ring_slew']\n",
      "['seal']\n"
     ]
    },
    {
     "name": "stderr",
     "output_type": "stream",
     "text": [
      " 77%|███████▋  | 4234/5485 [03:47<01:07, 18.60it/s]"
     ]
    },
    {
     "name": "stdout",
     "output_type": "stream",
     "text": [
      "['ring']\n",
      "['slew' 'motor' 'ring' 'slew_motor' 'ring_slew']\n",
      "['slew' 'shd' 'motor' 'ring' 'slew_motor' 'ring_slew' 'motor shd']\n",
      "['bucket' 'hose' 'ring' 'ring_bucket' 'bucket_hose']\n",
      "['pump' 'shd' 'ring' 'main_pump' 'pump_shd']\n"
     ]
    },
    {
     "name": "stderr",
     "output_type": "stream",
     "text": [
      "\r",
      " 77%|███████▋  | 4237/5485 [03:47<01:07, 18.60it/s]"
     ]
    },
    {
     "name": "stdout",
     "output_type": "stream",
     "text": [
      "['grease' 'pump' 'seal' 'shaft' 'grease_pump' 'shaft_seal']\n",
      "['ring' 'p4' 'suction' 'suction ring' 'p4 suction']\n",
      "['grease' 'pump' 'seal' 'seal pump']\n",
      "['hyd' 'filter' 'seal' 'lid']\n",
      "['bucket' 'line' 'ring' 'bucket_crowd' 'ring_bucket']\n"
     ]
    },
    {
     "name": "stderr",
     "output_type": "stream",
     "text": [
      " 77%|███████▋  | 4243/5485 [03:48<01:06, 18.60it/s]"
     ]
    },
    {
     "name": "stdout",
     "output_type": "stream",
     "text": [
      "['right_hand' 'motor' 'seal' 'travel' 'shaft' 'travel_motor'\n",
      " 'right_hand_travel' 'shaft_seal']\n",
      "['left_hand' 'pto' 'seal' 'warranty' 'spline' 'left_hand_pto'\n",
      " 'warranty_left_hand' 'pto spline' 'spline seal']\n",
      "['oring']\n",
      "['hose' 'ring' 'propel hose']\n",
      "['motor' 'ring' 'travel' 'travel_motor']\n"
     ]
    },
    {
     "name": "stderr",
     "output_type": "stream",
     "text": [
      "\r",
      " 77%|███████▋  | 4246/5485 [03:48<01:06, 18.60it/s]"
     ]
    },
    {
     "name": "stdout",
     "output_type": "stream",
     "text": [
      "['hyd' 'oring']\n",
      "['seal' 'p4']\n",
      "['pump' 'left_hand' 'slew' 'seal' 'spline' 'cavity' 'left_hand_slew'\n",
      " 'slew_pump' 'spline_cavity' 'pump spline' 'cavity seal']\n",
      "['pump' 'left_hand' 'slew' 'seal' 'spline' 'cavity' 'left_hand_slew'\n",
      " 'slew_pump' 'spline_cavity' 'pump spline' 'cavity seal']\n"
     ]
    },
    {
     "name": "stderr",
     "output_type": "stream",
     "text": [
      " 78%|███████▊  | 4252/5485 [03:48<01:06, 18.60it/s]"
     ]
    },
    {
     "name": "stdout",
     "output_type": "stream",
     "text": [
      "['right_hand' 'brake' 'seal' 'pack' 'brake_pack' 'right_hand brake'\n",
      " 'pack seal']\n",
      "['centrifugal' 'gasket' 'spinner' 'centrifugal spinner' 'spinner gasket']\n",
      "['engine' 'left_hand' 'seal' 'scope' 'left_hand_engine' 'scope left_hand']\n",
      "['engine' 'left_hand' 'breather' 'gasket' 'left_hand_engine'\n",
      " 'engine breather' 'breather gasket']\n",
      "['boom' 'oring']\n"
     ]
    },
    {
     "name": "stderr",
     "output_type": "stream",
     "text": [
      " 78%|███████▊  | 4258/5485 [03:49<01:06, 18.55it/s]"
     ]
    },
    {
     "name": "stdout",
     "output_type": "stream",
     "text": [
      "['left_hand' 'shd' 'cylinder' 'seal' 'warranty' 'rod' 'cylinder_rod'\n",
      " 'shd left_hand' 'warranty shd' 'rod seal']\n",
      "['seal']\n",
      "['seal' 'primary']\n",
      "['hose' 'boom' 'hyd' 'ring' 'hyd_hose' 'boom_hyd' 'ring_boom']\n",
      "['slew' 'lever' 'slew lever']\n",
      "['control']\n",
      "['left_hand' 'control' 'hand' 'control left_hand']\n",
      "['control' 'lever' 'control_lever']\n"
     ]
    },
    {
     "name": "stderr",
     "output_type": "stream",
     "text": [
      " 78%|███████▊  | 4266/5485 [03:49<01:05, 18.57it/s]"
     ]
    },
    {
     "name": "stdout",
     "output_type": "stream",
     "text": [
      "['cab' 'control']\n",
      "['bucket' 'control' 'bucket control']\n",
      "['engine' 'control' 'throttle' 'throttle control' 'engine throttle']\n",
      "['control']\n",
      "['control' 'throttle' 'throttle control']\n",
      "['control' 'lever' 'throttle' 'control_lever' 'throttle control']\n",
      "['control' 'leg']\n",
      "['slew' 'control' 'slew control']\n"
     ]
    },
    {
     "name": "stderr",
     "output_type": "stream",
     "text": [
      "\r",
      " 78%|███████▊  | 4270/5485 [03:49<01:05, 18.58it/s]"
     ]
    },
    {
     "name": "stdout",
     "output_type": "stream",
     "text": [
      "['left_hand' 'control' 'lever' 'control_lever' 'left_hand control']\n",
      "['left_hand' 'control' 'lever' 'control_lever' 'left_hand control']\n",
      "['right_hand' 'control' 'lever' 'pilot' 'control_lever' 'pilot control'\n",
      " 'right_hand pilot']\n",
      "['control' 'lever' 'control_lever']\n"
     ]
    },
    {
     "name": "stderr",
     "output_type": "stream",
     "text": [
      " 78%|███████▊  | 4277/5485 [03:50<01:05, 18.58it/s]"
     ]
    },
    {
     "name": "stdout",
     "output_type": "stream",
     "text": [
      "['control' 'clamp' 'pedal' 'control pedal' 'clamp control']\n",
      "['control' 'lever' 'button' 'control_lever' 'button control']\n",
      "['switch' 'control' 'control switch']\n",
      "['control' 'pilot' 'pilot control']\n",
      "['shd' 'switch' 'servo' 'lever' 'servo_lever' 'lever_switch' 'switch_shd']\n",
      "['control']\n"
     ]
    },
    {
     "name": "stderr",
     "output_type": "stream",
     "text": [
      " 78%|███████▊  | 4283/5485 [03:50<01:04, 18.58it/s]"
     ]
    },
    {
     "name": "stdout",
     "output_type": "stream",
     "text": [
      "['shd' 'control' 'lever' 'control_lever']\n",
      "['switch' 'servo' 'lever' 'servo_lever' 'lever_switch']\n",
      "['line' 'filter' 'control' 'pilot' 'pilot control' 'line filter'\n",
      " 'control line']\n",
      "['control' 'servo' 'lever' 'control_lever' 'servo control']\n"
     ]
    },
    {
     "name": "stderr",
     "output_type": "stream",
     "text": [
      "\r",
      " 78%|███████▊  | 4286/5485 [03:50<01:04, 18.58it/s]"
     ]
    },
    {
     "name": "stdout",
     "output_type": "stream",
     "text": [
      "['control' 'pivot' 'bush' 'pivot bush']\n",
      "['switch' 'servo' 'lever' 'servo_lever']\n",
      "['hose' 'shd' 'control' '24' 'directional' 'shd_24' 'directional_control'\n",
      " 'control hose']\n",
      "['right_hand' 'control' 'button' 'right_hand control']\n",
      "['control' 'pilot' 'pilot control']\n"
     ]
    },
    {
     "name": "stderr",
     "output_type": "stream",
     "text": [
      " 78%|███████▊  | 4292/5485 [03:50<01:04, 18.58it/s]"
     ]
    },
    {
     "name": "stdout",
     "output_type": "stream",
     "text": [
      "['control' 'lever' 'control_lever']\n",
      "['air' 'control' 'air control']\n",
      "['tank']\n",
      "['tank' 'water' 'water_tank']\n"
     ]
    },
    {
     "name": "stderr",
     "output_type": "stream",
     "text": [
      "\r",
      " 78%|███████▊  | 4295/5485 [03:51<01:04, 18.58it/s]"
     ]
    },
    {
     "name": "stdout",
     "output_type": "stream",
     "text": [
      "['tank' 'water' 'water_tank']\n",
      "['tank' 'water' 'water_tank']\n",
      "['tank' 'water' 'water_tank']\n",
      "['tank' 'water' 'water_tank']\n"
     ]
    },
    {
     "name": "stderr",
     "output_type": "stream",
     "text": [
      "\r",
      " 78%|███████▊  | 4298/5485 [03:51<01:03, 18.58it/s]"
     ]
    },
    {
     "name": "stdout",
     "output_type": "stream",
     "text": [
      "['tank' 'water' 'frame' 'water_tank' 'tank frame']\n",
      "['tank' 'frame' 'tank frame']\n"
     ]
    },
    {
     "name": "stderr",
     "output_type": "stream",
     "text": [
      " 78%|███████▊  | 4304/5485 [03:51<01:03, 18.56it/s]"
     ]
    },
    {
     "name": "stdout",
     "output_type": "stream",
     "text": [
      "['tank' 'water' 'water_tank']\n",
      "['tank' 'water' 'header' 'header_tank']\n",
      "['line' 'tank' 'line tank']\n",
      "['tank' 'screen' 'screen tank']\n",
      "['tank' 'header' 'header_tank']\n",
      "['tank' 'header' 'header_tank']\n",
      "['fitting' 'drain' 'case' 'case_drain']\n",
      "['tank' 'drain' 'bung' 'drain bung' 'tank drain']\n",
      "['pipe' 'tank' 'header' 'header_tank']\n"
     ]
    },
    {
     "name": "stderr",
     "output_type": "stream",
     "text": [
      " 79%|███████▊  | 4312/5485 [03:52<01:03, 18.58it/s]"
     ]
    },
    {
     "name": "stdout",
     "output_type": "stream",
     "text": [
      "['shd' 'tank' 'water' 'header' 'point' 'header_tank' 'point shd'\n",
      " 'tank point']\n",
      "['tank' 'header' 'spare' 'header_tank' 'spare tank' 'tank spare']\n",
      "['tank' 'drain' 'bung' 'drain bung' 'tank drain']\n",
      "['tank' 'header' 'spare' 'header_tank' 'spare header']\n",
      "['tank' 'water' 'water_tank']\n",
      "['air' 'tank' 'second' 'air tank' 'second air']\n",
      "['hose' 'aftercooler' 'aftercooler hose']\n"
     ]
    },
    {
     "name": "stderr",
     "output_type": "stream",
     "text": [
      " 79%|███████▊  | 4319/5485 [03:52<01:02, 18.58it/s]"
     ]
    },
    {
     "name": "stdout",
     "output_type": "stream",
     "text": [
      "['engine' 'right_hand' 'aftercooler' 'right_hand_engine'\n",
      " 'engine aftercooler']\n",
      "['cooler']\n",
      "['engine' 'aftercooler' 'engine aftercooler']\n",
      "['engine' 'aftercooler' 'engine aftercooler']\n",
      "['turbo' 'warranty' 'aftercooler' 'turbo aftercooler']\n"
     ]
    },
    {
     "name": "stderr",
     "output_type": "stream",
     "text": [
      "\r",
      " 79%|███████▉  | 4322/5485 [03:52<01:02, 18.58it/s]"
     ]
    },
    {
     "name": "stdout",
     "output_type": "stream",
     "text": [
      "['hose' 'aftercooler']\n",
      "['engine' 'left_hand' 'pipe' 'cooler' 'left_hand_engine' 'engine_cooler'\n",
      " 'cooler_pipe']\n",
      "['engine' 'left_hand' 'pipe' 'cooler' 'left_hand_engine' 'engine_cooler'\n",
      " 'cooler_pipe']\n",
      "['engine' 'right_hand' 'pipe' 'cooler' 'bracket' 'right_hand_engine'\n",
      " 'engine_cooler' 'cooler_pipe' 'pipe bracket']\n"
     ]
    },
    {
     "name": "stderr",
     "output_type": "stream",
     "text": [
      " 79%|███████▉  | 4328/5485 [03:52<01:02, 18.58it/s]"
     ]
    },
    {
     "name": "stdout",
     "output_type": "stream",
     "text": [
      "['engine' 'left_hand' 'pipe' 'cooler' 'bracket' 'left_hand_engine'\n",
      " 'engine_cooler' 'cooler_pipe' 'pipe bracket']\n",
      "['hose' 'cooler' 'cooler_hose']\n",
      "['hose' 'aftercooler' 'aftercooler hose']\n",
      "['engine' 'left_hand' 'pipe' 'cooler' 'left_hand_engine' 'engine_cooler'\n",
      " 'cooler_pipe']\n",
      "['pipe' 'aftercooler' 'aftercooler pipe']\n"
     ]
    },
    {
     "name": "stderr",
     "output_type": "stream",
     "text": [
      "\r",
      " 79%|███████▉  | 4331/5485 [03:53<01:02, 18.58it/s]"
     ]
    },
    {
     "name": "stdout",
     "output_type": "stream",
     "text": [
      "['hose' 'aftercooler' 'aftercooler hose']\n",
      "['radiator' 'aftercooler' 'radiator aftercooler']\n",
      "['hose' 'cooler' 'cooler_hose']\n",
      "['left_hand' 'track' 'left_hand_track' 'track_adjuster']\n",
      "['track']\n"
     ]
    },
    {
     "name": "stderr",
     "output_type": "stream",
     "text": [
      " 79%|███████▉  | 4337/5485 [03:53<01:01, 18.59it/s]"
     ]
    },
    {
     "name": "stdout",
     "output_type": "stream",
     "text": [
      "['track']\n",
      "['right_hand' 'roller' 'carrier' 'carrier_roller' 'right_hand carrier']\n",
      "['track' 'track_adjuster']\n",
      "['roller' 'load roller']\n"
     ]
    },
    {
     "name": "stderr",
     "output_type": "stream",
     "text": [
      "\r",
      " 79%|███████▉  | 4340/5485 [03:53<01:01, 18.59it/s]"
     ]
    },
    {
     "name": "stdout",
     "output_type": "stream",
     "text": [
      "['engine' 'left' 'idler' 'pulley' 'left_engine' 'idler pulley'\n",
      " 'engine idler']\n",
      "['left_hand' 'roller' 'rear' 'left_hand rear']\n",
      "['track']\n",
      "['track']\n",
      "['left_hand' 'idler' 'left_hand_idler']\n"
     ]
    },
    {
     "name": "stderr",
     "output_type": "stream",
     "text": [
      " 79%|███████▉  | 4347/5485 [03:54<01:01, 18.56it/s]"
     ]
    },
    {
     "name": "stdout",
     "output_type": "stream",
     "text": [
      "['right_hand' 'track' 'roller' 'track_roller' 'right_hand_track']\n",
      "['right_hand' 'track' 'idler' 'right_hand_track' 'track_idler']\n",
      "['roller' 'undercarriage' 'capital' 'capital undercarriage'\n",
      " 'undercarriage roller']\n",
      "['right_hand' 'track' 'roller' 'cw' 'no' 'track_roller' 'right_hand_track'\n",
      " 'roller_cw']\n",
      "['track' 'roller' 'frame' 'capital' 'track_roller' 'capital track']\n",
      "['right_hand' 'track' 'roller' 'cw' 'no' 'track_roller' 'right_hand_track'\n",
      " 'roller_cw']\n",
      "['track']\n",
      "['left_hand' 'track' 'roller' 'cw' 'track_roller' 'left_hand_track'\n",
      " 'roller_cw']\n"
     ]
    },
    {
     "name": "stderr",
     "output_type": "stream",
     "text": [
      " 79%|███████▉  | 4355/5485 [03:54<01:00, 18.58it/s]"
     ]
    },
    {
     "name": "stdout",
     "output_type": "stream",
     "text": [
      "['track']\n",
      "['right_hand' 'track' 'roller' 'cw' 'no' 'track_roller' 'right_hand_track'\n",
      " 'roller_cw']\n",
      "['right_hand' 'track' 'roller' 'cw' 'track_roller' 'right_hand_track'\n",
      " 'roller_cw']\n",
      "['left_hand' 'track' 'roller' 'cw' 'track_roller' 'left_hand_track'\n",
      " 'roller_cw']\n",
      "['right_hand' 'track' 'roller' 'cw' 'no' 'track_roller' 'right_hand_track'\n",
      " 'roller_cw']\n",
      "['right_hand' 'roller' 'warranty' 'load roller' 'roller_warranty']\n",
      "['left_hand' 'track' 'roller' 'warranty' 'track_roller' 'left_hand_track'\n",
      " 'roller_warranty']\n",
      "['left_hand' 'track' 'roller' 'warranty' 'track_roller' 'left_hand_track'\n",
      " 'roller_warranty']\n"
     ]
    },
    {
     "name": "stderr",
     "output_type": "stream",
     "text": [
      "\r",
      " 79%|███████▉  | 4359/5485 [03:54<01:00, 18.58it/s]"
     ]
    },
    {
     "name": "stdout",
     "output_type": "stream",
     "text": [
      "['left_hand' 'track' 'roller' 'track_roller' 'left_hand_track']\n",
      "['track' 'cover' 'frame' 'dust' 'track_frame' 'cover track' 'dust cover']\n",
      "['track' 'plate']\n",
      "['right_hand' 'track' 'roller' 'warranty' 'track_roller'\n",
      " 'right_hand_track' 'roller_warranty']\n"
     ]
    },
    {
     "name": "stderr",
     "output_type": "stream",
     "text": [
      " 80%|███████▉  | 4366/5485 [03:54<01:00, 18.59it/s]"
     ]
    },
    {
     "name": "stdout",
     "output_type": "stream",
     "text": [
      "['right_hand' 'track' 'roller' 'warranty' 'track_roller'\n",
      " 'right_hand_track' 'roller_warranty']\n",
      "['right_hand' 'track' 'roller' 'track_roller' 'right_hand_track']\n",
      "['track' 'roller' 'track_roller']\n",
      "['right_hand' 'track' 'roller' 'track_roller' 'right_hand_track']\n"
     ]
    },
    {
     "name": "stderr",
     "output_type": "stream",
     "text": [
      "\r",
      " 80%|███████▉  | 4369/5485 [03:55<01:00, 18.59it/s]"
     ]
    },
    {
     "name": "stdout",
     "output_type": "stream",
     "text": [
      "['left_hand' 'track' 'roller' 'track_roller' 'left_hand_track']\n",
      "['track' 'assy' 'retainer' 'track assy' 'retainer track']\n",
      "['track' 'roller' 'track_roller']\n",
      "['right_hand' 'track' 'roller' 'track_roller' 'right_hand_track']\n"
     ]
    },
    {
     "name": "stderr",
     "output_type": "stream",
     "text": [
      "\r",
      " 80%|███████▉  | 4372/5485 [03:55<00:59, 18.59it/s]"
     ]
    },
    {
     "name": "stdout",
     "output_type": "stream",
     "text": [
      "['left_hand' 'track' 'roller' 'warranty' 'track_roller' 'left_hand_track'\n",
      " 'roller_warranty']\n",
      "['track' 'chain' 'circlip' 'track chain' 'circlip track']\n",
      "['left_hand' 'track' 'roller' 'track_roller' 'left_hand_track']\n",
      "['right_hand' 'roller' 'no' 'roller_right_hand']\n",
      "['right_hand' 'track' 'roller' 'cw' 'track_roller' 'right_hand_track'\n",
      " 'roller_cw']\n"
     ]
    },
    {
     "name": "stderr",
     "output_type": "stream",
     "text": [
      " 80%|███████▉  | 4378/5485 [03:55<00:59, 18.59it/s]"
     ]
    },
    {
     "name": "stdout",
     "output_type": "stream",
     "text": [
      "['left_hand' 'track' 'roller' 'track_roller' 'left_hand_track']\n",
      "['left_hand' 'track' 'roller' 'track_roller' 'left_hand_track']\n",
      "['track' 'circlip' 'track circlip']\n",
      "['right_hand' 'track' 'roller' 'track_roller' 'right_hand_track']\n"
     ]
    },
    {
     "name": "stderr",
     "output_type": "stream",
     "text": [
      "\r",
      " 80%|███████▉  | 4381/5485 [03:55<00:59, 18.59it/s]"
     ]
    },
    {
     "name": "stdout",
     "output_type": "stream",
     "text": [
      "['right_hand' 'track' 'roller' 'track_roller' 'right_hand_track']\n",
      "['track' 'roller' 'track_roller']\n",
      "['left_hand' 'track' 'roller' 'no' 'track_roller' 'left_hand_track']\n",
      "['left_hand' 'track' 'roller' 'no' 'track_roller' 'left_hand_track']\n",
      "['right_hand' 'track' 'roller' 'no' 'track_roller' 'right_hand_track']\n"
     ]
    },
    {
     "name": "stderr",
     "output_type": "stream",
     "text": [
      " 80%|███████▉  | 4387/5485 [03:55<00:59, 18.59it/s]"
     ]
    },
    {
     "name": "stdout",
     "output_type": "stream",
     "text": [
      "['track' 'left' 'hand' 'chain' 'hand_track' 'track chain']\n",
      "['left' 'roller' 'carrier' 'carrier_roller' 'left carrier']\n",
      "['track' 'left' 'hand' 'track_adjuster' 'hand_track']\n"
     ]
    },
    {
     "name": "stderr",
     "output_type": "stream",
     "text": [
      " 80%|████████  | 4394/5485 [03:56<00:58, 18.57it/s]"
     ]
    },
    {
     "name": "stdout",
     "output_type": "stream",
     "text": [
      "['track' 'hand' 'right' 'chain' 'hand_track' 'track chain']\n",
      "['roller' 'right' 'carrier' 'carrier_roller' 'right carrier']\n",
      "['track' 'hand' 'right' 'track_adjuster' 'hand_track']\n",
      "['left_hand' 'idler' 'idler left_hand']\n",
      "['right_hand' 'idler' 'idler right_hand']\n",
      "['idler' 'carrier']\n",
      "['left_hand' 'roller' 'seal' 'roller seal' 'left_hand roller']\n",
      "['right_hand' 'roller' 'seal' 'roller seal' 'right_hand roller']\n",
      "['left_hand' 'track' 'roller' 'seal' 'no' 'track_roller' 'left_hand seal'\n",
      " 'roller left_hand']\n"
     ]
    },
    {
     "name": "stderr",
     "output_type": "stream",
     "text": [
      " 80%|████████  | 4402/5485 [03:56<00:58, 18.59it/s]"
     ]
    },
    {
     "name": "stdout",
     "output_type": "stream",
     "text": [
      "['right_hand' 'track' 'roller' 'seal' 'no' 'track_roller'\n",
      " 'roller_right_hand' 'right_hand seal']\n",
      "['roller' 'load roller']\n",
      "['left_hand' 'track' 'roller' 'track_roller' 'left_hand_track']\n",
      "['right_hand' 'track' 'roller' 'track_roller' 'right_hand_track']\n",
      "['left_hand' 'track' 'left_hand_track']\n",
      "['right_hand' 'track' 'roller' 'no' 'track_roller' 'roller_right_hand']\n",
      "['right_hand' 'track' 'roller' 'track_roller' 'right_hand_track']\n",
      "['track' 'roller' 'rear' 'track_roller' 'rear track']\n"
     ]
    },
    {
     "name": "stderr",
     "output_type": "stream",
     "text": [
      " 80%|████████  | 4409/5485 [03:57<00:57, 18.59it/s]"
     ]
    },
    {
     "name": "stdout",
     "output_type": "stream",
     "text": [
      "['track' 'roller' 'rear' 'track_roller' 'rear track']\n",
      "['right_hand' 'idler' 'idler right_hand']\n",
      "['track' 'roller' 'track_roller']\n",
      "['track' 'roller' 'right' 'track_roller' 'roller right']\n",
      "['track' 'idler' 'track_idler']\n"
     ]
    },
    {
     "name": "stderr",
     "output_type": "stream",
     "text": [
      "\r",
      " 80%|████████  | 4412/5485 [03:57<00:57, 18.59it/s]"
     ]
    },
    {
     "name": "stdout",
     "output_type": "stream",
     "text": [
      "['left_hand' 'idler' 'idler left_hand']\n",
      "['idler']\n",
      "['idler' 'plate']\n",
      "['idler' 'plate']\n",
      "['right_hand' 'shd' 'track' 'idler' 'right_hand_track' 'idler shd']\n"
     ]
    },
    {
     "name": "stderr",
     "output_type": "stream",
     "text": [
      " 81%|████████  | 4418/5485 [03:57<00:57, 18.59it/s]"
     ]
    },
    {
     "name": "stdout",
     "output_type": "stream",
     "text": [
      "['track' 'idler' 'track_idler']\n",
      "['right_hand' 'shd' 'track' 'idler' 'right_hand_track' 'track_idler'\n",
      " 'idler shd']\n",
      "['track' 'idler' 'track_idler']\n",
      "['right_hand' 'left_hand' 'idler' 'right_hand_left_hand']\n",
      "['left_hand' 'track' 'idler' 'left_hand_track' 'track_idler']\n"
     ]
    },
    {
     "name": "stderr",
     "output_type": "stream",
     "text": [
      " 81%|████████  | 4424/5485 [03:57<00:57, 18.60it/s]"
     ]
    },
    {
     "name": "stdout",
     "output_type": "stream",
     "text": [
      "['right_hand' 'track' 'idler' 'right_hand_track' 'track_idler']\n",
      "['right_hand' 'idler' 'right_hand_right_hand']\n",
      "['shd' 'track' 'idler' 'idler shd']\n",
      "['shd' 'track' 'idler' 'idler shd']\n",
      "['shd' 'track' 'idler' 'track_idler']\n"
     ]
    },
    {
     "name": "stderr",
     "output_type": "stream",
     "text": [
      "\r",
      " 81%|████████  | 4427/5485 [03:58<00:56, 18.60it/s]"
     ]
    },
    {
     "name": "stdout",
     "output_type": "stream",
     "text": [
      "['left_hand' 'idler' 'left_hand_idler']\n",
      "['track' 'idler' 'spare' 'track_idler' 'spare track']\n",
      "['left_hand' 'track' 'idler' 'left_hand_track' 'track_idler']\n",
      "['right_hand' 'track' 'idler' 'right_hand_track' 'track_idler']\n",
      "['track' 'cover' 'frame' 'dust' 'track_frame' 'cover track' 'dust cover']\n"
     ]
    },
    {
     "name": "stderr",
     "output_type": "stream",
     "text": [
      "\r",
      " 81%|████████  | 4430/5485 [03:58<00:56, 18.60it/s]"
     ]
    },
    {
     "name": "stdout",
     "output_type": "stream",
     "text": [
      "['track' 'track_adjuster']\n",
      "['track']\n"
     ]
    },
    {
     "name": "stderr",
     "output_type": "stream",
     "text": [
      " 81%|████████  | 4437/5485 [03:58<00:56, 18.57it/s]"
     ]
    },
    {
     "name": "stdout",
     "output_type": "stream",
     "text": [
      "['left_hand' 'track' 'pin' 'retainer' 'left_hand_track' 'retainer pin'\n",
      " 'track retainer']\n",
      "['track' 'accident' 'track_adjuster']\n",
      "['track']\n",
      "['track']\n",
      "['new' 'leg' 'rope']\n",
      "['roller']\n",
      "['track' 'roller' 'outer' 'cap' 'shaft' 'track_roller' 'roller shaft']\n",
      "['left_hand' 'track' 'pin' 'left_hand_track' 'track_pin']\n",
      "['right_hand' 'track' 'idler' 'right_hand_track' 'track_idler']\n"
     ]
    },
    {
     "name": "stderr",
     "output_type": "stream",
     "text": [
      " 81%|████████  | 4445/5485 [03:59<00:55, 18.59it/s]"
     ]
    },
    {
     "name": "stdout",
     "output_type": "stream",
     "text": [
      "['track' 'pin' 'bolts' 'track_pin']\n",
      "['track' 'pin' 'bolts' 'retainer' 'track_pin' 'pin_retainer'\n",
      " 'retainer bolts']\n",
      "['right_hand' 'track' 'right_hand_track' 'track_adjuster']\n",
      "['track' 'left' 'hand' 'hand_track']\n",
      "['left_hand' 'track' 'pin' 'left_hand_track' 'track_pin']\n",
      "['left_hand' 'track' 'roller' 'track_roller']\n",
      "['track' 'pin' 'track_pin']\n",
      "['right_hand' 'track' 'pin' 'right_hand_track' 'track_pin']\n"
     ]
    },
    {
     "name": "stderr",
     "output_type": "stream",
     "text": [
      " 81%|████████  | 4453/5485 [03:59<00:55, 18.60it/s]"
     ]
    },
    {
     "name": "stdout",
     "output_type": "stream",
     "text": [
      "['track' 'track_adjuster']\n",
      "['access' 'rope']\n",
      "['left_hand' 'idler' 'left_hand_idler']\n",
      "['right_hand' 'idler' 'right_hand idler']\n",
      "['track' 'roller' 'rear' 'track_roller' 'rear track']\n"
     ]
    },
    {
     "name": "stderr",
     "output_type": "stream",
     "text": [
      "\r",
      " 81%|████████  | 4456/5485 [03:59<00:55, 18.60it/s]"
     ]
    },
    {
     "name": "stdout",
     "output_type": "stream",
     "text": [
      "['right_hand' 'track' 'roller' 'track_roller' 'roller_right_hand']\n",
      "['track' 'pin' 'track_pin']\n",
      "['track' 'pin' 'track_pin']\n",
      "['track' 'pin' 'track_pin']\n",
      "['track' 'roller' 'track_roller']\n"
     ]
    },
    {
     "name": "stderr",
     "output_type": "stream",
     "text": [
      " 81%|████████▏ | 4462/5485 [03:59<00:55, 18.60it/s]"
     ]
    },
    {
     "name": "stdout",
     "output_type": "stream",
     "text": [
      "['track' 'pin' 'retainer' 'track_pin' 'pin_retainer']\n",
      "['track' 'pin' 'bolts' 'track_pin' 'pin bolts']\n",
      "['track' 'pin' 'bolts' 'retainer' 'track_pin' 'pin_retainer'\n",
      " 'retainer bolts']\n",
      "['right_hand' 'left_hand' 'track' 'right_hand_track'\n",
      " 'left_hand_right_hand']\n",
      "['motor' 'left' 'rear' 'left rear']\n"
     ]
    },
    {
     "name": "stderr",
     "output_type": "stream",
     "text": [
      "\r",
      " 81%|████████▏ | 4465/5485 [04:00<00:54, 18.60it/s]"
     ]
    },
    {
     "name": "stdout",
     "output_type": "stream",
     "text": [
      "['motor' 'right']\n",
      "['motor' 'right' 'rear' 'right rear']\n",
      "['left_hand' 'track' 'left_hand_track']\n",
      "['right_hand' 'track' 'right_hand_track']\n"
     ]
    },
    {
     "name": "stderr",
     "output_type": "stream",
     "text": [
      " 82%|████████▏ | 4471/5485 [04:00<00:54, 18.60it/s]"
     ]
    },
    {
     "name": "stdout",
     "output_type": "stream",
     "text": [
      "['roller' 'carrier' 'carrier_roller']\n",
      "['right_hand' 'roller' 'load roller' 'roller_right_hand']\n",
      "['track' 'roller' 'no' 'track_roller']\n",
      "['track' 'roller' 'no' 'track_roller']\n"
     ]
    },
    {
     "name": "stderr",
     "output_type": "stream",
     "text": [
      "\r",
      " 82%|████████▏ | 4474/5485 [04:00<00:54, 18.60it/s]"
     ]
    },
    {
     "name": "stdout",
     "output_type": "stream",
     "text": [
      "['track' 'pin' 'track_pin']\n",
      "['right_hand' 'track' 'tensioner' 'right_hand_track' 'track_tensioner']\n",
      "['right_hand' 'track' 'tensioner' 'right_hand_track' 'track_tensioner']\n",
      "['shd' 'track' 'roller' 'track_roller']\n",
      "['roller' 'idler' 'frame']\n"
     ]
    },
    {
     "name": "stderr",
     "output_type": "stream",
     "text": [
      " 82%|████████▏ | 4481/5485 [04:01<00:54, 18.57it/s]"
     ]
    },
    {
     "name": "stdout",
     "output_type": "stream",
     "text": [
      "['line' 'compressor' 'line compressor']\n",
      "['hose' 'air' 'compressor' 'inlet' 'air_compressor' 'compressor inlet']\n",
      "['air' 'pipe' 'compressor' 'air_compressor' 'pipe air']\n",
      "['left_hand' 'fitting' 'compressor' 'left_hand compressor']\n",
      "['engine' 'air' 'drive' 'compressor' 'air_compressor' 'engine_air'\n",
      " 'compressor drive']\n",
      "['air' 'compressor' 'air_compressor']\n",
      "['air' 'compressor' 'air_compressor']\n",
      "['engine' 'right_hand' 'compressor' 'air_conditioning' 'right_hand_engine'\n",
      " 'air_conditioning compressor' 'compressor right_hand']\n"
     ]
    },
    {
     "name": "stderr",
     "output_type": "stream",
     "text": [
      " 82%|████████▏ | 4489/5485 [04:01<00:53, 18.59it/s]"
     ]
    },
    {
     "name": "stdout",
     "output_type": "stream",
     "text": [
      "['compressor']\n",
      "['compressor']\n",
      "['air' 'compressor' 'electrical' 'air_compressor' 'electrical air']\n",
      "['oil' 'air' 'compressor' 'air_conditioner']\n",
      "['air' 'compressor' 'air_compressor']\n",
      "['air' 'compressor' 'air_compressor']\n",
      "['track' 'plate']\n",
      "['plate' 'circlip' 'circlip plate']\n"
     ]
    },
    {
     "name": "stderr",
     "output_type": "stream",
     "text": [
      " 82%|████████▏ | 4497/5485 [04:01<00:53, 18.60it/s]"
     ]
    },
    {
     "name": "stdout",
     "output_type": "stream",
     "text": [
      "['injector']\n",
      "['fitting' 'distribution']\n",
      "['idler' 'plate']\n",
      "['idler' 'plate']\n",
      "['grease' 'distribution' 'grease distribution']\n"
     ]
    },
    {
     "name": "stderr",
     "output_type": "stream",
     "text": [
      "\r",
      " 82%|████████▏ | 4500/5485 [04:01<00:52, 18.60it/s]"
     ]
    },
    {
     "name": "stdout",
     "output_type": "stream",
     "text": [
      "['right_hand' 'shroud']\n",
      "['shroud']\n",
      "['cylinder' 'cover' 'plate' 'cover_plate' 'cylinder cover']\n",
      "['shd']\n",
      "['valve' 'logic']\n"
     ]
    },
    {
     "name": "stderr",
     "output_type": "stream",
     "text": [
      " 82%|████████▏ | 4506/5485 [04:02<00:52, 18.60it/s]"
     ]
    },
    {
     "name": "stdout",
     "output_type": "stream",
     "text": [
      "['logic' 'port' 'port logic']\n",
      "['logic']\n",
      "['p1' 'plate']\n",
      "['grease' 'injector' 'grease injector']\n",
      "['right_hand' 'shd' 'shroud' 'wing' 'wing_shroud' 'shroud right_hand'\n",
      " 'right_hand shd']\n"
     ]
    },
    {
     "name": "stderr",
     "output_type": "stream",
     "text": [
      " 82%|████████▏ | 4512/5485 [04:02<00:52, 18.60it/s]"
     ]
    },
    {
     "name": "stdout",
     "output_type": "stream",
     "text": [
      "['valve' 'logic']\n",
      "['grease']\n",
      "['lip' 'shroud' 'outer' 'lip_shroud' 'outer lip']\n",
      "['air']\n",
      "['right_hand' 'shroud' 'wing' 'wing_shroud']\n"
     ]
    },
    {
     "name": "stderr",
     "output_type": "stream",
     "text": [
      "\r",
      " 82%|████████▏ | 4515/5485 [04:02<00:52, 18.61it/s]"
     ]
    },
    {
     "name": "stdout",
     "output_type": "stream",
     "text": [
      "['right_hand' 'shroud' 'no']\n",
      "['valve']\n",
      "['shroud' 'wing' 'wing_shroud']\n",
      "['fitting']\n",
      "['shroud' 'wing' 'wing_shroud']\n"
     ]
    },
    {
     "name": "stderr",
     "output_type": "stream",
     "text": [
      " 82%|████████▏ | 4521/5485 [04:02<00:51, 18.61it/s]"
     ]
    },
    {
     "name": "stdout",
     "output_type": "stream",
     "text": [
      "['lube']\n",
      "['left_hand' 'shroud' 'wing' 'wing_shroud' 'left_hand wing']\n",
      "['lip' 'shroud' 'lip_shroud']\n"
     ]
    },
    {
     "name": "stderr",
     "output_type": "stream",
     "text": [
      " 83%|████████▎ | 4528/5485 [04:03<00:51, 18.59it/s]"
     ]
    },
    {
     "name": "stdout",
     "output_type": "stream",
     "text": [
      "['lip' 'shroud' 'lip_shroud']\n",
      "['grease' 'pipe' 'grease_pipe']\n",
      "['valve' 'pilot']\n",
      "['engine' 'right_hand' 'cover' 'plate' 'right_hand_engine'\n",
      " 'right_hand_right_hand' 'cover_plate' 'plate right_hand']\n",
      "['lip' 'shroud' 'center' 'lip_shroud' 'center lip']\n",
      "['grease' 'line' 'rock']\n",
      "['left_hand' 'lip' 'shroud' 'lip_shroud' 'left_hand_lip']\n",
      "['engine' 'suppression']\n"
     ]
    },
    {
     "name": "stderr",
     "output_type": "stream",
     "text": [
      " 83%|████████▎ | 4536/5485 [04:03<00:51, 18.60it/s]"
     ]
    },
    {
     "name": "stdout",
     "output_type": "stream",
     "text": [
      "['chubb']\n",
      "['suppression']\n",
      "['suppression' 'bottle' 'suppression bottle']\n",
      "['suppression']\n",
      "['suppression']\n",
      "['suppression']\n",
      "['shd' 'suppression' 'shd suppression']\n",
      "['suppression']\n"
     ]
    },
    {
     "name": "stderr",
     "output_type": "stream",
     "text": [
      "\r",
      " 83%|████████▎ | 4540/5485 [04:03<00:50, 18.61it/s]"
     ]
    },
    {
     "name": "stdout",
     "output_type": "stream",
     "text": [
      "['suppression']\n",
      "['cab']\n",
      "['pressure' 'suppression' 'low_pressure']\n",
      "['suppression' 'chubb']\n"
     ]
    },
    {
     "name": "stderr",
     "output_type": "stream",
     "text": [
      " 83%|████████▎ | 4546/5485 [04:04<00:50, 18.61it/s]"
     ]
    },
    {
     "name": "stdout",
     "output_type": "stream",
     "text": [
      "['suppression']\n",
      "['light' 'suppression']\n",
      "['suppression' 'press' 'press suppression']\n",
      "['pressure' 'suppression' 'low_pressure']\n"
     ]
    },
    {
     "name": "stderr",
     "output_type": "stream",
     "text": [
      "\r",
      " 83%|████████▎ | 4549/5485 [04:04<00:50, 18.61it/s]"
     ]
    },
    {
     "name": "stdout",
     "output_type": "stream",
     "text": [
      "['chubb']\n",
      "['suppression']\n",
      "['suppression']\n",
      "['suppression']\n"
     ]
    },
    {
     "name": "stderr",
     "output_type": "stream",
     "text": [
      " 83%|████████▎ | 4555/5485 [04:04<00:49, 18.61it/s]"
     ]
    },
    {
     "name": "stdout",
     "output_type": "stream",
     "text": [
      "['bracket']\n",
      "['suppression' 'bottle' 'suppression bottle']\n",
      "['suppression']\n",
      "['shd']\n"
     ]
    },
    {
     "name": "stderr",
     "output_type": "stream",
     "text": [
      " 83%|████████▎ | 4561/5485 [04:05<00:49, 18.61it/s]"
     ]
    },
    {
     "name": "stdout",
     "output_type": "stream",
     "text": [
      "['deck' 'extinguisher' 'extinguisher deck']\n",
      "['suppression']\n",
      "['suppression']\n",
      "['suppression']\n"
     ]
    },
    {
     "name": "stderr",
     "output_type": "stream",
     "text": [
      "\r",
      " 83%|████████▎ | 4564/5485 [04:05<00:49, 18.61it/s]"
     ]
    },
    {
     "name": "stdout",
     "output_type": "stream",
     "text": [
      "['cylinder' 'extinguisher' 'extinguisher cylinder']\n",
      "['suppression']\n",
      "['suppression']\n",
      "['shd' 'chubb' '08' 'shd 08']\n"
     ]
    },
    {
     "name": "stderr",
     "output_type": "stream",
     "text": [
      " 83%|████████▎ | 4571/5485 [04:05<00:49, 18.59it/s]"
     ]
    },
    {
     "name": "stdout",
     "output_type": "stream",
     "text": [
      "['pipe' 'suppression' 'chubb' 'suppression pipe']\n",
      "['deck' 'extinguisher']\n",
      "['pressure' 'suppression' 'bottle' 'suppression bottle' 'bottle pressure']\n",
      "['suppression' 'chubb' 'chubb suppression']\n",
      "['deck' 'extinguisher' 'deck extinguisher']\n",
      "['shd' '24' 'chubb' 'shd_24']\n",
      "['suppression' 'chubb']\n"
     ]
    },
    {
     "name": "stderr",
     "output_type": "stream",
     "text": [
      " 83%|████████▎ | 4579/5485 [04:06<00:48, 18.60it/s]"
     ]
    },
    {
     "name": "stdout",
     "output_type": "stream",
     "text": [
      "['chubb']\n",
      "['suppression']\n",
      "['suppression']\n",
      "['suppression']\n",
      "['suppression']\n",
      "['suppression']\n",
      "['shd' 'chubb' 'quote']\n",
      "['right_hand' 'cab' 'rear' 'glass' 'cab_glass' 'right_hand rear'\n",
      " 'rear cab']\n"
     ]
    },
    {
     "name": "stderr",
     "output_type": "stream",
     "text": [
      "\r",
      " 84%|████████▎ | 4583/5485 [04:06<00:48, 18.61it/s]"
     ]
    },
    {
     "name": "stdout",
     "output_type": "stream",
     "text": [
      "['clamp' 'pedal' 'clamp pedal']\n",
      "['door' 'cabin' 'cabin door']\n",
      "['control']\n",
      "['cabin' 'operator']\n",
      "['cab' 'door' 'latch' 'cab_door' 'door_latch']\n"
     ]
    },
    {
     "name": "stderr",
     "output_type": "stream",
     "text": [
      " 84%|████████▎ | 4590/5485 [04:06<00:48, 18.61it/s]"
     ]
    },
    {
     "name": "stdout",
     "output_type": "stream",
     "text": [
      "['door']\n",
      "['cab' 'door' 'handle' 'cab_door' 'door_handle']\n",
      "['right_hand' 'joystick' 'handle']\n",
      "['cab' 'light' 'cab_light']\n",
      "['engine' 'door' 'bay' 'handle' 'engine_bay' 'door_handle' 'bay_door']\n"
     ]
    },
    {
     "name": "stderr",
     "output_type": "stream",
     "text": [
      " 84%|████████▍ | 4596/5485 [04:06<00:47, 18.61it/s]"
     ]
    },
    {
     "name": "stdout",
     "output_type": "stream",
     "text": [
      "['cab' 'door' 'handle' 'inside' 'door_handle']\n",
      "['door' 'latch' 'door_latch']\n",
      "['air' 'horn' 'air_horn']\n",
      "['horn']\n",
      "['cab' 'door' 'cab_door']\n"
     ]
    },
    {
     "name": "stderr",
     "output_type": "stream",
     "text": [
      " 84%|████████▍ | 4602/5485 [04:07<00:47, 18.62it/s]"
     ]
    },
    {
     "name": "stdout",
     "output_type": "stream",
     "text": [
      "['door' 'latch' 'door_latch']\n",
      "['door' 'hinge']\n",
      "['text' 'door']\n",
      "['cab' 'water']\n",
      "['left_hand' 'valve' 'float' 'float_valve']\n"
     ]
    },
    {
     "name": "stderr",
     "output_type": "stream",
     "text": [
      "\r",
      " 84%|████████▍ | 4605/5485 [04:07<00:47, 18.62it/s]"
     ]
    },
    {
     "name": "stdout",
     "output_type": "stream",
     "text": [
      "['window']\n",
      "['fitting']\n",
      "['horn']\n",
      "['cab' 'door' 'glass' 'cab_door' 'door_glass']\n",
      "['air' 'horn' 'air_horn']\n"
     ]
    },
    {
     "name": "stderr",
     "output_type": "stream",
     "text": [
      "\r",
      " 84%|████████▍ | 4608/5485 [04:07<00:47, 18.62it/s]"
     ]
    },
    {
     "name": "stdout",
     "output_type": "stream",
     "text": [
      "['air' 'cabin']\n",
      "['horn']\n",
      "['window' 'operator']\n"
     ]
    },
    {
     "name": "stderr",
     "output_type": "stream",
     "text": [
      " 84%|████████▍ | 4615/5485 [04:08<00:46, 18.59it/s]"
     ]
    },
    {
     "name": "stdout",
     "output_type": "stream",
     "text": [
      "['cab' 'door' 'door cab']\n",
      "['cab' 'dust']\n",
      "['wiper' 'blade' 'wiper_blade']\n",
      "['cab' 'light' 'new' 'light_cab']\n",
      "['window']\n",
      "['dash']\n",
      "['cab' 'glass' 'cab_glass']\n",
      "['engine' 'right_hand' 'door' 'latch' 'right_hand_engine' 'engine door']\n"
     ]
    },
    {
     "name": "stderr",
     "output_type": "stream",
     "text": [
      " 84%|████████▍ | 4623/5485 [04:08<00:46, 18.61it/s]"
     ]
    },
    {
     "name": "stdout",
     "output_type": "stream",
     "text": [
      "['cab' 'door' 'handle' 'door_handle']\n",
      "['door' 'latch' 'door_latch']\n",
      "['right_hand' 'cab' 'glass' 'cab_glass']\n",
      "['door' 'cabin' 'cabin door']\n",
      "['cab' 'door' 'cab_door']\n",
      "['cab' 'light' 'cabinet' 'x1' 'light_cab' 'x1 cabinet' 'cab x1']\n",
      "['door' 'hinge']\n",
      "['window']\n"
     ]
    },
    {
     "name": "stderr",
     "output_type": "stream",
     "text": [
      " 84%|████████▍ | 4631/5485 [04:08<00:45, 18.62it/s]"
     ]
    },
    {
     "name": "stdout",
     "output_type": "stream",
     "text": [
      "['cab']\n",
      "['cabin']\n",
      "['cabin']\n",
      "['cab' 'door' 'latch' 'cab_door' 'door_latch']\n",
      "['wiper']\n"
     ]
    },
    {
     "name": "stderr",
     "output_type": "stream",
     "text": [
      "\r",
      " 84%|████████▍ | 4634/5485 [04:08<00:45, 18.62it/s]"
     ]
    },
    {
     "name": "stdout",
     "output_type": "stream",
     "text": [
      "['new' 'shovel' 'mirror']\n",
      "['pipe']\n",
      "['hose' 'air' 'cab' 'air hose']\n",
      "['cable']\n",
      "['air' 'horn' 'new' 'lower' 'air_horn' 'lower air']\n"
     ]
    },
    {
     "name": "stderr",
     "output_type": "stream",
     "text": [
      " 85%|████████▍ | 4640/5485 [04:09<00:45, 18.62it/s]"
     ]
    },
    {
     "name": "stdout",
     "output_type": "stream",
     "text": [
      "['engine' 'dipstick']\n",
      "['door' 'dipper' 'dipper door']\n",
      "['cable' 'operator']\n"
     ]
    },
    {
     "name": "stderr",
     "output_type": "stream",
     "text": [
      "\r",
      " 85%|████████▍ | 4643/5485 [04:09<00:45, 18.62it/s]"
     ]
    },
    {
     "name": "stdout",
     "output_type": "stream",
     "text": [
      "['engine' 'door' 'bay' 'latch' 'engine_bay' 'door_latch' 'bay_door']\n",
      "['assy']\n",
      "['motor' 'relay' 'vacuum' 'vacuum motor']\n",
      "['vacuum']\n",
      "['horn']\n"
     ]
    },
    {
     "name": "stderr",
     "output_type": "stream",
     "text": [
      " 85%|████████▍ | 4649/5485 [04:09<00:44, 18.62it/s]"
     ]
    },
    {
     "name": "stdout",
     "output_type": "stream",
     "text": [
      "['engine' 'dipstick' 'engine_dipstick']\n",
      "['cable']\n",
      "['wiper']\n"
     ]
    },
    {
     "name": "stderr",
     "output_type": "stream",
     "text": [
      "\r",
      " 85%|████████▍ | 4652/5485 [04:09<00:44, 18.62it/s]"
     ]
    },
    {
     "name": "stdout",
     "output_type": "stream",
     "text": [
      "['base']\n",
      "['engine' 'tube' 'dipstick' 'engine_dipstick']\n",
      "['joystick']\n",
      "['cab' 'window' 'sunblind' 'cab_window' 'sunblind cab']\n",
      "['assy']\n"
     ]
    },
    {
     "name": "stderr",
     "output_type": "stream",
     "text": [
      " 85%|████████▌ | 4663/5485 [04:10<00:44, 18.60it/s]"
     ]
    },
    {
     "name": "stdout",
     "output_type": "stream",
     "text": [
      "['steel' 'tube' 'steel_tube']\n",
      "['pipe' 'steel' 'steel_pipe']\n",
      "['cab']\n",
      "['panel' 'instrument']\n",
      "['left_hand' 'window' 'sunblind' 'left_hand window' 'sunblind left_hand']\n",
      "['left_hand' 'joystick' 'left_hand_joystick']\n",
      "['wiper']\n",
      "['cab' 'seal' 'door' 'cab_door' 'door seal']\n"
     ]
    },
    {
     "name": "stderr",
     "output_type": "stream",
     "text": [
      " 85%|████████▌ | 4671/5485 [04:10<00:43, 18.62it/s]"
     ]
    },
    {
     "name": "stdout",
     "output_type": "stream",
     "text": [
      "['hose' 'air' 'cab' 'cab air' 'air hose']\n",
      "['engine' 'right_hand' 'door' 'bay' 'handle' 'right_hand_engine'\n",
      " 'engine_bay' 'door_handle' 'bay_door']\n",
      "['wiper' 'assy' 'arm' 'arm assy' 'wiper arm']\n",
      "['lower' 'slide']\n",
      "['cab' 'vacuum']\n",
      "['left_hand' 'joystick' 'left_hand_joystick']\n",
      "['cab' 'glass']\n",
      "['left_hand' 'joystick' 'left_hand_joystick']\n"
     ]
    },
    {
     "name": "stderr",
     "output_type": "stream",
     "text": [
      "\r",
      " 85%|████████▌ | 4675/5485 [04:11<00:43, 18.62it/s]"
     ]
    },
    {
     "name": "stdout",
     "output_type": "stream",
     "text": [
      "['cab' 'door' 'hinge' 'cab_door' 'door hinge']\n",
      "['window' 'latch' 'window_latch']\n",
      "['cab' 'door' 'glass' 'cab_door' 'door_glass']\n",
      "['joystick' 'button' 'button joystick']\n",
      "['joystick']\n"
     ]
    },
    {
     "name": "stderr",
     "output_type": "stream",
     "text": [
      "\r",
      " 85%|████████▌ | 4678/5485 [04:11<00:43, 18.62it/s]"
     ]
    },
    {
     "name": "stdout",
     "output_type": "stream",
     "text": [
      "['assy']\n",
      "['window' 'latch' 'window_latch']\n",
      "['engine' 'left_hand' 'door' 'window' 'left_hand_engine' 'window door'\n",
      " 'engine window']\n",
      "['assy' 'arm' 'arm assy']\n"
     ]
    },
    {
     "name": "stderr",
     "output_type": "stream",
     "text": [
      " 85%|████████▌ | 4684/5485 [04:11<00:43, 18.62it/s]"
     ]
    },
    {
     "name": "stdout",
     "output_type": "stream",
     "text": [
      "['engine' 'door' 'bay' 'handle' 'inside' 'engine_bay' 'door_handle']\n",
      "['wiper']\n",
      "['window']\n",
      "['window' 'latch' 'window_latch']\n"
     ]
    },
    {
     "name": "stderr",
     "output_type": "stream",
     "text": [
      "\r",
      " 85%|████████▌ | 4687/5485 [04:11<00:42, 18.62it/s]"
     ]
    },
    {
     "name": "stdout",
     "output_type": "stream",
     "text": [
      "['wiper' 'blade' 'wiper_blade']\n",
      "['door' 'handle' 'door_handle']\n",
      "['joystick']\n",
      "['new' 'wiper' 'windscreen' 'windscreen_wiper']\n"
     ]
    },
    {
     "name": "stderr",
     "output_type": "stream",
     "text": [
      " 86%|████████▌ | 4693/5485 [04:11<00:42, 18.62it/s]"
     ]
    },
    {
     "name": "stdout",
     "output_type": "stream",
     "text": [
      "['cab' 'light' 'step' 'cab_light' 'step light' 'light step']\n",
      "['air' 'horn' 'air_horn']\n",
      "['dash']\n",
      "['cab']\n",
      "['shd' 'vacuum']\n"
     ]
    },
    {
     "name": "stderr",
     "output_type": "stream",
     "text": [
      "\r",
      " 86%|████████▌ | 4696/5485 [04:12<00:42, 18.62it/s]"
     ]
    },
    {
     "name": "stdout",
     "output_type": "stream",
     "text": [
      "['air' 'text']\n",
      "['cab' 'door' 'operator' 'cab_door' 'operator cab']\n",
      "['text' 'belt']\n",
      "['cabinet']\n"
     ]
    },
    {
     "name": "stderr",
     "output_type": "stream",
     "text": [
      "\r",
      " 86%|████████▌ | 4699/5485 [04:12<00:42, 18.62it/s]"
     ]
    },
    {
     "name": "stdout",
     "output_type": "stream",
     "text": [
      "['air' 'horn' 'air_horn']\n"
     ]
    },
    {
     "name": "stderr",
     "output_type": "stream",
     "text": [
      " 86%|████████▌ | 4705/5485 [04:12<00:41, 18.60it/s]"
     ]
    },
    {
     "name": "stdout",
     "output_type": "stream",
     "text": [
      "['air' 'horn' 'air_horn']\n",
      "['right_hand' 'control' 'joystick' 'right_hand joystick']\n",
      "['air' 'horn' 'air_horn']\n",
      "['joystick']\n",
      "['shd' 'left' 'hand' 'joystick' '24' 'shd_24' 'joystick shd']\n",
      "['pump' 'left_hand' 'door' 'bay' 'latch' 'door_latch' 'bay_door'\n",
      " 'left_hand_pump' 'latch left_hand' 'pump bay']\n",
      "['cab' 'module' 'cab module']\n",
      "['right_hand' 'console' 'console right_hand']\n"
     ]
    },
    {
     "name": "stderr",
     "output_type": "stream",
     "text": [
      " 86%|████████▌ | 4713/5485 [04:13<00:41, 18.62it/s]"
     ]
    },
    {
     "name": "stdout",
     "output_type": "stream",
     "text": [
      "['horn' 'shovel']\n",
      "['cable' 'counterweight' 'cable counterweight']\n",
      "['door']\n",
      "['solenoid' 'safety' 'plug' 'cabinet' 'solenoid cabinet' 'safety solenoid'\n",
      " 'plug safety']\n",
      "['wiper' 'blade' 'wiper_blade']\n",
      "['door' 'handle' 'door_handle']\n",
      "['engine' 'door' 'bay' 'handle' 'engine_bay' 'bay_door']\n",
      "['engine' 'left_hand' 'door' 'bay' 'inner' 'handle' 'engine_bay'\n",
      " 'door_handle' 'bay_door' 'inner engine' 'left_hand inner']\n"
     ]
    },
    {
     "name": "stderr",
     "output_type": "stream",
     "text": [
      "\r",
      " 86%|████████▌ | 4717/5485 [04:13<00:41, 18.62it/s]"
     ]
    },
    {
     "name": "stdout",
     "output_type": "stream",
     "text": [
      "['cab' 'assy' 'mirror' 'cab mirror']\n",
      "['left_hand' 'window' 'latch' 'window_latch' 'latch left_hand']\n",
      "['window' 'latch' 'window_latch']\n",
      "['head' 'operator']\n"
     ]
    },
    {
     "name": "stderr",
     "output_type": "stream",
     "text": [
      " 86%|████████▌ | 4724/5485 [04:13<00:40, 18.62it/s]"
     ]
    },
    {
     "name": "stdout",
     "output_type": "stream",
     "text": [
      "['window' 'latch' 'window_latch']\n",
      "['slide']\n",
      "['cable' 'leg' 'leg cable']\n",
      "['module']\n"
     ]
    },
    {
     "name": "stderr",
     "output_type": "stream",
     "text": [
      " 86%|████████▌ | 4730/5485 [04:13<00:40, 18.63it/s]"
     ]
    },
    {
     "name": "stdout",
     "output_type": "stream",
     "text": [
      "['wiper' 'windscreen' 'windscreen_wiper']\n",
      "['right_hand' 'cab' 'operator' 'operator cab']\n",
      "['shd' 'light' 'dash' 'dash light']\n",
      "['vacuum']\n",
      "['wiper' 'windscreen' 'windscreen_wiper']\n"
     ]
    },
    {
     "name": "stderr",
     "output_type": "stream",
     "text": [
      " 86%|████████▋ | 4736/5485 [04:14<00:40, 18.63it/s]"
     ]
    },
    {
     "name": "stdout",
     "output_type": "stream",
     "text": [
      "['horn']\n",
      "['joystick']\n",
      "['horn']\n",
      "['cab' 'seal' 'window' 'cab_window' 'window seal']\n"
     ]
    },
    {
     "name": "stderr",
     "output_type": "stream",
     "text": [
      "\r",
      " 86%|████████▋ | 4739/5485 [04:14<00:40, 18.63it/s]"
     ]
    },
    {
     "name": "stdout",
     "output_type": "stream",
     "text": [
      "['left_hand' 'joystick' 'left_hand_joystick']\n",
      "['engine' 'door' 'bay' 'handle' 'engine_bay' 'door_handle' 'bay_door']\n",
      "['shd' 'joystick' 'joystick shd']\n",
      "['sections']\n",
      "['drive' 'coupling' 'drive_coupling']\n"
     ]
    },
    {
     "name": "stderr",
     "output_type": "stream",
     "text": [
      "\r",
      " 86%|████████▋ | 4742/5485 [04:14<00:39, 18.63it/s]"
     ]
    },
    {
     "name": "stdout",
     "output_type": "stream",
     "text": [
      "['drive' 'coupling' 'drive_coupling']\n",
      "['shd' 'belt' 'latch' 'belt latch']\n",
      "['belt']\n"
     ]
    },
    {
     "name": "stderr",
     "output_type": "stream",
     "text": [
      " 87%|████████▋ | 4749/5485 [04:15<00:39, 18.60it/s]"
     ]
    },
    {
     "name": "stdout",
     "output_type": "stream",
     "text": [
      "['cab' 'light' 'bulb' 'light bulb']\n",
      "['cab' 'door' 'cab_door']\n",
      "['joystick']\n",
      "['control' 'horn']\n",
      "['shd' 'joystick']\n",
      "['door' 'latch' 'door_latch']\n",
      "['joystick']\n",
      "['shd' 'wiper']\n"
     ]
    },
    {
     "name": "stderr",
     "output_type": "stream",
     "text": [
      " 87%|████████▋ | 4757/5485 [04:15<00:39, 18.62it/s]"
     ]
    },
    {
     "name": "stdout",
     "output_type": "stream",
     "text": [
      "['wiper' 'blade' 'wiper_blade']\n",
      "['drive' 'coupling' 'drive_coupling']\n",
      "['cab' 'glass' 'cab_glass']\n",
      "['engine' 'right_hand' 'door' 'bay' 'handle' 'engine_bay' 'door_handle'\n",
      " 'right_hand door' 'door engine']\n",
      "['window' 'latch' 'window_latch']\n",
      "['cab' 'seal' 'door' 'cab_door' 'door seal']\n",
      "['shd' 'cab' 'window' 'window cab']\n"
     ]
    },
    {
     "name": "stderr",
     "output_type": "stream",
     "text": [
      "\r",
      " 87%|████████▋ | 4761/5485 [04:15<00:38, 18.63it/s]"
     ]
    },
    {
     "name": "stdout",
     "output_type": "stream",
     "text": [
      "['lever' 'base']\n",
      "['slide']\n",
      "['window']\n",
      "['belt' 'operator']\n",
      "['window' 'latch' 'window_latch']\n"
     ]
    },
    {
     "name": "stderr",
     "output_type": "stream",
     "text": [
      " 87%|████████▋ | 4768/5485 [04:15<00:38, 18.63it/s]"
     ]
    },
    {
     "name": "stdout",
     "output_type": "stream",
     "text": [
      "['horn']\n",
      "['right_hand' 'left_hand' 'cover' 'joystick' 'right_hand_left_hand'\n",
      " 'left_hand_joystick' 'joystick cover']\n",
      "['vacuum']\n",
      "['horn' 'joystick' 'button' 'button joystick' 'horn button']\n",
      "['left_hand' 'window' 'latch' 'window_latch' 'left_hand window']\n"
     ]
    },
    {
     "name": "stderr",
     "output_type": "stream",
     "text": [
      " 87%|████████▋ | 4774/5485 [04:16<00:38, 18.63it/s]"
     ]
    },
    {
     "name": "stdout",
     "output_type": "stream",
     "text": [
      "['window' 'latch' 'slide' 'window slide']\n",
      "['cabinet' 'x15' 'hinge' 'cabinet hinge']\n",
      "['door']\n",
      "['new']\n",
      "['shd' 'cab' 'window' 'cab_window' 'window shd']\n"
     ]
    },
    {
     "name": "stderr",
     "output_type": "stream",
     "text": [
      "\r",
      " 87%|████████▋ | 4777/5485 [04:16<00:38, 18.63it/s]"
     ]
    },
    {
     "name": "stdout",
     "output_type": "stream",
     "text": [
      "['shd' 'operator']\n",
      "['arm']\n",
      "['operation']\n",
      "['hand' 'foot' 'pedal']\n",
      "['cab' 'steel']\n"
     ]
    },
    {
     "name": "stderr",
     "output_type": "stream",
     "text": [
      " 87%|████████▋ | 4783/5485 [04:16<00:37, 18.63it/s]"
     ]
    },
    {
     "name": "stdout",
     "output_type": "stream",
     "text": [
      "['right_hand' 'joystick' 'button' 'right_hand joystick']\n",
      "['horn' 'button' 'horn button']\n",
      "['control' 'joystick' 'button' 'control button']\n",
      "['left_hand' 'joystick' 'left_hand_joystick']\n",
      "['left_hand' 'joystick' 'left_hand_joystick']\n"
     ]
    },
    {
     "name": "stderr",
     "output_type": "stream",
     "text": [
      " 87%|████████▋ | 4789/5485 [04:17<00:37, 18.63it/s]"
     ]
    },
    {
     "name": "stdout",
     "output_type": "stream",
     "text": [
      "['cab' 'window' 'cab_window']\n",
      "['glass']\n",
      "['cab' 'walkway' 'walkway cab']\n",
      "['horn']\n"
     ]
    },
    {
     "name": "stderr",
     "output_type": "stream",
     "text": [
      " 87%|████████▋ | 4796/5485 [04:17<00:37, 18.61it/s]"
     ]
    },
    {
     "name": "stdout",
     "output_type": "stream",
     "text": [
      "['horn']\n",
      "['horn']\n",
      "['horn' 'wire' 'wire horn']\n",
      "['right_hand' 'cab' 'right_hand cab']\n",
      "['shd' 'horn']\n",
      "['horn' 'circuit']\n",
      "['horn' 'wire' 'second' 'wire second' 'second horn']\n",
      "['window' 'latch' 'window_latch']\n"
     ]
    },
    {
     "name": "stderr",
     "output_type": "stream",
     "text": [
      " 88%|████████▊ | 4804/5485 [04:17<00:36, 18.63it/s]"
     ]
    },
    {
     "name": "stdout",
     "output_type": "stream",
     "text": [
      "['scope' 'glass']\n",
      "['window' 'glass']\n",
      "['cab']\n",
      "['mirror']\n",
      "['wiper' 'windscreen' 'windscreen_wiper']\n",
      "['right_hand' 'machine' 'mirror' 'right_hand machine']\n",
      "['motor' 'fan' 'joystick' 'fan_motor']\n",
      "['vacuum']\n"
     ]
    },
    {
     "name": "stderr",
     "output_type": "stream",
     "text": [
      "\r",
      " 88%|████████▊ | 4808/5485 [04:18<00:36, 18.63it/s]"
     ]
    },
    {
     "name": "stdout",
     "output_type": "stream",
     "text": [
      "['air' 'horn' 'air_horn']\n",
      "['cab' 'cover' 'roof' 'roof cover' 'cab roof']\n",
      "['horn' 'relay']\n",
      "['cab' 'window' 'sunblind' 'cab_window' 'sunblind cab']\n"
     ]
    },
    {
     "name": "stderr",
     "output_type": "stream",
     "text": [
      "\r",
      " 88%|████████▊ | 4811/5485 [04:18<00:36, 18.63it/s]"
     ]
    },
    {
     "name": "stdout",
     "output_type": "stream",
     "text": [
      "['joystick']\n",
      "['left_hand' 'window' 'sunblind' 'left_hand window' 'sunblind left_hand']\n",
      "['joystick']\n",
      "['assy']\n"
     ]
    },
    {
     "name": "stderr",
     "output_type": "stream",
     "text": [
      " 88%|████████▊ | 4817/5485 [04:18<00:35, 18.63it/s]"
     ]
    },
    {
     "name": "stdout",
     "output_type": "stream",
     "text": [
      "['wiper']\n",
      "['door' 'glass' 'door_glass']\n",
      "['horn']\n",
      "['horn']\n"
     ]
    },
    {
     "name": "stderr",
     "output_type": "stream",
     "text": [
      "\r",
      " 88%|████████▊ | 4820/5485 [04:18<00:35, 18.63it/s]"
     ]
    },
    {
     "name": "stdout",
     "output_type": "stream",
     "text": [
      "['joystick' 'lever']\n",
      "['right_hand' 'joystick' 'right_hand joystick']\n",
      "['slide']\n",
      "['vacuum']\n",
      "['air' 'horn' 'air_horn']\n"
     ]
    },
    {
     "name": "stderr",
     "output_type": "stream",
     "text": [
      " 88%|████████▊ | 4826/5485 [04:19<00:35, 18.63it/s]"
     ]
    },
    {
     "name": "stdout",
     "output_type": "stream",
     "text": [
      "['cabin']\n",
      "['door' 'glass' 'door_glass']\n",
      "['window' 'latch' 'window_latch']\n",
      "['air' 'horn' 'air_horn']\n",
      "['air' 'horn' 'air_horn']\n"
     ]
    },
    {
     "name": "stderr",
     "output_type": "stream",
     "text": [
      " 88%|████████▊ | 4832/5485 [04:19<00:35, 18.63it/s]"
     ]
    },
    {
     "name": "stdout",
     "output_type": "stream",
     "text": [
      "['pressure']\n",
      "['horn']\n",
      "['assy']\n",
      "['air' 'horn' 'air_horn']\n"
     ]
    },
    {
     "name": "stderr",
     "output_type": "stream",
     "text": [
      " 88%|████████▊ | 4840/5485 [04:20<00:34, 18.62it/s]"
     ]
    },
    {
     "name": "stdout",
     "output_type": "stream",
     "text": [
      "['wiper' 'blade' 'wiper_blade']\n",
      "['assy']\n",
      "['cab' 'supply' 'vacuum' 'vacuum cab']\n",
      "['horn']\n",
      "['hour']\n",
      "['air' 'horn' 'air_horn']\n",
      "['shd' 'assy' 'assy shd']\n",
      "['air' 'horn' 'ramp' 'air_horn']\n"
     ]
    },
    {
     "name": "stderr",
     "output_type": "stream",
     "text": [
      " 88%|████████▊ | 4849/5485 [04:20<00:34, 18.63it/s]"
     ]
    },
    {
     "name": "stdout",
     "output_type": "stream",
     "text": [
      "['vacuum']\n",
      "['cover' 'joystick' 'joystick cover']\n",
      "['cab' 'light' 'outside' 'cab_light']\n",
      "['horn']\n",
      "['window']\n",
      "['right_hand' 'console' 'right_hand console']\n",
      "['cab' 'light' 'cab_light']\n",
      "['seal' 'door' 'door seal']\n"
     ]
    },
    {
     "name": "stderr",
     "output_type": "stream",
     "text": [
      "\r",
      " 88%|████████▊ | 4853/5485 [04:20<00:33, 18.63it/s]"
     ]
    },
    {
     "name": "stdout",
     "output_type": "stream",
     "text": [
      "['vacuum']\n",
      "['panel']\n"
     ]
    },
    {
     "name": "stderr",
     "output_type": "stream",
     "text": [
      "\r",
      " 89%|████████▊ | 4856/5485 [04:20<00:33, 18.63it/s]"
     ]
    },
    {
     "name": "stdout",
     "output_type": "stream",
     "text": [
      "['camera']\n",
      "['machine']\n",
      "['point']\n",
      "['access' 'platform' 'access platform']\n"
     ]
    },
    {
     "name": "stderr",
     "output_type": "stream",
     "text": [
      "\r",
      " 89%|████████▊ | 4859/5485 [04:20<00:33, 18.63it/s]"
     ]
    },
    {
     "name": "stdout",
     "output_type": "stream",
     "text": [
      "['dipstick']\n",
      "['air']\n",
      "['text']\n"
     ]
    },
    {
     "name": "stderr",
     "output_type": "stream",
     "text": [
      " 89%|████████▊ | 4865/5485 [04:21<00:33, 18.64it/s]"
     ]
    },
    {
     "name": "stdout",
     "output_type": "stream",
     "text": [
      "['step']\n",
      "['shovel' 'camera']\n",
      "['shovel' 'camera' 'camera shovel']\n",
      "['camera']\n",
      "['camera' 'system']\n"
     ]
    },
    {
     "name": "stderr",
     "output_type": "stream",
     "text": [
      " 89%|████████▉ | 4871/5485 [04:21<00:32, 18.64it/s]"
     ]
    },
    {
     "name": "stdout",
     "output_type": "stream",
     "text": [
      "['camera']\n",
      "['oil' 'dipstick' 'reserve' 'oil_reserve' 'reserve dipstick']\n",
      "['filter' 'servo' 'servo_filter']\n",
      "['track' 'plate' 'frame' 'safety' 'track_frame' 'safety plate']\n"
     ]
    },
    {
     "name": "stderr",
     "output_type": "stream",
     "text": [
      "\r",
      " 89%|████████▉ | 4874/5485 [04:21<00:32, 18.64it/s]"
     ]
    },
    {
     "name": "stdout",
     "output_type": "stream",
     "text": [
      "['safety' 'chain' 'safety chain']\n",
      "['rear' 'camera' 'rear camera']\n",
      "['travel']\n",
      "['tank' 'fuel' 'fuel_tank']\n",
      "['camera']\n"
     ]
    },
    {
     "name": "stderr",
     "output_type": "stream",
     "text": [
      " 89%|████████▉ | 4885/5485 [04:22<00:32, 18.62it/s]"
     ]
    },
    {
     "name": "stdout",
     "output_type": "stream",
     "text": [
      "['camera']\n",
      "['pump' 'right_hand' 'pressure' 'gearbox' 'pump pressure' 'gearbox pump'\n",
      " 'right_hand gearbox']\n",
      "['pto' 'dipstick' 'dipstick pto']\n",
      "['camera']\n",
      "['servo']\n",
      "['camera']\n",
      "['camera']\n",
      "['right_hand' 'camera' 'right_hand camera']\n"
     ]
    },
    {
     "name": "stderr",
     "output_type": "stream",
     "text": [
      "\r",
      " 89%|████████▉ | 4890/5485 [04:22<00:31, 18.63it/s]"
     ]
    },
    {
     "name": "stdout",
     "output_type": "stream",
     "text": [
      "['door' 'hinge' 'chain' 'vent' 'vent door' 'chain vent']\n",
      "['pressure' 'sensor' 'pressure sensor']\n",
      "['tube' 'dipstick']\n",
      "['cable']\n",
      "['dipstick']\n",
      "['pto' 'box' 'gear' 'dipstick' 'gear_box' 'box dipstick' 'pto gear']\n",
      "['ladder']\n"
     ]
    },
    {
     "name": "stderr",
     "output_type": "stream",
     "text": [
      " 89%|████████▉ | 4899/5485 [04:22<00:31, 18.64it/s]"
     ]
    },
    {
     "name": "stdout",
     "output_type": "stream",
     "text": [
      "['windscreen']\n",
      "['shd']\n",
      "['shd' 'travel']\n",
      "['control' 'panel' 'control panel']\n"
     ]
    },
    {
     "name": "stderr",
     "output_type": "stream",
     "text": [
      " 89%|████████▉ | 4908/5485 [04:23<00:30, 18.64it/s]"
     ]
    },
    {
     "name": "stdout",
     "output_type": "stream",
     "text": [
      "['wiper' 'windscreen' 'windscreen_wiper']\n",
      "['engine' 'right_hand' 'dipstick' 'right_hand_engine' 'engine_dipstick']\n",
      "['walkway']\n",
      "['shd' 'dipstick']\n",
      "['walkway']\n"
     ]
    },
    {
     "name": "stderr",
     "output_type": "stream",
     "text": [
      " 90%|████████▉ | 4914/5485 [04:23<00:30, 18.64it/s]"
     ]
    },
    {
     "name": "stdout",
     "output_type": "stream",
     "text": [
      "['shd' 'scv' 'safety']\n",
      "['cable']\n",
      "['line' 'pilot' 'pilot line']\n",
      "['pp']\n",
      "['tank' 'header' 'cap' 'safety' 'header_tank' 'safety cap']\n"
     ]
    },
    {
     "name": "stderr",
     "output_type": "stream",
     "text": [
      " 90%|████████▉ | 4920/5485 [04:23<00:30, 18.64it/s]"
     ]
    },
    {
     "name": "stdout",
     "output_type": "stream",
     "text": [
      "['leg']\n",
      "['wire']\n",
      "['camera' 'operator']\n",
      "['right_hand' 'screen']\n",
      "['right_hand' 'servo' 'screen' 'servo screen']\n"
     ]
    },
    {
     "name": "stderr",
     "output_type": "stream",
     "text": [
      " 90%|████████▉ | 4928/5485 [04:24<00:29, 18.63it/s]"
     ]
    },
    {
     "name": "stdout",
     "output_type": "stream",
     "text": [
      "['shd' 'commercial']\n",
      "['pp']\n",
      "['pump' 'windscreen']\n",
      "['left_hand' 'lower' 'windscreen' 'corner' 'left_hand lower'\n",
      " 'lower corner']\n",
      "['pump' 'windscreen']\n",
      "['shd' 'control' '24' 'shd_24']\n",
      "['misc']\n",
      "['bracket' 'extinguisher' 'extinguisher bracket']\n"
     ]
    },
    {
     "name": "stderr",
     "output_type": "stream",
     "text": [
      " 90%|█████████ | 4938/5485 [04:24<00:29, 18.65it/s]"
     ]
    },
    {
     "name": "stdout",
     "output_type": "stream",
     "text": [
      "['float']\n",
      "['left_hand' 'tube' 'dipstick' 'dipstick_tube' 'left_hand dipstick']\n",
      "['speaker']\n",
      "['camera']\n",
      "['foot' 'pedal']\n",
      "['welding']\n",
      "['pump' 'box' 'pump_box']\n"
     ]
    },
    {
     "name": "stderr",
     "output_type": "stream",
     "text": [
      "\r",
      " 90%|█████████ | 4942/5485 [04:25<00:29, 18.65it/s]"
     ]
    },
    {
     "name": "stdout",
     "output_type": "stream",
     "text": [
      "['travel']\n",
      "['camera']\n",
      "['camera']\n",
      "['boom' 'left' 'walkway' 'left boom' 'walkway left']\n",
      "['right_hand' 'boom' 'walkway' 'right_hand_boom']\n"
     ]
    },
    {
     "name": "stderr",
     "output_type": "stream",
     "text": [
      " 90%|█████████ | 4948/5485 [04:25<00:28, 18.65it/s]"
     ]
    },
    {
     "name": "stdout",
     "output_type": "stream",
     "text": [
      "['camera']\n",
      "['walkway']\n",
      "['camera']\n",
      "['camera']\n"
     ]
    },
    {
     "name": "stderr",
     "output_type": "stream",
     "text": [
      " 90%|█████████ | 4954/5485 [04:25<00:28, 18.65it/s]"
     ]
    },
    {
     "name": "stdout",
     "output_type": "stream",
     "text": [
      "['card']\n",
      "['boom' 'walkway' 'boom_walkway']\n",
      "['light' 'camera' 'camera light']\n",
      "['engine' 'tube' 'dipstick' 'dipstick_tube' 'engine_dipstick']\n"
     ]
    },
    {
     "name": "stderr",
     "output_type": "stream",
     "text": [
      " 90%|█████████ | 4960/5485 [04:25<00:28, 18.65it/s]"
     ]
    },
    {
     "name": "stdout",
     "output_type": "stream",
     "text": [
      "['tube' 'dipstick']\n",
      "['windscreen']\n",
      "['engine' 'access' 'bay' 'platform' 'engine_bay' 'access platform'\n",
      " 'bay access']\n",
      "['travel' 'gauge' 'murphy' 'lts' 'murphy_gauge' 'lts travel' 'gauge lts']\n"
     ]
    },
    {
     "name": "stderr",
     "output_type": "stream",
     "text": [
      " 91%|█████████ | 4966/5485 [04:26<00:27, 18.65it/s]"
     ]
    },
    {
     "name": "stdout",
     "output_type": "stream",
     "text": [
      "['light']\n",
      "['light']\n",
      "['light']\n",
      "['light' 'working_light']\n",
      "['light']\n"
     ]
    },
    {
     "name": "stderr",
     "output_type": "stream",
     "text": [
      " 91%|█████████ | 4974/5485 [04:26<00:27, 18.64it/s]"
     ]
    },
    {
     "name": "stdout",
     "output_type": "stream",
     "text": [
      "['light' 'working_light']\n",
      "['light']\n",
      "['light']\n",
      "['light']\n",
      "['light' 'working_light']\n",
      "['light' 'bulb' 'bulb light']\n",
      "['light']\n",
      "['light' 'dash' 'light dash']\n",
      "['light']\n"
     ]
    },
    {
     "name": "stderr",
     "output_type": "stream",
     "text": [
      " 91%|█████████ | 4983/5485 [04:27<00:26, 18.65it/s]"
     ]
    },
    {
     "name": "stdout",
     "output_type": "stream",
     "text": [
      "['light' 'new' 'style' 'new style' 'style light']\n",
      "['light']\n",
      "['pto' 'light' 'area' 'working_light' 'light pto' 'pto area']\n",
      "['light']\n",
      "['light' 'panel' 'instrument' 'panel light']\n",
      "['light' 'instrument' 'instrument light']\n",
      "['light']\n"
     ]
    },
    {
     "name": "stderr",
     "output_type": "stream",
     "text": [
      "\r",
      " 91%|█████████ | 4986/5485 [04:27<00:26, 18.66it/s]"
     ]
    },
    {
     "name": "stdout",
     "output_type": "stream",
     "text": [
      "['left_hand' 'light' 'rear' 'circuit' 'left_hand rear' 'rear circuit']\n",
      "['left_hand' 'light' 'rear' 'circuit' 'left_hand rear' 'rear light']\n",
      "['light' 'rear' 'light rear']\n",
      "['light']\n",
      "['light' 'relay' 'maintenance' 'maintenance_light' 'light relay']\n"
     ]
    },
    {
     "name": "stderr",
     "output_type": "stream",
     "text": [
      " 91%|█████████ | 4992/5485 [04:27<00:26, 18.66it/s]"
     ]
    },
    {
     "name": "stdout",
     "output_type": "stream",
     "text": [
      "['light' 'relay' 'maintenance' 'maintenance_light' 'light relay']\n",
      "['light']\n",
      "['lts']\n",
      "['light']\n",
      "['light' 'maintenance' 'maintenance_light']\n"
     ]
    },
    {
     "name": "stderr",
     "output_type": "stream",
     "text": [
      " 91%|█████████ | 4998/5485 [04:27<00:26, 18.66it/s]"
     ]
    },
    {
     "name": "stdout",
     "output_type": "stream",
     "text": [
      "['light' 'speaker' 'speaker light']\n",
      "['light' 'maintenance' 'maintenance_light']\n",
      "['engine' 'light' 'bay' 'engine_bay' 'bay_light']\n",
      "['engine' 'light' 'bay' 'engine_bay' 'bay_light']\n",
      "['engine' 'light' 'bay' 'engine_bay' 'bay_light']\n"
     ]
    },
    {
     "name": "stderr",
     "output_type": "stream",
     "text": [
      "\r",
      " 91%|█████████ | 5001/5485 [04:28<00:25, 18.66it/s]"
     ]
    },
    {
     "name": "stdout",
     "output_type": "stream",
     "text": [
      "['light']\n",
      "['lts']\n",
      "['boom' 'light' 'light boom']\n",
      "['light' 'text' 'working_light' 'light text']\n",
      "['cooler' 'module' 'cooler module']\n"
     ]
    },
    {
     "name": "stderr",
     "output_type": "stream",
     "text": [
      " 91%|█████████▏| 5007/5485 [04:28<00:25, 18.66it/s]"
     ]
    },
    {
     "name": "stdout",
     "output_type": "stream",
     "text": [
      "['engine' 'light' 'bay' 'engine_bay' 'light engine']\n",
      "['light' 'servo' 'bulb' 'light bulb' 'servo light']\n",
      "['light' 'maintenance' 'maintenance_light']\n",
      "['boom' 'light' 'boom light']\n",
      "['light' 'right' 'light right']\n"
     ]
    },
    {
     "name": "stderr",
     "output_type": "stream",
     "text": [
      "\r",
      " 91%|█████████▏| 5010/5485 [04:28<00:25, 18.66it/s]"
     ]
    },
    {
     "name": "stdout",
     "output_type": "stream",
     "text": [
      "['light' 'working_light']\n",
      "['light' 'rear' 'counterweight' 'rear counterweight' 'counterweight light']\n"
     ]
    },
    {
     "name": "stderr",
     "output_type": "stream",
     "text": [
      " 91%|█████████▏| 5018/5485 [04:29<00:25, 18.65it/s]"
     ]
    },
    {
     "name": "stdout",
     "output_type": "stream",
     "text": [
      "['light' 'bracket']\n",
      "['instrument']\n",
      "['light' 'cooler' 'module' 'cooler module']\n",
      "['cab' 'light' 'light_cab']\n",
      "['light']\n",
      "['light']\n",
      "['shd' 'light' 'instrument' 'instrument light']\n",
      "['shd' 'light' 'light shd']\n",
      "['light' 'rear' 'rear light']\n"
     ]
    },
    {
     "name": "stderr",
     "output_type": "stream",
     "text": [
      " 92%|█████████▏| 5027/5485 [04:29<00:24, 18.66it/s]"
     ]
    },
    {
     "name": "stdout",
     "output_type": "stream",
     "text": [
      "['light' 'supply']\n",
      "['light' 'rear']\n",
      "['boom' 'light' 'boom light']\n",
      "['light' 'leg']\n",
      "['light']\n",
      "['boom' 'light' 'light boom']\n",
      "['light' 'machine']\n",
      "['light' 'working_light']\n"
     ]
    },
    {
     "name": "stderr",
     "output_type": "stream",
     "text": [
      "\r",
      " 92%|█████████▏| 5030/5485 [04:29<00:24, 18.66it/s]"
     ]
    },
    {
     "name": "stdout",
     "output_type": "stream",
     "text": [
      "['engine' 'light' 'bay' 'engine_bay' 'bay_light']\n",
      "['shd' 'light' 'working_light']\n",
      "['light' 'rear']\n",
      "['light']\n",
      "['engine' 'light' 'engine light']\n"
     ]
    },
    {
     "name": "stderr",
     "output_type": "stream",
     "text": [
      " 92%|█████████▏| 5036/5485 [04:29<00:24, 18.66it/s]"
     ]
    },
    {
     "name": "stdout",
     "output_type": "stream",
     "text": [
      "['light']\n",
      "['engine' 'light' 'bay' 'engine_bay' 'bay_light']\n",
      "['light']\n",
      "['servo' 'bulb' 'servo bulb']\n",
      "['servo' 'bulb' 'servo bulb']\n"
     ]
    },
    {
     "name": "stderr",
     "output_type": "stream",
     "text": [
      " 92%|█████████▏| 5042/5485 [04:30<00:23, 18.67it/s]"
     ]
    },
    {
     "name": "stdout",
     "output_type": "stream",
     "text": [
      "['engine' 'light' 'bay' 'engine_bay' 'bay_light']\n",
      "['light' 'left' 'room' 'point' 'room point' 'point left']\n",
      "['shd' 'light' '24' 'history' 'shd_24' 'light history']\n",
      "['light']\n",
      "['boom' 'shd' 'light' 'boom light' 'light shd']\n"
     ]
    },
    {
     "name": "stderr",
     "output_type": "stream",
     "text": [
      "\r",
      " 92%|█████████▏| 5045/5485 [04:30<00:23, 18.67it/s]"
     ]
    },
    {
     "name": "stdout",
     "output_type": "stream",
     "text": [
      "['light' 'scope' 'maintenance' 'maintenance_light' 'scope maintenance']\n",
      "['light' 'dash' 'dash light']\n",
      "['light' 'station']\n",
      "['engine' 'light' 'bay' 'engine_bay' 'bay_light']\n",
      "['engine' 'light' 'bay' 'engine_bay' 'bay_light']\n"
     ]
    },
    {
     "name": "stderr",
     "output_type": "stream",
     "text": [
      " 92%|█████████▏| 5051/5485 [04:30<00:23, 18.67it/s]"
     ]
    },
    {
     "name": "stdout",
     "output_type": "stream",
     "text": [
      "['light' 'camera' 'camera light']\n",
      "['pump' 'light' 'room' 'room light' 'pump room']\n",
      "['light' 'working_light']\n",
      "['lts']\n",
      "['light']\n"
     ]
    },
    {
     "name": "stderr",
     "output_type": "stream",
     "text": [
      "\r",
      " 92%|█████████▏| 5054/5485 [04:30<00:23, 18.67it/s]"
     ]
    },
    {
     "name": "stdout",
     "output_type": "stream",
     "text": [
      "['travel' 'gauge' 'murphy' 'lts' 'murphy_gauge' 'lts travel' 'gauge lts']\n",
      "['left_hand' 'light' 'left_hand light']\n"
     ]
    },
    {
     "name": "stderr",
     "output_type": "stream",
     "text": [
      " 92%|█████████▏| 5062/5485 [04:31<00:22, 18.65it/s]"
     ]
    },
    {
     "name": "stdout",
     "output_type": "stream",
     "text": [
      "['access' 'step' 'access_step']\n",
      "['step' 'handrail' 'step_handrail']\n",
      "['step']\n",
      "['engine' 'access' 'ladder' 'welding' 'access_ladder' 'engine access'\n",
      " 'welding engine']\n",
      "['access' 'step' 'new' 'access_step']\n",
      "['step']\n",
      "['stairs']\n",
      "['step']\n",
      "['step' 'lower' 'lower step']\n"
     ]
    },
    {
     "name": "stderr",
     "output_type": "stream",
     "text": [
      " 92%|█████████▏| 5071/5485 [04:31<00:22, 18.67it/s]"
     ]
    },
    {
     "name": "stdout",
     "output_type": "stream",
     "text": [
      "['step' 'vertical' 'vertical_step']\n",
      "['engine' 'ladder' 'rail' 'ladder rail' 'rail engine']\n",
      "['step' 'link' 'vertical' 'vertical_step' 'step link']\n",
      "['engine' 'step' 'ladder']\n",
      "['step']\n",
      "['step' 'vertical' 'vertical_step']\n",
      "['engine' 'access' 'step' 'welding' 'engine access' 'step engine']\n",
      "['step' 'vertical' 'vertical_step']\n"
     ]
    },
    {
     "name": "stderr",
     "output_type": "stream",
     "text": [
      "\r",
      " 93%|█████████▎| 5074/5485 [04:31<00:22, 18.67it/s]"
     ]
    },
    {
     "name": "stdout",
     "output_type": "stream",
     "text": [
      "['shd' 'step' 'vertical' 'vertical_step' 'shd vertical']\n",
      "['step' 'deck' 'step deck']\n",
      "['step' 'vertical' 'vertical_step']\n",
      "['access' 'step' 'handrail' 'access_step' 'step_handrail']\n"
     ]
    },
    {
     "name": "stderr",
     "output_type": "stream",
     "text": [
      " 93%|█████████▎| 5080/5485 [04:32<00:21, 18.67it/s]"
     ]
    },
    {
     "name": "stdout",
     "output_type": "stream",
     "text": [
      "['access' 'step' 'accident' 'access_step']\n",
      "['lower' 'ladder' 'rope' 'pulley' 'ladder rope' 'rope lower'\n",
      " 'lower pulley']\n",
      "['ladder' 'rope' 'ladder rope']\n",
      "['access' 'handrail' 'ladder' 'access_ladder' 'handrail_access']\n",
      "['ladder']\n"
     ]
    },
    {
     "name": "stderr",
     "output_type": "stream",
     "text": [
      "\r",
      " 93%|█████████▎| 5083/5485 [04:32<00:21, 18.67it/s]"
     ]
    },
    {
     "name": "stdout",
     "output_type": "stream",
     "text": [
      "['access' 'stairs' 'accident' 'access_stairs']\n",
      "['access' 'stairs' 'accident' 'access_stairs']\n",
      "['access' 'stairs' 'handrail' 'access_stairs' 'handrail_access']\n",
      "['handrail' 'ladder']\n",
      "['ladder']\n"
     ]
    },
    {
     "name": "stderr",
     "output_type": "stream",
     "text": [
      " 93%|█████████▎| 5089/5485 [04:32<00:21, 18.67it/s]"
     ]
    },
    {
     "name": "stdout",
     "output_type": "stream",
     "text": [
      "['access' 'ladder' 'access_ladder']\n",
      "['step' 'handrail' 'step_handrail']\n",
      "['access' 'stairs' 'access_stairs']\n",
      "['step' 'handrail' 'step_handrail']\n",
      "['access' 'stairs' 'access_stairs']\n"
     ]
    },
    {
     "name": "stderr",
     "output_type": "stream",
     "text": [
      " 93%|█████████▎| 5095/5485 [04:32<00:20, 18.67it/s]"
     ]
    },
    {
     "name": "stdout",
     "output_type": "stream",
     "text": [
      "['ladder']\n",
      "['access' 'step' 'access_step']\n",
      "['fitting' 'step']\n",
      "['access' 'stairs' 'cable' 'access_stairs']\n",
      "['access' 'stairs' 'handrail' 'access_stairs' 'handrail_access']\n"
     ]
    },
    {
     "name": "stderr",
     "output_type": "stream",
     "text": [
      "\r",
      " 93%|█████████▎| 5098/5485 [04:33<00:20, 18.67it/s]"
     ]
    },
    {
     "name": "stdout",
     "output_type": "stream",
     "text": [
      "['control' 'stairs' 'stairs control']\n",
      "['stairs' 'accident']\n",
      "['step' 'handrail' 'lower' 'step_handrail' 'lower step']\n"
     ]
    },
    {
     "name": "stderr",
     "output_type": "stream",
     "text": [
      " 93%|█████████▎| 5106/5485 [04:33<00:20, 18.66it/s]"
     ]
    },
    {
     "name": "stdout",
     "output_type": "stream",
     "text": [
      "['access' 'step' 'access_step']\n",
      "['step']\n",
      "['stairs' 'tread' 'stairs tread']\n",
      "['shd' 'access' 'stairs' '24' 'shd_24' 'access_stairs' 'stairs shd']\n",
      "['stairs']\n",
      "['access' 'ladder' 'rail' 'access_ladder' 'ladder rail']\n",
      "['oil' 'step']\n",
      "['ladder']\n",
      "['light' 'step' 'step light']\n"
     ]
    },
    {
     "name": "stderr",
     "output_type": "stream",
     "text": [
      " 93%|█████████▎| 5115/5485 [04:33<00:19, 18.67it/s]"
     ]
    },
    {
     "name": "stdout",
     "output_type": "stream",
     "text": [
      "['shd' 'access' 'stairs' 'access_stairs' 'stairs shd']\n",
      "['shd' 'stairs' 'handrail' 'stairs_handrail' 'handrail shd']\n",
      "['stairs']\n",
      "['stairs' 'sections' 'sections stairs']\n",
      "['right_hand' 'boom' 'access' 'ladder' 'right_hand_boom' 'access_ladder'\n",
      " 'boom access']\n",
      "['cab' 'ladder' 'bracket' 'bracket ladder']\n",
      "['access' 'stairs' 'latch' 'access_stairs']\n",
      "['access' 'step' 'tread' 'access_step' 'step tread']\n"
     ]
    },
    {
     "name": "stderr",
     "output_type": "stream",
     "text": [
      "\r",
      " 93%|█████████▎| 5118/5485 [04:34<00:19, 18.67it/s]"
     ]
    },
    {
     "name": "stdout",
     "output_type": "stream",
     "text": [
      "['shd' 'access' 'stairs' 'rail' 'access_stairs' 'stairs shd' 'rail access']\n",
      "['stairs' 'rail' 'stairs rail']\n",
      "['left_hand' 'stairs' 'rail' 'stairs rail' 'left_hand stairs']\n",
      "['access' 'stairs' 'tread' 'access_stairs' 'tread access']\n",
      "['stairs' 'handrail' 'stairs_handrail']\n"
     ]
    },
    {
     "name": "stderr",
     "output_type": "stream",
     "text": [
      " 93%|█████████▎| 5124/5485 [04:34<00:19, 18.68it/s]"
     ]
    },
    {
     "name": "stdout",
     "output_type": "stream",
     "text": [
      "['hand' 'access' 'stairs' 'rail' 'access_stairs' 'hand_rail' 'stairs hand']\n",
      "['access' 'stairs' 'access_stairs']\n",
      "['access' 'handrail' 'ladder' 'access_ladder' 'handrail_access']\n",
      "['shd' 'access' 'step' 'welding' 'chain' 'access_step' 'step shd'\n",
      " 'chain access' 'welding chain']\n",
      "['stairs']\n"
     ]
    },
    {
     "name": "stderr",
     "output_type": "stream",
     "text": [
      " 94%|█████████▎| 5130/5485 [04:34<00:19, 18.68it/s]"
     ]
    },
    {
     "name": "stdout",
     "output_type": "stream",
     "text": [
      "['access' 'stairs' 'wire' 'rope' 'access_stairs' 'wire rope' 'stairs wire']\n",
      "['stairs' 'cable' 'stairs cable']\n",
      "['hand' 'access' 'step' 'rail' 'hand_rail' 'access_step' 'rail access']\n",
      "['access' 'step' 'access_step']\n",
      "['stairs']\n"
     ]
    },
    {
     "name": "stderr",
     "output_type": "stream",
     "text": [
      " 94%|█████████▎| 5136/5485 [04:34<00:18, 18.68it/s]"
     ]
    },
    {
     "name": "stdout",
     "output_type": "stream",
     "text": [
      "['line' 'shd' 'hyd' 'access' 'stairs' '24' 'shd_24' 'access_stairs'\n",
      " 'hyd_line' 'stairs hyd']\n",
      "['stairs' 'handrail' 'stairs_handrail']\n",
      "['hose' 'hyd' 'stairs' 'hyd_hose' 'stairs hyd']\n",
      "['access' 'stairs' 'handrail' 'access_stairs' 'stairs_handrail']\n",
      "['step' 'accident' 'frame' 'upper' 'step frame' 'upper step']\n"
     ]
    },
    {
     "name": "stderr",
     "output_type": "stream",
     "text": [
      "\r",
      " 94%|█████████▎| 5139/5485 [04:35<00:18, 18.68it/s]"
     ]
    },
    {
     "name": "stdout",
     "output_type": "stream",
     "text": [
      "['lower' 'ladder' 'lower ladder']\n",
      "['access' 'step' 'handrail' 'access_step']\n",
      "['access' 'step' 'handrail' 'access_step' 'handrail_access']\n",
      "['step' 'second' 'second step']\n",
      "['access' 'step' 'access_step']\n"
     ]
    },
    {
     "name": "stderr",
     "output_type": "stream",
     "text": [
      "\r",
      " 94%|█████████▎| 5142/5485 [04:35<00:18, 18.68it/s]"
     ]
    },
    {
     "name": "stdout",
     "output_type": "stream",
     "text": [
      "['access' 'step' 'handrail' 'access_step' 'step_handrail']\n"
     ]
    },
    {
     "name": "stderr",
     "output_type": "stream",
     "text": [
      " 94%|█████████▍| 5150/5485 [04:35<00:17, 18.66it/s]"
     ]
    },
    {
     "name": "stdout",
     "output_type": "stream",
     "text": [
      "['access' 'ladder' 'cable' 'access_ladder']\n",
      "['cover' 'cabin' 'roof' 'roof cover' 'cabin roof']\n",
      "['access' 'stairs' 'rope' 'pulley' 'access_stairs' 'pulley rope'\n",
      " 'rope access']\n",
      "['access' 'stairs' 'handrail' 'access_stairs' 'stairs_handrail']\n",
      "['step' 'handrail']\n",
      "['access' 'step' 'bracket' 'support' 'access_step' 'support bracket'\n",
      " 'step support']\n",
      "['stairs' 'tread' 'stairs tread' 'tread stairs']\n",
      "['light' 'stairs' 'light stairs']\n",
      "['ladder' 'rope' 'ladder rope']\n"
     ]
    },
    {
     "name": "stderr",
     "output_type": "stream",
     "text": [
      " 94%|█████████▍| 5159/5485 [04:36<00:17, 18.68it/s]"
     ]
    },
    {
     "name": "stdout",
     "output_type": "stream",
     "text": [
      "['radio']\n",
      "['radio']\n",
      "['radio']\n",
      "['radio']\n",
      "['radio' 'commercial' 'speaker' 'commercial_radio' 'radio speaker']\n"
     ]
    },
    {
     "name": "stderr",
     "output_type": "stream",
     "text": [
      "\r",
      " 94%|█████████▍| 5162/5485 [04:36<00:17, 18.68it/s]"
     ]
    },
    {
     "name": "stdout",
     "output_type": "stream",
     "text": [
      "['radio']\n",
      "['radio' 'commercial' 'commercial_radio']\n",
      "['text' 'radio' 'shovel' 'radio text']\n",
      "['radio']\n",
      "['radio']\n"
     ]
    },
    {
     "name": "stderr",
     "output_type": "stream",
     "text": [
      " 94%|█████████▍| 5168/5485 [04:36<00:16, 18.68it/s]"
     ]
    },
    {
     "name": "stdout",
     "output_type": "stream",
     "text": [
      "['radio']\n",
      "['radio' 'commercial' 'commercial_radio']\n",
      "['radio' 'new']\n",
      "['radio']\n"
     ]
    },
    {
     "name": "stderr",
     "output_type": "stream",
     "text": [
      " 94%|█████████▍| 5174/5485 [04:36<00:16, 18.68it/s]"
     ]
    },
    {
     "name": "stdout",
     "output_type": "stream",
     "text": [
      "['radio' 'commercial' 'shovel' 'commercial_radio' 'radio shovel']\n",
      "['radio']\n",
      "['radio' 'commercial' 'commercial_radio']\n",
      "['radio' 'commercial' 'commercial_radio']\n",
      "['radio' 'commercial' 'commercial_radio']\n"
     ]
    },
    {
     "name": "stderr",
     "output_type": "stream",
     "text": [
      " 94%|█████████▍| 5180/5485 [04:37<00:16, 18.69it/s]"
     ]
    },
    {
     "name": "stdout",
     "output_type": "stream",
     "text": [
      "['radio' 'solenoid']\n",
      "['radio']\n",
      "['radio' 'commercial' 'commercial_radio']\n"
     ]
    },
    {
     "name": "stderr",
     "output_type": "stream",
     "text": [
      "\r",
      " 94%|█████████▍| 5183/5485 [04:37<00:16, 18.69it/s]"
     ]
    },
    {
     "name": "stdout",
     "output_type": "stream",
     "text": [
      "['hand']\n",
      "['radio']\n",
      "['radio']\n"
     ]
    },
    {
     "name": "stderr",
     "output_type": "stream",
     "text": [
      "\r",
      " 95%|█████████▍| 5186/5485 [04:37<00:16, 18.69it/s]"
     ]
    },
    {
     "name": "stdout",
     "output_type": "stream",
     "text": [
      "['radio']\n"
     ]
    },
    {
     "name": "stderr",
     "output_type": "stream",
     "text": [
      " 95%|█████████▍| 5194/5485 [04:38<00:15, 18.67it/s]"
     ]
    },
    {
     "name": "stdout",
     "output_type": "stream",
     "text": [
      "['radio']\n",
      "['hand' 'piece' 'hand piece']\n",
      "['speaker']\n",
      "['shd']\n",
      "['shd']\n",
      "['radio']\n",
      "['radio']\n"
     ]
    },
    {
     "name": "stderr",
     "output_type": "stream",
     "text": [
      " 95%|█████████▍| 5203/5485 [04:38<00:15, 18.69it/s]"
     ]
    },
    {
     "name": "stdout",
     "output_type": "stream",
     "text": [
      "['speaker']\n",
      "['radio' 'commercial' 'commercial_radio']\n",
      "['shd']\n",
      "['shd' 'radio' 'commercial' 'commercial_radio' 'radio shd']\n"
     ]
    },
    {
     "name": "stderr",
     "output_type": "stream",
     "text": [
      "\r",
      " 95%|█████████▍| 5206/5485 [04:38<00:14, 18.69it/s]"
     ]
    },
    {
     "name": "stdout",
     "output_type": "stream",
     "text": [
      "['shd' 'radio' 'commercial' 'commercial_radio' 'radio shd']\n",
      "['hand']\n",
      "['radio' 'commercial' 'commercial_radio']\n",
      "['hand']\n",
      "['hand' 'radio']\n"
     ]
    },
    {
     "name": "stderr",
     "output_type": "stream",
     "text": [
      " 95%|█████████▌| 5212/5485 [04:38<00:14, 18.69it/s]"
     ]
    },
    {
     "name": "stdout",
     "output_type": "stream",
     "text": [
      "['hand' 'piece' 'hand piece']\n",
      "['shd' 'radio']\n",
      "['hand']\n",
      "['shd' 'radio' '24' 'shd_24']\n",
      "['shd' 'radio' '24' 'shd_24']\n"
     ]
    },
    {
     "name": "stderr",
     "output_type": "stream",
     "text": [
      " 95%|█████████▌| 5218/5485 [04:39<00:14, 18.69it/s]"
     ]
    },
    {
     "name": "stdout",
     "output_type": "stream",
     "text": [
      "['radio' 'speaker' 'radio speaker']\n",
      "['radio' 'commercial' 'speaker' 'commercial_radio' 'radio speaker']\n",
      "['hand']\n",
      "['radio']\n"
     ]
    },
    {
     "name": "stderr",
     "output_type": "stream",
     "text": [
      " 95%|█████████▌| 5224/5485 [04:39<00:13, 18.69it/s]"
     ]
    },
    {
     "name": "stdout",
     "output_type": "stream",
     "text": [
      "['radio' 'commercial' 'commercial_radio']\n",
      "['radio']\n",
      "['radio']\n",
      "['hand']\n"
     ]
    },
    {
     "name": "stderr",
     "output_type": "stream",
     "text": [
      "\r",
      " 95%|█████████▌| 5227/5485 [04:39<00:13, 18.69it/s]"
     ]
    },
    {
     "name": "stdout",
     "output_type": "stream",
     "text": [
      "['boom']\n",
      "['air_conditioning']\n",
      "['air_conditioning']\n"
     ]
    },
    {
     "name": "stderr",
     "output_type": "stream",
     "text": [
      " 95%|█████████▌| 5238/5485 [04:40<00:13, 18.68it/s]"
     ]
    },
    {
     "name": "stdout",
     "output_type": "stream",
     "text": [
      "['air_conditioning']\n",
      "['air' 'pressure' 'air pressure']\n",
      "['air' 'conditioner' 'hot_air' 'air_conditioner']\n"
     ]
    },
    {
     "name": "stderr",
     "output_type": "stream",
     "text": [
      " 96%|█████████▌| 5252/5485 [04:40<00:12, 18.70it/s]"
     ]
    },
    {
     "name": "stdout",
     "output_type": "stream",
     "text": [
      "['air' 'hot_air']\n",
      "['air']\n",
      "['air' 'hot_air']\n",
      "['air' 'hot_air']\n"
     ]
    },
    {
     "name": "stderr",
     "output_type": "stream",
     "text": [
      " 96%|█████████▌| 5258/5485 [04:41<00:12, 18.70it/s]"
     ]
    },
    {
     "name": "stdout",
     "output_type": "stream",
     "text": [
      "['belt' 'air_conditioning' 'air_conditioning belt']\n",
      "['air' 'conditioner' 'air_conditioner']\n",
      "['filter']\n",
      "['air' 'conditioner' 'air_conditioner']\n",
      "['engine' 'right_hand' 'thermostat' 'right_hand_engine'\n",
      " 'engine thermostat']\n"
     ]
    },
    {
     "name": "stderr",
     "output_type": "stream",
     "text": [
      "\r",
      " 96%|█████████▌| 5261/5485 [04:41<00:11, 18.70it/s]"
     ]
    },
    {
     "name": "stdout",
     "output_type": "stream",
     "text": [
      "['air' 'hot_air']\n",
      "['hose']\n",
      "['air' 'ignition' 'air_conditioner']\n",
      "['air']\n",
      "['air' 'air_conditioner']\n"
     ]
    },
    {
     "name": "stderr",
     "output_type": "stream",
     "text": [
      " 96%|█████████▌| 5267/5485 [04:41<00:11, 18.70it/s]"
     ]
    },
    {
     "name": "stdout",
     "output_type": "stream",
     "text": [
      "['belt' 'air_conditioning' 'air_conditioning belt']\n",
      "['fan' 'text' 'fan text']\n",
      "['air']\n",
      "['air' 'thermostat']\n"
     ]
    },
    {
     "name": "stderr",
     "output_type": "stream",
     "text": [
      "\r",
      " 96%|█████████▌| 5270/5485 [04:41<00:11, 18.70it/s]"
     ]
    },
    {
     "name": "stdout",
     "output_type": "stream",
     "text": [
      "['air' 'filter' 'air_filter']\n",
      "['air' 'hot_air']\n",
      "['air' 'text' 'air text']\n"
     ]
    },
    {
     "name": "stderr",
     "output_type": "stream",
     "text": [
      "\r",
      " 96%|█████████▌| 5273/5485 [04:41<00:11, 18.70it/s]"
     ]
    },
    {
     "name": "stdout",
     "output_type": "stream",
     "text": [
      "['thermostat']\n",
      "['motor' 'cab' 'pressuriser' 'pressuriser_motor' 'cab_pressuriser']\n"
     ]
    },
    {
     "name": "stderr",
     "output_type": "stream",
     "text": [
      " 96%|█████████▋| 5280/5485 [04:42<00:10, 18.68it/s]"
     ]
    },
    {
     "name": "stdout",
     "output_type": "stream",
     "text": [
      "['cab' 'pressuriser' 'cab_pressuriser']\n",
      "['cab' 'pressuriser' 'cab_pressuriser']\n",
      "['filter' 'pressuriser' 'pressuriser filter']\n",
      "['gas']\n",
      "['circuit']\n"
     ]
    },
    {
     "name": "stderr",
     "output_type": "stream",
     "text": [
      " 96%|█████████▋| 5290/5485 [04:42<00:10, 18.70it/s]"
     ]
    },
    {
     "name": "stdout",
     "output_type": "stream",
     "text": [
      "['motor' 'cab' 'text' 'pressuriser' 'pressuriser_motor' 'cab_pressuriser']\n",
      "['air_conditioning']\n",
      "['compressor']\n",
      "['heater']\n",
      "['air' 'fan' 'air fan']\n",
      "['air' 'drive' 'belt' 'compressor' 'air_conditioner' 'compressor drive'\n",
      " 'drive belt']\n",
      "['shd' 'air' 'auto' 'shd air']\n"
     ]
    },
    {
     "name": "stderr",
     "output_type": "stream",
     "text": [
      " 97%|█████████▋| 5297/5485 [04:43<00:10, 18.70it/s]"
     ]
    },
    {
     "name": "stdout",
     "output_type": "stream",
     "text": [
      "['text']\n",
      "['air']\n",
      "['unit']\n"
     ]
    },
    {
     "name": "stderr",
     "output_type": "stream",
     "text": [
      " 97%|█████████▋| 5303/5485 [04:43<00:09, 18.70it/s]"
     ]
    },
    {
     "name": "stdout",
     "output_type": "stream",
     "text": [
      "['fan' 'unit' 'fan unit']\n",
      "['air' 'belt' 'air belt']\n",
      "['air']\n",
      "['air' 'filter' 'cab' 'air_filter' 'cab air']\n",
      "['air']\n"
     ]
    },
    {
     "name": "stderr",
     "output_type": "stream",
     "text": [
      "\r",
      " 97%|█████████▋| 5306/5485 [04:43<00:09, 18.70it/s]"
     ]
    },
    {
     "name": "stdout",
     "output_type": "stream",
     "text": [
      "['air' 'air_conditioner']\n",
      "['air' 'fan' 'air fan']\n",
      "['air' 'hot_air']\n",
      "['air' 'belt' 'air belt']\n",
      "['heater']\n"
     ]
    },
    {
     "name": "stderr",
     "output_type": "stream",
     "text": [
      " 97%|█████████▋| 5312/5485 [04:43<00:09, 18.70it/s]"
     ]
    },
    {
     "name": "stdout",
     "output_type": "stream",
     "text": [
      "['air' 'conditioner' 'air_conditioner']\n",
      "['rf' 'heater']\n",
      "['air']\n",
      "['rf' 'heater']\n",
      "['water']\n"
     ]
    },
    {
     "name": "stderr",
     "output_type": "stream",
     "text": [
      " 97%|█████████▋| 5318/5485 [04:44<00:08, 18.71it/s]"
     ]
    },
    {
     "name": "stdout",
     "output_type": "stream",
     "text": [
      "['oil' 'air_conditioning']\n",
      "['rf' 'belt' 'guard' 'belt_guard']\n",
      "['rf']\n",
      "['rf']\n",
      "['motor' 'cab' 'rf' 'pressuriser' 'electrical' 'pressuriser_motor'\n",
      " 'electrical cab']\n",
      "['rf' 'rear']\n"
     ]
    },
    {
     "name": "stderr",
     "output_type": "stream",
     "text": [
      " 97%|█████████▋| 5326/5485 [04:45<00:08, 18.69it/s]"
     ]
    },
    {
     "name": "stdout",
     "output_type": "stream",
     "text": [
      "['air' 'rf' 'air_conditioner']\n",
      "['air' 'rf' 'air_conditioner']\n",
      "['air' 'motor' 'rf' 'air motor']\n",
      "['motor' 'rf' 'pressuriser' 'pressuriser_motor' 'rf pressuriser']\n",
      "['air' 'rf' 'air_conditioner']\n",
      "['belt']\n",
      "['new' 'bracket' 'air_conditioning' 'style' 'new style'\n",
      " 'air_conditioning bracket' 'bracket new']\n",
      "['new' 'bracket' 'air_conditioning' 'style' 'new style'\n",
      " 'air_conditioning bracket' 'bracket new']\n",
      "['engine' 'left_hand' 'rf' 'belt' 'left_hand_engine' 'belt left_hand']\n"
     ]
    },
    {
     "name": "stderr",
     "output_type": "stream",
     "text": [
      " 97%|█████████▋| 5336/5485 [04:45<00:07, 18.71it/s]"
     ]
    },
    {
     "name": "stdout",
     "output_type": "stream",
     "text": [
      "['rf' 'compressor']\n",
      "['rf' 'belt']\n",
      "['motor' 'rf' 'pressuriser' 'pressuriser_motor']\n",
      "['fan' 'rf' 'rf fan']\n",
      "['rf']\n",
      "['rf']\n",
      "['rf' 'drier']\n",
      "['rf' 'solenoid' 'relay' 'solenoid relay']\n"
     ]
    },
    {
     "name": "stderr",
     "output_type": "stream",
     "text": [
      "\r",
      " 97%|█████████▋| 5340/5485 [04:45<00:07, 18.71it/s]"
     ]
    },
    {
     "name": "stdout",
     "output_type": "stream",
     "text": [
      "['rf' 'pressuriser']\n",
      "['air' 'rf' 'rear' 'hot_air']\n",
      "['motor' 'rf' 'pressuriser' 'pressuriser_motor']\n",
      "['rf']\n",
      "['rf']\n"
     ]
    },
    {
     "name": "stderr",
     "output_type": "stream",
     "text": [
      " 97%|█████████▋| 5346/5485 [04:45<00:07, 18.71it/s]"
     ]
    },
    {
     "name": "stdout",
     "output_type": "stream",
     "text": [
      "['rf']\n",
      "['rf']\n",
      "['rf' 'unit' 'gas' 'rf gas']\n",
      "['unit' 'operation']\n",
      "['rf']\n"
     ]
    },
    {
     "name": "stderr",
     "output_type": "stream",
     "text": [
      "\r",
      " 98%|█████████▊| 5349/5485 [04:45<00:07, 18.71it/s]"
     ]
    },
    {
     "name": "stdout",
     "output_type": "stream",
     "text": [
      "['rf']\n",
      "['rf']\n",
      "['heater']\n",
      "['rf' 'wire' 'press' 'drier' 'rf wire' 'drier press']\n"
     ]
    },
    {
     "name": "stderr",
     "output_type": "stream",
     "text": [
      " 98%|█████████▊| 5355/5485 [04:46<00:06, 18.71it/s]"
     ]
    },
    {
     "name": "stdout",
     "output_type": "stream",
     "text": [
      "['air' 'air_conditioner']\n",
      "['air' 'hot_air' 'air_conditioner']\n",
      "['left_hand' 'air' 'compressor' 'left_hand_air']\n",
      "['air' 'guard' 'air guard']\n",
      "['oil' 'cylinder']\n"
     ]
    },
    {
     "name": "stderr",
     "output_type": "stream",
     "text": [
      " 98%|█████████▊| 5361/5485 [04:46<00:06, 18.71it/s]"
     ]
    },
    {
     "name": "stdout",
     "output_type": "stream",
     "text": [
      "['air' 'hot_air']\n",
      "['air' 'hot_air']\n",
      "['right_hand' 'right_hand_cooling']\n",
      "['pressuriser' 'cabinet' 'x1' 'x1 cabinet' 'cabinet pressuriser']\n"
     ]
    },
    {
     "name": "stderr",
     "output_type": "stream",
     "text": [
      "\r",
      " 98%|█████████▊| 5364/5485 [04:46<00:06, 18.71it/s]"
     ]
    },
    {
     "name": "stdout",
     "output_type": "stream",
     "text": [
      "['hose' 'hyd' 'cooler' 'hyd_cooler']\n",
      "['compressor']\n"
     ]
    },
    {
     "name": "stderr",
     "output_type": "stream",
     "text": [
      " 98%|█████████▊| 5372/5485 [04:47<00:06, 18.70it/s]"
     ]
    },
    {
     "name": "stdout",
     "output_type": "stream",
     "text": [
      "['thermostat']\n",
      "['wire']\n",
      "['air']\n",
      "['air' 'hot_air']\n",
      "['lube']\n",
      "['rear' 'unit' 'rear unit']\n",
      "['air']\n",
      "['air' 'fan' 'air fan']\n"
     ]
    },
    {
     "name": "stderr",
     "output_type": "stream",
     "text": [
      " 98%|█████████▊| 5381/5485 [04:47<00:05, 18.71it/s]"
     ]
    },
    {
     "name": "stdout",
     "output_type": "stream",
     "text": [
      "['air']\n",
      "['air_conditioning']\n",
      "['air' 'rear' 'unit' 'hot_air' 'air unit' 'rear air']\n",
      "['compressor']\n",
      "['air' 'gas']\n",
      "['air' 'pressure' 'pressure air']\n",
      "['air' 'conditioner' 'air_conditioner']\n",
      "['air_conditioning']\n"
     ]
    },
    {
     "name": "stderr",
     "output_type": "stream",
     "text": [
      "\r",
      " 98%|█████████▊| 5384/5485 [04:47<00:05, 18.71it/s]"
     ]
    },
    {
     "name": "stdout",
     "output_type": "stream",
     "text": [
      "['filter']\n",
      "['drier']\n",
      "['shd' 'air_conditioning']\n",
      "['air' 'bracket' 'air_conditioner']\n",
      "['air']\n"
     ]
    },
    {
     "name": "stderr",
     "output_type": "stream",
     "text": [
      " 98%|█████████▊| 5390/5485 [04:48<00:05, 18.71it/s]"
     ]
    },
    {
     "name": "stdout",
     "output_type": "stream",
     "text": [
      "['right_hand' 'left_hand' 'belt' 'guard' 'left_hand_right_hand'\n",
      " 'belt_guard' 'guard left_hand']\n",
      "['right_hand' 'belt' 'right_hand belt']\n",
      "['shd' 'compressor' 'air_conditioning' 'air_conditioning compressor']\n"
     ]
    },
    {
     "name": "stderr",
     "output_type": "stream",
     "text": [
      " 98%|█████████▊| 5396/5485 [04:48<00:04, 18.72it/s]"
     ]
    },
    {
     "name": "stdout",
     "output_type": "stream",
     "text": [
      "['cab' 'heater' 'cab heater']\n",
      "['air' 'gas']\n",
      "['engine' 'hose' 'left_hand' 'air_conditioning' 'left_hand_engine'\n",
      " 'hose left_hand' 'air_conditioning hose']\n",
      "['air_conditioning']\n",
      "['thermostat']\n",
      "['shd' 'scope' 'part' 'scope shd']\n"
     ]
    },
    {
     "name": "stderr",
     "output_type": "stream",
     "text": [
      "\r",
      " 98%|█████████▊| 5399/5485 [04:48<00:04, 18.72it/s]"
     ]
    },
    {
     "name": "stdout",
     "output_type": "stream",
     "text": [
      "['belt']\n",
      "['shd']\n",
      "['right_hand' 'compressor' 'compressor right_hand']\n",
      "['fitting' 'gas']\n",
      "['engine' 'right_hand' 'scope' 'gas' 'right_hand_engine' 'scope gas']\n"
     ]
    },
    {
     "name": "stderr",
     "output_type": "stream",
     "text": [
      " 99%|█████████▊| 5405/5485 [04:48<00:04, 18.72it/s]"
     ]
    },
    {
     "name": "stdout",
     "output_type": "stream",
     "text": [
      "['shd' 'air_conditioning']\n",
      "['valve' 'rear' 'heater' 'heater valve' 'rear heater']\n",
      "['thermostat']\n",
      "['motor' 'cab' 'pressuriser' 'pressuriser_motor' 'cab_pressuriser']\n",
      "['air' 'belt' 'guard' 'air_conditioner']\n"
     ]
    },
    {
     "name": "stderr",
     "output_type": "stream",
     "text": [
      "\r",
      " 99%|█████████▊| 5408/5485 [04:48<00:04, 18.72it/s]"
     ]
    },
    {
     "name": "stdout",
     "output_type": "stream",
     "text": [
      "['shd' 'air' 'left' 'shd left']\n"
     ]
    },
    {
     "name": "stderr",
     "output_type": "stream",
     "text": [
      " 99%|█████████▊| 5416/5485 [04:49<00:03, 18.70it/s]"
     ]
    },
    {
     "name": "stdout",
     "output_type": "stream",
     "text": [
      "['unit']\n",
      "['engine' 'hose' 'left_hand' 'left_hand_engine' 'hose left_hand']\n",
      "['left_hand']\n",
      "['right_hand' 'heater']\n",
      "['text' 'heater' 'unit' 'air_conditioning' 'unit heater'\n",
      " 'air_conditioning unit']\n",
      "['text' 'heater' 'unit' 'unit text']\n",
      "['air' 'valve' 'heater' 'hot_air' 'heater valve' 'air heater']\n",
      "['box' 'rear' 'cover' 'box cover']\n",
      "['shd']\n"
     ]
    },
    {
     "name": "stderr",
     "output_type": "stream",
     "text": [
      " 99%|█████████▉| 5425/5485 [04:49<00:03, 18.72it/s]"
     ]
    },
    {
     "name": "stdout",
     "output_type": "stream",
     "text": [
      "['cab' 'drain']\n",
      "['air' 'air_conditioning' 'hot_air']\n",
      "['solenoid']\n",
      "['valve' 'heater' 'heater valve']\n",
      "['shd' 'water']\n",
      "['engine' 'left_hand' 'compressor' 'left_hand_engine' 'engine compressor']\n",
      "['hyd' 'cooler' 'hyd_cooler']\n"
     ]
    },
    {
     "name": "stderr",
     "output_type": "stream",
     "text": [
      "\r",
      " 99%|█████████▉| 5428/5485 [04:49<00:03, 18.72it/s]"
     ]
    },
    {
     "name": "stdout",
     "output_type": "stream",
     "text": [
      "['left_hand' 'compressor' 'left_hand compressor']\n",
      "['air_conditioning']\n",
      "['engine' 'left_hand' 'compressor' 'air_conditioning' 'left_hand_engine'\n",
      " 'air_conditioning compressor' 'engine air_conditioning']\n",
      "['engine' 'left' 'compressor' 'gas' 'left_engine' 'engine gas'\n",
      " 'compressor left']\n",
      "['oil' 'line' 'thermostat' 'sleeve' 'sleeve thermostat' 'thermostat line']\n"
     ]
    },
    {
     "name": "stderr",
     "output_type": "stream",
     "text": [
      " 99%|█████████▉| 5434/5485 [04:50<00:02, 18.72it/s]"
     ]
    },
    {
     "name": "stdout",
     "output_type": "stream",
     "text": [
      "['window' 'latch' 'vent' 'window_latch']\n",
      "['engine' 'hose' 'right_hand' 'thermostat' 'right_hand_engine'\n",
      " 'engine thermostat' 'thermostat hose']\n",
      "['engine' 'right_hand' 'belt' 'guard' 'right_hand_engine' 'belt_guard'\n",
      " 'engine belt']\n",
      "['left_hand']\n"
     ]
    },
    {
     "name": "stderr",
     "output_type": "stream",
     "text": [
      " 99%|█████████▉| 5440/5485 [04:50<00:02, 18.72it/s]"
     ]
    },
    {
     "name": "stdout",
     "output_type": "stream",
     "text": [
      "['right_hand']\n",
      "['right_hand']\n",
      "['left_hand']\n",
      "['air_conditioning']\n",
      "['rf']\n"
     ]
    },
    {
     "name": "stderr",
     "output_type": "stream",
     "text": [
      "\r",
      " 99%|█████████▉| 5443/5485 [04:50<00:02, 18.72it/s]"
     ]
    },
    {
     "name": "stdout",
     "output_type": "stream",
     "text": [
      "['filter' 'rf' 'operator']\n",
      "['fan' 'rf' 'pressuriser' 'pressuriser_fan']\n",
      "['filter' 'rf']\n",
      "['rf' 'thermostat']\n",
      "['rear' 'unit']\n"
     ]
    },
    {
     "name": "stderr",
     "output_type": "stream",
     "text": [
      " 99%|█████████▉| 5449/5485 [04:51<00:01, 18.72it/s]"
     ]
    },
    {
     "name": "stdout",
     "output_type": "stream",
     "text": [
      "['air' 'rf' 'air_conditioner']\n",
      "['engine' 'rf' 'belt' 'belt_engine']\n",
      "['rf' 'belt']\n",
      "['rf' 'pressuriser']\n",
      "['fan' 'exhaust' 'cabin' 'exhaust fan' 'cabin exhaust']\n"
     ]
    },
    {
     "name": "stderr",
     "output_type": "stream",
     "text": [
      "\r",
      " 99%|█████████▉| 5452/5485 [04:51<00:01, 18.72it/s]"
     ]
    },
    {
     "name": "stdout",
     "output_type": "stream",
     "text": [
      "['air' 'bracket' 'air bracket']\n",
      "['rf' 'pressuriser']\n"
     ]
    },
    {
     "name": "stderr",
     "output_type": "stream",
     "text": [
      "100%|█████████▉| 5460/5485 [04:51<00:01, 18.71it/s]"
     ]
    },
    {
     "name": "stdout",
     "output_type": "stream",
     "text": [
      "['rf']\n",
      "['motor' 'rf']\n",
      "['filter' 'conditioner' 'conditioner filter']\n",
      "['fan' 'rf' 'rf fan']\n",
      "['rf']\n",
      "['rf']\n",
      "['rf' 'access' 'compressor' 'port' 'access port' 'compressor access']\n",
      "['cab' 'rf']\n",
      "['rf' 'belt']\n"
     ]
    },
    {
     "name": "stderr",
     "output_type": "stream",
     "text": [
      "100%|█████████▉| 5468/5485 [04:52<00:00, 18.72it/s]"
     ]
    },
    {
     "name": "stdout",
     "output_type": "stream",
     "text": [
      "['rf']\n",
      "['motor' 'rf' 'pressuriser' 'pressuriser_motor']\n",
      "['thermostat']\n",
      "['rf' 'belt']\n",
      "['air_conditioning']\n",
      "['air' 'belt']\n",
      "['left_hand' 'air' 'compressor' 'air_conditioner' 'left_hand_air']\n"
     ]
    },
    {
     "name": "stderr",
     "output_type": "stream",
     "text": [
      "\r",
      "100%|█████████▉| 5472/5485 [04:52<00:00, 18.72it/s]"
     ]
    },
    {
     "name": "stdout",
     "output_type": "stream",
     "text": [
      "['rf']\n",
      "['air']\n",
      "['air']\n",
      "['rf']\n"
     ]
    },
    {
     "name": "stderr",
     "output_type": "stream",
     "text": [
      "\r",
      "100%|█████████▉| 5475/5485 [04:52<00:00, 18.72it/s]"
     ]
    },
    {
     "name": "stdout",
     "output_type": "stream",
     "text": [
      "['rf' 'drier']\n",
      "['rf']\n",
      "['heater']\n",
      "['rf' 'compressor']\n"
     ]
    },
    {
     "name": "stderr",
     "output_type": "stream",
     "text": [
      "\r",
      "100%|█████████▉| 5478/5485 [04:52<00:00, 18.72it/s]"
     ]
    },
    {
     "name": "stdout",
     "output_type": "stream",
     "text": [
      "['rf']\n",
      "['air']\n",
      "['rf' 'wire' 'unit' 'rf wire']\n",
      "['rf']\n"
     ]
    },
    {
     "name": "stderr",
     "output_type": "stream",
     "text": [
      "100%|██████████| 5485/5485 [04:52<00:00, 18.72it/s]"
     ]
    },
    {
     "name": "stdout",
     "output_type": "stream",
     "text": [
      "['rf' 'unit']\n",
      "['pump' 'water' 'thermostat' 'water_pump' 'pump thermostat']\n",
      "['air']\n",
      "['heating']\n",
      "['rf' 'wire' 'rf wire']\n"
     ]
    },
    {
     "name": "stderr",
     "output_type": "stream",
     "text": [
      "\n"
     ]
    }
   ],
   "source": [
    "done = graphDatabase_from_binnaryCSV(database, dataframe, dataframe_bincsv, dataframe_binNcsv, csvSchemas_dict)"
   ]
  },
  {
   "cell_type": "markdown",
   "metadata": {},
   "source": [
    "# KPI"
   ]
  },
  {
   "cell_type": "markdown",
   "metadata": {},
   "source": [
    "## Create the object for the KPI"
   ]
  },
  {
   "cell_type": "code",
   "execution_count": null,
   "metadata": {},
   "outputs": [],
   "source": [
    "%load_ext autoreload\n",
    "%autoreload 2\n",
    "\n",
    "import sys\n",
    "import os\n",
    "import inspect\n",
    "import getpass\n",
    "\n",
    "import pandas as pd\n",
    "import matplotlib.pyplot as plt\n",
    "\n",
    "\n",
    "project_path = os.path.abspath( os.path.dirname(os.path.abspath(inspect.getfile(inspect.currentframe()))) + \"/../\" )\n",
    "sys.path.insert(0, project_path)\n",
    "print(project_path)\n",
    "\n",
    "from database_storage.helper import *\n",
    "\n",
    "from database_storage.database.database import *\n",
    "from database_storage.main import *\n",
    "\n",
    "from database_storage.objects.human import *\n",
    "from database_storage.objects.issue import *\n",
    "from database_storage.objects.kpi import *\n",
    "from database_storage.objects.machine import *\n",
    "from database_storage.objects.tag import *\n",
    "from database_storage.objects.maintenanceworkorder import *\n",
    "\n",
    "databaseSchema_file = os.path.join(project_path ,'database_storage','database', 'DatabaseSchema.yaml')\n",
    "databaseSchema_dict = openYAMLFile(databaseSchema_file)"
   ]
  },
  {
   "cell_type": "code",
   "execution_count": null,
   "metadata": {
    "scrolled": false
   },
   "outputs": [],
   "source": [
    "m = MachineKpi(operator=\"=\", name = \"h1\", databaseInfo=databaseSchema_dict)\n",
    "t = TechnicianKpi(operator=\".-\", name=\"steve\", result=\"name\", databaseInfo=databaseSchema_dict)\n",
    "i = TagItemKpi(operator=\"<>\", keyword=\"valve\", result=\"keyword\", databaseInfo=databaseSchema_dict)"
   ]
  },
  {
   "cell_type": "code",
   "execution_count": null,
   "metadata": {},
   "outputs": [],
   "source": [
    "kpi = m+t+i\n",
    "print(kpi.cypher_createQuery())"
   ]
  },
  {
   "cell_type": "code",
   "execution_count": null,
   "metadata": {},
   "outputs": [],
   "source": [
    "done, filterResult = database.runQuery(kpi.cypher_createQuery())\n",
    "\n",
    "dataframe = resultToObservationDataframe(filterResult)\n",
    "dataframe"
   ]
  },
  {
   "cell_type": "code",
   "execution_count": null,
   "metadata": {},
   "outputs": [],
   "source": [
    "dataframe_bincsv"
   ]
  },
  {
   "cell_type": "code",
   "execution_count": null,
   "metadata": {},
   "outputs": [],
   "source": []
  }
 ],
 "metadata": {
  "kernelspec": {
   "display_name": "Python 3",
   "language": "python",
   "name": "python3"
  },
  "language_info": {
   "codemirror_mode": {
    "name": "ipython",
    "version": 3
   },
   "file_extension": ".py",
   "mimetype": "text/x-python",
   "name": "python",
   "nbconvert_exporter": "python",
   "pygments_lexer": "ipython3",
   "version": "3.6.5"
  }
 },
 "nbformat": 4,
 "nbformat_minor": 2
}

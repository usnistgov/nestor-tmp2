{
 "cells": [
  {
   "cell_type": "code",
   "execution_count": 1,
   "metadata": {
    "hide_input": true
   },
   "outputs": [],
   "source": [
    "## For debbugging\n",
    "%load_ext autoreload"
   ]
  },
  {
   "cell_type": "code",
   "execution_count": 2,
   "metadata": {
    "hide_input": true
   },
   "outputs": [],
   "source": [
    "# import os\n",
    "import sys\n",
    "from pathlib import Path\n",
    "module_path = Path('.').resolve().parents[1]\n",
    "if module_path not in sys.path:\n",
    "    sys.path.append(str(module_path))\n"
   ]
  },
  {
   "cell_type": "code",
   "execution_count": 3,
   "metadata": {
    "hide_input": true
   },
   "outputs": [],
   "source": [
    "## for debugging:\n",
    "# %aimport mlp.keyword\n",
    "# %aimport mlp.tools\n",
    "%aimport mlp.kex\n",
    "%aimport app.test_app\n",
    "# %aimport mlp.tree\n",
    "%autoreload 1\n",
    "from mlp.kex import *\n"
   ]
  },
  {
   "cell_type": "code",
   "execution_count": 4,
   "metadata": {
    "hide_input": true,
    "scrolled": true
   },
   "outputs": [],
   "source": [
    "import numpy as np\n",
    "import pandas as pd\n",
    "import seaborn as sns\n",
    "import re\n",
    "import matplotlib.pyplot as plt\n",
    "from tqdm import tqdm_notebook, tqdm\n",
    "%matplotlib inline"
   ]
  },
  {
   "cell_type": "code",
   "execution_count": 5,
   "metadata": {
    "hide_input": true
   },
   "outputs": [],
   "source": [
    "%gui qt\n",
    "import PyQt5.QtWidgets as qw\n",
    "from app.test_app import MyWindow\n",
    "from PyQt5 import QtCore\n",
    "\n"
   ]
  },
  {
   "cell_type": "code",
   "execution_count": 6,
   "metadata": {
    "hide_input": true
   },
   "outputs": [],
   "source": [
    "import dask.dataframe as dd\n",
    "import dask\n",
    "import string\n",
    "from fuzzywuzzy import process as zz"
   ]
  },
  {
   "cell_type": "code",
   "execution_count": 9,
   "metadata": {},
   "outputs": [],
   "source": [
    "data_dir = module_path/'data'/'auto_data'\n",
    "\n",
    "df = dd.read_csv(data_dir/'auto_data.csv',\n",
    "                 dtype={'JPNUM': 'object'})\n",
    "\n",
    "\n",
    "nlp_select = NLPSelect(columns = ['DESCRIPTION', 'DESCRIPTION_1'])\n",
    "\n",
    "raw_text = nlp_select.transform(df)"
   ]
  },
  {
   "cell_type": "markdown",
   "metadata": {},
   "source": [
    "### Build Vocab "
   ]
  },
  {
   "cell_type": "code",
   "execution_count": 10,
   "metadata": {},
   "outputs": [
    {
     "name": "stdout",
     "output_type": "stream",
     "text": [
      "['mod' 'op' 'completed' ... 'supplier' 'req' 'pipefitters']\n"
     ]
    }
   ],
   "source": [
    "tex = TokenExtractor()\n",
    "toks = tex.fit_transform(raw_text)\n",
    "print(tex.vocab_)"
   ]
  },
  {
   "cell_type": "code",
   "execution_count": 28,
   "metadata": {},
   "outputs": [],
   "source": [
    "vocab_fname = data_dir/'vocab.csv'\n",
    "# vocab_fname = data_dir/'mine_vocab_app.csv'\n",
    "\n",
    "vocab = tex.annotation_assistant(filename=vocab_fname)"
   ]
  },
  {
   "cell_type": "code",
   "execution_count": 29,
   "metadata": {},
   "outputs": [],
   "source": [
    "if __name__ == '__main__':\n",
    "\n",
    "    app = QtCore.QCoreApplication.instance()\n",
    "    if app is None:\n",
    "        app = app = qw.QApplication(sys.argv)\n",
    "\n",
    "    window = MyWindow(vocab_filename=vocab_fname)\n",
    "    window.show()\n",
    "\n",
    "    app.exec_()"
   ]
  },
  {
   "cell_type": "code",
   "execution_count": 30,
   "metadata": {},
   "outputs": [],
   "source": [
    "vocab = tex.annotation_assistant(init=vocab_fname)"
   ]
  },
  {
   "cell_type": "markdown",
   "metadata": {},
   "source": [
    "### Extract Keywords"
   ]
  },
  {
   "cell_type": "code",
   "execution_count": 31,
   "metadata": {},
   "outputs": [
    {
     "name": "stdout",
     "output_type": "stream",
     "text": [
      "named entities: \n",
      "I\tItem\n",
      "P\tProblem\n",
      "S\tSolution\n",
      "R\tRedundant\n",
      "U\tUnknown\n",
      "X\tStop Word\n",
      "total tokens:  35\n",
      "total tags:  10\n"
     ]
    },
    {
     "data": {
      "text/html": [
       "<div>\n",
       "<style scoped>\n",
       "    .dataframe tbody tr th:only-of-type {\n",
       "        vertical-align: middle;\n",
       "    }\n",
       "\n",
       "    .dataframe tbody tr th {\n",
       "        vertical-align: top;\n",
       "    }\n",
       "\n",
       "    .dataframe thead th {\n",
       "        text-align: right;\n",
       "    }\n",
       "</style>\n",
       "<table border=\"1\" class=\"dataframe\">\n",
       "  <thead>\n",
       "    <tr style=\"text-align: right;\">\n",
       "      <th></th>\n",
       "      <th>NE</th>\n",
       "      <th>alias</th>\n",
       "      <th>notes</th>\n",
       "      <th>score</th>\n",
       "    </tr>\n",
       "    <tr>\n",
       "      <th>NE</th>\n",
       "      <th></th>\n",
       "      <th></th>\n",
       "      <th></th>\n",
       "      <th></th>\n",
       "    </tr>\n",
       "  </thead>\n",
       "  <tbody>\n",
       "    <tr>\n",
       "      <th>I</th>\n",
       "      <td>1</td>\n",
       "      <td>7</td>\n",
       "      <td>3</td>\n",
       "      <td>23</td>\n",
       "    </tr>\n",
       "    <tr>\n",
       "      <th>P</th>\n",
       "      <td>1</td>\n",
       "      <td>1</td>\n",
       "      <td>0</td>\n",
       "      <td>6</td>\n",
       "    </tr>\n",
       "    <tr>\n",
       "      <th>U</th>\n",
       "      <td>1</td>\n",
       "      <td>1</td>\n",
       "      <td>0</td>\n",
       "      <td>1</td>\n",
       "    </tr>\n",
       "    <tr>\n",
       "      <th>X</th>\n",
       "      <td>1</td>\n",
       "      <td>1</td>\n",
       "      <td>0</td>\n",
       "      <td>5</td>\n",
       "    </tr>\n",
       "  </tbody>\n",
       "</table>\n",
       "</div>"
      ],
      "text/plain": [
       "    NE  alias  notes  score\n",
       "NE                         \n",
       "I    1      7      3     23\n",
       "P    1      1      0      6\n",
       "U    1      1      0      1\n",
       "X    1      1      0      5"
      ]
     },
     "execution_count": 31,
     "metadata": {},
     "output_type": "execute_result"
    }
   ],
   "source": [
    "\n",
    "# vocab = pd.read_csv(data_dir/'app_vocab_mike.csv', index_col=0)\n",
    "# how many instances of each keyword class are there?\n",
    "print('named entities: ')\n",
    "print('I\\tItem\\nP\\tProblem\\nS\\tSolution\\nR\\tRedundant')\n",
    "print('U\\tUnknown\\nX\\tStop Word')\n",
    "print('total tokens: ', vocab.NE.notna().sum())\n",
    "print('total tags: ', vocab.groupby(\"NE\").nunique().alias.sum())\n",
    "vocab.groupby(\"NE\").nunique()"
   ]
  },
  {
   "cell_type": "code",
   "execution_count": 33,
   "metadata": {},
   "outputs": [],
   "source": [
    "# # vocab.loc['replaced',:]\n",
    "# tag_df = pd.DataFrame(index=range(len(raw_text)))\n",
    "\n",
    "tag_set = pd.DataFrame(index=range(len(raw_text)))\n",
    "tag_df = pd.DataFrame(index=range(len(raw_text)))\n",
    "for clf, queries in tqdm_notebook(vocab.fillna({'NE':'NA', \n",
    "                                                'alias':vocab.index.to_series()}).groupby('NE').alias.unique().iteritems(), \n",
    "                                  desc='Category Loop', total=vocab.NE.nunique()):\n",
    "    clf_df = pd.DataFrame(index=range(len(raw_text)))\n",
    "    for query in tqdm_notebook(queries, desc='token loop', leave=True):\n",
    "    #     query = 'hydraulic'\n",
    "    #     vocab[vocab.alias==query].index.tolist()\n",
    "        query_idx = [tex._model.vocabulary_[i] for i in vocab[vocab.alias==query].index.tolist()]\n",
    "        match = ((toks[:,query_idx]).toarray() > 0).any(axis=1).astype(int)\n",
    "        clf_df[query] = match\n",
    "        tag_df[query] = match\n",
    "\n",
    "    \n",
    "    tag_set[clf] = clf_df.apply(lambda x: ', '.join(x[x==1].index.astype(str)), axis=1)\n",
    "# vocab.groupby('NE').alias.unique()"
   ]
  }
 ],
 "metadata": {
  "kernelspec": {
   "display_name": "Python 3",
   "language": "python",
   "name": "python3"
  },
  "language_info": {
   "codemirror_mode": {
    "name": "ipython",
    "version": 3
   },
   "file_extension": ".py",
   "mimetype": "text/x-python",
   "name": "python",
   "nbconvert_exporter": "python",
   "pygments_lexer": "ipython3",
   "version": "3.6.5"
  },
  "varInspector": {
   "cols": {
    "lenName": 16,
    "lenType": 16,
    "lenVar": 40
   },
   "kernels_config": {
    "python": {
     "delete_cmd_postfix": "",
     "delete_cmd_prefix": "del ",
     "library": "var_list.py",
     "varRefreshCmd": "print(var_dic_list())"
    },
    "r": {
     "delete_cmd_postfix": ") ",
     "delete_cmd_prefix": "rm(",
     "library": "var_list.r",
     "varRefreshCmd": "cat(var_dic_list()) "
    }
   },
   "types_to_exclude": [
    "module",
    "function",
    "builtin_function_or_method",
    "instance",
    "_Feature"
   ],
   "window_display": false
  }
 },
 "nbformat": 4,
 "nbformat_minor": 2
}

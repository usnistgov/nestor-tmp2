{
 "cells": [
  {
   "cell_type": "code",
   "execution_count": 1,
   "metadata": {},
   "outputs": [],
   "source": [
    "## For debbugging\n",
    "%load_ext autoreload\n",
    "\n",
    "import os\n",
    "import sys\n",
    "module_path = os.path.abspath(os.path.join('..'))\n",
    "if module_path not in sys.path:\n",
    "    sys.path.append(module_path)"
   ]
  },
  {
   "cell_type": "code",
   "execution_count": 2,
   "metadata": {},
   "outputs": [],
   "source": [
    "## for debugging:\n",
    "%aimport mlp.keyword\n",
    "%aimport mlp.tools\n",
    "%aimport mlp.tree\n",
    "%autoreload 1\n",
    "from mlp.keyword import *"
   ]
  },
  {
   "cell_type": "code",
   "execution_count": 3,
   "metadata": {},
   "outputs": [
    {
     "name": "stdout",
     "output_type": "stream",
     "text": [
      "Textacy: \t0.4.1\n",
      "spaCy: \t        1.9.0\n",
      "Python: \t3.6.3\n"
     ]
    }
   ],
   "source": [
    "import numpy as np\n",
    "import pandas as pd\n",
    "import seaborn as sns\n",
    "import matplotlib.pyplot as plt\n",
    "from tqdm import tqdm_notebook\n",
    "%matplotlib inline\n",
    "\n",
    "import spacy, textacy, platform\n",
    "print(\n",
    "    f'Textacy: \\t{textacy.__version__:}'+\\\n",
    "    f'\\nspaCy: \\t{spacy.__version__:>13}'+\\\n",
    "    f'\\nPython: \\t{platform.python_version()}'\n",
    "    )"
   ]
  },
  {
   "cell_type": "code",
   "execution_count": 4,
   "metadata": {},
   "outputs": [
    {
     "name": "stderr",
     "output_type": "stream",
     "text": [
      "452it [00:00, 4514.19it/s]"
     ]
    },
    {
     "name": "stdout",
     "output_type": "stream",
     "text": [
      "making new file...\n"
     ]
    },
    {
     "name": "stderr",
     "output_type": "stream",
     "text": [
      "3435it [00:00, 5647.46it/s]\n"
     ]
    },
    {
     "name": "stdout",
     "output_type": "stream",
     "text": [
      "Replacing NaN\n",
      "Replacing NaN\n",
      "Replacing NaN\n",
      "Replacing NaN\n"
     ]
    }
   ],
   "source": [
    "data_directory = os.path.join(module_path,'./data', 'gs_data')\n",
    "nl_col = {\n",
    "    \"Description\": 5,\n",
    "    \"Resolution\": 6\n",
    "}\n",
    "\n",
    "#TODO\n",
    "# meta_col = {\n",
    "\n",
    "# }\n",
    "\n",
    "kex_gs = KeywordExtractor('Maintenance_All_Clean.xlsx',\n",
    "                       nlp_cols=nl_col,\n",
    "#                       meta_cols = meta_col,\n",
    "                       special_replace={' -': '; '},\n",
    "                       wdir=data_directory,\n",
    "                       keep_temp_files=False\n",
    "                      )"
   ]
  },
  {
   "cell_type": "code",
   "execution_count": 7,
   "metadata": {},
   "outputs": [
    {
     "data": {
      "text/html": [
       "<div>\n",
       "<style scoped>\n",
       "    .dataframe tbody tr th:only-of-type {\n",
       "        vertical-align: middle;\n",
       "    }\n",
       "\n",
       "    .dataframe tbody tr th {\n",
       "        vertical-align: top;\n",
       "    }\n",
       "\n",
       "    .dataframe thead th {\n",
       "        text-align: right;\n",
       "    }\n",
       "</style>\n",
       "<table border=\"1\" class=\"dataframe\">\n",
       "  <thead>\n",
       "    <tr style=\"text-align: right;\">\n",
       "      <th></th>\n",
       "      <th>NE</th>\n",
       "      <th>alias</th>\n",
       "      <th>note</th>\n",
       "    </tr>\n",
       "    <tr>\n",
       "      <th>token</th>\n",
       "      <th></th>\n",
       "      <th></th>\n",
       "      <th></th>\n",
       "    </tr>\n",
       "  </thead>\n",
       "  <tbody>\n",
       "    <tr>\n",
       "      <th>replace</th>\n",
       "      <td>S</td>\n",
       "      <td>replace</td>\n",
       "      <td>NaN</td>\n",
       "    </tr>\n",
       "    <tr>\n",
       "      <th>unit</th>\n",
       "      <td>I</td>\n",
       "      <td>unit</td>\n",
       "      <td>NaN</td>\n",
       "    </tr>\n",
       "    <tr>\n",
       "      <th>motor</th>\n",
       "      <td>I</td>\n",
       "      <td>motor</td>\n",
       "      <td>NaN</td>\n",
       "    </tr>\n",
       "    <tr>\n",
       "      <th>spindle</th>\n",
       "      <td>I</td>\n",
       "      <td>spindle</td>\n",
       "      <td>NaN</td>\n",
       "    </tr>\n",
       "    <tr>\n",
       "      <th>leak</th>\n",
       "      <td>P</td>\n",
       "      <td>leak</td>\n",
       "      <td>NaN</td>\n",
       "    </tr>\n",
       "    <tr>\n",
       "      <th>valve</th>\n",
       "      <td>I</td>\n",
       "      <td>valve</td>\n",
       "      <td>NaN</td>\n",
       "    </tr>\n",
       "    <tr>\n",
       "      <th>replaced</th>\n",
       "      <td>S</td>\n",
       "      <td>replace</td>\n",
       "      <td>NaN</td>\n",
       "    </tr>\n",
       "  </tbody>\n",
       "</table>\n",
       "</div>"
      ],
      "text/plain": [
       "         NE    alias note\n",
       "token                    \n",
       "replace   S  replace  NaN\n",
       "unit      I     unit  NaN\n",
       "motor     I    motor  NaN\n",
       "spindle   I  spindle  NaN\n",
       "leak      P     leak  NaN\n",
       "valve     I    valve  NaN\n",
       "replaced  S  replace  NaN"
      ]
     },
     "execution_count": 7,
     "metadata": {},
     "output_type": "execute_result"
    }
   ],
   "source": [
    "kex_gs.fit(vocab='tag_vocab.csv')\n",
    "kex_gs.vocab.head(n=7)"
   ]
  },
  {
   "cell_type": "code",
   "execution_count": null,
   "metadata": {},
   "outputs": [],
   "source": [
    "s=set(kex_gs.vocab.index.tolist())\n",
    "# tok = kex_gs.df.RawText.str.split(r'[^\\w]+')"
   ]
  },
  {
   "cell_type": "code",
   "execution_count": 48,
   "metadata": {},
   "outputs": [
    {
     "name": "stdout",
     "output_type": "stream",
     "text": [
      "13.6 ms ± 278 µs per loop (mean ± std. dev. of 7 runs, 100 loops each)\n"
     ]
    }
   ],
   "source": [
    "%%timeit\n",
    "tok = kex_gs.df.RawText.str.split()\n",
    "tok = tok.apply(lambda d: d if isinstance(d, list) else [])\n",
    "tok.apply(lambda x: list(s.intersection(x)))"
   ]
  },
  {
   "cell_type": "code",
   "execution_count": 44,
   "metadata": {},
   "outputs": [],
   "source": [
    "import dask.dataframe as dd\n",
    "\n",
    "ddf = dd.from_pandas(kex_gs.df, npartitions=5)"
   ]
  },
  {
   "cell_type": "code",
   "execution_count": 47,
   "metadata": {},
   "outputs": [
    {
     "name": "stderr",
     "output_type": "stream",
     "text": [
      "/home/tbsexton/anaconda3/lib/python3.6/site-packages/dask/dataframe/core.py:1979: UserWarning: `meta` is not specified, inferred from partial data. Please provide `meta` if the result is unexpected.\n",
      "  Before: .apply(func)\n",
      "  After:  .apply(func, meta={'x': 'f8', 'y': 'f8'}) for dataframe result\n",
      "  or:     .apply(func, meta=('x', 'f8'))            for series result\n",
      "  warnings.warn(msg)\n"
     ]
    },
    {
     "name": "stdout",
     "output_type": "stream",
     "text": [
      "48 ms ± 1.8 ms per loop (mean ± std. dev. of 7 runs, 10 loops each)\n"
     ]
    }
   ],
   "source": [
    "%%timeit\n",
    "tokd = ddf.RawText.str.split()\n",
    "tokd = tokd.apply(lambda d: d if isinstance(d, list) else [])\n",
    "tags = tokd.apply(lambda x: list(s.intersection(x)))\n",
    "\n",
    "tags.compute()"
   ]
  },
  {
   "cell_type": "markdown",
   "metadata": {},
   "source": [
    "## Mining Data"
   ]
  },
  {
   "cell_type": "code",
   "execution_count": 49,
   "metadata": {
    "scrolled": true
   },
   "outputs": [
    {
     "name": "stdout",
     "output_type": "stream",
     "text": [
      "Unsupported format, or corrupt file: Expected BOF record; found b'\"WOType\"' ... did not find .xlsx file, attempting .csv ...\n"
     ]
    },
    {
     "name": "stderr",
     "output_type": "stream",
     "text": [
      "1403it [00:00, 14028.21it/s]"
     ]
    },
    {
     "name": "stdout",
     "output_type": "stream",
     "text": [
      "making new file...\n"
     ]
    },
    {
     "name": "stderr",
     "output_type": "stream",
     "text": [
      "21335it [00:02, 8307.28it/s] "
     ]
    },
    {
     "name": "stdout",
     "output_type": "stream",
     "text": [
      "Replacing NaN\n"
     ]
    },
    {
     "name": "stderr",
     "output_type": "stream",
     "text": [
      "31076it [00:03, 8278.66it/s]"
     ]
    },
    {
     "name": "stdout",
     "output_type": "stream",
     "text": [
      "Replacing NaN\n",
      "Replacing NaN\n"
     ]
    },
    {
     "name": "stderr",
     "output_type": "stream",
     "text": [
      "40000it [00:04, 8028.22it/s]"
     ]
    },
    {
     "name": "stdout",
     "output_type": "stream",
     "text": [
      "Replacing NaN\n",
      "Replacing NaN\n"
     ]
    },
    {
     "name": "stderr",
     "output_type": "stream",
     "text": [
      "51846it [00:06, 8103.09it/s]"
     ]
    },
    {
     "name": "stdout",
     "output_type": "stream",
     "text": [
      "Replacing NaN\n"
     ]
    },
    {
     "name": "stderr",
     "output_type": "stream",
     "text": [
      "58749it [00:06, 8639.34it/s]"
     ]
    },
    {
     "name": "stdout",
     "output_type": "stream",
     "text": [
      "Replacing NaN\n"
     ]
    },
    {
     "name": "stderr",
     "output_type": "stream",
     "text": [
      "81366it [00:09, 8192.53it/s]"
     ]
    },
    {
     "name": "stdout",
     "output_type": "stream",
     "text": [
      "Replacing NaN\n"
     ]
    },
    {
     "name": "stderr",
     "output_type": "stream",
     "text": [
      "89885it [00:10, 8411.00it/s]"
     ]
    },
    {
     "name": "stdout",
     "output_type": "stream",
     "text": [
      "Replacing NaN\n"
     ]
    },
    {
     "name": "stderr",
     "output_type": "stream",
     "text": [
      "100405it [00:12, 8049.68it/s]"
     ]
    },
    {
     "name": "stdout",
     "output_type": "stream",
     "text": [
      "Replacing NaN\n",
      "Replacing NaN\n",
      "Replacing NaN\n"
     ]
    },
    {
     "name": "stderr",
     "output_type": "stream",
     "text": [
      "151692it [00:18, 8289.96it/s]"
     ]
    },
    {
     "name": "stdout",
     "output_type": "stream",
     "text": [
      "Replacing NaN\n"
     ]
    },
    {
     "name": "stderr",
     "output_type": "stream",
     "text": [
      "159972it [00:18, 8419.65it/s]"
     ]
    },
    {
     "name": "stdout",
     "output_type": "stream",
     "text": [
      "Replacing NaN\n",
      "Replacing NaN\n",
      "Replacing NaN\n",
      "Replacing NaN\n",
      "Replacing NaN\n",
      "Replacing NaN\n",
      "Replacing NaN\n"
     ]
    },
    {
     "name": "stderr",
     "output_type": "stream",
     "text": [
      "172275it [00:20, 8323.11it/s]"
     ]
    },
    {
     "name": "stdout",
     "output_type": "stream",
     "text": [
      "Replacing NaN\n",
      "Replacing NaN\n",
      "Replacing NaN\n",
      "Replacing NaN\n"
     ]
    },
    {
     "name": "stderr",
     "output_type": "stream",
     "text": [
      "182051it [00:21, 8277.18it/s]"
     ]
    },
    {
     "name": "stdout",
     "output_type": "stream",
     "text": [
      "Replacing NaN\n",
      "Replacing NaN\n",
      "Replacing NaN\n"
     ]
    },
    {
     "name": "stderr",
     "output_type": "stream",
     "text": [
      "189499it [00:22, 8377.29it/s]"
     ]
    },
    {
     "name": "stdout",
     "output_type": "stream",
     "text": [
      "Replacing NaN\n",
      "Replacing NaN\n"
     ]
    },
    {
     "name": "stderr",
     "output_type": "stream",
     "text": [
      "200000it [00:24, 8209.72it/s]"
     ]
    },
    {
     "name": "stdout",
     "output_type": "stream",
     "text": [
      "Replacing NaN\n"
     ]
    },
    {
     "name": "stderr",
     "output_type": "stream",
     "text": [
      "210000it [00:25, 8258.64it/s]"
     ]
    },
    {
     "name": "stdout",
     "output_type": "stream",
     "text": [
      "Replacing NaN\n",
      "Replacing NaN\n"
     ]
    },
    {
     "name": "stderr",
     "output_type": "stream",
     "text": [
      "240781it [00:29, 8144.22it/s]"
     ]
    },
    {
     "name": "stdout",
     "output_type": "stream",
     "text": [
      "Replacing NaN\n"
     ]
    },
    {
     "name": "stderr",
     "output_type": "stream",
     "text": [
      "250195it [00:30, 8123.49it/s]"
     ]
    },
    {
     "name": "stdout",
     "output_type": "stream",
     "text": [
      "Replacing NaN\n",
      "Replacing NaN\n"
     ]
    },
    {
     "name": "stderr",
     "output_type": "stream",
     "text": [
      "268589it [00:32, 8159.26it/s]"
     ]
    },
    {
     "name": "stdout",
     "output_type": "stream",
     "text": [
      "Replacing NaN\n",
      "Replacing NaN\n",
      "Replacing"
     ]
    },
    {
     "name": "stderr",
     "output_type": "stream",
     "text": [
      "300000it [00:37, 8087.66it/s]"
     ]
    },
    {
     "name": "stdout",
     "output_type": "stream",
     "text": [
      " NaN\n",
      "Replacing NaN\n",
      "Replacing NaN\n",
      "Replacing NaN\n"
     ]
    },
    {
     "name": "stderr",
     "output_type": "stream",
     "text": [
      "309421it [00:37, 8154.67it/s]"
     ]
    },
    {
     "name": "stdout",
     "output_type": "stream",
     "text": [
      "Replacing NaN\n"
     ]
    },
    {
     "name": "stderr",
     "output_type": "stream",
     "text": [
      "321279it [00:39, 8042.16it/s]"
     ]
    },
    {
     "name": "stdout",
     "output_type": "stream",
     "text": [
      "Replacing NaN\n",
      "Replacing NaN\n",
      "Replacing NaN\n"
     ]
    },
    {
     "name": "stderr",
     "output_type": "stream",
     "text": [
      "329604it [00:40, 8110.63it/s]"
     ]
    },
    {
     "name": "stdout",
     "output_type": "stream",
     "text": [
      "Replacing NaN\n"
     ]
    },
    {
     "name": "stderr",
     "output_type": "stream",
     "text": [
      "369335it [00:45, 8107.28it/s]"
     ]
    },
    {
     "name": "stdout",
     "output_type": "stream",
     "text": [
      "Replacing NaN\n"
     ]
    },
    {
     "name": "stderr",
     "output_type": "stream",
     "text": [
      "382013it [00:47, 8074.30it/s]"
     ]
    },
    {
     "name": "stdout",
     "output_type": "stream",
     "text": [
      "Replacing NaN\n",
      "Replacing NaN\n"
     ]
    },
    {
     "name": "stderr",
     "output_type": "stream",
     "text": [
      "391261it [00:48, 8092.71it/s]"
     ]
    },
    {
     "name": "stdout",
     "output_type": "stream",
     "text": [
      "Replacing NaN\n"
     ]
    },
    {
     "name": "stderr",
     "output_type": "stream",
     "text": [
      "409980it [00:50, 8176.15it/s]"
     ]
    },
    {
     "name": "stdout",
     "output_type": "stream",
     "text": [
      "Replacing NaN\n"
     ]
    },
    {
     "name": "stderr",
     "output_type": "stream",
     "text": [
      "420000it [00:51, 8140.37it/s]"
     ]
    },
    {
     "name": "stdout",
     "output_type": "stream",
     "text": [
      "Replacing NaN\n",
      "Replacing NaN\n"
     ]
    },
    {
     "name": "stderr",
     "output_type": "stream",
     "text": [
      "429686it [00:52, 8221.77it/s]"
     ]
    },
    {
     "name": "stdout",
     "output_type": "stream",
     "text": [
      "Replacing NaN\n",
      "Replacing NaN\n"
     ]
    },
    {
     "name": "stderr",
     "output_type": "stream",
     "text": [
      "461268it [00:56, 8176.49it/s]"
     ]
    },
    {
     "name": "stdout",
     "output_type": "stream",
     "text": [
      "Replacing NaN\n"
     ]
    },
    {
     "name": "stderr",
     "output_type": "stream",
     "text": [
      "471997it [00:57, 8204.24it/s]"
     ]
    },
    {
     "name": "stdout",
     "output_type": "stream",
     "text": [
      "Replacing NaN\n"
     ]
    },
    {
     "name": "stderr",
     "output_type": "stream",
     "text": [
      "481189it [00:58, 8180.76it/s]"
     ]
    },
    {
     "name": "stdout",
     "output_type": "stream",
     "text": [
      "Replacing NaN\n",
      "Replacing NaN\n"
     ]
    },
    {
     "name": "stderr",
     "output_type": "stream",
     "text": [
      "489531it [00:59, 8218.61it/s]"
     ]
    },
    {
     "name": "stdout",
     "output_type": "stream",
     "text": [
      "Replacing NaN\n"
     ]
    },
    {
     "name": "stderr",
     "output_type": "stream",
     "text": [
      "500161it [01:01, 8153.72it/s]"
     ]
    },
    {
     "name": "stdout",
     "output_type": "stream",
     "text": [
      "Replacing NaN\n",
      "Replacing NaN\n"
     ]
    },
    {
     "name": "stderr",
     "output_type": "stream",
     "text": [
      "510000it [01:02, 8159.18it/s]"
     ]
    },
    {
     "name": "stdout",
     "output_type": "stream",
     "text": [
      "Replacing NaN\n",
      "Replacing NaN\n"
     ]
    },
    {
     "name": "stderr",
     "output_type": "stream",
     "text": [
      "529757it [01:04, 8196.11it/s]"
     ]
    },
    {
     "name": "stdout",
     "output_type": "stream",
     "text": [
      "Replacing NaN\n"
     ]
    },
    {
     "name": "stderr",
     "output_type": "stream",
     "text": [
      "538749it [01:06, 8162.47it/s]"
     ]
    },
    {
     "name": "stdout",
     "output_type": "stream",
     "text": [
      "Replacing NaN\n",
      "Replacing NaN\n",
      "Replacing "
     ]
    },
    {
     "name": "stderr",
     "output_type": "stream",
     "text": [
      "542683it [01:06, 8105.26it/s]"
     ]
    },
    {
     "name": "stdout",
     "output_type": "stream",
     "text": [
      "NaN\n",
      "Replacing NaN\n",
      "Replacing NaN\n",
      "Replacing NaN\n"
     ]
    },
    {
     "name": "stderr",
     "output_type": "stream",
     "text": [
      "550957it [01:08, 8088.18it/s]"
     ]
    },
    {
     "name": "stdout",
     "output_type": "stream",
     "text": [
      "Replacing NaN\n",
      "Replacing NaN\n",
      "Replacing NaN\n"
     ]
    },
    {
     "name": "stderr",
     "output_type": "stream",
     "text": [
      "560373it [01:09, 8020.82it/s]"
     ]
    },
    {
     "name": "stdout",
     "output_type": "stream",
     "text": [
      "Replacing NaN\n",
      "Replacing NaN\n"
     ]
    },
    {
     "name": "stderr",
     "output_type": "stream",
     "text": [
      "578632it [01:11, 8053.86it/s]"
     ]
    },
    {
     "name": "stdout",
     "output_type": "stream",
     "text": [
      "Replacing NaN\n",
      "Replacing NaN\n"
     ]
    },
    {
     "name": "stderr",
     "output_type": "stream",
     "text": [
      "589084it [01:13, 8020.78it/s]"
     ]
    },
    {
     "name": "stdout",
     "output_type": "stream",
     "text": [
      "Replacing NaN\n",
      "Replacing NaN\n",
      "Replacing NaN\n",
      "Replacing NaN\n"
     ]
    },
    {
     "name": "stderr",
     "output_type": "stream",
     "text": [
      "600658it [01:15, 7963.90it/s]"
     ]
    },
    {
     "name": "stdout",
     "output_type": "stream",
     "text": [
      "Replacing NaN\n",
      "Replacing NaN\n",
      "Replacing NaN\n",
      "Replacing NaN\n"
     ]
    },
    {
     "name": "stderr",
     "output_type": "stream",
     "text": [
      "609491it [01:16, 7999.83it/s]"
     ]
    },
    {
     "name": "stdout",
     "output_type": "stream",
     "text": [
      "Replacing NaN\n",
      "Replacing NaN\n",
      "Replacing NaN\n",
      "Replacing NaN\n"
     ]
    },
    {
     "name": "stderr",
     "output_type": "stream",
     "text": [
      "620913it [01:18, 7927.96it/s]"
     ]
    },
    {
     "name": "stdout",
     "output_type": "stream",
     "text": [
      "Replacing NaN\n",
      "Replacing NaN\n",
      "Replacing NaN\n",
      "Replacing NaN\n"
     ]
    },
    {
     "name": "stderr",
     "output_type": "stream",
     "text": [
      "630737it [01:19, 7884.42it/s]"
     ]
    },
    {
     "name": "stdout",
     "output_type": "stream",
     "text": [
      "Replacing NaN\n",
      "Replacing NaN\n"
     ]
    },
    {
     "name": "stderr",
     "output_type": "stream",
     "text": [
      "639517it [01:20, 7933.80it/s]"
     ]
    },
    {
     "name": "stdout",
     "output_type": "stream",
     "text": [
      "Replacing NaN\n"
     ]
    },
    {
     "name": "stderr",
     "output_type": "stream",
     "text": [
      "652057it [01:22, 7909.14it/s]"
     ]
    },
    {
     "name": "stdout",
     "output_type": "stream",
     "text": [
      "Replacing NaN\n"
     ]
    },
    {
     "name": "stderr",
     "output_type": "stream",
     "text": [
      "659304it [01:23, 7939.68it/s]"
     ]
    },
    {
     "name": "stdout",
     "output_type": "stream",
     "text": [
      "Replacing NaN\n"
     ]
    },
    {
     "name": "stderr",
     "output_type": "stream",
     "text": [
      "670000it [01:25, 7855.79it/s]"
     ]
    },
    {
     "name": "stdout",
     "output_type": "stream",
     "text": [
      "Replacing NaN\n"
     ]
    },
    {
     "name": "stderr",
     "output_type": "stream",
     "text": [
      "679134it [01:25, 7914.40it/s]"
     ]
    },
    {
     "name": "stdout",
     "output_type": "stream",
     "text": [
      "Replacing NaN\n"
     ]
    },
    {
     "name": "stderr",
     "output_type": "stream",
     "text": [
      "690657it [01:27, 7880.14it/s]"
     ]
    },
    {
     "name": "stdout",
     "output_type": "stream",
     "text": [
      "Replacing NaN\n"
     ]
    },
    {
     "name": "stderr",
     "output_type": "stream",
     "text": [
      "696211it [01:28, 7885.64it/s]\n"
     ]
    }
   ],
   "source": [
    "data_directory = os.path.join(module_path, './data', 'mine_data')\n",
    "\n",
    "# nl_col = {\n",
    "#     \"OriginalShorttext\": 2\n",
    "# }\n",
    "# meta_col = {\n",
    "#     \"BscStartDate\":0,\n",
    "#     \"Asset\":1,\n",
    "#     \"PMType\":3,\n",
    "#     \"Cost\":4\n",
    "# }\n",
    "\n",
    "nl_col = {\n",
    "    \"ShortText\": 4\n",
    "}\n",
    "meta_col = {\n",
    "    \"BscStartDate\":2,\n",
    "    \"AssetID\":13\n",
    "}\n",
    "\n",
    "# kex_mine = KeywordExtractor('mine_data.csv',\n",
    "kex_mine = KeywordExtractor('loader_work_orders_sanitised.csv',\n",
    "                       nlp_cols=nl_col,\n",
    "                      meta_cols = meta_col,\n",
    "#                       special_replace={'Action Taken:': ''},\n",
    "                       wdir=data_directory,\n",
    "                       keep_temp_files=False\n",
    "                      )"
   ]
  },
  {
   "cell_type": "code",
   "execution_count": 48,
   "metadata": {},
   "outputs": [],
   "source": [
    "# use this to make a properly formatted thesaurus file for human-annotation\n",
    "# kex_mine.gen_vocab('mine_vocab_full.csv', notes=True)  # rename to match e.g. hvac_vocab.csv\n"
   ]
  },
  {
   "cell_type": "code",
   "execution_count": 50,
   "metadata": {},
   "outputs": [
    {
     "data": {
      "text/html": [
       "<div>\n",
       "<style scoped>\n",
       "    .dataframe tbody tr th:only-of-type {\n",
       "        vertical-align: middle;\n",
       "    }\n",
       "\n",
       "    .dataframe tbody tr th {\n",
       "        vertical-align: top;\n",
       "    }\n",
       "\n",
       "    .dataframe thead th {\n",
       "        text-align: right;\n",
       "    }\n",
       "</style>\n",
       "<table border=\"1\" class=\"dataframe\">\n",
       "  <thead>\n",
       "    <tr style=\"text-align: right;\">\n",
       "      <th></th>\n",
       "      <th>NE</th>\n",
       "      <th>alias</th>\n",
       "      <th>note</th>\n",
       "    </tr>\n",
       "    <tr>\n",
       "      <th>token</th>\n",
       "      <th></th>\n",
       "      <th></th>\n",
       "      <th></th>\n",
       "    </tr>\n",
       "  </thead>\n",
       "  <tbody>\n",
       "    <tr>\n",
       "      <th>replace</th>\n",
       "      <td>S</td>\n",
       "      <td>replace</td>\n",
       "      <td>NaN</td>\n",
       "    </tr>\n",
       "    <tr>\n",
       "      <th>leak</th>\n",
       "      <td>P</td>\n",
       "      <td>leak</td>\n",
       "      <td>NaN</td>\n",
       "    </tr>\n",
       "    <tr>\n",
       "      <th>repair</th>\n",
       "      <td>S</td>\n",
       "      <td>repair</td>\n",
       "      <td>NaN</td>\n",
       "    </tr>\n",
       "    <tr>\n",
       "      <th>bucket</th>\n",
       "      <td>I</td>\n",
       "      <td>bucket</td>\n",
       "      <td>NaN</td>\n",
       "    </tr>\n",
       "    <tr>\n",
       "      <th>engine</th>\n",
       "      <td>I</td>\n",
       "      <td>engine</td>\n",
       "      <td>NaN</td>\n",
       "    </tr>\n",
       "  </tbody>\n",
       "</table>\n",
       "</div>"
      ],
      "text/plain": [
       "        NE    alias note\n",
       "token                   \n",
       "replace  S  replace  NaN\n",
       "leak     P     leak  NaN\n",
       "repair   S   repair  NaN\n",
       "bucket   I   bucket  NaN\n",
       "engine   I   engine  NaN"
      ]
     },
     "execution_count": 50,
     "metadata": {},
     "output_type": "execute_result"
    }
   ],
   "source": [
    "# \"fit\" a thesaurus to the data\n",
    "kex_mine.fit(vocab='mine_vocab.csv')\n",
    "kex_mine.vocab.head()"
   ]
  },
  {
   "cell_type": "code",
   "execution_count": 55,
   "metadata": {},
   "outputs": [],
   "source": [
    "s=set(kex_mine.vocab.index.tolist())\n",
    "# tok = kex_gs.df.RawText.str.split(r'[^\\w]+')\n",
    "ddf = dd.from_pandas(kex_mine.df, npartitions=10)"
   ]
  },
  {
   "cell_type": "code",
   "execution_count": 60,
   "metadata": {},
   "outputs": [
    {
     "name": "stderr",
     "output_type": "stream",
     "text": [
      "/home/tbsexton/anaconda3/lib/python3.6/site-packages/dask/dataframe/core.py:1979: UserWarning: `meta` is not specified, inferred from partial data. Please provide `meta` if the result is unexpected.\n",
      "  Before: .apply(func)\n",
      "  After:  .apply(func, meta={'x': 'f8', 'y': 'f8'}) for dataframe result\n",
      "  or:     .apply(func, meta=('x', 'f8'))            for series result\n",
      "  warnings.warn(msg)\n"
     ]
    }
   ],
   "source": [
    "\n",
    "tokd = ddf.RawText.str.split()\n",
    "tokd = tokd.apply(lambda d: d if isinstance(d, list) else [])\n",
    "tokd = tokd.apply(lambda x: list(s.intersection(x)))\n",
    "\n",
    "# tokd.compute()"
   ]
  },
  {
   "cell_type": "code",
   "execution_count": 82,
   "metadata": {},
   "outputs": [],
   "source": [
    "toks = tokd.to_frame().compute()\n"
   ]
  },
  {
   "cell_type": "code",
   "execution_count": 83,
   "metadata": {},
   "outputs": [
    {
     "data": {
      "text/html": [
       "<div>\n",
       "<style scoped>\n",
       "    .dataframe tbody tr th:only-of-type {\n",
       "        vertical-align: middle;\n",
       "    }\n",
       "\n",
       "    .dataframe tbody tr th {\n",
       "        vertical-align: top;\n",
       "    }\n",
       "\n",
       "    .dataframe thead th {\n",
       "        text-align: right;\n",
       "    }\n",
       "</style>\n",
       "<table border=\"1\" class=\"dataframe\">\n",
       "  <thead>\n",
       "    <tr style=\"text-align: right;\">\n",
       "      <th></th>\n",
       "      <th>RawText</th>\n",
       "    </tr>\n",
       "  </thead>\n",
       "  <tbody>\n",
       "    <tr>\n",
       "      <th>0</th>\n",
       "      <td>[hose, lube, replace, fill, tank]</td>\n",
       "    </tr>\n",
       "    <tr>\n",
       "      <th>1</th>\n",
       "      <td>[check]</td>\n",
       "    </tr>\n",
       "    <tr>\n",
       "      <th>2</th>\n",
       "      <td>[]</td>\n",
       "    </tr>\n",
       "    <tr>\n",
       "      <th>3</th>\n",
       "      <td>[water, tank, fill]</td>\n",
       "    </tr>\n",
       "    <tr>\n",
       "      <th>4</th>\n",
       "      <td>[pump, hydraulic]</td>\n",
       "    </tr>\n",
       "    <tr>\n",
       "      <th>5</th>\n",
       "      <td>[pump, drive, box]</td>\n",
       "    </tr>\n",
       "    <tr>\n",
       "      <th>6</th>\n",
       "      <td>[repair, engine]</td>\n",
       "    </tr>\n",
       "    <tr>\n",
       "      <th>7</th>\n",
       "      <td>[bolt, break]</td>\n",
       "    </tr>\n",
       "    <tr>\n",
       "      <th>8</th>\n",
       "      <td>[adjust]</td>\n",
       "    </tr>\n",
       "    <tr>\n",
       "      <th>9</th>\n",
       "      <td>[oil, gearbox, main, change]</td>\n",
       "    </tr>\n",
       "    <tr>\n",
       "      <th>10</th>\n",
       "      <td>[oil, change]</td>\n",
       "    </tr>\n",
       "    <tr>\n",
       "      <th>11</th>\n",
       "      <td>[oil, gearbox, change]</td>\n",
       "    </tr>\n",
       "    <tr>\n",
       "      <th>12</th>\n",
       "      <td>[oil]</td>\n",
       "    </tr>\n",
       "    <tr>\n",
       "      <th>13</th>\n",
       "      <td>[repair, turbo, leak, exhaust]</td>\n",
       "    </tr>\n",
       "    <tr>\n",
       "      <th>14</th>\n",
       "      <td>[pin, bucket, refit, rh]</td>\n",
       "    </tr>\n",
       "    <tr>\n",
       "      <th>15</th>\n",
       "      <td>[filter, replace]</td>\n",
       "    </tr>\n",
       "    <tr>\n",
       "      <th>16</th>\n",
       "      <td>[check, operator]</td>\n",
       "    </tr>\n",
       "    <tr>\n",
       "      <th>17</th>\n",
       "      <td>[solenoid, replace, engine]</td>\n",
       "    </tr>\n",
       "    <tr>\n",
       "      <th>18</th>\n",
       "      <td>[air, repair, compressor]</td>\n",
       "    </tr>\n",
       "    <tr>\n",
       "      <th>19</th>\n",
       "      <td>[ring, check, modify]</td>\n",
       "    </tr>\n",
       "    <tr>\n",
       "      <th>20</th>\n",
       "      <td>[replace, drain]</td>\n",
       "    </tr>\n",
       "    <tr>\n",
       "      <th>21</th>\n",
       "      <td>[repair]</td>\n",
       "    </tr>\n",
       "    <tr>\n",
       "      <th>22</th>\n",
       "      <td>[compressor, fan]</td>\n",
       "    </tr>\n",
       "    <tr>\n",
       "      <th>23</th>\n",
       "      <td>[boom]</td>\n",
       "    </tr>\n",
       "    <tr>\n",
       "      <th>24</th>\n",
       "      <td>[replace]</td>\n",
       "    </tr>\n",
       "    <tr>\n",
       "      <th>25</th>\n",
       "      <td>[]</td>\n",
       "    </tr>\n",
       "    <tr>\n",
       "      <th>26</th>\n",
       "      <td>[track, adjust]</td>\n",
       "    </tr>\n",
       "    <tr>\n",
       "      <th>27</th>\n",
       "      <td>[loose, bolt]</td>\n",
       "    </tr>\n",
       "    <tr>\n",
       "      <th>28</th>\n",
       "      <td>[motor]</td>\n",
       "    </tr>\n",
       "    <tr>\n",
       "      <th>29</th>\n",
       "      <td>[check, lube, pin]</td>\n",
       "    </tr>\n",
       "    <tr>\n",
       "      <th>...</th>\n",
       "      <td>...</td>\n",
       "    </tr>\n",
       "    <tr>\n",
       "      <th>696181</th>\n",
       "      <td>[replace]</td>\n",
       "    </tr>\n",
       "    <tr>\n",
       "      <th>696182</th>\n",
       "      <td>[replace]</td>\n",
       "    </tr>\n",
       "    <tr>\n",
       "      <th>696183</th>\n",
       "      <td>[replace]</td>\n",
       "    </tr>\n",
       "    <tr>\n",
       "      <th>696184</th>\n",
       "      <td>[filter, replace, cover, housing]</td>\n",
       "    </tr>\n",
       "    <tr>\n",
       "      <th>696185</th>\n",
       "      <td>[replace]</td>\n",
       "    </tr>\n",
       "    <tr>\n",
       "      <th>696186</th>\n",
       "      <td>[replace]</td>\n",
       "    </tr>\n",
       "    <tr>\n",
       "      <th>696187</th>\n",
       "      <td>[change]</td>\n",
       "    </tr>\n",
       "    <tr>\n",
       "      <th>696188</th>\n",
       "      <td>[repair, tank, fuel]</td>\n",
       "    </tr>\n",
       "    <tr>\n",
       "      <th>696189</th>\n",
       "      <td>[repair]</td>\n",
       "    </tr>\n",
       "    <tr>\n",
       "      <th>696190</th>\n",
       "      <td>[repair]</td>\n",
       "    </tr>\n",
       "    <tr>\n",
       "      <th>696191</th>\n",
       "      <td>[replace, cylinder]</td>\n",
       "    </tr>\n",
       "    <tr>\n",
       "      <th>696192</th>\n",
       "      <td>[machine]</td>\n",
       "    </tr>\n",
       "    <tr>\n",
       "      <th>696193</th>\n",
       "      <td>[screen, replace]</td>\n",
       "    </tr>\n",
       "    <tr>\n",
       "      <th>696194</th>\n",
       "      <td>[repair]</td>\n",
       "    </tr>\n",
       "    <tr>\n",
       "      <th>696195</th>\n",
       "      <td>[repair]</td>\n",
       "    </tr>\n",
       "    <tr>\n",
       "      <th>696196</th>\n",
       "      <td>[repair]</td>\n",
       "    </tr>\n",
       "    <tr>\n",
       "      <th>696197</th>\n",
       "      <td>[replace]</td>\n",
       "    </tr>\n",
       "    <tr>\n",
       "      <th>696198</th>\n",
       "      <td>[walkway, repair]</td>\n",
       "    </tr>\n",
       "    <tr>\n",
       "      <th>696199</th>\n",
       "      <td>[repair, tank, fuel]</td>\n",
       "    </tr>\n",
       "    <tr>\n",
       "      <th>696200</th>\n",
       "      <td>[repair, replace]</td>\n",
       "    </tr>\n",
       "    <tr>\n",
       "      <th>696201</th>\n",
       "      <td>[replace]</td>\n",
       "    </tr>\n",
       "    <tr>\n",
       "      <th>696202</th>\n",
       "      <td>[repair, tank, fuel]</td>\n",
       "    </tr>\n",
       "    <tr>\n",
       "      <th>696203</th>\n",
       "      <td>[]</td>\n",
       "    </tr>\n",
       "    <tr>\n",
       "      <th>696204</th>\n",
       "      <td>[repair, tank, fuel]</td>\n",
       "    </tr>\n",
       "    <tr>\n",
       "      <th>696205</th>\n",
       "      <td>[line, repair, lube, rear]</td>\n",
       "    </tr>\n",
       "    <tr>\n",
       "      <th>696206</th>\n",
       "      <td>[repair, main]</td>\n",
       "    </tr>\n",
       "    <tr>\n",
       "      <th>696207</th>\n",
       "      <td>[]</td>\n",
       "    </tr>\n",
       "    <tr>\n",
       "      <th>696208</th>\n",
       "      <td>[repair]</td>\n",
       "    </tr>\n",
       "    <tr>\n",
       "      <th>696209</th>\n",
       "      <td>[repair]</td>\n",
       "    </tr>\n",
       "    <tr>\n",
       "      <th>696210</th>\n",
       "      <td>[repair]</td>\n",
       "    </tr>\n",
       "  </tbody>\n",
       "</table>\n",
       "<p>696211 rows × 1 columns</p>\n",
       "</div>"
      ],
      "text/plain": [
       "                                  RawText\n",
       "0       [hose, lube, replace, fill, tank]\n",
       "1                                 [check]\n",
       "2                                      []\n",
       "3                     [water, tank, fill]\n",
       "4                       [pump, hydraulic]\n",
       "5                      [pump, drive, box]\n",
       "6                        [repair, engine]\n",
       "7                           [bolt, break]\n",
       "8                                [adjust]\n",
       "9            [oil, gearbox, main, change]\n",
       "10                          [oil, change]\n",
       "11                 [oil, gearbox, change]\n",
       "12                                  [oil]\n",
       "13         [repair, turbo, leak, exhaust]\n",
       "14               [pin, bucket, refit, rh]\n",
       "15                      [filter, replace]\n",
       "16                      [check, operator]\n",
       "17            [solenoid, replace, engine]\n",
       "18              [air, repair, compressor]\n",
       "19                  [ring, check, modify]\n",
       "20                       [replace, drain]\n",
       "21                               [repair]\n",
       "22                      [compressor, fan]\n",
       "23                                 [boom]\n",
       "24                              [replace]\n",
       "25                                     []\n",
       "26                        [track, adjust]\n",
       "27                          [loose, bolt]\n",
       "28                                [motor]\n",
       "29                     [check, lube, pin]\n",
       "...                                   ...\n",
       "696181                          [replace]\n",
       "696182                          [replace]\n",
       "696183                          [replace]\n",
       "696184  [filter, replace, cover, housing]\n",
       "696185                          [replace]\n",
       "696186                          [replace]\n",
       "696187                           [change]\n",
       "696188               [repair, tank, fuel]\n",
       "696189                           [repair]\n",
       "696190                           [repair]\n",
       "696191                [replace, cylinder]\n",
       "696192                          [machine]\n",
       "696193                  [screen, replace]\n",
       "696194                           [repair]\n",
       "696195                           [repair]\n",
       "696196                           [repair]\n",
       "696197                          [replace]\n",
       "696198                  [walkway, repair]\n",
       "696199               [repair, tank, fuel]\n",
       "696200                  [repair, replace]\n",
       "696201                          [replace]\n",
       "696202               [repair, tank, fuel]\n",
       "696203                                 []\n",
       "696204               [repair, tank, fuel]\n",
       "696205         [line, repair, lube, rear]\n",
       "696206                     [repair, main]\n",
       "696207                                 []\n",
       "696208                           [repair]\n",
       "696209                           [repair]\n",
       "696210                           [repair]\n",
       "\n",
       "[696211 rows x 1 columns]"
      ]
     },
     "execution_count": 83,
     "metadata": {},
     "output_type": "execute_result"
    }
   ],
   "source": [
    "# %%timeit\n",
    "# for n,i in toks.RawText.items():\n",
    "#     kex_mine.vocab.loc[i]\n",
    "\n",
    "toks"
   ]
  },
  {
   "cell_type": "code",
   "execution_count": null,
   "metadata": {},
   "outputs": [],
   "source": []
  }
 ],
 "metadata": {
  "kernelspec": {
   "display_name": "Python 3",
   "language": "python",
   "name": "python3"
  },
  "language_info": {
   "codemirror_mode": {
    "name": "ipython",
    "version": 3
   },
   "file_extension": ".py",
   "mimetype": "text/x-python",
   "name": "python",
   "nbconvert_exporter": "python",
   "pygments_lexer": "ipython3",
   "version": "3.6.3"
  },
  "varInspector": {
   "cols": {
    "lenName": 16,
    "lenType": 16,
    "lenVar": 40
   },
   "kernels_config": {
    "python": {
     "delete_cmd_postfix": "",
     "delete_cmd_prefix": "del ",
     "library": "var_list.py",
     "varRefreshCmd": "print(var_dic_list())"
    },
    "r": {
     "delete_cmd_postfix": ") ",
     "delete_cmd_prefix": "rm(",
     "library": "var_list.r",
     "varRefreshCmd": "cat(var_dic_list()) "
    }
   },
   "types_to_exclude": [
    "module",
    "function",
    "builtin_function_or_method",
    "instance",
    "_Feature"
   ],
   "window_display": false
  }
 },
 "nbformat": 4,
 "nbformat_minor": 2
}

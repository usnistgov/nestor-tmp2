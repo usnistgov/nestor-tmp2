{
 "cells": [
  {
   "cell_type": "code",
   "execution_count": null,
   "metadata": {
    "hide_input": false
   },
   "outputs": [],
   "source": [
    "## For debbugging\n",
    "%load_ext autoreload"
   ]
  },
  {
   "cell_type": "code",
   "execution_count": 13,
   "metadata": {
    "hide_input": false
   },
   "outputs": [],
   "source": [
    "# import os\n",
    "import sys\n",
    "from pathlib import Path\n",
    "module_path = Path('.').resolve().parents[0]\n",
    "if module_path not in sys.path:\n",
    "    sys.path.append(str(module_path))\n"
   ]
  },
  {
   "cell_type": "code",
   "execution_count": 11,
   "metadata": {
    "hide_input": false
   },
   "outputs": [],
   "source": [
    "## for debugging:\n",
    "%aimport mlp.keyword\n",
    "%aimport mlp.tools\n",
    "%aimport mlp.tree\n",
    "%autoreload 1\n",
    "from mlp.keyword import *"
   ]
  },
  {
   "cell_type": "code",
   "execution_count": 12,
   "metadata": {
    "hide_input": false,
    "scrolled": true
   },
   "outputs": [
    {
     "name": "stdout",
     "output_type": "stream",
     "text": [
      "Textacy: \t0.5.0\n",
      "spaCy: \t        2.0.4\n",
      "Python: \t3.6.3\n"
     ]
    }
   ],
   "source": [
    "import numpy as np\n",
    "import pandas as pd\n",
    "import seaborn as sns\n",
    "import matplotlib.pyplot as plt\n",
    "from tqdm import tqdm_notebook, tqdm\n",
    "%matplotlib inline\n",
    "\n",
    "import spacy, textacy, platform\n",
    "print(\n",
    "    f'Textacy: \\t{textacy.__version__:}'+\\\n",
    "    f'\\nspaCy: \\t{spacy.__version__:>13}'+\\\n",
    "    f'\\nPython: \\t{platform.python_version()}'\n",
    "    )"
   ]
  },
  {
   "cell_type": "code",
   "execution_count": 148,
   "metadata": {},
   "outputs": [],
   "source": [
    "import dask.dataframe as dd\n",
    "import dask\n",
    "import string\n",
    "\n",
    "nlp = spacy.load('en')\n",
    "# data_dir = module_path/'data'/'mine_data'\n",
    "# df = dd.read_csv(data_dir/'loader_work_orders_sanitised.csv')\n",
    "data_dir = module_path/'data'/'gs_data'\n",
    "df = pd.read_csv(data_dir/'Maintenance_All_Clean.csv')"
   ]
  },
  {
   "cell_type": "code",
   "execution_count": 153,
   "metadata": {},
   "outputs": [
    {
     "name": "stderr",
     "output_type": "stream",
     "text": [
      "3435it [00:10, 335.10it/s]\n"
     ]
    }
   ],
   "source": [
    "raw_text = df.Description.astype(str) + '. ' + df.Resolution.astype(str)\n",
    "# raw_text = df.ShortText.astype(str)\n",
    "raw_text = raw_text.fillna('')\n",
    "raw_text = raw_text.str.lower()\n",
    "# raw_text.str.replace('\\n', ' ')\n",
    "# raw_text = raw_text.str.replace('[{}]'.format(string.punctuation), '')\n",
    "\n",
    "def text_preproc(doc, **preproc_kws):\n",
    "#     x = textacy.preprocess.normalize_whitespace(x)\n",
    "#     x = textacy.preprocess.preprocess_text(x, **preproc_kws)\n",
    "#     doc = nlp(x)\n",
    "    proc_list = [token.lemma_ for token in doc\n",
    "                   if not (punct_space(token) or token.is_stop)]\n",
    "    proc_doc = ' '.join(proc_list)\n",
    "    if len(proc_doc) <= 1:\n",
    "        proc_doc = 'NaN'\n",
    "    return proc_doc\n",
    "\n",
    "def series_itervals(s):\n",
    "    for n, val in s.iteritems():\n",
    "        yield val\n",
    "for doc in tqdm(nlp.pipe(series_itervals(raw_text))):\n",
    "    new_doc = text_preproc(doc)\n",
    "# raw_text = raw_text.apply(textacy.preprocess.normalize_whitespace, meta=('RawText', str))\n",
    "# preproc_kws = {\n",
    "#     'fix_unicode': True, \n",
    "#     'lowercase': True,\n",
    "#     'no_urls': True,\n",
    "#     'no_emails': True,\n",
    "#     'no_phone_numbers': True,\n",
    "#     'no_punct': True,\n",
    "#     'no_contractions': True,\n",
    "#     'no_accents': True\n",
    "# }\n",
    "# raw_text = raw_text.apply(textacy.preprocess.preprocess_text, meta=raw_text, **preproc_kws)\n",
    "# raw_text = raw_text.apply(text_preproc, meta=raw_text, **preproc_kws)\n",
    "# tqdm.pandas(desc=\"KEx\")\n",
    "# raw_text = raw_text.progress_apply(text_preproc)\n",
    "# df['RawText'] = raw_text\n",
    "\n",
    "# with dask.set_options(get=dask.multiprocessing.get):\n",
    "# raw_text.to_csv(data_dir/'TEMP_init-*.txt', index=False)\n",
    "\n",
    "\n",
    "# with dask.set_options(get=dask.multiprocessing.get):\n",
    "#     rt = raw_text.compute()\n",
    "# rt"
   ]
  },
  {
   "cell_type": "code",
   "execution_count": 113,
   "metadata": {},
   "outputs": [],
   "source": [
    "for fname in data_dir.glob('TEMP_init-[!0]*.txt'):\n",
    "    print(fname)"
   ]
  },
  {
   "cell_type": "code",
   "execution_count": 129,
   "metadata": {},
   "outputs": [
    {
     "name": "stdout",
     "output_type": "stream",
     "text": [
      "/home/tbsexton/Documents/Projects/DiagnosticKB/MaintenanceLanguageProcessing/data/gs_data/TEMP_init-0.txt\n"
     ]
    }
   ],
   "source": [
    "# docs = textacy.fileio.read.read_csv(str(data_dir/'TEMP_init-0.txt'))\n",
    "# Descriptions in RawText col\n",
    "# content_stream, metadata_stream = textacy.fileio.split_record_fields(docs, 1)  \n",
    "\n",
    "corpus = textacy.Corpus(u'en')\n",
    "\n",
    "for fname in data_dir.glob('TEMP_init-*.txt'):\n",
    "    print(fname)\n",
    "    docs = textacy.fileio.read.read_csv(str(fname), delimiter='\\t')\n",
    "    content_stream, _ = textacy.fileio.split_record_fields(docs, 0)  \n",
    "    corpus.add_texts(content_stream)"
   ]
  },
  {
   "cell_type": "code",
   "execution_count": 144,
   "metadata": {},
   "outputs": [],
   "source": [
    "vsm = textacy.vsm.Vectorizer(weighting='tfidf',\n",
    "                             normalize=False,\n",
    "                             smooth_idf=False,\n",
    "                             sublinear_tf=True,\n",
    "                             min_df=2, max_df=0.95)  # each token in >2 docs, <95% of docs\n",
    "\n",
    "terms_list = (doc.to_terms_list(ngrams=(1, 2, 3),\n",
    "                                normalize=u'lemma',\n",
    "                                named_entities=False,\n",
    "                                filter_stops=True,  # Nope! Not needed :)\n",
    "                                filter_punct=True,\n",
    "                                as_strings=True) for doc in corpus)\n",
    "doc_term_mat = vsm.fit_transform(terms_list)\n",
    "doc_term_mat\n",
    "\n",
    "def get_norm_tokens(doc_n, doc_term_mat, id_to_term):\n",
    "    doc = doc_term_mat[doc_n].toarray()\n",
    "    # we only care about unique tags, right?\n",
    "    return set([id_to_term[i] for i in doc.nonzero()[1]])\n",
    "\n",
    "# list(list(terms_list)[1])"
   ]
  },
  {
   "cell_type": "code",
   "execution_count": 145,
   "metadata": {},
   "outputs": [
    {
     "data": {
      "text/plain": [
       "{'bar',\n",
       " 'bar feeder',\n",
       " 'bar feeder chain',\n",
       " 'break',\n",
       " 'break bar',\n",
       " 'break bar feeder',\n",
       " 'chain',\n",
       " 'feeder',\n",
       " 'feeder chain',\n",
       " 'repair'}"
      ]
     },
     "execution_count": 145,
     "metadata": {},
     "output_type": "execute_result"
    }
   ],
   "source": [
    "get_norm_tokens(0, doc_term_mat, vsm.id_to_term)"
   ]
  },
  {
   "cell_type": "code",
   "execution_count": null,
   "metadata": {},
   "outputs": [],
   "source": [
    "vsm.sublinear_tf()"
   ]
  }
 ],
 "metadata": {
  "kernelspec": {
   "display_name": "Python 3",
   "language": "python",
   "name": "python3"
  },
  "language_info": {
   "codemirror_mode": {
    "name": "ipython",
    "version": 3
   },
   "file_extension": ".py",
   "mimetype": "text/x-python",
   "name": "python",
   "nbconvert_exporter": "python",
   "pygments_lexer": "ipython3",
   "version": "3.6.3"
  },
  "varInspector": {
   "cols": {
    "lenName": 16,
    "lenType": 16,
    "lenVar": 40
   },
   "kernels_config": {
    "python": {
     "delete_cmd_postfix": "",
     "delete_cmd_prefix": "del ",
     "library": "var_list.py",
     "varRefreshCmd": "print(var_dic_list())"
    },
    "r": {
     "delete_cmd_postfix": ") ",
     "delete_cmd_prefix": "rm(",
     "library": "var_list.r",
     "varRefreshCmd": "cat(var_dic_list()) "
    }
   },
   "types_to_exclude": [
    "module",
    "function",
    "builtin_function_or_method",
    "instance",
    "_Feature"
   ],
   "window_display": false
  }
 },
 "nbformat": 4,
 "nbformat_minor": 2
}

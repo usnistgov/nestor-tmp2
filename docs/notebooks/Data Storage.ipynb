{
 "cells": [
  {
   "cell_type": "code",
   "execution_count": 1,
   "metadata": {},
   "outputs": [],
   "source": [
    "%load_ext autoreload\n",
    "%autoreload 2\n",
    "\n",
    "import sys\n",
    "import os\n",
    "import inspect\n",
    "import getpass\n",
    "import json\n",
    "\n",
    "import pandas as pd\n",
    "\n",
    "project_path = os.path.abspath( os.path.dirname(os.path.abspath(inspect.getfile(inspect.currentframe()))) + \"/../../\" )\n",
    "sys.path.insert(0, project_path)\n",
    "\n",
    "from nestor.store_data import helper\n",
    "\n",
    "from nestor.store_data.database import DatabaseNeo4J \n",
    "from nestor.store_data import integration "
   ]
  },
  {
   "cell_type": "markdown",
   "metadata": {},
   "source": [
    "# User Input"
   ]
  },
  {
   "cell_type": "code",
   "execution_count": 2,
   "metadata": {},
   "outputs": [
    {
     "name": "stdout",
     "output_type": "stream",
     "text": [
      "server:\n",
      "portBolt:\n",
      "portUi:\n",
      "user:\n",
      "Password:········\n"
     ]
    }
   ],
   "source": [
    "server = input('server:')\n",
    "portBolt = input('portBolt:')\n",
    "portUi = input('portUi:')\n",
    "user = input('user:')\n",
    "password = getpass.getpass(\"Password:\")"
   ]
  },
  {
   "cell_type": "code",
   "execution_count": 3,
   "metadata": {},
   "outputs": [],
   "source": [
    "nestor_file = None\n",
    "nestor_vocab1g = None\n",
    "nestor_vocab1g = None\n",
    "allTag = False\n",
    "csvSchemas_file = None\n",
    "csvHeaderMapping_file = None\n",
    "tree_path = None"
   ]
  },
  {
   "cell_type": "code",
   "execution_count": 4,
   "metadata": {},
   "outputs": [],
   "source": []
  },
  {
   "cell_type": "markdown",
   "metadata": {},
   "source": [
    "# Load Files "
   ]
  },
  {
   "cell_type": "code",
   "execution_count": 5,
   "metadata": {},
   "outputs": [
    {
     "name": "stdout",
     "output_type": "stream",
     "text": [
      "yaml file open\n"
     ]
    }
   ],
   "source": [
    "dataframe = pd.read_hdf(nestor_file, key=\"df\")\n",
    "dataframe.fillna(\"\", inplace=True)\n",
    "dataframe_tag = pd.read_hdf(nestor_file, key=\"tags\")\n",
    "dataframe_rel = pd.read_hdf(nestor_file, key=\"rels\")\n",
    "\n",
    "if nestor_vocab1g_file:\n",
    "    dataframe_vocab1g = pd.read_csv(nestor_vocab1g_file)\n",
    "    \n",
    "if nestor_vocabNg_file:\n",
    "    dataframe_vocabNg = pd.read_csv(nestor_vocabNg_file)\n",
    "\n",
    "if csvHeaderMapping_file:\n",
    "    csvHeaderMapping_dict = helper.openYAMLFile(csvHeaderMapping_file)\n",
    "                                            \n",
    "if tree_file:\n",
    "    with open(tree_file) as file:\n",
    "        tree_dict = json.load(file)"
   ]
  },
  {
   "cell_type": "markdown",
   "metadata": {},
   "source": [
    "# Connect to database"
   ]
  },
  {
   "cell_type": "code",
   "execution_count": 6,
   "metadata": {},
   "outputs": [
    {
     "name": "stdout",
     "output_type": "stream",
     "text": [
      "yaml file open\n"
     ]
    }
   ],
   "source": [
    "databaseSchema_file = os.path.join(project_path ,'nestor', 'store_data', 'DatabaseSchema.yaml')\n",
    "databaseSchema_dict = helper.openYAMLFile(databaseSchema_file)\n",
    "\n",
    "database = DatabaseNeo4J(server = server, \n",
    "                         portBolt = portBolt, \n",
    "                         portUi = portUi, \n",
    "                         user = user, \n",
    "                         password = password, \n",
    "                         schema = databaseSchema_dict) "
   ]
  },
  {
   "cell_type": "code",
   "execution_count": 7,
   "metadata": {},
   "outputs": [
    {
     "data": {
      "text/plain": [
       "1"
      ]
     },
     "execution_count": 7,
     "metadata": {},
     "output_type": "execute_result"
    }
   ],
   "source": [
    "database.deleteData()\n",
    "\n",
    "database.dropConstraints()\n",
    "database.dropIndexes()\n",
    "\n",
    "database.createIndexes()\n",
    "database.createConstraints()"
   ]
  },
  {
   "cell_type": "markdown",
   "metadata": {},
   "source": [
    "# Create Cypher Queries"
   ]
  },
  {
   "cell_type": "code",
   "execution_count": 8,
   "metadata": {},
   "outputs": [
    {
     "name": "stderr",
     "output_type": "stream",
     "text": [
      "100%|██████████| 3438/3438 [00:02<00:00, 1320.68it/s]\n",
      "100%|██████████| 3438/3438 [00:53<00:00, 64.21it/s]\n"
     ]
    },
    {
     "data": {
      "text/plain": [
       "1"
      ]
     },
     "execution_count": 8,
     "metadata": {},
     "output_type": "execute_result"
    }
   ],
   "source": [
    "database.runQueries(integration.cypherCreate_historicalMaintenanceWorkOrder (database.schema, dataframe, csvHeaderMapping_dict))"
   ]
  },
  {
   "cell_type": "code",
   "execution_count": 9,
   "metadata": {},
   "outputs": [
    {
     "name": "stderr",
     "output_type": "stream",
     "text": [
      "100%|██████████| 787/787 [00:06<00:00, 116.01it/s]\n",
      "100%|██████████| 787/787 [00:08<00:00, 91.59it/s]\n"
     ]
    },
    {
     "data": {
      "text/plain": [
       "1"
      ]
     },
     "execution_count": 9,
     "metadata": {},
     "output_type": "execute_result"
    }
   ],
   "source": [
    "database.runQueries(integration.cypherCreate_tag(database.schema, dataframe_tag, dataframe_vocab1g, dataframe_vocabNg, allTag))"
   ]
  },
  {
   "cell_type": "code",
   "execution_count": 10,
   "metadata": {},
   "outputs": [
    {
     "name": "stderr",
     "output_type": "stream",
     "text": [
      "100%|██████████| 978/978 [00:03<00:00, 278.77it/s]\n",
      "100%|██████████| 978/978 [00:06<00:00, 151.65it/s]\n"
     ]
    },
    {
     "data": {
      "text/plain": [
       "1"
      ]
     },
     "execution_count": 10,
     "metadata": {},
     "output_type": "execute_result"
    }
   ],
   "source": [
    "database.runQueries(integration.cypherCreate_tag(database.schema, dataframe_rel, dataframe_vocab1g, dataframe_vocabNg, allTag))"
   ]
  },
  {
   "cell_type": "code",
   "execution_count": 11,
   "metadata": {},
   "outputs": [
    {
     "name": "stderr",
     "output_type": "stream",
     "text": [
      "100%|██████████| 6/6 [00:00<00:00, 27.67it/s]\n"
     ]
    },
    {
     "data": {
      "text/plain": [
       "1"
      ]
     },
     "execution_count": 11,
     "metadata": {},
     "output_type": "execute_result"
    }
   ],
   "source": [
    "database.runQueries(integration.cypherLink_Ngram1gram(database.schema))"
   ]
  },
  {
   "cell_type": "code",
   "execution_count": 12,
   "metadata": {},
   "outputs": [
    {
     "name": "stderr",
     "output_type": "stream",
     "text": [
      "100%|██████████| 2/2 [00:00<00:00,  5.84it/s]\n"
     ]
    },
    {
     "data": {
      "text/plain": [
       "1"
      ]
     },
     "execution_count": 12,
     "metadata": {},
     "output_type": "execute_result"
    }
   ],
   "source": [
    "database.runQueries(integration.cypherLink_itemIssue(database.schema))"
   ]
  },
  {
   "cell_type": "code",
   "execution_count": null,
   "metadata": {},
   "outputs": [],
   "source": [
    "database.runQueries(integration.cypherCreate_itemsTree(database.schema,tree_dict ))"
   ]
  }
 ],
 "metadata": {
  "kernelspec": {
   "display_name": "Python 3",
   "language": "python",
   "name": "python3"
  },
  "language_info": {
   "codemirror_mode": {
    "name": "ipython",
    "version": 3
   },
   "file_extension": ".py",
   "mimetype": "text/x-python",
   "name": "python",
   "nbconvert_exporter": "python",
   "pygments_lexer": "ipython3",
   "version": "3.6.6"
  }
 },
 "nbformat": 4,
 "nbformat_minor": 2
}

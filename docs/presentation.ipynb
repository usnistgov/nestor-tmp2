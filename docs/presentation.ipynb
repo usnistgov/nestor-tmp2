{
 "cells": [
  {
   "cell_type": "code",
   "execution_count": 1,
   "metadata": {
    "slideshow": {
     "slide_type": "skip"
    }
   },
   "outputs": [
    {
     "name": "stderr",
     "output_type": "stream",
     "text": [
      "/home/tbsexton/anaconda3/lib/python3.6/site-packages/seaborn/apionly.py:6: UserWarning: As seaborn no longer sets a default style on import, the seaborn.apionly module is deprecated. It will be removed in a future version.\n",
      "  warnings.warn(msg, UserWarning)\n"
     ]
    }
   ],
   "source": [
    "import numpy as np\n",
    "import pandas as pd\n",
    "import seaborn.apionly as sns\n",
    "import matplotlib.pyplot as plt\n",
    "from tqdm import tqdm_notebook\n",
    "%matplotlib inline\n",
    "\n",
    "import os\n",
    "import codecs\n",
    "import sys\n",
    "import textacy"
   ]
  },
  {
   "cell_type": "markdown",
   "metadata": {
    "slideshow": {
     "slide_type": "slide"
    }
   },
   "source": [
    "# Automated Tagging of Maintenance Issues:\n",
    "## A Keyword Detection and Ranking Approach\n",
    "### Thurston Sexton + Mike Brundage\n",
    "Also: compared to a Machine Learning one"
   ]
  },
  {
   "cell_type": "code",
   "execution_count": 2,
   "metadata": {
    "collapsed": true,
    "slideshow": {
     "slide_type": "skip"
    }
   },
   "outputs": [],
   "source": [
    "data_directory = os.path.join('.', 'data')\n",
    "raw_excel_filepath = os.path.join(data_directory, 'tag_data2.xlsx')\n",
    "raw_csv_filepath = os.path.join(data_directory, 'raw_csv_tagged.csv')\n",
    "vocab_filepath = os.path.join(data_directory, 'tag_vocab.csv')"
   ]
  },
  {
   "cell_type": "code",
   "execution_count": 3,
   "metadata": {
    "collapsed": true,
    "slideshow": {
     "slide_type": "skip"
    }
   },
   "outputs": [],
   "source": [
    "# read in the tagged issues, which have been cleaned of nasty unicode and combined Description+Resolution\n",
    "df_raw = pd.read_csv(raw_csv_filepath, encoding=sys.getfilesystemencoding(), \n",
    "                     names = ['RawText','p_Item','p_Action','s_Action','s_Item'])\n",
    "# df_raw.head()\n",
    "\n",
    "# read in the keyword dictionary and to some data-munging. \n",
    "df_vocab = pd.read_csv(vocab_filepath, header=0, encoding=sys.getfilesystemencoding(),\n",
    "                       names = ['token', 'NE','alias','note'], index_col=0)\n",
    "df_vocab = df_vocab.dropna(subset=['NE'])  # remove named entities that are NaN\n",
    "df_vocab.alias = df_vocab.apply(lambda x: np.where(pd.isnull(x.alias), x.name, x.alias), axis=1) # alias to original if blank\n",
    "df_vocab = df_vocab[~df_vocab.index.duplicated(keep='first')]"
   ]
  },
  {
   "cell_type": "code",
   "execution_count": 4,
   "metadata": {
    "cell_style": "split",
    "slideshow": {
     "slide_type": "slide"
    }
   },
   "outputs": [
    {
     "data": {
      "text/html": [
       "<div>\n",
       "<style>\n",
       "    .dataframe thead tr:only-child th {\n",
       "        text-align: right;\n",
       "    }\n",
       "\n",
       "    .dataframe thead th {\n",
       "        text-align: left;\n",
       "    }\n",
       "\n",
       "    .dataframe tbody tr th {\n",
       "        vertical-align: top;\n",
       "    }\n",
       "</style>\n",
       "<table border=\"1\" class=\"dataframe\">\n",
       "  <thead>\n",
       "    <tr style=\"text-align: right;\">\n",
       "      <th></th>\n",
       "      <th>NE</th>\n",
       "      <th>alias</th>\n",
       "      <th>note</th>\n",
       "    </tr>\n",
       "    <tr>\n",
       "      <th>token</th>\n",
       "      <th></th>\n",
       "      <th></th>\n",
       "      <th></th>\n",
       "    </tr>\n",
       "  </thead>\n",
       "  <tbody>\n",
       "    <tr>\n",
       "      <th>replace</th>\n",
       "      <td>S</td>\n",
       "      <td>replace</td>\n",
       "      <td>NaN</td>\n",
       "    </tr>\n",
       "    <tr>\n",
       "      <th>unit</th>\n",
       "      <td>I</td>\n",
       "      <td>unit</td>\n",
       "      <td>NaN</td>\n",
       "    </tr>\n",
       "    <tr>\n",
       "      <th>motor</th>\n",
       "      <td>I</td>\n",
       "      <td>motor</td>\n",
       "      <td>NaN</td>\n",
       "    </tr>\n",
       "    <tr>\n",
       "      <th>spindle</th>\n",
       "      <td>I</td>\n",
       "      <td>spindle</td>\n",
       "      <td>NaN</td>\n",
       "    </tr>\n",
       "    <tr>\n",
       "      <th>leak</th>\n",
       "      <td>P</td>\n",
       "      <td>leak</td>\n",
       "      <td>NaN</td>\n",
       "    </tr>\n",
       "    <tr>\n",
       "      <th>valve</th>\n",
       "      <td>I</td>\n",
       "      <td>valve</td>\n",
       "      <td>NaN</td>\n",
       "    </tr>\n",
       "    <tr>\n",
       "      <th>replaced</th>\n",
       "      <td>S</td>\n",
       "      <td>replace</td>\n",
       "      <td>NaN</td>\n",
       "    </tr>\n",
       "    <tr>\n",
       "      <th>fault</th>\n",
       "      <td>P</td>\n",
       "      <td>fault</td>\n",
       "      <td>NaN</td>\n",
       "    </tr>\n",
       "    <tr>\n",
       "      <th>bar</th>\n",
       "      <td>I</td>\n",
       "      <td>bar</td>\n",
       "      <td>NaN</td>\n",
       "    </tr>\n",
       "    <tr>\n",
       "      <th>inop</th>\n",
       "      <td>P</td>\n",
       "      <td>inoperable</td>\n",
       "      <td>NaN</td>\n",
       "    </tr>\n",
       "  </tbody>\n",
       "</table>\n",
       "</div>"
      ],
      "text/plain": [
       "         NE       alias note\n",
       "token                       \n",
       "replace   S     replace  NaN\n",
       "unit      I        unit  NaN\n",
       "motor     I       motor  NaN\n",
       "spindle   I     spindle  NaN\n",
       "leak      P        leak  NaN\n",
       "valve     I       valve  NaN\n",
       "replaced  S     replace  NaN\n",
       "fault     P       fault  NaN\n",
       "bar       I         bar  NaN\n",
       "inop      P  inoperable  NaN"
      ]
     },
     "execution_count": 4,
     "metadata": {},
     "output_type": "execute_result"
    }
   ],
   "source": [
    "\n",
    "df_vocab.head(10)"
   ]
  },
  {
   "cell_type": "code",
   "execution_count": 5,
   "metadata": {
    "cell_style": "split",
    "scrolled": false,
    "slideshow": {
     "slide_type": "-"
    }
   },
   "outputs": [
    {
     "name": "stdout",
     "output_type": "stream",
     "text": [
      "named entities: \n",
      "I\tItem\n",
      "P\tProblem\n",
      "S\tSolution\n",
      "R\tRedundant\n",
      "U\tUnknown\n",
      "X\tStop Word\n"
     ]
    },
    {
     "data": {
      "text/html": [
       "<div>\n",
       "<style>\n",
       "    .dataframe thead tr:only-child th {\n",
       "        text-align: right;\n",
       "    }\n",
       "\n",
       "    .dataframe thead th {\n",
       "        text-align: left;\n",
       "    }\n",
       "\n",
       "    .dataframe tbody tr th {\n",
       "        vertical-align: top;\n",
       "    }\n",
       "</style>\n",
       "<table border=\"1\" class=\"dataframe\">\n",
       "  <thead>\n",
       "    <tr style=\"text-align: right;\">\n",
       "      <th></th>\n",
       "      <th>NE</th>\n",
       "      <th>alias</th>\n",
       "      <th>note</th>\n",
       "    </tr>\n",
       "    <tr>\n",
       "      <th>NE</th>\n",
       "      <th></th>\n",
       "      <th></th>\n",
       "      <th></th>\n",
       "    </tr>\n",
       "  </thead>\n",
       "  <tbody>\n",
       "    <tr>\n",
       "      <th>I</th>\n",
       "      <td>1</td>\n",
       "      <td>500</td>\n",
       "      <td>25</td>\n",
       "    </tr>\n",
       "    <tr>\n",
       "      <th>P</th>\n",
       "      <td>1</td>\n",
       "      <td>114</td>\n",
       "      <td>16</td>\n",
       "    </tr>\n",
       "    <tr>\n",
       "      <th>R</th>\n",
       "      <td>1</td>\n",
       "      <td>148</td>\n",
       "      <td>0</td>\n",
       "    </tr>\n",
       "    <tr>\n",
       "      <th>S</th>\n",
       "      <td>1</td>\n",
       "      <td>82</td>\n",
       "      <td>14</td>\n",
       "    </tr>\n",
       "    <tr>\n",
       "      <th>U</th>\n",
       "      <td>1</td>\n",
       "      <td>100</td>\n",
       "      <td>9</td>\n",
       "    </tr>\n",
       "    <tr>\n",
       "      <th>X</th>\n",
       "      <td>1</td>\n",
       "      <td>184</td>\n",
       "      <td>5</td>\n",
       "    </tr>\n",
       "  </tbody>\n",
       "</table>\n",
       "</div>"
      ],
      "text/plain": [
       "    NE  alias  note\n",
       "NE                 \n",
       "I    1    500    25\n",
       "P    1    114    16\n",
       "R    1    148     0\n",
       "S    1     82    14\n",
       "U    1    100     9\n",
       "X    1    184     5"
      ]
     },
     "execution_count": 5,
     "metadata": {},
     "output_type": "execute_result"
    }
   ],
   "source": [
    "# how many instances of each keyword class are there?\n",
    "print('named entities: ')\n",
    "print('I\\tItem\\nP\\tProblem\\nS\\tSolution\\nR\\tRedundant')\n",
    "print('U\\tUnknown\\nX\\tStop Word')\n",
    "df_vocab.groupby(\"NE\").nunique()"
   ]
  },
  {
   "cell_type": "markdown",
   "metadata": {
    "slideshow": {
     "slide_type": "subslide"
    }
   },
   "source": [
    "![vocab_test](vocab_test.png)"
   ]
  },
  {
   "cell_type": "markdown",
   "metadata": {
    "slideshow": {
     "slide_type": "subslide"
    }
   },
   "source": [
    "```python\n",
    "# start up our NLP engine, Spacy wrapped in Textacy\n",
    "docs = textacy.fileio.read.read_csv(raw_csv_filepath, encoding='utf-8')\n",
    "\n",
    "content_stream, metadata_stream = textacy.fileio.split_record_fields(docs, 1)  # Descriptions in Col 6\n",
    "corpus = textacy.Corpus(u'en', texts=content_stream, metadatas=metadata_stream)\n",
    "```"
   ]
  },
  {
   "cell_type": "code",
   "execution_count": 6,
   "metadata": {
    "collapsed": true,
    "slideshow": {
     "slide_type": "skip"
    }
   },
   "outputs": [],
   "source": [
    "# start up our NLP engine, Spacy wrapped in Textacy\n",
    "docs = textacy.fileio.read.read_csv(raw_csv_filepath, encoding='utf-8')\n",
    "\n",
    "content_stream, metadata_stream = textacy.fileio.split_record_fields(docs, 1)  # Descriptions in Col 6\n",
    "corpus = textacy.Corpus(u'en', texts=content_stream, metadatas=metadata_stream)\n"
   ]
  },
  {
   "cell_type": "markdown",
   "metadata": {
    "collapsed": true,
    "slideshow": {
     "slide_type": "fragment"
    }
   },
   "source": [
    "```python\n",
    "# THIS GENERATED THE TOP N MOST IMPORTANT TOKENS VIA A DOC_TERM_MATRIX\n",
    "# the engineers used this code-snippet to make tag_vocab.csv\n",
    "\n",
    "from unicodedata import normalize\n",
    "\n",
    "topn = 3000\n",
    "topn_tok = [id2term[i] for i in doc_term_matrix.sum(axis=0).argsort()[0,-topn:].tolist()[0][::-1]]\n",
    "with open('new_top{}.txt'.format(topn), 'wb') as f:\n",
    "    for i in topn_tok:\n",
    "        try:\n",
    "            f.write(i+'\\n')\n",
    "        except UnicodeEncodeError:\n",
    "            print i, '-->', normalize('NFKD', i).encode('ascii','ignore')\n",
    "            f.write(normalize('NFKD', i).encode('ascii','ignore') +'\\n')\n",
    "```            "
   ]
  },
  {
   "cell_type": "markdown",
   "metadata": {
    "slideshow": {
     "slide_type": "slide"
    }
   },
   "source": [
    "![tag_pipe.png](tag_pipe.png)"
   ]
  },
  {
   "cell_type": "code",
   "execution_count": 7,
   "metadata": {
    "slideshow": {
     "slide_type": "subslide"
    }
   },
   "outputs": [
    {
     "data": {
      "application/vnd.jupyter.widget-view+json": {
       "model_id": "49d47aeea80b45d6b845bca33ac96d34"
      }
     },
     "metadata": {},
     "output_type": "display_data"
    },
    {
     "name": "stdout",
     "output_type": "stream",
     "text": [
      "\r"
     ]
    },
    {
     "data": {
      "text/html": [
       "<div>\n",
       "<style>\n",
       "    .dataframe thead tr:only-child th {\n",
       "        text-align: right;\n",
       "    }\n",
       "\n",
       "    .dataframe thead th {\n",
       "        text-align: left;\n",
       "    }\n",
       "\n",
       "    .dataframe tbody tr th {\n",
       "        vertical-align: top;\n",
       "    }\n",
       "</style>\n",
       "<table border=\"1\" class=\"dataframe\">\n",
       "  <thead>\n",
       "    <tr style=\"text-align: right;\">\n",
       "      <th></th>\n",
       "      <th>RawText</th>\n",
       "      <th>Items</th>\n",
       "      <th>Problem</th>\n",
       "      <th>Solution</th>\n",
       "      <th>UK_tok</th>\n",
       "    </tr>\n",
       "  </thead>\n",
       "  <tbody>\n",
       "    <tr>\n",
       "      <th>0</th>\n",
       "      <td>Broken bar feeder chain. Repaired</td>\n",
       "      <td>chain, feeder_chain, bar, bar_feeder, feeder, ...</td>\n",
       "      <td>broken</td>\n",
       "      <td>repair</td>\n",
       "      <td></td>\n",
       "    </tr>\n",
       "    <tr>\n",
       "      <th>1</th>\n",
       "      <td>No power. Replaced pin in pendant and powered ...</td>\n",
       "      <td>machine, cable, pin, pendant</td>\n",
       "      <td>power, short</td>\n",
       "      <td>replace</td>\n",
       "      <td></td>\n",
       "    </tr>\n",
       "    <tr>\n",
       "      <th>2</th>\n",
       "      <td>Smartscope harness broken. Parts ordered / Tec...</td>\n",
       "      <td>person, part</td>\n",
       "      <td>broken</td>\n",
       "      <td>order, repair</td>\n",
       "      <td>harness, smartscope</td>\n",
       "    </tr>\n",
       "    <tr>\n",
       "      <th>3</th>\n",
       "      <td>Check / Charge Accumulators. Where OK</td>\n",
       "      <td></td>\n",
       "      <td></td>\n",
       "      <td>check, charge</td>\n",
       "      <td>accumulators</td>\n",
       "    </tr>\n",
       "    <tr>\n",
       "      <th>4</th>\n",
       "      <td>Hyd leak at saw atachment. Replaced seal in sa...</td>\n",
       "      <td>hydraulic, saw, attachment, saw_attachment, seal</td>\n",
       "      <td>leak</td>\n",
       "      <td>replace</td>\n",
       "      <td>reapir, ml</td>\n",
       "    </tr>\n",
       "    <tr>\n",
       "      <th>5</th>\n",
       "      <td>CS1008 setup change over / from ARC1004. Compl...</td>\n",
       "      <td>thread, thread_unit, unit</td>\n",
       "      <td></td>\n",
       "      <td>setup, change, wire, complete</td>\n",
       "      <td></td>\n",
       "    </tr>\n",
       "    <tr>\n",
       "      <th>6</th>\n",
       "      <td>Gears on saw attachment tight and grinding per...</td>\n",
       "      <td>saw, shelf, gear, attachment, saw_attachment, ...</td>\n",
       "      <td>tight</td>\n",
       "      <td>rebuild, see, remove, replace</td>\n",
       "      <td></td>\n",
       "    </tr>\n",
       "    <tr>\n",
       "      <th>7</th>\n",
       "      <td>Check and charge Accumulators. Checked and cha...</td>\n",
       "      <td>accumulator</td>\n",
       "      <td></td>\n",
       "      <td>check, charge</td>\n",
       "      <td></td>\n",
       "    </tr>\n",
       "    <tr>\n",
       "      <th>8</th>\n",
       "      <td>St# 14 milling spindle repairs. Reapired</td>\n",
       "      <td>milling, spindle, st</td>\n",
       "      <td></td>\n",
       "      <td>repair</td>\n",
       "      <td>reapir</td>\n",
       "    </tr>\n",
       "    <tr>\n",
       "      <th>9</th>\n",
       "      <td>Hydraulic leak. Replaced ruptured hydraulic li...</td>\n",
       "      <td>hydraulic, line, hydraulic_line</td>\n",
       "      <td>leak, rupture</td>\n",
       "      <td>replace</td>\n",
       "      <td></td>\n",
       "    </tr>\n",
       "  </tbody>\n",
       "</table>\n",
       "</div>"
      ],
      "text/plain": [
       "                                             RawText  \\\n",
       "0                  Broken bar feeder chain. Repaired   \n",
       "1  No power. Replaced pin in pendant and powered ...   \n",
       "2  Smartscope harness broken. Parts ordered / Tec...   \n",
       "3              Check / Charge Accumulators. Where OK   \n",
       "4  Hyd leak at saw atachment. Replaced seal in sa...   \n",
       "5  CS1008 setup change over / from ARC1004. Compl...   \n",
       "6  Gears on saw attachment tight and grinding per...   \n",
       "7  Check and charge Accumulators. Checked and cha...   \n",
       "8           St# 14 milling spindle repairs. Reapired   \n",
       "9  Hydraulic leak. Replaced ruptured hydraulic li...   \n",
       "\n",
       "                                               Items        Problem  \\\n",
       "0  chain, feeder_chain, bar, bar_feeder, feeder, ...         broken   \n",
       "1                       machine, cable, pin, pendant   power, short   \n",
       "2                                       person, part         broken   \n",
       "3                                                                     \n",
       "4   hydraulic, saw, attachment, saw_attachment, seal           leak   \n",
       "5                          thread, thread_unit, unit                  \n",
       "6  saw, shelf, gear, attachment, saw_attachment, ...          tight   \n",
       "7                                        accumulator                  \n",
       "8                               milling, spindle, st                  \n",
       "9                    hydraulic, line, hydraulic_line  leak, rupture   \n",
       "\n",
       "                        Solution               UK_tok  \n",
       "0                         repair                       \n",
       "1                        replace                       \n",
       "2                  order, repair  harness, smartscope  \n",
       "3                  check, charge         accumulators  \n",
       "4                        replace           reapir, ml  \n",
       "5  setup, change, wire, complete                       \n",
       "6  rebuild, see, remove, replace                       \n",
       "7                  check, charge                       \n",
       "8                         repair               reapir  \n",
       "9                        replace                       "
      ]
     },
     "execution_count": 7,
     "metadata": {},
     "output_type": "execute_result"
    }
   ],
   "source": [
    "def get_norm_tokens(doc_n, doc_term_mat, id2term):\n",
    "    doc = doc_term_mat[doc_n].toarray()\n",
    "    return [id2term[i] for i in doc.nonzero()[1]]\n",
    "\n",
    "def doc_to_tags(tokens, thes):\n",
    "#     tokens = get_norm_terms(doc)\n",
    "    tags = {'I':[], 'P':[], 'S':[]}\n",
    "    untagged = []\n",
    "    vocab_list = thes.index.tolist()\n",
    "    for tok in tokens:\n",
    "        if tok in vocab_list:  # recognized token?\n",
    "            typ = thes.loc[tok]['NE']\n",
    "            \n",
    "            if typ in tags.keys():  #  I, P, or S?\n",
    "                tags[typ] = list(set(tags[typ] + [thes.loc[tok]['alias'].tolist()]))\n",
    "            else:  # R or X?\n",
    "                pass # skip'em\n",
    "        elif np.any([i in vocab_list for i in tok.split(' ')]):\n",
    "            # If any subset of `tok` is itself a recognized token, skip'em\n",
    "            pass\n",
    "        else: # not recognized :(\n",
    "            untagged += [tok]\n",
    "    return tags, list(set(untagged))\n",
    "        \n",
    "            \n",
    "def tag_corpus(corpus, thes):\n",
    "    RT, I, S, P, UK = ([], [], [], [], [])\n",
    "    \n",
    "    # make the tf-idf embedding to tokenize with lemma/ngrams\n",
    "    doc_term_matrix, id2term = textacy.vsm.doc_term_matrix(\n",
    "            (doc.to_terms_list(ngrams=(1,2,3), \n",
    "                               normalize=u'lemma',\n",
    "                               named_entities=False, \n",
    "                               filter_stops=True,  # Nope! Not needed :)\n",
    "                               filter_punct=True,\n",
    "                               as_strings=True)\n",
    "                for doc in corpus),\n",
    "            weighting='tfidf', \n",
    "            normalize=False, \n",
    "            smooth_idf=False, \n",
    "            min_df=2, max_df=0.95)  # each token in >2 docs, <95% of docs\n",
    "    # iterate over all issues\n",
    "    for  doc_n, doc in enumerate(tqdm_notebook(corpus, \n",
    "                                               desc='tag extract loop', leave=False)):\n",
    "        tokens = get_norm_tokens(doc_n, doc_term_matrix, id2term)\n",
    "        tags, unknown = doc_to_tags(tokens, thes)\n",
    "        UK += [', '.join(unknown)]\n",
    "        RT += [doc.text]\n",
    "        I += [', '.join(tags['I'])]\n",
    "        S += [', '.join(tags['S'])]\n",
    "        P += [', '.join(tags['P'])]\n",
    "    # get back a tagged DF\n",
    "    return pd.DataFrame(data={\n",
    "        'RawText': RT,\n",
    "        'Items': I,\n",
    "        'Problem': P,\n",
    "        'Solution': S,\n",
    "        'UK_tok': UK  # unknown\n",
    "    }, columns = ['RawText','Items','Problem','Solution','UK_tok'])\n",
    "\n",
    "df_pred = tag_corpus(corpus, df_vocab)\n",
    "df_pred.head(10)"
   ]
  },
  {
   "cell_type": "markdown",
   "metadata": {
    "slideshow": {
     "slide_type": "fragment"
    }
   },
   "source": [
    "- A lot of items are taken care of automatically. \n",
    "- where \"problems\" aren't listed, issue is generally routine maintenance. \n",
    "- **Assumption**: Problem and Solution tags are almost entirely independent sets. \n",
    "- We get a precise list of what *isn't* known for free...the \"Unknowns\". "
   ]
  },
  {
   "cell_type": "code",
   "execution_count": 8,
   "metadata": {
    "collapsed": true,
    "slideshow": {
     "slide_type": "skip"
    }
   },
   "outputs": [],
   "source": [
    "# save everything to disk\n",
    "df_pred.to_excel('keyword_tagged.xlsx')"
   ]
  },
  {
   "cell_type": "markdown",
   "metadata": {
    "cell_style": "center",
    "slideshow": {
     "slide_type": "subslide"
    }
   },
   "source": [
    "#### How many have no remaining Unknown Tokens?\n",
    "i.e. the mapping from token-space (domain) --> tag-space (codomain) is a surjection in the space of this issue"
   ]
  },
  {
   "cell_type": "code",
   "execution_count": 9,
   "metadata": {
    "cell_style": "center",
    "scrolled": true,
    "slideshow": {
     "slide_type": "fragment"
    }
   },
   "outputs": [
    {
     "data": {
      "text/plain": [
       "1687"
      ]
     },
     "execution_count": 9,
     "metadata": {},
     "output_type": "execute_result"
    }
   ],
   "source": [
    "df_pred[df_pred.UK_tok ==''].shape[0]"
   ]
  },
  {
   "cell_type": "markdown",
   "metadata": {
    "cell_style": "center",
    "slideshow": {
     "slide_type": "-"
    }
   },
   "source": [
    "Note that the 3438-1687 = 1751 others *apparently* have extra information to be extracted, or at least, *we cannot be certain that there isn't*."
   ]
  },
  {
   "cell_type": "markdown",
   "metadata": {
    "cell_style": "center",
    "slideshow": {
     "slide_type": "fragment"
    }
   },
   "source": [
    "#### How many got NO datafication?\n",
    "i.e. for how many issues was this process completely worthless? "
   ]
  },
  {
   "cell_type": "code",
   "execution_count": 10,
   "metadata": {
    "slideshow": {
     "slide_type": "fragment"
    }
   },
   "outputs": [
    {
     "name": "stdout",
     "output_type": "stream",
     "text": [
      "6\n"
     ]
    },
    {
     "data": {
      "text/html": [
       "<div>\n",
       "<style>\n",
       "    .dataframe thead tr:only-child th {\n",
       "        text-align: right;\n",
       "    }\n",
       "\n",
       "    .dataframe thead th {\n",
       "        text-align: left;\n",
       "    }\n",
       "\n",
       "    .dataframe tbody tr th {\n",
       "        vertical-align: top;\n",
       "    }\n",
       "</style>\n",
       "<table border=\"1\" class=\"dataframe\">\n",
       "  <thead>\n",
       "    <tr style=\"text-align: right;\">\n",
       "      <th></th>\n",
       "      <th>RawText</th>\n",
       "      <th>Items</th>\n",
       "      <th>Problem</th>\n",
       "      <th>Solution</th>\n",
       "      <th>UK_tok</th>\n",
       "    </tr>\n",
       "  </thead>\n",
       "  <tbody>\n",
       "    <tr>\n",
       "      <th>631</th>\n",
       "      <td>Unload automation not returning.</td>\n",
       "      <td></td>\n",
       "      <td></td>\n",
       "      <td></td>\n",
       "      <td>unload, automation</td>\n",
       "    </tr>\n",
       "    <tr>\n",
       "      <th>1816</th>\n",
       "      <td>.</td>\n",
       "      <td></td>\n",
       "      <td></td>\n",
       "      <td></td>\n",
       "      <td></td>\n",
       "    </tr>\n",
       "    <tr>\n",
       "      <th>2467</th>\n",
       "      <td>.</td>\n",
       "      <td></td>\n",
       "      <td></td>\n",
       "      <td></td>\n",
       "      <td></td>\n",
       "    </tr>\n",
       "    <tr>\n",
       "      <th>2571</th>\n",
       "      <td>Camshaft standstill. Gary!!</td>\n",
       "      <td></td>\n",
       "      <td></td>\n",
       "      <td></td>\n",
       "      <td>camshaft</td>\n",
       "    </tr>\n",
       "    <tr>\n",
       "      <th>3191</th>\n",
       "      <td>Disti water empty. Water filled;</td>\n",
       "      <td></td>\n",
       "      <td></td>\n",
       "      <td></td>\n",
       "      <td>disti, fill</td>\n",
       "    </tr>\n",
       "    <tr>\n",
       "      <th>3405</th>\n",
       "      <td>??.</td>\n",
       "      <td></td>\n",
       "      <td></td>\n",
       "      <td></td>\n",
       "      <td></td>\n",
       "    </tr>\n",
       "  </tbody>\n",
       "</table>\n",
       "</div>"
      ],
      "text/plain": [
       "                                RawText Items Problem Solution  \\\n",
       "631   Unload automation not returning.                           \n",
       "1816                                 .                           \n",
       "2467                                 .                           \n",
       "2571        Camshaft standstill. Gary!!                          \n",
       "3191  Disti water empty. Water filled;                           \n",
       "3405                               ??.                           \n",
       "\n",
       "                  UK_tok  \n",
       "631   unload, automation  \n",
       "1816                      \n",
       "2467                      \n",
       "2571            camshaft  \n",
       "3191         disti, fill  \n",
       "3405                      "
      ]
     },
     "execution_count": 10,
     "metadata": {},
     "output_type": "execute_result"
    }
   ],
   "source": [
    "# df_pred[df_pred.UK_tok ==''].dropna().shape\n",
    "print(df_pred[(df_pred[['Items','Problem','Solution']]=='').all(axis=1)].shape[0])\n",
    "df_pred[(df_pred[['Items','Problem','Solution']]=='').all(axis=1)]"
   ]
  },
  {
   "cell_type": "markdown",
   "metadata": {
    "slideshow": {
     "slide_type": "slide"
    }
   },
   "source": [
    "### How well did we do at automating the job of Tagging Issues?\n",
    "\n",
    "In order to somehow measure our success, we need something to compare with. \n",
    "\n",
    "Thankfully, some hard-working engineers have gone through and manually tagged over 1200 maintenance issues **by hand**. \n",
    "\n",
    "We can use these tags as the \"gold standard\" tags, with which to compare our automated keyword-->tag mapping. "
   ]
  },
  {
   "cell_type": "code",
   "execution_count": 11,
   "metadata": {
    "slideshow": {
     "slide_type": "skip"
    }
   },
   "outputs": [
    {
     "name": "stdout",
     "output_type": "stream",
     "text": [
      "['bar_feeder', 'chain', 'bar', 'broken', 'repair', 'bar_feeder', 'chain', 'bar']\n",
      "5\n"
     ]
    }
   ],
   "source": [
    "df_tag = pd.read_excel(raw_excel_filepath, header=1, encoding=sys.getfilesystemencoding(), \n",
    "                   names=['Description','Resolution','p_Item','p_Action','s_Action','s_Item'], parse_cols=5)\n",
    "mask = df_tag[['p_Item','p_Action','s_Action','s_Item']].notnull().any(axis=1)\n",
    "\n",
    "from itertools import chain\n",
    "from sklearn.preprocessing import MultiLabelBinarizer\n",
    "\n",
    "human_tags = [list(chain(*[tags.split(', ') for tags in issue[1].values if type(tags)==str])) \n",
    "              for issue in df_tag[['p_Item','p_Action','s_Action','s_Item']][mask].iterrows()]\n",
    "\n",
    "recog_tags =  [list(chain(*[tags.split(', ') for tags in issue[1].values if type(tags)==str])) \n",
    "              for issue in df_pred[['Items','Problem','Solution']][mask].iterrows()]\n",
    "\n",
    "print(human_tags[0])\n",
    "\n",
    "\n",
    "multi_bin =  MultiLabelBinarizer().fit(human_tags + recog_tags)\n",
    "Y_true = multi_bin.transform(human_tags)\n",
    "print(Y_true[0].sum())\n",
    "\n",
    "Y_train = multi_bin.transform(recog_tags)"
   ]
  },
  {
   "cell_type": "markdown",
   "metadata": {
    "slideshow": {
     "slide_type": "subslide"
    }
   },
   "source": [
    "#### But how will we measure this? \n",
    "\n",
    "One way is straight-forward and easy to compute...the accuracy. The **accuracy score** measures, on average, how many predicted outputs match the true outputs perfectly:\n",
    "\n",
    "\\begin{equation}\n",
    "S_A = \\frac{1}{n}\\sum_{i=1}^{n} \\mathbb{1}(T_i = P_i)\n",
    "\\end{equation}"
   ]
  },
  {
   "cell_type": "markdown",
   "metadata": {
    "slideshow": {
     "slide_type": "fragment"
    }
   },
   "source": [
    "#### A better alternative :\n",
    "\n",
    "This is an *overly-harsh metric* for the performance of multilabel classification, since it ignores *how close* we got to the correct output in each case. The **hamming score** is a more forgiving and/or useful metric:\n",
    "$$S_H = \\frac{1}{n}\\sum_{i=1}^{n} \\frac{|T_i \\cap P_i|}{|T_i \\cup P_i|}$$\n",
    "Note that the closely related **hamming loss** is similar to a distance metric, which unlike the others here is *better when low*."
   ]
  },
  {
   "cell_type": "markdown",
   "metadata": {
    "slideshow": {
     "slide_type": "subslide"
    }
   },
   "source": [
    "#### Interpretability, please: \n",
    "Finally, we can use the slightly more intuitive **precision**, **recall**, and their harmonic mean **$F_1$-score**. As put by Scikit-Learn: \n",
    "> Intuitively, *precision* is the ability of the classifier *not to label as positive a sample that is negative*, and *recall* is the ability of the classifier *to find all the positive samples*.\n",
    "\n",
    "Then, we can get some sort of combination that balances the two, embodied by $F_1$. Or, put formally:\n",
    "\n",
    "\n",
    "$$Pr = \\frac{1}{n}\\sum_{i=1}^{n} \\frac{|T_i \\cap P_i|}{|P_i|}$$\n",
    "\n",
    "$$Re = \\frac{1}{n}\\sum_{i=1}^{n} \\frac{|T_i \\cap P_i|}{|T_i|}$$\n",
    "$$F_1 = \\frac{1}{n}\\sum_{i=1}^{n} \\frac{2Pr_i Re_i}{Pr_i+Re_i}$$"
   ]
  },
  {
   "cell_type": "markdown",
   "metadata": {
    "slideshow": {
     "slide_type": "subslide"
    }
   },
   "source": [
    "If we want to model some difference between our importance of recall vs. precision, the generalized $F$-score is defined as:\n",
    "\n",
    "$$F_{\\beta} = \\frac{1}{n}\\sum_{i=1}^{n} (1+\\beta^2)\\frac{Pr_i Re_i}{\\beta^2 Pr_i+Re_i}$$\n",
    "\n",
    "From  Van Rijsbergen, this is defined so that $F_{\\beta}$:\n",
    "> \"measures the effectiveness of retrieval with respect to a user who attaches $\\beta$ times as much importance to recall as precision\"."
   ]
  },
  {
   "cell_type": "markdown",
   "metadata": {
    "cell_style": "split",
    "slideshow": {
     "slide_type": "fragment"
    }
   },
   "source": [
    "In our case, Since we do not really trust that the original tags given by humans were all-inclusive (i.e. they might have left out tags below some un-known relevance threshold determined by their attention [read: boredom] level), we want to place more importance on recall in our $F$-measure. We'll use the commonly-applied $F_2$"
   ]
  },
  {
   "cell_type": "code",
   "execution_count": 12,
   "metadata": {
    "cell_style": "split",
    "code_folding": [
     3
    ],
    "slideshow": {
     "slide_type": "fragment"
    }
   },
   "outputs": [
    {
     "name": "stdout",
     "output_type": "stream",
     "text": [
      "---Automatic Keyword Tagging (TF-IDF+human) ---\n",
      "Accuracy Score: \t 0.99%\n",
      "Hamming Score: \t 37.99%\n",
      "Hamming Loss: \t 3.61e-03\n",
      "\n",
      "Precision: \t 44.54%\n",
      "Recall: \t 68.81%\n",
      "F2 Score: \t 58.85%\n"
     ]
    }
   ],
   "source": [
    "from sklearn.metrics import hamming_loss, accuracy_score, precision_recall_fscore_support\n",
    "from scipy.stats import hmean  # harmonic mean\n",
    "\n",
    "def hamming_score(y_true, y_pred, normalize=True, sample_weight=None):\n",
    "    '''\n",
    "    Compute the Hamming score (a.k.a. label-based accuracy) for the multi-label case\n",
    "    http://stackoverflow.com/q/32239577/395857\n",
    "    '''\n",
    "    acc_list = []\n",
    "    for i in range(y_true.shape[0]):\n",
    "        set_true = set( np.where(y_true[i])[0] )\n",
    "        set_pred = set( np.where(y_pred[i])[0] )\n",
    "        #print('\\nset_true: {0}'.format(set_true))\n",
    "        #print('set_pred: {0}'.format(set_pred))\n",
    "        tmp_a = None\n",
    "        if len(set_true) == 0 and len(set_pred) == 0:\n",
    "            tmp_a = 1\n",
    "        else:\n",
    "            tmp_a = len(set_true.intersection(set_pred))/\\\n",
    "                    float( len(set_true.union(set_pred)) )\n",
    "        #print('tmp_a: {0}'.format(tmp_a))\n",
    "        acc_list.append(tmp_a)\n",
    "    return np.mean(acc_list)\n",
    "\n",
    "def f_score(y_true, y_pred, beta=1.):\n",
    "    '''\n",
    "    Compute the Precision, Recall, and F-beta Score for the multi-label case\n",
    "    http://stackoverflow.com/q/32239577/395857\n",
    "    '''\n",
    "    fsc_list = []\n",
    "    pre_list = []\n",
    "    rec_list = []\n",
    "    for i in range(y_true.shape[0]):\n",
    "        set_true = set( np.where(y_true[i])[0] )\n",
    "        set_pred = set( np.where(y_pred[i])[0] )\n",
    "        #print('\\nset_true: {0}'.format(set_true))\n",
    "        #print('set_pred: {0}'.format(set_pred))\n",
    "        tmp_a = None\n",
    "        if len(set_true) == 0 and len(set_pred) == 0:\n",
    "            tmp_p, tmp_r, tmp_f = 1, 1, 1\n",
    "        elif len(set_true.intersection(set_pred)) ==0:\n",
    "            tmp_p = 0\n",
    "            tmp_r = 0\n",
    "            tmp_f = 0\n",
    "        else:\n",
    "            tmp_p = len(set_true.intersection(set_pred))/\\\n",
    "                    float( len(set_pred) ) \n",
    "            tmp_r = len(set_true.intersection(set_pred))/\\\n",
    "                    float( len(set_true) )\n",
    "            try:\n",
    "                tmp_f = ((1.+beta**2)*tmp_p*tmp_r)/((beta**2)*tmp_p + tmp_r)\n",
    "            except ValueError:\n",
    "                print(tmp_p, tmp_r)\n",
    "                raise\n",
    "        #print('tmp_a: {0}'.format(tmp_a))\n",
    "        pre_list.append(tmp_p)\n",
    "        rec_list.append(tmp_r)\n",
    "        fsc_list.append(tmp_f)\n",
    "    return np.array(pre_list), np.array(rec_list), np.array(fsc_list)\n",
    "\n",
    "print('---Automatic Keyword Tagging (TF-IDF+human) ---')\n",
    "print('Accuracy Score: \\t {:.2%}\\nHamming Score: \\t {:.2%}\\nHamming Loss: \\t {:.2e}'.format(accuracy_score(Y_true, Y_train),\n",
    "                                                                          hamming_score(Y_true, Y_train),\n",
    "                                                                          hamming_loss(Y_true, Y_train)))\n",
    "\n",
    "beta=2\n",
    "\n",
    "print('\\nPrecision: \\t {:.2%}\\nRecall: \\t {:.2%}\\nF{beta} Score: \\t {:.2%}'.format(\n",
    "    *[np.mean(i) for i in f_score(Y_true, Y_train, beta=beta)], beta=beta\n",
    "))\n",
    "# print '\\nPrecision: \\t {:.2%}\\nRecall: \\t {:.2%}\\nF1 Score: \\t {:.2%}'.format(\n",
    "#     *[np.mean(i) for i in precision_recall_fscore_support(Y_true, Y_train)[:-1]]\n",
    "# )"
   ]
  },
  {
   "cell_type": "code",
   "execution_count": 19,
   "metadata": {},
   "outputs": [
    {
     "data": {
      "application/vnd.jupyter.widget-view+json": {
       "model_id": "c455e7f5a0d5492a8e682b4b3dac39e6"
      }
     },
     "metadata": {},
     "output_type": "display_data"
    },
    {
     "data": {
      "application/vnd.jupyter.widget-view+json": {
       "model_id": "8ac765ed825446d6ad422d9cc7000a44"
      }
     },
     "metadata": {},
     "output_type": "display_data"
    },
    {
     "data": {
      "application/vnd.jupyter.widget-view+json": {
       "model_id": "7c01de7c33b34802b55eb0f8b7e25156"
      }
     },
     "metadata": {},
     "output_type": "display_data"
    },
    {
     "data": {
      "application/vnd.jupyter.widget-view+json": {
       "model_id": "02f2ea1982294784b299014a66530068"
      }
     },
     "metadata": {},
     "output_type": "display_data"
    },
    {
     "data": {
      "application/vnd.jupyter.widget-view+json": {
       "model_id": "8533268204b944d181e0a08744a1a4cc"
      }
     },
     "metadata": {},
     "output_type": "display_data"
    },
    {
     "data": {
      "application/vnd.jupyter.widget-view+json": {
       "model_id": "766b841b63d34eb2a6a20241705993a7"
      }
     },
     "metadata": {},
     "output_type": "display_data"
    },
    {
     "data": {
      "application/vnd.jupyter.widget-view+json": {
       "model_id": "f4d4ea3b5c80455dab69189a9e3331c7"
      }
     },
     "metadata": {},
     "output_type": "display_data"
    },
    {
     "data": {
      "application/vnd.jupyter.widget-view+json": {
       "model_id": "a86f8294cd5b46db83ebd2ccbbaf37e1"
      }
     },
     "metadata": {},
     "output_type": "display_data"
    },
    {
     "data": {
      "application/vnd.jupyter.widget-view+json": {
       "model_id": "62a2dfdab916412b8fa6cabb289bf931"
      }
     },
     "metadata": {},
     "output_type": "display_data"
    },
    {
     "data": {
      "application/vnd.jupyter.widget-view+json": {
       "model_id": "544170224c534a9f93e6e048deb4832d"
      }
     },
     "metadata": {},
     "output_type": "display_data"
    },
    {
     "data": {
      "application/vnd.jupyter.widget-view+json": {
       "model_id": "05493b2ccfc54e96b8453e751862db4a"
      }
     },
     "metadata": {},
     "output_type": "display_data"
    },
    {
     "data": {
      "application/vnd.jupyter.widget-view+json": {
       "model_id": "1f4e01e099974620b29fa2a28fed8b81"
      }
     },
     "metadata": {},
     "output_type": "display_data"
    },
    {
     "data": {
      "application/vnd.jupyter.widget-view+json": {
       "model_id": "ec2e756bdc40486396c257299fceb95b"
      }
     },
     "metadata": {},
     "output_type": "display_data"
    },
    {
     "data": {
      "application/vnd.jupyter.widget-view+json": {
       "model_id": "7a8d44cf9cb64ef5965227e83a68ca62"
      }
     },
     "metadata": {},
     "output_type": "display_data"
    },
    {
     "name": "stdout",
     "output_type": "stream",
     "text": [
      "\n"
     ]
    }
   ],
   "source": [
    "case_study = []\n",
    "for n_vocab in tqdm_notebook(np.arange(100,1400, 100), \n",
    "                             desc='experiment loop'):\n",
    "    res = {}\n",
    "    res['df'] = tag_corpus(corpus, df_vocab.iloc[:n_vocab])\n",
    "    res['n_complete'] = res['df'][res['df'].UK_tok ==''].shape[0]\n",
    "    res['n_empty'] = res['df'][(res['df'][['Items','Problem','Solution']]=='').all(axis=1)].shape[0]\n",
    "    \n",
    "    recog_tags =  [list(chain(*[tags.split(', ') for tags in issue[1].values if type(tags)==str])) \n",
    "                   for issue in res['df'][['Items','Problem','Solution']][mask].iterrows()]\n",
    "    multi_bin =  MultiLabelBinarizer().fit(human_tags + recog_tags)\n",
    "    Y_true = multi_bin.transform(human_tags)\n",
    "    Y_train = multi_bin.transform(recog_tags)\n",
    "    \n",
    "    res['hamming'] = hamming_score(Y_true, Y_train)\n",
    "    res['FPR_2'] = f_score(Y_true, Y_train, beta=2)\n",
    "    \n",
    "    case_study += [res]\n",
    "    "
   ]
  },
  {
   "cell_type": "code",
   "execution_count": 20,
   "metadata": {
    "cell_style": "center",
    "slideshow": {
     "slide_type": "subslide"
    }
   },
   "outputs": [
    {
     "data": {
      "image/png": "[encoded data removed]",
      "text/plain": [
       "<matplotlib.figure.Figure at 0x7f65b5f257b8>"
      ]
     },
     "metadata": {},
     "output_type": "display_data"
    }
   ],
   "source": [
    "f,ax = plt.subplots(nrows=2, figsize=(5,6))\n",
    "tagged = ax[0].plot(np.arange(100,1400, 100),\n",
    "         np.array([i['n_complete'] for i in case_study])/float(df_pred.shape[0]), \n",
    "           label='Tag-complete issues', c='k', marker='.')\n",
    "ax2 = ax[0].twinx()\n",
    "untag = ax2.plot(np.arange(100,1400, 100),\n",
    "         np.array([i['n_empty'] for i in case_study])/float(df_pred.shape[0]),\n",
    "         label = \"Un-datified issues\", marker='.', c='crimson', ls=':')\n",
    "\n",
    "lns = tagged + untag\n",
    "labs = [l.get_label() for l in lns]\n",
    "ax[0].legend(lns, labs, loc='center right')\n",
    "ax2.tick_params(axis='y', colors='crimson')\n",
    "\n",
    "ax[0].set_ylabel('Pct. of Total Issues')\n",
    "ax[0].set_xlabel('Vocabulary List Length')\n",
    "ax[0].set_title('\"Datafication\" over Time')\n",
    "# ax[0].legend(, loc=0)\n",
    "\n",
    "vals = ax[0].get_yticks()\n",
    "ax[0].set_yticklabels(['{:.0%}'.format(x) for x in vals])\n",
    "vals = ax2.get_yticks()\n",
    "ax2.set_yticklabels(['{:.1%}'.format(x) for x in vals])\n",
    "\n",
    "ax[1].plot(np.arange(100,1400, 100),\n",
    "         [i['FPR_2'][2].mean() for i in case_study], label=u'$F_2$-score', c='k',marker='.')\n",
    "ax[1].plot(np.arange(100,1400, 100),\n",
    "         [i['FPR_2'][0].mean() for i in case_study], label='Precision', c='k', ls=':',marker='.')\n",
    "ax[1].plot(np.arange(100,1400, 100),\n",
    "         [i['FPR_2'][1].mean() for i in case_study], label='Recall', c='k', ls='--',marker='.')\n",
    "\n",
    "ax[1].plot(np.arange(100,1400, 100),\n",
    "         [i['hamming'] for i in case_study], label='Hamming', ls='-',marker='o', c='k', markerfacecolor='white')\n",
    "ax[1].legend(loc='center right')\n",
    "ax[1].set_ylabel('Score')\n",
    "ax[1].set_xlabel('Vocabulary list length')\n",
    "ax[1].set_title('Comparison Scores w.r.t. Standard Tagging')\n",
    "\n",
    "plt.tight_layout()\n",
    "plt.savefig('study.png')"
   ]
  },
  {
   "cell_type": "markdown",
   "metadata": {
    "slideshow": {
     "slide_type": "slide"
    }
   },
   "source": [
    "## Using Machine Learning (SVM + Word2Vec)\n",
    "### Benchmarking the auto-tagger"
   ]
  },
  {
   "cell_type": "markdown",
   "metadata": {
    "slideshow": {
     "slide_type": "subslide"
    }
   },
   "source": [
    "### Is there another way? \n",
    "\n",
    "Now, it's important to note that all of the above was done **only** with a list of categorized keywords (i.e. some mapping from token-space to tag-space), and creating that mapping did not at all depend upon some human having tagged *individual issues* already...we were just using those tagged issues as a scoring/benchmark tool. \n",
    "\n",
    "If we approach this as a classification problem, assuming these tagged issues *do exist*, we might attempt to train a classifier to predict the set of tags appropriate for given **raw-english** input."
   ]
  },
  {
   "cell_type": "markdown",
   "metadata": {
    "slideshow": {
     "slide_type": "subslide"
    }
   },
   "source": [
    "#### Let's try this: \n",
    "- first a mapping from token-space to some useful vector-space (could be tf-idf, maybe a topic model, but here we will use the shiny new **Word2Vec** semantic embedding vectors of our corpus, courtesy of Google+Textacy/Spacy). \n",
    "- Then we will train a **classifier** to exactly match the **Multilabel** output, represented by the individual human-tagged issues. \n",
    "\n",
    "Support-vector-machines work amazingly well on text embedding classification jobs, so let's use a linear SVC trained using stochasic gradient descent (SGD) via sklearn. We should also minimize overfitting with this hugely dimensional job, so we'll regularize with an elasticnet penalty (L1+L2).  "
   ]
  },
  {
   "cell_type": "markdown",
   "metadata": {
    "slideshow": {
     "slide_type": "subslide"
    }
   },
   "source": [
    "![svm_pipe.png](svm_pipe.png)"
   ]
  },
  {
   "cell_type": "markdown",
   "metadata": {
    "slideshow": {
     "slide_type": "subslide"
    }
   },
   "source": [
    "```python \n",
    "from sklearn.multiclass import OneVsRestClassifier\n",
    "from sklearn.linear_model import SGDClassifier\n",
    "\n",
    "X_train = corpus.vectors[mask]\n",
    "clf = OneVsRestClassifier(SGDClassifier(#class_weight='balanced',  # compensate for class freqs\n",
    "                                        penalty='elasticnet'   # L1 + L2 regularized\n",
    "                                        ), n_jobs=3  # 3-cores for the one-vs-all \n",
    "                         )\n",
    "clf.fit(X_train, Y_true)\n",
    "Y_train_w2v = clf.predict(X_train)\n",
    "```"
   ]
  },
  {
   "cell_type": "code",
   "execution_count": 13,
   "metadata": {
    "collapsed": true,
    "scrolled": true,
    "slideshow": {
     "slide_type": "skip"
    }
   },
   "outputs": [],
   "source": [
    "from sklearn.multiclass import OneVsRestClassifier\n",
    "from sklearn.linear_model import SGDClassifier\n",
    "import warnings\n",
    "\n",
    "X_train = corpus.vectors[mask]\n",
    "clf = OneVsRestClassifier(SGDClassifier(#class_weight='balanced',  # compensate for class freqs\n",
    "                                        penalty='elasticnet'   # L1 + L2 regularized\n",
    "                                        ), n_jobs=-1  # cores for the one-vs-all \n",
    "                         )\n",
    "with warnings.catch_warnings():\n",
    "    warnings.simplefilter(\"ignore\")\n",
    "    clf.fit(X_train, Y_true);\n",
    "Y_train_w2v = clf.predict(X_train)"
   ]
  },
  {
   "cell_type": "code",
   "execution_count": 14,
   "metadata": {
    "scrolled": true,
    "slideshow": {
     "slide_type": "fragment"
    }
   },
   "outputs": [
    {
     "name": "stdout",
     "output_type": "stream",
     "text": [
      "---W2V Embeddings with SVC (OneVsRest, SGD)---\n",
      "Accuracy Score: \t 11.96%\n",
      "Hamming Score: \t 46.64%\n",
      "Hamming Loss: \t 2.21e-03\n",
      "\n",
      "Precision: \t 69.26%\n",
      "Recall: \t 58.12%\n",
      "F2 Score: \t 56.92%\n"
     ]
    }
   ],
   "source": [
    "print('---W2V Embeddings with SVC (OneVsRest, SGD)---')\n",
    "print('Accuracy Score: \\t {:.2%}\\nHamming Score: \\t {:.2%}\\nHamming Loss: \\t {:.2e}'.format(accuracy_score(Y_true, Y_train_w2v),\n",
    "                                                                          hamming_score(Y_true, Y_train_w2v),\n",
    "                                                                          hamming_loss(Y_true, Y_train_w2v)))\n",
    "beta=2\n",
    "print('\\nPrecision: \\t {:.2%}\\nRecall: \\t {:.2%}\\nF{beta} Score: \\t {:.2%}'.format(\n",
    "    *[np.mean(i) for i in f_score(Y_true, Y_train_w2v, beta=beta)], beta=beta\n",
    "))\n",
    "# print '\\nPrecision: \\t {:.2%}\\nRecall: \\t {:.2%}\\nF1 Score: \\t {:.2%}'.format(\n",
    "#     *[np.mean(i) for i in precision_recall_fscore_support(Y_true, Y_train_w2v)[:-1]]\n",
    "# )"
   ]
  },
  {
   "cell_type": "code",
   "execution_count": 46,
   "metadata": {
    "slideshow": {
     "slide_type": "skip"
    }
   },
   "outputs": [
    {
     "name": "stdout",
     "output_type": "stream",
     "text": [
      "Performing grid search...\n",
      "parameters:\n",
      "{'estimator__alpha': (0.001, 0.0001, 1e-05),\n",
      " 'estimator__loss': ('hinge',\n",
      "                     'log',\n",
      "                     'modified_huber',\n",
      "                     'squared_hinge',\n",
      "                     'perceptron'),\n",
      " 'estimator__n_iter': (1, 5, 10),\n",
      " 'estimator__penalty': ('l1', 'l2', 'elasticnet')}\n",
      "Fitting 3 folds for each of 135 candidates, totalling 405 fits\n"
     ]
    },
    {
     "name": "stderr",
     "output_type": "stream",
     "text": [
      "[Parallel(n_jobs=-1)]: Done  18 tasks      | elapsed:   55.4s\n",
      "[Parallel(n_jobs=-1)]: Done 168 tasks      | elapsed:  7.4min\n",
      "[Parallel(n_jobs=-1)]: Done 405 out of 405 | elapsed: 17.5min finished\n"
     ]
    },
    {
     "name": "stdout",
     "output_type": "stream",
     "text": [
      "done in 1055.964s\n",
      "\n",
      "Best score: 0.106\n",
      "Best parameters set:\n",
      "\testimator__alpha: 0.001\n",
      "\testimator__loss: 'log'\n",
      "\testimator__n_iter: 5\n",
      "\testimator__penalty: 'l2'\n"
     ]
    }
   ],
   "source": [
    "from sklearn.model_selection import GridSearchCV\n",
    "from pprint import pprint\n",
    "from time import time\n",
    "import warnings\n",
    "\n",
    "\n",
    "parameters = {\n",
    "    'estimator__alpha': (1e-3, 1e-4, 1e-5),\n",
    "    'estimator__penalty': ('l1', 'l2', 'elasticnet'),\n",
    "    'estimator__n_iter': (1, 5, 10),\n",
    "    'estimator__loss': ('hinge', 'log', 'modified_huber', 'squared_hinge', 'perceptron')\n",
    "}\n",
    "\n",
    "grid_search = GridSearchCV(clf, parameters, verbose=1, n_jobs=-1)\n",
    "\n",
    "print(\"Performing grid search...\")\n",
    "print(\"parameters:\")\n",
    "pprint(parameters)\n",
    "t0 = time()\n",
    "\n",
    "with warnings.catch_warnings():\n",
    "    warnings.simplefilter(\"ignore\")\n",
    "    grid_search.fit(X_train, Y_true)\n",
    "print(\"done in %0.3fs\" % (time() - t0))\n",
    "print()\n",
    "\n",
    "print(\"Best score: %0.3f\" % grid_search.best_score_)\n",
    "print(\"Best parameters set:\")\n",
    "best_parameters = grid_search.best_estimator_.get_params()\n",
    "for param_name in sorted(parameters.keys()):\n",
    "    print(\"\\t%s: %r\" % (param_name, best_parameters[param_name]))"
   ]
  },
  {
   "cell_type": "code",
   "execution_count": 47,
   "metadata": {
    "slideshow": {
     "slide_type": "skip"
    }
   },
   "outputs": [
    {
     "name": "stdout",
     "output_type": "stream",
     "text": [
      "---W2V Embeddings with SVC (CV, OneVsRest, SGD)---\n",
      "Accuracy Score: \t 14.00%\n",
      "Hamming Score: \t 34.16%\n",
      "Hamming Loss: \t 2.42e-03\n",
      "\n",
      "Precision: \t 61.84%\n",
      "Recall: \t 37.27%\n",
      "F2 Score: \t 38.50%\n"
     ]
    }
   ],
   "source": [
    "Y_train_cv = grid_search.predict(X_train)\n",
    "\n",
    "print('---W2V Embeddings with SVC (CV, OneVsRest, SGD)---')\n",
    "print('Accuracy Score: \\t {:.2%}\\nHamming Score: \\t {:.2%}\\nHamming Loss: \\t {:.2e}'.format(accuracy_score(Y_true, Y_train_cv),\n",
    "                                                                          hamming_score(Y_true, Y_train_cv),\n",
    "                                                                          hamming_loss(Y_true, Y_train_cv)))\n",
    "beta=2\n",
    "print('\\nPrecision: \\t {:.2%}\\nRecall: \\t {:.2%}\\nF{beta} Score: \\t {:.2%}'.format(\n",
    "    *[np.mean(i) for i in f_score(Y_true, Y_train_cv, beta=beta)], beta=beta\n",
    "))\n",
    "# print '\\nPrecision: \\t {:.2%}\\nRecall: \\t {:.2%}\\nF1 Score: \\t {:.2%}'.format(\n",
    "#     *[np.mean(i) for i in precision_recall_fscore_support(Y_true, Y_train_w2v)[:-1]]\n",
    "# )"
   ]
  },
  {
   "cell_type": "code",
   "execution_count": 19,
   "metadata": {
    "collapsed": true,
    "slideshow": {
     "slide_type": "skip"
    }
   },
   "outputs": [],
   "source": [
    "# from __future__ import print_function\n",
    "from ipywidgets import interact, interactive\n",
    "import ipywidgets as widgets\n",
    "from IPython.display import display\n",
    "\n",
    "def compare_by_issue(iss):\n",
    "    print('Issue No. ',iss)\n",
    "    print(df_pred[mask]['RawText'].iloc[iss])\n",
    "    print('\\nHuman-tagged \\\"True\\\" Keyworks/Tags: \\t{}'.format(', '.join(sorted(multi_bin.inverse_transform(Y_true)[iss]))))\n",
    "\n",
    "    print('\\nTF-IDF rank Human-classified keywords: \\t{}'.format(', '.join(sorted(multi_bin.inverse_transform(Y_train)[iss]))))\n",
    "    print('Precision: \\t {:.2%}\\nRecall: \\t {:.2%}\\nF2 Score: \\t {:.2%}'.format(\n",
    "        *[i[iss] for i in f_score(Y_true, Y_train, beta=2.)]\n",
    "    ))\n",
    "    print('\\nWord2Vec + SVM Multilabel Classifier: \\t{}'.format(', '.join(sorted(multi_bin.inverse_transform(Y_train_w2v)[iss]))))\n",
    "    print('Precision: \\t {:.2%}\\nRecall: \\t {:.2%}\\nF2 Score: \\t {:.2%}'.format(\n",
    "        *[i[iss] for i in f_score(Y_true, Y_train_w2v, beta=2.)]\n",
    "    ))\n",
    "# compare_by_issue(0)"
   ]
  },
  {
   "cell_type": "code",
   "execution_count": 50,
   "metadata": {
    "slideshow": {
     "slide_type": "skip"
    }
   },
   "outputs": [
    {
     "data": {
      "application/vnd.jupyter.widget-view+json": {
       "model_id": "c0a1d0fd4f5445b3bb47793f2506c760"
      }
     },
     "metadata": {},
     "output_type": "display_data"
    },
    {
     "name": "stdout",
     "output_type": "stream",
     "text": [
      "\n"
     ]
    }
   ],
   "source": [
    "svm_study = []\n",
    "for n_vocab in tqdm_notebook(range(30)):\n",
    "    res = {}\n",
    "    \n",
    "#     res['clf'] = OneVsRestClassifier(SGDClassifier(#class_weight='balanced',  # compensate for class freqs\n",
    "#                                             penalty='elasticnet',   # L1 + L2 regularized\n",
    "#                                             n_iter=80,\n",
    "#                                                 alpha=0.001\n",
    "#                                             ), n_jobs=-1  # all cores for the one-vs-all \n",
    "#                               )\n",
    "    res['clf'] = OneVsRestClassifier(SGDClassifier(#class_weight='balanced',  # compensate for class freqs\n",
    "                                            penalty='l2',   # L1 + L2 regularized\n",
    "                                            n_iter=5,\n",
    "                                            alpha=0.001,\n",
    "                                            loss='log'\n",
    "                                            ), n_jobs=-1  # all cores for the one-vs-all \n",
    "                                    )\n",
    "    with warnings.catch_warnings():\n",
    "        warnings.simplefilter(\"ignore\")\n",
    "        res['clf'].fit(X_train, Y_true)\n",
    "    Y_train_w2v = res['clf'].predict(X_train)\n",
    "    \n",
    "    res['hamming'] = hamming_score(Y_true, Y_train_w2v)\n",
    "    res['FPR_2'] = f_score(Y_true, Y_train_w2v, beta=2)\n",
    "    \n",
    "    svm_study += [res]"
   ]
  },
  {
   "cell_type": "code",
   "execution_count": 51,
   "metadata": {
    "cell_style": "split",
    "slideshow": {
     "slide_type": "subslide"
    }
   },
   "outputs": [
    {
     "data": {
      "text/html": [
       "<div>\n",
       "<style>\n",
       "    .dataframe thead tr:only-child th {\n",
       "        text-align: right;\n",
       "    }\n",
       "\n",
       "    .dataframe thead th {\n",
       "        text-align: left;\n",
       "    }\n",
       "\n",
       "    .dataframe tbody tr th {\n",
       "        vertical-align: top;\n",
       "    }\n",
       "</style>\n",
       "<table border=\"1\" class=\"dataframe\">\n",
       "  <thead>\n",
       "    <tr style=\"text-align: right;\">\n",
       "      <th></th>\n",
       "      <th>IQR</th>\n",
       "      <th>Median</th>\n",
       "    </tr>\n",
       "  </thead>\n",
       "  <tbody>\n",
       "    <tr>\n",
       "      <th>$F_2$</th>\n",
       "      <td>0.018244</td>\n",
       "      <td>0.364804</td>\n",
       "    </tr>\n",
       "    <tr>\n",
       "      <th>$Pr$</th>\n",
       "      <td>0.033914</td>\n",
       "      <td>0.607965</td>\n",
       "    </tr>\n",
       "    <tr>\n",
       "      <th>$Re$</th>\n",
       "      <td>0.018849</td>\n",
       "      <td>0.352737</td>\n",
       "    </tr>\n",
       "    <tr>\n",
       "      <th>$S_H$</th>\n",
       "      <td>0.013813</td>\n",
       "      <td>0.327140</td>\n",
       "    </tr>\n",
       "  </tbody>\n",
       "</table>\n",
       "</div>"
      ],
      "text/plain": [
       "            IQR    Median\n",
       "$F_2$  0.018244  0.364804\n",
       "$Pr$   0.033914  0.607965\n",
       "$Re$   0.018849  0.352737\n",
       "$S_H$  0.013813  0.327140"
      ]
     },
     "execution_count": 51,
     "metadata": {},
     "output_type": "execute_result"
    }
   ],
   "source": [
    "from scipy.stats import iqr\n",
    "\n",
    "df_svm = pd.DataFrame.from_dict(data={u'$Pr$': np.array([i['FPR_2'][0].mean() for i in svm_study]),\n",
    "                            u'$Re$': np.array([i['FPR_2'][1].mean() for i in svm_study]),\n",
    "                            u'$F_2$':np.array([i['FPR_2'][2].mean() for i in svm_study]),\n",
    "                            u'$S_H$':np.array([i['hamming'] for i in svm_study])}\n",
    "                     )\n",
    "# sns.distplot(df_svm[u'$S_H$'])\n",
    "def IQR(a):\n",
    "    return np.subtract(*np.percentile(a, [75, 25]))\n",
    "\n",
    "pd.DataFrame({'Median':df_svm.agg('median'), 'IQR':df_svm.agg(IQR)})\n"
   ]
  },
  {
   "cell_type": "code",
   "execution_count": 55,
   "metadata": {
    "cell_style": "split",
    "slideshow": {
     "slide_type": "-"
    }
   },
   "outputs": [
    {
     "data": {
      "text/plain": [
       "<matplotlib.text.Text at 0x7f659de1d438>"
      ]
     },
     "execution_count": 55,
     "metadata": {},
     "output_type": "execute_result"
    },
    {
     "data": {
      "image/png": "[encoded data removed]",
      "text/plain": [
       "<matplotlib.figure.Figure at 0x7f659e19b048>"
      ]
     },
     "metadata": {},
     "output_type": "display_data"
    }
   ],
   "source": [
    "plt.figure(figsize=(6,3))\n",
    "sns.boxplot(data=df_svm, orient='h', width=.6, color='white', notch=True, bootstrap=10000)\n",
    "plt.scatter([.5885, .4454, .6881,.3799], [0,1,2,3], c='crimson', marker='.', s=70, label='Vocab. Tags')\n",
    "plt.legend()\n",
    "plt.title('Classifier Scores (30 Trials)')\n",
    "# plt.boxplot()"
   ]
  },
  {
   "cell_type": "markdown",
   "metadata": {
    "slideshow": {
     "slide_type": "subslide"
    }
   },
   "source": [
    "Wow, that's pretty fantastic, considering the task we've set before it! Better performance, at least on a per-metric level, than our automated keyword-tagger in every way! \n",
    "\n",
    "Still, note that the precision is almost 80%...this may or may not be a model we want to actually use early on, given that we may or may not trust our engineers' tagging job. Assuming We 100% trust the keyword flagger when it recognizes a word, the precision of that one is actually 100%, and any discrepancy is on the part of *the original tags*. \n",
    "\n",
    "Another way to look at it is our keyword tagger is being really nit-picky and overly-accurate, which precision is punishing. Our classifier, on the other hand, is being trained *to tag like the humans*. \n",
    "\n",
    "Let's dig in a bit.. To get a more fine-grained idea of what's going on, we can also look at the Pr/Re/F scores on an individual-issue level to get a better idea of the performance of each model. "
   ]
  },
  {
   "cell_type": "code",
   "execution_count": 20,
   "metadata": {
    "slideshow": {
     "slide_type": "subslide"
    }
   },
   "outputs": [
    {
     "data": {
      "application/vnd.jupyter.widget-view+json": {
       "model_id": "a3f4b7eeed124004a101042f2db9cda2"
      }
     },
     "metadata": {},
     "output_type": "display_data"
    }
   ],
   "source": [
    "interact(compare_by_issue, iss=widgets.BoundedIntText(\n",
    "                    value=0,\n",
    "                    min=0,\n",
    "                    max=3437,\n",
    "                    description='Pick an Issue No.:',\n",
    "                    step=1\n",
    "                    )\n",
    "               );\n",
    "# display(w)"
   ]
  },
  {
   "cell_type": "markdown",
   "metadata": {
    "slideshow": {
     "slide_type": "slide"
    }
   },
   "source": [
    "# Analysis\n",
    "\n",
    "Now that we have tags, what do we do with them?\n"
   ]
  },
  {
   "cell_type": "markdown",
   "metadata": {
    "slideshow": {
     "slide_type": "subslide"
    }
   },
   "source": [
    "- **MaxLikelihood Example Demo**\n",
    "- **Something simpler?**\n",
    "\n",
    "First let's get some of the most common tags and convert them into binary indicators on a per-issue basis. "
   ]
  },
  {
   "cell_type": "code",
   "execution_count": 21,
   "metadata": {
    "slideshow": {
     "slide_type": "skip"
    }
   },
   "outputs": [
    {
     "name": "stdout",
     "output_type": "stream",
     "text": [
      "e.g. ...\n"
     ]
    },
    {
     "data": {
      "text/plain": [
       "[('unit', 366, array([0, 0, 0, ..., 0, 0, 0])),\n",
       " ('spindle', 297, array([0, 0, 0, ..., 0, 0, 0])),\n",
       " ('hydraulic', 275, array([0, 0, 0, ..., 0, 1, 1])),\n",
       " ('motor', 248, array([0, 0, 0, ..., 0, 0, 0])),\n",
       " ('valve', 234, array([0, 0, 0, ..., 0, 0, 1])),\n",
       " ('bar', 232, array([1, 0, 0, ..., 0, 0, 0])),\n",
       " ('accumulator', 204, array([0, 0, 0, ..., 0, 0, 0])),\n",
       " ('machine', 204, array([0, 1, 0, ..., 0, 0, 0])),\n",
       " ('coolant', 198, array([0, 0, 0, ..., 0, 0, 0])),\n",
       " ('person', 190, array([0, 0, 1, ..., 0, 0, 0]))]"
      ]
     },
     "execution_count": 21,
     "metadata": {},
     "output_type": "execute_result"
    }
   ],
   "source": [
    "def get_relevant(df, col, topn=20):\n",
    "    \n",
    "    tags = [x[1][col].split(', ') for x in df.iterrows()]\n",
    "    binner = MultiLabelBinarizer().fit(tags)\n",
    "    vecs = binner.transform(tags)\n",
    "    counts = vecs.sum(axis=0)\n",
    "    relevant = [(binner.classes_[i], counts[i], vecs[:,i]) for i in counts.argsort()[-topn:][::-1]]\n",
    "    return relevant\n",
    "\n",
    "relevant = get_relevant(df_pred, 'Items', topn=20) +\\\n",
    "get_relevant(df_pred, 'Problem', topn=20) +\\\n",
    "get_relevant(df_pred, 'Solution', topn=20)\n",
    "print('e.g. ...')\n",
    "relevant[:10]"
   ]
  },
  {
   "cell_type": "code",
   "execution_count": 22,
   "metadata": {
    "scrolled": false,
    "slideshow": {
     "slide_type": "fragment"
    }
   },
   "outputs": [
    {
     "data": {
      "text/html": [
       "<div>\n",
       "<style>\n",
       "    .dataframe thead tr:only-child th {\n",
       "        text-align: right;\n",
       "    }\n",
       "\n",
       "    .dataframe thead th {\n",
       "        text-align: left;\n",
       "    }\n",
       "\n",
       "    .dataframe tbody tr th {\n",
       "        vertical-align: top;\n",
       "    }\n",
       "</style>\n",
       "<table border=\"1\" class=\"dataframe\">\n",
       "  <thead>\n",
       "    <tr style=\"text-align: right;\">\n",
       "      <th></th>\n",
       "      <th>unit</th>\n",
       "      <th>spindle</th>\n",
       "      <th>hydraulic</th>\n",
       "      <th>motor</th>\n",
       "      <th>valve</th>\n",
       "      <th>bar</th>\n",
       "      <th>accumulator</th>\n",
       "      <th>machine</th>\n",
       "      <th>coolant</th>\n",
       "      <th>person</th>\n",
       "      <th>...</th>\n",
       "      <th>charge</th>\n",
       "      <th>reset</th>\n",
       "      <th>clear</th>\n",
       "      <th>swap</th>\n",
       "      <th>load</th>\n",
       "      <th>cycle</th>\n",
       "      <th>level</th>\n",
       "      <th>check_request</th>\n",
       "      <th>report</th>\n",
       "      <th>train_operator</th>\n",
       "    </tr>\n",
       "  </thead>\n",
       "  <tbody>\n",
       "    <tr>\n",
       "      <th>0</th>\n",
       "      <td>0</td>\n",
       "      <td>0</td>\n",
       "      <td>0</td>\n",
       "      <td>0</td>\n",
       "      <td>0</td>\n",
       "      <td>1</td>\n",
       "      <td>0</td>\n",
       "      <td>0</td>\n",
       "      <td>0</td>\n",
       "      <td>0</td>\n",
       "      <td>...</td>\n",
       "      <td>0</td>\n",
       "      <td>0</td>\n",
       "      <td>0</td>\n",
       "      <td>0</td>\n",
       "      <td>0</td>\n",
       "      <td>0</td>\n",
       "      <td>0</td>\n",
       "      <td>0</td>\n",
       "      <td>0</td>\n",
       "      <td>0</td>\n",
       "    </tr>\n",
       "    <tr>\n",
       "      <th>1</th>\n",
       "      <td>0</td>\n",
       "      <td>0</td>\n",
       "      <td>0</td>\n",
       "      <td>0</td>\n",
       "      <td>0</td>\n",
       "      <td>0</td>\n",
       "      <td>0</td>\n",
       "      <td>1</td>\n",
       "      <td>0</td>\n",
       "      <td>0</td>\n",
       "      <td>...</td>\n",
       "      <td>0</td>\n",
       "      <td>0</td>\n",
       "      <td>0</td>\n",
       "      <td>0</td>\n",
       "      <td>0</td>\n",
       "      <td>0</td>\n",
       "      <td>0</td>\n",
       "      <td>0</td>\n",
       "      <td>0</td>\n",
       "      <td>0</td>\n",
       "    </tr>\n",
       "    <tr>\n",
       "      <th>2</th>\n",
       "      <td>0</td>\n",
       "      <td>0</td>\n",
       "      <td>0</td>\n",
       "      <td>0</td>\n",
       "      <td>0</td>\n",
       "      <td>0</td>\n",
       "      <td>0</td>\n",
       "      <td>0</td>\n",
       "      <td>0</td>\n",
       "      <td>1</td>\n",
       "      <td>...</td>\n",
       "      <td>0</td>\n",
       "      <td>0</td>\n",
       "      <td>0</td>\n",
       "      <td>0</td>\n",
       "      <td>0</td>\n",
       "      <td>0</td>\n",
       "      <td>0</td>\n",
       "      <td>0</td>\n",
       "      <td>0</td>\n",
       "      <td>0</td>\n",
       "    </tr>\n",
       "    <tr>\n",
       "      <th>3</th>\n",
       "      <td>0</td>\n",
       "      <td>0</td>\n",
       "      <td>0</td>\n",
       "      <td>0</td>\n",
       "      <td>0</td>\n",
       "      <td>0</td>\n",
       "      <td>0</td>\n",
       "      <td>0</td>\n",
       "      <td>0</td>\n",
       "      <td>0</td>\n",
       "      <td>...</td>\n",
       "      <td>1</td>\n",
       "      <td>0</td>\n",
       "      <td>0</td>\n",
       "      <td>0</td>\n",
       "      <td>0</td>\n",
       "      <td>0</td>\n",
       "      <td>0</td>\n",
       "      <td>0</td>\n",
       "      <td>0</td>\n",
       "      <td>0</td>\n",
       "    </tr>\n",
       "    <tr>\n",
       "      <th>4</th>\n",
       "      <td>0</td>\n",
       "      <td>0</td>\n",
       "      <td>1</td>\n",
       "      <td>0</td>\n",
       "      <td>0</td>\n",
       "      <td>0</td>\n",
       "      <td>0</td>\n",
       "      <td>0</td>\n",
       "      <td>0</td>\n",
       "      <td>0</td>\n",
       "      <td>...</td>\n",
       "      <td>0</td>\n",
       "      <td>0</td>\n",
       "      <td>0</td>\n",
       "      <td>0</td>\n",
       "      <td>0</td>\n",
       "      <td>0</td>\n",
       "      <td>0</td>\n",
       "      <td>0</td>\n",
       "      <td>0</td>\n",
       "      <td>0</td>\n",
       "    </tr>\n",
       "    <tr>\n",
       "      <th>5</th>\n",
       "      <td>1</td>\n",
       "      <td>0</td>\n",
       "      <td>0</td>\n",
       "      <td>0</td>\n",
       "      <td>0</td>\n",
       "      <td>0</td>\n",
       "      <td>0</td>\n",
       "      <td>0</td>\n",
       "      <td>0</td>\n",
       "      <td>0</td>\n",
       "      <td>...</td>\n",
       "      <td>0</td>\n",
       "      <td>0</td>\n",
       "      <td>0</td>\n",
       "      <td>0</td>\n",
       "      <td>0</td>\n",
       "      <td>0</td>\n",
       "      <td>0</td>\n",
       "      <td>0</td>\n",
       "      <td>0</td>\n",
       "      <td>0</td>\n",
       "    </tr>\n",
       "    <tr>\n",
       "      <th>6</th>\n",
       "      <td>1</td>\n",
       "      <td>0</td>\n",
       "      <td>0</td>\n",
       "      <td>0</td>\n",
       "      <td>0</td>\n",
       "      <td>0</td>\n",
       "      <td>0</td>\n",
       "      <td>0</td>\n",
       "      <td>0</td>\n",
       "      <td>1</td>\n",
       "      <td>...</td>\n",
       "      <td>0</td>\n",
       "      <td>0</td>\n",
       "      <td>0</td>\n",
       "      <td>0</td>\n",
       "      <td>0</td>\n",
       "      <td>0</td>\n",
       "      <td>0</td>\n",
       "      <td>0</td>\n",
       "      <td>0</td>\n",
       "      <td>0</td>\n",
       "    </tr>\n",
       "    <tr>\n",
       "      <th>7</th>\n",
       "      <td>0</td>\n",
       "      <td>0</td>\n",
       "      <td>0</td>\n",
       "      <td>0</td>\n",
       "      <td>0</td>\n",
       "      <td>0</td>\n",
       "      <td>1</td>\n",
       "      <td>0</td>\n",
       "      <td>0</td>\n",
       "      <td>0</td>\n",
       "      <td>...</td>\n",
       "      <td>1</td>\n",
       "      <td>0</td>\n",
       "      <td>0</td>\n",
       "      <td>0</td>\n",
       "      <td>0</td>\n",
       "      <td>0</td>\n",
       "      <td>0</td>\n",
       "      <td>0</td>\n",
       "      <td>0</td>\n",
       "      <td>0</td>\n",
       "    </tr>\n",
       "    <tr>\n",
       "      <th>8</th>\n",
       "      <td>0</td>\n",
       "      <td>1</td>\n",
       "      <td>0</td>\n",
       "      <td>0</td>\n",
       "      <td>0</td>\n",
       "      <td>0</td>\n",
       "      <td>0</td>\n",
       "      <td>0</td>\n",
       "      <td>0</td>\n",
       "      <td>0</td>\n",
       "      <td>...</td>\n",
       "      <td>0</td>\n",
       "      <td>0</td>\n",
       "      <td>0</td>\n",
       "      <td>0</td>\n",
       "      <td>0</td>\n",
       "      <td>0</td>\n",
       "      <td>0</td>\n",
       "      <td>0</td>\n",
       "      <td>0</td>\n",
       "      <td>0</td>\n",
       "    </tr>\n",
       "    <tr>\n",
       "      <th>9</th>\n",
       "      <td>0</td>\n",
       "      <td>0</td>\n",
       "      <td>1</td>\n",
       "      <td>0</td>\n",
       "      <td>0</td>\n",
       "      <td>0</td>\n",
       "      <td>0</td>\n",
       "      <td>0</td>\n",
       "      <td>0</td>\n",
       "      <td>0</td>\n",
       "      <td>...</td>\n",
       "      <td>0</td>\n",
       "      <td>0</td>\n",
       "      <td>0</td>\n",
       "      <td>0</td>\n",
       "      <td>0</td>\n",
       "      <td>0</td>\n",
       "      <td>0</td>\n",
       "      <td>0</td>\n",
       "      <td>0</td>\n",
       "      <td>0</td>\n",
       "    </tr>\n",
       "  </tbody>\n",
       "</table>\n",
       "<p>10 rows × 58 columns</p>\n",
       "</div>"
      ],
      "text/plain": [
       "   unit  spindle  hydraulic  motor  valve  bar  accumulator  machine  coolant  \\\n",
       "0     0        0          0      0      0    1            0        0        0   \n",
       "1     0        0          0      0      0    0            0        1        0   \n",
       "2     0        0          0      0      0    0            0        0        0   \n",
       "3     0        0          0      0      0    0            0        0        0   \n",
       "4     0        0          1      0      0    0            0        0        0   \n",
       "5     1        0          0      0      0    0            0        0        0   \n",
       "6     1        0          0      0      0    0            0        0        0   \n",
       "7     0        0          0      0      0    0            1        0        0   \n",
       "8     0        1          0      0      0    0            0        0        0   \n",
       "9     0        0          1      0      0    0            0        0        0   \n",
       "\n",
       "   person       ...        charge  reset  clear  swap  load  cycle  level  \\\n",
       "0       0       ...             0      0      0     0     0      0      0   \n",
       "1       0       ...             0      0      0     0     0      0      0   \n",
       "2       1       ...             0      0      0     0     0      0      0   \n",
       "3       0       ...             1      0      0     0     0      0      0   \n",
       "4       0       ...             0      0      0     0     0      0      0   \n",
       "5       0       ...             0      0      0     0     0      0      0   \n",
       "6       1       ...             0      0      0     0     0      0      0   \n",
       "7       0       ...             1      0      0     0     0      0      0   \n",
       "8       0       ...             0      0      0     0     0      0      0   \n",
       "9       0       ...             0      0      0     0     0      0      0   \n",
       "\n",
       "   check_request  report  train_operator  \n",
       "0              0       0               0  \n",
       "1              0       0               0  \n",
       "2              0       0               0  \n",
       "3              0       0               0  \n",
       "4              0       0               0  \n",
       "5              0       0               0  \n",
       "6              0       0               0  \n",
       "7              0       0               0  \n",
       "8              0       0               0  \n",
       "9              0       0               0  \n",
       "\n",
       "[10 rows x 58 columns]"
      ]
     },
     "execution_count": 22,
     "metadata": {},
     "output_type": "execute_result"
    }
   ],
   "source": [
    "# item_counts = Item_vecs.sum(axis=0)\n",
    "# relevant = [(binner.classes_[i], item_counts[i], Item_vecs[:,i]) for i in item_counts.argsort()[-20:][::-1]]\n",
    "event_df = pd.DataFrame(columns = [i[0] for i in relevant if i[0]!=u''], \n",
    "             data = np.array([i[2] for i in relevant if i[0]!=u'']).T)\n",
    "# plt.barh()\n",
    "event_df.head(10)"
   ]
  },
  {
   "cell_type": "markdown",
   "metadata": {
    "slideshow": {
     "slide_type": "subslide"
    }
   },
   "source": [
    "Now we want to get other information, say, the *time* a problem was submitted. "
   ]
  },
  {
   "cell_type": "code",
   "execution_count": 23,
   "metadata": {
    "slideshow": {
     "slide_type": "-"
    }
   },
   "outputs": [
    {
     "data": {
      "text/html": [
       "<div>\n",
       "<style>\n",
       "    .dataframe thead tr:only-child th {\n",
       "        text-align: right;\n",
       "    }\n",
       "\n",
       "    .dataframe thead th {\n",
       "        text-align: left;\n",
       "    }\n",
       "\n",
       "    .dataframe tbody tr th {\n",
       "        vertical-align: top;\n",
       "    }\n",
       "</style>\n",
       "<table border=\"1\" class=\"dataframe\">\n",
       "  <thead>\n",
       "    <tr style=\"text-align: right;\">\n",
       "      <th></th>\n",
       "      <th>Description</th>\n",
       "      <th>Resolution</th>\n",
       "      <th>Item Tags</th>\n",
       "      <th>Action Tags</th>\n",
       "      <th>Action Tags.1</th>\n",
       "      <th>Item Tags.1</th>\n",
       "      <th>Unnamed: 6</th>\n",
       "      <th>MACH</th>\n",
       "      <th>DOWN Y/N</th>\n",
       "      <th>Time Submitted</th>\n",
       "      <th>DATE COMPLETED</th>\n",
       "      <th>Time Up</th>\n",
       "      <th>REQUESTED BY</th>\n",
       "      <th>TECH</th>\n",
       "      <th>Tech Full Name</th>\n",
       "      <th>Part in Process</th>\n",
       "      <th>Unnamed: 17</th>\n",
       "      <th>Unnamed: 18</th>\n",
       "      <th>Unnamed: 19</th>\n",
       "      <th>Unnamed: 20</th>\n",
       "    </tr>\n",
       "    <tr>\n",
       "      <th>DATE RECEIVED</th>\n",
       "      <th></th>\n",
       "      <th></th>\n",
       "      <th></th>\n",
       "      <th></th>\n",
       "      <th></th>\n",
       "      <th></th>\n",
       "      <th></th>\n",
       "      <th></th>\n",
       "      <th></th>\n",
       "      <th></th>\n",
       "      <th></th>\n",
       "      <th></th>\n",
       "      <th></th>\n",
       "      <th></th>\n",
       "      <th></th>\n",
       "      <th></th>\n",
       "      <th></th>\n",
       "      <th></th>\n",
       "      <th></th>\n",
       "      <th></th>\n",
       "    </tr>\n",
       "  </thead>\n",
       "  <tbody>\n",
       "    <tr>\n",
       "      <th>2015-01-11</th>\n",
       "      <td>Broken bar feeder chain</td>\n",
       "      <td>Repaired</td>\n",
       "      <td>bar_feeder, chain, bar</td>\n",
       "      <td>broken</td>\n",
       "      <td>repair</td>\n",
       "      <td>bar_feeder, chain, bar</td>\n",
       "      <td>NaN</td>\n",
       "      <td>H27</td>\n",
       "      <td>Y</td>\n",
       "      <td>NaN</td>\n",
       "      <td>2015-01-11 00:00:00</td>\n",
       "      <td>NaN</td>\n",
       "      <td>Alex</td>\n",
       "      <td>AP</td>\n",
       "      <td>Anthony Paolillo</td>\n",
       "      <td>NaN</td>\n",
       "      <td>NaN</td>\n",
       "      <td>NaN</td>\n",
       "      <td>NaN</td>\n",
       "      <td>NaN</td>\n",
       "    </tr>\n",
       "    <tr>\n",
       "      <th>2015-01-14</th>\n",
       "      <td>No power</td>\n",
       "      <td>Replaced pin in pendant and powered machine -P...</td>\n",
       "      <td>pendant_cable, cable</td>\n",
       "      <td>short, no_power</td>\n",
       "      <td>replace</td>\n",
       "      <td>pin</td>\n",
       "      <td>NaN</td>\n",
       "      <td>H5</td>\n",
       "      <td>Y</td>\n",
       "      <td>NaN</td>\n",
       "      <td>2015-11-16 00:00:00</td>\n",
       "      <td>NaN</td>\n",
       "      <td>Bruce</td>\n",
       "      <td>JPM / AP</td>\n",
       "      <td>John Murray/ Anthony Paolillo</td>\n",
       "      <td>NaN</td>\n",
       "      <td>DK</td>\n",
       "      <td>Denis Kusiak</td>\n",
       "      <td>NaN</td>\n",
       "      <td>Mike: 7.5 hours</td>\n",
       "    </tr>\n",
       "    <tr>\n",
       "      <th>2015-02-27</th>\n",
       "      <td>Smartscope harness broken</td>\n",
       "      <td>Parts ordered / Tech repaired</td>\n",
       "      <td>smartscope_harness</td>\n",
       "      <td>broken</td>\n",
       "      <td>order, repair</td>\n",
       "      <td>smartscope_harness</td>\n",
       "      <td>NaN</td>\n",
       "      <td>QA</td>\n",
       "      <td>Y</td>\n",
       "      <td>NaN</td>\n",
       "      <td>2015-02-27 00:00:00</td>\n",
       "      <td>NaN</td>\n",
       "      <td>QA</td>\n",
       "      <td>DK / Tech</td>\n",
       "      <td>Denis Kusiak/ Technician</td>\n",
       "      <td>NaN</td>\n",
       "      <td>NaN</td>\n",
       "      <td>NaN</td>\n",
       "      <td>NaN</td>\n",
       "      <td>Thurston: 4 hours</td>\n",
       "    </tr>\n",
       "    <tr>\n",
       "      <th>2015-02-27</th>\n",
       "      <td>Check / Charge Accumulators</td>\n",
       "      <td>Where OK</td>\n",
       "      <td>accumulator</td>\n",
       "      <td>check, charge</td>\n",
       "      <td>no_problem_detected</td>\n",
       "      <td>NaN</td>\n",
       "      <td>NaN</td>\n",
       "      <td>H18</td>\n",
       "      <td>N</td>\n",
       "      <td>NaN</td>\n",
       "      <td>2015-02-27 00:00:00</td>\n",
       "      <td>NaN</td>\n",
       "      <td>Steve C</td>\n",
       "      <td>SA</td>\n",
       "      <td>Steve Andreozzi</td>\n",
       "      <td>NaN</td>\n",
       "      <td>NaN</td>\n",
       "      <td>NaN</td>\n",
       "      <td>NaN</td>\n",
       "      <td>NaN</td>\n",
       "    </tr>\n",
       "    <tr>\n",
       "      <th>2015-02-27</th>\n",
       "      <td>Hyd leak at saw atachment</td>\n",
       "      <td>Replaced seal in saw attachment but still leak...</td>\n",
       "      <td>hydraulic, saw_attachment, saw</td>\n",
       "      <td>leak</td>\n",
       "      <td>replace, need_guy</td>\n",
       "      <td>seal</td>\n",
       "      <td>NaN</td>\n",
       "      <td>H23</td>\n",
       "      <td>N</td>\n",
       "      <td>NaN</td>\n",
       "      <td>2015-02-27 00:00:00</td>\n",
       "      <td>NaN</td>\n",
       "      <td>Steve C</td>\n",
       "      <td>JPM</td>\n",
       "      <td>John Murray</td>\n",
       "      <td>NaN</td>\n",
       "      <td>NaN</td>\n",
       "      <td>NaN</td>\n",
       "      <td>NaN</td>\n",
       "      <td>NaN</td>\n",
       "    </tr>\n",
       "  </tbody>\n",
       "</table>\n",
       "</div>"
      ],
      "text/plain": [
       "                               Description  \\\n",
       "DATE RECEIVED                                \n",
       "2015-01-11         Broken bar feeder chain   \n",
       "2015-01-14                        No power   \n",
       "2015-02-27       Smartscope harness broken   \n",
       "2015-02-27     Check / Charge Accumulators   \n",
       "2015-02-27       Hyd leak at saw atachment   \n",
       "\n",
       "                                                      Resolution  \\\n",
       "DATE RECEIVED                                                      \n",
       "2015-01-11                                              Repaired   \n",
       "2015-01-14     Replaced pin in pendant and powered machine -P...   \n",
       "2015-02-27                         Parts ordered / Tech repaired   \n",
       "2015-02-27                                              Where OK   \n",
       "2015-02-27     Replaced seal in saw attachment but still leak...   \n",
       "\n",
       "                                    Item Tags      Action Tags  \\\n",
       "DATE RECEIVED                                                    \n",
       "2015-01-11             bar_feeder, chain, bar           broken   \n",
       "2015-01-14               pendant_cable, cable  short, no_power   \n",
       "2015-02-27                 smartscope_harness           broken   \n",
       "2015-02-27                        accumulator    check, charge   \n",
       "2015-02-27     hydraulic, saw_attachment, saw             leak   \n",
       "\n",
       "                      Action Tags.1             Item Tags.1  Unnamed: 6 MACH  \\\n",
       "DATE RECEIVED                                                                  \n",
       "2015-01-11                   repair  bar_feeder, chain, bar         NaN  H27   \n",
       "2015-01-14                  replace                     pin         NaN   H5   \n",
       "2015-02-27            order, repair      smartscope_harness         NaN   QA   \n",
       "2015-02-27     no_problem_detected                      NaN         NaN  H18   \n",
       "2015-02-27        replace, need_guy                    seal         NaN  H23   \n",
       "\n",
       "              DOWN Y/N Time Submitted       DATE COMPLETED Time Up  \\\n",
       "DATE RECEIVED                                                        \n",
       "2015-01-11           Y            NaN  2015-01-11 00:00:00     NaN   \n",
       "2015-01-14           Y            NaN  2015-11-16 00:00:00     NaN   \n",
       "2015-02-27           Y            NaN  2015-02-27 00:00:00     NaN   \n",
       "2015-02-27           N            NaN  2015-02-27 00:00:00     NaN   \n",
       "2015-02-27           N            NaN  2015-02-27 00:00:00     NaN   \n",
       "\n",
       "              REQUESTED BY       TECH                 Tech Full Name  \\\n",
       "DATE RECEIVED                                                          \n",
       "2015-01-11            Alex         AP               Anthony Paolillo   \n",
       "2015-01-14           Bruce   JPM / AP  John Murray/ Anthony Paolillo   \n",
       "2015-02-27              QA  DK / Tech       Denis Kusiak/ Technician   \n",
       "2015-02-27         Steve C         SA                Steve Andreozzi   \n",
       "2015-02-27         Steve C        JPM                    John Murray   \n",
       "\n",
       "              Part in Process Unnamed: 17   Unnamed: 18  Unnamed: 19  \\\n",
       "DATE RECEIVED                                                          \n",
       "2015-01-11                NaN         NaN           NaN          NaN   \n",
       "2015-01-14                NaN          DK  Denis Kusiak          NaN   \n",
       "2015-02-27                NaN         NaN           NaN          NaN   \n",
       "2015-02-27                NaN         NaN           NaN          NaN   \n",
       "2015-02-27                NaN         NaN           NaN          NaN   \n",
       "\n",
       "                     Unnamed: 20  \n",
       "DATE RECEIVED                     \n",
       "2015-01-11                   NaN  \n",
       "2015-01-14       Mike: 7.5 hours  \n",
       "2015-02-27     Thurston: 4 hours  \n",
       "2015-02-27                   NaN  \n",
       "2015-02-27                   NaN  "
      ]
     },
     "execution_count": 23,
     "metadata": {},
     "output_type": "execute_result"
    }
   ],
   "source": [
    "# og_data_loc = os.path.join(data_directory, 'Maintenance_All_Clean.xlsx')\n",
    "og_data = pd.read_excel(raw_excel_filepath,header=1, parse_dates=True, index_col='DATE RECEIVED')\n",
    "                        #[['DATE RECEIVED','Time Submitted']])\n",
    "# og_data.set_index('DATE RECEIVED_Time Submitted', inplace=True)\n",
    "# og_data.set_index('DATE RECEIVED', inplace=True)\n",
    "\n",
    "# print og_data.iloc[1381]\n",
    "og_data.head()"
   ]
  },
  {
   "cell_type": "markdown",
   "metadata": {
    "slideshow": {
     "slide_type": "fragment"
    }
   },
   "source": [
    "and then, re-index our indicator items. "
   ]
  },
  {
   "cell_type": "code",
   "execution_count": 24,
   "metadata": {
    "slideshow": {
     "slide_type": "-"
    }
   },
   "outputs": [
    {
     "data": {
      "text/html": [
       "<div>\n",
       "<style>\n",
       "    .dataframe thead tr:only-child th {\n",
       "        text-align: right;\n",
       "    }\n",
       "\n",
       "    .dataframe thead th {\n",
       "        text-align: left;\n",
       "    }\n",
       "\n",
       "    .dataframe tbody tr th {\n",
       "        vertical-align: top;\n",
       "    }\n",
       "</style>\n",
       "<table border=\"1\" class=\"dataframe\">\n",
       "  <thead>\n",
       "    <tr style=\"text-align: right;\">\n",
       "      <th></th>\n",
       "      <th>unit</th>\n",
       "      <th>spindle</th>\n",
       "      <th>hydraulic</th>\n",
       "      <th>motor</th>\n",
       "      <th>valve</th>\n",
       "      <th>bar</th>\n",
       "      <th>accumulator</th>\n",
       "      <th>machine</th>\n",
       "      <th>coolant</th>\n",
       "      <th>person</th>\n",
       "      <th>...</th>\n",
       "      <th>charge</th>\n",
       "      <th>reset</th>\n",
       "      <th>clear</th>\n",
       "      <th>swap</th>\n",
       "      <th>load</th>\n",
       "      <th>cycle</th>\n",
       "      <th>level</th>\n",
       "      <th>check_request</th>\n",
       "      <th>report</th>\n",
       "      <th>train_operator</th>\n",
       "    </tr>\n",
       "    <tr>\n",
       "      <th>DATE RECEIVED</th>\n",
       "      <th></th>\n",
       "      <th></th>\n",
       "      <th></th>\n",
       "      <th></th>\n",
       "      <th></th>\n",
       "      <th></th>\n",
       "      <th></th>\n",
       "      <th></th>\n",
       "      <th></th>\n",
       "      <th></th>\n",
       "      <th></th>\n",
       "      <th></th>\n",
       "      <th></th>\n",
       "      <th></th>\n",
       "      <th></th>\n",
       "      <th></th>\n",
       "      <th></th>\n",
       "      <th></th>\n",
       "      <th></th>\n",
       "      <th></th>\n",
       "      <th></th>\n",
       "    </tr>\n",
       "  </thead>\n",
       "  <tbody>\n",
       "    <tr>\n",
       "      <th>2016-08-01</th>\n",
       "      <td>0</td>\n",
       "      <td>0</td>\n",
       "      <td>1</td>\n",
       "      <td>0</td>\n",
       "      <td>0</td>\n",
       "      <td>0</td>\n",
       "      <td>0</td>\n",
       "      <td>0</td>\n",
       "      <td>0</td>\n",
       "      <td>0</td>\n",
       "      <td>...</td>\n",
       "      <td>0</td>\n",
       "      <td>0</td>\n",
       "      <td>0</td>\n",
       "      <td>0</td>\n",
       "      <td>0</td>\n",
       "      <td>0</td>\n",
       "      <td>0</td>\n",
       "      <td>0</td>\n",
       "      <td>0</td>\n",
       "      <td>0</td>\n",
       "    </tr>\n",
       "    <tr>\n",
       "      <th>2016-08-01</th>\n",
       "      <td>0</td>\n",
       "      <td>1</td>\n",
       "      <td>0</td>\n",
       "      <td>0</td>\n",
       "      <td>0</td>\n",
       "      <td>0</td>\n",
       "      <td>0</td>\n",
       "      <td>0</td>\n",
       "      <td>0</td>\n",
       "      <td>0</td>\n",
       "      <td>...</td>\n",
       "      <td>0</td>\n",
       "      <td>0</td>\n",
       "      <td>0</td>\n",
       "      <td>0</td>\n",
       "      <td>0</td>\n",
       "      <td>0</td>\n",
       "      <td>0</td>\n",
       "      <td>0</td>\n",
       "      <td>0</td>\n",
       "      <td>0</td>\n",
       "    </tr>\n",
       "    <tr>\n",
       "      <th>2016-08-01</th>\n",
       "      <td>0</td>\n",
       "      <td>0</td>\n",
       "      <td>0</td>\n",
       "      <td>0</td>\n",
       "      <td>0</td>\n",
       "      <td>0</td>\n",
       "      <td>0</td>\n",
       "      <td>0</td>\n",
       "      <td>0</td>\n",
       "      <td>0</td>\n",
       "      <td>...</td>\n",
       "      <td>0</td>\n",
       "      <td>0</td>\n",
       "      <td>0</td>\n",
       "      <td>0</td>\n",
       "      <td>0</td>\n",
       "      <td>0</td>\n",
       "      <td>0</td>\n",
       "      <td>0</td>\n",
       "      <td>0</td>\n",
       "      <td>0</td>\n",
       "    </tr>\n",
       "    <tr>\n",
       "      <th>2016-08-01</th>\n",
       "      <td>0</td>\n",
       "      <td>0</td>\n",
       "      <td>0</td>\n",
       "      <td>0</td>\n",
       "      <td>0</td>\n",
       "      <td>0</td>\n",
       "      <td>0</td>\n",
       "      <td>0</td>\n",
       "      <td>0</td>\n",
       "      <td>0</td>\n",
       "      <td>...</td>\n",
       "      <td>0</td>\n",
       "      <td>0</td>\n",
       "      <td>0</td>\n",
       "      <td>0</td>\n",
       "      <td>0</td>\n",
       "      <td>0</td>\n",
       "      <td>0</td>\n",
       "      <td>0</td>\n",
       "      <td>0</td>\n",
       "      <td>0</td>\n",
       "    </tr>\n",
       "    <tr>\n",
       "      <th>2016-08-01</th>\n",
       "      <td>0</td>\n",
       "      <td>0</td>\n",
       "      <td>0</td>\n",
       "      <td>0</td>\n",
       "      <td>0</td>\n",
       "      <td>0</td>\n",
       "      <td>0</td>\n",
       "      <td>0</td>\n",
       "      <td>1</td>\n",
       "      <td>0</td>\n",
       "      <td>...</td>\n",
       "      <td>0</td>\n",
       "      <td>1</td>\n",
       "      <td>1</td>\n",
       "      <td>0</td>\n",
       "      <td>0</td>\n",
       "      <td>0</td>\n",
       "      <td>0</td>\n",
       "      <td>0</td>\n",
       "      <td>0</td>\n",
       "      <td>0</td>\n",
       "    </tr>\n",
       "  </tbody>\n",
       "</table>\n",
       "<p>5 rows × 58 columns</p>\n",
       "</div>"
      ],
      "text/plain": [
       "               unit  spindle  hydraulic  motor  valve  bar  accumulator  \\\n",
       "DATE RECEIVED                                                             \n",
       "2016-08-01        0        0          1      0      0    0            0   \n",
       "2016-08-01        0        1          0      0      0    0            0   \n",
       "2016-08-01        0        0          0      0      0    0            0   \n",
       "2016-08-01        0        0          0      0      0    0            0   \n",
       "2016-08-01        0        0          0      0      0    0            0   \n",
       "\n",
       "               machine  coolant  person       ...        charge  reset  clear  \\\n",
       "DATE RECEIVED                                 ...                               \n",
       "2016-08-01           0        0       0       ...             0      0      0   \n",
       "2016-08-01           0        0       0       ...             0      0      0   \n",
       "2016-08-01           0        0       0       ...             0      0      0   \n",
       "2016-08-01           0        0       0       ...             0      0      0   \n",
       "2016-08-01           0        1       0       ...             0      1      1   \n",
       "\n",
       "               swap  load  cycle  level  check_request  report  train_operator  \n",
       "DATE RECEIVED                                                                   \n",
       "2016-08-01        0     0      0      0              0       0               0  \n",
       "2016-08-01        0     0      0      0              0       0               0  \n",
       "2016-08-01        0     0      0      0              0       0               0  \n",
       "2016-08-01        0     0      0      0              0       0               0  \n",
       "2016-08-01        0     0      0      0              0       0               0  \n",
       "\n",
       "[5 rows x 58 columns]"
      ]
     },
     "execution_count": 24,
     "metadata": {},
     "output_type": "execute_result"
    }
   ],
   "source": [
    "df_raw.head()\n",
    "event_df.index = og_data.index\n",
    "event_df.index = pd.to_datetime(event_df.index, errors='coerce')\n",
    "event_df.iloc[2500:2505]"
   ]
  },
  {
   "cell_type": "code",
   "execution_count": 25,
   "metadata": {
    "code_folding": [
     5,
     24,
     181
    ],
    "collapsed": true,
    "slideshow": {
     "slide_type": "skip"
    }
   },
   "outputs": [],
   "source": [
    "\"\"\"\n",
    "Calendar heatmaps from Pandas time series data.\n",
    "Plot Pandas time series data sampled by day in a heatmap per calendar year,\n",
    "similar to GitHub's contributions calendar.\n",
    "\n",
    "adapted from:\n",
    "    'Martijn Vermaat' 14 Feb 2016\n",
    "    'martijn@vermaat.name'\n",
    "    'https://github.com/martijnvermaat/calmap'\n",
    "\"\"\"\n",
    "from __future__ import unicode_literals\n",
    "\n",
    "import calendar\n",
    "import datetime\n",
    "\n",
    "from matplotlib.colors import ColorConverter, ListedColormap\n",
    "import matplotlib.pyplot as plt\n",
    "import numpy as np\n",
    "import pandas as pd\n",
    "from distutils.version import StrictVersion\n",
    "\n",
    "_pandas_18 = StrictVersion(pd.__version__) >= StrictVersion('0.18')\n",
    "\n",
    "\n",
    "def yearplot(data, year=None, how='sum', vmin=None, vmax=None, cmap='Reds',\n",
    "             fillcolor='whitesmoke', linewidth=1, linecolor=None,\n",
    "             daylabels=calendar.day_abbr[:], dayticks=True,\n",
    "             monthlabels=calendar.month_abbr[1:], monthticks=True, ax=None,\n",
    "             **kwargs):\n",
    "    \"\"\"\n",
    "    Plot one year from a timeseries as a calendar heatmap.\n",
    "    Parameters\n",
    "    ----------\n",
    "    data : Series\n",
    "        Data for the plot. Must be indexed by a DatetimeIndex.\n",
    "    year : integer\n",
    "        Only data indexed by this year will be plotted. If `None`, the first\n",
    "        year for which there is data will be plotted.\n",
    "    how : string\n",
    "        Method for resampling data by day. If `None`, assume data is already\n",
    "        sampled by day and don't resample. Otherwise, this is passed to Pandas\n",
    "        `Series.resample`.\n",
    "    vmin, vmax : floats\n",
    "        Values to anchor the colormap. If `None`, min and max are used after\n",
    "        resampling data by day.\n",
    "    cmap : matplotlib colormap name or object\n",
    "        The mapping from data values to color space.\n",
    "    fillcolor : matplotlib color\n",
    "        Color to use for days without data.\n",
    "    linewidth : float\n",
    "        Width of the lines that will divide each day.\n",
    "    linecolor : color\n",
    "        Color of the lines that will divide each day. If `None`, the axes\n",
    "        background color is used, or 'white' if it is transparent.\n",
    "    daylabels : list\n",
    "        Strings to use as labels for days, must be of length 7.\n",
    "    dayticks : list or int or bool\n",
    "        If `True`, label all days. If `False`, don't label days. If a list,\n",
    "        only label days with these indices. If an integer, label every n day.\n",
    "    monthlabels : list\n",
    "        Strings to use as labels for months, must be of length 12.\n",
    "    monthticks : list or int or bool\n",
    "        If `True`, label all months. If `False`, don't label months. If a\n",
    "        list, only label months with these indices. If an integer, label every\n",
    "        n month.\n",
    "    ax : matplotlib Axes\n",
    "        Axes in which to draw the plot, otherwise use the currently-active\n",
    "        Axes.\n",
    "    kwargs : other keyword arguments\n",
    "        All other keyword arguments are passed to matplotlib `ax.pcolormesh`.\n",
    "    Returns\n",
    "    -------\n",
    "    ax : matplotlib Axes\n",
    "        Axes object with the calendar heatmap.\n",
    "    Examples\n",
    "    --------\n",
    "    By default, `yearplot` plots the first year and sums the values per day:\n",
    "    .. plot::\n",
    "        :context: close-figs\n",
    "        calmap.yearplot(events)\n",
    "    We can choose which year is plotted with the `year` keyword argment:\n",
    "    .. plot::\n",
    "        :context: close-figs\n",
    "        calmap.yearplot(events, year=2015)\n",
    "    The appearance can be changed by using another colormap. Here we also use\n",
    "    a darker fill color for days without data and remove the lines:\n",
    "    .. plot::\n",
    "        :context: close-figs\n",
    "        calmap.yearplot(events, cmap='YlGn', fillcolor='grey',\n",
    "                        linewidth=0)\n",
    "    The axis tick labels can look a bit crowded. We can ask to draw only every\n",
    "    nth label, or explicitely supply the label indices. The labels themselves\n",
    "    can also be customized:\n",
    "    .. plot::\n",
    "        :context: close-figs\n",
    "        calmap.yearplot(events, monthticks=3, daylabels='MTWTFSS',\n",
    "                        dayticks=[0, 2, 4, 6])\n",
    "    \"\"\"\n",
    "    if year is None:\n",
    "        year = data.index.sort_values()[0].year\n",
    "\n",
    "    if how is None:\n",
    "        # Assume already sampled by day.\n",
    "        by_day = data\n",
    "    else:\n",
    "        # Sample by day.\n",
    "        if _pandas_18:\n",
    "            by_day = data.resample('W').agg(how)\n",
    "        else:\n",
    "            by_day = data.resample('W', how=how)\n",
    "\n",
    "    # Min and max per day.\n",
    "    if vmin is None:\n",
    "        vmin = by_day.min().min()\n",
    "    if vmax is None:\n",
    "        vmax = by_day.max().max()\n",
    "\n",
    "    if ax is None:\n",
    "        ax = plt.gca()\n",
    "\n",
    "    if linecolor is None:\n",
    "        # Unfortunately, linecolor cannot be transparent, as it is drawn on\n",
    "        # top of the heatmap cells. Therefore it is only possible to mimic\n",
    "        # transparent lines by setting them to the axes background color. This\n",
    "        # of course won't work when the axes itself has a transparent\n",
    "        # background so in that case we default to white which will usually be\n",
    "        # the figure or canvas background color.\n",
    "        linecolor = ax.get_axis_bgcolor()\n",
    "        if ColorConverter().to_rgba(linecolor)[-1] == 0:\n",
    "            linecolor = 'white'\n",
    "\n",
    "    # Filter on year.\n",
    "    by_day = by_day[by_day.index.year==year]\n",
    "\n",
    "    # Add missing days.\n",
    "\n",
    "    plot_data = by_day.transpose().fillna(0)\n",
    "\n",
    "    # Draw heatmap.\n",
    "    kwargs['linewidth'] = linewidth\n",
    "    kwargs['edgecolors'] = linecolor\n",
    "    ax.pcolormesh(plot_data, vmin=vmin, vmax=vmax, cmap=cmap, **kwargs)\n",
    "    # Limit heatmap to our data.\n",
    "    ax.set(xlim=(0, plot_data.shape[1]), ylim=(0, plot_data.shape[0]))\n",
    "\n",
    "    # Square cells.\n",
    "    ax.set_aspect('equal')\n",
    "\n",
    "    # Remove spines and ticks.\n",
    "    for side in ('top', 'right', 'left', 'bottom'):\n",
    "        ax.spines[side].set_visible(False)\n",
    "    ax.xaxis.set_tick_params(which='both', length=0)\n",
    "    ax.yaxis.set_tick_params(which='both', length=0)\n",
    "\n",
    "    # Get indices for monthlabels.\n",
    "    if monthticks is True:\n",
    "        monthticks = range(len(monthlabels))\n",
    "    elif monthticks is False:\n",
    "        monthticks = []\n",
    "    elif isinstance(monthticks, int):\n",
    "        monthticks = range(len(monthlabels))[monthticks // 2::monthticks]\n",
    "\n",
    "    # Get indices for daylabels.\n",
    "    if dayticks is True:\n",
    "        dayticks = range(len(daylabels))\n",
    "    elif dayticks is False:\n",
    "        dayticks = []\n",
    "    elif isinstance(dayticks, int):\n",
    "        dayticks = range(len(daylabels))[dayticks // 2::dayticks]\n",
    "    ax.set_xlabel('')\n",
    "    ax.set_xticklabels([monthlabels[i] for i in monthticks], ha='center')\n",
    "    \n",
    "    ax.set_xticks([pd.Timestamp('{}/15/{}'.format(i, year)).week-1.5 for i in range(1,13)])\n",
    "    ax.set_ylabel('')\n",
    "    ax.yaxis.set_ticks_position('right')\n",
    "    ax.set_yticks([by_day.columns.shape[0] - i - .5  for i in range(by_day.columns.shape[0])])\n",
    "    ax.set_yticklabels(by_day.columns[::-1], rotation='horizontal',\n",
    "                       va='center')\n",
    "\n",
    "    return ax\n",
    "\n",
    "def calendarplot(data, how='sum', yearlabels=True, yearascending=True, yearlabel_kws=None,\n",
    "                 subplot_kws=None, gridspec_kws=None, fig_kws=None, **kwargs):\n",
    "    \"\"\"\n",
    "    Plot a timeseries as a calendar heatmap.\n",
    "    Parameters\n",
    "    ----------\n",
    "    data : Series\n",
    "        Data for the plot. Must be indexed by a DatetimeIndex.\n",
    "    how : string\n",
    "        Method for resampling data by day. If `None`, assume data is already\n",
    "        sampled by day and don't resample. Otherwise, this is passed to Pandas\n",
    "        `Series.resample`.\n",
    "    yearlabels : bool\n",
    "       Whether or not to draw the year for each subplot.\n",
    "    yearascending : bool\n",
    "       Sort the calendar in ascending or descending order.\n",
    "    yearlabel_kws : dict\n",
    "       Keyword arguments passed to the matplotlib `set_ylabel` call which is\n",
    "       used to draw the year for each subplot.\n",
    "    subplot_kws : dict\n",
    "        Keyword arguments passed to the matplotlib `add_subplot` call used to\n",
    "        create each subplot.\n",
    "    gridspec_kws : dict\n",
    "        Keyword arguments passed to the matplotlib `GridSpec` constructor used\n",
    "        to create the grid the subplots are placed on.\n",
    "    fig_kws : dict\n",
    "        Keyword arguments passed to the matplotlib `figure` call.\n",
    "    kwargs : other keyword arguments\n",
    "        All other keyword arguments are passed to `yearplot`.\n",
    "    Returns\n",
    "    -------\n",
    "    fig, axes : matplotlib Figure and Axes\n",
    "        Tuple where `fig` is the matplotlib Figure object `axes` is an array\n",
    "        of matplotlib Axes objects with the calendar heatmaps, one per year.\n",
    "    Examples\n",
    "    --------\n",
    "    With `calendarplot` we can plot several years in one figure:\n",
    "    .. plot::\n",
    "        :context: close-figs\n",
    "        calmap.calendarplot(events)\n",
    "    \"\"\"\n",
    "    yearlabel_kws = yearlabel_kws or {}\n",
    "    subplot_kws = subplot_kws or {}\n",
    "    gridspec_kws = gridspec_kws or {}\n",
    "    fig_kws = fig_kws or {}\n",
    "\n",
    "    years = np.unique(data.index.year)\n",
    "    if not yearascending:\n",
    "        years = years[::-1]\n",
    "\n",
    "    fig, axes = plt.subplots(nrows=len(years), ncols=1, squeeze=False,\n",
    "                             subplot_kw=subplot_kws,\n",
    "                             gridspec_kw=gridspec_kws, **fig_kws)\n",
    "    axes = axes.T[0]\n",
    "\n",
    "    # We explicitely resample by day only once. This is an optimization.\n",
    "    if how is None:\n",
    "        by_day = data\n",
    "    else:\n",
    "        if _pandas_18:\n",
    "            by_day = data.resample('W').agg(how)\n",
    "        else:\n",
    "            by_day = data.resample('W', how=how)\n",
    "\n",
    "    ylabel_kws = dict(\n",
    "        fontsize=32,\n",
    "        color=kwargs.get('fillcolor', 'xkcd:wheat'),\n",
    "        fontweight='bold',\n",
    "        fontname='Arial',\n",
    "        ha='center')\n",
    "    ylabel_kws.update(yearlabel_kws)\n",
    "\n",
    "    max_weeks = 0\n",
    "\n",
    "    for year, ax in zip(years, axes):\n",
    "        yearplot(by_day, year=year, how=None, ax=ax, **kwargs)\n",
    "        max_weeks = max(max_weeks, ax.get_xlim()[1])\n",
    "\n",
    "        if yearlabels:\n",
    "            ax.set_ylabel(str(year), **ylabel_kws)\n",
    "\n",
    "    # In a leap year it might happen that we have 54 weeks (e.g., 2012).\n",
    "    # Here we make sure the width is consistent over all years.\n",
    "    for ax in axes:\n",
    "        ax.set_xlim(0, max_weeks)\n",
    "\n",
    "    # Make the axes look good.\n",
    "    plt.tight_layout()\n",
    "\n",
    "    return fig, axes"
   ]
  },
  {
   "cell_type": "markdown",
   "metadata": {
    "slideshow": {
     "slide_type": "subslide"
    }
   },
   "source": [
    "Let's pick a few interesting items, and see how often they come up as a problem/solution: "
   ]
  },
  {
   "cell_type": "code",
   "execution_count": 26,
   "metadata": {
    "slideshow": {
     "slide_type": "fragment"
    }
   },
   "outputs": [
    {
     "name": "stderr",
     "output_type": "stream",
     "text": [
      "/home/tbsexton/anaconda3/lib/python3.6/site-packages/ipykernel_launcher.py:128: MatplotlibDeprecationWarning: The get_axis_bgcolor function was deprecated in version 2.0. Use get_facecolor instead.\n"
     ]
    },
    {
     "data": {
      "text/plain": [
       "<matplotlib.text.Text at 0x7ff896725eb8>"
      ]
     },
     "execution_count": 26,
     "metadata": {},
     "output_type": "execute_result"
    },
    {
     "data": {
      "image/png": "[encoded data removed]",
      "text/plain": [
       "<matplotlib.figure.Figure at 0x7ff896ea2e10>"
      ]
     },
     "metadata": {},
     "output_type": "display_data"
    }
   ],
   "source": [
    "# plt.figure\n",
    "calendarplot(event_df[['hydraulic',\n",
    "                       'leak',\n",
    "                       'spindle',\n",
    "                       'accumulator',\n",
    "                       'coolant'\n",
    "                       ]][event_df.index.year==2016],\n",
    "             how='sum', fig_kws={'figsize':(13,9)});\n",
    "plt.title('Relative Tag Occurrence Density by Month')\n",
    "# yearplot(event_df[['hydraulic', 'spindle','accumulator', 'operator']], how='sum', fig_kws={'figsize':(12,8)})\n",
    "# og_data[event_df.index.isnull()]"
   ]
  },
  {
   "cell_type": "code",
   "execution_count": 27,
   "metadata": {
    "cell_style": "split",
    "scrolled": true,
    "slideshow": {
     "slide_type": "subslide"
    }
   },
   "outputs": [
    {
     "data": {
      "text/html": [
       "<div>\n",
       "<style>\n",
       "    .dataframe thead tr:only-child th {\n",
       "        text-align: right;\n",
       "    }\n",
       "\n",
       "    .dataframe thead th {\n",
       "        text-align: left;\n",
       "    }\n",
       "\n",
       "    .dataframe tbody tr th {\n",
       "        vertical-align: top;\n",
       "    }\n",
       "</style>\n",
       "<table border=\"1\" class=\"dataframe\">\n",
       "  <thead>\n",
       "    <tr style=\"text-align: right;\">\n",
       "      <th></th>\n",
       "      <th>operator_incidents</th>\n",
       "    </tr>\n",
       "  </thead>\n",
       "  <tbody>\n",
       "    <tr>\n",
       "      <th>operator</th>\n",
       "      <td>162</td>\n",
       "    </tr>\n",
       "    <tr>\n",
       "      <th>level</th>\n",
       "      <td>67</td>\n",
       "    </tr>\n",
       "    <tr>\n",
       "      <th>train_operator</th>\n",
       "      <td>64</td>\n",
       "    </tr>\n",
       "    <tr>\n",
       "      <th>replace</th>\n",
       "      <td>32</td>\n",
       "    </tr>\n",
       "    <tr>\n",
       "      <th>fault</th>\n",
       "      <td>29</td>\n",
       "    </tr>\n",
       "    <tr>\n",
       "      <th>loose</th>\n",
       "      <td>26</td>\n",
       "    </tr>\n",
       "    <tr>\n",
       "      <th>bar</th>\n",
       "      <td>20</td>\n",
       "    </tr>\n",
       "    <tr>\n",
       "      <th>broken</th>\n",
       "      <td>20</td>\n",
       "    </tr>\n",
       "    <tr>\n",
       "      <th>machine</th>\n",
       "      <td>19</td>\n",
       "    </tr>\n",
       "    <tr>\n",
       "      <th>remove</th>\n",
       "      <td>17</td>\n",
       "    </tr>\n",
       "  </tbody>\n",
       "</table>\n",
       "</div>"
      ],
      "text/plain": [
       "                operator_incidents\n",
       "operator                       162\n",
       "level                           67\n",
       "train_operator                  64\n",
       "replace                         32\n",
       "fault                           29\n",
       "loose                           26\n",
       "bar                             20\n",
       "broken                          20\n",
       "machine                         19\n",
       "remove                          17"
      ]
     },
     "execution_count": 27,
     "metadata": {},
     "output_type": "execute_result"
    }
   ],
   "source": [
    "event_df[event_df.operator==1].sum().to_frame(name='operator_incidents').sort_values('operator_incidents', \n",
    "                                                                                     ascending=False).iloc[:10]"
   ]
  },
  {
   "cell_type": "code",
   "execution_count": 28,
   "metadata": {
    "cell_style": "split",
    "scrolled": true,
    "slideshow": {
     "slide_type": "fragment"
    }
   },
   "outputs": [
    {
     "data": {
      "text/plain": [
       "<matplotlib.text.Text at 0x7ff895e8abe0>"
      ]
     },
     "execution_count": 28,
     "metadata": {},
     "output_type": "execute_result"
    },
    {
     "data": {
      "image/png": "[encoded data removed]",
      "text/plain": [
       "<matplotlib.figure.Figure at 0x7ff895df35f8>"
      ]
     },
     "metadata": {},
     "output_type": "display_data"
    }
   ],
   "source": [
    "week_df = event_df.resample('M').agg(sum).fillna(0)\n",
    "plt.hist(week_df['repair'].values, bins='auto')\n",
    "plt.title('No. Repairs per Month')"
   ]
  },
  {
   "cell_type": "markdown",
   "metadata": {
    "slideshow": {
     "slide_type": "subslide"
    }
   },
   "source": [
    "## Beginning of Prognostics\n",
    "We need to approximate the idea of \"machine failure\" as opposed to \"machine maintenance\" (compare to \"patient care\" vs. \"patient death\". \n",
    "\n",
    "One way is to only find items occuring with \"broken\" **AND** \"replace\". While not 100% accurate, it's definitely a quick and dirty way to estimate the failure rate.  "
   ]
  },
  {
   "cell_type": "code",
   "execution_count": 29,
   "metadata": {
    "slideshow": {
     "slide_type": "fragment"
    }
   },
   "outputs": [
    {
     "name": "stderr",
     "output_type": "stream",
     "text": [
      "/home/tbsexton/anaconda3/lib/python3.6/site-packages/ipykernel_launcher.py:128: MatplotlibDeprecationWarning: The get_axis_bgcolor function was deprecated in version 2.0. Use get_facecolor instead.\n"
     ]
    },
    {
     "data": {
      "text/plain": [
       "<matplotlib.text.Text at 0x7ff894454e10>"
      ]
     },
     "execution_count": 29,
     "metadata": {},
     "output_type": "execute_result"
    },
    {
     "data": {
      "image/png": "[encoded data removed]",
      "text/plain": [
       "<matplotlib.figure.Figure at 0x7ff8941bfc88>"
      ]
     },
     "metadata": {},
     "output_type": "display_data"
    }
   ],
   "source": [
    "weekly_replace = event_df[(event_df['broken']==1) & (event_df['replace']==1)].resample('W').agg(sum).fillna(0)\n",
    "calendarplot(weekly_replace[['hydraulic',\n",
    "                             'motor',\n",
    "                             'spindle',\n",
    "                             'accumulator',\n",
    "                             'valve'\n",
    "                            ]][weekly_replace.index.year==2016], \n",
    "             fig_kws={'figsize':(14,8)});\n",
    "plt.title('Tag Co-occurrence with \"broken\" and \"replace\", by Month')"
   ]
  },
  {
   "cell_type": "code",
   "execution_count": 30,
   "metadata": {
    "slideshow": {
     "slide_type": "subslide"
    }
   },
   "outputs": [
    {
     "name": "stderr",
     "output_type": "stream",
     "text": [
      "/home/tbsexton/anaconda3/lib/python3.6/site-packages/ipykernel_launcher.py:4: SettingWithCopyWarning: \n",
      "A value is trying to be set on a copy of a slice from a DataFrame.\n",
      "Try using .loc[row_indexer,col_indexer] = value instead\n",
      "\n",
      "See the caveats in the documentation: http://pandas.pydata.org/pandas-docs/stable/indexing.html#indexing-view-versus-copy\n",
      "  after removing the cwd from sys.path.\n"
     ]
    },
    {
     "name": "stdout",
     "output_type": "stream",
     "text": [
      "expected interarrival time\n",
      "spindle fail:\t25.11 days\n",
      "motor fail:\t17.44 days\n"
     ]
    },
    {
     "data": {
      "text/plain": [
       "<matplotlib.text.Text at 0x7ff894254400>"
      ]
     },
     "execution_count": 30,
     "metadata": {},
     "output_type": "execute_result"
    },
    {
     "data": {
      "image/png": "[encoded data removed]",
      "text/plain": [
       "<matplotlib.figure.Figure at 0x7ff89443fbe0>"
      ]
     },
     "metadata": {},
     "output_type": "display_data"
    }
   ],
   "source": [
    "from scipy.stats import norm, expon\n",
    "def get_fail_iat(event_df, tag):\n",
    "    fail_time_valve = event_df[(event_df['broken']==1) & (event_df['replace']==1) & (event_df[tag]==1)]\n",
    "    fail_time_valve['date']=fail_time_valve.index\n",
    "    fail_time_valve.index = range(fail_time_valve.shape[0])\n",
    "    iat_valve = fail_time_valve['date']-fail_time_valve.shift()['date']\n",
    "    return iat_valve\n",
    "\n",
    "plt.figure(figsize=(6,3))\n",
    "plt.hist((get_fail_iat(event_df, 'motor')/ pd.Timedelta(days=1)).values[1:], label='motor',\n",
    "                                                             normed=True)\n",
    "plt.title('Failure Interarrival Time Distributions\\n (with parametrized comparison)')\n",
    "plt.xlabel('no. days')\n",
    "\n",
    "plt.hist((get_fail_iat(event_df, 'spindle')/ pd.Timedelta(days=1)).values[1:], label='spindle', \n",
    "                                                               alpha=.7, normed=True, bins='auto')\n",
    "# plt.title('Motor Failure\\n Interarrival Times')\n",
    "# plt.xlabel('no. days')\n",
    "\n",
    "print('expected interarrival time')\n",
    "print('spindle fail:\\t{:.2f} days'.format((get_fail_iat(event_df, 'spindle')/ pd.Timedelta(days=1)).mean()))\n",
    "plt.plot(range(120), expon(scale=(get_fail_iat(event_df, 'spindle')/ pd.Timedelta(days=1)).mean()).pdf(np.arange(120)),\n",
    "        color='orange')\n",
    "\n",
    "print('motor fail:\\t{:.2f} days'.format((get_fail_iat(event_df, 'motor')/ pd.Timedelta(days=1)).mean()))\n",
    "plt.plot(range(120), expon(scale=(get_fail_iat(event_df, 'motor')/ pd.Timedelta(days=1)).mean()).pdf(np.arange(120)),\n",
    "        color='dodgerblue')\n",
    "plt.grid(b=False)\n",
    "plt.legend()\n",
    "\n",
    "plt.text(40, 0.03, r'$\\delta_f(\\mathrm{spindle})\\sim\\mathrm{Exp}(26.1)$',\n",
    "         fontsize=12)\n",
    "plt.text(40, 0.02, r'$\\delta_f(\\mathrm{motor})\\sim\\mathrm{Exp}(17.9)$',\n",
    "         fontsize=12)"
   ]
  },
  {
   "cell_type": "markdown",
   "metadata": {
    "slideshow": {
     "slide_type": "slide"
    }
   },
   "source": [
    "# Taxonomy Generation\n",
    "\n",
    "It would be great if we had organized all of these tags, determining which ones are more general or specific. "
   ]
  },
  {
   "cell_type": "markdown",
   "metadata": {
    "slideshow": {
     "slide_type": "fragment"
    }
   },
   "source": [
    "It would be even better if we had a starting point to do that, done for us. "
   ]
  },
  {
   "cell_type": "markdown",
   "metadata": {
    "slideshow": {
     "slide_type": "subslide"
    }
   },
   "source": [
    "### Graph Theory I\n",
    "\n",
    "Retrieving those same binary vectors for the top Items, lets call them $\\bf{B}$. What we want is an idea of how many times particular tags happen together. \n",
    "\n",
    "Luckily, this is $B^{T}B$ "
   ]
  },
  {
   "cell_type": "code",
   "execution_count": 33,
   "metadata": {
    "collapsed": true,
    "slideshow": {
     "slide_type": "skip"
    }
   },
   "outputs": [],
   "source": [
    "itm_relevant = get_relevant(df_pred, 'Items', topn=700)\n",
    "itm_event = pd.DataFrame(columns = [i[0] for i in itm_relevant if i[0]!=u''], \n",
    "             data = np.array([i[2] for i in itm_relevant if i[0]!=u'']).T)\n",
    "\n"
   ]
  },
  {
   "cell_type": "code",
   "execution_count": 34,
   "metadata": {
    "slideshow": {
     "slide_type": "fragment"
    }
   },
   "outputs": [
    {
     "data": {
      "text/html": [
       "<div>\n",
       "<style>\n",
       "    .dataframe thead tr:only-child th {\n",
       "        text-align: right;\n",
       "    }\n",
       "\n",
       "    .dataframe thead th {\n",
       "        text-align: left;\n",
       "    }\n",
       "\n",
       "    .dataframe tbody tr th {\n",
       "        vertical-align: top;\n",
       "    }\n",
       "</style>\n",
       "<table border=\"1\" class=\"dataframe\">\n",
       "  <thead>\n",
       "    <tr style=\"text-align: right;\">\n",
       "      <th></th>\n",
       "      <th>unit</th>\n",
       "      <th>spindle</th>\n",
       "      <th>hydraulic</th>\n",
       "      <th>motor</th>\n",
       "      <th>valve</th>\n",
       "      <th>bar</th>\n",
       "      <th>accumulator</th>\n",
       "      <th>machine</th>\n",
       "      <th>coolant</th>\n",
       "      <th>person</th>\n",
       "      <th>...</th>\n",
       "      <th>high_pressure_coolant_hose</th>\n",
       "      <th>valve_stem</th>\n",
       "      <th>hinge</th>\n",
       "      <th>hinge_belt</th>\n",
       "      <th>loader_tray</th>\n",
       "      <th>direct_current</th>\n",
       "      <th>pneumatic</th>\n",
       "      <th>bar_feed</th>\n",
       "      <th>intake_filter</th>\n",
       "      <th>valve_plate</th>\n",
       "    </tr>\n",
       "  </thead>\n",
       "  <tbody>\n",
       "    <tr>\n",
       "      <th>unit</th>\n",
       "      <td>0</td>\n",
       "      <td>30</td>\n",
       "      <td>29</td>\n",
       "      <td>60</td>\n",
       "      <td>16</td>\n",
       "      <td>5</td>\n",
       "      <td>8</td>\n",
       "      <td>10</td>\n",
       "      <td>7</td>\n",
       "      <td>26</td>\n",
       "      <td>...</td>\n",
       "      <td>0</td>\n",
       "      <td>0</td>\n",
       "      <td>0</td>\n",
       "      <td>0</td>\n",
       "      <td>0</td>\n",
       "      <td>0</td>\n",
       "      <td>0</td>\n",
       "      <td>0</td>\n",
       "      <td>0</td>\n",
       "      <td>0</td>\n",
       "    </tr>\n",
       "    <tr>\n",
       "      <th>spindle</th>\n",
       "      <td>30</td>\n",
       "      <td>0</td>\n",
       "      <td>22</td>\n",
       "      <td>20</td>\n",
       "      <td>24</td>\n",
       "      <td>8</td>\n",
       "      <td>2</td>\n",
       "      <td>14</td>\n",
       "      <td>3</td>\n",
       "      <td>22</td>\n",
       "      <td>...</td>\n",
       "      <td>0</td>\n",
       "      <td>0</td>\n",
       "      <td>0</td>\n",
       "      <td>0</td>\n",
       "      <td>0</td>\n",
       "      <td>0</td>\n",
       "      <td>0</td>\n",
       "      <td>0</td>\n",
       "      <td>0</td>\n",
       "      <td>0</td>\n",
       "    </tr>\n",
       "    <tr>\n",
       "      <th>hydraulic</th>\n",
       "      <td>29</td>\n",
       "      <td>22</td>\n",
       "      <td>0</td>\n",
       "      <td>23</td>\n",
       "      <td>51</td>\n",
       "      <td>8</td>\n",
       "      <td>15</td>\n",
       "      <td>12</td>\n",
       "      <td>6</td>\n",
       "      <td>15</td>\n",
       "      <td>...</td>\n",
       "      <td>0</td>\n",
       "      <td>1</td>\n",
       "      <td>0</td>\n",
       "      <td>0</td>\n",
       "      <td>0</td>\n",
       "      <td>2</td>\n",
       "      <td>0</td>\n",
       "      <td>0</td>\n",
       "      <td>2</td>\n",
       "      <td>2</td>\n",
       "    </tr>\n",
       "    <tr>\n",
       "      <th>motor</th>\n",
       "      <td>60</td>\n",
       "      <td>20</td>\n",
       "      <td>23</td>\n",
       "      <td>0</td>\n",
       "      <td>2</td>\n",
       "      <td>1</td>\n",
       "      <td>1</td>\n",
       "      <td>8</td>\n",
       "      <td>23</td>\n",
       "      <td>14</td>\n",
       "      <td>...</td>\n",
       "      <td>0</td>\n",
       "      <td>0</td>\n",
       "      <td>0</td>\n",
       "      <td>0</td>\n",
       "      <td>0</td>\n",
       "      <td>2</td>\n",
       "      <td>1</td>\n",
       "      <td>0</td>\n",
       "      <td>0</td>\n",
       "      <td>0</td>\n",
       "    </tr>\n",
       "    <tr>\n",
       "      <th>valve</th>\n",
       "      <td>16</td>\n",
       "      <td>24</td>\n",
       "      <td>51</td>\n",
       "      <td>2</td>\n",
       "      <td>0</td>\n",
       "      <td>12</td>\n",
       "      <td>9</td>\n",
       "      <td>11</td>\n",
       "      <td>8</td>\n",
       "      <td>12</td>\n",
       "      <td>...</td>\n",
       "      <td>0</td>\n",
       "      <td>3</td>\n",
       "      <td>0</td>\n",
       "      <td>0</td>\n",
       "      <td>0</td>\n",
       "      <td>0</td>\n",
       "      <td>0</td>\n",
       "      <td>0</td>\n",
       "      <td>0</td>\n",
       "      <td>2</td>\n",
       "    </tr>\n",
       "  </tbody>\n",
       "</table>\n",
       "<p>5 rows × 497 columns</p>\n",
       "</div>"
      ],
      "text/plain": [
       "           unit  spindle  hydraulic  motor  valve  bar  accumulator  machine  \\\n",
       "unit          0       30         29     60     16    5            8       10   \n",
       "spindle      30        0         22     20     24    8            2       14   \n",
       "hydraulic    29       22          0     23     51    8           15       12   \n",
       "motor        60       20         23      0      2    1            1        8   \n",
       "valve        16       24         51      2      0   12            9       11   \n",
       "\n",
       "           coolant  person     ...       high_pressure_coolant_hose  \\\n",
       "unit             7      26     ...                                0   \n",
       "spindle          3      22     ...                                0   \n",
       "hydraulic        6      15     ...                                0   \n",
       "motor           23      14     ...                                0   \n",
       "valve            8      12     ...                                0   \n",
       "\n",
       "           valve_stem  hinge  hinge_belt  loader_tray  direct_current  \\\n",
       "unit                0      0           0            0               0   \n",
       "spindle             0      0           0            0               0   \n",
       "hydraulic           1      0           0            0               2   \n",
       "motor               0      0           0            0               2   \n",
       "valve               3      0           0            0               0   \n",
       "\n",
       "           pneumatic  bar_feed  intake_filter  valve_plate  \n",
       "unit               0         0              0            0  \n",
       "spindle            0         0              0            0  \n",
       "hydraulic          0         0              2            2  \n",
       "motor              1         0              0            0  \n",
       "valve              0         0              0            2  \n",
       "\n",
       "[5 rows x 497 columns]"
      ]
     },
     "execution_count": 34,
     "metadata": {},
     "output_type": "execute_result"
    }
   ],
   "source": [
    "coocc = itm_event.T.dot(itm_event)\n",
    "occ = np.diagonal(np.copy(coocc))\n",
    "\n",
    "np.fill_diagonal(coocc.values, 0)\n",
    "coocc.head()\n"
   ]
  },
  {
   "cell_type": "markdown",
   "metadata": {
    "slideshow": {
     "slide_type": "-"
    }
   },
   "source": [
    "Actually, $B^{T}B$ contains the overall occurrence count in it's diagonal. What we are actually using is $B^{T}B-\\text{diag}(B^{T}B)$, which is called an *adjacency* graph. "
   ]
  },
  {
   "cell_type": "markdown",
   "metadata": {
    "slideshow": {
     "slide_type": "subslide"
    }
   },
   "source": [
    "### Graph Theory II\n",
    "\n",
    "One way to analyse this is using some notion of **node similarity**. There are a few different ways of measuring the similarity of tags, but one straight-forward one is the ever-popular *cosine similarity*. In the context of co-occurnce graphs, we can caclulate this as \n",
    "\n",
    "$$ \\frac{n_{x,y}}{\\sqrt{n_x}\\sqrt{n_y}} $$\n",
    "\n",
    "Where $n_x$, $n_y$, and $n_{x,y}$ are the number of \"issues\" or documents tagged with the tag, $x$, $y$, or $x\\cup y$, respectively. This makes for a nice edge weigting on our cooccurrence graph. "
   ]
  },
  {
   "cell_type": "code",
   "execution_count": 35,
   "metadata": {
    "slideshow": {
     "slide_type": "-"
    }
   },
   "outputs": [
    {
     "data": {
      "text/html": [
       "<div>\n",
       "<style>\n",
       "    .dataframe thead tr:only-child th {\n",
       "        text-align: right;\n",
       "    }\n",
       "\n",
       "    .dataframe thead th {\n",
       "        text-align: left;\n",
       "    }\n",
       "\n",
       "    .dataframe tbody tr th {\n",
       "        vertical-align: top;\n",
       "    }\n",
       "</style>\n",
       "<table border=\"1\" class=\"dataframe\">\n",
       "  <thead>\n",
       "    <tr style=\"text-align: right;\">\n",
       "      <th></th>\n",
       "      <th>unit</th>\n",
       "      <th>spindle</th>\n",
       "      <th>hydraulic</th>\n",
       "      <th>motor</th>\n",
       "      <th>valve</th>\n",
       "      <th>bar</th>\n",
       "      <th>accumulator</th>\n",
       "      <th>machine</th>\n",
       "      <th>coolant</th>\n",
       "      <th>person</th>\n",
       "      <th>...</th>\n",
       "      <th>high_pressure_coolant_hose</th>\n",
       "      <th>valve_stem</th>\n",
       "      <th>hinge</th>\n",
       "      <th>hinge_belt</th>\n",
       "      <th>loader_tray</th>\n",
       "      <th>direct_current</th>\n",
       "      <th>pneumatic</th>\n",
       "      <th>bar_feed</th>\n",
       "      <th>intake_filter</th>\n",
       "      <th>valve_plate</th>\n",
       "    </tr>\n",
       "  </thead>\n",
       "  <tbody>\n",
       "    <tr>\n",
       "      <th>unit</th>\n",
       "      <td>0.000000</td>\n",
       "      <td>0.002103</td>\n",
       "      <td>0.002033</td>\n",
       "      <td>0.004206</td>\n",
       "      <td>0.001122</td>\n",
       "      <td>0.000350</td>\n",
       "      <td>0.000561</td>\n",
       "      <td>0.000701</td>\n",
       "      <td>0.000491</td>\n",
       "      <td>0.001823</td>\n",
       "      <td>...</td>\n",
       "      <td>0.0</td>\n",
       "      <td>0.00000</td>\n",
       "      <td>0.0</td>\n",
       "      <td>0.0</td>\n",
       "      <td>0.0</td>\n",
       "      <td>0.00000</td>\n",
       "      <td>0.00000</td>\n",
       "      <td>0.0</td>\n",
       "      <td>0.00000</td>\n",
       "      <td>0.00000</td>\n",
       "    </tr>\n",
       "    <tr>\n",
       "      <th>spindle</th>\n",
       "      <td>0.002103</td>\n",
       "      <td>0.000000</td>\n",
       "      <td>0.001542</td>\n",
       "      <td>0.001402</td>\n",
       "      <td>0.001682</td>\n",
       "      <td>0.000561</td>\n",
       "      <td>0.000140</td>\n",
       "      <td>0.000981</td>\n",
       "      <td>0.000210</td>\n",
       "      <td>0.001542</td>\n",
       "      <td>...</td>\n",
       "      <td>0.0</td>\n",
       "      <td>0.00000</td>\n",
       "      <td>0.0</td>\n",
       "      <td>0.0</td>\n",
       "      <td>0.0</td>\n",
       "      <td>0.00000</td>\n",
       "      <td>0.00000</td>\n",
       "      <td>0.0</td>\n",
       "      <td>0.00000</td>\n",
       "      <td>0.00000</td>\n",
       "    </tr>\n",
       "    <tr>\n",
       "      <th>hydraulic</th>\n",
       "      <td>0.002033</td>\n",
       "      <td>0.001542</td>\n",
       "      <td>0.000000</td>\n",
       "      <td>0.001612</td>\n",
       "      <td>0.003575</td>\n",
       "      <td>0.000561</td>\n",
       "      <td>0.001051</td>\n",
       "      <td>0.000841</td>\n",
       "      <td>0.000421</td>\n",
       "      <td>0.001051</td>\n",
       "      <td>...</td>\n",
       "      <td>0.0</td>\n",
       "      <td>0.00007</td>\n",
       "      <td>0.0</td>\n",
       "      <td>0.0</td>\n",
       "      <td>0.0</td>\n",
       "      <td>0.00014</td>\n",
       "      <td>0.00000</td>\n",
       "      <td>0.0</td>\n",
       "      <td>0.00014</td>\n",
       "      <td>0.00014</td>\n",
       "    </tr>\n",
       "    <tr>\n",
       "      <th>motor</th>\n",
       "      <td>0.004206</td>\n",
       "      <td>0.001402</td>\n",
       "      <td>0.001612</td>\n",
       "      <td>0.000000</td>\n",
       "      <td>0.000140</td>\n",
       "      <td>0.000070</td>\n",
       "      <td>0.000070</td>\n",
       "      <td>0.000561</td>\n",
       "      <td>0.001612</td>\n",
       "      <td>0.000981</td>\n",
       "      <td>...</td>\n",
       "      <td>0.0</td>\n",
       "      <td>0.00000</td>\n",
       "      <td>0.0</td>\n",
       "      <td>0.0</td>\n",
       "      <td>0.0</td>\n",
       "      <td>0.00014</td>\n",
       "      <td>0.00007</td>\n",
       "      <td>0.0</td>\n",
       "      <td>0.00000</td>\n",
       "      <td>0.00000</td>\n",
       "    </tr>\n",
       "    <tr>\n",
       "      <th>valve</th>\n",
       "      <td>0.001122</td>\n",
       "      <td>0.001682</td>\n",
       "      <td>0.003575</td>\n",
       "      <td>0.000140</td>\n",
       "      <td>0.000000</td>\n",
       "      <td>0.000841</td>\n",
       "      <td>0.000631</td>\n",
       "      <td>0.000771</td>\n",
       "      <td>0.000561</td>\n",
       "      <td>0.000841</td>\n",
       "      <td>...</td>\n",
       "      <td>0.0</td>\n",
       "      <td>0.00021</td>\n",
       "      <td>0.0</td>\n",
       "      <td>0.0</td>\n",
       "      <td>0.0</td>\n",
       "      <td>0.00000</td>\n",
       "      <td>0.00000</td>\n",
       "      <td>0.0</td>\n",
       "      <td>0.00000</td>\n",
       "      <td>0.00014</td>\n",
       "    </tr>\n",
       "  </tbody>\n",
       "</table>\n",
       "<p>5 rows × 497 columns</p>\n",
       "</div>"
      ],
      "text/plain": [
       "               unit   spindle  hydraulic     motor     valve       bar  \\\n",
       "unit       0.000000  0.002103   0.002033  0.004206  0.001122  0.000350   \n",
       "spindle    0.002103  0.000000   0.001542  0.001402  0.001682  0.000561   \n",
       "hydraulic  0.002033  0.001542   0.000000  0.001612  0.003575  0.000561   \n",
       "motor      0.004206  0.001402   0.001612  0.000000  0.000140  0.000070   \n",
       "valve      0.001122  0.001682   0.003575  0.000140  0.000000  0.000841   \n",
       "\n",
       "           accumulator   machine   coolant    person     ...       \\\n",
       "unit          0.000561  0.000701  0.000491  0.001823     ...        \n",
       "spindle       0.000140  0.000981  0.000210  0.001542     ...        \n",
       "hydraulic     0.001051  0.000841  0.000421  0.001051     ...        \n",
       "motor         0.000070  0.000561  0.001612  0.000981     ...        \n",
       "valve         0.000631  0.000771  0.000561  0.000841     ...        \n",
       "\n",
       "           high_pressure_coolant_hose  valve_stem  hinge  hinge_belt  \\\n",
       "unit                              0.0     0.00000    0.0         0.0   \n",
       "spindle                           0.0     0.00000    0.0         0.0   \n",
       "hydraulic                         0.0     0.00007    0.0         0.0   \n",
       "motor                             0.0     0.00000    0.0         0.0   \n",
       "valve                             0.0     0.00021    0.0         0.0   \n",
       "\n",
       "           loader_tray  direct_current  pneumatic  bar_feed  intake_filter  \\\n",
       "unit               0.0         0.00000    0.00000       0.0        0.00000   \n",
       "spindle            0.0         0.00000    0.00000       0.0        0.00000   \n",
       "hydraulic          0.0         0.00014    0.00000       0.0        0.00014   \n",
       "motor              0.0         0.00014    0.00007       0.0        0.00000   \n",
       "valve              0.0         0.00000    0.00000       0.0        0.00000   \n",
       "\n",
       "           valve_plate  \n",
       "unit           0.00000  \n",
       "spindle        0.00000  \n",
       "hydraulic      0.00014  \n",
       "motor          0.00000  \n",
       "valve          0.00014  \n",
       "\n",
       "[5 rows x 497 columns]"
      ]
     },
     "execution_count": 35,
     "metadata": {},
     "output_type": "execute_result"
    }
   ],
   "source": [
    "dist_mat = coocc/np.dot(np.sqrt(occ).T, np.sqrt(occ))\n",
    "\n",
    "dist_mat.head()"
   ]
  },
  {
   "cell_type": "markdown",
   "metadata": {
    "slideshow": {
     "slide_type": "fragment"
    }
   },
   "source": [
    "However, this is a symmetric measure, so it doesnt't help us in creating any kind of taxonomy. That's where centrality comes in. "
   ]
  },
  {
   "cell_type": "markdown",
   "metadata": {
    "cell_style": "split",
    "slideshow": {
     "slide_type": "subslide"
    }
   },
   "source": [
    "### Graph Theory III\n",
    "\n",
    "Centrality is a way of rank-ordering nodes according to their \"importance\" in the graph. There are many ways to formalize this idea, and Google built its business around **PageRank**, a remarkably robust centrality measure. \n",
    "\n",
    "For example, we have: \n",
    "\n",
    "    A.  Betweenness centrality, \n",
    "    B.  Closeness centrality, \n",
    "    C.  Eigenvector centrality, \n",
    "    D.  Degree centrality, \n",
    "    E.  Harmonic Centrality and \n",
    "    F.  Katz centrality \n",
    "of the same graph. (PageRank is related to eigen-centrality)\n",
    "\n",
    "Now we can combine what we know to make a taxonomy!"
   ]
  },
  {
   "cell_type": "markdown",
   "metadata": {
    "cell_style": "split",
    "slideshow": {
     "slide_type": "-"
    }
   },
   "source": [
    "![Tapiocozzo, https://commons.wikimedia.org/wiki/File:6_centrality_measures.png](6_centrality_measures.png)"
   ]
  },
  {
   "cell_type": "code",
   "execution_count": 36,
   "metadata": {
    "collapsed": true,
    "slideshow": {
     "slide_type": "skip"
    }
   },
   "outputs": [],
   "source": [
    "import networkx as nx\n",
    "\n",
    "G = nx.from_numpy_matrix(dist_mat.values)\n",
    "G = nx.relabel_nodes(G, dict(zip(G.nodes(), dist_mat.columns)))"
   ]
  },
  {
   "cell_type": "code",
   "execution_count": 37,
   "metadata": {
    "collapsed": true,
    "slideshow": {
     "slide_type": "skip"
    }
   },
   "outputs": [],
   "source": [
    "# cent = pd.Series(nx.closeness_centrality(G, distance='weight'))\n",
    "# cent = pd.Series(nx.betweenness_centrality(G))\n",
    "# cent = pd.Series(nx.eigenvector_centrality(G))\n",
    "cent = pd.Series(nx.pagerank(G))"
   ]
  },
  {
   "cell_type": "code",
   "execution_count": 38,
   "metadata": {
    "slideshow": {
     "slide_type": "skip"
    }
   },
   "outputs": [
    {
     "data": {
      "text/plain": [
       "array(['unit', 'hydraulic', 'bar', 'spindle', 'motor', 'valve', 'person',\n",
       "       'machine', 'coolant', 'screw'], dtype=object)"
      ]
     },
     "execution_count": 38,
     "metadata": {},
     "output_type": "execute_result"
    }
   ],
   "source": [
    "cent.sort_values(ascending=False).iloc[:10].index.values\n",
    "# cent"
   ]
  },
  {
   "cell_type": "markdown",
   "metadata": {
    "slideshow": {
     "slide_type": "subslide"
    }
   },
   "source": [
    "### Graph Theory IV\n",
    "\n",
    "The **Heymann** algorithm [Heymann 2006] is an efficient algorithm that converts a set of these \"tags\" into a taxonomy via \"annotation frequencies\". \n",
    "\n",
    "1. List Tags **in order** of generality, which we measure by proxy via **centrality**. \n",
    "2. **For** each tag in the ordered list (starting with the \"most general\" node as a root):\n",
    "    1. **Insert** it as a node\n",
    "    2. Find the node, already in the taxonomy, **most similar** to it\n",
    "    3. **If** this similarity is above some **threshold**, add an edge from that node to this on\n",
    "    4. Else, leave this node as a top-level tag \\*\n",
    "3. **Remove** any \"isolates\", or nodes that have no descendants in the taxonomy. \n",
    "\n",
    "As a consequence of the similarity threshold, this particular algorithm **removes** any unnecessary and/or **irrelevant tags**. \n",
    "\n",
    "\\*This is a slight modification, which allows for multiple top-level concepts in the taxonomy. "
   ]
  },
  {
   "cell_type": "code",
   "execution_count": 39,
   "metadata": {
    "slideshow": {
     "slide_type": "skip"
    }
   },
   "outputs": [
    {
     "data": {
      "application/vnd.jupyter.widget-view+json": {
       "model_id": "50f3be620cc04b5aba0212f221060d81"
      }
     },
     "metadata": {},
     "output_type": "display_data"
    },
    {
     "name": "stdout",
     "output_type": "stream",
     "text": [
      "\n"
     ]
    }
   ],
   "source": [
    "def heymann_taxonomy(dist_mat, cent_prog='pr', tau=5e-4, \n",
    "                     dynamic=False, dotfile=None, verbose=False):\n",
    "    \"\"\"\n",
    "    dist_mat: dataframe containing similarity matrix, indexed and named by tags\n",
    "    cent_prog: algorithm to use in calculating node centrality\n",
    "        pr: PageRank\n",
    "        eig: eigencentrality\n",
    "        btw: betweenness\n",
    "        cls: closeness\n",
    "    tau: similarity threshold for retaining a node\n",
    "    dynamic: re-calculate centrality after adding every tag\n",
    "    write_dot: fname or None, where to save a .dot, if any. \n",
    "    verbose: print some stuff\n",
    "    \"\"\"\n",
    "#     tau = 5e-4\n",
    "    cent_dict = {\n",
    "        'pr': nx.pagerank,\n",
    "        'eig': nx.eigenvector_centrality,\n",
    "        'btw': nx.betweenness_centrality,\n",
    "        'cls': nx.closeness_centrality\n",
    "    }\n",
    "    \n",
    "    # Create the co-occurence graph, G\n",
    "    G = nx.from_numpy_matrix(dist_mat.values)\n",
    "    G = nx.relabel_nodes(G, dict(zip(G.nodes(), dist_mat.columns)))\n",
    "    \n",
    "    # Calculate the centrality of nodes in G\n",
    "    cent = pd.Series(cent_dict[cent_prog](G)).sort_values(ascending=False)\n",
    "    root = cent.index[0]\n",
    "    \n",
    "    # Init the taxonomy D (DAG)\n",
    "    D = nx.DiGraph()\n",
    "    D.add_node(root)\n",
    "\n",
    "    for n in tqdm_notebook(range(dist_mat.shape[0])):\n",
    "        \n",
    "        # Pick the most central node in G, and the node in D most similar to it\n",
    "        tag = cent.index[0]\n",
    "        neighbor_sim =  {k: dist_mat.loc[tag,k] for k in D.nodes()}\n",
    "        parent = max(neighbor_sim, key=lambda key: neighbor_sim[key])\n",
    "        \n",
    "        if neighbor_sim[parent] > tau:\n",
    "            # above threshold--> direct child\n",
    "            D.add_node(tag)\n",
    "            D.add_edge(parent, tag)\n",
    "        else:\n",
    "    #         D.add_edge(root, descendant)  # do not enforce single taxonomy\n",
    "            # New \"top-level\" tag\n",
    "            D.add_node(tag)\n",
    "            pass\n",
    "        \n",
    "        if dynamic:\n",
    "            # recalculate node centralities after removing each <tag>\n",
    "            # EXPENSIVE.\n",
    "            G.remove_node(tag)\n",
    "            cent = pd.Series(cent_dict[cent_prog](G)).sort_values(ascending=False)\n",
    "        else:\n",
    "            cent.drop(tag, inplace=True)\n",
    "    \n",
    "    if verbose:\n",
    "        print(root) # most \"general\" topic\n",
    "        print(nx.isolates(D)) # child-less nodes (i.e. central AND dissimilar)\n",
    "    \n",
    "    \n",
    "    D.remove_nodes_from(nx.isolates(D))  # not useful for taxonomy\n",
    "    \n",
    "    if dotfile is not None:\n",
    "        from networkx.drawing.nx_pydot import graphviz_layout, write_dot\n",
    "        D.graph['graph']={'rankdir':'LR', 'splines':'true', \n",
    "                          'ranksep':'4'}\n",
    "        write_dot(D, dotfile)\n",
    "    \n",
    "    return D\n",
    "\n",
    "D = heymann_taxonomy(dist_mat, \n",
    "                     cent_prog='pr', # dynamic=True,\n",
    "                     dotfile='tax.dot')"
   ]
  },
  {
   "cell_type": "code",
   "execution_count": 74,
   "metadata": {
    "collapsed": true,
    "slideshow": {
     "slide_type": "skip"
    }
   },
   "outputs": [],
   "source": [
    "# from networkx.drawing.nx_pydot import graphviz_layout, write_dot\n",
    "# write_dot(D, 'tax.dot')\n",
    "!dot -Tpng tax.dot >tax.png"
   ]
  },
  {
   "cell_type": "markdown",
   "metadata": {
    "slideshow": {
     "slide_type": "subslide"
    }
   },
   "source": [
    "\n",
    "\n",
    "<img src=\"tax.png\" alt=\"tax.png\" style=\"height: 1200px;\"/>"
   ]
  },
  {
   "cell_type": "code",
   "execution_count": 40,
   "metadata": {
    "slideshow": {
     "slide_type": "skip"
    }
   },
   "outputs": [
    {
     "data": {
      "text/html": [
       "<div>\n",
       "<style>\n",
       "    .dataframe thead tr:only-child th {\n",
       "        text-align: right;\n",
       "    }\n",
       "\n",
       "    .dataframe thead th {\n",
       "        text-align: left;\n",
       "    }\n",
       "\n",
       "    .dataframe tbody tr th {\n",
       "        vertical-align: top;\n",
       "    }\n",
       "</style>\n",
       "<table border=\"1\" class=\"dataframe\">\n",
       "  <thead>\n",
       "    <tr style=\"text-align: right;\">\n",
       "      <th></th>\n",
       "      <th>clustering</th>\n",
       "      <th>log_PR</th>\n",
       "      <th>log_CentC</th>\n",
       "      <th>log_CentB</th>\n",
       "    </tr>\n",
       "  </thead>\n",
       "  <tbody>\n",
       "    <tr>\n",
       "      <th>24v</th>\n",
       "      <td>-4.692787</td>\n",
       "      <td>-6.912530</td>\n",
       "      <td>-0.692139</td>\n",
       "      <td>-8.369402</td>\n",
       "    </tr>\n",
       "    <tr>\n",
       "      <th>accumulator</th>\n",
       "      <td>-4.882715</td>\n",
       "      <td>-5.241644</td>\n",
       "      <td>-0.584646</td>\n",
       "      <td>-5.191185</td>\n",
       "    </tr>\n",
       "    <tr>\n",
       "      <th>actual_issue</th>\n",
       "      <td>-4.982837</td>\n",
       "      <td>-7.309707</td>\n",
       "      <td>-0.690118</td>\n",
       "      <td>-9.520791</td>\n",
       "    </tr>\n",
       "    <tr>\n",
       "      <th>actuator</th>\n",
       "      <td>-4.945301</td>\n",
       "      <td>-6.245821</td>\n",
       "      <td>-0.628609</td>\n",
       "      <td>-6.411938</td>\n",
       "    </tr>\n",
       "    <tr>\n",
       "      <th>aim</th>\n",
       "      <td>-5.106304</td>\n",
       "      <td>-7.224907</td>\n",
       "      <td>-0.731709</td>\n",
       "      <td>-9.379372</td>\n",
       "    </tr>\n",
       "  </tbody>\n",
       "</table>\n",
       "</div>"
      ],
      "text/plain": [
       "              clustering    log_PR  log_CentC  log_CentB\n",
       "24v            -4.692787 -6.912530  -0.692139  -8.369402\n",
       "accumulator    -4.882715 -5.241644  -0.584646  -5.191185\n",
       "actual_issue   -4.982837 -7.309707  -0.690118  -9.520791\n",
       "actuator       -4.945301 -6.245821  -0.628609  -6.411938\n",
       "aim            -5.106304 -7.224907  -0.731709  -9.379372"
      ]
     },
     "execution_count": 40,
     "metadata": {},
     "output_type": "execute_result"
    }
   ],
   "source": [
    "from numpy import seterr,isneginf,array\n",
    "seterr(divide='ignore')\n",
    "node_df = pd.concat([np.log(pd.Series(nx.clustering(G, weight='weight'), name='clustering')),\n",
    "                     np.log(pd.Series(nx.pagerank(G), name='log_PR')),\n",
    "                     np.log(pd.Series(nx.closeness_centrality(G), name='log_CentC')),\n",
    "                     np.log(pd.Series(nx.betweenness_centrality(G), \n",
    "                                      name='log_CentB')).replace([np.inf, -np.inf], np.nan)], axis=1) \n",
    "node_df.head()"
   ]
  },
  {
   "cell_type": "code",
   "execution_count": 41,
   "metadata": {
    "scrolled": false,
    "slideshow": {
     "slide_type": "skip"
    }
   },
   "outputs": [
    {
     "data": {
      "text/plain": [
       "<seaborn.axisgrid.JointGrid at 0x7ff89424f828>"
      ]
     },
     "execution_count": 41,
     "metadata": {},
     "output_type": "execute_result"
    },
    {
     "data": {
      "image/png": "[encoded data removed]",
      "text/plain": [
       "<matplotlib.figure.Figure at 0x7ff8940e75c0>"
      ]
     },
     "metadata": {},
     "output_type": "display_data"
    }
   ],
   "source": [
    "sns.jointplot('clustering', 'log_PR', data=node_df, kind='hex')"
   ]
  },
  {
   "cell_type": "code",
   "execution_count": 42,
   "metadata": {
    "slideshow": {
     "slide_type": "skip"
    }
   },
   "outputs": [
    {
     "data": {
      "text/plain": [
       "<seaborn.axisgrid.JointGrid at 0x7ff8944d7e48>"
      ]
     },
     "execution_count": 42,
     "metadata": {},
     "output_type": "execute_result"
    },
    {
     "data": {
      "image/png": "[encoded data removed]",
      "text/plain": [
       "<matplotlib.figure.Figure at 0x7ff8944d72b0>"
      ]
     },
     "metadata": {},
     "output_type": "display_data"
    }
   ],
   "source": [
    "sns.jointplot('clustering', 'log_CentC', data=node_df, kind='hex')"
   ]
  },
  {
   "cell_type": "code",
   "execution_count": 43,
   "metadata": {
    "slideshow": {
     "slide_type": "skip"
    }
   },
   "outputs": [
    {
     "data": {
      "text/plain": [
       "<seaborn.axisgrid.JointGrid at 0x7ff89428b4e0>"
      ]
     },
     "execution_count": 43,
     "metadata": {},
     "output_type": "execute_result"
    },
    {
     "data": {
      "image/png": "[encoded data removed]",
      "text/plain": [
       "<matplotlib.figure.Figure at 0x7ff870c0dcf8>"
      ]
     },
     "metadata": {},
     "output_type": "display_data"
    }
   ],
   "source": [
    "sns.jointplot('clustering', 'log_CentB', data=node_df, kind='hex')"
   ]
  },
  {
   "cell_type": "code",
   "execution_count": 44,
   "metadata": {
    "scrolled": true,
    "slideshow": {
     "slide_type": "skip"
    }
   },
   "outputs": [
    {
     "data": {
      "text/plain": [
       "<matplotlib.image.AxesImage at 0x7ff8702aef60>"
      ]
     },
     "execution_count": 44,
     "metadata": {},
     "output_type": "execute_result"
    },
    {
     "data": {
      "image/png": "[encoded data removed]",
      "text/plain": [
       "<matplotlib.figure.Figure at 0x7ff870be4400>"
      ]
     },
     "metadata": {},
     "output_type": "display_data"
    }
   ],
   "source": [
    "plt.spy(coocc.values)"
   ]
  },
  {
   "cell_type": "code",
   "execution_count": 45,
   "metadata": {
    "scrolled": false,
    "slideshow": {
     "slide_type": "skip"
    }
   },
   "outputs": [
    {
     "data": {
      "image/png": "[encoded data removed]",
      "text/plain": [
       "<matplotlib.figure.Figure at 0x7ff8ddc9e4a8>"
      ]
     },
     "metadata": {},
     "output_type": "display_data"
    }
   ],
   "source": [
    "import matplotlib\n",
    "matplotlib.font_manager._rebuild()\n",
    "\n",
    "with plt.xkcd():\n",
    "    plt.title('sorted fiedler vector')\n",
    "    fied = nx.fiedler_vector(G)\n",
    "    plt.plot(np.arange(fied.shape[0]),np.sort(nx.fiedler_vector(G)), 'k')\n",
    "    # place a text box in upper left in axes coords\n",
    "    plt.text(0.1, 0.85, ' Looking for a sharp vertical jump\\n in the middle, defining a cluster\\n boundary',\n",
    "             transform=plt.gca().transAxes, fontsize=14, verticalalignment='top'\n",
    "            )\n",
    "# arrangement = np.argsort(nx.fiedler_vector(G))"
   ]
  },
  {
   "cell_type": "code",
   "execution_count": 46,
   "metadata": {
    "slideshow": {
     "slide_type": "skip"
    }
   },
   "outputs": [
    {
     "data": {
      "image/png": "[encoded data removed]",
      "text/plain": [
       "<matplotlib.figure.Figure at 0x7ff89653fb38>"
      ]
     },
     "metadata": {},
     "output_type": "display_data"
    }
   ],
   "source": [
    "with plt.xkcd():\n",
    "    plt.title('zooming in...')\n",
    "    fied = nx.fiedler_vector(G)\n",
    "    plt.plot(np.arange(fied.shape[0])[10:-10],np.sort(fied)[10:-10], 'k')\n",
    "    plt.annotate(\n",
    "        'well, crap...',\n",
    "        xy=(60,-.0015), arrowprops=dict(arrowstyle='-'), xytext=(150, -.002)\n",
    "    )\n",
    "    plt.text(1.05, 0.85, ' It seems no scale\\n contains a sharp\\n jump, and everything\\n is pretty smooth...',\n",
    "         transform=plt.gca().transAxes, fontsize=14, verticalalignment='top'\n",
    "        )\n",
    "#     plt.yscale('symlog', linthresy=(-.0010, -.0005))"
   ]
  },
  {
   "cell_type": "code",
   "execution_count": 47,
   "metadata": {
    "slideshow": {
     "slide_type": "skip"
    }
   },
   "outputs": [
    {
     "data": {
      "text/plain": [
       "['inverter_guard',\n",
       " 'table_down_sensor',\n",
       " 'unit_safety',\n",
       " 'brush_unit_safety',\n",
       " 'unit_safety_guard',\n",
       " 'safety_guard',\n",
       " 'dresser_control_valve',\n",
       " 'dresser_control',\n",
       " 'platform',\n",
       " 'loader_tray',\n",
       " 'pneumatic',\n",
       " 'i_2',\n",
       " 'door_interlock',\n",
       " 'vogel_unit',\n",
       " 'filtermist',\n",
       " 'valve_stem',\n",
       " 'recess_unit',\n",
       " 'valve_plate',\n",
       " 'chip_guard',\n",
       " 'chip_conveyor_belt',\n",
       " 'high_pressure_coolant_hose',\n",
       " 'stripper',\n",
       " 'chip_stripper',\n",
       " 'iemca_flag',\n",
       " 'hook',\n",
       " 'battery',\n",
       " 'wheel_control_valve',\n",
       " 'mist',\n",
       " 'bar_loader_chain',\n",
       " 'draw_bar',\n",
       " 'impellor',\n",
       " 'st_2_drill_detector',\n",
       " 'flag_proximity_cable',\n",
       " 'direct_current',\n",
       " 'speed_counter',\n",
       " 'skimmer',\n",
       " 'drawbar',\n",
       " 'high_pressure_accumulator',\n",
       " 'bar_feed',\n",
       " 'wide',\n",
       " 'exit_conveyor',\n",
       " 'loader_chain',\n",
       " 'sinico',\n",
       " 'clamp pressure',\n",
       " 'horseshoe',\n",
       " 'st_2_drill',\n",
       " 'offload_conveyor_belt',\n",
       " 'head_attachment',\n",
       " 'iso_46',\n",
       " 'hinge_belt',\n",
       " 'saw_blade',\n",
       " 'separator',\n",
       " 'hose_connection',\n",
       " 'inverter_valve',\n",
       " 'pad',\n",
       " 'chuck_cylinder',\n",
       " 'exit_chute',\n",
       " 'st_3_spindle',\n",
       " 'skirt',\n",
       " 'intake_filter',\n",
       " 'b_side_turret',\n",
       " 'ms_32',\n",
       " 'hinge',\n",
       " 'coolant_hose',\n",
       " 'pressure_gauge',\n",
       " 'cool_unit',\n",
       " 'smog',\n",
       " 'part_offload_conveyor',\n",
       " 'part_offload',\n",
       " 'recess_spindle',\n",
       " 'jaw_set',\n",
       " 'clamp_jaw_set',\n",
       " 'feed_speed',\n",
       " 'dresser',\n",
       " 'st_11_spindle',\n",
       " 'spindle_carrier',\n",
       " 'spool',\n",
       " 'clutch_disc',\n",
       " 'high_speed_counter',\n",
       " 'selector_switch',\n",
       " 'bar_feeder_chain',\n",
       " 'arbor',\n",
       " 'axis_ball',\n",
       " 'axis_ball_screw',\n",
       " 'clutch_drive',\n",
       " 'push_dog_holder',\n",
       " 'conveyor_belt',\n",
       " 'lucifer_valve',\n",
       " 'lucifer',\n",
       " 'cross_drill_head',\n",
       " 'sp_6',\n",
       " 'paddle',\n",
       " 'iemca_rear',\n",
       " 'push_rod',\n",
       " 'stem',\n",
       " 'tool_clamp',\n",
       " 'rack_drive',\n",
       " 'guard',\n",
       " 'flow_control_valve',\n",
       " 'st_2_valve',\n",
       " 'st_14',\n",
       " 'clamp_jaw',\n",
       " 'feed_line',\n",
       " 'gauge',\n",
       " 'h_11',\n",
       " 'receiver',\n",
       " 'bar_load_sequence',\n",
       " 'load_sequence',\n",
       " 'turret_3',\n",
       " 'milling',\n",
       " 'lt_module',\n",
       " 'sprocket',\n",
       " 'tray',\n",
       " 'basket',\n",
       " 'hog',\n",
       " 'gearbox',\n",
       " 'conveyor_clutch',\n",
       " 'chip_conveyor_clutch',\n",
       " 'magazine_tray',\n",
       " 'flag_sensor',\n",
       " 'bleeder',\n",
       " 'bleeder_valve',\n",
       " 'sinat',\n",
       " 'vogel_tank',\n",
       " 'retainer',\n",
       " 'bar_clamp',\n",
       " 'table_rack',\n",
       " 'saw_head',\n",
       " 'bowl',\n",
       " 'coolant_tank',\n",
       " 'arm',\n",
       " 'hsk_clamp',\n",
       " 'breaker_valve',\n",
       " 'chip_breaker_valve',\n",
       " 'saw_attachment',\n",
       " 'regulating_wheel',\n",
       " 'sub_spindle',\n",
       " 'cord',\n",
       " 'glass',\n",
       " 'feeder_chain',\n",
       " 'ejector',\n",
       " 'disc',\n",
       " 'feed_pressure',\n",
       " 'clip',\n",
       " 'chip_breaker',\n",
       " 'face_travel_flag',\n",
       " 'face_travel',\n",
       " 'catch',\n",
       " 'load_valve',\n",
       " 'travel_flag',\n",
       " 'ball_screw',\n",
       " 'wand',\n",
       " 'x_axis',\n",
       " 'high_pressure_coolant',\n",
       " 'bladder',\n",
       " 'po',\n",
       " 'assembly',\n",
       " 'feed_chain',\n",
       " 'safety',\n",
       " 'link',\n",
       " 'linear',\n",
       " 'gasket',\n",
       " 'drill_head',\n",
       " 'post',\n",
       " 'hydromat',\n",
       " 'spindle_contactor',\n",
       " 'inverter_rod',\n",
       " 'oil_line',\n",
       " 'orifice',\n",
       " 'hydraulic_line',\n",
       " 'clamp_screw',\n",
       " 'chiller',\n",
       " 'spindle_end',\n",
       " 'push_dog',\n",
       " 'flag',\n",
       " 'x_3',\n",
       " 'shelf',\n",
       " 'washer',\n",
       " 'filter_housing',\n",
       " 'st_2_spindle',\n",
       " 'regulator',\n",
       " 'c_axis',\n",
       " 'attachment',\n",
       " 'ball',\n",
       " 'control_pivot',\n",
       " 'counter',\n",
       " 'st_1',\n",
       " 'control_valve',\n",
       " 'fork',\n",
       " 'fork_truck',\n",
       " 'exit',\n",
       " 'air_pressure',\n",
       " 'offload conveyor',\n",
       " 'feeder',\n",
       " 'hydraulic_hose',\n",
       " 'entry',\n",
       " 'bar_change',\n",
       " 'iemca_track',\n",
       " 'time_cycle',\n",
       " 'tool_holder',\n",
       " 'jaw',\n",
       " 'bar_pusher',\n",
       " 'robot',\n",
       " 'b_turret',\n",
       " 'drum',\n",
       " 'bar_feeder',\n",
       " 'actual_issue',\n",
       " 'gate',\n",
       " 'power_supply',\n",
       " 'coolant_line',\n",
       " 'selector',\n",
       " 'carrier',\n",
       " 'dog',\n",
       " 'steel',\n",
       " 'hydraulic_pump',\n",
       " 'high_pressure_pump',\n",
       " 'hsk',\n",
       " 'parameter',\n",
       " 'mode',\n",
       " 'set_screw',\n",
       " 'supply',\n",
       " 'vogel_lube',\n",
       " 'channel',\n",
       " 'cable_connection',\n",
       " 'bush',\n",
       " 'bar_stop',\n",
       " 'stock_clamp',\n",
       " 'accumulator',\n",
       " 'tube',\n",
       " 'xd_head',\n",
       " 'hub',\n",
       " 'saw_unit',\n",
       " 'bar_end',\n",
       " 'power_module',\n",
       " 'slug',\n",
       " 'part_catcher',\n",
       " 'hydraulic_oil',\n",
       " 'st_9',\n",
       " 'face',\n",
       " 'jet',\n",
       " 'lead_screw',\n",
       " 'key',\n",
       " 'cross_drill',\n",
       " 'lift',\n",
       " 'bushing',\n",
       " 'catcher',\n",
       " 'coupling',\n",
       " 'mill',\n",
       " 'scraper',\n",
       " 'servo',\n",
       " 'blade',\n",
       " 'saw',\n",
       " 'pusher',\n",
       " 'manufacturing',\n",
       " 'chute',\n",
       " 'latch',\n",
       " 'pivot',\n",
       " '24v',\n",
       " 'xd',\n",
       " 'bar_loader',\n",
       " 'actuator',\n",
       " 'conveyor_motor',\n",
       " 'fitting',\n",
       " 'hand',\n",
       " 'drive_shaft',\n",
       " 'holder',\n",
       " 'high_speed',\n",
       " 'air_tool',\n",
       " 'tool_oil',\n",
       " 'air_tool_oil',\n",
       " 'st_4',\n",
       " 'pressure_switch',\n",
       " 'roller',\n",
       " 'hydraulic_pressure',\n",
       " 'proximity_sensor',\n",
       " 'area',\n",
       " 'chain',\n",
       " 'indexer_valve',\n",
       " 'table_index_valve',\n",
       " 'gage',\n",
       " 'st_12',\n",
       " 'motor_contactor',\n",
       " 'pipe',\n",
       " 'st_3',\n",
       " 'brush_unit_stick',\n",
       " 'magazine',\n",
       " 'st',\n",
       " 'spindle_drive',\n",
       " 'spare',\n",
       " 'gripper',\n",
       " 'cooling_fan',\n",
       " 'grind_wheel',\n",
       " 'slide',\n",
       " 'long',\n",
       " 'bolt',\n",
       " 'clamp',\n",
       " 'high_pressure',\n",
       " 'feed',\n",
       " 'monitor',\n",
       " 'st_11',\n",
       " 'low_pressure',\n",
       " 'hydraulic_fluid',\n",
       " 'cnc',\n",
       " 'fluid',\n",
       " 'st_8',\n",
       " 'seal',\n",
       " 'stock',\n",
       " 'air_line',\n",
       " 'tip',\n",
       " 'nut',\n",
       " 'upper',\n",
       " 'clutch',\n",
       " 'chip_conveyor',\n",
       " 'piston',\n",
       " 'transport',\n",
       " 'filter',\n",
       " 'collet',\n",
       " 'pulley',\n",
       " 'seat',\n",
       " 'floor',\n",
       " 'ring',\n",
       " 'hydraulic_filter',\n",
       " 'rail',\n",
       " 'pressure',\n",
       " 'cutoff_unit',\n",
       " 'encoder',\n",
       " 'st_10',\n",
       " 'rear',\n",
       " 'limit_switch',\n",
       " 'float_switch',\n",
       " 'bear',\n",
       " 'iemca',\n",
       " 'electric',\n",
       " 'truck',\n",
       " 'inverter',\n",
       " 'brush',\n",
       " 'wheel',\n",
       " 'box',\n",
       " 'button',\n",
       " 'brush_unit',\n",
       " 'housing',\n",
       " 'spindle_bearing',\n",
       " 'motor',\n",
       " 'end',\n",
       " 'cross',\n",
       " 'conveyor',\n",
       " 'table_valve',\n",
       " 'stroke',\n",
       " 'bearing',\n",
       " 'hose',\n",
       " 'solenoid_valve',\n",
       " 'spindle',\n",
       " 'sensor_cable',\n",
       " 'stick',\n",
       " 'vogel',\n",
       " 'person',\n",
       " 'brake',\n",
       " 'door',\n",
       " 'rings',\n",
       " 'circuit',\n",
       " 'guide',\n",
       " 'rack',\n",
       " 'plate',\n",
       " 'valve',\n",
       " 'st_5',\n",
       " 'tank',\n",
       " 'tool_detection',\n",
       " 'table_index',\n",
       " 'unit_motor',\n",
       " 'lube',\n",
       " 'voltage',\n",
       " 'electrical_cabinet',\n",
       " 'proximity_cable',\n",
       " 'cabinet',\n",
       " 'hydraulic',\n",
       " 'input',\n",
       " 'base',\n",
       " 'chip',\n",
       " 'main_spindle',\n",
       " 'breaker',\n",
       " 'vacuum',\n",
       " 'proximity',\n",
       " 'proximity_switch',\n",
       " 'thread',\n",
       " 'oil',\n",
       " 'shaft',\n",
       " 'float',\n",
       " 'table_down_proximity',\n",
       " 'brush_unit_motor',\n",
       " 'line',\n",
       " 'contactor',\n",
       " 'st_5_brush_unit',\n",
       " 'st_5_brush',\n",
       " 'sensor',\n",
       " 'z_axis',\n",
       " 'track',\n",
       " 'tool',\n",
       " 'spring',\n",
       " 'pump_motor',\n",
       " 'offload',\n",
       " 'bracket',\n",
       " 'home',\n",
       " 'loader',\n",
       " 'thread_unit',\n",
       " 'control_fuse',\n",
       " 'head',\n",
       " 'oil_pump',\n",
       " 'control',\n",
       " 'board',\n",
       " 'turret',\n",
       " 'gear',\n",
       " 'part',\n",
       " 'output_board',\n",
       " 'main',\n",
       " 'control_panel',\n",
       " 'intake',\n",
       " 'shuttle',\n",
       " 'detector',\n",
       " 'flange',\n",
       " 'controller',\n",
       " 'drill',\n",
       " 'st_6',\n",
       " 'motor_starter',\n",
       " 'drill_detector',\n",
       " 'pump',\n",
       " 'panel',\n",
       " 'pack',\n",
       " 'air',\n",
       " 'hydraulic_motor',\n",
       " 'belt',\n",
       " 'coolant_pump_motor',\n",
       " 'interlock',\n",
       " 'coolant',\n",
       " 'st_7',\n",
       " 'power_pack',\n",
       " 'output',\n",
       " 'connector',\n",
       " 'rotator',\n",
       " 'z_1',\n",
       " 'plc',\n",
       " 'fan',\n",
       " 'axis',\n",
       " 'collector',\n",
       " 'screen',\n",
       " 'station',\n",
       " 'cylinder',\n",
       " 'solenoid',\n",
       " 'drive',\n",
       " 'return_line',\n",
       " 'plug',\n",
       " 'coolant_pump',\n",
       " 'relay',\n",
       " 'exhaust',\n",
       " 'coil',\n",
       " 'run_auto',\n",
       " 'hydraulic_return',\n",
       " 'performance_module',\n",
       " 'operator',\n",
       " 'hydraulic_return_line',\n",
       " 'bus',\n",
       " 'leg',\n",
       " 'module',\n",
       " 'screw',\n",
       " 'valve_stack',\n",
       " 'unit',\n",
       " 'switch',\n",
       " 'drive_belt',\n",
       " 'cable',\n",
       " 'wire',\n",
       " 'bar',\n",
       " 'st_2',\n",
       " 'machine',\n",
       " 'table',\n",
       " 'chamfer',\n",
       " 'pin',\n",
       " 'rod',\n",
       " 'cover',\n",
       " 'section',\n",
       " 'connection',\n",
       " 'electrical',\n",
       " 'chamfer_unit',\n",
       " 'fuse',\n",
       " 'hole',\n",
       " 'side_b',\n",
       " 'indexer',\n",
       " 'laser',\n",
       " 'starter',\n",
       " 'pendant',\n",
       " 'aim',\n",
       " 'room',\n",
       " 'center',\n",
       " 'stack',\n",
       " 'side_a',\n",
       " 'unit_2',\n",
       " 'light',\n",
       " 'bulb',\n",
       " 'workzone']"
      ]
     },
     "execution_count": 47,
     "metadata": {},
     "output_type": "execute_result"
    }
   ],
   "source": [
    "nx.spectral_ordering(G, weight=None)"
   ]
  },
  {
   "cell_type": "code",
   "execution_count": 48,
   "metadata": {
    "slideshow": {
     "slide_type": "skip"
    }
   },
   "outputs": [
    {
     "data": {
      "text/plain": [
       "<matplotlib.image.AxesImage at 0x7ff896351390>"
      ]
     },
     "execution_count": 48,
     "metadata": {},
     "output_type": "execute_result"
    },
    {
     "data": {
      "image/png": "[encoded data removed]",
      "text/plain": [
       "<matplotlib.figure.Figure at 0x7ff870592eb8>"
      ]
     },
     "metadata": {},
     "output_type": "display_data"
    }
   ],
   "source": [
    "plt.spy(coocc.loc[nx.spectral_ordering(G, weight=None),\n",
    "                  nx.spectral_ordering(G, weight=None)])"
   ]
  },
  {
   "cell_type": "code",
   "execution_count": 49,
   "metadata": {
    "collapsed": true,
    "slideshow": {
     "slide_type": "skip"
    }
   },
   "outputs": [],
   "source": [
    "from networkx.readwrite import json_graph\n",
    "from networkx.algorithms.traversal.depth_first_search import dfs_tree\n",
    "import json\n",
    "\n",
    "subD = dfs_tree(D, 'unit')\n",
    "\n",
    "with open('d3tree.json', 'w') as outfile:\n",
    "    s=json.dump(json_graph.tree.tree_data(subD, 'unit'), outfile)"
   ]
  },
  {
   "cell_type": "code",
   "execution_count": 50,
   "metadata": {
    "code_folding": [],
    "slideshow": {
     "slide_type": "skip"
    }
   },
   "outputs": [
    {
     "name": "stdout",
     "output_type": "stream",
     "text": [
      "Overwriting f2.template\n"
     ]
    }
   ],
   "source": [
    "%%writefile f2.template\n",
    "<!DOCTYPE html>\n",
    "<meta charset=\"utf-8\">\n",
    "<style>\n",
    "\n",
    ".node {\n",
    "  cursor: pointer;\n",
    "}\n",
    "\n",
    ".node circle {\n",
    "  fill: #fff;\n",
    "  stroke: steelblue;\n",
    "  stroke-width: 1.5px;\n",
    "}\n",
    "\n",
    ".node text {\n",
    "  font: 10px sans-serif;\n",
    "}\n",
    "\n",
    ".link {\n",
    "  fill: none;\n",
    "  stroke: #ccc;\n",
    "  stroke-width: 1.5px;\n",
    "}\n",
    "\n",
    "</style>\n",
    "<body>\n",
    "<script src=\"//d3js.org/d3.v3.min.js\"></script>\n",
    "<script>\n",
    "\n",
    "var margin = {top: 20, right: 120, bottom: 20, left: 120},\n",
    "    width = 1500 - margin.right - margin.left,\n",
    "    height = 1200 - margin.top - margin.bottom;\n",
    "\n",
    "var i = 0,\n",
    "    duration = 750,\n",
    "    root;\n",
    "\n",
    "var tree = d3.layout.tree()\n",
    "    .size([height, width]);\n",
    "\n",
    "var diagonal = d3.svg.diagonal()\n",
    "    .projection(function(d) { return [d.y, d.x]; });\n",
    "\n",
    "var svg = d3.select(\"body\").append(\"svg\")\n",
    "    .attr(\"width\", width + margin.right + margin.left)\n",
    "    .attr(\"height\", height + margin.top + margin.bottom)\n",
    "  .append(\"g\")\n",
    "    .attr(\"transform\", \"translate(\" + margin.left + \",\" + margin.top + \")\");\n",
    "\n",
    "d3.json(\"d3tree.json\", function(error, flare) {\n",
    "  if (error) throw error;\n",
    "\n",
    "  root = flare;\n",
    "  root.x0 = height / 2;\n",
    "  root.y0 = 0;\n",
    "\n",
    "  function collapse(d) {\n",
    "    if (d.children) {\n",
    "      d._children = d.children;\n",
    "      d._children.forEach(collapse);\n",
    "      d.children = null;\n",
    "    }\n",
    "  }\n",
    "\n",
    "  root.children.forEach(collapse);\n",
    "  update(root);\n",
    "});\n",
    "\n",
    "d3.select(self.frameElement).style(\"height\", \"1200px\");\n",
    "\n",
    "function update(source) {\n",
    "\n",
    "  // Compute the new tree layout.\n",
    "  var nodes = tree.nodes(root).reverse(),\n",
    "      links = tree.links(nodes);\n",
    "\n",
    "  // Normalize for fixed-depth.\n",
    "  nodes.forEach(function(d) { d.y = d.depth * 180; });\n",
    "\n",
    "  // Update the nodes…\n",
    "  var node = svg.selectAll(\"g.node\")\n",
    "      .data(nodes, function(d) { return d.id || (d.id = ++i); });\n",
    "\n",
    "  // Enter any new nodes at the parent's previous position.\n",
    "  var nodeEnter = node.enter().append(\"g\")\n",
    "      .attr(\"class\", \"node\")\n",
    "      .attr(\"transform\", function(d) { return \"translate(\" + source.y0 + \",\" + source.x0 + \")\"; })\n",
    "      .on(\"click\", click);\n",
    "\n",
    "  nodeEnter.append(\"circle\")\n",
    "      .attr(\"r\", 1e-6)\n",
    "      .style(\"fill\", function(d) { return d._children ? \"lightsteelblue\" : \"#fff\"; });\n",
    "\n",
    "  nodeEnter.append(\"text\")\n",
    "      .attr(\"x\", function(d) { return d.children || d._children ? -10 : 10; })\n",
    "      .attr(\"dy\", \".35em\")\n",
    "      .attr(\"text-anchor\", function(d) { return d.children || d._children ? \"end\" : \"start\"; })\n",
    "      .text(function(d) { return d.id; })\n",
    "      .style(\"fill-opacity\", 1e-6);\n",
    "\n",
    "  // Transition nodes to their new position.\n",
    "  var nodeUpdate = node.transition()\n",
    "      .duration(duration)\n",
    "      .attr(\"transform\", function(d) { return \"translate(\" + d.y + \",\" + d.x + \")\"; });\n",
    "\n",
    "  nodeUpdate.select(\"circle\")\n",
    "      .attr(\"r\", 4.5)\n",
    "      .style(\"fill\", function(d) { return d._children ? \"lightsteelblue\" : \"#fff\"; });\n",
    "\n",
    "  nodeUpdate.select(\"text\")\n",
    "      .style(\"fill-opacity\", 1);\n",
    "\n",
    "  // Transition exiting nodes to the parent's new position.\n",
    "  var nodeExit = node.exit().transition()\n",
    "      .duration(duration)\n",
    "      .attr(\"transform\", function(d) { return \"translate(\" + source.y + \",\" + source.x + \")\"; })\n",
    "      .remove();\n",
    "\n",
    "  nodeExit.select(\"circle\")\n",
    "      .attr(\"r\", 1e-6);\n",
    "\n",
    "  nodeExit.select(\"text\")\n",
    "      .style(\"fill-opacity\", 1e-6);\n",
    "\n",
    "  // Update the links…\n",
    "  var link = svg.selectAll(\"path.link\")\n",
    "      .data(links, function(d) { return d.target.id; });\n",
    "\n",
    "  // Enter any new links at the parent's previous position.\n",
    "  link.enter().insert(\"path\", \"g\")\n",
    "      .attr(\"class\", \"link\")\n",
    "      .attr(\"d\", function(d) {\n",
    "        var o = {x: source.x0, y: source.y0};\n",
    "        return diagonal({source: o, target: o});\n",
    "      });\n",
    "\n",
    "  // Transition links to their new position.\n",
    "  link.transition()\n",
    "      .duration(duration)\n",
    "      .attr(\"d\", diagonal);\n",
    "\n",
    "  // Transition exiting nodes to the parent's new position.\n",
    "  link.exit().transition()\n",
    "      .duration(duration)\n",
    "      .attr(\"d\", function(d) {\n",
    "        var o = {x: source.x, y: source.y};\n",
    "        return diagonal({source: o, target: o});\n",
    "      })\n",
    "      .remove();\n",
    "\n",
    "  // Stash the old positions for transition.\n",
    "  nodes.forEach(function(d) {\n",
    "    d.x0 = d.x;\n",
    "    d.y0 = d.y;\n",
    "  });\n",
    "}\n",
    "\n",
    "// Toggle children on click.\n",
    "function click(d) {\n",
    "  if (d.children) {\n",
    "    d._children = d.children;\n",
    "    d.children = null;\n",
    "  } else {\n",
    "    d.children = d._children;\n",
    "    d._children = null;\n",
    "  }\n",
    "  update(d);\n",
    "}\n",
    "\n",
    "</script>"
   ]
  },
  {
   "cell_type": "code",
   "execution_count": 51,
   "metadata": {
    "collapsed": true,
    "slideshow": {
     "slide_type": "skip"
    }
   },
   "outputs": [],
   "source": [
    "from IPython.display import IFrame\n",
    "import re\n",
    "\n",
    "def replace_all(txt,d):\n",
    "    rep = dict((re.escape('{'+k+'}'), str(v)) for k, v in d.items())\n",
    "    pattern = re.compile(\"|\".join(rep.keys()))\n",
    "    return pattern.sub(lambda m: rep[re.escape(m.group(0))], txt)    \n",
    "\n",
    "count=0\n",
    "def serve_html(s,w,h):\n",
    "    import os\n",
    "    global count\n",
    "    count+=1\n",
    "    fn= '__tmp'+str(os.getpid())+'_'+str(count)+'.html'\n",
    "    with open(fn,'w') as f:\n",
    "        f.write(s)\n",
    "    return IFrame('files/'+fn,w,h)\n",
    "\n",
    "def f2(w=500,h=400):\n",
    "    d={\n",
    "       'width'      :w,\n",
    "       'height'     :h,\n",
    "       }\n",
    "    with open('f2.template','r') as f:\n",
    "        s=f.read()\n",
    "    s= replace_all(s,d)        \n",
    "    return serve_html(s,w+30,h+30)"
   ]
  },
  {
   "cell_type": "code",
   "execution_count": 52,
   "metadata": {
    "scrolled": false,
    "slideshow": {
     "slide_type": "subslide"
    }
   },
   "outputs": [
    {
     "data": {
      "text/html": [
       "\n",
       "        <iframe\n",
       "            width=\"1530\"\n",
       "            height=\"1230\"\n",
       "            src=\"files/__tmp27928_1.html\"\n",
       "            frameborder=\"0\"\n",
       "            allowfullscreen\n",
       "        ></iframe>\n",
       "        "
      ],
      "text/plain": [
       "<IPython.lib.display.IFrame at 0x7ff896553f28>"
      ]
     },
     "execution_count": 52,
     "metadata": {},
     "output_type": "execute_result"
    }
   ],
   "source": [
    "f2(w=1500,h=1200)"
   ]
  },
  {
   "cell_type": "markdown",
   "metadata": {
    "slideshow": {
     "slide_type": "slide"
    }
   },
   "source": [
    "# Questions/Comments?"
   ]
  },
  {
   "cell_type": "code",
   "execution_count": null,
   "metadata": {
    "collapsed": true
   },
   "outputs": [],
   "source": []
  }
 ],
 "metadata": {
  "celltoolbar": "Slideshow",
  "hide_input": false,
  "kernelspec": {
   "display_name": "Python 3",
   "language": "python",
   "name": "python3"
  },
  "language_info": {
   "codemirror_mode": {
    "name": "ipython",
    "version": 3
   },
   "file_extension": ".py",
   "mimetype": "text/x-python",
   "name": "python",
   "nbconvert_exporter": "python",
   "pygments_lexer": "ipython3",
   "version": "3.6.3"
  },
  "varInspector": {
   "cols": {
    "lenName": 16,
    "lenType": 16,
    "lenVar": 40
   },
   "kernels_config": {
    "python": {
     "delete_cmd_postfix": "",
     "delete_cmd_prefix": "del ",
     "library": "var_list.py",
     "varRefreshCmd": "print(var_dic_list())"
    },
    "r": {
     "delete_cmd_postfix": ") ",
     "delete_cmd_prefix": "rm(",
     "library": "var_list.r",
     "varRefreshCmd": "cat(var_dic_list()) "
    }
   },
   "types_to_exclude": [
    "module",
    "function",
    "builtin_function_or_method",
    "instance",
    "_Feature"
   ],
   "window_display": false
  },
  "widgets": {
   "application/vnd.jupyter.widget-state+json": {
    "state": {
     "0657313987a047cf9a4b06a7f7562c37": {
      "model_module": "jupyter-js-widgets",
      "model_module_version": "~2.1.4",
      "model_name": "HTMLModel",
      "state": {
       "_model_module_version": "~2.1.4",
       "_view_module_version": "~2.1.4",
       "layout": "IPY_MODEL_c5428b7259c44b02853aa783c60a56ef",
       "value": "3438it [00:08, 404.33it/s]"
      }
     },
     "3658ab89cef348159fc37268c83286c7": {
      "model_module": "jupyter-js-widgets",
      "model_module_version": "~2.1.4",
      "model_name": "OutputModel",
      "state": {
       "_dom_classes": [],
       "_model_module": "jupyter-js-widgets",
       "_model_module_version": "~2.1.4",
       "_view_module": "jupyter-js-widgets",
       "_view_module_version": "~2.1.4",
       "layout": "IPY_MODEL_dcc6e706789f4e8a80e2390cec290c36",
       "msg_throttle": 1
      }
     },
     "50d71f1cd4174a10a8ceb64eccb21120": {
      "model_module": "jupyter-js-widgets",
      "model_module_version": "~2.1.4",
      "model_name": "VBoxModel",
      "state": {
       "_dom_classes": [
        "widget-interact"
       ],
       "_model_module_version": "~2.1.4",
       "_view_module_version": "~2.1.4",
       "children": [
        "IPY_MODEL_c3d4519474934655bb16d61d797a6ffb",
        "IPY_MODEL_3658ab89cef348159fc37268c83286c7"
       ],
       "layout": "IPY_MODEL_6e71d4602bf040158cda58fd4a11a4a6"
      }
     },
     "66481c25e80a4caf9a34e5480c1596f4": {
      "model_module": "jupyter-js-widgets",
      "model_module_version": "~2.1.4",
      "model_name": "ProgressModel",
      "state": {
       "_model_module_version": "~2.1.4",
       "_view_module_version": "~2.1.4",
       "bar_style": "success",
       "layout": "IPY_MODEL_d8139d687d504e1098e373f239bdef87",
       "max": 1,
       "style": "IPY_MODEL_c68dce6f590142598e9f936a22adc347",
       "value": 1
      }
     },
     "6e71d4602bf040158cda58fd4a11a4a6": {
      "model_module": "jupyter-js-widgets",
      "model_module_version": "~2.1.4",
      "model_name": "LayoutModel",
      "state": {
       "_model_module_version": "~2.1.4",
       "_view_module_version": "~2.1.4"
      }
     },
     "709320e826654c03a3d478288aa9b5ad": {
      "model_module": "jupyter-js-widgets",
      "model_module_version": "~2.1.4",
      "model_name": "LayoutModel",
      "state": {
       "_model_module_version": "~2.1.4",
       "_view_module_version": "~2.1.4"
      }
     },
     "89d80e9a948a4ed485767e59fef08005": {
      "model_module": "jupyter-js-widgets",
      "model_module_version": "~2.1.4",
      "model_name": "LayoutModel",
      "state": {
       "_model_module_version": "~2.1.4",
       "_view_module_version": "~2.1.4"
      }
     },
     "b7bd4dc1f45447d7b9696102aaec4752": {
      "model_module": "jupyter-js-widgets",
      "model_module_version": "~2.1.4",
      "model_name": "HBoxModel",
      "state": {
       "_model_module_version": "~2.1.4",
       "_view_module_version": "~2.1.4",
       "children": [
        "IPY_MODEL_66481c25e80a4caf9a34e5480c1596f4",
        "IPY_MODEL_0657313987a047cf9a4b06a7f7562c37"
       ],
       "layout": "IPY_MODEL_709320e826654c03a3d478288aa9b5ad"
      }
     },
     "c3d4519474934655bb16d61d797a6ffb": {
      "model_module": "jupyter-js-widgets",
      "model_module_version": "~2.1.4",
      "model_name": "IntTextModel",
      "state": {
       "_model_module_version": "~2.1.4",
       "_view_module_version": "~2.1.4",
       "description": "Pick an Issue No.:",
       "layout": "IPY_MODEL_89d80e9a948a4ed485767e59fef08005",
       "max": 3437,
       "min": 0,
       "step": 1,
       "value": 3
      }
     },
     "c5428b7259c44b02853aa783c60a56ef": {
      "model_module": "jupyter-js-widgets",
      "model_module_version": "~2.1.4",
      "model_name": "LayoutModel",
      "state": {
       "_model_module_version": "~2.1.4",
       "_view_module_version": "~2.1.4"
      }
     },
     "c68dce6f590142598e9f936a22adc347": {
      "model_module": "jupyter-js-widgets",
      "model_module_version": "~2.1.4",
      "model_name": "ProgressStyleModel",
      "state": {
       "_model_module_version": "~2.1.4",
       "_view_module_version": "~2.1.4"
      }
     },
     "d8139d687d504e1098e373f239bdef87": {
      "model_module": "jupyter-js-widgets",
      "model_module_version": "~2.1.4",
      "model_name": "LayoutModel",
      "state": {
       "_model_module_version": "~2.1.4",
       "_view_module_version": "~2.1.4"
      }
     },
     "dcc6e706789f4e8a80e2390cec290c36": {
      "model_module": "jupyter-js-widgets",
      "model_module_version": "~2.1.4",
      "model_name": "LayoutModel",
      "state": {
       "_model_module_version": "~2.1.4",
       "_view_module_version": "~2.1.4"
      }
     }
    },
    "version_major": 1,
    "version_minor": 0
   }
  }
 },
 "nbformat": 4,
 "nbformat_minor": 2
}

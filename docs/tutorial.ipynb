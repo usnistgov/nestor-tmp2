{
 "cells": [
  {
   "cell_type": "code",
   "execution_count": 1,
   "metadata": {},
   "outputs": [],
   "source": [
    "## For debbugging\n",
    "%load_ext autoreload\n",
    "\n",
    "import os\n",
    "import sys\n",
    "module_path = os.path.abspath(os.path.join('..'))\n",
    "if module_path not in sys.path:\n",
    "    sys.path.append(module_path)"
   ]
  },
  {
   "cell_type": "code",
   "execution_count": 36,
   "metadata": {},
   "outputs": [],
   "source": [
    "## for debugging:\n",
    "%aimport mlp.keyword\n",
    "%aimport mlp.tools\n",
    "%aimport mlp.tree\n",
    "%autoreload 1\n",
    "from mlp.keyword import *"
   ]
  },
  {
   "cell_type": "code",
   "execution_count": 3,
   "metadata": {},
   "outputs": [
    {
     "name": "stdout",
     "output_type": "stream",
     "text": [
      "Textacy: \t0.4.1\n",
      "spaCy: \t        1.9.0\n",
      "Python: \t3.6.3\n"
     ]
    }
   ],
   "source": [
    "import numpy as np\n",
    "import pandas as pd\n",
    "import seaborn as sns\n",
    "import matplotlib.pyplot as plt\n",
    "from tqdm import tqdm_notebook\n",
    "%matplotlib inline\n",
    "\n",
    "import spacy, textacy, platform\n",
    "print(\n",
    "    f'Textacy: \\t{textacy.__version__:}'+\\\n",
    "    f'\\nspaCy: \\t{spacy.__version__:>13}'+\\\n",
    "    f'\\nPython: \\t{platform.python_version()}'\n",
    "    )"
   ]
  },
  {
   "cell_type": "code",
   "execution_count": 4,
   "metadata": {},
   "outputs": [
    {
     "name": "stderr",
     "output_type": "stream",
     "text": [
      "354it [00:00, 3534.80it/s]"
     ]
    },
    {
     "name": "stdout",
     "output_type": "stream",
     "text": [
      "making new file...\n"
     ]
    },
    {
     "name": "stderr",
     "output_type": "stream",
     "text": [
      "3435it [00:00, 5065.01it/s]\n"
     ]
    },
    {
     "name": "stdout",
     "output_type": "stream",
     "text": [
      "Replacing NaN\n",
      "Replacing NaN\n",
      "Replacing NaN\n",
      "Replacing NaN\n"
     ]
    }
   ],
   "source": [
    "data_directory = os.path.join(module_path,'./data', 'gs_data')\n",
    "nl_col = {\n",
    "    \"Description\": 5,\n",
    "    \"Resolution\": 6\n",
    "}\n",
    "\n",
    "#TODO\n",
    "# meta_col = {\n",
    "\n",
    "# }\n",
    "\n",
    "kex_gs = KeywordExtractor('Maintenance_All_Clean.xlsx',\n",
    "                       nlp_cols=nl_col,\n",
    "#                       meta_cols = meta_col,\n",
    "                       special_replace={' -': '; '},\n",
    "                       wdir=data_directory,\n",
    "                       keep_temp_files=False\n",
    "                      )"
   ]
  },
  {
   "cell_type": "code",
   "execution_count": 5,
   "metadata": {},
   "outputs": [
    {
     "data": {
      "text/html": [
       "<div>\n",
       "<style scoped>\n",
       "    .dataframe tbody tr th:only-of-type {\n",
       "        vertical-align: middle;\n",
       "    }\n",
       "\n",
       "    .dataframe tbody tr th {\n",
       "        vertical-align: top;\n",
       "    }\n",
       "\n",
       "    .dataframe thead th {\n",
       "        text-align: right;\n",
       "    }\n",
       "</style>\n",
       "<table border=\"1\" class=\"dataframe\">\n",
       "  <thead>\n",
       "    <tr style=\"text-align: right;\">\n",
       "      <th></th>\n",
       "      <th>Description</th>\n",
       "      <th>Resolution</th>\n",
       "      <th>RawText</th>\n",
       "    </tr>\n",
       "  </thead>\n",
       "  <tbody>\n",
       "    <tr>\n",
       "      <th>0</th>\n",
       "      <td>Broken bar feeder chain</td>\n",
       "      <td>Repaired</td>\n",
       "      <td>break bar feeder chain repair</td>\n",
       "    </tr>\n",
       "    <tr>\n",
       "      <th>1</th>\n",
       "      <td>No power</td>\n",
       "      <td>Replaced pin in pendant and powered machine; P...</td>\n",
       "      <td>no power replace pin in pendant and power mach...</td>\n",
       "    </tr>\n",
       "    <tr>\n",
       "      <th>2</th>\n",
       "      <td>Smartscope harness broken</td>\n",
       "      <td>Parts ordered / Tech repaired</td>\n",
       "      <td>smartscope harness break part order tech repair</td>\n",
       "    </tr>\n",
       "    <tr>\n",
       "      <th>3</th>\n",
       "      <td>Check / Charge Accumulators</td>\n",
       "      <td>Where OK</td>\n",
       "      <td>check charge accumulator where ok</td>\n",
       "    </tr>\n",
       "    <tr>\n",
       "      <th>4</th>\n",
       "      <td>Hyd leak at saw atachment</td>\n",
       "      <td>Replaced seal in saw attachment but still leak...</td>\n",
       "      <td>hyd leak at saw atachment replace seal in saw ...</td>\n",
       "    </tr>\n",
       "  </tbody>\n",
       "</table>\n",
       "</div>"
      ],
      "text/plain": [
       "                   Description  \\\n",
       "0      Broken bar feeder chain   \n",
       "1                     No power   \n",
       "2    Smartscope harness broken   \n",
       "3  Check / Charge Accumulators   \n",
       "4    Hyd leak at saw atachment   \n",
       "\n",
       "                                          Resolution  \\\n",
       "0                                           Repaired   \n",
       "1  Replaced pin in pendant and powered machine; P...   \n",
       "2                      Parts ordered / Tech repaired   \n",
       "3                                           Where OK   \n",
       "4  Replaced seal in saw attachment but still leak...   \n",
       "\n",
       "                                             RawText  \n",
       "0                      break bar feeder chain repair  \n",
       "1  no power replace pin in pendant and power mach...  \n",
       "2    smartscope harness break part order tech repair  \n",
       "3                  check charge accumulator where ok  \n",
       "4  hyd leak at saw atachment replace seal in saw ...  "
      ]
     },
     "execution_count": 5,
     "metadata": {},
     "output_type": "execute_result"
    }
   ],
   "source": [
    "# what we extracted...we'll be using 'RawText'\n",
    "kex_gs.df.head()"
   ]
  },
  {
   "cell_type": "code",
   "execution_count": 6,
   "metadata": {},
   "outputs": [],
   "source": [
    "# use this to make a properly formatted thesaurus file for human-annotation\n",
    "# kex_gs.gen_vocab('new_tag_vocab.csv', notes=True)  # rename to match e.g. hvac_vocab.csv\n"
   ]
  },
  {
   "cell_type": "code",
   "execution_count": 7,
   "metadata": {},
   "outputs": [
    {
     "data": {
      "text/html": [
       "<div>\n",
       "<style scoped>\n",
       "    .dataframe tbody tr th:only-of-type {\n",
       "        vertical-align: middle;\n",
       "    }\n",
       "\n",
       "    .dataframe tbody tr th {\n",
       "        vertical-align: top;\n",
       "    }\n",
       "\n",
       "    .dataframe thead th {\n",
       "        text-align: right;\n",
       "    }\n",
       "</style>\n",
       "<table border=\"1\" class=\"dataframe\">\n",
       "  <thead>\n",
       "    <tr style=\"text-align: right;\">\n",
       "      <th></th>\n",
       "      <th>NE</th>\n",
       "      <th>alias</th>\n",
       "      <th>note</th>\n",
       "    </tr>\n",
       "    <tr>\n",
       "      <th>token</th>\n",
       "      <th></th>\n",
       "      <th></th>\n",
       "      <th></th>\n",
       "    </tr>\n",
       "  </thead>\n",
       "  <tbody>\n",
       "    <tr>\n",
       "      <th>replace</th>\n",
       "      <td>S</td>\n",
       "      <td>replace</td>\n",
       "      <td>NaN</td>\n",
       "    </tr>\n",
       "    <tr>\n",
       "      <th>unit</th>\n",
       "      <td>I</td>\n",
       "      <td>unit</td>\n",
       "      <td>NaN</td>\n",
       "    </tr>\n",
       "    <tr>\n",
       "      <th>motor</th>\n",
       "      <td>I</td>\n",
       "      <td>motor</td>\n",
       "      <td>NaN</td>\n",
       "    </tr>\n",
       "    <tr>\n",
       "      <th>spindle</th>\n",
       "      <td>I</td>\n",
       "      <td>spindle</td>\n",
       "      <td>NaN</td>\n",
       "    </tr>\n",
       "    <tr>\n",
       "      <th>leak</th>\n",
       "      <td>P</td>\n",
       "      <td>leak</td>\n",
       "      <td>NaN</td>\n",
       "    </tr>\n",
       "    <tr>\n",
       "      <th>valve</th>\n",
       "      <td>I</td>\n",
       "      <td>valve</td>\n",
       "      <td>NaN</td>\n",
       "    </tr>\n",
       "    <tr>\n",
       "      <th>replaced</th>\n",
       "      <td>S</td>\n",
       "      <td>replace</td>\n",
       "      <td>NaN</td>\n",
       "    </tr>\n",
       "  </tbody>\n",
       "</table>\n",
       "</div>"
      ],
      "text/plain": [
       "         NE    alias note\n",
       "token                    \n",
       "replace   S  replace  NaN\n",
       "unit      I     unit  NaN\n",
       "motor     I    motor  NaN\n",
       "spindle   I  spindle  NaN\n",
       "leak      P     leak  NaN\n",
       "valve     I    valve  NaN\n",
       "replaced  S  replace  NaN"
      ]
     },
     "execution_count": 7,
     "metadata": {},
     "output_type": "execute_result"
    }
   ],
   "source": [
    "# \"fit\" a thesaurus to the data\n",
    "kex_gs.fit(vocab='tag_vocab.csv')\n",
    "kex_gs.vocab.head(n=7)"
   ]
  },
  {
   "cell_type": "code",
   "execution_count": 8,
   "metadata": {
    "scrolled": false
   },
   "outputs": [
    {
     "name": "stderr",
     "output_type": "stream",
     "text": [
      "100%|██████████| 3431/3431 [00:14<00:00, 241.77it/s]\n"
     ]
    },
    {
     "data": {
      "text/html": [
       "<div>\n",
       "<style scoped>\n",
       "    .dataframe tbody tr th:only-of-type {\n",
       "        vertical-align: middle;\n",
       "    }\n",
       "\n",
       "    .dataframe tbody tr th {\n",
       "        vertical-align: top;\n",
       "    }\n",
       "\n",
       "    .dataframe thead th {\n",
       "        text-align: right;\n",
       "    }\n",
       "</style>\n",
       "<table border=\"1\" class=\"dataframe\">\n",
       "  <thead>\n",
       "    <tr style=\"text-align: right;\">\n",
       "      <th></th>\n",
       "      <th>RawText</th>\n",
       "      <th>Items</th>\n",
       "      <th>Problem</th>\n",
       "      <th>Solution</th>\n",
       "      <th>eXcess</th>\n",
       "      <th>Redundant</th>\n",
       "      <th>Unknown</th>\n",
       "    </tr>\n",
       "  </thead>\n",
       "  <tbody>\n",
       "    <tr>\n",
       "      <th>0</th>\n",
       "      <td>break bar feeder chain repair</td>\n",
       "      <td>feeder, bar_feeder, chain, bar_feeder_chain, b...</td>\n",
       "      <td>broken</td>\n",
       "      <td>repair</td>\n",
       "      <td></td>\n",
       "      <td></td>\n",
       "      <td></td>\n",
       "    </tr>\n",
       "    <tr>\n",
       "      <th>1</th>\n",
       "      <td>no power replace pin in pendant and power mach...</td>\n",
       "      <td>machine, pendant, pin, cable</td>\n",
       "      <td>short, power</td>\n",
       "      <td>replace</td>\n",
       "      <td>possible</td>\n",
       "      <td>replace pin</td>\n",
       "      <td></td>\n",
       "    </tr>\n",
       "    <tr>\n",
       "      <th>2</th>\n",
       "      <td>smartscope harness break part order tech repair</td>\n",
       "      <td>person</td>\n",
       "      <td>broken</td>\n",
       "      <td>repair, order</td>\n",
       "      <td></td>\n",
       "      <td></td>\n",
       "      <td>harness, smartscope</td>\n",
       "    </tr>\n",
       "    <tr>\n",
       "      <th>3</th>\n",
       "      <td>check charge accumulator where ok</td>\n",
       "      <td>accumulator</td>\n",
       "      <td></td>\n",
       "      <td>check, charge</td>\n",
       "      <td>ok</td>\n",
       "      <td></td>\n",
       "      <td></td>\n",
       "    </tr>\n",
       "    <tr>\n",
       "      <th>4</th>\n",
       "      <td>hyd leak at saw atachment replace seal in saw ...</td>\n",
       "      <td>saw_attachment, saw, hydraulic, attachment, seal</td>\n",
       "      <td>leak</td>\n",
       "      <td>replace</td>\n",
       "      <td>see</td>\n",
       "      <td></td>\n",
       "      <td>reapir, ml</td>\n",
       "    </tr>\n",
       "  </tbody>\n",
       "</table>\n",
       "</div>"
      ],
      "text/plain": [
       "                                             RawText  \\\n",
       "0                      break bar feeder chain repair   \n",
       "1  no power replace pin in pendant and power mach...   \n",
       "2    smartscope harness break part order tech repair   \n",
       "3                  check charge accumulator where ok   \n",
       "4  hyd leak at saw atachment replace seal in saw ...   \n",
       "\n",
       "                                               Items       Problem  \\\n",
       "0  feeder, bar_feeder, chain, bar_feeder_chain, b...        broken   \n",
       "1                       machine, pendant, pin, cable  short, power   \n",
       "2                                             person        broken   \n",
       "3                                        accumulator                 \n",
       "4   saw_attachment, saw, hydraulic, attachment, seal          leak   \n",
       "\n",
       "        Solution    eXcess    Redundant              Unknown  \n",
       "0         repair                                              \n",
       "1        replace  possible  replace pin                       \n",
       "2  repair, order                         harness, smartscope  \n",
       "3  check, charge        ok                                    \n",
       "4        replace       see                        reapir, ml  "
      ]
     },
     "execution_count": 8,
     "metadata": {},
     "output_type": "execute_result"
    }
   ],
   "source": [
    "# tag the data, saving to a new DF (instead of internally)\n",
    "\n",
    "df_pred = kex_gs.transform(save=False)\n",
    "df_pred.head()"
   ]
  },
  {
   "cell_type": "code",
   "execution_count": 9,
   "metadata": {
    "scrolled": true
   },
   "outputs": [
    {
     "name": "stdout",
     "output_type": "stream",
     "text": [
      "1134\n"
     ]
    },
    {
     "data": {
      "text/html": [
       "<div>\n",
       "<style scoped>\n",
       "    .dataframe tbody tr th:only-of-type {\n",
       "        vertical-align: middle;\n",
       "    }\n",
       "\n",
       "    .dataframe tbody tr th {\n",
       "        vertical-align: top;\n",
       "    }\n",
       "\n",
       "    .dataframe thead th {\n",
       "        text-align: right;\n",
       "    }\n",
       "</style>\n",
       "<table border=\"1\" class=\"dataframe\">\n",
       "  <thead>\n",
       "    <tr style=\"text-align: right;\">\n",
       "      <th></th>\n",
       "      <th>RawText</th>\n",
       "      <th>Items</th>\n",
       "      <th>Problem</th>\n",
       "      <th>Solution</th>\n",
       "      <th>eXcess</th>\n",
       "      <th>Redundant</th>\n",
       "      <th>Unknown</th>\n",
       "    </tr>\n",
       "  </thead>\n",
       "  <tbody>\n",
       "    <tr>\n",
       "      <th>0</th>\n",
       "      <td>break bar feeder chain repair</td>\n",
       "      <td>feeder, bar_feeder, chain, bar_feeder_chain, b...</td>\n",
       "      <td>broken</td>\n",
       "      <td>repair</td>\n",
       "      <td></td>\n",
       "      <td></td>\n",
       "      <td></td>\n",
       "    </tr>\n",
       "    <tr>\n",
       "      <th>1</th>\n",
       "      <td>no power replace pin in pendant and power mach...</td>\n",
       "      <td>machine, pendant, pin, cable</td>\n",
       "      <td>short, power</td>\n",
       "      <td>replace</td>\n",
       "      <td>possible</td>\n",
       "      <td>replace pin</td>\n",
       "      <td></td>\n",
       "    </tr>\n",
       "    <tr>\n",
       "      <th>3</th>\n",
       "      <td>check charge accumulator where ok</td>\n",
       "      <td>accumulator</td>\n",
       "      <td></td>\n",
       "      <td>check, charge</td>\n",
       "      <td>ok</td>\n",
       "      <td></td>\n",
       "      <td></td>\n",
       "    </tr>\n",
       "    <tr>\n",
       "      <th>5</th>\n",
       "      <td>cs1008 setup change over from arc1004 complete...</td>\n",
       "      <td>unit, thread_unit, thread</td>\n",
       "      <td></td>\n",
       "      <td>setup, wire, change, complete</td>\n",
       "      <td></td>\n",
       "      <td></td>\n",
       "      <td></td>\n",
       "    </tr>\n",
       "    <tr>\n",
       "      <th>7</th>\n",
       "      <td>check and charge accumulator check and charge</td>\n",
       "      <td>accumulator</td>\n",
       "      <td></td>\n",
       "      <td>check, charge</td>\n",
       "      <td></td>\n",
       "      <td>check and charge</td>\n",
       "      <td></td>\n",
       "    </tr>\n",
       "  </tbody>\n",
       "</table>\n",
       "</div>"
      ],
      "text/plain": [
       "                                             RawText  \\\n",
       "0                      break bar feeder chain repair   \n",
       "1  no power replace pin in pendant and power mach...   \n",
       "3                  check charge accumulator where ok   \n",
       "5  cs1008 setup change over from arc1004 complete...   \n",
       "7      check and charge accumulator check and charge   \n",
       "\n",
       "                                               Items       Problem  \\\n",
       "0  feeder, bar_feeder, chain, bar_feeder_chain, b...        broken   \n",
       "1                       machine, pendant, pin, cable  short, power   \n",
       "3                                        accumulator                 \n",
       "5                          unit, thread_unit, thread                 \n",
       "7                                        accumulator                 \n",
       "\n",
       "                        Solution    eXcess         Redundant Unknown  \n",
       "0                         repair                                      \n",
       "1                        replace  possible       replace pin          \n",
       "3                  check, charge        ok                            \n",
       "5  setup, wire, change, complete                                      \n",
       "7                  check, charge            check and charge          "
      ]
     },
     "execution_count": 9,
     "metadata": {},
     "output_type": "execute_result"
    }
   ],
   "source": [
    "# tag-complete work-orders?\n",
    "print(df_pred[df_pred.Unknown ==''].shape[0])\n",
    "df_pred[df_pred.Unknown ==''].head()"
   ]
  },
  {
   "cell_type": "code",
   "execution_count": 10,
   "metadata": {},
   "outputs": [
    {
     "name": "stdout",
     "output_type": "stream",
     "text": [
      "3\n"
     ]
    },
    {
     "data": {
      "text/html": [
       "<div>\n",
       "<style scoped>\n",
       "    .dataframe tbody tr th:only-of-type {\n",
       "        vertical-align: middle;\n",
       "    }\n",
       "\n",
       "    .dataframe tbody tr th {\n",
       "        vertical-align: top;\n",
       "    }\n",
       "\n",
       "    .dataframe thead th {\n",
       "        text-align: right;\n",
       "    }\n",
       "</style>\n",
       "<table border=\"1\" class=\"dataframe\">\n",
       "  <thead>\n",
       "    <tr style=\"text-align: right;\">\n",
       "      <th></th>\n",
       "      <th>RawText</th>\n",
       "      <th>Items</th>\n",
       "      <th>Problem</th>\n",
       "      <th>Solution</th>\n",
       "      <th>eXcess</th>\n",
       "      <th>Redundant</th>\n",
       "      <th>Unknown</th>\n",
       "    </tr>\n",
       "  </thead>\n",
       "  <tbody>\n",
       "    <tr>\n",
       "      <th>631</th>\n",
       "      <td>unload automation not return</td>\n",
       "      <td></td>\n",
       "      <td></td>\n",
       "      <td></td>\n",
       "      <td></td>\n",
       "      <td></td>\n",
       "      <td>unload, automation, return</td>\n",
       "    </tr>\n",
       "    <tr>\n",
       "      <th>2562</th>\n",
       "      <td>camshaft standstill gary</td>\n",
       "      <td></td>\n",
       "      <td></td>\n",
       "      <td></td>\n",
       "      <td></td>\n",
       "      <td></td>\n",
       "      <td>camshaft</td>\n",
       "    </tr>\n",
       "    <tr>\n",
       "      <th>3185</th>\n",
       "      <td>disti water empty water fill</td>\n",
       "      <td></td>\n",
       "      <td></td>\n",
       "      <td></td>\n",
       "      <td></td>\n",
       "      <td></td>\n",
       "      <td>disti, fill, water</td>\n",
       "    </tr>\n",
       "  </tbody>\n",
       "</table>\n",
       "</div>"
      ],
      "text/plain": [
       "                           RawText Items Problem Solution eXcess Redundant  \\\n",
       "631   unload automation not return                                           \n",
       "2562      camshaft standstill gary                                           \n",
       "3185  disti water empty water fill                                           \n",
       "\n",
       "                         Unknown  \n",
       "631   unload, automation, return  \n",
       "2562                    camshaft  \n",
       "3185          disti, fill, water  "
      ]
     },
     "execution_count": 10,
     "metadata": {},
     "output_type": "execute_result"
    }
   ],
   "source": [
    "# tag-empty? \n",
    "print(df_pred[(df_pred[['Items','Problem','Solution']]=='').all(axis=1)].shape[0])\n",
    "df_pred[(df_pred[['Items','Problem','Solution']]=='').all(axis=1)].head()"
   ]
  },
  {
   "cell_type": "code",
   "execution_count": 24,
   "metadata": {},
   "outputs": [
    {
     "data": {
      "text/plain": [
       "<matplotlib.axes._subplots.AxesSubplot at 0x7f76ffc86198>"
      ]
     },
     "execution_count": 24,
     "metadata": {},
     "output_type": "execute_result"
    },
    {
     "data": {
      "image/png": "[encoded data removed]",
      "text/plain": [
       "<matplotlib.figure.Figure at 0x7f76b8051eb8>"
      ]
     },
     "metadata": {},
     "output_type": "display_data"
    }
   ],
   "source": [
    "from mlp import tree\n",
    "\n",
    "tag_events = tree.get_onehot(df_pred, 'Items', topn=500)\n",
    "tag_similarity = tree.node_dist_mat(tag_events)\n",
    "\n",
    "sns.heatmap(tag_similarity.iloc[:20,:20])\n"
   ]
  },
  {
   "cell_type": "code",
   "execution_count": 19,
   "metadata": {},
   "outputs": [
    {
     "name": "stderr",
     "output_type": "stream",
     "text": [
      "100%|██████████| 492/492 [00:01<00:00, 301.15it/s] \n"
     ]
    }
   ],
   "source": [
    "D = tree.heymann_taxonomy(tag_similarity)"
   ]
  },
  {
   "cell_type": "code",
   "execution_count": 20,
   "metadata": {
    "hide_input": true,
    "slideshow": {
     "slide_type": "skip"
    }
   },
   "outputs": [],
   "source": [
    "from networkx.readwrite import json_graph\n",
    "from networkx.algorithms.traversal.depth_first_search import dfs_tree\n",
    "import json\n",
    "\n",
    "subD = dfs_tree(D, 'unit')\n",
    "\n",
    "with open('d3tree.json', 'w') as outfile:\n",
    "    s=json.dump(json_graph.tree.tree_data(subD, 'unit'), outfile)"
   ]
  },
  {
   "cell_type": "code",
   "execution_count": 21,
   "metadata": {
    "code_folding": [],
    "hide_input": true,
    "slideshow": {
     "slide_type": "skip"
    }
   },
   "outputs": [
    {
     "name": "stdout",
     "output_type": "stream",
     "text": [
      "Writing f2.template\n"
     ]
    }
   ],
   "source": [
    "%%writefile f2.template\n",
    "<!DOCTYPE html>\n",
    "<meta charset=\"utf-8\">\n",
    "<style>\n",
    "\n",
    ".node {\n",
    "  cursor: pointer;\n",
    "}\n",
    "\n",
    ".node circle {\n",
    "  fill: #fff;\n",
    "  stroke: steelblue;\n",
    "  stroke-width: 1.5px;\n",
    "}\n",
    "\n",
    ".node text {\n",
    "  font: 10px sans-serif;\n",
    "}\n",
    "\n",
    ".link {\n",
    "  fill: none;\n",
    "  stroke: #ccc;\n",
    "  stroke-width: 1.5px;\n",
    "}\n",
    "\n",
    "</style>\n",
    "<body>\n",
    "<script src=\"//d3js.org/d3.v3.min.js\"></script>\n",
    "<script>\n",
    "\n",
    "var margin = {top: 20, right: 120, bottom: 20, left: 120},\n",
    "    width = 1500 - margin.right - margin.left,\n",
    "    height = 1200 - margin.top - margin.bottom;\n",
    "\n",
    "var i = 0,\n",
    "    duration = 750,\n",
    "    root;\n",
    "\n",
    "var tree = d3.layout.tree()\n",
    "    .size([height, width]);\n",
    "\n",
    "var diagonal = d3.svg.diagonal()\n",
    "    .projection(function(d) { return [d.y, d.x]; });\n",
    "\n",
    "var svg = d3.select(\"body\").append(\"svg\")\n",
    "    .attr(\"width\", width + margin.right + margin.left)\n",
    "    .attr(\"height\", height + margin.top + margin.bottom)\n",
    "  .append(\"g\")\n",
    "    .attr(\"transform\", \"translate(\" + margin.left + \",\" + margin.top + \")\");\n",
    "\n",
    "d3.json(\"d3tree.json\", function(error, flare) {\n",
    "  if (error) throw error;\n",
    "\n",
    "  root = flare;\n",
    "  root.x0 = height / 2;\n",
    "  root.y0 = 0;\n",
    "\n",
    "  function collapse(d) {\n",
    "    if (d.children) {\n",
    "      d._children = d.children;\n",
    "      d._children.forEach(collapse);\n",
    "      d.children = null;\n",
    "    }\n",
    "  }\n",
    "\n",
    "  root.children.forEach(collapse);\n",
    "  update(root);\n",
    "});\n",
    "\n",
    "d3.select(self.frameElement).style(\"height\", \"1200px\");\n",
    "\n",
    "function update(source) {\n",
    "\n",
    "  // Compute the new tree layout.\n",
    "  var nodes = tree.nodes(root).reverse(),\n",
    "      links = tree.links(nodes);\n",
    "\n",
    "  // Normalize for fixed-depth.\n",
    "  nodes.forEach(function(d) { d.y = d.depth * 180; });\n",
    "\n",
    "  // Update the nodes…\n",
    "  var node = svg.selectAll(\"g.node\")\n",
    "      .data(nodes, function(d) { return d.id || (d.id = ++i); });\n",
    "\n",
    "  // Enter any new nodes at the parent's previous position.\n",
    "  var nodeEnter = node.enter().append(\"g\")\n",
    "      .attr(\"class\", \"node\")\n",
    "      .attr(\"transform\", function(d) { return \"translate(\" + source.y0 + \",\" + source.x0 + \")\"; })\n",
    "      .on(\"click\", click);\n",
    "\n",
    "  nodeEnter.append(\"circle\")\n",
    "      .attr(\"r\", 1e-6)\n",
    "      .style(\"fill\", function(d) { return d._children ? \"lightsteelblue\" : \"#fff\"; });\n",
    "\n",
    "  nodeEnter.append(\"text\")\n",
    "      .attr(\"x\", function(d) { return d.children || d._children ? -10 : 10; })\n",
    "      .attr(\"dy\", \".35em\")\n",
    "      .attr(\"text-anchor\", function(d) { return d.children || d._children ? \"end\" : \"start\"; })\n",
    "      .text(function(d) { return d.id; })\n",
    "      .style(\"fill-opacity\", 1e-6);\n",
    "\n",
    "  // Transition nodes to their new position.\n",
    "  var nodeUpdate = node.transition()\n",
    "      .duration(duration)\n",
    "      .attr(\"transform\", function(d) { return \"translate(\" + d.y + \",\" + d.x + \")\"; });\n",
    "\n",
    "  nodeUpdate.select(\"circle\")\n",
    "      .attr(\"r\", 4.5)\n",
    "      .style(\"fill\", function(d) { return d._children ? \"lightsteelblue\" : \"#fff\"; });\n",
    "\n",
    "  nodeUpdate.select(\"text\")\n",
    "      .style(\"fill-opacity\", 1);\n",
    "\n",
    "  // Transition exiting nodes to the parent's new position.\n",
    "  var nodeExit = node.exit().transition()\n",
    "      .duration(duration)\n",
    "      .attr(\"transform\", function(d) { return \"translate(\" + source.y + \",\" + source.x + \")\"; })\n",
    "      .remove();\n",
    "\n",
    "  nodeExit.select(\"circle\")\n",
    "      .attr(\"r\", 1e-6);\n",
    "\n",
    "  nodeExit.select(\"text\")\n",
    "      .style(\"fill-opacity\", 1e-6);\n",
    "\n",
    "  // Update the links…\n",
    "  var link = svg.selectAll(\"path.link\")\n",
    "      .data(links, function(d) { return d.target.id; });\n",
    "\n",
    "  // Enter any new links at the parent's previous position.\n",
    "  link.enter().insert(\"path\", \"g\")\n",
    "      .attr(\"class\", \"link\")\n",
    "      .attr(\"d\", function(d) {\n",
    "        var o = {x: source.x0, y: source.y0};\n",
    "        return diagonal({source: o, target: o});\n",
    "      });\n",
    "\n",
    "  // Transition links to their new position.\n",
    "  link.transition()\n",
    "      .duration(duration)\n",
    "      .attr(\"d\", diagonal);\n",
    "\n",
    "  // Transition exiting nodes to the parent's new position.\n",
    "  link.exit().transition()\n",
    "      .duration(duration)\n",
    "      .attr(\"d\", function(d) {\n",
    "        var o = {x: source.x, y: source.y};\n",
    "        return diagonal({source: o, target: o});\n",
    "      })\n",
    "      .remove();\n",
    "\n",
    "  // Stash the old positions for transition.\n",
    "  nodes.forEach(function(d) {\n",
    "    d.x0 = d.x;\n",
    "    d.y0 = d.y;\n",
    "  });\n",
    "}\n",
    "\n",
    "// Toggle children on click.\n",
    "function click(d) {\n",
    "  if (d.children) {\n",
    "    d._children = d.children;\n",
    "    d.children = null;\n",
    "  } else {\n",
    "    d.children = d._children;\n",
    "    d._children = null;\n",
    "  }\n",
    "  update(d);\n",
    "}\n",
    "\n",
    "</script>"
   ]
  },
  {
   "cell_type": "code",
   "execution_count": 22,
   "metadata": {
    "hide_input": true,
    "slideshow": {
     "slide_type": "skip"
    }
   },
   "outputs": [],
   "source": [
    "from IPython.display import IFrame\n",
    "import re\n",
    "\n",
    "def replace_all(txt,d):\n",
    "    rep = dict((re.escape('{'+k+'}'), str(v)) for k, v in d.items())\n",
    "    pattern = re.compile(\"|\".join(rep.keys()))\n",
    "    return pattern.sub(lambda m: rep[re.escape(m.group(0))], txt)    \n",
    "\n",
    "count=0\n",
    "def serve_html(s,w,h):\n",
    "    import os\n",
    "    global count\n",
    "    count+=1\n",
    "    fn= '__tmp'+str(os.getpid())+'_'+str(count)+'.html'\n",
    "    with open(fn,'w') as f:\n",
    "        f.write(s)\n",
    "    return IFrame('files/'+fn,w,h)\n",
    "\n",
    "def f2(w=500,h=400):\n",
    "    d={\n",
    "       'width'      :w,\n",
    "       'height'     :h,\n",
    "       }\n",
    "    with open('f2.template','r') as f:\n",
    "        s=f.read()\n",
    "    s= replace_all(s,d)        \n",
    "    return serve_html(s,w+30,h+30)"
   ]
  },
  {
   "cell_type": "code",
   "execution_count": 23,
   "metadata": {
    "hide_input": false,
    "scrolled": false,
    "slideshow": {
     "slide_type": "subslide"
    }
   },
   "outputs": [
    {
     "data": {
      "text/html": [
       "\n",
       "        <iframe\n",
       "            width=\"1530\"\n",
       "            height=\"1230\"\n",
       "            src=\"files/__tmp11130_1.html\"\n",
       "            frameborder=\"0\"\n",
       "            allowfullscreen\n",
       "        ></iframe>\n",
       "        "
      ],
      "text/plain": [
       "<IPython.lib.display.IFrame at 0x7f7704202b38>"
      ]
     },
     "execution_count": 23,
     "metadata": {},
     "output_type": "execute_result"
    }
   ],
   "source": [
    "f2(w=1500,h=1200)"
   ]
  },
  {
   "cell_type": "markdown",
   "metadata": {},
   "source": [
    "## HVAC Data"
   ]
  },
  {
   "cell_type": "code",
   "execution_count": 11,
   "metadata": {},
   "outputs": [
    {
     "name": "stderr",
     "output_type": "stream",
     "text": [
      "305it [00:00, 3046.30it/s]"
     ]
    },
    {
     "name": "stdout",
     "output_type": "stream",
     "text": [
      "making new file...\n"
     ]
    },
    {
     "name": "stderr",
     "output_type": "stream",
     "text": [
      "16986it [00:08, 2002.50it/s]\n"
     ]
    }
   ],
   "source": [
    "data_directory = os.path.join(module_path,'./data', 'hvac_data')\n",
    "\n",
    "nl_col = {\n",
    "    \"Description\": 5,\n",
    "    \"Resolution\": 248\n",
    "}\n",
    "\n",
    "meta_col = {\n",
    "    \"AssetID\": 6,\n",
    "    \"Location\": 7,\n",
    "    \"Assigned\": 10,\n",
    "    \"Reported\": 43,\n",
    "    \"SolveDate\": 11,\n",
    "    \"ReportDate\": 44\n",
    "}\n",
    "\n",
    "kex_hvac = KeywordExtractor('hvac_raw.xlsx',\n",
    "                       nlp_cols=nl_col,\n",
    "                       meta_cols = meta_col,\n",
    "                       special_replace={'action taken:': '',\n",
    "                                        ' -': '; ',\n",
    "                                        '- ': '; ',\n",
    "                                        'too hot': 'too_hot',\n",
    "                                        'to hot': 'too_hot',\n",
    "                                        'too cold': 'too_cold',\n",
    "                                        'to cold': 'too_cold'},\n",
    "                       wdir=data_directory,\n",
    "                       keep_temp_files=False\n",
    "                      )"
   ]
  },
  {
   "cell_type": "code",
   "execution_count": 12,
   "metadata": {},
   "outputs": [
    {
     "data": {
      "text/html": [
       "<div>\n",
       "<style scoped>\n",
       "    .dataframe tbody tr th:only-of-type {\n",
       "        vertical-align: middle;\n",
       "    }\n",
       "\n",
       "    .dataframe tbody tr th {\n",
       "        vertical-align: top;\n",
       "    }\n",
       "\n",
       "    .dataframe thead th {\n",
       "        text-align: right;\n",
       "    }\n",
       "</style>\n",
       "<table border=\"1\" class=\"dataframe\">\n",
       "  <thead>\n",
       "    <tr style=\"text-align: right;\">\n",
       "      <th></th>\n",
       "      <th>Description</th>\n",
       "      <th>AssetID</th>\n",
       "      <th>Location</th>\n",
       "      <th>Assigned</th>\n",
       "      <th>SolveDate</th>\n",
       "      <th>Reported</th>\n",
       "      <th>ReportDate</th>\n",
       "      <th>Resolution</th>\n",
       "      <th>RawText</th>\n",
       "    </tr>\n",
       "  </thead>\n",
       "  <tbody>\n",
       "    <tr>\n",
       "      <th>0</th>\n",
       "      <td>CHARGE ALL M/S AND PM'S TO THIS ORDER</td>\n",
       "      <td>NaN</td>\n",
       "      <td>GAITHER</td>\n",
       "      <td>FEDERLIN</td>\n",
       "      <td>2009-04-02 14:15:38</td>\n",
       "      <td>LEM801</td>\n",
       "      <td>2009-02-12 14:27:33</td>\n",
       "      <td>for site , other that AML  Action Taken:Complete.</td>\n",
       "      <td>charge all m s and pm be to this order for sit...</td>\n",
       "    </tr>\n",
       "    <tr>\n",
       "      <th>1</th>\n",
       "      <td>CHARGE ALL M/S AND PM'S TO THIS ORDER FOR THE AML</td>\n",
       "      <td>NaN</td>\n",
       "      <td>215-1</td>\n",
       "      <td>FEDERLIN</td>\n",
       "      <td>2009-04-02 14:15:39</td>\n",
       "      <td>LEM801</td>\n",
       "      <td>2009-02-12 14:44:55</td>\n",
       "      <td>Action Taken: Time charged to cover PM's as ne...</td>\n",
       "      <td>charge all m s and pm be to this order for the...</td>\n",
       "    </tr>\n",
       "    <tr>\n",
       "      <th>2</th>\n",
       "      <td>ADJUST,REPAI OR REPLACE FREEZE STAT</td>\n",
       "      <td>301 HV-4</td>\n",
       "      <td>301-B184</td>\n",
       "      <td>FEDERLIN</td>\n",
       "      <td>2009-04-02 14:15:41</td>\n",
       "      <td>HWRJR</td>\n",
       "      <td>2009-02-15 23:25:01</td>\n",
       "      <td>Action Taken:Reset  POC Ed</td>\n",
       "      <td>adjust repai or replace freeze stat reset poc ed</td>\n",
       "    </tr>\n",
       "    <tr>\n",
       "      <th>3</th>\n",
       "      <td>RESET,ADJUST OR REPAIR FREEZE STAT</td>\n",
       "      <td>304 ACU-1</td>\n",
       "      <td>304-200</td>\n",
       "      <td>FEDERLIN</td>\n",
       "      <td>2009-04-02 14:15:42</td>\n",
       "      <td>HWRJR</td>\n",
       "      <td>2009-02-17 04:20:08</td>\n",
       "      <td>Action Taken: restart  POC Ed</td>\n",
       "      <td>reset adjust or repair freeze stat restart poc ed</td>\n",
       "    </tr>\n",
       "    <tr>\n",
       "      <th>4</th>\n",
       "      <td>RSET,ADJUST OR REPAIR FREEZE STAT</td>\n",
       "      <td>220 ACU-8</td>\n",
       "      <td>220-400</td>\n",
       "      <td>FEDERLIN</td>\n",
       "      <td>2009-06-25 08:17:33</td>\n",
       "      <td>HWRJR</td>\n",
       "      <td>2009-02-17 04:22:38</td>\n",
       "      <td>reset freezestat</td>\n",
       "      <td>rset adjust or repair freeze stat reset freeze...</td>\n",
       "    </tr>\n",
       "  </tbody>\n",
       "</table>\n",
       "</div>"
      ],
      "text/plain": [
       "                                         Description    AssetID  Location  \\\n",
       "0              CHARGE ALL M/S AND PM'S TO THIS ORDER        NaN   GAITHER   \n",
       "1  CHARGE ALL M/S AND PM'S TO THIS ORDER FOR THE AML        NaN     215-1   \n",
       "2                ADJUST,REPAI OR REPLACE FREEZE STAT   301 HV-4  301-B184   \n",
       "3                 RESET,ADJUST OR REPAIR FREEZE STAT  304 ACU-1   304-200   \n",
       "4                  RSET,ADJUST OR REPAIR FREEZE STAT  220 ACU-8   220-400   \n",
       "\n",
       "   Assigned           SolveDate Reported          ReportDate  \\\n",
       "0  FEDERLIN 2009-04-02 14:15:38   LEM801 2009-02-12 14:27:33   \n",
       "1  FEDERLIN 2009-04-02 14:15:39   LEM801 2009-02-12 14:44:55   \n",
       "2  FEDERLIN 2009-04-02 14:15:41    HWRJR 2009-02-15 23:25:01   \n",
       "3  FEDERLIN 2009-04-02 14:15:42    HWRJR 2009-02-17 04:20:08   \n",
       "4  FEDERLIN 2009-06-25 08:17:33    HWRJR 2009-02-17 04:22:38   \n",
       "\n",
       "                                          Resolution  \\\n",
       "0  for site , other that AML  Action Taken:Complete.   \n",
       "1  Action Taken: Time charged to cover PM's as ne...   \n",
       "2                         Action Taken:Reset  POC Ed   \n",
       "3                      Action Taken: restart  POC Ed   \n",
       "4                                   reset freezestat   \n",
       "\n",
       "                                             RawText  \n",
       "0  charge all m s and pm be to this order for sit...  \n",
       "1  charge all m s and pm be to this order for the...  \n",
       "2   adjust repai or replace freeze stat reset poc ed  \n",
       "3  reset adjust or repair freeze stat restart poc ed  \n",
       "4  rset adjust or repair freeze stat reset freeze...  "
      ]
     },
     "execution_count": 12,
     "metadata": {},
     "output_type": "execute_result"
    }
   ],
   "source": [
    "# what we extracted...we'll be using 'RawText'\n",
    "kex_hvac.df.head()"
   ]
  },
  {
   "cell_type": "code",
   "execution_count": 13,
   "metadata": {},
   "outputs": [],
   "source": [
    "# use this to make a properly formatted thesaurus file for human-annotation\n",
    "kex_hvac.gen_vocab('tag_vocab.csv', notes=True)  # rename to match e.g. hvac_vocab.csv\n"
   ]
  },
  {
   "cell_type": "code",
   "execution_count": 14,
   "metadata": {},
   "outputs": [
    {
     "data": {
      "text/html": [
       "<div>\n",
       "<style scoped>\n",
       "    .dataframe tbody tr th:only-of-type {\n",
       "        vertical-align: middle;\n",
       "    }\n",
       "\n",
       "    .dataframe tbody tr th {\n",
       "        vertical-align: top;\n",
       "    }\n",
       "\n",
       "    .dataframe thead th {\n",
       "        text-align: right;\n",
       "    }\n",
       "</style>\n",
       "<table border=\"1\" class=\"dataframe\">\n",
       "  <thead>\n",
       "    <tr style=\"text-align: right;\">\n",
       "      <th></th>\n",
       "      <th>NE</th>\n",
       "      <th>alias</th>\n",
       "      <th>note</th>\n",
       "    </tr>\n",
       "    <tr>\n",
       "      <th>token</th>\n",
       "      <th></th>\n",
       "      <th></th>\n",
       "      <th></th>\n",
       "    </tr>\n",
       "  </thead>\n",
       "  <tbody>\n",
       "    <tr>\n",
       "      <th>room</th>\n",
       "      <td>I</td>\n",
       "      <td>room</td>\n",
       "      <td>NaN</td>\n",
       "    </tr>\n",
       "    <tr>\n",
       "      <th>replace</th>\n",
       "      <td>S</td>\n",
       "      <td>replace</td>\n",
       "      <td>NaN</td>\n",
       "    </tr>\n",
       "    <tr>\n",
       "      <th>find</th>\n",
       "      <td>S</td>\n",
       "      <td>find</td>\n",
       "      <td>NaN</td>\n",
       "    </tr>\n",
       "    <tr>\n",
       "      <th>check</th>\n",
       "      <td>S</td>\n",
       "      <td>check</td>\n",
       "      <td>NaN</td>\n",
       "    </tr>\n",
       "    <tr>\n",
       "      <th>action_take</th>\n",
       "      <td>X</td>\n",
       "      <td>action_take</td>\n",
       "      <td>NaN</td>\n",
       "    </tr>\n",
       "  </tbody>\n",
       "</table>\n",
       "</div>"
      ],
      "text/plain": [
       "            NE        alias note\n",
       "token                           \n",
       "room         I         room  NaN\n",
       "replace      S      replace  NaN\n",
       "find         S         find  NaN\n",
       "check        S        check  NaN\n",
       "action_take  X  action_take  NaN"
      ]
     },
     "execution_count": 14,
     "metadata": {},
     "output_type": "execute_result"
    }
   ],
   "source": [
    "# \"fit\" a thesaurus to the data\n",
    "kex_hvac.fit(vocab='hvac_vocab.csv')\n",
    "kex_hvac.vocab.head()"
   ]
  },
  {
   "cell_type": "code",
   "execution_count": 15,
   "metadata": {
    "scrolled": true
   },
   "outputs": [
    {
     "name": "stderr",
     "output_type": "stream",
     "text": [
      "100%|██████████| 16986/16986 [01:22<00:00, 206.50it/s]\n"
     ]
    },
    {
     "data": {
      "text/html": [
       "<div>\n",
       "<style scoped>\n",
       "    .dataframe tbody tr th:only-of-type {\n",
       "        vertical-align: middle;\n",
       "    }\n",
       "\n",
       "    .dataframe tbody tr th {\n",
       "        vertical-align: top;\n",
       "    }\n",
       "\n",
       "    .dataframe thead th {\n",
       "        text-align: right;\n",
       "    }\n",
       "</style>\n",
       "<table border=\"1\" class=\"dataframe\">\n",
       "  <thead>\n",
       "    <tr style=\"text-align: right;\">\n",
       "      <th></th>\n",
       "      <th>RawText</th>\n",
       "      <th>Items</th>\n",
       "      <th>Problem</th>\n",
       "      <th>Solution</th>\n",
       "      <th>eXcess</th>\n",
       "      <th>Redundant</th>\n",
       "      <th>Unknown</th>\n",
       "    </tr>\n",
       "  </thead>\n",
       "  <tbody>\n",
       "    <tr>\n",
       "      <th>0</th>\n",
       "      <td>charge all m s and pm be to this order for sit...</td>\n",
       "      <td>site</td>\n",
       "      <td></td>\n",
       "      <td>preventative_maintenance, complete, order</td>\n",
       "      <td>s</td>\n",
       "      <td></td>\n",
       "      <td>m, charge, aml, charge all m</td>\n",
       "    </tr>\n",
       "    <tr>\n",
       "      <th>1</th>\n",
       "      <td>charge all m s and pm be to this order for the...</td>\n",
       "      <td></td>\n",
       "      <td>request</td>\n",
       "      <td>preventative_maintenance, order</td>\n",
       "      <td>s</td>\n",
       "      <td></td>\n",
       "      <td>m, 's, charge, time, aml, charge all m, cover</td>\n",
       "    </tr>\n",
       "    <tr>\n",
       "      <th>2</th>\n",
       "      <td>adjust repai or replace freeze stat reset poc ed</td>\n",
       "      <td>thermostat, freezestat, poc</td>\n",
       "      <td></td>\n",
       "      <td>reset, adjust, replace</td>\n",
       "      <td></td>\n",
       "      <td></td>\n",
       "      <td>ed, repai</td>\n",
       "    </tr>\n",
       "    <tr>\n",
       "      <th>3</th>\n",
       "      <td>reset adjust or repair freeze stat restart poc ed</td>\n",
       "      <td>thermostat, freezestat, poc</td>\n",
       "      <td></td>\n",
       "      <td>reset, adjust, restart, repair</td>\n",
       "      <td></td>\n",
       "      <td></td>\n",
       "      <td>ed</td>\n",
       "    </tr>\n",
       "    <tr>\n",
       "      <th>4</th>\n",
       "      <td>rset adjust or repair freeze stat reset freeze...</td>\n",
       "      <td>freezestat, thermostat</td>\n",
       "      <td></td>\n",
       "      <td>reset, adjust, repair</td>\n",
       "      <td></td>\n",
       "      <td></td>\n",
       "      <td></td>\n",
       "    </tr>\n",
       "  </tbody>\n",
       "</table>\n",
       "</div>"
      ],
      "text/plain": [
       "                                             RawText  \\\n",
       "0  charge all m s and pm be to this order for sit...   \n",
       "1  charge all m s and pm be to this order for the...   \n",
       "2   adjust repai or replace freeze stat reset poc ed   \n",
       "3  reset adjust or repair freeze stat restart poc ed   \n",
       "4  rset adjust or repair freeze stat reset freeze...   \n",
       "\n",
       "                         Items  Problem  \\\n",
       "0                         site            \n",
       "1                               request   \n",
       "2  thermostat, freezestat, poc            \n",
       "3  thermostat, freezestat, poc            \n",
       "4       freezestat, thermostat            \n",
       "\n",
       "                                    Solution eXcess Redundant  \\\n",
       "0  preventative_maintenance, complete, order      s             \n",
       "1            preventative_maintenance, order      s             \n",
       "2                     reset, adjust, replace                    \n",
       "3             reset, adjust, restart, repair                    \n",
       "4                      reset, adjust, repair                    \n",
       "\n",
       "                                         Unknown  \n",
       "0                   m, charge, aml, charge all m  \n",
       "1  m, 's, charge, time, aml, charge all m, cover  \n",
       "2                                      ed, repai  \n",
       "3                                             ed  \n",
       "4                                                 "
      ]
     },
     "execution_count": 15,
     "metadata": {},
     "output_type": "execute_result"
    }
   ],
   "source": [
    "# tag the data, saving to a new DF (instead of internally)\n",
    "df_pred = kex_hvac.transform(save=False)\n",
    "df_pred.head()"
   ]
  },
  {
   "cell_type": "code",
   "execution_count": 17,
   "metadata": {},
   "outputs": [
    {
     "name": "stdout",
     "output_type": "stream",
     "text": [
      "963\n"
     ]
    },
    {
     "data": {
      "text/html": [
       "<div>\n",
       "<style scoped>\n",
       "    .dataframe tbody tr th:only-of-type {\n",
       "        vertical-align: middle;\n",
       "    }\n",
       "\n",
       "    .dataframe tbody tr th {\n",
       "        vertical-align: top;\n",
       "    }\n",
       "\n",
       "    .dataframe thead th {\n",
       "        text-align: right;\n",
       "    }\n",
       "</style>\n",
       "<table border=\"1\" class=\"dataframe\">\n",
       "  <thead>\n",
       "    <tr style=\"text-align: right;\">\n",
       "      <th></th>\n",
       "      <th>RawText</th>\n",
       "      <th>Items</th>\n",
       "      <th>Problem</th>\n",
       "      <th>Solution</th>\n",
       "      <th>eXcess</th>\n",
       "      <th>Redundant</th>\n",
       "      <th>Unknown</th>\n",
       "    </tr>\n",
       "  </thead>\n",
       "  <tbody>\n",
       "    <tr>\n",
       "      <th>4</th>\n",
       "      <td>rset adjust or repair freeze stat reset freeze...</td>\n",
       "      <td>freezestat, thermostat</td>\n",
       "      <td></td>\n",
       "      <td>reset, adjust, repair</td>\n",
       "      <td></td>\n",
       "      <td></td>\n",
       "      <td></td>\n",
       "    </tr>\n",
       "    <tr>\n",
       "      <th>15</th>\n",
       "      <td>too_hot</td>\n",
       "      <td></td>\n",
       "      <td>too_hot</td>\n",
       "      <td></td>\n",
       "      <td></td>\n",
       "      <td></td>\n",
       "      <td></td>\n",
       "    </tr>\n",
       "    <tr>\n",
       "      <th>18</th>\n",
       "      <td>too_hot</td>\n",
       "      <td></td>\n",
       "      <td>too_hot</td>\n",
       "      <td></td>\n",
       "      <td></td>\n",
       "      <td></td>\n",
       "      <td></td>\n",
       "    </tr>\n",
       "    <tr>\n",
       "      <th>23</th>\n",
       "      <td>too_cold</td>\n",
       "      <td></td>\n",
       "      <td>too_cold</td>\n",
       "      <td></td>\n",
       "      <td></td>\n",
       "      <td></td>\n",
       "      <td></td>\n",
       "    </tr>\n",
       "    <tr>\n",
       "      <th>26</th>\n",
       "      <td>remove motor pulley and install on new motor s...</td>\n",
       "      <td>pulley, install, switch, belt, motor</td>\n",
       "      <td>old</td>\n",
       "      <td>remove</td>\n",
       "      <td>new</td>\n",
       "      <td></td>\n",
       "      <td></td>\n",
       "    </tr>\n",
       "  </tbody>\n",
       "</table>\n",
       "</div>"
      ],
      "text/plain": [
       "                                              RawText  \\\n",
       "4   rset adjust or repair freeze stat reset freeze...   \n",
       "15                                            too_hot   \n",
       "18                                            too_hot   \n",
       "23                                           too_cold   \n",
       "26  remove motor pulley and install on new motor s...   \n",
       "\n",
       "                                   Items   Problem               Solution  \\\n",
       "4                 freezestat, thermostat            reset, adjust, repair   \n",
       "15                                         too_hot                          \n",
       "18                                         too_hot                          \n",
       "23                                        too_cold                          \n",
       "26  pulley, install, switch, belt, motor       old                 remove   \n",
       "\n",
       "   eXcess Redundant Unknown  \n",
       "4                            \n",
       "15                           \n",
       "18                           \n",
       "23                           \n",
       "26    new                    "
      ]
     },
     "execution_count": 17,
     "metadata": {},
     "output_type": "execute_result"
    }
   ],
   "source": [
    "# tag-complete work-orders?\n",
    "print(df_pred[df_pred.Unknown ==''].shape[0])\n",
    "df_pred[df_pred.Unknown ==''].head()"
   ]
  },
  {
   "cell_type": "code",
   "execution_count": 18,
   "metadata": {},
   "outputs": [
    {
     "name": "stdout",
     "output_type": "stream",
     "text": [
      "21\n"
     ]
    },
    {
     "data": {
      "text/html": [
       "<div>\n",
       "<style scoped>\n",
       "    .dataframe tbody tr th:only-of-type {\n",
       "        vertical-align: middle;\n",
       "    }\n",
       "\n",
       "    .dataframe tbody tr th {\n",
       "        vertical-align: top;\n",
       "    }\n",
       "\n",
       "    .dataframe thead th {\n",
       "        text-align: right;\n",
       "    }\n",
       "</style>\n",
       "<table border=\"1\" class=\"dataframe\">\n",
       "  <thead>\n",
       "    <tr style=\"text-align: right;\">\n",
       "      <th></th>\n",
       "      <th>RawText</th>\n",
       "      <th>Items</th>\n",
       "      <th>Problem</th>\n",
       "      <th>Solution</th>\n",
       "      <th>eXcess</th>\n",
       "      <th>Redundant</th>\n",
       "      <th>Unknown</th>\n",
       "    </tr>\n",
       "  </thead>\n",
       "  <tbody>\n",
       "    <tr>\n",
       "      <th>618</th>\n",
       "      <td>b349-mod-345b b367-mod-363b a368-mod-362b</td>\n",
       "      <td></td>\n",
       "      <td></td>\n",
       "      <td></td>\n",
       "      <td></td>\n",
       "      <td></td>\n",
       "      <td></td>\n",
       "    </tr>\n",
       "    <tr>\n",
       "      <th>877</th>\n",
       "      <td>humidty too high b331</td>\n",
       "      <td></td>\n",
       "      <td></td>\n",
       "      <td></td>\n",
       "      <td></td>\n",
       "      <td></td>\n",
       "      <td>humidty too high, b331, high, humidty</td>\n",
       "    </tr>\n",
       "    <tr>\n",
       "      <th>1642</th>\n",
       "      <td>ice machine not work a-100</td>\n",
       "      <td></td>\n",
       "      <td></td>\n",
       "      <td></td>\n",
       "      <td></td>\n",
       "      <td></td>\n",
       "      <td>ice, machine, ice machine, a-100, work</td>\n",
       "    </tr>\n",
       "    <tr>\n",
       "      <th>1765</th>\n",
       "      <td>humidty real high b217</td>\n",
       "      <td></td>\n",
       "      <td></td>\n",
       "      <td></td>\n",
       "      <td></td>\n",
       "      <td></td>\n",
       "      <td>b217, high, real, humidty</td>\n",
       "    </tr>\n",
       "    <tr>\n",
       "      <th>1807</th>\n",
       "      <td>humidty too high rm f-013</td>\n",
       "      <td></td>\n",
       "      <td></td>\n",
       "      <td></td>\n",
       "      <td></td>\n",
       "      <td></td>\n",
       "      <td>humidty too high, high, humidty, rm</td>\n",
       "    </tr>\n",
       "  </tbody>\n",
       "</table>\n",
       "</div>"
      ],
      "text/plain": [
       "                                        RawText Items Problem Solution eXcess  \\\n",
       "618   b349-mod-345b b367-mod-363b a368-mod-362b                                 \n",
       "877                       humidty too high b331                                 \n",
       "1642                 ice machine not work a-100                                 \n",
       "1765                     humidty real high b217                                 \n",
       "1807                  humidty too high rm f-013                                 \n",
       "\n",
       "     Redundant                                 Unknown  \n",
       "618                                                     \n",
       "877              humidty too high, b331, high, humidty  \n",
       "1642            ice, machine, ice machine, a-100, work  \n",
       "1765                         b217, high, real, humidty  \n",
       "1807               humidty too high, high, humidty, rm  "
      ]
     },
     "execution_count": 18,
     "metadata": {},
     "output_type": "execute_result"
    }
   ],
   "source": [
    "# tag-empty? \n",
    "print(df_pred[(df_pred[['Items','Problem','Solution']]=='').all(axis=1)].shape[0])\n",
    "df_pred[(df_pred[['Items','Problem','Solution']]=='').all(axis=1)].head()"
   ]
  },
  {
   "cell_type": "markdown",
   "metadata": {},
   "source": [
    "## PSU Data, no tagged keywords (yet)"
   ]
  },
  {
   "cell_type": "code",
   "execution_count": 19,
   "metadata": {},
   "outputs": [
    {
     "name": "stderr",
     "output_type": "stream",
     "text": [
      "540it [00:00, 5396.90it/s]"
     ]
    },
    {
     "name": "stdout",
     "output_type": "stream",
     "text": [
      "making new file...\n"
     ]
    },
    {
     "name": "stderr",
     "output_type": "stream",
     "text": [
      "8887it [00:01, 6011.82it/s]\n"
     ]
    },
    {
     "name": "stdout",
     "output_type": "stream",
     "text": [
      "Replacing NaN\n",
      "Replacing NaN\n",
      "Replacing NaN\n"
     ]
    }
   ],
   "source": [
    "data_directory = os.path.join(module_path, './data', 'psu_data')\n",
    "nl_col = {\n",
    "    \"ProblemDesc\": 11,\n",
    "    \"Prob_cause\": 12,\n",
    "    \"RepRes\": 19\n",
    "}\n",
    "\n",
    "#TODO\n",
    "# meta_col = {\n",
    "\n",
    "# }\n",
    "\n",
    "kex_psu = KeywordExtractor('psu_data.xlsx',\n",
    "                       nlp_cols=nl_col,\n",
    "#                       meta_cols = meta_col,\n",
    "#                        special_replace={' -': '; '},\n",
    "                       wdir=data_directory,\n",
    "                       keep_temp_files=False\n",
    "                      )"
   ]
  },
  {
   "cell_type": "code",
   "execution_count": 21,
   "metadata": {},
   "outputs": [
    {
     "data": {
      "text/html": [
       "<div>\n",
       "<style scoped>\n",
       "    .dataframe tbody tr th:only-of-type {\n",
       "        vertical-align: middle;\n",
       "    }\n",
       "\n",
       "    .dataframe tbody tr th {\n",
       "        vertical-align: top;\n",
       "    }\n",
       "\n",
       "    .dataframe thead th {\n",
       "        text-align: right;\n",
       "    }\n",
       "</style>\n",
       "<table border=\"1\" class=\"dataframe\">\n",
       "  <thead>\n",
       "    <tr style=\"text-align: right;\">\n",
       "      <th></th>\n",
       "      <th>ProblemDesc</th>\n",
       "      <th>Prob_cause</th>\n",
       "      <th>RepRes</th>\n",
       "      <th>RawText</th>\n",
       "    </tr>\n",
       "  </thead>\n",
       "  <tbody>\n",
       "    <tr>\n",
       "      <th>0</th>\n",
       "      <td>Vacuum pump is leaking oil.</td>\n",
       "      <td>add 500 ml fomblin</td>\n",
       "      <td>Replaced Vacuum Pump</td>\n",
       "      <td>vacuum pump be leak oil add 500 ml fomblin rep...</td>\n",
       "    </tr>\n",
       "    <tr>\n",
       "      <th>1</th>\n",
       "      <td>Airflow readings range from 50 FPM to 85FPM.  ...</td>\n",
       "      <td>add 500 ml fomblin</td>\n",
       "      <td>Adjust Airspeed</td>\n",
       "      <td>airflow reading range from 50 fpm to 85fpm may...</td>\n",
       "    </tr>\n",
       "    <tr>\n",
       "      <th>2</th>\n",
       "      <td>Bottom shelf Connection #4 (marked) Wrap conne...</td>\n",
       "      <td>adjust printhead pressure screws</td>\n",
       "      <td></td>\n",
       "      <td>bottom shelf connection 4 mark wrap connection...</td>\n",
       "    </tr>\n",
       "    <tr>\n",
       "      <th>3</th>\n",
       "      <td>Camera on autosaw needs cleaned. Having proble...</td>\n",
       "      <td>verify machine operation and perform leak test</td>\n",
       "      <td></td>\n",
       "      <td>camera on autosaw need clean have problem pick...</td>\n",
       "    </tr>\n",
       "    <tr>\n",
       "      <th>4</th>\n",
       "      <td>pump at encapsulater is low on oil</td>\n",
       "      <td>Mims wasn't hooked up at time for calibration ...</td>\n",
       "      <td>Added Oil</td>\n",
       "      <td>pump at encapsulater be low on oil mim be not ...</td>\n",
       "    </tr>\n",
       "  </tbody>\n",
       "</table>\n",
       "</div>"
      ],
      "text/plain": [
       "                                         ProblemDesc  \\\n",
       "0                        Vacuum pump is leaking oil.   \n",
       "1  Airflow readings range from 50 FPM to 85FPM.  ...   \n",
       "2  Bottom shelf Connection #4 (marked) Wrap conne...   \n",
       "3  Camera on autosaw needs cleaned. Having proble...   \n",
       "4                 pump at encapsulater is low on oil   \n",
       "\n",
       "                                          Prob_cause                RepRes  \\\n",
       "0                                add 500 ml fomblin   Replaced Vacuum Pump   \n",
       "1                                add 500 ml fomblin        Adjust Airspeed   \n",
       "2                   adjust printhead pressure screws                         \n",
       "3     verify machine operation and perform leak test                         \n",
       "4  Mims wasn't hooked up at time for calibration ...             Added Oil   \n",
       "\n",
       "                                             RawText  \n",
       "0  vacuum pump be leak oil add 500 ml fomblin rep...  \n",
       "1  airflow reading range from 50 fpm to 85fpm may...  \n",
       "2  bottom shelf connection 4 mark wrap connection...  \n",
       "3  camera on autosaw need clean have problem pick...  \n",
       "4  pump at encapsulater be low on oil mim be not ...  "
      ]
     },
     "execution_count": 21,
     "metadata": {},
     "output_type": "execute_result"
    }
   ],
   "source": [
    "kex_psu.df.head()"
   ]
  },
  {
   "cell_type": "code",
   "execution_count": 22,
   "metadata": {
    "collapsed": true
   },
   "outputs": [],
   "source": [
    "kex_psu.gen_vocab('psu_vocab.csv', notes=True)"
   ]
  },
  {
   "cell_type": "markdown",
   "metadata": {},
   "source": [
    "## Automotive data, no tagged keywords (yet)"
   ]
  },
  {
   "cell_type": "code",
   "execution_count": 23,
   "metadata": {},
   "outputs": [
    {
     "name": "stderr",
     "output_type": "stream",
     "text": [
      "1103it [00:00, 11024.02it/s]"
     ]
    },
    {
     "name": "stdout",
     "output_type": "stream",
     "text": [
      "making new file...\n"
     ]
    },
    {
     "name": "stderr",
     "output_type": "stream",
     "text": [
      "12410it [00:01, 7947.09it/s]"
     ]
    },
    {
     "name": "stdout",
     "output_type": "stream",
     "text": [
      "Replacing NaN\n"
     ]
    },
    {
     "name": "stderr",
     "output_type": "stream",
     "text": [
      "21281it [00:02, 7890.76it/s]"
     ]
    },
    {
     "name": "stdout",
     "output_type": "stream",
     "text": [
      "Replacing NaN\n"
     ]
    },
    {
     "name": "stderr",
     "output_type": "stream",
     "text": [
      "31218it [00:04, 6366.12it/s]"
     ]
    },
    {
     "name": "stdout",
     "output_type": "stream",
     "text": [
      "Replacing NaN\n",
      "Replacing NaN\n",
      "Replacing NaN\n"
     ]
    },
    {
     "name": "stderr",
     "output_type": "stream",
     "text": [
      "38756it [00:05, 7307.12it/s]"
     ]
    },
    {
     "name": "stdout",
     "output_type": "stream",
     "text": [
      "Replacing NaN\n"
     ]
    },
    {
     "name": "stderr",
     "output_type": "stream",
     "text": [
      "67217it [00:08, 7614.86it/s]\n"
     ]
    }
   ],
   "source": [
    "data_directory = os.path.join(module_path, './data', 'auto_data')\n",
    "\n",
    "nl_col = {\n",
    "    \"DESCRIPTION\": 5\n",
    "}\n",
    "\n",
    "#TODO\n",
    "# meta_col = {\n",
    "\n",
    "# }\n",
    "\n",
    "kex_auto = KeywordExtractor('auto_raw.xlsx',\n",
    "                       nlp_cols=nl_col,\n",
    "#                       meta_cols = meta_col,\n",
    "#                       special_replace={'Action Taken:': ''},\n",
    "                       wdir=data_directory,\n",
    "                       keep_temp_files=False\n",
    "                      )"
   ]
  },
  {
   "cell_type": "code",
   "execution_count": 24,
   "metadata": {
    "collapsed": true
   },
   "outputs": [],
   "source": [
    "# use this to make a properly formatted thesaurus file for human-annotation\n",
    "kex_auto.gen_vocab('auto_vocab.csv', notes=True)  # rename to match e.g. hvac_vocab.csv\n"
   ]
  },
  {
   "cell_type": "markdown",
   "metadata": {},
   "source": [
    "## Mining Data, no vocab (yet)"
   ]
  },
  {
   "cell_type": "code",
   "execution_count": null,
   "metadata": {
    "scrolled": true
   },
   "outputs": [
    {
     "name": "stdout",
     "output_type": "stream",
     "text": [
      "Unsupported format, or corrupt file: Expected BOF record; found b'\"WOType\"' ... did not find .xlsx file, attempting .csv ...\n"
     ]
    },
    {
     "name": "stderr",
     "output_type": "stream",
     "text": [
      "1611it [00:00, 16106.94it/s]"
     ]
    },
    {
     "name": "stdout",
     "output_type": "stream",
     "text": [
      "making new file...\n"
     ]
    },
    {
     "name": "stderr",
     "output_type": "stream",
     "text": [
      "18280it [00:01, 10780.40it/s]"
     ]
    },
    {
     "name": "stdout",
     "output_type": "stream",
     "text": [
      "Replacing NaN\n"
     ]
    },
    {
     "name": "stderr",
     "output_type": "stream",
     "text": [
      "31627it [00:03, 8713.49it/s] "
     ]
    },
    {
     "name": "stdout",
     "output_type": "stream",
     "text": [
      "Replacing NaN\n",
      "Replacing NaN\n"
     ]
    },
    {
     "name": "stderr",
     "output_type": "stream",
     "text": [
      "41821it [00:05, 8291.53it/s]"
     ]
    },
    {
     "name": "stdout",
     "output_type": "stream",
     "text": [
      "Replacing NaN\n",
      "Replacing NaN\n"
     ]
    },
    {
     "name": "stderr",
     "output_type": "stream",
     "text": [
      "52457it [00:06, 8361.39it/s]"
     ]
    },
    {
     "name": "stdout",
     "output_type": "stream",
     "text": [
      "Replacing NaN\n"
     ]
    },
    {
     "name": "stderr",
     "output_type": "stream",
     "text": [
      "59096it [00:06, 8854.88it/s]"
     ]
    },
    {
     "name": "stdout",
     "output_type": "stream",
     "text": [
      "Replacing NaN\n"
     ]
    },
    {
     "name": "stderr",
     "output_type": "stream",
     "text": [
      "82519it [00:10, 8249.07it/s]"
     ]
    },
    {
     "name": "stdout",
     "output_type": "stream",
     "text": [
      "Replacing NaN\n"
     ]
    },
    {
     "name": "stderr",
     "output_type": "stream",
     "text": [
      "91976it [00:11, 8170.74it/s]"
     ]
    },
    {
     "name": "stdout",
     "output_type": "stream",
     "text": [
      "Replacing NaN\n"
     ]
    },
    {
     "name": "stderr",
     "output_type": "stream",
     "text": [
      "102021it [00:12, 8138.93it/s]"
     ]
    },
    {
     "name": "stdout",
     "output_type": "stream",
     "text": [
      "Replacing NaN\n",
      "Replacing NaN\n",
      "Replacing NaN\n"
     ]
    },
    {
     "name": "stderr",
     "output_type": "stream",
     "text": [
      "147999it [00:17, 8409.47it/s]"
     ]
    },
    {
     "name": "stdout",
     "output_type": "stream",
     "text": [
      "Replacing NaN\n"
     ]
    },
    {
     "name": "stderr",
     "output_type": "stream",
     "text": [
      "161716it [00:19, 8288.10it/s]"
     ]
    },
    {
     "name": "stdout",
     "output_type": "stream",
     "text": [
      "Replacing NaN\n",
      "Replacing NaN\n",
      "Replacing NaN\n",
      "Replacing NaN\n",
      "Replacing NaN\n",
      "Replacing NaN\n",
      "Replacing NaN\n"
     ]
    },
    {
     "name": "stderr",
     "output_type": "stream",
     "text": [
      "172196it [00:20, 8303.34it/s]"
     ]
    },
    {
     "name": "stdout",
     "output_type": "stream",
     "text": [
      "Replacing NaN\n",
      "Replacing NaN\n",
      "Replacing NaN\n",
      "Replacing NaN\n"
     ]
    },
    {
     "name": "stderr",
     "output_type": "stream",
     "text": [
      "181936it [00:21, 8270.25it/s]"
     ]
    },
    {
     "name": "stdout",
     "output_type": "stream",
     "text": [
      "Replacing NaN\n",
      "Replacing NaN\n",
      "Replacing NaN\n"
     ]
    },
    {
     "name": "stderr",
     "output_type": "stream",
     "text": [
      "192702it [00:23, 8273.06it/s]"
     ]
    },
    {
     "name": "stdout",
     "output_type": "stream",
     "text": [
      "Replacing NaN\n",
      "Replacing NaN\n"
     ]
    },
    {
     "name": "stderr",
     "output_type": "stream",
     "text": [
      "201555it [00:24, 8256.97it/s]"
     ]
    },
    {
     "name": "stdout",
     "output_type": "stream",
     "text": [
      "Replacing NaN\n"
     ]
    },
    {
     "name": "stderr",
     "output_type": "stream",
     "text": [
      "211713it [00:25, 8312.12it/s]"
     ]
    },
    {
     "name": "stdout",
     "output_type": "stream",
     "text": [
      "Replacing NaN\n",
      "Replacing NaN\n"
     ]
    },
    {
     "name": "stderr",
     "output_type": "stream",
     "text": [
      "242910it [00:29, 8234.09it/s]"
     ]
    },
    {
     "name": "stdout",
     "output_type": "stream",
     "text": [
      "Replacing NaN\n"
     ]
    },
    {
     "name": "stderr",
     "output_type": "stream",
     "text": [
      "251435it [00:30, 8138.03it/s]"
     ]
    },
    {
     "name": "stdout",
     "output_type": "stream",
     "text": [
      "Replacing NaN\n",
      "Replacing NaN\n"
     ]
    },
    {
     "name": "stderr",
     "output_type": "stream",
     "text": [
      "270983it [00:33, 8094.01it/s]"
     ]
    },
    {
     "name": "stdout",
     "output_type": "stream",
     "text": [
      "Replacing NaN\n",
      "Replacing NaN\n",
      "Replacing NaN\n",
      "Replacing NaN\n",
      "Replacing NaN\n"
     ]
    },
    {
     "name": "stderr",
     "output_type": "stream",
     "text": [
      "303041it [00:37, 8152.94it/s]"
     ]
    },
    {
     "name": "stdout",
     "output_type": "stream",
     "text": [
      "Replacing NaN\n"
     ]
    },
    {
     "name": "stderr",
     "output_type": "stream",
     "text": [
      "309456it [00:37, 8221.07it/s]"
     ]
    },
    {
     "name": "stdout",
     "output_type": "stream",
     "text": [
      "Replacing NaN\n"
     ]
    },
    {
     "name": "stderr",
     "output_type": "stream",
     "text": [
      "318214it [00:39, 8155.72it/s]"
     ]
    },
    {
     "name": "stdout",
     "output_type": "stream",
     "text": [
      "Replacing NaN\n",
      "Replacing NaN\n",
      "Replacing"
     ]
    },
    {
     "name": "stderr",
     "output_type": "stream",
     "text": [
      "330815it [00:40, 8091.43it/s]"
     ]
    },
    {
     "name": "stdout",
     "output_type": "stream",
     "text": [
      " NaN\n",
      "Replacing NaN\n"
     ]
    },
    {
     "name": "stderr",
     "output_type": "stream",
     "text": [
      "370177it [00:45, 8100.78it/s]"
     ]
    },
    {
     "name": "stdout",
     "output_type": "stream",
     "text": [
      "Replacing NaN\n"
     ]
    },
    {
     "name": "stderr",
     "output_type": "stream",
     "text": [
      "382638it [00:46, 8145.04it/s]"
     ]
    },
    {
     "name": "stdout",
     "output_type": "stream",
     "text": [
      "Replacing NaN\n",
      "Replacing NaN\n"
     ]
    },
    {
     "name": "stderr",
     "output_type": "stream",
     "text": [
      "393108it [00:48, 8187.83it/s]"
     ]
    },
    {
     "name": "stdout",
     "output_type": "stream",
     "text": [
      "Replacing NaN\n"
     ]
    },
    {
     "name": "stderr",
     "output_type": "stream",
     "text": [
      "409980it [00:49, 8264.51it/s]"
     ]
    },
    {
     "name": "stdout",
     "output_type": "stream",
     "text": [
      "Replacing NaN\n"
     ]
    },
    {
     "name": "stderr",
     "output_type": "stream",
     "text": [
      "420152it [00:51, 8218.01it/s]"
     ]
    },
    {
     "name": "stdout",
     "output_type": "stream",
     "text": [
      "Replacing NaN\n",
      "Replacing NaN\n"
     ]
    },
    {
     "name": "stderr",
     "output_type": "stream",
     "text": [
      "432776it [00:52, 8258.39it/s]"
     ]
    },
    {
     "name": "stdout",
     "output_type": "stream",
     "text": [
      "Replacing NaN\n",
      "Replacing NaN\n"
     ]
    },
    {
     "name": "stderr",
     "output_type": "stream",
     "text": [
      "462244it [00:55, 8267.61it/s]"
     ]
    },
    {
     "name": "stdout",
     "output_type": "stream",
     "text": [
      "Replacing NaN\n"
     ]
    },
    {
     "name": "stderr",
     "output_type": "stream",
     "text": [
      "472771it [00:57, 8268.86it/s]"
     ]
    },
    {
     "name": "stdout",
     "output_type": "stream",
     "text": [
      "Replacing NaN\n"
     ]
    },
    {
     "name": "stderr",
     "output_type": "stream",
     "text": [
      "481266it [00:58, 8274.59it/s]"
     ]
    },
    {
     "name": "stdout",
     "output_type": "stream",
     "text": [
      "Replacing NaN\n",
      "Replacing NaN\n"
     ]
    },
    {
     "name": "stderr",
     "output_type": "stream",
     "text": [
      "491963it [00:59, 8267.78it/s]"
     ]
    },
    {
     "name": "stdout",
     "output_type": "stream",
     "text": [
      "Replacing NaN\n"
     ]
    },
    {
     "name": "stderr",
     "output_type": "stream",
     "text": [
      "503202it [01:00, 8287.27it/s]"
     ]
    },
    {
     "name": "stdout",
     "output_type": "stream",
     "text": [
      "Replacing NaN\n",
      "Replacing NaN\n"
     ]
    },
    {
     "name": "stderr",
     "output_type": "stream",
     "text": [
      "512119it [01:02, 8256.37it/s]"
     ]
    },
    {
     "name": "stdout",
     "output_type": "stream",
     "text": [
      "Replacing NaN\n",
      "Replacing NaN\n"
     ]
    },
    {
     "name": "stderr",
     "output_type": "stream",
     "text": [
      "531923it [01:04, 8226.21it/s]"
     ]
    },
    {
     "name": "stdout",
     "output_type": "stream",
     "text": [
      "Replacing NaN\n"
     ]
    },
    {
     "name": "stderr",
     "output_type": "stream",
     "text": [
      "540861it [01:06, 8193.94it/s]"
     ]
    },
    {
     "name": "stdout",
     "output_type": "stream",
     "text": [
      "Replacing NaN\n",
      "Replacing NaN\n",
      "Replacing NaN\n",
      "Replacing NaN\n",
      "Replacing NaN\n",
      "Replacing NaN\n"
     ]
    },
    {
     "name": "stderr",
     "output_type": "stream",
     "text": [
      "551183it [01:07, 8163.56it/s]"
     ]
    },
    {
     "name": "stdout",
     "output_type": "stream",
     "text": [
      "Replacing NaN\n",
      "Replacing NaN\n",
      "Replacing NaN\n"
     ]
    },
    {
     "name": "stderr",
     "output_type": "stream",
     "text": [
      "561876it [01:09, 8113.45it/s]"
     ]
    },
    {
     "name": "stdout",
     "output_type": "stream",
     "text": [
      "Replacing NaN\n",
      "Replacing NaN\n"
     ]
    },
    {
     "name": "stderr",
     "output_type": "stream",
     "text": [
      "579971it [01:11, 8150.87it/s]"
     ]
    },
    {
     "name": "stdout",
     "output_type": "stream",
     "text": [
      "Replacing NaN\n",
      "Replacing NaN\n"
     ]
    },
    {
     "name": "stderr",
     "output_type": "stream",
     "text": [
      "591889it [01:13, 8058.62it/s]"
     ]
    },
    {
     "name": "stdout",
     "output_type": "stream",
     "text": [
      "Replacing NaN\n",
      "Replacing NaN\n",
      "Replacing NaN\n",
      "Replacing NaN\n",
      "Replacing NaN\n"
     ]
    },
    {
     "name": "stderr",
     "output_type": "stream",
     "text": [
      "602007it [01:14, 8044.75it/s]"
     ]
    },
    {
     "name": "stdout",
     "output_type": "stream",
     "text": [
      "Replacing NaN\n",
      "Replacing NaN\n",
      "Replacing NaN\n"
     ]
    },
    {
     "name": "stderr",
     "output_type": "stream",
     "text": [
      "610964it [01:16, 8022.89it/s]"
     ]
    },
    {
     "name": "stdout",
     "output_type": "stream",
     "text": [
      "Replacing NaN\n",
      "Replacing NaN\n",
      "Replacing NaN\n",
      "Replacing NaN\n"
     ]
    },
    {
     "name": "stderr",
     "output_type": "stream",
     "text": [
      "620388it [01:17, 7973.02it/s]"
     ]
    },
    {
     "name": "stdout",
     "output_type": "stream",
     "text": [
      "Replacing NaN\n",
      "Replacing NaN\n",
      "Replacing NaN\n",
      "Replacing NaN\n"
     ]
    },
    {
     "name": "stderr",
     "output_type": "stream",
     "text": [
      "629304it [01:18, 7984.65it/s]"
     ]
    },
    {
     "name": "stdout",
     "output_type": "stream",
     "text": [
      "Replacing NaN\n",
      "Replacing NaN\n"
     ]
    },
    {
     "name": "stderr",
     "output_type": "stream",
     "text": [
      "639773it [01:20, 7993.30it/s]"
     ]
    },
    {
     "name": "stdout",
     "output_type": "stream",
     "text": [
      "Replacing NaN\n"
     ]
    },
    {
     "name": "stderr",
     "output_type": "stream",
     "text": [
      "652475it [01:21, 7964.42it/s]"
     ]
    },
    {
     "name": "stdout",
     "output_type": "stream",
     "text": [
      "Replacing NaN\n"
     ]
    },
    {
     "name": "stderr",
     "output_type": "stream",
     "text": [
      "660962it [01:23, 7937.42it/s]"
     ]
    },
    {
     "name": "stdout",
     "output_type": "stream",
     "text": [
      "Replacing NaN\n"
     ]
    },
    {
     "name": "stderr",
     "output_type": "stream",
     "text": [
      "672204it [01:24, 7939.50it/s]"
     ]
    },
    {
     "name": "stdout",
     "output_type": "stream",
     "text": [
      "Replacing NaN\n"
     ]
    },
    {
     "name": "stderr",
     "output_type": "stream",
     "text": [
      "682039it [01:25, 7936.46it/s]"
     ]
    },
    {
     "name": "stdout",
     "output_type": "stream",
     "text": [
      "Replacing NaN\n"
     ]
    },
    {
     "name": "stderr",
     "output_type": "stream",
     "text": [
      "688533it [01:26, 7974.89it/s]"
     ]
    },
    {
     "name": "stdout",
     "output_type": "stream",
     "text": [
      "Replacing NaN\n"
     ]
    },
    {
     "name": "stderr",
     "output_type": "stream",
     "text": [
      "696211it [01:27, 7944.67it/s]\n"
     ]
    }
   ],
   "source": [
    "data_directory = os.path.join(module_path, './data', 'mine_data')\n",
    "\n",
    "# nl_col = {\n",
    "#     \"OriginalShorttext\": 2\n",
    "# }\n",
    "# meta_col = {\n",
    "#     \"BscStartDate\":0,\n",
    "#     \"Asset\":1,\n",
    "#     \"PMType\":3,\n",
    "#     \"Cost\":4\n",
    "# }\n",
    "\n",
    "nl_col = {\n",
    "    \"ShortText\": 4\n",
    "}\n",
    "meta_col = {\n",
    "    \"BscStartDate\":2,\n",
    "    \"AssetID\":13\n",
    "}\n",
    "\n",
    "# kex_mine = KeywordExtractor('mine_data.csv',\n",
    "kex_mine = KeywordExtractor('loader_work_orders_sanitised.csv',\n",
    "                       nlp_cols=nl_col,\n",
    "                      meta_cols = meta_col,\n",
    "#                       special_replace={'Action Taken:': ''},\n",
    "                       wdir=data_directory,\n",
    "                       keep_temp_files=False\n",
    "                      )"
   ]
  },
  {
   "cell_type": "code",
   "execution_count": 48,
   "metadata": {},
   "outputs": [],
   "source": [
    "# use this to make a properly formatted thesaurus file for human-annotation\n",
    "kex_mine.gen_vocab('mine_vocab_full.csv', notes=True)  # rename to match e.g. hvac_vocab.csv\n"
   ]
  },
  {
   "cell_type": "code",
   "execution_count": 44,
   "metadata": {},
   "outputs": [
    {
     "data": {
      "text/html": [
       "<div>\n",
       "<style scoped>\n",
       "    .dataframe tbody tr th:only-of-type {\n",
       "        vertical-align: middle;\n",
       "    }\n",
       "\n",
       "    .dataframe tbody tr th {\n",
       "        vertical-align: top;\n",
       "    }\n",
       "\n",
       "    .dataframe thead th {\n",
       "        text-align: right;\n",
       "    }\n",
       "</style>\n",
       "<table border=\"1\" class=\"dataframe\">\n",
       "  <thead>\n",
       "    <tr style=\"text-align: right;\">\n",
       "      <th></th>\n",
       "      <th>NE</th>\n",
       "      <th>alias</th>\n",
       "      <th>note</th>\n",
       "    </tr>\n",
       "    <tr>\n",
       "      <th>token</th>\n",
       "      <th></th>\n",
       "      <th></th>\n",
       "      <th></th>\n",
       "    </tr>\n",
       "  </thead>\n",
       "  <tbody>\n",
       "    <tr>\n",
       "      <th>replace</th>\n",
       "      <td>S</td>\n",
       "      <td>replace</td>\n",
       "      <td>NaN</td>\n",
       "    </tr>\n",
       "    <tr>\n",
       "      <th>leak</th>\n",
       "      <td>P</td>\n",
       "      <td>leak</td>\n",
       "      <td>NaN</td>\n",
       "    </tr>\n",
       "    <tr>\n",
       "      <th>repair</th>\n",
       "      <td>S</td>\n",
       "      <td>repair</td>\n",
       "      <td>NaN</td>\n",
       "    </tr>\n",
       "    <tr>\n",
       "      <th>bucket</th>\n",
       "      <td>I</td>\n",
       "      <td>bucket</td>\n",
       "      <td>NaN</td>\n",
       "    </tr>\n",
       "    <tr>\n",
       "      <th>engine</th>\n",
       "      <td>I</td>\n",
       "      <td>engine</td>\n",
       "      <td>NaN</td>\n",
       "    </tr>\n",
       "  </tbody>\n",
       "</table>\n",
       "</div>"
      ],
      "text/plain": [
       "        NE    alias note\n",
       "token                   \n",
       "replace  S  replace  NaN\n",
       "leak     P     leak  NaN\n",
       "repair   S   repair  NaN\n",
       "bucket   I   bucket  NaN\n",
       "engine   I   engine  NaN"
      ]
     },
     "execution_count": 44,
     "metadata": {},
     "output_type": "execute_result"
    }
   ],
   "source": [
    "# \"fit\" a thesaurus to the data\n",
    "kex_mine.fit(vocab='mine_vocab.csv')\n",
    "kex_mine.vocab.head()"
   ]
  },
  {
   "cell_type": "code",
   "execution_count": 45,
   "metadata": {},
   "outputs": [
    {
     "name": "stderr",
     "output_type": "stream",
     "text": [
      "100%|██████████| 696109/696109 [42:48<00:00, 271.05it/s]\n"
     ]
    },
    {
     "data": {
      "text/html": [
       "<div>\n",
       "<style scoped>\n",
       "    .dataframe tbody tr th:only-of-type {\n",
       "        vertical-align: middle;\n",
       "    }\n",
       "\n",
       "    .dataframe tbody tr th {\n",
       "        vertical-align: top;\n",
       "    }\n",
       "\n",
       "    .dataframe thead th {\n",
       "        text-align: right;\n",
       "    }\n",
       "</style>\n",
       "<table border=\"1\" class=\"dataframe\">\n",
       "  <thead>\n",
       "    <tr style=\"text-align: right;\">\n",
       "      <th></th>\n",
       "      <th>RawText</th>\n",
       "      <th>Items</th>\n",
       "      <th>Problem</th>\n",
       "      <th>Solution</th>\n",
       "      <th>eXcess</th>\n",
       "      <th>Redundant</th>\n",
       "      <th>Unknown</th>\n",
       "    </tr>\n",
       "  </thead>\n",
       "  <tbody>\n",
       "    <tr>\n",
       "      <th>0</th>\n",
       "      <td>replace lube tank fill hose</td>\n",
       "      <td>hose, lubrication, tank</td>\n",
       "      <td></td>\n",
       "      <td>replace, fill</td>\n",
       "      <td></td>\n",
       "      <td></td>\n",
       "      <td></td>\n",
       "    </tr>\n",
       "    <tr>\n",
       "      <th>1</th>\n",
       "      <td>check rotary head alignment</td>\n",
       "      <td></td>\n",
       "      <td></td>\n",
       "      <td>check</td>\n",
       "      <td></td>\n",
       "      <td></td>\n",
       "      <td>rotary head, rotary head alignment, rotary, al...</td>\n",
       "    </tr>\n",
       "    <tr>\n",
       "      <th>2</th>\n",
       "      <td>reweld shock sub to rotary head</td>\n",
       "      <td></td>\n",
       "      <td></td>\n",
       "      <td></td>\n",
       "      <td></td>\n",
       "      <td></td>\n",
       "      <td>rotary head, reweld, sub, sub to rotary, rewel...</td>\n",
       "    </tr>\n",
       "    <tr>\n",
       "      <th>3</th>\n",
       "      <td>centre tank not fill with water</td>\n",
       "      <td>tank, water</td>\n",
       "      <td></td>\n",
       "      <td>fill</td>\n",
       "      <td></td>\n",
       "      <td></td>\n",
       "      <td>centre</td>\n",
       "    </tr>\n",
       "    <tr>\n",
       "      <th>4</th>\n",
       "      <td>hydraulic pump failure</td>\n",
       "      <td>pump, hydraulic</td>\n",
       "      <td></td>\n",
       "      <td></td>\n",
       "      <td></td>\n",
       "      <td></td>\n",
       "      <td>failure</td>\n",
       "    </tr>\n",
       "  </tbody>\n",
       "</table>\n",
       "</div>"
      ],
      "text/plain": [
       "                           RawText                    Items Problem  \\\n",
       "0      replace lube tank fill hose  hose, lubrication, tank           \n",
       "1      check rotary head alignment                                    \n",
       "2  reweld shock sub to rotary head                                    \n",
       "3  centre tank not fill with water              tank, water           \n",
       "4           hydraulic pump failure          pump, hydraulic           \n",
       "\n",
       "        Solution eXcess Redundant  \\\n",
       "0  replace, fill                    \n",
       "1          check                    \n",
       "2                                   \n",
       "3           fill                    \n",
       "4                                   \n",
       "\n",
       "                                             Unknown  \n",
       "0                                                     \n",
       "1  rotary head, rotary head alignment, rotary, al...  \n",
       "2  rotary head, reweld, sub, sub to rotary, rewel...  \n",
       "3                                             centre  \n",
       "4                                            failure  "
      ]
     },
     "execution_count": 45,
     "metadata": {},
     "output_type": "execute_result"
    }
   ],
   "source": [
    "# tag the data, saving to a new DF (instead of internally)\n",
    "df_pred = kex_mine.transform(save=False)\n",
    "df_pred.head()"
   ]
  },
  {
   "cell_type": "code",
   "execution_count": 46,
   "metadata": {},
   "outputs": [
    {
     "name": "stdout",
     "output_type": "stream",
     "text": [
      "66203\n"
     ]
    },
    {
     "data": {
      "text/html": [
       "<div>\n",
       "<style scoped>\n",
       "    .dataframe tbody tr th:only-of-type {\n",
       "        vertical-align: middle;\n",
       "    }\n",
       "\n",
       "    .dataframe tbody tr th {\n",
       "        vertical-align: top;\n",
       "    }\n",
       "\n",
       "    .dataframe thead th {\n",
       "        text-align: right;\n",
       "    }\n",
       "</style>\n",
       "<table border=\"1\" class=\"dataframe\">\n",
       "  <thead>\n",
       "    <tr style=\"text-align: right;\">\n",
       "      <th></th>\n",
       "      <th>RawText</th>\n",
       "      <th>Items</th>\n",
       "      <th>Problem</th>\n",
       "      <th>Solution</th>\n",
       "      <th>eXcess</th>\n",
       "      <th>Redundant</th>\n",
       "      <th>Unknown</th>\n",
       "    </tr>\n",
       "  </thead>\n",
       "  <tbody>\n",
       "    <tr>\n",
       "      <th>0</th>\n",
       "      <td>replace lube tank fill hose</td>\n",
       "      <td>hose, lubrication, tank</td>\n",
       "      <td></td>\n",
       "      <td>replace, fill</td>\n",
       "      <td></td>\n",
       "      <td></td>\n",
       "      <td></td>\n",
       "    </tr>\n",
       "    <tr>\n",
       "      <th>14</th>\n",
       "      <td>refit rh bucket pin</td>\n",
       "      <td>bucket_pin, right_hand, bucket, pin</td>\n",
       "      <td></td>\n",
       "      <td>refit</td>\n",
       "      <td></td>\n",
       "      <td></td>\n",
       "      <td></td>\n",
       "    </tr>\n",
       "    <tr>\n",
       "      <th>15</th>\n",
       "      <td>replace filter</td>\n",
       "      <td>filter</td>\n",
       "      <td></td>\n",
       "      <td>replace</td>\n",
       "      <td></td>\n",
       "      <td></td>\n",
       "      <td></td>\n",
       "    </tr>\n",
       "    <tr>\n",
       "      <th>33</th>\n",
       "      <td>replace outer filter</td>\n",
       "      <td>outer, filter</td>\n",
       "      <td></td>\n",
       "      <td>replace</td>\n",
       "      <td></td>\n",
       "      <td></td>\n",
       "      <td></td>\n",
       "    </tr>\n",
       "    <tr>\n",
       "      <th>37</th>\n",
       "      <td>replace air cleaner</td>\n",
       "      <td>air</td>\n",
       "      <td></td>\n",
       "      <td>replace, clean</td>\n",
       "      <td></td>\n",
       "      <td></td>\n",
       "      <td></td>\n",
       "    </tr>\n",
       "  </tbody>\n",
       "</table>\n",
       "</div>"
      ],
      "text/plain": [
       "                        RawText                                Items Problem  \\\n",
       "0   replace lube tank fill hose              hose, lubrication, tank           \n",
       "14          refit rh bucket pin  bucket_pin, right_hand, bucket, pin           \n",
       "15               replace filter                               filter           \n",
       "33         replace outer filter                        outer, filter           \n",
       "37          replace air cleaner                                  air           \n",
       "\n",
       "          Solution eXcess Redundant Unknown  \n",
       "0    replace, fill                           \n",
       "14           refit                           \n",
       "15         replace                           \n",
       "33         replace                           \n",
       "37  replace, clean                           "
      ]
     },
     "execution_count": 46,
     "metadata": {},
     "output_type": "execute_result"
    }
   ],
   "source": [
    "# tag-complete work-orders?\n",
    "print(df_pred[df_pred.Unknown ==''].shape[0])\n",
    "df_pred[df_pred.Unknown ==''].head()"
   ]
  },
  {
   "cell_type": "code",
   "execution_count": 47,
   "metadata": {},
   "outputs": [
    {
     "name": "stdout",
     "output_type": "stream",
     "text": [
      "115782\n"
     ]
    },
    {
     "data": {
      "text/html": [
       "<div>\n",
       "<style scoped>\n",
       "    .dataframe tbody tr th:only-of-type {\n",
       "        vertical-align: middle;\n",
       "    }\n",
       "\n",
       "    .dataframe tbody tr th {\n",
       "        vertical-align: top;\n",
       "    }\n",
       "\n",
       "    .dataframe thead th {\n",
       "        text-align: right;\n",
       "    }\n",
       "</style>\n",
       "<table border=\"1\" class=\"dataframe\">\n",
       "  <thead>\n",
       "    <tr style=\"text-align: right;\">\n",
       "      <th></th>\n",
       "      <th>RawText</th>\n",
       "      <th>Items</th>\n",
       "      <th>Problem</th>\n",
       "      <th>Solution</th>\n",
       "      <th>eXcess</th>\n",
       "      <th>Redundant</th>\n",
       "      <th>Unknown</th>\n",
       "    </tr>\n",
       "  </thead>\n",
       "  <tbody>\n",
       "    <tr>\n",
       "      <th>2</th>\n",
       "      <td>reweld shock sub to rotary head</td>\n",
       "      <td></td>\n",
       "      <td></td>\n",
       "      <td></td>\n",
       "      <td></td>\n",
       "      <td></td>\n",
       "      <td>rotary head, reweld, sub, sub to rotary, rewel...</td>\n",
       "    </tr>\n",
       "    <tr>\n",
       "      <th>25</th>\n",
       "      <td>e m relocate a c from dre16</td>\n",
       "      <td></td>\n",
       "      <td></td>\n",
       "      <td></td>\n",
       "      <td></td>\n",
       "      <td></td>\n",
       "      <td>e, m, relocate, relocate a c, e m, m relocate, c</td>\n",
       "    </tr>\n",
       "    <tr>\n",
       "      <th>49</th>\n",
       "      <td>reweld shock sub to rotary head</td>\n",
       "      <td></td>\n",
       "      <td></td>\n",
       "      <td></td>\n",
       "      <td></td>\n",
       "      <td></td>\n",
       "      <td>rotary head, reweld, sub, sub to rotary, rewel...</td>\n",
       "    </tr>\n",
       "    <tr>\n",
       "      <th>76</th>\n",
       "      <td>mimdril restock part</td>\n",
       "      <td></td>\n",
       "      <td></td>\n",
       "      <td></td>\n",
       "      <td></td>\n",
       "      <td></td>\n",
       "      <td>mimdril, mimdril restock, restock</td>\n",
       "    </tr>\n",
       "    <tr>\n",
       "      <th>77</th>\n",
       "      <td>mimdril restock part</td>\n",
       "      <td></td>\n",
       "      <td></td>\n",
       "      <td></td>\n",
       "      <td></td>\n",
       "      <td></td>\n",
       "      <td>mimdril, mimdril restock, restock</td>\n",
       "    </tr>\n",
       "  </tbody>\n",
       "</table>\n",
       "</div>"
      ],
      "text/plain": [
       "                            RawText Items Problem Solution eXcess Redundant  \\\n",
       "2   reweld shock sub to rotary head                                           \n",
       "25      e m relocate a c from dre16                                           \n",
       "49  reweld shock sub to rotary head                                           \n",
       "76             mimdril restock part                                           \n",
       "77             mimdril restock part                                           \n",
       "\n",
       "                                              Unknown  \n",
       "2   rotary head, reweld, sub, sub to rotary, rewel...  \n",
       "25   e, m, relocate, relocate a c, e m, m relocate, c  \n",
       "49  rotary head, reweld, sub, sub to rotary, rewel...  \n",
       "76                  mimdril, mimdril restock, restock  \n",
       "77                  mimdril, mimdril restock, restock  "
      ]
     },
     "execution_count": 47,
     "metadata": {},
     "output_type": "execute_result"
    }
   ],
   "source": [
    "# tag-empty? \n",
    "print(df_pred[(df_pred[['Items','Problem','Solution']]=='').all(axis=1)].shape[0])\n",
    "df_pred[(df_pred[['Items','Problem','Solution']]=='').all(axis=1)].head()"
   ]
  },
  {
   "cell_type": "code",
   "execution_count": null,
   "metadata": {},
   "outputs": [],
   "source": []
  },
  {
   "cell_type": "code",
   "execution_count": 49,
   "metadata": {},
   "outputs": [
    {
     "data": {
      "text/plain": [
       "<matplotlib.axes._subplots.AxesSubplot at 0x7f75e44a2828>"
      ]
     },
     "execution_count": 49,
     "metadata": {},
     "output_type": "execute_result"
    },
    {
     "data": {
      "image/png": "[encoded data removed]",
      "text/plain": [
       "<matplotlib.figure.Figure at 0x7f75e46e9a90>"
      ]
     },
     "metadata": {},
     "output_type": "display_data"
    }
   ],
   "source": [
    "from mlp import tree\n",
    "\n",
    "tag_events = tree.get_onehot(df_pred, 'Items', topn=1000)\n",
    "tag_similarity = tree.node_dist_mat(tag_events)\n",
    "\n",
    "sns.heatmap(tag_similarity.iloc[:20,:20])\n"
   ]
  },
  {
   "cell_type": "code",
   "execution_count": 50,
   "metadata": {},
   "outputs": [
    {
     "name": "stderr",
     "output_type": "stream",
     "text": [
      " 62%|██████▏   | 108/175 [00:00<00:00, 1065.59it/s]"
     ]
    },
    {
     "name": "stdout",
     "output_type": "stream",
     "text": [
      "oil\n"
     ]
    },
    {
     "name": "stderr",
     "output_type": "stream",
     "text": [
      "100%|██████████| 175/175 [00:00<00:00, 701.25it/s] \n"
     ]
    }
   ],
   "source": [
    "D = tree.heymann_taxonomy(tag_similarity)"
   ]
  },
  {
   "cell_type": "code",
   "execution_count": 51,
   "metadata": {
    "hide_input": true,
    "slideshow": {
     "slide_type": "skip"
    }
   },
   "outputs": [],
   "source": [
    "from networkx.readwrite import json_graph\n",
    "from networkx.algorithms.traversal.depth_first_search import dfs_tree\n",
    "import json\n",
    "\n",
    "subD = dfs_tree(D, 'oil')\n",
    "\n",
    "with open('d3tree.json', 'w') as outfile:\n",
    "    s=json.dump(json_graph.tree.tree_data(subD, 'oil'), outfile)"
   ]
  },
  {
   "cell_type": "code",
   "execution_count": 52,
   "metadata": {
    "code_folding": [],
    "hide_input": true,
    "slideshow": {
     "slide_type": "skip"
    }
   },
   "outputs": [
    {
     "name": "stdout",
     "output_type": "stream",
     "text": [
      "Overwriting f2.template\n"
     ]
    }
   ],
   "source": [
    "%%writefile f2.template\n",
    "<!DOCTYPE html>\n",
    "<meta charset=\"utf-8\">\n",
    "<style>\n",
    "\n",
    ".node {\n",
    "  cursor: pointer;\n",
    "}\n",
    "\n",
    ".node circle {\n",
    "  fill: #fff;\n",
    "  stroke: steelblue;\n",
    "  stroke-width: 1.5px;\n",
    "}\n",
    "\n",
    ".node text {\n",
    "  font: 10px sans-serif;\n",
    "}\n",
    "\n",
    ".link {\n",
    "  fill: none;\n",
    "  stroke: #ccc;\n",
    "  stroke-width: 1.5px;\n",
    "}\n",
    "\n",
    "</style>\n",
    "<body>\n",
    "<script src=\"//d3js.org/d3.v3.min.js\"></script>\n",
    "<script>\n",
    "\n",
    "var margin = {top: 20, right: 120, bottom: 20, left: 120},\n",
    "    width = 1500 - margin.right - margin.left,\n",
    "    height = 1200 - margin.top - margin.bottom;\n",
    "\n",
    "var i = 0,\n",
    "    duration = 750,\n",
    "    root;\n",
    "\n",
    "var tree = d3.layout.tree()\n",
    "    .size([height, width]);\n",
    "\n",
    "var diagonal = d3.svg.diagonal()\n",
    "    .projection(function(d) { return [d.y, d.x]; });\n",
    "\n",
    "var svg = d3.select(\"body\").append(\"svg\")\n",
    "    .attr(\"width\", width + margin.right + margin.left)\n",
    "    .attr(\"height\", height + margin.top + margin.bottom)\n",
    "  .append(\"g\")\n",
    "    .attr(\"transform\", \"translate(\" + margin.left + \",\" + margin.top + \")\");\n",
    "\n",
    "d3.json(\"d3tree.json\", function(error, flare) {\n",
    "  if (error) throw error;\n",
    "\n",
    "  root = flare;\n",
    "  root.x0 = height / 2;\n",
    "  root.y0 = 0;\n",
    "\n",
    "  function collapse(d) {\n",
    "    if (d.children) {\n",
    "      d._children = d.children;\n",
    "      d._children.forEach(collapse);\n",
    "      d.children = null;\n",
    "    }\n",
    "  }\n",
    "\n",
    "  root.children.forEach(collapse);\n",
    "  update(root);\n",
    "});\n",
    "\n",
    "d3.select(self.frameElement).style(\"height\", \"1200px\");\n",
    "\n",
    "function update(source) {\n",
    "\n",
    "  // Compute the new tree layout.\n",
    "  var nodes = tree.nodes(root).reverse(),\n",
    "      links = tree.links(nodes);\n",
    "\n",
    "  // Normalize for fixed-depth.\n",
    "  nodes.forEach(function(d) { d.y = d.depth * 180; });\n",
    "\n",
    "  // Update the nodes…\n",
    "  var node = svg.selectAll(\"g.node\")\n",
    "      .data(nodes, function(d) { return d.id || (d.id = ++i); });\n",
    "\n",
    "  // Enter any new nodes at the parent's previous position.\n",
    "  var nodeEnter = node.enter().append(\"g\")\n",
    "      .attr(\"class\", \"node\")\n",
    "      .attr(\"transform\", function(d) { return \"translate(\" + source.y0 + \",\" + source.x0 + \")\"; })\n",
    "      .on(\"click\", click);\n",
    "\n",
    "  nodeEnter.append(\"circle\")\n",
    "      .attr(\"r\", 1e-6)\n",
    "      .style(\"fill\", function(d) { return d._children ? \"lightsteelblue\" : \"#fff\"; });\n",
    "\n",
    "  nodeEnter.append(\"text\")\n",
    "      .attr(\"x\", function(d) { return d.children || d._children ? -10 : 10; })\n",
    "      .attr(\"dy\", \".35em\")\n",
    "      .attr(\"text-anchor\", function(d) { return d.children || d._children ? \"end\" : \"start\"; })\n",
    "      .text(function(d) { return d.id; })\n",
    "      .style(\"fill-opacity\", 1e-6);\n",
    "\n",
    "  // Transition nodes to their new position.\n",
    "  var nodeUpdate = node.transition()\n",
    "      .duration(duration)\n",
    "      .attr(\"transform\", function(d) { return \"translate(\" + d.y + \",\" + d.x + \")\"; });\n",
    "\n",
    "  nodeUpdate.select(\"circle\")\n",
    "      .attr(\"r\", 4.5)\n",
    "      .style(\"fill\", function(d) { return d._children ? \"lightsteelblue\" : \"#fff\"; });\n",
    "\n",
    "  nodeUpdate.select(\"text\")\n",
    "      .style(\"fill-opacity\", 1);\n",
    "\n",
    "  // Transition exiting nodes to the parent's new position.\n",
    "  var nodeExit = node.exit().transition()\n",
    "      .duration(duration)\n",
    "      .attr(\"transform\", function(d) { return \"translate(\" + source.y + \",\" + source.x + \")\"; })\n",
    "      .remove();\n",
    "\n",
    "  nodeExit.select(\"circle\")\n",
    "      .attr(\"r\", 1e-6);\n",
    "\n",
    "  nodeExit.select(\"text\")\n",
    "      .style(\"fill-opacity\", 1e-6);\n",
    "\n",
    "  // Update the links…\n",
    "  var link = svg.selectAll(\"path.link\")\n",
    "      .data(links, function(d) { return d.target.id; });\n",
    "\n",
    "  // Enter any new links at the parent's previous position.\n",
    "  link.enter().insert(\"path\", \"g\")\n",
    "      .attr(\"class\", \"link\")\n",
    "      .attr(\"d\", function(d) {\n",
    "        var o = {x: source.x0, y: source.y0};\n",
    "        return diagonal({source: o, target: o});\n",
    "      });\n",
    "\n",
    "  // Transition links to their new position.\n",
    "  link.transition()\n",
    "      .duration(duration)\n",
    "      .attr(\"d\", diagonal);\n",
    "\n",
    "  // Transition exiting nodes to the parent's new position.\n",
    "  link.exit().transition()\n",
    "      .duration(duration)\n",
    "      .attr(\"d\", function(d) {\n",
    "        var o = {x: source.x, y: source.y};\n",
    "        return diagonal({source: o, target: o});\n",
    "      })\n",
    "      .remove();\n",
    "\n",
    "  // Stash the old positions for transition.\n",
    "  nodes.forEach(function(d) {\n",
    "    d.x0 = d.x;\n",
    "    d.y0 = d.y;\n",
    "  });\n",
    "}\n",
    "\n",
    "// Toggle children on click.\n",
    "function click(d) {\n",
    "  if (d.children) {\n",
    "    d._children = d.children;\n",
    "    d.children = null;\n",
    "  } else {\n",
    "    d.children = d._children;\n",
    "    d._children = null;\n",
    "  }\n",
    "  update(d);\n",
    "}\n",
    "\n",
    "</script>"
   ]
  },
  {
   "cell_type": "code",
   "execution_count": 53,
   "metadata": {
    "hide_input": true,
    "slideshow": {
     "slide_type": "skip"
    }
   },
   "outputs": [],
   "source": [
    "from IPython.display import IFrame\n",
    "import re\n",
    "\n",
    "def replace_all(txt,d):\n",
    "    rep = dict((re.escape('{'+k+'}'), str(v)) for k, v in d.items())\n",
    "    pattern = re.compile(\"|\".join(rep.keys()))\n",
    "    return pattern.sub(lambda m: rep[re.escape(m.group(0))], txt)    \n",
    "\n",
    "count=0\n",
    "def serve_html(s,w,h):\n",
    "    import os\n",
    "    global count\n",
    "    count+=1\n",
    "    fn= '__tmp'+str(os.getpid())+'_'+str(count)+'.html'\n",
    "    with open(fn,'w') as f:\n",
    "        f.write(s)\n",
    "    return IFrame('files/'+fn,w,h)\n",
    "\n",
    "def f2(w=500,h=400):\n",
    "    d={\n",
    "       'width'      :w,\n",
    "       'height'     :h,\n",
    "       }\n",
    "    with open('f2.template','r') as f:\n",
    "        s=f.read()\n",
    "    s= replace_all(s,d)        \n",
    "    return serve_html(s,w+30,h+30)"
   ]
  },
  {
   "cell_type": "code",
   "execution_count": 54,
   "metadata": {
    "hide_input": false,
    "scrolled": false,
    "slideshow": {
     "slide_type": "subslide"
    }
   },
   "outputs": [
    {
     "data": {
      "text/html": [
       "\n",
       "        <iframe\n",
       "            width=\"1530\"\n",
       "            height=\"1230\"\n",
       "            src=\"files/__tmp11130_1.html\"\n",
       "            frameborder=\"0\"\n",
       "            allowfullscreen\n",
       "        ></iframe>\n",
       "        "
      ],
      "text/plain": [
       "<IPython.lib.display.IFrame at 0x7f75e5977d30>"
      ]
     },
     "execution_count": 54,
     "metadata": {},
     "output_type": "execute_result"
    }
   ],
   "source": [
    "f2(w=1500,h=1200)"
   ]
  }
 ],
 "metadata": {
  "hide_input": false,
  "kernelspec": {
   "display_name": "Python 3",
   "language": "python",
   "name": "python3"
  },
  "language_info": {
   "codemirror_mode": {
    "name": "ipython",
    "version": 3
   },
   "file_extension": ".py",
   "mimetype": "text/x-python",
   "name": "python",
   "nbconvert_exporter": "python",
   "pygments_lexer": "ipython3",
   "version": "3.6.4"
  },
  "latex_envs": {
   "LaTeX_envs_menu_present": true,
   "autocomplete": true,
   "bibliofile": "biblio.bib",
   "cite_by": "apalike",
   "current_citInitial": 1,
   "eqLabelWithNumbers": true,
   "eqNumInitial": 1,
   "hotkeys": {
    "equation": "Ctrl-E",
    "itemize": "Ctrl-I"
   },
   "labels_anchors": false,
   "latex_user_defs": false,
   "report_style_numbering": false,
   "user_envs_cfg": false
  },
  "varInspector": {
   "cols": {
    "lenName": 16,
    "lenType": 16,
    "lenVar": 40
   },
   "kernels_config": {
    "python": {
     "delete_cmd_postfix": "",
     "delete_cmd_prefix": "del ",
     "library": "var_list.py",
     "varRefreshCmd": "print(var_dic_list())"
    },
    "r": {
     "delete_cmd_postfix": ") ",
     "delete_cmd_prefix": "rm(",
     "library": "var_list.r",
     "varRefreshCmd": "cat(var_dic_list()) "
    }
   },
   "types_to_exclude": [
    "module",
    "function",
    "builtin_function_or_method",
    "instance",
    "_Feature"
   ],
   "window_display": false
  }
 },
 "nbformat": 4,
 "nbformat_minor": 2
}

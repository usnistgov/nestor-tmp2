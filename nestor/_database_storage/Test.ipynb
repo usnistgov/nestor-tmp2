{
 "cells": [
  {
   "cell_type": "code",
   "execution_count": 5,
   "metadata": {},
   "outputs": [
    {
     "name": "stdout",
     "output_type": "stream",
     "text": [
      "The autoreload extension is already loaded. To reload it, use:\n",
      "  %reload_ext autoreload\n",
      "/Users/sam11/Git/ml-py\n"
     ]
    }
   ],
   "source": [
    "%load_ext autoreload\n",
    "%autoreload 2\n",
    "\n",
    "import sys\n",
    "import os\n",
    "import inspect\n",
    "import getpass\n",
    "\n",
    "import pandas as pd\n",
    "import matplotlib.pyplot as plt\n",
    "\n",
    "\n",
    "\n",
    "project_path = os.path.abspath( os.path.dirname(os.path.abspath(inspect.getfile(inspect.currentframe()))) + \"/../\" )\n",
    "sys.path.insert(0, project_path)\n",
    "print(project_path)\n",
    "\n",
    "from database_storage.helper import *\n",
    "\n",
    "from database_storage.database.database import *\n",
    "from database_storage.main import *\n",
    "\n",
    "from database_storage.objects.human import *\n",
    "from database_storage.objects.issue import *\n",
    "from database_storage.objects.kpi import *\n",
    "from database_storage.objects.machine import *\n",
    "from database_storage.objects.tag import *\n",
    "from database_storage.objects.maintenanceworkorder import *\n"
   ]
  },
  {
   "cell_type": "markdown",
   "metadata": {},
   "source": [
    "## Connect to Database"
   ]
  },
  {
   "cell_type": "code",
   "execution_count": 6,
   "metadata": {},
   "outputs": [
    {
     "name": "stdout",
     "output_type": "stream",
     "text": [
      "yaml file open\n"
     ]
    }
   ],
   "source": [
    "databaseSchema_file = os.path.join(project_path ,'database_storage','database', 'DatabaseSchema.yaml')\n",
    "databaseSchema_dict = openYAMLFile(databaseSchema_file)"
   ]
  },
  {
   "cell_type": "code",
   "execution_count": 7,
   "metadata": {},
   "outputs": [],
   "source": [
    "#user = getpass.getuser()\n",
    "#password = getpass.getpass(\"Password:\")\n",
    "\n",
    "user = \"neo4j\"\n",
    "password = 'GREYSTONE!!'\n",
    "\n",
    "database = DatabaseNeo4J(\"bolt://127.0.0.1:7687\", user, password, databaseSchema_dict)"
   ]
  },
  {
   "cell_type": "markdown",
   "metadata": {},
   "source": [
    "### get CSV information"
   ]
  },
  {
   "cell_type": "code",
   "execution_count": 8,
   "metadata": {},
   "outputs": [
    {
     "name": "stdout",
     "output_type": "stream",
     "text": [
      "yaml file open\n"
     ]
    }
   ],
   "source": [
    "csv_file = os.path.join(project_path ,'data', 'gs_data', 'gs_tool_tag_export.csv')\n",
    "#csv_file = os.path.join(project_path ,'data', 'test.csv')\n",
    "\n",
    "dataframe = pd.read_csv(csv_file)\n",
    "dataframe.fillna(\"\", inplace=True)\n",
    "\n",
    "#csvSchemas_file = os.path.join(project_path , 'data', 'testCSVheader.yaml')\n",
    "csvSchemas_file = os.path.join(project_path , 'data',  'gs_data', 'gs_CSVheader.yaml')\n",
    "\n",
    "csvSchemas_dict = openYAMLFile(csvSchemas_file)"
   ]
  },
  {
   "cell_type": "markdown",
   "metadata": {},
   "source": [
    "### Clean the database"
   ]
  },
  {
   "cell_type": "code",
   "execution_count": null,
   "metadata": {},
   "outputs": [],
   "source": [
    "database.deleteData()\n",
    "database.dropIndexes()\n",
    "database.createIndexes()"
   ]
  },
  {
   "cell_type": "markdown",
   "metadata": {},
   "source": [
    "## Store the data"
   ]
  },
  {
   "cell_type": "code",
   "execution_count": null,
   "metadata": {},
   "outputs": [],
   "source": [
    "done = graphDatabase_from_TaggedCSV(database, dataframe, csvSchemas_dict)"
   ]
  },
  {
   "cell_type": "markdown",
   "metadata": {},
   "source": [
    "# KPI"
   ]
  },
  {
   "cell_type": "markdown",
   "metadata": {},
   "source": [
    "## Create the object for the KPI"
   ]
  },
  {
   "cell_type": "code",
   "execution_count": null,
   "metadata": {},
   "outputs": [],
   "source": [
    "kpiDict = {\n",
    "    'issue':{\n",
    "            'description_problem': None,\n",
    "            'description_solution': None,\n",
    "            'description_cause': None,\n",
    "            'description_effect': None,\n",
    "            'machine_down': None,\n",
    "            'necessary_part': None,\n",
    "            'part_in_process': None,\n",
    "\n",
    "            'date_machine_down': None,\n",
    "            'date_workorder_start': None,\n",
    "            'date_maintenance_technician_arrive': None,\n",
    "            'date_problem_found': None,\n",
    "            'date_part_ordered': None,\n",
    "            'date_part_received': None,\n",
    "            'date_problem_solve': None,\n",
    "            'date_machine_up': None,\n",
    "            'date_workorder_completion': None\n",
    "        },\n",
    "    'human':{\n",
    "        'name': None\n",
    "    },\n",
    "    'operator': {\n",
    "        'name': None\n",
    "    },\n",
    "    'technician': {\n",
    "        'name': None,\n",
    "        'skills': None,\n",
    "        'crafts': None\n",
    "    },\n",
    "    'machine': {\n",
    "        'name': None,\n",
    "        'manufacturer': None,\n",
    "        'location': None\n",
    "    },\n",
    "    'machine_type': {\n",
    "        'type': None\n",
    "    },\n",
    "    'tag': {\n",
    "        'keyword': None,\n",
    "        'synonyms':  None\n",
    "    },\n",
    "    'tag_oneGram': {\n",
    "        'keyword':  None,\n",
    "        'synonyms':  None\n",
    "    },\n",
    "    'tag_nGram': {\n",
    "        'keyword':  None,\n",
    "        'synonyms':  None\n",
    "    },\n",
    "    'tag_item': {\n",
    "        'keyword':  [\"low\"],\n",
    "        'synonyms':  None\n",
    "    },\n",
    "    'tag_itemAsProblem': {\n",
    "        'keyword':  None,\n",
    "        'synonyms':  None\n",
    "    },\n",
    "    'tag_itemAsSolution': {\n",
    "        'keyword':  [\"pin\", \"_\"],\n",
    "        'synonyms':  None\n",
    "    },\n",
    "    'tag_problem': {\n",
    "        'keyword':  None,\n",
    "        'synonyms':  None\n",
    "    },\n",
    "    'tag_solution': {\n",
    "        'keyword':  None,\n",
    "        'synonyms':  None\n",
    "    },\n",
    "    'tag_unknown': {\n",
    "        'keyword':  None,\n",
    "        'synonyms':  None\n",
    "    },\n",
    "    'tag_poblemItem': {\n",
    "        'keyword':  None,\n",
    "        'synonyms':  None\n",
    "    },\n",
    "    'tag_solutionItem': {\n",
    "        'keyword':  [\"_\"],\n",
    "        'synonyms':  None\n",
    "    }\n",
    "    }\n",
    "kpi = Kpi(database, kpiDict)\n",
    "kpi.createObjects()\n",
    "print(kpi.tag_item)"
   ]
  },
  {
   "cell_type": "markdown",
   "metadata": {},
   "source": [
    "## get the hierarchy of your item"
   ]
  },
  {
   "cell_type": "code",
   "execution_count": null,
   "metadata": {},
   "outputs": [],
   "source": [
    "g = kpi.tree_itemsHierarchie(child= True, parent=True)"
   ]
  },
  {
   "cell_type": "code",
   "execution_count": null,
   "metadata": {},
   "outputs": [],
   "source": [
    "plt.subplot(121)\n",
    "nx.draw(g[0][0], with_labels=True, font_weight='bold')\n",
    "plt.subplot(122)\n",
    "nx.draw(g[0][1], with_labels=True, font_weight='bold')"
   ]
  },
  {
   "cell_type": "markdown",
   "metadata": {},
   "source": [
    "## Create the query to filter the dataframe"
   ]
  },
  {
   "cell_type": "code",
   "execution_count": null,
   "metadata": {},
   "outputs": [],
   "source": [
    "filterQuery = kpi.cypher_filterDatabase()\n",
    "done, filterResult = database.runQuery(filterQuery)\n",
    "\n",
    "dataframe = resultToObservationDataframe(filterResult)\n",
    "dataframe"
   ]
  },
  {
   "cell_type": "code",
   "execution_count": null,
   "metadata": {},
   "outputs": [],
   "source": [
    "\n",
    "\n"
   ]
  },
  {
   "cell_type": "code",
   "execution_count": null,
   "metadata": {},
   "outputs": [],
   "source": [
    "print(user)\n",
    "print(password)"
   ]
  },
  {
   "cell_type": "code",
   "execution_count": null,
   "metadata": {},
   "outputs": [],
   "source": [
    "        "
   ]
  },
  {
   "cell_type": "code",
   "execution_count": null,
   "metadata": {},
   "outputs": [],
   "source": []
  }
 ],
 "metadata": {
  "kernelspec": {
   "display_name": "Python 3",
   "language": "python",
   "name": "python3"
  },
  "language_info": {
   "codemirror_mode": {
    "name": "ipython",
    "version": 3
   },
   "file_extension": ".py",
   "mimetype": "text/x-python",
   "name": "python",
   "nbconvert_exporter": "python",
   "pygments_lexer": "ipython3",
   "version": "3.6.5"
  }
 },
 "nbformat": 4,
 "nbformat_minor": 2
}

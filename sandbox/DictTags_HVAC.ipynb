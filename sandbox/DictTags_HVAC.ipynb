{
 "cells": [
  {
   "cell_type": "code",
   "execution_count": 2,
   "metadata": {
    "collapsed": true
   },
   "outputs": [],
   "source": [
    "## For debbugging\n",
    "%load_ext autoreload"
   ]
  },
  {
   "cell_type": "code",
   "execution_count": 3,
   "metadata": {
    "collapsed": true
   },
   "outputs": [],
   "source": [
    "import numpy as np\n",
    "import pandas as pd\n",
    "import seaborn as sns\n",
    "import matplotlib.pyplot as plt\n",
    "from tqdm import tqdm_notebook\n",
    "%matplotlib inline\n",
    "\n",
    "import textacy\n",
    "import os\n",
    "import codecs\n",
    "import sys\n",
    "\n",
    "from unicodedata import normalize"
   ]
  },
  {
   "cell_type": "code",
   "execution_count": 4,
   "metadata": {
    "collapsed": true
   },
   "outputs": [],
   "source": [
    "%aimport mlp.tools\n",
    "%autoreload 1\n",
    "from mlp.tools import *"
   ]
  },
  {
   "cell_type": "code",
   "execution_count": 21,
   "metadata": {
    "code_folding": [],
    "collapsed": true
   },
   "outputs": [],
   "source": [
    "data_directory = os.path.join('.', 'data/hvac_data')\n",
    "raw_excel_filepath = os.path.join(data_directory,\n",
    "                                   'hvac_mslips_20170720.xlsx')\n",
    "raw_txt_filepath = os.path.join(data_directory,\n",
    "                                   'raw_txt_HVAC.txt')\n",
    "bigram_logs_filepath = os.path.join(data_directory,\n",
    "                                   'bigram_csv_HVAC.csv')\n",
    "raw_csv_filepath = os.path.join(data_directory,\n",
    "                                   'raw_csv_HVAC.csv')\n",
    "\n",
    "if not os.path.isfile(raw_csv_filepath): \n",
    "    relevant_cols = [5,248,6,7,10,43,11,44]\n",
    "    names = ['Description','Resolution', \n",
    "             'AssetID', 'Location', \n",
    "             'Assigned', 'Reported',\n",
    "             'SolveDate', 'ReportDate']\n",
    "#     np.argsort(relevant_cols)\n",
    "#     pd.DataFrame()\n",
    "    df = pd.read_excel(raw_excel_filepath, header=1, encoding='utf-8', \n",
    "                       names=[names[i] for i in np.argsort(relevant_cols)], \n",
    "                       parse_cols=relevant_cols)\n",
    "\n",
    "    df.Description = df.Description.fillna('').apply(lambda x: x.replace('\\n',' '))\n",
    "    df.Resolution = df.Resolution.fillna('').apply(lambda x: x.replace('\\n',' '))\n",
    "    print(df[['Description','Resolution']].head())\n",
    "    # df['RawText'] = df.Description.astype(str).str.cat(df.Resolution.astype(str, errors='ignore'), sep='. ')\n",
    "    df[\"RawText\"] = df[['Description','Resolution']].apply(lambda x: '. '.join(x), axis=1)\n",
    "\n",
    "\n",
    "\n",
    "    df['RawText'].to_csv(raw_txt_filepath, sep='\\t', index=False)\n",
    "\n",
    "    bigram_docs(raw_txt_filepath, bigram_logs_filepath, \n",
    "                 data_directory=data_directory, special={'Action Taken:': ''})\n",
    "\n",
    "    df['RawText'] = pd.read_csv(bigram_logs_filepath, sep='\\t')\n",
    "    df.head()\n",
    "\n",
    "    df[['Building', 'Room']] = df.Location.str.split('-', expand=True, n=1)\n",
    "    df['AssetID'] = df.AssetID.str.split(' ', expand=True, n=1)[1]\n",
    "    df = df[['RawText', \n",
    "             'AssetID', 'Building', 'Room',\n",
    "             'Assigned', 'Reported',\n",
    "             'SolveDate', 'ReportDate']].dropna(subset=['RawText'])\n",
    "\n",
    "\n",
    "    # if not os.path.isfile(raw_csv_filepath): \n",
    "    df.to_csv(raw_csv_filepath, header=False, encoding='utf-8')\n",
    "\n",
    "else:\n",
    "    df = pd.read_csv(raw_csv_filepath, names=['RawText', \n",
    "                                              'AssetID', 'Building', 'Room',\n",
    "                                              'Assigned', 'Reported',\n",
    "                                              'SolveDate', 'ReportDate'])"
   ]
  },
  {
   "cell_type": "code",
   "execution_count": 23,
   "metadata": {
    "collapsed": true
   },
   "outputs": [],
   "source": [
    "docs = textacy.fileio.read.read_csv(raw_csv_filepath, encoding='utf-8')\n",
    "\n",
    "content_stream, metadata_stream = textacy.fileio.split_record_fields(docs, 1)  # Descriptions in Col 1\n",
    "corpus = textacy.Corpus(u'en', texts=content_stream, metadatas=metadata_stream)"
   ]
  },
  {
   "cell_type": "code",
   "execution_count": 24,
   "metadata": {
    "collapsed": true
   },
   "outputs": [],
   "source": [
    "# doc_term_matrix, id2term = textacy.vsm.doc_term_matrix(\n",
    "#             (doc.to_terms_list(ngrams=(1,2,3), \n",
    "#                                normalize=False,\n",
    "#                                named_entities=False, \n",
    "# #                                filter_stops=True,  # Nope! Not needed :)\n",
    "#                                filter_punct=False,\n",
    "#                                as_strings=True)\n",
    "#                 for doc in corpus),\n",
    "#             weighting='tfidf', \n",
    "#             normalize=False, \n",
    "#             smooth_idf=False, \n",
    "#             min_df=2, max_df=0.95)  # each token in >2 docs, <95% of docs\n",
    "\n",
    "# topn = 2500\n",
    "# topn_tok = [id2term[i] for i in doc_term_matrix.sum(axis=0).argsort()[0,-topn:].tolist()[0][::-1]]\n",
    "# with open('HVAC_top{}.txt'.format(topn), 'w') as f:\n",
    "#     for i in topn_tok:\n",
    "#         try:\n",
    "#             f.write(i+'\\n')\n",
    "#         except UnicodeEncodeError:\n",
    "#             print(i, '-->', normalize('NFKD', i).encode('ascii','ignore'))\n",
    "#             f.write(normalize('NFKD', i).encode('ascii','ignore') +'\\n')"
   ]
  },
  {
   "cell_type": "code",
   "execution_count": 25,
   "metadata": {
    "collapsed": true
   },
   "outputs": [],
   "source": [
    "vocab_filepath = os.path.join(data_directory, 'hvac_vocab.csv')\n",
    "# read in the keyword dictionary and to some data-munging. \n",
    "df_vocab = pd.read_csv(vocab_filepath, header=0, encoding='utf-8',\n",
    "                       names = ['token', 'NE','alias','note'], index_col=0, na_values=['nan'], usecols=[1,2,3,4])\n",
    "df_vocab = df_vocab.dropna(subset=['NE'])  # remove named entities that are NaN\n",
    "df_vocab.alias = df_vocab.apply(lambda x: np.where(pd.isnull(x.alias), x.name, x.alias), axis=1) # alias to original if blank\n",
    "df_vocab = df_vocab[~df_vocab.index.duplicated(keep='first')]\n"
   ]
  },
  {
   "cell_type": "code",
   "execution_count": 26,
   "metadata": {},
   "outputs": [
    {
     "name": "stdout",
     "output_type": "stream",
     "text": [
      "named entities: \n",
      "I\tItem\n",
      "P\tProblem\n",
      "S\tSolution\n",
      "R\tRedundant\n",
      "U\tUnknown\n",
      "X\tStop Word\n"
     ]
    },
    {
     "data": {
      "text/html": [
       "<div>\n",
       "<style>\n",
       "    .dataframe thead tr:only-child th {\n",
       "        text-align: right;\n",
       "    }\n",
       "\n",
       "    .dataframe thead th {\n",
       "        text-align: left;\n",
       "    }\n",
       "\n",
       "    .dataframe tbody tr th {\n",
       "        vertical-align: top;\n",
       "    }\n",
       "</style>\n",
       "<table border=\"1\" class=\"dataframe\">\n",
       "  <thead>\n",
       "    <tr style=\"text-align: right;\">\n",
       "      <th></th>\n",
       "      <th>NE</th>\n",
       "      <th>alias</th>\n",
       "      <th>note</th>\n",
       "    </tr>\n",
       "    <tr>\n",
       "      <th>NE</th>\n",
       "      <th></th>\n",
       "      <th></th>\n",
       "      <th></th>\n",
       "    </tr>\n",
       "  </thead>\n",
       "  <tbody>\n",
       "    <tr>\n",
       "      <th>I</th>\n",
       "      <td>1</td>\n",
       "      <td>311</td>\n",
       "      <td>18</td>\n",
       "    </tr>\n",
       "    <tr>\n",
       "      <th>P</th>\n",
       "      <td>1</td>\n",
       "      <td>46</td>\n",
       "      <td>1</td>\n",
       "    </tr>\n",
       "    <tr>\n",
       "      <th>R</th>\n",
       "      <td>1</td>\n",
       "      <td>10</td>\n",
       "      <td>2</td>\n",
       "    </tr>\n",
       "    <tr>\n",
       "      <th>S</th>\n",
       "      <td>1</td>\n",
       "      <td>50</td>\n",
       "      <td>2</td>\n",
       "    </tr>\n",
       "    <tr>\n",
       "      <th>U</th>\n",
       "      <td>1</td>\n",
       "      <td>17</td>\n",
       "      <td>6</td>\n",
       "    </tr>\n",
       "    <tr>\n",
       "      <th>X</th>\n",
       "      <td>1</td>\n",
       "      <td>84</td>\n",
       "      <td>3</td>\n",
       "    </tr>\n",
       "  </tbody>\n",
       "</table>\n",
       "</div>"
      ],
      "text/plain": [
       "    NE  alias  note\n",
       "NE                 \n",
       "I    1    311    18\n",
       "P    1     46     1\n",
       "R    1     10     2\n",
       "S    1     50     2\n",
       "U    1     17     6\n",
       "X    1     84     3"
      ]
     },
     "execution_count": 26,
     "metadata": {},
     "output_type": "execute_result"
    }
   ],
   "source": [
    "# how many instances of each keyword class are there?\n",
    "print('named entities: ')\n",
    "print('I\\tItem\\nP\\tProblem\\nS\\tSolution\\nR\\tRedundant')\n",
    "print('U\\tUnknown\\nX\\tStop Word')\n",
    "df_vocab.groupby('NE').nunique()\n",
    "# pd.groupby."
   ]
  },
  {
   "cell_type": "code",
   "execution_count": 27,
   "metadata": {
    "code_folding": [
     4
    ]
   },
   "outputs": [
    {
     "name": "stderr",
     "output_type": "stream",
     "text": [
      "Widget Javascript not detected.  It may not be installed or enabled properly.\n"
     ]
    },
    {
     "data": {
      "application/vnd.jupyter.widget-view+json": {
       "model_id": "679cc5696b904ba3950331ec33d16046"
      }
     },
     "metadata": {},
     "output_type": "display_data"
    },
    {
     "name": "stdout",
     "output_type": "stream",
     "text": [
      "\n"
     ]
    },
    {
     "data": {
      "text/html": [
       "<div>\n",
       "<style>\n",
       "    .dataframe thead tr:only-child th {\n",
       "        text-align: right;\n",
       "    }\n",
       "\n",
       "    .dataframe thead th {\n",
       "        text-align: left;\n",
       "    }\n",
       "\n",
       "    .dataframe tbody tr th {\n",
       "        vertical-align: top;\n",
       "    }\n",
       "</style>\n",
       "<table border=\"1\" class=\"dataframe\">\n",
       "  <thead>\n",
       "    <tr style=\"text-align: right;\">\n",
       "      <th></th>\n",
       "      <th>RawText</th>\n",
       "      <th>Items</th>\n",
       "      <th>Problem</th>\n",
       "      <th>Solution</th>\n",
       "      <th>UK_tok</th>\n",
       "    </tr>\n",
       "  </thead>\n",
       "  <tbody>\n",
       "    <tr>\n",
       "      <th>0</th>\n",
       "      <td>adjust repai replace freeze_stat reset poc_ed</td>\n",
       "      <td>freeze_stat</td>\n",
       "      <td></td>\n",
       "      <td>reset, replace, adjust</td>\n",
       "      <td>repai, poc_ed</td>\n",
       "    </tr>\n",
       "    <tr>\n",
       "      <th>1</th>\n",
       "      <td>reset adjust repair freeze_stat restart poc_ed</td>\n",
       "      <td>freeze_stat</td>\n",
       "      <td></td>\n",
       "      <td>restart, reset, repair, adjust</td>\n",
       "      <td>poc_ed</td>\n",
       "    </tr>\n",
       "    <tr>\n",
       "      <th>2</th>\n",
       "      <td>rset adjust repair freeze_stat reset_freezestat</td>\n",
       "      <td>freeze_stat</td>\n",
       "      <td></td>\n",
       "      <td>repair, adjust</td>\n",
       "      <td>reset_freezestat</td>\n",
       "    </tr>\n",
       "    <tr>\n",
       "      <th>3</th>\n",
       "      <td>reset adjust repair freeze_stat reset_alarm hv...</td>\n",
       "      <td>freeze_stat</td>\n",
       "      <td></td>\n",
       "      <td>reset, repair, adjust</td>\n",
       "      <td>hv-3, hv-2</td>\n",
       "    </tr>\n",
       "    <tr>\n",
       "      <th>4</th>\n",
       "      <td>failure computer room alarm check system -PRON...</td>\n",
       "      <td>room, computer, 71F, temperature, 2F, set_poin...</td>\n",
       "      <td>alarm, failure, low, no_problem</td>\n",
       "      <td>check</td>\n",
       "      <td>=, -pron-, hunmidity, 30%</td>\n",
       "    </tr>\n",
       "    <tr>\n",
       "      <th>5</th>\n",
       "      <td>reset adjust repair freeze_stat reset restart ...</td>\n",
       "      <td>freeze_stat</td>\n",
       "      <td></td>\n",
       "      <td>restart, reset, repair, adjust</td>\n",
       "      <td>poc_ed</td>\n",
       "    </tr>\n",
       "    <tr>\n",
       "      <th>6</th>\n",
       "      <td>high_humidity room 935 check humidity find iss...</td>\n",
       "      <td>room, humidity</td>\n",
       "      <td>check_request</td>\n",
       "      <td>find, check, replace</td>\n",
       "      <td>high_humidity, meter, 935, -pron-, personal</td>\n",
       "    </tr>\n",
       "    <tr>\n",
       "      <th>7</th>\n",
       "      <td>reset adjust repair freeze_stat restart unit p...</td>\n",
       "      <td>unit, freeze_stat</td>\n",
       "      <td></td>\n",
       "      <td>restart, reset, repair, adjust</td>\n",
       "      <td>poc_ed</td>\n",
       "    </tr>\n",
       "    <tr>\n",
       "      <th>8</th>\n",
       "      <td>rm b185 heat reggie stroke operator make_sure ...</td>\n",
       "      <td>65F, heat, 69F, space_temperature</td>\n",
       "      <td></td>\n",
       "      <td>find, adjust</td>\n",
       "      <td>proper_operation, measure, reggie, operator, s...</td>\n",
       "    </tr>\n",
       "    <tr>\n",
       "      <th>9</th>\n",
       "      <td>too_cold b-214 b-220 room temperature cold due...</td>\n",
       "      <td>room, acu-8, temperature</td>\n",
       "      <td>too_cold</td>\n",
       "      <td>repair, is_cause_of</td>\n",
       "      <td>b-220, poc_stephanie, shop_02, b-214</td>\n",
       "    </tr>\n",
       "  </tbody>\n",
       "</table>\n",
       "</div>"
      ],
      "text/plain": [
       "                                             RawText  \\\n",
       "0      adjust repai replace freeze_stat reset poc_ed   \n",
       "1     reset adjust repair freeze_stat restart poc_ed   \n",
       "2    rset adjust repair freeze_stat reset_freezestat   \n",
       "3  reset adjust repair freeze_stat reset_alarm hv...   \n",
       "4  failure computer room alarm check system -PRON...   \n",
       "5  reset adjust repair freeze_stat reset restart ...   \n",
       "6  high_humidity room 935 check humidity find iss...   \n",
       "7  reset adjust repair freeze_stat restart unit p...   \n",
       "8  rm b185 heat reggie stroke operator make_sure ...   \n",
       "9  too_cold b-214 b-220 room temperature cold due...   \n",
       "\n",
       "                                               Items  \\\n",
       "0                                        freeze_stat   \n",
       "1                                        freeze_stat   \n",
       "2                                        freeze_stat   \n",
       "3                                        freeze_stat   \n",
       "4  room, computer, 71F, temperature, 2F, set_poin...   \n",
       "5                                        freeze_stat   \n",
       "6                                     room, humidity   \n",
       "7                                  unit, freeze_stat   \n",
       "8                  65F, heat, 69F, space_temperature   \n",
       "9                           room, acu-8, temperature   \n",
       "\n",
       "                           Problem                        Solution  \\\n",
       "0                                           reset, replace, adjust   \n",
       "1                                   restart, reset, repair, adjust   \n",
       "2                                                   repair, adjust   \n",
       "3                                            reset, repair, adjust   \n",
       "4  alarm, failure, low, no_problem                           check   \n",
       "5                                   restart, reset, repair, adjust   \n",
       "6                    check_request            find, check, replace   \n",
       "7                                   restart, reset, repair, adjust   \n",
       "8                                                     find, adjust   \n",
       "9                         too_cold             repair, is_cause_of   \n",
       "\n",
       "                                              UK_tok  \n",
       "0                                      repai, poc_ed  \n",
       "1                                             poc_ed  \n",
       "2                                   reset_freezestat  \n",
       "3                                         hv-3, hv-2  \n",
       "4                          =, -pron-, hunmidity, 30%  \n",
       "5                                             poc_ed  \n",
       "6        high_humidity, meter, 935, -pron-, personal  \n",
       "7                                             poc_ed  \n",
       "8  proper_operation, measure, reggie, operator, s...  \n",
       "9               b-220, poc_stephanie, shop_02, b-214  "
      ]
     },
     "execution_count": 27,
     "metadata": {},
     "output_type": "execute_result"
    }
   ],
   "source": [
    "def get_norm_tokens(doc_n, doc_term_mat, id2term):\n",
    "    doc = doc_term_mat[doc_n].toarray()\n",
    "    return [id2term[i] for i in doc.nonzero()[1]]\n",
    "\n",
    "# def doc_to_tags(tokens, thes):\n",
    "    # #     tokens = get_norm_terms(doc)\n",
    "    #     tags = {'I':[], 'P':[], 'S':[]}\n",
    "    #     untagged = []\n",
    "    #     vocab_list = thes.index.tolist()\n",
    "    #     for tok_phrase in tokens:\n",
    "\n",
    "    #         if  tok_phrase in vocab_list: # recognized token/s?\n",
    "    #             typ = thes.loc[tok_phrase]['NE']\n",
    "\n",
    "    #             if typ in tags.keys():  #  I, P, or S?\n",
    "    #                 tags[typ] += list(set(tags[typ] + [thes.loc[tok_phrase]['alias'].tolist()]))\n",
    "    #             elif typ is \"U\":  \n",
    "    #                 # new! added way to check for unknowns/human-input needed on a issue-lvl\n",
    "    #                 untagged += [tok_phrase]\n",
    "    #             else:  # R or X?\n",
    "    #                 pass # skip'em\n",
    "\n",
    "    #             tok_list = re.split(\"\\W+|_\",tok_phrase)\n",
    "    #             for tok in tok_list:\n",
    "    #                 if  tok in vocab_list:  # recognized token/s?\n",
    "    #                     typ = thes.loc[tok]['NE']\n",
    "\n",
    "    #                     if typ in tags.keys():  #  I, P, or S?\n",
    "    #                         tags[typ] += list(set(tags[typ] + [thes.loc[tok]['alias'].tolist()]))\n",
    "    #                     else:  # R or X?\n",
    "    #                         pass # skip'em\n",
    "    #         elif np.any([i in vocab_list for i in tok.split(' ')]):\n",
    "    #             # If any subset of n-gram `tok` is itself a recognized token, skip'em\n",
    "    #             # catches fluff\n",
    "    #             pass\n",
    "    #         else: # not recognized :(\n",
    "    #             untagged += [tok]\n",
    "    #     return tags, list(set(untagged))\n",
    "        \n",
    "\n",
    "        \n",
    "def doc_to_tags(tokens, thes):\n",
    "#     tokens = get_norm_terms(doc)\n",
    "    tags = {'I':[], 'P':[], 'S':[]}\n",
    "    untagged = []\n",
    "    vocab_list = thes.index.tolist()\n",
    "    for tok in tokens:\n",
    "        if tok in vocab_list:  # recognized token?\n",
    "            typ = thes.loc[tok]['NE']\n",
    "            \n",
    "            if typ in tags.keys():  #  I, P, or S?\n",
    "                tags[typ] = list(set(tags[typ] + [thes.loc[tok]['alias'].tolist()]))\n",
    "            else:  # R or X?\n",
    "                pass # skip'em\n",
    "        elif np.any([i in vocab_list for i in tok.split(' ')]):\n",
    "            # If any subset of `tok` is itself a recognized token, skip'em\n",
    "            pass\n",
    "        else: # not recognized :(\n",
    "            untagged += [tok]\n",
    "    return tags, list(set(untagged))\n",
    "            \n",
    "def tag_corpus(corpus, thes):\n",
    "    RT, I, S, P, UK = ([], [], [], [], [])\n",
    "    \n",
    "    # make the tf-idf embedding to tokenize with lemma/ngrams\n",
    "    doc_term_matrix, id2term = textacy.vsm.doc_term_matrix(\n",
    "            (doc.to_terms_list(ngrams=(1,2,3), \n",
    "                               normalize=u'lemma',\n",
    "                               named_entities=False, \n",
    "#                                filter_stops=True,  # Nope! Not needed :)\n",
    "                               filter_punct=True,\n",
    "                               as_strings=True)\n",
    "                for doc in corpus),\n",
    "            weighting='tfidf', \n",
    "            normalize=False, \n",
    "            smooth_idf=False, \n",
    "            min_df=2, max_df=0.95)  # each token in >2 docs, <95% of docs\n",
    "\n",
    "    # iterate over all issues\n",
    "    for  doc_n, doc in enumerate(tqdm_notebook(corpus)):\n",
    "        tokens = get_norm_tokens(doc_n, doc_term_matrix, id2term)\n",
    "        tags, unknown = doc_to_tags(tokens, thes)\n",
    "        UK += [', '.join(unknown)]\n",
    "        RT += [doc.text]\n",
    "        I += [', '.join(tags['I'])]\n",
    "        S += [', '.join(tags['S'])]\n",
    "        P += [', '.join(tags['P'])]\n",
    "    # get back a tagged DF\n",
    "    return pd.DataFrame(data={\n",
    "        'RawText': RT,\n",
    "        'Items': I,\n",
    "        'Problem': P,\n",
    "        'Solution': S,\n",
    "        'UK_tok': UK  # unknown\n",
    "    }, columns = ['RawText','Items','Problem','Solution','UK_tok'])\n",
    "\n",
    "df_pred = tag_corpus(corpus, df_vocab)\n",
    "df_pred.head(10)"
   ]
  },
  {
   "cell_type": "code",
   "execution_count": 28,
   "metadata": {},
   "outputs": [
    {
     "data": {
      "text/plain": [
       "1003"
      ]
     },
     "execution_count": 28,
     "metadata": {},
     "output_type": "execute_result"
    }
   ],
   "source": [
    "df_pred[df_pred.UK_tok ==''].shape[0]"
   ]
  },
  {
   "cell_type": "code",
   "execution_count": 29,
   "metadata": {},
   "outputs": [
    {
     "name": "stdout",
     "output_type": "stream",
     "text": [
      "35\n"
     ]
    },
    {
     "data": {
      "text/html": [
       "<div>\n",
       "<style>\n",
       "    .dataframe thead tr:only-child th {\n",
       "        text-align: right;\n",
       "    }\n",
       "\n",
       "    .dataframe thead th {\n",
       "        text-align: left;\n",
       "    }\n",
       "\n",
       "    .dataframe tbody tr th {\n",
       "        vertical-align: top;\n",
       "    }\n",
       "</style>\n",
       "<table border=\"1\" class=\"dataframe\">\n",
       "  <thead>\n",
       "    <tr style=\"text-align: right;\">\n",
       "      <th></th>\n",
       "      <th>RawText</th>\n",
       "      <th>Items</th>\n",
       "      <th>Problem</th>\n",
       "      <th>Solution</th>\n",
       "      <th>UK_tok</th>\n",
       "    </tr>\n",
       "  </thead>\n",
       "  <tbody>\n",
       "    <tr>\n",
       "      <th>39</th>\n",
       "      <td>cold a004 a005 fr bateman x5580</td>\n",
       "      <td></td>\n",
       "      <td></td>\n",
       "      <td></td>\n",
       "      <td>fr, a005, a004</td>\n",
       "    </tr>\n",
       "    <tr>\n",
       "      <th>260</th>\n",
       "      <td>fabricate_metal access cover 28 x 38 1/2 hem f...</td>\n",
       "      <td></td>\n",
       "      <td></td>\n",
       "      <td></td>\n",
       "      <td>metal, 28, 38, access, fabricated metal, fabri...</td>\n",
       "    </tr>\n",
       "    <tr>\n",
       "      <th>355</th>\n",
       "      <td>wet_carpet rm 114</td>\n",
       "      <td></td>\n",
       "      <td></td>\n",
       "      <td></td>\n",
       "      <td>114, wet_carpet</td>\n",
       "    </tr>\n",
       "    <tr>\n",
       "      <th>616</th>\n",
       "      <td>b349-mod-345b b367-mod-363b a368-mod-362b</td>\n",
       "      <td></td>\n",
       "      <td></td>\n",
       "      <td></td>\n",
       "      <td></td>\n",
       "    </tr>\n",
       "    <tr>\n",
       "      <th>631</th>\n",
       "      <td>cut_hole latch plate const_shop cut_hole latch...</td>\n",
       "      <td></td>\n",
       "      <td></td>\n",
       "      <td></td>\n",
       "      <td>latch plate const_shop, cut_hole, plate const_...</td>\n",
       "    </tr>\n",
       "    <tr>\n",
       "      <th>742</th>\n",
       "      <td>a_wing hot</td>\n",
       "      <td></td>\n",
       "      <td></td>\n",
       "      <td></td>\n",
       "      <td>a_w</td>\n",
       "    </tr>\n",
       "    <tr>\n",
       "      <th>875</th>\n",
       "      <td>humidty high b331</td>\n",
       "      <td></td>\n",
       "      <td></td>\n",
       "      <td></td>\n",
       "      <td>b331, humidty</td>\n",
       "    </tr>\n",
       "    <tr>\n",
       "      <th>897</th>\n",
       "      <td>air_conditioner whistle_noise a259</td>\n",
       "      <td></td>\n",
       "      <td></td>\n",
       "      <td></td>\n",
       "      <td>air_conditioner, whistle_noise, a259</td>\n",
       "    </tr>\n",
       "    <tr>\n",
       "      <th>1159</th>\n",
       "      <td>return blow pull 117 action_take reverse_rotat...</td>\n",
       "      <td></td>\n",
       "      <td></td>\n",
       "      <td></td>\n",
       "      <td>117, work_properly, reverse_rotation, e_fan, p...</td>\n",
       "    </tr>\n",
       "    <tr>\n",
       "      <th>1575</th>\n",
       "      <td>north_side exterior air_intake cover plate damage</td>\n",
       "      <td></td>\n",
       "      <td></td>\n",
       "      <td></td>\n",
       "      <td>north_side, air_intake, damage, exterior air_i...</td>\n",
       "    </tr>\n",
       "    <tr>\n",
       "      <th>1763</th>\n",
       "      <td>humidty real high b217</td>\n",
       "      <td></td>\n",
       "      <td></td>\n",
       "      <td></td>\n",
       "      <td>b217, humidty, real</td>\n",
       "    </tr>\n",
       "    <tr>\n",
       "      <th>1805</th>\n",
       "      <td>humidty high rm f-013</td>\n",
       "      <td></td>\n",
       "      <td></td>\n",
       "      <td></td>\n",
       "      <td>humidty</td>\n",
       "    </tr>\n",
       "    <tr>\n",
       "      <th>4463</th>\n",
       "      <td>cut plate signalshop action_take frabracat plate</td>\n",
       "      <td></td>\n",
       "      <td></td>\n",
       "      <td></td>\n",
       "      <td>cut, cut plate, plate</td>\n",
       "    </tr>\n",
       "    <tr>\n",
       "      <th>4869</th>\n",
       "      <td>open hand_valve e-01 loop open loop</td>\n",
       "      <td></td>\n",
       "      <td></td>\n",
       "      <td></td>\n",
       "      <td>hand_valve, loop, e-01</td>\n",
       "    </tr>\n",
       "    <tr>\n",
       "      <th>4932</th>\n",
       "      <td>retrieve datum_logger roon a836 retrieve data ...</td>\n",
       "      <td></td>\n",
       "      <td></td>\n",
       "      <td></td>\n",
       "      <td>june, logger, datum_logg, datum, retrieve, -pr...</td>\n",
       "    </tr>\n",
       "    <tr>\n",
       "      <th>5429</th>\n",
       "      <td>gym hot -PRON-_say -PRON- ext.2594 start acu_e...</td>\n",
       "      <td></td>\n",
       "      <td></td>\n",
       "      <td></td>\n",
       "      <td>-pron-_say, -pron-, poc_michael, gym, acu_e2, ...</td>\n",
       "    </tr>\n",
       "    <tr>\n",
       "      <th>7672</th>\n",
       "      <td>wds not_respond wds_alarm zone nr restore_comm...</td>\n",
       "      <td></td>\n",
       "      <td></td>\n",
       "      <td></td>\n",
       "      <td>not_respond, nr, wds, restore_communication, w...</td>\n",
       "    </tr>\n",
       "    <tr>\n",
       "      <th>8348</th>\n",
       "      <td>cut_metal stop crane action_take metal stop cut</td>\n",
       "      <td></td>\n",
       "      <td></td>\n",
       "      <td></td>\n",
       "      <td>stop, cut, crane, metal, cut_metal</td>\n",
       "    </tr>\n",
       "    <tr>\n",
       "      <th>10962</th>\n",
       "      <td>hot 224/b261 action_take replace_diaphrgam onc...</td>\n",
       "      <td></td>\n",
       "      <td></td>\n",
       "      <td></td>\n",
       "      <td>replace_diaphrgam, once_receive</td>\n",
       "    </tr>\n",
       "    <tr>\n",
       "      <th>11510</th>\n",
       "      <td>receive low_temp hotwater_reheat p1&amp;2 p3&amp;4 act...</td>\n",
       "      <td></td>\n",
       "      <td></td>\n",
       "      <td></td>\n",
       "      <td>low_temp hotwater_reheat p1&amp;2, receive, hotwat...</td>\n",
       "    </tr>\n",
       "    <tr>\n",
       "      <th>11550</th>\n",
       "      <td>225-a342 hot action_take replace_diaphrgam</td>\n",
       "      <td></td>\n",
       "      <td></td>\n",
       "      <td></td>\n",
       "      <td>replace_diaphrgam, 225-a342</td>\n",
       "    </tr>\n",
       "    <tr>\n",
       "      <th>12076</th>\n",
       "      <td>c001 c002 hot action_take see_15 16364</td>\n",
       "      <td></td>\n",
       "      <td></td>\n",
       "      <td></td>\n",
       "      <td>see_15, c001, c001 c002, c002</td>\n",
       "    </tr>\n",
       "    <tr>\n",
       "      <th>12096</th>\n",
       "      <td>fan_fail ahu_4 1 action_take reset_freezestat</td>\n",
       "      <td></td>\n",
       "      <td></td>\n",
       "      <td></td>\n",
       "      <td>reset_freezestat, ahu_4, fan_fail ahu_4, fan_fail</td>\n",
       "    </tr>\n",
       "    <tr>\n",
       "      <th>12662</th>\n",
       "      <td>220-b240 hot m_slip 29843</td>\n",
       "      <td></td>\n",
       "      <td></td>\n",
       "      <td></td>\n",
       "      <td>m_slip, 220-b240</td>\n",
       "    </tr>\n",
       "    <tr>\n",
       "      <th>12666</th>\n",
       "      <td>101-a225 hot</td>\n",
       "      <td></td>\n",
       "      <td></td>\n",
       "      <td></td>\n",
       "      <td>101-a225</td>\n",
       "    </tr>\n",
       "    <tr>\n",
       "      <th>12700</th>\n",
       "      <td>re40pair flex 215 ahu-103 ef-101a b</td>\n",
       "      <td></td>\n",
       "      <td></td>\n",
       "      <td></td>\n",
       "      <td>215, flex</td>\n",
       "    </tr>\n",
       "    <tr>\n",
       "      <th>13070</th>\n",
       "      <td>230/113 water_pump</td>\n",
       "      <td></td>\n",
       "      <td></td>\n",
       "      <td></td>\n",
       "      <td>water_pump</td>\n",
       "    </tr>\n",
       "    <tr>\n",
       "      <th>14287</th>\n",
       "      <td>recover_refrigerant recover_refrigerant</td>\n",
       "      <td></td>\n",
       "      <td></td>\n",
       "      <td></td>\n",
       "      <td>recover_refrigerant</td>\n",
       "    </tr>\n",
       "    <tr>\n",
       "      <th>14580</th>\n",
       "      <td>cut clock plate signal_shop cut fab diminsion ...</td>\n",
       "      <td></td>\n",
       "      <td></td>\n",
       "      <td></td>\n",
       "      <td>clock plate, clock, cut clock, plate signal_sh...</td>\n",
       "    </tr>\n",
       "    <tr>\n",
       "      <th>14713</th>\n",
       "      <td>put_away shhet metal stock put_away shop_stock...</td>\n",
       "      <td></td>\n",
       "      <td></td>\n",
       "      <td></td>\n",
       "      <td>organize, put_away, shop_stock, stock, metal</td>\n",
       "    </tr>\n",
       "    <tr>\n",
       "      <th>16393</th>\n",
       "      <td>freestat trip -PRON- jump_out</td>\n",
       "      <td></td>\n",
       "      <td></td>\n",
       "      <td></td>\n",
       "      <td>trip, -pron-, jump_out, trip -pron-, freestat</td>\n",
       "    </tr>\n",
       "    <tr>\n",
       "      <th>16441</th>\n",
       "      <td>301-rm_a153 material store 18 plane handle fir...</td>\n",
       "      <td></td>\n",
       "      <td></td>\n",
       "      <td></td>\n",
       "      <td>store, material store, handle, material, 18, f...</td>\n",
       "    </tr>\n",
       "    <tr>\n",
       "      <th>16453</th>\n",
       "      <td>hot!!.</td>\n",
       "      <td></td>\n",
       "      <td></td>\n",
       "      <td></td>\n",
       "      <td></td>\n",
       "    </tr>\n",
       "    <tr>\n",
       "      <th>16728</th>\n",
       "      <td>221- entire c_wing hot f</td>\n",
       "      <td></td>\n",
       "      <td></td>\n",
       "      <td></td>\n",
       "      <td>c_w, 221-</td>\n",
       "    </tr>\n",
       "    <tr>\n",
       "      <th>16802</th>\n",
       "      <td>225-hv3 preheat leaking_by</td>\n",
       "      <td></td>\n",
       "      <td></td>\n",
       "      <td></td>\n",
       "      <td>preheat leaking_by, leaking_by, preheat</td>\n",
       "    </tr>\n",
       "  </tbody>\n",
       "</table>\n",
       "</div>"
      ],
      "text/plain": [
       "                                                 RawText Items Problem  \\\n",
       "39                       cold a004 a005 fr bateman x5580                 \n",
       "260    fabricate_metal access cover 28 x 38 1/2 hem f...                 \n",
       "355                                    wet_carpet rm 114                 \n",
       "616            b349-mod-345b b367-mod-363b a368-mod-362b                 \n",
       "631    cut_hole latch plate const_shop cut_hole latch...                 \n",
       "742                                           a_wing hot                 \n",
       "875                                    humidty high b331                 \n",
       "897                   air_conditioner whistle_noise a259                 \n",
       "1159   return blow pull 117 action_take reverse_rotat...                 \n",
       "1575   north_side exterior air_intake cover plate damage                 \n",
       "1763                              humidty real high b217                 \n",
       "1805                               humidty high rm f-013                 \n",
       "4463    cut plate signalshop action_take frabracat plate                 \n",
       "4869                 open hand_valve e-01 loop open loop                 \n",
       "4932   retrieve datum_logger roon a836 retrieve data ...                 \n",
       "5429   gym hot -PRON-_say -PRON- ext.2594 start acu_e...                 \n",
       "7672   wds not_respond wds_alarm zone nr restore_comm...                 \n",
       "8348     cut_metal stop crane action_take metal stop cut                 \n",
       "10962  hot 224/b261 action_take replace_diaphrgam onc...                 \n",
       "11510  receive low_temp hotwater_reheat p1&2 p3&4 act...                 \n",
       "11550         225-a342 hot action_take replace_diaphrgam                 \n",
       "12076             c001 c002 hot action_take see_15 16364                 \n",
       "12096      fan_fail ahu_4 1 action_take reset_freezestat                 \n",
       "12662                          220-b240 hot m_slip 29843                 \n",
       "12666                                       101-a225 hot                 \n",
       "12700                re40pair flex 215 ahu-103 ef-101a b                 \n",
       "13070                                 230/113 water_pump                 \n",
       "14287            recover_refrigerant recover_refrigerant                 \n",
       "14580  cut clock plate signal_shop cut fab diminsion ...                 \n",
       "14713  put_away shhet metal stock put_away shop_stock...                 \n",
       "16393                      freestat trip -PRON- jump_out                 \n",
       "16441  301-rm_a153 material store 18 plane handle fir...                 \n",
       "16453                                             hot!!.                 \n",
       "16728                           221- entire c_wing hot f                 \n",
       "16802                         225-hv3 preheat leaking_by                 \n",
       "\n",
       "      Solution                                             UK_tok  \n",
       "39                                                 fr, a005, a004  \n",
       "260             metal, 28, 38, access, fabricated metal, fabri...  \n",
       "355                                               114, wet_carpet  \n",
       "616                                                                \n",
       "631             latch plate const_shop, cut_hole, plate const_...  \n",
       "742                                                           a_w  \n",
       "875                                                 b331, humidty  \n",
       "897                          air_conditioner, whistle_noise, a259  \n",
       "1159            117, work_properly, reverse_rotation, e_fan, p...  \n",
       "1575            north_side, air_intake, damage, exterior air_i...  \n",
       "1763                                          b217, humidty, real  \n",
       "1805                                                      humidty  \n",
       "4463                                        cut, cut plate, plate  \n",
       "4869                                       hand_valve, loop, e-01  \n",
       "4932            june, logger, datum_logg, datum, retrieve, -pr...  \n",
       "5429            -pron-_say, -pron-, poc_michael, gym, acu_e2, ...  \n",
       "7672            not_respond, nr, wds, restore_communication, w...  \n",
       "8348                           stop, cut, crane, metal, cut_metal  \n",
       "10962                             replace_diaphrgam, once_receive  \n",
       "11510           low_temp hotwater_reheat p1&2, receive, hotwat...  \n",
       "11550                                 replace_diaphrgam, 225-a342  \n",
       "12076                               see_15, c001, c001 c002, c002  \n",
       "12096           reset_freezestat, ahu_4, fan_fail ahu_4, fan_fail  \n",
       "12662                                            m_slip, 220-b240  \n",
       "12666                                                    101-a225  \n",
       "12700                                                   215, flex  \n",
       "13070                                                  water_pump  \n",
       "14287                                         recover_refrigerant  \n",
       "14580           clock plate, clock, cut clock, plate signal_sh...  \n",
       "14713                organize, put_away, shop_stock, stock, metal  \n",
       "16393               trip, -pron-, jump_out, trip -pron-, freestat  \n",
       "16441           store, material store, handle, material, 18, f...  \n",
       "16453                                                              \n",
       "16728                                                   c_w, 221-  \n",
       "16802                     preheat leaking_by, leaking_by, preheat  "
      ]
     },
     "execution_count": 29,
     "metadata": {},
     "output_type": "execute_result"
    }
   ],
   "source": [
    "print(df_pred[(df_pred[['Items','Problem','Solution']]=='').all(axis=1)].shape[0])\n",
    "df_pred[(df_pred[['Items','Problem','Solution']]=='').all(axis=1)]"
   ]
  },
  {
   "cell_type": "code",
   "execution_count": 30,
   "metadata": {
    "collapsed": true
   },
   "outputs": [],
   "source": [
    "# save everything to disk\n",
    "df_pred.to_excel('hvac_tagged.xlsx')"
   ]
  },
  {
   "cell_type": "code",
   "execution_count": null,
   "metadata": {
    "collapsed": true
   },
   "outputs": [],
   "source": [
    "from itertools import chain\n",
    "from sklearn.preprocessing import MultiLabelBinarizer\n",
    "\n",
    "def get_relevant(df, col, topn=20):\n",
    "    \n",
    "    tags = [x[1][col].split(', ') for x in df.iterrows()]\n",
    "    binner = MultiLabelBinarizer().fit(tags)\n",
    "    vecs = binner.transform(tags)\n",
    "    counts = vecs.sum(axis=0)\n",
    "    relevant = [(binner.classes_[i], counts[i], vecs[:,i]) for i in counts.argsort()[-topn:][::-1]]\n",
    "    return relevant\n",
    "\n",
    "relevant = get_relevant(df_pred, 'Items', topn=100) +\\\n",
    "get_relevant(df_pred, 'Problem', topn=20) +\\\n",
    "get_relevant(df_pred, 'Solution', topn=10)\n",
    "print('e.g. ...')\n",
    "relevant[:10]"
   ]
  },
  {
   "cell_type": "code",
   "execution_count": 31,
   "metadata": {},
   "outputs": [
    {
     "data": {
      "text/html": [
       "<div>\n",
       "<style>\n",
       "    .dataframe thead tr:only-child th {\n",
       "        text-align: right;\n",
       "    }\n",
       "\n",
       "    .dataframe thead th {\n",
       "        text-align: left;\n",
       "    }\n",
       "\n",
       "    .dataframe tbody tr th {\n",
       "        vertical-align: top;\n",
       "    }\n",
       "</style>\n",
       "<table border=\"1\" class=\"dataframe\">\n",
       "  <thead>\n",
       "    <tr style=\"text-align: right;\">\n",
       "      <th></th>\n",
       "      <th>room</th>\n",
       "      <th>poc</th>\n",
       "      <th>temperature</th>\n",
       "      <th>building</th>\n",
       "      <th>thermostat</th>\n",
       "      <th>unit</th>\n",
       "      <th>air_conditioning_unit</th>\n",
       "      <th>air</th>\n",
       "      <th>customer</th>\n",
       "      <th>valve</th>\n",
       "      <th>...</th>\n",
       "      <th>down</th>\n",
       "      <th>replace</th>\n",
       "      <th>adjust</th>\n",
       "      <th>check</th>\n",
       "      <th>find</th>\n",
       "      <th>verify</th>\n",
       "      <th>calibrate</th>\n",
       "      <th>repair</th>\n",
       "      <th>reset</th>\n",
       "      <th>set</th>\n",
       "    </tr>\n",
       "  </thead>\n",
       "  <tbody>\n",
       "    <tr>\n",
       "      <th>0</th>\n",
       "      <td>0</td>\n",
       "      <td>0</td>\n",
       "      <td>0</td>\n",
       "      <td>0</td>\n",
       "      <td>0</td>\n",
       "      <td>0</td>\n",
       "      <td>0</td>\n",
       "      <td>0</td>\n",
       "      <td>0</td>\n",
       "      <td>0</td>\n",
       "      <td>...</td>\n",
       "      <td>0</td>\n",
       "      <td>1</td>\n",
       "      <td>1</td>\n",
       "      <td>0</td>\n",
       "      <td>0</td>\n",
       "      <td>0</td>\n",
       "      <td>0</td>\n",
       "      <td>0</td>\n",
       "      <td>1</td>\n",
       "      <td>0</td>\n",
       "    </tr>\n",
       "    <tr>\n",
       "      <th>1</th>\n",
       "      <td>0</td>\n",
       "      <td>0</td>\n",
       "      <td>0</td>\n",
       "      <td>0</td>\n",
       "      <td>0</td>\n",
       "      <td>0</td>\n",
       "      <td>0</td>\n",
       "      <td>0</td>\n",
       "      <td>0</td>\n",
       "      <td>0</td>\n",
       "      <td>...</td>\n",
       "      <td>0</td>\n",
       "      <td>0</td>\n",
       "      <td>1</td>\n",
       "      <td>0</td>\n",
       "      <td>0</td>\n",
       "      <td>0</td>\n",
       "      <td>0</td>\n",
       "      <td>1</td>\n",
       "      <td>1</td>\n",
       "      <td>0</td>\n",
       "    </tr>\n",
       "    <tr>\n",
       "      <th>2</th>\n",
       "      <td>0</td>\n",
       "      <td>0</td>\n",
       "      <td>0</td>\n",
       "      <td>0</td>\n",
       "      <td>0</td>\n",
       "      <td>0</td>\n",
       "      <td>0</td>\n",
       "      <td>0</td>\n",
       "      <td>0</td>\n",
       "      <td>0</td>\n",
       "      <td>...</td>\n",
       "      <td>0</td>\n",
       "      <td>0</td>\n",
       "      <td>1</td>\n",
       "      <td>0</td>\n",
       "      <td>0</td>\n",
       "      <td>0</td>\n",
       "      <td>0</td>\n",
       "      <td>1</td>\n",
       "      <td>0</td>\n",
       "      <td>0</td>\n",
       "    </tr>\n",
       "    <tr>\n",
       "      <th>3</th>\n",
       "      <td>0</td>\n",
       "      <td>0</td>\n",
       "      <td>0</td>\n",
       "      <td>0</td>\n",
       "      <td>0</td>\n",
       "      <td>0</td>\n",
       "      <td>0</td>\n",
       "      <td>0</td>\n",
       "      <td>0</td>\n",
       "      <td>0</td>\n",
       "      <td>...</td>\n",
       "      <td>0</td>\n",
       "      <td>0</td>\n",
       "      <td>1</td>\n",
       "      <td>0</td>\n",
       "      <td>0</td>\n",
       "      <td>0</td>\n",
       "      <td>0</td>\n",
       "      <td>1</td>\n",
       "      <td>1</td>\n",
       "      <td>0</td>\n",
       "    </tr>\n",
       "    <tr>\n",
       "      <th>4</th>\n",
       "      <td>1</td>\n",
       "      <td>0</td>\n",
       "      <td>1</td>\n",
       "      <td>0</td>\n",
       "      <td>0</td>\n",
       "      <td>0</td>\n",
       "      <td>0</td>\n",
       "      <td>0</td>\n",
       "      <td>0</td>\n",
       "      <td>0</td>\n",
       "      <td>...</td>\n",
       "      <td>0</td>\n",
       "      <td>0</td>\n",
       "      <td>0</td>\n",
       "      <td>1</td>\n",
       "      <td>0</td>\n",
       "      <td>0</td>\n",
       "      <td>0</td>\n",
       "      <td>0</td>\n",
       "      <td>0</td>\n",
       "      <td>0</td>\n",
       "    </tr>\n",
       "    <tr>\n",
       "      <th>5</th>\n",
       "      <td>0</td>\n",
       "      <td>0</td>\n",
       "      <td>0</td>\n",
       "      <td>0</td>\n",
       "      <td>0</td>\n",
       "      <td>0</td>\n",
       "      <td>0</td>\n",
       "      <td>0</td>\n",
       "      <td>0</td>\n",
       "      <td>0</td>\n",
       "      <td>...</td>\n",
       "      <td>0</td>\n",
       "      <td>0</td>\n",
       "      <td>1</td>\n",
       "      <td>0</td>\n",
       "      <td>0</td>\n",
       "      <td>0</td>\n",
       "      <td>0</td>\n",
       "      <td>1</td>\n",
       "      <td>1</td>\n",
       "      <td>0</td>\n",
       "    </tr>\n",
       "    <tr>\n",
       "      <th>6</th>\n",
       "      <td>1</td>\n",
       "      <td>0</td>\n",
       "      <td>0</td>\n",
       "      <td>0</td>\n",
       "      <td>0</td>\n",
       "      <td>0</td>\n",
       "      <td>0</td>\n",
       "      <td>0</td>\n",
       "      <td>0</td>\n",
       "      <td>0</td>\n",
       "      <td>...</td>\n",
       "      <td>0</td>\n",
       "      <td>1</td>\n",
       "      <td>0</td>\n",
       "      <td>1</td>\n",
       "      <td>1</td>\n",
       "      <td>0</td>\n",
       "      <td>0</td>\n",
       "      <td>0</td>\n",
       "      <td>0</td>\n",
       "      <td>0</td>\n",
       "    </tr>\n",
       "    <tr>\n",
       "      <th>7</th>\n",
       "      <td>0</td>\n",
       "      <td>0</td>\n",
       "      <td>0</td>\n",
       "      <td>0</td>\n",
       "      <td>0</td>\n",
       "      <td>1</td>\n",
       "      <td>0</td>\n",
       "      <td>0</td>\n",
       "      <td>0</td>\n",
       "      <td>0</td>\n",
       "      <td>...</td>\n",
       "      <td>0</td>\n",
       "      <td>0</td>\n",
       "      <td>1</td>\n",
       "      <td>0</td>\n",
       "      <td>0</td>\n",
       "      <td>0</td>\n",
       "      <td>0</td>\n",
       "      <td>1</td>\n",
       "      <td>1</td>\n",
       "      <td>0</td>\n",
       "    </tr>\n",
       "    <tr>\n",
       "      <th>8</th>\n",
       "      <td>0</td>\n",
       "      <td>0</td>\n",
       "      <td>0</td>\n",
       "      <td>0</td>\n",
       "      <td>0</td>\n",
       "      <td>0</td>\n",
       "      <td>0</td>\n",
       "      <td>0</td>\n",
       "      <td>0</td>\n",
       "      <td>0</td>\n",
       "      <td>...</td>\n",
       "      <td>0</td>\n",
       "      <td>0</td>\n",
       "      <td>1</td>\n",
       "      <td>0</td>\n",
       "      <td>1</td>\n",
       "      <td>0</td>\n",
       "      <td>0</td>\n",
       "      <td>0</td>\n",
       "      <td>0</td>\n",
       "      <td>0</td>\n",
       "    </tr>\n",
       "    <tr>\n",
       "      <th>9</th>\n",
       "      <td>1</td>\n",
       "      <td>0</td>\n",
       "      <td>1</td>\n",
       "      <td>0</td>\n",
       "      <td>0</td>\n",
       "      <td>0</td>\n",
       "      <td>0</td>\n",
       "      <td>0</td>\n",
       "      <td>0</td>\n",
       "      <td>0</td>\n",
       "      <td>...</td>\n",
       "      <td>0</td>\n",
       "      <td>0</td>\n",
       "      <td>0</td>\n",
       "      <td>0</td>\n",
       "      <td>0</td>\n",
       "      <td>0</td>\n",
       "      <td>0</td>\n",
       "      <td>1</td>\n",
       "      <td>0</td>\n",
       "      <td>0</td>\n",
       "    </tr>\n",
       "  </tbody>\n",
       "</table>\n",
       "<p>10 rows × 127 columns</p>\n",
       "</div>"
      ],
      "text/plain": [
       "   room  poc  temperature  building  thermostat  unit  air_conditioning_unit  \\\n",
       "0     0    0            0         0           0     0                      0   \n",
       "1     0    0            0         0           0     0                      0   \n",
       "2     0    0            0         0           0     0                      0   \n",
       "3     0    0            0         0           0     0                      0   \n",
       "4     1    0            1         0           0     0                      0   \n",
       "5     0    0            0         0           0     0                      0   \n",
       "6     1    0            0         0           0     0                      0   \n",
       "7     0    0            0         0           0     1                      0   \n",
       "8     0    0            0         0           0     0                      0   \n",
       "9     1    0            1         0           0     0                      0   \n",
       "\n",
       "   air  customer  valve ...   down  replace  adjust  check  find  verify  \\\n",
       "0    0         0      0 ...      0        1       1      0     0       0   \n",
       "1    0         0      0 ...      0        0       1      0     0       0   \n",
       "2    0         0      0 ...      0        0       1      0     0       0   \n",
       "3    0         0      0 ...      0        0       1      0     0       0   \n",
       "4    0         0      0 ...      0        0       0      1     0       0   \n",
       "5    0         0      0 ...      0        0       1      0     0       0   \n",
       "6    0         0      0 ...      0        1       0      1     1       0   \n",
       "7    0         0      0 ...      0        0       1      0     0       0   \n",
       "8    0         0      0 ...      0        0       1      0     1       0   \n",
       "9    0         0      0 ...      0        0       0      0     0       0   \n",
       "\n",
       "   calibrate  repair  reset  set  \n",
       "0          0       0      1    0  \n",
       "1          0       1      1    0  \n",
       "2          0       1      0    0  \n",
       "3          0       1      1    0  \n",
       "4          0       0      0    0  \n",
       "5          0       1      1    0  \n",
       "6          0       0      0    0  \n",
       "7          0       1      1    0  \n",
       "8          0       0      0    0  \n",
       "9          0       1      0    0  \n",
       "\n",
       "[10 rows x 127 columns]"
      ]
     },
     "execution_count": 31,
     "metadata": {},
     "output_type": "execute_result"
    }
   ],
   "source": [
    "event_df = pd.DataFrame(columns = [i[0] for i in relevant if i[0]!=u''], \n",
    "             data = np.array([i[2] for i in relevant if i[0]!=u'']).T)\n",
    "# plt.barh()\n",
    "event_df.head(10)"
   ]
  },
  {
   "cell_type": "code",
   "execution_count": 35,
   "metadata": {},
   "outputs": [
    {
     "data": {
      "text/html": [
       "<div>\n",
       "<style>\n",
       "    .dataframe thead tr:only-child th {\n",
       "        text-align: right;\n",
       "    }\n",
       "\n",
       "    .dataframe thead th {\n",
       "        text-align: left;\n",
       "    }\n",
       "\n",
       "    .dataframe tbody tr th {\n",
       "        vertical-align: top;\n",
       "    }\n",
       "</style>\n",
       "<table border=\"1\" class=\"dataframe\">\n",
       "  <thead>\n",
       "    <tr style=\"text-align: right;\">\n",
       "      <th></th>\n",
       "      <th>room</th>\n",
       "      <th>poc</th>\n",
       "      <th>temperature</th>\n",
       "      <th>building</th>\n",
       "      <th>thermostat</th>\n",
       "      <th>unit</th>\n",
       "      <th>air_conditioning_unit</th>\n",
       "      <th>air</th>\n",
       "      <th>customer</th>\n",
       "      <th>valve</th>\n",
       "      <th>...</th>\n",
       "      <th>down</th>\n",
       "      <th>replace</th>\n",
       "      <th>adjust</th>\n",
       "      <th>check</th>\n",
       "      <th>find</th>\n",
       "      <th>verify</th>\n",
       "      <th>calibrate</th>\n",
       "      <th>repair</th>\n",
       "      <th>reset</th>\n",
       "      <th>set</th>\n",
       "    </tr>\n",
       "    <tr>\n",
       "      <th>ReportDate</th>\n",
       "      <th></th>\n",
       "      <th></th>\n",
       "      <th></th>\n",
       "      <th></th>\n",
       "      <th></th>\n",
       "      <th></th>\n",
       "      <th></th>\n",
       "      <th></th>\n",
       "      <th></th>\n",
       "      <th></th>\n",
       "      <th></th>\n",
       "      <th></th>\n",
       "      <th></th>\n",
       "      <th></th>\n",
       "      <th></th>\n",
       "      <th></th>\n",
       "      <th></th>\n",
       "      <th></th>\n",
       "      <th></th>\n",
       "      <th></th>\n",
       "      <th></th>\n",
       "    </tr>\n",
       "  </thead>\n",
       "  <tbody>\n",
       "    <tr>\n",
       "      <th>2009-02-12 14:44:55</th>\n",
       "      <td>0</td>\n",
       "      <td>0</td>\n",
       "      <td>0</td>\n",
       "      <td>0</td>\n",
       "      <td>0</td>\n",
       "      <td>0</td>\n",
       "      <td>0</td>\n",
       "      <td>0</td>\n",
       "      <td>0</td>\n",
       "      <td>0</td>\n",
       "      <td>...</td>\n",
       "      <td>0</td>\n",
       "      <td>1</td>\n",
       "      <td>1</td>\n",
       "      <td>0</td>\n",
       "      <td>0</td>\n",
       "      <td>0</td>\n",
       "      <td>0</td>\n",
       "      <td>0</td>\n",
       "      <td>1</td>\n",
       "      <td>0</td>\n",
       "    </tr>\n",
       "    <tr>\n",
       "      <th>2009-02-15 23:25:01</th>\n",
       "      <td>0</td>\n",
       "      <td>0</td>\n",
       "      <td>0</td>\n",
       "      <td>0</td>\n",
       "      <td>0</td>\n",
       "      <td>0</td>\n",
       "      <td>0</td>\n",
       "      <td>0</td>\n",
       "      <td>0</td>\n",
       "      <td>0</td>\n",
       "      <td>...</td>\n",
       "      <td>0</td>\n",
       "      <td>0</td>\n",
       "      <td>1</td>\n",
       "      <td>0</td>\n",
       "      <td>0</td>\n",
       "      <td>0</td>\n",
       "      <td>0</td>\n",
       "      <td>1</td>\n",
       "      <td>1</td>\n",
       "      <td>0</td>\n",
       "    </tr>\n",
       "    <tr>\n",
       "      <th>2009-02-17 04:20:08</th>\n",
       "      <td>0</td>\n",
       "      <td>0</td>\n",
       "      <td>0</td>\n",
       "      <td>0</td>\n",
       "      <td>0</td>\n",
       "      <td>0</td>\n",
       "      <td>0</td>\n",
       "      <td>0</td>\n",
       "      <td>0</td>\n",
       "      <td>0</td>\n",
       "      <td>...</td>\n",
       "      <td>0</td>\n",
       "      <td>0</td>\n",
       "      <td>1</td>\n",
       "      <td>0</td>\n",
       "      <td>0</td>\n",
       "      <td>0</td>\n",
       "      <td>0</td>\n",
       "      <td>1</td>\n",
       "      <td>0</td>\n",
       "      <td>0</td>\n",
       "    </tr>\n",
       "    <tr>\n",
       "      <th>2009-02-17 04:22:38</th>\n",
       "      <td>0</td>\n",
       "      <td>0</td>\n",
       "      <td>0</td>\n",
       "      <td>0</td>\n",
       "      <td>0</td>\n",
       "      <td>0</td>\n",
       "      <td>0</td>\n",
       "      <td>0</td>\n",
       "      <td>0</td>\n",
       "      <td>0</td>\n",
       "      <td>...</td>\n",
       "      <td>0</td>\n",
       "      <td>0</td>\n",
       "      <td>1</td>\n",
       "      <td>0</td>\n",
       "      <td>0</td>\n",
       "      <td>0</td>\n",
       "      <td>0</td>\n",
       "      <td>1</td>\n",
       "      <td>1</td>\n",
       "      <td>0</td>\n",
       "    </tr>\n",
       "    <tr>\n",
       "      <th>2009-02-17 04:26:15</th>\n",
       "      <td>1</td>\n",
       "      <td>0</td>\n",
       "      <td>1</td>\n",
       "      <td>0</td>\n",
       "      <td>0</td>\n",
       "      <td>0</td>\n",
       "      <td>0</td>\n",
       "      <td>0</td>\n",
       "      <td>0</td>\n",
       "      <td>0</td>\n",
       "      <td>...</td>\n",
       "      <td>0</td>\n",
       "      <td>0</td>\n",
       "      <td>0</td>\n",
       "      <td>1</td>\n",
       "      <td>0</td>\n",
       "      <td>0</td>\n",
       "      <td>0</td>\n",
       "      <td>0</td>\n",
       "      <td>0</td>\n",
       "      <td>0</td>\n",
       "    </tr>\n",
       "  </tbody>\n",
       "</table>\n",
       "<p>5 rows × 127 columns</p>\n",
       "</div>"
      ],
      "text/plain": [
       "                     room  poc  temperature  building  thermostat  unit  \\\n",
       "ReportDate                                                                \n",
       "2009-02-12 14:44:55     0    0            0         0           0     0   \n",
       "2009-02-15 23:25:01     0    0            0         0           0     0   \n",
       "2009-02-17 04:20:08     0    0            0         0           0     0   \n",
       "2009-02-17 04:22:38     0    0            0         0           0     0   \n",
       "2009-02-17 04:26:15     1    0            1         0           0     0   \n",
       "\n",
       "                     air_conditioning_unit  air  customer  valve ...   down  \\\n",
       "ReportDate                                                       ...          \n",
       "2009-02-12 14:44:55                      0    0         0      0 ...      0   \n",
       "2009-02-15 23:25:01                      0    0         0      0 ...      0   \n",
       "2009-02-17 04:20:08                      0    0         0      0 ...      0   \n",
       "2009-02-17 04:22:38                      0    0         0      0 ...      0   \n",
       "2009-02-17 04:26:15                      0    0         0      0 ...      0   \n",
       "\n",
       "                     replace  adjust  check  find  verify  calibrate  repair  \\\n",
       "ReportDate                                                                     \n",
       "2009-02-12 14:44:55        1       1      0     0       0          0       0   \n",
       "2009-02-15 23:25:01        0       1      0     0       0          0       1   \n",
       "2009-02-17 04:20:08        0       1      0     0       0          0       1   \n",
       "2009-02-17 04:22:38        0       1      0     0       0          0       1   \n",
       "2009-02-17 04:26:15        0       0      1     0       0          0       0   \n",
       "\n",
       "                     reset  set  \n",
       "ReportDate                       \n",
       "2009-02-12 14:44:55      1    0  \n",
       "2009-02-15 23:25:01      1    0  \n",
       "2009-02-17 04:20:08      0    0  \n",
       "2009-02-17 04:22:38      1    0  \n",
       "2009-02-17 04:26:15      0    0  \n",
       "\n",
       "[5 rows x 127 columns]"
      ]
     },
     "execution_count": 35,
     "metadata": {},
     "output_type": "execute_result"
    }
   ],
   "source": [
    "og_data = df.set_index(['ReportDate'])\n",
    "event_df.index = og_data.index\n",
    "event_df.index = pd.to_datetime(event_df.index, errors='coerce')\n",
    "event_df.head()"
   ]
  },
  {
   "cell_type": "code",
   "execution_count": 36,
   "metadata": {
    "code_folding": [
     24,
     195
    ],
    "collapsed": true
   },
   "outputs": [],
   "source": [
    "\"\"\"\n",
    "Calendar heatmaps from Pandas time series data.\n",
    "Plot Pandas time series data sampled by day in a heatmap per calendar year,\n",
    "similar to GitHub's contributions calendar.\n",
    "\n",
    "adapted from:\n",
    "    'Martijn Vermaat' 14 Feb 2016\n",
    "    'martijn@vermaat.name'\n",
    "    'https://github.com/martijnvermaat/calmap'\n",
    "\"\"\"\n",
    "from __future__ import unicode_literals\n",
    "\n",
    "import calendar\n",
    "import datetime\n",
    "\n",
    "from matplotlib.colors import ColorConverter, ListedColormap\n",
    "import matplotlib.pyplot as plt\n",
    "import numpy as np\n",
    "import pandas as pd\n",
    "from distutils.version import StrictVersion\n",
    "\n",
    "_pandas_18 = StrictVersion(pd.__version__) >= StrictVersion('0.18')\n",
    "\n",
    "\n",
    "def yearplot(data, year=None, how='sum', vmin=None, vmax=None, cmap='Reds',\n",
    "             fillcolor='whitesmoke', linewidth=1, linecolor=None,\n",
    "             daylabels=calendar.day_abbr[:], dayticks=True,\n",
    "             monthlabels=calendar.month_abbr[1:], monthticks=True, ax=None,\n",
    "             **kwargs):\n",
    "    \"\"\"\n",
    "    Plot one year from a timeseries as a calendar heatmap.\n",
    "    Parameters\n",
    "    ----------\n",
    "    data : Series\n",
    "        Data for the plot. Must be indexed by a DatetimeIndex.\n",
    "    year : integer\n",
    "        Only data indexed by this year will be plotted. If `None`, the first\n",
    "        year for which there is data will be plotted.\n",
    "    how : string\n",
    "        Method for resampling data by day. If `None`, assume data is already\n",
    "        sampled by day and don't resample. Otherwise, this is passed to Pandas\n",
    "        `Series.resample`.\n",
    "    vmin, vmax : floats\n",
    "        Values to anchor the colormap. If `None`, min and max are used after\n",
    "        resampling data by day.\n",
    "    cmap : matplotlib colormap name or object\n",
    "        The mapping from data values to color space.\n",
    "    fillcolor : matplotlib color\n",
    "        Color to use for days without data.\n",
    "    linewidth : float\n",
    "        Width of the lines that will divide each day.\n",
    "    linecolor : color\n",
    "        Color of the lines that will divide each day. If `None`, the axes\n",
    "        background color is used, or 'white' if it is transparent.\n",
    "    daylabels : list\n",
    "        Strings to use as labels for days, must be of length 7.\n",
    "    dayticks : list or int or bool\n",
    "        If `True`, label all days. If `False`, don't label days. If a list,\n",
    "        only label days with these indices. If an integer, label every n day.\n",
    "    monthlabels : list\n",
    "        Strings to use as labels for months, must be of length 12.\n",
    "    monthticks : list or int or bool\n",
    "        If `True`, label all months. If `False`, don't label months. If a\n",
    "        list, only label months with these indices. If an integer, label every\n",
    "        n month.\n",
    "    ax : matplotlib Axes\n",
    "        Axes in which to draw the plot, otherwise use the currently-active\n",
    "        Axes.\n",
    "    kwargs : other keyword arguments\n",
    "        All other keyword arguments are passed to matplotlib `ax.pcolormesh`.\n",
    "    Returns\n",
    "    -------\n",
    "    ax : matplotlib Axes\n",
    "        Axes object with the calendar heatmap.\n",
    "    Examples\n",
    "    --------\n",
    "    By default, `yearplot` plots the first year and sums the values per day:\n",
    "    .. plot::\n",
    "        :context: close-figs\n",
    "        calmap.yearplot(events)\n",
    "    We can choose which year is plotted with the `year` keyword argment:\n",
    "    .. plot::\n",
    "        :context: close-figs\n",
    "        calmap.yearplot(events, year=2015)\n",
    "    The appearance can be changed by using another colormap. Here we also use\n",
    "    a darker fill color for days without data and remove the lines:\n",
    "    .. plot::\n",
    "        :context: close-figs\n",
    "        calmap.yearplot(events, cmap='YlGn', fillcolor='grey',\n",
    "                        linewidth=0)\n",
    "    The axis tick labels can look a bit crowded. We can ask to draw only every\n",
    "    nth label, or explicitely supply the label indices. The labels themselves\n",
    "    can also be customized:\n",
    "    .. plot::\n",
    "        :context: close-figs\n",
    "        calmap.yearplot(events, monthticks=3, daylabels='MTWTFSS',\n",
    "                        dayticks=[0, 2, 4, 6])\n",
    "    \"\"\"\n",
    "    if year is None:\n",
    "        year = data.index.sort_values()[0].year\n",
    "\n",
    "    if how is None:\n",
    "        # Assume already sampled by day.\n",
    "        by_day = data\n",
    "    else:\n",
    "        # Sample by day.\n",
    "        if _pandas_18:\n",
    "            by_day = data.resample('W').agg(how)\n",
    "        else:\n",
    "            by_day = data.resample('W', how=how)\n",
    "    \n",
    "    \n",
    "    # Min and max per day.\n",
    "    if vmin is None:\n",
    "        vmin = by_day.min().min()\n",
    "    if vmax is None:\n",
    "        vmax = by_day.max().max()\n",
    "\n",
    "    if ax is None:\n",
    "        ax = plt.gca()\n",
    "\n",
    "    if linecolor is None:\n",
    "        # Unfortunately, linecolor cannot be transparent, as it is drawn on\n",
    "        # top of the heatmap cells. Therefore it is only possible to mimic\n",
    "        # transparent lines by setting them to the axes background color. This\n",
    "        # of course won't work when the axes itself has a transparent\n",
    "        # background so in that case we default to white which will usually be\n",
    "        # the figure or canvas background color.\n",
    "        #linecolor = ax.get_axis_bgcolor()\n",
    "        linecolor = ax.get_facecolor()\n",
    "\n",
    "        if ColorConverter().to_rgba(linecolor)[-1] == 0:\n",
    "            linecolor = 'white'\n",
    "    \n",
    "    # Filter on year.\n",
    "    by_day = by_day[by_day.index.year==year]\n",
    "    dat_names = by_day.columns\n",
    "    \n",
    "    pd.options.mode.chained_assignment = None  # default='warn'\n",
    "    by_day['week'] = by_day.index.week\n",
    "    \n",
    "    # Add missing days.\n",
    "    by_day = by_day.reindex(\n",
    "        pd.date_range(start=str(year), end=str(year + 1), freq='W')[:-1])\n",
    "    # There may be some days assigned to previous year's last week or\n",
    "    # next year's first week. We create new week numbers for them so\n",
    "    # the ordering stays intact and week/day pairs unique.\n",
    "    by_day.loc[(by_day.index.month == 1) & (by_day.week > 50), 'week'] = 0\n",
    "    by_day.loc[(by_day.index.month == 12) & (by_day.week < 10), 'week'] \\\n",
    "        = by_day.week.max() + 1\n",
    "    \n",
    "    plot_data = by_day[dat_names].transpose().fillna(0)\n",
    "\n",
    "    # Draw heatmap.\n",
    "    kwargs['linewidth'] = linewidth\n",
    "    kwargs['edgecolors'] = linecolor\n",
    "    ax.pcolormesh(plot_data,\n",
    "                  #vmin=vmin, vmax=vmax, \n",
    "                  cmap=cmap, **kwargs)\n",
    "    # Limit heatmap to our data.\n",
    "    ax.set(xlim=(0, plot_data.shape[1]), ylim=(0, plot_data.shape[0]))\n",
    "\n",
    "    # Square cells.\n",
    "    ax.set_aspect('equal')\n",
    "\n",
    "    # Remove spines and ticks.\n",
    "    for side in ('top', 'right', 'left', 'bottom'):\n",
    "        ax.spines[side].set_visible(False)\n",
    "    ax.xaxis.set_tick_params(which='both', length=0)\n",
    "    ax.yaxis.set_tick_params(which='both', length=0)\n",
    "\n",
    "    # Get indices for monthlabels.\n",
    "    if monthticks is True:\n",
    "        monthticks = range(len(monthlabels))\n",
    "    elif monthticks is False:\n",
    "        monthticks = []\n",
    "    elif isinstance(monthticks, int):\n",
    "        monthticks = range(len(monthlabels))[monthticks // 2::monthticks]\n",
    "\n",
    "        \n",
    "    ax.set_xlabel('')\n",
    "    #ax.set_xticks([by_day.ix[datetime.date(year, i + 1, 15)].week for i in monthticks])\n",
    "    \n",
    "    ax.set_xticks([pd.Timestamp('{}/15/{}'.format(i, year)).week-1.5 for i in range(1,13)])\n",
    "    ax.set_xticklabels([monthlabels[i] for i in monthticks], ha='center')\n",
    "    \n",
    "\n",
    "    ax.set_ylabel('')\n",
    "    ax.yaxis.set_ticks_position('right')\n",
    "    ax.set_yticks([dat_names.shape[0] - i - .5  for i in range(dat_names.shape[0])])\n",
    "    ax.set_yticklabels(dat_names[::-1], rotation='horizontal',\n",
    "                       va='center')\n",
    "\n",
    "    return ax\n",
    "\n",
    "def calendarplot(data, how='sum', yearlabels=True, yearascending=True, yearlabel_kws=None,\n",
    "                 subplot_kws=None, gridspec_kws=None, fig_kws=None, **kwargs):\n",
    "    \"\"\"\n",
    "    Plot a timeseries as a calendar heatmap.\n",
    "    Parameters\n",
    "    ----------\n",
    "    data : Series\n",
    "        Data for the plot. Must be indexed by a DatetimeIndex.\n",
    "    how : string\n",
    "        Method for resampling data by day. If `None`, assume data is already\n",
    "        sampled by day and don't resample. Otherwise, this is passed to Pandas\n",
    "        `Series.resample`.\n",
    "    yearlabels : bool\n",
    "       Whether or not to draw the year for each subplot.\n",
    "    yearascending : bool\n",
    "       Sort the calendar in ascending or descending order.\n",
    "    yearlabel_kws : dict\n",
    "       Keyword arguments passed to the matplotlib `set_ylabel` call which is\n",
    "       used to draw the year for each subplot.\n",
    "    subplot_kws : dict\n",
    "        Keyword arguments passed to the matplotlib `add_subplot` call used to\n",
    "        create each subplot.\n",
    "    gridspec_kws : dict\n",
    "        Keyword arguments passed to the matplotlib `GridSpec` constructor used\n",
    "        to create the grid the subplots are placed on.\n",
    "    fig_kws : dict\n",
    "        Keyword arguments passed to the matplotlib `figure` call.\n",
    "    kwargs : other keyword arguments\n",
    "        All other keyword arguments are passed to `yearplot`.\n",
    "    Returns\n",
    "    -------\n",
    "    fig, axes : matplotlib Figure and Axes\n",
    "        Tuple where `fig` is the matplotlib Figure object `axes` is an array\n",
    "        of matplotlib Axes objects with the calendar heatmaps, one per year.\n",
    "    Examples\n",
    "    --------\n",
    "    With `calendarplot` we can plot several years in one figure:\n",
    "    .. plot::\n",
    "        :context: close-figs\n",
    "        calmap.calendarplot(events)\n",
    "    \"\"\"\n",
    "    yearlabel_kws = yearlabel_kws or {}\n",
    "    subplot_kws = subplot_kws or {}\n",
    "    gridspec_kws = gridspec_kws or {}\n",
    "    fig_kws = fig_kws or {}\n",
    "\n",
    "    years = np.unique(data.index.year)\n",
    "    if not yearascending:\n",
    "        years = years[::-1]\n",
    "\n",
    "    fig, axes = plt.subplots(nrows=len(years), ncols=1, squeeze=False,\n",
    "                             subplot_kw=subplot_kws,\n",
    "                             gridspec_kw=gridspec_kws, **fig_kws)\n",
    "    axes = axes.T[0]\n",
    "\n",
    "    # We explicitely resample by day only once. This is an optimization.\n",
    "    if how is None:\n",
    "        by_day = data\n",
    "    else:\n",
    "        if _pandas_18:\n",
    "            by_day = data.resample('W').agg(how)\n",
    "        else:\n",
    "            by_day = data.resample('W', how=how)\n",
    "        # normalize to unit norm\n",
    "    by_day = by_day/np.sqrt(np.square(by_day).sum(axis=0))\n",
    "    \n",
    "    ylabel_kws = dict(\n",
    "        fontsize=32,\n",
    "        color=kwargs.get('fillcolor', 'xkcd:wheat'),\n",
    "        fontweight='bold',\n",
    "        fontname='Arial',\n",
    "        ha='center')\n",
    "    ylabel_kws.update(yearlabel_kws)\n",
    "\n",
    "    max_weeks = 0\n",
    "\n",
    "    for year, ax in zip(years, axes):\n",
    "        yearplot(by_day, year=year, how=None, ax=ax, **kwargs)\n",
    "        max_weeks = max(max_weeks, ax.get_xlim()[1])\n",
    "\n",
    "        if yearlabels:\n",
    "            ax.set_ylabel(str(year), **ylabel_kws)\n",
    "\n",
    "    # In a leap year it might happen that we have 54 weeks (e.g., 2012).\n",
    "    # Here we make sure the width is consistent over all years.\n",
    "    for ax in axes:\n",
    "        ax.set_xlim(0, max_weeks)\n",
    "\n",
    "    # Make the axes look good.\n",
    "    plt.tight_layout()\n",
    "\n",
    "    return fig, axes\n"
   ]
  },
  {
   "cell_type": "code",
   "execution_count": 37,
   "metadata": {
    "scrolled": false
   },
   "outputs": [
    {
     "data": {
      "text/plain": [
       "<matplotlib.text.Text at 0x7f184d1e98d0>"
      ]
     },
     "execution_count": 37,
     "metadata": {},
     "output_type": "execute_result"
    },
    {
     "data": {
      "image/png": "[encoded data removed]",
      "text/plain": [
       "<matplotlib.figure.Figure at 0x7f184f83b668>"
      ]
     },
     "metadata": {},
     "output_type": "display_data"
    }
   ],
   "source": [
    "calendarplot(event_df[['leak',\n",
    "                       'valve',\n",
    "                       'noisy',\n",
    "                       'too_hot',\n",
    "                       'too_cold'\n",
    "                       ]],\n",
    "             how='sum', fig_kws={'figsize':(13,20)});\n",
    "plt.suptitle('Relative Tag Occurrence Density by Month')"
   ]
  },
  {
   "cell_type": "code",
   "execution_count": 38,
   "metadata": {},
   "outputs": [
    {
     "data": {
      "text/plain": [
       "<matplotlib.text.Text at 0x7f1847318160>"
      ]
     },
     "execution_count": 38,
     "metadata": {},
     "output_type": "execute_result"
    },
    {
     "data": {
      "image/png": "[encoded data removed]",
      "text/plain": [
       "<matplotlib.figure.Figure at 0x7f1846c27e80>"
      ]
     },
     "metadata": {},
     "output_type": "display_data"
    }
   ],
   "source": [
    "calendarplot(event_df[['leak',\n",
    "                       'repair',\n",
    "                       'poc',\n",
    "                       'too_hot',\n",
    "                       'too_cold'\n",
    "                       ]][event_df.index.year.isin([2009, 2010, 2016])],\n",
    "             how='sum', fig_kws={'figsize':(13,5)});\n",
    "plt.suptitle('Relative Tag Occurrence Density by Month')"
   ]
  },
  {
   "cell_type": "code",
   "execution_count": 39,
   "metadata": {},
   "outputs": [
    {
     "data": {
      "text/html": [
       "<div>\n",
       "<style>\n",
       "    .dataframe thead tr:only-child th {\n",
       "        text-align: right;\n",
       "    }\n",
       "\n",
       "    .dataframe thead th {\n",
       "        text-align: left;\n",
       "    }\n",
       "\n",
       "    .dataframe tbody tr th {\n",
       "        vertical-align: top;\n",
       "    }\n",
       "</style>\n",
       "<table border=\"1\" class=\"dataframe\">\n",
       "  <thead>\n",
       "    <tr style=\"text-align: right;\">\n",
       "      <th></th>\n",
       "      <th>Customer_POC</th>\n",
       "    </tr>\n",
       "  </thead>\n",
       "  <tbody>\n",
       "    <tr>\n",
       "      <th>poc</th>\n",
       "      <td>3074</td>\n",
       "    </tr>\n",
       "    <tr>\n",
       "      <th>room</th>\n",
       "      <td>993</td>\n",
       "    </tr>\n",
       "    <tr>\n",
       "      <th>adjust</th>\n",
       "      <td>936</td>\n",
       "    </tr>\n",
       "    <tr>\n",
       "      <th>customer</th>\n",
       "      <td>840</td>\n",
       "    </tr>\n",
       "    <tr>\n",
       "      <th>too_hot</th>\n",
       "      <td>767</td>\n",
       "    </tr>\n",
       "    <tr>\n",
       "      <th>replace</th>\n",
       "      <td>737</td>\n",
       "    </tr>\n",
       "    <tr>\n",
       "      <th>find</th>\n",
       "      <td>736</td>\n",
       "    </tr>\n",
       "    <tr>\n",
       "      <th>too_cold</th>\n",
       "      <td>706</td>\n",
       "    </tr>\n",
       "    <tr>\n",
       "      <th>thermostat</th>\n",
       "      <td>705</td>\n",
       "    </tr>\n",
       "    <tr>\n",
       "      <th>building</th>\n",
       "      <td>617</td>\n",
       "    </tr>\n",
       "    <tr>\n",
       "      <th>verify</th>\n",
       "      <td>599</td>\n",
       "    </tr>\n",
       "    <tr>\n",
       "      <th>check</th>\n",
       "      <td>580</td>\n",
       "    </tr>\n",
       "    <tr>\n",
       "      <th>temperature</th>\n",
       "      <td>564</td>\n",
       "    </tr>\n",
       "    <tr>\n",
       "      <th>request</th>\n",
       "      <td>368</td>\n",
       "    </tr>\n",
       "    <tr>\n",
       "      <th>point</th>\n",
       "      <td>366</td>\n",
       "    </tr>\n",
       "    <tr>\n",
       "      <th>unit</th>\n",
       "      <td>364</td>\n",
       "    </tr>\n",
       "    <tr>\n",
       "      <th>air</th>\n",
       "      <td>347</td>\n",
       "    </tr>\n",
       "    <tr>\n",
       "      <th>check_request</th>\n",
       "      <td>333</td>\n",
       "    </tr>\n",
       "    <tr>\n",
       "      <th>air_conditioning_unit</th>\n",
       "      <td>329</td>\n",
       "    </tr>\n",
       "    <tr>\n",
       "      <th>calibrate</th>\n",
       "      <td>328</td>\n",
       "    </tr>\n",
       "  </tbody>\n",
       "</table>\n",
       "</div>"
      ],
      "text/plain": [
       "                       Customer_POC\n",
       "poc                            3074\n",
       "room                            993\n",
       "adjust                          936\n",
       "customer                        840\n",
       "too_hot                         767\n",
       "replace                         737\n",
       "find                            736\n",
       "too_cold                        706\n",
       "thermostat                      705\n",
       "building                        617\n",
       "verify                          599\n",
       "check                           580\n",
       "temperature                     564\n",
       "request                         368\n",
       "point                           366\n",
       "unit                            364\n",
       "air                             347\n",
       "check_request                   333\n",
       "air_conditioning_unit           329\n",
       "calibrate                       328"
      ]
     },
     "execution_count": 39,
     "metadata": {},
     "output_type": "execute_result"
    }
   ],
   "source": [
    "event_df[event_df.poc==1].sum().to_frame(name='Customer_POC').sort_values('Customer_POC', \n",
    "                                                                                   ascending=False).iloc[:20] \n"
   ]
  },
  {
   "cell_type": "code",
   "execution_count": 40,
   "metadata": {},
   "outputs": [
    {
     "data": {
      "text/plain": [
       "<matplotlib.text.Text at 0x7f184f3992e8>"
      ]
     },
     "execution_count": 40,
     "metadata": {},
     "output_type": "execute_result"
    },
    {
     "data": {
      "image/png": "[encoded data removed]",
      "text/plain": [
       "<matplotlib.figure.Figure at 0x7f184e3e1b38>"
      ]
     },
     "metadata": {},
     "output_type": "display_data"
    }
   ],
   "source": [
    "week_df = event_df.resample('M').agg(sum).fillna(0)\n",
    "plt.hist(week_df['repair'].values, bins='auto')\n",
    "plt.title('No. Repairs per Month')"
   ]
  },
  {
   "cell_type": "code",
   "execution_count": 41,
   "metadata": {},
   "outputs": [
    {
     "data": {
      "text/plain": [
       "<matplotlib.text.Text at 0x7f184c54b908>"
      ]
     },
     "execution_count": 41,
     "metadata": {},
     "output_type": "execute_result"
    },
    {
     "data": {
      "image/png": "[encoded data removed]",
      "text/plain": [
       "<matplotlib.figure.Figure at 0x7f184d76d898>"
      ]
     },
     "metadata": {},
     "output_type": "display_data"
    }
   ],
   "source": [
    "weekly_replace = event_df[(event_df['leak']==1) &\\\n",
    "                          ((event_df['motor']==1)|\\\n",
    "                           (event_df['coil']==1)|\\\n",
    "                           (event_df['water']==1))].resample('W').agg(sum).fillna(0)\n",
    "calendarplot(weekly_replace[[\n",
    "                             'leak',\n",
    "#                              'steam',\n",
    "                             'motor',\n",
    "                             'air',\n",
    "                             'coil'\n",
    "                            ]], \n",
    "             fig_kws={'figsize':(14,20)});\n",
    "plt.title('Tag Co-occurrence with \"broken\" and \"replace\", by Month')"
   ]
  },
  {
   "cell_type": "code",
   "execution_count": 42,
   "metadata": {
    "scrolled": false
   },
   "outputs": [
    {
     "name": "stdout",
     "output_type": "stream",
     "text": [
      "valve leak:\t20.72 days\n",
      "coil leak:\t71.64 days\n",
      "expected interarrival time:\n"
     ]
    },
    {
     "data": {
      "text/plain": [
       "<matplotlib.legend.Legend at 0x7f184d53e438>"
      ]
     },
     "execution_count": 42,
     "metadata": {},
     "output_type": "execute_result"
    },
    {
     "data": {
      "image/png": "[encoded data removed]",
      "text/plain": [
       "<matplotlib.figure.Figure at 0x7f184f8176a0>"
      ]
     },
     "metadata": {},
     "output_type": "display_data"
    }
   ],
   "source": [
    "from scipy.stats import norm, expon\n",
    "# def get_fail_iat(event_df, tag):\n",
    "#     fail_time_valve = event_df[(event_df['broken']==1) & (event_df['replace']==1) & (event_df[tag]==1)]\n",
    "#     fail_time_valve['date']=fail_time_valve.index\n",
    "#     fail_time_valve.index = range(fail_time_valve.shape[0])\n",
    "#     iat_valve = fail_time_valve['date']-fail_time_valve.shift()['date']\n",
    "#     return iat_valve\n",
    "\n",
    "def get_fail_iat(events, cond, *tags):\n",
    "\n",
    "#     print events[events[list(tags)].all(axis=1)].shape\n",
    "#     print events[cond].shape\n",
    "    fail_time = events[(cond)&(events[list(tags)].all(axis=1))]\n",
    "    fail_time = fail_time.assign(date = fail_time.index)\n",
    "    \n",
    "#     fail_time = fail_time.set_index(range(fail_time.shape[0]))\n",
    "#     print fail_time.index, fail_time.shift().index\n",
    "    iat = fail_time['date']-fail_time.shift()['date']\n",
    "#     iat = fail_time.index - fail_time.shift().index\n",
    "#     print iat\n",
    "    return iat\n",
    "\n",
    "cond = (event_df['leak']==1)&(event_df[['water', 'air']].any(axis=1))\n",
    "\n",
    "def hist_vs_exp(events, cond, *tags, **plot_args):\n",
    "    color = plot_args.get('color', 'k')\n",
    "    dat = (get_fail_iat(events, cond, *tags)/ pd.Timedelta(days=1)).values[1:]\n",
    "    \n",
    "    plt.hist(dat, label=', '.join(tags), normed=True, bins='auto', color=color, histtype='stepfilled', alpha=.2)\n",
    "    \n",
    "   \n",
    "    print('{} leak:\\t{:.2f} days'.format(', '.join(tags), dat.mean()))\n",
    "    plt.plot(range(int(max(dat.tolist()+[0]))), \n",
    "             expon(scale=dat.mean()).pdf(np.arange(int(max(dat.tolist()+[0])))),\n",
    "             color=color)\n",
    "\n",
    "plt.figure(figsize=(8,5))\n",
    "plt.title('Failure Interarrival Time Distributions\\n (with parametrized comparison)')\n",
    "hist_vs_exp(event_df, cond, 'valve', color='orange')\n",
    "# hist_vs_exp(event_df, cond, 'too_cold', color='forestgreen')\n",
    "hist_vs_exp(event_df, cond, 'coil', color='dodgerblue')\n",
    "\n",
    "plt.xlabel('no. days')\n",
    "print('expected interarrival time:')\n",
    "plt.grid(b=False)\n",
    "plt.legend()\n",
    "\n",
    "\n",
    "# plt.text(40, 0.03, r'$\\delta_f(\\mathrm{valve})\\sim\\mathrm{Exp}(26.1)$',\n",
    "#          fontsize=12)\n",
    "# plt.text(40, 0.02, r'$\\delta_f(\\mathrm{diaphragm})\\sim\\mathrm{Exp}(17.9)$',\n",
    "#          fontsize=12)"
   ]
  },
  {
   "cell_type": "code",
   "execution_count": 43,
   "metadata": {},
   "outputs": [
    {
     "data": {
      "text/plain": [
       "array(['ACU-1', 'ACU-8', 'ACU-18', 'ACU-1B', 'ACU-4', 'ACU-2A', 'ACU-3',\n",
       "       'ACU-10', 'ACU-11', 'ACU-1A', 'ACU-C5', 'ACU-7', 'ACU-5', 'ACU-C2',\n",
       "       'ACU-26', 'ACU-30', 'ACU-6', 'ACU-9', 'ACU-2', 'ACU-12', 'ACU-B1',\n",
       "       'ACU-B5', 'ACU-10A', 'ACU-19', 'ACU-A1', 'ACU-A4', 'ACU-25',\n",
       "       'ACU-17', 'ACU-C3', 'ACU-A6', 'ACU-A2', 'ACU-E4', 'ACU-B4',\n",
       "       'ACU-E2', 'ACU-7A', 'ACU-15', 'ACU-OCR-1', 'ACU-20', 'ACU-13',\n",
       "       'ACU-14A', 'ACU-22', 'ACU-C4', 'ACU-2-GG', 'ACU-27', 'ACU-B2',\n",
       "       'ACU-33', 'ACU-A15', 'ACU-14', 'ACU-16', 'ACU-4A', 'ACU-E3',\n",
       "       'ACU-A5', 'ACU-B6', 'ACU-A3', 'ACU-28', 'ACU-C1', 'ACU-B7',\n",
       "       'ACU-B8', 'ACU-24', 'ACU-E1', 'ACU-21', 'ACU-2C', 'ACU-6A',\n",
       "       'ACU-24A', 'ACU-31', 'ACU-B3', 'ACU-6B', 'ACU-24B'], dtype=object)"
      ]
     },
     "execution_count": 43,
     "metadata": {},
     "output_type": "execute_result"
    }
   ],
   "source": [
    "df.AssetID.dropna()[df.AssetID.str.contains('ACU-').dropna()].unique()"
   ]
  },
  {
   "cell_type": "code",
   "execution_count": 44,
   "metadata": {},
   "outputs": [
    {
     "data": {
      "text/plain": [
       "Building\n",
       "101    33\n",
       "202     8\n",
       "205     5\n",
       "207     1\n",
       "215     1\n",
       "218     2\n",
       "220    20\n",
       "221    17\n",
       "222     9\n",
       "223    13\n",
       "224    14\n",
       "225    28\n",
       "226    16\n",
       "227     8\n",
       "230     3\n",
       "231     8\n",
       "233     3\n",
       "235    16\n",
       "236     1\n",
       "237     2\n",
       "245    23\n",
       "301    11\n",
       "303     2\n",
       "304     9\n",
       "309     1\n",
       "312     1\n",
       "318     1\n",
       "411     1\n",
       "Name: AssetID, dtype: int64"
      ]
     },
     "execution_count": 44,
     "metadata": {},
     "output_type": "execute_result"
    }
   ],
   "source": [
    "df.dropna()[df.dropna().AssetID.str.contains('ACU-')].groupby('Building').AssetID.nunique()"
   ]
  },
  {
   "cell_type": "markdown",
   "metadata": {},
   "source": [
    "### Parameter estimation\n",
    "Below, suppose random variable ''X'' is exponentially distributed with rate parameter $\\lambda$, and $x_1, \\dotsc, x_n$ are ''n'' independent samples from ''X'', with sample mean $\\bar{x}$.\n",
    "\n",
    "#### Maximum likelihood\n",
    "The Likelihood function for λ, given an independent identically-distributed random variables sample $x = \\{x_1, \\cdots, x_n\\}$ drawn from the variable, is:\n",
    "\n",
    "$$L(\\lambda) = \\prod_{i=1}^n \\lambda \\exp(-\\lambda x_i) = \\lambda^n \\exp \\left(-\\lambda \\sum_{i=1}^n x_i\\right)=\\lambda^n\\exp\\left(-\\lambda n \\overline{x}\\right)$$\n",
    "\n",
    "where:\n",
    "\n",
    "$$\\overline{x}={1 \\over n}\\sum_{i=1}^n x_i$$\n",
    "\n",
    "is the sample mean.\n",
    "\n",
    "Consequently, the maximum likelihood estimate for the rate parameter is:\n",
    "\n",
    "$$\\widehat{\\lambda} = \\frac{1}{\\overline{x}} = \\frac{n}{\\sum_i x_i}$$\n",
    "\n",
    "\n",
    "Although this is not an unbiased estimator of $\\lambda$, $\\overline{x}$ is an unbiased MLE estimator of $\\frac{1}{\\lambda} = \\beta$ where $\\beta$ is exponential dist. scale parameter\n"
   ]
  },
  {
   "cell_type": "code",
   "execution_count": 325,
   "metadata": {
    "scrolled": true
   },
   "outputs": [
    {
     "data": {
      "application/vnd.jupyter.widget-view+json": {
       "model_id": "aee0a84589104d8f9ad59137e5624c8c"
      }
     },
     "metadata": {},
     "output_type": "display_data"
    },
    {
     "data": {
      "application/vnd.jupyter.widget-view+json": {
       "model_id": "67e573766ade4dcfacc47b24d8e1096b"
      }
     },
     "metadata": {},
     "output_type": "display_data"
    },
    {
     "data": {
      "application/vnd.jupyter.widget-view+json": {
       "model_id": "343d7974dfc9430db034cb2e05ead091"
      }
     },
     "metadata": {},
     "output_type": "display_data"
    },
    {
     "data": {
      "application/vnd.jupyter.widget-view+json": {
       "model_id": "dd5f25e3a66d4d4b977d0873071c8b40"
      }
     },
     "metadata": {},
     "output_type": "display_data"
    },
    {
     "data": {
      "application/vnd.jupyter.widget-view+json": {
       "model_id": "f19945cbcaea4eedb83b97acc33286cf"
      }
     },
     "metadata": {},
     "output_type": "display_data"
    },
    {
     "data": {
      "application/vnd.jupyter.widget-view+json": {
       "model_id": "13589ab34d3345dbb756fdccc6d07780"
      }
     },
     "metadata": {},
     "output_type": "display_data"
    },
    {
     "data": {
      "application/vnd.jupyter.widget-view+json": {
       "model_id": "a8b06c60a5274905bcdfb5c0b17e4f57"
      }
     },
     "metadata": {},
     "output_type": "display_data"
    },
    {
     "data": {
      "application/vnd.jupyter.widget-view+json": {
       "model_id": "1e7da023b5a64189a98c934f7949f953"
      }
     },
     "metadata": {},
     "output_type": "display_data"
    },
    {
     "data": {
      "application/vnd.jupyter.widget-view+json": {
       "model_id": "b739876dafed419293676256400bcaf2"
      }
     },
     "metadata": {},
     "output_type": "display_data"
    },
    {
     "data": {
      "application/vnd.jupyter.widget-view+json": {
       "model_id": "431947231fe642caa86fcec8d0c1117e"
      }
     },
     "metadata": {},
     "output_type": "display_data"
    },
    {
     "data": {
      "application/vnd.jupyter.widget-view+json": {
       "model_id": "44b6cf569b25476f80f9fe008433768e"
      }
     },
     "metadata": {},
     "output_type": "display_data"
    },
    {
     "data": {
      "application/vnd.jupyter.widget-view+json": {
       "model_id": "a308f8e8ab284ac1afc4140344fb75b9"
      }
     },
     "metadata": {},
     "output_type": "display_data"
    },
    {
     "data": {
      "application/vnd.jupyter.widget-view+json": {
       "model_id": "b2365b94d84b4f47a6a3429f860c9faf"
      }
     },
     "metadata": {},
     "output_type": "display_data"
    },
    {
     "data": {
      "application/vnd.jupyter.widget-view+json": {
       "model_id": "3c963687d68840c89e8b6a0cbb112bd7"
      }
     },
     "metadata": {},
     "output_type": "display_data"
    },
    {
     "data": {
      "application/vnd.jupyter.widget-view+json": {
       "model_id": "6b429a560fe44c25895009b13ce75364"
      }
     },
     "metadata": {},
     "output_type": "display_data"
    },
    {
     "data": {
      "application/vnd.jupyter.widget-view+json": {
       "model_id": "cce07fd69733492884f026d811b16417"
      }
     },
     "metadata": {},
     "output_type": "display_data"
    },
    {
     "data": {
      "application/vnd.jupyter.widget-view+json": {
       "model_id": "f582c7e7a72d48a3aaa40b96565eb952"
      }
     },
     "metadata": {},
     "output_type": "display_data"
    },
    {
     "data": {
      "application/vnd.jupyter.widget-view+json": {
       "model_id": "d28ebd716db441738de74d4139fb95c8"
      }
     },
     "metadata": {},
     "output_type": "display_data"
    },
    {
     "data": {
      "application/vnd.jupyter.widget-view+json": {
       "model_id": "f0f13c3138fe46178d190c593ace2128"
      }
     },
     "metadata": {},
     "output_type": "display_data"
    },
    {
     "data": {
      "application/vnd.jupyter.widget-view+json": {
       "model_id": "c750d7ccb8dd4718957ae2525968741f"
      }
     },
     "metadata": {},
     "output_type": "display_data"
    },
    {
     "data": {
      "application/vnd.jupyter.widget-view+json": {
       "model_id": "31fe190da72f4ce18981512470431d55"
      }
     },
     "metadata": {},
     "output_type": "display_data"
    },
    {
     "data": {
      "application/vnd.jupyter.widget-view+json": {
       "model_id": "62c39a81692740f3a06204fd50006473"
      }
     },
     "metadata": {},
     "output_type": "display_data"
    },
    {
     "data": {
      "application/vnd.jupyter.widget-view+json": {
       "model_id": "b9c1a01887304564930e4b6d68264e4a"
      }
     },
     "metadata": {},
     "output_type": "display_data"
    },
    {
     "data": {
      "application/vnd.jupyter.widget-view+json": {
       "model_id": "f63f48c6970249e38449ad6d726273db"
      }
     },
     "metadata": {},
     "output_type": "display_data"
    },
    {
     "data": {
      "application/vnd.jupyter.widget-view+json": {
       "model_id": "ce56fe040bd84c7db20e93e8afdb93a8"
      }
     },
     "metadata": {},
     "output_type": "display_data"
    },
    {
     "data": {
      "application/vnd.jupyter.widget-view+json": {
       "model_id": "aae23e22790e49008d53a2e9ce00427d"
      }
     },
     "metadata": {},
     "output_type": "display_data"
    },
    {
     "data": {
      "application/vnd.jupyter.widget-view+json": {
       "model_id": "649397c8f9184a0cbc691d6aea7f23a1"
      }
     },
     "metadata": {},
     "output_type": "display_data"
    },
    {
     "data": {
      "application/vnd.jupyter.widget-view+json": {
       "model_id": "c197e84fe9204309b200c48017f9dbe8"
      }
     },
     "metadata": {},
     "output_type": "display_data"
    },
    {
     "data": {
      "application/vnd.jupyter.widget-view+json": {
       "model_id": "728dc17f847b4fc9a4cd6c43b0f386dd"
      }
     },
     "metadata": {},
     "output_type": "display_data"
    },
    {
     "data": {
      "application/vnd.jupyter.widget-view+json": {
       "model_id": "72adf69a7d7a4c4c98df209ba428b919"
      }
     },
     "metadata": {},
     "output_type": "display_data"
    },
    {
     "data": {
      "application/vnd.jupyter.widget-view+json": {
       "model_id": "b5e6ca568c8c4cfbaa58b20271fe408d"
      }
     },
     "metadata": {},
     "output_type": "display_data"
    },
    {
     "data": {
      "application/vnd.jupyter.widget-view+json": {
       "model_id": "6bb2eded361a4beda89ab3868ea954e6"
      }
     },
     "metadata": {},
     "output_type": "display_data"
    },
    {
     "data": {
      "application/vnd.jupyter.widget-view+json": {
       "model_id": "864a98f89304487d88aaa191e976a5cc"
      }
     },
     "metadata": {},
     "output_type": "display_data"
    },
    {
     "data": {
      "application/vnd.jupyter.widget-view+json": {
       "model_id": "65e7bfdcabb346acbd98e4dc4d934aaf"
      }
     },
     "metadata": {},
     "output_type": "display_data"
    },
    {
     "data": {
      "application/vnd.jupyter.widget-view+json": {
       "model_id": "6ec8304dbabe40e3a235de3ea25476f4"
      }
     },
     "metadata": {},
     "output_type": "display_data"
    },
    {
     "data": {
      "application/vnd.jupyter.widget-view+json": {
       "model_id": "8f62506669384744b550ed67d3460911"
      }
     },
     "metadata": {},
     "output_type": "display_data"
    },
    {
     "data": {
      "application/vnd.jupyter.widget-view+json": {
       "model_id": "77b4c39bde7a4ca980cda3429f8f7c7f"
      }
     },
     "metadata": {},
     "output_type": "display_data"
    },
    {
     "data": {
      "application/vnd.jupyter.widget-view+json": {
       "model_id": "ecf9f3aa29e84c399b35f872228df32a"
      }
     },
     "metadata": {},
     "output_type": "display_data"
    },
    {
     "data": {
      "application/vnd.jupyter.widget-view+json": {
       "model_id": "d4ea07f0dc854f43be233d062dc4f40a"
      }
     },
     "metadata": {},
     "output_type": "display_data"
    },
    {
     "data": {
      "application/vnd.jupyter.widget-view+json": {
       "model_id": "9cb8ffd95dea4e49aeb28c302f020ca7"
      }
     },
     "metadata": {},
     "output_type": "display_data"
    },
    {
     "data": {
      "application/vnd.jupyter.widget-view+json": {
       "model_id": "d0404c626a81485dacf0fc150537a145"
      }
     },
     "metadata": {},
     "output_type": "display_data"
    },
    {
     "data": {
      "application/vnd.jupyter.widget-view+json": {
       "model_id": "52a148b286734112bee84911d3b4a660"
      }
     },
     "metadata": {},
     "output_type": "display_data"
    },
    {
     "data": {
      "application/vnd.jupyter.widget-view+json": {
       "model_id": "c4f52e13285b4825af22d3809acb9920"
      }
     },
     "metadata": {},
     "output_type": "display_data"
    },
    {
     "data": {
      "application/vnd.jupyter.widget-view+json": {
       "model_id": "c35a8ee952264548af0daa83d717e42b"
      }
     },
     "metadata": {},
     "output_type": "display_data"
    },
    {
     "data": {
      "application/vnd.jupyter.widget-view+json": {
       "model_id": "cfc10805482d4ce2b6e3fea21d1d4b38"
      }
     },
     "metadata": {},
     "output_type": "display_data"
    },
    {
     "data": {
      "application/vnd.jupyter.widget-view+json": {
       "model_id": "54fe966eee514b05bec3cd1b5458c154"
      }
     },
     "metadata": {},
     "output_type": "display_data"
    },
    {
     "name": "stdout",
     "output_type": "stream",
     "text": [
      "\n"
     ]
    },
    {
     "data": {
      "application/vnd.jupyter.widget-view+json": {
       "model_id": "84c3fa6593c04cc587f97bacd6404a23"
      }
     },
     "metadata": {},
     "output_type": "display_data"
    },
    {
     "name": "stdout",
     "output_type": "stream",
     "text": [
      "\n"
     ]
    }
   ],
   "source": [
    "\n",
    "# cond = (event_df['leak']==1)&(event_df[['water','steam']].any(axis=1))\n",
    "from scipy.stats import hmean\n",
    "\n",
    "hsum = lambda a: a.shape[0]/a.sum()  # reciprocal of sum of reciprocals\n",
    "\n",
    "def fail_iat(events, cond, *tags, pand=True):\n",
    "    MIAT = {}\n",
    "    if pand: \n",
    "        tups = []\n",
    "        vals = np.array([])\n",
    "        lams = []\n",
    "    for bldg in tqdm_notebook(df.Building.unique(), desc='Bldg. Loop'):\n",
    "        \n",
    "#         acu_names = df[df.Building==bldg].AssetID.dropna()[df.AssetID.str.contains('ACU-').dropna()].unique()\n",
    "        acu_names = df[df.Building==bldg].AssetID.dropna().unique()\n",
    "\n",
    "        if acu_names.shape[0]==0:\n",
    "            continue\n",
    "#         MIAT[bldg] = {}\n",
    "\n",
    "        new_cond = (cond)&\\\n",
    "            (og_data.Building==bldg)\n",
    "    #         hist_vs_exp(event_df, cond, 'valve')\n",
    "        dat = (get_fail_iat(events, new_cond, *tags)/ pd.Timedelta(weeks=1)).values[1:]\n",
    "        if dat.shape[0]==0:\n",
    "            continue\n",
    "        MIAT[bldg] = dat\n",
    "        if pand:\n",
    "            tups += [(bldg, i) for i in range(dat.shape[0])]\n",
    "            vals = np.append(vals,dat)\n",
    "            lams += dat.shape[0]*[hsum(dat)]\n",
    "#             lams += dat.shape[0]*[(1/np.median(dat)).sum()]\n",
    "    if pand: \n",
    "        index = pd.MultiIndex.from_tuples(tups, names=[\"bldg\", 'n'])\n",
    "        exp_df = pd.DataFrame({'IAT':vals, 'Event Rate':lams}, index=index)\n",
    "        return exp_df\n",
    "    else:\n",
    "        return MIAT\n",
    "\n",
    "def machine_fail_iat(events, cond, *tags, pand=True, clip_low=0.15):\n",
    "    MIAT = {}\n",
    "    if pand: \n",
    "        tups = []\n",
    "        vals = np.array([])\n",
    "        lams = []\n",
    "    for bldg in tqdm_notebook(df.Building.unique(), desc='Bldg. Loop'):\n",
    "        \n",
    "#         acu_names = df[df.Building==bldg].AssetID.dropna()[df.AssetID.str.contains('ACU-').dropna()].unique()\n",
    "        acu_names = df[df.Building==bldg].AssetID.dropna().unique()\n",
    "\n",
    "        if acu_names.shape[0]==0:\n",
    "            continue\n",
    "        MIAT[bldg] = {}\n",
    "        for mID in tqdm_notebook(acu_names, \n",
    "                                 desc='Asset Loop', leave=False):\n",
    "            new_cond = (cond)&\\\n",
    "                (og_data.Building==bldg)&\\\n",
    "                (og_data.AssetID==mID)\n",
    "    #         hist_vs_exp(event_df, cond, 'valve')\n",
    "            dat = (get_fail_iat(events, new_cond, *tags)/ pd.Timedelta(weeks=1)).values[1:]\n",
    "            if dat.shape[0]==0:\n",
    "                continue\n",
    "            MIAT[bldg][mID] = dat\n",
    "            if pand:\n",
    "                tups += [(bldg, mID, i) for i in range(dat.shape[0])]\n",
    "                vals = np.append(vals,dat)\n",
    "                lams += dat.shape[0]*[hsum(dat.clip(min=clip_low))]\n",
    "#                 lams += dat.shape[0]*[(1/np.median(dat)).sum()]\n",
    "    if pand: \n",
    "        index = pd.MultiIndex.from_tuples(tups, names=[\"bldg\", 'acu', 'n'])\n",
    "        exp_df = pd.DataFrame({'IAT':vals, 'Fail Rate':lams}, index=index)\n",
    "        return exp_df\n",
    "    else:\n",
    "        return MIAT\n",
    "\n",
    "# cond = (event_df['leak']==1)&(event_df[['motor','coil', 'water']].any(axis=1))\n",
    "# cond = (event_df['leak']==1)&(event_df[['water', 'air']].any(axis=1))\n",
    "\n",
    "# cond = (event_df['too_hot']==1)|(event_df['too_cold']==1)\n",
    "cond = event_df['leak']==1\n",
    "# cond = event_df.any(axis=1)\n",
    "mach_exp_df = machine_fail_iat(event_df, cond)\n",
    "even_exp_df = fail_iat(event_df, cond)\n",
    "# plt.legend()"
   ]
  },
  {
   "cell_type": "code",
   "execution_count": 334,
   "metadata": {},
   "outputs": [
    {
     "name": "stderr",
     "output_type": "stream",
     "text": [
      "/home/tbsexton/anaconda3/lib/python3.6/site-packages/ipykernel/kernelbase.py:399: PerformanceWarning: indexing past lexsort depth may impact performance.\n",
      "  user_expressions, allow_stdin)\n"
     ]
    },
    {
     "data": {
      "text/plain": [
       "(0, 0.05)"
      ]
     },
     "execution_count": 334,
     "metadata": {},
     "output_type": "execute_result"
    },
    {
     "data": {
      "image/png": "[encoded data removed]",
      "text/plain": [
       "<matplotlib.figure.Figure at 0x7f17f03b2ac8>"
      ]
     },
     "metadata": {},
     "output_type": "display_data"
    }
   ],
   "source": [
    "# plt.figure(figsize=(12,1))\n",
    "exp_df = mach_exp_df.copy()\n",
    "exp_df.loc[:,'IAT'] = exp_df['IAT'].clip_lower(.15) # cant be less than ~ 1 day\n",
    "\n",
    "sns.factorplot(y='bldg', x='IAT', data=exp_df.reset_index(),\n",
    "               kind='bar', aspect=1, orient='h', size=7, estimator=hsum)\n",
    "plt.axvline(x=exp_df['Fail Rate'].median(), c='r', zorder=0, label='median')\n",
    "plt.xlim(0,0.05)\n",
    "# plt.xscale('log')"
   ]
  },
  {
   "cell_type": "code",
   "execution_count": 350,
   "metadata": {},
   "outputs": [
    {
     "data": {
      "text/plain": [
       "<matplotlib.legend.Legend at 0x7f17ef29eb70>"
      ]
     },
     "execution_count": 350,
     "metadata": {},
     "output_type": "execute_result"
    },
    {
     "data": {
      "image/png": "[encoded data removed]",
      "text/plain": [
       "<matplotlib.figure.Figure at 0x7f17ef30b3c8>"
      ]
     },
     "metadata": {},
     "output_type": "display_data"
    }
   ],
   "source": [
    "sns.factorplot(x='bldg', y='IAT', data=exp_df.reset_index(),\n",
    "               kind='bar', aspect=3, estimator=hsum)\n",
    "# plt.yscale('log')\n",
    "plt.axhline(y=exp_df['Fail Rate'].median(), c='r', zorder=0, label='median')\n",
    "plt.title('Expected \"leak\" Work-requests\\n per-week; by Bldg. over all ACUs')\n",
    "plt.ylim(0,0.05)\n",
    "plt.ylabel('Fails/wk')\n",
    "plt.legend()"
   ]
  },
  {
   "cell_type": "code",
   "execution_count": 349,
   "metadata": {},
   "outputs": [
    {
     "data": {
      "text/plain": [
       "<matplotlib.text.Text at 0x7f17ef1dd630>"
      ]
     },
     "execution_count": 349,
     "metadata": {},
     "output_type": "execute_result"
    },
    {
     "data": {
      "image/png": "[encoded data removed]",
      "text/plain": [
       "<matplotlib.figure.Figure at 0x7f17ef303710>"
      ]
     },
     "metadata": {},
     "output_type": "display_data"
    }
   ],
   "source": [
    "sns.factorplot(y='acu', x='IAT', data=exp_df.loc['226'].reset_index(),\n",
    "               kind='bar', size=7,aspect=1, sharex=False, orient='h', estimator=hsum)\n",
    "plt.title('Expected \"leak\" Work-requests\\n per-week; Bldg 226')\n",
    "\n",
    "plt.xlabel('Fails/wk')"
   ]
  },
  {
   "cell_type": "code",
   "execution_count": 273,
   "metadata": {},
   "outputs": [
    {
     "data": {
      "application/vnd.jupyter.widget-view+json": {
       "model_id": "72516c4c28cf445b9293f96c8e1242bc"
      }
     },
     "metadata": {},
     "output_type": "display_data"
    },
    {
     "name": "stdout",
     "output_type": "stream",
     "text": [
      "\n"
     ]
    },
    {
     "data": {
      "text/plain": [
       "<matplotlib.text.Text at 0x7f17fb96b320>"
      ]
     },
     "execution_count": 273,
     "metadata": {},
     "output_type": "execute_result"
    },
    {
     "data": {
      "image/png": "[encoded data removed]",
      "text/plain": [
       "<matplotlib.figure.Figure at 0x7f17fb9b0f60>"
      ]
     },
     "metadata": {},
     "output_type": "display_data"
    }
   ],
   "source": [
    "cond = (event_df['too_hot']==1)|(event_df['too_cold']==1)\n",
    "# cond = event_df.any(axis=1)\n",
    "exp_df = fail_iat(event_df, cond)\n",
    "# sns.factorplot(y='bldg', x='IAT', data=exp_df.reset_index(),\n",
    "#                kind='point', aspect=.6, estimator=hsum, orient='h', size=10, join=False)\n",
    "sns.factorplot(y='bldg', x='IAT', data=exp_df.reset_index(),\n",
    "               kind='bar', aspect=.6, estimator=hsum, orient='h', size=10)\n",
    "# plt.yscale('log')\n",
    "plt.axvline(x=exp_df['Event Rate'].median(), c='r', zorder=0, label='median')\n",
    "plt.title('Expected Temp. Adjustment Requests\\n per-week; by Bldg')\n",
    "plt.legend()\n",
    "plt.xlabel('Events/wk')"
   ]
  },
  {
   "cell_type": "markdown",
   "metadata": {},
   "source": [
    "## Taxonomy"
   ]
  },
  {
   "cell_type": "code",
   "execution_count": 135,
   "metadata": {
    "collapsed": true
   },
   "outputs": [],
   "source": [
    "itm_relevant = get_relevant(df_pred, 'Items', topn=500)\n",
    "itm_event = pd.DataFrame(columns = [i[0] for i in itm_relevant if i[0]!=u''], \n",
    "             data = np.array([i[2] for i in itm_relevant if i[0]!=u'']).T)\n"
   ]
  },
  {
   "cell_type": "code",
   "execution_count": 136,
   "metadata": {},
   "outputs": [
    {
     "data": {
      "text/html": [
       "<div>\n",
       "<style>\n",
       "    .dataframe thead tr:only-child th {\n",
       "        text-align: right;\n",
       "    }\n",
       "\n",
       "    .dataframe thead th {\n",
       "        text-align: left;\n",
       "    }\n",
       "\n",
       "    .dataframe tbody tr th {\n",
       "        vertical-align: top;\n",
       "    }\n",
       "</style>\n",
       "<table border=\"1\" class=\"dataframe\">\n",
       "  <thead>\n",
       "    <tr style=\"text-align: right;\">\n",
       "      <th></th>\n",
       "      <th>room</th>\n",
       "      <th>poc</th>\n",
       "      <th>temperature</th>\n",
       "      <th>building</th>\n",
       "      <th>thermostat</th>\n",
       "      <th>unit</th>\n",
       "      <th>air_conditioning_unit</th>\n",
       "      <th>air</th>\n",
       "      <th>customer</th>\n",
       "      <th>valve</th>\n",
       "      <th>...</th>\n",
       "      <th>moisture</th>\n",
       "      <th>housing</th>\n",
       "      <th>fitting</th>\n",
       "      <th>drill</th>\n",
       "      <th>bolt</th>\n",
       "      <th>wiring</th>\n",
       "      <th>heat_pump</th>\n",
       "      <th>battery</th>\n",
       "      <th>oil</th>\n",
       "      <th>coupling</th>\n",
       "    </tr>\n",
       "  </thead>\n",
       "  <tbody>\n",
       "    <tr>\n",
       "      <th>room</th>\n",
       "      <td>0</td>\n",
       "      <td>993</td>\n",
       "      <td>1532</td>\n",
       "      <td>1070</td>\n",
       "      <td>873</td>\n",
       "      <td>415</td>\n",
       "      <td>378</td>\n",
       "      <td>401</td>\n",
       "      <td>518</td>\n",
       "      <td>439</td>\n",
       "      <td>...</td>\n",
       "      <td>5</td>\n",
       "      <td>2</td>\n",
       "      <td>3</td>\n",
       "      <td>3</td>\n",
       "      <td>2</td>\n",
       "      <td>3</td>\n",
       "      <td>3</td>\n",
       "      <td>2</td>\n",
       "      <td>0</td>\n",
       "      <td>4</td>\n",
       "    </tr>\n",
       "    <tr>\n",
       "      <th>poc</th>\n",
       "      <td>993</td>\n",
       "      <td>0</td>\n",
       "      <td>564</td>\n",
       "      <td>617</td>\n",
       "      <td>705</td>\n",
       "      <td>364</td>\n",
       "      <td>329</td>\n",
       "      <td>347</td>\n",
       "      <td>840</td>\n",
       "      <td>291</td>\n",
       "      <td>...</td>\n",
       "      <td>3</td>\n",
       "      <td>3</td>\n",
       "      <td>1</td>\n",
       "      <td>0</td>\n",
       "      <td>3</td>\n",
       "      <td>1</td>\n",
       "      <td>5</td>\n",
       "      <td>2</td>\n",
       "      <td>1</td>\n",
       "      <td>2</td>\n",
       "    </tr>\n",
       "    <tr>\n",
       "      <th>temperature</th>\n",
       "      <td>1532</td>\n",
       "      <td>564</td>\n",
       "      <td>0</td>\n",
       "      <td>1116</td>\n",
       "      <td>487</td>\n",
       "      <td>233</td>\n",
       "      <td>212</td>\n",
       "      <td>225</td>\n",
       "      <td>306</td>\n",
       "      <td>193</td>\n",
       "      <td>...</td>\n",
       "      <td>3</td>\n",
       "      <td>1</td>\n",
       "      <td>1</td>\n",
       "      <td>1</td>\n",
       "      <td>0</td>\n",
       "      <td>0</td>\n",
       "      <td>1</td>\n",
       "      <td>4</td>\n",
       "      <td>0</td>\n",
       "      <td>0</td>\n",
       "    </tr>\n",
       "    <tr>\n",
       "      <th>building</th>\n",
       "      <td>1070</td>\n",
       "      <td>617</td>\n",
       "      <td>1116</td>\n",
       "      <td>0</td>\n",
       "      <td>450</td>\n",
       "      <td>268</td>\n",
       "      <td>217</td>\n",
       "      <td>230</td>\n",
       "      <td>292</td>\n",
       "      <td>204</td>\n",
       "      <td>...</td>\n",
       "      <td>2</td>\n",
       "      <td>1</td>\n",
       "      <td>3</td>\n",
       "      <td>2</td>\n",
       "      <td>3</td>\n",
       "      <td>0</td>\n",
       "      <td>4</td>\n",
       "      <td>0</td>\n",
       "      <td>1</td>\n",
       "      <td>1</td>\n",
       "    </tr>\n",
       "    <tr>\n",
       "      <th>thermostat</th>\n",
       "      <td>873</td>\n",
       "      <td>705</td>\n",
       "      <td>487</td>\n",
       "      <td>450</td>\n",
       "      <td>0</td>\n",
       "      <td>188</td>\n",
       "      <td>167</td>\n",
       "      <td>248</td>\n",
       "      <td>293</td>\n",
       "      <td>257</td>\n",
       "      <td>...</td>\n",
       "      <td>0</td>\n",
       "      <td>0</td>\n",
       "      <td>2</td>\n",
       "      <td>1</td>\n",
       "      <td>0</td>\n",
       "      <td>1</td>\n",
       "      <td>2</td>\n",
       "      <td>2</td>\n",
       "      <td>0</td>\n",
       "      <td>0</td>\n",
       "    </tr>\n",
       "  </tbody>\n",
       "</table>\n",
       "<p>5 rows × 310 columns</p>\n",
       "</div>"
      ],
      "text/plain": [
       "             room  poc  temperature  building  thermostat  unit  \\\n",
       "room            0  993         1532      1070         873   415   \n",
       "poc           993    0          564       617         705   364   \n",
       "temperature  1532  564            0      1116         487   233   \n",
       "building     1070  617         1116         0         450   268   \n",
       "thermostat    873  705          487       450           0   188   \n",
       "\n",
       "             air_conditioning_unit  air  customer  valve    ...     moisture  \\\n",
       "room                           378  401       518    439    ...            5   \n",
       "poc                            329  347       840    291    ...            3   \n",
       "temperature                    212  225       306    193    ...            3   \n",
       "building                       217  230       292    204    ...            2   \n",
       "thermostat                     167  248       293    257    ...            0   \n",
       "\n",
       "             housing  fitting  drill  bolt  wiring  heat_pump  battery  oil  \\\n",
       "room               2        3      3     2       3          3        2    0   \n",
       "poc                3        1      0     3       1          5        2    1   \n",
       "temperature        1        1      1     0       0          1        4    0   \n",
       "building           1        3      2     3       0          4        0    1   \n",
       "thermostat         0        2      1     0       1          2        2    0   \n",
       "\n",
       "             coupling  \n",
       "room                4  \n",
       "poc                 2  \n",
       "temperature         0  \n",
       "building            1  \n",
       "thermostat          0  \n",
       "\n",
       "[5 rows x 310 columns]"
      ]
     },
     "execution_count": 136,
     "metadata": {},
     "output_type": "execute_result"
    }
   ],
   "source": [
    "coocc = itm_event.T.dot(itm_event)\n",
    "occ = np.diagonal(np.copy(coocc))\n",
    "\n",
    "np.fill_diagonal(coocc.values, 0)\n",
    "coocc.head()\n"
   ]
  },
  {
   "cell_type": "code",
   "execution_count": 137,
   "metadata": {},
   "outputs": [
    {
     "data": {
      "text/html": [
       "<div>\n",
       "<style>\n",
       "    .dataframe thead tr:only-child th {\n",
       "        text-align: right;\n",
       "    }\n",
       "\n",
       "    .dataframe thead th {\n",
       "        text-align: left;\n",
       "    }\n",
       "\n",
       "    .dataframe tbody tr th {\n",
       "        vertical-align: top;\n",
       "    }\n",
       "</style>\n",
       "<table border=\"1\" class=\"dataframe\">\n",
       "  <thead>\n",
       "    <tr style=\"text-align: right;\">\n",
       "      <th></th>\n",
       "      <th>room</th>\n",
       "      <th>poc</th>\n",
       "      <th>temperature</th>\n",
       "      <th>building</th>\n",
       "      <th>thermostat</th>\n",
       "      <th>unit</th>\n",
       "      <th>air_conditioning_unit</th>\n",
       "      <th>air</th>\n",
       "      <th>customer</th>\n",
       "      <th>valve</th>\n",
       "      <th>...</th>\n",
       "      <th>moisture</th>\n",
       "      <th>housing</th>\n",
       "      <th>fitting</th>\n",
       "      <th>drill</th>\n",
       "      <th>bolt</th>\n",
       "      <th>wiring</th>\n",
       "      <th>heat_pump</th>\n",
       "      <th>battery</th>\n",
       "      <th>oil</th>\n",
       "      <th>coupling</th>\n",
       "    </tr>\n",
       "  </thead>\n",
       "  <tbody>\n",
       "    <tr>\n",
       "      <th>room</th>\n",
       "      <td>0.000000</td>\n",
       "      <td>0.015543</td>\n",
       "      <td>0.023980</td>\n",
       "      <td>0.016749</td>\n",
       "      <td>0.013665</td>\n",
       "      <td>0.006496</td>\n",
       "      <td>0.005917</td>\n",
       "      <td>0.006277</td>\n",
       "      <td>0.008108</td>\n",
       "      <td>0.006872</td>\n",
       "      <td>...</td>\n",
       "      <td>0.000078</td>\n",
       "      <td>0.000031</td>\n",
       "      <td>0.000047</td>\n",
       "      <td>0.000047</td>\n",
       "      <td>0.000031</td>\n",
       "      <td>0.000047</td>\n",
       "      <td>0.000047</td>\n",
       "      <td>0.000031</td>\n",
       "      <td>0.000000</td>\n",
       "      <td>0.000063</td>\n",
       "    </tr>\n",
       "    <tr>\n",
       "      <th>poc</th>\n",
       "      <td>0.015543</td>\n",
       "      <td>0.000000</td>\n",
       "      <td>0.008828</td>\n",
       "      <td>0.009658</td>\n",
       "      <td>0.011035</td>\n",
       "      <td>0.005698</td>\n",
       "      <td>0.005150</td>\n",
       "      <td>0.005432</td>\n",
       "      <td>0.013148</td>\n",
       "      <td>0.004555</td>\n",
       "      <td>...</td>\n",
       "      <td>0.000047</td>\n",
       "      <td>0.000047</td>\n",
       "      <td>0.000016</td>\n",
       "      <td>0.000000</td>\n",
       "      <td>0.000047</td>\n",
       "      <td>0.000016</td>\n",
       "      <td>0.000078</td>\n",
       "      <td>0.000031</td>\n",
       "      <td>0.000016</td>\n",
       "      <td>0.000031</td>\n",
       "    </tr>\n",
       "    <tr>\n",
       "      <th>temperature</th>\n",
       "      <td>0.023980</td>\n",
       "      <td>0.008828</td>\n",
       "      <td>0.000000</td>\n",
       "      <td>0.017469</td>\n",
       "      <td>0.007623</td>\n",
       "      <td>0.003647</td>\n",
       "      <td>0.003318</td>\n",
       "      <td>0.003522</td>\n",
       "      <td>0.004790</td>\n",
       "      <td>0.003021</td>\n",
       "      <td>...</td>\n",
       "      <td>0.000047</td>\n",
       "      <td>0.000016</td>\n",
       "      <td>0.000016</td>\n",
       "      <td>0.000016</td>\n",
       "      <td>0.000000</td>\n",
       "      <td>0.000000</td>\n",
       "      <td>0.000016</td>\n",
       "      <td>0.000063</td>\n",
       "      <td>0.000000</td>\n",
       "      <td>0.000000</td>\n",
       "    </tr>\n",
       "    <tr>\n",
       "      <th>building</th>\n",
       "      <td>0.016749</td>\n",
       "      <td>0.009658</td>\n",
       "      <td>0.017469</td>\n",
       "      <td>0.000000</td>\n",
       "      <td>0.007044</td>\n",
       "      <td>0.004195</td>\n",
       "      <td>0.003397</td>\n",
       "      <td>0.003600</td>\n",
       "      <td>0.004571</td>\n",
       "      <td>0.003193</td>\n",
       "      <td>...</td>\n",
       "      <td>0.000031</td>\n",
       "      <td>0.000016</td>\n",
       "      <td>0.000047</td>\n",
       "      <td>0.000031</td>\n",
       "      <td>0.000047</td>\n",
       "      <td>0.000000</td>\n",
       "      <td>0.000063</td>\n",
       "      <td>0.000000</td>\n",
       "      <td>0.000016</td>\n",
       "      <td>0.000016</td>\n",
       "    </tr>\n",
       "    <tr>\n",
       "      <th>thermostat</th>\n",
       "      <td>0.013665</td>\n",
       "      <td>0.011035</td>\n",
       "      <td>0.007623</td>\n",
       "      <td>0.007044</td>\n",
       "      <td>0.000000</td>\n",
       "      <td>0.002943</td>\n",
       "      <td>0.002614</td>\n",
       "      <td>0.003882</td>\n",
       "      <td>0.004586</td>\n",
       "      <td>0.004023</td>\n",
       "      <td>...</td>\n",
       "      <td>0.000000</td>\n",
       "      <td>0.000000</td>\n",
       "      <td>0.000031</td>\n",
       "      <td>0.000016</td>\n",
       "      <td>0.000000</td>\n",
       "      <td>0.000016</td>\n",
       "      <td>0.000031</td>\n",
       "      <td>0.000031</td>\n",
       "      <td>0.000000</td>\n",
       "      <td>0.000000</td>\n",
       "    </tr>\n",
       "  </tbody>\n",
       "</table>\n",
       "<p>5 rows × 310 columns</p>\n",
       "</div>"
      ],
      "text/plain": [
       "                 room       poc  temperature  building  thermostat      unit  \\\n",
       "room         0.000000  0.015543     0.023980  0.016749    0.013665  0.006496   \n",
       "poc          0.015543  0.000000     0.008828  0.009658    0.011035  0.005698   \n",
       "temperature  0.023980  0.008828     0.000000  0.017469    0.007623  0.003647   \n",
       "building     0.016749  0.009658     0.017469  0.000000    0.007044  0.004195   \n",
       "thermostat   0.013665  0.011035     0.007623  0.007044    0.000000  0.002943   \n",
       "\n",
       "             air_conditioning_unit       air  customer     valve    ...     \\\n",
       "room                      0.005917  0.006277  0.008108  0.006872    ...      \n",
       "poc                       0.005150  0.005432  0.013148  0.004555    ...      \n",
       "temperature               0.003318  0.003522  0.004790  0.003021    ...      \n",
       "building                  0.003397  0.003600  0.004571  0.003193    ...      \n",
       "thermostat                0.002614  0.003882  0.004586  0.004023    ...      \n",
       "\n",
       "             moisture   housing   fitting     drill      bolt    wiring  \\\n",
       "room         0.000078  0.000031  0.000047  0.000047  0.000031  0.000047   \n",
       "poc          0.000047  0.000047  0.000016  0.000000  0.000047  0.000016   \n",
       "temperature  0.000047  0.000016  0.000016  0.000016  0.000000  0.000000   \n",
       "building     0.000031  0.000016  0.000047  0.000031  0.000047  0.000000   \n",
       "thermostat   0.000000  0.000000  0.000031  0.000016  0.000000  0.000016   \n",
       "\n",
       "             heat_pump   battery       oil  coupling  \n",
       "room          0.000047  0.000031  0.000000  0.000063  \n",
       "poc           0.000078  0.000031  0.000016  0.000031  \n",
       "temperature   0.000016  0.000063  0.000000  0.000000  \n",
       "building      0.000063  0.000000  0.000016  0.000016  \n",
       "thermostat    0.000031  0.000031  0.000000  0.000000  \n",
       "\n",
       "[5 rows x 310 columns]"
      ]
     },
     "execution_count": 137,
     "metadata": {},
     "output_type": "execute_result"
    }
   ],
   "source": [
    "dist_mat = coocc/np.dot(np.sqrt(occ).T, np.sqrt(occ))\n",
    "\n",
    "dist_mat.head()"
   ]
  },
  {
   "cell_type": "code",
   "execution_count": 138,
   "metadata": {
    "collapsed": true
   },
   "outputs": [],
   "source": [
    "import networkx as nx\n",
    "\n",
    "G = nx.from_numpy_matrix(dist_mat.values)\n",
    "G = nx.relabel_nodes(G, dict(zip(G.nodes(), dist_mat.columns)))"
   ]
  },
  {
   "cell_type": "code",
   "execution_count": 139,
   "metadata": {},
   "outputs": [
    {
     "data": {
      "text/plain": [
       "array(['room', 'poc', 'temperature', 'building', 'unit', 'thermostat',\n",
       "       'air', 'customer', 'air_conditioning_unit', 'valve'], dtype=object)"
      ]
     },
     "execution_count": 139,
     "metadata": {},
     "output_type": "execute_result"
    }
   ],
   "source": [
    "cent = pd.Series(nx.pagerank(G))\n",
    "cent.sort_values(ascending=False).iloc[:10].index.values"
   ]
  },
  {
   "cell_type": "code",
   "execution_count": 140,
   "metadata": {},
   "outputs": [
    {
     "data": {
      "application/vnd.jupyter.widget-view+json": {
       "model_id": "962568225f7b430793934359c95a2f2b"
      }
     },
     "metadata": {},
     "output_type": "display_data"
    },
    {
     "name": "stdout",
     "output_type": "stream",
     "text": [
      "\n"
     ]
    }
   ],
   "source": [
    "def heymann_taxonomy(dist_mat, cent_prog='pr', tau=5e-4, \n",
    "                     dynamic=False, dotfile=None, verbose=False):\n",
    "    \"\"\"\n",
    "    dist_mat: dataframe containing similarity matrix, indexed and named by tags\n",
    "    cent_prog: algorithm to use in calculating node centrality\n",
    "        pr: PageRank\n",
    "        eig: eigencentrality\n",
    "        btw: betweenness\n",
    "        cls: closeness\n",
    "    tau: similarity threshold for retaining a node\n",
    "    dynamic: re-calculate centrality after adding every tag\n",
    "    write_dot: fname or None, where to save a .dot, if any. \n",
    "    verbose: print some stuff\n",
    "    \"\"\"\n",
    "#     tau = 5e-4\n",
    "    cent_dict = {\n",
    "        'pr': nx.pagerank,\n",
    "        'eig': nx.eigenvector_centrality,\n",
    "        'btw': nx.betweenness_centrality,\n",
    "        'cls': nx.closeness_centrality\n",
    "    }\n",
    "    \n",
    "    # Create the co-occurence graph, G\n",
    "    G = nx.from_numpy_matrix(dist_mat.values)\n",
    "    G = nx.relabel_nodes(G, dict(zip(G.nodes(), dist_mat.columns)))\n",
    "    \n",
    "    # Calculate the centrality of nodes in G\n",
    "    cent = pd.Series(cent_dict[cent_prog](G)).sort_values(ascending=False)\n",
    "    root = cent.index[0]\n",
    "    \n",
    "    # Init the taxonomy D (DAG)\n",
    "    D = nx.DiGraph()\n",
    "    D.add_node(root)\n",
    "\n",
    "    for n in tqdm_notebook(range(dist_mat.shape[0])):\n",
    "        \n",
    "        # Pick the most central node in G, and the node in D most similar to it\n",
    "        tag = cent.index[0]\n",
    "        neighbor_sim =  {k: dist_mat.loc[tag,k] for k in D.nodes()}\n",
    "        parent = max(neighbor_sim, key=lambda key: neighbor_sim[key])\n",
    "        \n",
    "        if neighbor_sim[parent] > tau:\n",
    "            # above threshold--> direct child\n",
    "            D.add_node(tag)\n",
    "            D.add_edge(parent, tag)\n",
    "        else:\n",
    "    #         D.add_edge(root, descendant)  # do not enforce single taxonomy\n",
    "            # New \"top-level\" tag\n",
    "            D.add_node(tag)\n",
    "            pass\n",
    "        \n",
    "        if dynamic:\n",
    "            # recalculate node centralities after removing each <tag>\n",
    "            # EXPENSIVE.\n",
    "            G.remove_node(tag)\n",
    "            cent = pd.Series(cent_dict[cent_prog](G)).sort_values(ascending=False)\n",
    "        else:\n",
    "            cent.drop(tag, inplace=True)\n",
    "    \n",
    "    if verbose:\n",
    "        print(root) # most \"general\" topic\n",
    "        print(nx.isolates(D)) # child-less nodes (i.e. central AND dissimilar)\n",
    "    \n",
    "    \n",
    "    D.remove_nodes_from(nx.isolates(D))  # not useful for taxonomy\n",
    "    \n",
    "    if dotfile is not None:\n",
    "        from networkx.drawing.nx_pydot import graphviz_layout, write_dot\n",
    "        D.graph['graph']={'rankdir':'LR', 'splines':'true', \n",
    "                          'ranksep':'4'}\n",
    "        write_dot(D, dotfile)\n",
    "    \n",
    "    return D\n",
    "\n",
    "D = heymann_taxonomy(dist_mat, \n",
    "                     cent_prog='pr', # dynamic=True,\n",
    "                     dotfile='tax_hvac.dot')"
   ]
  },
  {
   "cell_type": "code",
   "execution_count": 141,
   "metadata": {
    "collapsed": true
   },
   "outputs": [],
   "source": [
    "!dot -Tpng tax_hvac.dot >tax_hvac.png"
   ]
  },
  {
   "cell_type": "markdown",
   "metadata": {},
   "source": [
    "<img src=\"tax.png\" alt=\"tax.png\" style=\"height: 1200px;\"/>"
   ]
  },
  {
   "cell_type": "code",
   "execution_count": 143,
   "metadata": {},
   "outputs": [
    {
     "data": {
      "text/plain": [
       "<matplotlib.image.AxesImage at 0x7fdf376e5240>"
      ]
     },
     "execution_count": 143,
     "metadata": {},
     "output_type": "execute_result"
    },
    {
     "data": {
      "image/png": "[encoded data removed]",
      "text/plain": [
       "<matplotlib.figure.Figure at 0x7fdf17b68f60>"
      ]
     },
     "metadata": {},
     "output_type": "display_data"
    }
   ],
   "source": [
    "plt.spy(coocc.values)"
   ]
  },
  {
   "cell_type": "code",
   "execution_count": 145,
   "metadata": {},
   "outputs": [
    {
     "data": {
      "image/png": "[encoded data removed]",
      "text/plain": [
       "<matplotlib.figure.Figure at 0x7fdfffe7a198>"
      ]
     },
     "metadata": {},
     "output_type": "display_data"
    }
   ],
   "source": [
    "import matplotlib\n",
    "matplotlib.font_manager._rebuild()\n",
    "\n",
    "with plt.xkcd():\n",
    "    plt.title('sorted fiedler vector')\n",
    "    fied = nx.fiedler_vector(G)\n",
    "    plt.plot(np.arange(fied.shape[0]),np.sort(nx.fiedler_vector(G)), 'k')\n",
    "    # place a text box in upper left in axes coords\n",
    "    plt.text(0.1, 0.85, ' Looking for a sharp vertical jump\\n in the middle, defining a cluster\\n boundary',\n",
    "             transform=plt.gca().transAxes, fontsize=14, verticalalignment='top'\n",
    "            )"
   ]
  },
  {
   "cell_type": "code",
   "execution_count": 146,
   "metadata": {},
   "outputs": [
    {
     "data": {
      "image/png": "[encoded data removed]",
      "text/plain": [
       "<matplotlib.figure.Figure at 0x7fdf4e0293c8>"
      ]
     },
     "metadata": {},
     "output_type": "display_data"
    }
   ],
   "source": [
    "with plt.xkcd():\n",
    "    plt.title('zooming in...')\n",
    "    fied = nx.fiedler_vector(G)\n",
    "    plt.plot(np.arange(fied.shape[0])[10:-10],np.sort(fied)[10:-10], 'k')\n",
    "    plt.annotate(\n",
    "        'well, crap...',\n",
    "        xy=(60,-.0015), arrowprops=dict(arrowstyle='-'), xytext=(150, -.002)\n",
    "    )\n",
    "    plt.text(1.05, 0.85, ' It seems no scale\\n contains a sharp\\n jump, and everything\\n is pretty smooth...',\n",
    "         transform=plt.gca().transAxes, fontsize=14, verticalalignment='top'\n",
    "        )"
   ]
  },
  {
   "cell_type": "code",
   "execution_count": 147,
   "metadata": {},
   "outputs": [
    {
     "data": {
      "text/plain": [
       "['coupling',\n",
       " 'damper_door',\n",
       " 'freon',\n",
       " 'oil',\n",
       " 'dielectric',\n",
       " 'freezer',\n",
       " 'baseboard',\n",
       " 'battery',\n",
       " 'booster_unit',\n",
       " 'paint',\n",
       " 'acu-15',\n",
       " 'deflector',\n",
       " 'glycol',\n",
       " '66F',\n",
       " '90F',\n",
       " 'riser',\n",
       " 'regulator',\n",
       " 'knob',\n",
       " 'sheaf',\n",
       " 'evaporator',\n",
       " 'condensor',\n",
       " 'wiring',\n",
       " 'fan_section',\n",
       " 'water_valve',\n",
       " 'bolt',\n",
       " 'library',\n",
       " 'refrigerator',\n",
       " 'ahu-1',\n",
       " 'detection',\n",
       " 'cable',\n",
       " 'fitting',\n",
       " 'spring',\n",
       " 'frame',\n",
       " 'director',\n",
       " 'probe',\n",
       " 'drain_line',\n",
       " '57F',\n",
       " 'drill',\n",
       " 'condenser',\n",
       " 'penthouse',\n",
       " '58F',\n",
       " 'transducer',\n",
       " '320',\n",
       " 'boiler',\n",
       " 'acu-16',\n",
       " '75F',\n",
       " '78F',\n",
       " '76F',\n",
       " '55F',\n",
       " '65F',\n",
       " 'store_room',\n",
       " 'alignment',\n",
       " '2F',\n",
       " 'air_filter',\n",
       " '411',\n",
       " '236',\n",
       " 'head',\n",
       " 'converter',\n",
       " 'acu-19',\n",
       " 'humidifier',\n",
       " 'humidity_sensor',\n",
       " 'acu-17',\n",
       " 'carpet',\n",
       " 'water_detection',\n",
       " 'defuser',\n",
       " 'lobby',\n",
       " 'air_compressor',\n",
       " 'tank',\n",
       " 'wing',\n",
       " '62F',\n",
       " 'entrance',\n",
       " 'storeroom',\n",
       " '67F',\n",
       " 'bearing',\n",
       " 'heat_pump',\n",
       " 'cafeteria',\n",
       " 'grease',\n",
       " '74F',\n",
       " 'east',\n",
       " 'detector',\n",
       " '69F',\n",
       " 'moisture',\n",
       " 'middle',\n",
       " 'return_fan',\n",
       " 'piping',\n",
       " 'stairwell',\n",
       " 'diaphram',\n",
       " '60F',\n",
       " 'radiator',\n",
       " 'refrigerant',\n",
       " '72F',\n",
       " 'debris',\n",
       " 'electric',\n",
       " 'screen',\n",
       " '318',\n",
       " 'heat_unit',\n",
       " 'steam',\n",
       " 'stem',\n",
       " 'mix_box',\n",
       " '73F',\n",
       " 'return_air',\n",
       " 'warm_air',\n",
       " 'instrument',\n",
       " 'heat_valve',\n",
       " 'snow',\n",
       " 'housing',\n",
       " 'air_temperature',\n",
       " '68F',\n",
       " 'floor_drain',\n",
       " 'paper',\n",
       " '219',\n",
       " 'block',\n",
       " '80F',\n",
       " '71F',\n",
       " 'install',\n",
       " 'office',\n",
       " 'gate',\n",
       " 'valve',\n",
       " '101',\n",
       " 'poc',\n",
       " 'circuit_breaker',\n",
       " '1st_floor',\n",
       " 'screw',\n",
       " 'wire',\n",
       " 'pipe_shop',\n",
       " 'heat_diaphragm',\n",
       " 'wall',\n",
       " 'heat',\n",
       " 'building',\n",
       " '218',\n",
       " 'control_valve',\n",
       " 'inside_temperature',\n",
       " 'point',\n",
       " 'house',\n",
       " 'power_plant',\n",
       " 'customer',\n",
       " 'coil',\n",
       " '216',\n",
       " 'conference_room',\n",
       " 'signal',\n",
       " 'water_detector',\n",
       " 'site',\n",
       " 'water',\n",
       " '202',\n",
       " 'control_room',\n",
       " 'pump',\n",
       " 'bathroom',\n",
       " 'space_temperature',\n",
       " 'freezestat',\n",
       " 'connection',\n",
       " 'acu-12',\n",
       " '54F',\n",
       " 'vibration',\n",
       " 'acu-18',\n",
       " 'hot_water',\n",
       " 'hose',\n",
       " 'temperature',\n",
       " 'variable_air_volume',\n",
       " 'unit',\n",
       " 'acu-5',\n",
       " 'plug',\n",
       " 'cold_air',\n",
       " 'intake',\n",
       " 'induction_unit',\n",
       " 'computer',\n",
       " 'compressor',\n",
       " 'acu-2',\n",
       " 'set_point',\n",
       " 'strainer',\n",
       " 'actuator',\n",
       " 'system',\n",
       " 'tube',\n",
       " 'room_temperature',\n",
       " 'ceiling',\n",
       " '233',\n",
       " 'freeze_stat',\n",
       " 'outside',\n",
       " 'thermostat',\n",
       " 'air_handler_unit',\n",
       " '3rd_floor',\n",
       " 'heater',\n",
       " '301',\n",
       " 'acu-13',\n",
       " 'preheat',\n",
       " 'louver',\n",
       " '217',\n",
       " 'vav_box',\n",
       " 'grill',\n",
       " 'booster',\n",
       " 'pipe',\n",
       " 'sensor',\n",
       " 'relay',\n",
       " 'shop',\n",
       " 'filter',\n",
       " 'discharge',\n",
       " 'window',\n",
       " 'basement',\n",
       " 'chill_water',\n",
       " 'chilled_water',\n",
       " 'floor',\n",
       " 'section',\n",
       " 'area',\n",
       " 'acu-7',\n",
       " 'air_pressure',\n",
       " 'time',\n",
       " 'supply',\n",
       " 'reheat_valve',\n",
       " 'module',\n",
       " 'reheat',\n",
       " 'seal',\n",
       " 'vent',\n",
       " 'acu-3',\n",
       " 'door',\n",
       " 'diffuser',\n",
       " '70F',\n",
       " 'hallway',\n",
       " 'air_handler',\n",
       " '2nd_floor',\n",
       " 'now',\n",
       " 'control',\n",
       " 'supply_fan',\n",
       " 'cap',\n",
       " '235',\n",
       " 'person',\n",
       " 'panel',\n",
       " 'humidity',\n",
       " 'condensate',\n",
       " 'air_line',\n",
       " 'supply_air',\n",
       " 'sponsor',\n",
       " 'variable_fan_drive',\n",
       " '230',\n",
       " '222',\n",
       " 'sheet_metal',\n",
       " '220',\n",
       " 'restroom',\n",
       " 'acu-8',\n",
       " 'space',\n",
       " 'laboratory',\n",
       " 'pressure',\n",
       " 'roof',\n",
       " 'verify',\n",
       " 'hvac_shop',\n",
       " 'pulley',\n",
       " 'acu-14',\n",
       " '225',\n",
       " 'direct_digital_control',\n",
       " 'shaft',\n",
       " 'controller',\n",
       " 'attic',\n",
       " 'cfm',\n",
       " '304',\n",
       " 'ventilation',\n",
       " 'air_flow',\n",
       " 'motor',\n",
       " '231',\n",
       " 'connect',\n",
       " 'rotation',\n",
       " 'hot_air',\n",
       " 'main',\n",
       " 'cabinet',\n",
       " 'acu-9',\n",
       " 'hvac',\n",
       " 'fuse',\n",
       " '227',\n",
       " 'test',\n",
       " 'exhaust_fan',\n",
       " 'display',\n",
       " 'electric_shop',\n",
       " 'duct_work',\n",
       " 'main_air',\n",
       " 'tension',\n",
       " '223',\n",
       " '245',\n",
       " 'insulation',\n",
       " 'bracket',\n",
       " 'lab_space',\n",
       " 'measurement',\n",
       " 'extension',\n",
       " 'speed',\n",
       " 'blower',\n",
       " '226',\n",
       " 'monitor',\n",
       " 'fan_belt',\n",
       " 'starter',\n",
       " 'exhaust_hood',\n",
       " 'fumehood',\n",
       " 'room',\n",
       " 'air_conditioning_unit',\n",
       " 'air',\n",
       " 'fan',\n",
       " 'belt',\n",
       " 'contact',\n",
       " 'damper',\n",
       " 'line',\n",
       " 'contractor',\n",
       " 'airflow',\n",
       " 'equipment',\n",
       " 'exhaust',\n",
       " 'switch',\n",
       " 'duct',\n",
       " 'diaphragm',\n",
       " '221',\n",
       " 'hood',\n",
       " '224',\n",
       " 'acu-6',\n",
       " 'fume_hood',\n",
       " 'clean_room',\n",
       " 'hood_fan',\n",
       " 'velocity']"
      ]
     },
     "execution_count": 147,
     "metadata": {},
     "output_type": "execute_result"
    }
   ],
   "source": [
    "nx.spectral_ordering(G, weight=None)"
   ]
  },
  {
   "cell_type": "code",
   "execution_count": 148,
   "metadata": {},
   "outputs": [
    {
     "data": {
      "text/plain": [
       "<matplotlib.image.AxesImage at 0x7fdf11fa0748>"
      ]
     },
     "execution_count": 148,
     "metadata": {},
     "output_type": "execute_result"
    },
    {
     "data": {
      "image/png": "[encoded data removed]",
      "text/plain": [
       "<matplotlib.figure.Figure at 0x7fdf17be12e8>"
      ]
     },
     "metadata": {},
     "output_type": "display_data"
    }
   ],
   "source": [
    "plt.spy(coocc.loc[nx.spectral_ordering(G, weight=None),\n",
    "                  nx.spectral_ordering(G, weight=None)])"
   ]
  },
  {
   "cell_type": "code",
   "execution_count": 157,
   "metadata": {
    "collapsed": true
   },
   "outputs": [],
   "source": [
    "from networkx.readwrite import json_graph\n",
    "from networkx.algorithms.traversal.depth_first_search import dfs_tree\n",
    "import json\n",
    "\n",
    "subD = dfs_tree(D, 'room')\n",
    "\n",
    "with open('d3tree.json', 'w') as outfile:\n",
    "    s=json.dump(json_graph.tree.tree_data(subD, 'room'), outfile)"
   ]
  },
  {
   "cell_type": "code",
   "execution_count": 158,
   "metadata": {},
   "outputs": [
    {
     "name": "stdout",
     "output_type": "stream",
     "text": [
      "Overwriting f2.template\n"
     ]
    }
   ],
   "source": [
    "%%writefile f2.template\n",
    "<!DOCTYPE html>\n",
    "<meta charset=\"utf-8\">\n",
    "<style>\n",
    "\n",
    ".node {\n",
    "  cursor: pointer;\n",
    "}\n",
    "\n",
    ".node circle {\n",
    "  fill: #fff;\n",
    "  stroke: steelblue;\n",
    "  stroke-width: 1.5px;\n",
    "}\n",
    "\n",
    ".node text {\n",
    "  font: 10px sans-serif;\n",
    "}\n",
    "\n",
    ".link {\n",
    "  fill: none;\n",
    "  stroke: #ccc;\n",
    "  stroke-width: 1.5px;\n",
    "}\n",
    "\n",
    "</style>\n",
    "<body>\n",
    "<script src=\"//d3js.org/d3.v3.min.js\"></script>\n",
    "<script>\n",
    "\n",
    "var margin = {top: 20, right: 120, bottom: 20, left: 120},\n",
    "    width = 1500 - margin.right - margin.left,\n",
    "    height = 1200 - margin.top - margin.bottom;\n",
    "\n",
    "var i = 0,\n",
    "    duration = 750,\n",
    "    root;\n",
    "\n",
    "var tree = d3.layout.tree()\n",
    "    .size([height, width]);\n",
    "\n",
    "var diagonal = d3.svg.diagonal()\n",
    "    .projection(function(d) { return [d.y, d.x]; });\n",
    "\n",
    "var svg = d3.select(\"body\").append(\"svg\")\n",
    "    .attr(\"width\", width + margin.right + margin.left)\n",
    "    .attr(\"height\", height + margin.top + margin.bottom)\n",
    "  .append(\"g\")\n",
    "    .attr(\"transform\", \"translate(\" + margin.left + \",\" + margin.top + \")\");\n",
    "\n",
    "d3.json(\"d3tree.json\", function(error, flare) {\n",
    "  if (error) throw error;\n",
    "\n",
    "  root = flare;\n",
    "  root.x0 = height / 2;\n",
    "  root.y0 = 0;\n",
    "\n",
    "  function collapse(d) {\n",
    "    if (d.children) {\n",
    "      d._children = d.children;\n",
    "      d._children.forEach(collapse);\n",
    "      d.children = null;\n",
    "    }\n",
    "  }\n",
    "\n",
    "  root.children.forEach(collapse);\n",
    "  update(root);\n",
    "});\n",
    "\n",
    "d3.select(self.frameElement).style(\"height\", \"1200px\");\n",
    "\n",
    "function update(source) {\n",
    "\n",
    "  // Compute the new tree layout.\n",
    "  var nodes = tree.nodes(root).reverse(),\n",
    "      links = tree.links(nodes);\n",
    "\n",
    "  // Normalize for fixed-depth.\n",
    "  nodes.forEach(function(d) { d.y = d.depth * 180; });\n",
    "\n",
    "  // Update the nodes…\n",
    "  var node = svg.selectAll(\"g.node\")\n",
    "      .data(nodes, function(d) { return d.id || (d.id = ++i); });\n",
    "\n",
    "  // Enter any new nodes at the parent's previous position.\n",
    "  var nodeEnter = node.enter().append(\"g\")\n",
    "      .attr(\"class\", \"node\")\n",
    "      .attr(\"transform\", function(d) { return \"translate(\" + source.y0 + \",\" + source.x0 + \")\"; })\n",
    "      .on(\"click\", click);\n",
    "\n",
    "  nodeEnter.append(\"circle\")\n",
    "      .attr(\"r\", 1e-6)\n",
    "      .style(\"fill\", function(d) { return d._children ? \"lightsteelblue\" : \"#fff\"; });\n",
    "\n",
    "  nodeEnter.append(\"text\")\n",
    "      .attr(\"x\", function(d) { return d.children || d._children ? -10 : 10; })\n",
    "      .attr(\"dy\", \".35em\")\n",
    "      .attr(\"text-anchor\", function(d) { return d.children || d._children ? \"end\" : \"start\"; })\n",
    "      .text(function(d) { return d.id; })\n",
    "      .style(\"fill-opacity\", 1e-6);\n",
    "\n",
    "  // Transition nodes to their new position.\n",
    "  var nodeUpdate = node.transition()\n",
    "      .duration(duration)\n",
    "      .attr(\"transform\", function(d) { return \"translate(\" + d.y + \",\" + d.x + \")\"; });\n",
    "\n",
    "  nodeUpdate.select(\"circle\")\n",
    "      .attr(\"r\", 4.5)\n",
    "      .style(\"fill\", function(d) { return d._children ? \"lightsteelblue\" : \"#fff\"; });\n",
    "\n",
    "  nodeUpdate.select(\"text\")\n",
    "      .style(\"fill-opacity\", 1);\n",
    "\n",
    "  // Transition exiting nodes to the parent's new position.\n",
    "  var nodeExit = node.exit().transition()\n",
    "      .duration(duration)\n",
    "      .attr(\"transform\", function(d) { return \"translate(\" + source.y + \",\" + source.x + \")\"; })\n",
    "      .remove();\n",
    "\n",
    "  nodeExit.select(\"circle\")\n",
    "      .attr(\"r\", 1e-6);\n",
    "\n",
    "  nodeExit.select(\"text\")\n",
    "      .style(\"fill-opacity\", 1e-6);\n",
    "\n",
    "  // Update the links…\n",
    "  var link = svg.selectAll(\"path.link\")\n",
    "      .data(links, function(d) { return d.target.id; });\n",
    "\n",
    "  // Enter any new links at the parent's previous position.\n",
    "  link.enter().insert(\"path\", \"g\")\n",
    "      .attr(\"class\", \"link\")\n",
    "      .attr(\"d\", function(d) {\n",
    "        var o = {x: source.x0, y: source.y0};\n",
    "        return diagonal({source: o, target: o});\n",
    "      });\n",
    "\n",
    "  // Transition links to their new position.\n",
    "  link.transition()\n",
    "      .duration(duration)\n",
    "      .attr(\"d\", diagonal);\n",
    "\n",
    "  // Transition exiting nodes to the parent's new position.\n",
    "  link.exit().transition()\n",
    "      .duration(duration)\n",
    "      .attr(\"d\", function(d) {\n",
    "        var o = {x: source.x, y: source.y};\n",
    "        return diagonal({source: o, target: o});\n",
    "      })\n",
    "      .remove();\n",
    "\n",
    "  // Stash the old positions for transition.\n",
    "  nodes.forEach(function(d) {\n",
    "    d.x0 = d.x;\n",
    "    d.y0 = d.y;\n",
    "  });\n",
    "}\n",
    "\n",
    "// Toggle children on click.\n",
    "function click(d) {\n",
    "  if (d.children) {\n",
    "    d._children = d.children;\n",
    "    d.children = null;\n",
    "  } else {\n",
    "    d.children = d._children;\n",
    "    d._children = null;\n",
    "  }\n",
    "  update(d);\n",
    "}\n",
    "\n",
    "</script>"
   ]
  },
  {
   "cell_type": "code",
   "execution_count": 159,
   "metadata": {
    "collapsed": true
   },
   "outputs": [],
   "source": [
    "from IPython.display import IFrame\n",
    "import re\n",
    "\n",
    "def replace_all(txt,d):\n",
    "    rep = dict((re.escape('{'+k+'}'), str(v)) for k, v in d.items())\n",
    "    pattern = re.compile(\"|\".join(rep.keys()))\n",
    "    return pattern.sub(lambda m: rep[re.escape(m.group(0))], txt)    \n",
    "\n",
    "count=0\n",
    "def serve_html(s,w,h):\n",
    "    import os\n",
    "    global count\n",
    "    count+=1\n",
    "    fn= '__tmp'+str(os.getpid())+'_'+str(count)+'.html'\n",
    "    with open(fn,'w') as f:\n",
    "        f.write(s)\n",
    "    return IFrame('files/'+fn,w,h)\n",
    "\n",
    "def f2(w=500,h=400):\n",
    "    d={\n",
    "       'width'      :w,\n",
    "       'height'     :h,\n",
    "       }\n",
    "    with open('f2.template','r') as f:\n",
    "        s=f.read()\n",
    "    s= replace_all(s,d)        \n",
    "    return serve_html(s,w+30,h+30)"
   ]
  },
  {
   "cell_type": "code",
   "execution_count": 160,
   "metadata": {},
   "outputs": [
    {
     "data": {
      "text/html": [
       "\n",
       "        <iframe\n",
       "            width=\"1530\"\n",
       "            height=\"1230\"\n",
       "            src=\"files/__tmp7706_1.html\"\n",
       "            frameborder=\"0\"\n",
       "            allowfullscreen\n",
       "        ></iframe>\n",
       "        "
      ],
      "text/plain": [
       "<IPython.lib.display.IFrame at 0x7fdf37284828>"
      ]
     },
     "execution_count": 160,
     "metadata": {},
     "output_type": "execute_result"
    }
   ],
   "source": [
    "f2(w=1500,h=1200)"
   ]
  },
  {
   "cell_type": "code",
   "execution_count": null,
   "metadata": {
    "collapsed": true
   },
   "outputs": [],
   "source": []
  }
 ],
 "metadata": {
  "hide_input": false,
  "kernelspec": {
   "display_name": "Python 3",
   "language": "python",
   "name": "python3"
  },
  "language_info": {
   "codemirror_mode": {
    "name": "ipython",
    "version": 3
   },
   "file_extension": ".py",
   "mimetype": "text/x-python",
   "name": "python",
   "nbconvert_exporter": "python",
   "pygments_lexer": "ipython3",
   "version": "3.6.4"
  },
  "varInspector": {
   "cols": {
    "lenName": 16,
    "lenType": 16,
    "lenVar": 40
   },
   "kernels_config": {
    "python": {
     "delete_cmd_postfix": "",
     "delete_cmd_prefix": "del ",
     "library": "var_list.py",
     "varRefreshCmd": "print(var_dic_list())"
    },
    "r": {
     "delete_cmd_postfix": ") ",
     "delete_cmd_prefix": "rm(",
     "library": "var_list.r",
     "varRefreshCmd": "cat(var_dic_list()) "
    }
   },
   "position": {
    "height": "596px",
    "left": "730px",
    "right": "20px",
    "top": "120px",
    "width": "351px"
   },
   "types_to_exclude": [
    "module",
    "function",
    "builtin_function_or_method",
    "instance",
    "_Feature"
   ],
   "window_display": false
  }
 },
 "nbformat": 4,
 "nbformat_minor": 2
}

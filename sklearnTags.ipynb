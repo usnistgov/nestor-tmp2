{
 "cells": [
  {
   "cell_type": "code",
   "execution_count": 2,
   "metadata": {},
   "outputs": [
    {
     "name": "stderr",
     "output_type": "stream",
     "text": [
      "C:\\Users\\tbs4\\AppData\\Local\\Continuum\\Anaconda2\\lib\\site-packages\\gensim\\utils.py:860: UserWarning: detected Windows; aliasing chunkize to chunkize_serial\n",
      "  warnings.warn(\"detected Windows; aliasing chunkize to chunkize_serial\")\n"
     ]
    }
   ],
   "source": [
    "import pandas as pd\n",
    "import numpy as np\n",
    "import os\n",
    "import matplotlib.pyplot as plt\n",
    "%matplotlib inline\n",
    "from mlp.tools import *"
   ]
  },
  {
   "cell_type": "code",
   "execution_count": 3,
   "metadata": {},
   "outputs": [
    {
     "name": "stdout",
     "output_type": "stream",
     "text": [
      "(3438, 6)\n"
     ]
    },
    {
     "data": {
      "text/html": [
       "<div>\n",
       "<style>\n",
       "    .dataframe thead tr:only-child th {\n",
       "        text-align: right;\n",
       "    }\n",
       "\n",
       "    .dataframe thead th {\n",
       "        text-align: left;\n",
       "    }\n",
       "\n",
       "    .dataframe tbody tr th {\n",
       "        vertical-align: top;\n",
       "    }\n",
       "</style>\n",
       "<table border=\"1\" class=\"dataframe\">\n",
       "  <thead>\n",
       "    <tr style=\"text-align: right;\">\n",
       "      <th></th>\n",
       "      <th>Description</th>\n",
       "      <th>Resolution</th>\n",
       "      <th>p_Item</th>\n",
       "      <th>p_Action</th>\n",
       "      <th>s_Action</th>\n",
       "      <th>s_Item</th>\n",
       "    </tr>\n",
       "  </thead>\n",
       "  <tbody>\n",
       "    <tr>\n",
       "      <th>0</th>\n",
       "      <td>No power</td>\n",
       "      <td>Replaced pin in pendant and powered machine -P...</td>\n",
       "      <td>pendant_cable, cable</td>\n",
       "      <td>short, no_power</td>\n",
       "      <td>replace</td>\n",
       "      <td>pin</td>\n",
       "    </tr>\n",
       "    <tr>\n",
       "      <th>1</th>\n",
       "      <td>Smartscope harness broken</td>\n",
       "      <td>Parts ordered / Tech repaired</td>\n",
       "      <td>smartscope_harness</td>\n",
       "      <td>broken</td>\n",
       "      <td>order, repair</td>\n",
       "      <td>smartscope_harness</td>\n",
       "    </tr>\n",
       "    <tr>\n",
       "      <th>2</th>\n",
       "      <td>Check / Charge Accumulators</td>\n",
       "      <td>Where OK</td>\n",
       "      <td>accumulator</td>\n",
       "      <td>check, charge</td>\n",
       "      <td>no_problem_detected</td>\n",
       "      <td>NaN</td>\n",
       "    </tr>\n",
       "    <tr>\n",
       "      <th>3</th>\n",
       "      <td>Hyd leak at saw atachment</td>\n",
       "      <td>Replaced seal in saw attachment but still leak...</td>\n",
       "      <td>hydraulic, saw_attachment, saw</td>\n",
       "      <td>leak</td>\n",
       "      <td>replace, need_guy</td>\n",
       "      <td>seal</td>\n",
       "    </tr>\n",
       "    <tr>\n",
       "      <th>4</th>\n",
       "      <td>CS1008 setup change over / from ARC1004</td>\n",
       "      <td>Completed / Threading unit rewired</td>\n",
       "      <td>cs1008, arc1004</td>\n",
       "      <td>setup_change</td>\n",
       "      <td>complete, rewire</td>\n",
       "      <td>threading_unit</td>\n",
       "    </tr>\n",
       "  </tbody>\n",
       "</table>\n",
       "</div>"
      ],
      "text/plain": [
       "                               Description  \\\n",
       "0                                 No power   \n",
       "1                Smartscope harness broken   \n",
       "2              Check / Charge Accumulators   \n",
       "3                Hyd leak at saw atachment   \n",
       "4  CS1008 setup change over / from ARC1004   \n",
       "\n",
       "                                          Resolution  \\\n",
       "0  Replaced pin in pendant and powered machine -P...   \n",
       "1                      Parts ordered / Tech repaired   \n",
       "2                                           Where OK   \n",
       "3  Replaced seal in saw attachment but still leak...   \n",
       "4                 Completed / Threading unit rewired   \n",
       "\n",
       "                           p_Item         p_Action              s_Action  \\\n",
       "0            pendant_cable, cable  short, no_power               replace   \n",
       "1              smartscope_harness           broken         order, repair   \n",
       "2                     accumulator    check, charge  no_problem_detected    \n",
       "3  hydraulic, saw_attachment, saw             leak     replace, need_guy   \n",
       "4                 cs1008, arc1004     setup_change      complete, rewire   \n",
       "\n",
       "               s_Item  \n",
       "0                 pin  \n",
       "1  smartscope_harness  \n",
       "2                 NaN  \n",
       "3                seal  \n",
       "4      threading_unit  "
      ]
     },
     "execution_count": 3,
     "metadata": {},
     "output_type": "execute_result"
    }
   ],
   "source": [
    "data_directory = os.path.join('.', 'data')\n",
    "raw_excel_filepath = os.path.join(data_directory,\n",
    "                                   'tag_data.xlsx')\n",
    "\n",
    "df = pd.read_excel(raw_excel_filepath, header=1, names=['Description','Resolution','p_Item','p_Action','s_Action','s_Item'])\n",
    "\n",
    "df.Description = df.Description.fillna('').apply(lambda x: x.replace('\\n',' '))\n",
    "df.Resolution = df.Resolution.fillna('').apply(lambda x: x.replace('\\n',' '))\n",
    "\n",
    "print df.shape\n",
    "df.head()"
   ]
  },
  {
   "cell_type": "code",
   "execution_count": 4,
   "metadata": {},
   "outputs": [
    {
     "name": "stdout",
     "output_type": "stream",
     "text": [
      "Text from 3,438 maintenence logs in the txt file.\n"
     ]
    }
   ],
   "source": [
    "from itertools import chain\n",
    "docs_df = df[['Description','Resolution']].apply(lambda x: '. '.join(x), axis=1)\n",
    "# docs_df.head()\n",
    "\n",
    "log_txt_filepath = os.path.join(data_directory,\n",
    "                                   'raw_text_all.txt')\n",
    "write_to_txt(log_txt_filepath, docs_df)"
   ]
  },
  {
   "cell_type": "code",
   "execution_count": 6,
   "metadata": {},
   "outputs": [
    {
     "name": "stdout",
     "output_type": "stream",
     "text": [
      "making new file...\n",
      "Replacing NaN\n",
      "Replacing NaN\n",
      "Replacing NaN\n"
     ]
    }
   ],
   "source": [
    "clean_docs_filepath = os.path.join(data_directory,\n",
    "                                        'cleaned_docs_all.txt')\n",
    "write_clean_docs(clean_docs_filepath, log_txt_filepath)\n",
    "# trigram_logs_filepath = os.path.join(data_directory,\n",
    "#                                         'trigram_transformed_descriptions_all.txt')\n",
    "# trigram_docs(log_txt_filepath, trigram_logs_filepath)"
   ]
  },
  {
   "cell_type": "code",
   "execution_count": 8,
   "metadata": {},
   "outputs": [
    {
     "name": "stdout",
     "output_type": "stream",
     "text": [
      "(3438L,) (3438L,)\n"
     ]
    },
    {
     "data": {
      "text/plain": [
       "('Machine will only run with clip. Contacts of 3CR were not latching 2CR to indicate stock present.  Moved to different set of contacts on same relay.',\n",
       " u'Machine will only run with clip. Contacts of 3CR were not latching 2CR to indicate stock present.  Moved to different set of contacts on same relay.',\n",
       " 'machine run clip contact 3cr latch 2cr indicate stock present different set contact relay')"
      ]
     },
     "execution_count": 8,
     "metadata": {},
     "output_type": "execute_result"
    }
   ],
   "source": [
    "# from gensim.models.word2vec import LineSentence\n",
    "# clean_docs = LineSentence(clean_filepath)\n",
    "bad_corpus = np.loadtxt(log_txt_filepath, delimiter='\\n', dtype=str, comments=None)\n",
    "# corpus = np.loadtxt(trigram_logs_filepath, delimiter='\\n', dtype=str, comments=None)\n",
    "corpus = np.loadtxt(clean_docs_filepath, delimiter='\\n', dtype=str, comments=None)\n",
    "print corpus.shape, bad_corpus.shape\n",
    "bad_corpus[1029], docs_df[1029], corpus[1029]\n",
    "# pd.read_csv(log_txt_filepath, sep='\\n', header=None, dtype=str, squeeze=True).shape"
   ]
  },
  {
   "cell_type": "code",
   "execution_count": 20,
   "metadata": {
    "collapsed": true
   },
   "outputs": [],
   "source": [
    "from sklearn.feature_extraction.text import TfidfVectorizer\n",
    "n_samples = 2000\n",
    "n_features = 1000\n",
    "n_topics = 20\n",
    "n_top_words = 5\n",
    "\n",
    "\n",
    "def print_top_words(model, feature_names, n_top_words):\n",
    "    for topic_idx, topic in enumerate(model.components_):\n",
    "        print(\"Topic #%d:\" % topic_idx)\n",
    "        print(\", \".join([feature_names[i]\n",
    "                        for i in topic.argsort()[:-n_top_words - 1:-1]]))\n",
    "    print()\n",
    "    \n",
    "tfidf = TfidfVectorizer(min_df=1, ngram_range=(1,3), sublinear_tf=True)"
   ]
  },
  {
   "cell_type": "code",
   "execution_count": 21,
   "metadata": {
    "collapsed": true
   },
   "outputs": [],
   "source": [
    "vecs = tfidf.fit_transform(corpus)"
   ]
  },
  {
   "cell_type": "code",
   "execution_count": 22,
   "metadata": {},
   "outputs": [
    {
     "name": "stdout",
     "output_type": "stream",
     "text": [
      "Topic #0:\n",
      "accumulator, accumulator check, check, accumulator check request, check request\n",
      "Topic #1:\n",
      "feeder chain, feeder, feeder chain repair, chain repair, bar feeder chain\n",
      "Topic #2:\n",
      "chip, conveyor, chip conveyor, jam, conveyor jam\n",
      "Topic #3:\n",
      "base clean, clean request, base clean request, clean request complete, request complete\n",
      "Topic #4:\n",
      "motor, replace motor, contactor, overload, replace\n",
      "Topic #5:\n",
      "hydraulic, leak, hydraulic leak, hose, replace\n",
      "Topic #6:\n",
      "bearing, spindle, st, spindle bearing, wear\n",
      "Topic #7:\n",
      "break repair, chain break repair, chain break, chain, break\n",
      "Topic #8:\n",
      "table, index, table index, fault, index fault\n",
      "Topic #9:\n",
      "vogel, vogel lube, lube, lube fault, vogel lube fault\n",
      "Topic #10:\n",
      "screw, clamp, strip, clamp screw, remove\n",
      "Topic #11:\n",
      "unit, brush, brush unit, forward, unit stick forward\n",
      "Topic #12:\n",
      "charge, check charge, accumulator, tag, charge tag\n",
      "Topic #13:\n",
      "coolant, pump, coolant leak, leak, coolant pump\n",
      "Topic #14:\n",
      "clean, clean complete, need clean, base, base need clean\n",
      "Topic #15:\n",
      "inop, detector, drill detector, drill, inop replace\n",
      "Topic #16:\n",
      "track, iemca track, track break, iemca track break, iemca\n",
      "Topic #17:\n",
      "valve, control valve, control, valve replace, leak\n",
      "Topic #18:\n",
      "fuse, blow, blow fuse, replace blow, replace blow fuse\n",
      "Topic #19:\n",
      "clutch, gear, adjust, adjust clutch, gear adjust\n",
      "()\n"
     ]
    }
   ],
   "source": [
    "from sklearn.decomposition import NMF, TruncatedSVD\n",
    "nmf = NMF(n_components=n_topics, random_state=1,\n",
    "          alpha=.1, l1_ratio=.5).fit(vecs)\n",
    "lsa = TruncatedSVD(n_components=n_topics, random_state=1).fit(vecs)\n",
    "\n",
    "\n",
    "tfidf_feature_names = tfidf.get_feature_names()\n",
    "print_top_words(nmf, tfidf_feature_names, n_top_words)"
   ]
  },
  {
   "cell_type": "code",
   "execution_count": 23,
   "metadata": {},
   "outputs": [
    {
     "name": "stdout",
     "output_type": "stream",
     "text": [
      "Topic #0:\n",
      "accumulator, check, charge, accumulator check, 30bar\n",
      "Topic #1:\n",
      "chain, repair, feeder, feeder chain, bar\n",
      "Topic #2:\n",
      "base, clean, complete, chip, base clean\n",
      "Topic #3:\n",
      "base, clean, base clean, complete, clean request\n",
      "Topic #4:\n",
      "chip, conveyor, chip conveyor, jam, conveyor jam\n",
      "Topic #5:\n",
      "leak, hydraulic, hydraulic leak, hose, coolant\n",
      "Topic #6:\n",
      "bearing, spindle, st, spindle bearing, wear\n",
      "Topic #7:\n",
      "break, break repair, chain break repair, chain break, loader\n",
      "Topic #8:\n",
      "table, fault, index, table index, vogel\n",
      "Topic #9:\n",
      "vogel, unit, bearing, vogel lube, lube\n",
      "Topic #10:\n",
      "screw, vogel, clamp, remove, vogel lube\n",
      "Topic #11:\n",
      "screw, brush, table, brush unit, unit\n",
      "Topic #12:\n",
      "check charge, charge, need clean, base need clean, base need\n",
      "Topic #13:\n",
      "iemca, cable, track, replace, sensor\n",
      "Topic #14:\n",
      "need, need clean, base need clean, base need, clean complete\n",
      "Topic #15:\n",
      "track, iemca, coolant, iemca track, track break\n",
      "Topic #16:\n",
      "valve, motor, replace, track, break\n",
      "Topic #17:\n",
      "valve, coolant, leak, control valve, control\n",
      "Topic #18:\n",
      "table, table index, index, coolant, break\n",
      "Topic #19:\n",
      "clutch, adjust, gear, disc, broken\n",
      "()\n"
     ]
    }
   ],
   "source": [
    "print_top_words(lsa, tfidf_feature_names, n_top_words)"
   ]
  },
  {
   "cell_type": "code",
   "execution_count": 24,
   "metadata": {
    "collapsed": true
   },
   "outputs": [],
   "source": [
    "X_tf = np.copy(vecs) \n",
    "X_lsa = lsa.transform(vecs)\n",
    "X_nmf = nmf.transform(vecs)\n"
   ]
  },
  {
   "cell_type": "code",
   "execution_count": 25,
   "metadata": {},
   "outputs": [
    {
     "name": "stdout",
     "output_type": "stream",
     "text": [
      "using all classes (1464L, 95L)\n",
      "using non-unique classes (1444L, 51L)\n"
     ]
    },
    {
     "data": {
      "image/png": "[encoded data removed]",
      "text/plain": [
       "<matplotlib.figure.Figure at 0x24c02c50>"
      ]
     },
     "metadata": {},
     "output_type": "display_data"
    }
   ],
   "source": [
    "mask_s_Action = df.s_Action.notnull().tolist() \n",
    "#BROKEN :(\n",
    "s_actions = df.s_Action[mask_s_Action].apply(lambda x: x.split(', ')).tolist()\n",
    "\n",
    "\n",
    "from sklearn.preprocessing import MultiLabelBinarizer\n",
    "\n",
    "multi_bin =  MultiLabelBinarizer().fit(s_actions)\n",
    "Y_temp = multi_bin.transform(s_actions)\n",
    "print 'using all classes', Y_temp.shape\n",
    "# print np.sort(Y_temp.sum(axis=0))[::-1]\n",
    "plt.fill_between(range(Y_temp.shape[1]), np.sort(Y_temp.sum(axis=0))[::-1])\n",
    "plt.yscale('log')\n",
    "\n",
    "thres = 1\n",
    "plt.title('Solution Action Tag Frequencies')\n",
    "used_classes = multi_bin.classes_[Y_temp.sum(axis=0)>thres]\n",
    "s_act_thres = pd.Series([[i for i in s if i in used_classes] for s in s_actions])\n",
    "mask = [i!=list([]) for i in s_act_thres.values]\n",
    "s_act_thres = s_act_thres[mask]\n",
    "binlab = MultiLabelBinarizer().fit(s_act_thres)\n",
    "Y_train = binlab.transform(s_act_thres)\n",
    "plt.axvline(Y_train.shape[1], ls=':', label='cutoff for thres={}'.format(thres))\n",
    "plt.legend()\n",
    "print 'using non-unique classes', Y_train.shape"
   ]
  },
  {
   "cell_type": "code",
   "execution_count": 142,
   "metadata": {},
   "outputs": [
    {
     "data": {
      "text/plain": [
       "Series([], Name: s_Action, dtype: object)"
      ]
     },
     "execution_count": 142,
     "metadata": {},
     "output_type": "execute_result"
    }
   ],
   "source": [
    "s_act_thres\n",
    "df.s_Action[[i=='[]' for i in df.s_Action.values]]"
   ]
  },
  {
   "cell_type": "code",
   "execution_count": 26,
   "metadata": {},
   "outputs": [
    {
     "data": {
      "text/plain": [
       "<matplotlib.collections.PathCollection at 0xad7f59b0>"
      ]
     },
     "execution_count": 26,
     "metadata": {},
     "output_type": "execute_result"
    },
    {
     "data": {
      "image/png": "[encoded data removed]",
      "text/plain": [
       "<matplotlib.figure.Figure at 0xacfb1860>"
      ]
     },
     "metadata": {},
     "output_type": "display_data"
    }
   ],
   "source": [
    "from sklearn.manifold import TSNE\n",
    "\n",
    "\n",
    "model = TSNE()\n",
    "X_proj = model.fit_transform(X_lsa) \n",
    "plt.scatter(X_proj[:,0],X_proj[:,1])"
   ]
  },
  {
   "cell_type": "code",
   "execution_count": 37,
   "metadata": {},
   "outputs": [
    {
     "data": {
      "text/plain": [
       "array([ 0.01435114,  0.03207383,  0.02332928, -0.01704821, -0.03942003,\n",
       "       -0.00622737, -0.02409078,  0.01866447, -0.01371956, -0.03754695,\n",
       "       -0.00818423, -0.02621014, -0.02632895,  0.03315192,  0.01924376,\n",
       "        0.01679267, -0.01849451, -0.03503696, -0.0783184 ,  0.0177486 ])"
      ]
     },
     "execution_count": 37,
     "metadata": {},
     "output_type": "execute_result"
    }
   ],
   "source": [
    "X_lsa[0]"
   ]
  },
  {
   "cell_type": "code",
   "execution_count": 27,
   "metadata": {
    "collapsed": true
   },
   "outputs": [],
   "source": [
    "from sklearn.multiclass import OneVsRestClassifier\n",
    "from sklearn.svm import SVC"
   ]
  },
  {
   "cell_type": "code",
   "execution_count": 31,
   "metadata": {},
   "outputs": [
    {
     "name": "stdout",
     "output_type": "stream",
     "text": [
      "0.064404432133\n"
     ]
    }
   ],
   "source": [
    "X_train = X_nmf[mask_s_Action][mask]\n",
    "X_test = X_nmf[np.logical_not(mask_s_Action)]\n",
    "\n",
    "clf = OneVsRestClassifier(SVC(kernel='linear', decision_function_shape='ovr'))\n",
    "clf.fit(X_train, Y_train)\n",
    "print clf.score(X_train, Y_train)"
   ]
  },
  {
   "cell_type": "code",
   "execution_count": 33,
   "metadata": {},
   "outputs": [
    {
     "name": "stdout",
     "output_type": "stream",
     "text": [
      "0.27216066482\n"
     ]
    }
   ],
   "source": [
    "\n",
    "\n",
    "X_train = X_lsa[mask_s_Action][mask]\n",
    "# X_test = X_lsa[np.logical_not(mask_s_Action)]\n",
    "\n",
    "clf = OneVsRestClassifier(SVC(kernel='linear', decision_function_shape='ovr', shrinking=False, probability=True))\n",
    "clf.fit(X_train, Y_train)\n",
    "print clf.score(X_train, Y_train)\n"
   ]
  },
  {
   "cell_type": "code",
   "execution_count": 34,
   "metadata": {},
   "outputs": [
    {
     "data": {
      "text/html": [
       "<div>\n",
       "<style>\n",
       "    .dataframe thead tr:only-child th {\n",
       "        text-align: right;\n",
       "    }\n",
       "\n",
       "    .dataframe thead th {\n",
       "        text-align: left;\n",
       "    }\n",
       "\n",
       "    .dataframe tbody tr th {\n",
       "        vertical-align: top;\n",
       "    }\n",
       "</style>\n",
       "<table border=\"1\" class=\"dataframe\">\n",
       "  <thead>\n",
       "    <tr style=\"text-align: right;\">\n",
       "      <th></th>\n",
       "      <th>Pred</th>\n",
       "      <th>True</th>\n",
       "    </tr>\n",
       "  </thead>\n",
       "  <tbody>\n",
       "    <tr>\n",
       "      <th>0</th>\n",
       "      <td>replace</td>\n",
       "      <td>replace</td>\n",
       "    </tr>\n",
       "    <tr>\n",
       "      <th>1</th>\n",
       "      <td></td>\n",
       "      <td>order, repair</td>\n",
       "    </tr>\n",
       "    <tr>\n",
       "      <th>2</th>\n",
       "      <td>charge</td>\n",
       "      <td>no_problem_detected</td>\n",
       "    </tr>\n",
       "    <tr>\n",
       "      <th>3</th>\n",
       "      <td></td>\n",
       "      <td>need_guy, replace</td>\n",
       "    </tr>\n",
       "    <tr>\n",
       "      <th>4</th>\n",
       "      <td></td>\n",
       "      <td>complete, rewire</td>\n",
       "    </tr>\n",
       "    <tr>\n",
       "      <th>5</th>\n",
       "      <td></td>\n",
       "      <td>remove, replace</td>\n",
       "    </tr>\n",
       "    <tr>\n",
       "      <th>6</th>\n",
       "      <td>charge</td>\n",
       "      <td>charge, check</td>\n",
       "    </tr>\n",
       "    <tr>\n",
       "      <th>7</th>\n",
       "      <td></td>\n",
       "      <td>repair</td>\n",
       "    </tr>\n",
       "    <tr>\n",
       "      <th>8</th>\n",
       "      <td>replace</td>\n",
       "      <td>replace</td>\n",
       "    </tr>\n",
       "    <tr>\n",
       "      <th>9</th>\n",
       "      <td></td>\n",
       "      <td>clean, remove</td>\n",
       "    </tr>\n",
       "    <tr>\n",
       "      <th>10</th>\n",
       "      <td></td>\n",
       "      <td>no_action_taken</td>\n",
       "    </tr>\n",
       "    <tr>\n",
       "      <th>11</th>\n",
       "      <td></td>\n",
       "      <td>replace</td>\n",
       "    </tr>\n",
       "    <tr>\n",
       "      <th>12</th>\n",
       "      <td></td>\n",
       "      <td>swap</td>\n",
       "    </tr>\n",
       "    <tr>\n",
       "      <th>13</th>\n",
       "      <td>charge</td>\n",
       "      <td>charge, check</td>\n",
       "    </tr>\n",
       "    <tr>\n",
       "      <th>14</th>\n",
       "      <td></td>\n",
       "      <td>crank, hand_crank</td>\n",
       "    </tr>\n",
       "    <tr>\n",
       "      <th>15</th>\n",
       "      <td>replace</td>\n",
       "      <td>replace, swap</td>\n",
       "    </tr>\n",
       "    <tr>\n",
       "      <th>16</th>\n",
       "      <td></td>\n",
       "      <td>clean</td>\n",
       "    </tr>\n",
       "    <tr>\n",
       "      <th>17</th>\n",
       "      <td></td>\n",
       "      <td>replace</td>\n",
       "    </tr>\n",
       "    <tr>\n",
       "      <th>18</th>\n",
       "      <td></td>\n",
       "      <td>adjust</td>\n",
       "    </tr>\n",
       "    <tr>\n",
       "      <th>19</th>\n",
       "      <td></td>\n",
       "      <td>remove</td>\n",
       "    </tr>\n",
       "    <tr>\n",
       "      <th>20</th>\n",
       "      <td>replace</td>\n",
       "      <td>replace</td>\n",
       "    </tr>\n",
       "    <tr>\n",
       "      <th>21</th>\n",
       "      <td></td>\n",
       "      <td>rebuild</td>\n",
       "    </tr>\n",
       "    <tr>\n",
       "      <th>22</th>\n",
       "      <td></td>\n",
       "      <td>adjust, replace</td>\n",
       "    </tr>\n",
       "    <tr>\n",
       "      <th>23</th>\n",
       "      <td></td>\n",
       "      <td>swap</td>\n",
       "    </tr>\n",
       "    <tr>\n",
       "      <th>24</th>\n",
       "      <td>replace</td>\n",
       "      <td>replace</td>\n",
       "    </tr>\n",
       "    <tr>\n",
       "      <th>25</th>\n",
       "      <td></td>\n",
       "      <td>no_action_taken</td>\n",
       "    </tr>\n",
       "    <tr>\n",
       "      <th>26</th>\n",
       "      <td></td>\n",
       "      <td>swap</td>\n",
       "    </tr>\n",
       "    <tr>\n",
       "      <th>27</th>\n",
       "      <td></td>\n",
       "      <td>replace</td>\n",
       "    </tr>\n",
       "    <tr>\n",
       "      <th>28</th>\n",
       "      <td></td>\n",
       "      <td>replace</td>\n",
       "    </tr>\n",
       "    <tr>\n",
       "      <th>29</th>\n",
       "      <td>replace</td>\n",
       "      <td>drain, install, replace</td>\n",
       "    </tr>\n",
       "    <tr>\n",
       "      <th>...</th>\n",
       "      <td>...</td>\n",
       "      <td>...</td>\n",
       "    </tr>\n",
       "    <tr>\n",
       "      <th>1414</th>\n",
       "      <td></td>\n",
       "      <td>complete</td>\n",
       "    </tr>\n",
       "    <tr>\n",
       "      <th>1415</th>\n",
       "      <td></td>\n",
       "      <td>no_action_taken</td>\n",
       "    </tr>\n",
       "    <tr>\n",
       "      <th>1416</th>\n",
       "      <td>charge</td>\n",
       "      <td>charge</td>\n",
       "    </tr>\n",
       "    <tr>\n",
       "      <th>1417</th>\n",
       "      <td></td>\n",
       "      <td>no_action_taken</td>\n",
       "    </tr>\n",
       "    <tr>\n",
       "      <th>1418</th>\n",
       "      <td></td>\n",
       "      <td>no_action_taken</td>\n",
       "    </tr>\n",
       "    <tr>\n",
       "      <th>1419</th>\n",
       "      <td></td>\n",
       "      <td>no_problem_detected</td>\n",
       "    </tr>\n",
       "    <tr>\n",
       "      <th>1420</th>\n",
       "      <td>charge</td>\n",
       "      <td>charge</td>\n",
       "    </tr>\n",
       "    <tr>\n",
       "      <th>1421</th>\n",
       "      <td>replace</td>\n",
       "      <td>replace</td>\n",
       "    </tr>\n",
       "    <tr>\n",
       "      <th>1422</th>\n",
       "      <td></td>\n",
       "      <td>complete</td>\n",
       "    </tr>\n",
       "    <tr>\n",
       "      <th>1423</th>\n",
       "      <td></td>\n",
       "      <td>no_problem_detected</td>\n",
       "    </tr>\n",
       "    <tr>\n",
       "      <th>1424</th>\n",
       "      <td></td>\n",
       "      <td>no_action_taken</td>\n",
       "    </tr>\n",
       "    <tr>\n",
       "      <th>1425</th>\n",
       "      <td></td>\n",
       "      <td>replace</td>\n",
       "    </tr>\n",
       "    <tr>\n",
       "      <th>1426</th>\n",
       "      <td></td>\n",
       "      <td>adjust</td>\n",
       "    </tr>\n",
       "    <tr>\n",
       "      <th>1427</th>\n",
       "      <td>remove, replace</td>\n",
       "      <td>remove, replace</td>\n",
       "    </tr>\n",
       "    <tr>\n",
       "      <th>1428</th>\n",
       "      <td></td>\n",
       "      <td>no_action_taken</td>\n",
       "    </tr>\n",
       "    <tr>\n",
       "      <th>1429</th>\n",
       "      <td>charge</td>\n",
       "      <td>charge</td>\n",
       "    </tr>\n",
       "    <tr>\n",
       "      <th>1430</th>\n",
       "      <td>charge</td>\n",
       "      <td>charge</td>\n",
       "    </tr>\n",
       "    <tr>\n",
       "      <th>1431</th>\n",
       "      <td></td>\n",
       "      <td>no_action_taken</td>\n",
       "    </tr>\n",
       "    <tr>\n",
       "      <th>1432</th>\n",
       "      <td>replace</td>\n",
       "      <td>replace</td>\n",
       "    </tr>\n",
       "    <tr>\n",
       "      <th>1433</th>\n",
       "      <td></td>\n",
       "      <td>adjust</td>\n",
       "    </tr>\n",
       "    <tr>\n",
       "      <th>1434</th>\n",
       "      <td></td>\n",
       "      <td>no_action_taken</td>\n",
       "    </tr>\n",
       "    <tr>\n",
       "      <th>1435</th>\n",
       "      <td></td>\n",
       "      <td>replace</td>\n",
       "    </tr>\n",
       "    <tr>\n",
       "      <th>1436</th>\n",
       "      <td></td>\n",
       "      <td>check, replace, tag</td>\n",
       "    </tr>\n",
       "    <tr>\n",
       "      <th>1437</th>\n",
       "      <td>charge</td>\n",
       "      <td>no_problem_detected</td>\n",
       "    </tr>\n",
       "    <tr>\n",
       "      <th>1438</th>\n",
       "      <td></td>\n",
       "      <td>no_action_taken</td>\n",
       "    </tr>\n",
       "    <tr>\n",
       "      <th>1439</th>\n",
       "      <td></td>\n",
       "      <td>train</td>\n",
       "    </tr>\n",
       "    <tr>\n",
       "      <th>1440</th>\n",
       "      <td>charge</td>\n",
       "      <td>charge, tag</td>\n",
       "    </tr>\n",
       "    <tr>\n",
       "      <th>1441</th>\n",
       "      <td></td>\n",
       "      <td>no_action_taken</td>\n",
       "    </tr>\n",
       "    <tr>\n",
       "      <th>1442</th>\n",
       "      <td></td>\n",
       "      <td>no_action_taken</td>\n",
       "    </tr>\n",
       "    <tr>\n",
       "      <th>1443</th>\n",
       "      <td>replace</td>\n",
       "      <td>no_action_taken</td>\n",
       "    </tr>\n",
       "  </tbody>\n",
       "</table>\n",
       "<p>1444 rows × 2 columns</p>\n",
       "</div>"
      ],
      "text/plain": [
       "                 Pred                     True\n",
       "0             replace                  replace\n",
       "1                                order, repair\n",
       "2              charge     no_problem_detected \n",
       "3                            need_guy, replace\n",
       "4                             complete, rewire\n",
       "5                              remove, replace\n",
       "6              charge            charge, check\n",
       "7                                       repair\n",
       "8             replace                  replace\n",
       "9                                clean, remove\n",
       "10                             no_action_taken\n",
       "11                                     replace\n",
       "12                                        swap\n",
       "13             charge            charge, check\n",
       "14                           crank, hand_crank\n",
       "15            replace            replace, swap\n",
       "16                                       clean\n",
       "17                                     replace\n",
       "18                                      adjust\n",
       "19                                      remove\n",
       "20            replace                  replace\n",
       "21                                     rebuild\n",
       "22                             adjust, replace\n",
       "23                                        swap\n",
       "24            replace                  replace\n",
       "25                             no_action_taken\n",
       "26                                        swap\n",
       "27                                     replace\n",
       "28                                     replace\n",
       "29            replace  drain, install, replace\n",
       "...               ...                      ...\n",
       "1414                                  complete\n",
       "1415                           no_action_taken\n",
       "1416           charge                   charge\n",
       "1417                           no_action_taken\n",
       "1418                           no_action_taken\n",
       "1419                       no_problem_detected\n",
       "1420           charge                   charge\n",
       "1421          replace                  replace\n",
       "1422                                  complete\n",
       "1423                       no_problem_detected\n",
       "1424                           no_action_taken\n",
       "1425                                   replace\n",
       "1426                                    adjust\n",
       "1427  remove, replace          remove, replace\n",
       "1428                           no_action_taken\n",
       "1429           charge                   charge\n",
       "1430           charge                   charge\n",
       "1431                           no_action_taken\n",
       "1432          replace                  replace\n",
       "1433                                    adjust\n",
       "1434                           no_action_taken\n",
       "1435                                   replace\n",
       "1436                       check, replace, tag\n",
       "1437           charge      no_problem_detected\n",
       "1438                           no_action_taken\n",
       "1439                                     train\n",
       "1440           charge              charge, tag\n",
       "1441                           no_action_taken\n",
       "1442                           no_action_taken\n",
       "1443          replace          no_action_taken\n",
       "\n",
       "[1444 rows x 2 columns]"
      ]
     },
     "execution_count": 34,
     "metadata": {},
     "output_type": "execute_result"
    }
   ],
   "source": [
    "pd.DataFrame(data={'Pred':[str(', '.join(i)) for i in binlab.inverse_transform(clf.predict(X_train))],\n",
    "             'True':[str(', '.join(i)) for i in binlab.inverse_transform(Y_train)]})"
   ]
  },
  {
   "cell_type": "code",
   "execution_count": 110,
   "metadata": {
    "collapsed": true
   },
   "outputs": [],
   "source": [
    "df_out = df.copy()\n",
    "df_out['s_Actions_Pred'] = [str(', '.join(i)) for i in binlab.inverse_transform(clf.predict(X_lsa))]"
   ]
  },
  {
   "cell_type": "code",
   "execution_count": 105,
   "metadata": {
    "collapsed": true
   },
   "outputs": [],
   "source": [
    "df_out.to_excel('svc_multLab_1.xlsx')"
   ]
  }
 ],
 "metadata": {
  "hide_input": false,
  "kernelspec": {
   "display_name": "Python 3",
   "language": "python",
   "name": "python3"
  },
  "language_info": {
   "codemirror_mode": {
    "name": "ipython",
    "version": 3
   },
   "file_extension": ".py",
   "mimetype": "text/x-python",
   "name": "python",
   "nbconvert_exporter": "python",
   "pygments_lexer": "ipython3",
   "version": "3.6.2"
  },
  "varInspector": {
   "cols": {
    "lenName": 16,
    "lenType": 16,
    "lenVar": 40
   },
   "kernels_config": {
    "python": {
     "delete_cmd_postfix": "",
     "delete_cmd_prefix": "del ",
     "library": "var_list.py",
     "varRefreshCmd": "print(var_dic_list())"
    },
    "r": {
     "delete_cmd_postfix": ") ",
     "delete_cmd_prefix": "rm(",
     "library": "var_list.r",
     "varRefreshCmd": "cat(var_dic_list()) "
    }
   },
   "types_to_exclude": [
    "module",
    "function",
    "builtin_function_or_method",
    "instance",
    "_Feature"
   ],
   "window_display": false
  }
 },
 "nbformat": 4,
 "nbformat_minor": 2
}

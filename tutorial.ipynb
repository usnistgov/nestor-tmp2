{
 "cells": [
  {
   "cell_type": "code",
   "execution_count": 1,
   "metadata": {
    "collapsed": true
   },
   "outputs": [],
   "source": [
    "## For debbugging\n",
    "%load_ext autoreload"
   ]
  },
  {
   "cell_type": "code",
   "execution_count": 2,
   "metadata": {
    "collapsed": true
   },
   "outputs": [],
   "source": [
    "## for debugging:\n",
    "%aimport mlp.keyword\n",
    "%aimport mlp.tools\n",
    "%autoreload 1\n",
    "from mlp.keyword import *"
   ]
  },
  {
   "cell_type": "code",
   "execution_count": 3,
   "metadata": {
    "collapsed": true
   },
   "outputs": [],
   "source": [
    "import numpy as np\n",
    "import pandas as pd\n",
    "import seaborn as sns\n",
    "import matplotlib.pyplot as plt\n",
    "from tqdm import tqdm_notebook\n",
    "%matplotlib inline\n"
   ]
  },
  {
   "cell_type": "code",
   "execution_count": 4,
   "metadata": {},
   "outputs": [
    {
     "name": "stdout",
     "output_type": "stream",
     "text": [
      "{' -': '; '}\n"
     ]
    }
   ],
   "source": [
    "data_directory = os.path.join('./data', 'gs_data')\n",
    "nl_col = {\n",
    "    \"Description\": 5,\n",
    "    \"Resolution\": 6\n",
    "}\n",
    "\n",
    "#TODO\n",
    "# meta_col = {\n",
    "\n",
    "# }\n",
    "\n",
    "kex_gs = KeywordExtractor('Maintenance_All_Clean.xlsx',\n",
    "                       nlp_cols=nl_col,\n",
    "#                       meta_cols = meta_col,\n",
    "                       special_replace={' -': '; '},\n",
    "                       wdir=data_directory,\n",
    "                       keep_temp_files=True\n",
    "                      )"
   ]
  },
  {
   "cell_type": "code",
   "execution_count": 5,
   "metadata": {},
   "outputs": [
    {
     "data": {
      "text/html": [
       "<div>\n",
       "<style>\n",
       "    .dataframe thead tr:only-child th {\n",
       "        text-align: right;\n",
       "    }\n",
       "\n",
       "    .dataframe thead th {\n",
       "        text-align: left;\n",
       "    }\n",
       "\n",
       "    .dataframe tbody tr th {\n",
       "        vertical-align: top;\n",
       "    }\n",
       "</style>\n",
       "<table border=\"1\" class=\"dataframe\">\n",
       "  <thead>\n",
       "    <tr style=\"text-align: right;\">\n",
       "      <th></th>\n",
       "      <th>Description</th>\n",
       "      <th>Resolution</th>\n",
       "      <th>RawText</th>\n",
       "    </tr>\n",
       "  </thead>\n",
       "  <tbody>\n",
       "    <tr>\n",
       "      <th>0</th>\n",
       "      <td>Broken bar feeder chain</td>\n",
       "      <td>Repaired</td>\n",
       "      <td>break bar_feeder chain_repair</td>\n",
       "    </tr>\n",
       "    <tr>\n",
       "      <th>1</th>\n",
       "      <td>No power</td>\n",
       "      <td>Replaced pin in pendant and powered machine; P...</td>\n",
       "      <td>no_power replace pin pendant power machine pos...</td>\n",
       "    </tr>\n",
       "    <tr>\n",
       "      <th>2</th>\n",
       "      <td>Smartscope harness broken</td>\n",
       "      <td>Parts ordered / Tech repaired</td>\n",
       "      <td>smartscope harness break order tech repair</td>\n",
       "    </tr>\n",
       "    <tr>\n",
       "      <th>3</th>\n",
       "      <td>Check / Charge Accumulators</td>\n",
       "      <td>Where OK</td>\n",
       "      <td>check_charge accumulator ok</td>\n",
       "    </tr>\n",
       "    <tr>\n",
       "      <th>4</th>\n",
       "      <td>Hyd leak at saw atachment</td>\n",
       "      <td>Replaced seal in saw attachment but still leak...</td>\n",
       "      <td>hyd_leak saw atachment replace seal saw_attach...</td>\n",
       "    </tr>\n",
       "  </tbody>\n",
       "</table>\n",
       "</div>"
      ],
      "text/plain": [
       "                   Description  \\\n",
       "0      Broken bar feeder chain   \n",
       "1                     No power   \n",
       "2    Smartscope harness broken   \n",
       "3  Check / Charge Accumulators   \n",
       "4    Hyd leak at saw atachment   \n",
       "\n",
       "                                          Resolution  \\\n",
       "0                                           Repaired   \n",
       "1  Replaced pin in pendant and powered machine; P...   \n",
       "2                      Parts ordered / Tech repaired   \n",
       "3                                           Where OK   \n",
       "4  Replaced seal in saw attachment but still leak...   \n",
       "\n",
       "                                             RawText  \n",
       "0                      break bar_feeder chain_repair  \n",
       "1  no_power replace pin pendant power machine pos...  \n",
       "2         smartscope harness break order tech repair  \n",
       "3                        check_charge accumulator ok  \n",
       "4  hyd_leak saw atachment replace seal saw_attach...  "
      ]
     },
     "execution_count": 5,
     "metadata": {},
     "output_type": "execute_result"
    }
   ],
   "source": [
    "# what we extracted...we'll be using 'RawText'\n",
    "kex_gs.df.head()"
   ]
  },
  {
   "cell_type": "code",
   "execution_count": 6,
   "metadata": {
    "collapsed": true
   },
   "outputs": [],
   "source": [
    "# use this to make a properly formatted thesaurus file for human-annotation\n",
    "# kex.gen_vocab('tag_vocab.csv', notes=True)  # rename to match e.g. hvac_vocab.csv\n"
   ]
  },
  {
   "cell_type": "code",
   "execution_count": 7,
   "metadata": {},
   "outputs": [
    {
     "data": {
      "text/html": [
       "<div>\n",
       "<style>\n",
       "    .dataframe thead tr:only-child th {\n",
       "        text-align: right;\n",
       "    }\n",
       "\n",
       "    .dataframe thead th {\n",
       "        text-align: left;\n",
       "    }\n",
       "\n",
       "    .dataframe tbody tr th {\n",
       "        vertical-align: top;\n",
       "    }\n",
       "</style>\n",
       "<table border=\"1\" class=\"dataframe\">\n",
       "  <thead>\n",
       "    <tr style=\"text-align: right;\">\n",
       "      <th></th>\n",
       "      <th>NE</th>\n",
       "      <th>alias</th>\n",
       "      <th>note</th>\n",
       "    </tr>\n",
       "    <tr>\n",
       "      <th>token</th>\n",
       "      <th></th>\n",
       "      <th></th>\n",
       "      <th></th>\n",
       "    </tr>\n",
       "  </thead>\n",
       "  <tbody>\n",
       "    <tr>\n",
       "      <th>replace</th>\n",
       "      <td>S</td>\n",
       "      <td>replace</td>\n",
       "      <td>NaN</td>\n",
       "    </tr>\n",
       "    <tr>\n",
       "      <th>unit</th>\n",
       "      <td>I</td>\n",
       "      <td>unit</td>\n",
       "      <td>NaN</td>\n",
       "    </tr>\n",
       "    <tr>\n",
       "      <th>motor</th>\n",
       "      <td>I</td>\n",
       "      <td>motor</td>\n",
       "      <td>NaN</td>\n",
       "    </tr>\n",
       "    <tr>\n",
       "      <th>spindle</th>\n",
       "      <td>I</td>\n",
       "      <td>spindle</td>\n",
       "      <td>NaN</td>\n",
       "    </tr>\n",
       "    <tr>\n",
       "      <th>leak</th>\n",
       "      <td>P</td>\n",
       "      <td>leak</td>\n",
       "      <td>NaN</td>\n",
       "    </tr>\n",
       "    <tr>\n",
       "      <th>valve</th>\n",
       "      <td>I</td>\n",
       "      <td>valve</td>\n",
       "      <td>NaN</td>\n",
       "    </tr>\n",
       "    <tr>\n",
       "      <th>replaced</th>\n",
       "      <td>S</td>\n",
       "      <td>replace</td>\n",
       "      <td>NaN</td>\n",
       "    </tr>\n",
       "  </tbody>\n",
       "</table>\n",
       "</div>"
      ],
      "text/plain": [
       "         NE    alias note\n",
       "token                    \n",
       "replace   S  replace  NaN\n",
       "unit      I     unit  NaN\n",
       "motor     I    motor  NaN\n",
       "spindle   I  spindle  NaN\n",
       "leak      P     leak  NaN\n",
       "valve     I    valve  NaN\n",
       "replaced  S  replace  NaN"
      ]
     },
     "execution_count": 7,
     "metadata": {},
     "output_type": "execute_result"
    }
   ],
   "source": [
    "# \"fit\" a thesaurus to the data\n",
    "kex_gs.fit(vocab='tag_vocab.csv')\n",
    "kex_gs.vocab.head(n=7)"
   ]
  },
  {
   "cell_type": "code",
   "execution_count": 8,
   "metadata": {
    "scrolled": true
   },
   "outputs": [
    {
     "name": "stderr",
     "output_type": "stream",
     "text": [
      "100%|██████████| 3431/3431 [00:06<00:00, 519.42it/s]\n"
     ]
    },
    {
     "data": {
      "text/html": [
       "<div>\n",
       "<style>\n",
       "    .dataframe thead tr:only-child th {\n",
       "        text-align: right;\n",
       "    }\n",
       "\n",
       "    .dataframe thead th {\n",
       "        text-align: left;\n",
       "    }\n",
       "\n",
       "    .dataframe tbody tr th {\n",
       "        vertical-align: top;\n",
       "    }\n",
       "</style>\n",
       "<table border=\"1\" class=\"dataframe\">\n",
       "  <thead>\n",
       "    <tr style=\"text-align: right;\">\n",
       "      <th></th>\n",
       "      <th>RawText</th>\n",
       "      <th>Items</th>\n",
       "      <th>Problem</th>\n",
       "      <th>Solution</th>\n",
       "      <th>UK_tok</th>\n",
       "    </tr>\n",
       "  </thead>\n",
       "  <tbody>\n",
       "    <tr>\n",
       "      <th>0</th>\n",
       "      <td>break bar_feeder chain_repair</td>\n",
       "      <td></td>\n",
       "      <td>broken</td>\n",
       "      <td></td>\n",
       "      <td>bar_feeder chain_repair, bar_feeder, chain_repair</td>\n",
       "    </tr>\n",
       "    <tr>\n",
       "      <th>1</th>\n",
       "      <td>no_power replace pin pendant power machine pos...</td>\n",
       "      <td>cable, pendant, pin, machine</td>\n",
       "      <td>short, power</td>\n",
       "      <td>replace</td>\n",
       "      <td>no_power</td>\n",
       "    </tr>\n",
       "    <tr>\n",
       "      <th>2</th>\n",
       "      <td>smartscope harness break order tech repair</td>\n",
       "      <td>person</td>\n",
       "      <td>broken</td>\n",
       "      <td>repair, order</td>\n",
       "      <td>harness, smartscope</td>\n",
       "    </tr>\n",
       "    <tr>\n",
       "      <th>3</th>\n",
       "      <td>check_charge accumulator ok</td>\n",
       "      <td>accumulator</td>\n",
       "      <td></td>\n",
       "      <td></td>\n",
       "      <td>check_charge</td>\n",
       "    </tr>\n",
       "    <tr>\n",
       "      <th>4</th>\n",
       "      <td>hyd_leak saw atachment replace seal saw_attach...</td>\n",
       "      <td>seal</td>\n",
       "      <td>leak</td>\n",
       "      <td>replace</td>\n",
       "      <td>ml, saw_attachment, hyd_leak, but_still, reapir</td>\n",
       "    </tr>\n",
       "  </tbody>\n",
       "</table>\n",
       "</div>"
      ],
      "text/plain": [
       "                                             RawText  \\\n",
       "0                      break bar_feeder chain_repair   \n",
       "1  no_power replace pin pendant power machine pos...   \n",
       "2         smartscope harness break order tech repair   \n",
       "3                        check_charge accumulator ok   \n",
       "4  hyd_leak saw atachment replace seal saw_attach...   \n",
       "\n",
       "                          Items       Problem       Solution  \\\n",
       "0                                      broken                  \n",
       "1  cable, pendant, pin, machine  short, power        replace   \n",
       "2                        person        broken  repair, order   \n",
       "3                   accumulator                                \n",
       "4                          seal          leak        replace   \n",
       "\n",
       "                                              UK_tok  \n",
       "0  bar_feeder chain_repair, bar_feeder, chain_repair  \n",
       "1                                           no_power  \n",
       "2                                harness, smartscope  \n",
       "3                                       check_charge  \n",
       "4    ml, saw_attachment, hyd_leak, but_still, reapir  "
      ]
     },
     "execution_count": 8,
     "metadata": {},
     "output_type": "execute_result"
    }
   ],
   "source": [
    "# tag the data, saving to a new DF (instead of internally)\n",
    "df_pred = kex_gs.transform(save=False)\n",
    "df_pred.head()"
   ]
  },
  {
   "cell_type": "code",
   "execution_count": 9,
   "metadata": {},
   "outputs": [
    {
     "name": "stdout",
     "output_type": "stream",
     "text": [
      "403\n"
     ]
    },
    {
     "data": {
      "text/html": [
       "<div>\n",
       "<style>\n",
       "    .dataframe thead tr:only-child th {\n",
       "        text-align: right;\n",
       "    }\n",
       "\n",
       "    .dataframe thead th {\n",
       "        text-align: left;\n",
       "    }\n",
       "\n",
       "    .dataframe tbody tr th {\n",
       "        vertical-align: top;\n",
       "    }\n",
       "</style>\n",
       "<table border=\"1\" class=\"dataframe\">\n",
       "  <thead>\n",
       "    <tr style=\"text-align: right;\">\n",
       "      <th></th>\n",
       "      <th>RawText</th>\n",
       "      <th>Items</th>\n",
       "      <th>Problem</th>\n",
       "      <th>Solution</th>\n",
       "      <th>UK_tok</th>\n",
       "    </tr>\n",
       "  </thead>\n",
       "  <tbody>\n",
       "    <tr>\n",
       "      <th>11</th>\n",
       "      <td>spindle carrier indexing feed</td>\n",
       "      <td>carrier, feed, spindle_carrier, spindle</td>\n",
       "      <td></td>\n",
       "      <td></td>\n",
       "      <td></td>\n",
       "    </tr>\n",
       "    <tr>\n",
       "      <th>29</th>\n",
       "      <td>st#11 spindle lose drill wrong drive pulley sp...</td>\n",
       "      <td>pulley, spindle, drill, st_11, belt, st_11_spi...</td>\n",
       "      <td>loose, wrong</td>\n",
       "      <td>replace, correct</td>\n",
       "      <td></td>\n",
       "    </tr>\n",
       "    <tr>\n",
       "      <th>30</th>\n",
       "      <td>st 6v mill run replace gr motor break drive in...</td>\n",
       "      <td>st, mill, motor, gearbox, drive</td>\n",
       "      <td>broken</td>\n",
       "      <td>replace</td>\n",
       "      <td></td>\n",
       "    </tr>\n",
       "    <tr>\n",
       "      <th>33</th>\n",
       "      <td>inverter guard break weld</td>\n",
       "      <td>inverter, guard, inverter_guard</td>\n",
       "      <td>broken</td>\n",
       "      <td>weld</td>\n",
       "      <td></td>\n",
       "    </tr>\n",
       "    <tr>\n",
       "      <th>38</th>\n",
       "      <td>alarm 765053 bar clamp pressure present sp#6 c...</td>\n",
       "      <td>pressure, clamp pressure, bar, sp_6, clamp, ba...</td>\n",
       "      <td>alarm</td>\n",
       "      <td>clear</td>\n",
       "      <td></td>\n",
       "    </tr>\n",
       "  </tbody>\n",
       "</table>\n",
       "</div>"
      ],
      "text/plain": [
       "                                              RawText  \\\n",
       "11                      spindle carrier indexing feed   \n",
       "29  st#11 spindle lose drill wrong drive pulley sp...   \n",
       "30  st 6v mill run replace gr motor break drive in...   \n",
       "33                          inverter guard break weld   \n",
       "38  alarm 765053 bar clamp pressure present sp#6 c...   \n",
       "\n",
       "                                                Items       Problem  \\\n",
       "11            carrier, feed, spindle_carrier, spindle                 \n",
       "29  pulley, spindle, drill, st_11, belt, st_11_spi...  loose, wrong   \n",
       "30                    st, mill, motor, gearbox, drive        broken   \n",
       "33                    inverter, guard, inverter_guard        broken   \n",
       "38  pressure, clamp pressure, bar, sp_6, clamp, ba...         alarm   \n",
       "\n",
       "            Solution UK_tok  \n",
       "11                           \n",
       "29  replace, correct         \n",
       "30           replace         \n",
       "33              weld         \n",
       "38             clear         "
      ]
     },
     "execution_count": 9,
     "metadata": {},
     "output_type": "execute_result"
    }
   ],
   "source": [
    "# tag-complete work-orders?\n",
    "print(df_pred[df_pred.UK_tok ==''].shape[0])\n",
    "df_pred[df_pred.UK_tok ==''].head()"
   ]
  },
  {
   "cell_type": "code",
   "execution_count": 29,
   "metadata": {},
   "outputs": [
    {
     "name": "stdout",
     "output_type": "stream",
     "text": [
      "61\n"
     ]
    },
    {
     "data": {
      "text/html": [
       "<div>\n",
       "<style>\n",
       "    .dataframe thead tr:only-child th {\n",
       "        text-align: right;\n",
       "    }\n",
       "\n",
       "    .dataframe thead th {\n",
       "        text-align: left;\n",
       "    }\n",
       "\n",
       "    .dataframe tbody tr th {\n",
       "        vertical-align: top;\n",
       "    }\n",
       "</style>\n",
       "<table border=\"1\" class=\"dataframe\">\n",
       "  <thead>\n",
       "    <tr style=\"text-align: right;\">\n",
       "      <th></th>\n",
       "      <th>RawText</th>\n",
       "      <th>Items</th>\n",
       "      <th>Problem</th>\n",
       "      <th>Solution</th>\n",
       "      <th>UK_tok</th>\n",
       "    </tr>\n",
       "  </thead>\n",
       "  <tbody>\n",
       "    <tr>\n",
       "      <th>610</th>\n",
       "      <td>accumulator_check ok at_30bar</td>\n",
       "      <td></td>\n",
       "      <td></td>\n",
       "      <td></td>\n",
       "      <td>at_30bar, accumulator_check</td>\n",
       "    </tr>\n",
       "    <tr>\n",
       "      <th>631</th>\n",
       "      <td>unload automation return</td>\n",
       "      <td></td>\n",
       "      <td></td>\n",
       "      <td></td>\n",
       "      <td>automation, unload</td>\n",
       "    </tr>\n",
       "    <tr>\n",
       "      <th>710</th>\n",
       "      <td>bar_end find production pan</td>\n",
       "      <td></td>\n",
       "      <td></td>\n",
       "      <td></td>\n",
       "      <td>find, bar_end, bar_end find, pan</td>\n",
       "    </tr>\n",
       "    <tr>\n",
       "      <th>877</th>\n",
       "      <td>part_catcher will_not return in_auto</td>\n",
       "      <td></td>\n",
       "      <td></td>\n",
       "      <td></td>\n",
       "      <td>will_not, part_catcher, in_auto</td>\n",
       "    </tr>\n",
       "    <tr>\n",
       "      <th>924</th>\n",
       "      <td>base_clean req base_clean</td>\n",
       "      <td></td>\n",
       "      <td></td>\n",
       "      <td></td>\n",
       "      <td>base_clean req base_clean, base_clean req, req...</td>\n",
       "    </tr>\n",
       "  </tbody>\n",
       "</table>\n",
       "</div>"
      ],
      "text/plain": [
       "                                  RawText Items Problem Solution  \\\n",
       "610         accumulator_check ok at_30bar                          \n",
       "631              unload automation return                          \n",
       "710           bar_end find production pan                          \n",
       "877  part_catcher will_not return in_auto                          \n",
       "924             base_clean req base_clean                          \n",
       "\n",
       "                                                UK_tok  \n",
       "610                        at_30bar, accumulator_check  \n",
       "631                                 automation, unload  \n",
       "710                   find, bar_end, bar_end find, pan  \n",
       "877                    will_not, part_catcher, in_auto  \n",
       "924  base_clean req base_clean, base_clean req, req...  "
      ]
     },
     "execution_count": 29,
     "metadata": {},
     "output_type": "execute_result"
    }
   ],
   "source": [
    "# tag-empty? \n",
    "print(df_pred[(df_pred[['Items','Problem','Solution']]=='').all(axis=1)].shape[0])\n",
    "df_pred[(df_pred[['Items','Problem','Solution']]=='').all(axis=1)].head()"
   ]
  },
  {
   "cell_type": "markdown",
   "metadata": {},
   "source": [
    "## HVAC Data"
   ]
  },
  {
   "cell_type": "code",
   "execution_count": 31,
   "metadata": {},
   "outputs": [
    {
     "name": "stderr",
     "output_type": "stream",
     "text": [
      "456it [00:00, 4556.69it/s]"
     ]
    },
    {
     "name": "stdout",
     "output_type": "stream",
     "text": [
      "{'Action Taken:': ''}\n",
      "making new file...\n"
     ]
    },
    {
     "name": "stderr",
     "output_type": "stream",
     "text": [
      "16986it [00:07, 2271.13it/s]\n"
     ]
    },
    {
     "name": "stdout",
     "output_type": "stream",
     "text": [
      "making new file...\n"
     ]
    },
    {
     "name": "stderr",
     "output_type": "stream",
     "text": [
      "/home/tbsexton/anaconda3/lib/python3.6/site-packages/gensim/models/phrases.py:316: UserWarning: For a faster implementation, use the gensim.models.phrases.Phraser class\n",
      "  warnings.warn(\"For a faster implementation, use the gensim.models.phrases.Phraser class\")\n",
      "469it [00:00, 4687.65it/s]"
     ]
    },
    {
     "name": "stdout",
     "output_type": "stream",
     "text": [
      "making new file...\n"
     ]
    },
    {
     "name": "stderr",
     "output_type": "stream",
     "text": [
      "16986it [00:07, 2402.24it/s]\n"
     ]
    }
   ],
   "source": [
    "data_directory = os.path.join('./data', 'hvac_data')\n",
    "\n",
    "nl_col = {\n",
    "    \"Description\": 5,\n",
    "    \"Resolution\": 248\n",
    "}\n",
    "\n",
    "meta_col = {\n",
    "    \"AssetID\": 6,\n",
    "    \"Location\": 7,\n",
    "    \"Assigned\": 10,\n",
    "    \"Reported\": 43,\n",
    "    \"SolveDate\": 11,\n",
    "    \"ReportDate\": 44\n",
    "}\n",
    "\n",
    "kex_hvac = KeywordExtractor('hvac_raw.xlsx',\n",
    "                       nlp_cols=nl_col,\n",
    "                       meta_cols = meta_col,\n",
    "                       special_replace={'Action Taken:': ''},\n",
    "                       wdir=data_directory,\n",
    "                       keep_temp_files=True\n",
    "                      )"
   ]
  },
  {
   "cell_type": "code",
   "execution_count": 32,
   "metadata": {},
   "outputs": [
    {
     "data": {
      "text/html": [
       "<div>\n",
       "<style>\n",
       "    .dataframe thead tr:only-child th {\n",
       "        text-align: right;\n",
       "    }\n",
       "\n",
       "    .dataframe thead th {\n",
       "        text-align: left;\n",
       "    }\n",
       "\n",
       "    .dataframe tbody tr th {\n",
       "        vertical-align: top;\n",
       "    }\n",
       "</style>\n",
       "<table border=\"1\" class=\"dataframe\">\n",
       "  <thead>\n",
       "    <tr style=\"text-align: right;\">\n",
       "      <th></th>\n",
       "      <th>Description</th>\n",
       "      <th>AssetID</th>\n",
       "      <th>Location</th>\n",
       "      <th>Assigned</th>\n",
       "      <th>SolveDate</th>\n",
       "      <th>Reported</th>\n",
       "      <th>ReportDate</th>\n",
       "      <th>Resolution</th>\n",
       "      <th>RawText</th>\n",
       "    </tr>\n",
       "  </thead>\n",
       "  <tbody>\n",
       "    <tr>\n",
       "      <th>0</th>\n",
       "      <td>CHARGE ALL M/S AND PM'S TO THIS ORDER</td>\n",
       "      <td>NaN</td>\n",
       "      <td>GAITHER</td>\n",
       "      <td>FEDERLIN</td>\n",
       "      <td>2009-04-02 14:15:38</td>\n",
       "      <td>LEM801</td>\n",
       "      <td>2009-02-12 14:27:33</td>\n",
       "      <td>for site , other that AML  Action Taken:Complete.</td>\n",
       "      <td>charge m_s pm order site aml complete</td>\n",
       "    </tr>\n",
       "    <tr>\n",
       "      <th>1</th>\n",
       "      <td>CHARGE ALL M/S AND PM'S TO THIS ORDER FOR THE AML</td>\n",
       "      <td>NaN</td>\n",
       "      <td>215-1</td>\n",
       "      <td>FEDERLIN</td>\n",
       "      <td>2009-04-02 14:15:39</td>\n",
       "      <td>LEM801</td>\n",
       "      <td>2009-02-12 14:44:55</td>\n",
       "      <td>Action Taken: Time charged to cover PM's as ne...</td>\n",
       "      <td>charge m_s pm order aml time charge cover pm '...</td>\n",
       "    </tr>\n",
       "    <tr>\n",
       "      <th>2</th>\n",
       "      <td>ADJUST,REPAI OR REPLACE FREEZE STAT</td>\n",
       "      <td>301 HV-4</td>\n",
       "      <td>301-B184</td>\n",
       "      <td>FEDERLIN</td>\n",
       "      <td>2009-04-02 14:15:41</td>\n",
       "      <td>HWRJR</td>\n",
       "      <td>2009-02-15 23:25:01</td>\n",
       "      <td>Action Taken:Reset  POC Ed</td>\n",
       "      <td>adjust repai replace freeze_stat reset poc_ed</td>\n",
       "    </tr>\n",
       "    <tr>\n",
       "      <th>3</th>\n",
       "      <td>RESET,ADJUST OR REPAIR FREEZE STAT</td>\n",
       "      <td>304 ACU-1</td>\n",
       "      <td>304-200</td>\n",
       "      <td>FEDERLIN</td>\n",
       "      <td>2009-04-02 14:15:42</td>\n",
       "      <td>HWRJR</td>\n",
       "      <td>2009-02-17 04:20:08</td>\n",
       "      <td>Action Taken: restart  POC Ed</td>\n",
       "      <td>reset adjust repair freeze_stat restart poc_ed</td>\n",
       "    </tr>\n",
       "    <tr>\n",
       "      <th>4</th>\n",
       "      <td>RSET,ADJUST OR REPAIR FREEZE STAT</td>\n",
       "      <td>220 ACU-8</td>\n",
       "      <td>220-400</td>\n",
       "      <td>FEDERLIN</td>\n",
       "      <td>2009-06-25 08:17:33</td>\n",
       "      <td>HWRJR</td>\n",
       "      <td>2009-02-17 04:22:38</td>\n",
       "      <td>reset freezestat</td>\n",
       "      <td>rset adjust repair freeze_stat reset_freezestat</td>\n",
       "    </tr>\n",
       "  </tbody>\n",
       "</table>\n",
       "</div>"
      ],
      "text/plain": [
       "                                         Description    AssetID  Location  \\\n",
       "0              CHARGE ALL M/S AND PM'S TO THIS ORDER        NaN   GAITHER   \n",
       "1  CHARGE ALL M/S AND PM'S TO THIS ORDER FOR THE AML        NaN     215-1   \n",
       "2                ADJUST,REPAI OR REPLACE FREEZE STAT   301 HV-4  301-B184   \n",
       "3                 RESET,ADJUST OR REPAIR FREEZE STAT  304 ACU-1   304-200   \n",
       "4                  RSET,ADJUST OR REPAIR FREEZE STAT  220 ACU-8   220-400   \n",
       "\n",
       "   Assigned           SolveDate Reported          ReportDate  \\\n",
       "0  FEDERLIN 2009-04-02 14:15:38   LEM801 2009-02-12 14:27:33   \n",
       "1  FEDERLIN 2009-04-02 14:15:39   LEM801 2009-02-12 14:44:55   \n",
       "2  FEDERLIN 2009-04-02 14:15:41    HWRJR 2009-02-15 23:25:01   \n",
       "3  FEDERLIN 2009-04-02 14:15:42    HWRJR 2009-02-17 04:20:08   \n",
       "4  FEDERLIN 2009-06-25 08:17:33    HWRJR 2009-02-17 04:22:38   \n",
       "\n",
       "                                          Resolution  \\\n",
       "0  for site , other that AML  Action Taken:Complete.   \n",
       "1  Action Taken: Time charged to cover PM's as ne...   \n",
       "2                         Action Taken:Reset  POC Ed   \n",
       "3                      Action Taken: restart  POC Ed   \n",
       "4                                   reset freezestat   \n",
       "\n",
       "                                             RawText  \n",
       "0              charge m_s pm order site aml complete  \n",
       "1  charge m_s pm order aml time charge cover pm '...  \n",
       "2      adjust repai replace freeze_stat reset poc_ed  \n",
       "3     reset adjust repair freeze_stat restart poc_ed  \n",
       "4    rset adjust repair freeze_stat reset_freezestat  "
      ]
     },
     "execution_count": 32,
     "metadata": {},
     "output_type": "execute_result"
    }
   ],
   "source": [
    "# what we extracted...we'll be using 'RawText'\n",
    "kex_hvac.df.head()"
   ]
  },
  {
   "cell_type": "code",
   "execution_count": 33,
   "metadata": {
    "collapsed": true
   },
   "outputs": [],
   "source": [
    "# use this to make a properly formatted thesaurus file for human-annotation\n",
    "# kex.gen_vocab('tag_vocab.csv', notes=True)  # rename to match e.g. hvac_vocab.csv\n"
   ]
  },
  {
   "cell_type": "code",
   "execution_count": 34,
   "metadata": {},
   "outputs": [
    {
     "data": {
      "text/html": [
       "<div>\n",
       "<style>\n",
       "    .dataframe thead tr:only-child th {\n",
       "        text-align: right;\n",
       "    }\n",
       "\n",
       "    .dataframe thead th {\n",
       "        text-align: left;\n",
       "    }\n",
       "\n",
       "    .dataframe tbody tr th {\n",
       "        vertical-align: top;\n",
       "    }\n",
       "</style>\n",
       "<table border=\"1\" class=\"dataframe\">\n",
       "  <thead>\n",
       "    <tr style=\"text-align: right;\">\n",
       "      <th></th>\n",
       "      <th>NE</th>\n",
       "      <th>alias</th>\n",
       "      <th>note</th>\n",
       "    </tr>\n",
       "    <tr>\n",
       "      <th>token</th>\n",
       "      <th></th>\n",
       "      <th></th>\n",
       "      <th></th>\n",
       "    </tr>\n",
       "  </thead>\n",
       "  <tbody>\n",
       "    <tr>\n",
       "      <th>room</th>\n",
       "      <td>I</td>\n",
       "      <td>room</td>\n",
       "      <td>NaN</td>\n",
       "    </tr>\n",
       "    <tr>\n",
       "      <th>replace</th>\n",
       "      <td>S</td>\n",
       "      <td>replace</td>\n",
       "      <td>NaN</td>\n",
       "    </tr>\n",
       "    <tr>\n",
       "      <th>find</th>\n",
       "      <td>S</td>\n",
       "      <td>find</td>\n",
       "      <td>NaN</td>\n",
       "    </tr>\n",
       "    <tr>\n",
       "      <th>check</th>\n",
       "      <td>S</td>\n",
       "      <td>check</td>\n",
       "      <td>NaN</td>\n",
       "    </tr>\n",
       "    <tr>\n",
       "      <th>action_take</th>\n",
       "      <td>X</td>\n",
       "      <td>action_take</td>\n",
       "      <td>NaN</td>\n",
       "    </tr>\n",
       "  </tbody>\n",
       "</table>\n",
       "</div>"
      ],
      "text/plain": [
       "            NE        alias note\n",
       "token                           \n",
       "room         I         room  NaN\n",
       "replace      S      replace  NaN\n",
       "find         S         find  NaN\n",
       "check        S        check  NaN\n",
       "action_take  X  action_take  NaN"
      ]
     },
     "execution_count": 34,
     "metadata": {},
     "output_type": "execute_result"
    }
   ],
   "source": [
    "# \"fit\" a thesaurus to the data\n",
    "kex_hvac.fit(vocab='hvac_vocab.csv')\n",
    "kex_hvac.vocab.head()"
   ]
  },
  {
   "cell_type": "code",
   "execution_count": 35,
   "metadata": {
    "scrolled": true
   },
   "outputs": [
    {
     "name": "stderr",
     "output_type": "stream",
     "text": [
      "100%|██████████| 16986/16986 [00:43<00:00, 394.17it/s]\n"
     ]
    },
    {
     "data": {
      "text/html": [
       "<div>\n",
       "<style>\n",
       "    .dataframe thead tr:only-child th {\n",
       "        text-align: right;\n",
       "    }\n",
       "\n",
       "    .dataframe thead th {\n",
       "        text-align: left;\n",
       "    }\n",
       "\n",
       "    .dataframe tbody tr th {\n",
       "        vertical-align: top;\n",
       "    }\n",
       "</style>\n",
       "<table border=\"1\" class=\"dataframe\">\n",
       "  <thead>\n",
       "    <tr style=\"text-align: right;\">\n",
       "      <th></th>\n",
       "      <th>RawText</th>\n",
       "      <th>Items</th>\n",
       "      <th>Problem</th>\n",
       "      <th>Solution</th>\n",
       "      <th>UK_tok</th>\n",
       "    </tr>\n",
       "  </thead>\n",
       "  <tbody>\n",
       "    <tr>\n",
       "      <th>0</th>\n",
       "      <td>charge m_s pm order site aml complete</td>\n",
       "      <td>site</td>\n",
       "      <td></td>\n",
       "      <td>complete, preventative_maintenance, order</td>\n",
       "      <td>aml, m_s, charge m_s, charge</td>\n",
       "    </tr>\n",
       "    <tr>\n",
       "      <th>1</th>\n",
       "      <td>charge m_s pm order aml time charge cover pm '...</td>\n",
       "      <td></td>\n",
       "      <td></td>\n",
       "      <td>preventative_maintenance, order</td>\n",
       "      <td>aml, time charge, 's, charge m_s, time, m_s, c...</td>\n",
       "    </tr>\n",
       "    <tr>\n",
       "      <th>2</th>\n",
       "      <td>adjust repai replace freeze_stat reset poc_ed</td>\n",
       "      <td>freeze_stat</td>\n",
       "      <td></td>\n",
       "      <td>adjust, reset, replace</td>\n",
       "      <td>poc_ed, repai</td>\n",
       "    </tr>\n",
       "    <tr>\n",
       "      <th>3</th>\n",
       "      <td>reset adjust repair freeze_stat restart poc_ed</td>\n",
       "      <td>freeze_stat</td>\n",
       "      <td></td>\n",
       "      <td>adjust, reset, restart, repair</td>\n",
       "      <td>poc_ed</td>\n",
       "    </tr>\n",
       "    <tr>\n",
       "      <th>4</th>\n",
       "      <td>rset adjust repair freeze_stat reset_freezestat</td>\n",
       "      <td>freeze_stat</td>\n",
       "      <td></td>\n",
       "      <td>adjust, repair</td>\n",
       "      <td>reset_freezestat</td>\n",
       "    </tr>\n",
       "  </tbody>\n",
       "</table>\n",
       "</div>"
      ],
      "text/plain": [
       "                                             RawText        Items Problem  \\\n",
       "0              charge m_s pm order site aml complete         site           \n",
       "1  charge m_s pm order aml time charge cover pm '...                        \n",
       "2      adjust repai replace freeze_stat reset poc_ed  freeze_stat           \n",
       "3     reset adjust repair freeze_stat restart poc_ed  freeze_stat           \n",
       "4    rset adjust repair freeze_stat reset_freezestat  freeze_stat           \n",
       "\n",
       "                                    Solution  \\\n",
       "0  complete, preventative_maintenance, order   \n",
       "1            preventative_maintenance, order   \n",
       "2                     adjust, reset, replace   \n",
       "3             adjust, reset, restart, repair   \n",
       "4                             adjust, repair   \n",
       "\n",
       "                                              UK_tok  \n",
       "0                       aml, m_s, charge m_s, charge  \n",
       "1  aml, time charge, 's, charge m_s, time, m_s, c...  \n",
       "2                                      poc_ed, repai  \n",
       "3                                             poc_ed  \n",
       "4                                   reset_freezestat  "
      ]
     },
     "execution_count": 35,
     "metadata": {},
     "output_type": "execute_result"
    }
   ],
   "source": [
    "# tag the data, saving to a new DF (instead of internally)\n",
    "df_pred = kex_hvac.transform(save=False)\n",
    "df_pred.head()"
   ]
  },
  {
   "cell_type": "code",
   "execution_count": 36,
   "metadata": {},
   "outputs": [
    {
     "name": "stdout",
     "output_type": "stream",
     "text": [
      "609\n"
     ]
    },
    {
     "data": {
      "text/html": [
       "<div>\n",
       "<style>\n",
       "    .dataframe thead tr:only-child th {\n",
       "        text-align: right;\n",
       "    }\n",
       "\n",
       "    .dataframe thead th {\n",
       "        text-align: left;\n",
       "    }\n",
       "\n",
       "    .dataframe tbody tr th {\n",
       "        vertical-align: top;\n",
       "    }\n",
       "</style>\n",
       "<table border=\"1\" class=\"dataframe\">\n",
       "  <thead>\n",
       "    <tr style=\"text-align: right;\">\n",
       "      <th></th>\n",
       "      <th>RawText</th>\n",
       "      <th>Items</th>\n",
       "      <th>Problem</th>\n",
       "      <th>Solution</th>\n",
       "      <th>UK_tok</th>\n",
       "    </tr>\n",
       "  </thead>\n",
       "  <tbody>\n",
       "    <tr>\n",
       "      <th>15</th>\n",
       "      <td>too_hot</td>\n",
       "      <td></td>\n",
       "      <td>too_hot</td>\n",
       "      <td></td>\n",
       "      <td></td>\n",
       "    </tr>\n",
       "    <tr>\n",
       "      <th>18</th>\n",
       "      <td>too_hot</td>\n",
       "      <td></td>\n",
       "      <td>too_hot</td>\n",
       "      <td></td>\n",
       "      <td></td>\n",
       "    </tr>\n",
       "    <tr>\n",
       "      <th>23</th>\n",
       "      <td>too_cold</td>\n",
       "      <td></td>\n",
       "      <td>too_cold</td>\n",
       "      <td></td>\n",
       "      <td></td>\n",
       "    </tr>\n",
       "    <tr>\n",
       "      <th>51</th>\n",
       "      <td>reset_fault start_equipment</td>\n",
       "      <td></td>\n",
       "      <td></td>\n",
       "      <td>start, reset</td>\n",
       "      <td></td>\n",
       "    </tr>\n",
       "    <tr>\n",
       "      <th>56</th>\n",
       "      <td>heater not_work gate f.</td>\n",
       "      <td>heater, gate</td>\n",
       "      <td>broken</td>\n",
       "      <td></td>\n",
       "      <td></td>\n",
       "    </tr>\n",
       "  </tbody>\n",
       "</table>\n",
       "</div>"
      ],
      "text/plain": [
       "                        RawText         Items   Problem      Solution UK_tok\n",
       "15                      too_hot                 too_hot                     \n",
       "18                      too_hot                 too_hot                     \n",
       "23                     too_cold                too_cold                     \n",
       "51  reset_fault start_equipment                          start, reset       \n",
       "56      heater not_work gate f.  heater, gate    broken                     "
      ]
     },
     "execution_count": 36,
     "metadata": {},
     "output_type": "execute_result"
    }
   ],
   "source": [
    "# tag-complete work-orders?\n",
    "print(df_pred[df_pred.UK_tok ==''].shape[0])\n",
    "df_pred[df_pred.UK_tok ==''].head()"
   ]
  },
  {
   "cell_type": "code",
   "execution_count": 37,
   "metadata": {},
   "outputs": [
    {
     "name": "stdout",
     "output_type": "stream",
     "text": [
      "43\n"
     ]
    },
    {
     "data": {
      "text/html": [
       "<div>\n",
       "<style>\n",
       "    .dataframe thead tr:only-child th {\n",
       "        text-align: right;\n",
       "    }\n",
       "\n",
       "    .dataframe thead th {\n",
       "        text-align: left;\n",
       "    }\n",
       "\n",
       "    .dataframe tbody tr th {\n",
       "        vertical-align: top;\n",
       "    }\n",
       "</style>\n",
       "<table border=\"1\" class=\"dataframe\">\n",
       "  <thead>\n",
       "    <tr style=\"text-align: right;\">\n",
       "      <th></th>\n",
       "      <th>RawText</th>\n",
       "      <th>Items</th>\n",
       "      <th>Problem</th>\n",
       "      <th>Solution</th>\n",
       "      <th>UK_tok</th>\n",
       "    </tr>\n",
       "  </thead>\n",
       "  <tbody>\n",
       "    <tr>\n",
       "      <th>41</th>\n",
       "      <td>cold a004 a005 fr bateman x5580</td>\n",
       "      <td></td>\n",
       "      <td></td>\n",
       "      <td></td>\n",
       "      <td>a004, fr, a005</td>\n",
       "    </tr>\n",
       "    <tr>\n",
       "      <th>262</th>\n",
       "      <td>fabricate_metal access cover 28 x 38 1/2 hem f...</td>\n",
       "      <td></td>\n",
       "      <td></td>\n",
       "      <td></td>\n",
       "      <td>fabricated metal, fabricate_metal, 1/2 hem, 38...</td>\n",
       "    </tr>\n",
       "    <tr>\n",
       "      <th>357</th>\n",
       "      <td>wet_carpet rm 114</td>\n",
       "      <td></td>\n",
       "      <td></td>\n",
       "      <td></td>\n",
       "      <td>wet_carpet, 114</td>\n",
       "    </tr>\n",
       "    <tr>\n",
       "      <th>618</th>\n",
       "      <td>b349-mod-345b b367-mod-363b a368-mod-362b</td>\n",
       "      <td></td>\n",
       "      <td></td>\n",
       "      <td></td>\n",
       "      <td></td>\n",
       "    </tr>\n",
       "    <tr>\n",
       "      <th>633</th>\n",
       "      <td>cut_hole latch plate const_shop cut_hole latch...</td>\n",
       "      <td></td>\n",
       "      <td></td>\n",
       "      <td></td>\n",
       "      <td>cut_hole, latch plate, plate, construction_sho...</td>\n",
       "    </tr>\n",
       "  </tbody>\n",
       "</table>\n",
       "</div>"
      ],
      "text/plain": [
       "                                               RawText Items Problem Solution  \\\n",
       "41                     cold a004 a005 fr bateman x5580                          \n",
       "262  fabricate_metal access cover 28 x 38 1/2 hem f...                          \n",
       "357                                  wet_carpet rm 114                          \n",
       "618          b349-mod-345b b367-mod-363b a368-mod-362b                          \n",
       "633  cut_hole latch plate const_shop cut_hole latch...                          \n",
       "\n",
       "                                                UK_tok  \n",
       "41                                      a004, fr, a005  \n",
       "262  fabricated metal, fabricate_metal, 1/2 hem, 38...  \n",
       "357                                    wet_carpet, 114  \n",
       "618                                                     \n",
       "633  cut_hole, latch plate, plate, construction_sho...  "
      ]
     },
     "execution_count": 37,
     "metadata": {},
     "output_type": "execute_result"
    }
   ],
   "source": [
    "# tag-empty? \n",
    "print(df_pred[(df_pred[['Items','Problem','Solution']]=='').all(axis=1)].shape[0])\n",
    "df_pred[(df_pred[['Items','Problem','Solution']]=='').all(axis=1)].head()"
   ]
  },
  {
   "cell_type": "markdown",
   "metadata": {},
   "source": [
    "## PSU Data, no tagged keywords (yet)"
   ]
  },
  {
   "cell_type": "code",
   "execution_count": 10,
   "metadata": {},
   "outputs": [
    {
     "name": "stderr",
     "output_type": "stream",
     "text": [
      "325it [00:00, 3246.40it/s]"
     ]
    },
    {
     "name": "stdout",
     "output_type": "stream",
     "text": [
      "None\n",
      "making new file...\n"
     ]
    },
    {
     "name": "stderr",
     "output_type": "stream",
     "text": [
      "8887it [00:01, 5585.84it/s]\n"
     ]
    },
    {
     "name": "stdout",
     "output_type": "stream",
     "text": [
      "making new file...\n"
     ]
    },
    {
     "name": "stderr",
     "output_type": "stream",
     "text": [
      "/home/tbsexton/anaconda3/lib/python3.6/site-packages/gensim/models/phrases.py:316: UserWarning: For a faster implementation, use the gensim.models.phrases.Phraser class\n",
      "  warnings.warn(\"For a faster implementation, use the gensim.models.phrases.Phraser class\")\n",
      "685it [00:00, 6837.41it/s]"
     ]
    },
    {
     "name": "stdout",
     "output_type": "stream",
     "text": [
      "making new file...\n"
     ]
    },
    {
     "name": "stderr",
     "output_type": "stream",
     "text": [
      "8887it [00:01, 7112.52it/s]\n"
     ]
    },
    {
     "name": "stdout",
     "output_type": "stream",
     "text": [
      "Replacing NaN\n",
      "Replacing NaN\n",
      "Replacing NaN\n"
     ]
    }
   ],
   "source": [
    "data_directory = os.path.join('./data', 'psu_data')\n",
    "nl_col = {\n",
    "    \"ProblemDesc\": 11,\n",
    "    \"Prob_cause\": 12,\n",
    "    \"RepRes\": 19\n",
    "}\n",
    "\n",
    "#TODO\n",
    "# meta_col = {\n",
    "\n",
    "# }\n",
    "\n",
    "kex_psu = KeywordExtractor('psu_data.xlsx',\n",
    "                       nlp_cols=nl_col,\n",
    "#                       meta_cols = meta_col,\n",
    "#                        special_replace={' -': '; '},\n",
    "                       wdir=data_directory,\n",
    "                       keep_temp_files=False\n",
    "                      )"
   ]
  },
  {
   "cell_type": "code",
   "execution_count": 11,
   "metadata": {},
   "outputs": [
    {
     "data": {
      "text/html": [
       "<div>\n",
       "<style>\n",
       "    .dataframe thead tr:only-child th {\n",
       "        text-align: right;\n",
       "    }\n",
       "\n",
       "    .dataframe thead th {\n",
       "        text-align: left;\n",
       "    }\n",
       "\n",
       "    .dataframe tbody tr th {\n",
       "        vertical-align: top;\n",
       "    }\n",
       "</style>\n",
       "<table border=\"1\" class=\"dataframe\">\n",
       "  <thead>\n",
       "    <tr style=\"text-align: right;\">\n",
       "      <th></th>\n",
       "      <th>ProblemDesc</th>\n",
       "      <th>Prob_cause</th>\n",
       "      <th>RepRes</th>\n",
       "      <th>RawText</th>\n",
       "    </tr>\n",
       "  </thead>\n",
       "  <tbody>\n",
       "    <tr>\n",
       "      <th>0</th>\n",
       "      <td>Vacuum pump is leaking oil.</td>\n",
       "      <td>add 500 ml fomblin</td>\n",
       "      <td>Replaced Vacuum Pump</td>\n",
       "      <td>vacuum_pump leak oil add 500_ml fomblin replac...</td>\n",
       "    </tr>\n",
       "    <tr>\n",
       "      <th>1</th>\n",
       "      <td>Airflow readings range from 50 FPM to 85FPM.  ...</td>\n",
       "      <td>add 500 ml fomblin</td>\n",
       "      <td>Adjust Airspeed</td>\n",
       "      <td>airflow reading range 50 fpm 85fpm may_need he...</td>\n",
       "    </tr>\n",
       "    <tr>\n",
       "      <th>2</th>\n",
       "      <td>Bottom shelf Connection #4 (marked) Wrap conne...</td>\n",
       "      <td>adjust printhead pressure screws</td>\n",
       "      <td></td>\n",
       "      <td>bottom_shelf connection 4 mark wrap connection...</td>\n",
       "    </tr>\n",
       "    <tr>\n",
       "      <th>3</th>\n",
       "      <td>Camera on autosaw needs cleaned. Having proble...</td>\n",
       "      <td>verify machine operation and perform leak test</td>\n",
       "      <td></td>\n",
       "      <td>camera autosaw need clean problem pick_up alig...</td>\n",
       "    </tr>\n",
       "    <tr>\n",
       "      <th>4</th>\n",
       "      <td>pump at encapsulater is low on oil</td>\n",
       "      <td>Mims wasn't hooked up at time for calibration ...</td>\n",
       "      <td>Added Oil</td>\n",
       "      <td>pump encapsulater low oil mim hook_up time cal...</td>\n",
       "    </tr>\n",
       "  </tbody>\n",
       "</table>\n",
       "</div>"
      ],
      "text/plain": [
       "                                         ProblemDesc  \\\n",
       "0                        Vacuum pump is leaking oil.   \n",
       "1  Airflow readings range from 50 FPM to 85FPM.  ...   \n",
       "2  Bottom shelf Connection #4 (marked) Wrap conne...   \n",
       "3  Camera on autosaw needs cleaned. Having proble...   \n",
       "4                 pump at encapsulater is low on oil   \n",
       "\n",
       "                                          Prob_cause                RepRes  \\\n",
       "0                                add 500 ml fomblin   Replaced Vacuum Pump   \n",
       "1                                add 500 ml fomblin        Adjust Airspeed   \n",
       "2                   adjust printhead pressure screws                         \n",
       "3     verify machine operation and perform leak test                         \n",
       "4  Mims wasn't hooked up at time for calibration ...             Added Oil   \n",
       "\n",
       "                                             RawText  \n",
       "0  vacuum_pump leak oil add 500_ml fomblin replac...  \n",
       "1  airflow reading range 50 fpm 85fpm may_need he...  \n",
       "2  bottom_shelf connection 4 mark wrap connection...  \n",
       "3  camera autosaw need clean problem pick_up alig...  \n",
       "4  pump encapsulater low oil mim hook_up time cal...  "
      ]
     },
     "execution_count": 11,
     "metadata": {},
     "output_type": "execute_result"
    }
   ],
   "source": [
    "kex_psu.df.head()"
   ]
  },
  {
   "cell_type": "code",
   "execution_count": 12,
   "metadata": {
    "collapsed": true
   },
   "outputs": [],
   "source": [
    "kex_psu.gen_vocab('psu_vocab.csv', notes=True)"
   ]
  },
  {
   "cell_type": "markdown",
   "metadata": {},
   "source": [
    "## Automotive data, no tagged keywords (yet)"
   ]
  },
  {
   "cell_type": "code",
   "execution_count": 38,
   "metadata": {},
   "outputs": [
    {
     "name": "stderr",
     "output_type": "stream",
     "text": [
      "1175it [00:00, 11748.19it/s]"
     ]
    },
    {
     "name": "stdout",
     "output_type": "stream",
     "text": [
      "None\n",
      "making new file...\n"
     ]
    },
    {
     "name": "stderr",
     "output_type": "stream",
     "text": [
      "67217it [00:09, 7332.01it/s] \n"
     ]
    },
    {
     "name": "stdout",
     "output_type": "stream",
     "text": [
      "making new file...\n"
     ]
    },
    {
     "name": "stderr",
     "output_type": "stream",
     "text": [
      "/home/tbsexton/anaconda3/lib/python3.6/site-packages/gensim/models/phrases.py:316: UserWarning: For a faster implementation, use the gensim.models.phrases.Phraser class\n",
      "  warnings.warn(\"For a faster implementation, use the gensim.models.phrases.Phraser class\")\n",
      "1174it [00:00, 11739.59it/s]"
     ]
    },
    {
     "name": "stdout",
     "output_type": "stream",
     "text": [
      "making new file...\n"
     ]
    },
    {
     "name": "stderr",
     "output_type": "stream",
     "text": [
      "9316it [00:01, 8447.85it/s] "
     ]
    },
    {
     "name": "stdout",
     "output_type": "stream",
     "text": [
      "Replacing NaN\n",
      "Replacing NaN\n",
      "Replacing NaN\n"
     ]
    },
    {
     "name": "stderr",
     "output_type": "stream",
     "text": [
      "11675it [00:02, 4641.72it/s]"
     ]
    },
    {
     "name": "stdout",
     "output_type": "stream",
     "text": [
      "Replacing NaN\n",
      "Replacing NaN\n",
      "Replacing NaN\n",
      "Replacing NaN\n"
     ]
    },
    {
     "name": "stderr",
     "output_type": "stream",
     "text": [
      "18847it [00:02, 10178.43it/s]"
     ]
    },
    {
     "name": "stdout",
     "output_type": "stream",
     "text": [
      "Replacing NaN\n",
      "Replacing NaN\n",
      "Replacing NaN\n",
      "Replacing NaN\n",
      "Replacing NaN\n",
      "Replacing NaN\n",
      "Replacing NaN\n",
      "Replacing NaN\n"
     ]
    },
    {
     "name": "stderr",
     "output_type": "stream",
     "text": [
      "29877it [00:04, 12400.47it/s]"
     ]
    },
    {
     "name": "stdout",
     "output_type": "stream",
     "text": [
      "Replacing NaN\n",
      "Replacing NaN"
     ]
    },
    {
     "name": "stderr",
     "output_type": "stream",
     "text": [
      "39783it [00:05, 10735.16it/s]"
     ]
    },
    {
     "name": "stdout",
     "output_type": "stream",
     "text": [
      "\n",
      "Replacing NaN\n",
      "Replacing NaN\n",
      "Replacing NaN\n"
     ]
    },
    {
     "name": "stderr",
     "output_type": "stream",
     "text": [
      "67217it [00:09, 6889.02it/s] \n"
     ]
    }
   ],
   "source": [
    "data_directory = os.path.join('./data', 'auto_data')\n",
    "\n",
    "nl_col = {\n",
    "    \"DESCRIPTION\": 5\n",
    "}\n",
    "\n",
    "#TODO\n",
    "# meta_col = {\n",
    "\n",
    "# }\n",
    "\n",
    "kex_auto = KeywordExtractor('auto_raw.xlsx',\n",
    "                       nlp_cols=nl_col,\n",
    "#                       meta_cols = meta_col,\n",
    "#                       special_replace={'Action Taken:': ''},\n",
    "                       wdir=data_directory,\n",
    "                       keep_temp_files=True\n",
    "                      )"
   ]
  },
  {
   "cell_type": "code",
   "execution_count": 39,
   "metadata": {
    "collapsed": true
   },
   "outputs": [],
   "source": [
    "# use this to make a properly formatted thesaurus file for human-annotation\n",
    "kex_auto.gen_vocab('auto_vocab.csv', notes=True)  # rename to match e.g. hvac_vocab.csv\n"
   ]
  }
 ],
 "metadata": {
  "hide_input": false,
  "kernelspec": {
   "display_name": "Python 3",
   "language": "python",
   "name": "python3"
  },
  "language_info": {
   "codemirror_mode": {
    "name": "ipython",
    "version": 3
   },
   "file_extension": ".py",
   "mimetype": "text/x-python",
   "name": "python",
   "nbconvert_exporter": "python",
   "pygments_lexer": "ipython3",
   "version": "3.6.2"
  },
  "varInspector": {
   "cols": {
    "lenName": 16,
    "lenType": 16,
    "lenVar": 40
   },
   "kernels_config": {
    "python": {
     "delete_cmd_postfix": "",
     "delete_cmd_prefix": "del ",
     "library": "var_list.py",
     "varRefreshCmd": "print(var_dic_list())"
    },
    "r": {
     "delete_cmd_postfix": ") ",
     "delete_cmd_prefix": "rm(",
     "library": "var_list.r",
     "varRefreshCmd": "cat(var_dic_list()) "
    }
   },
   "types_to_exclude": [
    "module",
    "function",
    "builtin_function_or_method",
    "instance",
    "_Feature"
   ],
   "window_display": false
  }
 },
 "nbformat": 4,
 "nbformat_minor": 2
}
